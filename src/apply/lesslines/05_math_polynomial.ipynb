{
 "cells": [
  {
   "cell_type": "code",
   "execution_count": 1,
   "id": "6b3ebe31-f576-42d1-9ec6-2167c799b6af",
   "metadata": {},
   "outputs": [],
   "source": [
    "from lesslines.math.polynomial import Polynomial"
   ]
  },
  {
   "cell_type": "code",
   "execution_count": 2,
   "id": "84cfb525-ef45-488a-bbc3-769f9dc322b8",
   "metadata": {},
   "outputs": [
    {
     "name": "stdout",
     "output_type": "stream",
     "text": [
      "4 - x + 3x^2\n"
     ]
    }
   ],
   "source": [
    "p1 = Polynomial([4, -1, 3])\n",
    "print(p1)"
   ]
  },
  {
   "cell_type": "code",
   "execution_count": 3,
   "id": "07c60f31-503d-4071-a5d5-e998e31e43cf",
   "metadata": {},
   "outputs": [
    {
     "name": "stdout",
     "output_type": "stream",
     "text": [
      "-10 + 4.0x - 0.5x^2 + x^3\n"
     ]
    }
   ],
   "source": [
    "p2 = p1.integrate(-10)\n",
    "print(p2)"
   ]
  },
  {
   "cell_type": "code",
   "execution_count": 4,
   "id": "2151128b-d4e8-4d1b-8073-d0b4410962c6",
   "metadata": {},
   "outputs": [
    {
     "name": "stdout",
     "output_type": "stream",
     "text": [
      "4.0 - 1.0x + 3.0x^2\n"
     ]
    }
   ],
   "source": [
    "p3 = p2.differentiate()\n",
    "print(p3)"
   ]
  },
  {
   "cell_type": "code",
   "execution_count": 5,
   "id": "8e4116ad-29bf-4bcf-bfb3-09bbc2e70630",
   "metadata": {},
   "outputs": [
    {
     "name": "stdout",
     "output_type": "stream",
     "text": [
      "-1.0 + 6.0x\n"
     ]
    }
   ],
   "source": [
    "p4 = p3.differentiate()\n",
    "print(p4)"
   ]
  },
  {
   "cell_type": "code",
   "execution_count": null,
   "id": "f24af6ae-6f13-48df-ba50-df365894d7f7",
   "metadata": {},
   "outputs": [],
   "source": []
  }
 ],
 "metadata": {
  "kernelspec": {
   "display_name": "Python 3 (ipykernel)",
   "language": "python",
   "name": "python3"
  },
  "language_info": {
   "codemirror_mode": {
    "name": "ipython",
    "version": 3
   },
   "file_extension": ".py",
   "mimetype": "text/x-python",
   "name": "python",
   "nbconvert_exporter": "python",
   "pygments_lexer": "ipython3",
   "version": "3.12.9"
  }
 },
 "nbformat": 4,
 "nbformat_minor": 5
}
