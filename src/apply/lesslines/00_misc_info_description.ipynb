{
 "cells": [
  {
   "cell_type": "code",
   "execution_count": 1,
   "id": "5a4282f1-05c8-48ae-9370-e177477e0f3d",
   "metadata": {},
   "outputs": [],
   "source": [
    "from lesslines.misc import info"
   ]
  },
  {
   "cell_type": "code",
   "execution_count": 2,
   "id": "77e024cf-be27-48ba-a083-737e302ad43c",
   "metadata": {},
   "outputs": [
    {
     "name": "stdout",
     "output_type": "stream",
     "text": [
      "explore python with less lines of code\n"
     ]
    }
   ],
   "source": [
    "print(info.description())"
   ]
  },
  {
   "cell_type": "code",
   "execution_count": null,
   "id": "9f19e849-0758-43a0-87e3-846980d51488",
   "metadata": {},
   "outputs": [],
   "source": []
  }
 ],
 "metadata": {
  "kernelspec": {
   "display_name": "Python 3 (ipykernel)",
   "language": "python",
   "name": "python3"
  },
  "language_info": {
   "codemirror_mode": {
    "name": "ipython",
    "version": 3
   },
   "file_extension": ".py",
   "mimetype": "text/x-python",
   "name": "python",
   "nbconvert_exporter": "python",
   "pygments_lexer": "ipython3",
   "version": "3.12.9"
  }
 },
 "nbformat": 4,
 "nbformat_minor": 5
}
