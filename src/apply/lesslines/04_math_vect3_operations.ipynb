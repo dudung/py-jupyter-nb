{
 "cells": [
  {
   "cell_type": "code",
   "execution_count": 1,
   "id": "bb52560b-e46e-4cc8-93fa-819ed5e3a4f2",
   "metadata": {},
   "outputs": [],
   "source": [
    "from lesslines.math.vector import Vect3"
   ]
  },
  {
   "cell_type": "code",
   "execution_count": 2,
   "id": "9bf57981-2b2e-4537-8812-faf122ff9a6e",
   "metadata": {},
   "outputs": [
    {
     "name": "stdout",
     "output_type": "stream",
     "text": [
      "{ \"x\": 1, \"y\": 2, \"z\": 3 }\n",
      "{ \"x\": 2, \"y\": -1, \"z\": 3 }\n"
     ]
    }
   ],
   "source": [
    "a = Vect3(1, 2, 3)\n",
    "print(a)\n",
    "\n",
    "b = Vect3(2, -1, 3)\n",
    "print(b)"
   ]
  },
  {
   "cell_type": "code",
   "execution_count": 3,
   "id": "20044618-dbf3-4cda-a1e3-f1a4d8533228",
   "metadata": {},
   "outputs": [
    {
     "name": "stdout",
     "output_type": "stream",
     "text": [
      "{ \"x\": 3, \"y\": 1, \"z\": 6 }\n"
     ]
    }
   ],
   "source": [
    "c = a + b\n",
    "print(c)"
   ]
  },
  {
   "cell_type": "code",
   "execution_count": 4,
   "id": "02dc2aed-6730-4d39-8032-dc81fb69e1c4",
   "metadata": {},
   "outputs": [
    {
     "name": "stdout",
     "output_type": "stream",
     "text": [
      "{ \"x\": -1, \"y\": 3, \"z\": 0 }\n"
     ]
    }
   ],
   "source": [
    "d = a - b\n",
    "print(d)"
   ]
  },
  {
   "cell_type": "code",
   "execution_count": 5,
   "id": "488d3250-3205-4d96-adce-3396f0224b7e",
   "metadata": {},
   "outputs": [
    {
     "name": "stdout",
     "output_type": "stream",
     "text": [
      "{ \"x\": 9, \"y\": 3, \"z\": -5 }\n"
     ]
    }
   ],
   "source": [
    "e = a * b\n",
    "print(e)"
   ]
  },
  {
   "cell_type": "code",
   "execution_count": null,
   "id": "ae550b9c-1eee-47d4-be37-956a614b21ab",
   "metadata": {},
   "outputs": [],
   "source": []
  }
 ],
 "metadata": {
  "kernelspec": {
   "display_name": "Python 3 (ipykernel)",
   "language": "python",
   "name": "python3"
  },
  "language_info": {
   "codemirror_mode": {
    "name": "ipython",
    "version": 3
   },
   "file_extension": ".py",
   "mimetype": "text/x-python",
   "name": "python",
   "nbconvert_exporter": "python",
   "pygments_lexer": "ipython3",
   "version": "3.12.9"
  }
 },
 "nbformat": 4,
 "nbformat_minor": 5
}
