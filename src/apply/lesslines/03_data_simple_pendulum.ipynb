{
 "cells": [
  {
   "cell_type": "code",
   "execution_count": 1,
   "id": "d605dcc2-762b-44f8-9191-fcc404a226cd",
   "metadata": {},
   "outputs": [],
   "source": [
    "from lesslines.data.observed import simple_pendulum as sp"
   ]
  },
  {
   "cell_type": "code",
   "execution_count": 2,
   "id": "e1fbe497-71e8-4f58-a487-4f04d343db25",
   "metadata": {},
   "outputs": [
    {
     "name": "stdout",
     "output_type": "stream",
     "text": [
      "['Mawuadem K. Amedeker'] 2022\n",
      "['Robert A. Nelson', 'M. G. Olsson'] 1986\n",
      "['Masringgit Marwiyah Nst'] 2024\n",
      "['Rahmat Hidayat', 'Akmam Akmam', 'Eka Susanti', 'Annisa Febriani'] 2023\n",
      "['Unofre Pili', 'Renante Violanda'] 2019\n",
      "['Yulkifli', 'Zurian Afandi', 'Yohandri'] 2018\n"
     ]
    }
   ],
   "source": [
    "for i in sp.data:\n",
    "    print(i['source']['authors'], i['source']['year'])"
   ]
  },
  {
   "cell_type": "code",
   "execution_count": 3,
   "id": "8024e1dc-30dd-48cc-bf96-2f38e0cb3196",
   "metadata": {},
   "outputs": [
    {
     "name": "stdout",
     "output_type": "stream",
     "text": [
      "{'values': [5, 10, 15, 20, 25], 'unit': 'degree'}\n",
      "{'value': 3.0, 'unit': 'degree', 'uncertainty': 0.3}\n",
      "{'value': 10, 'unit': 'degree', 'note': 'max value'}\n",
      "{'value': 10, 'unit': 'degree', 'note': 'max value'}\n",
      "angle does not exist in data 4\n",
      "angle does not exist in data 5\n"
     ]
    }
   ],
   "source": [
    "key='angle'\n",
    "for i, d in enumerate(sp.data):\n",
    "    if key in d['data']:\n",
    "        print(d['data']['angle'])\n",
    "    else:\n",
    "        print(key, 'does not exist in data', i)"
   ]
  },
  {
   "cell_type": "code",
   "execution_count": null,
   "id": "7d2d1cdf-0a39-4d79-83b0-d996262eacb1",
   "metadata": {},
   "outputs": [],
   "source": []
  }
 ],
 "metadata": {
  "kernelspec": {
   "display_name": "Python 3 (ipykernel)",
   "language": "python",
   "name": "python3"
  },
  "language_info": {
   "codemirror_mode": {
    "name": "ipython",
    "version": 3
   },
   "file_extension": ".py",
   "mimetype": "text/x-python",
   "name": "python",
   "nbconvert_exporter": "python",
   "pygments_lexer": "ipython3",
   "version": "3.12.9"
  }
 },
 "nbformat": 4,
 "nbformat_minor": 5
}
