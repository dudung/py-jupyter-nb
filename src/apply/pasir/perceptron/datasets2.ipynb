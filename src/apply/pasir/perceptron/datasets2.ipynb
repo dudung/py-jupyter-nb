{
 "cells": [
  {
   "cell_type": "markdown",
   "id": "539d4f57-499e-4015-b1d6-112cea78c0e7",
   "metadata": {},
   "source": [
    "# dataset2 for linearly separable problems"
   ]
  },
  {
   "cell_type": "code",
   "execution_count": null,
   "id": "2b371b38-86da-4d85-b132-b72910f1fe9b",
   "metadata": {},
   "outputs": [],
   "source": [
    "def linear_separable(xrange, yrange, coeffs):\n",
    "    xmin = xrange[0]; xmax = xrange[1]; dx = xrange[2]\n",
    "    ymin = yrange[0]; ymax = yrange[1]; dy = yrange[2]\n",
    "    a = coeffs[0]; b = coeffs[1]; c = coeffs[2]\n",
    "    xx = []; yy = []; zz = []\n",
    "    for y in range(ymin, ymax+dy, dy):\n",
    "        for x in range(xmin, xmax+dx, dx):\n",
    "            xx.append(x)\n",
    "            yy.append(y)\n",
    "            if a*x + b*y + c >= 0:\n",
    "                zz.append(1)\n",
    "            else:\n",
    "                zz.append(0)\n",
    "    return (xx, yy, zz)"
   ]
  },
  {
   "cell_type": "code",
   "execution_count": null,
   "id": "e05b0080-60cf-4c96-8b69-401f272fdc15",
   "metadata": {},
   "outputs": [],
   "source": [
    "def plot_dataset(plt, x, y, z):\n",
    "    import matplotlib.pyplot as plt\n",
    "    styles = ['s','o']\n",
    "    fill = ['#ddf', '#fdd']; stroke = ['b', 'r']\n",
    "    plt.figure(figsize=(4, 4))\n",
    "    \n",
    "    for i in range(len(x)):\n",
    "        m = styles[z[i]]\n",
    "        mec = stroke[z[i]]; mfc = fill[z[i]]\n",
    "        plt.plot(x[i], y[i], marker=m, mec=mec, mfc=mfc)\n",
    "    \n",
    "    plt.xlabel('x1')\n",
    "    plt.ylabel('x2')\n",
    "    plt.grid();"
   ]
  },
  {
   "cell_type": "code",
   "execution_count": null,
   "id": "2787e951-c955-471b-8307-a330b6ba505d",
   "metadata": {},
   "outputs": [],
   "source": []
  }
 ],
 "metadata": {
  "kernelspec": {
   "display_name": "Python 3 (ipykernel)",
   "language": "python",
   "name": "python3"
  },
  "language_info": {
   "codemirror_mode": {
    "name": "ipython",
    "version": 3
   },
   "file_extension": ".py",
   "mimetype": "text/x-python",
   "name": "python",
   "nbconvert_exporter": "python",
   "pygments_lexer": "ipython3",
   "version": "3.12.3"
  }
 },
 "nbformat": 4,
 "nbformat_minor": 5
}
