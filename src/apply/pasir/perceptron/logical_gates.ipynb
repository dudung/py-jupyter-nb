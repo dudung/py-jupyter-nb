{
 "cells": [
  {
   "cell_type": "markdown",
   "id": "e458526d-8a8b-4aee-b75b-4a5ffb3eb3d0",
   "metadata": {},
   "source": [
    "# logical gates"
   ]
  },
  {
   "cell_type": "markdown",
   "id": "5ddc2dfa-caef-433d-8dbd-6e9212e4b60b",
   "metadata": {},
   "source": [
    "## step activation function"
   ]
  },
  {
   "cell_type": "markdown",
   "id": "578d8efa-3f99-4944-b383-76c18eb51625",
   "metadata": {},
   "source": [
    "$$\n",
    "H(x) = \\left\\{\n",
    "\\begin{array}{cc}\n",
    "1, & x \\ge 0, \\newline\n",
    "0, & x < 0.\n",
    "\\end{array}\n",
    "\\right.\n",
    "$$"
   ]
  },
  {
   "cell_type": "code",
   "execution_count": 3,
   "id": "b859354a-05e9-4ac9-a1b3-c218b6580c98",
   "metadata": {},
   "outputs": [
    {
     "name": "stdout",
     "output_type": "stream",
     "text": [
      "0\n",
      "1\n",
      "1\n"
     ]
    }
   ],
   "source": [
    "def f_step(x):\n",
    "    if x >= 0:\n",
    "        y = 1\n",
    "    else:\n",
    "        y = 0\n",
    "    return y\n",
    "\n",
    "print(f_step(-0.1))\n",
    "print(f_step(0))\n",
    "print(f_step(0.1)) "
   ]
  },
  {
   "cell_type": "markdown",
   "id": "f9447787-a66f-484c-8400-21b66bd87178",
   "metadata": {},
   "source": [
    "## or gate"
   ]
  },
  {
   "cell_type": "markdown",
   "id": "97ca9de6-ed80-45d3-9f2b-ba1472a209b5",
   "metadata": {},
   "source": [
    "$x_1$ | $x_2$ | $y$\n",
    ":-: | :-: | :-:\n",
    "0 | 0 | 0\n",
    "0 | 1 | 1\n",
    "1 | 0 | 1\n",
    "1 | 1 | 1"
   ]
  },
  {
   "cell_type": "code",
   "execution_count": 4,
   "id": "0e1df951-a932-4720-92b7-772ff0eddad5",
   "metadata": {},
   "outputs": [],
   "source": [
    "def gate_or(x1, x2):\n",
    "    b = -1\n",
    "    w1 = 1\n",
    "    w2 = 1\n",
    "    z = w1*x1 + w2*x2 + b\n",
    "    y = f_step(z)\n",
    "    return y\n",
    "\n",
    "# or gate\n",
    "x1 = [0, 0, 1, 1]\n",
    "x2 = [0, 1, 0, 1]\n",
    "y = [0, 1, 1, 1]    "
   ]
  },
  {
   "cell_type": "code",
   "execution_count": 5,
   "id": "7f22a023-c2ca-4fbc-9791-9db3850497b8",
   "metadata": {},
   "outputs": [
    {
     "name": "stdout",
     "output_type": "stream",
     "text": [
      "x1\tx2\tynn\ty\n",
      "0\t0\t0\t0\n",
      "0\t1\t1\t1\n",
      "1\t0\t1\t1\n",
      "1\t1\t1\t1\n"
     ]
    }
   ],
   "source": [
    "print('x1\\tx2\\tynn\\ty')\n",
    "for i in range(4):\n",
    "    ynn = gate_or(x1[i], x2[i]);\n",
    "    print(x1[i], end='\\t')\n",
    "    print(x2[i], end='\\t')\n",
    "    print(ynn, end='\\t')\n",
    "    print(y[i])\n"
   ]
  },
  {
   "cell_type": "markdown",
   "id": "dd83c77f-2f73-41db-9547-f37ffabe17bc",
   "metadata": {},
   "source": [
    "## and gate"
   ]
  },
  {
   "cell_type": "markdown",
   "id": "936c2789-d5f5-46ae-a831-5b571eb83555",
   "metadata": {},
   "source": [
    "$x_1$ | $x_2$ | $y$\n",
    ":-: | :-: | :-:\n",
    "0 | 0 | 0\n",
    "0 | 1 | 0\n",
    "1 | 0 | 0\n",
    "1 | 1 | 1"
   ]
  },
  {
   "cell_type": "code",
   "execution_count": 4,
   "id": "75348813-0e45-43b1-a26f-ddf0fea7168b",
   "metadata": {},
   "outputs": [],
   "source": [
    "def gate_and(x1, x2):\n",
    "    b = -2\n",
    "    w1 = 1\n",
    "    w2 = 1\n",
    "    z = w1*x1 + w2*x2 + b\n",
    "    y = f_step(z)\n",
    "    return y\n",
    "\n",
    "# or gate\n",
    "x1 = [0, 0, 1, 1]\n",
    "x2 = [0, 1, 0, 1]\n",
    "y = [0, 0, 0, 1]    "
   ]
  },
  {
   "cell_type": "code",
   "execution_count": 5,
   "id": "8857b674-392d-4748-98ef-408d02f3cb2f",
   "metadata": {},
   "outputs": [
    {
     "name": "stdout",
     "output_type": "stream",
     "text": [
      "x1\tx2\tynn\ty\n",
      "0\t0\t0\t0\n",
      "0\t1\t0\t0\n",
      "1\t0\t0\t0\n",
      "1\t1\t1\t1\n"
     ]
    }
   ],
   "source": [
    "print('x1\\tx2\\tynn\\ty')\n",
    "for i in range(4):\n",
    "    ynn = gate_and(x1[i], x2[i]);\n",
    "    print(x1[i], end='\\t')\n",
    "    print(x2[i], end='\\t')\n",
    "    print(ynn, end='\\t')\n",
    "    print(y[i])\n"
   ]
  },
  {
   "cell_type": "code",
   "execution_count": null,
   "id": "958c41f9-d84a-4fa2-9c46-83d23a6fbecb",
   "metadata": {},
   "outputs": [],
   "source": []
  }
 ],
 "metadata": {
  "kernelspec": {
   "display_name": "Python 3 (ipykernel)",
   "language": "python",
   "name": "python3"
  },
  "language_info": {
   "codemirror_mode": {
    "name": "ipython",
    "version": 3
   },
   "file_extension": ".py",
   "mimetype": "text/x-python",
   "name": "python",
   "nbconvert_exporter": "python",
   "pygments_lexer": "ipython3",
   "version": "3.12.3"
  }
 },
 "nbformat": 4,
 "nbformat_minor": 5
}
