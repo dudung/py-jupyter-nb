{
 "cells": [
  {
   "cell_type": "code",
   "execution_count": 79,
   "id": "06e0a483-5756-4387-81ba-47d1b33c6f2b",
   "metadata": {},
   "outputs": [],
   "source": [
    "import numpy as np\n",
    "import matplotlib.pyplot as plt\n",
    "import matplotlib.animation as animation"
   ]
  },
  {
   "cell_type": "code",
   "execution_count": 85,
   "id": "ff4161aa-7030-42d0-b472-f4e2343e7a29",
   "metadata": {},
   "outputs": [
    {
     "name": "stdout",
     "output_type": "stream",
     "text": [
      "N = 300\n"
     ]
    }
   ],
   "source": [
    "tbeg = 0\n",
    "tend = 6\n",
    "dt = 0.02\n",
    "t = np.arange(tbeg, tend, dt)\n",
    "N = len(t)\n",
    "print('N =', N)"
   ]
  },
  {
   "cell_type": "code",
   "execution_count": 86,
   "id": "6c453ac3-ee9f-4ee8-8dae-f59626d1b884",
   "metadata": {},
   "outputs": [],
   "source": [
    "T1 = 1\n",
    "omega1 = 2 * np.pi / T1\n",
    "r1 = 4\n",
    "x1 = r1 * np.cos(omega1 * t)\n",
    "y1 = r1 * np.sin(omega1 * t)\n",
    "R1 = 0.2"
   ]
  },
  {
   "cell_type": "code",
   "execution_count": 87,
   "id": "64c28de7-568a-4907-a86c-da36ce107db0",
   "metadata": {},
   "outputs": [],
   "source": [
    "T2 = 3\n",
    "omega2 = 2 * np.pi / T2\n",
    "r2 = 3\n",
    "x2 = r2 * np.cos(omega2 * t)\n",
    "y2 = r2 * np.sin(omega2 * t)\n",
    "R2 = 0.4"
   ]
  },
  {
   "cell_type": "code",
   "execution_count": 88,
   "id": "672dc38b-9912-4d05-a050-d0fca4e9330e",
   "metadata": {},
   "outputs": [
    {
     "data": {
      "image/png": "[encoded data removed]",
      "text/plain": [
       "<Figure size 300x300 with 1 Axes>"
      ]
     },
     "metadata": {},
     "output_type": "display_data"
    }
   ],
   "source": [
    "fig = plt.figure(figsize=(3,3))\n",
    "ax = fig.gca()\n",
    "ax.set_aspect(1)\n",
    "plt.grid()\n",
    "plt.xlim(-5, 5)\n",
    "plt.ylim(-5, 5)\n",
    "\n",
    "c1 = plt.Circle((x1[0], y1[0]), R1, fc='none', ec='red', lw=1)\n",
    "ax.add_patch(c1)\n",
    "c2 = plt.Circle((x2[0], y2[0]), R2, fc='none', ec='green', lw=1)\n",
    "ax.add_patch(c2)\n",
    "\n",
    "ts = f't = {t[0]:.2f} s'\n",
    "tx = ax.text(-3.5, -3.5, ts)\n",
    "\n",
    "plt.show()"
   ]
  },
  {
   "cell_type": "code",
   "execution_count": 89,
   "id": "716e00d1-9b93-4859-b9a8-79ec602ff147",
   "metadata": {},
   "outputs": [],
   "source": [
    "def update(i):\n",
    "    c1.center = x1[i], y1[i]\n",
    "    c2.center = x2[i], y2[i]\n",
    "    ts = f't = {t[i]:.2f} s'\n",
    "    tx.set_text(ts)\n",
    "    return _\n",
    "\n",
    "ani = animation.FuncAnimation(fig=fig, func=update, frames=300)\n",
    "ani.save(filename=\"test.mp4\", writer=\"ffmpeg\", fps=50)"
   ]
  },
  {
   "cell_type": "code",
   "execution_count": null,
   "id": "1bb35c8f-566f-4fdd-b401-d818e070c064",
   "metadata": {},
   "outputs": [],
   "source": []
  }
 ],
 "metadata": {
  "kernelspec": {
   "display_name": "Python 3 (ipykernel)",
   "language": "python",
   "name": "python3"
  },
  "language_info": {
   "codemirror_mode": {
    "name": "ipython",
    "version": 3
   },
   "file_extension": ".py",
   "mimetype": "text/x-python",
   "name": "python",
   "nbconvert_exporter": "python",
   "pygments_lexer": "ipython3",
   "version": "3.12.3"
  }
 },
 "nbformat": 4,
 "nbformat_minor": 5
}
