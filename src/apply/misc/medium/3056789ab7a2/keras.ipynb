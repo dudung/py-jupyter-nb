{
 "cells": [
  {
   "cell_type": "code",
   "execution_count": 1,
   "id": "b71db321-fec9-457e-b1d6-4f274583e0d3",
   "metadata": {},
   "outputs": [
    {
     "name": "stdout",
     "output_type": "stream",
     "text": [
      "Downloading data from https://storage.googleapis.com/tensorflow/tf-keras-datasets/imdb.npz\n",
      "\u001b[1m17464789/17464789\u001b[0m \u001b[32m━━━━━━━━━━━━━━━━━━━━\u001b[0m\u001b[37m\u001b[0m \u001b[1m18s\u001b[0m 1us/step\n",
      "(25000,)\n",
      "(25000,)\n"
     ]
    }
   ],
   "source": [
    "from keras.datasets import imdb\n",
    "(x_train, y_train), (x_test, y_test) = imdb.load_data()\n",
    "print(x_train.shape)\n",
    "print(x_test.shape)"
   ]
  },
  {
   "cell_type": "code",
   "execution_count": 2,
   "id": "5fae4583-c35c-4fd0-90a6-f2f3b794d7cc",
   "metadata": {},
   "outputs": [],
   "source": [
    "from keras.preprocessing.sequence import pad_sequences\n",
    "\n",
    "#pad all input sequences to have the length of 100\n",
    "\n",
    "X_train = pad_sequences(x_train, maxlen=100)\n",
    "X_test = pad_sequences(x_test, maxlen=100)"
   ]
  },
  {
   "cell_type": "code",
   "execution_count": 3,
   "id": "5b0560c4-af61-4021-8913-f1ce3f276202",
   "metadata": {},
   "outputs": [
    {
     "name": "stdout",
     "output_type": "stream",
     "text": [
      "[[ 1415    33     6 ...    19   178    32]\n",
      " [  163    11  3215 ...    16   145    95]\n",
      " [ 1301     4  1873 ...     7   129   113]\n",
      " ...\n",
      " [   11     6  4065 ...     4  3586 22459]\n",
      " [  100  2198     8 ...    12     9    23]\n",
      " [   78  1099    17 ...   204   131     9]]\n"
     ]
    }
   ],
   "source": [
    "print(X_train)"
   ]
  },
  {
   "cell_type": "code",
   "execution_count": 4,
   "id": "a688095b-7993-44ab-bbf3-50fb2d414d5e",
   "metadata": {},
   "outputs": [],
   "source": [
    "#import Sequential model\n",
    "from keras import models\n",
    "#create Keras model\n",
    "model = models.Sequential()"
   ]
  },
  {
   "cell_type": "code",
   "execution_count": 5,
   "id": "96a62ab2-8396-49a4-a211-328dea318dae",
   "metadata": {},
   "outputs": [],
   "source": [
    "#import Embedding layer\n",
    "from keras.layers import Embedding\n",
    "\n",
    "#first hidden layer is an embedding layer\n",
    "model.add(Embedding(100000, 128))"
   ]
  },
  {
   "cell_type": "code",
   "execution_count": 6,
   "id": "198fa7f9-76c6-4e5f-9357-4f82884f99ba",
   "metadata": {},
   "outputs": [],
   "source": [
    "#import LSTM layer\n",
    "from keras.layers import Embedding, LSTM\n",
    "\n",
    "\n",
    "#second hidden layer is an LSTM  layer\n",
    "model.add(LSTM(128, dropout=0.2, recurrent_dropout=0.2))"
   ]
  },
  {
   "cell_type": "code",
   "execution_count": 9,
   "id": "80f45bb5-f132-48ab-9aab-cd9c76d1ac34",
   "metadata": {},
   "outputs": [],
   "source": [
    "from keras.layers import Dense, Embedding, LSTM\n",
    "\n",
    "model.add(Dense(1, activation='sigmoid'))"
   ]
  },
  {
   "cell_type": "code",
   "execution_count": 10,
   "id": "628c2442-e57f-44af-a58d-6681e92515b1",
   "metadata": {},
   "outputs": [],
   "source": [
    "model.compile(loss='binary_crossentropy', optimizer='adam',\n",
    "              metrics=['accuracy'])"
   ]
  },
  {
   "cell_type": "code",
   "execution_count": 14,
   "id": "58b7fdb0-60cb-478c-a378-deb939e086b7",
   "metadata": {},
   "outputs": [
    {
     "name": "stdout",
     "output_type": "stream",
     "text": [
      "Epoch 1/2\n",
      "\u001b[1m5000/5000\u001b[0m \u001b[32m━━━━━━━━━━━━━━━━━━━━\u001b[0m\u001b[37m\u001b[0m \u001b[1m695s\u001b[0m 139ms/step - accuracy: 0.8051 - loss: 0.4392 - val_accuracy: 0.8139 - val_loss: 0.4023\n",
      "Epoch 2/2\n",
      "\u001b[1m5000/5000\u001b[0m \u001b[32m━━━━━━━━━━━━━━━━━━━━\u001b[0m\u001b[37m\u001b[0m \u001b[1m689s\u001b[0m 138ms/step - accuracy: 0.9159 - loss: 0.2167 - val_accuracy: 0.8439 - val_loss: 0.3708\n"
     ]
    },
    {
     "data": {
      "text/plain": [
       "<keras.src.callbacks.history.History at 0x1e061c7c560>"
      ]
     },
     "execution_count": 14,
     "metadata": {},
     "output_type": "execute_result"
    }
   ],
   "source": [
    "# fit model on training set and check the accuracy on validation set.\n",
    "model.fit(X_train, y_train, batch_size=5, epochs=2,\n",
    "          validation_data=(X_test, y_test))"
   ]
  },
  {
   "cell_type": "code",
   "execution_count": null,
   "id": "c0053d8b-e332-4d3e-a40e-cb1419660120",
   "metadata": {},
   "outputs": [],
   "source": []
  }
 ],
 "metadata": {
  "kernelspec": {
   "display_name": "Python 3 (ipykernel)",
   "language": "python",
   "name": "python3"
  },
  "language_info": {
   "codemirror_mode": {
    "name": "ipython",
    "version": 3
   },
   "file_extension": ".py",
   "mimetype": "text/x-python",
   "name": "python",
   "nbconvert_exporter": "python",
   "pygments_lexer": "ipython3",
   "version": "3.12.3"
  }
 },
 "nbformat": 4,
 "nbformat_minor": 5
}
