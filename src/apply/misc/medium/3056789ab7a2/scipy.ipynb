{
 "cells": [
  {
   "cell_type": "code",
   "execution_count": 1,
   "id": "ded96b4e-4f92-48b1-bc72-c5be0a286641",
   "metadata": {},
   "outputs": [
    {
     "name": "stdout",
     "output_type": "stream",
     "text": [
      "[3. 4.]\n"
     ]
    }
   ],
   "source": [
    "from scipy.special import cbrt\n",
    "#Find cubic root of 27 & 64 using cbrt() function\n",
    "cb = cbrt([27, 64])\n",
    "#print value of cb\n",
    "print(cb)"
   ]
  },
  {
   "cell_type": "code",
   "execution_count": 2,
   "id": "615405a7-e132-4495-85a8-cabeed81dff8",
   "metadata": {},
   "outputs": [
    {
     "name": "stdout",
     "output_type": "stream",
     "text": [
      "[1.e+01 1.e+10]\n"
     ]
    }
   ],
   "source": [
    "from scipy.special import exp10\n",
    "#define exp10 function and pass value in its\n",
    "exp = exp10([1,10])\n",
    "print(exp)"
   ]
  },
  {
   "cell_type": "code",
   "execution_count": 3,
   "id": "bd26d886-3d8c-4a19-b4ed-d0335e484526",
   "metadata": {},
   "outputs": [
    {
     "name": "stdout",
     "output_type": "stream",
     "text": [
      "15.0\n"
     ]
    }
   ],
   "source": [
    "from scipy.special import comb\n",
    "#find combinations of 5, 2 values using comb(N, k)\n",
    "com = comb(5, 2, exact = False, repetition=True)\n",
    "print(com)"
   ]
  },
  {
   "cell_type": "code",
   "execution_count": 4,
   "id": "0862753f-e054-474b-957a-b50c1d9451f7",
   "metadata": {},
   "outputs": [
    {
     "name": "stdout",
     "output_type": "stream",
     "text": [
      "20\n"
     ]
    }
   ],
   "source": [
    "from scipy.special import perm\n",
    "#find permutation of 5, 2 using perm (N, k) function\n",
    "per = perm(5, 2, exact = True)\n",
    "print(per)"
   ]
  },
  {
   "cell_type": "code",
   "execution_count": 5,
   "id": "f0e1153a-cfec-47e1-8da4-6a1746da9d5f",
   "metadata": {},
   "outputs": [
    {
     "data": {
      "text/plain": [
       "-7.0"
      ]
     },
     "execution_count": 5,
     "metadata": {},
     "output_type": "execute_result"
    }
   ],
   "source": [
    "from scipy import linalg\n",
    "import numpy as np\n",
    "#define square matrix\n",
    "two_d_array = np.array([ [4,5], [3,2] ])\n",
    "#pass values to det() function\n",
    "linalg.det( two_d_array )"
   ]
  },
  {
   "cell_type": "code",
   "execution_count": null,
   "id": "91b289e8-db6a-4fbb-8e47-3eccc2d044be",
   "metadata": {},
   "outputs": [],
   "source": []
  }
 ],
 "metadata": {
  "kernelspec": {
   "display_name": "Python 3 (ipykernel)",
   "language": "python",
   "name": "python3"
  },
  "language_info": {
   "codemirror_mode": {
    "name": "ipython",
    "version": 3
   },
   "file_extension": ".py",
   "mimetype": "text/x-python",
   "name": "python",
   "nbconvert_exporter": "python",
   "pygments_lexer": "ipython3",
   "version": "3.12.3"
  }
 },
 "nbformat": 4,
 "nbformat_minor": 5
}
