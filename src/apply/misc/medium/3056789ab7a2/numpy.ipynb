{
 "cells": [
  {
   "cell_type": "code",
   "execution_count": 1,
   "id": "1c49d5c2-93b8-46a6-82e6-b309156159a6",
   "metadata": {},
   "outputs": [],
   "source": [
    "import numpy as np"
   ]
  },
  {
   "cell_type": "code",
   "execution_count": 2,
   "id": "e66ea90b-a2d7-449b-93b1-5da8a0a74e2f",
   "metadata": {},
   "outputs": [
    {
     "name": "stdout",
     "output_type": "stream",
     "text": [
      "[[ 0  1  2  3]\n",
      " [ 4  5  6  7]\n",
      " [ 8  9 10 11]\n",
      " [12 13 14 15]\n",
      " [16 17 18 19]]\n",
      "\n",
      "19\n",
      "[3 3 3 3 3]\n",
      "[4 4 4 4]\n"
     ]
    }
   ],
   "source": [
    "# Creating 5x4 array\n",
    "array = np.arange(20).reshape(5, 4)\n",
    "print(array)\n",
    "print()\n",
    "\n",
    "# If no axis mentioned, then it works on the entire array\n",
    "print(np.argmax(array))\n",
    "\n",
    "# If axis=1, then it works on each row\n",
    "print(np.argmax(array, axis=1))\n",
    "\n",
    "# If axis=0, then it works on each column\n",
    "print(np.argmax(array, axis=0))"
   ]
  },
  {
   "cell_type": "code",
   "execution_count": 3,
   "id": "22080343-f4f0-4e46-bee2-f45391e62f99",
   "metadata": {},
   "outputs": [
    {
     "name": "stdout",
     "output_type": "stream",
     "text": [
      "[[ 3  7  1]\n",
      " [10  3  2]\n",
      " [ 5  6  7]]\n",
      "\n",
      "[ 1  2  3  3  5  6  7  7 10]\n",
      "[[ 1  3  7]\n",
      " [ 2  3 10]\n",
      " [ 5  6  7]]\n",
      "[[ 3  3  1]\n",
      " [ 5  6  2]\n",
      " [10  7  7]]\n"
     ]
    }
   ],
   "source": [
    "array = np.array([\n",
    "    [3, 7, 1],\n",
    "    [10, 3, 2],\n",
    "    [5, 6, 7]\n",
    "])\n",
    "print(array)\n",
    "print()\n",
    "\n",
    "# Sort the whole array\n",
    "print(np.sort(array, axis=None))\n",
    "\n",
    "# Sort along each row\n",
    "print(np.sort(array, axis=1))\n",
    "\n",
    "# Sort along each column\n",
    "print(np.sort(array, axis=0))"
   ]
  },
  {
   "cell_type": "code",
   "execution_count": 4,
   "id": "f8bb1556-872f-499d-a718-bfbb62483c67",
   "metadata": {},
   "outputs": [
    {
     "name": "stdout",
     "output_type": "stream",
     "text": [
      "[28 13 45 12  4  8  0]\n",
      "[6 4 5 3 1 0 2]\n"
     ]
    }
   ],
   "source": [
    "array = np.array([28, 13, 45, 12, 4, 8, 0])\n",
    "print(array)\n",
    "\n",
    "print(np.argsort(array))"
   ]
  },
  {
   "cell_type": "code",
   "execution_count": 5,
   "id": "c3ad5dc6-3a82-46b5-9087-12de5c42feb2",
   "metadata": {},
   "outputs": [
    {
     "name": "stdout",
     "output_type": "stream",
     "text": [
      "[8 1 5 2 7 6 3]\n"
     ]
    }
   ],
   "source": [
    "array = np.array([3, 6, 7, 2, 5, 1, 8])\n",
    "reversedArray = np.flipud(array)\n",
    "print(reversedArray)"
   ]
  },
  {
   "cell_type": "code",
   "execution_count": 6,
   "id": "2777fea9-4540-4a7f-9c1c-c76eddf98f49",
   "metadata": {},
   "outputs": [
    {
     "name": "stdout",
     "output_type": "stream",
     "text": [
      "[[ 3  2  8  2]\n",
      " [ 4 12 34  1]\n",
      " [23 12 67  8]]\n"
     ]
    }
   ],
   "source": [
    "array = np.array([\n",
    "    [3, 2, 8],\n",
    "    [4, 12, 34],\n",
    "    [23, 12, 67]\n",
    "])\n",
    "\n",
    "newColumn = np.array([2, 1, 8])\n",
    "newArray = np.column_stack((array, newColumn))\n",
    "print(newArray)"
   ]
  },
  {
   "cell_type": "code",
   "execution_count": 7,
   "id": "0b6d494a-7060-46c3-8de9-1da7c6a682c3",
   "metadata": {},
   "outputs": [
    {
     "name": "stdout",
     "output_type": "stream",
     "text": [
      "[[ 3  2  8]\n",
      " [ 4 12 34]\n",
      " [23 12 67]\n",
      " [ 2  1  8]]\n"
     ]
    }
   ],
   "source": [
    "array = np.array([\n",
    "    [3, 2, 8],\n",
    "    [4, 12, 34],\n",
    "    [23, 12, 67]\n",
    "])\n",
    "\n",
    "newRow = np.array([2, 1, 8])\n",
    "newArray = np.vstack((array, newRow))\n",
    "print(newArray)"
   ]
  },
  {
   "cell_type": "code",
   "execution_count": 8,
   "id": "06cdcdba-6344-402a-b275-0f2c5eb3207d",
   "metadata": {},
   "outputs": [
    {
     "name": "stdout",
     "output_type": "stream",
     "text": [
      "[5.5, 30.6, 34.0]\n"
     ]
    }
   ],
   "source": [
    "list = [\n",
    "    np.array([3, 2, 8, 9]),\n",
    "    np.array([4, 12, 34, 25, 78]),\n",
    "    np.array([23, 12, 67])\n",
    "]\n",
    "\n",
    "result = []\n",
    "for i in range(len(list)):\n",
    "    result.append(np.mean(list[i]))\n",
    "print(result)"
   ]
  },
  {
   "cell_type": "code",
   "execution_count": null,
   "id": "0bca4f67-96f9-451a-915c-a28eb76ef590",
   "metadata": {},
   "outputs": [],
   "source": []
  }
 ],
 "metadata": {
  "kernelspec": {
   "display_name": "Python 3 (ipykernel)",
   "language": "python",
   "name": "python3"
  },
  "language_info": {
   "codemirror_mode": {
    "name": "ipython",
    "version": 3
   },
   "file_extension": ".py",
   "mimetype": "text/x-python",
   "name": "python",
   "nbconvert_exporter": "python",
   "pygments_lexer": "ipython3",
   "version": "3.12.3"
  }
 },
 "nbformat": 4,
 "nbformat_minor": 5
}
