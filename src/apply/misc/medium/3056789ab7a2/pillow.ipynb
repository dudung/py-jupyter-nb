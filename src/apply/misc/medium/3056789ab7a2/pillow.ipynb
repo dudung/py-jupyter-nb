{
 "cells": [
  {
   "cell_type": "code",
   "execution_count": 2,
   "id": "852bb189-9519-4858-bb32-3d3f1c572f67",
   "metadata": {},
   "outputs": [],
   "source": [
    "from PIL import Image, ImageDraw, ImageFont\n",
    "\n",
    "im = Image.new(\"RGB\", (256, 256), (128, 128, 128))\n",
    "\n",
    "draw = ImageDraw.Draw(im)\n",
    "\n",
    "draw.line((0, im.height, im.width, 0), fill=(255, 0, 0), width=8)\n",
    "draw.rectangle((50, 50, 100, 100), fill=(0, 255, 0))\n",
    "draw.ellipse((120, 150, 225, 200), fill=(0, 0, 255))\n",
    "\n",
    "#font = ImageFont.truetype('/Library/Fonts/Arial Bold.ttf', 48)\n",
    "#draw.multiline_text((0, 0), 'Pillow sample', fill=(0, 0, 0), font=font)\n",
    "\n",
    "im.save('pillow_iamge_draw_2.jpg', quality=95)"
   ]
  },
  {
   "cell_type": "markdown",
   "id": "ac51e063-e7a3-42c6-a836-d36ef80c13d8",
   "metadata": {},
   "source": [
    "![](pillow_iamge_draw_2.jpg)"
   ]
  },
  {
   "cell_type": "code",
   "execution_count": null,
   "id": "05875a3a-db55-4af4-8cb5-13a778249a97",
   "metadata": {},
   "outputs": [],
   "source": []
  },
  {
   "cell_type": "code",
   "execution_count": null,
   "id": "682404b5-1bf7-49ef-b711-45e84c5c8fe5",
   "metadata": {},
   "outputs": [],
   "source": []
  }
 ],
 "metadata": {
  "kernelspec": {
   "display_name": "Python 3 (ipykernel)",
   "language": "python",
   "name": "python3"
  },
  "language_info": {
   "codemirror_mode": {
    "name": "ipython",
    "version": 3
   },
   "file_extension": ".py",
   "mimetype": "text/x-python",
   "name": "python",
   "nbconvert_exporter": "python",
   "pygments_lexer": "ipython3",
   "version": "3.12.3"
  }
 },
 "nbformat": 4,
 "nbformat_minor": 5
}
