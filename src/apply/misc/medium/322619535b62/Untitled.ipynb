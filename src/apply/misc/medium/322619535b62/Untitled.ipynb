{
 "cells": [
  {
   "cell_type": "markdown",
   "id": "a61fd685-a49b-4b2d-86e3-08441868c202",
   "metadata": {},
   "source": [
    "![](topics-comparison.png)"
   ]
  },
  {
   "cell_type": "code",
   "execution_count": null,
   "id": "db9272cc-de8a-4def-a38d-0d6b2f76b099",
   "metadata": {},
   "outputs": [],
   "source": []
  }
 ],
 "metadata": {
  "kernelspec": {
   "display_name": "Python 3 (ipykernel)",
   "language": "python",
   "name": "python3"
  },
  "language_info": {
   "codemirror_mode": {
    "name": "ipython",
    "version": 3
   },
   "file_extension": ".py",
   "mimetype": "text/x-python",
   "name": "python",
   "nbconvert_exporter": "python",
   "pygments_lexer": "ipython3",
   "version": "3.12.0"
  }
 },
 "nbformat": 4,
 "nbformat_minor": 5
}
