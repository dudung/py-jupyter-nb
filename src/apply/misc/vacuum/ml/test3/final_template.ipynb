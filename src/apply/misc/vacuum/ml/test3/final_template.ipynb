{
 "cells": [
  {
   "cell_type": "markdown",
   "id": "963dbd90-1aed-4d4f-a0a6-adb39e8f019a",
   "metadata": {},
   "source": [
    "**Instruction**: *Download this Jupyter Notebook to your computer and edit it. Fill each parts with related information. Keep the format 'as is' in order to make the evaluation easier and structured. Point for each parts are given.*"
   ]
  },
  {
   "cell_type": "markdown",
   "id": "4f6964f0-cb73-4469-8745-9da98cfd4d8b",
   "metadata": {},
   "source": [
    "# Title (10)\n",
    "*Write title of your final assignment that includes problem to solve (2), goal to achieve (2), method to use (2), characteristict to address (2), and hidden information to cover (2).*\n",
    "\n",
    "*e.g. Defining Employee Incompentence Metric in Determining Participants for Regular Workshops using Machine Learning with Transformer Model to Obtain Optimum Number of Workshop Clusters in Remote Branch of Company XYZ.*"
   ]
  },
  {
   "cell_type": "markdown",
   "id": "9d0548f2-d8c5-4483-af21-921d69b041ad",
   "metadata": {},
   "source": [
    "## Team (10)\n",
    "*List member of your team with role of each. You can use list or paragraph to describe them.*\n",
    "\n",
    "*e.g. **Antonius Helmholtz** (problem description, literature study, visualization, conclusion), **Budi Gutenberg** (machine learning method, model optimization, analysis, conclusion), **Shiva Newton** (analysis, dicussion, conclusion), ..*"
   ]
  },
  {
   "cell_type": "markdown",
   "id": "5c48c0f1-5feb-4113-85a8-5d7d7217e922",
   "metadata": {},
   "source": [
    "## Background (10)\n",
    "*Describe background of the problem to solve, which must include current state or progress of the problem (2), reasons why it has not been solved (3), the benefit when it can be solved (3), literature about the problem if any (2).*"
   ]
  },
  {
   "cell_type": "markdown",
   "id": "54ca442e-06c5-49e4-b05c-d1b765a0363c",
   "metadata": {},
   "source": [
    "## Method (20)\n",
    "*Describe proposed machine learning model or other method than machine learning to solve the problem, that includes features or parameters to consider (5), algorithm or flowchart in implementing the model (5), source for the code (5), source of data with hidden information to cover if necessary (5).*"
   ]
  },
  {
   "cell_type": "markdown",
   "id": "9a55010a-a75d-4af7-ad1d-2b5c6cd27cd7",
   "metadata": {},
   "source": [
    "## Code (20)\n",
    "*Put your code here with comments to explain part of code (10). All code must not in one cell but they should be separate in different cells to give better explanation with output of each part (20). Do not view or display internal or secret information but cover it in such a way that others can not understand them (10).*"
   ]
  },
  {
   "cell_type": "markdown",
   "id": "0a0beaf0-5902-4a85-8107-190df65d35dd",
   "metadata": {},
   "source": [
    "## Analysis (10)\n",
    "*Put some code that produce output in this part and add Markdown cell below them containing information to explain the result. You may have many cells of code and Markdown as you need here.*"
   ]
  },
  {
   "cell_type": "markdown",
   "id": "4352927c-90dd-4ce9-b966-887db1e65f41",
   "metadata": {},
   "source": [
    "## Conclusion and future plan (10)\n",
    "*Write you conlusion (5) and future plan related to suggestion to improve the result or possibility in continuing the topic as thesis (5).*"
   ]
  },
  {
   "cell_type": "markdown",
   "id": "b1b77b44-b067-46bc-a05f-fc952148a06f",
   "metadata": {},
   "source": [
    "## References (5)\n",
    "*Write at least five references related to code, literatures, Python libraries manual, or other information that are used in this work.*"
   ]
  },
  {
   "cell_type": "markdown",
   "id": "6678b5bf-2eca-4708-bbf4-1f6b15eccd52",
   "metadata": {},
   "source": [
    "## Gist (5)\n",
    "*Upload this work as a GitHub Gist and inform the link to the person in charge during the exam. Only the gist will be evaluated and marked.*"
   ]
  },
  {
   "cell_type": "code",
   "execution_count": null,
   "id": "e2347f91-3d3b-4dea-918b-1826fc8eb2a4",
   "metadata": {},
   "outputs": [],
   "source": []
  }
 ],
 "metadata": {
  "kernelspec": {
   "display_name": "Python 3 (ipykernel)",
   "language": "python",
   "name": "python3"
  },
  "language_info": {
   "codemirror_mode": {
    "name": "ipython",
    "version": 3
   },
   "file_extension": ".py",
   "mimetype": "text/x-python",
   "name": "python",
   "nbconvert_exporter": "python",
   "pygments_lexer": "ipython3",
   "version": "3.12.3"
  }
 },
 "nbformat": 4,
 "nbformat_minor": 5
}
