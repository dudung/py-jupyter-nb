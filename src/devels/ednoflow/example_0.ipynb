{
 "cells": [
  {
   "cell_type": "code",
   "execution_count": 1,
   "id": "d1d019b7-9429-4f49-9c95-938b67a0b638",
   "metadata": {},
   "outputs": [
    {
     "name": "stdout",
     "output_type": "stream",
     "text": [
      "Node(node_id='A', label='City A')\n"
     ]
    }
   ],
   "source": [
    "from ednoflow.core.node import Node\n",
    "\n",
    "city_a = Node(node_id=\"A\", label=\"City A\")\n",
    "print(city_a)\n",
    "\n",
    "# Node(node_id='A', label='City A')"
   ]
  },
  {
   "cell_type": "code",
   "execution_count": 2,
   "id": "5c981f7b-30c2-43ca-a71a-4c84dadc3c51",
   "metadata": {},
   "outputs": [
    {
     "name": "stdout",
     "output_type": "stream",
     "text": [
      "Edge(start_node=B, end_node=C, weight=15.0)\n"
     ]
    }
   ],
   "source": [
    "from ednoflow.core.edge import Edge\n",
    "\n",
    "city_b = Node(node_id=\"B\", label=\"City B\")\n",
    "city_c = Node(node_id=\"C\", label=\"City C\")\n",
    "\n",
    "road_bc = Edge(start_node=city_b, end_node=city_c, weight=15.0)\n",
    "print(road_bc)\n",
    "\n",
    "# Edge(start_node=B, end_node=C, weight=15.0)"
   ]
  },
  {
   "cell_type": "code",
   "execution_count": 3,
   "id": "cadc16e5-3118-46b0-8b06-46c1b888e1f0",
   "metadata": {},
   "outputs": [
    {
     "name": "stdout",
     "output_type": "stream",
     "text": [
      "Network(network_id='net_1', nodes=3, edges=2)\n"
     ]
    }
   ],
   "source": [
    "from ednoflow.core.network import Network\n",
    "\n",
    "road_ab = Edge(start_node=city_a, end_node=city_b, weight=10.0)\n",
    "\n",
    "network = Network(network_id=\"net_1\")\n",
    "network.add_node(city_a)\n",
    "network.add_node(city_b)\n",
    "network.add_node(city_c)\n",
    "network.add_edge(road_ab)\n",
    "network.add_edge(road_bc)\n",
    "print(network)\n",
    "\n",
    "# Network(network_id='net_1', nodes=3, edges=2)"
   ]
  },
  {
   "cell_type": "code",
   "execution_count": 4,
   "id": "42bf37b7-15bb-4959-8948-3ac344034c8e",
   "metadata": {},
   "outputs": [
    {
     "name": "stdout",
     "output_type": "stream",
     "text": [
      "['A', 'C']\n"
     ]
    }
   ],
   "source": [
    "neighbors = network.get_neighbors(\"B\")\n",
    "print([node.node_id for node in neighbors])\n",
    "\n",
    "# ['A', 'C']"
   ]
  },
  {
   "cell_type": "code",
   "execution_count": 5,
   "id": "a9ce5b03-af1b-44f0-baf2-492b6ee9869b",
   "metadata": {},
   "outputs": [
    {
     "name": "stdout",
     "output_type": "stream",
     "text": [
      "Agent(agent_id='Car1', current_edge=(A -> B), position=0.00)\n"
     ]
    }
   ],
   "source": [
    "from ednoflow.core.agent import Agent;\n",
    "\n",
    "car_1 = Agent(agent_id=\"Car1\", current_edge=road_ab)\n",
    "print(car_1)\n",
    "\n",
    "# Agent(agent_id='Car1', current_edge=(A -> B), position=0.00)"
   ]
  },
  {
   "cell_type": "code",
   "execution_count": 6,
   "id": "5579de23-a564-4351-84dd-8796676ccf4a",
   "metadata": {},
   "outputs": [
    {
     "name": "stdout",
     "output_type": "stream",
     "text": [
      "Agent(agent_id='Car1', current_edge=(A -> B), position=0.25)\n"
     ]
    }
   ],
   "source": [
    "car_1.move_along_edge(0.25)\n",
    "print(car_1)\n",
    "\n",
    "# Agent(agent_id='Car1', current_edge=(A -> B), position=0.25)"
   ]
  },
  {
   "cell_type": "code",
   "execution_count": null,
   "id": "1dffe978-e4a6-409b-ae21-f0d0164ad9b2",
   "metadata": {},
   "outputs": [],
   "source": [
    "car_1.transfer_to_edge(road_bc)\n",
    "print(car_1)\n",
    "\n",
    "# Agent(agent_id='Car1', current_edge=(B -> C), position=0.00)"
   ]
  },
  {
   "cell_type": "code",
   "execution_count": null,
   "id": "d092f877-6327-4b3d-951c-d153f8b442de",
   "metadata": {},
   "outputs": [],
   "source": []
  }
 ],
 "metadata": {
  "kernelspec": {
   "display_name": "Python 3 (ipykernel)",
   "language": "python",
   "name": "python3"
  },
  "language_info": {
   "codemirror_mode": {
    "name": "ipython",
    "version": 3
   },
   "file_extension": ".py",
   "mimetype": "text/x-python",
   "name": "python",
   "nbconvert_exporter": "python",
   "pygments_lexer": "ipython3",
   "version": "3.12.3"
  }
 },
 "nbformat": 4,
 "nbformat_minor": 5
}
