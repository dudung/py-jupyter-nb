{
 "cells": [
  {
   "cell_type": "code",
   "execution_count": null,
   "id": "3ba816a4-552d-4ff2-9d3b-801b2f6ea707",
   "metadata": {},
   "outputs": [],
   "source": []
  },
  {
   "cell_type": "code",
   "execution_count": 1,
   "id": "778679c3-8adf-4ad7-afff-17873ee53da9",
   "metadata": {},
   "outputs": [
    {
     "name": "stdout",
     "output_type": "stream",
     "text": [
      "learn to use methods for processing unclear response\n"
     ]
    }
   ],
   "source": [
    "import lumpur.misc.info as info\n",
    "\n",
    "print(info.abbr())"
   ]
  },
  {
   "cell_type": "code",
   "execution_count": null,
   "id": "7d1ebe87-93cb-46f2-9eab-654de54959f8",
   "metadata": {
    "scrolled": true
   },
   "outputs": [],
   "source": []
  }
 ],
 "metadata": {
  "kernelspec": {
   "display_name": "Python 3 (ipykernel)",
   "language": "python",
   "name": "python3"
  },
  "language_info": {
   "codemirror_mode": {
    "name": "ipython",
    "version": 3
   },
   "file_extension": ".py",
   "mimetype": "text/x-python",
   "name": "python",
   "nbconvert_exporter": "python",
   "pygments_lexer": "ipython3",
   "version": "3.12.3"
  }
 },
 "nbformat": 4,
 "nbformat_minor": 5
}
