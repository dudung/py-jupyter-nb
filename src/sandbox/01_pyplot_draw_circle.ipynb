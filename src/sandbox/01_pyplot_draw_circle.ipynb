{
 "cells": [
  {
   "cell_type": "code",
   "execution_count": 1,
   "id": "57a9d122-c050-4d80-8b0f-5ebbc9f6b74e",
   "metadata": {},
   "outputs": [],
   "source": [
    "def data_circle(xo=3, yo=-1, R=2, N=72):\n",
    "    dq = 2 * math.pi / N\n",
    "    x = []\n",
    "    y = []\n",
    "    for i in range(N):\n",
    "        x.append(xo + R * math.cos(i * dq))\n",
    "        y.append(yo + R * math.sin(i * dq))\n",
    "    return x, y\n",
    "\n",
    "def data_ticks(x, N=4):\n",
    "    xmax = max(x)\n",
    "    xmin = min(x)\n",
    "    dx = (xmax - xmin) / N\n",
    "    r = range(0, N+1)\n",
    "    xticks = [xmin + i*dx for i in r]\n",
    "    return xticks"
   ]
  },
  {
   "cell_type": "code",
   "execution_count": 2,
   "id": "f4dcd7f3-b948-4895-abcb-830d9e951b3a",
   "metadata": {},
   "outputs": [
    {
     "data": {
      "image/png": "[encoded data removed]",
      "text/plain": [
       "<Figure size 640x480 with 1 Axes>"
      ]
     },
     "metadata": {},
     "output_type": "display_data"
    }
   ],
   "source": [
    "import matplotlib.pyplot as plt\n",
    "import math\n",
    "\n",
    "x, y = data_circle()\n",
    "xticks = data_ticks(x)\n",
    "yticks = data_ticks(y)\n",
    "\n",
    "plt.gca().set_aspect('equal')\n",
    "plt.grid()\n",
    "plt.xlabel('x')\n",
    "plt.ylabel('y')\n",
    "plt.xticks(xticks)\n",
    "plt.yticks(yticks)\n",
    "plt.plot(x, y, '.')\n",
    "plt.show()"
   ]
  },
  {
   "cell_type": "code",
   "execution_count": null,
   "id": "3ef34653-f0f6-45ec-b0d3-fa890c42a5e9",
   "metadata": {},
   "outputs": [],
   "source": []
  }
 ],
 "metadata": {
  "kernelspec": {
   "display_name": "Python 3 (ipykernel)",
   "language": "python",
   "name": "python3"
  },
  "language_info": {
   "codemirror_mode": {
    "name": "ipython",
    "version": 3
   },
   "file_extension": ".py",
   "mimetype": "text/x-python",
   "name": "python",
   "nbconvert_exporter": "python",
   "pygments_lexer": "ipython3",
   "version": "3.12.9"
  }
 },
 "nbformat": 4,
 "nbformat_minor": 5
}
