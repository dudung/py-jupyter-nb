{
 "cells": [
  {
   "cell_type": "code",
   "execution_count": 1,
   "id": "57a9d122-c050-4d80-8b0f-5ebbc9f6b74e",
   "metadata": {},
   "outputs": [],
   "source": [
    "def circle_xy(\n",
    "    math,\n",
    "    center=(0,0), radius=2,\n",
    "    num_points=72\n",
    "):\n",
    "    import math\n",
    "\n",
    "    xo = center[0]\n",
    "    yo = center[1]\n",
    "    \n",
    "    dq = 2 * math.pi / num_points\n",
    "    x = []\n",
    "    y = []\n",
    "    for i in range(num_points):\n",
    "        x.append(xo + radius * math.cos(i * dq))\n",
    "        y.append(yo + radius * math.sin(i * dq))\n",
    "    return x, y\n",
    "\n",
    "def ticks(x, num_points=4):\n",
    "    xmax = max(x)\n",
    "    xmin = min(x)\n",
    "    dx = (xmax - xmin) / num_points\n",
    "    r = range(0, num_points + 1)\n",
    "    xticks = [xmin + i*dx for i in r]\n",
    "    return xticks"
   ]
  },
  {
   "cell_type": "code",
   "execution_count": 2,
   "id": "a59ad754-8641-4bd9-80b4-1f9cc6b14be1",
   "metadata": {},
   "outputs": [],
   "source": [
    "def plot_xy(\n",
    "    plt,\n",
    "    x=[], y=[],\n",
    "    xticks=[], yticks=[],\n",
    "    xlabel='x', ylabel='y',\n",
    "):\n",
    "    plt.gca().set_aspect('equal')\n",
    "    plt.grid()\n",
    "    plt.xlabel(xlabel)\n",
    "    plt.ylabel(ylabel)\n",
    "    plt.xticks(xticks)\n",
    "    plt.yticks(yticks)\n",
    "    plt.plot(x, y, '.')\n",
    "    plt.show()"
   ]
  },
  {
   "cell_type": "code",
   "execution_count": 3,
   "id": "f4dcd7f3-b948-4895-abcb-830d9e951b3a",
   "metadata": {},
   "outputs": [
    {
     "data": {
      "image/png": "[encoded data removed]",
      "text/plain": [
       "<Figure size 640x480 with 1 Axes>"
      ]
     },
     "metadata": {},
     "output_type": "display_data"
    }
   ],
   "source": [
    "import matplotlib.pyplot as plt\n",
    "import math\n",
    "\n",
    "x, y = circle_xy(math)\n",
    "xticks = ticks(x)\n",
    "yticks = ticks(y)\n",
    "\n",
    "plot_xy(plt, x, y, xticks, yticks)\n"
   ]
  },
  {
   "cell_type": "code",
   "execution_count": null,
   "id": "2c99ed27-cf05-42fd-8514-123e0f584f32",
   "metadata": {},
   "outputs": [],
   "source": []
  }
 ],
 "metadata": {
  "kernelspec": {
   "display_name": "Python 3 (ipykernel)",
   "language": "python",
   "name": "python3"
  },
  "language_info": {
   "codemirror_mode": {
    "name": "ipython",
    "version": 3
   },
   "file_extension": ".py",
   "mimetype": "text/x-python",
   "name": "python",
   "nbconvert_exporter": "python",
   "pygments_lexer": "ipython3",
   "version": "3.12.9"
  }
 },
 "nbformat": 4,
 "nbformat_minor": 5
}
