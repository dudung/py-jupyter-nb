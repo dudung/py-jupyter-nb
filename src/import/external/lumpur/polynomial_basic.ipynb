{
 "cells": [
  {
   "cell_type": "markdown",
   "id": "20663aee-2ad3-4e64-b50f-b678774cf09f",
   "metadata": {},
   "source": [
    "## 15-dec-2024"
   ]
  },
  {
   "cell_type": "code",
   "execution_count": 6,
   "id": "b113e906-67fd-4a2b-a208-6aa1db3e9559",
   "metadata": {},
   "outputs": [
    {
     "name": "stdout",
     "output_type": "stream",
     "text": [
      "6 - 5x + x^2\n",
      "\n",
      "x y\n",
      "0 6\n",
      "1 2\n",
      "2 0\n",
      "3 0\n",
      "4 2\n",
      "5 6\n"
     ]
    }
   ],
   "source": [
    "from lumpur.num.polynomial import Polynomial\n",
    "\n",
    "p = Polynomial([6, -5, 1])\n",
    "print(p)\n",
    "\n",
    "print()\n",
    "\n",
    "print('x y')\n",
    "for x in range(0, 6):\n",
    "    y = p(x)\n",
    "    print(x, y)"
   ]
  },
  {
   "cell_type": "code",
   "execution_count": 8,
   "id": "9d0d8940-2c4c-4d12-82b6-364c90c12e5b",
   "metadata": {},
   "outputs": [
    {
     "name": "stdout",
     "output_type": "stream",
     "text": [
      "y = 1 - 2x + 3x^2 - 4x^3 + 5x^4 + 6x^5\n",
      "dy/dx = -2 + 6x - 12x^2 + 20x^3 + 30x^4\n"
     ]
    }
   ],
   "source": [
    "p = Polynomial([1, -2, 3, -4, 5, 6])\n",
    "print('y =',p)\n",
    "dp = p.differentiate()\n",
    "print('dy/dx =', dp)"
   ]
  },
  {
   "cell_type": "code",
   "execution_count": 1,
   "id": "f9153f4d-46f3-4981-86d5-84f692326ef4",
   "metadata": {},
   "outputs": [
    {
     "name": "stdout",
     "output_type": "stream",
     "text": [
      "y2 = -2 + 6x - 12x^2 + 20x^3 + 30x^4\n",
      "int y2 dx= 100 - 2.0x + 3.0x^2 - 4.0x^3 + 5.0x^4 + 6.0x^5\n"
     ]
    }
   ],
   "source": [
    "from lumpur.num.polynomial import Polynomial\n",
    "\n",
    "p2 = Polynomial([-2, 6, -12, 20, 30])\n",
    "print('y2 =', p2)\n",
    "ip2 = p2.integrate(c=100)\n",
    "print('int y2 dx=', ip2)"
   ]
  },
  {
   "cell_type": "code",
   "execution_count": 2,
   "id": "0560e384-b466-48dd-b6c3-5f1b13723de5",
   "metadata": {},
   "outputs": [
    {
     "name": "stdout",
     "output_type": "stream",
     "text": [
      "y1 = 1 + 2x + 3x^2\n",
      "y2 = -2x + 5x^2 + 6x^3 + 9x^4\n",
      "y3 = 1 + 8x^2 + 6x^3 + 9x^4\n"
     ]
    }
   ],
   "source": [
    "from lumpur.num.polynomial import Polynomial\n",
    "\n",
    "p1 = Polynomial([1, 2, 3])\n",
    "print('y1 =', p1)\n",
    "p2 = Polynomial([0, -2, 5, 6, 9])\n",
    "print('y2 =', p2)\n",
    "p3 = p1 + p2\n",
    "print('y3 =', p3)"
   ]
  },
  {
   "cell_type": "code",
   "execution_count": 1,
   "id": "547e19cf-e1cf-464f-8f60-8e4d865144bc",
   "metadata": {},
   "outputs": [
    {
     "name": "stdout",
     "output_type": "stream",
     "text": [
      "y3 = 1 + 2x + 3x^2 + 4x^3 + 5x^4\n",
      "y4 = 2x + 2x^2 + 4x^3 - 8x^4\n",
      "y5 = 1 + x^2 + 13x^4\n"
     ]
    }
   ],
   "source": [
    "from lumpur.num.polynomial import Polynomial\n",
    "\n",
    "p3 = Polynomial([1, 2, 3, 4, 5])\n",
    "print('y3 =', p3)\n",
    "p4 = Polynomial([0, 2, 2, 4, -8])\n",
    "print('y4 =', p4)\n",
    "p5 = p3 - p4\n",
    "print('y5 =', p5)"
   ]
  },
  {
   "cell_type": "code",
   "execution_count": 1,
   "id": "304dba74-acfe-4d9f-9f09-79820c72b992",
   "metadata": {},
   "outputs": [
    {
     "name": "stdout",
     "output_type": "stream",
     "text": [
      "y1 = 1 - 2x + 3x^2\n",
      "y2 = -2 + x^1\n",
      "y3 = -2 + 5x - 8x^2 + 3x^3\n"
     ]
    }
   ],
   "source": [
    "from lumpur.num.polynomial import Polynomial\n",
    "\n",
    "p1 = Polynomial([1, -2, 3])\n",
    "print('y1 =', p1)\n",
    "p2 = Polynomial([-2, 1])\n",
    "print('y2 =', p2)\n",
    "p3 = p1 * p2\n",
    "print('y3 =', p3)"
   ]
  },
  {
   "cell_type": "code",
   "execution_count": null,
   "id": "ba10d832-c6a9-4fb6-9f24-4b26024396c2",
   "metadata": {},
   "outputs": [],
   "source": []
  }
 ],
 "metadata": {
  "kernelspec": {
   "display_name": "Python 3 (ipykernel)",
   "language": "python",
   "name": "python3"
  },
  "language_info": {
   "codemirror_mode": {
    "name": "ipython",
    "version": 3
   },
   "file_extension": ".py",
   "mimetype": "text/x-python",
   "name": "python",
   "nbconvert_exporter": "python",
   "pygments_lexer": "ipython3",
   "version": "3.12.3"
  }
 },
 "nbformat": 4,
 "nbformat_minor": 5
}
