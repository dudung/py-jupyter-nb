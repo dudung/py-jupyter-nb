{
 "cells": [
  {
   "cell_type": "code",
   "execution_count": 2,
   "id": "a14e7b05-d997-4170-a5fd-5c7d00f5d329",
   "metadata": {},
   "outputs": [
    {
     "name": "stdout",
     "output_type": "stream",
     "text": [
      "[[0, 0, 0, 0, 0, 0], [0, 0, 0, 0, 0, 0], [0, 0, 0, 0, 0, 0], [0, 0, 0, 0, 0, 0]]\n",
      "000000\n",
      "000000\n",
      "000000\n",
      "000000\n"
     ]
    }
   ],
   "source": [
    "import lumpur.grid.utils as lgu\n",
    "\n",
    "m = lgu.create_grid(4, 6)\n",
    "print(m)\n",
    "\n",
    "s = lgu.str_grid(m)\n",
    "print(s)"
   ]
  },
  {
   "cell_type": "code",
   "execution_count": 3,
   "id": "821fbc15-2ce4-4452-8bf3-10955d572855",
   "metadata": {},
   "outputs": [
    {
     "name": "stdout",
     "output_type": "stream",
     "text": [
      "Help on function str_grid in module lumpur.grid.utils:\n",
      "\n",
      "str_grid(grid, char_map=None)\n",
      "    Generate string representation of the grid customized with char_map.\n",
      "\n",
      "    Args:\n",
      "    -----\n",
      "    grid : list of list of int\n",
      "        A 2D list (grid) containing numerical values.\n",
      "\n",
      "    char_map : dict, optional\n",
      "        A dictionary mapping numerical values to their characters representation. If not provided, a default mapping will be used for values 0-9 (mapped to '0'-'9'), 10-35 (mapped to 'A'-'Z'), and others mapped to '#'.\n",
      "\n",
      "    Returns:\n",
      "    str\n",
      "        A single string representing the grid with rows separated by newlines. Each cell is represented by a single character according to the `char_map` mapping.\n",
      "\n",
      "None\n"
     ]
    }
   ],
   "source": [
    "print(help(lgu.str_grid))"
   ]
  },
  {
   "cell_type": "code",
   "execution_count": null,
   "id": "43eef08d-ff34-4d12-9208-a7fef58794ea",
   "metadata": {},
   "outputs": [],
   "source": []
  }
 ],
 "metadata": {
  "kernelspec": {
   "display_name": "Python 3 (ipykernel)",
   "language": "python",
   "name": "python3"
  },
  "language_info": {
   "codemirror_mode": {
    "name": "ipython",
    "version": 3
   },
   "file_extension": ".py",
   "mimetype": "text/x-python",
   "name": "python",
   "nbconvert_exporter": "python",
   "pygments_lexer": "ipython3",
   "version": "3.12.3"
  }
 },
 "nbformat": 4,
 "nbformat_minor": 5
}
