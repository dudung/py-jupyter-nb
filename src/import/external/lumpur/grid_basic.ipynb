{
 "cells": [
  {
   "cell_type": "markdown",
   "id": "fc327964-9c7d-4cd6-aed8-1532f9119f98",
   "metadata": {},
   "source": [
    "## 14-dec-2024"
   ]
  },
  {
   "cell_type": "code",
   "execution_count": null,
   "id": "821fbc15-2ce4-4452-8bf3-10955d572855",
   "metadata": {},
   "outputs": [],
   "source": [
    "import lumpur.grid.walls as lgw\n",
    "\n",
    "help(lgw.add_surrounding_walls)"
   ]
  },
  {
   "cell_type": "code",
   "execution_count": 1,
   "id": "43eef08d-ff34-4d12-9208-a7fef58794ea",
   "metadata": {},
   "outputs": [
    {
     "name": "stdout",
     "output_type": "stream",
     "text": [
      "00000000000000000000\n",
      "00000000000000000000\n",
      "00000000000000000000\n",
      "00000000000000000000\n",
      "00000000000000000000\n",
      "00000000000000000000\n",
      "00000000000000000000\n",
      "00000000000000000000\n",
      "00000000000000000000\n",
      "00000000000000000000\n"
     ]
    }
   ],
   "source": [
    "import lumpur.grid.utils as lgu\n",
    "import lumpur.grid.walls as lgw\n",
    "w = lgu.create_grid(10, 20)\n",
    "s = lgu.str_grid(w)\n",
    "print(s)"
   ]
  },
  {
   "cell_type": "code",
   "execution_count": 3,
   "id": "9cd39d9d-ea0e-4f1e-8463-3d6bb5ed436b",
   "metadata": {},
   "outputs": [
    {
     "name": "stdout",
     "output_type": "stream",
     "text": [
      "####################\n",
      "#000000000000000000#\n",
      "#000000000000000000#\n",
      "#000000000000000000#\n",
      "#000000000000000000#\n",
      "#000000000000000000#\n",
      "#000000000000000000#\n",
      "#000000000000000000#\n",
      "#000000000000000000#\n",
      "####################\n"
     ]
    }
   ],
   "source": [
    "lgw.add_surrounding_walls(w, wall=-1)\n",
    "s = lgu.str_grid(w)\n",
    "print(s)"
   ]
  },
  {
   "cell_type": "code",
   "execution_count": null,
   "id": "23aa92dc-a9be-4f87-951e-b30fa464398e",
   "metadata": {},
   "outputs": [],
   "source": []
  }
 ],
 "metadata": {
  "kernelspec": {
   "display_name": "Python 3 (ipykernel)",
   "language": "python",
   "name": "python3"
  },
  "language_info": {
   "codemirror_mode": {
    "name": "ipython",
    "version": 3
   },
   "file_extension": ".py",
   "mimetype": "text/x-python",
   "name": "python",
   "nbconvert_exporter": "python",
   "pygments_lexer": "ipython3",
   "version": "3.12.3"
  }
 },
 "nbformat": 4,
 "nbformat_minor": 5
}
