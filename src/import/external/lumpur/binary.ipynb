{
 "cells": [
  {
   "cell_type": "markdown",
   "id": "f703ecf6-8f60-4085-86e5-6d6eb9a8cc2c",
   "metadata": {},
   "source": [
    "## binary classification"
   ]
  },
  {
   "cell_type": "code",
   "execution_count": 4,
   "id": "c1df82ab-80de-4073-8124-b48bb0c84442",
   "metadata": {},
   "outputs": [
    {
     "name": "stdout",
     "output_type": "stream",
     "text": [
      "      x1   x2  y\n",
      "0    0.0  0.0  0\n",
      "1    0.1  0.0  1\n",
      "2    0.2  0.0  1\n",
      "3    0.3  0.0  1\n",
      "4    0.4  0.0  1\n",
      "..   ...  ... ..\n",
      "116  0.6  1.0  0\n",
      "117  0.7  1.0  0\n",
      "118  0.8  1.0  0\n",
      "119  0.9  1.0  0\n",
      "120  1.0  1.0  0\n",
      "\n",
      "[121 rows x 3 columns]\n"
     ]
    }
   ],
   "source": [
    "import lumpur.datasets.clasdata as ldc\n",
    "\n",
    "coeffs = [[0], [1, -1]]\n",
    "df = ldc.binary(coeffs)\n"
   ]
  },
  {
   "cell_type": "code",
   "execution_count": null,
   "id": "a8323589-78da-4458-97df-7d38b0e0810f",
   "metadata": {},
   "outputs": [],
   "source": []
  }
 ],
 "metadata": {
  "kernelspec": {
   "display_name": "Python 3 (ipykernel)",
   "language": "python",
   "name": "python3"
  },
  "language_info": {
   "codemirror_mode": {
    "name": "ipython",
    "version": 3
   },
   "file_extension": ".py",
   "mimetype": "text/x-python",
   "name": "python",
   "nbconvert_exporter": "python",
   "pygments_lexer": "ipython3",
   "version": "3.12.3"
  }
 },
 "nbformat": 4,
 "nbformat_minor": 5
}
