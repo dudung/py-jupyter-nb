{
 "cells": [
  {
   "cell_type": "code",
   "execution_count": 1,
   "id": "a07a13a6-aaf8-4db0-8e20-e970e84bd5cf",
   "metadata": {},
   "outputs": [
    {
     "name": "stdout",
     "output_type": "stream",
     "text": [
      "(x1, x2), a, b\n",
      "(0.000, 1.000), 0.000, 2.000\n",
      "(1.000, 2.000), 1.000, 1.000\n",
      "(2.000, 3.000), -3.000, 3.000\n",
      "(3.000, 4.000), -6.000, 4.000\n",
      "(4.000, 5.000), -10.000, 5.000\n"
     ]
    }
   ],
   "source": [
    "from lumpur.fit.interpolation.linear import Linear\n",
    "\n",
    "x = [0, 1, 2, 3, 4, 5]\n",
    "y = [0, 2, 3, 6, 10, 15]\n",
    "linint = Linear(x, y)\n",
    "print(linint)"
   ]
  },
  {
   "cell_type": "code",
   "execution_count": 2,
   "id": "c56ecec7-da6b-49c7-b2c4-c50e8be3003a",
   "metadata": {},
   "outputs": [
    {
     "name": "stdout",
     "output_type": "stream",
     "text": [
      "11 11\n"
     ]
    }
   ],
   "source": [
    "xx = [0, 0.5, 1, 1.5, 2, 2.5, 3, 3.5, 4, 4.5, 5]\n",
    "yy = linint.interpolate(xx)\n",
    "print(len(xx), len(yy))"
   ]
  },
  {
   "cell_type": "code",
   "execution_count": 3,
   "id": "0ce94e8a-2457-4b40-ad4c-9e31bbc6ec24",
   "metadata": {},
   "outputs": [
    {
     "name": "stdout",
     "output_type": "stream",
     "text": [
      "0 0.0\n",
      "0.5 1.0\n",
      "1 2.0\n",
      "1.5 2.5\n",
      "2 3.0\n",
      "2.5 4.5\n",
      "3 6.0\n",
      "3.5 8.0\n",
      "4 10.0\n",
      "4.5 12.5\n",
      "5 15.0\n"
     ]
    }
   ],
   "source": [
    "for x, y in zip(xx, yy):\n",
    "    print(x, y)"
   ]
  },
  {
   "cell_type": "code",
   "execution_count": null,
   "id": "159752d1-55fa-47be-8ba1-8cf3f4c77cba",
   "metadata": {},
   "outputs": [],
   "source": []
  }
 ],
 "metadata": {
  "kernelspec": {
   "display_name": "Python 3 (ipykernel)",
   "language": "python",
   "name": "python3"
  },
  "language_info": {
   "codemirror_mode": {
    "name": "ipython",
    "version": 3
   },
   "file_extension": ".py",
   "mimetype": "text/x-python",
   "name": "python",
   "nbconvert_exporter": "python",
   "pygments_lexer": "ipython3",
   "version": "3.12.3"
  }
 },
 "nbformat": 4,
 "nbformat_minor": 5
}
