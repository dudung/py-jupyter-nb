{
 "cells": [
  {
   "cell_type": "markdown",
   "id": "841f60cf-d972-426a-82e4-f2433eb38f5f",
   "metadata": {},
   "source": [
    "$$\n",
    "\\begin{array}{rcl}\n",
    "c_x & = & a_x + b_x, \\newline\n",
    "c_y & = & a_y + b_y, \\newline\n",
    "c_z & = & a_z + b_z.\n",
    "\\end{array}\n",
    "$$"
   ]
  },
  {
   "cell_type": "code",
   "execution_count": 21,
   "id": "1ec21610-9c56-4274-b2b1-ebf12ff47a59",
   "metadata": {},
   "outputs": [
    {
     "name": "stdout",
     "output_type": "stream",
     "text": [
      "    a = { \"x\": 1, \"y\": 2, \"z\": 3 }\n",
      "    b = { \"x\": 1, \"y\": 1, \"z\": 1 }\n",
      "a + b = { \"x\": 2, \"y\": 3, \"z\": 4 }\n"
     ]
    }
   ],
   "source": [
    "from lumpur.vectors.vect3 import Vect3\n",
    "\n",
    "a = Vect3(1, 2, 3)\n",
    "b = Vect3(1, 1, 1)\n",
    "c = a + b\n",
    "\n",
    "print('    a =', a)\n",
    "print('    b =', b)\n",
    "print('a + b =', c)"
   ]
  },
  {
   "cell_type": "markdown",
   "id": "2d207b2e-902d-4060-9575-eade825f7d9b",
   "metadata": {},
   "source": [
    "$$\n",
    "\\begin{array}{rcl}\n",
    "c_x & = & a_y \\ b_z - a_z \\ b_y, \\newline\n",
    "c_y & = & a_z \\ b_x - a_x \\ b_z, \\newline\n",
    "c_z & = & a_x \\ b_y - a_y \\ b_x.\n",
    "\\end{array}\n",
    "$$"
   ]
  },
  {
   "cell_type": "code",
   "execution_count": 19,
   "id": "f834c26f-7a05-4b76-9b37-c2f07863691a",
   "metadata": {},
   "outputs": [
    {
     "name": "stdout",
     "output_type": "stream",
     "text": [
      "    a = { \"x\": 1, \"y\": 7, \"z\": 3 }\n",
      "    b = { \"x\": 3, \"y\": 2, \"z\": 4 }\n",
      "a x b = { \"x\": 22, \"y\": 5, \"z\": -19 }\n"
     ]
    }
   ],
   "source": [
    "from lumpur.vectors.vect3 import Vect3\n",
    "\n",
    "a = Vect3(1, 7, 3)\n",
    "b = Vect3(3, 2, 4)\n",
    "d = a * b\n",
    "\n",
    "print('    a =', a)\n",
    "print('    b =', b)\n",
    "print('a x b =', d)\n"
   ]
  },
  {
   "cell_type": "code",
   "execution_count": null,
   "id": "168e4aef-d968-4249-8884-d80af25a85f0",
   "metadata": {},
   "outputs": [],
   "source": []
  }
 ],
 "metadata": {
  "kernelspec": {
   "display_name": "Python 3 (ipykernel)",
   "language": "python",
   "name": "python3"
  },
  "language_info": {
   "codemirror_mode": {
    "name": "ipython",
    "version": 3
   },
   "file_extension": ".py",
   "mimetype": "text/x-python",
   "name": "python",
   "nbconvert_exporter": "python",
   "pygments_lexer": "ipython3",
   "version": "3.12.3"
  }
 },
 "nbformat": 4,
 "nbformat_minor": 5
}
