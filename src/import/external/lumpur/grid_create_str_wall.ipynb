{
 "cells": [
  {
   "cell_type": "markdown",
   "id": "fc327964-9c7d-4cd6-aed8-1532f9119f98",
   "metadata": {},
   "source": [
    "## 14-dec-2024"
   ]
  },
  {
   "cell_type": "code",
   "execution_count": 1,
   "id": "821fbc15-2ce4-4452-8bf3-10955d572855",
   "metadata": {},
   "outputs": [
    {
     "name": "stdout",
     "output_type": "stream",
     "text": [
      "Help on function add_surrounding_walls in module lumpur.grid.walls:\n",
      "\n",
      "add_surrounding_walls(grid, wall=-1)\n",
      "    Add walls around the edges of the grid.\n",
      "\n",
      "    Args :\n",
      "    ------\n",
      "    grid : list[list[int]]\n",
      "        The grid to modify.\n",
      "    wall : int, optional\n",
      "        The value to assign to the wall in the grid.\n",
      "        Defaults to -1.\n",
      "\n",
      "    Returns:\n",
      "    --------\n",
      "    None : None\n",
      "        This function modifies the grid in-place and\n",
      "        does not return any value.\n",
      "\n"
     ]
    }
   ],
   "source": [
    "import lumpur.grid.walls as lgw\n",
    "\n",
    "help(lgw.add_surrounding_walls)"
   ]
  },
  {
   "cell_type": "code",
   "execution_count": 2,
   "id": "43eef08d-ff34-4d12-9208-a7fef58794ea",
   "metadata": {},
   "outputs": [
    {
     "name": "stdout",
     "output_type": "stream",
     "text": [
      "00000000000000000000\n",
      "00000000000000000000\n",
      "00000000000000000000\n",
      "00000000000000000000\n",
      "00000000000000000000\n",
      "00000000000000000000\n",
      "00000000000000000000\n",
      "00000000000000000000\n",
      "00000000000000000000\n",
      "00000000000000000000\n"
     ]
    }
   ],
   "source": [
    "import lumpur.grid.utils as lgu\n",
    "import lumpur.grid.walls as lgw\n",
    "w = lgu.create_grid(10, 20)\n",
    "s = lgu.str_grid(w)\n",
    "print(s)"
   ]
  },
  {
   "cell_type": "code",
   "execution_count": 3,
   "id": "9cd39d9d-ea0e-4f1e-8463-3d6bb5ed436b",
   "metadata": {},
   "outputs": [
    {
     "name": "stdout",
     "output_type": "stream",
     "text": [
      "####################\n",
      "#000000000000000000#\n",
      "#000000000000000000#\n",
      "#000000000000000000#\n",
      "#000000000000000000#\n",
      "#000000000000000000#\n",
      "#000000000000000000#\n",
      "#000000000000000000#\n",
      "#000000000000000000#\n",
      "####################\n"
     ]
    }
   ],
   "source": [
    "lgw.add_surrounding_walls(w, wall=-1)\n",
    "s = lgu.str_grid(w)\n",
    "print(s)"
   ]
  },
  {
   "cell_type": "markdown",
   "id": "caf7bf38-dacc-479b-a51c-817eaa391764",
   "metadata": {},
   "source": [
    "## 15-dec-2024"
   ]
  },
  {
   "cell_type": "code",
   "execution_count": 4,
   "id": "23aa92dc-a9be-4f87-951e-b30fa464398e",
   "metadata": {},
   "outputs": [
    {
     "name": "stdout",
     "output_type": "stream",
     "text": [
      "2222222222222222222#\n",
      "#000000000000000000#\n",
      "#000000000000000000#\n",
      "#000000000000000000#\n",
      "#000000000000000000#\n",
      "#000000000000000000#\n",
      "#000000000000000000#\n",
      "#000000000000000000#\n",
      "#000000000000000000#\n",
      "####################\n"
     ]
    }
   ],
   "source": [
    "lgw.add_wall(w, (0,0), (0, 18), wall=2)\n",
    "s = lgu.str_grid(w)\n",
    "print(s)"
   ]
  },
  {
   "cell_type": "code",
   "execution_count": 5,
   "id": "44b17c9b-754d-4359-beda-a937a989132c",
   "metadata": {},
   "outputs": [
    {
     "name": "stdout",
     "output_type": "stream",
     "text": [
      "2222222222222222222#\n",
      "#000000000000000000#\n",
      "#000000000000000000#\n",
      "#00AAAAAAAA00000000#\n",
      "#000000000000000000#\n",
      "#000000000000000000#\n",
      "#000000000000000000#\n",
      "#000000000000000000#\n",
      "#000000000000000000#\n",
      "####################\n"
     ]
    }
   ],
   "source": [
    "lgw.add_wall(w, (3,3), (3, 10), wall=10, orient='horiz')\n",
    "s = lgu.str_grid(w)\n",
    "print(s)"
   ]
  },
  {
   "cell_type": "code",
   "execution_count": 7,
   "id": "186ce276-55ec-46bc-aa41-c4493b76c93f",
   "metadata": {},
   "outputs": [
    {
     "name": "stdout",
     "output_type": "stream",
     "text": [
      "#  #  #  #  #  #  #  #  #  #  #  #  #  #  #  #  #  #  #  #\n",
      "#  0  0  0  0  0  0  0  0  0  0  0  0  0  0  0  0  0  0  #\n",
      "#  0  0  0  0  0  0  0  0  0  0  0  0  0  0  0  0  0  0  #\n",
      "#  0  0  B  A  A  A  A  A  A  A  0  0  0  0  0  0  0  0  #\n",
      "#  0  0  B  0  0  0  0  0  0  0  0  0  0  0  0  0  0  0  #\n",
      "#  0  0  B  0  0  0  0  0  0  0  0  0  0  0  0  0  0  0  #\n",
      "#  0  0  B  0  0  0  0  0  0  0  0  0  0  0  0  0  0  0  #\n",
      "#  0  0  B  0  0  0  0  0  0  0  0  0  0  0  0  0  0  0  #\n",
      "#  0  0  B  0  0  0  0  0  0  0  0  0  0  0  0  0  0  0  #\n",
      "#  0  0  0  0  0  0  0  0  0  0  0  0  0  0  0  0  0  0  #\n",
      "#  0  0  0  0  0  0  0  0  0  0  0  0  0  0  0  0  0  0  #\n",
      "#  0  0  0  0  0  0  0  0  0  0  0  0  0  0  0  0  0  0  #\n",
      "#  0  0  0  0  0  0  0  0  0  0  0  0  0  0  0  0  0  0  #\n",
      "#  0  0  0  0  0  0  0  0  0  0  0  0  0  0  0  0  0  0  #\n",
      "#  0  0  0  0  0  0  0  0  0  0  0  0  0  0  0  0  0  0  #\n",
      "#  0  0  0  0  0  0  0  0  0  0  0  0  0  0  0  0  0  0  #\n",
      "#  0  0  0  0  0  0  0  0  0  0  0  0  0  0  0  0  0  0  #\n",
      "#  0  0  0  0  0  0  0  0  0  0  0  0  0  0  0  0  0  0  #\n",
      "#  0  0  0  0  0  0  0  0  0  0  0  0  0  0  0  0  0  0  #\n",
      "#  #  #  #  #  #  #  #  #  #  #  #  #  #  #  #  #  #  #  #\n"
     ]
    }
   ],
   "source": [
    "import lumpur.grid.utils as lgu\n",
    "import lumpur.grid.walls as lgw\n",
    "\n",
    "w = lgu.create_grid(20, 20)\n",
    "lgw.add_surrounding_walls(w, wall=-1)\n",
    "lgw.add_wall(w, (3,3), (3, 10), wall=10, orient='horiz')\n",
    "lgw.add_wall(w, (3,3), (8, 3), wall=11, orient='vert')\n",
    "s = lgu.str_grid(w, hsep='  ')\n",
    "print(s)"
   ]
  },
  {
   "cell_type": "code",
   "execution_count": 10,
   "id": "64bbe224-9418-4492-874d-cf2d0f92d5b8",
   "metadata": {},
   "outputs": [
    {
     "name": "stdout",
     "output_type": "stream",
     "text": [
      "#  #  #  #  #  #  #  #  #  #  #  #  #  #  #  #  #  #  #  #\n",
      "#  ·  ·  ·  ·  ·  ·  ·  ·  ·  ·  ·  ·  ·  ·  ·  ·  ·  ·  #\n",
      "#  ·  ·  ·  ·  ·  ·  ·  ·  ·  ·  ·  ·  ·  ·  ·  ·  ·  ·  #\n",
      "#  ·  ·  B  A  A  A  A  A  A  A  ·  ·  ·  ·  ·  ·  ·  ·  #\n",
      "#  ·  ·  B  ·  ·  ·  ·  ·  ·  ·  ·  ·  ·  ·  ·  ·  ·  ·  #\n",
      "#  ·  ·  B  ·  ·  ·  ·  ·  ·  ·  ·  ·  ·  ·  ·  ·  ·  ·  #\n",
      "#  ·  ·  B  ·  ·  ·  ·  ·  ·  ·  ·  ·  ·  ·  ·  ·  ·  ·  #\n",
      "#  ·  ·  B  ·  ·  ·  ·  ·  ·  ·  ·  ·  ·  ·  ·  ·  ·  ·  #\n",
      "#  ·  ·  B  ·  ·  ·  ·  ·  ·  ·  ·  ·  ·  ·  ·  ·  ·  ·  #\n",
      "#  ·  ·  ·  ·  ·  ·  ·  ·  ·  ·  ·  ·  ·  ·  ·  ·  ·  ·  #\n",
      "#  ·  ·  ·  ·  ·  ·  ·  ·  ·  ·  ·  ·  ·  ·  ·  ·  ·  ·  #\n",
      "#  ·  ·  ·  ·  ·  ·  ·  ·  ·  ·  ·  ·  ·  ·  ·  ·  ·  ·  #\n",
      "#  ·  ·  ·  ·  ·  ·  ·  ·  ·  ·  ·  ·  ·  ·  ·  ·  ·  ·  #\n",
      "#  ·  ·  ·  ·  ·  ·  ·  ·  ·  ·  ·  ·  ·  ·  ·  ·  ·  ·  #\n",
      "#  ·  ·  ·  ·  ·  ·  ·  ·  ·  ·  ·  ·  ·  ·  ·  ·  ·  ·  #\n",
      "#  ·  ·  ·  ·  ·  ·  ·  ·  ·  ·  ·  ·  ·  ·  ·  ·  ·  ·  #\n",
      "#  ·  ·  ·  ·  ·  ·  ·  ·  ·  ·  ·  ·  ·  ·  ·  ·  ·  ·  #\n",
      "#  ·  ·  ·  ·  ·  ·  ·  ·  ·  ·  ·  ·  ·  ·  ·  ·  ·  ·  #\n",
      "#  ·  ·  ·  ·  ·  ·  ·  ·  ·  ·  ·  ·  ·  ·  ·  ·  ·  ·  #\n",
      "#  #  #  #  #  #  #  #  #  #  #  #  #  #  #  #  #  #  #  #\n"
     ]
    }
   ],
   "source": [
    "import lumpur.grid.utils as lgu\n",
    "import lumpur.grid.walls as lgw\n",
    "\n",
    "w = lgu.create_grid(20, 20)\n",
    "lgw.add_surrounding_walls(w, wall=-1)\n",
    "lgw.add_wall(w, (3,3), (3, 10), wall=10, orient='horiz')\n",
    "lgw.add_wall(w, (3,3), (8, 3), wall=11, orient='vert')\n",
    "s = lgu.str_grid(w, hsep='  ', char_map={0: '·'})\n",
    "print(s)"
   ]
  },
  {
   "cell_type": "code",
   "execution_count": null,
   "id": "4bd72960-b35a-4a42-819a-b51b8c8c93bd",
   "metadata": {},
   "outputs": [],
   "source": []
  }
 ],
 "metadata": {
  "kernelspec": {
   "display_name": "Python 3 (ipykernel)",
   "language": "python",
   "name": "python3"
  },
  "language_info": {
   "codemirror_mode": {
    "name": "ipython",
    "version": 3
   },
   "file_extension": ".py",
   "mimetype": "text/x-python",
   "name": "python",
   "nbconvert_exporter": "python",
   "pygments_lexer": "ipython3",
   "version": "3.12.3"
  }
 },
 "nbformat": 4,
 "nbformat_minor": 5
}
