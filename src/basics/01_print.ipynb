{
 "cells": [
  {
   "cell_type": "markdown",
   "id": "849001d3-717e-4ea3-81c7-4fd1c92cdcfa",
   "metadata": {},
   "source": [
    "## hello world"
   ]
  },
  {
   "cell_type": "code",
   "execution_count": 1,
   "id": "3db81748-2b95-4585-9456-5b811d72475b",
   "metadata": {},
   "outputs": [
    {
     "name": "stdout",
     "output_type": "stream",
     "text": [
      "Hello, World!\n"
     ]
    }
   ],
   "source": [
    "print(\"Hello, World!\")"
   ]
  },
  {
   "cell_type": "markdown",
   "id": "6ee39cfa-1172-433d-ad4c-96f77f726d6e",
   "metadata": {},
   "source": [
    "## variables to print"
   ]
  },
  {
   "cell_type": "code",
   "execution_count": 2,
   "id": "eced7d96-7081-4635-a7fd-67aaaa858ea8",
   "metadata": {},
   "outputs": [
    {
     "name": "stdout",
     "output_type": "stream",
     "text": [
      "string True 50 1.234 0.049\n"
     ]
    }
   ],
   "source": [
    "print(\"string\", True, 50, 1.234, 4.9E-2)"
   ]
  },
  {
   "cell_type": "markdown",
   "id": "a68c6fd3-0370-45bd-8e9e-b4fbc18c35fa",
   "metadata": {},
   "source": [
    "## newline character"
   ]
  },
  {
   "cell_type": "code",
   "execution_count": 3,
   "id": "f5341798-cb49-4669-aa45-37a98e63dd84",
   "metadata": {},
   "outputs": [
    {
     "name": "stdout",
     "output_type": "stream",
     "text": [
      "ABC\n",
      "1234\n",
      "*+/-=\n"
     ]
    }
   ],
   "source": [
    "print(\"ABC\\n1234\\n*+/-=\")"
   ]
  },
  {
   "cell_type": "markdown",
   "id": "a77fb1ea-94d1-4d35-bfe7-26e1e64b3d54",
   "metadata": {},
   "source": [
    "## tabular character"
   ]
  },
  {
   "cell_type": "code",
   "execution_count": 4,
   "id": "29426dd2-bf9c-4399-a064-48fef1adc281",
   "metadata": {},
   "outputs": [
    {
     "name": "stdout",
     "output_type": "stream",
     "text": [
      "ABC\t1234\t*+/-=\n"
     ]
    }
   ],
   "source": [
    "print(\"ABC\\t1234\\t*+/-=\")"
   ]
  },
  {
   "cell_type": "markdown",
   "id": "2fa18691-b314-47af-ab28-13bac9542649",
   "metadata": {},
   "source": [
    "## multiple arguments"
   ]
  },
  {
   "cell_type": "code",
   "execution_count": 5,
   "id": "b186e357-fc35-4c2f-9d8f-407d4baeb939",
   "metadata": {},
   "outputs": [
    {
     "name": "stdout",
     "output_type": "stream",
     "text": [
      "One 2 III Vier\n"
     ]
    }
   ],
   "source": [
    "print(\"One\", \"2\", \"III\", \"Vier\")"
   ]
  },
  {
   "cell_type": "markdown",
   "id": "b3212cd4-9cb8-4a92-abde-82247a527b76",
   "metadata": {},
   "source": [
    "## separator"
   ]
  },
  {
   "cell_type": "code",
   "execution_count": 6,
   "id": "924754c8-6821-421a-8bd6-69dc50f97c45",
   "metadata": {},
   "outputs": [
    {
     "name": "stdout",
     "output_type": "stream",
     "text": [
      "One,2,III,Vier\n"
     ]
    }
   ],
   "source": [
    "print(\"One\", \"2\", \"III\", \"Vier\", sep=',')"
   ]
  },
  {
   "cell_type": "code",
   "execution_count": 7,
   "id": "2f366552-16b7-492e-ac85-3a73b4653f7a",
   "metadata": {},
   "outputs": [
    {
     "name": "stdout",
     "output_type": "stream",
     "text": [
      "One+2+III+Vier\n"
     ]
    }
   ],
   "source": [
    "print(\"One\", \"2\", \"III\", \"Vier\", sep='+')"
   ]
  },
  {
   "cell_type": "code",
   "execution_count": 8,
   "id": "96c67e95-90ef-4e9c-a4fa-9a1881e835b7",
   "metadata": {},
   "outputs": [
    {
     "name": "stdout",
     "output_type": "stream",
     "text": [
      "One\t2\tIII\tVier\n"
     ]
    }
   ],
   "source": [
    "print(\"One\", \"2\", \"III\", \"Vier\", sep='\\t')"
   ]
  },
  {
   "cell_type": "code",
   "execution_count": 9,
   "id": "a1988c78-afac-440e-824a-c47d68024740",
   "metadata": {},
   "outputs": [
    {
     "name": "stdout",
     "output_type": "stream",
     "text": [
      "One\n",
      "2\n",
      "III\n",
      "Vier\n"
     ]
    }
   ],
   "source": [
    "print(\"One\", \"2\", \"III\", \"Vier\", sep='\\n')"
   ]
  },
  {
   "cell_type": "markdown",
   "id": "4d586d25-1434-414d-a242-e7a607ec475d",
   "metadata": {},
   "source": [
    "## end of line"
   ]
  },
  {
   "cell_type": "code",
   "execution_count": 10,
   "id": "1b48b98e-2f4f-4875-89cd-54004adb68c0",
   "metadata": {},
   "outputs": [
    {
     "name": "stdout",
     "output_type": "stream",
     "text": [
      "Once\n",
      "upon\n",
      "a\n",
      "time\n"
     ]
    }
   ],
   "source": [
    "print(\"Once\")\n",
    "print(\"upon\")\n",
    "print(\"a\")\n",
    "print(\"time\")"
   ]
  },
  {
   "cell_type": "code",
   "execution_count": 11,
   "id": "9b7bfeac-b48c-454b-9478-fbfdc0de2b0a",
   "metadata": {},
   "outputs": [
    {
     "name": "stdout",
     "output_type": "stream",
     "text": [
      "Once upon a time."
     ]
    }
   ],
   "source": [
    "print(\"Once\", end=' ')\n",
    "print(\"upon\", end=' ')\n",
    "print(\"a\", end=' ')\n",
    "print(\"time\", end='.')"
   ]
  },
  {
   "cell_type": "code",
   "execution_count": 12,
   "id": "26b5e811-2c1f-4648-bf1c-fd0cf7b24a12",
   "metadata": {},
   "outputs": [
    {
     "name": "stdout",
     "output_type": "stream",
     "text": [
      "Once+upon+a+time."
     ]
    }
   ],
   "source": [
    "print(\"Once\", end='+')\n",
    "print(\"upon\", end='+')\n",
    "print(\"a\", end='+')\n",
    "print(\"time\", end='.')"
   ]
  },
  {
   "cell_type": "markdown",
   "id": "af389ef3-1ec6-4fde-bc9b-96ea9a5604d8",
   "metadata": {},
   "source": [
    "## function"
   ]
  },
  {
   "cell_type": "code",
   "execution_count": 13,
   "id": "71a2295c-0b12-4f3c-93c6-ef138faeeda1",
   "metadata": {},
   "outputs": [
    {
     "name": "stdout",
     "output_type": "stream",
     "text": [
      "<built-in function print>\n"
     ]
    }
   ],
   "source": [
    "print(print)"
   ]
  },
  {
   "cell_type": "markdown",
   "id": "7c93780f-3d52-4277-93b9-f80e9254d4af",
   "metadata": {},
   "source": [
    "## help"
   ]
  },
  {
   "cell_type": "code",
   "execution_count": 14,
   "id": "f7f6e153-ad38-4b38-82e9-9988101576a7",
   "metadata": {},
   "outputs": [
    {
     "name": "stdout",
     "output_type": "stream",
     "text": [
      "Help on built-in function print in module builtins:\n",
      "\n",
      "print(*args, sep=' ', end='\\n', file=None, flush=False)\n",
      "    Prints the values to a stream, or to sys.stdout by default.\n",
      "\n",
      "    sep\n",
      "      string inserted between values, default a space.\n",
      "    end\n",
      "      string appended after the last value, default a newline.\n",
      "    file\n",
      "      a file-like object (stream); defaults to the current sys.stdout.\n",
      "    flush\n",
      "      whether to forcibly flush the stream.\n",
      "\n"
     ]
    }
   ],
   "source": [
    "help(print)"
   ]
  },
  {
   "cell_type": "code",
   "execution_count": null,
   "id": "78bf57e1-6f64-46ba-9a47-a00204edf402",
   "metadata": {},
   "outputs": [],
   "source": []
  }
 ],
 "metadata": {
  "kernelspec": {
   "display_name": "Python 3 (ipykernel)",
   "language": "python",
   "name": "python3"
  },
  "language_info": {
   "codemirror_mode": {
    "name": "ipython",
    "version": 3
   },
   "file_extension": ".py",
   "mimetype": "text/x-python",
   "name": "python",
   "nbconvert_exporter": "python",
   "pygments_lexer": "ipython3",
   "version": "3.12.3"
  }
 },
 "nbformat": 4,
 "nbformat_minor": 5
}
