{
 "cells": [
  {
   "cell_type": "markdown",
   "id": "bc3814b7-c4d4-4ecf-b6a0-30e1c7d634ba",
   "metadata": {},
   "source": [
    "## integer"
   ]
  },
  {
   "cell_type": "code",
   "execution_count": 1,
   "id": "d09b1718-5845-48df-ad3b-7054f364301f",
   "metadata": {},
   "outputs": [
    {
     "name": "stdout",
     "output_type": "stream",
     "text": [
      "-1039\n"
     ]
    }
   ],
   "source": [
    "a = -1039\n",
    "print(a)"
   ]
  },
  {
   "cell_type": "markdown",
   "id": "de44f5e6-11c0-44b5-8939-db6e5aeed93e",
   "metadata": {},
   "source": [
    "## float"
   ]
  },
  {
   "cell_type": "code",
   "execution_count": 2,
   "id": "090ec3ef-d4a7-46a6-a5ce-114e2522f730",
   "metadata": {},
   "outputs": [
    {
     "name": "stdout",
     "output_type": "stream",
     "text": [
      "1.353\n"
     ]
    }
   ],
   "source": [
    "b = 1.353\n",
    "print(b)"
   ]
  },
  {
   "cell_type": "code",
   "execution_count": 3,
   "id": "1ac6c8df-a5a3-4caf-ae11-615130343b17",
   "metadata": {},
   "outputs": [
    {
     "name": "stdout",
     "output_type": "stream",
     "text": [
      "-0.003535\n"
     ]
    }
   ],
   "source": [
    "c = -3.535E-3\n",
    "print(c)"
   ]
  },
  {
   "cell_type": "markdown",
   "id": "7e98f892-3311-4891-96e3-27551029178d",
   "metadata": {},
   "source": [
    "## boolean"
   ]
  },
  {
   "cell_type": "code",
   "execution_count": 4,
   "id": "2943dcc0-589a-475d-8dd5-e956c96df231",
   "metadata": {},
   "outputs": [
    {
     "name": "stdout",
     "output_type": "stream",
     "text": [
      "True\n"
     ]
    }
   ],
   "source": [
    "boring = True\n",
    "print(boring)"
   ]
  },
  {
   "cell_type": "code",
   "execution_count": 5,
   "id": "f1c6807c-0a0c-4640-b4c8-cfc9d3ef1afc",
   "metadata": {},
   "outputs": [
    {
     "name": "stdout",
     "output_type": "stream",
     "text": [
      "False\n"
     ]
    }
   ],
   "source": [
    "data_transformed = False\n",
    "print(data_transformed)"
   ]
  },
  {
   "cell_type": "markdown",
   "id": "532cc032-b2db-4f38-896a-dc5f11a51a4f",
   "metadata": {},
   "source": [
    "## string"
   ]
  },
  {
   "cell_type": "code",
   "execution_count": 7,
   "id": "a1b71c58-0d2d-4145-8a68-9ebd881aec5f",
   "metadata": {},
   "outputs": [
    {
     "name": "stdout",
     "output_type": "stream",
     "text": [
      "Albert Hudin\n"
     ]
    }
   ],
   "source": [
    "last_name = \"Hudin\"\n",
    "first_name = 'Albert'\n",
    "print(first_name, last_name)"
   ]
  },
  {
   "cell_type": "markdown",
   "id": "070184e8-7cc8-4472-a1c6-2bec94f7ff62",
   "metadata": {},
   "source": [
    "## complex"
   ]
  },
  {
   "cell_type": "code",
   "execution_count": 8,
   "id": "7e0cac9f-724e-4797-9b6e-414afc5178db",
   "metadata": {},
   "outputs": [
    {
     "name": "stdout",
     "output_type": "stream",
     "text": [
      "(1+3j)\n"
     ]
    }
   ],
   "source": [
    "z1 = 1 + 3j\n",
    "print(z1)"
   ]
  },
  {
   "cell_type": "code",
   "execution_count": 9,
   "id": "e6f6bb4d-6721-4a20-a3fe-dceef1e0d5db",
   "metadata": {},
   "outputs": [
    {
     "name": "stdout",
     "output_type": "stream",
     "text": [
      "(1-3j)\n"
     ]
    }
   ],
   "source": [
    "z2 = complex(1, -3)\n",
    "print(z2)"
   ]
  },
  {
   "cell_type": "code",
   "execution_count": null,
   "id": "f5a1eb51-bc28-439a-94e2-7cf1c4173d59",
   "metadata": {},
   "outputs": [],
   "source": []
  }
 ],
 "metadata": {
  "kernelspec": {
   "display_name": "Python 3 (ipykernel)",
   "language": "python",
   "name": "python3"
  },
  "language_info": {
   "codemirror_mode": {
    "name": "ipython",
    "version": 3
   },
   "file_extension": ".py",
   "mimetype": "text/x-python",
   "name": "python",
   "nbconvert_exporter": "python",
   "pygments_lexer": "ipython3",
   "version": "3.12.3"
  }
 },
 "nbformat": 4,
 "nbformat_minor": 5
}
