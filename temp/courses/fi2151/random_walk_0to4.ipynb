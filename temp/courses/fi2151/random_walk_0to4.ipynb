{
 "cells": [
  {
   "cell_type": "code",
   "execution_count": 20,
   "id": "babeafe8-0547-47c9-a61f-967c0e456249",
   "metadata": {},
   "outputs": [],
   "source": [
    "import random as rnd\n",
    "\n",
    "def randwalk4(n):\n",
    "    x = [0]\n",
    "    y = [0]\n",
    "    for i in range(n):\n",
    "        j = rnd.randint(1, 4)\n",
    "        match j:\n",
    "            case 1:\n",
    "                x.append(x[i] + 0)\n",
    "                y.append(y[i] + 1)\n",
    "            case 2:\n",
    "                x.append(x[i] + 1)\n",
    "                y.append(y[i] + 0)\n",
    "            case 3:\n",
    "                x.append(x[i] + 0)\n",
    "                y.append(y[i] - 1)\n",
    "            case 4:\n",
    "                x.append(x[i] - 1)\n",
    "                y.append(y[i] + 0)\n",
    "    return(x, y)"
   ]
  },
  {
   "cell_type": "code",
   "execution_count": 66,
   "id": "cf21c273-a16e-4b99-91f5-f2a323f3eb9e",
   "metadata": {},
   "outputs": [
    {
     "name": "stdout",
     "output_type": "stream",
     "text": [
      "6.0\n"
     ]
    },
    {
     "data": {
      "image/png": "[encoded data removed]",
      "text/plain": [
       "<Figure size 640x480 with 1 Axes>"
      ]
     },
     "metadata": {},
     "output_type": "display_data"
    }
   ],
   "source": [
    "import matplotlib.pyplot as plt\n",
    "\n",
    "x, y = randwalk4(1000)\n",
    "plt.plot(x, y, '-')\n",
    "plt.plot([x[0], x[-1]],\n",
    "         [y[0], y[-1]], '--r')\n",
    "plt.gca().set_aspect('equal')\n",
    "dx = (x[-1] - x[0])\n",
    "dy = (y[-1] - y[0])\n",
    "dr = (dx*dx + dy*dy)**0.5\n",
    "print(dr)"
   ]
  },
  {
   "cell_type": "code",
   "execution_count": 86,
   "id": "56fee8c5-ad8e-4cf9-8424-35399e82d949",
   "metadata": {},
   "outputs": [
    {
     "name": "stdout",
     "output_type": "stream",
     "text": [
      "theoretical RMS distance: 20.0\n",
      "theoretical expected distance: 15.95769121605731\n",
      "computational: 18.12717849155944\n"
     ]
    }
   ],
   "source": [
    "import math\n",
    "sdr = 0\n",
    "n = 400\n",
    "m = 100\n",
    "for _ in range(m):\n",
    "    x, y = randwalk4(n)\n",
    "    dx = (x[-1] - x[0])\n",
    "    dy = (y[-1] - y[0])\n",
    "    dr = (dx*dx + dy*dy)**0.5\n",
    "    sdr += dr\n",
    "avg = sdr / m\n",
    "print('theoretical RMS distance:',\n",
    "      n**0.5)\n",
    "print('theoretical expected distance:',\n",
    "      n**0.5 / (math.pi/2)**0.5)\n",
    "print('computational:', avg)\n"
   ]
  },
  {
   "cell_type": "code",
   "execution_count": 67,
   "id": "8954f5e2-e582-4252-b4e6-3644decc5cd8",
   "metadata": {},
   "outputs": [
    {
     "name": "stdout",
     "output_type": "stream",
     "text": [
      "Estimated average distance after 100 steps: 8.861913095860347\n",
      "Theoretical value: 10.0\n"
     ]
    }
   ],
   "source": [
    "# url https://chatgpt.com/share/675b5787-7e10-800a-b969-35e8b618e8dc\n",
    "import numpy as np\n",
    "\n",
    "def random_walk(N, trials):\n",
    "    distances = []\n",
    "    for _ in range(trials):\n",
    "        x, y = 0, 0  # Start at the origin\n",
    "        for _ in range(N):\n",
    "            direction = np.random.choice(['N', 'E', 'S', 'W'])\n",
    "            if direction == 'N':\n",
    "                y += 1\n",
    "            elif direction == 'S':\n",
    "                y -= 1\n",
    "            elif direction == 'E':\n",
    "                x += 1\n",
    "            elif direction == 'W':\n",
    "                x -= 1\n",
    "        distance = np.sqrt(x**2 + y**2)\n",
    "        distances.append(distance)\n",
    "    return np.mean(distances)\n",
    "\n",
    "# Parameters\n",
    "N = 100  # Number of steps\n",
    "trials = 10000  # Number of trials\n",
    "\n",
    "estimated_distance = random_walk(N, trials)\n",
    "print(f\"Estimated average distance after {N} steps: {estimated_distance}\")\n",
    "print(f\"Theoretical value: {np.sqrt(N)}\")\n"
   ]
  },
  {
   "cell_type": "code",
   "execution_count": 87,
   "id": "b235d673-8a1a-4e1d-bb7f-40ccde39c211",
   "metadata": {},
   "outputs": [
    {
     "name": "stdout",
     "output_type": "stream",
     "text": [
      "Simulated Average Distance: 8.855069102583448\n",
      "Theoretical Expected Distance (sqrt(pi N / 2)): 12.533141373155003\n",
      "Lower Bound (sqrt(2N / pi)): 7.978845608028654\n",
      "RMS Distance (sqrt(N)): 10.0\n"
     ]
    }
   ],
   "source": [
    "import numpy as np\n",
    "\n",
    "def random_walk_distance(N, trials):\n",
    "    distances = []\n",
    "    for _ in range(trials):\n",
    "        x, y = 0, 0\n",
    "        for _ in range(N):\n",
    "            direction = np.random.choice(['N', 'E', 'S', 'W'])\n",
    "            if direction == 'N':\n",
    "                y += 1\n",
    "            elif direction == 'S':\n",
    "                y -= 1\n",
    "            elif direction == 'E':\n",
    "                x += 1\n",
    "            elif direction == 'W':\n",
    "                x -= 1\n",
    "        distance = np.sqrt(x**2 + y**2)\n",
    "        distances.append(distance)\n",
    "    return np.mean(distances)\n",
    "\n",
    "# Parameters\n",
    "N = 100  # Number of steps\n",
    "trials = 10000  # Number of trials\n",
    "\n",
    "# Run simulation\n",
    "average_distance = random_walk_distance(N, trials)\n",
    "\n",
    "# Theoretical values\n",
    "expected_distance = np.sqrt(np.pi * N / 2)\n",
    "lower_bound = np.sqrt(2 * N / np.pi)\n",
    "rms_distance = np.sqrt(N)\n",
    "\n",
    "print(f\"Simulated Average Distance: {average_distance}\")\n",
    "print(f\"Theoretical Expected Distance (sqrt(pi N / 2)): {expected_distance}\")\n",
    "print(f\"Lower Bound (sqrt(2N / pi)): {lower_bound}\")\n",
    "print(f\"RMS Distance (sqrt(N)): {rms_distance}\")\n"
   ]
  },
  {
   "cell_type": "code",
   "execution_count": null,
   "id": "dab1a55b-4406-4bf7-b5d6-8f5711433ec2",
   "metadata": {},
   "outputs": [],
   "source": []
  }
 ],
 "metadata": {
  "kernelspec": {
   "display_name": "Python 3 (ipykernel)",
   "language": "python",
   "name": "python3"
  },
  "language_info": {
   "codemirror_mode": {
    "name": "ipython",
    "version": 3
   },
   "file_extension": ".py",
   "mimetype": "text/x-python",
   "name": "python",
   "nbconvert_exporter": "python",
   "pygments_lexer": "ipython3",
   "version": "3.12.3"
  }
 },
 "nbformat": 4,
 "nbformat_minor": 5
}
