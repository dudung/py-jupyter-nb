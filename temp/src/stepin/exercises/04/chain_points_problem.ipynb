{
 "cells": [
  {
   "cell_type": "markdown",
   "id": "d4e69cf6",
   "metadata": {},
   "source": [
    "# result_numerical_solution\n",
    "Di sini disampaikan solusi numerik untuk gerak beberapa mata rantai."
   ]
  },
  {
   "cell_type": "markdown",
   "id": "610a877c",
   "metadata": {},
   "source": [
    "## euler method\n",
    "Untuk kecepatan\n",
    "\n",
    "\\begin{equation}\\tag{1}\n",
    "\\vec{v}(t + \\Delta t) \\approx \\vec{v}(t) + \\vec{a}(t) \\Delta t.\n",
    "\\end{equation}\n",
    "\n",
    "dan posisi\n",
    "\n",
    "\\begin{equation}\\tag{2}\n",
    "\\vec{r}(t + \\Delta t) \\approx \\vec{r}(t) + \\vec{v}(t) \\Delta t.\n",
    "\\end{equation}"
   ]
  },
  {
   "cell_type": "markdown",
   "id": "668b5034",
   "metadata": {},
   "source": [
    "## equation of motion\n",
    "Setiap mata rantai secara umum akan mengikuti\n",
    "\n",
    "\\begin{equation}\\tag{3}\n",
    "m_i \\frac{d^2\\vec{r}_i}{dt^2} + k_{i, i-1} (r_{i,i-1} - l_{i,i-1})\\hat{r}_{i, i-1} + k_{i, i+1} (r_{i,i+1} - l_{i,i+1})\\hat{r}_{i, i+1} + b \\vec{v}_i,\n",
    "\\end{equation}\n",
    "\n",
    "yang untuk $k_i = k$, $m_i = m$ dan $l_{i, j} = l_0$ akan menjadi lebih sederhana\n",
    "\n",
    "\\begin{equation}\\tag{4}\n",
    "m \\frac{d^2\\vec{r}_i}{dt^2} + k (r_{i,i-1} - l_0)\\hat{r}_{i, i-1} + k (r_{i,i+1} - l_0)\\hat{r}_{i, i+1} + b \\vec{v}_i = 0,\n",
    "\\end{equation}\n",
    "\n",
    "dengan\n",
    "\n",
    "\\begin{equation}\\tag{5}\n",
    "r_{ij} = | \\vec{r}_{ij} | = \\sqrt{\\vec{r}_{ij} \\cdot \\vec{r}_{ij}}\n",
    "\\end{equation}\n",
    "\n",
    "dan\n",
    "\n",
    "\\begin{equation}\\tag{6}\n",
    "\\hat{r}_{ij} = \\frac{\\vec{r}_{ij}}{r_{ij}}.\n",
    "\\end{equation}"
   ]
  },
  {
   "cell_type": "markdown",
   "id": "5dc53863",
   "metadata": {},
   "source": [
    "## iteratif solution\n",
    "Dengan menggunakan Persamaan (4) dapat diperoleh\n",
    "\n",
    "\\begin{equation}\\tag{7}\n",
    "\\vec{a}_i(t) = -\\frac{k}{m} \\left[ r_{i,i-1}(t) - l_0 \\right] \\hat{r}_{i, i-1}(t) - \\frac{k}{m} \\left[ r_{i,i+1}(t) - l_0 \\right]\\hat{r}_{i, i+1}(t) - b \\vec{v}_i(t),\n",
    "\\end{equation}\n",
    "\n",
    "dengan Persamaan (1) dan (2) merupakan solusi iteratif untuk $\\vec{v}(t)$ dan $\\vec{r}(t)$."
   ]
  },
  {
   "cell_type": "markdown",
   "id": "f62a5a93",
   "metadata": {},
   "source": [
    "## boundary condition\n",
    "Terdapat syarat batas pada ujung-ujung kedua rantai yang terdiri dari $N$ buath mata rantai, yaitu\n",
    "\n",
    "\\begin{equation}\\tag{8}\n",
    "\\vec{r}_1(t) = \\vec{r}_L\n",
    "\\end{equation}\n",
    "\n",
    "untuk ujung kiri kawat dan\n",
    "\n",
    "\\begin{equation}\\tag{9}\n",
    "\\vec{r}_N(t) = \\vec{r}_R\n",
    "\\end{equation}\n",
    "\n",
    "untuk ujung kanan kawat, di mana keduanya bernilai tetap."
   ]
  },
  {
   "cell_type": "markdown",
   "id": "6ccabe4d",
   "metadata": {},
   "source": [
    "## more technical\n",
    "Dari Persamaan (7) perlu dituliskan lagi lebih teknis bentuknya sebelum dapat dibuat programnya, kecuali telah menggunakan suatu kelas, misalnya [vect3](https://github.com/dudung/py-jupyter-notebook/blob/main/butiran/vect3.ipynb) sehingga kodenya menjadi lebih sederhana. Untuk saat ini akan digunakan pendekatan tanpa kelas terlebih dahulu."
   ]
  },
  {
   "cell_type": "markdown",
   "id": "40609b73",
   "metadata": {},
   "source": [
    "Suku pertama dan kedua pada ruas kanan Persamaan (7) diperoleh dari\n",
    "\n",
    "\\begin{equation}\\tag{10}\n",
    "r_{ij}(t) = \\sqrt{[x_i(t) - x_j(t)]^2 + [y_i(t) - y_j(t)]^2 + [z_i(t) - z_j(t)]^2},\n",
    "\\end{equation}\n",
    "\n",
    "sehingga komponen vektor satuan pada arah $x$ adalah\n",
    "\n",
    "\\begin{equation}\\tag{11}\n",
    "\\hat{r}_{ij}(t) \\cdot \\hat{x} = \\frac{[x_i(t) - x_j(t)]}{\\sqrt{[x_i(t) - x_j(t)]^2 + [y_i(t) - y_j(t)]^2 + [z_i(t) - z_j(t)]^2}},\n",
    "\\end{equation}\n",
    "\n",
    "pada arah $y$ adalah\n",
    "\n",
    "\\begin{equation}\\tag{12}\n",
    "\\hat{r}_{ij}(t) \\cdot \\hat{y} = \\frac{[y_i(t) - y_j(t)]}{\\sqrt{[x_i(t) - x_j(t)]^2 + [y_i(t) - y_j(t)]^2 + [z_i(t) - z_j(t)]^2}},\n",
    "\\end{equation}\n",
    "\n",
    "dan pada arah $z$ adalah\n",
    "\n",
    "\\begin{equation}\\tag{13}\n",
    "\\hat{r}_{ij}(t) \\cdot \\hat{z} = \\frac{[z_i(t) - z_j(t)]}{\\sqrt{[x_i(t) - x_j(t)]^2 + [y_i(t) - y_j(t)]^2 + [z_i(t) - z_j(t)]^2}}.\n",
    "\\end{equation}\n"
   ]
  },
  {
   "cell_type": "markdown",
   "id": "d8a07c31",
   "metadata": {},
   "source": [
    "Dengan demikian dapat diperoleh untuk arah $x$\n",
    "\n",
    "\\begin{equation}\\tag{14}\n",
    "\\begin{array}{rcl}\n",
    "a_{i,x}(t) & = & \\displaystyle -\\frac{[x_i(t) - x_{i-1}(t)]}{\\sqrt{[x_i(t) - x_{i-1}(t)]^2 + [y_i(t) - y_{i-1}(t)]^2 + [z_i(t) - z_{i-1}(t)]^2}} \\newline\n",
    "& & - \\displaystyle \\frac{[x_i(t) - x_{i+1}(t)]}{\\sqrt{[x_i(t) - x_{i+1}(t)]^2 + [y_i(t) - y_{i+1}(t)]^2 + [z_i(t) - z_{i+1}(t)]^2}} \\newline\n",
    "& & - b v_{i,x}(t),\n",
    "\\end{array}\n",
    "\\end{equation}"
   ]
  },
  {
   "cell_type": "markdown",
   "id": "7e49d08f",
   "metadata": {},
   "source": [
    "untuk arah $y$\n",
    "\n",
    "\\begin{equation}\\tag{15}\n",
    "\\begin{array}{rcl}\n",
    "a_{i,y}(t) & = & \\displaystyle -\\frac{[y_i(t) - y_{i-1}(t)]}{\\sqrt{[x_i(t) - x_{i-1}(t)]^2 + [y_i(t) - y_{i-1}(t)]^2 + [z_i(t) - z_{i-1}(t)]^2}} \\newline\n",
    "& & - \\displaystyle \\frac{[y_i(t) - y_{i+1}(t)]}{\\sqrt{[x_i(t) - x_{i+1}(t)]^2 + [y_i(t) - y_{i+1}(t)]^2 + [z_i(t) - z_{i+1}(t)]^2}} \\newline\n",
    "& & - b v_{i,y}(t),\n",
    "\\end{array}\n",
    "\\end{equation}"
   ]
  },
  {
   "cell_type": "markdown",
   "id": "53860f56",
   "metadata": {},
   "source": [
    "dan untuk arah $z$\n",
    "\n",
    "\\begin{equation}\\tag{16}\n",
    "\\begin{array}{rcl}\n",
    "a_{i,z}(t) & = & \\displaystyle -\\frac{[z_i(t) - z_{i-1}(t)]}{\\sqrt{[x_i(t) - x_{i-1}(t)]^2 + [y_i(t) - y_{i-1}(t)]^2 + [z_i(t) - z_{i-1}(t)]^2}} \\newline\n",
    "& & - \\displaystyle \\frac{[z_i(t) - z_{i+1}(t)]}{\\sqrt{[x_i(t) - x_{i+1}(t)]^2 + [y_i(t) - y_{i+1}(t)]^2 + [z_i(t) - z_{i+1}(t)]^2}} \\newline\n",
    "& & - b v_{i,z}(t).\n",
    "\\end{array}\n",
    "\\end{equation}"
   ]
  },
  {
   "cell_type": "markdown",
   "id": "23e01851",
   "metadata": {},
   "source": [
    "Selanjutnya dari Persamaan (1) diperoleh\n",
    "\n",
    "\\begin{equation}\\tag{17}\n",
    "v_{i,x}(t + \\Delta t) = v_{i,x}(t) + a_{i,x}(t) \\Delta t,\n",
    "\\end{equation}\n",
    "\n",
    "\\begin{equation}\\tag{18}\n",
    "v_{i,y}(t + \\Delta t) = v_{i,y}(t) + a_{i,y}(t) \\Delta t,\n",
    "\\end{equation}\n",
    "\n",
    "\\begin{equation}\\tag{19}\n",
    "v_{i,z}(t + \\Delta t) = v_{i,z}(t) + a_{i,z}(t) \\Delta t.\n",
    "\\end{equation}"
   ]
  },
  {
   "cell_type": "markdown",
   "id": "bf102b74",
   "metadata": {},
   "source": [
    "Dan dari Persamaan (2) didapatkan\n",
    "\n",
    "\\begin{equation}\\tag{20}\n",
    "x_i(t + \\Delta t) = x_i(t) + v_{i,x}(t) \\Delta t,\n",
    "\\end{equation}\n",
    "\n",
    "\\begin{equation}\\tag{21}\n",
    "y_i(t + \\Delta t) = y_i(t) + v_{i,y}(t) \\Delta t,\n",
    "\\end{equation}\n",
    "\n",
    "\\begin{equation}\\tag{22}\n",
    "z_i(t + \\Delta t) = z_i(t) + v_{i,z}(t) \\Delta t.\n",
    "\\end{equation}"
   ]
  },
  {
   "cell_type": "markdown",
   "id": "b7c4f4d9",
   "metadata": {},
   "source": [
    "## iteration\n",
    "Iterasi dilakukan mulai dari Persamaan (14)-(15) untuk menghitung Persamaa (17)-(19), lalu mendapatkan Persamaan (20)-(22), dan kembali Persamaan (14)-(15), sampai batas waktu iterasi atau suatu kondisi akhir yang ditentukan."
   ]
  }
 ],
 "metadata": {
  "authors": [
   {
    "name": "Sparisoma Viridi"
   }
  ],
  "kernelspec": {
   "display_name": "Python 3 (ipykernel)",
   "language": "python",
   "name": "python3"
  },
  "language_info": {
   "codemirror_mode": {
    "name": "ipython",
    "version": 3
   },
   "file_extension": ".py",
   "mimetype": "text/x-python",
   "name": "python",
   "nbconvert_exporter": "python",
   "pygments_lexer": "ipython3",
   "version": "3.9.12"
  },
  "title": "result_numerical_solution"
 },
 "nbformat": 4,
 "nbformat_minor": 5
}
