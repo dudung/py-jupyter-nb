{
 "cells": [
  {
   "cell_type": "markdown",
   "id": "cca11c7c",
   "metadata": {},
   "source": [
    "# linreg_interpolation\n",
    "+ [Introduction to Linear Regression in Python](https://towardsdatascience.com/c12a072bedf0)\n",
    "+ [Linear Interpolation in Python](https://pythonnumericalmethods.berkeley.edu/notebooks/chapter17.02-Linear-Interpolation.html)\n",
    "+ [Lagrange Polynomial Interpolation in Python](https://pythonnumericalmethods.berkeley.edu/notebooks/chapter17.04-Lagrange-Polynomial-Interpolation.html)"
   ]
  },
  {
   "cell_type": "markdown",
   "id": "22d981e8",
   "metadata": {},
   "source": [
    "## questions"
   ]
  },
  {
   "attachments": {},
   "cell_type": "markdown",
   "id": "05543616",
   "metadata": {},
   "source": [
    "### part a (in-class)\n",
    "1. Write equations of $c_0$ and $c_1$ as implementation of linear regression to  $y = c_0 + c_1 x$.\n",
    "2. Write equation of linear interpolation for pairs of data $\\{ (x_i, y_i) \\ | \\ i = 1, 2, \\dots, n \\}$.\n",
    "3. Write equation of Lagrange polynomial interpolation for pairs of data $\\{ (x_i, y_i) \\ | \\ i = 1, 2, \\dots, n \\}$.\n",
    "4. Explain the difference between linear regression and interpolation for the data."
   ]
  },
  {
   "cell_type": "markdown",
   "id": "c83bcc9e",
   "metadata": {},
   "source": [
    "### part b (take-home)\n",
    "1. Write function `linear_regression()` to calculate `c_0` and `c_1` with input parameters are `x` and `y`, where both are `list` with the same length.\n",
    "2. Write functions `linear_interpol()` to calculate linear interpolation with input parameters are `x` and `y`, where both are `list` with the same length.\n",
    "3. Write functions `lagrange_interpol()` to calculate Lagrange polynomial interpolation with input parameters are `x` and `y`, where both are `list` with the same length.\n",
    "4. Plot curves using, directly or indirectly, the functions `linear_regression()`, `linear_interpol()`, `lagrange_interpol()`, and the data `x` and `y`. Set right label to each series and show them in the plot legend."
   ]
  },
  {
   "cell_type": "markdown",
   "id": "2100d18e",
   "metadata": {},
   "source": [
    "## answers"
   ]
  },
  {
   "cell_type": "markdown",
   "id": "f96e8d42",
   "metadata": {},
   "source": [
    "+ Put your answers of part b below this cell.\n",
    "+ Write only one answer in one Code cell.\n",
    "+ There should be **at least four cells (Code cells)**.\n",
    "+ Existence of additional Markdown cells for explanation are optional."
   ]
  },
  {
   "cell_type": "code",
   "execution_count": null,
   "id": "759be223",
   "metadata": {},
   "outputs": [],
   "source": []
  }
 ],
 "metadata": {
  "authors": [
   {
    "name": "Sparisoma Viridi"
   }
  ],
  "kernelspec": {
   "display_name": "Python 3 (ipykernel)",
   "language": "python",
   "name": "python3"
  },
  "language_info": {
   "codemirror_mode": {
    "name": "ipython",
    "version": 3
   },
   "file_extension": ".py",
   "mimetype": "text/x-python",
   "name": "python",
   "nbconvert_exporter": "python",
   "pygments_lexer": "ipython3",
   "version": "3.10.10"
  },
  "title": "linreg_interpolation"
 },
 "nbformat": 4,
 "nbformat_minor": 5
}
