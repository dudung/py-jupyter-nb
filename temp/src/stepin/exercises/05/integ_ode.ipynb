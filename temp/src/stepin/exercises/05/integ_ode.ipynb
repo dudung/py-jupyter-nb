{
 "cells": [
  {
   "cell_type": "markdown",
   "id": "cca11c7c",
   "metadata": {},
   "source": [
    "# integ_ode\n",
    "+ [Numerical integration](https://www.sfu.ca/math-coursenotes/Math%20158%20Course%20Notes/sec_Numerical_Integration.html)\n",
    "+ [Ordinary differential equation](https://mathworld.wolfram.com/OrdinaryDifferentialEquation.html)\n",
    "+ [Boundary conditions](http://www.multiphysics.us/BC.html)"
   ]
  },
  {
   "cell_type": "markdown",
   "id": "0c2e839a",
   "metadata": {},
   "source": [
    "## questions"
   ]
  },
  {
   "attachments": {},
   "cell_type": "markdown",
   "id": "39b557a1",
   "metadata": {},
   "source": [
    "### part a (in-class)\n",
    "1. Numerical integration of $\\displaystyle \\int_a^b f(x) \\ dx$ can be approximated by $\\displaystyle \\left[ \\alpha f(a) + \\beta f\\left( \\frac{a+b}{2} \\right) + \\gamma f(b) \\right] \\frac{(b-a)}{n}$. Write the relation between $\\alpha$, $\\beta$, $\\gamma$, and $n$.\n",
    "2. Replace the `?` with the right number in following table.\n",
    "Method | $\\alpha$ | $\\beta$ | $\\gamma$ | $n$\n",
    ":- | :-: | :-: | :-: | :-:\n",
    "Rectangle left point | `?` | `?` | `?` | `?`\n",
    "Rectangle mid point | `?` | `?` | `?` | `?` \n",
    "Rectangle right point | `?` | `?` | `?` | `?`\n",
    "Trapezium | `?` | `?` | `?` | `?`\n",
    "Simpson | `?` | `?` | `?` | `?`\n",
    "3. Tell the difference between initial value problem (IVP) and boundary value problem (BVP).\n",
    "4. Ilustrate the domain and boundary for a BVP using common symbols.\n",
    "5. Explain about five different boundary conditions (BCs) in solving ODE as a BVP."
   ]
  },
  {
   "cell_type": "markdown",
   "id": "06d18c4f",
   "metadata": {},
   "source": [
    "### part b (take-home)\n",
    "1. For $f(x) = \\sin x$ and $0 \\le x \\le \\pi$ make code to calculate area below the curve using rectangle left point, rectangle mid point, rectangle right point, trapezium, and Simpson method for $10$ partition. Explain which method gives the best result. What is the analytical solution of the problem? Name each method with different function, e.g `rectl()`, `rectm()`, `rectr()`, `trapez()`, and `simpson()` with `xbeg`, `xend`, `partition` as parameters.\n",
    "2. Using Finite Difference Method (FDM) find plot the curve of vertical position $y$ againts time $t$ for a free fall motion if $y_0 = 10 \\ \\rm m$, $y_t = 20 \\ \\rm m$, $g = -10  \\ \\rm m/s^2$ with number of grid $n = 10, 20, 40, 80, 160$ by modifying [a code](https://pythonnumericalmethods.berkeley.edu/notebooks/chapter23.03-Finite-Difference-Method.html). Explain the form of the curve. Which $n$ gives better result?"
   ]
  },
  {
   "cell_type": "markdown",
   "id": "cfeab350",
   "metadata": {},
   "source": [
    "## answers"
   ]
  },
  {
   "cell_type": "markdown",
   "id": "2d6c8358",
   "metadata": {},
   "source": [
    "+ Put your answers of part b below this cell.\n",
    "+ Write only one answer in one Code cell.\n",
    "+ There must be **at least two Code cells**.\n",
    "+ Existence of additional Markdown cells for explanation are optional."
   ]
  },
  {
   "cell_type": "code",
   "execution_count": null,
   "id": "8dfb8f71",
   "metadata": {},
   "outputs": [],
   "source": []
  }
 ],
 "metadata": {
  "authors": [
   {
    "name": "Sparisoma Viridi"
   }
  ],
  "kernelspec": {
   "display_name": "Python 3 (ipykernel)",
   "language": "python",
   "name": "python3"
  },
  "language_info": {
   "codemirror_mode": {
    "name": "ipython",
    "version": 3
   },
   "file_extension": ".py",
   "mimetype": "text/x-python",
   "name": "python",
   "nbconvert_exporter": "python",
   "pygments_lexer": "ipython3",
   "version": "3.11.2"
  },
  "title": "integ_ode"
 },
 "nbformat": 4,
 "nbformat_minor": 5
}
