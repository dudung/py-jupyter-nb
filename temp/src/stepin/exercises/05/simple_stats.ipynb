{
 "cells": [
  {
   "cell_type": "markdown",
   "id": "d4e69cf6",
   "metadata": {},
   "source": [
    "# simple_stats\n",
    "+ [Simple Statistical Analysis](https://www.skillsyouneed.com/num/simple-statistical-analysis.html)\n",
    "+ [Mean Median Mode: What They Are, How to Find Them](https://www.statisticshowto.com/probability-and-statistics/statistics-definitions/mean-median-mode/)\n",
    "+ [Standard Deviation: Definition, Examples](https://www.statisticshowto.com/probability-and-statistics/standard-deviation/)"
   ]
  },
  {
   "cell_type": "markdown",
   "id": "610a877c",
   "metadata": {},
   "source": [
    "## data\n",
    "$$\n",
    "X = \\{ 4, 7, 5, 1, 3, 6, 4, 8, 5, 7, 2, 5, 6, 3, 9, 6, 8, 5, 7, 4 \\} \n",
    "$$"
   ]
  },
  {
   "cell_type": "markdown",
   "id": "e20cbe03",
   "metadata": {},
   "source": [
    "## questions"
   ]
  },
  {
   "cell_type": "markdown",
   "id": "34b93862",
   "metadata": {},
   "source": [
    "### part a (in-class)\n",
    "1. Write equations to obtain $x$ from $X$ and number $N$ of $x$.\n",
    "2. Write equations to obtain mean $x_{\\rm mean}$, median $x_{\\rm med}$, and mode $x_{\\rm mod}$ of $x$.\n",
    "3. Write equation to obtain maximum $x_{\\rm max}$, minimum $x_{\\rm min}$, and range $x_{\\rm range}$ of $x$.\n",
    "4. Write equations to obtain variance $x_{\\rm var}$ and standard deviation $x_{\\rm sdev}$ of $x$."
   ]
  },
  {
   "cell_type": "markdown",
   "id": "5f633191",
   "metadata": {},
   "source": [
    "### part b (take-home)\n",
    "1. Write codes to obtain `x` from `X` and number `N` of `x`.\n",
    "2. Write codes to obtain mean `x_mean`, median `x_med`, and mode `x_mod` of `x`.\n",
    "3. Write codes to obtain maximum `x_max`, minimum `x_min`, and range `x_range` of `x`.\n",
    "4. Write codes to obtain variance `x_var` and standard deviation `x_sdev` of `x`."
   ]
  },
  {
   "cell_type": "markdown",
   "id": "ef5b228b",
   "metadata": {},
   "source": [
    "## answers"
   ]
  },
  {
   "cell_type": "markdown",
   "id": "b33d0a3f",
   "metadata": {},
   "source": [
    "+ Put your answers of part b below this cell.\n",
    "+ Write only one answer in one Code cell.\n",
    "+ There must be **at least four Code cells**.\n",
    "+ Existence of additional Markdown cells for explanation are optional."
   ]
  },
  {
   "cell_type": "code",
   "execution_count": null,
   "id": "5299b218",
   "metadata": {},
   "outputs": [],
   "source": []
  }
 ],
 "metadata": {
  "authors": [
   {
    "name": "Sparisoma Viridi"
   }
  ],
  "kernelspec": {
   "display_name": "Python 3 (ipykernel)",
   "language": "python",
   "name": "python3"
  },
  "language_info": {
   "codemirror_mode": {
    "name": "ipython",
    "version": 3
   },
   "file_extension": ".py",
   "mimetype": "text/x-python",
   "name": "python",
   "nbconvert_exporter": "python",
   "pygments_lexer": "ipython3",
   "version": "3.10.10"
  },
  "title": "simple_stats"
 },
 "nbformat": 4,
 "nbformat_minor": 5
}
