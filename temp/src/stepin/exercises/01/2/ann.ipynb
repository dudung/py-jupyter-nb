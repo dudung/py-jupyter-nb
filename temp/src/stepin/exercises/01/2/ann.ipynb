{
 "cells": [
  {
   "cell_type": "markdown",
   "id": "cca11c7c",
   "metadata": {},
   "source": [
    "# ann\n",
    "Draw artificial neural network architecture using [Mermaid](https://mermaid-js.github.io/mermaid/#/flowchart) in a Markdown file at [Github](https://github.com)"
   ]
  },
  {
   "cell_type": "markdown",
   "id": "3ce339e4",
   "metadata": {},
   "source": [
    "## concept\n",
    "Berikut adalah konsep jaringan saraf tiruan dan contoh arsitekturnya"
   ]
  },
  {
   "cell_type": "markdown",
   "id": "8e6aeee0",
   "metadata": {},
   "source": [
    "```\n",
    "<isikan konsep yang dimaksud beserta persamaan-persamaannya dan hapus bagian ini setelahnya>\n",
    "```\n",
    "\n",
    "\\begin{equation}\\tag{1}\n",
    "a = b + cx + d\\sin x\n",
    "\\end{equation}"
   ]
  },
  {
   "cell_type": "markdown",
   "id": "ab8b9783",
   "metadata": {},
   "source": [
    "## architecture\n",
    "Suatu contoh arsitektur jaringan saraf tiruan (artificial neural network architecture)"
   ]
  },
  {
   "cell_type": "markdown",
   "id": "e517f12a",
   "metadata": {},
   "source": [
    "Kode diagram alirnya dalam Mermaid adalah sebagai berikut\n",
    "\n",
    "```mermaid\n",
    "flowchart LR\n",
    "  %% define elements\n",
    "  A([ I1 ])\n",
    "  B([ I2 ])\n",
    "  C([ O1 ])\n",
    "  %% connect elements\n",
    "  A --> C\n",
    "  B --> C\n",
    "```\n",
    "\n",
    "yang hasilnya dapat dilihat dalam berkas [ann.md](ann.md)."
   ]
  },
  {
   "cell_type": "markdown",
   "id": "815fb06c",
   "metadata": {},
   "source": [
    "```\n",
    "<isikan kode Mermaid untuk arsitektur jaringan saraf tiruan yang dimaksud dan salin ke dalam berkas ann.md sehingga dapat langsung dilihat di GitHub, lalu hapus bagian ini setelahnya>\n",
    "```"
   ]
  },
  {
   "cell_type": "markdown",
   "id": "b374f300",
   "metadata": {},
   "source": [
    "## references"
   ]
  },
  {
   "cell_type": "markdown",
   "id": "1efffd3a",
   "metadata": {},
   "source": [
    "```\n",
    "<isikan referensi yang digunakan bila ada dan hapus bagian ini setelahnya>\n",
    "```"
   ]
  }
 ],
 "metadata": {
  "authors": [
   {
    "name": "Sparisoma Viridi"
   }
  ],
  "kernelspec": {
   "display_name": "Python 3 (ipykernel)",
   "language": "python",
   "name": "python3"
  },
  "language_info": {
   "codemirror_mode": {
    "name": "ipython",
    "version": 3
   },
   "file_extension": ".py",
   "mimetype": "text/x-python",
   "name": "python",
   "nbconvert_exporter": "python",
   "pygments_lexer": "ipython3",
   "version": "3.10.4"
  },
  "title": "ann"
 },
 "nbformat": 4,
 "nbformat_minor": 5
}
