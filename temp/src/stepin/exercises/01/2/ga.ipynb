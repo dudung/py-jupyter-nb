{
 "cells": [
  {
   "cell_type": "markdown",
   "id": "cca11c7c",
   "metadata": {},
   "source": [
    "# genetic algorithm\n",
    "Short concept of genetic algorithm and example of genotype and fenotype"
   ]
  },
  {
   "cell_type": "markdown",
   "id": "3ce339e4",
   "metadata": {},
   "source": [
    "## concept\n",
    "Berikut adalah konsep algoritma genetika"
   ]
  },
  {
   "cell_type": "markdown",
   "id": "8e6aeee0",
   "metadata": {},
   "source": [
    "```\n",
    "<isikan konsep yang dimaksud beserta persamaan-persamaannya (bila ada dan diperlukan) dan hapus bagian ini setelahnya>\n",
    "```\n",
    "\n",
    "\\begin{equation}\\tag{1}\n",
    "a = b + cx + d\\sin x\n",
    "\\end{equation}"
   ]
  },
  {
   "cell_type": "markdown",
   "id": "ab8b9783",
   "metadata": {},
   "source": [
    "## illustration\n",
    "Suatu kasus dan representasinya dalam algoritma genetik serta hasil yang diharapkan adalah sebagai berikut"
   ]
  },
  {
   "cell_type": "markdown",
   "id": "815fb06c",
   "metadata": {},
   "source": [
    "```\n",
    "<isikan ilustrasi algoritma genetik dan representasi feotip dan genotipnya sehingga dapat menjelaskan konsep yang dimaksud (kode tidak diperlukan) dan dapat langsung dilihat di GitHub, lalu hapus bagian ini setelahnya>\n",
    "```"
   ]
  },
  {
   "cell_type": "markdown",
   "id": "b374f300",
   "metadata": {},
   "source": [
    "## references"
   ]
  },
  {
   "cell_type": "markdown",
   "id": "1efffd3a",
   "metadata": {},
   "source": [
    "```\n",
    "<isikan referensi yang digunakan bila ada dan hapus bagian ini setelahnya>\n",
    "```"
   ]
  }
 ],
 "metadata": {
  "authors": [
   {
    "name": "Sparisoma Viridi"
   }
  ],
  "kernelspec": {
   "display_name": "Python 3 (ipykernel)",
   "language": "python",
   "name": "python3"
  },
  "language_info": {
   "codemirror_mode": {
    "name": "ipython",
    "version": 3
   },
   "file_extension": ".py",
   "mimetype": "text/x-python",
   "name": "python",
   "nbconvert_exporter": "python",
   "pygments_lexer": "ipython3",
   "version": "3.10.4"
  },
  "title": "ga"
 },
 "nbformat": 4,
 "nbformat_minor": 5
}
