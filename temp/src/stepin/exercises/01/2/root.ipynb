{
 "cells": [
  {
   "cell_type": "markdown",
   "id": "cca11c7c",
   "metadata": {},
   "source": [
    "# root\n",
    "Finding a root of an equation using Python with Jupyter Notebook"
   ]
  },
  {
   "cell_type": "markdown",
   "id": "3ce339e4",
   "metadata": {},
   "source": [
    "## concept\n",
    "Berikut adalah konsep akar dan salah satu metode cara mencarinya"
   ]
  },
  {
   "cell_type": "markdown",
   "id": "8e6aeee0",
   "metadata": {},
   "source": [
    "```\n",
    "<isikan konsep yang dimaksud beserta persamaan-persamaannya dan hapus bagian ini setelahnya>\n",
    "```\n",
    "\n",
    "\\begin{equation}\\tag{1}\n",
    "a = b + cx + d\\sin x\n",
    "\\end{equation}"
   ]
  },
  {
   "cell_type": "markdown",
   "id": "ab8b9783",
   "metadata": {},
   "source": [
    "## code\n",
    "Penerapan konsep pencarian akar dengan metode yang dimaksud sebelumnya dan hasilnya adalah sebagai berikut"
   ]
  },
  {
   "cell_type": "markdown",
   "id": "815fb06c",
   "metadata": {},
   "source": [
    "```\n",
    "<isikan kode pencarian akar untuk suatu contoh dan hasil yang diharapkan sehingga dapat langsung dilihat di GitHub, lalu hapus bagian ini setelahnya>\n",
    "```"
   ]
  },
  {
   "cell_type": "markdown",
   "id": "b374f300",
   "metadata": {},
   "source": [
    "## references"
   ]
  },
  {
   "cell_type": "markdown",
   "id": "1efffd3a",
   "metadata": {},
   "source": [
    "```\n",
    "<isikan referensi yang digunakan bila ada dan hapus bagian ini setelahnya>\n",
    "```"
   ]
  }
 ],
 "metadata": {
  "authors": [
   {
    "name": "Sparisoma Viridi"
   }
  ],
  "kernelspec": {
   "display_name": "Python 3 (ipykernel)",
   "language": "python",
   "name": "python3"
  },
  "language_info": {
   "codemirror_mode": {
    "name": "ipython",
    "version": 3
   },
   "file_extension": ".py",
   "mimetype": "text/x-python",
   "name": "python",
   "nbconvert_exporter": "python",
   "pygments_lexer": "ipython3",
   "version": "3.10.4"
  },
  "title": "root"
 },
 "nbformat": 4,
 "nbformat_minor": 5
}
