{
 "cells": [
  {
   "cell_type": "markdown",
   "id": "d4e69cf6",
   "metadata": {},
   "source": [
    "# u1\n",
    "Example of midterm of computational physics"
   ]
  },
  {
   "cell_type": "markdown",
   "id": "28af7bec",
   "metadata": {},
   "source": [
    "## 1 exponential growth\n",
    "Terdapat sebuah daerah yang memiliki 2 bagian lahan utama, 10 hektar untuk penghijauan dan 30 hektar untuk pemukiman. Laju pertambahan pemukiman sebanding dengan negatif dari jumlah pemukiman yang ada, sedangkan laju pertumbuhan penduduk yang membutuhkan pemukiman sebanding dengan jumlah penduduknya. Konstanta pembanding untuk lahan adalah 0.8/tahun dan untuk penduduk adalah 0.5/tahun. Hitunglah kapan jumlah lahan yang tersedia secara tepat sejumlah penduduk yang membutuhkan, jika mula-mula jumlah penduduk yang membutuhkan adalah 5 orang. Kapan ini merupakan disimbolkan dengan t dan satuannya adalah tahun."
   ]
  },
  {
   "cell_type": "markdown",
   "id": "a243cb19",
   "metadata": {},
   "source": [
    "Point | Option\n",
    "-: | :-:\n",
    " 0 | 1.5 < t < 1.8\n",
    " 0 | 1.8 ≤ t < 2.0\n",
    "10 | 2.0 ≤ t < 2.5\n",
    "20 | 2.0 ≤ t < 2.25\n",
    "20 | 2.1 ≤ t < 2.3\n",
    " 0 | 2.3 ≤ t < 2.4"
   ]
  },
  {
   "cell_type": "markdown",
   "id": "a3509848",
   "metadata": {},
   "source": [
    "## 2 curve fitting\n",
    "Diberikan data sebagai berikut :\n",
    "\n",
    "```\n",
    "x y\n",
    "0 -0.65342641\n",
    "0.05 -0.247610763\n",
    "0.1 0.003089231\n",
    "0.15 0.159603761\n",
    "0.2 0.258893397\n",
    "0.25 0.323380109\n",
    "0.3 0.366667493\n",
    "0.35 0.397010281\n",
    "0.4 0.41941873\n",
    "0.45 0.436935016\n",
    "0.5 0.451407419\n",
    "0.55 0.463959908\n",
    "0.6 0.47527697\n",
    "0.65 0.485776381\n",
    "0.7 0.495714005\n",
    "0.75 0.505247371\n",
    "0.8 0.514474246\n",
    "0.85 0.523456029\n",
    "0.9 0.532231959\n",
    "0.95 0.540827733\n",
    "1 0.549260744\n",
    "1.05 0.557543259\n",
    "1.1 0.565684354\n",
    "1.15 0.573691096\n",
    "1.2 0.581569261\n",
    "1.25 0.589323772\n",
    "1.3 0.596958974\n",
    "1.35 0.604478802\n",
    "1.4 0.611886884\n",
    "1.45 0.619186611\n",
    "1.5 0.626381178\n",
    "```\n",
    "agar data tersebut dapat di fitting menggunakan rumus<br>\n",
    "$y = a \\ln (x + b) - \\exp(-cx)$<br>\n",
    "yang tepat adalah"
   ]
  },
  {
   "cell_type": "markdown",
   "id": "3bf3d7e7",
   "metadata": {},
   "source": [
    "Point | Option\n",
    "-: | :-:\n",
    " 0 | a = 0.2, b = 1, c = 20\n",
    " 0 | a = 0.1, b = 2, c = 10\n",
    " 0 | a = 0.2, b = 5, c = 1\n",
    " 0 | a = 0.2, b = 5, c = 10\n",
    " 0 | a = 0.2, b = 2, c = 10\n",
    "20 | a = 0.5, b = 2, c = 10"
   ]
  },
  {
   "cell_type": "markdown",
   "id": "608ab2ac",
   "metadata": {},
   "source": [
    "## 3 system of linear equations\n",
    "![](image_3.png)\n",
    "Perhatikan rangkaian listrik tersebut. Nilai-nilai hambatan adalah, R1 = 7 Ω, R2 = 3 Ω, R3 = 5 Ω. Tegangan baterai B1 = 12 V dan B2 = 8 V. Gunakanlah hukum Kirchhoff untuk menentukan arus listrik pada rangkaian tersebut. Gunakan arah Loop 1 searah jarum jam dan Loop 2 berlawanan arah jarum jam. Gunakan arah arus seperti pada gambar. Nilai elemen matrix a[i,j] pada persamaan matrix berikut ini selanjutnya dapat ditentukan.\n",
    "\n",
    "Persamaan tersebut selanjutnya dapat dipecahkan dengan menggunakan algoritma eliminasi Gauss atau algoritma lainnya.\n",
    "\n",
    "Jawaban benar nilai 10 dan jawaban salah nilai -5.\n",
    "\n",
    "\\begin{equation}\n",
    "\\left[\n",
    "\\begin{array}{ccc}\n",
    "a_{11} & a_{12} & a_{13} \\newline\n",
    "a_{21} & a_{22} & a_{23} \\newline\n",
    "a_{31} & a_{32} & a_{33} \\newline\n",
    "\\end{array}\n",
    "\\right] \\left[\n",
    "\\begin{array}{c}\n",
    "I_1 \\newline\n",
    "I_2 \\newline\n",
    "I_3 \\newline\n",
    "\\end{array}\n",
    "\\right] = \\left[\n",
    "\\begin{array}{c}\n",
    "0 \\newline\n",
    "12 \\newline\n",
    "-8 \\newline\n",
    "\\end{array}\n",
    "\\right]\n",
    "\\end{equation}\n",
    "\n",
    "Pernyataan-pernyataan yang benar terkait dengan nilai elemen matrix \n",
    "a[i,j] dan arus I1, I2, I3 (sampai dengan 2 angka dibelakang koma) adalah:"
   ]
  },
  {
   "cell_type": "markdown",
   "id": "c6d5bde2",
   "metadata": {},
   "source": [
    "![](option_3.png)"
   ]
  },
  {
   "cell_type": "markdown",
   "id": "84d59537",
   "metadata": {},
   "source": [
    "## 4 numerical integration\n",
    "![](image_4.png)"
   ]
  },
  {
   "cell_type": "markdown",
   "id": "bd6ffc52",
   "metadata": {},
   "source": [
    "Perhatikan gambar tersebut. Suatu gaya tak konstan dikenakan pada sebuah kotak bermassa 4.73 kg yang awalnya berada di x = 0 m. Kemudian kotak bergerak kearah \n",
    "+x karena adanya gaya tersebut. Anggap permukaan kontak antara kotak-lantai sangat licin. Tentukanlah usaha oleh gaya tersebut dan kelajuan balok saat berada di x = 5.37 m (tuliskan dengan 3 angka dibelakang koma). Gunakan metoda integrasi numerik trapesium/trapezoid dengan 25 partisi untuk evaluasi persamaan integral yang didapat.\n",
    "\n",
    "Usaha dan kecepatan akhir benda adalah"
   ]
  },
  {
   "cell_type": "markdown",
   "id": "5b9064c1",
   "metadata": {},
   "source": [
    "![](option_4.png)"
   ]
  },
  {
   "cell_type": "markdown",
   "id": "0f3e25db",
   "metadata": {},
   "source": [
    "## 5  flowchart\n",
    "![](image_5.png)\n",
    "Diagram alir tersebut digunakan untuk mementukan jumlah akar riil yang berbeda dari suatu persamaan kuadrat berbentuk $y = ax^2 + bx + c$. Keluaran yang diinginkan adalah $N$ dengan $N$ adalah jumlah akar riil berbeda. Pernyataan-pernyataan yang benar adalah"
   ]
  },
  {
   "cell_type": "markdown",
   "id": "6698b6b2",
   "metadata": {},
   "source": [
    "![](option_5.png)"
   ]
  },
  {
   "cell_type": "markdown",
   "id": "51dc08b3",
   "metadata": {},
   "source": [
    "## note\n",
    "U1 diselenggarakan di Edunex dengan ujian di atas terdapat pada https://edunex.itb.ac.id/exam/6599 yang hanya bisa diakses di https://edunex.itb.ac.id/courses/38048 oleh peserta dan pengajar yang terdaftar (FI3201 2021-2)."
   ]
  }
 ],
 "metadata": {
  "authors": [
   {
    "name": "Sparisoma Viridi"
   }
  ],
  "kernelspec": {
   "display_name": "Python 3 (ipykernel)",
   "language": "python",
   "name": "python3"
  },
  "language_info": {
   "codemirror_mode": {
    "name": "ipython",
    "version": 3
   },
   "file_extension": ".py",
   "mimetype": "text/x-python",
   "name": "python",
   "nbconvert_exporter": "python",
   "pygments_lexer": "ipython3",
   "version": "3.10.4"
  },
  "title": "fi3201-2021-2-u1"
 },
 "nbformat": 4,
 "nbformat_minor": 5
}
