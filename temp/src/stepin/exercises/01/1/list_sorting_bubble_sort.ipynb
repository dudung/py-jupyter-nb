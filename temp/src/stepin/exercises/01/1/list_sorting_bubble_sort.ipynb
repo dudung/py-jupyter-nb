{
 "cells": [
  {
   "cell_type": "markdown",
   "id": "cca11c7c",
   "metadata": {},
   "source": [
    "# list_sorting_bubble_sort\n",
    "Jalankan kode pada sel-sel di bawah ini sehingga identitas Anda tertampilkan dengan benar dan urutkan list yang diberikan dari kecil ke besar atau sebaliknya, serta jawab pertanyaan yang ada."
   ]
  },
  {
   "cell_type": "markdown",
   "id": "264a9720",
   "metadata": {},
   "source": [
    "## identity\n",
    "Koreksi kode pada sel berikut sehingga identitas Anda benar tertampilkan."
   ]
  },
  {
   "cell_type": "code",
   "execution_count": null,
   "id": "4e2d555c",
   "metadata": {},
   "outputs": [],
   "source": [
    "from IPython.core.display import HTML\n",
    "HTML(\"<script>Jupyter.notebook.kernel.restart()</script>\")\n",
    "\n",
    "import sys, os\n",
    "sys.path.insert(1, os.path.join(sys.path[0], '../..'))\n",
    "\n",
    "from src.student import Students as stu\n",
    "nim = 10200999\n",
    "print(nim, end=' ')\n",
    "print(stu[nim]['name'], end=' ')\n",
    "print(\"https://github.com/\", stu[nim]['github'], sep='')"
   ]
  },
  {
   "cell_type": "markdown",
   "id": "b4d42d14",
   "metadata": {},
   "source": [
    "## bubble sort\n",
    "Ulas kembali algoritma bubble sort dengan melihat video berikut."
   ]
  },
  {
   "cell_type": "code",
   "execution_count": null,
   "id": "d55cfc02",
   "metadata": {},
   "outputs": [],
   "source": [
    "from IPython.display import YouTubeVideo\n",
    "YouTubeVideo('nmhjrI-aW5o', width=600, height=340)"
   ]
  },
  {
   "cell_type": "markdown",
   "id": "a84a9e02",
   "metadata": {},
   "source": [
    "Atau bila tidak tertampilkan kunjungi https://www.youtube.com/watch?v=nmhjrI-aW5o"
   ]
  },
  {
   "cell_type": "markdown",
   "id": "1a6be198",
   "metadata": {},
   "source": [
    "## example\n",
    "Perhatikan contoh berikut dan hasil yang diberikannya.\n",
    "\n",
    "Kode <a name='cod1'>1</a>. Mengurutkan bilangan dari kecil ke besar dengan bubble sort."
   ]
  },
  {
   "cell_type": "code",
   "execution_count": null,
   "id": "c62f4035",
   "metadata": {},
   "outputs": [],
   "source": [
    "# define a list\n",
    "x = [8, 4, 6, 2, 3, 7, 9, 10, 5, 1]\n",
    "\n",
    "# copy to another list\n",
    "y = x[:]\n",
    "\n",
    "# get length of the list\n",
    "N = len(y)\n",
    "\n",
    "# perform bubble sort\n",
    "for i in range(N-1):\n",
    "    for j in range(i, N):\n",
    "        if y[i] > y[j]:\n",
    "            y[i], y[j] = y[j], y[i]\n",
    "\n",
    "# display original and sorted lists\n",
    "print(\"original = \", x)\n",
    "print(\"sorted = \", y)"
   ]
  },
  {
   "cell_type": "markdown",
   "id": "2686c255",
   "metadata": {},
   "source": [
    "### questions\n",
    "1. Mengapa digunakan `y = x[:]` dan tidak cukup `y = x`? <br>\n",
    "   **Jawab**:\n",
    "2. Apakah arti dari `y[i], y[j] = y[j], y[i]`? <br>\n",
    "   **Jawab**:\n",
    "3. Mengapa pada iterasi pertama dengan `for` digunakan `range(N-1)`. sedangkan pada iterasi keduanya digunakan `range(i, N)`? <br>\n",
    "   **Jawab**:"
   ]
  },
  {
   "cell_type": "markdown",
   "id": "07641b92",
   "metadata": {},
   "source": [
    "## another example\n",
    "Ingin dihasilkan\n",
    "\n",
    "```\n",
    "original =  [8, 4, 6, 2, 3, 7, 9, 10, 5, 1]\n",
    "sorted =  [10, 9, 8, 7, 6, 5, 4, 3, 2, 1]\n",
    "```\n",
    "\n",
    "dengan kode berikut ini (yang masih belum benar).\n",
    "\n",
    "Kode <a name='cod2'>2</a>. Mengurutkan bilangan dari besar ke kecil dengan bubble sort."
   ]
  },
  {
   "cell_type": "code",
   "execution_count": null,
   "id": "2131d166",
   "metadata": {},
   "outputs": [],
   "source": [
    "# define a list\n",
    "x = [8, 4, 6, 2, 3, 7, 9, 10, 5, 1]\n",
    "\n",
    "# copy to another list\n",
    "y = x[:]\n",
    "\n",
    "# get length of the list\n",
    "N = len(y)\n",
    "\n",
    "# perform bubble sort\n",
    "for i in range(N-1):\n",
    "    for j in range(i, N):\n",
    "        if y[i] > y[j]:\n",
    "            y[i], y[j] = y[j], y[i]\n",
    "\n",
    "# display original and sorted lists\n",
    "print(\"original = \", x)\n",
    "print(\"sorted = \", y)"
   ]
  },
  {
   "cell_type": "markdown",
   "id": "d871f928",
   "metadata": {},
   "source": [
    "Modifikasi Kode [2](#cod2) sehingga diperoleh hasil yang diminta, yaitu urutan bilangan dari besar ke kecil.\n",
    "\n",
    "### questions\n",
    "1. Apa yang perlu dimodifikasi? Baris ke berapa? (Toggle Line Numbers dengan 'Shitf-L') pada command mode) <br>\n",
    "   **Jawab**:\n",
    "2. Berapa karakter atau huruf yang perlu diubah pada Kode [2](#cod2)? <br>\n",
    "   **Jawab**:"
   ]
  }
 ],
 "metadata": {
  "kernelspec": {
   "display_name": "Python 3 (ipykernel)",
   "language": "python",
   "name": "python3"
  },
  "language_info": {
   "codemirror_mode": {
    "name": "ipython",
    "version": 3
   },
   "file_extension": ".py",
   "mimetype": "text/x-python",
   "name": "python",
   "nbconvert_exporter": "python",
   "pygments_lexer": "ipython3",
   "version": "3.10.4"
  }
 },
 "nbformat": 4,
 "nbformat_minor": 5
}
