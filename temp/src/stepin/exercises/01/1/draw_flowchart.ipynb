{
 "cells": [
  {
   "cell_type": "markdown",
   "id": "1a7a4c3d",
   "metadata": {},
   "source": [
    "# draw_flowchart\n",
    "Dengan menggunakan [Mermaid](https://mermaid-js.github.io/mermaid/#/) dapat dibuat beraneka [diagram alir](https://mermaid-js.github.io/mermaid/#/flowchart)."
   ]
  },
  {
   "cell_type": "code",
   "execution_count": null,
   "id": "b2fe8948",
   "metadata": {},
   "outputs": [],
   "source": [
    "%load_ext nb_js_diagrammers"
   ]
  },
  {
   "cell_type": "markdown",
   "id": "9ef5818b",
   "metadata": {},
   "source": [
    "## sign\n",
    "Suatu variabel $x$ dapat dapat memiliki tanda positif (+1), nol (0) atau negativ (-1) mengikuti\n",
    "\n",
    "<a name='eqn1'></a>\n",
    "\\begin{equation}\\tag{1}\n",
    "{\\rm sign}(x) = \\left\\{\n",
    "\\begin{array}{rl}\n",
    "+1, & x > 0\\newline\n",
    "0, & x = 0 \\newline\n",
    "-1, & x < 0.\n",
    "\\end{array}\n",
    "\\right.\n",
    "\\end{equation}\n",
    "\n",
    "Persamaan ([1](#eqn1)) ini dipergunakan salah satunya untuk menentukan arah dari suatu vektor."
   ]
  },
  {
   "cell_type": "markdown",
   "id": "978f3b5e",
   "metadata": {},
   "source": [
    "## example\n",
    "Berikut ini adalah contoh penggunaan Mermaid untuk membuat diagram alir menentukan tanda dari suatu bilangan."
   ]
  },
  {
   "cell_type": "code",
   "execution_count": null,
   "id": "46e9f88f",
   "metadata": {},
   "outputs": [],
   "source": [
    "%%mermaid_magic -h 720\n",
    "\n",
    "flowchart TD\n",
    "    B([ Mulai ]);\n",
    "    E([ Selesai ]);\n",
    "    I[/ x /];\n",
    "    D1{ x > 0};\n",
    "    D2{ x = 0};\n",
    "    S1[ sign = 1];\n",
    "    S2[ sign = 0];\n",
    "    S3[ sign = -1];\n",
    "    O[/ sign /];\n",
    "    B --> I;\n",
    "    I --> D1;\n",
    "    D1 -- Y --> S1;\n",
    "    D1 -- T --> D2;\n",
    "    D2 -- T --> S3;\n",
    "    D2 -- Y --> S2;\n",
    "    S1 --> O;\n",
    "    S2 --> O;\n",
    "    S3 --> O;\n",
    "    O --> E;"
   ]
  },
  {
   "cell_type": "markdown",
   "id": "0b0e2ae1",
   "metadata": {},
   "source": [
    "Diagram alir di atas merupakan penerapan dari menurut Persamaan ([1](#eqn1))."
   ]
  },
  {
   "cell_type": "markdown",
   "id": "a8cd565e",
   "metadata": {},
   "source": [
    "Untuk dapat menggambarkan diagram alir di atas secara lokal perlu dinstal [nb-js-diagrammers](https://pypi.org/project/nb-js-diagrammers/0.0.7/). Dan untuk melihatnya di GitHub cukup dibuat suatu berkas Markdown seperti [draw_flowchart_sign.md](draw_flowchart_sign.md)."
   ]
  },
  {
   "cell_type": "markdown",
   "id": "2ca1a9dd",
   "metadata": {},
   "source": [
    "## comparing two number\n",
    "Salah satu diagram alir untuk membandingkan dua buah bilangan adalah sebagai berikut.\n",
    "\n",
    "![](draw_flowchart_compare_two_numbers.png)\n",
    "\n",
    "Koreksi kode berikut untuk mendapatkan hasil di atas."
   ]
  },
  {
   "cell_type": "code",
   "execution_count": null,
   "id": "b9ae6a9d",
   "metadata": {},
   "outputs": [],
   "source": [
    "%%mermaid_magic -h 160\n",
    "\n",
    "flowchart TD\n",
    "    B([ Mulai ]);\n",
    "    E([ Selesai ]);\n",
    "    B --> E;"
   ]
  },
  {
   "cell_type": "markdown",
   "id": "bd61bc84",
   "metadata": {},
   "source": [
    "Hasil kode di atas dapat dilihat pada berkas [draw_flowchart_compare_two_numbers.md](draw_flowchart_compare_two_numbers.md)."
   ]
  }
 ],
 "metadata": {
  "kernelspec": {
   "display_name": "Python 3 (ipykernel)",
   "language": "python",
   "name": "python3"
  },
  "language_info": {
   "codemirror_mode": {
    "name": "ipython",
    "version": 3
   },
   "file_extension": ".py",
   "mimetype": "text/x-python",
   "name": "python",
   "nbconvert_exporter": "python",
   "pygments_lexer": "ipython3",
   "version": "3.10.4"
  }
 },
 "nbformat": 4,
 "nbformat_minor": 5
}
