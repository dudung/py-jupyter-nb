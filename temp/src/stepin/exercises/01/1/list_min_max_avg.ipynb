{
 "cells": [
  {
   "cell_type": "markdown",
   "id": "cca11c7c",
   "metadata": {},
   "source": [
    "# list_min_max_avg\n",
    "Jalankan kode pada sel-sel di bawah ini sehingga identitas Anda tertampilkan dengan benar dan lakukan statistik sederhana."
   ]
  },
  {
   "cell_type": "code",
   "execution_count": null,
   "id": "4e2d555c",
   "metadata": {},
   "outputs": [],
   "source": [
    "from IPython.core.display import HTML\n",
    "HTML(\"<script>Jupyter.notebook.kernel.restart()</script>\")\n",
    "\n",
    "import sys, os\n",
    "sys.path.insert(1, os.path.join(sys.path[0], '../..'))\n",
    "\n",
    "from src.student import Students as stu\n",
    "nim = 10200999\n",
    "print(nim, end=' ')\n",
    "print(stu[nim]['name'], end=' ')\n",
    "print(\"https://github.com/\", stu[nim]['github'], sep='')"
   ]
  },
  {
   "cell_type": "markdown",
   "id": "65eef62f",
   "metadata": {},
   "source": [
    "Bila terdapat $N$ bilangan maka rata-ratanya dapat diperoleh melalui\n",
    "\n",
    "\\begin{equation}\n",
    "x_{\\rm avg} = \\frac1N \\sum_{i = 1}^N x_i,\n",
    "\\end{equation}\n",
    "\n",
    "untuk misalnya $x = \\{ x_1, x_2, \\dots, x_N \\}$."
   ]
  },
  {
   "cell_type": "code",
   "execution_count": null,
   "id": "a3483fbd",
   "metadata": {},
   "outputs": [],
   "source": [
    "def avg(x):\n",
    "    sum = 0\n",
    "    for i in x:\n",
    "        sum = i\n",
    "    N = len(x)\n",
    "    val = sum / N\n",
    "    return val\n",
    "\n",
    "x = [1, 10, 5, 7, 9, 2, 4, 6, 8, 3]\n",
    "\n",
    "#xmin = \n",
    "#xmax = \n",
    "#xavg = \n",
    "\n",
    "print(\"x = \", x, sep='')\n",
    "print(\"xmin = \", xmin, sep='')\n",
    "print(\"xmax = \", xmax, sep='')\n",
    "print(\"xavg = \", xavg, sep='')"
   ]
  },
  {
   "cell_type": "markdown",
   "id": "97dfb8cf",
   "metadata": {},
   "source": [
    "Perbaiki kode di atas sehingga dapat diperoleh nilai $x_{\\rm min}$, $x_{\\rm max}$, dan $x_{\\rm avg}$."
   ]
  }
 ],
 "metadata": {
  "kernelspec": {
   "display_name": "Python 3 (ipykernel)",
   "language": "python",
   "name": "python3"
  },
  "language_info": {
   "codemirror_mode": {
    "name": "ipython",
    "version": 3
   },
   "file_extension": ".py",
   "mimetype": "text/x-python",
   "name": "python",
   "nbconvert_exporter": "python",
   "pygments_lexer": "ipython3",
   "version": "3.10.4"
  }
 },
 "nbformat": 4,
 "nbformat_minor": 5
}
