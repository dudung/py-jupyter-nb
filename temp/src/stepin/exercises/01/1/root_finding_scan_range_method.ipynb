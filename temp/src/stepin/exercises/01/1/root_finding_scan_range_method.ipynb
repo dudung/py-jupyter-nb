{
 "cells": [
  {
   "cell_type": "markdown",
   "id": "cca11c7c",
   "metadata": {},
   "source": [
    "# root_finding_scan_range_method\n",
    "Jalankan kode pada sel-sel di bawah ini sehingga identitas Anda tertampilkan dengan benar dan perkirakan posisi rentang-rentang di mana akar dari suatu fungsi terdapat."
   ]
  },
  {
   "cell_type": "markdown",
   "id": "6366ac0c",
   "metadata": {},
   "source": [
    "## scan range method\n",
    "Ulas kembali secara singkat metode scan range method oleh Namir Shammas di http://h20331.www2.hp.com/hpsub/downloads/S06_Oct12_Multi-Root%20Solver%20Ver%201a.pdf"
   ]
  },
  {
   "cell_type": "markdown",
   "id": "264a9720",
   "metadata": {},
   "source": [
    "## identity\n",
    "Koreksi kode pada sel berikut sehingga identitas Anda benar tertampilkan."
   ]
  },
  {
   "cell_type": "code",
   "execution_count": null,
   "id": "4e2d555c",
   "metadata": {},
   "outputs": [],
   "source": [
    "from IPython.core.display import HTML\n",
    "HTML(\"<script>Jupyter.notebook.kernel.restart()</script>\")\n",
    "\n",
    "import sys, os\n",
    "sys.path.insert(1, os.path.join(sys.path[0], '../..'))\n",
    "\n",
    "from src.student import Students as stu\n",
    "nim = 10200999\n",
    "print(nim, end=' ')\n",
    "print(stu[nim]['name'], end=' ')\n",
    "print(\"https://github.com/\", stu[nim]['github'], sep='')"
   ]
  },
  {
   "cell_type": "markdown",
   "id": "b4d42d14",
   "metadata": {},
   "source": [
    "## function\n",
    "Sebuah fungsi matematika, misalnya saja\n",
    "\n",
    "<a name='eqn1'></a>\n",
    "\\begin{equation}\\tag{1}\n",
    "f(x) = \\left[ x - 2.5 e^{-1.5(x - 2.4)} \\right] \\sin \\tfrac12 \\pi (x-1.25)\n",
    "\\end{equation}\n",
    "\n",
    "dapat digambarkan dengan dalam rentang $x \\in [x_{\\rm beg}, x_{\\rm end}]$."
   ]
  },
  {
   "cell_type": "code",
   "execution_count": null,
   "id": "91d18261",
   "metadata": {},
   "outputs": [],
   "source": [
    "import math\n",
    "\n",
    "# define a function of x\n",
    "def f(x):\n",
    "    y1 = (x -  2.5 * math.exp(-1.5*(x - 2.4)))\n",
    "    y2 = math.sin(2 * math.pi * (x - 1.25) / 4)\n",
    "    y = y1 * y2\n",
    "    return y"
   ]
  },
  {
   "cell_type": "code",
   "execution_count": null,
   "id": "50160c26",
   "metadata": {},
   "outputs": [],
   "source": [
    "# create data\n",
    "xbeg = 0\n",
    "xend = 10\n",
    "N = 100\n",
    "dx = (xend - xbeg) / N\n",
    "\n",
    "xx = []\n",
    "yy = []\n",
    "\n",
    "for i in range(0, N + 1):\n",
    "    x = xbeg + i * dx\n",
    "    y = f(x)\n",
    "    \n",
    "    xx.append(x)\n",
    "    yy.append(y)\n"
   ]
  },
  {
   "cell_type": "code",
   "execution_count": null,
   "id": "86684f45",
   "metadata": {},
   "outputs": [],
   "source": [
    "import matplotlib.pyplot as plt\n",
    "\n",
    "# plot data\n",
    "plt.ion()\n",
    "fig, ax = plt.subplots()\n",
    "ax.set_xlabel(\"$x$\")\n",
    "ax.set_ylabel(\"$y$\")\n",
    "ax.set_ylim([-9, 9])\n",
    "plt.plot(xx, yy)\n",
    "\n",
    "# draw horizontal line\n",
    "line = plt.Line2D((xbeg, xend), (0, 0), color='#aaa', lw=1, ls='dashed')\n",
    "plt.gca().add_line(line)\n",
    "\n",
    "# show plot result\n",
    "plt.show()"
   ]
  },
  {
   "cell_type": "markdown",
   "id": "1bf9a1a4",
   "metadata": {},
   "source": [
    "## scan range method\n",
    "Suatu rentang $x \\in [x_i, x_{i+1}]$ dengan\n",
    "\n",
    "<a name='eqn2'></a>\n",
    "\\begin{equation}\\tag{2}\n",
    "f(x_i) f(x_{i+1}) < 0,\n",
    "\\end{equation}\n",
    "\n",
    "memiliki setidaknya satu akar.\n",
    "\n",
    "Kode <a name='cod1'>1</a>. Mencari rentang-rentang terdapatnya akar."
   ]
  },
  {
   "cell_type": "code",
   "execution_count": null,
   "id": "3f7cb0c1",
   "metadata": {},
   "outputs": [],
   "source": [
    "dx = 3\n",
    "\n",
    "root_range = []\n",
    "\n",
    "x = xbeg\n",
    "while x <= xend:\n",
    "    f1 = f(x)\n",
    "    f2 = f(x + dx)\n",
    "    \n",
    "    if f1 * f2 < 0 and x + dx <= xend:\n",
    "        a_range = [x, x + dx]\n",
    "        root_range.append(a_range)\n",
    "        \n",
    "    x += dx\n",
    "\n",
    "print(\"Root range\")\n",
    "print(root_range)"
   ]
  },
  {
   "cell_type": "markdown",
   "id": "c7050f55",
   "metadata": {},
   "source": [
    "Rentang-rentang yang di dalamnya terdapat akar dapat digambarkan pada fungsi yang sebelumnya pada Persamaan ([1](#eqn1)) seperti pada gambar berikut ini.\n",
    "\n",
    "Kode <a name='cod2'>2</a>. Menampilkan kurva dan rentang akar-akarnya."
   ]
  },
  {
   "cell_type": "code",
   "execution_count": null,
   "id": "e0a6ffc8",
   "metadata": {},
   "outputs": [],
   "source": [
    "# plot data\n",
    "plt.ion()\n",
    "fig, ax = plt.subplots()\n",
    "ax.set_xlabel(\"$x$\")\n",
    "ax.set_ylabel(\"$y$\")\n",
    "ax.set_ylim([-9, 9])\n",
    "plt.plot(xx, yy)\n",
    "\n",
    "# draw horizontal line\n",
    "line = plt.Line2D((xbeg, xend), (0, 0), color='#aaa', lw=1, ls='dashed')\n",
    "plt.gca().add_line(line)\n",
    "\n",
    "# draw root range\n",
    "for r in root_range:\n",
    "    x1 = r[0]\n",
    "    x2 = r[1]\n",
    "    line = plt.Line2D((x1, x2), (0, 0), color='#f00', alpha=0.4, lw=4)\n",
    "    plt.gca().add_line(line)\n",
    "\n",
    "# show plot result\n",
    "plt.show()"
   ]
  },
  {
   "cell_type": "markdown",
   "id": "727025fe",
   "metadata": {},
   "source": [
    "Modifikasi Kode [1](#cod1) dan [2](#cod2) yang diberikan sehingga penggambaran rentang-rentang terdapatnya akar menjadi lebih tepat."
   ]
  }
 ],
 "metadata": {
  "kernelspec": {
   "display_name": "Python 3 (ipykernel)",
   "language": "python",
   "name": "python3"
  },
  "language_info": {
   "codemirror_mode": {
    "name": "ipython",
    "version": 3
   },
   "file_extension": ".py",
   "mimetype": "text/x-python",
   "name": "python",
   "nbconvert_exporter": "python",
   "pygments_lexer": "ipython3",
   "version": "3.10.4"
  }
 },
 "nbformat": 4,
 "nbformat_minor": 5
}
