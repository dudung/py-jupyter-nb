{
 "cells": [
  {
   "cell_type": "markdown",
   "id": "cca11c7c",
   "metadata": {},
   "source": [
    "# fork_a_repository_and_comment\n",
    "Jalankan kode pada sel-sel di bawah ini sehingga identitas Anda tertampilkan dengan benar dan lakukan fork repositori yang diminta dan berikan komentar pada issue yang ditentukan."
   ]
  },
  {
   "cell_type": "markdown",
   "id": "264a9720",
   "metadata": {},
   "source": [
    "## identity\n",
    "Koreksi kode pada sel berikut sehingga identitas Anda benar tertampilkan."
   ]
  },
  {
   "cell_type": "code",
   "execution_count": null,
   "id": "4e2d555c",
   "metadata": {},
   "outputs": [],
   "source": [
    "from IPython.core.display import HTML\n",
    "HTML(\"<script>Jupyter.notebook.kernel.restart()</script>\")\n",
    "\n",
    "import sys, os\n",
    "sys.path.insert(1, os.path.join(sys.path[0], '../..'))\n",
    "\n",
    "from src.student import Students as stu\n",
    "nim = 10200999\n",
    "print(nim, end=' ')\n",
    "print(stu[nim]['name'], end=' ')\n",
    "print(\"https://github.com/\", stu[nim]['github'], sep='')"
   ]
  },
  {
   "cell_type": "markdown",
   "id": "b4d42d14",
   "metadata": {},
   "source": [
    "## fork\n",
    "Lakukan fork untuk repositori berikut\n",
    "+ https://github.com/dudung/2021-2-fi3201-01-u2 (untuk soal ujian)\n",
    "+ https://github.com/dudung/python-jupyter-notebook (untuk latihan menulis komentar)"
   ]
  },
  {
   "cell_type": "markdown",
   "id": "a62fd334",
   "metadata": {},
   "source": [
    "### question\n",
    "1. Tuliskan link kedua repositori yang telah Anda fork tersebut. <br>\n",
    "   **Jawab**:"
   ]
  },
  {
   "cell_type": "markdown",
   "id": "41a867d9",
   "metadata": {},
   "source": [
    "## comment\n",
    "Pada repositori [python-jupyter-notebook](https://github.com/dudung/python-jupyter-notebook) berikan komentar pada [issue 1](https://github.com/dudung/python-jupyter-notebook/issues/1).\n",
    "\n",
    "![](repository_comment.png)\n",
    "\n",
    "Terlah terdapat dua pengguna, [feeskoum](https://github.com/feeskoum) dan [botkoum](https://github.com/botkoum), yang memberikan usul dan komentar.\n",
    "\n",
    "Tautan komentar keduanya (dapat diperoleh dari ikon ... pada kotak komentar yang Anda isi) adalah\n",
    "+ feeskoum: https://github.com/dudung/python-jupyter-notebook/issues/1#issuecomment-1114231812\n",
    "+ botkuom: https://github.com/dudung/python-jupyter-notebook/issues/1#issuecomment-1114235685\n",
    "\n",
    "Berikut adalah contoh mendapatkan tautan komentar untuk botkuom (Copy link setelah ... diklik dengan tetikus).\n",
    "![](comment_link.png)\n"
   ]
  },
  {
   "cell_type": "markdown",
   "id": "0c0116c5",
   "metadata": {},
   "source": [
    "### question\n",
    "1. Tuliskan link komentar yang Andan berikan <br>\n",
    "   **Jawab**:"
   ]
  }
 ],
 "metadata": {
  "kernelspec": {
   "display_name": "Python 3 (ipykernel)",
   "language": "python",
   "name": "python3"
  },
  "language_info": {
   "codemirror_mode": {
    "name": "ipython",
    "version": 3
   },
   "file_extension": ".py",
   "mimetype": "text/x-python",
   "name": "python",
   "nbconvert_exporter": "python",
   "pygments_lexer": "ipython3",
   "version": "3.10.4"
  }
 },
 "nbformat": 4,
 "nbformat_minor": 5
}
