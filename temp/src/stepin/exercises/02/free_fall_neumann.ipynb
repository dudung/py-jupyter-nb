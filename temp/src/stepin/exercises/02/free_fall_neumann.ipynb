{
 "cells": [
  {
   "cell_type": "markdown",
   "id": "d4e69cf6",
   "metadata": {},
   "source": [
    "# free-fall-neumann\n",
    "simulate a free fall using finite difference method with neumann b.c."
   ]
  },
  {
   "cell_type": "markdown",
   "id": "54e568ff",
   "metadata": {},
   "source": [
    "## analytical solution\n",
    "use the information at https://github.com/dudung/xeqn/blob/main/src/0020.md as follow.\n",
    "\n",
    "$t$ | $v$ | $y$\n",
    ":-: | :-: | :-:\n",
    "$0$ |  $20$ |  $0$\n",
    "$1$ |  $10$ | $15$\n",
    "$2$ |   $0$ | $20$\n",
    "$3$ | $-10$ | $15$\n",
    "$4$ | $-20$ |  $0$"
   ]
  },
  {
   "cell_type": "markdown",
   "id": "b3bb2a32",
   "metadata": {},
   "source": [
    "## neumann b.c.\n",
    "$v(t_0) = v_0$ and $v(t_N) = v_N$, which are from previous table, e.g. $v(0) = 20$ and $v(4) = -20$."
   ]
  },
  {
   "cell_type": "code",
   "execution_count": 4,
   "id": "a92e210d",
   "metadata": {},
   "outputs": [
    {
     "name": "stdout",
     "output_type": "stream",
     "text": [
      "[[-1.  1.  0.  0.  0.  0.  0.  0.  0.  0.  0.  0.  0.  0.  0.  0.  0.]\n",
      " [ 1. -2.  1.  0.  0.  0.  0.  0.  0.  0.  0.  0.  0.  0.  0.  0.  0.]\n",
      " [ 0.  1. -2.  1.  0.  0.  0.  0.  0.  0.  0.  0.  0.  0.  0.  0.  0.]\n",
      " [ 0.  0.  1. -2.  1.  0.  0.  0.  0.  0.  0.  0.  0.  0.  0.  0.  0.]\n",
      " [ 0.  0.  0.  1. -2.  1.  0.  0.  0.  0.  0.  0.  0.  0.  0.  0.  0.]\n",
      " [ 0.  0.  0.  0.  1. -2.  1.  0.  0.  0.  0.  0.  0.  0.  0.  0.  0.]\n",
      " [ 0.  0.  0.  0.  0.  1. -2.  1.  0.  0.  0.  0.  0.  0.  0.  0.  0.]\n",
      " [ 0.  0.  0.  0.  0.  0.  1. -2.  1.  0.  0.  0.  0.  0.  0.  0.  0.]\n",
      " [ 0.  0.  0.  0.  0.  0.  0.  1. -2.  1.  0.  0.  0.  0.  0.  0.  0.]\n",
      " [ 0.  0.  0.  0.  0.  0.  0.  0.  1. -2.  1.  0.  0.  0.  0.  0.  0.]\n",
      " [ 0.  0.  0.  0.  0.  0.  0.  0.  0.  1. -2.  1.  0.  0.  0.  0.  0.]\n",
      " [ 0.  0.  0.  0.  0.  0.  0.  0.  0.  0.  1. -2.  1.  0.  0.  0.  0.]\n",
      " [ 0.  0.  0.  0.  0.  0.  0.  0.  0.  0.  0.  1. -2.  1.  0.  0.  0.]\n",
      " [ 0.  0.  0.  0.  0.  0.  0.  0.  0.  0.  0.  0.  1. -2.  1.  0.  0.]\n",
      " [ 0.  0.  0.  0.  0.  0.  0.  0.  0.  0.  0.  0.  0.  1. -2.  1.  0.]\n",
      " [ 0.  0.  0.  0.  0.  0.  0.  0.  0.  0.  0.  0.  0.  0.  1. -2.  1.]\n",
      " [ 0.  0.  0.  0.  0.  0.  0.  0.  0.  0.  0.  0.  0.  0.  0. -1.  1.]]\n",
      "[ 5.    -0.625 -0.625 -0.625 -0.625 -0.625 -0.625 -0.625 -0.625 -0.625\n",
      " -0.625 -0.625 -0.625 -0.625 -0.625 -0.625 -5.   ]\n",
      "det of A = 0.0\n",
      "singular matrix\n"
     ]
    },
    {
     "ename": "SystemExit",
     "evalue": "",
     "output_type": "error",
     "traceback": [
      "An exception has occurred, use %tb to see the full traceback.\n",
      "\u001b[1;31mSystemExit\u001b[0m\n"
     ]
    },
    {
     "name": "stderr",
     "output_type": "stream",
     "text": [
      "C:\\Users\\Sparisoma Viridi\\AppData\\Local\\Packages\\PythonSoftwareFoundation.Python.3.10_qbz5n2kfra8p0\\LocalCache\\local-packages\\Python310\\site-packages\\IPython\\core\\interactiveshell.py:3377: UserWarning: To exit: use 'exit', 'quit', or Ctrl-D.\n",
      "  warn(\"To exit: use 'exit', 'quit', or Ctrl-D.\", stacklevel=1)\n"
     ]
    }
   ],
   "source": [
    "import numpy as np\n",
    "import matplotlib.pyplot as plt\n",
    "plt.style.use('seaborn-poster')\n",
    "%matplotlib inline\n",
    "\n",
    "# gravity\n",
    "g = 10\n",
    "\n",
    "# time\n",
    "tbeg = 0\n",
    "tend = 4\n",
    "\n",
    "# discretization of time\n",
    "N = 16\n",
    "h = (tend - tbeg) / N\n",
    "\n",
    "# left b.c. position according to given table\n",
    "t0 = tbeg\n",
    "v0 = 20\n",
    "\n",
    "# left b.c. velocity according to given table\n",
    "tN = tend\n",
    "vN = -20\n",
    "\n",
    "# Get A\n",
    "A = np.zeros((N+1, N+1))\n",
    "A[0, 0] = -1\n",
    "A[0, 1] = 1\n",
    "A[N, -2] = -1\n",
    "A[N, -1] = 1\n",
    "for i in range(1, N):\n",
    "    A[i, i-1] = 1\n",
    "    A[i, i] = -2\n",
    "    A[i, i+1] = 1\n",
    "\n",
    "print(A)\n",
    "\n",
    "# Get b\n",
    "b = np.zeros(N+1)\n",
    "b[1:-1] = -g * h**2\n",
    "b[0] = h * v0\n",
    "b[N] = h * vN\n",
    "print(b)\n",
    "\n",
    "import sys\n",
    "\n",
    "from numpy.linalg import inv, det\n",
    "detA = det(A)\n",
    "print(\"det of A =\", detA)\n",
    "if detA == 0:\n",
    "    print(\"singular matrix\")\n",
    "    #quit()\n",
    "    #exit()\n",
    "    sys.exit()\n",
    "    #pass\n",
    "\n",
    "# solve the linear equations\n",
    "y = np.linalg.solve(A, b)\n",
    "\n",
    "# time variable\n",
    "t = np.linspace(tbeg, tend, N + 1)\n",
    "\n",
    "# show results\n",
    "plt.figure(figsize=(10,8))\n",
    "plt.plot(t, y, 'y')\n",
    "plt.grid()\n",
    "plt.xlabel('time (s)')\n",
    "plt.ylabel('altitude (m)')\n",
    "plt.show()\n",
    "\n",
    "print(\"N=\", N)\n",
    "print(\"peak is located at\")\n",
    "print(\"t =\", t[int(N/2)])\n",
    "print(\"y=\", y[int(N/2)])"
   ]
  },
  {
   "cell_type": "markdown",
   "id": "71dae59e",
   "metadata": {},
   "source": [
    "## refs\n",
    "1. Qingkai Kong, Timmy Siauw, Alexandre Bayen, \"Finite Difference Method\", Python Programming And Numerical Methods: A Guide For Engineers And Scientists, 1st edition, Nov 2020, url <https://pythonnumericalmethods.berkeley.edu/notebooks/chapter23.03-Finite-Difference-Method.html> [20221026]"
   ]
  }
 ],
 "metadata": {
  "authors": [
   {
    "name": "Sparisoma Viridi"
   }
  ],
  "kernelspec": {
   "display_name": "Python 3 (ipykernel)",
   "language": "python",
   "name": "python3"
  },
  "language_info": {
   "codemirror_mode": {
    "name": "ipython",
    "version": 3
   },
   "file_extension": ".py",
   "mimetype": "text/x-python",
   "name": "python",
   "nbconvert_exporter": "python",
   "pygments_lexer": "ipython3",
   "version": "3.10.8"
  },
  "title": "free-fall-neumann"
 },
 "nbformat": 4,
 "nbformat_minor": 5
}
