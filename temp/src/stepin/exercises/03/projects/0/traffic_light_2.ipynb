{
 "cells": [
  {
   "cell_type": "markdown",
   "id": "d4e69cf6",
   "metadata": {},
   "source": [
    "# traffic_light_2\n",
    "simulate state change of traffic light | see [traffic_light_1](traffic_light_1.ipynb) for previous step."
   ]
  },
  {
   "cell_type": "markdown",
   "id": "be8f396a",
   "metadata": {},
   "source": [
    "## only one traffic light"
   ]
  },
  {
   "cell_type": "code",
   "execution_count": 1,
   "id": "4a65784c",
   "metadata": {},
   "outputs": [
    {
     "name": "stdout",
     "output_type": "stream",
     "text": [
      "[0, 0, 0, 0, 0, 0, 0, 0, 0, 0, 0, 0, 0, 0, 0, 0, 0, 0, 0, 0, 0, 0, 0, 0, 0, 0, 0, 0, 0, 0, 0, 0, 0, 0, 0, 0, 0, 0, 0, 0, 0, 0, 0, 0, 0, 0, 0, 0, 0, 0, 1, 1, 1, 1, 1, 2, 2, 2, 2, 2, 2, 2, 2, 2, 2, 2, 2, 2, 2, 2, 2, 2, 2, 2, 2, 2, 2, 2, 2, 2, 2, 2, 2, 2, 2, 2, 2, 2, 2, 2]\n"
     ]
    }
   ],
   "source": [
    "# state 0 move, 1 prepare to stop, 2 stop\n",
    "stateG = 0\n",
    "stateY = 1\n",
    "stateR = 2\n",
    "\n",
    "# time is s\n",
    "G = 50\n",
    "Y = 5\n",
    "R = 35\n",
    "\n",
    "# create sequence\n",
    "seqG = [stateG] * G\n",
    "seqY = [stateY] * Y\n",
    "seqR = [stateR] * R\n",
    "\n",
    "# join all sequences\n",
    "seq = seqG + seqY + seqR\n",
    "print(seq)"
   ]
  },
  {
   "cell_type": "code",
   "execution_count": 2,
   "id": "767a5c70",
   "metadata": {
    "scrolled": true
   },
   "outputs": [
    {
     "name": "stdout",
     "output_type": "stream",
     "text": [
      "t = 89 Berhenti  \r"
     ]
    }
   ],
   "source": [
    "import time as tm\n",
    "# time delay in s\n",
    "dt = 0.1\n",
    "t = 0\n",
    "for i in seq:\n",
    "    if i == 0:\n",
    "        print(\"t = \", t, end=' ', sep='')\n",
    "        print(\"Jalan     \", end='\\r')\n",
    "        tm.sleep(dt)\n",
    "    elif i == 1:\n",
    "        print(\"t = \", t, end=' ', sep='')\n",
    "        print(\"Hati-hati \", end='\\r')\n",
    "        tm.sleep(dt)\n",
    "    else:\n",
    "        print(\"t = \", t, end=' ', sep='')\n",
    "        print(\"Berhenti  \", end='\\r')\n",
    "        tm.sleep(dt)\n",
    "    t += 1"
   ]
  },
  {
   "cell_type": "markdown",
   "id": "56c6a422",
   "metadata": {},
   "source": [
    "![](screenshot_2.gif)"
   ]
  }
 ],
 "metadata": {
  "authors": [
   {
    "name": "Sparisoma Viridi"
   }
  ],
  "kernelspec": {
   "display_name": "Python 3 (ipykernel)",
   "language": "python",
   "name": "python3"
  },
  "language_info": {
   "codemirror_mode": {
    "name": "ipython",
    "version": 3
   },
   "file_extension": ".py",
   "mimetype": "text/x-python",
   "name": "python",
   "nbconvert_exporter": "python",
   "pygments_lexer": "ipython3",
   "version": "3.9.12"
  },
  "title": "traffic_light_2"
 },
 "nbformat": 4,
 "nbformat_minor": 5
}
