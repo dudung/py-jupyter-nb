{
 "cells": [
  {
   "cell_type": "markdown",
   "id": "d4e69cf6",
   "metadata": {},
   "source": [
    "# traffic_light_3\n",
    "simulate state change of traffic light and display in old fashion way (txt)"
   ]
  },
  {
   "cell_type": "markdown",
   "id": "0a5c1af3",
   "metadata": {},
   "source": [
    "## display of intersection and connection table in text"
   ]
  },
  {
   "cell_type": "code",
   "execution_count": 1,
   "id": "7702146a",
   "metadata": {},
   "outputs": [],
   "source": [
    "# intersection\n",
    "intersection = [\n",
    "    \"             L2  L1\",\n",
    "    \"           | ^      |\",\n",
    "    \"           | |    | |\",\n",
    "    \"           |      v |\",\n",
    "    \"           |        |\",\n",
    "    \"   --------+     T1 +--------\",\n",
    "    \"L3   -->  T2             --> L8\",\n",
    "    \"L4  <--             T4  <--  L7\",\n",
    "    \"   --------+ T3     +--------\",\n",
    "    \"           |        |\",\n",
    "    \"           | ^      |\",\n",
    "    \"           | |    | |\",\n",
    "    \"           |      v |\",\n",
    "    \"             L5  L6\",\n",
    "]\n",
    "\n",
    "# connection and traffic light\n",
    "# lane L(r) connection to lane(c) through traffic ligh T(n)\n",
    "# r = row, c = col, n = traffict light number (1-4), 1 = direct turn\n",
    "connection = [\n",
    "    \"   | L1 | L2 | L3 | L4 | L5 | L6 | L7 | L8 \",\n",
    "    \"---+----+----+----+----+----+----+----+----\",\n",
    "    \"L1 |    |    |    | T1 |    | T1 |    | 1  \",\n",
    "    \"L2 |    |    |    |    |    |    |    |    \",\n",
    "    \"L3 |    | 1  |    |    |    | T2 |    | T2 \",\n",
    "    \"L4 |    |    |    |    |    |    |    |    \",\n",
    "    \"L5 |    | T3 |    | 1  |    |    |    | T3 \",\n",
    "    \"L6 |    |    |    |    |    |    |    |    \",\n",
    "    \"L7 |    | T4 |    | T4 |    | 1  |    |    \",\n",
    "    \"L8 |    |    |    |    |    |    |    |    \",\n",
    "]"
   ]
  },
  {
   "cell_type": "code",
   "execution_count": 2,
   "id": "4a65784c",
   "metadata": {},
   "outputs": [
    {
     "name": "stdout",
     "output_type": "stream",
     "text": [
      "T1 = [0, 0, 0, 1, 1, 2, 2, 2, 2, 2, 2, 2, 2, 2, 2, 2, 2, 2, 2, 2]\n",
      "T2 = [2, 2, 2, 2, 2, 0, 0, 0, 1, 1, 2, 2, 2, 2, 2, 2, 2, 2, 2, 2]\n",
      "T3 = [2, 2, 2, 2, 2, 2, 2, 2, 2, 2, 0, 0, 0, 1, 1, 2, 2, 2, 2, 2]\n",
      "T4 = [2, 2, 2, 2, 2, 2, 2, 2, 2, 2, 2, 2, 2, 2, 2, 0, 0, 0, 1, 1]\n"
     ]
    }
   ],
   "source": [
    "import numpy as np\n",
    "\n",
    "# state 0 move, 1 prepare to stop, 2 stop\n",
    "stateG = 0\n",
    "stateY = 1\n",
    "stateR = 2\n",
    "\n",
    "# time is s\n",
    "G = 3\n",
    "Y = 2\n",
    "R = 15\n",
    "\n",
    "# create sequence\n",
    "seqG = [stateG] * G\n",
    "seqY = [stateY] * Y\n",
    "seqR = [stateR] * R\n",
    "\n",
    "# join all sequences\n",
    "seq1 = seqG + seqY + seqR\n",
    "print(\"T1 =\", seq1)\n",
    "\n",
    "# create other sequence by circular shifting or rolling 5 elements to right\n",
    "seq2 = np.roll(seq1, 5).tolist()\n",
    "print(\"T2 =\", seq2)\n",
    "\n",
    "seq3 = np.roll(seq1, 10).tolist()\n",
    "print(\"T3 =\", seq3)\n",
    "\n",
    "seq4 = np.roll(seq1, 15).tolist()\n",
    "print(\"T4 =\", seq4)"
   ]
  },
  {
   "cell_type": "code",
   "execution_count": null,
   "id": "767a5c70",
   "metadata": {
    "scrolled": true
   },
   "outputs": [
    {
     "name": "stdout",
     "output_type": "stream",
     "text": [
      "Intersection\n",
      "             L2  L1\n",
      "           | ^      |\n",
      "           | |    | |\n",
      "           |      v |\n",
      "           |        |\n",
      "   --------+     T1 +--------\n",
      "L3   -->  T2             --> L8\n",
      "L4  <--             T4  <--  L7\n",
      "   --------+ T3     +--------\n",
      "           |        |\n",
      "           | ^      |\n",
      "           | |    | |\n",
      "           |      v |\n",
      "             L5  L6\n",
      "\n",
      "Connection\n",
      "   | L1 | L2 | L3 | L4 | L5 | L6 | L7 | L8 \n",
      "---+----+----+----+----+----+----+----+----\n",
      "L1 |    |    |    | T1 |    | T1 |    | 1  \n",
      "L2 |    |    |    |    |    |    |    |    \n",
      "L3 |    | 1  |    |    |    | T2 |    | T2 \n",
      "L4 |    |    |    |    |    |    |    |    \n",
      "L5 |    | T3 |    | 1  |    |    |    | T3 \n",
      "L6 |    |    |    |    |    |    |    |    \n",
      "L7 |    | T4 |    | T4 |    | 1  |    |    \n",
      "L8 |    |    |    |    |    |    |    |    \n",
      "\n",
      "Traffic light\n",
      "  t  |  T1  |  T2  |  T3  |  T4  \n",
      "-----+------+------+------+------\n",
      "  33 |   2  |   2  |   1  |   2\r"
     ]
    }
   ],
   "source": [
    "import time as tm\n",
    "dt = 0.5\n",
    "\n",
    "\n",
    "print(\"Intersection\")\n",
    "for i in intersection:\n",
    "    print(i)\n",
    "print()\n",
    "\n",
    "print(\"Connection\")\n",
    "for i in connection:\n",
    "    print(i)\n",
    "print()\n",
    "\n",
    "print(\"Traffic light\")\n",
    "print(\"  t  |  T1  |  T2  |  T3  |  T4  \")\n",
    "print(\"-----+------+------+------+------\")\n",
    "\n",
    "N = len(seq1)\n",
    "t = 0\n",
    "\n",
    "while(True):\n",
    "    for i in range(N):\n",
    "        tm.sleep(dt)\n",
    "\n",
    "        print(f'{t:>4}', sep='', end=' |   ')\n",
    "        print(seq1[i], end='  |   ')\n",
    "        print(seq2[i], end='  |   ')\n",
    "        print(seq3[i], end='  |   ')\n",
    "        print(seq4[i], end='')\n",
    "        print(end='\\r')\n",
    "        \n",
    "        t += 1\n"
   ]
  }
 ],
 "metadata": {
  "authors": [
   {
    "name": "Sparisoma Viridi"
   }
  ],
  "kernelspec": {
   "display_name": "Python 3 (ipykernel)",
   "language": "python",
   "name": "python3"
  },
  "language_info": {
   "codemirror_mode": {
    "name": "ipython",
    "version": 3
   },
   "file_extension": ".py",
   "mimetype": "text/x-python",
   "name": "python",
   "nbconvert_exporter": "python",
   "pygments_lexer": "ipython3",
   "version": "3.10.8"
  },
  "title": "traffic_light_3"
 },
 "nbformat": 4,
 "nbformat_minor": 5
}
