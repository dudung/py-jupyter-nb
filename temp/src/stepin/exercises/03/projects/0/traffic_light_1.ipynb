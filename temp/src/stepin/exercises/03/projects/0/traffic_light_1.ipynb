{
 "cells": [
  {
   "cell_type": "markdown",
   "id": "d4e69cf6",
   "metadata": {},
   "source": [
    "# traffic_light_1\n",
    "simulate state change of traffic light"
   ]
  },
  {
   "cell_type": "markdown",
   "id": "e5069c00",
   "metadata": {},
   "source": [
    "## intersection\n",
    "```\n",
    "             L2  L1\n",
    "           | ^      |\n",
    "           | |    | |\n",
    "           |      v |\n",
    "           |        |\n",
    "   --------+     T1 +--------\n",
    "L3   -->  T2             --> L8\n",
    "L4  <--             T4  <--  L7\n",
    "   --------+ T3     +--------\n",
    "           |        |\n",
    "           | ^      |\n",
    "           | |    | |\n",
    "           |      v |\n",
    "             L5  L6\n",
    "```"
   ]
  },
  {
   "cell_type": "markdown",
   "id": "5d9dbf50",
   "metadata": {},
   "source": [
    "## connection (general)\n",
    "from left to top\n",
    "\n",
    "&nbsp; | L1 | L2 | L3 | L4 | L5 | L6 | L7 | L8\n",
    ":-:    | :-:| :-:| :-:| :-:| :-:| :-:| :-:| :-:\n",
    "**L1** |    |    |    | T1 |    | T1 |    | 1\n",
    "**L2** |    |    |    |    |    |    |    |\n",
    "**L3** |    | 1  |    |    |    | T2 |    | T2\n",
    "**L4** |    |    |    |    |    |    |    |\n",
    "**L5** |    | T3 |    | 1  |    |    |    | T3\n",
    "**L6** |    |    |    |    |    |    |    |\n",
    "**L7** |    | T4 |    | T4 |    | 1  |    |\n",
    "**L8** |    |    |    |    |    |    |    |"
   ]
  },
  {
   "cell_type": "markdown",
   "id": "cd83de73",
   "metadata": {},
   "source": [
    "## connection (simplification)\n",
    "from left to top\n",
    "\n",
    "&nbsp; | L1 | L2 | L3 | L4 | L5 | L6 | L7 | L8\n",
    ":-:    | :-:| :-:| :-:| :-:| :-:| :-:| :-:| :-:\n",
    "**L1** |    |    |    | T1 |    | T1 |    | 1\n",
    "**L3** |    | 1  |    |    |    | T2 |    | T2\n",
    "**L5** |    | T3 |    | 1  |    |    |    | T3\n",
    "**L7** |    | T4 |    | T4 |    | 1  |    |\n"
   ]
  },
  {
   "cell_type": "markdown",
   "id": "2d152bb1",
   "metadata": {},
   "source": [
    "### circular numbering\n",
    "$n \\in [1, 8]$, $n > 8 \\rightarrow n = n - 8$"
   ]
  },
  {
   "cell_type": "markdown",
   "id": "6077fc73",
   "metadata": {},
   "source": [
    "$9 \\equiv 1$ <br>\n",
    "$10 \\equiv 2$<br>\n",
    "$\\dots$ <br>\n",
    "$16 \\equiv 8$ <br>\n",
    "$17 \\equiv 1$ <br>\n",
    "$\\dots$"
   ]
  },
  {
   "cell_type": "markdown",
   "id": "9fdd2820",
   "metadata": {},
   "source": [
    "### requires traffict light\n",
    "$T_m: L_{2m-1} \\rightarrow L_{2m+2}, L_{2m+4}, \\ \\ \\ \\ m = 1, 2, 3, 4$"
   ]
  },
  {
   "cell_type": "markdown",
   "id": "469730ab",
   "metadata": {},
   "source": [
    "$T_1: L_1 \\rightarrow L_4, L_6$ <br>\n",
    "$T_2: L_3 \\rightarrow L_6, L_8$ <br>\n",
    "$T_3: L_5 \\rightarrow L_8, L_2$ <br>\n",
    "$T_4: L_7 \\rightarrow L_2, L_4$"
   ]
  },
  {
   "cell_type": "markdown",
   "id": "f3a8f6a4",
   "metadata": {},
   "source": [
    "### does not require traffic ligt\n",
    "$L_m \\rightarrow L_{m+7} \\ \\ \\ \\ m = 1, 2, 3, 4$"
   ]
  },
  {
   "cell_type": "markdown",
   "id": "75710551",
   "metadata": {},
   "source": [
    "$L_1 \\rightarrow L_8$ <br>\n",
    "$L_3 \\rightarrow L_2$ <br>\n",
    "$L_5 \\rightarrow L_4$ <br>\n",
    "$L_7 \\rightarrow L_6$"
   ]
  },
  {
   "cell_type": "markdown",
   "id": "5ecc3894",
   "metadata": {},
   "source": [
    "### example (not yet fixed)\n",
    "```\n",
    "T1 = 0 0 0 0 1 2 2 2 2 2 2 2 2 2 2 2 2 2 2 2\n",
    "T2 = 2 2 2 2 2 0 0 0 0 1 2 2 2 2 2 2 2 2 2 2\n",
    "T3 = 2 2 2 2 2 2 2 2 2 2 0 0 0 0 1 2 2 2 2 2\n",
    "T4 = 1 2 2 2 2 2 2 2 2 2 2 2 2 2 2 0 0 0 0 0\n",
    "```"
   ]
  }
 ],
 "metadata": {
  "authors": [
   {
    "name": "Sparisoma Viridi"
   }
  ],
  "kernelspec": {
   "display_name": "Python 3 (ipykernel)",
   "language": "python",
   "name": "python3"
  },
  "language_info": {
   "codemirror_mode": {
    "name": "ipython",
    "version": 3
   },
   "file_extension": ".py",
   "mimetype": "text/x-python",
   "name": "python",
   "nbconvert_exporter": "python",
   "pygments_lexer": "ipython3",
   "version": "3.10.8"
  },
  "title": "traffic_light_1"
 },
 "nbformat": 4,
 "nbformat_minor": 5
}
