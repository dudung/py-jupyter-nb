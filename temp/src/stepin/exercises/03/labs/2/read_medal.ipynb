{
 "cells": [
  {
   "cell_type": "markdown",
   "id": "d4e69cf6",
   "metadata": {},
   "source": [
    "# read medals data\n",
    "read an excel file using pandas"
   ]
  },
  {
   "cell_type": "markdown",
   "id": "85b711b7",
   "metadata": {},
   "source": [
    "## import pandas"
   ]
  },
  {
   "cell_type": "code",
   "execution_count": null,
   "id": "63415698",
   "metadata": {},
   "outputs": [],
   "source": [
    "# import pandas library\n",
    "import pandas as pd"
   ]
  },
  {
   "cell_type": "markdown",
   "id": "2f704b4a",
   "metadata": {},
   "source": [
    "## read all data"
   ]
  },
  {
   "cell_type": "code",
   "execution_count": null,
   "id": "885b62ac",
   "metadata": {},
   "outputs": [],
   "source": [
    "df = pd.read_excel(\"medal.xlsx\")\n",
    "print(df)"
   ]
  }
 ],
 "metadata": {
  "authors": [
   {
    "name": "Sparisoma Viridi"
   }
  ],
  "kernelspec": {
   "display_name": "Python 3 (ipykernel)",
   "language": "python",
   "name": "python3"
  },
  "language_info": {
   "codemirror_mode": {
    "name": "ipython",
    "version": 3
   },
   "file_extension": ".py",
   "mimetype": "text/x-python",
   "name": "python",
   "nbconvert_exporter": "python",
   "pygments_lexer": "ipython3",
   "version": "3.10.8"
  },
  "title": "read_medal"
 },
 "nbformat": 4,
 "nbformat_minor": 5
}
