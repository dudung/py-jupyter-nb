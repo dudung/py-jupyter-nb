{
 "cells": [
  {
   "cell_type": "markdown",
   "id": "8b797cea",
   "metadata": {},
   "source": [
    "## stack of things\n",
    "most lowest position should be the heaviest, input from the top"
   ]
  },
  {
   "cell_type": "markdown",
   "id": "db8ffb68",
   "metadata": {},
   "source": [
    "## case 1 (M = 3, N = 2)\n",
    "```\n",
    "5 8\n",
    "6 7\n",
    "7 9\n",
    "```"
   ]
  },
  {
   "cell_type": "code",
   "execution_count": 1,
   "id": "08e8013d",
   "metadata": {},
   "outputs": [
    {
     "name": "stdout",
     "output_type": "stream",
     "text": [
      "Column 0 obeys the rule\n",
      "Column 1 obeys the rule\n",
      "\n",
      "Number of violation = 0\n"
     ]
    }
   ],
   "source": [
    "# create stack of things\n",
    "stack = [\n",
    "    [5, 8],\n",
    "    [6, 7],\n",
    "    [7, 9],\n",
    "]\n",
    "\n",
    "# get height of stack and number of stack\n",
    "M = len(stack)\n",
    "N = len(stack[0])\n",
    "\n",
    "# find max weight for each stack\n",
    "maxw = [0] * N\n",
    "for row in range(M):\n",
    "    for col in range(N):\n",
    "        if row == 0:\n",
    "            maxw[col] = stack[row][col]\n",
    "        else:\n",
    "            if maxw[col] < stack[row][col]:\n",
    "                maxw[col] = stack[row][col]\n",
    "\n",
    "# check most bottom object in each stack\n",
    "V = 0\n",
    "for col in range(N):\n",
    "    if stack[M - 1][col] < maxw[col]:\n",
    "        print(\"Column\", col, \"violates the rule\")\n",
    "        V += 1\n",
    "    else:\n",
    "        print(\"Column\", col, \"obeys the rule\")\n",
    "\n",
    "print()\n",
    "print(\"Number of violation =\", V) "
   ]
  },
  {
   "cell_type": "markdown",
   "id": "76791baf",
   "metadata": {},
   "source": [
    "## case 1 (M = 2, N = 4)\n",
    "```\n",
    "1 2 3 4\n",
    "4 3 2 1\n",
    "```"
   ]
  },
  {
   "cell_type": "code",
   "execution_count": 2,
   "id": "e1debe40",
   "metadata": {},
   "outputs": [
    {
     "name": "stdout",
     "output_type": "stream",
     "text": [
      "Column 0 obeys the rule\n",
      "Column 1 obeys the rule\n",
      "Column 2 violates the rule\n",
      "Column 3 violates the rule\n",
      "\n",
      "Number of violation = 2\n"
     ]
    }
   ],
   "source": [
    "# create stack of things\n",
    "stack = [\n",
    "    [1, 2, 3, 4],\n",
    "    [4, 3, 2, 1],\n",
    "]\n",
    "\n",
    "# get height of stack and number of stack\n",
    "M = len(stack)\n",
    "N = len(stack[0])\n",
    "\n",
    "# find max weight for each stack\n",
    "maxw = [0] * N\n",
    "for row in range(M):\n",
    "    for col in range(N):\n",
    "        if row == 0:\n",
    "            maxw[col] = stack[row][col]\n",
    "        else:\n",
    "            if maxw[col] < stack[row][col]:\n",
    "                maxw[col] = stack[row][col]\n",
    "\n",
    "# check most bottom object in each stack\n",
    "V = 0\n",
    "for col in range(N):\n",
    "    if stack[M - 1][col] < maxw[col]:\n",
    "        print(\"Column\", col, \"violates the rule\")\n",
    "        V += 1\n",
    "    else:\n",
    "        print(\"Column\", col, \"obeys the rule\")\n",
    "\n",
    "print()\n",
    "print(\"Number of violation =\", V)"
   ]
  }
 ],
 "metadata": {
  "kernelspec": {
   "display_name": "Python 3 (ipykernel)",
   "language": "python",
   "name": "python3"
  },
  "language_info": {
   "codemirror_mode": {
    "name": "ipython",
    "version": 3
   },
   "file_extension": ".py",
   "mimetype": "text/x-python",
   "name": "python",
   "nbconvert_exporter": "python",
   "pygments_lexer": "ipython3",
   "version": "3.10.8"
  },
  "metadata": {
   "authors": [
    {
     "name": "Sparisoma Viridi"
    }
   ],
   "kernelspec": {
    "display_name": "Python 3 (ipykernel)",
    "language": "python",
    "name": "python3"
   },
   "language_info": {
    "codemirror_mode": {
     "name": "ipython",
     "version": 3
    },
    "file_extension": ".py",
    "mimetype": "text/x-python",
    "name": "python",
    "nbconvert_exporter": "python",
    "pygments_lexer": "ipython3",
    "version": "3.9.12"
   },
   "title": "401.ipynb"
  },
  "nbformat": 4,
  "nbformat_minor": 5
 },
 "nbformat": 4,
 "nbformat_minor": 5
}
