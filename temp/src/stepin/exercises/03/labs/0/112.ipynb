{
 "cells": [
  {
   "cell_type": "markdown",
   "id": "d4e69cf6",
   "metadata": {},
   "source": [
    "# baggage_lmitation_condition\n",
    "Limitation for total baggage and item for cabin baggage"
   ]
  },
  {
   "cell_type": "code",
   "execution_count": 1,
   "id": "a36394ee",
   "metadata": {},
   "outputs": [
    {
     "name": "stdout",
     "output_type": "stream",
     "text": [
      "Passanger violates policy 1 and 2\n"
     ]
    }
   ],
   "source": [
    "# define baggages mass\n",
    "b1 = 3\n",
    "b2 = 3\n",
    "b3 = 5\n",
    "\n",
    "# define conditions\n",
    "max_total = 10\n",
    "max_cabin = 2\n",
    "\n",
    "# check 1st condition\n",
    "if max_total >= b1 + b2 + b3:\n",
    "    condition_1 = True\n",
    "else:\n",
    "    condition_1 = False\n",
    "\n",
    "# check 2nd condition\n",
    "if b1 <= max_cabin or b2 <= max_cabin or b3 <= max_cabin:\n",
    "    condition_2 = True\n",
    "else:\n",
    "    condition_2 = False\n",
    "\n",
    "# print various messages according to conditions\n",
    "if condition_1 and condition_2:\n",
    "    print(\"Passanger obeys all policy\")\n",
    "elif not condition_1 and condition_2:\n",
    "    print(\"Passanger violates policy 1\")\n",
    "elif condition_1 and not condition_2:\n",
    "    print(\"Passanger violates policy 2\")\n",
    "else:\n",
    "    print(\"Passanger violates policy 1 and 2\")"
   ]
  }
 ],
 "metadata": {
  "authors": [
   {
    "name": "Sparisoma Viridi"
   }
  ],
  "kernelspec": {
   "display_name": "Python 3 (ipykernel)",
   "language": "python",
   "name": "python3"
  },
  "language_info": {
   "codemirror_mode": {
    "name": "ipython",
    "version": 3
   },
   "file_extension": ".py",
   "mimetype": "text/x-python",
   "name": "python",
   "nbconvert_exporter": "python",
   "pygments_lexer": "ipython3",
   "version": "3.10.7"
  },
  "title": "112.ipynb"
 },
 "nbformat": 4,
 "nbformat_minor": 5
}
