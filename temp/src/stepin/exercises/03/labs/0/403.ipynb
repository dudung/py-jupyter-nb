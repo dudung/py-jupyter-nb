{
 "cells": [
  {
   "cell_type": "markdown",
   "id": "8b797cea",
   "metadata": {},
   "source": [
    "# visible building in a sequence\n",
    "smaller one will be covered by the taller one, find max of sum of visible buildings in each column"
   ]
  },
  {
   "cell_type": "markdown",
   "id": "afd232c9",
   "metadata": {},
   "source": [
    "## functions"
   ]
  },
  {
   "cell_type": "code",
   "execution_count": 1,
   "id": "415a34a3",
   "metadata": {},
   "outputs": [],
   "source": [
    "# get visible in column from top\n",
    "def visible_in_column_from_top(x, col):\n",
    "    M = len(x)     # row\n",
    "    N = len(x[0])  # column\n",
    "    cols = []\n",
    "    for row in range(M):\n",
    "        if row == 0:\n",
    "            cols.append(x[row][col])\n",
    "        else:\n",
    "            if x[row][col] > cols[len(cols) - 1]:\n",
    "                cols.append(x[row][col])\n",
    "\n",
    "    return cols\n",
    "\n",
    "# get visible in column from bottom\n",
    "def visible_in_column_from_bottom(x, col):\n",
    "    M = len(x)     # row\n",
    "    N = len(x[0])  # column\n",
    "    cols = []\n",
    "    for row in range(M - 1, -1, -1):\n",
    "        if row == M - 1:\n",
    "            cols.append(x[row][col])\n",
    "        else:\n",
    "            if x[row][col] > cols[len(cols) - 1]:\n",
    "                cols.append(x[row][col])\n",
    "\n",
    "    return cols"
   ]
  },
  {
   "cell_type": "markdown",
   "id": "5d5b9dff",
   "metadata": {},
   "source": [
    "## case 1\n",
    "```\n",
    "3 1 5\n",
    "6 8 2\n",
    "1 3 4\n",
    "```"
   ]
  },
  {
   "cell_type": "code",
   "execution_count": 2,
   "id": "358a4e19",
   "metadata": {},
   "outputs": [
    {
     "name": "stdout",
     "output_type": "stream",
     "text": [
      "[3, 6]\n",
      "[1, 8]\n",
      "[5]\n",
      "[1, 6]\n",
      "[3, 8]\n",
      "\n",
      "11\n"
     ]
    }
   ],
   "source": [
    "photo = [\n",
    "    [3, 1, 5],\n",
    "    [6, 8, 2],\n",
    "    [1, 3, 4],\n",
    "]\n",
    "\n",
    "l1 = visible_in_column_from_top(photo, 0)\n",
    "l2 = visible_in_column_from_top(photo, 1)\n",
    "l3 = visible_in_column_from_top(photo, 2)\n",
    "\n",
    "l4 = visible_in_column_from_bottom(photo, 0)\n",
    "l5 = visible_in_column_from_bottom(photo, 1)\n",
    "l6 = visible_in_column_from_bottom(photo, 2)\n",
    "\n",
    "l = [l1, l2, l3, l4, l5]\n",
    "for i in l:\n",
    "    print(i)\n",
    "\n",
    "h = [sum(i) for i in l]\n",
    "max_height = max(h)\n",
    "print()\n",
    "print(max_height)"
   ]
  },
  {
   "cell_type": "markdown",
   "id": "ff8c78da",
   "metadata": {},
   "source": [
    "## case 2\n",
    "```\n",
    "10  5  7  1\n",
    "12 10 13 12\n",
    "10  5  4 13\n",
    " 1  1 11 12\n",
    "```"
   ]
  },
  {
   "cell_type": "code",
   "execution_count": 3,
   "id": "c1c35e8f",
   "metadata": {},
   "outputs": [
    {
     "name": "stdout",
     "output_type": "stream",
     "text": [
      "[10, 12]\n",
      "[5, 10]\n",
      "[7, 13]\n",
      "[1, 12, 13]\n",
      "[1, 10, 12]\n",
      "\n",
      "26\n"
     ]
    }
   ],
   "source": [
    "photo = [\n",
    "    [10, 5, 7, 1],\n",
    "    [12, 10, 13, 12],\n",
    "    [10, 5, 4, 13],\n",
    "    [1, 1, 11, 12],\n",
    "]\n",
    "\n",
    "l1 = visible_in_column_from_top(photo, 0)\n",
    "l2 = visible_in_column_from_top(photo, 1)\n",
    "l3 = visible_in_column_from_top(photo, 2)\n",
    "l4 = visible_in_column_from_top(photo, 3)\n",
    "\n",
    "l5 = visible_in_column_from_bottom(photo, 0)\n",
    "l6 = visible_in_column_from_bottom(photo, 1)\n",
    "l7 = visible_in_column_from_bottom(photo, 2)\n",
    "l8 = visible_in_column_from_bottom(photo, 3)\n",
    "\n",
    "\n",
    "l = [l1, l2, l3, l4, l5]\n",
    "for i in l:\n",
    "    print(i)\n",
    "\n",
    "h = [sum(i) for i in l]\n",
    "max_height = max(h)\n",
    "print()\n",
    "print(max_height)"
   ]
  }
 ],
 "metadata": {
  "kernelspec": {
   "display_name": "Python 3 (ipykernel)",
   "language": "python",
   "name": "python3"
  },
  "language_info": {
   "codemirror_mode": {
    "name": "ipython",
    "version": 3
   },
   "file_extension": ".py",
   "mimetype": "text/x-python",
   "name": "python",
   "nbconvert_exporter": "python",
   "pygments_lexer": "ipython3",
   "version": "3.10.8"
  },
  "metadata": {
   "authors": [
    {
     "name": "Sparisoma Viridi"
    }
   ],
   "kernelspec": {
    "display_name": "Python 3 (ipykernel)",
    "language": "python",
    "name": "python3"
   },
   "language_info": {
    "codemirror_mode": {
     "name": "ipython",
     "version": 3
    },
    "file_extension": ".py",
    "mimetype": "text/x-python",
    "name": "python",
    "nbconvert_exporter": "python",
    "pygments_lexer": "ipython3",
    "version": "3.9.12"
   },
   "title": "403.ipynb"
  },
  "nbformat": 4,
  "nbformat_minor": 5
 },
 "nbformat": 4,
 "nbformat_minor": 5
}
