{
 "cells": [
  {
   "cell_type": "markdown",
   "id": "8b797cea",
   "metadata": {},
   "source": [
    "# substract with minimum\n",
    "find minimum in a row, substract all with that unless it is already zero"
   ]
  },
  {
   "cell_type": "markdown",
   "id": "afd232c9",
   "metadata": {},
   "source": [
    "## functions"
   ]
  },
  {
   "cell_type": "code",
   "execution_count": 1,
   "id": "415a34a3",
   "metadata": {},
   "outputs": [],
   "source": [
    "# get minimum but not zero\n",
    "def min_not_zero(x):\n",
    "    N = len(x)\n",
    "    xmin = max(x)\n",
    "    for i in x:\n",
    "        if i > 0 and xmin > i:\n",
    "            xmin = i\n",
    "    return xmin\n",
    "\n",
    "# substract unless already zero\n",
    "def sub_unless_zero(x, num):\n",
    "    y = x\n",
    "    if x > 0:\n",
    "        y = x - num\n",
    "    return y"
   ]
  },
  {
   "cell_type": "markdown",
   "id": "5d5b9dff",
   "metadata": {},
   "source": [
    "## case 1\n",
    "```\n",
    "4 2 1 6\n",
    "```"
   ]
  },
  {
   "cell_type": "code",
   "execution_count": 2,
   "id": "81351e10",
   "metadata": {},
   "outputs": [
    {
     "name": "stdout",
     "output_type": "stream",
     "text": [
      "[4, 2, 1, 6]\n",
      "             - 1\n",
      "[3, 1, 0, 5]\n",
      "             - 1\n",
      "[2, 0, 0, 4]\n",
      "             - 2\n",
      "[0, 0, 0, 2]\n",
      "             - 2\n",
      "[0, 0, 0, 0]\n",
      "\n",
      "substractor = [1, 1, 2, 2]\n"
     ]
    }
   ],
   "source": [
    "# define numbers and show them\n",
    "nums = [4, 2, 1, 6]\n",
    "print(nums)\n",
    "\n",
    "# substract with minimum unless already zero and display each step\n",
    "N = len(nums)\n",
    "mins = []\n",
    "for i in range(N):\n",
    "    min_nums = min_not_zero(nums)\n",
    "    print(\"             -\", min_nums)\n",
    "    for j in range(N):\n",
    "        nums[j] = sub_unless_zero(nums[j], min_nums)\n",
    "    print(nums)\n",
    "    mins.append(min_nums)\n",
    "\n",
    "    if sum(nums) == 0:\n",
    "        break;\n",
    "\n",
    "print()\n",
    "print(\"substractor =\", mins)"
   ]
  },
  {
   "cell_type": "markdown",
   "id": "ff8c78da",
   "metadata": {},
   "source": [
    "## case 2\n",
    "```\n",
    "1 4 1 7 11 9\n",
    "```"
   ]
  },
  {
   "cell_type": "code",
   "execution_count": 3,
   "id": "466d0132",
   "metadata": {},
   "outputs": [
    {
     "name": "stdout",
     "output_type": "stream",
     "text": [
      "[1, 4, 1, 7, 11, 9]\n",
      "                    - 1\n",
      "[0, 3, 0, 6, 10, 8]\n",
      "                    - 3\n",
      "[0, 0, 0, 3, 7, 5]\n",
      "                    - 3\n",
      "[0, 0, 0, 0, 4, 2]\n",
      "                    - 2\n",
      "[0, 0, 0, 0, 2, 0]\n",
      "                    - 2\n",
      "[0, 0, 0, 0, 0, 0]\n",
      "\n",
      "substractor = [1, 3, 3, 2, 2]\n"
     ]
    }
   ],
   "source": [
    "# define numbers and show them\n",
    "nums = [1, 4, 1, 7, 11, 9]\n",
    "print(nums)\n",
    "\n",
    "# substract with minimum unless already zero and display each step\n",
    "N = len(nums)\n",
    "mins = []\n",
    "for i in range(N):\n",
    "    min_nums = min_not_zero(nums)\n",
    "    print(\"                    -\", min_nums)\n",
    "    for j in range(N):\n",
    "        nums[j] = sub_unless_zero(nums[j], min_nums)\n",
    "    print(nums)\n",
    "    mins.append(min_nums)\n",
    "    \n",
    "    if sum(nums) == 0:\n",
    "        break;\n",
    "\n",
    "print()\n",
    "print(\"substractor =\", mins)"
   ]
  }
 ],
 "metadata": {
  "kernelspec": {
   "display_name": "Python 3 (ipykernel)",
   "language": "python",
   "name": "python3"
  },
  "language_info": {
   "codemirror_mode": {
    "name": "ipython",
    "version": 3
   },
   "file_extension": ".py",
   "mimetype": "text/x-python",
   "name": "python",
   "nbconvert_exporter": "python",
   "pygments_lexer": "ipython3",
   "version": "3.10.8"
  },
  "metadata": {
   "authors": [
    {
     "name": "Sparisoma Viridi"
    }
   ],
   "kernelspec": {
    "display_name": "Python 3 (ipykernel)",
    "language": "python",
    "name": "python3"
   },
   "language_info": {
    "codemirror_mode": {
     "name": "ipython",
     "version": 3
    },
    "file_extension": ".py",
    "mimetype": "text/x-python",
    "name": "python",
    "nbconvert_exporter": "python",
    "pygments_lexer": "ipython3",
    "version": "3.9.12"
   },
   "title": "402.ipynb"
  },
  "nbformat": 4,
  "nbformat_minor": 5
 },
 "nbformat": 4,
 "nbformat_minor": 5
}
