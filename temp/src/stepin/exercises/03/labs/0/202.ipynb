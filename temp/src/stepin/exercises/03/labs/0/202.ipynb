{
 "cells": [
  {
   "cell_type": "markdown",
   "id": "d4e69cf6",
   "metadata": {},
   "source": [
    "# increasing_number\n",
    "Check whether a number is increasing after previous one (two consecutive numbers)."
   ]
  },
  {
   "cell_type": "code",
   "execution_count": 1,
   "id": "fd20ed2a",
   "metadata": {},
   "outputs": [
    {
     "name": "stdout",
     "output_type": "stream",
     "text": [
      "increasing numbers are [-2, -1, 6]\n",
      "sum of the numbers is 3\n"
     ]
    }
   ],
   "source": [
    "# define a list of numbers\n",
    "#num = [1, 5, 3, 2, 3, 4, 4, 4, 3]\n",
    "num = [-3, -2, -1, 6, 1, 0, -1]\n",
    "\n",
    "# define an empty list for increasing numbers\n",
    "inc = []\n",
    "\n",
    "# check the first list\n",
    "N = len(num)\n",
    "for i in range(1, N):\n",
    "    diff = num[i] - num[i - 1]\n",
    "    if diff > 0:\n",
    "        #print(num[i], \" - \", num[i - 1], \" = \", diff)\n",
    "        inc.append(num[i])\n",
    "\n",
    "# show the numbers\n",
    "print(\"increasing numbers are\", inc)\n",
    "\n",
    "# calculate sum of the numbers\n",
    "m = sum(inc)\n",
    "print(\"sum of the numbers is\", m)"
   ]
  }
 ],
 "metadata": {
  "authors": [
   {
    "name": "Sparisoma Viridi"
   }
  ],
  "kernelspec": {
   "display_name": "Python 3 (ipykernel)",
   "language": "python",
   "name": "python3"
  },
  "language_info": {
   "codemirror_mode": {
    "name": "ipython",
    "version": 3
   },
   "file_extension": ".py",
   "mimetype": "text/x-python",
   "name": "python",
   "nbconvert_exporter": "python",
   "pygments_lexer": "ipython3",
   "version": "3.10.7"
  },
  "title": "202.ipynb"
 },
 "nbformat": 4,
 "nbformat_minor": 5
}
