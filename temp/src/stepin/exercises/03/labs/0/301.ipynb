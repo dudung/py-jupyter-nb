{
 "cells": [
  {
   "cell_type": "markdown",
   "id": "0eeb0207",
   "metadata": {},
   "source": [
    "## using list and input"
   ]
  },
  {
   "cell_type": "markdown",
   "id": "7baeb4d8",
   "metadata": {},
   "source": [
    "### case 1"
   ]
  },
  {
   "cell_type": "code",
   "execution_count": 1,
   "id": "804a8a37",
   "metadata": {
    "scrolled": false
   },
   "outputs": [
    {
     "name": "stdout",
     "output_type": "stream",
     "text": [
      "Number of items: 3\n",
      "Price of item-1: 1799000\n",
      "Price of item-2: 10999000\n",
      "Price of item-3: 591900\n",
      "Disount (%) of item-1: 94\n",
      "Disount (%) of item-2: 99\n",
      "Disount (%) of item-3: 82\n",
      "item, 2 has max discount of 10889010.0\n"
     ]
    }
   ],
   "source": [
    "N = int(input(\"Number of items: \"))\n",
    "\n",
    "p = []\n",
    "for i in range(N):\n",
    "    j = i + 1\n",
    "    print(\"Price of item-\", j, \": \", end='', sep='')\n",
    "    x = int(input())\n",
    "    p.append(x)\n",
    "\n",
    "d = []\n",
    "for i in range(N):\n",
    "    j = i + 1\n",
    "    print(\"Disount (%) of item-\", j, \": \", end='', sep='')\n",
    "    x = int(input())\n",
    "    d.append(x)\n",
    "\n",
    "idx = -1\n",
    "for i in range(N):\n",
    "    j = i + 1\n",
    "    \n",
    "    discount = (d[i] / 100) * p[i]\n",
    "    \n",
    "    if i == 0:\n",
    "        dmax = discount\n",
    "        idx = j\n",
    "    else:\n",
    "        if discount > dmax:\n",
    "            dmax = discount\n",
    "            idx = j\n",
    "\n",
    "print(\"item,\", idx, \"has\", end=' ')\n",
    "print(\"max discount of\", dmax)"
   ]
  },
  {
   "cell_type": "markdown",
   "id": "1101b510",
   "metadata": {},
   "source": [
    "### case 2"
   ]
  },
  {
   "cell_type": "code",
   "execution_count": 2,
   "id": "689c0072",
   "metadata": {
    "scrolled": true
   },
   "outputs": [
    {
     "name": "stdout",
     "output_type": "stream",
     "text": [
      "Number of items: 4\n",
      "Price of item-1: 20000\n",
      "Price of item-2: 30000\n",
      "Price of item-3: 40000\n",
      "Price of item-4: 50000\n",
      "Disount (%) of item-1: 50\n",
      "Disount (%) of item-2: 40\n",
      "Disount (%) of item-3: 30\n",
      "Disount (%) of item-4: 20\n",
      "item, 2 has max discount of 12000.0\n"
     ]
    }
   ],
   "source": [
    "N = int(input(\"Number of items: \"))\n",
    "\n",
    "p = []\n",
    "for i in range(N):\n",
    "    j = i + 1\n",
    "    print(\"Price of item-\", j, \": \", end='', sep='')\n",
    "    x = int(input())\n",
    "    p.append(x)\n",
    "\n",
    "d = []\n",
    "for i in range(N):\n",
    "    j = i + 1\n",
    "    print(\"Disount (%) of item-\", j, \": \", end='', sep='')\n",
    "    x = int(input())\n",
    "    d.append(x)\n",
    "\n",
    "idx = -1\n",
    "for i in range(N):\n",
    "    j = i + 1\n",
    "    \n",
    "    discount = (d[i] / 100) * p[i]\n",
    "    \n",
    "    if i == 0:\n",
    "        dmax = discount\n",
    "        idx = j\n",
    "    else:\n",
    "        if discount > dmax:\n",
    "            dmax = discount\n",
    "            idx = j\n",
    "\n",
    "print(\"item,\", idx, \"has\", end=' ')\n",
    "print(\"max discount of\", dmax)"
   ]
  },
  {
   "cell_type": "markdown",
   "id": "e3d13683",
   "metadata": {},
   "source": [
    "## using list without input"
   ]
  },
  {
   "cell_type": "code",
   "execution_count": null,
   "id": "6061cb68",
   "metadata": {
    "scrolled": true
   },
   "outputs": [],
   "source": [
    "# using list without input\n",
    "p = [1799000, 10999000, 591900]\n",
    "d = [94, 99, 82]\n",
    "dp = []\n",
    "\n",
    "N = len(p)\n",
    "for i in range(N):\n",
    "    x = (d[i] / 100) * p[i]\n",
    "    dp.append(x)\n",
    "\n",
    "for i in range(N):\n",
    "    j = i+1\n",
    "    print(j, p[i], d[i], dp[i])\n",
    "print(\"max discount price:\", max(dp))"
   ]
  },
  {
   "cell_type": "markdown",
   "id": "6f74f88c",
   "metadata": {},
   "source": [
    "## using input without list"
   ]
  },
  {
   "cell_type": "code",
   "execution_count": 3,
   "id": "4862f01f",
   "metadata": {
    "scrolled": true
   },
   "outputs": [
    {
     "name": "stdout",
     "output_type": "stream",
     "text": [
      "N = 4\n",
      "p item-1: 20000\n",
      "d item-1: 50\n",
      "10000.0\n",
      "p item-2: 30000\n",
      "d item-2: 40\n",
      "12000.0\n",
      "p item-3: 40000\n",
      "d item-3: 30\n",
      "12000.0\n",
      "p item-4: 50000\n",
      "d item-4: 20\n",
      "10000.0\n",
      "Item 2 has most discount 12000.0\n"
     ]
    }
   ],
   "source": [
    "# define variabel for max discount\n",
    "price = 0\n",
    "index = 0\n",
    "discount = 0\n",
    "\n",
    "N = int(input(\"N = \"))\n",
    "for i in range(N):\n",
    "    j = i + 1\n",
    "    \n",
    "    # input price\n",
    "    print(\"p item-\", j, \": \", sep='', end='')\n",
    "    p = int(input())\n",
    "    \n",
    "    # input discount in %\n",
    "    print(\"d item-\", j, \": \", sep='', end='')\n",
    "    d = int(input())\n",
    "    \n",
    "    # calculate discount\n",
    "    dp = (d / 100) * p\n",
    "    \n",
    "    if i == 0:\n",
    "        price = p\n",
    "        index = j\n",
    "        discount = dp\n",
    "    else:\n",
    "        if dp > discount:\n",
    "            price = p\n",
    "            index = j\n",
    "            discount = dp\n",
    "    print(dp)\n",
    "\n",
    "print(\"Item\", index, \"has most discount\", discount)"
   ]
  }
 ],
 "metadata": {
  "kernelspec": {
   "display_name": "Python 3 (ipykernel)",
   "language": "python",
   "name": "python3"
  },
  "language_info": {
   "codemirror_mode": {
    "name": "ipython",
    "version": 3
   },
   "file_extension": ".py",
   "mimetype": "text/x-python",
   "name": "python",
   "nbconvert_exporter": "python",
   "pygments_lexer": "ipython3",
   "version": "3.10.8"
  },
  "metadata": {
   "authors": [
    {
     "name": "Sparisoma Viridi"
    }
   ],
   "kernelspec": {
    "display_name": "Python 3 (ipykernel)",
    "language": "python",
    "name": "python3"
   },
   "language_info": {
    "codemirror_mode": {
     "name": "ipython",
     "version": 3
    },
    "file_extension": ".py",
    "mimetype": "text/x-python",
    "name": "python",
    "nbconvert_exporter": "python",
    "pygments_lexer": "ipython3",
    "version": "3.9.12"
   },
   "title": "301.ipynb"
  },
  "nbformat": 4,
  "nbformat_minor": 5
 },
 "nbformat": 4,
 "nbformat_minor": 5
}
