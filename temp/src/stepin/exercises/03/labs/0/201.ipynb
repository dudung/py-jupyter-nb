{
 "cells": [
  {
   "cell_type": "markdown",
   "id": "d4e69cf6",
   "metadata": {},
   "source": [
    "# perfect_number\n",
    "Check whether a number is a perfect number."
   ]
  },
  {
   "cell_type": "code",
   "execution_count": 1,
   "id": "3e45763e",
   "metadata": {},
   "outputs": [
    {
     "name": "stdout",
     "output_type": "stream",
     "text": [
      "factors of 28 are [1, 2, 4, 7, 14]\n",
      "sum of factors is 28\n",
      "28 is a perfect number\n"
     ]
    }
   ],
   "source": [
    "# choose a number\n",
    "n = 28\n",
    "\n",
    "# define list for the factors\n",
    "factor = []\n",
    "\n",
    "# check all factors\n",
    "for i in range(2, n + 1):\n",
    "    if n % i == 0:\n",
    "        j = n // i\n",
    "        factor.append(j)\n",
    "\n",
    "# sort ascending the factors\n",
    "factor.sort()\n",
    "\n",
    "# display factors\n",
    "print(\"factors of\", n, \"are\", factor)\n",
    "\n",
    "# calculate sum of factors\n",
    "m = sum(factor)\n",
    "print(\"sum of factors is\", m)\n",
    "\n",
    "# determine whether n is a perfect number\n",
    "if m == n:\n",
    "    print(n, \"is a perfect number\")\n",
    "else:\n",
    "    print(n, \"is not a perfect number\")"
   ]
  }
 ],
 "metadata": {
  "authors": [
   {
    "name": "Sparisoma Viridi"
   }
  ],
  "kernelspec": {
   "display_name": "Python 3 (ipykernel)",
   "language": "python",
   "name": "python3"
  },
  "language_info": {
   "codemirror_mode": {
    "name": "ipython",
    "version": 3
   },
   "file_extension": ".py",
   "mimetype": "text/x-python",
   "name": "python",
   "nbconvert_exporter": "python",
   "pygments_lexer": "ipython3",
   "version": "3.10.7"
  },
  "title": "201.ipynb"
 },
 "nbformat": 4,
 "nbformat_minor": 5
}
