{
 "cells": [
  {
   "cell_type": "markdown",
   "id": "d4e69cf6",
   "metadata": {},
   "source": [
    "# prime_factors\n",
    "Find prime factors of a number."
   ]
  },
  {
   "cell_type": "code",
   "execution_count": 2,
   "id": "fd20ed2a",
   "metadata": {},
   "outputs": [
    {
     "name": "stdout",
     "output_type": "stream",
     "text": [
      "prime factors of 160 are [2, 5]\n"
     ]
    }
   ],
   "source": [
    "# define prime factors\n",
    "prime_numbers = [2, 3, 5, 7, 9, 11, 13, 17, 19, 23, 29]\n",
    "\n",
    "# define an empty list\n",
    "prime_factors = []\n",
    "\n",
    "# define a number\n",
    "#num = 110\n",
    "num = 160\n",
    "\n",
    "# check the factors\n",
    "for i in prime_numbers:\n",
    "    mod = num % i\n",
    "    if mod == 0:\n",
    "        prime_factors.append(i)\n",
    "\n",
    "# show results\n",
    "print(\"prime factors of\", num, \"are\", prime_factors)"
   ]
  }
 ],
 "metadata": {
  "authors": [
   {
    "name": "Sparisoma Viridi"
   }
  ],
  "kernelspec": {
   "display_name": "Python 3 (ipykernel)",
   "language": "python",
   "name": "python3"
  },
  "language_info": {
   "codemirror_mode": {
    "name": "ipython",
    "version": 3
   },
   "file_extension": ".py",
   "mimetype": "text/x-python",
   "name": "python",
   "nbconvert_exporter": "python",
   "pygments_lexer": "ipython3",
   "version": "3.10.7"
  },
  "title": "203.ipynb"
 },
 "nbformat": 4,
 "nbformat_minor": 5
}
