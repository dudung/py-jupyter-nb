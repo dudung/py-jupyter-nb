{
 "cells": [
  {
   "cell_type": "markdown",
   "id": "89d1d377",
   "metadata": {},
   "source": [
    "url https://onecompiler.com/python/3yg45jc9a"
   ]
  },
  {
   "cell_type": "code",
   "execution_count": 1,
   "id": "e2fe915e",
   "metadata": {},
   "outputs": [
    {
     "name": "stdout",
     "output_type": "stream",
     "text": [
      "A\n"
     ]
    }
   ],
   "source": [
    "zA = 100\n",
    "zB = 10\n",
    "zC = 30\n",
    "\n",
    "if(zA >  zB and zA > zC):\n",
    "  print(\"A\")\n",
    "elif(zB >  zA and zB > zC):\n",
    "  print(\"B\")\n",
    "else:\n",
    "  print(\"C\")"
   ]
  }
 ],
 "metadata": {
  "authors": [
   {
    "name": "Sparisoma Viridi"
   }
  ],
  "kernelspec": {
   "display_name": "Python 3 (ipykernel)",
   "language": "python",
   "name": "python3"
  },
  "language_info": {
   "codemirror_mode": {
    "name": "ipython",
    "version": 3
   },
   "file_extension": ".py",
   "mimetype": "text/x-python",
   "name": "python",
   "nbconvert_exporter": "python",
   "pygments_lexer": "ipython3",
   "version": "3.9.12"
  },
  "title": "101.ipynb"
 },
 "nbformat": 4,
 "nbformat_minor": 5
}
