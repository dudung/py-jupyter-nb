{
 "cells": [
  {
   "cell_type": "markdown",
   "id": "1760638f",
   "metadata": {},
   "source": [
    "## input and list"
   ]
  },
  {
   "cell_type": "markdown",
   "id": "301cba8a",
   "metadata": {},
   "source": [
    "### case 1"
   ]
  },
  {
   "cell_type": "code",
   "execution_count": 1,
   "id": "d5a9264c",
   "metadata": {},
   "outputs": [
    {
     "name": "stdout",
     "output_type": "stream",
     "text": [
      "Number of lamps: 4\n",
      "Number of push: 3\n",
      "Pushed button: 3\n",
      "Pushed button: 1\n",
      "Pushed button: 2\n",
      "[0, 1, 0, 1]\n"
     ]
    }
   ],
   "source": [
    "N = int(input(\"Number of lamps: \"))\n",
    "lamp = [0] * N\n",
    "\n",
    "M = int(input(\"Number of push: \"))\n",
    "\n",
    "for j in range(M):\n",
    "    b = int(input(\"Pushed button: \"))\n",
    "    \n",
    "    i = b - 1\n",
    "    lamp[i] = 1 - lamp[i]\n",
    "    \n",
    "    if b == 1:\n",
    "        lamp[i + 1] = 1 - lamp[i + 1]\n",
    "    elif b == N:\n",
    "        lamp[i - 1] = 1 - lamp[i - 1]\n",
    "    else:\n",
    "        lamp[i + 1] = 1 - lamp[i + 1]\n",
    "        lamp[i - 1] = 1 - lamp[i - 1]\n",
    "\n",
    "print(lamp)"
   ]
  },
  {
   "cell_type": "markdown",
   "id": "ea2a98a9",
   "metadata": {},
   "source": [
    "### case 2"
   ]
  },
  {
   "cell_type": "code",
   "execution_count": 2,
   "id": "264191d7",
   "metadata": {},
   "outputs": [
    {
     "name": "stdout",
     "output_type": "stream",
     "text": [
      "Number of lamps: 5\n",
      "Number of push: 6\n",
      "Pushed button: 1\n",
      "Pushed button: 2\n",
      "Pushed button: 3\n",
      "Pushed button: 2\n",
      "Pushed button: 5\n",
      "Pushed button: 4\n",
      "[1, 0, 0, 1, 0]\n"
     ]
    }
   ],
   "source": [
    "N = int(input(\"Number of lamps: \"))\n",
    "lamp = [0] * N\n",
    "\n",
    "M = int(input(\"Number of push: \"))\n",
    "\n",
    "for j in range(M):\n",
    "    b = int(input(\"Pushed button: \"))\n",
    "    \n",
    "    i = b - 1\n",
    "    lamp[i] = 1 - lamp[i]\n",
    "    \n",
    "    if b == 1:\n",
    "        lamp[i + 1] = 1 - lamp[i + 1]\n",
    "    elif b == N:\n",
    "        lamp[i - 1] = 1 - lamp[i - 1]\n",
    "    else:\n",
    "        lamp[i + 1] = 1 - lamp[i + 1]\n",
    "        lamp[i - 1] = 1 - lamp[i - 1]\n",
    "\n",
    "print(lamp)"
   ]
  },
  {
   "cell_type": "markdown",
   "id": "67d92077",
   "metadata": {},
   "source": [
    "## list only"
   ]
  },
  {
   "cell_type": "code",
   "execution_count": 3,
   "id": "4e07653d",
   "metadata": {},
   "outputs": [
    {
     "name": "stdout",
     "output_type": "stream",
     "text": [
      "Number of lamp: 4\n",
      "Order of button pushed: [3, 1, 2]\n",
      "Initial:  [0, 0, 0, 0]\n",
      "button 3  lamp [0, 1, 1, 1]\n",
      "button 1  lamp [1, 0, 1, 1]\n",
      "button 2  lamp [0, 1, 0, 1]\n",
      "Final:  [0, 1, 0, 1]\n"
     ]
    }
   ],
   "source": [
    "N = 4\n",
    "lamp = [0] * N\n",
    "push = [3, 1, 2]\n",
    "\n",
    "print(\"Number of lamp:\", N)\n",
    "print(\"Order of button pushed:\", push)\n",
    "\n",
    "print(\"Initial: \", lamp)\n",
    "\n",
    "for b in push:\n",
    "    i = b - 1\n",
    "    lamp[i] = 1 - lamp[i]\n",
    "    \n",
    "    if b == 1:\n",
    "        lamp[i + 1] = 1 - lamp[i + 1]\n",
    "    elif b == N:\n",
    "        lamp[i - 1] = 1 - lamp[i - 1]\n",
    "    else:\n",
    "        lamp[i + 1] = 1 - lamp[i + 1]\n",
    "        lamp[i - 1] = 1 - lamp[i - 1]\n",
    "\n",
    "    print(\"button\", b, \" lamp\", lamp)\n",
    "    \n",
    "print(\"Final: \", lamp)"
   ]
  }
 ],
 "metadata": {
  "kernelspec": {
   "display_name": "Python 3 (ipykernel)",
   "language": "python",
   "name": "python3"
  },
  "language_info": {
   "codemirror_mode": {
    "name": "ipython",
    "version": 3
   },
   "file_extension": ".py",
   "mimetype": "text/x-python",
   "name": "python",
   "nbconvert_exporter": "python",
   "pygments_lexer": "ipython3",
   "version": "3.10.8"
  },
  "metadata": {
   "authors": [
    {
     "name": "Sparisoma Viridi"
    }
   ],
   "kernelspec": {
    "display_name": "Python 3 (ipykernel)",
    "language": "python",
    "name": "python3"
   },
   "language_info": {
    "codemirror_mode": {
     "name": "ipython",
     "version": 3
    },
    "file_extension": ".py",
    "mimetype": "text/x-python",
    "name": "python",
    "nbconvert_exporter": "python",
    "pygments_lexer": "ipython3",
    "version": "3.9.12"
   },
   "title": "302.ipynb"
  },
  "nbformat": 4,
  "nbformat_minor": 5
 },
 "nbformat": 4,
 "nbformat_minor": 5
}
