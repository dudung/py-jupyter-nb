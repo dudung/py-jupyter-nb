{
 "cells": [
  {
   "cell_type": "markdown",
   "id": "89d1d377",
   "metadata": {},
   "source": [
    "url https://onecompiler.com/python/3yg4egtn7"
   ]
  },
  {
   "cell_type": "code",
   "execution_count": 1,
   "id": "e2fe915e",
   "metadata": {},
   "outputs": [
    {
     "name": "stdout",
     "output_type": "stream",
     "text": [
      "203\n",
      "2\n",
      "1\n",
      "5\n",
      "203  di kelas  5\n"
     ]
    }
   ],
   "source": [
    "nim = 203\n",
    "\n",
    "per100 = (nim - 1) // 100\n",
    "gegan = 2 - (nim % 2) \n",
    "kelas = per100 * 2 + gegan\n",
    "\n",
    "print(nim)\n",
    "print(per100)\n",
    "print(gegan)\n",
    "print(kelas)\n",
    "\n",
    "print(nim, \" di kelas \", kelas)"
   ]
  }
 ],
 "metadata": {
  "authors": [
   {
    "name": "Sparisoma Viridi"
   }
  ],
  "kernelspec": {
   "display_name": "Python 3 (ipykernel)",
   "language": "python",
   "name": "python3"
  },
  "language_info": {
   "codemirror_mode": {
    "name": "ipython",
    "version": 3
   },
   "file_extension": ".py",
   "mimetype": "text/x-python",
   "name": "python",
   "nbconvert_exporter": "python",
   "pygments_lexer": "ipython3",
   "version": "3.9.12"
  },
  "title": "102.ipynb"
 },
 "nbformat": 4,
 "nbformat_minor": 5
}
