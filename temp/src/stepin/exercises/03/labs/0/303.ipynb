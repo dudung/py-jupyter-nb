{
 "cells": [
  {
   "cell_type": "markdown",
   "id": "8b797cea",
   "metadata": {},
   "source": [
    "## list of characters"
   ]
  },
  {
   "cell_type": "markdown",
   "id": "96a6dacc",
   "metadata": {},
   "source": [
    "### case 1"
   ]
  },
  {
   "cell_type": "code",
   "execution_count": 1,
   "id": "6b6188fd",
   "metadata": {
    "scrolled": true
   },
   "outputs": [
    {
     "name": "stdout",
     "output_type": "stream",
     "text": [
      "0\n",
      "7\n",
      "14\n",
      "Found \"tuan\" (times): 3\n"
     ]
    }
   ],
   "source": [
    "sub = \"tuan\"\n",
    "main = \"tuankiltuanriztuanleotua\"\n",
    "\n",
    "Lsub = len(sub)\n",
    "Lmain = len(main)\n",
    "N = 0\n",
    "for i in range(Lmain - Lsub + 1):\n",
    "    chr1 = sub[0] == main[i]\n",
    "    chr2 = sub[1] == main[i + 1]\n",
    "    chr3 = sub[2] == main[i + 2]\n",
    "    chr4 = sub[3] == main[i + 3]\n",
    "    if chr1 and chr2 and chr3 and chr4:\n",
    "        N = N + 1\n",
    "        print(i)\n",
    "\n",
    "print(\"Found \\\"\", sub, \"\\\" (times): \", N, sep='')"
   ]
  },
  {
   "cell_type": "markdown",
   "id": "38c2f80a",
   "metadata": {},
   "source": [
    "### case 2"
   ]
  },
  {
   "cell_type": "code",
   "execution_count": 2,
   "id": "caf39d7e",
   "metadata": {},
   "outputs": [
    {
     "name": "stdout",
     "output_type": "stream",
     "text": [
      "0\n",
      "2\n",
      "4\n",
      "6\n",
      "8\n",
      "Found \"haha\" (times): 5\n"
     ]
    }
   ],
   "source": [
    "sub = \"haha\"\n",
    "main = \"hahahahahaha\"\n",
    "\n",
    "Lsub = len(sub)\n",
    "Lmain = len(main)\n",
    "N = 0\n",
    "for i in range(Lmain - Lsub + 1):\n",
    "    chr1 = sub[0] == main[i]\n",
    "    chr2 = sub[1] == main[i + 1]\n",
    "    chr3 = sub[2] == main[i + 2]\n",
    "    chr4 = sub[3] == main[i + 3]\n",
    "    if chr1 and chr2 and chr3 and chr4:\n",
    "        N = N + 1\n",
    "        print(i)\n",
    "\n",
    "print(\"Found \\\"\", sub, \"\\\" (times): \", N, sep='')"
   ]
  },
  {
   "cell_type": "markdown",
   "id": "463c3913",
   "metadata": {},
   "source": [
    "## python way 2 -- not so automatic"
   ]
  },
  {
   "cell_type": "markdown",
   "id": "7b6b8879",
   "metadata": {},
   "source": [
    "### case 1"
   ]
  },
  {
   "cell_type": "code",
   "execution_count": 3,
   "id": "d98ee826",
   "metadata": {},
   "outputs": [
    {
     "name": "stdout",
     "output_type": "stream",
     "text": [
      "0\n",
      "7\n",
      "14\n",
      "Found (times): 3\n"
     ]
    }
   ],
   "source": [
    "sub_str = \"tuan\"\n",
    "main_str = \"tuankiltuanriztuanleotua\"\n",
    "num = 0\n",
    "pos = 0\n",
    "while pos >= 0:\n",
    "    pos = main_str.find(sub_str, pos)\n",
    "    if pos >= 0:\n",
    "        num = num + 1\n",
    "        print(pos)\n",
    "        pos = pos + 1\n",
    "\n",
    "print(\"Found (times):\", num)"
   ]
  },
  {
   "cell_type": "markdown",
   "id": "52d7fcc7",
   "metadata": {},
   "source": [
    "### case 2"
   ]
  },
  {
   "cell_type": "code",
   "execution_count": 4,
   "id": "db2f561f",
   "metadata": {},
   "outputs": [
    {
     "name": "stdout",
     "output_type": "stream",
     "text": [
      "0\n",
      "2\n",
      "4\n",
      "6\n",
      "8\n",
      "Found (times): 5\n"
     ]
    }
   ],
   "source": [
    "sub_str = \"haha\"\n",
    "main_str = \"hahahahahaha\"\n",
    "num = 0\n",
    "pos = 0\n",
    "while pos >= 0:\n",
    "    pos = main_str.find(sub_str, pos)\n",
    "    if pos >= 0:\n",
    "        num = num + 1\n",
    "        print(pos)\n",
    "        pos = pos + 1\n",
    "\n",
    "print(\"Found (times):\", num)"
   ]
  },
  {
   "cell_type": "markdown",
   "id": "17ee2dd3",
   "metadata": {},
   "source": [
    "## python way 1"
   ]
  },
  {
   "cell_type": "code",
   "execution_count": 5,
   "id": "ebd79b77",
   "metadata": {},
   "outputs": [
    {
     "name": "stdout",
     "output_type": "stream",
     "text": [
      "3\n"
     ]
    }
   ],
   "source": [
    "sub_str = \"tuan\"\n",
    "main_str = \"tuankiltuanriztuanleotua\"\n",
    "N = main_str.count(sub_str)\n",
    "print(N)"
   ]
  },
  {
   "cell_type": "code",
   "execution_count": 6,
   "id": "8b2b6a68",
   "metadata": {},
   "outputs": [
    {
     "name": "stdout",
     "output_type": "stream",
     "text": [
      "3\n"
     ]
    }
   ],
   "source": [
    "print(\"tuankiltuanriztuanleotua\".count(\"tuan\"))"
   ]
  },
  {
   "cell_type": "code",
   "execution_count": 7,
   "id": "16d131dd",
   "metadata": {},
   "outputs": [
    {
     "name": "stdout",
     "output_type": "stream",
     "text": [
      "3\n"
     ]
    }
   ],
   "source": [
    "## does not work for this example, output should be 5\n",
    "print(\"hahahahahaha\".count(\"haha\"))"
   ]
  }
 ],
 "metadata": {
  "kernelspec": {
   "display_name": "Python 3 (ipykernel)",
   "language": "python",
   "name": "python3"
  },
  "language_info": {
   "codemirror_mode": {
    "name": "ipython",
    "version": 3
   },
   "file_extension": ".py",
   "mimetype": "text/x-python",
   "name": "python",
   "nbconvert_exporter": "python",
   "pygments_lexer": "ipython3",
   "version": "3.9.12"
  },
  "metadata": {
   "authors": [
    {
     "name": "Sparisoma Viridi"
    }
   ],
   "kernelspec": {
    "display_name": "Python 3 (ipykernel)",
    "language": "python",
    "name": "python3"
   },
   "language_info": {
    "codemirror_mode": {
     "name": "ipython",
     "version": 3
    },
    "file_extension": ".py",
    "mimetype": "text/x-python",
    "name": "python",
    "nbconvert_exporter": "python",
    "pygments_lexer": "ipython3",
    "version": "3.9.12"
   },
   "title": "303.ipynb"
  },
  "nbformat": 4,
  "nbformat_minor": 5
 },
 "nbformat": 4,
 "nbformat_minor": 5
}
