{
 "cells": [
  {
   "cell_type": "markdown",
   "id": "d4e69cf6",
   "metadata": {},
   "source": [
    "# flight-discount\n",
    "Package of flight discounts"
   ]
  },
  {
   "cell_type": "code",
   "execution_count": 10,
   "id": "cb9affee",
   "metadata": {},
   "outputs": [],
   "source": [
    "# package 1\n",
    "num1 = 10\n",
    "dis1 = 0.4\n",
    "\n",
    "# package 2\n",
    "num2 = 20\n",
    "dis2 = 0.1\n",
    "\n",
    "# use of a month\n",
    "num = 30"
   ]
  },
  {
   "cell_type": "code",
   "execution_count": 26,
   "id": "99c5001c",
   "metadata": {},
   "outputs": [
    {
     "name": "stdout",
     "output_type": "stream",
     "text": [
      "Expense: 480000\n",
      "\n",
      "Discount 1: 64000.0\n",
      "Expense after discount 1: 416000.0\n",
      "Total expense with package 1: 486000.0\n",
      "\n",
      "Discount 2: 32000.0\n",
      "Expense after discount 1: 448000.0\n",
      "Total expense with package 1: 478000.0\n",
      "\n",
      "Passanger chose package 2 with total expense: 478000.0\n"
     ]
    }
   ],
   "source": [
    "# a case\n",
    "price = 16000\n",
    "pack1 = 70000\n",
    "pack2 = 30000\n",
    "\n",
    "expense = num * price\n",
    "\n",
    "discount_1 = num1 * price * dis1\n",
    "expense_after_discount_1 = expense - discount_1\n",
    "total_expense_1 = expense_after_discount_1 + pack1\n",
    "\n",
    "discount_2 = num2 * price * dis2\n",
    "expense_after_discount_2 = expense - discount_2\n",
    "total_expense_2 = expense_after_discount_2 + pack2\n",
    "\n",
    "print(\"Expense:\", expense)\n",
    "print()\n",
    "\n",
    "print(\"Discount 1:\", discount_1)\n",
    "print(\"Expense after discount 1:\", expense_after_discount_1)\n",
    "print(\"Total expense with package 1:\", total_expense_1)\n",
    "print()\n",
    "\n",
    "print(\"Discount 2:\", discount_2)\n",
    "print(\"Expense after discount 1:\", expense_after_discount_2)\n",
    "print(\"Total expense with package 1:\", total_expense_2)\n",
    "\n",
    "print()\n",
    "\n",
    "if total_expense_1 < expense:\n",
    "    print(\"Passanger chose package 1 with total expense:\", total_expense_1)\n",
    "elif total_expense_2 < expense:\n",
    "    print(\"Passanger chose package 2 with total expense:\", total_expense_2)\n",
    "else:\n",
    "    print(\"Passanger do not choose any packages, total expense:\", expense)"
   ]
  }
 ],
 "metadata": {
  "authors": [
   {
    "name": "Sparisoma Viridi"
   }
  ],
  "kernelspec": {
   "display_name": "Python 3 (ipykernel)",
   "language": "python",
   "name": "python3"
  },
  "language_info": {
   "codemirror_mode": {
    "name": "ipython",
    "version": 3
   },
   "file_extension": ".py",
   "mimetype": "text/x-python",
   "name": "python",
   "nbconvert_exporter": "python",
   "pygments_lexer": "ipython3",
   "version": "3.10.8"
  },
  "title": "113.ipynb"
 },
 "nbformat": 4,
 "nbformat_minor": 5
}
