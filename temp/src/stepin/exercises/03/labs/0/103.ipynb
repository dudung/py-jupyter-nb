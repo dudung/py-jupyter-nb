{
 "cells": [
  {
   "cell_type": "markdown",
   "id": "89d1d377",
   "metadata": {},
   "source": [
    "url https://onecompiler.com/python/3yg5bzsjw"
   ]
  },
  {
   "cell_type": "code",
   "execution_count": 1,
   "id": "e2fe915e",
   "metadata": {},
   "outputs": [
    {
     "name": "stdout",
     "output_type": "stream",
     "text": [
      "jam = 0\n",
      "menit = 58\n",
      "detik = 59\n"
     ]
    }
   ],
   "source": [
    "h2 = 2;  m2 = 3; s2 = 3\n",
    "h1 = 1;  m1 = 4; s1 = 4\n",
    "\n",
    "dh = h2 - h1\n",
    "dm = m2 - m1\n",
    "ds = s2 - s1\n",
    "\n",
    "if ds < 0:\n",
    "  dm = dm - 1\n",
    "  ds = ds + 1 * 60\n",
    "\n",
    "if dm < 0:\n",
    "  dh = dh - 1\n",
    "  dm = dm + 1 * 60\n",
    "\n",
    "print('jam =', dh)\n",
    "print('menit =', dm)\n",
    "print('detik =', ds)"
   ]
  }
 ],
 "metadata": {
  "authors": [
   {
    "name": "Sparisoma Viridi"
   }
  ],
  "kernelspec": {
   "display_name": "Python 3 (ipykernel)",
   "language": "python",
   "name": "python3"
  },
  "language_info": {
   "codemirror_mode": {
    "name": "ipython",
    "version": 3
   },
   "file_extension": ".py",
   "mimetype": "text/x-python",
   "name": "python",
   "nbconvert_exporter": "python",
   "pygments_lexer": "ipython3",
   "version": "3.9.12"
  },
  "title": "103.ipynb"
 },
 "nbformat": 4,
 "nbformat_minor": 5
}
