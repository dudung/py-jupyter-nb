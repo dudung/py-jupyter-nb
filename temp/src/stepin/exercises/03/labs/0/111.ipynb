{
 "cells": [
  {
   "cell_type": "markdown",
   "id": "d4e69cf6",
   "metadata": {},
   "source": [
    "# average_of_m_most_highest_value\n",
    "Find most `m` highest value of `n` scores"
   ]
  },
  {
   "cell_type": "markdown",
   "id": "2fdb75ff",
   "metadata": {},
   "source": [
    "In a lecture quizes are given $n$ times and only $m$ values are take to be averagde, where $m < n$."
   ]
  },
  {
   "cell_type": "markdown",
   "id": "ec8df827",
   "metadata": {},
   "source": [
    "## using 3 ifs"
   ]
  },
  {
   "cell_type": "code",
   "execution_count": 5,
   "id": "a36394ee",
   "metadata": {},
   "outputs": [
    {
     "name": "stdout",
     "output_type": "stream",
     "text": [
      "Average of 3 highest scores is: 84.0\n"
     ]
    }
   ],
   "source": [
    "# suppose there are already scores avaialble\n",
    "q1 = 72\n",
    "q2 = 90\n",
    "q3 = 90\n",
    "q4 = 72\n",
    "\n",
    "min_q = q1\n",
    "if min_q > q2: min_q = q2\n",
    "if min_q > q3: min_q = q3\n",
    "if min_q > q2: min_q = q4\n",
    "sum_of_q = q1 + q2 + q3 + q4 - min_q\n",
    "avg = sum_of_q /3\n",
    "print(\"Average of 3 highest scores is:\", avg)"
   ]
  },
  {
   "cell_type": "markdown",
   "id": "2077060b",
   "metadata": {},
   "source": [
    "## int, min(), without if"
   ]
  },
  {
   "cell_type": "code",
   "execution_count": 6,
   "id": "ae4d89ce",
   "metadata": {},
   "outputs": [
    {
     "name": "stdout",
     "output_type": "stream",
     "text": [
      "Average of 3 highest scores is: 80.0\n"
     ]
    }
   ],
   "source": [
    "# suppose there are already scores avaialble\n",
    "q1 = 80\n",
    "q2 = 70\n",
    "q3 = 90\n",
    "q4 = 60\n",
    "q_min = min(q1, q2, q3, q4)\n",
    "sum_of_q = q1 + q2 + q3 + q4 - q_min\n",
    "avg = sum_of_q /3\n",
    "print(\"Average of 3 highest scores is:\", avg)"
   ]
  },
  {
   "cell_type": "markdown",
   "id": "0b757ad0",
   "metadata": {},
   "source": [
    "## using input(), list, sort() and without if"
   ]
  },
  {
   "cell_type": "code",
   "execution_count": 1,
   "id": "22578ce5",
   "metadata": {},
   "outputs": [
    {
     "name": "stdout",
     "output_type": "stream",
     "text": [
      "Score of quiz 1 is: 72\n",
      "Score of quiz 2 is: 72\n",
      "Score of quiz 3 is: 90\n",
      "Score of quiz 4 is: 90\n"
     ]
    }
   ],
   "source": [
    "# read score of all quizes\n",
    "quiz = []\n",
    "n = 4\n",
    "for i in range(n):\n",
    "    print(\"Score of quiz\", i+1, end='')\n",
    "    q = float(input(\" is: \"))\n",
    "    quiz.append(q)"
   ]
  },
  {
   "cell_type": "code",
   "execution_count": 2,
   "id": "8ea880b7",
   "metadata": {},
   "outputs": [
    {
     "name": "stdout",
     "output_type": "stream",
     "text": [
      "Quiz scores: [72.0, 72.0, 90.0, 90.0]\n"
     ]
    }
   ],
   "source": [
    "# print quiz scores\n",
    "print(\"Quiz scores:\", quiz)"
   ]
  },
  {
   "cell_type": "code",
   "execution_count": 3,
   "id": "b6d3ef8e",
   "metadata": {},
   "outputs": [
    {
     "name": "stdout",
     "output_type": "stream",
     "text": [
      "Quiz scores (sorted): [90.0, 90.0, 72.0, 72.0]\n"
     ]
    }
   ],
   "source": [
    "# sort scores from highest to lowest and print scores\n",
    "quiz.sort(reverse=True)\n",
    "print(\"Quiz scores (sorted):\", quiz)"
   ]
  },
  {
   "cell_type": "code",
   "execution_count": 4,
   "id": "a091fdf5",
   "metadata": {},
   "outputs": [
    {
     "name": "stdout",
     "output_type": "stream",
     "text": [
      "Average score of most 3 highest scores is 84.0\n"
     ]
    }
   ],
   "source": [
    "# take only m first scores and average them\n",
    "m = 3\n",
    "highest_quiz = quiz[:3]\n",
    "average = sum(highest_quiz) / m\n",
    "print(\"Average score of most\", m, \"highest scores is\", average)"
   ]
  }
 ],
 "metadata": {
  "authors": [
   {
    "name": "Sparisoma Viridi"
   }
  ],
  "kernelspec": {
   "display_name": "Python 3 (ipykernel)",
   "language": "python",
   "name": "python3"
  },
  "language_info": {
   "codemirror_mode": {
    "name": "ipython",
    "version": 3
   },
   "file_extension": ".py",
   "mimetype": "text/x-python",
   "name": "python",
   "nbconvert_exporter": "python",
   "pygments_lexer": "ipython3",
   "version": "3.10.7"
  },
  "title": "111.ipynb"
 },
 "nbformat": 4,
 "nbformat_minor": 5
}
