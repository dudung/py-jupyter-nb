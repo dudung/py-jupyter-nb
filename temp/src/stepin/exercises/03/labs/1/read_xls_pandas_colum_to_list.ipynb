{
 "cells": [
  {
   "cell_type": "markdown",
   "id": "d4e69cf6",
   "metadata": {},
   "source": [
    "# read_xls_pandas_colum_to_list\n",
    "read an excel file using pandas and convert column to list"
   ]
  },
  {
   "cell_type": "markdown",
   "id": "85b711b7",
   "metadata": {},
   "source": [
    "## import pandas"
   ]
  },
  {
   "cell_type": "code",
   "execution_count": 1,
   "id": "63415698",
   "metadata": {},
   "outputs": [],
   "source": [
    "# import pandas library\n",
    "import pandas as pd"
   ]
  },
  {
   "cell_type": "markdown",
   "id": "4689fa8f",
   "metadata": {},
   "source": [
    "### sample_4.xlsx\n",
    "![](sample_4.png)"
   ]
  },
  {
   "cell_type": "code",
   "execution_count": 2,
   "id": "83159517",
   "metadata": {},
   "outputs": [
    {
     "name": "stdout",
     "output_type": "stream",
     "text": [
      "header = ['x', 'y']\n",
      "\n",
      "x = [3, 4, 5, 10, 8, 9, 2, 1, 6, 7, 9]\n",
      "\n",
      "y = [10, 8, 6, 4, 2, 0, 1, 3, 5, 7, 9]\n",
      "\n"
     ]
    }
   ],
   "source": [
    "# read excel data first sheet and store it in a DataFrame object\n",
    "df = pd.read_excel(\"sample_4.xlsx\")\n",
    "\n",
    "# get colum header\n",
    "ch = df.columns.tolist()\n",
    "print(\"header =\", ch)\n",
    "print()\n",
    "\n",
    "# get first column with label `x`\n",
    "x = df['x'].tolist()\n",
    "print(\"x =\", x)\n",
    "print()\n",
    "\n",
    "# get first column with label `y`\n",
    "y = df['y'].tolist()\n",
    "print(\"y =\", y)\n",
    "print()"
   ]
  },
  {
   "cell_type": "code",
   "execution_count": 3,
   "id": "f9f0d755",
   "metadata": {},
   "outputs": [
    {
     "name": "stdout",
     "output_type": "stream",
     "text": [
      "xmin = 1\n",
      "xmax = 10\n",
      "sum of x = 64\n",
      "N = 11\n",
      "xavg = 5.818181818181818\n",
      "\n",
      "using mean from statistics\n",
      "xavg = 5.818181818181818\n",
      "xavg · N = 5.818181818181818 · 11 = 64.0\n"
     ]
    }
   ],
   "source": [
    "# calculate some statistics\n",
    "print(\"xmin =\", min(x))\n",
    "print(\"xmax =\", max(x))\n",
    "print(\"sum of x =\", sum(x))\n",
    "print(\"N =\", len(x))\n",
    "print(\"xavg =\", sum(x) / len(x))\n",
    "print()\n",
    "\n",
    "# using statistics\n",
    "from statistics import mean\n",
    "print(\"using mean from statistics\")\n",
    "print(\"xavg =\", mean(x))\n",
    "\n",
    "# check the result\n",
    "print(\"xavg · N =\", mean(x), \"·\", len(x), \"=\", mean(x)*len(x))\n",
    "\n"
   ]
  },
  {
   "cell_type": "markdown",
   "id": "b8f92c55",
   "metadata": {},
   "source": [
    "## notes\n",
    "1. Modules: statistics, math\n",
    "2. Libraries: Pandas, NumPy"
   ]
  }
 ],
 "metadata": {
  "authors": [
   {
    "name": "Sparisoma Viridi"
   }
  ],
  "kernelspec": {
   "display_name": "Python 3 (ipykernel)",
   "language": "python",
   "name": "python3"
  },
  "language_info": {
   "codemirror_mode": {
    "name": "ipython",
    "version": 3
   },
   "file_extension": ".py",
   "mimetype": "text/x-python",
   "name": "python",
   "nbconvert_exporter": "python",
   "pygments_lexer": "ipython3",
   "version": "3.10.8"
  },
  "title": "read_xls_pandas_colum_to_list"
 },
 "nbformat": 4,
 "nbformat_minor": 5
}
