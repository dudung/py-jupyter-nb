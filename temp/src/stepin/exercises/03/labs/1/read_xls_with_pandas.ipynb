{
 "cells": [
  {
   "cell_type": "markdown",
   "id": "d4e69cf6",
   "metadata": {},
   "source": [
    "# read_xls_with_pandas\n",
    "read an excel file using pandas"
   ]
  },
  {
   "cell_type": "markdown",
   "id": "5c60a16d",
   "metadata": {},
   "source": [
    "## dependencies\n",
    "In order to work Pandas might need (if you installation not yet installed them)\n",
    "1. `xlrd >= 0.9.0` for Excel support as in https://stackoverflow.com/q/48066517/9475509, and / or\n",
    "2. `openpyxl` as in https://github.com/spyder-ide/spyder/issues/18071.\n",
    "\n",
    "Install them in command line.\n",
    "\n",
    "For `xlrd` use `pip install xlrd`.\n",
    "\n",
    "```\n",
    "PS L:\\home\\py-jupyter-notebook> pip install xlrd\n",
    "Collecting xlrd\n",
    "  Downloading xlrd-2.0.1-py2.py3-none-any.whl (96 kB)\n",
    "     ------------------------------------- 96.5/96.5 kB 791.7 kB/s eta 0:00:00\n",
    "Installing collected packages: xlrd\n",
    "Successfully installed xlrd-2.0.1\n",
    "WARNING: There was an error checking the latest version of pip.\n",
    "```\n",
    "\n",
    "And for `openpyxl` use `pip install openpyxl`.\n",
    "\n",
    "```\n",
    "PS L:\\home\\py-jupyter-notebook> pip install openpyxl\n",
    "Collecting openpyxl\n",
    "  Downloading openpyxl-3.0.10-py2.py3-none-any.whl (242 kB)\n",
    "     ----------------------------------- 242.1/242.1 kB 380.8 kB/s eta 0:00:00\n",
    "Collecting et-xmlfile\n",
    "  Downloading et_xmlfile-1.1.0-py3-none-any.whl (4.7 kB)\n",
    "Installing collected packages: et-xmlfile, openpyxl\n",
    "Successfully installed et-xmlfile-1.1.0 openpyxl-3.0.10\n",
    "```\n",
    "\n",
    "Perhaps pip is also must be upgraded first using `pip install --upgrade pip`.\n",
    "\n",
    "```\n",
    "PS L:\\home\\py-jupyter-notebook> pip install --upgrade pip\n",
    "Requirement already satisfied: pip in c:\\users\\sparisoma viridi\\appdata\\local\\packages\\pythonsoftwarefoundation.python.3.10_qbz5n2kfra8p0\\localcache\\local-packages\\python310\\site-packages (22.1)\n",
    "Collecting pip\n",
    "  Downloading pip-22.3.1-py3-none-any.whl (2.1 MB)\n",
    "     --------------------------------------- 2.1/2.1 MB 350.3 kB/s eta 0:00:00\n",
    "Installing collected packages: pip\n",
    "  Attempting uninstall: pip\n",
    "    Found existing installation: pip 22.1\n",
    "    Uninstalling pip-22.1:\n",
    "      Successfully uninstalled pip-22.1\n",
    "Successfully installed pip-22.3.1\n",
    "```"
   ]
  },
  {
   "cell_type": "markdown",
   "id": "0b0536e3",
   "metadata": {},
   "source": [
    "## files\n",
    "![](files.png)\n",
    "Excel files are in the same folder of Jupyter Notebook file `read_xls_with_pandas.ipynb`."
   ]
  },
  {
   "cell_type": "markdown",
   "id": "85b711b7",
   "metadata": {},
   "source": [
    "## import pandas"
   ]
  },
  {
   "cell_type": "code",
   "execution_count": 1,
   "id": "63415698",
   "metadata": {},
   "outputs": [],
   "source": [
    "# import pandas library\n",
    "import pandas as pd"
   ]
  },
  {
   "cell_type": "markdown",
   "id": "4689fa8f",
   "metadata": {},
   "source": [
    "### sample_0.xlsx\n",
    "![](sample_0.png)"
   ]
  },
  {
   "cell_type": "code",
   "execution_count": 2,
   "id": "885b62ac",
   "metadata": {},
   "outputs": [
    {
     "name": "stdout",
     "output_type": "stream",
     "text": [
      "     x   y\n",
      "0    0   2\n",
      "1    1   3\n",
      "2    2   4\n",
      "3    3   5\n",
      "4    4   6\n",
      "5    5   7\n",
      "6    6   8\n",
      "7    7   9\n",
      "8    8  10\n",
      "9    9  11\n",
      "10  10  12\n"
     ]
    }
   ],
   "source": [
    "df0 = pd.read_excel(\"sample_0.xlsx\")\n",
    "print(df0)"
   ]
  },
  {
   "cell_type": "markdown",
   "id": "b894014e",
   "metadata": {},
   "source": [
    "### sample_1.xlsx\n",
    "![](sample_1.png)"
   ]
  },
  {
   "cell_type": "code",
   "execution_count": 3,
   "id": "426cf0c4",
   "metadata": {},
   "outputs": [
    {
     "name": "stdout",
     "output_type": "stream",
     "text": [
      "   Unnamed: 0  0  1  2   3   4\n",
      "0           0  0  0  0   0   0\n",
      "1           1  0  1  2   3   4\n",
      "2           2  0  2  4   6   8\n",
      "3           3  0  3  6   9  12\n",
      "4           4  0  4  8  12  16\n"
     ]
    }
   ],
   "source": [
    "df1 = pd.read_excel(\"sample_1.xlsx\")\n",
    "print(df1)"
   ]
  },
  {
   "cell_type": "markdown",
   "id": "f0e5c134",
   "metadata": {},
   "source": [
    "### sample_2.xlsx\n",
    "![](sample_2.png)"
   ]
  },
  {
   "cell_type": "code",
   "execution_count": 4,
   "id": "6f64709d",
   "metadata": {
    "scrolled": true
   },
   "outputs": [
    {
     "name": "stdout",
     "output_type": "stream",
     "text": [
      "   x1      y1  Unnamed: 2  x2      y2\n",
      "0   0   0.125         NaN   0   0.125\n",
      "1   1   2.125         NaN   1   5.125\n",
      "2   2   4.125         NaN   2  10.125\n",
      "3   3   6.125         NaN   3  15.125\n",
      "4   4   8.125         NaN   4  20.125\n",
      "5   5  10.125         NaN   5  25.125\n",
      "6   6  12.125         NaN   6  30.125\n",
      "7   7  14.125         NaN   7  35.125\n"
     ]
    }
   ],
   "source": [
    "df2 = pd.read_excel(\"sample_2.xlsx\")\n",
    "print(df2)"
   ]
  },
  {
   "cell_type": "markdown",
   "id": "bafd43ef",
   "metadata": {},
   "source": [
    "### sample_3.xlsx\n",
    "![](sample_3.png)"
   ]
  },
  {
   "cell_type": "code",
   "execution_count": 5,
   "id": "1ac0d4df",
   "metadata": {},
   "outputs": [
    {
     "name": "stdout",
     "output_type": "stream",
     "text": [
      "    Unnamed: 0 Unnamed: 1 Unnamed: 2  Unnamed: 3  Unnamed: 4 Unnamed: 5  \\\n",
      "0          NaN          0          1         2.0         3.0          4   \n",
      "1          NaN          0          1         2.0         3.0          4   \n",
      "2          NaN        NaN        NaN         NaN         NaN        NaN   \n",
      "3          NaN        NaN        NaN         NaN         NaN        NaN   \n",
      "4          NaN        NaN        NaN         NaN         NaN          x   \n",
      "5          NaN        NaN        NaN         NaN         NaN          1   \n",
      "6          NaN        NaN        NaN         NaN         NaN          3   \n",
      "7          NaN        NaN        NaN         NaN         NaN          5   \n",
      "8          NaN        NaN        NaN         NaN         NaN        NaN   \n",
      "9          NaN          a          b         NaN         NaN        NaN   \n",
      "10         NaN          1          2         NaN         NaN        NaN   \n",
      "11         NaN          3          4         NaN         NaN        NaN   \n",
      "12         NaN          5          6         NaN         NaN        NaN   \n",
      "\n",
      "   Unnamed: 6  \n",
      "0           5  \n",
      "1           5  \n",
      "2         NaN  \n",
      "3         NaN  \n",
      "4           y  \n",
      "5           2  \n",
      "6           4  \n",
      "7           6  \n",
      "8         NaN  \n",
      "9           0  \n",
      "10          0  \n",
      "11          0  \n",
      "12          0  \n"
     ]
    }
   ],
   "source": [
    "df3 = pd.read_excel(\"sample_3.xlsx\")\n",
    "print(df3)"
   ]
  },
  {
   "cell_type": "markdown",
   "id": "a1c8db95",
   "metadata": {},
   "source": [
    "+ Notice the `NAN` indicates an empty cell"
   ]
  }
 ],
 "metadata": {
  "authors": [
   {
    "name": "Sparisoma Viridi"
   }
  ],
  "kernelspec": {
   "display_name": "Python 3 (ipykernel)",
   "language": "python",
   "name": "python3"
  },
  "language_info": {
   "codemirror_mode": {
    "name": "ipython",
    "version": 3
   },
   "file_extension": ".py",
   "mimetype": "text/x-python",
   "name": "python",
   "nbconvert_exporter": "python",
   "pygments_lexer": "ipython3",
   "version": "3.10.8"
  },
  "title": "read_xls_with_pandas"
 },
 "nbformat": 4,
 "nbformat_minor": 5
}
