{
 "cells": [
  {
   "cell_type": "markdown",
   "id": "d4e69cf6",
   "metadata": {},
   "source": [
    "# read students data\n",
    "read an csv file using pandas"
   ]
  },
  {
   "cell_type": "code",
   "execution_count": 1,
   "id": "63415698",
   "metadata": {},
   "outputs": [],
   "source": [
    "# import pandas library\n",
    "import pandas as pd"
   ]
  },
  {
   "cell_type": "code",
   "execution_count": 2,
   "id": "885b62ac",
   "metadata": {},
   "outputs": [],
   "source": [
    "# read all data\n",
    "df = pd.read_csv(\"student.csv\")"
   ]
  },
  {
   "cell_type": "markdown",
   "id": "f8d53752",
   "metadata": {},
   "source": [
    "## 1"
   ]
  },
  {
   "cell_type": "code",
   "execution_count": 3,
   "id": "a3ded4e4",
   "metadata": {},
   "outputs": [
    {
     "name": "stdout",
     "output_type": "stream",
     "text": [
      "Number of data = 5135\n",
      "\n"
     ]
    }
   ],
   "source": [
    "# get number of data\n",
    "N = len(df)\n",
    "print(\"Number of data =\", N)\n",
    "print()"
   ]
  },
  {
   "cell_type": "markdown",
   "id": "d1e68440",
   "metadata": {},
   "source": [
    "## 2"
   ]
  },
  {
   "cell_type": "code",
   "execution_count": 4,
   "id": "db9bf86e",
   "metadata": {},
   "outputs": [
    {
     "name": "stdout",
     "output_type": "stream",
     "text": [
      "first 5 data\n",
      "                   nama fakultas  nilai_mat  nilai_kim  nilai_fis\n",
      "0  Farhan Fathur Rahman    FMIPA      57.21      34.14      38.93\n",
      "1        Steven Margono    FMIPA      67.43      51.50      57.20\n",
      "2          Ryan Sentosa    SAPPK      90.62      37.38      40.73\n",
      "3  Muhajah Babny Muslim    FMIPA      72.31      38.80      44.79\n",
      "4      Alvin Natawiguna     FTSL      65.45      57.67      56.39\n",
      "\n"
     ]
    }
   ],
   "source": [
    "# slice data to get first 5 data\n",
    "M = 5\n",
    "df1 = df[0:M]\n",
    "print(\"first\", M, \"data\")\n",
    "print(df1)\n",
    "print()"
   ]
  },
  {
   "cell_type": "markdown",
   "id": "2ee77943",
   "metadata": {},
   "source": [
    "## 3"
   ]
  },
  {
   "cell_type": "code",
   "execution_count": 5,
   "id": "e6287aaf",
   "metadata": {},
   "outputs": [
    {
     "name": "stdout",
     "output_type": "stream",
     "text": [
      "data from 110 to 115 (inclusive)\n",
      "                       nama fakultas  nilai_mat  nilai_kim  nilai_fis\n",
      "109        Tri Wibowo Budhi      FTI      74.80      53.88      64.24\n",
      "110                  Steven     FTMD      93.03      33.59      30.07\n",
      "111  Andi Yandika Rahmahaji     FTMD      51.58      31.35      43.02\n",
      "112        Aurinda Destri A     FTMD      89.20      27.67      55.06\n",
      "113    Devi Qisthina Linati      FTI      65.27      69.31      76.61\n",
      "114     Irvandi Warganegara      FTI      65.13      50.38      51.75\n"
     ]
    }
   ],
   "source": [
    "# slice data from 110 to 115 (inclusive)\n",
    "BEG = (110 - 1)\n",
    "END = (115 - 1) + 1\n",
    "print(\"data from\", BEG + 1, \"to\", END, \"(inclusive)\")\n",
    "df2 = df[BEG:END]\n",
    "print(df2)"
   ]
  },
  {
   "cell_type": "markdown",
   "id": "65abd007",
   "metadata": {},
   "source": [
    "## 4"
   ]
  },
  {
   "cell_type": "code",
   "execution_count": 6,
   "id": "e7873f08",
   "metadata": {},
   "outputs": [
    {
     "name": "stdout",
     "output_type": "stream",
     "text": [
      "['nama', 'fakultas', 'nilai_mat', 'nilai_kim', 'nilai_fis']\n",
      "fakultas is at colum 1\n"
     ]
    }
   ],
   "source": [
    "# get header, certain column string, index\n",
    "col_head = df.keys().tolist()\n",
    "print(col_head)\n",
    "col_str = 'fakultas'\n",
    "col_idx = col_head.index('fakultas')\n",
    "print(col_str, \"is at colum\", col_idx)"
   ]
  },
  {
   "cell_type": "code",
   "execution_count": 7,
   "id": "bb31916d",
   "metadata": {},
   "outputs": [
    {
     "name": "stdout",
     "output_type": "stream",
     "text": [
      "['FMIPA' 'SAPPK' 'FTSL' 'FTTM' 'FTI' 'FITB' 'STEI' 'FTMD' 'SITHS' 'SITHR']\n"
     ]
    }
   ],
   "source": [
    "# get unique values\n",
    "faculty = df[col_str].unique()\n",
    "print(faculty)"
   ]
  },
  {
   "cell_type": "code",
   "execution_count": 8,
   "id": "663c861e",
   "metadata": {},
   "outputs": [
    {
     "name": "stdout",
     "output_type": "stream",
     "text": [
      "Fact\tData\n",
      "-----\t----\n",
      "FMIPA\t627\n",
      "SAPPK\t315\n",
      "FTSL\t660\n",
      "FTTM\t579\n",
      "FTI\t834\n",
      "FITB\t403\n",
      "STEI\t777\n",
      "FTMD\t480\n",
      "SITHS\t178\n",
      "SITHR\t282\n",
      "-----\t---- +\n",
      "Sum\t5135\n"
     ]
    }
   ],
   "source": [
    "# calculate occurence of unique values\n",
    "N_faculty = []\n",
    "for f in faculty:\n",
    "    nf = len(df.groupby('fakultas').get_group(f))\n",
    "    N_faculty.append(nf)\n",
    "\n",
    "# display result\n",
    "print(\"Fact\", \"Data\", sep='\\t')\n",
    "print(\"-----\", \"----\", sep='\\t')\n",
    "for i  in range(len(faculty)):\n",
    "    print(faculty[i], N_faculty[i], sep='\\t')\n",
    "\n",
    "print(\"-----\", \"---- +\", sep='\\t')\n",
    "print(\"Sum\", sum(N_faculty), sep='\\t')"
   ]
  },
  {
   "cell_type": "markdown",
   "id": "45aafd90",
   "metadata": {},
   "source": [
    "## 5"
   ]
  },
  {
   "cell_type": "code",
   "execution_count": 9,
   "id": "f0d43c4f",
   "metadata": {},
   "outputs": [
    {
     "name": "stdout",
     "output_type": "stream",
     "text": [
      "Correlation between nilai_kim and nilai_mat = -0.010162482834663145\n"
     ]
    }
   ],
   "source": [
    "# get correlation of two colums\n",
    "col_str_1 = \"nilai_kim\"\n",
    "col_str_2 = \"nilai_mat\"\n",
    "corr = df[col_str_1].corr(df[col_str_2])\n",
    "print(\"Correlation between\", col_str_1, \"and\", col_str_2, \"=\", corr)"
   ]
  },
  {
   "cell_type": "code",
   "execution_count": null,
   "id": "61593b58",
   "metadata": {},
   "outputs": [],
   "source": []
  }
 ],
 "metadata": {
  "authors": [
   {
    "name": "Sparisoma Viridi"
   }
  ],
  "kernelspec": {
   "display_name": "Python 3 (ipykernel)",
   "language": "python",
   "name": "python3"
  },
  "language_info": {
   "codemirror_mode": {
    "name": "ipython",
    "version": 3
   },
   "file_extension": ".py",
   "mimetype": "text/x-python",
   "name": "python",
   "nbconvert_exporter": "python",
   "pygments_lexer": "ipython3",
   "version": "3.9.12"
  },
  "title": "read_student_p1"
 },
 "nbformat": 4,
 "nbformat_minor": 5
}
