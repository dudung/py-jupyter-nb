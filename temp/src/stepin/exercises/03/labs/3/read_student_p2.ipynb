{
 "cells": [
  {
   "cell_type": "markdown",
   "id": "d4e69cf6",
   "metadata": {},
   "source": [
    "# read students data\n",
    "read an csv file using pandas"
   ]
  },
  {
   "cell_type": "code",
   "execution_count": 1,
   "id": "63415698",
   "metadata": {},
   "outputs": [],
   "source": [
    "# import pandas library\n",
    "import pandas as pd"
   ]
  },
  {
   "cell_type": "code",
   "execution_count": 2,
   "id": "885b62ac",
   "metadata": {},
   "outputs": [],
   "source": [
    "# read all data\n",
    "df = pd.read_csv(\"student.csv\")"
   ]
  },
  {
   "cell_type": "markdown",
   "id": "f8d53752",
   "metadata": {},
   "source": [
    "## 1"
   ]
  },
  {
   "cell_type": "code",
   "execution_count": 3,
   "id": "a3ded4e4",
   "metadata": {},
   "outputs": [
    {
     "name": "stdout",
     "output_type": "stream",
     "text": [
      "          nama fakultas  nilai_mat  nilai_kim  nilai_fis\n",
      "3513  Tuan Leo     STEI      96.78      62.23      30.53\n"
     ]
    }
   ],
   "source": [
    "# get data from name column\n",
    "col_str = \"nama\"\n",
    "name = \"Tuan Leo\"\n",
    "data = df.loc[df[col_str] == name]\n",
    "print(data)"
   ]
  },
  {
   "cell_type": "code",
   "execution_count": 4,
   "id": "1b646cb2",
   "metadata": {},
   "outputs": [
    {
     "name": "stdout",
     "output_type": "stream",
     "text": [
      "Name = Tuan Leo\n",
      "Math = 96.78\n",
      "Chem = 62.23\n",
      "Phys = 30.53\n"
     ]
    }
   ],
   "source": [
    "# print some column\n",
    "print(\"Name =\", data[\"nama\"].tolist()[0])\n",
    "print(\"Math =\", data[\"nilai_mat\"].tolist()[0])\n",
    "print(\"Chem =\", data[\"nilai_kim\"].tolist()[0])\n",
    "print(\"Phys =\", data[\"nilai_fis\"].tolist()[0])"
   ]
  },
  {
   "cell_type": "markdown",
   "id": "07e83cf1",
   "metadata": {},
   "source": [
    "## 2"
   ]
  },
  {
   "cell_type": "code",
   "execution_count": 5,
   "id": "b9be7a47",
   "metadata": {},
   "outputs": [
    {
     "name": "stdout",
     "output_type": "stream",
     "text": [
      "                         nama fakultas  nilai_mat  nilai_kim  nilai_fis\n",
      "31            Ria Tri Wahyuni     FTSL      100.0      39.90      49.78\n",
      "58                 Arif Saleh      FTI      100.0      59.79      55.33\n",
      "68        Ahmad Ibrahim Fahmi     FITB      100.0      41.50      48.32\n",
      "117   Caesar Lanang Kurniawan     FTMD      100.0      42.94      53.30\n",
      "132      Laura Estwin Gunawan     STEI      100.0      41.45      50.13\n",
      "...                       ...      ...        ...        ...        ...\n",
      "4598    Nova Ginanjar Hidayat      FTI      100.0      43.49      51.64\n",
      "4769       Mustika Nurul Ulma     STEI      100.0      37.72      40.86\n",
      "4786           Andhiki Supono     FTMD      100.0      42.72      46.56\n",
      "4890          Fandy Valentino    FMIPA      100.0      31.46      34.20\n",
      "4898      Fauziyah Nurul Aini     FTSL      100.0      53.20      64.54\n",
      "\n",
      "[72 rows x 5 columns]\n"
     ]
    }
   ],
   "source": [
    "# get students with maximum math score\n",
    "math = df['nilai_mat']\n",
    "idx = math.idxmax()\n",
    "val = math.max()\n",
    "student = df.loc[df['nilai_mat'] == val]\n",
    "print(student)"
   ]
  },
  {
   "cell_type": "markdown",
   "id": "21b62c9d",
   "metadata": {},
   "source": [
    "## 3"
   ]
  },
  {
   "cell_type": "code",
   "execution_count": 6,
   "id": "9cd0c1a0",
   "metadata": {},
   "outputs": [
    {
     "name": "stdout",
     "output_type": "stream",
     "text": [
      "                         nama fakultas  nilai_mat  nilai_kim  nilai_fis\n",
      "1936  Yuniar Fazriani Rusmana     FITB      53.61      67.19      92.57\n",
      "4145                    Grace    SAPPK      62.23      68.08      90.46\n",
      "918            Siti Munawaroh     STEI      62.22      73.93      90.13\n",
      "1147             Feruz Kausar     STEI      81.61      76.12      88.40\n",
      "2074            Sandi Suryadi     STEI      79.17      73.81      86.83\n"
     ]
    }
   ],
   "source": [
    "# get the 5 most highest of physics score\n",
    "phys = df.sort_values(by=\"nilai_fis\", ascending=False)\n",
    "print(phys[:5])"
   ]
  },
  {
   "cell_type": "markdown",
   "id": "f571a014",
   "metadata": {},
   "source": [
    "## 4"
   ]
  },
  {
   "cell_type": "code",
   "execution_count": 7,
   "id": "5ccb18f5",
   "metadata": {},
   "outputs": [
    {
     "name": "stdout",
     "output_type": "stream",
     "text": [
      "                             nama fakultas  nilai_mat  nilai_kim  nilai_fis\n",
      "372              Muhammad Syirazi      FTI      52.96       5.31      15.81\n",
      "718   Ibrahim Musa Arif Nurachman     STEI      80.49       9.59      22.34\n",
      "1445                Erwin Hariadi     STEI      87.95       2.09      14.43\n",
      "2912         Yunita Indah Puspita     FTMD      77.06       7.16      18.99\n",
      "3223           Alivia Puti Kamila     FTSL      59.50       8.73      27.06\n",
      "3534              Evelyn Melindra     STEI      77.56       7.83      11.10\n",
      "4111               Swastika Utama     FTMD      86.51       6.67      23.16\n"
     ]
    }
   ],
   "source": [
    "# get students with chemistry scores less than 10\n",
    "student = df.loc[df['nilai_kim'] < 10]\n",
    "print(student)"
   ]
  },
  {
   "cell_type": "markdown",
   "id": "c9dff146",
   "metadata": {},
   "source": [
    "## 5"
   ]
  },
  {
   "cell_type": "code",
   "execution_count": 8,
   "id": "be910ac7",
   "metadata": {},
   "outputs": [
    {
     "name": "stdout",
     "output_type": "stream",
     "text": [
      "777\n"
     ]
    }
   ],
   "source": [
    "# get number of students in a faculty\n",
    "nf = len(df.groupby('fakultas').get_group('STEI'))\n",
    "print(nf)"
   ]
  },
  {
   "cell_type": "code",
   "execution_count": 9,
   "id": "8f70cb1f",
   "metadata": {},
   "outputs": [
    {
     "name": "stdout",
     "output_type": "stream",
     "text": [
      "777\n"
     ]
    }
   ],
   "source": [
    "# get number of students in a faculty\n",
    "student = df.loc[df['fakultas'] == 'STEI']\n",
    "print(len(student))"
   ]
  },
  {
   "cell_type": "code",
   "execution_count": null,
   "id": "12bb62f4",
   "metadata": {},
   "outputs": [],
   "source": []
  }
 ],
 "metadata": {
  "authors": [
   {
    "name": "Sparisoma Viridi"
   }
  ],
  "kernelspec": {
   "display_name": "Python 3 (ipykernel)",
   "language": "python",
   "name": "python3"
  },
  "language_info": {
   "codemirror_mode": {
    "name": "ipython",
    "version": 3
   },
   "file_extension": ".py",
   "mimetype": "text/x-python",
   "name": "python",
   "nbconvert_exporter": "python",
   "pygments_lexer": "ipython3",
   "version": "3.9.12"
  },
  "title": "read_student_p2"
 },
 "nbformat": 4,
 "nbformat_minor": 5
}
