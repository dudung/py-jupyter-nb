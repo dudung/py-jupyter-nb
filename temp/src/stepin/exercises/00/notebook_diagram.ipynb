{
 "cells": [
  {
   "cell_type": "markdown",
   "id": "0edd2e19",
   "metadata": {},
   "source": [
    "Examples are from https://pypi.org/project/nb-js-diagrammer/"
   ]
  },
  {
   "cell_type": "code",
   "execution_count": 1,
   "id": "b2fe8948",
   "metadata": {},
   "outputs": [],
   "source": [
    "%load_ext nb_js_diagrammers"
   ]
  },
  {
   "cell_type": "code",
   "execution_count": 2,
   "id": "68bb3c93",
   "metadata": {},
   "outputs": [
    {
     "data": {
      "text/html": [
       "<iframe srcdoc=\"&lt;!DOCTYPE html&gt;\n",
       "&lt;html&gt;\n",
       "    &lt;head&gt;\n",
       "        &lt;meta charset=&quot;UTF-8&quot;&gt;\n",
       "        &lt;title&gt;Flowchart.js&lt;/title&gt;\n",
       "        &lt;script type=&quot;text/javascript&quot; src=&quot;https://cdnjs.cloudflare.com/ajax/libs/raphael/2.3.0/raphael.min.js&quot;&gt;&lt;/script&gt;\n",
       "        &lt;script type=&quot;text/javascript&quot; src=&quot;https://cdnjs.cloudflare.com/ajax/libs/flowchart/1.14.1/flowchart.js&quot;&gt;&lt;/script&gt;\n",
       "        &lt;/head&gt;\n",
       "        &lt;body&gt;\n",
       "         \n",
       "        &lt;div id=&quot;diagram&quot;&gt;&lt;/div&gt;\n",
       "&lt;script&gt;\n",
       "  var diagram = flowchart.parse(`\n",
       "st=&gt;start: Start\n",
       "e=&gt;end: End\n",
       "op1=&gt;operation: Generate\n",
       "op2=&gt;parallel: Evaluate\n",
       "st(right)-&gt;op1(right)-&gt;op2\n",
       "op2(path1, top)-&gt;op1\n",
       "op2(path2, right)-&gt;e\n",
       "`);\n",
       "  diagram.drawSVG(&#x27;diagram&#x27;);\n",
       "&lt;/script&gt;\n",
       " \n",
       "        &lt;/body&gt;\n",
       "&lt;/html&gt;\n",
       "\" width=\"100%\" height=\"100\"style=\"border:none !important;\" \"allowfullscreen\" \"webkitallowfullscreen\" \"mozallowfullscreen\"></iframe>"
      ],
      "text/plain": [
       "<nb_js_diagrammers.magics.JSDiagram at 0x22689ec37f0>"
      ]
     },
     "execution_count": 2,
     "metadata": {},
     "output_type": "execute_result"
    }
   ],
   "source": [
    "%%flowchart_magic -h 100\n",
    "\n",
    "st=>start: Start\n",
    "e=>end: End\n",
    "op1=>operation: Generate\n",
    "op2=>parallel: Evaluate\n",
    "st(right)->op1(right)->op2\n",
    "op2(path1, top)->op1\n",
    "op2(path2, right)->e"
   ]
  },
  {
   "cell_type": "code",
   "execution_count": 3,
   "id": "ca08363b",
   "metadata": {},
   "outputs": [
    {
     "data": {
      "text/html": [
       "<iframe srcdoc=\"&lt;!DOCTYPE html&gt;\n",
       "&lt;html&gt;\n",
       "    &lt;head&gt;\n",
       "        &lt;meta charset=&quot;UTF-8&quot;&gt;\n",
       "        &lt;title&gt;wavedrom.js&lt;/title&gt;\n",
       "&lt;script src=&quot;https://cdnjs.cloudflare.com/ajax/libs/wavedrom/2.6.8/skins/default.js&quot; type=&quot;text/javascript&quot;&gt;&lt;/script&gt;\n",
       "&lt;script src=&quot;https://cdnjs.cloudflare.com/ajax/libs/wavedrom/2.6.8/wavedrom.min.js&quot; type=&quot;text/javascript&quot;&gt;&lt;/script&gt;\n",
       "&lt;/head&gt;\n",
       "        &lt;body onload=&quot;WaveDrom.ProcessAll()&quot;&gt;\n",
       "&lt;script type=&quot;WaveDrom&quot;&gt;\n",
       "\n",
       "{ signal : [\n",
       "  { name: &quot;clk&quot;,  wave: &quot;p......&quot; },\n",
       "  { name: &quot;bus&quot;,  wave: &quot;x.34.5x&quot;,   data: &quot;head body tail&quot; },\n",
       "  { name: &quot;wire&quot;, wave: &quot;0.1..0.&quot; },\n",
       "]}\n",
       "\n",
       "&lt;/script&gt;\n",
       "        &lt;/body&gt;\n",
       "&lt;/html&gt;\n",
       "\" width=\"100%\" height=\"100\"style=\"border:none !important;\" \"allowfullscreen\" \"webkitallowfullscreen\" \"mozallowfullscreen\"></iframe>"
      ],
      "text/plain": [
       "<nb_js_diagrammers.magics.JSDiagram at 0x22689ec2ef0>"
      ]
     },
     "execution_count": 3,
     "metadata": {},
     "output_type": "execute_result"
    }
   ],
   "source": [
    "%%wavedrom_magic -h 100\n",
    "\n",
    "{ signal : [\n",
    "  { name: \"clk\",  wave: \"p......\" },\n",
    "  { name: \"bus\",  wave: \"x.34.5x\",   data: \"head body tail\" },\n",
    "  { name: \"wire\", wave: \"0.1..0.\" },\n",
    "]}"
   ]
  },
  {
   "cell_type": "code",
   "execution_count": 4,
   "id": "e774623b",
   "metadata": {},
   "outputs": [
    {
     "data": {
      "text/html": [
       "<iframe srcdoc=\"&lt;html&gt;\n",
       "    &lt;body&gt;\n",
       "        &lt;script src=&quot;https://cdn.jsdelivr.net/npm/mermaid/dist/mermaid.min.js&quot;&gt;&lt;/script&gt;\n",
       "        &lt;script&gt;\n",
       "            mermaid.initialize({ startOnLoad: true });\n",
       "        &lt;/script&gt;\n",
       " \n",
       "        &lt;div class=&quot;mermaid&quot;&gt;\n",
       "            \n",
       "flowchart TD\n",
       "    A[Start] --&gt; B{Is it?};\n",
       "    B --&gt;|Yes| C[OK];\n",
       "    C --&gt; D[Rethink];\n",
       "    D --&gt; B;\n",
       "    B ----&gt;|No| E[End];\n",
       "\n",
       "        &lt;/div&gt;\n",
       " \n",
       "    &lt;/body&gt;\n",
       "&lt;/html&gt;\n",
       "\" width=\"100%\" height=\"400\"style=\"border:none !important;\" \"allowfullscreen\" \"webkitallowfullscreen\" \"mozallowfullscreen\"></iframe>"
      ],
      "text/plain": [
       "<nb_js_diagrammers.magics.JSDiagram at 0x22689ec2560>"
      ]
     },
     "execution_count": 4,
     "metadata": {},
     "output_type": "execute_result"
    }
   ],
   "source": [
    "%%mermaid_magic -h 400\n",
    "\n",
    "flowchart TD\n",
    "    A[Start] --> B{Is it?};\n",
    "    B -->|Yes| C[OK];\n",
    "    C --> D[Rethink];\n",
    "    D --> B;\n",
    "    B ---->|No| E[End];"
   ]
  },
  {
   "cell_type": "code",
   "execution_count": 5,
   "id": "cd0797ad",
   "metadata": {},
   "outputs": [
    {
     "data": {
      "text/html": [
       "<iframe srcdoc=\"&lt;html&gt;\n",
       "    &lt;body&gt;\n",
       "        &lt;script src=&quot;https://unpkg.com/wavesurfer.js/dist/wavesurfer.js&quot;&gt;&lt;/script&gt;\n",
       "        &lt;div id=&quot;wavesurfer&quot;&gt;\n",
       "            &lt;div id=&quot;waveform&quot;&gt;&lt;/div&gt;\n",
       "            &lt;div class=&quot;controls&quot;&gt;\n",
       "                &lt;button class=&quot;btn btn-primary&quot; data-action=&quot;play&quot;&gt;\n",
       "                    &lt;i class=&quot;glyphicon glyphicon-play&quot;&gt;&lt;/i&gt;\n",
       "                    Play\n",
       "                    /\n",
       "                    &lt;i class=&quot;glyphicon glyphicon-pause&quot;&gt;&lt;/i&gt;\n",
       "                    Pause\n",
       "                &lt;/button&gt;\n",
       "            &lt;/div&gt;\n",
       "        &lt;/div&gt;\n",
       "        &lt;script&gt;\n",
       "            var GLOBAL_ACTIONS = { // eslint-disable-line\n",
       "                play: function() {\n",
       "                    window.wavesurfer.playPause();\n",
       "                },\n",
       " \n",
       "                back: function() {\n",
       "                    window.wavesurfer.skipBackward();\n",
       "                },\n",
       " \n",
       "                forth: function() {\n",
       "                    window.wavesurfer.skipForward();\n",
       "                },\n",
       " \n",
       "                &#x27;toggle-mute&#x27;: function() {\n",
       "                    window.wavesurfer.toggleMute();\n",
       "                }\n",
       "            };\n",
       " \n",
       "            // Bind actions to buttons and keypresses\n",
       "            document.addEventListener(&#x27;DOMContentLoaded&#x27;, function() {\n",
       "                document.addEventListener(&#x27;keydown&#x27;, function(e) {\n",
       "                    let map = {\n",
       "                        32: &#x27;play&#x27;, // space\n",
       "                        37: &#x27;back&#x27;, // left\n",
       "                        39: &#x27;forth&#x27; // right\n",
       "                    };\n",
       "                    let action = map[e.keyCode];\n",
       "                    if (action in GLOBAL_ACTIONS) {\n",
       "                        if (document == e.target || document.body == e.target || e.target.attributes[&quot;data-action&quot;]) {\n",
       "                            e.preventDefault();\n",
       "                        }\n",
       "                        GLOBAL_ACTIONS[action](e);\n",
       "                    }\n",
       "                });\n",
       " \n",
       "                [].forEach.call(document.querySelectorAll(&#x27;[data-action]&#x27;), function(el) {\n",
       "                    el.addEventListener(&#x27;click&#x27;, function(e) {\n",
       "                        let action = e.currentTarget.dataset.action;\n",
       "                        if (action in GLOBAL_ACTIONS) {\n",
       "                            e.preventDefault();\n",
       "                            GLOBAL_ACTIONS[action](e);\n",
       "                        }\n",
       "                    });\n",
       "                });\n",
       "            });\n",
       "        &lt;/script&gt;\n",
       " \n",
       "        &lt;script&gt;\n",
       "            var wavesurfer = WaveSurfer.create({\n",
       "                container: &#x27;#waveform&#x27;,\n",
       "                waveColor: &#x27;violet&#x27;,\n",
       "                backend: &#x27;MediaElement&#x27;,\n",
       "                progressColor: &#x27;purple&#x27;\n",
       "            });\n",
       "        &lt;/script&gt;\n",
       "        &lt;script&gt;\n",
       "            wavesurfer.load(&quot;https://ia802606.us.archive.org/35/items/shortpoetry_047_librivox/abou_ben_adhem_hunt_mlb.mp3&quot;);\n",
       "        &lt;/script&gt;\n",
       "    &lt;/body&gt;\n",
       "&lt;/html&gt;\n",
       "\" width=\"100%\" height=\"200\"style=\"border:none !important;\" \"allowfullscreen\" \"webkitallowfullscreen\" \"mozallowfullscreen\"></iframe>"
      ],
      "text/plain": [
       "<nb_js_diagrammers.magics.JSDiagram at 0x22689ec2f50>"
      ]
     },
     "execution_count": 5,
     "metadata": {},
     "output_type": "execute_result"
    }
   ],
   "source": [
    "%wavesurfer_magic -f https://ia802606.us.archive.org/35/items/shortpoetry_047_librivox/abou_ben_adhem_hunt_mlb.mp3"
   ]
  },
  {
   "cell_type": "code",
   "execution_count": null,
   "id": "1198c3a2",
   "metadata": {},
   "outputs": [],
   "source": []
  }
 ],
 "metadata": {
  "kernelspec": {
   "display_name": "Python 3 (ipykernel)",
   "language": "python",
   "name": "python3"
  },
  "language_info": {
   "codemirror_mode": {
    "name": "ipython",
    "version": 3
   },
   "file_extension": ".py",
   "mimetype": "text/x-python",
   "name": "python",
   "nbconvert_exporter": "python",
   "pygments_lexer": "ipython3",
   "version": "3.10.4"
  }
 },
 "nbformat": 4,
 "nbformat_minor": 5
}
