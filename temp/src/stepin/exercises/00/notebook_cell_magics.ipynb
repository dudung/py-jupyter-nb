{
 "cells": [
  {
   "cell_type": "markdown",
   "id": "6fe13346",
   "metadata": {},
   "source": [
    "Ref: [Cell magics](https://ipython.readthedocs.io/en/stable/interactive/magics.html#cell-magics)"
   ]
  },
  {
   "cell_type": "code",
   "execution_count": 16,
   "id": "185d3705",
   "metadata": {},
   "outputs": [
    {
     "name": "stdout",
     "output_type": "stream",
     "text": [
      "Couldn't find program: 'bash'\n"
     ]
    }
   ],
   "source": [
    "%%bash\n",
    "echo \"Hello, World!\""
   ]
  },
  {
   "cell_type": "code",
   "execution_count": 40,
   "id": "e11af334",
   "metadata": {},
   "outputs": [
    {
     "data": {
      "text/html": [
       "<div style=\"height:60px; border:1px solid red; border-radius:20px; text-align:center;\" id=\"hello\">Hello, World!</div>\n"
      ],
      "text/plain": [
       "<IPython.core.display.HTML object>"
      ]
     },
     "metadata": {},
     "output_type": "display_data"
    }
   ],
   "source": [
    "%%html\n",
    "<div style=\"height:60px; border:1px solid red; border-radius:20px; text-align:center;\" id=\"hello\">Hello, World!</div>"
   ]
  },
  {
   "cell_type": "code",
   "execution_count": 41,
   "id": "4de90128",
   "metadata": {},
   "outputs": [
    {
     "data": {
      "application/javascript": [
       "var parent = document.getElementById(\"hello\");\n",
       "var div = document.createElement(div);\n",
       "parent.append(div);\n",
       "div.style.height = \"40px\";\n",
       "div.style.border = \"1px dashed blue\";\n",
       "div.innerHTML = \"Hello, World!\";\n",
       "div.style.float = \"right\";\n",
       "div.style.background = \"#cfc\";\n"
      ],
      "text/plain": [
       "<IPython.core.display.Javascript object>"
      ]
     },
     "metadata": {},
     "output_type": "display_data"
    }
   ],
   "source": [
    "%%js\n",
    "var parent = document.getElementById(\"hello\");\n",
    "var div = document.createElement(div);\n",
    "parent.append(div);\n",
    "div.style.height = \"40px\";\n",
    "div.style.border = \"1px dashed blue\";\n",
    "div.innerHTML = \"Hello, World!\";\n",
    "div.style.float = \"right\";\n",
    "div.style.background = \"#cfc\";`"
   ]
  },
  {
   "cell_type": "markdown",
   "id": "da72c46d",
   "metadata": {},
   "source": [
    "JS can get the DOM element in another cell."
   ]
  },
  {
   "cell_type": "code",
   "execution_count": 42,
   "id": "cea5df6e",
   "metadata": {},
   "outputs": [
    {
     "data": {
      "text/latex": [
       "\\begin{equation}\\label{eq1}\\tag{1}\n",
       "y = ax^2 + bx + c\n",
       "\\end{equation}\n",
       "\n",
       "Equation \\eqref{eq1} is something that we use to see.\n"
      ],
      "text/plain": [
       "<IPython.core.display.Latex object>"
      ]
     },
     "metadata": {},
     "output_type": "display_data"
    }
   ],
   "source": [
    "%%latex\n",
    "\\begin{equation}\\label{eq1}\\tag{1}\n",
    "y = ax^2 + bx + c\n",
    "\\end{equation}\n",
    "\n",
    "Equation \\eqref{eq1} is something that we use to see."
   ]
  },
  {
   "cell_type": "code",
   "execution_count": 43,
   "id": "0f9c2ab8",
   "metadata": {},
   "outputs": [
    {
     "data": {
      "text/latex": [
       "Equation \\eqref{eq1} can not be refered in other cell.\n"
      ],
      "text/plain": [
       "<IPython.core.display.Latex object>"
      ]
     },
     "metadata": {},
     "output_type": "display_data"
    }
   ],
   "source": [
    "%%latex\n",
    "Equation \\eqref{eq1} can not be refered in other cell."
   ]
  },
  {
   "cell_type": "code",
   "execution_count": 84,
   "id": "eb513d15",
   "metadata": {},
   "outputs": [
    {
     "data": {
      "text/markdown": [
       "\n",
       "A | B | C\n",
       ":-: | :- : | :-:\n",
       "C | D | E\n"
      ],
      "text/plain": [
       "<IPython.core.display.Markdown object>"
      ]
     },
     "metadata": {},
     "output_type": "display_data"
    }
   ],
   "source": [
    "%%markdown\n",
    "\n",
    "A | B | C\n",
    ":-: | :- : | :-:\n",
    "C | D | E"
   ]
  },
  {
   "cell_type": "markdown",
   "id": "606d6148",
   "metadata": {},
   "source": [
    "A | B | C\n",
    ":-: | :- : | :-:\n",
    "C | D | E"
   ]
  },
  {
   "cell_type": "code",
   "execution_count": 49,
   "id": "d7e026bb",
   "metadata": {},
   "outputs": [
    {
     "name": "stdout",
     "output_type": "stream",
     "text": [
      "Microsoft Windows [Version 10.0.19042.1586]\n",
      "(c) Microsoft Corporation. All rights reserved.\n",
      "\n",
      "L:\\home\\cookbook\\notebook\\hello>echo \"Hi\"\n",
      "\"Hi\"\n",
      "\n",
      "L:\\home\\cookbook\\notebook\\hello>"
     ]
    }
   ],
   "source": [
    "%%script cmd\n",
    "echo \"Hi\""
   ]
  },
  {
   "cell_type": "code",
   "execution_count": 58,
   "id": "b30a9899",
   "metadata": {},
   "outputs": [
    {
     "name": "stdout",
     "output_type": "stream",
     "text": [
      "Hello World\r\n"
     ]
    }
   ],
   "source": [
    "%%perl\n",
    "\n",
    "print(\"Hello World\\n\");"
   ]
  },
  {
   "cell_type": "code",
   "execution_count": 59,
   "id": "925529bc",
   "metadata": {},
   "outputs": [
    {
     "name": "stdout",
     "output_type": "stream",
     "text": [
      "Hello World\r\n"
     ]
    }
   ],
   "source": [
    "%%script perl\n",
    "print(\"Hello World\\n\");"
   ]
  },
  {
   "cell_type": "code",
   "execution_count": 83,
   "id": "b23fc1bf",
   "metadata": {},
   "outputs": [
    {
     "data": {
      "text/html": [
       "\n",
       "<svg>\n",
       "<ellipse style=\"fill:#00ff00;stroke:#000000;\" cx=\"50\" cy=\"50\" rx=\"48\" ry=\"48\">\n",
       "<ellipse>\n",
       "</svg>\n"
      ],
      "text/plain": [
       "<IPython.core.display.HTML object>"
      ]
     },
     "metadata": {},
     "output_type": "display_data"
    }
   ],
   "source": [
    "%%html\n",
    "\n",
    "<svg>\n",
    "<ellipse style=\"fill:#00ff00;stroke:#000000;\" cx=\"50\" cy=\"50\" rx=\"48\" ry=\"48\">\n",
    "<ellipse>\n",
    "</svg>"
   ]
  },
  {
   "cell_type": "code",
   "execution_count": 78,
   "id": "42ab1dd0",
   "metadata": {},
   "outputs": [
    {
     "data": {
      "image/svg+xml": [
       "<svg xmlns=\"http://www.w3.org/2000/svg\" xmlns:xlink=\"http://www.w3.org/1999/xlink\" height=\"103.0pt\" viewbox=\"0.00 0.00 170.0 103.0\" width=\"170.0pt\">\n",
       "<g class=\"graph\" id=\"graph0\" transform=\"scale(1.0 1.0) rotate(0) translate(4 199)\">\n",
       "<title>G</title>\n",
       "<polygon fill=\"#ffffff\" points=\"-4,4 -4,-199 166,-199 166,4 -4,4\" stroke=\"transparent\"/>\n",
       "<!-- node0000 -->\n",
       "<g class=\"node\" id=\"node1\">\n",
       "<title>node0000</title>\n",
       "<ellipse cx=\"81\" cy=\"-159\" fill=\"none\" rx=\"36\" ry=\"36\" stroke=\"#000000\"/>\n",
       "<text fill=\"#000000\" font-family=\"Times,serif\" font-size=\"10.00\" text-anchor=\"middle\" x=\"81\" y=\"-156.5\">ABCDEFGH</text>\n",
       "</g>\n",
       "</g>\n",
       "</svg>"
      ],
      "text/plain": [
       "<IPython.core.display.SVG object>"
      ]
     },
     "metadata": {},
     "output_type": "display_data"
    }
   ],
   "source": [
    "%%svg\n",
    "\n",
    "<svg xmlns=\"http://www.w3.org/2000/svg\" xmlns:xlink=\"http://www.w3.org/1999/xlink\" height=\"103.0pt\" viewbox=\"0.00 0.00 170.0 103.0\" width=\"170.0pt\">\n",
    "<g class=\"graph\" id=\"graph0\" transform=\"scale(1.0 1.0) rotate(0) translate(4 199)\">\n",
    "<title>G</title>\n",
    "<polygon fill=\"#ffffff\" points=\"-4,4 -4,-199 166,-199 166,4 -4,4\" stroke=\"transparent\"/>\n",
    "<!-- node0000 -->\n",
    "<g class=\"node\" id=\"node1\">\n",
    "<title>node0000</title>\n",
    "<ellipse cx=\"81\" cy=\"-159\" fill=\"none\" rx=\"36\" ry=\"36\" stroke=\"#000000\"/>\n",
    "<text fill=\"#000000\" font-family=\"Times,serif\" font-size=\"10.00\" text-anchor=\"middle\" x=\"81\" y=\"-156.5\">ABCDEFGH</text>\n",
    "</g>\n",
    "</g>\n",
    "</svg>"
   ]
  },
  {
   "cell_type": "code",
   "execution_count": null,
   "id": "f30e3b57",
   "metadata": {},
   "outputs": [],
   "source": []
  },
  {
   "cell_type": "code",
   "execution_count": 67,
   "id": "b885c128",
   "metadata": {},
   "outputs": [
    {
     "name": "stderr",
     "output_type": "stream",
     "text": [
      "UsageError: Cell magic `%%go` not found.\n"
     ]
    }
   ],
   "source": [
    "%%go\n",
    "\n",
    "package main\n",
    "import \"fmt\"\n",
    "func main() {\n",
    "    fmt.Println(\"hello world\")\n",
    "}"
   ]
  },
  {
   "cell_type": "code",
   "execution_count": 68,
   "id": "e734a686",
   "metadata": {},
   "outputs": [
    {
     "name": "stderr",
     "output_type": "stream",
     "text": [
      "UsageError: Cell magic `%%java` not found.\n"
     ]
    }
   ],
   "source": [
    "%%java\n",
    "\n",
    "// Your First Program\n",
    "\n",
    "class HelloWorld {\n",
    "    public static void main(String[] args) {\n",
    "        System.out.println(\"Hello, World!\"); \n",
    "    }\n",
    "}"
   ]
  },
  {
   "cell_type": "code",
   "execution_count": 85,
   "id": "f0d09305",
   "metadata": {},
   "outputs": [
    {
     "data": {
      "text/markdown": [
       "\n",
       "Code for mermaid\n",
       "\n",
       "```mermaid\n",
       "flowchart TD\n",
       "    A[Start] --> B{Is it?};\n",
       "    B -->|Yes| C[OK];\n",
       "    C --> D[Rethink];\n",
       "    D --> B;\n",
       "    B ---->|No| E[End];\n",
       "```\n"
      ],
      "text/plain": [
       "<IPython.core.display.Markdown object>"
      ]
     },
     "metadata": {},
     "output_type": "display_data"
    }
   ],
   "source": [
    "%%markdown\n",
    "\n",
    "Code for mermaid\n",
    "\n",
    "```mermaid\n",
    "flowchart TD\n",
    "    A[Start] --> B{Is it?};\n",
    "    B -->|Yes| C[OK];\n",
    "    C --> D[Rethink];\n",
    "    D --> B;\n",
    "    B ---->|No| E[End];\n",
    "```"
   ]
  },
  {
   "cell_type": "code",
   "execution_count": null,
   "id": "9eb490a2",
   "metadata": {},
   "outputs": [],
   "source": []
  }
 ],
 "metadata": {
  "kernelspec": {
   "display_name": "Python 3 (ipykernel)",
   "language": "python",
   "name": "python3"
  },
  "language_info": {
   "codemirror_mode": {
    "name": "ipython",
    "version": 3
   },
   "file_extension": ".py",
   "mimetype": "text/x-python",
   "name": "python",
   "nbconvert_exporter": "python",
   "pygments_lexer": "ipython3",
   "version": "3.10.4"
  }
 },
 "nbformat": 4,
 "nbformat_minor": 5
}
