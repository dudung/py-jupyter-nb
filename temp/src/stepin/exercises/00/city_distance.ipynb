{
 "cells": [
  {
   "cell_type": "markdown",
   "id": "cc5e5b48",
   "metadata": {},
   "source": [
    "# Distance between cities"
   ]
  },
  {
   "cell_type": "code",
   "execution_count": 1,
   "id": "71efe7f6",
   "metadata": {},
   "outputs": [],
   "source": [
    "Distance = {\n",
    "    'Jakarta': {\n",
    "        'Bandung': 119,\n",
    "        'Cirebon': 192,\n",
    "        'Subang': 110,\n",
    "        'Bekasi': 30,\n",
    "        'Karawang': 55,\n",
    "        'Purwakarta': 78,\n",
    "    },\n",
    "    'Bandung': {\n",
    "        'Jakarta': 119,\n",
    "        'Cirebon': 94,\n",
    "        'Subang': 43,\n",
    "        'Cimahi': 10,\n",
    "        'Padalarang': 19,\n",
    "        'Soreang': 17,\n",
    "        'Ciwidey': 38,\n",
    "        'Pangalengan': 31,\n",
    "        'Sumedang': 34,\n",
    "    },\n",
    "    'Cirebon': {\n",
    "        'Jakarta': 192,\n",
    "        'Bandung': 94,\n",
    "        'Subang': 82,\n",
    "        'Kuningan': 23,\n",
    "        'Majalengka': 29,\n",
    "        'Indramayu': 50,\n",
    "    },\n",
    "    'Subang': {\n",
    "        'Jakarta': 110,\n",
    "        'Bandung': 43,\n",
    "        'Cirebon': 82,\n",
    "        'Sumedang': 37,\n",
    "        'Majalengka': 61,\n",
    "        'Cirebon': 82,\n",
    "        'Indramayu': 69,\n",
    "        'Kuningan': 93,\n",
    "    },\n",
    "    'Bekasi': {\n",
    "        'Jakarta': 30,\n",
    "    },\n",
    "    'Karawang': {\n",
    "        'Jakarta': 55,\n",
    "    },\n",
    "    'Purwakarta': {\n",
    "        'Jakarta': 78,\n",
    "    },\n",
    "    'Sumedang': {\n",
    "        'Bandung': 34,\n",
    "        'Subang': 37,\n",
    "    },\n",
    "    'Indramayu': {\n",
    "        'Cirebon': 50,\n",
    "        'Subang': 69,\n",
    "    },\n",
    "    'Majalengka': {\n",
    "        'Cirebon': 29,\n",
    "        'Subang': 61,\n",
    "    },\n",
    "    'Cimahi': {\n",
    "        'Bandung': 10,\n",
    "    },\n",
    "    'Padalarang': {\n",
    "        'Bandung': 19,\n",
    "    },\n",
    "    'Soreang': {\n",
    "        'Bandung': 17,\n",
    "    },\n",
    "    'Ciwidey': {\n",
    "        'Bandung': 38,\n",
    "    },\n",
    "    'Pengalengan': {\n",
    "        'Bandung': 31,\n",
    "    },\n",
    "    'Kuningan': {\n",
    "        'Cirebon': 23,\n",
    "        'Subang': 93,\n",
    "    }\n",
    "}"
   ]
  },
  {
   "cell_type": "code",
   "execution_count": 3,
   "id": "511bcd1e",
   "metadata": {},
   "outputs": [
    {
     "name": "stdout",
     "output_type": "stream",
     "text": [
      "110\n",
      "110\n"
     ]
    }
   ],
   "source": [
    "print(Distance['Jakarta']['Subang'])\n",
    "print(Distance['Subang']['Jakarta'])"
   ]
  },
  {
   "cell_type": "code",
   "execution_count": 4,
   "id": "1aa6aedc",
   "metadata": {},
   "outputs": [
    {
     "name": "stdout",
     "output_type": "stream",
     "text": [
      "110\n",
      "93\n",
      "23\n"
     ]
    }
   ],
   "source": [
    "print(Distance['Jakarta']['Subang'])\n",
    "print(Distance['Subang']['Kuningan'])\n",
    "print(Distance['Kuningan']['Cirebon'])"
   ]
  },
  {
   "cell_type": "code",
   "execution_count": 5,
   "id": "59073deb",
   "metadata": {},
   "outputs": [
    {
     "name": "stdout",
     "output_type": "stream",
     "text": [
      "192\n"
     ]
    }
   ],
   "source": [
    "print(Distance['Jakarta']['Cirebon'])"
   ]
  },
  {
   "cell_type": "code",
   "execution_count": null,
   "id": "9ebacc8b",
   "metadata": {},
   "outputs": [],
   "source": []
  }
 ],
 "metadata": {
  "kernelspec": {
   "display_name": "Python 3 (ipykernel)",
   "language": "python",
   "name": "python3"
  },
  "language_info": {
   "codemirror_mode": {
    "name": "ipython",
    "version": 3
   },
   "file_extension": ".py",
   "mimetype": "text/x-python",
   "name": "python",
   "nbconvert_exporter": "python",
   "pygments_lexer": "ipython3",
   "version": "3.10.4"
  }
 },
 "nbformat": 4,
 "nbformat_minor": 5
}
