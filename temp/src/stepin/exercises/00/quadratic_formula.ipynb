{
 "cells": [
  {
   "cell_type": "markdown",
   "id": "ba41c2bc",
   "metadata": {},
   "source": [
    "# Formula kuadrat"
   ]
  },
  {
   "cell_type": "markdown",
   "id": "488a926a",
   "metadata": {},
   "source": [
    "Formula kuadrat adalah rumus yang digunakan untuk mencari akar-akar dari suatu persamaan kuadrat."
   ]
  },
  {
   "cell_type": "markdown",
   "id": "1fd98c30",
   "metadata": {},
   "source": [
    "## Persamaan kuadrat\n",
    "Terdapat suatu persamaan kuadrat dalam bentuk\n",
    "\n",
    "\\begin{equation}\\label{eq1}\\tag{1}\n",
    "y = ax^2 + bx + c\n",
    "\\end{equation}\n",
    "\n",
    "yang akar-akarnya dapat dicari melalui formula kuadrat."
   ]
  },
  {
   "cell_type": "markdown",
   "id": "dfa50276",
   "metadata": {},
   "source": [
    "## Formula kuadrat\n",
    "Suatu persamaan memiliki dua akar, di mana\n",
    "\n",
    "\\begin{equation}\\label{eq2}\\tag{2}\n",
    "x_1 = \\frac{-b - \\sqrt{b^2 - 4ac}}{2a}\n",
    "\\end{equation}\n",
    "\n",
    "akan memberikan akar pertama dan\n",
    "\n",
    "\\begin{equation}\\label{eq3}\\tag{3}\n",
    "x_2 = \\frac{-b + \\sqrt{b^2 - 4ac}}{2a}\n",
    "\\end{equation}\n",
    "\n",
    "akan memberikan akar kedua dengan $x_1 < x_2$. Penerapan Persamaan \\eqref{eq2} dan  \\eqref{eq3} akan diberikan pada bagian berikutnya."
   ]
  },
  {
   "cell_type": "markdown",
   "id": "2b93999f",
   "metadata": {},
   "source": [
    "## Contoh\n",
    "Berikut ini adalah contoh sederhana penerapan dua persamaan sebelumnya dengan persamaannya adalah\n",
    "\n",
    "$$\n",
    "y = x^2 - 5x + 6\n",
    "$$\n",
    "\n",
    "sehingga $a = 1$, $b = -5$, dan $c = 6$."
   ]
  },
  {
   "cell_type": "code",
   "execution_count": 12,
   "id": "9c26b8d8",
   "metadata": {},
   "outputs": [
    {
     "name": "stdout",
     "output_type": "stream",
     "text": [
      "x1 =  2.0\n",
      "x2 =  3.0\n"
     ]
    }
   ],
   "source": [
    "import math\n",
    "\n",
    "a = 1\n",
    "b = -5\n",
    "c = 6\n",
    "\n",
    "D = b * b - 4 * a * c\n",
    "\n",
    "x1 = (-b - math.sqrt(D)) / (2*a)\n",
    "x2 = (-b + math.sqrt(D)) / (2*a)\n",
    "\n",
    "print(\"x1 = \", x1)\n",
    "print(\"x2 = \", x2)"
   ]
  },
  {
   "cell_type": "markdown",
   "id": "280413f3",
   "metadata": {},
   "source": [
    "Dengan demikian diperoleh bahwa akar-akar dari persamaan $y = x^2 - 5x + 6$ adalah $x_1 = 2.0$ dan $x_2 = 3.0$."
   ]
  },
  {
   "cell_type": "markdown",
   "id": "bc29df6e",
   "metadata": {},
   "source": [
    "## Grafik\n",
    "Untuk persamaan $y = x^2 - 5x + 6$ dapat dibuat grafiknya sebagai berikut."
   ]
  },
  {
   "cell_type": "code",
   "execution_count": 15,
   "id": "85c6ffb0",
   "metadata": {},
   "outputs": [
    {
     "name": "stdout",
     "output_type": "stream",
     "text": [
      "[0.0, 0.25, 0.5, 0.75, 1.0, 1.25, 1.5, 1.75, 2.0, 2.25, 2.5, 2.75, 3.0, 3.25, 3.5, 3.75, 4.0, 4.25, 4.5, 4.75, 5.0]\n",
      "[6.0, 4.8125, 3.75, 2.8125, 2.0, 1.3125, 0.75, 0.3125, 0.0, -0.1875, -0.25, -0.1875, 0.0, 0.3125, 0.75, 1.3125, 2.0, 2.8125, 3.75, 4.8125, 6.0]\n"
     ]
    }
   ],
   "source": [
    "import matplotlib.pyplot as plt\n",
    "\n",
    "def poly(x):\n",
    "    a = 1\n",
    "    b = -5\n",
    "    c = 6\n",
    "    y = a * x * x + b * x + c\n",
    "    return y\n",
    "\n",
    "x = []\n",
    "y = []\n",
    "for i in range(0, 21):\n",
    "    x.append(i * 0.25)\n",
    "    y.append(poly(i * 0.25))\n",
    "\n",
    "print(x)\n",
    "print(y)"
   ]
  },
  {
   "cell_type": "code",
   "execution_count": 16,
   "id": "98cf3449",
   "metadata": {},
   "outputs": [
    {
     "data": {
      "image/png": "[encoded data removed]",
      "text/plain": [
       "<Figure size 432x288 with 1 Axes>"
      ]
     },
     "metadata": {
      "needs_background": "light"
     },
     "output_type": "display_data"
    }
   ],
   "source": [
    "plt.plot(x,y)\n",
    "\n",
    "plt.show()"
   ]
  },
  {
   "cell_type": "code",
   "execution_count": null,
   "id": "46ab17eb",
   "metadata": {},
   "outputs": [],
   "source": []
  }
 ],
 "metadata": {
  "authors": [
   {
    "name": "Sparisoma Viridi"
   }
  ],
  "kernelspec": {
   "display_name": "Python 3 (ipykernel)",
   "language": "python",
   "name": "python3"
  },
  "language_info": {
   "codemirror_mode": {
    "name": "ipython",
    "version": 3
   },
   "file_extension": ".py",
   "mimetype": "text/x-python",
   "name": "python",
   "nbconvert_exporter": "python",
   "pygments_lexer": "ipython3",
   "version": "3.10.4"
  },
  "title": "Quadratic formula"
 },
 "nbformat": 4,
 "nbformat_minor": 5
}
