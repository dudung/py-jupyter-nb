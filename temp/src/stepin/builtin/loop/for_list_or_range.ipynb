{
 "cells": [
  {
   "cell_type": "markdown",
   "id": "d4e69cf6",
   "metadata": {},
   "source": [
    "# for_list_or_range\n",
    "The `for` statement can iterate through `list` and `range`, where both are iterable [[1](https://stackoverflow.com/a/21803943/9475509), [2](https://stackoverflow.com/a/67842177/9475509)]."
   ]
  },
  {
   "cell_type": "markdown",
   "id": "64d3409a",
   "metadata": {},
   "source": [
    "## iterate with range\n",
    "Iteration in `x` is performed with `range`."
   ]
  },
  {
   "cell_type": "markdown",
   "id": "27c1ddef",
   "metadata": {},
   "source": [
    "### define a list"
   ]
  },
  {
   "cell_type": "code",
   "execution_count": 1,
   "id": "752a6e9e",
   "metadata": {},
   "outputs": [
    {
     "name": "stdout",
     "output_type": "stream",
     "text": [
      "x = [23, 34, 47, 79, 98, 86, 65]\n",
      "N = 7\n"
     ]
    }
   ],
   "source": [
    "x = [23, 34, 47, 79, 98, 86, 65]\n",
    "print(\"x =\", x)\n",
    "\n",
    "N = len(x)\n",
    "print(\"N =\", N)"
   ]
  },
  {
   "cell_type": "markdown",
   "id": "49932670",
   "metadata": {},
   "source": [
    "### define a range and iterate with it"
   ]
  },
  {
   "cell_type": "code",
   "execution_count": 2,
   "id": "40dccaf0",
   "metadata": {},
   "outputs": [
    {
     "name": "stdout",
     "output_type": "stream",
     "text": [
      "23 34 47 79 98 86 65 "
     ]
    }
   ],
   "source": [
    "Nx = range(N)\n",
    "for i in Nx:\n",
    "    print(x[i], end=' ')"
   ]
  },
  {
   "cell_type": "markdown",
   "id": "dd8f02c2",
   "metadata": {},
   "source": [
    "### insert element"
   ]
  },
  {
   "cell_type": "code",
   "execution_count": 3,
   "id": "8159d255",
   "metadata": {},
   "outputs": [
    {
     "name": "stdout",
     "output_type": "stream",
     "text": [
      "[23, 34, 47, 77, 79, 98, 86, 65]\n"
     ]
    }
   ],
   "source": [
    "x.insert(3, 77)\n",
    "print(x)"
   ]
  },
  {
   "cell_type": "markdown",
   "id": "9d30d745",
   "metadata": {},
   "source": [
    "### iterate (again) with (previous) range"
   ]
  },
  {
   "cell_type": "code",
   "execution_count": 4,
   "id": "8922c96e",
   "metadata": {},
   "outputs": [
    {
     "name": "stdout",
     "output_type": "stream",
     "text": [
      "23 34 47 77 79 98 86 "
     ]
    }
   ],
   "source": [
    "Nx = range(N)\n",
    "for i in Nx:\n",
    "    print(x[i], end=' ')"
   ]
  },
  {
   "cell_type": "markdown",
   "id": "c6acc626",
   "metadata": {},
   "source": [
    "\n",
    "It works but it misses the last element since `Nx` is not updated."
   ]
  },
  {
   "cell_type": "markdown",
   "id": "d7d31e15",
   "metadata": {},
   "source": [
    "## iterate with list\n",
    "When using `list` directly, it will be updated when its element is updated."
   ]
  },
  {
   "cell_type": "code",
   "execution_count": 5,
   "id": "d4bdd3e8",
   "metadata": {},
   "outputs": [
    {
     "name": "stdout",
     "output_type": "stream",
     "text": [
      "[23, 34, 47, 79, 98, 86, 65]\n",
      "\n",
      "before insertion\n",
      "23 34 47 79 98 86 65 \n",
      "\n",
      "after insertion\n",
      "23 34 47 77 79 98 86 65 "
     ]
    }
   ],
   "source": [
    "x = [23, 34, 47, 79, 98, 86, 65]\n",
    "print(x)\n",
    "print()\n",
    "\n",
    "print(\"before insertion\")\n",
    "for i in x:\n",
    "    print(i, end=' ')\n",
    "print()\n",
    "\n",
    "x.insert(3, 77)\n",
    "print()\n",
    "\n",
    "print(\"after insertion\")\n",
    "for i in x:\n",
    "    print(i, end=' ')"
   ]
  },
  {
   "cell_type": "markdown",
   "id": "58bdb723",
   "metadata": {},
   "source": [
    "## summary\n",
    "It would be better to use `list` directly as an iterable than define an iterable using `range` form the `list`."
   ]
  }
 ],
 "metadata": {
  "authors": [
   {
    "name": "Sparisoma Viridi"
   }
  ],
  "kernelspec": {
   "display_name": "Python 3 (ipykernel)",
   "language": "python",
   "name": "python3"
  },
  "language_info": {
   "codemirror_mode": {
    "name": "ipython",
    "version": 3
   },
   "file_extension": ".py",
   "mimetype": "text/x-python",
   "name": "python",
   "nbconvert_exporter": "python",
   "pygments_lexer": "ipython3",
   "version": "3.10.4"
  },
  "title": "for_list_or_range"
 },
 "nbformat": 4,
 "nbformat_minor": 5
}
