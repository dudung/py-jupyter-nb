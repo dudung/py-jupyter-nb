{
 "cells": [
  {
   "cell_type": "markdown",
   "id": "d4e69cf6",
   "metadata": {},
   "source": [
    "# while\n",
    "Loops can be performed in Python using `for` or `while`, where the former is for definite loops and the latter is for indefinite loops. "
   ]
  },
  {
   "cell_type": "code",
   "execution_count": 1,
   "id": "37a909f9",
   "metadata": {},
   "outputs": [
    {
     "name": "stdout",
     "output_type": "stream",
     "text": [
      "# x  f(x)\n",
      "0.00 1.0000\n",
      "0.05 1.0025\n",
      "0.10 1.0100\n",
      "0.15 1.0225\n",
      "0.20 1.0400\n",
      "0.25 1.0625\n",
      "0.30 1.0900\n",
      "0.35 1.1225\n",
      "0.40 1.1600\n",
      "0.45 1.2025\n",
      "0.50 1.2500\n",
      "0.55 1.3025\n",
      "0.60 1.3600\n",
      "0.65 1.4225\n",
      "0.70 1.4900\n",
      "0.75 1.5625\n",
      "0.80 1.6400\n",
      "0.85 1.7225\n",
      "0.90 1.8100\n",
      "0.95 1.9025\n",
      "1.00 2.0000\n"
     ]
    }
   ],
   "source": [
    "# define parameters\n",
    "N = 20\n",
    "xbeg = 0\n",
    "xend = 1\n",
    "dx = (xend - xbeg) / N\n",
    "\n",
    "# peform loop\n",
    "print(\"# x  f(x)\")\n",
    "x = xbeg\n",
    "while x < xend + 0.1 * dx:\n",
    "    fx = x ** 2 + 1\n",
    "    print(f'{x:0.2f}', end=' ')\n",
    "    print(f'{fx:0.4f}')\n",
    "    x += dx"
   ]
  },
  {
   "cell_type": "code",
   "execution_count": 2,
   "id": "a44e14a5",
   "metadata": {},
   "outputs": [
    {
     "name": "stdout",
     "output_type": "stream",
     "text": [
      "# x  f(x)\n",
      "1.00 2.0000\n",
      "0.95 1.9025\n",
      "0.90 1.8100\n",
      "0.85 1.7225\n",
      "0.80 1.6400\n",
      "0.75 1.5625\n",
      "0.70 1.4900\n",
      "0.65 1.4225\n",
      "0.60 1.3600\n",
      "0.55 1.3025\n",
      "0.50 1.2500\n",
      "0.45 1.2025\n",
      "0.40 1.1600\n",
      "0.35 1.1225\n",
      "0.30 1.0900\n",
      "0.25 1.0625\n",
      "0.20 1.0400\n",
      "0.15 1.0225\n",
      "0.10 1.0100\n",
      "0.05 1.0025\n",
      "-0.00 1.0000\n"
     ]
    }
   ],
   "source": [
    "# define parameters\n",
    "N = 20\n",
    "xbeg = 0\n",
    "xend = 1\n",
    "dx = (xend - xbeg) / N\n",
    "\n",
    "# peform loop\n",
    "print(\"# x  f(x)\")\n",
    "x = xend\n",
    "while x > xbeg - 0.1 * dx:\n",
    "    fx = x ** 2 + 1\n",
    "    print(f'{x:0.2f}', end=' ')\n",
    "    print(f'{fx:0.4f}')\n",
    "    x -= dx"
   ]
  }
 ],
 "metadata": {
  "authors": [
   {
    "name": "Sparisoma Viridi"
   }
  ],
  "kernelspec": {
   "display_name": "Python 3 (ipykernel)",
   "language": "python",
   "name": "python3"
  },
  "language_info": {
   "codemirror_mode": {
    "name": "ipython",
    "version": 3
   },
   "file_extension": ".py",
   "mimetype": "text/x-python",
   "name": "python",
   "nbconvert_exporter": "python",
   "pygments_lexer": "ipython3",
   "version": "3.10.4"
  },
  "title": "while"
 },
 "nbformat": 4,
 "nbformat_minor": 5
}
