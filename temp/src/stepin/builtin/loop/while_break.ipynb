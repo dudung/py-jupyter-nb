{
 "cells": [
  {
   "cell_type": "markdown",
   "id": "d4e69cf6",
   "metadata": {},
   "source": [
    "# while\n",
    "Indefinite loop `while` can be stopped using `break` before it ends."
   ]
  },
  {
   "cell_type": "code",
   "execution_count": 1,
   "id": "37a909f9",
   "metadata": {},
   "outputs": [
    {
     "name": "stdout",
     "output_type": "stream",
     "text": [
      "# x  f(x)   sign\n",
      "0.00 0.0475 1\n",
      "0.05 0.0900 1\n",
      "0.10 0.1275 1\n",
      "0.15 0.1600 1\n",
      "0.20 0.1875 1\n",
      "0.25 0.2100 1\n",
      "0.30 0.2275 1\n",
      "0.35 0.2400 1\n",
      "0.40 0.2475 1\n",
      "0.45 0.2500 1\n",
      "0.50 0.2475 -1 # max or min found\n",
      "0.55 0.2400 -1\n",
      "0.60 0.2275 -1\n",
      "0.65 0.2100 -1\n",
      "0.70 0.1875 -1\n",
      "0.75 0.1600 -1\n",
      "0.80 0.1275 -1\n",
      "0.85 0.0900 -1\n",
      "0.90 0.0475 -1\n",
      "0.95 -0.0000 -1\n",
      "1.00 -0.0525 -1\n"
     ]
    }
   ],
   "source": [
    "# define parameters\n",
    "N = 20\n",
    "xbeg = 0\n",
    "xend = 1\n",
    "dx = (xend - xbeg) / N\n",
    "\n",
    "# set termination condition\n",
    "break_when_gradient_sign_change = False\n",
    "\n",
    "# peform loop\n",
    "print(\"# x  f(x)   sign\")\n",
    "x = xbeg\n",
    "sign = 0\n",
    "while x < xend + 0.01 * dx:\n",
    "    fx = 0.25 - (x - 0.5) ** 2\n",
    "    fxold = fx\n",
    "    \n",
    "    xnew = x + dx\n",
    "    fxnew = fx = 0.25 - (xnew - 0.5) ** 2\n",
    "    \n",
    "    prev_sign = sign\n",
    "    dfx = fxnew - fxold\n",
    "    if dfx > 0:\n",
    "        sign = 1\n",
    "    elif dfx < 0:\n",
    "        sign = -1\n",
    "    else:\n",
    "        sign = 0\n",
    "    \n",
    "    print(f'{x:0.2f}', end=' ')\n",
    "    print(f'{fx:0.4f}', end=' ')\n",
    "    print(f'{sign}', end='')\n",
    "    \n",
    "    if sign == -prev_sign:\n",
    "        print(\" # max or min found\")\n",
    "        if break_when_gradient_sign_change:\n",
    "            print(\"loop stopped\")\n",
    "            break\n",
    "    else:\n",
    "        print()\n",
    "    \n",
    "    x += dx"
   ]
  }
 ],
 "metadata": {
  "authors": [
   {
    "name": "Sparisoma Viridi"
   }
  ],
  "kernelspec": {
   "display_name": "Python 3 (ipykernel)",
   "language": "python",
   "name": "python3"
  },
  "language_info": {
   "codemirror_mode": {
    "name": "ipython",
    "version": 3
   },
   "file_extension": ".py",
   "mimetype": "text/x-python",
   "name": "python",
   "nbconvert_exporter": "python",
   "pygments_lexer": "ipython3",
   "version": "3.10.4"
  },
  "title": "while_break"
 },
 "nbformat": 4,
 "nbformat_minor": 5
}
