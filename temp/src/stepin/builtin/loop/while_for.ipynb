{
 "cells": [
  {
   "cell_type": "markdown",
   "id": "d4e69cf6",
   "metadata": {},
   "source": [
    "# while_for\n",
    "Loops can be performed in Python using `for` or `while`, where the former is for definite loops and the latter is for indefinite loops and both can be inside the other, e.g. `for` loop inside a `while` loop."
   ]
  },
  {
   "cell_type": "code",
   "execution_count": 1,
   "id": "37a909f9",
   "metadata": {},
   "outputs": [
    {
     "name": "stdout",
     "output_type": "stream",
     "text": [
      "# t  x0    x1    x2    x3    \n",
      "0.00 12.50 22.00 41.00 50.50 \n",
      "0.05 15.00 24.00 42.00 51.00 \n",
      "0.10 17.50 26.00 43.00 51.50 \n",
      "0.15 20.00 28.00 44.00 52.00 \n",
      "0.20 22.50 30.00 45.00 52.50 \n",
      "0.25 25.00 32.00 46.00 53.00 \n",
      "0.30 27.50 34.00 47.00 53.50 \n",
      "0.35 30.00 36.00 48.00 54.00 \n",
      "0.40 32.50 38.00 49.00 54.50 \n",
      "0.45 35.00 40.00 50.00 55.00 \n",
      "0.50 37.50 42.00 51.00 55.50 \n",
      "0.55 40.00 44.00 52.00 56.00 \n",
      "0.60 42.50 46.00 53.00 56.50 \n",
      "0.65 45.00 48.00 54.00 57.00 \n",
      "0.70 47.50 50.00 55.00 57.50 \n",
      "0.75 50.00 52.00 56.00 58.00 \n",
      "0.80 52.50 54.00 57.00 58.50 \n",
      "0.85 55.00 56.00 58.00 59.00 \n",
      "0.90 57.50 58.00 59.00 59.50 \n",
      "0.95 60.00 60.00 60.00 60.00 \n",
      "1.00 62.50 62.00 61.00 60.50 \n",
      "1.05 65.00 64.00 62.00 61.00 \n",
      "1.10 67.50 66.00 63.00 61.50 \n",
      "1.15 70.00 68.00 64.00 62.00 \n",
      "1.20 72.50 70.00 65.00 62.50 \n",
      "1.25 75.00 72.00 66.00 63.00 \n",
      "1.30 77.50 74.00 67.00 63.50 \n",
      "1.35 80.00 76.00 68.00 64.00 \n",
      "1.40 82.50 78.00 69.00 64.50 \n",
      "1.45 85.00 80.00 70.00 65.00 \n",
      "1.50 87.50 82.00 71.00 65.50 \n",
      "1.55 90.00 84.00 72.00 66.00 \n",
      "1.60 92.50 86.00 73.00 66.50 \n"
     ]
    }
   ],
   "source": [
    "# define parameters\n",
    "N = 32\n",
    "tbeg = 0\n",
    "tend = 1.6\n",
    "dt = (tend - tbeg) / N\n",
    "\n",
    "# define initial condition\n",
    "x = [10, 20, 40, 50]\n",
    "v = [50, 40, 20, 10]\n",
    "N = range(min(len(x), len(v)))\n",
    "\n",
    "# print header\n",
    "print(\"# t  \", end='')\n",
    "for i in N:\n",
    "    print('x', i, '    ', sep='', end='')\n",
    "print()\n",
    "\n",
    "# peform loop\n",
    "t = tbeg\n",
    "while t < tend + 0.1 * dt:       # indefinite loop\n",
    "    print(f'{t:0.2f}', end=' ')\n",
    "    for i in N:                  # definite loop\n",
    "        x[i] = x[i] + v[i] * dt\n",
    "        print(f'{x[i]:0.2f}', end=' ')\n",
    "    print()\n",
    "    \n",
    "    t += dt"
   ]
  }
 ],
 "metadata": {
  "authors": [
   {
    "name": "Sparisoma Viridi"
   }
  ],
  "kernelspec": {
   "display_name": "Python 3 (ipykernel)",
   "language": "python",
   "name": "python3"
  },
  "language_info": {
   "codemirror_mode": {
    "name": "ipython",
    "version": 3
   },
   "file_extension": ".py",
   "mimetype": "text/x-python",
   "name": "python",
   "nbconvert_exporter": "python",
   "pygments_lexer": "ipython3",
   "version": "3.10.4"
  },
  "title": "while_for"
 },
 "nbformat": 4,
 "nbformat_minor": 5
}
