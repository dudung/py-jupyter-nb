{
 "cells": [
  {
   "cell_type": "markdown",
   "id": "d4e69cf6",
   "metadata": {},
   "source": [
    "# for_list_nested_2\n",
    "Loops can be nested, e.g. two level, when it is necessary."
   ]
  },
  {
   "cell_type": "code",
   "execution_count": 1,
   "id": "1474fcc2",
   "metadata": {
    "scrolled": true
   },
   "outputs": [
    {
     "name": "stdout",
     "output_type": "stream",
     "text": [
      "0 + 0 = 0\n",
      "0 + 1 = 1\n",
      "0 + 2 = 2\n",
      "1 + 0 = 1\n",
      "1 + 1 = 2\n",
      "1 + 2 = 3\n",
      "2 + 0 = 2\n",
      "2 + 1 = 3\n",
      "2 + 2 = 4\n",
      "3 + 0 = 3\n",
      "3 + 1 = 4\n",
      "3 + 2 = 5\n"
     ]
    }
   ],
   "source": [
    "outer = [0, 1, 2, 3]\n",
    "inner = [0, 1, 2]\n",
    "\n",
    "for i in outer:\n",
    "    for j in inner:\n",
    "        print(i, '+', j, '=', i+j)"
   ]
  },
  {
   "cell_type": "code",
   "execution_count": 2,
   "id": "56620b8f",
   "metadata": {
    "scrolled": true
   },
   "outputs": [
    {
     "name": "stdout",
     "output_type": "stream",
     "text": [
      "0 × 0 = 0\n",
      "0 × 1 = 0\n",
      "0 × 2 = 0\n",
      "1 × 0 = 0\n",
      "1 × 1 = 1\n",
      "1 × 2 = 2\n",
      "2 × 0 = 0\n",
      "2 × 1 = 2\n",
      "2 × 2 = 4\n",
      "3 × 0 = 0\n",
      "3 × 1 = 3\n",
      "3 × 2 = 6\n"
     ]
    }
   ],
   "source": [
    "outer = [0, 1, 2, 3]\n",
    "inner = [0, 1, 2]\n",
    "\n",
    "for i in outer:\n",
    "    for j in inner:\n",
    "        print(i, '×', j, '=', i*j)"
   ]
  },
  {
   "cell_type": "code",
   "execution_count": 3,
   "id": "2c94c890",
   "metadata": {
    "scrolled": true
   },
   "outputs": [
    {
     "name": "stdout",
     "output_type": "stream",
     "text": [
      "1a 1b 1c \n",
      "2a 2b 2c \n",
      "3a 3b 3c \n",
      "4a 4b 4c \n",
      "5a 5b 5c \n"
     ]
    }
   ],
   "source": [
    "outer = [1, 2, 3, 4, 5]\n",
    "inner = \"abc\"\n",
    "\n",
    "for i in outer:\n",
    "    for j in inner:\n",
    "        k = str(i) + j\n",
    "        print(k, end=' ')\n",
    "    print()"
   ]
  }
 ],
 "metadata": {
  "authors": [
   {
    "name": "Sparisoma Viridi"
   }
  ],
  "kernelspec": {
   "display_name": "Python 3 (ipykernel)",
   "language": "python",
   "name": "python3"
  },
  "language_info": {
   "codemirror_mode": {
    "name": "ipython",
    "version": 3
   },
   "file_extension": ".py",
   "mimetype": "text/x-python",
   "name": "python",
   "nbconvert_exporter": "python",
   "pygments_lexer": "ipython3",
   "version": "3.10.4"
  },
  "title": "for_list_nested_2"
 },
 "nbformat": 4,
 "nbformat_minor": 5
}
