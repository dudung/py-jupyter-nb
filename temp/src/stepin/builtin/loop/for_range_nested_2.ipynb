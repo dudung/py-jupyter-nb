{
 "cells": [
  {
   "cell_type": "markdown",
   "id": "d4e69cf6",
   "metadata": {},
   "source": [
    "# for_range_nested_2\n",
    "The `for` statement can also iterate through `range`, which is not a `list`, and can be nested, e.g. two level."
   ]
  },
  {
   "cell_type": "code",
   "execution_count": 1,
   "id": "9bd5867d",
   "metadata": {},
   "outputs": [
    {
     "name": "stdout",
     "output_type": "stream",
     "text": [
      "\n",
      "☐\n",
      "☐☐\n",
      "☐☐☐\n",
      "☐☐☐☐\n",
      "☐☐☐☐☐\n",
      "☐☐☐☐☐☐\n",
      "☐☐☐☐☐☐☐\n",
      "☐☐☐☐☐☐☐☐\n",
      "☐☐☐☐☐☐☐☐☐\n"
     ]
    }
   ],
   "source": [
    "for i in range(10):\n",
    "    for j in range(i):\n",
    "        print('☐', end='')\n",
    "    print()"
   ]
  },
  {
   "cell_type": "code",
   "execution_count": 2,
   "id": "62672178",
   "metadata": {},
   "outputs": [
    {
     "name": "stdout",
     "output_type": "stream",
     "text": [
      "☐☐☐☐☐☐☐☐☐\n",
      "☐☐☐☐☐☐☐☐\n",
      "☐☐☐☐☐☐☐\n",
      "☐☐☐☐☐☐\n",
      "☐☐☐☐☐\n",
      "☐☐☐☐\n",
      "☐☐☐\n",
      "☐☐\n",
      "☐\n",
      "\n"
     ]
    }
   ],
   "source": [
    "for i in range(10):\n",
    "    for j in range(10, i+1, -1):\n",
    "        print('☐', end='')\n",
    "    print()"
   ]
  },
  {
   "cell_type": "code",
   "execution_count": 3,
   "id": "f157ac09",
   "metadata": {
    "scrolled": false
   },
   "outputs": [
    {
     "name": "stdout",
     "output_type": "stream",
     "text": [
      "◻◼◻◼◻◼◻◼◻◼\n",
      "◼◻◼◻◼◻◼◻◼◻\n",
      "◻◼◻◼◻◼◻◼◻◼\n",
      "◼◻◼◻◼◻◼◻◼◻\n",
      "◻◼◻◼◻◼◻◼◻◼\n",
      "◼◻◼◻◼◻◼◻◼◻\n",
      "◻◼◻◼◻◼◻◼◻◼\n",
      "◼◻◼◻◼◻◼◻◼◻\n",
      "◻◼◻◼◻◼◻◼◻◼\n",
      "◼◻◼◻◼◻◼◻◼◻\n"
     ]
    }
   ],
   "source": [
    "for i in range(10):\n",
    "    for j in range(10):\n",
    "        if (i + j) % 2 == 0:\n",
    "            print('◻', end='')\n",
    "        else:\n",
    "            print('◼', end='')\n",
    "    print()"
   ]
  },
  {
   "cell_type": "code",
   "execution_count": 4,
   "id": "fd73e3e7",
   "metadata": {},
   "outputs": [
    {
     "name": "stdout",
     "output_type": "stream",
     "text": [
      "◼◻◼◻◼◻◼◻◼◻\n",
      "◻◼◻◼◻◼◻◼◻◼\n",
      "◼◻◼◻◼◻◼◻◼◻\n",
      "◻◼◻◼◻◼◻◼◻◼\n",
      "◼◻◼◻◼◻◼◻◼◻\n",
      "◻◼◻◼◻◼◻◼◻◼\n",
      "◼◻◼◻◼◻◼◻◼◻\n",
      "◻◼◻◼◻◼◻◼◻◼\n",
      "◼◻◼◻◼◻◼◻◼◻\n",
      "◻◼◻◼◻◼◻◼◻◼\n"
     ]
    }
   ],
   "source": [
    "for i in range(10):\n",
    "    for j in range(10):\n",
    "        if (i + j) % 2 == 1:\n",
    "            print('◻', end='')\n",
    "        else:\n",
    "            print('◼', end='')\n",
    "    print()"
   ]
  },
  {
   "cell_type": "code",
   "execution_count": 5,
   "id": "161f9296",
   "metadata": {},
   "outputs": [
    {
     "name": "stdout",
     "output_type": "stream",
     "text": [
      "◼       ◼\n",
      " ◼     ◼ \n",
      "  ◼   ◼  \n",
      "   ◼ ◼   \n",
      "    ◼    \n",
      "   ◼ ◼   \n",
      "  ◼   ◼  \n",
      " ◼     ◼ \n",
      "◼       ◼\n"
     ]
    }
   ],
   "source": [
    "for i in range(9):\n",
    "    for j in range(9):\n",
    "        if i == j or i == 8-j:\n",
    "            print('◼', end='')\n",
    "        else:\n",
    "            print(' ', end='')\n",
    "    print()"
   ]
  },
  {
   "cell_type": "code",
   "execution_count": 6,
   "id": "800ae36e",
   "metadata": {},
   "outputs": [
    {
     "name": "stdout",
     "output_type": "stream",
     "text": [
      "◼◼◼◼◼◼◼◼◼\n",
      "◼        \n",
      "◼        \n",
      "◼        \n",
      "◼◼◼◼◼◼◼◼◼\n",
      "◼        \n",
      "◼        \n",
      "◼        \n",
      "◼◼◼◼◼◼◼◼◼\n"
     ]
    }
   ],
   "source": [
    "for i in range(9):\n",
    "    for j in range(9):\n",
    "        if i == 0 or i == 8 or i == 4 or j == 0:\n",
    "            print('◼', end='')\n",
    "        else:\n",
    "            print(' ', end='')\n",
    "    print()"
   ]
  }
 ],
 "metadata": {
  "authors": [
   {
    "name": "Sparisoma Viridi"
   }
  ],
  "kernelspec": {
   "display_name": "Python 3 (ipykernel)",
   "language": "python",
   "name": "python3"
  },
  "language_info": {
   "codemirror_mode": {
    "name": "ipython",
    "version": 3
   },
   "file_extension": ".py",
   "mimetype": "text/x-python",
   "name": "python",
   "nbconvert_exporter": "python",
   "pygments_lexer": "ipython3",
   "version": "3.10.4"
  },
  "title": "for_range_nested_2"
 },
 "nbformat": 4,
 "nbformat_minor": 5
}
