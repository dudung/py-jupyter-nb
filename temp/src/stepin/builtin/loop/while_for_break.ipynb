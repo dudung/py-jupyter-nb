{
 "cells": [
  {
   "cell_type": "markdown",
   "id": "d4e69cf6",
   "metadata": {},
   "source": [
    "# while_for_break\n",
    "Loops can be performed in Python using `for` or `while`, where the former is for definite loops and the latter is for indefinite loops and both can be inside the other, e.g. `for` loop inside a `while` loop, then they can also stopped using `break."
   ]
  },
  {
   "cell_type": "code",
   "execution_count": 1,
   "id": "7715e87f",
   "metadata": {},
   "outputs": [
    {
     "name": "stdout",
     "output_type": "stream",
     "text": [
      "['book eraser pencil ruler', 'cow fish chicken lamb', 'noodle meatball tofu soup', 'computer laptop desktop gadget', 'motorcycle auto ship aeroplane']\n"
     ]
    }
   ],
   "source": [
    "# define lines of words\n",
    "lines = []\n",
    "lines.append(\"book eraser pencil ruler\")\n",
    "lines.append(\"cow fish chicken lamb\")\n",
    "lines.append(\"noodle meatball tofu soup\")\n",
    "lines.append(\"computer laptop desktop gadget\")\n",
    "lines.append(\"motorcycle auto ship aeroplane\")\n",
    "print(lines)"
   ]
  },
  {
   "cell_type": "code",
   "execution_count": 2,
   "id": "4f9458a4",
   "metadata": {},
   "outputs": [
    {
     "name": "stdout",
     "output_type": "stream",
     "text": [
      "2\n",
      "0\n",
      "[]\n"
     ]
    }
   ],
   "source": [
    "# set number of target and the storage\n",
    "target = 'e'\n",
    "max_e = 2\n",
    "found_e = []\n",
    "now_e = len(found_e)\n",
    "print(max_e)\n",
    "print(now_e)\n",
    "print(found_e)"
   ]
  },
  {
   "cell_type": "code",
   "execution_count": 3,
   "id": "02f39ab6",
   "metadata": {},
   "outputs": [
    {
     "name": "stdout",
     "output_type": "stream",
     "text": [
      "[5, 9]\n"
     ]
    }
   ],
   "source": [
    "# perform loop while-for\n",
    "while now_e <= max_e:\n",
    "    for l in lines:\n",
    "        for c,v in enumerate(l):\n",
    "            if v == target:\n",
    "                found_e.append(c)\n",
    "            now_e = len(found_e)\n",
    "\n",
    "            # break while searcing in a line (inner, 2nd for loop)\n",
    "            if now_e >= max_e:\n",
    "                break\n",
    "        \n",
    "        # break while iterate through lines (middle, 1st for loop)\n",
    "        if now_e >= max_e:\n",
    "            break\n",
    "    \n",
    "    # break while counting now_e (outer while loop)\n",
    "    if now_e >= max_e:\n",
    "        break\n",
    "\n",
    "print(found_e)"
   ]
  },
  {
   "cell_type": "markdown",
   "id": "63e4af92",
   "metadata": {},
   "source": [
    "Notice that `break` must be used in every level of loop (inner `for` loop, middle `for` loop, outer `while` loop) in order to break it.\n",
    "\n",
    "```python\n",
    "while .. : # outer loop\n",
    "    \n",
    "    for .. : # middle loop\n",
    "        \n",
    "        for .. : # inner loop\n",
    "            pass\n",
    "            if .. :\n",
    "                break # break inner loop\n",
    "         \n",
    "        if .. :\n",
    "            break # break middle loop\n",
    "         \n",
    "    if .. :\n",
    "        break # break outer loop\n",
    "```\n",
    "\n",
    "Even it works but is not advisable to implement many nested loops since it is hard to trace when there is any problems."
   ]
  }
 ],
 "metadata": {
  "authors": [
   {
    "name": "Sparisoma Viridi"
   }
  ],
  "kernelspec": {
   "display_name": "Python 3 (ipykernel)",
   "language": "python",
   "name": "python3"
  },
  "language_info": {
   "codemirror_mode": {
    "name": "ipython",
    "version": 3
   },
   "file_extension": ".py",
   "mimetype": "text/x-python",
   "name": "python",
   "nbconvert_exporter": "python",
   "pygments_lexer": "ipython3",
   "version": "3.10.4"
  },
  "title": "while_for_break"
 },
 "nbformat": 4,
 "nbformat_minor": 5
}
