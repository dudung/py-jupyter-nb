{
 "cells": [
  {
   "cell_type": "markdown",
   "id": "d4e69cf6",
   "metadata": {},
   "source": [
    "# list_access\n",
    "Value of a `list` can be accessed in several ways."
   ]
  },
  {
   "cell_type": "markdown",
   "id": "0199f103",
   "metadata": {},
   "source": [
    "## index"
   ]
  },
  {
   "cell_type": "code",
   "execution_count": 1,
   "id": "b2ab2733",
   "metadata": {},
   "outputs": [],
   "source": [
    "data = ['x', 'y', 'z', 'a', 'b', 'c', 'i', 'j', 'k', 'p', 'q']"
   ]
  },
  {
   "cell_type": "code",
   "execution_count": 2,
   "id": "76e6368a",
   "metadata": {},
   "outputs": [
    {
     "name": "stdout",
     "output_type": "stream",
     "text": [
      "z\n"
     ]
    }
   ],
   "source": [
    "# access 'z'\n",
    "d = data[2];\n",
    "print(d)"
   ]
  },
  {
   "cell_type": "code",
   "execution_count": 3,
   "id": "2d64ff19",
   "metadata": {},
   "outputs": [
    {
     "name": "stdout",
     "output_type": "stream",
     "text": [
      "k\n"
     ]
    }
   ],
   "source": [
    "# access 'k'\n",
    "d = data[-3];\n",
    "print(d)"
   ]
  },
  {
   "cell_type": "markdown",
   "id": "386c7ffe",
   "metadata": {},
   "source": [
    "## slice operator"
   ]
  },
  {
   "cell_type": "code",
   "execution_count": 4,
   "id": "4cedc3ab",
   "metadata": {},
   "outputs": [],
   "source": [
    "data = ['x', 'y', 'z', 'a', 'b', 'c', 'i', 'j', 'k', 'p', 'q']"
   ]
  },
  {
   "cell_type": "code",
   "execution_count": 5,
   "id": "cec6d4e0",
   "metadata": {},
   "outputs": [
    {
     "name": "stdout",
     "output_type": "stream",
     "text": [
      "['y', 'z', 'a']\n"
     ]
    }
   ],
   "source": [
    "# access 'y', 'z', 'a'\n",
    "d = data[1:4]\n",
    "print(d)"
   ]
  },
  {
   "cell_type": "code",
   "execution_count": 6,
   "id": "76ff93de",
   "metadata": {},
   "outputs": [
    {
     "name": "stdout",
     "output_type": "stream",
     "text": [
      "['x', 'y', 'z']\n"
     ]
    }
   ],
   "source": [
    "# access 'x', 'y', 'z'\n",
    "d = data[:3]\n",
    "print(d)"
   ]
  },
  {
   "cell_type": "code",
   "execution_count": 7,
   "id": "9aa7eb5a",
   "metadata": {},
   "outputs": [
    {
     "name": "stdout",
     "output_type": "stream",
     "text": [
      "['k', 'p']\n"
     ]
    }
   ],
   "source": [
    "# access 'k', p'\n",
    "d = data[-3:-1]\n",
    "print(d)"
   ]
  },
  {
   "cell_type": "code",
   "execution_count": 8,
   "id": "2c557111",
   "metadata": {},
   "outputs": [
    {
     "name": "stdout",
     "output_type": "stream",
     "text": [
      "['p', 'q']\n"
     ]
    }
   ],
   "source": [
    "# access  p', 'q'\n",
    "d = data[-2:]\n",
    "print(d)"
   ]
  },
  {
   "cell_type": "code",
   "execution_count": 9,
   "id": "ca3b8a86",
   "metadata": {},
   "outputs": [
    {
     "name": "stdout",
     "output_type": "stream",
     "text": [
      "['x', 'y', 'z', 'a', 'b', 'c', 'i', 'j', 'k', 'p', 'q']\n"
     ]
    }
   ],
   "source": [
    "# access all\n",
    "d = data[:]\n",
    "print(d)"
   ]
  },
  {
   "cell_type": "markdown",
   "id": "b41152dd",
   "metadata": {},
   "source": [
    "## in operator"
   ]
  },
  {
   "cell_type": "code",
   "execution_count": 10,
   "id": "d43582ee",
   "metadata": {},
   "outputs": [],
   "source": [
    "data = ['x', 'y', 'z', 'a', 'b', 'c', 'i', 'j', 'k', 'p', 'q']"
   ]
  },
  {
   "cell_type": "code",
   "execution_count": 11,
   "id": "ca6b648f",
   "metadata": {},
   "outputs": [
    {
     "name": "stdout",
     "output_type": "stream",
     "text": [
      "False\n"
     ]
    }
   ],
   "source": [
    "# check existence of 'g'\n",
    "d = 'g' in data\n",
    "print(d)"
   ]
  },
  {
   "cell_type": "code",
   "execution_count": 12,
   "id": "c1f61e84",
   "metadata": {},
   "outputs": [
    {
     "name": "stdout",
     "output_type": "stream",
     "text": [
      "True\n"
     ]
    }
   ],
   "source": [
    "# check existence of 'i'\n",
    "d = 'i' in data\n",
    "print(d)"
   ]
  }
 ],
 "metadata": {
  "authors": [
   {
    "name": "Sparisoma Viridi"
   }
  ],
  "kernelspec": {
   "display_name": "Python 3 (ipykernel)",
   "language": "python",
   "name": "python3"
  },
  "language_info": {
   "codemirror_mode": {
    "name": "ipython",
    "version": 3
   },
   "file_extension": ".py",
   "mimetype": "text/x-python",
   "name": "python",
   "nbconvert_exporter": "python",
   "pygments_lexer": "ipython3",
   "version": "3.10.4"
  },
  "title": "list_access"
 },
 "nbformat": 4,
 "nbformat_minor": 5
}
