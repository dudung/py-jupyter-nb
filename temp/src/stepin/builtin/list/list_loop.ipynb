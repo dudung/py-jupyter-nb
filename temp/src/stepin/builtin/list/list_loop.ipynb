{
 "cells": [
  {
   "cell_type": "markdown",
   "id": "d4e69cf6",
   "metadata": {},
   "source": [
    "# list_loop\n",
    "Loop over a `list` can be performed in several ways."
   ]
  },
  {
   "cell_type": "markdown",
   "id": "967bd015",
   "metadata": {},
   "source": [
    "## while loop"
   ]
  },
  {
   "cell_type": "code",
   "execution_count": 1,
   "id": "f63f9e02",
   "metadata": {},
   "outputs": [
    {
     "name": "stdout",
     "output_type": "stream",
     "text": [
      "9, 7, 5, 1, 4, 2, "
     ]
    }
   ],
   "source": [
    "x = [9, 7, 5, 1, 4, 2]\n",
    "N = len(x)\n",
    "i = 0\n",
    "\n",
    "while i < N:\n",
    "    print(x[i], end=', ')\n",
    "    i += 1"
   ]
  },
  {
   "cell_type": "markdown",
   "id": "f6e44fd4",
   "metadata": {},
   "source": [
    "## for loop"
   ]
  },
  {
   "cell_type": "code",
   "execution_count": 2,
   "id": "2bd9dc03",
   "metadata": {},
   "outputs": [
    {
     "name": "stdout",
     "output_type": "stream",
     "text": [
      "9, 7, 5, 1, 4, 2, "
     ]
    }
   ],
   "source": [
    "x = [9, 7, 5, 1, 4, 2]\n",
    "N = len(x)\n",
    "\n",
    "for i in range(N):\n",
    "    print(x[i], end=', ')"
   ]
  },
  {
   "cell_type": "code",
   "execution_count": 3,
   "id": "37471c1c",
   "metadata": {},
   "outputs": [
    {
     "name": "stdout",
     "output_type": "stream",
     "text": [
      "9, 7, 5, 1, 4, 2, "
     ]
    }
   ],
   "source": [
    "x = [9, 7, 5, 1, 4, 2]\n",
    "\n",
    "for i in x:\n",
    "    print(i, end=', ')"
   ]
  },
  {
   "cell_type": "markdown",
   "id": "dc5fe00a",
   "metadata": {},
   "source": [
    "## note\n",
    "It is advisable to use the last way since it uses the iterable from the `list` directly."
   ]
  }
 ],
 "metadata": {
  "authors": [
   {
    "name": "Sparisoma Viridi"
   }
  ],
  "kernelspec": {
   "display_name": "Python 3 (ipykernel)",
   "language": "python",
   "name": "python3"
  },
  "language_info": {
   "codemirror_mode": {
    "name": "ipython",
    "version": 3
   },
   "file_extension": ".py",
   "mimetype": "text/x-python",
   "name": "python",
   "nbconvert_exporter": "python",
   "pygments_lexer": "ipython3",
   "version": "3.10.4"
  },
  "title": "list_loop"
 },
 "nbformat": 4,
 "nbformat_minor": 5
}
