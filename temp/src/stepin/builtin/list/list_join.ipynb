{
 "cells": [
  {
   "cell_type": "markdown",
   "id": "d4e69cf6",
   "metadata": {},
   "source": [
    "# list_join\n",
    "A `list` can be joined with other `list` in several ways."
   ]
  },
  {
   "cell_type": "markdown",
   "id": "7e9cf9ef",
   "metadata": {},
   "source": [
    "## operator +"
   ]
  },
  {
   "cell_type": "code",
   "execution_count": 1,
   "id": "b0d4be3b",
   "metadata": {},
   "outputs": [
    {
     "name": "stdout",
     "output_type": "stream",
     "text": [
      "l1 = [1, 2, 3, 4]\n",
      "\n",
      "l2 = [9, 8, 7, 6]\n",
      "\n",
      "l3 = l2 + l1 = [9, 8, 7, 6, 1, 2, 3, 4]\n",
      "\n"
     ]
    }
   ],
   "source": [
    "l1 = [1, 2, 3, 4]\n",
    "print(\"l1 =\", l1)\n",
    "print()\n",
    "\n",
    "l2 = [9, 8, 7, 6]\n",
    "print(\"l2 =\", l2)\n",
    "print()\n",
    "\n",
    "# result is stored in new list\n",
    "l3 = l2 + l1\n",
    "print(\"l3 = l2 + l1 =\", l3)\n",
    "print()"
   ]
  },
  {
   "cell_type": "markdown",
   "id": "1ece7db3",
   "metadata": {},
   "source": [
    "## for loop"
   ]
  },
  {
   "cell_type": "code",
   "execution_count": 2,
   "id": "8c07860e",
   "metadata": {},
   "outputs": [
    {
     "name": "stdout",
     "output_type": "stream",
     "text": [
      "l1 = [1, 2, 3, 4]\n",
      "\n",
      "l2 = [9, 8, 7, 6]\n",
      "\n",
      "l2 =  [9, 8, 7, 6, 1, 2, 3, 4]\n",
      "\n"
     ]
    }
   ],
   "source": [
    "l1 = [1, 2, 3, 4]\n",
    "print(\"l1 =\", l1)\n",
    "print()\n",
    "\n",
    "l2 = [9, 8, 7, 6]\n",
    "print(\"l2 =\", l2)\n",
    "print()\n",
    "\n",
    "# result is stored in list with append() method\n",
    "for i in l1:\n",
    "    l2.append(i)\n",
    "\n",
    "print(\"l2 = \", l2)\n",
    "print()"
   ]
  },
  {
   "cell_type": "markdown",
   "id": "bd1edcd7",
   "metadata": {},
   "source": [
    "## extend() method"
   ]
  },
  {
   "cell_type": "code",
   "execution_count": 3,
   "id": "3de792a9",
   "metadata": {},
   "outputs": [
    {
     "name": "stdout",
     "output_type": "stream",
     "text": [
      "l1 = [1, 2, 3, 4]\n",
      "\n",
      "l2 = [9, 8, 7, 6]\n",
      "\n",
      "l2 = [9, 8, 7, 6, 1, 2, 3, 4]\n",
      "\n"
     ]
    }
   ],
   "source": [
    "l1 = [1, 2, 3, 4]\n",
    "print(\"l1 =\", l1)\n",
    "print()\n",
    "\n",
    "l2 = [9, 8, 7, 6]\n",
    "print(\"l2 =\", l2)\n",
    "print()\n",
    "\n",
    "# result is stored in list with extend() method\n",
    "l2.extend(l1)\n",
    "\n",
    "print(\"l2 =\", l2)\n",
    "print()"
   ]
  }
 ],
 "metadata": {
  "authors": [
   {
    "name": "Sparisoma Viridi"
   }
  ],
  "kernelspec": {
   "display_name": "Python 3 (ipykernel)",
   "language": "python",
   "name": "python3"
  },
  "language_info": {
   "codemirror_mode": {
    "name": "ipython",
    "version": 3
   },
   "file_extension": ".py",
   "mimetype": "text/x-python",
   "name": "python",
   "nbconvert_exporter": "python",
   "pygments_lexer": "ipython3",
   "version": "3.10.4"
  },
  "title": "list_join"
 },
 "nbformat": 4,
 "nbformat_minor": 5
}
