{
 "cells": [
  {
   "cell_type": "markdown",
   "id": "d4e69cf6",
   "metadata": {},
   "source": [
    "# list_create\n",
    "One of the built-in data types in Python is `list`. As a data structure it is mutable, ordered sequence of elements, and used to store multiple items in a single variable. Since it is indexed it can have duplicate values."
   ]
  },
  {
   "cell_type": "code",
   "execution_count": 1,
   "id": "c3092e7a",
   "metadata": {},
   "outputs": [
    {
     "name": "stdout",
     "output_type": "stream",
     "text": [
      "[1, 5, 8, 3]\n",
      "[True, True, False, True]\n",
      "['red', 'blue', 'green', 'black']\n",
      "[1, True, 'blue', 'I am']\n"
     ]
    }
   ],
   "source": [
    "# create list\n",
    "a = [1, 5, 8, 3]\n",
    "print(a)\n",
    "\n",
    "b = [True, True, False, True]\n",
    "print(b)\n",
    "\n",
    "c = ['red', 'blue', 'green', 'black']\n",
    "print(c)\n",
    "\n",
    "d = [1, True, 'blue', \"I am\"]\n",
    "print(d)"
   ]
  },
  {
   "cell_type": "code",
   "execution_count": 2,
   "id": "43f513d1",
   "metadata": {},
   "outputs": [
    {
     "name": "stdout",
     "output_type": "stream",
     "text": [
      "[2, 0, 1, 9]\n",
      "[2, 0, 1, 9]\n",
      "[2, 0, 1, 9]\n"
     ]
    }
   ],
   "source": [
    "# create a list from values\n",
    "a = [2, 0, 1, 9]\n",
    "print(a)\n",
    "\n",
    "# create a list from another list\n",
    "b = list((a))\n",
    "print(b)\n",
    "\n",
    "# create a list using list() constructor\n",
    "c = list((2, 0, 1, 9))\n",
    "print(c)"
   ]
  }
 ],
 "metadata": {
  "authors": [
   {
    "name": "Sparisoma Viridi"
   }
  ],
  "kernelspec": {
   "display_name": "Python 3 (ipykernel)",
   "language": "python",
   "name": "python3"
  },
  "language_info": {
   "codemirror_mode": {
    "name": "ipython",
    "version": 3
   },
   "file_extension": ".py",
   "mimetype": "text/x-python",
   "name": "python",
   "nbconvert_exporter": "python",
   "pygments_lexer": "ipython3",
   "version": "3.10.4"
  },
  "title": "list_create"
 },
 "nbformat": 4,
 "nbformat_minor": 5
}
