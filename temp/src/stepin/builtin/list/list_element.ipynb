{
 "cells": [
  {
   "cell_type": "markdown",
   "id": "d4e69cf6",
   "metadata": {},
   "source": [
    "# list_element\n",
    "Information of element(s) of a `list` can be obtained in several ways."
   ]
  },
  {
   "cell_type": "markdown",
   "id": "0199f103",
   "metadata": {},
   "source": [
    "## count() and index() methods"
   ]
  },
  {
   "cell_type": "code",
   "execution_count": 1,
   "id": "b2ab2733",
   "metadata": {},
   "outputs": [
    {
     "name": "stdout",
     "output_type": "stream",
     "text": [
      "data = ['x', 'y', 'z', 'x', 'y', 'y']\n",
      "number of occurrences of y is 3\n",
      "first index of y is 1\n"
     ]
    }
   ],
   "source": [
    "data = ['x', 'y', 'z', 'x', 'y', 'y']\n",
    "print(\"data =\", data)\n",
    "\n",
    "char = 'y'\n",
    "cnt = data.count('y')\n",
    "idx = data.index('y')\n",
    "print(\"number of occurrences of\", char, \"is\", cnt)\n",
    "print(\"first index of\", char, \"is\", idx)"
   ]
  },
  {
   "cell_type": "markdown",
   "id": "51052524",
   "metadata": {},
   "source": [
    "## for loop"
   ]
  },
  {
   "cell_type": "code",
   "execution_count": 2,
   "id": "e340c5db",
   "metadata": {},
   "outputs": [
    {
     "name": "stdout",
     "output_type": "stream",
     "text": [
      "data = ['x', 'y', 'z', 'x', 'y', 'y']\n",
      "position of y is at [1, 4, 5]\n"
     ]
    }
   ],
   "source": [
    "data = ['x', 'y', 'z', 'x', 'y', 'y']\n",
    "print(\"data =\", data)\n",
    "\n",
    "char = 'y'\n",
    "pos = []\n",
    "for i in range(len(data)):\n",
    "    if data[i] == char:\n",
    "        pos.append(i)\n",
    "\n",
    "print(\"position of\", char, \"is at\", pos)"
   ]
  }
 ],
 "metadata": {
  "authors": [
   {
    "name": "Sparisoma Viridi"
   }
  ],
  "kernelspec": {
   "display_name": "Python 3 (ipykernel)",
   "language": "python",
   "name": "python3"
  },
  "language_info": {
   "codemirror_mode": {
    "name": "ipython",
    "version": 3
   },
   "file_extension": ".py",
   "mimetype": "text/x-python",
   "name": "python",
   "nbconvert_exporter": "python",
   "pygments_lexer": "ipython3",
   "version": "3.10.4"
  },
  "title": "list_element"
 },
 "nbformat": 4,
 "nbformat_minor": 5
}
