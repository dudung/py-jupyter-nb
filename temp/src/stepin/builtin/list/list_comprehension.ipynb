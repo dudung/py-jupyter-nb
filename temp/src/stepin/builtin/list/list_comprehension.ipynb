{
 "cells": [
  {
   "cell_type": "markdown",
   "id": "d4e69cf6",
   "metadata": {},
   "source": [
    "# list_comprehension\n",
    "Creating a `list` based on existing `list` can be performed in short way using a syntactic construct."
   ]
  },
  {
   "cell_type": "markdown",
   "id": "967bd015",
   "metadata": {},
   "source": [
    "## notation\n",
    "\n",
    "A new `list` *newlist* can be created using\n",
    "\n",
    "<p style=\"font-family:Monospace\">\n",
    "newlist = [<i>expression</i> <b><a>for</a></b> <i>item</i> <b><a>in</a></b> <i>iterable</i> <b><a>if</a></b> <i>condition</i> == <b><a>True</a></b>]\n",
    "</p>\n",
    "\n",
    "which is based on *iterabe* as the existing `list`."
   ]
  },
  {
   "cell_type": "markdown",
   "id": "69f95748",
   "metadata": {},
   "source": [
    "## all elements"
   ]
  },
  {
   "cell_type": "code",
   "execution_count": 1,
   "id": "b77050d4",
   "metadata": {},
   "outputs": [
    {
     "name": "stdout",
     "output_type": "stream",
     "text": [
      "x = [1, 2, 3, 4, 5, 6, 7, 8]\n",
      "y = [1, 2, 3, 4, 5, 6, 7, 8]\n"
     ]
    }
   ],
   "source": [
    "x = [1, 2, 3, 4, 5, 6, 7, 8]\n",
    "print(\"x =\", x)\n",
    "\n",
    "y = [i for i in x]\n",
    "print(\"y =\", y)"
   ]
  },
  {
   "cell_type": "markdown",
   "id": "2ab04a1c",
   "metadata": {},
   "source": [
    "## only elements with even index"
   ]
  },
  {
   "cell_type": "code",
   "execution_count": 2,
   "id": "c9c64780",
   "metadata": {},
   "outputs": [
    {
     "name": "stdout",
     "output_type": "stream",
     "text": [
      "x = [1, 2, 3, 4, 5, 6, 7, 8]\n",
      "y = [1, 3, 5, 7]\n"
     ]
    }
   ],
   "source": [
    "x = [1, 2, 3, 4, 5, 6, 7, 8]\n",
    "print(\"x =\", x)\n",
    "\n",
    "y = [i for i in x if x.index(i) % 2 == 0]\n",
    "print(\"y =\", y)"
   ]
  },
  {
   "cell_type": "markdown",
   "id": "df29ac6b",
   "metadata": {},
   "source": [
    "## only elements with odd index"
   ]
  },
  {
   "cell_type": "code",
   "execution_count": 3,
   "id": "c93d3267",
   "metadata": {
    "scrolled": false
   },
   "outputs": [
    {
     "name": "stdout",
     "output_type": "stream",
     "text": [
      "x = [1, 2, 3, 4, 5, 6, 7, 8]\n",
      "y = [2, 4, 6, 8]\n"
     ]
    }
   ],
   "source": [
    "x = [1, 2, 3, 4, 5, 6, 7, 8]\n",
    "print(\"x =\", x)\n",
    "\n",
    "y = [i for i in x if x.index(i) % 2 == 1]\n",
    "print(\"y =\", y)"
   ]
  },
  {
   "cell_type": "markdown",
   "id": "46041d2a",
   "metadata": {},
   "source": [
    "## only elements with certain condition"
   ]
  },
  {
   "cell_type": "code",
   "execution_count": 4,
   "id": "0cf9d678",
   "metadata": {},
   "outputs": [
    {
     "name": "stdout",
     "output_type": "stream",
     "text": [
      "x = [1, 2, 3, 4, 5, 6, 7, 8]\n",
      "y = [2, 5, 8]\n"
     ]
    }
   ],
   "source": [
    "x = [1, 2, 3, 4, 5, 6, 7, 8]\n",
    "print(\"x =\", x)\n",
    "\n",
    "y = [i for i in x if i % 3 == 2]\n",
    "print(\"y =\", y)"
   ]
  },
  {
   "cell_type": "markdown",
   "id": "3d0c7fb0",
   "metadata": {},
   "source": [
    "## operated elements with certain rule"
   ]
  },
  {
   "cell_type": "code",
   "execution_count": 5,
   "id": "dfea5c87",
   "metadata": {},
   "outputs": [
    {
     "name": "stdout",
     "output_type": "stream",
     "text": [
      "x = [1, 2, 3, 4, 5, 6, 7, 8]\n",
      "x**2 = [1, 4, 9, 16, 25, 36, 49, 64]\n"
     ]
    }
   ],
   "source": [
    "x = [1, 2, 3, 4, 5, 6, 7, 8]\n",
    "print(\"x =\", x)\n",
    "\n",
    "x2 = [i**2 for i in x]\n",
    "print(\"x**2 =\", x2)"
   ]
  },
  {
   "cell_type": "markdown",
   "id": "3953b3aa",
   "metadata": {},
   "source": [
    "## operated elements with certain rule and certain condition"
   ]
  },
  {
   "cell_type": "code",
   "execution_count": 6,
   "id": "6c0f122b",
   "metadata": {},
   "outputs": [
    {
     "name": "stdout",
     "output_type": "stream",
     "text": [
      "x = [1, 2, 3, 4, 5, 6, 7, 8]\n",
      "y = [1, 25]\n"
     ]
    }
   ],
   "source": [
    "x = [1, 2, 3, 4, 5, 6, 7, 8]\n",
    "print(\"x =\", x)\n",
    "\n",
    "y = [i**2 for i in x if i % 4 == 1]\n",
    "print(\"y =\", y)"
   ]
  }
 ],
 "metadata": {
  "authors": [
   {
    "name": "Sparisoma Viridi"
   }
  ],
  "kernelspec": {
   "display_name": "Python 3 (ipykernel)",
   "language": "python",
   "name": "python3"
  },
  "language_info": {
   "codemirror_mode": {
    "name": "ipython",
    "version": 3
   },
   "file_extension": ".py",
   "mimetype": "text/x-python",
   "name": "python",
   "nbconvert_exporter": "python",
   "pygments_lexer": "ipython3",
   "version": "3.10.4"
  },
  "title": "list_comprehension"
 },
 "nbformat": 4,
 "nbformat_minor": 5
}
