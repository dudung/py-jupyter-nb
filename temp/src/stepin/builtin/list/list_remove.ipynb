{
 "cells": [
  {
   "cell_type": "markdown",
   "id": "d4e69cf6",
   "metadata": {},
   "source": [
    "# list_remove\n",
    "Element(s) of a `list` can be removed in several ways."
   ]
  },
  {
   "cell_type": "markdown",
   "id": "0199f103",
   "metadata": {},
   "source": [
    "## at the end"
   ]
  },
  {
   "cell_type": "code",
   "execution_count": 1,
   "id": "b2ab2733",
   "metadata": {},
   "outputs": [
    {
     "name": "stdout",
     "output_type": "stream",
     "text": [
      "['x', 'y', 'z', 'a', 'b']\n",
      "c\n"
     ]
    }
   ],
   "source": [
    "data = ['x', 'y', 'z', 'a', 'b', 'c']\n",
    "\n",
    "# remove 'c' at the end\n",
    "rm = data.pop()\n",
    "print(data)\n",
    "print(rm)"
   ]
  },
  {
   "cell_type": "markdown",
   "id": "39d7803a",
   "metadata": {},
   "source": [
    "## at certain position"
   ]
  },
  {
   "cell_type": "code",
   "execution_count": 2,
   "id": "931dff08",
   "metadata": {
    "scrolled": true
   },
   "outputs": [
    {
     "name": "stdout",
     "output_type": "stream",
     "text": [
      "['x', 'y', 'z', 'b', 'c']\n",
      "a\n"
     ]
    }
   ],
   "source": [
    "data = ['x', 'y', 'z', 'a', 'b', 'c']\n",
    "\n",
    "# remove 'a' at 4th position\n",
    "rm = data.pop(3)\n",
    "print(data)\n",
    "print(rm)"
   ]
  },
  {
   "cell_type": "code",
   "execution_count": 3,
   "id": "ac4e7bfb",
   "metadata": {},
   "outputs": [
    {
     "name": "stdout",
     "output_type": "stream",
     "text": [
      "['x', 'y', 'z', 'a', 'b']\n",
      "c\n"
     ]
    }
   ],
   "source": [
    "data = ['x', 'y', 'z', 'a', 'b', 'c']\n",
    "\n",
    "# remove 'c' at the end\n",
    "rm = data.pop(-1)\n",
    "print(data)\n",
    "print(rm)"
   ]
  },
  {
   "cell_type": "code",
   "execution_count": 4,
   "id": "8cc58a33",
   "metadata": {},
   "outputs": [
    {
     "name": "stdout",
     "output_type": "stream",
     "text": [
      "['x', 'y', 'z', 'b', 'c']\n"
     ]
    }
   ],
   "source": [
    "data = ['x', 'y', 'z', 'a', 'b', 'c']\n",
    "\n",
    "# remove 'a' at 4rd position\n",
    "del data[3]\n",
    "print(data)"
   ]
  },
  {
   "cell_type": "code",
   "execution_count": 5,
   "id": "cdf6300f",
   "metadata": {},
   "outputs": [
    {
     "name": "stdout",
     "output_type": "stream",
     "text": [
      "['x', 'y', 'z', 'a', 'b']\n"
     ]
    }
   ],
   "source": [
    "data = ['x', 'y', 'z', 'a', 'b', 'c']\n",
    "\n",
    "# remove 'c' at the end\n",
    "del data[-1]\n",
    "print(data)"
   ]
  },
  {
   "cell_type": "markdown",
   "id": "07e8c887",
   "metadata": {},
   "source": [
    "## with certain value"
   ]
  },
  {
   "cell_type": "code",
   "execution_count": 6,
   "id": "676e0f1b",
   "metadata": {},
   "outputs": [
    {
     "name": "stdout",
     "output_type": "stream",
     "text": [
      "['x', 'y', 'a', 'b', 'c']\n"
     ]
    }
   ],
   "source": [
    "data = ['x', 'y', 'z', 'a', 'b', 'c']\n",
    "\n",
    "# remove 'z'\n",
    "data.remove('z')\n",
    "print(data)"
   ]
  },
  {
   "cell_type": "markdown",
   "id": "1d36de62",
   "metadata": {},
   "source": [
    "## the list"
   ]
  },
  {
   "cell_type": "code",
   "execution_count": 7,
   "id": "c3ab182e",
   "metadata": {},
   "outputs": [
    {
     "name": "stdout",
     "output_type": "stream",
     "text": [
      "[]\n"
     ]
    }
   ],
   "source": [
    "data = ['x', 'y', 'z', 'a', 'b', 'c']\n",
    "\n",
    "# remove only content of the list\n",
    "data.clear()\n",
    "print(data)"
   ]
  },
  {
   "cell_type": "code",
   "execution_count": 8,
   "id": "9b1a0698",
   "metadata": {},
   "outputs": [
    {
     "ename": "NameError",
     "evalue": "name 'data' is not defined",
     "output_type": "error",
     "traceback": [
      "\u001b[1;31m---------------------------------------------------------------------------\u001b[0m",
      "\u001b[1;31mNameError\u001b[0m                                 Traceback (most recent call last)",
      "Input \u001b[1;32mIn [8]\u001b[0m, in \u001b[0;36m<cell line: 5>\u001b[1;34m()\u001b[0m\n\u001b[0;32m      3\u001b[0m \u001b[38;5;66;03m# remove the list\u001b[39;00m\n\u001b[0;32m      4\u001b[0m \u001b[38;5;28;01mdel\u001b[39;00m data\n\u001b[1;32m----> 5\u001b[0m \u001b[38;5;28mprint\u001b[39m(\u001b[43mdata\u001b[49m)\n",
      "\u001b[1;31mNameError\u001b[0m: name 'data' is not defined"
     ]
    }
   ],
   "source": [
    "data = ['x', 'y', 'z', 'a', 'b', 'c']\n",
    "\n",
    "# remove the list\n",
    "del data\n",
    "print(data)"
   ]
  }
 ],
 "metadata": {
  "authors": [
   {
    "name": "Sparisoma Viridi"
   }
  ],
  "kernelspec": {
   "display_name": "Python 3 (ipykernel)",
   "language": "python",
   "name": "python3"
  },
  "language_info": {
   "codemirror_mode": {
    "name": "ipython",
    "version": 3
   },
   "file_extension": ".py",
   "mimetype": "text/x-python",
   "name": "python",
   "nbconvert_exporter": "python",
   "pygments_lexer": "ipython3",
   "version": "3.10.4"
  },
  "title": "list_remove"
 },
 "nbformat": 4,
 "nbformat_minor": 5
}
