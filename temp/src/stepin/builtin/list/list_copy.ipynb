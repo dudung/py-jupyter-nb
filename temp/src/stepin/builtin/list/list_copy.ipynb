{
 "cells": [
  {
   "cell_type": "markdown",
   "id": "d4e69cf6",
   "metadata": {},
   "source": [
    "# list_copy\n",
    "A `list` can copied in several ways."
   ]
  },
  {
   "cell_type": "markdown",
   "id": "7e9cf9ef",
   "metadata": {},
   "source": [
    "## wrong way of copying"
   ]
  },
  {
   "cell_type": "code",
   "execution_count": 1,
   "id": "a9412d5a",
   "metadata": {},
   "outputs": [
    {
     "name": "stdout",
     "output_type": "stream",
     "text": [
      "[2, 0, 2, 1, 0, 5, 0, 1]\n",
      "[2, 0, 2, 1, 0, 5, 0, 1]\n",
      "[2, 0, 8, 8, 0, 5, 0, 1]\n",
      "[2, 0, 8, 8, 0, 5, 0, 1]\n",
      "[2, 8, 8, 0, 5, 0, 1]\n",
      "[2, 8, 8, 0, 5, 0, 1]\n"
     ]
    }
   ],
   "source": [
    "a = [2, 0, 2, 1, 0, 5, 0, 1]\n",
    "\n",
    "# reference a list not copy a list\n",
    "b = a\n",
    "\n",
    "# print values of a and b\n",
    "print(a)\n",
    "print(b)\n",
    "\n",
    "# modify b and display a and b\n",
    "b[2:4] = [8, 8]\n",
    "print(a)\n",
    "print(b)\n",
    "\n",
    "# remove an elemen of a and display a and b\n",
    "a.pop(1)\n",
    "print(a)\n",
    "print(b)"
   ]
  },
  {
   "cell_type": "markdown",
   "id": "3189928c",
   "metadata": {},
   "source": [
    "## copy() method"
   ]
  },
  {
   "cell_type": "code",
   "execution_count": 2,
   "id": "e9ee23d8",
   "metadata": {},
   "outputs": [
    {
     "name": "stdout",
     "output_type": "stream",
     "text": [
      "[2, 0, 2, 1, 0, 5, 0, 1]\n",
      "[2, 0, 2, 1, 0, 5, 0, 1]\n",
      "[2, 0, 2, 1, 0, 5, 0, 1]\n",
      "[2, 0, 8, 8, 0, 5, 0, 1]\n",
      "[2, 2, 1, 0, 5, 0, 1]\n",
      "[2, 0, 8, 8, 0, 5, 0, 1]\n"
     ]
    }
   ],
   "source": [
    "a = [2, 0, 2, 1, 0, 5, 0, 1]\n",
    "\n",
    "# copy a list\n",
    "b = a.copy()\n",
    "\n",
    "# print values of a and b\n",
    "print(a)\n",
    "print(b)\n",
    "\n",
    "# modify b and display a and b\n",
    "b[2:4] = [8, 8]\n",
    "print(a)\n",
    "print(b)\n",
    "\n",
    "# remove an elemen of a and display a and b\n",
    "a.pop(1)\n",
    "print(a)\n",
    "print(b)"
   ]
  },
  {
   "cell_type": "markdown",
   "id": "987e6e37",
   "metadata": {},
   "source": [
    "## list() function"
   ]
  },
  {
   "cell_type": "code",
   "execution_count": 3,
   "id": "58bca24e",
   "metadata": {},
   "outputs": [
    {
     "name": "stdout",
     "output_type": "stream",
     "text": [
      "[2, 0, 2, 1, 0, 5, 0, 1]\n",
      "[2, 0, 2, 1, 0, 5, 0, 1]\n",
      "[2, 0, 2, 1, 0, 5, 0, 1]\n",
      "[2, 0, 8, 8, 0, 5, 0, 1]\n",
      "[2, 2, 1, 0, 5, 0, 1]\n",
      "[2, 0, 8, 8, 0, 5, 0, 1]\n"
     ]
    }
   ],
   "source": [
    "a = [2, 0, 2, 1, 0, 5, 0, 1]\n",
    "\n",
    "# copy a list\n",
    "b = list(a)\n",
    "\n",
    "# print values of a and b\n",
    "print(a)\n",
    "print(b)\n",
    "\n",
    "# modify b and display a and b\n",
    "b[2:4] = [8, 8]\n",
    "print(a)\n",
    "print(b)\n",
    "\n",
    "# remove an elemen of a and display a and b\n",
    "a.pop(1)\n",
    "print(a)\n",
    "print(b)"
   ]
  }
 ],
 "metadata": {
  "authors": [
   {
    "name": "Sparisoma Viridi"
   }
  ],
  "kernelspec": {
   "display_name": "Python 3 (ipykernel)",
   "language": "python",
   "name": "python3"
  },
  "language_info": {
   "codemirror_mode": {
    "name": "ipython",
    "version": 3
   },
   "file_extension": ".py",
   "mimetype": "text/x-python",
   "name": "python",
   "nbconvert_exporter": "python",
   "pygments_lexer": "ipython3",
   "version": "3.10.4"
  },
  "title": "list_copy"
 },
 "nbformat": 4,
 "nbformat_minor": 5
}
