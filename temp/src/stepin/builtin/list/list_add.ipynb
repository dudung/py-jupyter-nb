{
 "cells": [
  {
   "cell_type": "markdown",
   "id": "d4e69cf6",
   "metadata": {},
   "source": [
    "# list_add\n",
    "Element(s) of a `list` can be added in several ways."
   ]
  },
  {
   "cell_type": "markdown",
   "id": "0199f103",
   "metadata": {},
   "source": [
    "## at the end"
   ]
  },
  {
   "cell_type": "code",
   "execution_count": 1,
   "id": "b2ab2733",
   "metadata": {},
   "outputs": [
    {
     "name": "stdout",
     "output_type": "stream",
     "text": [
      "['x', 'y', 'z', 'a', 'b', 'c', 'n']\n"
     ]
    }
   ],
   "source": [
    "data = ['x', 'y', 'z', 'a', 'b', 'c']\n",
    "\n",
    "# add 'n' at the end\n",
    "data.append('n')\n",
    "print(data)"
   ]
  },
  {
   "cell_type": "markdown",
   "id": "25dfcec2",
   "metadata": {},
   "source": [
    "## at the beginning"
   ]
  },
  {
   "cell_type": "code",
   "execution_count": 2,
   "id": "cebf63b9",
   "metadata": {},
   "outputs": [
    {
     "name": "stdout",
     "output_type": "stream",
     "text": [
      "['n', 'x', 'y', 'z', 'a', 'b', 'c']\n"
     ]
    }
   ],
   "source": [
    "data = ['x', 'y', 'z', 'a', 'b', 'c']\n",
    "\n",
    "# add 'n' at the beginning\n",
    "data.insert(0, 'n')\n",
    "print(data)"
   ]
  },
  {
   "cell_type": "code",
   "execution_count": 3,
   "id": "47116222",
   "metadata": {},
   "outputs": [
    {
     "name": "stdout",
     "output_type": "stream",
     "text": [
      "['n', 'x', 'y', 'z', 'a', 'b', 'c']\n"
     ]
    }
   ],
   "source": [
    "data = ['x', 'y', 'z', 'a', 'b', 'c']\n",
    "\n",
    "# add 'n' at the beginning\n",
    "data.reverse()\n",
    "data.append('n')\n",
    "data.reverse()\n",
    "print(data)"
   ]
  },
  {
   "cell_type": "markdown",
   "id": "39d7803a",
   "metadata": {},
   "source": [
    "## at certain position"
   ]
  },
  {
   "cell_type": "code",
   "execution_count": 4,
   "id": "931dff08",
   "metadata": {},
   "outputs": [
    {
     "name": "stdout",
     "output_type": "stream",
     "text": [
      "['x', 'y', 'n', 'z', 'a', 'b', 'c']\n"
     ]
    }
   ],
   "source": [
    "data = ['x', 'y', 'z', 'a', 'b', 'c']\n",
    "\n",
    "# add 'n' at 3rd position\n",
    "data.insert(2, 'n')\n",
    "print(data)"
   ]
  },
  {
   "cell_type": "markdown",
   "id": "07e8c887",
   "metadata": {},
   "source": [
    "## at the end for some elements"
   ]
  },
  {
   "cell_type": "code",
   "execution_count": 5,
   "id": "676e0f1b",
   "metadata": {},
   "outputs": [
    {
     "name": "stdout",
     "output_type": "stream",
     "text": [
      "['x', 'y', 'z', 'a', 'b', 'c', 'v', 'w']\n"
     ]
    }
   ],
   "source": [
    "data = ['x', 'y', 'z', 'a', 'b', 'c']\n",
    "d = ['v', 'w']\n",
    "\n",
    "# add 'v', 'w' at the end\n",
    "data.extend(d)\n",
    "print(data)"
   ]
  },
  {
   "cell_type": "markdown",
   "id": "b6e6a303",
   "metadata": {},
   "source": [
    "## at the end for other type of iterable"
   ]
  },
  {
   "cell_type": "code",
   "execution_count": 6,
   "id": "fce3371f",
   "metadata": {},
   "outputs": [
    {
     "name": "stdout",
     "output_type": "stream",
     "text": [
      "['x', 'y', 'z', 'a', 'b', 'c', 1, {'id': 2021}, 'Hello, World!']\n"
     ]
    }
   ],
   "source": [
    "data = ['x', 'y', 'z', 'a', 'b', 'c']\n",
    "d = [1, {'id': 2021}, \"Hello, World!\"]\n",
    "\n",
    "# add 'v', 'w' at the end\n",
    "data.extend(d)\n",
    "print(data)"
   ]
  }
 ],
 "metadata": {
  "authors": [
   {
    "name": "Sparisoma Viridi"
   }
  ],
  "kernelspec": {
   "display_name": "Python 3 (ipykernel)",
   "language": "python",
   "name": "python3"
  },
  "language_info": {
   "codemirror_mode": {
    "name": "ipython",
    "version": 3
   },
   "file_extension": ".py",
   "mimetype": "text/x-python",
   "name": "python",
   "nbconvert_exporter": "python",
   "pygments_lexer": "ipython3",
   "version": "3.10.4"
  },
  "title": "list_add"
 },
 "nbformat": 4,
 "nbformat_minor": 5
}
