{
 "cells": [
  {
   "cell_type": "markdown",
   "id": "d4e69cf6",
   "metadata": {},
   "source": [
    "# list_change\n",
    "Value of a `list` can be changed in several ways."
   ]
  },
  {
   "cell_type": "markdown",
   "id": "0199f103",
   "metadata": {},
   "source": [
    "## index"
   ]
  },
  {
   "cell_type": "code",
   "execution_count": 1,
   "id": "b2ab2733",
   "metadata": {},
   "outputs": [],
   "source": [
    "data = ['x', 'y', 'z', 'a', 'b', 'c']"
   ]
  },
  {
   "cell_type": "code",
   "execution_count": 2,
   "id": "76e6368a",
   "metadata": {},
   "outputs": [
    {
     "name": "stdout",
     "output_type": "stream",
     "text": [
      "['x', 'y', 'r', 'a', 'b', 'c']\n"
     ]
    }
   ],
   "source": [
    "# change 'z' to 'r'\n",
    "data[2] = 'r';\n",
    "print(data)"
   ]
  },
  {
   "cell_type": "code",
   "execution_count": 3,
   "id": "b2b973b0",
   "metadata": {},
   "outputs": [
    {
     "name": "stdout",
     "output_type": "stream",
     "text": [
      "['x', 'y', 'r', 'w', 'b', 'c']\n"
     ]
    }
   ],
   "source": [
    "# change 'a' to 'w'\n",
    "data[-3] = 'w';\n",
    "print(data)"
   ]
  },
  {
   "cell_type": "markdown",
   "id": "386c7ffe",
   "metadata": {},
   "source": [
    "## slice operator"
   ]
  },
  {
   "cell_type": "code",
   "execution_count": 4,
   "id": "4cedc3ab",
   "metadata": {},
   "outputs": [],
   "source": [
    "data = ['x', 'y', 'z', 'a', 'b', 'c']"
   ]
  },
  {
   "cell_type": "code",
   "execution_count": 5,
   "id": "cec6d4e0",
   "metadata": {},
   "outputs": [
    {
     "name": "stdout",
     "output_type": "stream",
     "text": [
      "['x', 'y', 'm', 'a', 'b', 'c']\n"
     ]
    }
   ],
   "source": [
    "# change 'z' to 'm'\n",
    "data[2] = 'm'\n",
    "print(data)"
   ]
  },
  {
   "cell_type": "code",
   "execution_count": 6,
   "id": "76ff93de",
   "metadata": {},
   "outputs": [
    {
     "name": "stdout",
     "output_type": "stream",
     "text": [
      "['x', 'y', 'm', 'a', 'b', 't']\n"
     ]
    }
   ],
   "source": [
    "# change 'c' to 't'\n",
    "data[-1] = 't'\n",
    "print(data)"
   ]
  },
  {
   "cell_type": "code",
   "execution_count": 7,
   "id": "9aa7eb5a",
   "metadata": {},
   "outputs": [
    {
     "name": "stdout",
     "output_type": "stream",
     "text": [
      "['x', 'y', 'm', 'b', 'a', 't']\n"
     ]
    }
   ],
   "source": [
    "# change 'a', 'b' to 'b', 'a'\n",
    "data[3:5] = ['b', 'a']\n",
    "print(data)"
   ]
  },
  {
   "cell_type": "code",
   "execution_count": 8,
   "id": "92fca2d4",
   "metadata": {},
   "outputs": [
    {
     "name": "stdout",
     "output_type": "stream",
     "text": [
      "['n', 'm', 'b', 'a', 't']\n"
     ]
    }
   ],
   "source": [
    "# change 'x', 'y' to 'n' (remove 'y')\n",
    "data[0:2] = ['n']\n",
    "print(data)"
   ]
  },
  {
   "cell_type": "code",
   "execution_count": 9,
   "id": "65632704",
   "metadata": {},
   "outputs": [
    {
     "name": "stdout",
     "output_type": "stream",
     "text": [
      "['n', 'm', 'b', 'a', 'p', 'q']\n"
     ]
    }
   ],
   "source": [
    "# change 't' to 'p', 'q' (add 'q')\n",
    "data[-1:] = ['p', 'q']\n",
    "print(data)"
   ]
  }
 ],
 "metadata": {
  "authors": [
   {
    "name": "Sparisoma Viridi"
   }
  ],
  "kernelspec": {
   "display_name": "Python 3 (ipykernel)",
   "language": "python",
   "name": "python3"
  },
  "language_info": {
   "codemirror_mode": {
    "name": "ipython",
    "version": 3
   },
   "file_extension": ".py",
   "mimetype": "text/x-python",
   "name": "python",
   "nbconvert_exporter": "python",
   "pygments_lexer": "ipython3",
   "version": "3.10.4"
  },
  "title": "list_change"
 },
 "nbformat": 4,
 "nbformat_minor": 5
}
