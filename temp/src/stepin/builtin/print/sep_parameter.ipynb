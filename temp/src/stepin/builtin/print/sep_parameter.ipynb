{
 "cells": [
  {
   "cell_type": "markdown",
   "id": "b0cbc1cc",
   "metadata": {},
   "source": [
    "# sep_parameter"
   ]
  },
  {
   "cell_type": "code",
   "execution_count": 1,
   "id": "a99c550d",
   "metadata": {},
   "outputs": [
    {
     "name": "stdout",
     "output_type": "stream",
     "text": [
      "0 12 345 6789\n"
     ]
    }
   ],
   "source": [
    "a = 0\n",
    "b = 12\n",
    "c = 345\n",
    "d = 6789\n",
    "print(a, b, c, d)"
   ]
  },
  {
   "cell_type": "code",
   "execution_count": 2,
   "id": "6d3e218f",
   "metadata": {},
   "outputs": [
    {
     "name": "stdout",
     "output_type": "stream",
     "text": [
      "0-12-345-6789\n"
     ]
    }
   ],
   "source": [
    "a = 0\n",
    "b = 12\n",
    "c = 345\n",
    "d = 6789\n",
    "print(a, b, c, d, sep= '-')"
   ]
  },
  {
   "cell_type": "code",
   "execution_count": 3,
   "id": "e5c80f86",
   "metadata": {},
   "outputs": [
    {
     "name": "stdout",
     "output_type": "stream",
     "text": [
      "0, 12, 345, 6789\n"
     ]
    }
   ],
   "source": [
    "a = 0\n",
    "b = 12\n",
    "c = 345\n",
    "d = 6789\n",
    "print(a, b, c, d, sep=', ')"
   ]
  },
  {
   "cell_type": "code",
   "execution_count": 4,
   "id": "b4353438",
   "metadata": {},
   "outputs": [
    {
     "name": "stdout",
     "output_type": "stream",
     "text": [
      "0\n",
      "12\n",
      "345\n",
      "6789\n"
     ]
    }
   ],
   "source": [
    "a = 0\n",
    "b = 12\n",
    "c = 345\n",
    "d = 6789\n",
    "print(a, b, c, d, sep='\\n')"
   ]
  },
  {
   "cell_type": "code",
   "execution_count": 5,
   "id": "59f39da6",
   "metadata": {},
   "outputs": [
    {
     "name": "stdout",
     "output_type": "stream",
     "text": [
      "0\n",
      "-> 12\n",
      "-> 345\n",
      "-> 6789\n"
     ]
    }
   ],
   "source": [
    "a = 0\n",
    "b = 12\n",
    "c = 345\n",
    "d = 6789\n",
    "print(a, b, c, d, sep=\"\\n-> \")"
   ]
  },
  {
   "cell_type": "code",
   "execution_count": null,
   "id": "b9039fa2",
   "metadata": {},
   "outputs": [],
   "source": []
  }
 ],
 "metadata": {
  "authors": [
   {
    "name": "Sparisoma Viridi"
   }
  ],
  "kernelspec": {
   "display_name": "Python 3 (ipykernel)",
   "language": "python",
   "name": "python3"
  },
  "language_info": {
   "codemirror_mode": {
    "name": "ipython",
    "version": 3
   },
   "file_extension": ".py",
   "mimetype": "text/x-python",
   "name": "python",
   "nbconvert_exporter": "python",
   "pygments_lexer": "ipython3",
   "version": "3.10.9"
  },
  "title": "sep_parameter"
 },
 "nbformat": 4,
 "nbformat_minor": 5
}
