{
 "cells": [
  {
   "cell_type": "markdown",
   "id": "b0cbc1cc",
   "metadata": {},
   "source": [
    "# newline"
   ]
  },
  {
   "cell_type": "code",
   "execution_count": 1,
   "id": "dc498ddf",
   "metadata": {},
   "outputs": [
    {
     "name": "stdout",
     "output_type": "stream",
     "text": [
      "First line\n",
      "Second line\n",
      "Third line\n",
      "Fourth line\n"
     ]
    }
   ],
   "source": [
    "print(\"First line\")\n",
    "print(\"Second line\")\n",
    "print(\"Third line\")\n",
    "print(\"Fourth line\")"
   ]
  },
  {
   "cell_type": "code",
   "execution_count": 2,
   "id": "37ae3ea0",
   "metadata": {},
   "outputs": [
    {
     "name": "stdout",
     "output_type": "stream",
     "text": [
      "First line\n",
      "Second line\n",
      "Third line\n",
      "Fourth line\n"
     ]
    }
   ],
   "source": [
    "print(\"First line\\nSecond line\\nThird line\\nFourth line\")"
   ]
  },
  {
   "cell_type": "code",
   "execution_count": 3,
   "id": "46ee47c7",
   "metadata": {},
   "outputs": [
    {
     "name": "stdout",
     "output_type": "stream",
     "text": [
      "First line\n",
      "Second line\n",
      "Third line\n",
      "Fourth line\n"
     ]
    }
   ],
   "source": [
    "print(\"First\", end=' ')\n",
    "print(\"line\")\n",
    "print(\"Second\", end=' ')\n",
    "print(\"line\")\n",
    "print(\"Third\", end=' ')\n",
    "print(\"line\")\n",
    "print(\"Fourth\", end=' ')\n",
    "print(\"line\")"
   ]
  },
  {
   "cell_type": "code",
   "execution_count": null,
   "id": "a99c550d",
   "metadata": {},
   "outputs": [],
   "source": []
  }
 ],
 "metadata": {
  "authors": [
   {
    "name": "Sparisoma Viridi"
   }
  ],
  "kernelspec": {
   "display_name": "Python 3 (ipykernel)",
   "language": "python",
   "name": "python3"
  },
  "language_info": {
   "codemirror_mode": {
    "name": "ipython",
    "version": 3
   },
   "file_extension": ".py",
   "mimetype": "text/x-python",
   "name": "python",
   "nbconvert_exporter": "python",
   "pygments_lexer": "ipython3",
   "version": "3.10.9"
  },
  "title": "end_of_line"
 },
 "nbformat": 4,
 "nbformat_minor": 5
}
