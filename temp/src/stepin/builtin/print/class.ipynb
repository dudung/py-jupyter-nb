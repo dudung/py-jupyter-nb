{
 "cells": [
  {
   "cell_type": "markdown",
   "id": "b0cbc1cc",
   "metadata": {},
   "source": [
    "# class"
   ]
  },
  {
   "cell_type": "code",
   "execution_count": 1,
   "id": "c42c45c2",
   "metadata": {},
   "outputs": [],
   "source": [
    "# define a class\n",
    "class Person:\n",
    "    def __init__(self):\n",
    "        self.name = \"unknown\"\n",
    "        self.id = \"0000\"\n",
    "        self.age = 0\n",
    "    def __str__(self):\n",
    "        return \"Object of Person\"\n",
    "    def named(self, name):\n",
    "        self.name = name\n",
    "    def name(self):\n",
    "        return self.name"
   ]
  },
  {
   "cell_type": "code",
   "execution_count": 2,
   "id": "7ba7d53d",
   "metadata": {},
   "outputs": [],
   "source": [
    "# define an object using the class\n",
    "p1 = Person()"
   ]
  },
  {
   "cell_type": "code",
   "execution_count": 3,
   "id": "fad6143a",
   "metadata": {},
   "outputs": [
    {
     "name": "stdout",
     "output_type": "stream",
     "text": [
      "unknown\n"
     ]
    }
   ],
   "source": [
    "# print object name\n",
    "print(p1.name)"
   ]
  },
  {
   "cell_type": "code",
   "execution_count": 4,
   "id": "addd74bc",
   "metadata": {},
   "outputs": [],
   "source": [
    "# give name to the object\n",
    "p1.named(\"Jupyter Notebook\")"
   ]
  },
  {
   "cell_type": "code",
   "execution_count": 5,
   "id": "45e6521c",
   "metadata": {},
   "outputs": [
    {
     "name": "stdout",
     "output_type": "stream",
     "text": [
      "Jupyter Notebook\n"
     ]
    }
   ],
   "source": [
    "# print again object name\n",
    "print(p1.name)"
   ]
  },
  {
   "cell_type": "code",
   "execution_count": 6,
   "id": "9f208a06",
   "metadata": {},
   "outputs": [
    {
     "name": "stdout",
     "output_type": "stream",
     "text": [
      "<class '__main__.Person'>\n"
     ]
    }
   ],
   "source": [
    "# print the class\n",
    "print(Person)"
   ]
  },
  {
   "cell_type": "code",
   "execution_count": 7,
   "id": "d12c6921",
   "metadata": {},
   "outputs": [
    {
     "name": "stdout",
     "output_type": "stream",
     "text": [
      "Object of Person\n"
     ]
    }
   ],
   "source": [
    "# print the object\n",
    "print(p1)"
   ]
  },
  {
   "cell_type": "code",
   "execution_count": 8,
   "id": "15bc39ce",
   "metadata": {},
   "outputs": [
    {
     "name": "stdout",
     "output_type": "stream",
     "text": [
      "{'name': 'Jupyter Notebook', 'id': '0000', 'age': 0}\n"
     ]
    }
   ],
   "source": [
    "# print __dict__\n",
    "print(p1.__dict__)"
   ]
  },
  {
   "cell_type": "code",
   "execution_count": null,
   "id": "95de9235",
   "metadata": {},
   "outputs": [],
   "source": []
  }
 ],
 "metadata": {
  "authors": [
   {
    "name": "Sparisoma Viridi"
   }
  ],
  "kernelspec": {
   "display_name": "Python 3 (ipykernel)",
   "language": "python",
   "name": "python3"
  },
  "language_info": {
   "codemirror_mode": {
    "name": "ipython",
    "version": 3
   },
   "file_extension": ".py",
   "mimetype": "text/x-python",
   "name": "python",
   "nbconvert_exporter": "python",
   "pygments_lexer": "ipython3",
   "version": "3.10.9"
  },
  "title": "class"
 },
 "nbformat": 4,
 "nbformat_minor": 5
}
