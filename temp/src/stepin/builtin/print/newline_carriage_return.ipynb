{
 "cells": [
  {
   "cell_type": "markdown",
   "id": "b0cbc1cc",
   "metadata": {},
   "source": [
    "# newline_carriage_return"
   ]
  },
  {
   "cell_type": "code",
   "execution_count": 1,
   "id": "8ac03f7f",
   "metadata": {},
   "outputs": [
    {
     "name": "stdout",
     "output_type": "stream",
     "text": [
      "It\n",
      "is\r",
      "a\n",
      "sentence\r",
      "that\r",
      "willnbe\n",
      "printed\n",
      "not\r",
      "in\r",
      "a\n",
      "good\r",
      "way.\n"
     ]
    }
   ],
   "source": [
    "print(\"It\\nis\\ra\\nsentence\\rthat\\rwillnbe\\nprinted\\nnot\\rin\\ra\\ngood\\rway.\")"
   ]
  },
  {
   "cell_type": "code",
   "execution_count": null,
   "id": "2d0d4e1c",
   "metadata": {},
   "outputs": [],
   "source": []
  }
 ],
 "metadata": {
  "authors": [
   {
    "name": "Sparisoma Viridi"
   }
  ],
  "kernelspec": {
   "display_name": "Python 3 (ipykernel)",
   "language": "python",
   "name": "python3"
  },
  "language_info": {
   "codemirror_mode": {
    "name": "ipython",
    "version": 3
   },
   "file_extension": ".py",
   "mimetype": "text/x-python",
   "name": "python",
   "nbconvert_exporter": "python",
   "pygments_lexer": "ipython3",
   "version": "3.10.9"
  },
  "title": "newline_carriage_return"
 },
 "nbformat": 4,
 "nbformat_minor": 5
}
