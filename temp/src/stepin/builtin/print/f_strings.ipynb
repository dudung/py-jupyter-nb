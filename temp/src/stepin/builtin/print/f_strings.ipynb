{
 "cells": [
  {
   "cell_type": "markdown",
   "id": "b0cbc1cc",
   "metadata": {},
   "source": [
    "# f_strings"
   ]
  },
  {
   "cell_type": "code",
   "execution_count": 1,
   "id": "c42c45c2",
   "metadata": {},
   "outputs": [
    {
     "name": "stdout",
     "output_type": "stream",
     "text": [
      "1.2 + -5 = -3.8\n"
     ]
    }
   ],
   "source": [
    "a = 1.2\n",
    "b = -5\n",
    "print(f\"{a} + {b} = {a + b}\")"
   ]
  },
  {
   "cell_type": "code",
   "execution_count": 2,
   "id": "04935445",
   "metadata": {},
   "outputs": [
    {
     "name": "stdout",
     "output_type": "stream",
     "text": [
      "Phone number of My Lord is 0123456789\n"
     ]
    }
   ],
   "source": [
    "person = \"My Lord\"\n",
    "phone = \"0123456789\"\n",
    "print(f\"Phone number of {person} is {phone}\")"
   ]
  },
  {
   "cell_type": "code",
   "execution_count": 3,
   "id": "fb5805f1",
   "metadata": {},
   "outputs": [
    {
     "name": "stdout",
     "output_type": "stream",
     "text": [
      "x = 200.3\n",
      "x = 200.35\n",
      "x = 200.350\n",
      "x = 200.3500\n",
      "x = 200.35000\n"
     ]
    }
   ],
   "source": [
    "x = 200.35\n",
    "print(f\"x = {x:.1f}\")\n",
    "print(f\"x = {x:.2f}\")\n",
    "print(f\"x = {x:.3f}\")\n",
    "print(f\"x = {x:.4f}\")\n",
    "print(f\"x = {x:.5f}\")"
   ]
  },
  {
   "cell_type": "code",
   "execution_count": 4,
   "id": "a1de18c5",
   "metadata": {},
   "outputs": [
    {
     "name": "stdout",
     "output_type": "stream",
     "text": [
      "45\n",
      "45\n",
      "045\n",
      "0045\n",
      "00045\n"
     ]
    }
   ],
   "source": [
    "i = 45\n",
    "print(f\"{i:01}\")\n",
    "print(f\"{i:02}\")\n",
    "print(f\"{i:03}\")\n",
    "print(f\"{i:04}\")\n",
    "print(f\"{i:05}\")"
   ]
  },
  {
   "cell_type": "code",
   "execution_count": 5,
   "id": "27d388e6",
   "metadata": {},
   "outputs": [
    {
     "name": "stdout",
     "output_type": "stream",
     "text": [
      "12345678\n",
      "       1\n",
      "      12\n",
      "     123\n",
      "    1234\n"
     ]
    }
   ],
   "source": [
    "print(\"12345678\")\n",
    "s1 = \"1\"\n",
    "s2 = \"12\"\n",
    "s3 = \"123\"\n",
    "s4 = \"1234\"\n",
    "print(f\"{s1:>8}\")\n",
    "print(f\"{s2:>8}\")\n",
    "print(f\"{s3:>8}\")\n",
    "print(f\"{s4:>8}\")"
   ]
  },
  {
   "cell_type": "code",
   "execution_count": 6,
   "id": "897dc6a5",
   "metadata": {},
   "outputs": [
    {
     "name": "stdout",
     "output_type": "stream",
     "text": [
      "12345678901234567890\n",
      "32    3232\n"
     ]
    }
   ],
   "source": [
    "print(\"12345678901234567890\")\n",
    "print(f\"{32:<4}\", f\"{32:>4}\", 32, sep='')"
   ]
  },
  {
   "cell_type": "code",
   "execution_count": 7,
   "id": "17b41237",
   "metadata": {},
   "outputs": [
    {
     "name": "stdout",
     "output_type": "stream",
     "text": [
      "1.5e+04\n",
      "1.50e+04\n",
      "1.504e+04\n",
      "1.5039e+04\n",
      "1.50394e+04\n"
     ]
    }
   ],
   "source": [
    "y = 15039.36\n",
    "print(f\"{y:.1e}\")\n",
    "print(f\"{y:.2e}\")\n",
    "print(f\"{y:.3e}\")\n",
    "print(f\"{y:.4e}\")\n",
    "print(f\"{y:.5e}\")"
   ]
  },
  {
   "cell_type": "code",
   "execution_count": 8,
   "id": "879dc41c",
   "metadata": {},
   "outputs": [
    {
     "name": "stdout",
     "output_type": "stream",
     "text": [
      "0040b\n"
     ]
    }
   ],
   "source": [
    "n = 1035\n",
    "print(f\"{n:05x}\")"
   ]
  },
  {
   "cell_type": "code",
   "execution_count": null,
   "id": "394d5e40",
   "metadata": {},
   "outputs": [],
   "source": []
  }
 ],
 "metadata": {
  "authors": [
   {
    "name": "Sparisoma Viridi"
   }
  ],
  "kernelspec": {
   "display_name": "Python 3 (ipykernel)",
   "language": "python",
   "name": "python3"
  },
  "language_info": {
   "codemirror_mode": {
    "name": "ipython",
    "version": 3
   },
   "file_extension": ".py",
   "mimetype": "text/x-python",
   "name": "python",
   "nbconvert_exporter": "python",
   "pygments_lexer": "ipython3",
   "version": "3.10.9"
  },
  "title": "f_strings"
 },
 "nbformat": 4,
 "nbformat_minor": 5
}
