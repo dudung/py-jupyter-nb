{
 "cells": [
  {
   "cell_type": "markdown",
   "id": "b0cbc1cc",
   "metadata": {},
   "source": [
    "# carriage_return"
   ]
  },
  {
   "cell_type": "code",
   "execution_count": 5,
   "id": "a99c550d",
   "metadata": {},
   "outputs": [
    {
     "name": "stdout",
     "output_type": "stream",
     "text": [
      "A sentence with some words\r",
      "Only a word\r\n"
     ]
    }
   ],
   "source": [
    "print(\"A sentence with some words\\r\", end='')\n",
    "print(\"Only a word\\r\")"
   ]
  },
  {
   "cell_type": "code",
   "execution_count": 6,
   "id": "81489655",
   "metadata": {},
   "outputs": [
    {
     "name": "stdout",
     "output_type": "stream",
     "text": [
      "0000000000\r",
      "11111111\r",
      "222222\r",
      "3333\r",
      "44\r"
     ]
    }
   ],
   "source": [
    "print(\"0000000000\", end='\\r')\n",
    "print(\"11111111\", end='\\r')\n",
    "print(\"222222\", end='\\r')\n",
    "print(\"3333\", end='\\r')\n",
    "print(\"44\", end='\\r')"
   ]
  },
  {
   "cell_type": "code",
   "execution_count": null,
   "id": "8ac03f7f",
   "metadata": {},
   "outputs": [],
   "source": []
  }
 ],
 "metadata": {
  "authors": [
   {
    "name": "Sparisoma Viridi"
   }
  ],
  "kernelspec": {
   "display_name": "Python 3 (ipykernel)",
   "language": "python",
   "name": "python3"
  },
  "language_info": {
   "codemirror_mode": {
    "name": "ipython",
    "version": 3
   },
   "file_extension": ".py",
   "mimetype": "text/x-python",
   "name": "python",
   "nbconvert_exporter": "python",
   "pygments_lexer": "ipython3",
   "version": "3.10.9"
  },
  "title": "carriage_return"
 },
 "nbformat": 4,
 "nbformat_minor": 5
}
