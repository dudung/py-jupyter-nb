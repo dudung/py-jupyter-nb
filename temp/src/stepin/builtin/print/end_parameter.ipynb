{
 "cells": [
  {
   "cell_type": "markdown",
   "id": "b0cbc1cc",
   "metadata": {},
   "source": [
    "# end_parameter"
   ]
  },
  {
   "cell_type": "code",
   "execution_count": 1,
   "id": "a99c550d",
   "metadata": {},
   "outputs": [
    {
     "name": "stdout",
     "output_type": "stream",
     "text": [
      "Once\n",
      "upon\n",
      "a\n",
      "time\n"
     ]
    }
   ],
   "source": [
    "print(\"Once\")\n",
    "print(\"upon\")\n",
    "print(\"a\")\n",
    "print(\"time\")"
   ]
  },
  {
   "cell_type": "code",
   "execution_count": 2,
   "id": "af2d0ac2",
   "metadata": {},
   "outputs": [
    {
     "name": "stdout",
     "output_type": "stream",
     "text": [
      "Onceuponatime"
     ]
    }
   ],
   "source": [
    "print(\"Once\", end='')\n",
    "print(\"upon\", end='')\n",
    "print(\"a\", end='')\n",
    "print(\"time\", end='')"
   ]
  },
  {
   "cell_type": "code",
   "execution_count": 3,
   "id": "9729ef9c",
   "metadata": {},
   "outputs": [
    {
     "name": "stdout",
     "output_type": "stream",
     "text": [
      "Once upon a time "
     ]
    }
   ],
   "source": [
    "print(\"Once\", end=' ')\n",
    "print(\"upon\", end=' ')\n",
    "print(\"a\", end=' ')\n",
    "print(\"time\", end=' ')"
   ]
  },
  {
   "cell_type": "code",
   "execution_count": 4,
   "id": "12c92fae",
   "metadata": {},
   "outputs": [
    {
     "name": "stdout",
     "output_type": "stream",
     "text": [
      "Once, upon, a, time, "
     ]
    }
   ],
   "source": [
    "print(\"Once\", end=', ')\n",
    "print(\"upon\", end=', ')\n",
    "print(\"a\", end=', ')\n",
    "print(\"time\", end=', ')"
   ]
  },
  {
   "cell_type": "code",
   "execution_count": 5,
   "id": "cfee894a",
   "metadata": {},
   "outputs": [
    {
     "name": "stdout",
     "output_type": "stream",
     "text": [
      "Once | upon | a | time | "
     ]
    }
   ],
   "source": [
    "print(\"Once\", end=' | ')\n",
    "print(\"upon\", end=' | ')\n",
    "print(\"a\", end=' | ')\n",
    "print(\"time\", end=' | ')"
   ]
  },
  {
   "cell_type": "code",
   "execution_count": 6,
   "id": "eaf5e029",
   "metadata": {},
   "outputs": [
    {
     "name": "stdout",
     "output_type": "stream",
     "text": [
      "Once+upon+a+time+"
     ]
    }
   ],
   "source": [
    "print(\"Once\", end='+')\n",
    "print(\"upon\", end='+')\n",
    "print(\"a\", end='+')\n",
    "print(\"time\", end='+')"
   ]
  },
  {
   "cell_type": "code",
   "execution_count": null,
   "id": "20645b1d",
   "metadata": {},
   "outputs": [],
   "source": []
  }
 ],
 "metadata": {
  "authors": [
   {
    "name": "Sparisoma Viridi"
   }
  ],
  "kernelspec": {
   "display_name": "Python 3 (ipykernel)",
   "language": "python",
   "name": "python3"
  },
  "language_info": {
   "codemirror_mode": {
    "name": "ipython",
    "version": 3
   },
   "file_extension": ".py",
   "mimetype": "text/x-python",
   "name": "python",
   "nbconvert_exporter": "python",
   "pygments_lexer": "ipython3",
   "version": "3.10.9"
  },
  "title": "end_parameter"
 },
 "nbformat": 4,
 "nbformat_minor": 5
}
