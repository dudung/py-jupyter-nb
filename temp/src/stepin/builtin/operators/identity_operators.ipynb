{
 "cells": [
  {
   "cell_type": "markdown",
   "id": "d4e69cf6",
   "metadata": {},
   "source": [
    "# identity_operators\n",
    "To check whether two objects are the same object can be done using identity operators."
   ]
  },
  {
   "cell_type": "code",
   "execution_count": 1,
   "id": "fcecfc84",
   "metadata": {},
   "outputs": [
    {
     "name": "stdout",
     "output_type": "stream",
     "text": [
      "x = 2 2\n",
      "y = 2 2\n",
      "x is y: False\n",
      "x is not y: True\n"
     ]
    }
   ],
   "source": [
    "x = \"2 2\"\n",
    "print(\"x =\", x)\n",
    "\n",
    "y = \"2 2\"\n",
    "print(\"y =\", y)\n",
    "\n",
    "print(\"x is y:\", x is y)\n",
    "print(\"x is not y:\", x is not y)"
   ]
  },
  {
   "cell_type": "code",
   "execution_count": 2,
   "id": "8518a3de",
   "metadata": {},
   "outputs": [
    {
     "name": "stdout",
     "output_type": "stream",
     "text": [
      "x = [1, 2]\n",
      "y = [1, 2]\n",
      "x is y: False\n",
      "x is not y: True\n"
     ]
    }
   ],
   "source": [
    "x = [1, 2]\n",
    "print(\"x =\", x)\n",
    "\n",
    "y = [1, 2]\n",
    "print(\"y =\", y)\n",
    "\n",
    "print(\"x is y:\", x is y)\n",
    "print(\"x is not y:\", x is not y)"
   ]
  },
  {
   "cell_type": "code",
   "execution_count": 3,
   "id": "e80efdfe",
   "metadata": {},
   "outputs": [
    {
     "name": "stdout",
     "output_type": "stream",
     "text": [
      "x = [1, 2]\n",
      "x = y\n",
      "y[1] = 10\n",
      "y = [1, 10]\n",
      "x is y: True\n",
      "x is not y: False\n"
     ]
    }
   ],
   "source": [
    "x = [1, 2]\n",
    "print(\"x =\", x)\n",
    "\n",
    "y = x\n",
    "print(\"x = y\")\n",
    "\n",
    "y[1] = 10\n",
    "print(\"y[1] = 10\")\n",
    "print(\"y =\", y)\n",
    "print(\"x is y:\", x is y)\n",
    "print(\"x is not y:\", x is not y)"
   ]
  },
  {
   "cell_type": "code",
   "execution_count": 4,
   "id": "8bac22b4",
   "metadata": {},
   "outputs": [
    {
     "name": "stdout",
     "output_type": "stream",
     "text": [
      "x = {'id': '007', 'name': 'James Bond'}\n",
      "y = {'id': '007', 'name': 'James Bond'}\n",
      "x is y: False\n",
      "x is not y: True\n"
     ]
    }
   ],
   "source": [
    "x = {'id': '007', 'name': \"James Bond\"}\n",
    "print(\"x =\", x)\n",
    "\n",
    "y = {'id': '007', 'name': \"James Bond\"}\n",
    "print(\"y =\", y)\n",
    "\n",
    "print(\"x is y:\", x is y)\n",
    "print(\"x is not y:\", x is not y)"
   ]
  },
  {
   "cell_type": "code",
   "execution_count": 5,
   "id": "acfba3f6",
   "metadata": {},
   "outputs": [
    {
     "name": "stdout",
     "output_type": "stream",
     "text": [
      "x = {'id': '007', 'name': 'James Bond'}\n",
      "x = y\n",
      "x['id'] = '008'\n",
      "y = {'id': '008', 'name': 'James Bond'}\n",
      "x is y: True\n",
      "x is not y: False\n"
     ]
    }
   ],
   "source": [
    "x = {'id': '007', 'name': \"James Bond\"}\n",
    "print(\"x =\", x)\n",
    "\n",
    "y = x\n",
    "print(\"x = y\")\n",
    "\n",
    "x['id'] = '008'\n",
    "print(\"x['id'] = '008'\")\n",
    "print(\"y =\", y)\n",
    "\n",
    "print(\"x is y:\", x is y)\n",
    "print(\"x is not y:\", x is not y)"
   ]
  },
  {
   "cell_type": "code",
   "execution_count": 6,
   "id": "c92e01a1",
   "metadata": {},
   "outputs": [
    {
     "name": "stdout",
     "output_type": "stream",
     "text": [
      "x = 10\n",
      "y = 10\n",
      "x is y: True\n",
      "x is not y: False\n"
     ]
    }
   ],
   "source": [
    "# produce unpredicted result\n",
    "x = 10\n",
    "print(\"x =\", x)\n",
    "y = 10\n",
    "print(\"y =\", y)\n",
    "print(\"x is y:\", x is y)\n",
    "print(\"x is not y:\", x is not y)"
   ]
  },
  {
   "cell_type": "code",
   "execution_count": 7,
   "id": "5566b1df",
   "metadata": {},
   "outputs": [
    {
     "name": "stdout",
     "output_type": "stream",
     "text": [
      "x = 2.1\n",
      "y = 2.1\n",
      "x is y: False\n",
      "x is not y: True\n"
     ]
    }
   ],
   "source": [
    "x = 2.1\n",
    "print(\"x =\", x)\n",
    "\n",
    "y = 2.1\n",
    "print(\"y =\", y)\n",
    "\n",
    "print(\"x is y:\", x is y)\n",
    "print(\"x is not y:\", x is not y)"
   ]
  },
  {
   "cell_type": "code",
   "execution_count": 8,
   "id": "cb42492f",
   "metadata": {},
   "outputs": [
    {
     "name": "stdout",
     "output_type": "stream",
     "text": [
      "x = 2.1\n",
      "y = x\n",
      "y = 2.1\n",
      "x is y: True\n",
      "x is not y: False\n"
     ]
    }
   ],
   "source": [
    "x = 2.1\n",
    "print(\"x =\", x)\n",
    "y = x\n",
    "print(\"y = x\")\n",
    "print(\"y =\", y)\n",
    "print(\"x is y:\", x is y)\n",
    "print(\"x is not y:\", x is not y)"
   ]
  }
 ],
 "metadata": {
  "authors": [
   {
    "name": "Sparisoma Viridi"
   }
  ],
  "kernelspec": {
   "display_name": "Python 3 (ipykernel)",
   "language": "python",
   "name": "python3"
  },
  "language_info": {
   "codemirror_mode": {
    "name": "ipython",
    "version": 3
   },
   "file_extension": ".py",
   "mimetype": "text/x-python",
   "name": "python",
   "nbconvert_exporter": "python",
   "pygments_lexer": "ipython3",
   "version": "3.10.4"
  },
  "title": "identity_operators"
 },
 "nbformat": 4,
 "nbformat_minor": 5
}
