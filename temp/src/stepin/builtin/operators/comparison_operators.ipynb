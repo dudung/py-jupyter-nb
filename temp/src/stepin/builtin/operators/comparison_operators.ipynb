{
 "cells": [
  {
   "cell_type": "markdown",
   "id": "d4e69cf6",
   "metadata": {},
   "source": [
    "# comparison_operators\n",
    "Comparison operators produce boolean value while comparing two variables."
   ]
  },
  {
   "cell_type": "code",
   "execution_count": 1,
   "id": "6557d0e3",
   "metadata": {},
   "outputs": [
    {
     "name": "stdout",
     "output_type": "stream",
     "text": [
      "1 < 10: True\n",
      "1 > 10: False\n",
      "\n",
      "2 > 8: False\n",
      "2 < 8: True\n",
      "\n",
      "1.5 < 1.5: False\n",
      "1.5 <= 1.5: True\n",
      "\n",
      "1.5 > 1.5: False\n",
      "1.5 >= 1.5: True\n",
      "\n",
      "1.5 == 1.5: True\n",
      "1.5 != 1.5: False\n",
      "\n",
      "7 == 8: False\n",
      "7 != 8: True\n",
      "\n"
     ]
    }
   ],
   "source": [
    "print(\"1 < 10:\", 1 < 10)\n",
    "print(\"1 > 10:\", 1 > 10)\n",
    "print()\n",
    "\n",
    "print(\"2 > 8:\", 2 > 8)\n",
    "print(\"2 < 8:\", 2 < 8)\n",
    "print()\n",
    "\n",
    "print(\"1.5 < 1.5:\", 1.5 < 1.5)\n",
    "print(\"1.5 <= 1.5:\", 1.5 <= 1.5)\n",
    "print()\n",
    "\n",
    "print(\"1.5 > 1.5:\", 1.5 > 1.5)\n",
    "print(\"1.5 >= 1.5:\", 1.5 >= 1.5)\n",
    "print()\n",
    "\n",
    "print(\"1.5 == 1.5:\", 1.5 == 1.5)\n",
    "print(\"1.5 != 1.5:\", 1.5 != 1.5)\n",
    "print()\n",
    "\n",
    "print(\"7 == 8:\", 7 == 8)\n",
    "print(\"7 != 8:\", 7 != 8)\n",
    "print()"
   ]
  }
 ],
 "metadata": {
  "authors": [
   {
    "name": "Sparisoma Viridi"
   }
  ],
  "kernelspec": {
   "display_name": "Python 3 (ipykernel)",
   "language": "python",
   "name": "python3"
  },
  "language_info": {
   "codemirror_mode": {
    "name": "ipython",
    "version": 3
   },
   "file_extension": ".py",
   "mimetype": "text/x-python",
   "name": "python",
   "nbconvert_exporter": "python",
   "pygments_lexer": "ipython3",
   "version": "3.10.4"
  },
  "title": "comparison_operators"
 },
 "nbformat": 4,
 "nbformat_minor": 5
}
