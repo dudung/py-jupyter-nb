{
 "cells": [
  {
   "cell_type": "markdown",
   "id": "d4e69cf6",
   "metadata": {},
   "source": [
    "# comparison_logical_operators\n",
    "Results from comparison operators can be combined using logical operators."
   ]
  },
  {
   "cell_type": "code",
   "execution_count": 1,
   "id": "9b853e79",
   "metadata": {},
   "outputs": [
    {
     "name": "stdout",
     "output_type": "stream",
     "text": [
      "x = 2\n",
      "2 < x:  False\n",
      "x < 7:  True\n",
      "2 < x and x < 7: False\n"
     ]
    }
   ],
   "source": [
    "x = 2\n",
    "first_condition = 2 < x\n",
    "second_condition = x < 7\n",
    "combined_condition = first_condition and second_condition\n",
    "\n",
    "print(\"x =\", x)\n",
    "print(\"2 < x: \", first_condition)\n",
    "print(\"x < 7: \", second_condition)\n",
    "print(\"2 < x and x < 7:\", combined_condition)"
   ]
  },
  {
   "cell_type": "code",
   "execution_count": 2,
   "id": "573f87c4",
   "metadata": {},
   "outputs": [
    {
     "name": "stdout",
     "output_type": "stream",
     "text": [
      "x = 10\n",
      "x < 1:  False\n",
      "8 < x:  True\n",
      "x < 1 or 8 < x: True\n"
     ]
    }
   ],
   "source": [
    "x = 10\n",
    "first_condition = x < 1\n",
    "second_condition = 8 < x\n",
    "combined_condition = first_condition or second_condition\n",
    "\n",
    "print(\"x =\", x)\n",
    "print(\"x < 1: \", first_condition)\n",
    "print(\"8 < x: \", second_condition)\n",
    "print(\"x < 1 or 8 < x:\", combined_condition)"
   ]
  },
  {
   "cell_type": "code",
   "execution_count": 3,
   "id": "b571d541",
   "metadata": {},
   "outputs": [
    {
     "name": "stdout",
     "output_type": "stream",
     "text": [
      "x = 5\n",
      "x < 3:  False\n",
      "not x < 3:  True\n"
     ]
    }
   ],
   "source": [
    "x = 5\n",
    "condition = x < 3\n",
    "not_condition = not condition\n",
    "\n",
    "print(\"x =\", x)\n",
    "print(\"x < 3: \", condition)\n",
    "print(\"not x < 3: \", not_condition)"
   ]
  }
 ],
 "metadata": {
  "authors": [
   {
    "name": "Sparisoma Viridi"
   }
  ],
  "kernelspec": {
   "display_name": "Python 3 (ipykernel)",
   "language": "python",
   "name": "python3"
  },
  "language_info": {
   "codemirror_mode": {
    "name": "ipython",
    "version": 3
   },
   "file_extension": ".py",
   "mimetype": "text/x-python",
   "name": "python",
   "nbconvert_exporter": "python",
   "pygments_lexer": "ipython3",
   "version": "3.10.4"
  },
  "title": "comparison_logical_operators"
 },
 "nbformat": 4,
 "nbformat_minor": 5
}
