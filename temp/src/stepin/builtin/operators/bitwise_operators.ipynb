{
 "cells": [
  {
   "cell_type": "markdown",
   "id": "d4e69cf6",
   "metadata": {},
   "source": [
    "# bitwise_operators\n",
    "Manipulation of binary numbers is supported by bitwise operators."
   ]
  },
  {
   "cell_type": "code",
   "execution_count": 1,
   "id": "a7c3a4a2",
   "metadata": {},
   "outputs": [
    {
     "name": "stdout",
     "output_type": "stream",
     "text": [
      "x = 1100\n",
      "y = 1010\n"
     ]
    }
   ],
   "source": [
    "x = 0b1100\n",
    "print(\"x =\", f'{x:04b}')\n",
    "y = 0b1010\n",
    "print(\"y =\", f'{y:04b}')"
   ]
  },
  {
   "cell_type": "code",
   "execution_count": 2,
   "id": "7f5ffa80",
   "metadata": {},
   "outputs": [
    {
     "name": "stdout",
     "output_type": "stream",
     "text": [
      "    x = 1100\n",
      "    y = 1010\n",
      "x & y = 1000 (AND)\n"
     ]
    }
   ],
   "source": [
    "print(\"    x =\", f\"{x:04b}\")\n",
    "print(\"    y =\", f\"{y:04b}\")\n",
    "p = x & y\n",
    "print(\"x & y =\", f'{p:04b}', '(AND)')"
   ]
  },
  {
   "cell_type": "code",
   "execution_count": 3,
   "id": "53fffb02",
   "metadata": {},
   "outputs": [
    {
     "name": "stdout",
     "output_type": "stream",
     "text": [
      "    x = 1100\n",
      "    y = 1010\n",
      "x | y = 1110 (OR)\n"
     ]
    }
   ],
   "source": [
    "print(\"    x =\", f\"{x:04b}\")\n",
    "print(\"    y =\", f\"{y:04b}\")\n",
    "q = x | y\n",
    "print(\"x | y =\", f'{q:04b}', '(OR)')"
   ]
  },
  {
   "cell_type": "code",
   "execution_count": 4,
   "id": "696cd42f",
   "metadata": {},
   "outputs": [
    {
     "name": "stdout",
     "output_type": "stream",
     "text": [
      "    x = 1100\n",
      "    y = 1010\n",
      "x ^ y = 0110 (XOR)\n"
     ]
    }
   ],
   "source": [
    "print(\"    x =\", f\"{x:04b}\")\n",
    "print(\"    y =\", f\"{y:04b}\")\n",
    "r = x ^ y\n",
    "print(\"x ^ y =\", f'{r:04b}', '(XOR)')"
   ]
  },
  {
   "cell_type": "code",
   "execution_count": 5,
   "id": "4b7f5835",
   "metadata": {},
   "outputs": [
    {
     "name": "stdout",
     "output_type": "stream",
     "text": [
      "      z =  0101\n",
      "     ~z = -0110 (NOT)\n",
      "z +  ~z = -0001\n"
     ]
    }
   ],
   "source": [
    "z = 0b0101\n",
    "s = ~z\n",
    "t = z + s\n",
    "print(\"      z = \", f'{z:04b}')\n",
    "print(\"     ~z =\", f'{s:05b}', '(NOT)')\n",
    "print(\"z +  ~z =\", f'{t:05b}')"
   ]
  },
  {
   "cell_type": "code",
   "execution_count": 6,
   "id": "0c533bcb",
   "metadata": {},
   "outputs": [
    {
     "name": "stdout",
     "output_type": "stream",
     "text": [
      " z      =  000101\n",
      " z << 1 =  001010\n",
      " z << 2 =  010100\n"
     ]
    }
   ],
   "source": [
    "l1 = z << 1\n",
    "l2 = z << 2\n",
    "print(\" z      = \", f'{z:06b}')\n",
    "print(\" z << 1 = \", f'{l1:06b}')\n",
    "print(\" z << 2 = \", f'{l2:06b}')"
   ]
  },
  {
   "cell_type": "code",
   "execution_count": 7,
   "id": "2047f87c",
   "metadata": {},
   "outputs": [
    {
     "name": "stdout",
     "output_type": "stream",
     "text": [
      " z      =  000101\n",
      " z >> 1 =  000010\n",
      " z >> 2 =  000001\n"
     ]
    }
   ],
   "source": [
    "r1 = z >> 1\n",
    "r2 = z >> 2\n",
    "print(\" z      = \", f'{z:06b}')\n",
    "print(\" z >> 1 = \", f'{r1:06b}')\n",
    "print(\" z >> 2 = \", f'{r2:06b}')"
   ]
  }
 ],
 "metadata": {
  "authors": [
   {
    "name": "Sparisoma Viridi"
   }
  ],
  "kernelspec": {
   "display_name": "Python 3 (ipykernel)",
   "language": "python",
   "name": "python3"
  },
  "language_info": {
   "codemirror_mode": {
    "name": "ipython",
    "version": 3
   },
   "file_extension": ".py",
   "mimetype": "text/x-python",
   "name": "python",
   "nbconvert_exporter": "python",
   "pygments_lexer": "ipython3",
   "version": "3.10.4"
  },
  "title": "bitwise_operators"
 },
 "nbformat": 4,
 "nbformat_minor": 5
}
