{
 "cells": [
  {
   "cell_type": "markdown",
   "id": "d4e69cf6",
   "metadata": {},
   "source": [
    "# slice_operators\n",
    "Part of a list or a string can be sliced using slice operators and a list can also be assigned using slice operators."
   ]
  },
  {
   "cell_type": "code",
   "execution_count": 1,
   "id": "80eb8f1e",
   "metadata": {},
   "outputs": [
    {
     "name": "stdout",
     "output_type": "stream",
     "text": [
      "a = [1, 3, 5, 7, 9]\n",
      "\n",
      "a[0:2] = [1, 3]\n",
      "a[0:-1] = [1, 3, 5, 7]\n",
      "a[2:3] = [5]\n",
      "a[2:] = [7, 9]\n"
     ]
    }
   ],
   "source": [
    "a = [1, 3, 5, 7, 9]\n",
    "print(\"a =\", a)\n",
    "print()\n",
    "\n",
    "print(\"a[0:2] =\", a[0:2])\n",
    "print(\"a[0:-1] =\", a[0:-1])\n",
    "print(\"a[2:3] =\", a[2:3])\n",
    "print(\"a[2:] =\", a[3:])"
   ]
  },
  {
   "cell_type": "code",
   "execution_count": 2,
   "id": "e7d18bd6",
   "metadata": {},
   "outputs": [
    {
     "name": "stdout",
     "output_type": "stream",
     "text": [
      "a = 0123456789\n",
      "\n",
      "a[0:2] = 01\n",
      "a[0:-1] = 012345678\n",
      "a[2:3] = 2\n",
      "a[2:] = 3456789\n"
     ]
    }
   ],
   "source": [
    "a = \"0123456789\"\n",
    "print(\"a =\", a)\n",
    "print()\n",
    "\n",
    "print(\"a[0:2] =\", a[0:2])\n",
    "print(\"a[0:-1] =\", a[0:-1])\n",
    "print(\"a[2:3] =\", a[2:3])\n",
    "print(\"a[2:] =\", a[3:])"
   ]
  },
  {
   "cell_type": "code",
   "execution_count": 3,
   "id": "a088916f",
   "metadata": {},
   "outputs": [
    {
     "name": "stdout",
     "output_type": "stream",
     "text": [
      "a = [0, 1, 2, 3, 4, 5, 6, 7, 8, 9]\n",
      "\n",
      "a[2:5] = [8, 8, 8]\n",
      "a = [0, 1, 8, 8, 8, 5, 6, 7, 8, 9]\n"
     ]
    }
   ],
   "source": [
    "a = [0, 1, 2, 3, 4, 5, 6, 7, 8, 9]\n",
    "print(\"a =\", a)\n",
    "print()\n",
    "\n",
    "a[2:5] = [8, 8, 8]\n",
    "print(\"a[2:5] = [8, 8, 8]\")\n",
    "print(\"a =\", a)"
   ]
  },
  {
   "cell_type": "code",
   "execution_count": 4,
   "id": "315a2a6d",
   "metadata": {},
   "outputs": [
    {
     "name": "stdout",
     "output_type": "stream",
     "text": [
      "a = [0, 1, 2, 3, 4, 5, 6, 7, 8, 9]\n",
      "\n",
      "a[2:5] = [8, 8, 8]\n",
      "a = [0, 1, 2, 8, 8, 8]\n"
     ]
    }
   ],
   "source": [
    "a = [0, 1, 2, 3, 4, 5, 6, 7, 8, 9]\n",
    "print(\"a =\", a)\n",
    "print()\n",
    "\n",
    "a[3:] = [8, 8, 8]\n",
    "print(\"a[2:5] = [8, 8, 8]\")\n",
    "print(\"a =\", a)"
   ]
  }
 ],
 "metadata": {
  "authors": [
   {
    "name": "Sparisoma Viridi"
   }
  ],
  "kernelspec": {
   "display_name": "Python 3 (ipykernel)",
   "language": "python",
   "name": "python3"
  },
  "language_info": {
   "codemirror_mode": {
    "name": "ipython",
    "version": 3
   },
   "file_extension": ".py",
   "mimetype": "text/x-python",
   "name": "python",
   "nbconvert_exporter": "python",
   "pygments_lexer": "ipython3",
   "version": "3.10.4"
  },
  "title": "slice_operators"
 },
 "nbformat": 4,
 "nbformat_minor": 5
}
