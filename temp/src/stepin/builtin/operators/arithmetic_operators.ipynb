{
 "cells": [
  {
   "cell_type": "markdown",
   "id": "d4e69cf6",
   "metadata": {},
   "source": [
    "# arithmetic_operators\n",
    "To perform common mathematical operations with numerical values, integer and float, the arithmetic operators are used."
   ]
  },
  {
   "cell_type": "code",
   "execution_count": 1,
   "id": "25dcc142",
   "metadata": {},
   "outputs": [
    {
     "name": "stdout",
     "output_type": "stream",
     "text": [
      "x = 2\n",
      "y = 3\n",
      "z = x + y = 2 + 3 = 5\n"
     ]
    }
   ],
   "source": [
    "x = 2\n",
    "y = 3\n",
    "z = x + y\n",
    "\n",
    "print(\"x =\", x)\n",
    "print(\"y =\", y)\n",
    "print(\"z = x + y =\", x, \"+\", y , \"=\", z)"
   ]
  },
  {
   "cell_type": "code",
   "execution_count": 2,
   "id": "1a1866ac",
   "metadata": {},
   "outputs": [
    {
     "name": "stdout",
     "output_type": "stream",
     "text": [
      "x = 2\n",
      "y = 1.5\n",
      "z = x - y = 2 - 1.5 = 0.5\n"
     ]
    }
   ],
   "source": [
    "x = 2\n",
    "y = 1.5\n",
    "z = x - y\n",
    "\n",
    "print(\"x =\", x)\n",
    "print(\"y =\", y)\n",
    "print(\"z = x - y =\", x, \"-\", y , \"=\", z)"
   ]
  },
  {
   "cell_type": "code",
   "execution_count": 3,
   "id": "298b0cfc",
   "metadata": {},
   "outputs": [
    {
     "name": "stdout",
     "output_type": "stream",
     "text": [
      "x = 2.5\n",
      "y = -3\n",
      "z = x * y = 2.5 + -3 = -7.5\n"
     ]
    }
   ],
   "source": [
    "x = 2.5\n",
    "y = -3\n",
    "z = x * y\n",
    "\n",
    "print(\"x =\", x)\n",
    "print(\"y =\", y)\n",
    "print(\"z = x * y =\", x, \"+\", y , \"=\", z)"
   ]
  },
  {
   "cell_type": "code",
   "execution_count": 4,
   "id": "3b4ce018",
   "metadata": {},
   "outputs": [
    {
     "name": "stdout",
     "output_type": "stream",
     "text": [
      "x = 2.5\n",
      "y = -0.5\n",
      "z = x / y = 2.5 / -0.5 = -5.0\n"
     ]
    }
   ],
   "source": [
    "x = 2.5\n",
    "y = -0.5\n",
    "z = x / y\n",
    "\n",
    "print(\"x =\", x)\n",
    "print(\"y =\", y)\n",
    "print(\"z = x / y =\", x, \"/\", y , \"=\", z)"
   ]
  },
  {
   "cell_type": "code",
   "execution_count": 5,
   "id": "e3c91b16",
   "metadata": {},
   "outputs": [
    {
     "name": "stdout",
     "output_type": "stream",
     "text": [
      "x = 2\n",
      "y = 8\n",
      "z = x / y = 2 / 8 = 0.25\n"
     ]
    }
   ],
   "source": [
    "x = 2\n",
    "y = 8\n",
    "z = x / y\n",
    "\n",
    "print(\"x =\", x)\n",
    "print(\"y =\", y)\n",
    "print(\"z = x / y =\", x, \"/\", y , \"=\", z)"
   ]
  },
  {
   "cell_type": "code",
   "execution_count": 6,
   "id": "f2a51455",
   "metadata": {},
   "outputs": [
    {
     "name": "stdout",
     "output_type": "stream",
     "text": [
      "x = 3\n",
      "y = 10\n",
      "z = 2\n",
      "\n",
      "a = x % y = 3 % 10 = 3\n",
      "b = y % x = 10 % 3 = 1\n",
      "c = y % z = 10 % 2 = 0\n"
     ]
    }
   ],
   "source": [
    "x = 3\n",
    "y = 10\n",
    "z = 2\n",
    "a = x % y\n",
    "b = y % x\n",
    "c = y % z\n",
    "\n",
    "print(\"x =\", x)\n",
    "print(\"y =\", y)\n",
    "print(\"z =\", z)\n",
    "print()\n",
    "\n",
    "print(\"a = x % y =\", x, \"%\", y , \"=\", a)\n",
    "print(\"b = y % x =\", y, \"%\", x , \"=\", b)\n",
    "print(\"c = y % z =\", y, \"%\", z , \"=\", c)"
   ]
  },
  {
   "cell_type": "code",
   "execution_count": 7,
   "id": "3cf76896",
   "metadata": {},
   "outputs": [
    {
     "name": "stdout",
     "output_type": "stream",
     "text": [
      "x = 1.5\n",
      "y = 10.5\n",
      "z = 3\n",
      "\n",
      "a = x % y = 1.5 % 10.5 = 1.5\n",
      "b = y % x = 10.5 % 1.5 = 0.0\n",
      "c = y % z = 10.5 % 3 = 1.5\n"
     ]
    }
   ],
   "source": [
    "x = 1.5\n",
    "y = 10.5\n",
    "z = 3\n",
    "a = x % y\n",
    "b = y % x\n",
    "c = y % z\n",
    "\n",
    "print(\"x =\", x)\n",
    "print(\"y =\", y)\n",
    "print(\"z =\", z)\n",
    "print()\n",
    "\n",
    "print(\"a = x % y =\", x, \"%\", y , \"=\", a)\n",
    "print(\"b = y % x =\", y, \"%\", x , \"=\", b)\n",
    "print(\"c = y % z =\", y, \"%\", z , \"=\", c)"
   ]
  },
  {
   "cell_type": "code",
   "execution_count": 8,
   "id": "bbccea43",
   "metadata": {},
   "outputs": [
    {
     "name": "stdout",
     "output_type": "stream",
     "text": [
      "x = 2\n",
      "y = 4\n",
      "z = x ** y = 2 ** 4  = 16\n",
      "\n"
     ]
    }
   ],
   "source": [
    "x = 2\n",
    "y = 4\n",
    "z = x ** y\n",
    "\n",
    "print(\"x =\", x)\n",
    "print(\"y =\", y)\n",
    "print(\"z = x ** y =\", x, \"**\", y, \" =\", z)\n",
    "print()\n"
   ]
  },
  {
   "cell_type": "code",
   "execution_count": 9,
   "id": "db22a4b5",
   "metadata": {},
   "outputs": [
    {
     "name": "stdout",
     "output_type": "stream",
     "text": [
      "x = 4\n",
      "y = 0.5\n",
      "z = x ** y = 4 ** 0.5  = 2.0\n",
      "\n"
     ]
    }
   ],
   "source": [
    "x = 4\n",
    "y = 0.5\n",
    "z = x ** y\n",
    "\n",
    "print(\"x =\", x)\n",
    "print(\"y =\", y)\n",
    "print(\"z = x ** y =\", x, \"**\", y, \" =\", z)\n",
    "print()\n"
   ]
  },
  {
   "cell_type": "code",
   "execution_count": 10,
   "id": "3c5f8eff",
   "metadata": {},
   "outputs": [
    {
     "name": "stdout",
     "output_type": "stream",
     "text": [
      "x = 8\n",
      "y = 3\n",
      "z = x // y = 8 // 3 = 2\n"
     ]
    }
   ],
   "source": [
    "x = 8\n",
    "y = 3\n",
    "z = x // y\n",
    "\n",
    "print(\"x =\", x)\n",
    "print(\"y =\", y)\n",
    "print(\"z = x // y =\", x, \"//\", y , \"=\", z)"
   ]
  },
  {
   "cell_type": "code",
   "execution_count": 11,
   "id": "6f65fede",
   "metadata": {},
   "outputs": [
    {
     "name": "stdout",
     "output_type": "stream",
     "text": [
      "x = 16\n",
      "y = 3\n",
      "\n",
      "fdv = x // y = 16 // 3 = 5\n",
      "\n",
      "mod = x % y = 16 % 3 = 1\n",
      "\n",
      "z = fdv * y + mod = 5 * 3 + 1 = 16\n"
     ]
    }
   ],
   "source": [
    "# relate floor division and modulus\n",
    "x = 16\n",
    "y = 3\n",
    "fdv = x // y\n",
    "mod = x % y\n",
    "z = fdv * y + mod\n",
    "\n",
    "print(\"x =\", x)\n",
    "print(\"y =\", y)\n",
    "print()\n",
    "\n",
    "print(\"fdv = x // y =\", x, \"//\", y, \"=\", fdv)\n",
    "print()\n",
    "\n",
    "print(\"mod = x % y =\", x, \"%\", y, \"=\", mod)\n",
    "print()\n",
    "\n",
    "print(\"z = fdv * y + mod =\", fdv, \"*\", y, \"+\", mod, \"=\", z)\n",
    "\n"
   ]
  }
 ],
 "metadata": {
  "authors": [
   {
    "name": "Sparisoma Viridi"
   }
  ],
  "kernelspec": {
   "display_name": "Python 3 (ipykernel)",
   "language": "python",
   "name": "python3"
  },
  "language_info": {
   "codemirror_mode": {
    "name": "ipython",
    "version": 3
   },
   "file_extension": ".py",
   "mimetype": "text/x-python",
   "name": "python",
   "nbconvert_exporter": "python",
   "pygments_lexer": "ipython3",
   "version": "3.10.4"
  },
  "title": "arithmetic_operators"
 },
 "nbformat": 4,
 "nbformat_minor": 5
}
