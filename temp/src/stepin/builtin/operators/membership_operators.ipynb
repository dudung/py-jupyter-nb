{
 "cells": [
  {
   "cell_type": "markdown",
   "id": "d4e69cf6",
   "metadata": {},
   "source": [
    "# membership_operators\n",
    "To check whether a sequence with specific value present in an object can be done using membership operators."
   ]
  },
  {
   "cell_type": "code",
   "execution_count": 1,
   "id": "7ebca155",
   "metadata": {},
   "outputs": [
    {
     "name": "stdout",
     "output_type": "stream",
     "text": [
      "x = abc-xyz\n",
      "y = c-x\n",
      "z = x-c\n",
      "\n",
      "y in x: True\n",
      "z in x: False\n"
     ]
    }
   ],
   "source": [
    "x = \"abc-xyz\"\n",
    "print(\"x =\", x)\n",
    "\n",
    "y = \"c-x\"\n",
    "print(\"y =\", y)\n",
    "\n",
    "z = \"x-c\"\n",
    "print(\"z =\", z)\n",
    "print()\n",
    "\n",
    "print(\"y in x:\", y in x)\n",
    "print(\"z in x:\", z in x)\n"
   ]
  },
  {
   "cell_type": "code",
   "execution_count": 2,
   "id": "e447dedc",
   "metadata": {},
   "outputs": [
    {
     "name": "stdout",
     "output_type": "stream",
     "text": [
      "x = [1, 3, 2, 4]\n",
      "y = 3\n",
      "z = 5\n",
      "\n",
      "y in x: True\n",
      "z in x: False\n"
     ]
    }
   ],
   "source": [
    "x = [1, 3, 2, 4]\n",
    "print(\"x =\", x)\n",
    "\n",
    "y = 3\n",
    "print(\"y =\", y)\n",
    "\n",
    "z = 5\n",
    "print(\"z =\", z)\n",
    "print()\n",
    "\n",
    "print(\"y in x:\", y in x)\n",
    "print(\"z in x:\", z in x)"
   ]
  },
  {
   "cell_type": "code",
   "execution_count": 3,
   "id": "38816c77",
   "metadata": {},
   "outputs": [
    {
     "name": "stdout",
     "output_type": "stream",
     "text": [
      "x = [1, 3, 2, 4, 8]\n",
      "y = [3]\n",
      "z = [3, 2]\n",
      "a = [3, 2, 4]\n",
      "\n",
      "y in x: False\n",
      "z in x: False\n",
      "a in x: False\n"
     ]
    }
   ],
   "source": [
    "x = [1, 3, 2, 4, 8]\n",
    "print(\"x =\", x)\n",
    "\n",
    "y = [3]\n",
    "print(\"y =\", y)\n",
    "\n",
    "z = [3, 2]\n",
    "print(\"z =\", z)\n",
    "\n",
    "a = [3, 2, 4]\n",
    "print(\"a =\", a)\n",
    "print()\n",
    "\n",
    "print(\"y in x:\", y in x)\n",
    "print(\"z in x:\", z in x)\n",
    "print(\"a in x:\", a in x)"
   ]
  },
  {
   "cell_type": "code",
   "execution_count": 4,
   "id": "5768e61f",
   "metadata": {},
   "outputs": [
    {
     "name": "stdout",
     "output_type": "stream",
     "text": [
      "x = [5, 'a', 0.2, 'Hello, World!']\n",
      "a = 0.2\n",
      "b = 5\n",
      "c = a\n",
      "d = Hello, World!\n",
      "\n",
      "a in x: True\n",
      "b in x: True\n",
      "c in x: True\n",
      "d in x: True\n"
     ]
    }
   ],
   "source": [
    "x = [5, 'a', 0.2, \"Hello, World!\"]\n",
    "print(\"x =\", x)\n",
    "\n",
    "a = 0.2\n",
    "print(\"a =\", a)\n",
    "\n",
    "b = 5\n",
    "print(\"b =\", b)\n",
    "\n",
    "c = 'a'\n",
    "print(\"c =\", c)\n",
    "\n",
    "d = \"Hello, World!\"\n",
    "print(\"d =\", d)\n",
    "print()\n",
    "\n",
    "print(\"a in x:\", a in x)\n",
    "print(\"b in x:\", b in x)\n",
    "print(\"c in x:\", c in x)\n",
    "print(\"d in x:\", d in x)\n"
   ]
  }
 ],
 "metadata": {
  "authors": [
   {
    "name": "Sparisoma Viridi"
   }
  ],
  "kernelspec": {
   "display_name": "Python 3 (ipykernel)",
   "language": "python",
   "name": "python3"
  },
  "language_info": {
   "codemirror_mode": {
    "name": "ipython",
    "version": 3
   },
   "file_extension": ".py",
   "mimetype": "text/x-python",
   "name": "python",
   "nbconvert_exporter": "python",
   "pygments_lexer": "ipython3",
   "version": "3.10.4"
  },
  "title": "membership_operators"
 },
 "nbformat": 4,
 "nbformat_minor": 5
}
