{
 "cells": [
  {
   "cell_type": "markdown",
   "id": "d4e69cf6",
   "metadata": {},
   "source": [
    "# logical_operators\n",
    "Boolean values can be combined using logical operators."
   ]
  },
  {
   "cell_type": "code",
   "execution_count": 1,
   "id": "9b853e79",
   "metadata": {},
   "outputs": [
    {
     "name": "stdout",
     "output_type": "stream",
     "text": [
      "f = False\n",
      "t = True\n"
     ]
    }
   ],
   "source": [
    "f = False\n",
    "print(\"f =\", f)\n",
    "t = True\n",
    "print(\"t =\", t)"
   ]
  },
  {
   "cell_type": "code",
   "execution_count": 2,
   "id": "0551bb24",
   "metadata": {},
   "outputs": [
    {
     "name": "stdout",
     "output_type": "stream",
     "text": [
      "f and f = False\n",
      "f and t = False\n",
      "t and f = False\n",
      "t and t = True\n"
     ]
    }
   ],
   "source": [
    "print(\"f and f =\", f and f)\n",
    "print(\"f and t =\", f and t)\n",
    "print(\"t and f =\", t and f)\n",
    "print(\"t and t =\", t and t)"
   ]
  },
  {
   "cell_type": "code",
   "execution_count": 3,
   "id": "706e84a4",
   "metadata": {},
   "outputs": [
    {
     "name": "stdout",
     "output_type": "stream",
     "text": [
      "f or f = False\n",
      "f or t = True\n",
      "t or f = True\n",
      "t or t = True\n"
     ]
    }
   ],
   "source": [
    "print(\"f or f =\", f or f)\n",
    "print(\"f or t =\", f or t)\n",
    "print(\"t or f =\", t or f)\n",
    "print(\"t or t =\", t or t)"
   ]
  },
  {
   "cell_type": "code",
   "execution_count": 4,
   "id": "1a98456b",
   "metadata": {},
   "outputs": [
    {
     "name": "stdout",
     "output_type": "stream",
     "text": [
      "not f = True\n",
      "not t = False\n"
     ]
    }
   ],
   "source": [
    "print(\"not f =\", not f)\n",
    "print(\"not t =\", not t)"
   ]
  },
  {
   "cell_type": "code",
   "execution_count": 5,
   "id": "1aca067e",
   "metadata": {},
   "outputs": [
    {
     "name": "stdout",
     "output_type": "stream",
     "text": [
      "f xor f = False\n",
      "f xor t = True\n",
      "t xor f = True\n",
      "t xor t = False\n"
     ]
    }
   ],
   "source": [
    "print(\"f xor f =\", (f or f) and not(f and f))\n",
    "print(\"f xor t =\", (f or t) and not(f and t))\n",
    "print(\"t xor f =\", (t or f) and not(t and f))\n",
    "print(\"t xor t =\", (t or t) and not(t and t))"
   ]
  }
 ],
 "metadata": {
  "authors": [
   {
    "name": "Sparisoma Viridi"
   }
  ],
  "kernelspec": {
   "display_name": "Python 3 (ipykernel)",
   "language": "python",
   "name": "python3"
  },
  "language_info": {
   "codemirror_mode": {
    "name": "ipython",
    "version": 3
   },
   "file_extension": ".py",
   "mimetype": "text/x-python",
   "name": "python",
   "nbconvert_exporter": "python",
   "pygments_lexer": "ipython3",
   "version": "3.10.4"
  },
  "title": "logical_operators"
 },
 "nbformat": 4,
 "nbformat_minor": 5
}
