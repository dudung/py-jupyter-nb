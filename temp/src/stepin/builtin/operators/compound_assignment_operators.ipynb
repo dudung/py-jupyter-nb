{
 "cells": [
  {
   "cell_type": "markdown",
   "id": "d4e69cf6",
   "metadata": {},
   "source": [
    "# compound_assignment_operators\n",
    "Variable can be assigned to something using assignment operator and at the same time it also stores the result of a performed binary operator."
   ]
  },
  {
   "cell_type": "code",
   "execution_count": 1,
   "id": "d8122678",
   "metadata": {},
   "outputs": [
    {
     "name": "stdout",
     "output_type": "stream",
     "text": [
      "x = 4\n",
      "x += 2\n",
      "x = 6\n"
     ]
    }
   ],
   "source": [
    "x = 4\n",
    "print(\"x =\", x)\n",
    "x += 2\n",
    "print(\"x += 2\")\n",
    "print(\"x =\", x)"
   ]
  },
  {
   "cell_type": "code",
   "execution_count": 2,
   "id": "cde1f557",
   "metadata": {},
   "outputs": [
    {
     "name": "stdout",
     "output_type": "stream",
     "text": [
      "x = 4\n",
      "x -= 2\n",
      "x = 2\n"
     ]
    }
   ],
   "source": [
    "x = 4\n",
    "print(\"x =\", x)\n",
    "x -= 2\n",
    "print(\"x -= 2\")\n",
    "print(\"x =\", x)"
   ]
  },
  {
   "cell_type": "code",
   "execution_count": 3,
   "id": "1704db5b",
   "metadata": {},
   "outputs": [
    {
     "name": "stdout",
     "output_type": "stream",
     "text": [
      "x = 4\n",
      "x *= 2\n",
      "x = 8\n"
     ]
    }
   ],
   "source": [
    "x = 4\n",
    "print(\"x =\", x)\n",
    "x *= 2\n",
    "print(\"x *= 2\")\n",
    "print(\"x =\", x)"
   ]
  },
  {
   "cell_type": "code",
   "execution_count": 4,
   "id": "6f49b74a",
   "metadata": {},
   "outputs": [
    {
     "name": "stdout",
     "output_type": "stream",
     "text": [
      "x = 4\n",
      "x /= 2\n",
      "x = 2.0\n"
     ]
    }
   ],
   "source": [
    "x = 4\n",
    "print(\"x =\", x)\n",
    "x /= 2\n",
    "print(\"x /= 2\")\n",
    "print(\"x =\", x)"
   ]
  },
  {
   "cell_type": "code",
   "execution_count": 5,
   "id": "c87a7a29",
   "metadata": {},
   "outputs": [
    {
     "name": "stdout",
     "output_type": "stream",
     "text": [
      "x = 4\n",
      "x %= 2\n",
      "x = 0\n"
     ]
    }
   ],
   "source": [
    "x = 4\n",
    "print(\"x =\", x)\n",
    "x %= 2\n",
    "print(\"x %= 2\")\n",
    "print(\"x =\", x)"
   ]
  },
  {
   "cell_type": "code",
   "execution_count": 6,
   "id": "80ec78f1",
   "metadata": {},
   "outputs": [
    {
     "name": "stdout",
     "output_type": "stream",
     "text": [
      "x = 4\n",
      "x //= 2\n",
      "x = 2\n"
     ]
    }
   ],
   "source": [
    "x = 4\n",
    "print(\"x =\", x)\n",
    "x //= 2\n",
    "print(\"x //= 2\")\n",
    "print(\"x =\", x)"
   ]
  },
  {
   "cell_type": "code",
   "execution_count": 7,
   "id": "f267ed82",
   "metadata": {},
   "outputs": [
    {
     "name": "stdout",
     "output_type": "stream",
     "text": [
      "x = 4\n",
      "x **= 2\n",
      "x = 16\n"
     ]
    }
   ],
   "source": [
    "x = 4\n",
    "print(\"x =\", x)\n",
    "x **= 2\n",
    "print(\"x **= 2\")\n",
    "print(\"x =\", x)"
   ]
  },
  {
   "cell_type": "code",
   "execution_count": 8,
   "id": "73a03dc7",
   "metadata": {},
   "outputs": [
    {
     "name": "stdout",
     "output_type": "stream",
     "text": [
      "x = 4\n",
      "x &= 2\n",
      "x = 0\n"
     ]
    }
   ],
   "source": [
    "x = 4\n",
    "print(\"x =\", x)\n",
    "x &= 2\n",
    "print(\"x &= 2\")\n",
    "print(\"x =\", x)"
   ]
  },
  {
   "cell_type": "code",
   "execution_count": 9,
   "id": "b24b4de2",
   "metadata": {},
   "outputs": [
    {
     "name": "stdout",
     "output_type": "stream",
     "text": [
      "x = 4\n",
      "x |= 2\n",
      "x = 6\n"
     ]
    }
   ],
   "source": [
    "x = 4\n",
    "print(\"x =\", x)\n",
    "x |= 2\n",
    "print(\"x |= 2\")\n",
    "print(\"x =\", x)"
   ]
  },
  {
   "cell_type": "code",
   "execution_count": 10,
   "id": "775597ea",
   "metadata": {},
   "outputs": [
    {
     "name": "stdout",
     "output_type": "stream",
     "text": [
      "x = 4\n",
      "x ^= 2\n",
      "x = 6\n"
     ]
    }
   ],
   "source": [
    "x = 4\n",
    "print(\"x =\", x)\n",
    "x ^= 2\n",
    "print(\"x ^= 2\")\n",
    "print(\"x =\", x)"
   ]
  },
  {
   "cell_type": "code",
   "execution_count": 11,
   "id": "a32275f0",
   "metadata": {},
   "outputs": [
    {
     "name": "stdout",
     "output_type": "stream",
     "text": [
      "x = 4\n",
      "x >>= 2\n",
      "x = 1\n"
     ]
    }
   ],
   "source": [
    "x = 4\n",
    "print(\"x =\", x)\n",
    "x >>= 2\n",
    "print(\"x >>= 2\")\n",
    "print(\"x =\", x)"
   ]
  },
  {
   "cell_type": "code",
   "execution_count": 12,
   "id": "947f0735",
   "metadata": {},
   "outputs": [
    {
     "name": "stdout",
     "output_type": "stream",
     "text": [
      "x = 4\n",
      "x <<= 2\n",
      "x = 16\n"
     ]
    }
   ],
   "source": [
    "x = 4\n",
    "print(\"x =\", x)\n",
    "x <<= 2\n",
    "print(\"x <<= 2\")\n",
    "print(\"x =\", x)"
   ]
  }
 ],
 "metadata": {
  "authors": [
   {
    "name": "Sparisoma Viridi"
   }
  ],
  "kernelspec": {
   "display_name": "Python 3 (ipykernel)",
   "language": "python",
   "name": "python3"
  },
  "language_info": {
   "codemirror_mode": {
    "name": "ipython",
    "version": 3
   },
   "file_extension": ".py",
   "mimetype": "text/x-python",
   "name": "python",
   "nbconvert_exporter": "python",
   "pygments_lexer": "ipython3",
   "version": "3.10.4"
  },
  "title": "compound_assignment_operators"
 },
 "nbformat": 4,
 "nbformat_minor": 5
}
