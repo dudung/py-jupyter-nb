{
 "cells": [
  {
   "cell_type": "markdown",
   "id": "c53cbe9a",
   "metadata": {},
   "source": [
    "# volume_of_a_box"
   ]
  },
  {
   "cell_type": "code",
   "execution_count": 1,
   "id": "b90a92e4",
   "metadata": {},
   "outputs": [
    {
     "name": "stdout",
     "output_type": "stream",
     "text": [
      "Box dimension (e.g. length width height): 4 1.5 2.5\n"
     ]
    }
   ],
   "source": [
    "lwh = input(\"Box dimension (e.g. length width height): \")"
   ]
  },
  {
   "cell_type": "code",
   "execution_count": 2,
   "id": "004ded09",
   "metadata": {},
   "outputs": [],
   "source": [
    "x = lwh.split(' ')"
   ]
  },
  {
   "cell_type": "code",
   "execution_count": 3,
   "id": "8972e135",
   "metadata": {},
   "outputs": [
    {
     "name": "stdout",
     "output_type": "stream",
     "text": [
      "l, w, h = ['4', '1.5', '2.5']\n"
     ]
    }
   ],
   "source": [
    "print(\"l, w, h =\", x)"
   ]
  },
  {
   "cell_type": "code",
   "execution_count": 4,
   "id": "b1275516",
   "metadata": {},
   "outputs": [],
   "source": [
    "l = float(x[0])\n",
    "w = float(x[1])\n",
    "h = float(x[2])"
   ]
  },
  {
   "cell_type": "code",
   "execution_count": 5,
   "id": "2755efa4",
   "metadata": {},
   "outputs": [
    {
     "name": "stdout",
     "output_type": "stream",
     "text": [
      "volume of a box =  15.0\n"
     ]
    }
   ],
   "source": [
    "V = l * w * h\n",
    "print(\"volume of a box = \", V)"
   ]
  },
  {
   "cell_type": "code",
   "execution_count": null,
   "id": "edf1fb95",
   "metadata": {},
   "outputs": [],
   "source": []
  }
 ],
 "metadata": {
  "authors": [
   {
    "name": "Sparisoma Viridi"
   }
  ],
  "kernelspec": {
   "display_name": "Python 3 (ipykernel)",
   "language": "python",
   "name": "python3"
  },
  "language_info": {
   "codemirror_mode": {
    "name": "ipython",
    "version": 3
   },
   "file_extension": ".py",
   "mimetype": "text/x-python",
   "name": "python",
   "nbconvert_exporter": "python",
   "pygments_lexer": "ipython3",
   "version": "3.9.12"
  },
  "title": "volume_of_a_box"
 },
 "nbformat": 4,
 "nbformat_minor": 5
}
