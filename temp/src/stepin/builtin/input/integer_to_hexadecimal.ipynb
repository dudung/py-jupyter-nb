{
 "cells": [
  {
   "cell_type": "markdown",
   "id": "c53cbe9a",
   "metadata": {},
   "source": [
    "# integer_to_hexadecimal"
   ]
  },
  {
   "cell_type": "code",
   "execution_count": 1,
   "id": "b90a92e4",
   "metadata": {},
   "outputs": [
    {
     "name": "stdout",
     "output_type": "stream",
     "text": [
      "i: 523\n"
     ]
    }
   ],
   "source": [
    "i = int(input(\"i: \"))"
   ]
  },
  {
   "cell_type": "code",
   "execution_count": 2,
   "id": "004ded09",
   "metadata": {},
   "outputs": [],
   "source": [
    "h = f\"{i:04x}\""
   ]
  },
  {
   "cell_type": "code",
   "execution_count": 3,
   "id": "13a23e50",
   "metadata": {},
   "outputs": [
    {
     "name": "stdout",
     "output_type": "stream",
     "text": [
      "020b\n"
     ]
    }
   ],
   "source": [
    "print(h)"
   ]
  },
  {
   "cell_type": "code",
   "execution_count": null,
   "id": "b1275516",
   "metadata": {},
   "outputs": [],
   "source": []
  }
 ],
 "metadata": {
  "authors": [
   {
    "name": "Sparisoma Viridi"
   }
  ],
  "kernelspec": {
   "display_name": "Python 3 (ipykernel)",
   "language": "python",
   "name": "python3"
  },
  "language_info": {
   "codemirror_mode": {
    "name": "ipython",
    "version": 3
   },
   "file_extension": ".py",
   "mimetype": "text/x-python",
   "name": "python",
   "nbconvert_exporter": "python",
   "pygments_lexer": "ipython3",
   "version": "3.9.12"
  },
  "title": "integer_to_hexadecimal"
 },
 "nbformat": 4,
 "nbformat_minor": 5
}
