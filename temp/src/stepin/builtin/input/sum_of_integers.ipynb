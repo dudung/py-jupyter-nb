{
 "cells": [
  {
   "cell_type": "markdown",
   "id": "c53cbe9a",
   "metadata": {},
   "source": [
    "# sum_of_integers"
   ]
  },
  {
   "cell_type": "code",
   "execution_count": 1,
   "id": "b90a92e4",
   "metadata": {},
   "outputs": [
    {
     "name": "stdout",
     "output_type": "stream",
     "text": [
      "Number of integers: 4\n"
     ]
    }
   ],
   "source": [
    "N = int(input(\"Number of integers: \"))"
   ]
  },
  {
   "cell_type": "code",
   "execution_count": 2,
   "id": "004ded09",
   "metadata": {},
   "outputs": [
    {
     "name": "stdout",
     "output_type": "stream",
     "text": [
      "Integer-1: 4\n",
      "Integer-2: 3\n",
      "Integer-3: 2\n",
      "Integer-4: 1\n"
     ]
    }
   ],
   "source": [
    "sumj = 0\n",
    "for i in range(N):\n",
    "    msg = f\"Integer-{i + 1}: \"\n",
    "    j = int(input(msg))\n",
    "    sumj += j"
   ]
  },
  {
   "cell_type": "code",
   "execution_count": 3,
   "id": "8972e135",
   "metadata": {},
   "outputs": [
    {
     "name": "stdout",
     "output_type": "stream",
     "text": [
      "sum of integers: 10\n"
     ]
    }
   ],
   "source": [
    "print(\"sum of integers:\", sumj)"
   ]
  },
  {
   "cell_type": "code",
   "execution_count": null,
   "id": "b1275516",
   "metadata": {},
   "outputs": [],
   "source": []
  }
 ],
 "metadata": {
  "authors": [
   {
    "name": "Sparisoma Viridi"
   }
  ],
  "kernelspec": {
   "display_name": "Python 3 (ipykernel)",
   "language": "python",
   "name": "python3"
  },
  "language_info": {
   "codemirror_mode": {
    "name": "ipython",
    "version": 3
   },
   "file_extension": ".py",
   "mimetype": "text/x-python",
   "name": "python",
   "nbconvert_exporter": "python",
   "pygments_lexer": "ipython3",
   "version": "3.9.12"
  },
  "title": "sum_of_integers"
 },
 "nbformat": 4,
 "nbformat_minor": 5
}
