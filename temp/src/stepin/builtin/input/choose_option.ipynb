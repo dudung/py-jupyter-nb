{
 "cells": [
  {
   "cell_type": "markdown",
   "id": "c53cbe9a",
   "metadata": {},
   "source": [
    "# choose_option"
   ]
  },
  {
   "cell_type": "code",
   "execution_count": 1,
   "id": "b90a92e4",
   "metadata": {},
   "outputs": [
    {
     "name": "stdout",
     "output_type": "stream",
     "text": [
      "Available numbers: (a) 100, (b) 512, (c) -351, (d) 918\n"
     ]
    }
   ],
   "source": [
    "print(\"Available numbers: (a) 100, (b) 512, (c) -351, (d) 918\")"
   ]
  },
  {
   "cell_type": "code",
   "execution_count": 2,
   "id": "004ded09",
   "metadata": {},
   "outputs": [
    {
     "name": "stdout",
     "output_type": "stream",
     "text": [
      "Your choice (a - d): b\n"
     ]
    }
   ],
   "source": [
    "choice = input(\"Your choice (a - d): \")"
   ]
  },
  {
   "cell_type": "code",
   "execution_count": 3,
   "id": "13a23e50",
   "metadata": {},
   "outputs": [
    {
     "name": "stdout",
     "output_type": "stream",
     "text": [
      "512\n"
     ]
    }
   ],
   "source": [
    "if choice == 'a':\n",
    "    print(100)\n",
    "elif choice == 'b':\n",
    "    print(512)\n",
    "elif choice == 'c':\n",
    "    print(-351)\n",
    "elif choice == 'd':\n",
    "    print(918)\n",
    "else:\n",
    "    print(\"There is not any option\", choice)"
   ]
  },
  {
   "cell_type": "code",
   "execution_count": 4,
   "id": "b1275516",
   "metadata": {},
   "outputs": [
    {
     "name": "stdout",
     "output_type": "stream",
     "text": [
      "Your choice (a - d): z\n"
     ]
    }
   ],
   "source": [
    "choice = input(\"Your choice (a - d): \")"
   ]
  },
  {
   "cell_type": "code",
   "execution_count": 5,
   "id": "3795ad29",
   "metadata": {},
   "outputs": [
    {
     "name": "stdout",
     "output_type": "stream",
     "text": [
      "There is not any option z\n"
     ]
    }
   ],
   "source": [
    "if choice == 'a':\n",
    "    print(100)\n",
    "elif choice == 'b':\n",
    "    print(512)\n",
    "elif choice == 'c':\n",
    "    print(-351)\n",
    "elif choice == 'd':\n",
    "    print(918)\n",
    "else:\n",
    "    print(\"There is not any option\", choice)"
   ]
  },
  {
   "cell_type": "code",
   "execution_count": null,
   "id": "f5c08421",
   "metadata": {},
   "outputs": [],
   "source": []
  }
 ],
 "metadata": {
  "authors": [
   {
    "name": "Sparisoma Viridi"
   }
  ],
  "kernelspec": {
   "display_name": "Python 3 (ipykernel)",
   "language": "python",
   "name": "python3"
  },
  "language_info": {
   "codemirror_mode": {
    "name": "ipython",
    "version": 3
   },
   "file_extension": ".py",
   "mimetype": "text/x-python",
   "name": "python",
   "nbconvert_exporter": "python",
   "pygments_lexer": "ipython3",
   "version": "3.9.12"
  },
  "title": "choose_option"
 },
 "nbformat": 4,
 "nbformat_minor": 5
}
