{
 "cells": [
  {
   "cell_type": "markdown",
   "id": "c53cbe9a",
   "metadata": {},
   "source": [
    "# complex_number_from_string"
   ]
  },
  {
   "cell_type": "code",
   "execution_count": 1,
   "id": "b90a92e4",
   "metadata": {},
   "outputs": [
    {
     "name": "stdout",
     "output_type": "stream",
     "text": [
      "Complex number (e.g. x+yj): -3+4j\n"
     ]
    }
   ],
   "source": [
    "num = input(\"Complex number (e.g. x+yj): \")"
   ]
  },
  {
   "cell_type": "code",
   "execution_count": 2,
   "id": "004ded09",
   "metadata": {},
   "outputs": [],
   "source": [
    "x = complex(num)"
   ]
  },
  {
   "cell_type": "code",
   "execution_count": 3,
   "id": "8972e135",
   "metadata": {},
   "outputs": [
    {
     "name": "stdout",
     "output_type": "stream",
     "text": [
      "-3+4j = (-3+4j)\n"
     ]
    }
   ],
   "source": [
    "print(num, \"=\", x)"
   ]
  },
  {
   "cell_type": "code",
   "execution_count": 4,
   "id": "b1275516",
   "metadata": {},
   "outputs": [
    {
     "name": "stdout",
     "output_type": "stream",
     "text": [
      "2 x -3+4j = (-6+8j)\n"
     ]
    }
   ],
   "source": [
    "print(\"2 x\", num, \"=\", 2*x)"
   ]
  },
  {
   "cell_type": "code",
   "execution_count": 5,
   "id": "2755efa4",
   "metadata": {},
   "outputs": [
    {
     "name": "stdout",
     "output_type": "stream",
     "text": [
      "- -3+4j = (3-4j)\n"
     ]
    }
   ],
   "source": [
    "print(\"-\", num, \"=\", -x)"
   ]
  },
  {
   "cell_type": "code",
   "execution_count": null,
   "id": "edf1fb95",
   "metadata": {},
   "outputs": [],
   "source": []
  }
 ],
 "metadata": {
  "authors": [
   {
    "name": "Sparisoma Viridi"
   }
  ],
  "kernelspec": {
   "display_name": "Python 3 (ipykernel)",
   "language": "python",
   "name": "python3"
  },
  "language_info": {
   "codemirror_mode": {
    "name": "ipython",
    "version": 3
   },
   "file_extension": ".py",
   "mimetype": "text/x-python",
   "name": "python",
   "nbconvert_exporter": "python",
   "pygments_lexer": "ipython3",
   "version": "3.9.12"
  },
  "title": "complex_number_from_string"
 },
 "nbformat": 4,
 "nbformat_minor": 5
}
