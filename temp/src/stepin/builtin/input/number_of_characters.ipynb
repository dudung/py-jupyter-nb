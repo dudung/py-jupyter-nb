{
 "cells": [
  {
   "cell_type": "markdown",
   "id": "c53cbe9a",
   "metadata": {},
   "source": [
    "# number_of_characters"
   ]
  },
  {
   "cell_type": "code",
   "execution_count": 1,
   "id": "b90a92e4",
   "metadata": {},
   "outputs": [
    {
     "name": "stdout",
     "output_type": "stream",
     "text": [
      "Input characters: abcde 1 2 3 4 5\n"
     ]
    }
   ],
   "source": [
    "chars = input(\"Input characters: \")"
   ]
  },
  {
   "cell_type": "code",
   "execution_count": 2,
   "id": "004ded09",
   "metadata": {},
   "outputs": [
    {
     "name": "stdout",
     "output_type": "stream",
     "text": [
      "Number of characters: 15\n"
     ]
    }
   ],
   "source": [
    "print(\"Number of characters:\", len(chars))"
   ]
  },
  {
   "cell_type": "code",
   "execution_count": null,
   "id": "b1275516",
   "metadata": {},
   "outputs": [],
   "source": []
  }
 ],
 "metadata": {
  "authors": [
   {
    "name": "Sparisoma Viridi"
   }
  ],
  "kernelspec": {
   "display_name": "Python 3 (ipykernel)",
   "language": "python",
   "name": "python3"
  },
  "language_info": {
   "codemirror_mode": {
    "name": "ipython",
    "version": 3
   },
   "file_extension": ".py",
   "mimetype": "text/x-python",
   "name": "python",
   "nbconvert_exporter": "python",
   "pygments_lexer": "ipython3",
   "version": "3.9.12"
  },
  "title": "number_of_characters"
 },
 "nbformat": 4,
 "nbformat_minor": 5
}
