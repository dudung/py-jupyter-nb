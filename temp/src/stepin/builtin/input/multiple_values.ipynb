{
 "cells": [
  {
   "cell_type": "code",
   "execution_count": 1,
   "id": "b90a92e4",
   "metadata": {},
   "outputs": [
    {
     "name": "stdout",
     "output_type": "stream",
     "text": [
      "x: 1 two 3 -4983 0.0001 1.2E-2 Hello\n"
     ]
    }
   ],
   "source": [
    "x = input(\"x: \")"
   ]
  },
  {
   "cell_type": "code",
   "execution_count": 2,
   "id": "004ded09",
   "metadata": {},
   "outputs": [
    {
     "name": "stdout",
     "output_type": "stream",
     "text": [
      "<class 'str'>\n"
     ]
    }
   ],
   "source": [
    "print(type(x))"
   ]
  },
  {
   "cell_type": "code",
   "execution_count": 3,
   "id": "13a23e50",
   "metadata": {},
   "outputs": [],
   "source": [
    "y = x.split()"
   ]
  },
  {
   "cell_type": "code",
   "execution_count": 4,
   "id": "b1275516",
   "metadata": {},
   "outputs": [
    {
     "name": "stdout",
     "output_type": "stream",
     "text": [
      "['1', 'two', '3', '-4983', '0.0001', '1.2E-2', 'Hello']\n"
     ]
    }
   ],
   "source": [
    "print(y)"
   ]
  },
  {
   "cell_type": "code",
   "execution_count": 5,
   "id": "e038e8a7",
   "metadata": {},
   "outputs": [
    {
     "name": "stdout",
     "output_type": "stream",
     "text": [
      "0.24\n"
     ]
    }
   ],
   "source": [
    "print(float(y[5]) * 20)"
   ]
  },
  {
   "cell_type": "code",
   "execution_count": null,
   "id": "e026c7bd",
   "metadata": {},
   "outputs": [],
   "source": []
  }
 ],
 "metadata": {
  "authors": [
   {
    "name": "Sparisoma Viridi"
   }
  ],
  "kernelspec": {
   "display_name": "Python 3 (ipykernel)",
   "language": "python",
   "name": "python3"
  },
  "language_info": {
   "codemirror_mode": {
    "name": "ipython",
    "version": 3
   },
   "file_extension": ".py",
   "mimetype": "text/x-python",
   "name": "python",
   "nbconvert_exporter": "python",
   "pygments_lexer": "ipython3",
   "version": "3.9.12"
  },
  "title": "add_two_integers"
 },
 "nbformat": 4,
 "nbformat_minor": 5
}
