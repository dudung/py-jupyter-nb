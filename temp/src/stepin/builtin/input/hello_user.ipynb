{
 "cells": [
  {
   "cell_type": "markdown",
   "id": "4f0eeceb",
   "metadata": {},
   "source": [
    "# hello_user"
   ]
  },
  {
   "cell_type": "code",
   "execution_count": 1,
   "id": "b90a92e4",
   "metadata": {},
   "outputs": [
    {
     "name": "stdout",
     "output_type": "stream",
     "text": [
      "What is your name? Isaac Bot\n"
     ]
    }
   ],
   "source": [
    "uname = input(\"What is your name? \")"
   ]
  },
  {
   "cell_type": "code",
   "execution_count": 2,
   "id": "004ded09",
   "metadata": {},
   "outputs": [
    {
     "name": "stdout",
     "output_type": "stream",
     "text": [
      "Hello, Isaac Bot! Nice to meet you.\n"
     ]
    }
   ],
   "source": [
    "print(\"Hello, \" + uname + \"! Nice to meet you.\")"
   ]
  },
  {
   "cell_type": "code",
   "execution_count": null,
   "id": "13a23e50",
   "metadata": {},
   "outputs": [],
   "source": []
  }
 ],
 "metadata": {
  "authors": [
   {
    "name": "Sparisoma Viridi"
   }
  ],
  "kernelspec": {
   "display_name": "Python 3 (ipykernel)",
   "language": "python",
   "name": "python3"
  },
  "language_info": {
   "codemirror_mode": {
    "name": "ipython",
    "version": 3
   },
   "file_extension": ".py",
   "mimetype": "text/x-python",
   "name": "python",
   "nbconvert_exporter": "python",
   "pygments_lexer": "ipython3",
   "version": "3.9.12"
  },
  "title": "hello_user"
 },
 "nbformat": 4,
 "nbformat_minor": 5
}
