{
 "cells": [
  {
   "cell_type": "markdown",
   "id": "c53cbe9a",
   "metadata": {},
   "source": [
    "# add_two_integers"
   ]
  },
  {
   "cell_type": "code",
   "execution_count": 1,
   "id": "b90a92e4",
   "metadata": {},
   "outputs": [
    {
     "name": "stdout",
     "output_type": "stream",
     "text": [
      "x: 123\n"
     ]
    }
   ],
   "source": [
    "x = int(input(\"x: \"))"
   ]
  },
  {
   "cell_type": "code",
   "execution_count": 2,
   "id": "004ded09",
   "metadata": {},
   "outputs": [
    {
     "name": "stdout",
     "output_type": "stream",
     "text": [
      "y: 77\n"
     ]
    }
   ],
   "source": [
    "y = int(input(\"y: \"))"
   ]
  },
  {
   "cell_type": "code",
   "execution_count": 3,
   "id": "13a23e50",
   "metadata": {},
   "outputs": [
    {
     "name": "stdout",
     "output_type": "stream",
     "text": [
      "123 + 77 = 200\n"
     ]
    }
   ],
   "source": [
    "print(f\"{x} + {y} = {x + y}\")"
   ]
  },
  {
   "cell_type": "code",
   "execution_count": null,
   "id": "b1275516",
   "metadata": {},
   "outputs": [],
   "source": []
  }
 ],
 "metadata": {
  "authors": [
   {
    "name": "Sparisoma Viridi"
   }
  ],
  "kernelspec": {
   "display_name": "Python 3 (ipykernel)",
   "language": "python",
   "name": "python3"
  },
  "language_info": {
   "codemirror_mode": {
    "name": "ipython",
    "version": 3
   },
   "file_extension": ".py",
   "mimetype": "text/x-python",
   "name": "python",
   "nbconvert_exporter": "python",
   "pygments_lexer": "ipython3",
   "version": "3.9.12"
  },
  "title": "add_two_integers"
 },
 "nbformat": 4,
 "nbformat_minor": 5
}
