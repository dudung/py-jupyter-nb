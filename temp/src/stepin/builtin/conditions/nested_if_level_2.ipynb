{
 "cells": [
  {
   "cell_type": "markdown",
   "id": "d4e69cf6",
   "metadata": {},
   "source": [
    "# nested_if_level_2\n",
    "If necessary the `if` statement can be nested, e.g two level."
   ]
  },
  {
   "cell_type": "code",
   "execution_count": 1,
   "id": "b7ab0ea2",
   "metadata": {},
   "outputs": [
    {
     "name": "stdout",
     "output_type": "stream",
     "text": [
      "program ends\n"
     ]
    }
   ],
   "source": [
    "a = 0\n",
    "b = 0\n",
    "\n",
    "if a > 0:\n",
    "    print(\"a > 0\")\n",
    "    \n",
    "    if b > 0:\n",
    "        print(\"b > 0\")\n",
    "\n",
    "print(\"program ends\")"
   ]
  },
  {
   "cell_type": "code",
   "execution_count": 2,
   "id": "f297ff8b",
   "metadata": {},
   "outputs": [
    {
     "name": "stdout",
     "output_type": "stream",
     "text": [
      "program ends\n"
     ]
    }
   ],
   "source": [
    "a = 0\n",
    "b = 1\n",
    "\n",
    "if a > 0:\n",
    "    print(\"a > 0\")\n",
    "    \n",
    "    if b > 0:\n",
    "        print(\"b > 0\")\n",
    "\n",
    "print(\"program ends\")"
   ]
  },
  {
   "cell_type": "code",
   "execution_count": 3,
   "id": "7993741d",
   "metadata": {},
   "outputs": [
    {
     "name": "stdout",
     "output_type": "stream",
     "text": [
      "a > 0\n",
      "b > 0\n",
      "program ends\n"
     ]
    }
   ],
   "source": [
    "a = 1\n",
    "b = 1\n",
    "\n",
    "if a > 0:\n",
    "    print(\"a > 0\")\n",
    "    \n",
    "    if b > 0:\n",
    "        print(\"b > 0\")\n",
    "\n",
    "print(\"program ends\")"
   ]
  },
  {
   "cell_type": "code",
   "execution_count": 4,
   "id": "5484dcfb",
   "metadata": {},
   "outputs": [
    {
     "name": "stdout",
     "output_type": "stream",
     "text": [
      "a > 0\n",
      "program ends\n"
     ]
    }
   ],
   "source": [
    "a = 1\n",
    "b = 0\n",
    "\n",
    "if a > 0:\n",
    "    print(\"a > 0\")\n",
    "    \n",
    "    if b > 0:\n",
    "        print(\"b > 0\")\n",
    "\n",
    "print(\"program ends\")"
   ]
  }
 ],
 "metadata": {
  "authors": [
   {
    "name": "Sparisoma Viridi"
   }
  ],
  "kernelspec": {
   "display_name": "Python 3 (ipykernel)",
   "language": "python",
   "name": "python3"
  },
  "language_info": {
   "codemirror_mode": {
    "name": "ipython",
    "version": 3
   },
   "file_extension": ".py",
   "mimetype": "text/x-python",
   "name": "python",
   "nbconvert_exporter": "python",
   "pygments_lexer": "ipython3",
   "version": "3.10.4"
  },
  "title": "nested_if_level_2"
 },
 "nbformat": 4,
 "nbformat_minor": 5
}
