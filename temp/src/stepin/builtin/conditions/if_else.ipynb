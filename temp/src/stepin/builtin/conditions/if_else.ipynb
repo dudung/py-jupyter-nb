{
 "cells": [
  {
   "cell_type": "markdown",
   "id": "d4e69cf6",
   "metadata": {},
   "source": [
    "# if_else\n",
    "Execution of a statement or group of statemens based on certain condition can be managed with `if else` statement."
   ]
  },
  {
   "cell_type": "code",
   "execution_count": 1,
   "id": "5e9eb530",
   "metadata": {},
   "outputs": [
    {
     "name": "stdout",
     "output_type": "stream",
     "text": [
      "x = 37\n",
      "it is odd\n"
     ]
    }
   ],
   "source": [
    "x = 37\n",
    "print(\"x =\", x)\n",
    "\n",
    "if(x % 2 == 1):\n",
    "    print(\"it is odd\")\n",
    "else:\n",
    "    print(\"it is even\")"
   ]
  },
  {
   "cell_type": "code",
   "execution_count": 2,
   "id": "88591415",
   "metadata": {},
   "outputs": [
    {
     "name": "stdout",
     "output_type": "stream",
     "text": [
      "x = 0\n",
      "sign =  0\n"
     ]
    }
   ],
   "source": [
    "x = 0\n",
    "#x = 3\n",
    "#x = -2\n",
    "\n",
    "print(\"x =\", x)\n",
    "\n",
    "sign = ''\n",
    "if x == 0:\n",
    "    sign = 0\n",
    "elif x > 0:\n",
    "    sign = 1\n",
    "else:\n",
    "    sign = -1\n",
    "\n",
    "print(\"sign = \", sign)"
   ]
  }
 ],
 "metadata": {
  "authors": [
   {
    "name": "Sparisoma Viridi"
   }
  ],
  "kernelspec": {
   "display_name": "Python 3 (ipykernel)",
   "language": "python",
   "name": "python3"
  },
  "language_info": {
   "codemirror_mode": {
    "name": "ipython",
    "version": 3
   },
   "file_extension": ".py",
   "mimetype": "text/x-python",
   "name": "python",
   "nbconvert_exporter": "python",
   "pygments_lexer": "ipython3",
   "version": "3.10.4"
  },
  "title": "if_else"
 },
 "nbformat": 4,
 "nbformat_minor": 5
}
