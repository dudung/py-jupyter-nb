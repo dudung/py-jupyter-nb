{
 "cells": [
  {
   "cell_type": "markdown",
   "id": "d4e69cf6",
   "metadata": {},
   "source": [
    "# nested_if_level_3\n",
    "If necessary the `if` statement can be nested, e.g three level."
   ]
  },
  {
   "cell_type": "code",
   "execution_count": 1,
   "id": "a8494946",
   "metadata": {},
   "outputs": [
    {
     "name": "stdout",
     "output_type": "stream",
     "text": [
      "6\n",
      "False False True\n"
     ]
    }
   ],
   "source": [
    "# define three parameters\n",
    "a = False\n",
    "b = False\n",
    "c = True\n",
    "\n",
    "# three level if statement\n",
    "if a:\n",
    "    if b:\n",
    "        if c:\n",
    "            # True True True\n",
    "            print(\"0\", sep= ' ')\n",
    "            print(a, b, c)\n",
    "            pass\n",
    "        else:\n",
    "            # True True False\n",
    "            print(\"1\", sep= ' ')\n",
    "            print(a, b, c)\n",
    "            pass\n",
    "    else:\n",
    "        if c:\n",
    "            # True False True\n",
    "            print(\"2\", sep= ' ')\n",
    "            print(a, b, c)\n",
    "            pass\n",
    "        else:\n",
    "            # True False False\n",
    "            print(\"3\", sep= ' ')\n",
    "            print(a, b, c)\n",
    "            pass\n",
    "else:\n",
    "    if b:\n",
    "        if c:\n",
    "            # False True True\n",
    "            print(\"4\", sep= ' ')\n",
    "            print(a, b, c)\n",
    "            pass\n",
    "        else:\n",
    "            # False True False\n",
    "            print(\"5\", sep= ' ')\n",
    "            print(a, b, c)\n",
    "            pass\n",
    "    else:\n",
    "        if c:\n",
    "            # False False True\n",
    "            print(\"6\", sep= ' ')\n",
    "            print(a, b, c)\n",
    "            pass\n",
    "        else:\n",
    "            # False False False\n",
    "            print(\"7\", sep= ' ')\n",
    "            print(a, b, c)\n",
    "            pass"
   ]
  },
  {
   "cell_type": "code",
   "execution_count": 2,
   "id": "edf83d4f",
   "metadata": {},
   "outputs": [
    {
     "name": "stdout",
     "output_type": "stream",
     "text": [
      "6 False False True\n"
     ]
    }
   ],
   "source": [
    "# define three parameters\n",
    "a = False\n",
    "b = False\n",
    "c = True\n",
    "\n",
    "# define conditions\n",
    "cond0 = a and b and c\n",
    "cond1 = a and b and not c\n",
    "cond2 = a and not b and c\n",
    "cond3 = a and not b and not c\n",
    "cond4 = a and b and c\n",
    "cond5 = not a and b and not c\n",
    "cond6 = not a and not b and c\n",
    "cond7 = not a and not b and not c\n",
    "\n",
    "# use conditions\n",
    "if cond0:\n",
    "    print(\"0\", a, b, c)\n",
    "elif cond1:\n",
    "    print(\"1\", a, b, c)\n",
    "elif cond2:\n",
    "    print(\"2\", a, b, c)\n",
    "elif cond3:\n",
    "    print(\"3\", a, b, c)\n",
    "elif cond4:\n",
    "    print(\"4\", a, b, c)\n",
    "elif cond5:\n",
    "    print(\"5\", a, b, c)\n",
    "elif cond6:\n",
    "    print(\"6\", a, b, c)\n",
    "else:\n",
    "    print(\"7\", a, b, c)\n"
   ]
  }
 ],
 "metadata": {
  "authors": [
   {
    "name": "Sparisoma Viridi"
   }
  ],
  "kernelspec": {
   "display_name": "Python 3 (ipykernel)",
   "language": "python",
   "name": "python3"
  },
  "language_info": {
   "codemirror_mode": {
    "name": "ipython",
    "version": 3
   },
   "file_extension": ".py",
   "mimetype": "text/x-python",
   "name": "python",
   "nbconvert_exporter": "python",
   "pygments_lexer": "ipython3",
   "version": "3.10.4"
  },
  "title": "nested_if_level_3"
 },
 "nbformat": 4,
 "nbformat_minor": 5
}
