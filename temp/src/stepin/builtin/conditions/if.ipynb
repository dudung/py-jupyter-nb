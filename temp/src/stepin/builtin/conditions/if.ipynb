{
 "cells": [
  {
   "cell_type": "markdown",
   "id": "d4e69cf6",
   "metadata": {},
   "source": [
    "# if\n",
    "Execution of a statement or group of statemens based on certain condition can be managed with `if` statement."
   ]
  },
  {
   "cell_type": "code",
   "execution_count": 1,
   "id": "9b1de02b",
   "metadata": {},
   "outputs": [
    {
     "name": "stdout",
     "output_type": "stream",
     "text": [
      "begin program\n",
      "x = -1\n",
      "end program\n"
     ]
    }
   ],
   "source": [
    "print(\"begin program\")\n",
    "x = -1\n",
    "print(\"x =\", x)\n",
    "\n",
    "if x > 0:\n",
    "    print(\"This will be shown only when x is positive\")\n",
    "print(\"end program\")"
   ]
  },
  {
   "cell_type": "code",
   "execution_count": 2,
   "id": "23fbc442",
   "metadata": {},
   "outputs": [
    {
     "name": "stdout",
     "output_type": "stream",
     "text": [
      "begin program\n",
      "x = 1\n",
      "This will be shown only when x is positive\n",
      "end program\n"
     ]
    }
   ],
   "source": [
    "print(\"begin program\")\n",
    "x = 1\n",
    "print(\"x =\", x)\n",
    "\n",
    "if x > 0:\n",
    "    print(\"This will be shown only when x is positive\")\n",
    "print(\"end program\")"
   ]
  }
 ],
 "metadata": {
  "authors": [
   {
    "name": "Sparisoma Viridi"
   }
  ],
  "kernelspec": {
   "display_name": "Python 3 (ipykernel)",
   "language": "python",
   "name": "python3"
  },
  "language_info": {
   "codemirror_mode": {
    "name": "ipython",
    "version": 3
   },
   "file_extension": ".py",
   "mimetype": "text/x-python",
   "name": "python",
   "nbconvert_exporter": "python",
   "pygments_lexer": "ipython3",
   "version": "3.10.4"
  },
  "title": "if"
 },
 "nbformat": 4,
 "nbformat_minor": 5
}
