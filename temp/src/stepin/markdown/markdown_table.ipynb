{
 "cells": [
  {
   "cell_type": "markdown",
   "id": "d4e69cf6",
   "metadata": {},
   "source": [
    "# markdown_table\n",
    "Display table using Markdown in a Jupyter Notebook."
   ]
  },
  {
   "cell_type": "markdown",
   "id": "494931e4",
   "metadata": {},
   "source": [
    "```markdown\n",
    "Var | Min | Avg | Max\n",
    ":-: | :-: | :-: | :-:\n",
    "a | 0 | 5.5 | 11\n",
    "b | 1 | 4.5 | 9\n",
    "c | 2 | 8.2 | 14\n",
    "```"
   ]
  },
  {
   "cell_type": "markdown",
   "id": "4d47586e",
   "metadata": {},
   "source": [
    "Var | Min | Avg | Max\n",
    ":-: | :-: | :-: | :-:\n",
    "a | 0 | 5.5 | 11\n",
    "b | 1 | 4.5 | 9\n",
    "c | 2 | 8.2 | 14"
   ]
  }
 ],
 "metadata": {
  "authors": [
   {
    "name": "Sparisoma Viridi"
   }
  ],
  "kernelspec": {
   "display_name": "Python 3 (ipykernel)",
   "language": "python",
   "name": "python3"
  },
  "language_info": {
   "codemirror_mode": {
    "name": "ipython",
    "version": 3
   },
   "file_extension": ".py",
   "mimetype": "text/x-python",
   "name": "python",
   "nbconvert_exporter": "python",
   "pygments_lexer": "ipython3",
   "version": "3.10.4"
  },
  "title": "markdown_table"
 },
 "nbformat": 4,
 "nbformat_minor": 5
}
