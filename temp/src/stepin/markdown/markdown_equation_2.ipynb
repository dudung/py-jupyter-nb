{
 "cells": [
  {
   "cell_type": "markdown",
   "id": "d4e69cf6",
   "metadata": {},
   "source": [
    "# markdown_equation_2\n",
    "Display equation using Markdown in a Jupyter Notebook."
   ]
  },
  {
   "cell_type": "code",
   "execution_count": 1,
   "id": "dd5966a1",
   "metadata": {},
   "outputs": [
    {
     "name": "stdout",
     "output_type": "stream",
     "text": [
      "Hello, World!\n"
     ]
    }
   ],
   "source": [
    "print(\"Hello, World!\")"
   ]
  },
  {
   "cell_type": "markdown",
   "id": "c7ed09dc",
   "metadata": {},
   "source": [
    "```\n",
    "$y = ax^2 + bx + c$\n",
    "```\n",
    "$y = ax^2 + bx + c$"
   ]
  },
  {
   "cell_type": "markdown",
   "id": "03b50533",
   "metadata": {},
   "source": [
    "```\n",
    "\\begin{equation}\n",
    "x_{1,2} = \\frac{-b \\pm \\sqrt{b^2 - 4ac}}{2a}\n",
    "\\end{equation}\n",
    "```\n",
    "\n",
    "\\begin{equation}\n",
    "x_{1,2} = \\frac{-b \\pm \\sqrt{b^2 - 4ac}}{2a}\n",
    "\\end{equation}"
   ]
  },
  {
   "cell_type": "code",
   "execution_count": 7,
   "id": "cb2a92a9",
   "metadata": {},
   "outputs": [
    {
     "name": "stdout",
     "output_type": "stream",
     "text": [
      "x1 = 3.0\n",
      "x2 = 2.0\n"
     ]
    }
   ],
   "source": [
    "# y = (x - 2)(x - 3) = x^2 - 5x + 6\n",
    "a = 1\n",
    "b = -5\n",
    "c = 6\n",
    "\n",
    "D = b*b - 4*a*c\n",
    "\n",
    "import numpy as np\n",
    "\n",
    "## Can only handle real roots\n",
    "x1 = (-b + np.sqrt(D)) / (2*a)\n",
    "x2 = (-b - np.sqrt(D)) / (2*a)\n",
    "\n",
    "print(\"x1 =\", x1)\n",
    "print(\"x2 =\", x2)"
   ]
  },
  {
   "cell_type": "code",
   "execution_count": 11,
   "id": "1d742756",
   "metadata": {},
   "outputs": [
    {
     "name": "stdout",
     "output_type": "stream",
     "text": [
      "x1 = 0.0  + i 2.0\n",
      "x2 = 0.0  - i 2.0\n"
     ]
    }
   ],
   "source": [
    "# y = x^2 + 4\n",
    "a = 1\n",
    "b = 0\n",
    "c = 4\n",
    "\n",
    "D = b*b - 4*a*c\n",
    "\n",
    "import numpy as np\n",
    "\n",
    "# Can handle imaginary roots\n",
    "if D < 0:\n",
    "    im = np.sqrt(-D) / (2*a)\n",
    "    re = -b / (2*a)\n",
    "    \n",
    "    print(\"x1 =\", re, \" + i\", im)\n",
    "    print(\"x2 =\", re, \" - i\", im)\n",
    "else:\n",
    "    x1 = (-b + np.sqrt(D)) / (2*a)\n",
    "    x2 = (-b - np.sqrt(D)) / (2*a)\n",
    "\n",
    "    print(\"x1 =\", x1)\n",
    "    print(\"x2 =\", x2)"
   ]
  },
  {
   "cell_type": "markdown",
   "id": "06899c76",
   "metadata": {},
   "source": [
    "$x = \\{1, 2, 3, 4, 5\\}$\n",
    "\n",
    "\\begin{equation}\n",
    "y = \\sum_{i = 1}^5 x_i\n",
    "\\end{equation}"
   ]
  },
  {
   "cell_type": "code",
   "execution_count": 16,
   "id": "a914ec7a",
   "metadata": {},
   "outputs": [
    {
     "name": "stdout",
     "output_type": "stream",
     "text": [
      "y = 55\n"
     ]
    }
   ],
   "source": [
    "x =[1, 2, 3, 4, 5, 6, 7, 8, 9, 10]\n",
    "y = sum(x)\n",
    "print(\"y =\", y)"
   ]
  },
  {
   "cell_type": "code",
   "execution_count": 17,
   "id": "54c3be6b",
   "metadata": {},
   "outputs": [
    {
     "name": "stdout",
     "output_type": "stream",
     "text": [
      "z = 55\n"
     ]
    }
   ],
   "source": [
    "z = 0\n",
    "for i in x:\n",
    "    z = z + i\n",
    "print(\"z =\", z)"
   ]
  },
  {
   "cell_type": "markdown",
   "id": "dd975e3c",
   "metadata": {},
   "source": [
    "## hukum II Newton\n",
    "\n",
    "Sebuah benda bermassa $m = 2 \\ \\rm kg$ mendapatkan gaya $F_1 = 10 \\ \\rm N$ dan gaya tersebut merupakan satu-satunya gaya yang bekerja.\n",
    "\n",
    "+ Tentukanlah percepatan benda dengan hukum II Newton.\n",
    "+ Tentukan pula kecepatan benda saat $t$ bila pada $t = 0 \\ \\rm s$ kecepatan benda adalah 1 m/s.\n",
    "+ Tentukan posisi benda saat $t$ bila pada $t = 0 \\ \\rm s$ posisi benda adalah 2 m.\n"
   ]
  },
  {
   "cell_type": "markdown",
   "id": "1cd503d5",
   "metadata": {},
   "source": [
    "Menurut hukum II Newton\n",
    "\n",
    "\\begin{equation}\n",
    "\\begin{array}{rcl}\n",
    "\\sum F & = & ma \\newline\n",
    "F_1 & = & \\newline\n",
    "\\displaystyle \\frac{F_1}{m} & = & a\n",
    "\\end{array}\n",
    "\\end{equation}\n"
   ]
  },
  {
   "cell_type": "code",
   "execution_count": 19,
   "id": "9ae62b29",
   "metadata": {},
   "outputs": [
    {
     "name": "stdout",
     "output_type": "stream",
     "text": [
      "a =  5.0 m/s^2\n"
     ]
    }
   ],
   "source": [
    "m = 2 # kg\n",
    "F = 10 # N\n",
    "a = ( F ) / m\n",
    "print(\"a = \", a, \"m/s^2\")"
   ]
  },
  {
   "cell_type": "markdown",
   "id": "0399f726",
   "metadata": {},
   "source": [
    "\\begin{equation}\n",
    "\\begin{array}{rcl}\n",
    "\\displaystyle v(t) - v(t_0) & = & \\displaystyle \\int_{t_0}^t a \\ dt \\newline\n",
    "\\displaystyle v(t) - 1 & = & \\displaystyle \\int_{t_0}^t 5 \\ dt \\newline\n",
    "\\displaystyle v(t) & = & 1 + \\displaystyle \\int_{t_0}^t 5 \\ dt \\newline\n",
    "& = & 1 + [5t]_{t_0}^t \\newline\n",
    "& = & 1 + [5t]_0^t \\newline\n",
    "& = & 1 + 5(t - 0) \\newline\n",
    "& = & 1 + 5t\n",
    "\\end{array}\n",
    "\\end{equation}\n"
   ]
  },
  {
   "cell_type": "markdown",
   "id": "6a4ea25e",
   "metadata": {},
   "source": [
    "\\begin{equation}\n",
    "\\begin{array}{rcl}\n",
    "\\displaystyle x(t) - x(t_0) & = & \\displaystyle \\int_{t_0}^t v \\ dt \\newline\n",
    "\\displaystyle x(t) - 2 & = & \\displaystyle \\int_{t_0}^t (1 + 5t) \\ dt \\newline\n",
    "\\displaystyle x(t) & = & 2 + \\displaystyle \\int_{t_0}^t (1 + 5t) \\ dt \\newline\n",
    "& = & 2 + [t + 2.5t^2]_{t_0}^t \\newline\n",
    "& = & 2 + [t + 2.5t^2]_0^t \\newline\n",
    "& = & 2 + (t - 0) + 2.5(t^2 - 0) \\newline\n",
    "& = & 2 + t + 2.5t^2\n",
    "\\end{array}\n",
    "\\end{equation}\n"
   ]
  }
 ],
 "metadata": {
  "authors": [
   {
    "name": "Sparisoma Viridi"
   }
  ],
  "kernelspec": {
   "display_name": "Python 3 (ipykernel)",
   "language": "python",
   "name": "python3"
  },
  "language_info": {
   "codemirror_mode": {
    "name": "ipython",
    "version": 3
   },
   "file_extension": ".py",
   "mimetype": "text/x-python",
   "name": "python",
   "nbconvert_exporter": "python",
   "pygments_lexer": "ipython3",
   "version": "3.9.12"
  },
  "title": "markdown_equation_2"
 },
 "nbformat": 4,
 "nbformat_minor": 5
}
