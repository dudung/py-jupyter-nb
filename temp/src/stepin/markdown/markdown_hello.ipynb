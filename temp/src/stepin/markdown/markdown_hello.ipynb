{
 "cells": [
  {
   "cell_type": "markdown",
   "id": "d4e69cf6",
   "metadata": {},
   "source": [
    "# markdown_hello\n",
    "Show 'Hello, Word!' message using Markdown in a Jupyter Notebook."
   ]
  },
  {
   "cell_type": "markdown",
   "id": "f1eada23",
   "metadata": {},
   "source": [
    "```markdown\n",
    "Hello, World!\n",
    "```"
   ]
  },
  {
   "cell_type": "markdown",
   "id": "aef03b9d",
   "metadata": {},
   "source": [
    "Hello, World!"
   ]
  }
 ],
 "metadata": {
  "authors": [
   {
    "name": "Sparisoma Viridi"
   }
  ],
  "kernelspec": {
   "display_name": "Python 3 (ipykernel)",
   "language": "python",
   "name": "python3"
  },
  "language_info": {
   "codemirror_mode": {
    "name": "ipython",
    "version": 3
   },
   "file_extension": ".py",
   "mimetype": "text/x-python",
   "name": "python",
   "nbconvert_exporter": "python",
   "pygments_lexer": "ipython3",
   "version": "3.10.4"
  },
  "title": "markdown_hello"
 },
 "nbformat": 4,
 "nbformat_minor": 5
}
