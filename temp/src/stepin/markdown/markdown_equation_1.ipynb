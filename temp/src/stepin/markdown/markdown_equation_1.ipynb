{
 "cells": [
  {
   "cell_type": "markdown",
   "id": "d4e69cf6",
   "metadata": {},
   "source": [
    "# markdown_equation_1\n",
    "Display equation using Markdown in a Jupyter Notebook."
   ]
  },
  {
   "cell_type": "markdown",
   "id": "c8eb4956",
   "metadata": {},
   "source": [
    "## fraction\n",
    "```markdown\n",
    "\\begin{equation}\n",
    "z = \\frac{x + 1}{y - 1}\n",
    "\\end{equation}\n",
    "```"
   ]
  },
  {
   "cell_type": "markdown",
   "id": "d05f5566",
   "metadata": {},
   "source": [
    "\\begin{equation}\n",
    "z = \\frac{x + 1}{y - 1}\n",
    "\\end{equation}"
   ]
  },
  {
   "cell_type": "markdown",
   "id": "9ccabbd0",
   "metadata": {},
   "source": [
    "## root\n",
    "```markdown\n",
    "\\begin{equation}\n",
    "z = \\sqrt[3]{x + y - 5}\n",
    "\\end{equation}\n",
    "```"
   ]
  },
  {
   "cell_type": "markdown",
   "id": "42516226",
   "metadata": {},
   "source": [
    "\\begin{equation}\n",
    "z = \\sqrt[3]{x + y - 5}\n",
    "\\end{equation}"
   ]
  },
  {
   "cell_type": "markdown",
   "id": "41934077",
   "metadata": {},
   "source": [
    "## matrix\n",
    "```markdown\n",
    "\\begin{equation}\n",
    "\\mathbf{Z} = \\left(\n",
    "\\begin{array}{cccc}\n",
    "1 & 2 & 3 & 4 \\newline\n",
    "3 & 4 & 5 & 8 \\newline\n",
    "8 & 3 & 7 & 5 \\newline\n",
    "1 & 9 & 1 & 1\n",
    "\\end{array}\n",
    "\\right)\n",
    "\\end{equation}\n",
    "```"
   ]
  },
  {
   "cell_type": "markdown",
   "id": "d4946d7a",
   "metadata": {},
   "source": [
    "\\begin{equation}\n",
    "\\mathbf{Z} = \\left(\n",
    "\\begin{array}{cccc}\n",
    "1 & 2 & 3 & 4 \\newline\n",
    "3 & 4 & 5 & 8 \\newline\n",
    "8 & 3 & 7 & 5 \\newline\n",
    "1 & 9 & 1 & 1\n",
    "\\end{array}\n",
    "\\right)\n",
    "\\end{equation}"
   ]
  },
  {
   "cell_type": "markdown",
   "id": "88e45900",
   "metadata": {},
   "source": [
    "## vector\n",
    "```markdown\n",
    "\\begin{equation}\n",
    "\\vec{r} = (2 - t) \\hat{x} + (t^2 + 4) \\hat{y} + t(t + 1.5) \\hat{z}\n",
    "\\end{equation}\n",
    "```"
   ]
  },
  {
   "cell_type": "markdown",
   "id": "cb45d811",
   "metadata": {},
   "source": [
    "\\begin{equation}\n",
    "\\vec{r} = (2 - t) \\hat{x} + (t^2 + 4) \\hat{y} + t(t + 1.5) \\hat{z}\n",
    "\\end{equation}"
   ]
  },
  {
   "cell_type": "markdown",
   "id": "bca98782",
   "metadata": {},
   "source": [
    "## integral\n",
    "```markdown\n",
    "\\begin{equation}\n",
    "F(b) - F(a) = \\int_a^b f(x) \\ dx\n",
    "\\end{equation}\n",
    "```"
   ]
  },
  {
   "cell_type": "markdown",
   "id": "be64bcb8",
   "metadata": {},
   "source": [
    "\\begin{equation}\n",
    "F(b) - F(a) = \\int_a^b f(x) \\ dx\n",
    "\\end{equation}"
   ]
  },
  {
   "cell_type": "markdown",
   "id": "a7c743b0",
   "metadata": {},
   "source": [
    "## summation\n",
    "```markdown\n",
    "\\begin{equation}\n",
    "H = \\sum_{n = 0}^N \\tfrac{1}{n!} (n^2 - 5n + 3)\n",
    "\\end{equation}\n",
    "```"
   ]
  },
  {
   "cell_type": "markdown",
   "id": "6e8120f5",
   "metadata": {},
   "source": [
    "\\begin{equation}\n",
    "H = \\sum_{n = 0}^N \\tfrac{1}{n!} (n^2 - 5n + 3)\n",
    "\\end{equation}"
   ]
  }
 ],
 "metadata": {
  "authors": [
   {
    "name": "Sparisoma Viridi"
   }
  ],
  "kernelspec": {
   "display_name": "Python 3 (ipykernel)",
   "language": "python",
   "name": "python3"
  },
  "language_info": {
   "codemirror_mode": {
    "name": "ipython",
    "version": 3
   },
   "file_extension": ".py",
   "mimetype": "text/x-python",
   "name": "python",
   "nbconvert_exporter": "python",
   "pygments_lexer": "ipython3",
   "version": "3.10.4"
  },
  "title": "markdown_equation_1"
 },
 "nbformat": 4,
 "nbformat_minor": 5
}
