{
 "cells": [
  {
   "cell_type": "markdown",
   "id": "d4e69cf6",
   "metadata": {},
   "source": [
    "# html_canvas\n",
    "Examples how to rendered a HTML Canvas."
   ]
  },
  {
   "cell_type": "markdown",
   "id": "410f07d0",
   "metadata": {},
   "source": [
    "## a html canvas"
   ]
  },
  {
   "cell_type": "code",
   "execution_count": 1,
   "id": "0cd55a88",
   "metadata": {
    "scrolled": true
   },
   "outputs": [
    {
     "data": {
      "text/html": [
       "\n",
       "<canvas id='drawingCanvas'\n",
       "style='border: 1px dashed #aaa; background:#fafafa;'>\n",
       "</canvas>\n",
       "\n",
       "<script>\n",
       "var can = document.getElementById('drawingCanvas');\n",
       "var cx = can.getContext('2d');\n",
       "cx.font = \"20px Times\";\n",
       "cx.fillStyle = \"#44c\";\n",
       "cx.fillText(\"Hello World!\", 60, 60);\n",
       "\n",
       "cx.strokeStyle = '#f8f';\n",
       "cx.lineWidth = '4';\n",
       "cx.beginPath();\n",
       "cx.arc(60, 65, 50, 0, 1.5 * Math.PI);\n",
       "cx.stroke();\n",
       "\n",
       "cx.strokeStyle = '#cc0';\n",
       "cx.lineWidth = '1';\n",
       "cx.rect(150, 80, 120, 40);\n",
       "cx.stroke();\n",
       "\n",
       "cx.lineWidth = '0.5';\n",
       "cx.strokeStyle = '#0c0';\n",
       "cx.beginPath();\n",
       "cx.moveTo(200, 60);\n",
       "cx.lineTo(200, 40);\n",
       "cx.lineTo(220, 40);\n",
       "cx.lineTo(220, 20);\n",
       "cx.lineTo(240, 20);\n",
       "cx.stroke();\n",
       "\n",
       "</script>\n"
      ],
      "text/plain": [
       "<IPython.core.display.HTML object>"
      ]
     },
     "execution_count": 1,
     "metadata": {},
     "output_type": "execute_result"
    }
   ],
   "source": [
    "from IPython.display import HTML\n",
    "HTML('''\n",
    "<canvas id='drawingCanvas'\n",
    "style='border: 1px dashed #aaa; background:#fafafa;'>\n",
    "</canvas>\n",
    "\n",
    "<script>\n",
    "var can = document.getElementById('drawingCanvas');\n",
    "var cx = can.getContext('2d');\n",
    "cx.font = \"20px Times\";\n",
    "cx.fillStyle = \"#44c\";\n",
    "cx.fillText(\"Hello World!\", 60, 60);\n",
    "\n",
    "cx.strokeStyle = '#f8f';\n",
    "cx.lineWidth = '4';\n",
    "cx.beginPath();\n",
    "cx.arc(60, 65, 50, 0, 1.5 * Math.PI);\n",
    "cx.stroke();\n",
    "\n",
    "cx.strokeStyle = '#cc0';\n",
    "cx.lineWidth = '1';\n",
    "cx.rect(150, 80, 120, 40);\n",
    "cx.stroke();\n",
    "\n",
    "cx.lineWidth = '0.5';\n",
    "cx.strokeStyle = '#0c0';\n",
    "cx.beginPath();\n",
    "cx.moveTo(200, 60);\n",
    "cx.lineTo(200, 40);\n",
    "cx.lineTo(220, 40);\n",
    "cx.lineTo(220, 20);\n",
    "cx.lineTo(240, 20);\n",
    "cx.stroke();\n",
    "\n",
    "</script>\n",
    "''')"
   ]
  },
  {
   "cell_type": "markdown",
   "id": "ed8f339b",
   "metadata": {},
   "source": [
    "See rendered result of [html_canvas.ipynb](https://nbviewer.org/github/dudung/python-jupyter-notebook/blob/main/html/html_canvas.ipynb?flush_cache=True) at [nbviewer](https://nbviewer.org)."
   ]
  }
 ],
 "metadata": {
  "authors": [
   {
    "name": "Sparisoma Viridi"
   }
  ],
  "kernelspec": {
   "display_name": "Python 3 (ipykernel)",
   "language": "python",
   "name": "python3"
  },
  "language_info": {
   "codemirror_mode": {
    "name": "ipython",
    "version": 3
   },
   "file_extension": ".py",
   "mimetype": "text/x-python",
   "name": "python",
   "nbconvert_exporter": "python",
   "pygments_lexer": "ipython3",
   "version": "3.10.4"
  },
  "title": "html_hello_world"
 },
 "nbformat": 4,
 "nbformat_minor": 5
}
