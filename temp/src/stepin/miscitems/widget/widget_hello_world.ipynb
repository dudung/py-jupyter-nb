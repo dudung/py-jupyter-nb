{
 "cells": [
  {
   "cell_type": "markdown",
   "id": "d4e69cf6",
   "metadata": {},
   "source": [
    "# widget_hello_world\n",
    "Examples how use widget in Jupyter Notebook using Python to show \"Hello, World!\" message."
   ]
  },
  {
   "cell_type": "markdown",
   "id": "410f07d0",
   "metadata": {},
   "source": [
    "## button and textarea"
   ]
  },
  {
   "cell_type": "code",
   "execution_count": 1,
   "id": "0cd55a88",
   "metadata": {},
   "outputs": [
    {
     "data": {
      "application/vnd.jupyter.widget-view+json": {
       "model_id": "78cfc3399eb84016b1434608f02980f2",
       "version_major": 2,
       "version_minor": 0
      },
      "text/plain": [
       "Button(button_style='success', description='say hello', style=ButtonStyle())"
      ]
     },
     "metadata": {},
     "output_type": "display_data"
    },
    {
     "data": {
      "application/vnd.jupyter.widget-view+json": {
       "model_id": "a22b36d64b974df0862d91ec558593c3",
       "version_major": 2,
       "version_minor": 0
      },
      "text/plain": [
       "Textarea(value='')"
      ]
     },
     "metadata": {},
     "output_type": "display_data"
    }
   ],
   "source": [
    "import ipywidgets as widgets\n",
    "from IPython.display import display\n",
    "\n",
    "btn = widgets.Button(description='say hello', button_style='success')\n",
    "ta = widgets.Textarea()\n",
    "\n",
    "display(btn, ta)\n",
    "        \n",
    "def btn_click(b):\n",
    "    ta.value = \"Hello, World!\"\n",
    "\n",
    "btn.on_click(btn_click)"
   ]
  }
 ],
 "metadata": {
  "authors": [
   {
    "name": "Sparisoma Viridi"
   }
  ],
  "kernelspec": {
   "display_name": "Python 3 (ipykernel)",
   "language": "python",
   "name": "python3"
  },
  "language_info": {
   "codemirror_mode": {
    "name": "ipython",
    "version": 3
   },
   "file_extension": ".py",
   "mimetype": "text/x-python",
   "name": "python",
   "nbconvert_exporter": "python",
   "pygments_lexer": "ipython3",
   "version": "3.10.4"
  },
  "title": "widget_hello_world"
 },
 "nbformat": 4,
 "nbformat_minor": 5
}
