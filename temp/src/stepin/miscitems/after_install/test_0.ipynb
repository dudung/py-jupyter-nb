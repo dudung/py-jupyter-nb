{
 "cells": [
  {
   "cell_type": "markdown",
   "id": "d4e69cf6",
   "metadata": {},
   "source": [
    "# test_0\n",
    "Test import pandas due to installation of chatterbot."
   ]
  },
  {
   "cell_type": "markdown",
   "id": "8e5249c1",
   "metadata": {},
   "source": [
    "## install chatterbot\n",
    "```\n",
    "ChatterBot-1.0.4 PyYAML-3.13 chatterbot-corpus-1.2.0 click-8.1.3 joblib-1.2.0 mathparse-0.1.2 nltk-3.8.1 pint-0.20.1 pymongo-3.13.0 python-dateutil-2.7.5 regex-2022.10.31 sqlalchemy-1.2.19 tqdm-4.64.1\n",
    "\n",
    "ERROR: pip's dependency resolver does not currently take into account all the packages that are installed. This behaviour is the source of the following dependency conflicts.\n",
    "pandas 1.4.2 requires python-dateutil>=2.8.1, but you have python-dateutil 2.7.5 which is incompatible.\n",
    "jupyter-client 7.2.1 requires python-dateutil>=2.8.2, but you have python-dateutil 2.7.5 which is incompatibl\n",
    "\n",
    "Requirement already satisfied: six>=1.5 in c:\\users\\sparisoma viridi\\appdata\\local\\packages\\pythonsoftwarefoundation.python.3.10_qbz5n2kfra8p0\\localcache\\local-packages\\python310\\site-packages (from python-dateutil<2.8,>=2.7->ChatterBot==1.0.4) (1.16.0)\n",
    "\n",
    "Requirement already satisfied: colorama in c:\\users\\sparisoma viridi\\appdata\\local\\packages\\pythonsoftwarefoundation.python.3.10_qbz5n2kfra8p0\\localcache\\local-packages\\python310\\site-packages (from click->nltk<4.0,>=3.2->ChatterBot==1.0.4) (0.4.4)\n",
    "```\n",
    "+ Not tested to import `pandas`."
   ]
  },
  {
   "cell_type": "markdown",
   "id": "6e7d4226",
   "metadata": {},
   "source": [
    "## upgdare python-dateutil\n",
    "```\n",
    "PS L:\\home\\py-jupyter-nb> pip install python-dateutil --upgrade\n",
    "Requirement already satisfied: python-dateutil in c:\\users\\sparisoma viridi\\appdata\\local\\packages\\pythonsoftwarefoundation.python.3.10_qbz5n2kfra8p0\\localcache\\local-packages\\python310\\site-packages (2.7.5)\n",
    "Collecting python-dateutil\n",
    "  Using cached python_dateutil-2.8.2-py2.py3-none-any.whl (247 kB)\n",
    "Requirement already satisfied: six>=1.5 in c:\\users\\sparisoma viridi\\appdata\\local\\packages\\pythonsoftwarefoundation.python.3.10_qbz5n2kfra8p0\\localcache\\local-packages\\python310\\site-packages (from python-dateutil) (1.16.0)\n",
    "Installing collected packages: python-dateutil\n",
    "  Attempting uninstall: python-dateutil\n",
    "    Found existing installation: python-dateutil 2.7.5\n",
    "    Uninstalling python-dateutil-2.7.5:\n",
    "      Successfully uninstalled python-dateutil-2.7.\n",
    "\n",
    "ERROR: pip's dependency resolver does not currently take into account all the packages that are installed. This behaviour is the source of the following dependency conflicts.\n",
    "chatterbot 1.0.4 requires python-dateutil<2.8,>=2.7, but you have python-dateutil 2.8.2 which is incompatible.\n",
    "```\n",
    "+ Not tested to import `chatterbot`."
   ]
  },
  {
   "cell_type": "markdown",
   "id": "62bff599",
   "metadata": {},
   "source": [
    "## import pandas"
   ]
  },
  {
   "cell_type": "code",
   "execution_count": 1,
   "id": "9520cb07",
   "metadata": {},
   "outputs": [
    {
     "name": "stdout",
     "output_type": "stream",
     "text": [
      "    x   y\n",
      "0   1  10\n",
      "1   2   9\n",
      "2   3   8\n",
      "3   4   7\n",
      "4   5   6\n",
      "5   6   5\n",
      "6   7   4\n",
      "7   8   3\n",
      "8   9   2\n",
      "9  10   1\n"
     ]
    }
   ],
   "source": [
    "import pandas as pd\n",
    "df = pd.read_excel('data/test_0.xlsx')\n",
    "print(df)"
   ]
  },
  {
   "cell_type": "code",
   "execution_count": 2,
   "id": "b99fa701",
   "metadata": {},
   "outputs": [
    {
     "name": "stdout",
     "output_type": "stream",
     "text": [
      "y = [10, 9, 8, 7, 6, 5, 4, 3, 2, 1]\n"
     ]
    }
   ],
   "source": [
    "y = df['y'].tolist()\n",
    "print(\"y =\", y)"
   ]
  },
  {
   "cell_type": "code",
   "execution_count": null,
   "id": "c5d7c6bd",
   "metadata": {},
   "outputs": [],
   "source": []
  }
 ],
 "metadata": {
  "authors": [
   {
    "name": "Sparisoma Viridi"
   }
  ],
  "kernelspec": {
   "display_name": "Python 3 (ipykernel)",
   "language": "python",
   "name": "python3"
  },
  "language_info": {
   "codemirror_mode": {
    "name": "ipython",
    "version": 3
   },
   "file_extension": ".py",
   "mimetype": "text/x-python",
   "name": "python",
   "nbconvert_exporter": "python",
   "pygments_lexer": "ipython3",
   "version": "3.10.9"
  },
  "title": "test_0"
 },
 "nbformat": 4,
 "nbformat_minor": 5
}
