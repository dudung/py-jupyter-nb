{
 "cells": [
  {
   "cell_type": "markdown",
   "id": "b774ddd7",
   "metadata": {},
   "source": [
    "# if print odd or even\n",
    "Print odd or even of a given number [1]."
   ]
  },
  {
   "cell_type": "code",
   "execution_count": 1,
   "id": "ffe0a408",
   "metadata": {},
   "outputs": [
    {
     "name": "stdout",
     "output_type": "stream",
     "text": [
      "The given integer number is even\n"
     ]
    }
   ],
   "source": [
    "i = 4\n",
    "if i % 2 == 1:\n",
    "    print(\"The given integer number is odd\")\n",
    "else:\n",
    "    print(\"The given integer number is even\")"
   ]
  },
  {
   "cell_type": "code",
   "execution_count": 2,
   "id": "da547fd3",
   "metadata": {},
   "outputs": [
    {
     "name": "stdout",
     "output_type": "stream",
     "text": [
      "The given integer number is odd\n"
     ]
    }
   ],
   "source": [
    "i = 7\n",
    "if i % 2 == 1:\n",
    "    print(\"The given integer number is odd\")\n",
    "else:\n",
    "    print(\"The given integer number is even\")"
   ]
  },
  {
   "cell_type": "markdown",
   "id": "f469ccaf",
   "metadata": {},
   "source": [
    "## references\n",
    "1. Vikky Omkar, \"3 ways to find if a number is Odd/Even in Python\", Dev.to, 27 Aug 2020, url https://dev.to/vikkyomkar/3-ways-to-find-if-a-number-is-odd-even-in-python-1ao7 [20221115]."
   ]
  }
 ],
 "metadata": {
  "authors": [
   {
    "name": "Sparisoma Viridi"
   }
  ],
  "kernelspec": {
   "display_name": "Python 3 (ipykernel)",
   "language": "python",
   "name": "python3"
  },
  "language_info": {
   "codemirror_mode": {
    "name": "ipython",
    "version": 3
   },
   "file_extension": ".py",
   "mimetype": "text/x-python",
   "name": "python",
   "nbconvert_exporter": "python",
   "pygments_lexer": "ipython3",
   "version": "3.10.8"
  },
  "title": "if_print_int"
 },
 "nbformat": 4,
 "nbformat_minor": 5
}
