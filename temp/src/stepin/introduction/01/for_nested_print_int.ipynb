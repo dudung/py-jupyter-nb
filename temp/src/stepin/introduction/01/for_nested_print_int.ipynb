{
 "cells": [
  {
   "cell_type": "markdown",
   "id": "b774ddd7",
   "metadata": {},
   "source": [
    "# for nested loops (4) and print integers\n",
    "Print some integers using for [1] and range [2] in nested loops [3]"
   ]
  },
  {
   "cell_type": "code",
   "execution_count": 1,
   "id": "c552f201",
   "metadata": {},
   "outputs": [
    {
     "name": "stdout",
     "output_type": "stream",
     "text": [
      "i j k l\n",
      "0 0 0 0\n",
      "0 0 0 1\n",
      "0 0 1 0\n",
      "0 0 1 1\n",
      "0 0 2 0\n",
      "0 0 2 1\n",
      "0 1 0 0\n",
      "0 1 0 1\n",
      "0 1 1 0\n",
      "0 1 1 1\n",
      "0 1 2 0\n",
      "0 1 2 1\n",
      "1 0 0 0\n",
      "1 0 0 1\n",
      "1 0 1 0\n",
      "1 0 1 1\n",
      "1 0 2 0\n",
      "1 0 2 1\n",
      "1 1 0 0\n",
      "1 1 0 1\n",
      "1 1 1 0\n",
      "1 1 1 1\n",
      "1 1 2 0\n",
      "1 1 2 1\n",
      "2 0 0 0\n",
      "2 0 0 1\n",
      "2 0 1 0\n",
      "2 0 1 1\n",
      "2 0 2 0\n",
      "2 0 2 1\n",
      "2 1 0 0\n",
      "2 1 0 1\n",
      "2 1 1 0\n",
      "2 1 1 1\n",
      "2 1 2 0\n",
      "2 1 2 1\n",
      "3 0 0 0\n",
      "3 0 0 1\n",
      "3 0 1 0\n",
      "3 0 1 1\n",
      "3 0 2 0\n",
      "3 0 2 1\n",
      "3 1 0 0\n",
      "3 1 0 1\n",
      "3 1 1 0\n",
      "3 1 1 1\n",
      "3 1 2 0\n",
      "3 1 2 1\n"
     ]
    }
   ],
   "source": [
    "N1 = 4\n",
    "N2 = 2\n",
    "N3 = 3\n",
    "N4 = 2\n",
    "print(\"i j k l\")\n",
    "for i in range(N1):\n",
    "    for j in range(N2):\n",
    "        for k in range(N3):\n",
    "            for l in range(N4):\n",
    "                print(i, j, k, l)"
   ]
  },
  {
   "cell_type": "markdown",
   "id": "f469ccaf",
   "metadata": {},
   "source": [
    "## references\n",
    "1. GeeksforGeeks, \"loops in python\", GeeksforGeeks, 28 Sep 2022, url https://www.geeksforgeeks.org/loops-in-python/ [20221115].\n",
    "2. Vishal Hule, \"Python range() Explained with Examples\", PYnative.com, 17 Mar 2022, url https://pynative.com/python-range-function/ [20221115].\n",
    "3. Lisa Tagliaferri, \"How To Construct For Loops in Python 3\", DigitalOcean, 13 Jan 2017, url https://www.digitalocean.com/community/tutorials/how-to-construct-for-loops-in-python-3 [20221115]."
   ]
  }
 ],
 "metadata": {
  "authors": [
   {
    "name": "Sparisoma Viridi"
   }
  ],
  "kernelspec": {
   "display_name": "Python 3 (ipykernel)",
   "language": "python",
   "name": "python3"
  },
  "language_info": {
   "codemirror_mode": {
    "name": "ipython",
    "version": 3
   },
   "file_extension": ".py",
   "mimetype": "text/x-python",
   "name": "python",
   "nbconvert_exporter": "python",
   "pygments_lexer": "ipython3",
   "version": "3.10.8"
  },
  "title": "for_print_int"
 },
 "nbformat": 4,
 "nbformat_minor": 5
}
