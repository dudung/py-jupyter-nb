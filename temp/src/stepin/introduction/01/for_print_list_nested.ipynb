{
 "cells": [
  {
   "cell_type": "markdown",
   "id": "b774ddd7",
   "metadata": {},
   "source": [
    "# for loop and print nested lists\n",
    "Print nested lists using for [1]"
   ]
  },
  {
   "cell_type": "code",
   "execution_count": 1,
   "id": "c552f201",
   "metadata": {},
   "outputs": [],
   "source": [
    "# create nested lists\n",
    "x = [[1, 2, 3], ['a', 'b', 'c', 'd'], [0, '1', 2, 'c', -1.3]]"
   ]
  },
  {
   "cell_type": "code",
   "execution_count": 2,
   "id": "afce8292",
   "metadata": {
    "scrolled": true
   },
   "outputs": [
    {
     "name": "stdout",
     "output_type": "stream",
     "text": [
      "1,2,3,\n",
      "a,b,c,d,\n",
      "0,1,2,c,-1.3,\n"
     ]
    }
   ],
   "source": [
    "for i in x:\n",
    "    for j in i:\n",
    "        print(j, end=',')\n",
    "    print()"
   ]
  },
  {
   "cell_type": "code",
   "execution_count": 3,
   "id": "2c2bea0d",
   "metadata": {},
   "outputs": [
    {
     "name": "stdout",
     "output_type": "stream",
     "text": [
      "1,2,3\n",
      "a,b,c,d\n",
      "0,1,2,c,-1.3\n"
     ]
    }
   ],
   "source": [
    "for i in x:\n",
    "    print(*i, sep=',')"
   ]
  },
  {
   "cell_type": "markdown",
   "id": "f469ccaf",
   "metadata": {},
   "source": [
    "## references\n",
    "1. Lisa Tagliaferri, \"How To Construct For Loops in Python 3\", DigitalOcean, 13 Jan 2017, url https://www.digitalocean.com/community/tutorials/how-to-construct-for-loops-in-python-3 [20221115]."
   ]
  }
 ],
 "metadata": {
  "authors": [
   {
    "name": "Sparisoma Viridi"
   }
  ],
  "kernelspec": {
   "display_name": "Python 3 (ipykernel)",
   "language": "python",
   "name": "python3"
  },
  "language_info": {
   "codemirror_mode": {
    "name": "ipython",
    "version": 3
   },
   "file_extension": ".py",
   "mimetype": "text/x-python",
   "name": "python",
   "nbconvert_exporter": "python",
   "pygments_lexer": "ipython3",
   "version": "3.10.8"
  },
  "title": "for_print_list_nested"
 },
 "nbformat": 4,
 "nbformat_minor": 5
}
