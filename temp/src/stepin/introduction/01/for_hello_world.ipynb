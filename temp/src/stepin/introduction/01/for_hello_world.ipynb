{
 "cells": [
  {
   "cell_type": "markdown",
   "id": "b774ddd7",
   "metadata": {},
   "source": [
    "# for loop and hello world\n",
    "Print \"Hello, World!\" message [1] several times with for [2]."
   ]
  },
  {
   "cell_type": "code",
   "execution_count": 1,
   "id": "ffe0a408",
   "metadata": {},
   "outputs": [
    {
     "name": "stdout",
     "output_type": "stream",
     "text": [
      "Hello, World!\n",
      "Hello, World!\n",
      "Hello, World!\n",
      "Hello, World!\n",
      "Hello, World!\n",
      "Hello, World!\n",
      "Hello, World!\n"
     ]
    }
   ],
   "source": [
    "N = 7\n",
    "for i in range(N):\n",
    "    print(\"Hello, World!\")"
   ]
  },
  {
   "cell_type": "markdown",
   "id": "f469ccaf",
   "metadata": {},
   "source": [
    "## references\n",
    "1. Michael Galarnyk, \\\"HelloWorld.ipynb\\\", GitHub Gist, 29 Apr 2017, url https://gist.github.com/mGalarnyk/37d18ec9522e526aca2d41d68809f914 [20221114].\n",
    "2. GeeksforGeeks, \"loops in python\", GeeksforGeeks, 28 Sep 2022, url https://www.geeksforgeeks.org/loops-in-python/ [20221115]."
   ]
  }
 ],
 "metadata": {
  "authors": [
   {
    "name": "Sparisoma Viridi"
   }
  ],
  "kernelspec": {
   "display_name": "Python 3 (ipykernel)",
   "language": "python",
   "name": "python3"
  },
  "language_info": {
   "codemirror_mode": {
    "name": "ipython",
    "version": 3
   },
   "file_extension": ".py",
   "mimetype": "text/x-python",
   "name": "python",
   "nbconvert_exporter": "python",
   "pygments_lexer": "ipython3",
   "version": "3.10.8"
  },
  "title": "for_hello_world"
 },
 "nbformat": 4,
 "nbformat_minor": 5
}
