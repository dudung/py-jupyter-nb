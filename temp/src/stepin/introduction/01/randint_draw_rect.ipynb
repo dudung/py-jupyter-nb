{
 "cells": [
  {
   "cell_type": "markdown",
   "id": "d4e69cf6",
   "metadata": {},
   "source": [
    "# randint_draw_rect\n",
    "Using `randint` function to generate random integer numbers and use them in drawing rectangles."
   ]
  },
  {
   "cell_type": "markdown",
   "id": "9f14a0d2",
   "metadata": {},
   "source": [
    "## functions and parameters"
   ]
  },
  {
   "cell_type": "code",
   "execution_count": 1,
   "id": "fad373aa",
   "metadata": {},
   "outputs": [],
   "source": [
    "# import required functions\n",
    "from numpy.random import seed\n",
    "from numpy.random import randint\n",
    "import matplotlib.pyplot as plt\n",
    "from matplotlib.patches import Rectangle"
   ]
  },
  {
   "cell_type": "code",
   "execution_count": 2,
   "id": "ba5b96c2",
   "metadata": {},
   "outputs": [],
   "source": [
    "# set parameters of random numbers\n",
    "Nval = 100\n",
    "minval = 0\n",
    "maxval = 10\n",
    "\n",
    "# set parameters for rectangular grid\n",
    "Nx = 10\n",
    "Ny = 10\n",
    "\n",
    "# seed random number generator\n",
    "seed()"
   ]
  },
  {
   "cell_type": "markdown",
   "id": "914624d3",
   "metadata": {},
   "source": [
    "## single product domination"
   ]
  },
  {
   "cell_type": "code",
   "execution_count": 3,
   "id": "39290bd9",
   "metadata": {},
   "outputs": [
    {
     "data": {
      "image/png": "[encoded data removed]",
      "text/plain": [
       "<Figure size 360x360 with 1 Axes>"
      ]
     },
     "metadata": {
      "needs_background": "light"
     },
     "output_type": "display_data"
    }
   ],
   "source": [
    "# force all to be 10\n",
    "values = [9] * Nval\n",
    "\n",
    "# create count\n",
    "count = [0] * (maxval - minval)\n",
    "\n",
    "# count occurence of each number\n",
    "for i in values:\n",
    "    count[i] += 1\n",
    "\n",
    "# distribute rectangles\n",
    "rects = []\n",
    "i = 0\n",
    "for iy in range(Nx):\n",
    "    for ix in range(Ny):\n",
    "        s = values[i]\n",
    "        x = ix * 10\n",
    "        y = iy * 10\n",
    "        r = Rectangle((x, y), s, s, facecolor = '#1f77b4')\n",
    "        rects.append(r)\n",
    "        i += 1\n",
    "\n",
    "# define Matplotlib figure and axis\n",
    "fig, ax = plt.subplots()\n",
    "\n",
    "# set size to be rectangular\n",
    "fig.set_figheight(5)\n",
    "fig.set_figwidth(5)\n",
    "\n",
    "# create simple line plot\n",
    "ax.plot()\n",
    "\n",
    "# add rectangle to plot\n",
    "for r in rects:\n",
    "    ax.add_patch(r)\n",
    "\n",
    "# display plot\n",
    "plt.show()"
   ]
  },
  {
   "cell_type": "markdown",
   "id": "6e5081c7",
   "metadata": {},
   "source": [
    "## single product no-domination"
   ]
  },
  {
   "cell_type": "code",
   "execution_count": 4,
   "id": "d8cda048",
   "metadata": {
    "scrolled": true
   },
   "outputs": [
    {
     "data": {
      "image/png": "[encoded data removed]",
      "text/plain": [
       "<Figure size 360x360 with 1 Axes>"
      ]
     },
     "metadata": {
      "needs_background": "light"
     },
     "output_type": "display_data"
    }
   ],
   "source": [
    "# create list of random integers\n",
    "values = randint(minval, maxval, Nval).tolist()\n",
    "\n",
    "# create count\n",
    "count = [0] * (maxval - minval)\n",
    "\n",
    "# count occurence of each number\n",
    "for i in values:\n",
    "    count[i] += 1\n",
    "\n",
    "# distribute rectangles\n",
    "rects = []\n",
    "i = 0\n",
    "for iy in range(Nx):\n",
    "    for ix in range(Ny):\n",
    "        s = values[i]\n",
    "        x = ix * 10\n",
    "        y = iy * 10\n",
    "        r = Rectangle((x, y), s, s, facecolor = '#1f77b4')\n",
    "        rects.append(r)\n",
    "        i += 1\n",
    "\n",
    "# define Matplotlib figure and axis\n",
    "fig, ax = plt.subplots()\n",
    "\n",
    "# set size to be rectangular\n",
    "fig.set_figheight(5)\n",
    "fig.set_figwidth(5)\n",
    "\n",
    "# create simple line plot\n",
    "ax.plot()\n",
    "\n",
    "# add rectangle to plot\n",
    "for r in rects:\n",
    "    ax.add_patch(r)\n",
    "\n",
    "# display plot\n",
    "plt.show()"
   ]
  },
  {
   "cell_type": "markdown",
   "id": "21085890",
   "metadata": {},
   "source": [
    "## two products no-domination"
   ]
  },
  {
   "cell_type": "code",
   "execution_count": 5,
   "id": "f312f30c",
   "metadata": {},
   "outputs": [
    {
     "data": {
      "image/png": "[encoded data removed]",
      "text/plain": [
       "<Figure size 360x360 with 1 Axes>"
      ]
     },
     "metadata": {
      "needs_background": "light"
     },
     "output_type": "display_data"
    }
   ],
   "source": [
    "# create list of random integers\n",
    "values = randint(minval, maxval, Nval).tolist()\n",
    "\n",
    "# create count\n",
    "count = [0] * (maxval - minval)\n",
    "\n",
    "# count occurence of each number\n",
    "for i in values:\n",
    "    count[i] += 1\n",
    "\n",
    "# distribute rectangles\n",
    "rects = []\n",
    "i = 0\n",
    "for iy in range(Nx):\n",
    "    for ix in range(Ny):\n",
    "        s = values[i]\n",
    "        x = ix * 10\n",
    "        y = iy * 10\n",
    "        c = randint(2)\n",
    "        if c == 0:\n",
    "            fc = '#1f77b4'\n",
    "        else:\n",
    "            fc = '#e377c2'\n",
    "        r = Rectangle((x, y), s, s, facecolor = fc)\n",
    "        rects.append(r)\n",
    "        i += 1\n",
    "\n",
    "# define Matplotlib figure and axis\n",
    "fig, ax = plt.subplots()\n",
    "\n",
    "# set size to be rectangular\n",
    "fig.set_figheight(5)\n",
    "fig.set_figwidth(5)\n",
    "\n",
    "# create simple line plot\n",
    "ax.plot()\n",
    "\n",
    "# add rectangle to plot\n",
    "for r in rects:\n",
    "    ax.add_patch(r)\n",
    "\n",
    "# display plot\n",
    "plt.show()"
   ]
  },
  {
   "cell_type": "markdown",
   "id": "7e1482b7",
   "metadata": {},
   "source": [
    "## two products single domination"
   ]
  },
  {
   "cell_type": "code",
   "execution_count": 6,
   "id": "405336a8",
   "metadata": {},
   "outputs": [
    {
     "data": {
      "image/png": "[encoded data removed]",
      "text/plain": [
       "<Figure size 360x360 with 1 Axes>"
      ]
     },
     "metadata": {
      "needs_background": "light"
     },
     "output_type": "display_data"
    }
   ],
   "source": [
    "# create list of random integers\n",
    "values = randint(minval, maxval, Nval).tolist()\n",
    "\n",
    "# create count\n",
    "count = [0] * (maxval - minval)\n",
    "\n",
    "# count occurence of each number\n",
    "for i in values:\n",
    "    count[i] += 1\n",
    "\n",
    "# distribute rectangles\n",
    "rects = []\n",
    "i = 0\n",
    "for iy in range(Nx):\n",
    "    for ix in range(Ny):\n",
    "        s = values[i]\n",
    "        x = ix * 10\n",
    "        y = iy * 10\n",
    "        c = randint(2)\n",
    "        if c == 0:\n",
    "            fc = '#1f77b4'\n",
    "        else:\n",
    "            fc = '#e377c2'\n",
    "            s = 9\n",
    "        r = Rectangle((x, y), s, s, facecolor = fc)\n",
    "        rects.append(r)\n",
    "        i += 1\n",
    "\n",
    "# define Matplotlib figure and axis\n",
    "fig, ax = plt.subplots()\n",
    "\n",
    "# set size to be rectangular\n",
    "fig.set_figheight(5)\n",
    "fig.set_figwidth(5)\n",
    "\n",
    "# create simple line plot\n",
    "ax.plot()\n",
    "\n",
    "# add rectangle to plot\n",
    "for r in rects:\n",
    "    ax.add_patch(r)\n",
    "\n",
    "# display plot\n",
    "plt.show()"
   ]
  },
  {
   "cell_type": "markdown",
   "id": "b4ad2323",
   "metadata": {},
   "source": [
    "## References\n",
    "1. Jason Brownlee, \"How to Generate Random Numbers in Python\", Machine Learning Mastery, 4 Jul 2018, url https://machinelearningmastery.com/how-to-generate-random-numbers-in-python/ [20220621].\n",
    "2. dhameliyamilan972, \"How to create List of Zeros in Python\", Exception Error, 6 Jan 2022, url <https://exerror.com/how-to-create-list-of-zeros-in-python/> [20220621].\n",
    "3. tejswini2000k, \"How to convert NumPy array to list ?\", GeeksforGeeks, 16 Mar 2021, url <https://www.geeksforgeeks.org/how-to-convert-numpy-array-to-list/> [20220621].\n",
    "4. Zach, \"How to Draw Rectangles in Matplotlib (With Examples)\", Statology, 10 Nov 2020, url <https://www.statology.org/matplotlib-rectangle/> [20220621].\n",
    "5. nkmk, \"Add an item to a list in Python (append, extend, insert)\", nkmk.me, 6 Apr 2021, url <https://note.nkmk.me/en/python-list-append-extend-insert/> [20220621].\n",
    "6. David Landup, \"Change Figure Size in Matplotlib\", Stack Abuse, 14 Nov 2021, url <https://stackabuse.com/change-figure-size-in-matplotlib/> [20220621]."
   ]
  }
 ],
 "metadata": {
  "authors": [
   {
    "name": "Sparisoma Viridi"
   }
  ],
  "kernelspec": {
   "display_name": "Python 3 (ipykernel)",
   "language": "python",
   "name": "python3"
  },
  "language_info": {
   "codemirror_mode": {
    "name": "ipython",
    "version": 3
   },
   "file_extension": ".py",
   "mimetype": "text/x-python",
   "name": "python",
   "nbconvert_exporter": "python",
   "pygments_lexer": "ipython3",
   "version": "3.10.5"
  },
  "title": "randint_draw_rect"
 },
 "nbformat": 4,
 "nbformat_minor": 5
}
