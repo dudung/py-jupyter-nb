{
 "cells": [
  {
   "cell_type": "markdown",
   "id": "b774ddd7",
   "metadata": {},
   "source": [
    "# for loop and print a list\n",
    "Print a list using for [1] and range [2] or directly [3]."
   ]
  },
  {
   "cell_type": "code",
   "execution_count": 1,
   "id": "ffe0a408",
   "metadata": {
    "scrolled": false
   },
   "outputs": [],
   "source": [
    "# define a list\n",
    "x = [2, 0, 2, 2, 1, 1, 1, 5]"
   ]
  },
  {
   "cell_type": "code",
   "execution_count": 2,
   "id": "e90a43b8",
   "metadata": {
    "scrolled": false
   },
   "outputs": [
    {
     "name": "stdout",
     "output_type": "stream",
     "text": [
      "2\n",
      "0\n",
      "2\n",
      "2\n",
      "1\n",
      "1\n",
      "1\n",
      "5\n"
     ]
    }
   ],
   "source": [
    "# print using range\n",
    "N = len(x)\n",
    "for i in range(N):\n",
    "    print(x[i])"
   ]
  },
  {
   "cell_type": "code",
   "execution_count": 3,
   "id": "0a92accb",
   "metadata": {
    "scrolled": true
   },
   "outputs": [
    {
     "name": "stdout",
     "output_type": "stream",
     "text": [
      "2\n",
      "0\n",
      "2\n",
      "2\n",
      "1\n",
      "1\n",
      "1\n",
      "5\n"
     ]
    }
   ],
   "source": [
    "# print using list\n",
    "for i in x:\n",
    "    print(i)"
   ]
  },
  {
   "cell_type": "code",
   "execution_count": 4,
   "id": "efad0544",
   "metadata": {},
   "outputs": [
    {
     "name": "stdout",
     "output_type": "stream",
     "text": [
      "[2, 0, 2, 2, 1, 1, 1, 5]\n"
     ]
    }
   ],
   "source": [
    "# print the list\n",
    "print(x)"
   ]
  },
  {
   "cell_type": "code",
   "execution_count": 5,
   "id": "fc050c1d",
   "metadata": {
    "scrolled": true
   },
   "outputs": [
    {
     "name": "stdout",
     "output_type": "stream",
     "text": [
      "2,0,2,2,1,1,1,5\n"
     ]
    }
   ],
   "source": [
    "# print using * operator and separated with comma\n",
    "print(*x, sep=',')"
   ]
  },
  {
   "cell_type": "code",
   "execution_count": 6,
   "id": "4f4e751f",
   "metadata": {},
   "outputs": [
    {
     "name": "stdout",
     "output_type": "stream",
     "text": [
      "2\n",
      "0\n",
      "2\n",
      "2\n",
      "1\n",
      "1\n",
      "1\n",
      "5\n"
     ]
    }
   ],
   "source": [
    "# print using * operator and each in newline\n",
    "print(*x, sep='\\n')"
   ]
  },
  {
   "cell_type": "markdown",
   "id": "f469ccaf",
   "metadata": {},
   "source": [
    "## references\n",
    "1. GeeksforGeeks, \"loops in python\", GeeksforGeeks, 28 Sep 2022, url https://www.geeksforgeeks.org/loops-in-python/ [20221115].\n",
    "2. Vishal Hule, \"Python range() Explained with Examples\", PYnative.com, 17 Mar 2022, url https://pynative.com/python-range-function/ [20221115].\n",
    "3. Striver, \"Print lists in Python (5 Different Ways)\", GeeksforGeeks, 3 Oct 2022, url https://www.geeksforgeeks.org/print-lists-in-python-4-different-ways/ [20221115]."
   ]
  }
 ],
 "metadata": {
  "authors": [
   {
    "name": "Sparisoma Viridi"
   }
  ],
  "kernelspec": {
   "display_name": "Python 3 (ipykernel)",
   "language": "python",
   "name": "python3"
  },
  "language_info": {
   "codemirror_mode": {
    "name": "ipython",
    "version": 3
   },
   "file_extension": ".py",
   "mimetype": "text/x-python",
   "name": "python",
   "nbconvert_exporter": "python",
   "pygments_lexer": "ipython3",
   "version": "3.10.8"
  },
  "title": "for_print_list"
 },
 "nbformat": 4,
 "nbformat_minor": 5
}
