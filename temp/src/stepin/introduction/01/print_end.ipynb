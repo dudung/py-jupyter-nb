{
 "cells": [
  {
   "cell_type": "markdown",
   "id": "d4e69cf6",
   "metadata": {},
   "source": [
    "# print_end\n",
    "Control end of line of `print()` fuction."
   ]
  },
  {
   "cell_type": "code",
   "execution_count": 1,
   "id": "8d4878a6",
   "metadata": {},
   "outputs": [],
   "source": [
    "# define variables\n",
    "a = 1\n",
    "b = -53\n",
    "c = 100"
   ]
  },
  {
   "cell_type": "code",
   "execution_count": 2,
   "id": "2873ad9c",
   "metadata": {},
   "outputs": [
    {
     "name": "stdout",
     "output_type": "stream",
     "text": [
      "1\n",
      "-53\n",
      "100\n"
     ]
    }
   ],
   "source": [
    "# display each value with separate print function\n",
    "print(a)\n",
    "print(b)\n",
    "print(c)"
   ]
  },
  {
   "cell_type": "code",
   "execution_count": 4,
   "id": "a535c908",
   "metadata": {},
   "outputs": [
    {
     "name": "stdout",
     "output_type": "stream",
     "text": [
      "1 -53 100\n"
     ]
    }
   ],
   "source": [
    "# display each value with separate print function but in the same line\n",
    "print(a, end=' ')\n",
    "print(b, end=' ')\n",
    "print(c)"
   ]
  },
  {
   "cell_type": "code",
   "execution_count": 5,
   "id": "8add0929",
   "metadata": {},
   "outputs": [
    {
     "name": "stdout",
     "output_type": "stream",
     "text": [
      "1, -53, 100\n"
     ]
    }
   ],
   "source": [
    "# display each value with separate print function but in the same line and seperated with comma\n",
    "print(a, end=', ')\n",
    "print(b, end=', ')\n",
    "print(c)"
   ]
  },
  {
   "cell_type": "code",
   "execution_count": 6,
   "id": "e5314147",
   "metadata": {},
   "outputs": [
    {
     "name": "stdout",
     "output_type": "stream",
     "text": [
      "1 + -53 + 100\n"
     ]
    }
   ],
   "source": [
    "# display each value with separate print function but in the same line and separated with +\n",
    "print(a, end=' + ')\n",
    "print(b, end=' + ')\n",
    "print(c)"
   ]
  },
  {
   "cell_type": "code",
   "execution_count": 9,
   "id": "360c1cfe",
   "metadata": {},
   "outputs": [
    {
     "name": "stdout",
     "output_type": "stream",
     "text": [
      "0, 1, 2, 3, 4, 5, 6, 7, 8, 9, "
     ]
    }
   ],
   "source": [
    "# for loop in a line, end with comma\n",
    "N = 10\n",
    "for i in range(N):\n",
    "    print(i, end=', ')"
   ]
  },
  {
   "cell_type": "code",
   "execution_count": 10,
   "id": "384fd31e",
   "metadata": {},
   "outputs": [
    {
     "name": "stdout",
     "output_type": "stream",
     "text": [
      "0 + 1 + 2 + 3 + 4 + 5 + 6 + 7 + 8 + 9 + "
     ]
    }
   ],
   "source": [
    "# for loop in a line, end with +\n",
    "N = 10\n",
    "for i in range(N):\n",
    "    print(i, end=' + ')"
   ]
  },
  {
   "cell_type": "code",
   "execution_count": 11,
   "id": "68c55acf",
   "metadata": {},
   "outputs": [
    {
     "name": "stdout",
     "output_type": "stream",
     "text": [
      "0 + 1 + 2 + 3 + 4 + 5 + 6 + 7 + 8 + 9\n"
     ]
    }
   ],
   "source": [
    "# for loop in a line, end with + except the last one\n",
    "N = 10\n",
    "for i in range(N):\n",
    "    if i < N - 1:\n",
    "        print(i, end=' + ')\n",
    "    else:\n",
    "        print(i)"
   ]
  },
  {
   "cell_type": "code",
   "execution_count": 15,
   "id": "ba8c00cd",
   "metadata": {},
   "outputs": [
    {
     "name": "stdout",
     "output_type": "stream",
     "text": [
      "\n",
      "0\n",
      "00\n",
      "000\n",
      "0000\n",
      "00000\n",
      "000000\n",
      "0000000\n",
      "00000000\n",
      "000000000\n"
     ]
    }
   ],
   "source": [
    "# use for loop and end option in print() function to make triangle of zero\n",
    "row = 10\n",
    "for i in range(0, row):\n",
    "    for j in range(0, i):\n",
    "        print(0, end='')\n",
    "    print()"
   ]
  },
  {
   "cell_type": "code",
   "execution_count": 16,
   "id": "5be351a4",
   "metadata": {},
   "outputs": [
    {
     "name": "stdout",
     "output_type": "stream",
     "text": [
      "\n",
      "1\n",
      "22\n",
      "333\n",
      "4444\n",
      "55555\n",
      "666666\n",
      "7777777\n",
      "88888888\n",
      "999999999\n"
     ]
    }
   ],
   "source": [
    "# use for loop and end option in print() function to make triangle of numbers\n",
    "row = 10\n",
    "for i in range(0, row):\n",
    "    for j in range(0, i):\n",
    "        print(i, end='')\n",
    "    print()"
   ]
  },
  {
   "cell_type": "code",
   "execution_count": 17,
   "id": "f1a4a69b",
   "metadata": {},
   "outputs": [
    {
     "name": "stdout",
     "output_type": "stream",
     "text": [
      "\n",
      "0\n",
      "01\n",
      "012\n",
      "0123\n",
      "01234\n",
      "012345\n",
      "0123456\n",
      "01234567\n",
      "012345678\n"
     ]
    }
   ],
   "source": [
    "# use for loop and end option in print() function to make triangle of numbers\n",
    "row = 10\n",
    "for i in range(0, row):\n",
    "    for j in range(0, i):\n",
    "        print(j, end='')\n",
    "    print()"
   ]
  },
  {
   "cell_type": "code",
   "execution_count": 21,
   "id": "22ef8343",
   "metadata": {},
   "outputs": [
    {
     "name": "stdout",
     "output_type": "stream",
     "text": [
      "\n",
      "1\n",
      "23\n",
      "345\n",
      "4567\n",
      "56789\n"
     ]
    }
   ],
   "source": [
    "# use for loop and end option in print() function to make triangle of numbers\n",
    "row = 6\n",
    "for i in range(0, row):\n",
    "    for j in range(0, i):\n",
    "        print(i + j, end='')\n",
    "    print()"
   ]
  }
 ],
 "metadata": {
  "authors": [
   {
    "name": "Sparisoma Viridi"
   }
  ],
  "kernelspec": {
   "display_name": "Python 3 (ipykernel)",
   "language": "python",
   "name": "python3"
  },
  "language_info": {
   "codemirror_mode": {
    "name": "ipython",
    "version": 3
   },
   "file_extension": ".py",
   "mimetype": "text/x-python",
   "name": "python",
   "nbconvert_exporter": "python",
   "pygments_lexer": "ipython3",
   "version": "3.10.7"
  },
  "title": "print_end"
 },
 "nbformat": 4,
 "nbformat_minor": 5
}
