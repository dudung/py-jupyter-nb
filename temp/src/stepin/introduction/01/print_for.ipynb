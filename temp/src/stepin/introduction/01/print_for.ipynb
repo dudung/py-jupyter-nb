{
 "cells": [
  {
   "cell_type": "markdown",
   "id": "d4e69cf6",
   "metadata": {},
   "source": [
    "# print_for\n",
    "Print can be repeated using for."
   ]
  },
  {
   "cell_type": "code",
   "execution_count": 1,
   "id": "a4130008",
   "metadata": {},
   "outputs": [
    {
     "name": "stdout",
     "output_type": "stream",
     "text": [
      "line 1\n",
      "line 2\n",
      "line 3\n",
      "line 4\n",
      "line 5\n"
     ]
    }
   ],
   "source": [
    "# print several lines manually\n",
    "print(\"line 1\")\n",
    "print(\"line 2\")\n",
    "print(\"line 3\")\n",
    "print(\"line 4\")\n",
    "print(\"line 5\")"
   ]
  },
  {
   "cell_type": "code",
   "execution_count": 2,
   "id": "728063cd",
   "metadata": {},
   "outputs": [
    {
     "name": "stdout",
     "output_type": "stream",
     "text": [
      "line 1\n",
      "line 2\n",
      "line 3\n",
      "line 4\n",
      "line 5\n"
     ]
    }
   ],
   "source": [
    "# print several lines with for\n",
    "N = 5\n",
    "for i in range(N):\n",
    "    print(\"line\", i+1)"
   ]
  },
  {
   "cell_type": "code",
   "execution_count": 3,
   "id": "a8a755a8",
   "metadata": {},
   "outputs": [
    {
     "name": "stdout",
     "output_type": "stream",
     "text": [
      "numbers are: 1 2 3 4 5\n"
     ]
    }
   ],
   "source": [
    "# print several numbers is a line manually\n",
    "print(\"numbers are: 1 2 3 4 5\")"
   ]
  },
  {
   "cell_type": "code",
   "execution_count": 6,
   "id": "6ab9037f",
   "metadata": {},
   "outputs": [
    {
     "name": "stdout",
     "output_type": "stream",
     "text": [
      "Numbers are: 1 2 3 4 5 "
     ]
    }
   ],
   "source": [
    "# print several numbers with for\n",
    "N = 5\n",
    "print(\"Numbers are: \", end='')\n",
    "for i in range(N):\n",
    "    print(i+1, end=' ')"
   ]
  },
  {
   "cell_type": "code",
   "execution_count": 9,
   "id": "5c434588",
   "metadata": {},
   "outputs": [
    {
     "name": "stdout",
     "output_type": "stream",
     "text": [
      "1 - 3 - 7 - 10\n"
     ]
    }
   ],
   "source": [
    "# print several number in a line manually, seperate by -\n",
    "i = 1; j = 3; k = 7; l = 10 \n",
    "print(i, j, k, l, sep=' - ')"
   ]
  },
  {
   "cell_type": "code",
   "execution_count": 10,
   "id": "194b4b6d",
   "metadata": {},
   "outputs": [
    {
     "name": "stdout",
     "output_type": "stream",
     "text": [
      "1 <--> 3 <--> 7 <--> 10\n"
     ]
    }
   ],
   "source": [
    "# print several number in a line manually, seperate by <-->\n",
    "i = 1; j = 3; k = 7; l = 10 \n",
    "print(i, j, k, l, sep=' <--> ')"
   ]
  }
 ],
 "metadata": {
  "authors": [
   {
    "name": "Sparisoma Viridi"
   }
  ],
  "kernelspec": {
   "display_name": "Python 3 (ipykernel)",
   "language": "python",
   "name": "python3"
  },
  "language_info": {
   "codemirror_mode": {
    "name": "ipython",
    "version": 3
   },
   "file_extension": ".py",
   "mimetype": "text/x-python",
   "name": "python",
   "nbconvert_exporter": "python",
   "pygments_lexer": "ipython3",
   "version": "3.10.7"
  },
  "title": "print_for"
 },
 "nbformat": 4,
 "nbformat_minor": 5
}
