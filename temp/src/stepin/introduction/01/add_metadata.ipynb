{
 "cells": [
  {
   "cell_type": "markdown",
   "id": "b774ddd7",
   "metadata": {},
   "source": [
    "# add title and authors information\n",
    "Add following lines\n",
    "\n",
    "```\n",
    "\"title\": \"0000\",\n",
    "\"authors\": [\n",
    "    {\n",
    "      \"name\": \"Sparisoma Viridi\"\n",
    "    }\n",
    "]\n",
    "```\n",
    "\n",
    "at the end of notebook metadata [1]. It is a JSON format.\n",
    "\n",
    "\n",
    "## references\n",
    "1. Ido Sar Shalom, RiveN, \"Answer to 'Add Notebook Author and Title in Jupyter Notebook Cells'\", Stack Overflow, 17 Dec 2021, url https://stackoverflow.com/a/70393677/9475509 [20221114]."
   ]
  }
 ],
 "metadata": {
  "authors": [
   {
    "name": "Sparisoma Viridi"
   }
  ],
  "kernelspec": {
   "display_name": "Python 3 (ipykernel)",
   "language": "python",
   "name": "python3"
  },
  "language_info": {
   "codemirror_mode": {
    "name": "ipython",
    "version": 3
   },
   "file_extension": ".py",
   "mimetype": "text/x-python",
   "name": "python",
   "nbconvert_exporter": "python",
   "pygments_lexer": "ipython3",
   "version": "3.10.8"
  },
  "title": "add_metadata"
 },
 "nbformat": 4,
 "nbformat_minor": 5
}
