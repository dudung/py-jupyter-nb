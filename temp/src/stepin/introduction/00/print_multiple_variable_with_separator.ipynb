{
 "cells": [
  {
   "cell_type": "markdown",
   "id": "d4e69cf6",
   "metadata": {},
   "source": [
    "# print_multiple_variable_with_separator\n",
    "Value of multiple variable can be displayed using `print()` function and separated with `sep` value."
   ]
  },
  {
   "cell_type": "code",
   "execution_count": 1,
   "id": "65845c9c",
   "metadata": {},
   "outputs": [
    {
     "name": "stdout",
     "output_type": "stream",
     "text": [
      "1.23,4.56,7.89\n"
     ]
    }
   ],
   "source": [
    "a = 1.23\n",
    "b = 4.56\n",
    "c = 7.89\n",
    "print(a, b, c, sep=',')"
   ]
  }
 ],
 "metadata": {
  "authors": [
   {
    "name": "Sparisoma Viridi"
   }
  ],
  "kernelspec": {
   "display_name": "Python 3 (ipykernel)",
   "language": "python",
   "name": "python3"
  },
  "language_info": {
   "codemirror_mode": {
    "name": "ipython",
    "version": 3
   },
   "file_extension": ".py",
   "mimetype": "text/x-python",
   "name": "python",
   "nbconvert_exporter": "python",
   "pygments_lexer": "ipython3",
   "version": "3.10.4"
  },
  "title": "print_multiple_variable_with_separator"
 },
 "nbformat": 4,
 "nbformat_minor": 5
}
