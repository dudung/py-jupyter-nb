{
 "cells": [
  {
   "cell_type": "markdown",
   "id": "d4e69cf6",
   "metadata": {},
   "source": [
    "# print_variable_value\n",
    "Variable value can be displayed using `print()` function and preceeded by a string explaining the meaning of variable."
   ]
  },
  {
   "cell_type": "code",
   "execution_count": 1,
   "id": "65845c9c",
   "metadata": {},
   "outputs": [
    {
     "name": "stdout",
     "output_type": "stream",
     "text": [
      "num = 1234.5678\n",
      "say = Hello, World!\n",
      "status = True\n"
     ]
    }
   ],
   "source": [
    "num = 1234.5678\n",
    "print(\"num =\", num)\n",
    "\n",
    "say = \"Hello, World!\"\n",
    "print(\"say =\", say)\n",
    "\n",
    "status = True\n",
    "print(\"status =\", status)"
   ]
  }
 ],
 "metadata": {
  "authors": [
   {
    "name": "Sparisoma Viridi"
   }
  ],
  "kernelspec": {
   "display_name": "Python 3 (ipykernel)",
   "language": "python",
   "name": "python3"
  },
  "language_info": {
   "codemirror_mode": {
    "name": "ipython",
    "version": 3
   },
   "file_extension": ".py",
   "mimetype": "text/x-python",
   "name": "python",
   "nbconvert_exporter": "python",
   "pygments_lexer": "ipython3",
   "version": "3.10.4"
  },
  "title": "print_string_and_variable_value"
 },
 "nbformat": 4,
 "nbformat_minor": 5
}
