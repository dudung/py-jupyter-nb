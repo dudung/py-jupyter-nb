{
 "cells": [
  {
   "cell_type": "markdown",
   "id": "d4e69cf6",
   "metadata": {},
   "source": [
    "# print_non_primitive_data_structure\n",
    "A non-primitive data structures, e.g list, tuple, dictionary, can be display with `print()` function."
   ]
  },
  {
   "cell_type": "code",
   "execution_count": 1,
   "id": "65845c9c",
   "metadata": {},
   "outputs": [
    {
     "name": "stdout",
     "output_type": "stream",
     "text": [
      "[1, 0, 2, 1, 9, 1, 2, 3]\n",
      "9\n",
      "\n",
      "(1, 0, 2, 1, 9, 9, 8, 2)\n",
      "8\n",
      "\n",
      "{'id': 10219234, 'group': 'Student', 'topic': 'Volcano eruption'}\n",
      "Volcano eruption\n"
     ]
    }
   ],
   "source": [
    "x = [1, 0, 2, 1, 9, 1, 2, 3]\n",
    "print(x)\n",
    "print(x[4])\n",
    "\n",
    "print()\n",
    "\n",
    "y = (1, 0, 2, 1, 9, 9, 8, 2)\n",
    "print(y)\n",
    "print(y[6])\n",
    "\n",
    "print()\n",
    "\n",
    "z = {\n",
    "    'id': 10219234,\n",
    "    'group': 'Student',\n",
    "    'topic': 'Volcano eruption'\n",
    "}\n",
    "print(z)\n",
    "print(z['topic'])"
   ]
  }
 ],
 "metadata": {
  "authors": [
   {
    "name": "Sparisoma Viridi"
   }
  ],
  "kernelspec": {
   "display_name": "Python 3 (ipykernel)",
   "language": "python",
   "name": "python3"
  },
  "language_info": {
   "codemirror_mode": {
    "name": "ipython",
    "version": 3
   },
   "file_extension": ".py",
   "mimetype": "text/x-python",
   "name": "python",
   "nbconvert_exporter": "python",
   "pygments_lexer": "ipython3",
   "version": "3.10.4"
  },
  "title": "print_non_primitive_data_structure"
 },
 "nbformat": 4,
 "nbformat_minor": 5
}
