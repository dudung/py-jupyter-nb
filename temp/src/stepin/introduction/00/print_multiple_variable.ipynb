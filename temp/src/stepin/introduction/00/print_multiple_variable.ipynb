{
 "cells": [
  {
   "cell_type": "markdown",
   "id": "d4e69cf6",
   "metadata": {},
   "source": [
    "# print_multiple_variable\n",
    "Value of multiple variable can be displayed using `print()` function, where the variables are arguments of the function seperated with comma."
   ]
  },
  {
   "cell_type": "code",
   "execution_count": 2,
   "id": "65845c9c",
   "metadata": {},
   "outputs": [
    {
     "name": "stdout",
     "output_type": "stream",
     "text": [
      "Python 3.1 True\n"
     ]
    }
   ],
   "source": [
    "a = \"Python\"\n",
    "b = 3.10\n",
    "c = True\n",
    "print(a, b, c)"
   ]
  }
 ],
 "metadata": {
  "authors": [
   {
    "name": "Sparisoma Viridi"
   }
  ],
  "kernelspec": {
   "display_name": "Python 3 (ipykernel)",
   "language": "python",
   "name": "python3"
  },
  "language_info": {
   "codemirror_mode": {
    "name": "ipython",
    "version": 3
   },
   "file_extension": ".py",
   "mimetype": "text/x-python",
   "name": "python",
   "nbconvert_exporter": "python",
   "pygments_lexer": "ipython3",
   "version": "3.10.4"
  },
  "title": "print_multiple_variable"
 },
 "nbformat": 4,
 "nbformat_minor": 5
}
