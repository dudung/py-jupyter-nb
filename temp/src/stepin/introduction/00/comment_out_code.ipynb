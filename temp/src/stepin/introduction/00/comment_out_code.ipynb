{
 "cells": [
  {
   "cell_type": "markdown",
   "id": "d4e69cf6",
   "metadata": {},
   "source": [
    "# comment_out_code\n",
    "Character `#` in front of a line will prevent the line being executed"
   ]
  },
  {
   "cell_type": "code",
   "execution_count": 1,
   "id": "767d153c",
   "metadata": {},
   "outputs": [
    {
     "name": "stdout",
     "output_type": "stream",
     "text": [
      "1.23\n"
     ]
    }
   ],
   "source": [
    "# test one of two possible line of code\n",
    "x = 1.23\n",
    "#x = 2.46\n",
    "\n",
    "print(x)"
   ]
  }
 ],
 "metadata": {
  "authors": [
   {
    "name": "Sparisoma Viridi"
   }
  ],
  "kernelspec": {
   "display_name": "Python 3 (ipykernel)",
   "language": "python",
   "name": "python3"
  },
  "language_info": {
   "codemirror_mode": {
    "name": "ipython",
    "version": 3
   },
   "file_extension": ".py",
   "mimetype": "text/x-python",
   "name": "python",
   "nbconvert_exporter": "python",
   "pygments_lexer": "ipython3",
   "version": "3.10.4"
  },
  "title": "comment_out_code"
 },
 "nbformat": 4,
 "nbformat_minor": 5
}
