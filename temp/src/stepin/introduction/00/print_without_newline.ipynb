{
 "cells": [
  {
   "cell_type": "markdown",
   "id": "d4e69cf6",
   "metadata": {},
   "source": [
    "# print_without_newline\n",
    "Messages can be displayed in continuous, single line using multipe `print` by setting `end` parameter."
   ]
  },
  {
   "cell_type": "code",
   "execution_count": 1,
   "id": "d368b309",
   "metadata": {},
   "outputs": [
    {
     "name": "stdout",
     "output_type": "stream",
     "text": [
      "ACUGAGCUUCAGAGCGCAGU\n",
      "a primary nucleic acid structure\n"
     ]
    }
   ],
   "source": [
    "print('A', end='')\n",
    "print('C', end='')\n",
    "print('U', end='')\n",
    "print('G', end='')\n",
    "print('A', end='')\n",
    "print('G', end='')\n",
    "print('C', end='')\n",
    "print('U', end='')\n",
    "print('U', end='')\n",
    "print('C', end='')\n",
    "print('A', end='')\n",
    "print('G', end='')\n",
    "print('A', end='')\n",
    "print('G', end='')\n",
    "print('C', end='')\n",
    "print('G', end='')\n",
    "print('C', end='')\n",
    "print('A', end='')\n",
    "print('G', end='')\n",
    "print('U', end='\\n')\n",
    "print(\"a primary nucleic acid structure\")"
   ]
  }
 ],
 "metadata": {
  "authors": [
   {
    "name": "Sparisoma Viridi"
   }
  ],
  "kernelspec": {
   "display_name": "Python 3 (ipykernel)",
   "language": "python",
   "name": "python3"
  },
  "language_info": {
   "codemirror_mode": {
    "name": "ipython",
    "version": 3
   },
   "file_extension": ".py",
   "mimetype": "text/x-python",
   "name": "python",
   "nbconvert_exporter": "python",
   "pygments_lexer": "ipython3",
   "version": "3.10.4"
  },
  "title": "print_without_newline"
 },
 "nbformat": 4,
 "nbformat_minor": 5
}
