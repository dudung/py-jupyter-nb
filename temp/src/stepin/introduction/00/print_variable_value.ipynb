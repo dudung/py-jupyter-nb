{
 "cells": [
  {
   "cell_type": "markdown",
   "id": "d4e69cf6",
   "metadata": {},
   "source": [
    "# print_variable_value\n",
    "Variable value can be displayed using `print()` function."
   ]
  },
  {
   "cell_type": "code",
   "execution_count": 1,
   "id": "65845c9c",
   "metadata": {},
   "outputs": [
    {
     "name": "stdout",
     "output_type": "stream",
     "text": [
      "1234.5678\n",
      "Hello, World!\n",
      "True\n"
     ]
    }
   ],
   "source": [
    "x = 1234.5678\n",
    "print(x)\n",
    "\n",
    "y = \"Hello, World!\"\n",
    "print(y)\n",
    "\n",
    "z = True\n",
    "print(z)"
   ]
  }
 ],
 "metadata": {
  "authors": [
   {
    "name": "Sparisoma Viridi"
   }
  ],
  "kernelspec": {
   "display_name": "Python 3 (ipykernel)",
   "language": "python",
   "name": "python3"
  },
  "language_info": {
   "codemirror_mode": {
    "name": "ipython",
    "version": 3
   },
   "file_extension": ".py",
   "mimetype": "text/x-python",
   "name": "python",
   "nbconvert_exporter": "python",
   "pygments_lexer": "ipython3",
   "version": "3.10.4"
  },
  "title": "print_variable_value"
 },
 "nbformat": 4,
 "nbformat_minor": 5
}
