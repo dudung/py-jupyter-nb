{
 "cells": [
  {
   "cell_type": "markdown",
   "id": "d4e69cf6",
   "metadata": {},
   "source": [
    "# print_multiple_newline\n",
    "A message can be displayed in multipe line by inserting newline character `\\n`."
   ]
  },
  {
   "cell_type": "code",
   "execution_count": 1,
   "id": "d368b309",
   "metadata": {
    "scrolled": false
   },
   "outputs": [
    {
     "name": "stdout",
     "output_type": "stream",
     "text": [
      "Malas sekolah madol ke AEON\n",
      "Jumpa guru bersuara bariton\n",
      "Alih-alih jadi santap udon\n",
      "Makan siang ceramah monoton\n"
     ]
    }
   ],
   "source": [
    "print(\"Malas sekolah madol ke AEON\\nJumpa guru bersuara bariton\\nAlih-alih jadi santap udon\\nMakan siang ceramah monoton\")"
   ]
  }
 ],
 "metadata": {
  "authors": [
   {
    "name": "Sparisoma Viridi"
   }
  ],
  "kernelspec": {
   "display_name": "Python 3 (ipykernel)",
   "language": "python",
   "name": "python3"
  },
  "language_info": {
   "codemirror_mode": {
    "name": "ipython",
    "version": 3
   },
   "file_extension": ".py",
   "mimetype": "text/x-python",
   "name": "python",
   "nbconvert_exporter": "python",
   "pygments_lexer": "ipython3",
   "version": "3.10.4"
  },
  "title": "print_multiple_newline"
 },
 "nbformat": 4,
 "nbformat_minor": 5
}
