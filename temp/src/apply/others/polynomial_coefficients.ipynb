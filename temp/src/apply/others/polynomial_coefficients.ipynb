{
 "cells": [
  {
   "cell_type": "markdown",
   "id": "cca11c7c",
   "metadata": {},
   "source": [
    "# polynomial_coefficients\n",
    "get polynomial coefficients from roots"
   ]
  },
  {
   "cell_type": "markdown",
   "id": "58031629",
   "metadata": {},
   "source": [
    "## combination\n",
    "The number of ways of selecting $k$ items without replacement from a collection of $n$ items when order does not matter is <sup>[1]</sup>\n",
    "\n",
    "$$\\tag{1}\n",
    "\\left( \\begin{array}{c} n \\newline k \\end{array} \\right) = {}_nC_k = \\frac{n!}{(n-k)! \\ k!}.\n",
    "$$\n",
    "\n",
    "1. [Factorials and Combination Notation](https://stats.libretexts.org/Bookshelves/Introductory_Statistics/Support_Course_for_Elementary_Statistics/Operations_on_Numbers/Factorials_and_Combination_Notation)"
   ]
  },
  {
   "cell_type": "code",
   "execution_count": null,
   "id": "1bcee7b1",
   "metadata": {},
   "outputs": [],
   "source": []
  }
 ],
 "metadata": {
  "authors": [
   {
    "name": "Sparisoma Viridi"
   }
  ],
  "kernelspec": {
   "display_name": "Python 3 (ipykernel)",
   "language": "python",
   "name": "python3"
  },
  "language_info": {
   "codemirror_mode": {
    "name": "ipython",
    "version": 3
   },
   "file_extension": ".py",
   "mimetype": "text/x-python",
   "name": "python",
   "nbconvert_exporter": "python",
   "pygments_lexer": "ipython3",
   "version": "3.9.12"
  },
  "title": "polynomial_coefficients"
 },
 "nbformat": 4,
 "nbformat_minor": 5
}
