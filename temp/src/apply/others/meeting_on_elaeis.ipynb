{
 "cells": [
  {
   "cell_type": "markdown",
   "id": "cca11c7c",
   "metadata": {},
   "source": [
    "# meeting_on_elaeis\n",
    "\n",
    "discussing [online](https://itb-ac-id.zoom.us/j/92432765760) farming system"
   ]
  },
  {
   "cell_type": "markdown",
   "id": "3cd3ea87",
   "metadata": {},
   "source": [
    "## 11-jan-2022"
   ]
  },
  {
   "cell_type": "code",
   "execution_count": null,
   "id": "60267dbb",
   "metadata": {},
   "outputs": [],
   "source": [
    "information = {\n",
    "    \"date\": [\"2023-01-11\"],\n",
    "    \"plant\": {\n",
    "        \"Kingdom\": \"Plantae\",\n",
    "        \"Clade\": [\"Tracheophytes\", \"Angiosperms\", \"Monocots\", \"Commelinids\"],\n",
    "        \"Order\": \"Arecales\",\n",
    "        \"Family\": \"Arecaceae\",\n",
    "        \"Genus\": \"Elaeis\",\n",
    "        \"Species\": \"Elaeis guineensis\"    \n",
    "    },\n",
    "    \"problem\": {\n",
    "        \"soil\": [\"peat\", \"conditioning\"],\n",
    "        \"water\": [\"rain\", \"other\"],\n",
    "        \"fertilizer\": [\"amout\", \"efficiency\", \"harvesting\"],\n",
    "        \"pest\": [\"insect\", \"plant\", \"babirusa\"],\n",
    "        \"insectiside\": [\"schedule\", \"amount\", \"harmness\", \"contamination\"],\n",
    "        \"age\": [\"<5\", \">5\"],\n",
    "        \"communication\": [\"no provider\", \"build one\"]\n",
    "    },\n",
    "    \"grant\": {\n",
    "        \"url\": \"https://lppm.itb.ac.id/id/call-for-proposal-grant-riset-sawit-grs-tahun-2023/\"\n",
    "    }\n",
    "}"
   ]
  },
  {
   "cell_type": "code",
   "execution_count": null,
   "id": "ff5a8565",
   "metadata": {},
   "outputs": [],
   "source": []
  }
 ],
 "metadata": {
  "authors": [
   {
    "name": "Sparisoma Viridi"
   }
  ],
  "kernelspec": {
   "display_name": "Python 3 (ipykernel)",
   "language": "python",
   "name": "python3"
  },
  "language_info": {
   "codemirror_mode": {
    "name": "ipython",
    "version": 3
   },
   "file_extension": ".py",
   "mimetype": "text/x-python",
   "name": "python",
   "nbconvert_exporter": "python",
   "pygments_lexer": "ipython3",
   "version": "3.10.9"
  },
  "title": "meeting_on_elaeis"
 },
 "nbformat": 4,
 "nbformat_minor": 5
}
