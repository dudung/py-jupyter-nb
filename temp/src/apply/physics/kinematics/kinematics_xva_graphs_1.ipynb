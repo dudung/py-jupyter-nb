{
 "cells": [
  {
   "cell_type": "markdown",
   "id": "cca11c7c",
   "metadata": {},
   "source": [
    "# kinematics_xva_graphs_1\n",
    "Plot kinematics graphs using Python `matplotlib` module."
   ]
  },
  {
   "cell_type": "code",
   "execution_count": 1,
   "id": "d1c0d218",
   "metadata": {},
   "outputs": [],
   "source": [
    "import math\n",
    "import matplotlib.pyplot as plt\n",
    "import numpy as np"
   ]
  },
  {
   "cell_type": "markdown",
   "id": "b4d42d14",
   "metadata": {},
   "source": [
    "## position\n",
    "Suppose there is a function of position\n",
    "\n",
    "\\begin{equation}\\tag{1}\n",
    "x(t) = t^2 - 2x + 1,\n",
    "\\end{equation}\n",
    "\n",
    "where $t$ is time."
   ]
  },
  {
   "cell_type": "code",
   "execution_count": 2,
   "id": "21e9dd27",
   "metadata": {},
   "outputs": [],
   "source": [
    "# define x(t)\n",
    "def x(t):\n",
    "    xx = t*t - 2*t + 1\n",
    "    return xx"
   ]
  },
  {
   "cell_type": "markdown",
   "id": "999a6a02",
   "metadata": {},
   "source": [
    "## velocity\n",
    "Function of velocity is as follow\n",
    "\n",
    "\\begin{equation}\\tag{2}\n",
    "v(t) = 2t - 2,\n",
    "\\end{equation}\n",
    "\n",
    "which is obtaned by deriving Eqn (1) with respect to time $t$."
   ]
  },
  {
   "cell_type": "code",
   "execution_count": 3,
   "id": "d1f67e36",
   "metadata": {},
   "outputs": [],
   "source": [
    "# define v(t)\n",
    "def v(t):\n",
    "    vv = 2*t - 2\n",
    "    return vv"
   ]
  },
  {
   "cell_type": "markdown",
   "id": "0bb90b31",
   "metadata": {},
   "source": [
    "## acceleration\n",
    "Function of acceleration is as follow\n",
    "\n",
    "\\begin{equation}\\tag{3}\n",
    "a(t) = 2,\n",
    "\\end{equation}\n",
    "\n",
    "which is obtaned by deriving Eqn ([2](#eqn2)) with respect to time $t$."
   ]
  },
  {
   "cell_type": "code",
   "execution_count": 4,
   "id": "c5244666",
   "metadata": {},
   "outputs": [],
   "source": [
    "# define a(t)\n",
    "def a(t):\n",
    "    aa = 2\n",
    "    return aa"
   ]
  },
  {
   "cell_type": "code",
   "execution_count": 5,
   "id": "50160c26",
   "metadata": {},
   "outputs": [],
   "source": [
    "# create data\n",
    "tbeg = 0\n",
    "tend = 10\n",
    "N = 100\n",
    "dt = (tend - tbeg) / N\n",
    "\n",
    "ttt = []\n",
    "xxx = []\n",
    "vvv = []\n",
    "aaa = []\n",
    "\n",
    "for i in range(0, N + 1):\n",
    "    t = tbeg + i * dt\n",
    "    tt = t\n",
    "    xx = x(t)\n",
    "    vv = v(t)\n",
    "    aa = a(t)\n",
    "    \n",
    "    ttt.append(tt)\n",
    "    xxx.append(xx)\n",
    "    vvv.append(vv)\n",
    "    aaa.append(aa)"
   ]
  },
  {
   "cell_type": "code",
   "execution_count": 6,
   "id": "86684f45",
   "metadata": {},
   "outputs": [
    {
     "data": {
      "image/png": "[encoded data removed]",
      "text/plain": [
       "<Figure size 432x288 with 1 Axes>"
      ]
     },
     "metadata": {
      "needs_background": "light"
     },
     "output_type": "display_data"
    }
   ],
   "source": [
    "# plot data of x(t)\n",
    "plt.ion()\n",
    "fig, ax = plt.subplots()\n",
    "ax.set_xlabel(\"$t$\")\n",
    "ax.set_ylabel(\"$x$\")\n",
    "plt.plot(ttt, xxx)\n",
    "\n",
    "# draw horizontal line\n",
    "line = plt.Line2D((tbeg, tend), (0, 0), color='#aaa', lw=1, ls='dashed')\n",
    "plt.gca().add_line(line)\n",
    "\n",
    "# show plot result\n",
    "plt.show()"
   ]
  },
  {
   "cell_type": "code",
   "execution_count": 7,
   "id": "c7fc7d73",
   "metadata": {
    "scrolled": true
   },
   "outputs": [
    {
     "data": {
      "image/png": "[encoded data removed]",
      "text/plain": [
       "<Figure size 432x288 with 1 Axes>"
      ]
     },
     "metadata": {
      "needs_background": "light"
     },
     "output_type": "display_data"
    }
   ],
   "source": [
    "# plot data of v(t)\n",
    "plt.ion()\n",
    "fig, ax = plt.subplots()\n",
    "ax.set_xlabel(\"$t$\")\n",
    "ax.set_ylabel(\"$v$\")\n",
    "plt.plot(ttt, vvv)\n",
    "\n",
    "# draw horizontal line\n",
    "line = plt.Line2D((tbeg, tend), (0, 0), color='#aaa', lw=1, ls='dashed')\n",
    "plt.gca().add_line(line)\n",
    "\n",
    "# show plot result\n",
    "plt.show()"
   ]
  },
  {
   "cell_type": "code",
   "execution_count": 8,
   "id": "c480d8fe",
   "metadata": {},
   "outputs": [
    {
     "data": {
      "image/png": "[encoded data removed]",
      "text/plain": [
       "<Figure size 432x288 with 1 Axes>"
      ]
     },
     "metadata": {
      "needs_background": "light"
     },
     "output_type": "display_data"
    }
   ],
   "source": [
    "# plot data of a(t)\n",
    "plt.ion()\n",
    "fig, ax = plt.subplots()\n",
    "ax.set_xlabel(\"$t$\")\n",
    "ax.set_ylabel(\"$a$\")\n",
    "plt.plot(ttt, aaa)\n",
    "\n",
    "# draw horizontal line\n",
    "line = plt.Line2D((tbeg, tend), (0, 0), color='#aaa', lw=1, ls='dashed')\n",
    "plt.gca().add_line(line)\n",
    "\n",
    "# show plot result\n",
    "plt.show()"
   ]
  }
 ],
 "metadata": {
  "authors": [
   {
    "name": "Sparisoma Viridi"
   }
  ],
  "kernelspec": {
   "display_name": "Python 3 (ipykernel)",
   "language": "python",
   "name": "python3"
  },
  "language_info": {
   "codemirror_mode": {
    "name": "ipython",
    "version": 3
   },
   "file_extension": ".py",
   "mimetype": "text/x-python",
   "name": "python",
   "nbconvert_exporter": "python",
   "pygments_lexer": "ipython3",
   "version": "3.9.12"
  },
  "title": "kinematics_xva_graphs_1"
 },
 "nbformat": 4,
 "nbformat_minor": 5
}
