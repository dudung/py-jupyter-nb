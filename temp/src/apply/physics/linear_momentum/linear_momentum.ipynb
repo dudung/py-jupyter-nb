{
 "cells": [
  {
   "cell_type": "markdown",
   "id": "cca11c7c",
   "metadata": {},
   "source": [
    "# linear_momentum\n",
    "Short introduction to concept of linear momentum."
   ]
  },
  {
   "cell_type": "code",
   "execution_count": 1,
   "id": "98b0be80",
   "metadata": {},
   "outputs": [],
   "source": [
    "# get Vect3 class for 3d vector operations\n",
    "import os,sys\n",
    "sys.path.insert(1, os.path.join(os.getcwd()  , '../../ipynb'))\n",
    "from ipynb.fs.full.vect3 import Vect3"
   ]
  },
  {
   "cell_type": "markdown",
   "id": "589d0031",
   "metadata": {},
   "source": [
    "Linear momentum $\\vec{p}$ is defined as product of mass $m$ and velocity $\\vec{v}$ as follow\n",
    "\n",
    "$$\\tag{1}\n",
    "\\vec{p} = m \\vec{v}.\n",
    "$$"
   ]
  },
  {
   "cell_type": "markdown",
   "id": "ee58b19c",
   "metadata": {},
   "source": [
    "A particle with mass $2 \\ \\rm kg$ is moving with velocity $(\\hat{x} + 2\\hat{y} + 2\\hat{z}) \\ \\rm m/s$. Determine<br>\n",
    "(a) momentum in vector form, and<br>\n",
    "(b) magnitude of the momentum."
   ]
  },
  {
   "cell_type": "code",
   "execution_count": 2,
   "id": "fc5a6620",
   "metadata": {},
   "outputs": [
    {
     "name": "stdout",
     "output_type": "stream",
     "text": [
      "p = (2, 4, 4) kg·m/s\n",
      "|p| = 6.0 kg·m/s\n"
     ]
    }
   ],
   "source": [
    "# define variables in SI unit\n",
    "m = 2\n",
    "v = Vect3(1, 2, 2)\n",
    "\n",
    "# calculate momentum\n",
    "p = m * v\n",
    "q = p.len()\n",
    "\n",
    "# show result\n",
    "print(\"p =\", p, \"kg·m/s\")\n",
    "print(\"|p| =\", q, \"kg·m/s\")"
   ]
  },
  {
   "cell_type": "markdown",
   "id": "2081e9cb",
   "metadata": {},
   "source": [
    "By refering to Equation (1) we can see that there is only at least following variation in calculation.\n",
    "\n",
    "Variation | Known | Unknown | Formula\n",
    ":-: | :-: | :-: | :-:\n",
    "1 | m, v | p | p = mv\n",
    "2 | p, m | v | v = p / m\n",
    "3 | v, p | m | m = px / vx = py / vy\n",
    "\n",
    "where the last variation should be noticed since there is not any division of vector with vector."
   ]
  }
 ],
 "metadata": {
  "authors": [
   {
    "name": "Sparisoma Viridi"
   }
  ],
  "kernelspec": {
   "display_name": "Python 3 (ipykernel)",
   "language": "python",
   "name": "python3"
  },
  "language_info": {
   "codemirror_mode": {
    "name": "ipython",
    "version": 3
   },
   "file_extension": ".py",
   "mimetype": "text/x-python",
   "name": "python",
   "nbconvert_exporter": "python",
   "pygments_lexer": "ipython3",
   "version": "3.9.12"
  },
  "title": "linear_momentum"
 },
 "nbformat": 4,
 "nbformat_minor": 5
}
