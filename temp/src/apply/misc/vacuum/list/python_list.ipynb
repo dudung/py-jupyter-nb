{
 "cells": [
  {
   "cell_type": "code",
   "execution_count": 4,
   "id": "1709c3d7-c661-4ea8-bbab-6a29706094de",
   "metadata": {},
   "outputs": [
    {
     "name": "stdout",
     "output_type": "stream",
     "text": [
      "[]\n"
     ]
    }
   ],
   "source": [
    "# create empty list\n",
    "x = []\n",
    "\n",
    "# display list content\n",
    "print(x)"
   ]
  },
  {
   "cell_type": "code",
   "execution_count": 5,
   "id": "41b9525f-b4b2-4bcc-9241-7ca179e2095a",
   "metadata": {},
   "outputs": [
    {
     "name": "stdout",
     "output_type": "stream",
     "text": [
      "[1, 2, 3]\n"
     ]
    }
   ],
   "source": [
    "# create list with elements\n",
    "x = [1, 2, 3]\n",
    "\n",
    "# display list content\n",
    "print(x)"
   ]
  },
  {
   "cell_type": "code",
   "execution_count": 20,
   "id": "07b7e78b-93f3-4e9f-a0e5-02c355da984c",
   "metadata": {},
   "outputs": [
    {
     "name": "stdout",
     "output_type": "stream",
     "text": [
      "[9, 8, 7, 6, 4]\n",
      "x[0]: 9\n",
      "x[2]: 7\n",
      "x[4]: 4\n",
      "x[-1]: 4\n"
     ]
    }
   ],
   "source": [
    "x = [9, 8, 7, 6, 4]\n",
    "print(x)\n",
    "\n",
    "print('x[0]:', x[0])\n",
    "print('x[2]:', x[2])\n",
    "print('x[4]:', x[4])\n",
    "print('x[-1]:', x[-1])"
   ]
  },
  {
   "cell_type": "code",
   "execution_count": 21,
   "id": "99964f24-0ec4-42a0-95ba-787029551443",
   "metadata": {},
   "outputs": [
    {
     "name": "stdout",
     "output_type": "stream",
     "text": [
      "x[2:4]: [7, 6]\n",
      "x[-3:-1]: [7, 6]\n"
     ]
    }
   ],
   "source": [
    "x = [9, 8, 7, 6, 4]\n",
    "\n",
    "print('x[2:4]:', x[2:4])\n",
    "print('x[-3:-1]:', x[-3:-1])"
   ]
  },
  {
   "cell_type": "code",
   "execution_count": 22,
   "id": "7833971d-261d-43d3-ae0f-3b07c83d3221",
   "metadata": {},
   "outputs": [
    {
     "name": "stdout",
     "output_type": "stream",
     "text": [
      "[True, 1, 'a', 40.25, 0.00123]\n"
     ]
    }
   ],
   "source": [
    "x = [True, 1, 'a', 40.25, 1.23E-3]\n",
    "\n",
    "print(x)"
   ]
  },
  {
   "cell_type": "code",
   "execution_count": 26,
   "id": "62d76e5c-03d6-4433-90ab-2e3f4d317364",
   "metadata": {},
   "outputs": [
    {
     "name": "stdout",
     "output_type": "stream",
     "text": [
      "[0, 2, 3, 4]\n",
      "[1.2, 4.5, 9.8]\n",
      "[True, False, True]\n",
      "['new', 'hello', 'world']\n"
     ]
    }
   ],
   "source": [
    "int = [0, 2, 3, 4]\n",
    "float = [1.2, 4.5, 9.8]\n",
    "bool = [True, False, True]\n",
    "string = ['new', 'hello', 'world']\n",
    "\n",
    "print(int)\n",
    "print(float)\n",
    "print(bool)\n",
    "print(string)"
   ]
  },
  {
   "cell_type": "code",
   "execution_count": 27,
   "id": "84a3ca66-c898-4ae8-9313-0cd8a782421c",
   "metadata": {},
   "outputs": [
    {
     "name": "stdout",
     "output_type": "stream",
     "text": [
      "[[1, 2, 3], True, ['a', 'b'], 9.873]\n"
     ]
    }
   ],
   "source": [
    "x = [1, 2, 3]\n",
    "y = ['a', 'b']\n",
    "z = [x, True, y, 9.873]\n",
    "\n",
    "print(z)"
   ]
  },
  {
   "cell_type": "code",
   "execution_count": 32,
   "id": "006d193a-f3b8-461b-b108-5545eef94a22",
   "metadata": {},
   "outputs": [
    {
     "name": "stdout",
     "output_type": "stream",
     "text": [
      "9\n",
      "8\n",
      "7\n",
      "6\n",
      "4\n"
     ]
    }
   ],
   "source": [
    "x = [9, 8, 7, 6, 4]\n",
    "for i in x:\n",
    "    print(i)"
   ]
  },
  {
   "cell_type": "code",
   "execution_count": 33,
   "id": "b2750120-0447-4c01-8281-9d20f1a9ae3f",
   "metadata": {},
   "outputs": [
    {
     "name": "stdout",
     "output_type": "stream",
     "text": [
      "7\n",
      "6\n"
     ]
    }
   ],
   "source": [
    "x = [9, 8, 7, 6, 4]\n",
    "for i in x[2:4]:\n",
    "    print(i)"
   ]
  },
  {
   "cell_type": "code",
   "execution_count": 34,
   "id": "794ee248-a0da-4a17-b983-4a77fc6a3f9f",
   "metadata": {},
   "outputs": [
    {
     "name": "stdout",
     "output_type": "stream",
     "text": [
      "[1, 2, 3]\n",
      "True\n",
      "['a', 'b']\n",
      "9.873\n"
     ]
    }
   ],
   "source": [
    "x = [1, 2, 3]\n",
    "y = ['a', 'b']\n",
    "z = [x, True, y, 9.873]\n",
    "\n",
    "for i in z:\n",
    "    print(i)"
   ]
  },
  {
   "cell_type": "code",
   "execution_count": 41,
   "id": "3b1b86f5-969d-4009-8293-457225267146",
   "metadata": {},
   "outputs": [
    {
     "name": "stdout",
     "output_type": "stream",
     "text": [
      "[1]\n",
      "[True, True, False, False]\n",
      "[[1, 2, 3], [0, 0]]\n"
     ]
    }
   ],
   "source": [
    "x = [\n",
    "    [1],\n",
    "    [True, True, False, False],\n",
    "    [\n",
    "        [1, 2, 3], [0, 0],\n",
    "    ]\n",
    "]\n",
    "\n",
    "for i in x:\n",
    "    print(i)"
   ]
  },
  {
   "cell_type": "code",
   "execution_count": 47,
   "id": "9473a97f-bc50-4982-a30c-0573a8039f04",
   "metadata": {},
   "outputs": [
    {
     "name": "stdout",
     "output_type": "stream",
     "text": [
      "1 <class 'int'>\n",
      "[True, 0, 'c'] <class 'list'>\n",
      "a <class 'str'>\n",
      "True <class 'bool'>\n",
      "1.53 <class 'float'>\n"
     ]
    }
   ],
   "source": [
    "x = [\n",
    "    1,\n",
    "    [True, 0, 'c'],\n",
    "    'a',\n",
    "    True,\n",
    "    1.53\n",
    "]\n",
    "\n",
    "for i in x:\n",
    "    print(i, type(i))"
   ]
  },
  {
   "cell_type": "code",
   "execution_count": 53,
   "id": "1aff5526-bace-4812-afc5-41369974d207",
   "metadata": {},
   "outputs": [
    {
     "name": "stdout",
     "output_type": "stream",
     "text": [
      "is a list?\n",
      "1 : False\n",
      "[True, 'hello'] : True\n",
      "a : False\n",
      "True : False\n"
     ]
    }
   ],
   "source": [
    "x = [\n",
    "    1,\n",
    "    [True, 'hello'],\n",
    "    'a',\n",
    "    True,\n",
    "]\n",
    "\n",
    "print('is a list?')\n",
    "for i in x:\n",
    "    print(i, ':', isinstance(i, list))"
   ]
  },
  {
   "cell_type": "code",
   "execution_count": 71,
   "id": "1efd7df7-621e-4652-aee8-30c4a08c2846",
   "metadata": {},
   "outputs": [
    {
     "name": "stdout",
     "output_type": "stream",
     "text": [
      "1\n",
      "   2\n",
      "     3\n",
      "     4\n",
      "   5\n",
      "6\n",
      "   7\n",
      "8\n"
     ]
    }
   ],
   "source": [
    "x = [1, [2, [3, 4], 5], 6, [7], 8]\n",
    "for i in x:\n",
    "  if isinstance(i, list):\n",
    "    for j in i:\n",
    "      if isinstance(j, list):\n",
    "        for k in j:\n",
    "          print('    ', k)\n",
    "      else:\n",
    "        print('  ', j)\n",
    "  else:\n",
    "    print(i)"
   ]
  },
  {
   "cell_type": "code",
   "execution_count": 74,
   "id": "2348b622-b6dd-4806-b727-31e5d512fe64",
   "metadata": {},
   "outputs": [
    {
     "name": "stdout",
     "output_type": "stream",
     "text": [
      "[]\n",
      "[2, 15]\n",
      "[2, 15, ['a', 'b']]\n"
     ]
    }
   ],
   "source": [
    "x = list()\n",
    "print(x)\n",
    "x.append(2)\n",
    "x.append(15)\n",
    "print(x)\n",
    "x.append(['a', 'b'])\n",
    "print(x)"
   ]
  },
  {
   "cell_type": "code",
   "execution_count": 75,
   "id": "e78b2eec-f9be-4056-9641-b09d12704c48",
   "metadata": {},
   "outputs": [
    {
     "name": "stdout",
     "output_type": "stream",
     "text": [
      "[]\n"
     ]
    }
   ],
   "source": [
    "x = list()\n",
    "print(x)"
   ]
  },
  {
   "cell_type": "code",
   "execution_count": 79,
   "id": "3c480ef2-bf83-4ba7-839c-79396fff1bd3",
   "metadata": {},
   "outputs": [
    {
     "name": "stdout",
     "output_type": "stream",
     "text": [
      "['a', 1, True, 1200.0, [3, 4, 5]]\n",
      "['a', 1, True, 1200.0, [1, 2, 3]]\n"
     ]
    }
   ],
   "source": [
    "x = ['a', 1, True, 1.2E3, [3, 4, 5]]\n",
    "print(x)\n",
    "\n",
    "x[-1] = [1, 2, 3]\n",
    "print(x)"
   ]
  },
  {
   "cell_type": "code",
   "execution_count": 84,
   "id": "6f2b9da2-2a0d-468e-824f-96ae38fcb317",
   "metadata": {},
   "outputs": [
    {
     "name": "stdout",
     "output_type": "stream",
     "text": [
      "[1, 2, 3, 'a', 'b', 'c']\n",
      "[1, 2, 3, 'y', 'z', 'c']\n",
      "[10, 100, 2, 3, 'y', 'z', 'c']\n"
     ]
    }
   ],
   "source": [
    "x = [1, 2, 3, 'a', 'b', 'c']\n",
    "print(x)\n",
    "\n",
    "x[-3:-1] = ['y', 'z']\n",
    "print(x)\n",
    "\n",
    "x[0:1] = [10, 100]\n",
    "print(x)"
   ]
  },
  {
   "cell_type": "code",
   "execution_count": 86,
   "id": "bad16109-b5ec-40f6-aac7-3ac9fd02747c",
   "metadata": {},
   "outputs": [
    {
     "name": "stdout",
     "output_type": "stream",
     "text": [
      "[1, 2, [9, 8], 4, 5]\n",
      "[1, 2, 9, 8, 4, 5]\n"
     ]
    }
   ],
   "source": [
    "x = [1, 2, 3, 4, 5]\n",
    "x[2] = [9, 8]\n",
    "print(x)\n",
    "\n",
    "x = [1, 2, 3, 4, 5]\n",
    "x[2:3] = [9, 8]\n",
    "print(x)"
   ]
  },
  {
   "cell_type": "code",
   "execution_count": 89,
   "id": "8558628c-c182-4c32-95c8-168fbd8c2351",
   "metadata": {},
   "outputs": [
    {
     "name": "stdout",
     "output_type": "stream",
     "text": [
      "[1, 2, 3, 4, 5, 1, 2]\n",
      "[2, 3, 4, 5, 1, 2]\n",
      "[2, 3, 4, 5, 2]\n"
     ]
    }
   ],
   "source": [
    "x = [1, 2, 3, 4, 5, 1, 2]\n",
    "print(x)\n",
    "\n",
    "x.remove(1)\n",
    "print(x)\n",
    "\n",
    "x.remove(1)\n",
    "print(x)"
   ]
  },
  {
   "cell_type": "code",
   "execution_count": 90,
   "id": "fcc016ec-6184-4aaa-8991-367dec57727e",
   "metadata": {},
   "outputs": [
    {
     "name": "stdout",
     "output_type": "stream",
     "text": [
      "[1, 2, 3, 4, 5, 1, 2]\n"
     ]
    },
    {
     "ename": "ValueError",
     "evalue": "list.remove(x): x not in list",
     "output_type": "error",
     "traceback": [
      "\u001b[1;31m----------------------------------------------------------------------\u001b[0m",
      "\u001b[1;31mValueError\u001b[0m                           Traceback (most recent call last)",
      "Cell \u001b[1;32mIn[90], line 4\u001b[0m\n\u001b[0;32m      1\u001b[0m x \u001b[38;5;241m=\u001b[39m [\u001b[38;5;241m1\u001b[39m, \u001b[38;5;241m2\u001b[39m, \u001b[38;5;241m3\u001b[39m, \u001b[38;5;241m4\u001b[39m, \u001b[38;5;241m5\u001b[39m, \u001b[38;5;241m1\u001b[39m, \u001b[38;5;241m2\u001b[39m]\n\u001b[0;32m      2\u001b[0m \u001b[38;5;28mprint\u001b[39m(x)\n\u001b[1;32m----> 4\u001b[0m \u001b[43mx\u001b[49m\u001b[38;5;241;43m.\u001b[39;49m\u001b[43mremove\u001b[49m\u001b[43m(\u001b[49m\u001b[38;5;241;43m8\u001b[39;49m\u001b[43m)\u001b[49m\n\u001b[0;32m      5\u001b[0m \u001b[38;5;28mprint\u001b[39m(x)\n",
      "\u001b[1;31mValueError\u001b[0m: list.remove(x): x not in list"
     ]
    }
   ],
   "source": [
    "x = [1, 2, 3, 4, 5, 1, 2]\n",
    "print(x)\n",
    "\n",
    "x.remove(8)\n",
    "print(x)"
   ]
  },
  {
   "cell_type": "code",
   "execution_count": 97,
   "id": "22f67560-1911-4c30-b72f-808db2e44807",
   "metadata": {},
   "outputs": [
    {
     "name": "stdout",
     "output_type": "stream",
     "text": [
      "[1, 2, 3, 4, 5]\n",
      "[1, 2, 100, 3, 4, 5]\n"
     ]
    }
   ],
   "source": [
    "x = [1, 2, 3, 4, 5]\n",
    "print(x)\n",
    "\n",
    "x.insert(2, 100)\n",
    "print(x)"
   ]
  },
  {
   "cell_type": "code",
   "execution_count": 102,
   "id": "2ba72b72-c39e-4214-b472-f293c4bb6aed",
   "metadata": {},
   "outputs": [
    {
     "name": "stdout",
     "output_type": "stream",
     "text": [
      "[1, 2, 3, 4, 5]\n",
      "[1, 2, 100, 3, 4, 5]\n",
      "[1, 2, 500, 100, 3, 4, 5]\n",
      "\n",
      "[1, 2, 3, 4, 5]\n",
      "[1, 2, 500, 100, 3, 4, 5]\n"
     ]
    }
   ],
   "source": [
    "x = [1, 2, 3, 4, 5];     print(x)\n",
    "x.insert(2, 100);        print(x)\n",
    "x.insert(2, 500);        print(x)\n",
    "\n",
    "print()\n",
    "\n",
    "y = [1, 2, 3, 4, 5];     print(y)\n",
    "y[2:3] = [500, 100, 3];  print(y)"
   ]
  },
  {
   "cell_type": "code",
   "execution_count": 105,
   "id": "97afd231-cff6-4c42-bf21-cc8cb5c666fb",
   "metadata": {},
   "outputs": [
    {
     "name": "stdout",
     "output_type": "stream",
     "text": [
      "[1, 2, 3, 4, 5]\n",
      "\n",
      "[1, 2, 3, 4]\n",
      "5\n"
     ]
    }
   ],
   "source": [
    "x = [1, 2, 3, 4, 5]\n",
    "print(x)\n",
    "\n",
    "print()\n",
    "\n",
    "y = x.pop()\n",
    "print(x)\n",
    "print(y)"
   ]
  },
  {
   "cell_type": "code",
   "execution_count": 106,
   "id": "f83cf672-3f0d-4b93-8c4d-e310a55bf00b",
   "metadata": {},
   "outputs": [
    {
     "name": "stdout",
     "output_type": "stream",
     "text": [
      "[1, 2, 3, 4, 5]\n",
      "\n",
      "[1, 2, 3, 5]\n",
      "4\n"
     ]
    }
   ],
   "source": [
    "x = [1, 2, 3, 4, 5]\n",
    "print(x)\n",
    "\n",
    "print()\n",
    "\n",
    "y = x.pop(-2)\n",
    "print(x)\n",
    "print(y)"
   ]
  },
  {
   "cell_type": "code",
   "execution_count": 107,
   "id": "44f18203-bd5c-4aa0-a9a3-a21a242b2e51",
   "metadata": {},
   "outputs": [
    {
     "name": "stdout",
     "output_type": "stream",
     "text": [
      "[1, 2, 3, 4, 5]\n",
      "\n",
      "[]\n"
     ]
    }
   ],
   "source": [
    "x = [1, 2, 3, 4, 5]\n",
    "print(x)\n",
    "\n",
    "print()\n",
    "\n",
    "x.clear()\n",
    "print(x)"
   ]
  },
  {
   "cell_type": "code",
   "execution_count": 111,
   "id": "afc5e41d-9ba4-4da7-9938-8de22bf02c2c",
   "metadata": {},
   "outputs": [
    {
     "name": "stdout",
     "output_type": "stream",
     "text": [
      "[1, 2, 3] \n",
      "\n",
      "['a', 'b'] \n",
      "\n",
      "[1, 2, 3, 'a', 'b'] \n",
      "\n",
      "['a', 'b', 1, 2, 3, 'a', 'b'] \n",
      "\n"
     ]
    }
   ],
   "source": [
    "x = [1, 2, 3]\n",
    "print(x, '\\n')\n",
    "\n",
    "y = ['a', 'b']\n",
    "print(y, '\\n')\n",
    "\n",
    "x.extend(y)\n",
    "print(x, '\\n')\n",
    "\n",
    "y.extend(x)\n",
    "print(y, '\\n')"
   ]
  },
  {
   "cell_type": "code",
   "execution_count": 112,
   "id": "bc628fdc-a38f-4313-ac63-48fb8f8ed86b",
   "metadata": {},
   "outputs": [
    {
     "name": "stdout",
     "output_type": "stream",
     "text": [
      "[1, 2, 3] \n",
      "\n",
      "['a', 'b'] \n",
      "\n",
      "[1, 2, 3, 'a', 'b']\n"
     ]
    }
   ],
   "source": [
    "x = [1, 2, 3]\n",
    "print(x, '\\n')\n",
    "\n",
    "y = ['a', 'b']\n",
    "print(y, '\\n')\n",
    "\n",
    "z = x + y\n",
    "print(z)"
   ]
  },
  {
   "cell_type": "code",
   "execution_count": 123,
   "id": "1d69210d-e12a-435d-b2b3-699499af5ceb",
   "metadata": {},
   "outputs": [
    {
     "name": "stdout",
     "output_type": "stream",
     "text": [
      "[1, 3, 4, 5] [2, 'a', 'b', 'c']\n"
     ]
    }
   ],
   "source": [
    "x = [1, 2, 3, 4, 5]\n",
    "y = ['a', 'b', 'c']\n",
    "z = x.pop(1)\n",
    "y.insert(0, z)\n",
    "print(x, y)"
   ]
  },
  {
   "cell_type": "code",
   "execution_count": 125,
   "id": "1fa61e9a-3a12-4d32-b464-a57d2b945033",
   "metadata": {},
   "outputs": [
    {
     "name": "stdout",
     "output_type": "stream",
     "text": [
      "('a', 'e', 'i', 'o', 'u')\n",
      "\n",
      "['a', 'e', 'i', 'o', 'u']\n"
     ]
    }
   ],
   "source": [
    "v = ('a', 'e', 'i', 'o', 'u')\n",
    "print(v)\n",
    "\n",
    "print()\n",
    "\n",
    "x = list(v)\n",
    "print(x)"
   ]
  },
  {
   "cell_type": "code",
   "execution_count": 126,
   "id": "5f6c7405-e116-4f3d-81c7-391b8208c709",
   "metadata": {},
   "outputs": [
    {
     "name": "stdout",
     "output_type": "stream",
     "text": [
      "['a', 'e', 'i', 'o', 'u']\n",
      "\n",
      "['a', 'e', 'i', 'o', 'u']\n"
     ]
    }
   ],
   "source": [
    "v =  ['a', 'e', 'i', 'o', 'u']\n",
    "print(v)\n",
    "\n",
    "print()\n",
    "\n",
    "x = list(v)\n",
    "print(x)"
   ]
  },
  {
   "cell_type": "code",
   "execution_count": 127,
   "id": "73791a53-ac4e-4f68-a762-1ee2982f8cb5",
   "metadata": {},
   "outputs": [
    {
     "name": "stdout",
     "output_type": "stream",
     "text": [
      "['a', 'e', 'i', 'o', 'u']\n",
      "\n",
      "['a', 'e', 'i', 'o', 'u']\n"
     ]
    }
   ],
   "source": [
    "v =  ['a', 'e', 'i', 'o', 'u']\n",
    "print(v)\n",
    "\n",
    "print()\n",
    "\n",
    "x = v\n",
    "print(x)"
   ]
  },
  {
   "cell_type": "code",
   "execution_count": 128,
   "id": "72e8437a-608d-42aa-92c2-4112159175d0",
   "metadata": {},
   "outputs": [
    {
     "name": "stdout",
     "output_type": "stream",
     "text": [
      "['a', 'e', 'i', 'o', 'u']\n",
      "\n",
      "['a', 'e', 'i', 'o', 'u']\n",
      "\n",
      "[1000, 'e', 'i', 'o', 'u']\n",
      "[1000, 'e', 'i', 'o', 'u']\n"
     ]
    }
   ],
   "source": [
    "v =  ['a', 'e', 'i', 'o', 'u']; print(v)\n",
    "print()\n",
    "x = v; print(x)\n",
    "print()\n",
    "\n",
    "v[0] = 1000\n",
    "print(v)\n",
    "print(x)"
   ]
  },
  {
   "cell_type": "code",
   "execution_count": 129,
   "id": "ce0b3e8d-7346-43e2-83aa-10590a77bf77",
   "metadata": {},
   "outputs": [
    {
     "name": "stdout",
     "output_type": "stream",
     "text": [
      "['a', 'e', 'i', 'o', 'u']\n",
      "\n",
      "['a', 'e', 'i', 'o', 'u']\n",
      "\n",
      "[1000, 'e', 'i', 'o', 'u']\n",
      "['a', 'e', 'i', 'o', 'u']\n"
     ]
    }
   ],
   "source": [
    "v =  ['a', 'e', 'i', 'o', 'u']; print(v)\n",
    "print()\n",
    "x = v.copy(); print(x)\n",
    "print()\n",
    "\n",
    "v[0] = 1000\n",
    "print(v)\n",
    "print(x)"
   ]
  },
  {
   "cell_type": "code",
   "execution_count": 130,
   "id": "5a2919a7-1a98-4842-9611-2792b943a811",
   "metadata": {},
   "outputs": [
    {
     "name": "stdout",
     "output_type": "stream",
     "text": [
      "['a', 'e', 'i', 'o', 'u']\n",
      "\n",
      "['a', 'e', 'i', 'o', 'u']\n",
      "\n",
      "[1000, 'e', 'i', 'o']\n",
      "[1000, 'e', 'i', 'o']\n"
     ]
    }
   ],
   "source": [
    "v =  ['a', 'e', 'i', 'o', 'u']; print(v)\n",
    "print()\n",
    "x = v; print(x)\n",
    "print()\n",
    "\n",
    "v[0] = 1000\n",
    "v.pop()\n",
    "print(v)\n",
    "print(x)"
   ]
  },
  {
   "cell_type": "code",
   "execution_count": 135,
   "id": "098b93b1-21c6-4179-91b6-a686f2b205e6",
   "metadata": {},
   "outputs": [
    {
     "name": "stdout",
     "output_type": "stream",
     "text": [
      "['a', 2000, 'i', 'o', 'u']\n",
      "['a', 'e', 'i', 'o', 'u']\n"
     ]
    }
   ],
   "source": [
    "a = 'aeiou'\n",
    "b = tuple(a)\n",
    "c = list(b)\n",
    "d = c\n",
    "e = list(d)\n",
    "\n",
    "c[1] = 2000\n",
    "print(d)\n",
    "print(e)\n"
   ]
  },
  {
   "cell_type": "code",
   "execution_count": 141,
   "id": "d7741e77-7525-4df6-9a84-2b5a29dfd38e",
   "metadata": {},
   "outputs": [
    {
     "name": "stdout",
     "output_type": "stream",
     "text": [
      "[5, 0, 1, 4, 3, 2] \n",
      "\n",
      "[5, 0, 2, 1, 3, 4]\n"
     ]
    }
   ],
   "source": [
    "x = [5, 0, 1, 4, 3, 2]\n",
    "print(x, '\\n')\n",
    "\n",
    "x[2], x[3], x[-1] = x[-1], x[2], x[3]\n",
    "print(x)"
   ]
  },
  {
   "cell_type": "code",
   "execution_count": 142,
   "id": "1f20b6c9-8785-4a32-957b-57cf7d04bd21",
   "metadata": {},
   "outputs": [
    {
     "name": "stdout",
     "output_type": "stream",
     "text": [
      "[5, 0, 1, 4, 3, 2] \n",
      "\n",
      "[0, 1, 2, 3, 4, 5]\n"
     ]
    }
   ],
   "source": [
    "x = [5, 0, 1, 4, 3, 2]\n",
    "print(x, '\\n')\n",
    "\n",
    "x.sort()\n",
    "print(x)"
   ]
  },
  {
   "cell_type": "code",
   "execution_count": 143,
   "id": "0028a36c-1f05-4fae-9c94-d45a70026a98",
   "metadata": {},
   "outputs": [
    {
     "name": "stdout",
     "output_type": "stream",
     "text": [
      "[5, 0, 1, 4, 3, 2] \n",
      "\n",
      "[2, 3, 4, 1, 0, 5]\n"
     ]
    }
   ],
   "source": [
    "x = [5, 0, 1, 4, 3, 2]\n",
    "print(x, '\\n')\n",
    "\n",
    "x.reverse()\n",
    "print(x)"
   ]
  },
  {
   "cell_type": "code",
   "execution_count": 144,
   "id": "043d17a8-f79a-4580-8b7e-949242767bf5",
   "metadata": {},
   "outputs": [
    {
     "name": "stdout",
     "output_type": "stream",
     "text": [
      "[5, 0, 1, 4, 3, 2] \n",
      "\n",
      "[5, 4, 3, 2, 1, 0]\n"
     ]
    }
   ],
   "source": [
    "x = [5, 0, 1, 4, 3, 2]\n",
    "print(x, '\\n')\n",
    "\n",
    "x.sort(reverse=True)\n",
    "print(x)"
   ]
  },
  {
   "cell_type": "code",
   "execution_count": 146,
   "id": "b863c2c5-6b99-42f8-b63b-f31eaca89ead",
   "metadata": {},
   "outputs": [
    {
     "name": "stdout",
     "output_type": "stream",
     "text": [
      "[5, 0, 1, 4, 3, 2] \n",
      "\n",
      "[5, 4, 3, 2, 1, 0]\n"
     ]
    }
   ],
   "source": [
    "x = [5, 0, 1, 4, 3, 2]\n",
    "print(x, '\\n')\n",
    "\n",
    "x.sort()\n",
    "x.reverse()\n",
    "print(x)"
   ]
  },
  {
   "cell_type": "code",
   "execution_count": 147,
   "id": "390d1fbf-4db4-44f6-830b-393a22fda195",
   "metadata": {},
   "outputs": [
    {
     "name": "stdout",
     "output_type": "stream",
     "text": [
      "[5, 0, 1, 4, 3, 2] \n",
      "\n",
      "[0, 1, 2, 3, 4, 5]\n"
     ]
    }
   ],
   "source": [
    "x = [5, 0, 1, 4, 3, 2]\n",
    "print(x, '\\n')\n",
    "\n",
    "x.reverse()\n",
    "x.sort()\n",
    "print(x)"
   ]
  },
  {
   "cell_type": "code",
   "execution_count": 153,
   "id": "a15565d8-f19f-43da-b960-a833bab31a3e",
   "metadata": {},
   "outputs": [
    {
     "name": "stdout",
     "output_type": "stream",
     "text": [
      "[5, 0, 1, 4, 3, 2] \n",
      "\n",
      "[0, 1, 2, 3, 4, 5]\n",
      "[0, 1, 2, 3, 4, 5] \n",
      "\n",
      "[0, 1, 2, 3, 4, 100]\n",
      "[0, 1, 2, 3, 4, 5]\n"
     ]
    }
   ],
   "source": [
    "x = [5, 0, 1, 4, 3, 2]\n",
    "print(x, '\\n')\n",
    "\n",
    "y = sorted(x)\n",
    "x.sort()\n",
    "print(x)\n",
    "print(y, '\\n')\n",
    "\n",
    "x[-1] = 100\n",
    "print(x)\n",
    "print(y)"
   ]
  },
  {
   "cell_type": "code",
   "execution_count": 155,
   "id": "8179812f-2973-4a67-ab0a-7ee4c9408600",
   "metadata": {},
   "outputs": [
    {
     "name": "stdout",
     "output_type": "stream",
     "text": [
      "[5, 0, 1, 4, 3, 2] \n",
      "\n",
      "[0, 1, 2, 3, 4, 5]\n",
      "[0, 1, 2, 3, 4, 5] \n",
      "\n",
      "[0, 1, 2, 3, 4, 100]\n",
      "[0, 1, 2, 3, 4, 5]\n"
     ]
    }
   ],
   "source": [
    "x = [5, 0, 1, 4, 3, 2]\n",
    "print(x, '\\n')\n",
    "\n",
    "y = x.copy(); y.sort()\n",
    "x.sort()\n",
    "print(x)\n",
    "print(y, '\\n')\n",
    "\n",
    "x[-1] = 100\n",
    "print(x)\n",
    "print(y)"
   ]
  },
  {
   "cell_type": "code",
   "execution_count": 156,
   "id": "86055632-63d6-4878-96b9-183901556c05",
   "metadata": {},
   "outputs": [
    {
     "name": "stdout",
     "output_type": "stream",
     "text": [
      "6 \n",
      "\n",
      "5 \n",
      "\n",
      "0\n"
     ]
    }
   ],
   "source": [
    "x = [5, 0, 1, 4, 3, 2]\n",
    "print(len(x), '\\n')\n",
    "\n",
    "x.pop()\n",
    "print(len(x), '\\n')\n",
    "\n",
    "x.clear()\n",
    "print(len(x))"
   ]
  },
  {
   "cell_type": "code",
   "execution_count": 160,
   "id": "009292d8-b7a3-457d-93ad-9d4a2d7708d7",
   "metadata": {},
   "outputs": [
    {
     "name": "stdout",
     "output_type": "stream",
     "text": [
      "[1, 1, 1, 2, 2, 3, 4, 4, 5, 5, 5, 5] \n",
      "\n",
      "count of 5: 4\n",
      "\n",
      "count of 0: 0\n"
     ]
    }
   ],
   "source": [
    "x = [1, 1, 1, 2, 2, 3, 4, 4, 5, 5, 5, 5]\n",
    "print(x, '\\n')\n",
    "\n",
    "print('count of 5:', x.count(5))\n",
    "\n",
    "print()\n",
    "\n",
    "print('count of 0:', x.count(0))\n"
   ]
  },
  {
   "cell_type": "code",
   "execution_count": 164,
   "id": "10c3d415-670a-45c8-9177-6da8ccdcc32e",
   "metadata": {},
   "outputs": [
    {
     "name": "stdout",
     "output_type": "stream",
     "text": [
      "[1, 1, 1, 2, 2, 3, 4, 4, 5, 5, 5, 5] \n",
      "\n",
      "index of 2: 3\n",
      "index of 2: 3\n"
     ]
    }
   ],
   "source": [
    "x = [1, 1, 1, 2, 2, 3, 4, 4, 5, 5, 5, 5]\n",
    "print(x, '\\n')\n",
    "\n",
    "print('index of 2:', x.index(2))\n",
    "print('index of 2:', x.index(2))"
   ]
  },
  {
   "cell_type": "code",
   "execution_count": 166,
   "id": "f54d05f9-4606-4e09-a56b-f4bdc145a559",
   "metadata": {},
   "outputs": [
    {
     "name": "stdout",
     "output_type": "stream",
     "text": [
      "[1, 1, 1, 2, 2, 3, 4, 4, 5, 5, 5, 5] \n",
      "\n"
     ]
    },
    {
     "ename": "ValueError",
     "evalue": "0 is not in list",
     "output_type": "error",
     "traceback": [
      "\u001b[1;31m----------------------------------------------------------------------\u001b[0m",
      "\u001b[1;31mValueError\u001b[0m                           Traceback (most recent call last)",
      "Cell \u001b[1;32mIn[166], line 4\u001b[0m\n\u001b[0;32m      1\u001b[0m x \u001b[38;5;241m=\u001b[39m [\u001b[38;5;241m1\u001b[39m, \u001b[38;5;241m1\u001b[39m, \u001b[38;5;241m1\u001b[39m, \u001b[38;5;241m2\u001b[39m, \u001b[38;5;241m2\u001b[39m, \u001b[38;5;241m3\u001b[39m, \u001b[38;5;241m4\u001b[39m, \u001b[38;5;241m4\u001b[39m, \u001b[38;5;241m5\u001b[39m, \u001b[38;5;241m5\u001b[39m, \u001b[38;5;241m5\u001b[39m, \u001b[38;5;241m5\u001b[39m]\n\u001b[0;32m      2\u001b[0m \u001b[38;5;28mprint\u001b[39m(x, \u001b[38;5;124m'\u001b[39m\u001b[38;5;130;01m\\n\u001b[39;00m\u001b[38;5;124m'\u001b[39m)\n\u001b[1;32m----> 4\u001b[0m \u001b[38;5;28mprint\u001b[39m(\u001b[38;5;124m'\u001b[39m\u001b[38;5;124mindex of 0:\u001b[39m\u001b[38;5;124m'\u001b[39m, \u001b[43mx\u001b[49m\u001b[38;5;241;43m.\u001b[39;49m\u001b[43mindex\u001b[49m\u001b[43m(\u001b[49m\u001b[38;5;241;43m0\u001b[39;49m\u001b[43m)\u001b[49m)\n",
      "\u001b[1;31mValueError\u001b[0m: 0 is not in list"
     ]
    }
   ],
   "source": [
    "x = [1, 1, 1, 2, 2, 3, 4, 4, 5, 5, 5, 5]\n",
    "print(x, '\\n')\n",
    "\n",
    "print('index of 0:', x.index(0))"
   ]
  },
  {
   "cell_type": "code",
   "execution_count": 183,
   "id": "efc45162-bb51-4d50-9be2-4a77eb72ddc9",
   "metadata": {},
   "outputs": [
    {
     "name": "stdout",
     "output_type": "stream",
     "text": [
      "count of 1: 4\n",
      "\n",
      "1st index of 1: 1\n",
      "\n",
      "2nd index of 1: 2\n"
     ]
    }
   ],
   "source": [
    "x = [0, 1, 2, 3, 1, 4, 5, 6, 1, 9, 9, 1]\n",
    "print('count of 1:', x.count(1))\n",
    "print()\n",
    "\n",
    "c0 = x.index(1)\n",
    "print('1st index of 1:', c0)\n",
    "print()\n",
    "\n",
    "c1 = x[c0 + 1:].index(1)\n",
    "print('2nd index of 1:', c1)\n",
    "\n"
   ]
  },
  {
   "cell_type": "code",
   "execution_count": 188,
   "id": "7724bc83-7e33-41be-94b1-259acd666281",
   "metadata": {},
   "outputs": [
    {
     "name": "stdout",
     "output_type": "stream",
     "text": [
      "range(0, 10, 2) \n",
      "\n",
      "[0, 2, 4, 6, 8] \n",
      "\n",
      "[0, 2, 4, 6, 8]\n"
     ]
    }
   ],
   "source": [
    "r = range(0, 10, 2)\n",
    "print(r, '\\n')\n",
    "\n",
    "x = list(r)\n",
    "print(x, '\\n')\n",
    "\n",
    "y = [*r]\n",
    "print(y)"
   ]
  },
  {
   "cell_type": "code",
   "execution_count": 199,
   "id": "c861cd15-de32-467c-99bd-f64be0e59170",
   "metadata": {},
   "outputs": [
    {
     "name": "stdout",
     "output_type": "stream",
     "text": [
      "[0, 2, 4, 6, 8, 10] \n",
      "\n",
      "[0, 2, 4, 6, 8, 10]\n"
     ]
    }
   ],
   "source": [
    "x = []\n",
    "for i in range(0, 6):\n",
    "    x.append(2*i)\n",
    "print(x, '\\n')\n",
    "\n",
    "y = [2*i for i in range(0, 6)]\n",
    "print(y)"
   ]
  },
  {
   "cell_type": "code",
   "execution_count": 198,
   "id": "948636c0-d0e3-46e0-a362-c6f0e07edf92",
   "metadata": {},
   "outputs": [
    {
     "name": "stdout",
     "output_type": "stream",
     "text": [
      "[0, 2, 4, 6, 10]\n"
     ]
    }
   ],
   "source": [
    "x = [0, 1, 2, 3, 5]\n",
    "\n",
    "y = [2*i for i in x]\n",
    "print(y)"
   ]
  },
  {
   "cell_type": "code",
   "execution_count": 214,
   "id": "f41d32d4-196e-46b2-aaf7-39e22f14562a",
   "metadata": {},
   "outputs": [
    {
     "name": "stdout",
     "output_type": "stream",
     "text": [
      "[0, 0, 1, 0, 1, 4, 0, 1, 4, 9]\n",
      "\n"
     ]
    },
    {
     "ename": "NameError",
     "evalue": "name 'k' is not defined",
     "output_type": "error",
     "traceback": [
      "\u001b[1;31m----------------------------------------------------------------------\u001b[0m",
      "\u001b[1;31mNameError\u001b[0m                            Traceback (most recent call last)",
      "Cell \u001b[1;32mIn[214], line 10\u001b[0m\n\u001b[0;32m      7\u001b[0m \u001b[38;5;28mprint\u001b[39m()\n\u001b[0;32m      9\u001b[0m a \u001b[38;5;241m=\u001b[39m [\u001b[38;5;241m1\u001b[39m, \u001b[38;5;241m2\u001b[39m, \u001b[38;5;241m3\u001b[39m, \u001b[38;5;241m4\u001b[39m]\n\u001b[1;32m---> 10\u001b[0m b \u001b[38;5;241m=\u001b[39m [l\u001b[38;5;241m*\u001b[39m\u001b[38;5;241m*\u001b[39m\u001b[38;5;241m2\u001b[39m \u001b[38;5;28;01mfor\u001b[39;00m l \u001b[38;5;129;01min\u001b[39;00m \u001b[38;5;28mrange\u001b[39m(\u001b[43mk\u001b[49m) \u001b[38;5;28;01mfor\u001b[39;00m k \u001b[38;5;129;01min\u001b[39;00m a]\n\u001b[0;32m     11\u001b[0m \u001b[38;5;28mprint\u001b[39m(b)\n",
      "\u001b[1;31mNameError\u001b[0m: name 'k' is not defined"
     ]
    }
   ],
   "source": [
    "#del(x, y, i, j, k, l, a, b)\n",
    "\n",
    "x = [1, 2, 3, 4]\n",
    "y = [j**2 for i in x for j in range(i)]\n",
    "print(y)\n",
    "\n",
    "print()\n",
    "\n",
    "a = [1, 2, 3, 4]\n",
    "b = [l**2 for l in range(k) for k in a]\n",
    "print(b)"
   ]
  },
  {
   "cell_type": "code",
   "execution_count": 224,
   "id": "76bd4c99-c4d6-48e0-a20a-3fd9f78885da",
   "metadata": {},
   "outputs": [
    {
     "name": "stdout",
     "output_type": "stream",
     "text": [
      "[0, 2, 4]\n",
      "[1, 3, 5]\n",
      "[1, 3, 5, 3, 5, 7, 5, 7, 9]\n"
     ]
    }
   ],
   "source": [
    "x = [i for i in range(0, 5, 2)]\n",
    "y = [i for i in range(1, 6, 2)]\n",
    "z = [i+j for i in x for j in y]\n",
    "\n",
    "print(x)\n",
    "print(y)\n",
    "print(z)"
   ]
  },
  {
   "cell_type": "code",
   "execution_count": 226,
   "id": "f7eb1a94-3d69-4dfd-8ead-ab1746c5e5d0",
   "metadata": {},
   "outputs": [
    {
     "name": "stdout",
     "output_type": "stream",
     "text": [
      "{'a': 1, 'e': 2, 'i': 3, 'o': 4, 'u': 5}\n",
      "\n",
      "['a', 'e', 'i', 'o', 'u']\n"
     ]
    }
   ],
   "source": [
    "d = { 'a':1, 'e':2, 'i':3, 'o':4, 'u':5 }\n",
    "print(d)\n",
    "\n",
    "print()\n",
    "\n",
    "x = list(d)\n",
    "print(x)"
   ]
  },
  {
   "cell_type": "code",
   "execution_count": 228,
   "id": "39c62a7d-cf82-4ae1-95bb-bef3eab44497",
   "metadata": {},
   "outputs": [
    {
     "name": "stdout",
     "output_type": "stream",
     "text": [
      "9\n",
      "8\n",
      "7\n",
      "6\n",
      "5\n"
     ]
    }
   ],
   "source": [
    "x = [9, 8, 7, 6, 5]\n",
    "for i in x:\n",
    "    print(i)"
   ]
  },
  {
   "cell_type": "code",
   "execution_count": 229,
   "id": "e96e5f81-c8a6-46ff-a558-53786a89765c",
   "metadata": {},
   "outputs": [
    {
     "name": "stdout",
     "output_type": "stream",
     "text": [
      "9\n",
      "8\n",
      "7\n",
      "6\n",
      "5\n"
     ]
    }
   ],
   "source": [
    "x = [9, 8, 7, 6, 5]\n",
    "N = len(x)\n",
    "for i in range(N):\n",
    "    print(x[i])"
   ]
  },
  {
   "cell_type": "code",
   "execution_count": 231,
   "id": "887c0cd7-85c1-41ab-a368-fbe912cc4475",
   "metadata": {},
   "outputs": [
    {
     "name": "stdout",
     "output_type": "stream",
     "text": [
      "0    9\n",
      "1    8\n",
      "2    7\n",
      "3    6\n",
      "4    5\n"
     ]
    }
   ],
   "source": [
    "x = [9, 8, 7, 6, 5]\n",
    "N = len(x)\n",
    "for i in range(N):\n",
    "    print(i, '  ', x[i])"
   ]
  },
  {
   "cell_type": "code",
   "execution_count": 232,
   "id": "fb00ad74-9da2-4fea-bfc5-366583ec6e0d",
   "metadata": {},
   "outputs": [
    {
     "name": "stdout",
     "output_type": "stream",
     "text": [
      "0    9\n",
      "1    8\n",
      "2    7\n",
      "3    6\n",
      "4    5\n"
     ]
    }
   ],
   "source": [
    "x = [9, 8, 7, 6, 5]\n",
    "for i, j in enumerate(x):\n",
    "    print(i, '  ', j)"
   ]
  },
  {
   "cell_type": "code",
   "execution_count": 238,
   "id": "d869d23d-97db-4ee0-9a6e-ddbe9ad0acef",
   "metadata": {},
   "outputs": [
    {
     "name": "stdout",
     "output_type": "stream",
     "text": [
      "1, \n",
      "2, 3, \n",
      "4, 5, 6, \n",
      "7, 8, 9, \n"
     ]
    }
   ],
   "source": [
    "x = [\n",
    "    [1],\n",
    "    [2, 3],\n",
    "    [4, 5, 6],\n",
    "    [7, 8, 9]\n",
    "]\n",
    "\n",
    "for i in x:\n",
    "    for j in i:\n",
    "        print(j, end=', ')\n",
    "    print()"
   ]
  },
  {
   "cell_type": "code",
   "execution_count": 247,
   "id": "0c253332-3cef-4447-81b4-5a9e4a27d6ae",
   "metadata": {},
   "outputs": [
    {
     "name": "stdout",
     "output_type": "stream",
     "text": [
      "original\n",
      "[1, 5, 2, 4, 3] \n",
      "\n",
      "after bubble sort\n",
      "[1, 2, 3, 4, 5]\n"
     ]
    }
   ],
   "source": [
    "x = [1, 5, 2, 4, 3]\n",
    "print('original'); print(x, '\\n')\n",
    "\n",
    "N = len(x)\n",
    "\n",
    "for i in range(N):\n",
    "    for j in range(i+1, N):\n",
    "        if x[i] > x[j]:\n",
    "            x[i], x[j] = x[j], x[i]\n",
    "\n",
    "print('after bubble sort'); print(x)"
   ]
  },
  {
   "cell_type": "code",
   "execution_count": 251,
   "id": "66a27768-dd19-4510-aa63-67af0e44dc0a",
   "metadata": {},
   "outputs": [
    {
     "name": "stdout",
     "output_type": "stream",
     "text": [
      "[5, 2]\n",
      "[1, 5, 2, 4, 3]\n",
      "[100, 2]\n"
     ]
    }
   ],
   "source": [
    "x = [1, 5, 2, 4, 3]\n",
    "y = x[1:3]\n",
    "print(y)\n",
    "\n",
    "y[0] = 100\n",
    "print(x)\n",
    "print(y)"
   ]
  },
  {
   "cell_type": "code",
   "execution_count": 255,
   "id": "e10c32e9-95e4-4639-ad65-1bbb63d5c7cc",
   "metadata": {},
   "outputs": [
    {
     "name": "stdout",
     "output_type": "stream",
     "text": [
      "['ox', 'ox', 'ox']\n",
      "\n",
      "['oo', 'ox', 'ox']\n"
     ]
    }
   ],
   "source": [
    "def str_rep(str, rep):\n",
    "    return [str for i in range(rep)]\n",
    "\n",
    "x = str_rep('ox', 3)\n",
    "print(x)\n",
    "\n",
    "print()\n",
    "\n",
    "x[0] = 'oo'\n",
    "print(x)"
   ]
  },
  {
   "cell_type": "code",
   "execution_count": 258,
   "id": "66c02a4a-13a9-4646-a185-753049469afa",
   "metadata": {},
   "outputs": [
    {
     "name": "stdout",
     "output_type": "stream",
     "text": [
      "[7, 28, 4.0]\n"
     ]
    }
   ],
   "source": [
    "def n_sum_avg(z):\n",
    "    n = len(z)\n",
    "    s = sum(z)\n",
    "    a = s / n\n",
    "    return [n, s, a]\n",
    "\n",
    "x = [1, 2, 3, 4, 5, 6, 7]\n",
    "res = n_sum_avg(x)\n",
    "print(res)"
   ]
  },
  {
   "cell_type": "code",
   "execution_count": 260,
   "id": "f024543f-4b61-4588-88f1-d38b3265351b",
   "metadata": {},
   "outputs": [
    {
     "name": "stdout",
     "output_type": "stream",
     "text": [
      "[1, -1, 2, -2, 5, 100] \n",
      "\n",
      "5 \n",
      "\n",
      "[5, -5, 10, -10, 25, 500]\n"
     ]
    }
   ],
   "source": [
    "def mul_list(x, a):\n",
    "    return [a * i for i in x]\n",
    "\n",
    "x = [1, -1, 2, -2, 5, 100]\n",
    "print(x, '\\n')\n",
    "\n",
    "a = 5\n",
    "print(a, '\\n')\n",
    "\n",
    "y = mul_list(x, a)\n",
    "print(y)"
   ]
  },
  {
   "cell_type": "code",
   "execution_count": 294,
   "id": "13c54ca8-b374-4042-97aa-67bd6a62f74b",
   "metadata": {},
   "outputs": [
    {
     "name": "stdout",
     "output_type": "stream",
     "text": [
      "[11, 12, 13, 14, 15, 16, 17, 18]\n",
      "[11, 0, 13, 0, 15, 0, 17, 0]\n"
     ]
    }
   ],
   "source": [
    "def zero_odd_index(z):\n",
    "    N = len(z)\n",
    "    y = [0 if i % 2 == 1 else z[i]\n",
    "        for i in range(N)]\n",
    "    return y\n",
    "\n",
    "x = [11, 12, 13, 14, 15, 16, 17, 18]\n",
    "print(x)\n",
    "y = zero_odd_index(x)\n",
    "print(y)"
   ]
  },
  {
   "cell_type": "code",
   "execution_count": 298,
   "id": "88dd55fd-ac07-4178-88de-a83d85e1212d",
   "metadata": {},
   "outputs": [
    {
     "name": "stdout",
     "output_type": "stream",
     "text": [
      "['a', 1, 'b', 2, 'c', 3] \n",
      "\n",
      "['a', 'b', 'c'] \n",
      "\n",
      "[1, 2, 3]\n"
     ]
    }
   ],
   "source": [
    "def sep_odd_even_index(z):\n",
    "    N = len(z)\n",
    "    r = range(N)\n",
    "    x = [z[i] for i in r if i % 2 == 0]\n",
    "    y = [z[i] for i in r if i % 2 == 1]\n",
    "    return [x, y]\n",
    "\n",
    "mix = ['a', 1, 'b', 2, 'c', 3]\n",
    "x, y = sep_odd_even_index(mix)\n",
    "print(mix, '\\n')\n",
    "print(x, '\\n')\n",
    "print(y)"
   ]
  },
  {
   "cell_type": "code",
   "execution_count": null,
   "id": "43052d2b-9130-4820-82f1-6f0ec5bd38a7",
   "metadata": {},
   "outputs": [],
   "source": []
  }
 ],
 "metadata": {
  "kernelspec": {
   "display_name": "Python 3 (ipykernel)",
   "language": "python",
   "name": "python3"
  },
  "language_info": {
   "codemirror_mode": {
    "name": "ipython",
    "version": 3
   },
   "file_extension": ".py",
   "mimetype": "text/x-python",
   "name": "python",
   "nbconvert_exporter": "python",
   "pygments_lexer": "ipython3",
   "version": "3.12.0"
  }
 },
 "nbformat": 4,
 "nbformat_minor": 5
}
