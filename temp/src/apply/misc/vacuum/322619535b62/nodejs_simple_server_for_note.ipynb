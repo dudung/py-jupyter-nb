{
 "cells": [
  {
   "cell_type": "code",
   "execution_count": 1,
   "id": "07cd99dc-e7f6-4a6f-bc4b-3dc61641ad06",
   "metadata": {},
   "outputs": [],
   "source": [
    "# read json file form node.js project installation"
   ]
  },
  {
   "cell_type": "markdown",
   "id": "54cf63f8-115a-426b-b9bc-c5470ce751d3",
   "metadata": {},
   "source": [
    "url https://medium.com/p/322619535b62 &rightarrow; other story"
   ]
  },
  {
   "cell_type": "markdown",
   "id": "12594126-8914-480d-9b97-4d7409dd0654",
   "metadata": {},
   "source": [
    "---\n",
    "\n",
    "# Node.js web server for simple note\n",
    "## An exploration in learning JS for web application\n",
    "\n",
    "Inspired by previous story ([Viridi, 2023](https://medium.com/@6unpnp/2b72728a1dc4)) and, of course, the very useful working tutorial ([Paul, 2020](https://medium.com/swlh/8d2c7880adbf)), an attempt with steps to create simple note using web server in Node.js is presented here.\n",
    "\n",
    "Project setup and modules\n",
    "Create a new folder, e.g. `322619535b62`, where all files will be stored in it or in its sub-folders. Initialize the project with `npm`.\n",
    "\n",
    "```\n",
    "D:\\medium\\322619535b62>npm init -y\n",
    "Wrote to D:\\medium\\322619535b62\\package.json:\n",
    "\n",
    "{\n",
    "  \"name\": \"322619535b62\",\n",
    "  \"version\": \"1.0.0\",\n",
    "  \"description\": \"\",\n",
    "  \"main\": \"index.js\",\n",
    "  \"scripts\": {\n",
    "    \"test\": \"echo \\\"Error: no test specified\\\" && exit 1\"\n",
    "  },\n",
    "  \"keywords\": [],\n",
    "  \"author\": \"\",\n",
    "  \"license\": \"ISC\"\n",
    "}\n",
    "```\n",
    "\n",
    "Install required modules in one line ([Hadzhiev, 2023](https://bobbyhadz.com/blog/npm-install-multiple-packages)).\n",
    "\n",
    "```\n",
    "D:\\medium\\322619535b62>npm install body-parser express express-rate-limit helmet sqlite3\n",
    "npm WARN deprecated @npmcli/move-file@1.1.2: This functionality has been moved to @npmcli/fs\n",
    "\n",
    "added 106 packages, and audited 174 packages in 21s\n",
    "\n",
    "15 packages are looking for funding\n",
    "  run `npm fund` for details\n",
    "\n",
    "found 0 vulnerabilities\n",
    "```\n",
    "\n",
    "List installed local modules.\n",
    "\n",
    "```\n",
    "D:\\medium\\322619535b62>npm ls -l\n",
    "322619535b62@1.0.0\n",
    "| D:\\medium\\322619535b62\n",
    "|\n",
    "+-- body-parser@1.20.2\n",
    "|\n",
    "+-- express-rate-limit@7.1.4\n",
    "|\n",
    "+-- express@4.18.2\n",
    "|\n",
    "+-- helmet@7.1.0\n",
    "|\n",
    "`-- sqlite3@5.1.6\n",
    "```\n",
    "\n",
    "List installed global modules.\n",
    "\n",
    "```\n",
    "D:\\medium\\322619535b62>npm ls -lg\n",
    "C:\\Users\\Sparisoma Viridi\\AppData\\Roaming\\npm\n",
    "|\n",
    "`-- npm@10.2.4\n",
    "    a package manager for JavaScript\n",
    "```\n",
    "\n",
    "So we know now what are the installed modules locally and globally.\n",
    "\n",
    "---\n",
    "\n",
    "+ Hadzhiev (2023) \"How to install multiple npm packages with one command\", bobbyhadz blog,\n",
    "url https://bobbyhadz.com/blog/npm-install-multiple-packages.\n",
    "+ Viridi S (2023) \"Node.js HTML form and database\", Medium,\n",
    "url https://medium.com/@6unpnp/2b72728a1dc4.\n",
    "+ Paul S (2020) \"Read HTML Form Data Using GET and POST Method in Node.js\", Medium,\n",
    "url https://medium.com/swlh/8d2c7880adbf."
   ]
  },
  {
   "cell_type": "code",
   "execution_count": 2,
   "id": "b3ee4a4d-1127-48a3-af04-aad8b0b9b7f9",
   "metadata": {},
   "outputs": [
    {
     "name": "stdout",
     "output_type": "stream",
     "text": [
      "name : 322619535b62\n",
      "version : 1.0.0\n",
      "description : \n",
      "main : index.js\n",
      "scripts : {'test': 'echo \"Error: no test specified\" && exit 1'}\n",
      "keywords : []\n",
      "author : \n",
      "license : ISC\n"
     ]
    }
   ],
   "source": [
    "import json\n",
    "\n",
    "f = open('package.json')\n",
    "\n",
    "data = json.load(f)\n",
    "\n",
    "for i in data:\n",
    "    print(i, \":\", data[i])\n",
    "\n",
    "f.close();"
   ]
  },
  {
   "cell_type": "code",
   "execution_count": null,
   "id": "6e6cca88-19f4-47a7-91c7-f73078770ff1",
   "metadata": {},
   "outputs": [],
   "source": []
  }
 ],
 "metadata": {
  "kernelspec": {
   "display_name": "Python 3 (ipykernel)",
   "language": "python",
   "name": "python3"
  },
  "language_info": {
   "codemirror_mode": {
    "name": "ipython",
    "version": 3
   },
   "file_extension": ".py",
   "mimetype": "text/x-python",
   "name": "python",
   "nbconvert_exporter": "python",
   "pygments_lexer": "ipython3",
   "version": "3.12.0"
  }
 },
 "nbformat": 4,
 "nbformat_minor": 5
}
