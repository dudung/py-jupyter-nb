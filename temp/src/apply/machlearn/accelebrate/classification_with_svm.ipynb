{
 "cells": [
  {
   "cell_type": "markdown",
   "id": "cca11c7c",
   "metadata": {},
   "source": [
    "# classification_with_svm\n",
    "Tutorial from https://www.accelebrate.com/library/tutorials/machine-learning-part2."
   ]
  },
  {
   "cell_type": "markdown",
   "id": "59134c38",
   "metadata": {},
   "source": [
    "## training a model and predicting numbers\n",
    "Step 1.1 - 1.8 form the tutorial."
   ]
  },
  {
   "cell_type": "code",
   "execution_count": 1,
   "id": "a7de4407",
   "metadata": {},
   "outputs": [
    {
     "name": "stdout",
     "output_type": "stream",
     "text": [
      "Expected Result: [8]\n",
      "Actual Result: [8]\n"
     ]
    }
   ],
   "source": [
    "from sklearn import datasets, svm\n",
    "digits = datasets.load_digits()\n",
    "clf = svm.SVC(gamma=0.001, C=100.)\n",
    "clf.fit(digits.data[:-1], digits.target[:-1]) \n",
    "\n",
    "test_result = clf.predict(digits.data[-1:])\n",
    "print(\"Expected Result: {}\".format(digits.target[-1:]))\n",
    "print(\"Actual Result: {}\".format(test_result))"
   ]
  },
  {
   "cell_type": "markdown",
   "id": "939b631f",
   "metadata": {},
   "source": [
    "## testing with custom data\n",
    "Step 2.1 - 2.5 form the tutorial."
   ]
  },
  {
   "cell_type": "code",
   "execution_count": 2,
   "id": "bcc6cea2",
   "metadata": {},
   "outputs": [
    {
     "name": "stdout",
     "output_type": "stream",
     "text": [
      "[1]\n"
     ]
    }
   ],
   "source": [
    "from sklearn import datasets, svm\n",
    "digits = datasets.load_digits()\n",
    "clf = svm.SVC(gamma=0.001, C=100.)\n",
    "clf.fit(digits.data, digits.target)\n",
    "\n",
    "sample_number = [\n",
    "    [ 0.,  0.,  0.,  0.,  16.,  0.,  0.,  0. ],\n",
    "    [ 0.,  0.,  0.,  0.,  16.,  0.,  0.,  0. ],\n",
    "    [ 0.,  0.,  0.,  0.,  16.,  0.,  0.,  0. ],\n",
    "    [ 0.,  0.,  0.,  0.,  16.,  0.,  0.,  0. ],\n",
    "    [ 0.,  0.,  0.,  0.,  16.,  0.,  0.,  0. ],\n",
    "    [ 0.,  0.,  0.,  0.,  16.,  0.,  0.,  0. ],\n",
    "    [ 0.,  0.,  0.,  0.,  16.,  0.,  0.,  0. ],\n",
    "    [ 0.,  0.,  0.,  0.,  16.,  0.,  0.,  0. ],\n",
    "]\n",
    "result = clf.predict([[item for sublist in sample_number for item in sublist]]) \n",
    "print(result)"
   ]
  },
  {
   "cell_type": "code",
   "execution_count": 3,
   "id": "8fe69388",
   "metadata": {},
   "outputs": [
    {
     "name": "stdout",
     "output_type": "stream",
     "text": [
      "[8]\n"
     ]
    }
   ],
   "source": [
    "# number 8\n",
    "sample_number_8 = [\n",
    "  [ 0.,  0.,  10.,  14.,   8.,   1.,  0.,  0. ],\n",
    "  [ 0.,  2.,  16.,  14.,   6.,   1.,  0.,  0. ],\n",
    "  [ 0.,  0.,  15.,  15.,   8.,  15.,  0.,  0. ],\n",
    "  [ 0.,  0.,   5.,  16.,  16.,  10.,  0.,  0. ],\n",
    "  [ 0.,  0.,  12.,  15.,  15.,  12.,  0.,  0. ],\n",
    "  [ 0.,  4.,  16.,   6.,   4.,  16.,  6.,  0. ],\n",
    "  [ 0.,  8.,  16.,  10.,   8.,  16.,  8.,  0. ],\n",
    "  [ 0.,  1.,   8.,  12.,  14.,  12.,  1.,  0. ],\n",
    "]\n",
    "result = clf.predict([[item for sublist in sample_number_8 for item in sublist]]) \n",
    "print(result)"
   ]
  },
  {
   "cell_type": "code",
   "execution_count": 4,
   "id": "a5143d6e",
   "metadata": {},
   "outputs": [
    {
     "name": "stdout",
     "output_type": "stream",
     "text": [
      "[1]\n"
     ]
    }
   ],
   "source": [
    "# number 1\n",
    "sample_number_1 = [\n",
    "  [ 0.,  0.,  0.,  0.,  16.,  0.,  0.,  0. ],\n",
    "  [ 0.,  0.,  0.,  0.,  16.,  0.,  0.,  0. ],\n",
    "  [ 0.,  0.,  0.,  0.,  16.,  0.,  0.,  0. ],\n",
    "  [ 0.,  0.,  0.,  0.,  16.,  0.,  0.,  0. ],\n",
    "  [ 0.,  0.,  0.,  0.,  16.,  0.,  0.,  0. ],\n",
    "  [ 0.,  0.,  0.,  0.,  16.,  0.,  0.,  0. ],\n",
    "  [ 0.,  0.,  0.,  0.,  16.,  0.,  0.,  0. ],\n",
    "  [ 0.,  0.,  0.,  0.,  16.,  0.,  0.,  0. ],\n",
    "]\n",
    "result = clf.predict([[item for sublist in sample_number_1 for item in sublist]]) \n",
    "print(result)"
   ]
  },
  {
   "cell_type": "code",
   "execution_count": 5,
   "id": "55fd4422",
   "metadata": {},
   "outputs": [
    {
     "name": "stdout",
     "output_type": "stream",
     "text": [
      "[4]\n"
     ]
    }
   ],
   "source": [
    "# number 4\n",
    "sample_number_4 = [\n",
    "  [0.,   0.,  0.,  0.,   16.,   0.,   0.,   0.,],\n",
    "  [0.,   0.,  0.,  16.,   16.,   0.,   0.,   0.,],\n",
    "  [0.,   0.,  16.,  0.,   16.,   0.,   0.,   0.,],\n",
    "  [0.,   0.,  16.,  0.,   16.,   0.,   0.,   0.,],\n",
    "  [0.,   16.,  16.,  16.,  16.,   0.,   0.,   0.,],\n",
    "  [0.,   0.,  0.,   0.,   16.,   0.,   0.,   0.,],\n",
    "  [0.,   0.,  0.,   0.,   16.,   0.,   0.,   0.,],\n",
    "  [0.,   0.,  0.,   0.,   16.,   0.,   0.,   0.,],\n",
    "]\n",
    "result = clf.predict([[item for sublist in sample_number_4 for item in sublist]]) \n",
    "print(result)"
   ]
  },
  {
   "cell_type": "code",
   "execution_count": null,
   "id": "d8e562d9",
   "metadata": {},
   "outputs": [],
   "source": []
  }
 ],
 "metadata": {
  "authors": [
   {
    "name": "Sparisoma Viridi"
   }
  ],
  "kernelspec": {
   "display_name": "Python 3 (ipykernel)",
   "language": "python",
   "name": "python3"
  },
  "language_info": {
   "codemirror_mode": {
    "name": "ipython",
    "version": 3
   },
   "file_extension": ".py",
   "mimetype": "text/x-python",
   "name": "python",
   "nbconvert_exporter": "python",
   "pygments_lexer": "ipython3",
   "version": "3.10.10"
  },
  "title": "classification_with_svm"
 },
 "nbformat": 4,
 "nbformat_minor": 5
}
