{
 "cells": [
  {
   "cell_type": "markdown",
   "id": "cca11c7c",
   "metadata": {},
   "source": [
    "# svm_advanced_techniques\n",
    "Tutorial from https://www.accelebrate.com/library/tutorials/machine-learning-part3. Some modifications must be made due to packages version changes."
   ]
  },
  {
   "cell_type": "markdown",
   "id": "22f0bad0",
   "metadata": {},
   "source": [
    "## create data file\n",
    "Step 1.2 from the tutorial.\n",
    "\n",
    "Create `digits.csv` as a new text file with following content\n",
    "\n",
    "```\n",
    "0,0,0,0,16,0,0,0,0,0,0,0,16,0,0,0,0,0,0,0,16,0,0,0,0,0,0,0,16,0,0,0,\n",
    "0,0,0,0,16,0,0,0,0,0,0,0,16,0,0,0,0,0,0,0,16,0,0,0,0,0,0,0,16,0,0,0\n",
    "```"
   ]
  },
  {
   "cell_type": "markdown",
   "id": "b1ab675f",
   "metadata": {},
   "source": [
    "## load data from file\n",
    "Step 1.2 - 1.5 from the tutorial."
   ]
  },
  {
   "cell_type": "code",
   "execution_count": 1,
   "id": "cf9a1de1",
   "metadata": {},
   "outputs": [
    {
     "name": "stdout",
     "output_type": "stream",
     "text": [
      "[1]\n"
     ]
    },
    {
     "data": {
      "image/png": "[encoded data removed]",
      "text/plain": [
       "<Figure size 216x216 with 1 Axes>"
      ]
     },
     "metadata": {
      "needs_background": "light"
     },
     "output_type": "display_data"
    }
   ],
   "source": [
    "from sklearn import datasets, svm\n",
    "import matplotlib.pyplot as plt\n",
    "import pandas as pd \n",
    "\n",
    "digits = datasets.load_digits()\n",
    "clf = svm.SVC(gamma=0.001, C=100.)\n",
    "clf.fit(digits.data, digits.target)\n",
    "\n",
    "df = pd.read_csv('digits.csv', header=None)\n",
    "sample_number = df.values[0].reshape(8,8)\n",
    "\n",
    "result = clf.predict([[item for sublist in sample_number for item in sublist]])\n",
    "print(result)\n",
    "\n",
    "plt.figure(1, figsize=(3 ,3))\n",
    "plt.imshow(sample_number, cmap=plt.cm.gray_r, interpolation='nearest')\n",
    "plt.show()"
   ]
  },
  {
   "cell_type": "markdown",
   "id": "cb472131",
   "metadata": {},
   "source": [
    "## saving the model\n",
    "Step 2.1 - 2.4 from the tutorial."
   ]
  },
  {
   "cell_type": "code",
   "execution_count": 2,
   "id": "e81988e0",
   "metadata": {
    "scrolled": true
   },
   "outputs": [
    {
     "name": "stdout",
     "output_type": "stream",
     "text": [
      "[1]\n"
     ]
    },
    {
     "data": {
      "image/png": "[encoded data removed]",
      "text/plain": [
       "<Figure size 216x216 with 1 Axes>"
      ]
     },
     "metadata": {
      "needs_background": "light"
     },
     "output_type": "display_data"
    }
   ],
   "source": [
    "from sklearn import datasets, svm\n",
    "#from sklearn.externals import joblib\n",
    "import joblib\n",
    "import matplotlib.pyplot as plt\n",
    "import pandas as pd\n",
    "\n",
    "digits = datasets.load_digits()\n",
    "clf = svm.SVC(gamma=0.001, C=100.)\n",
    "clf.fit(digits.data, digits.target)\n",
    "\n",
    "df = pd.read_csv('digits.csv', header=None)\n",
    "sample_number = df.values[0].reshape(8,8)\n",
    "\n",
    "result = clf.predict([[item for sublist in sample_number for item in sublist]])\n",
    "joblib.dump(clf, './digits.pkl')\n",
    "\n",
    "print(result)\n",
    "\n",
    "plt.figure(1, figsize=(3 ,3))\n",
    "plt.imshow(sample_number, cmap=plt.cm.gray_r, interpolation='nearest')\n",
    "plt.show()"
   ]
  },
  {
   "cell_type": "markdown",
   "id": "901faa23",
   "metadata": {},
   "source": [
    "## re-loading the model\n",
    "Step 2.5 - 2.7 from the tutorial."
   ]
  },
  {
   "cell_type": "code",
   "execution_count": 3,
   "id": "91d6b293",
   "metadata": {},
   "outputs": [
    {
     "name": "stdout",
     "output_type": "stream",
     "text": [
      "[1]\n"
     ]
    },
    {
     "data": {
      "image/png": "[encoded data removed]",
      "text/plain": [
       "<Figure size 216x216 with 1 Axes>"
      ]
     },
     "metadata": {
      "needs_background": "light"
     },
     "output_type": "display_data"
    }
   ],
   "source": [
    "from sklearn import datasets, svm\n",
    "#from sklearn.externals import joblib\n",
    "import joblib\n",
    "import matplotlib.pyplot as plt\n",
    "import pandas as pd\n",
    "\n",
    "digits = datasets.load_digits()\n",
    "\n",
    "clf = joblib.load('digits.pkl')\n",
    "\n",
    "df = pd.read_csv('digits.csv', header=None)\n",
    "sample_number = df.values[0].reshape(8,8)\n",
    "\n",
    "result = clf.predict([[item for sublist in sample_number for item in sublist]])\n",
    "\n",
    "print(result)\n",
    "\n",
    "plt.figure(1, figsize=(3 ,3))\n",
    "plt.imshow(sample_number, cmap=plt.cm.gray_r, interpolation='nearest')\n",
    "plt.show()"
   ]
  },
  {
   "cell_type": "markdown",
   "id": "cd9e4a60",
   "metadata": {},
   "source": [
    "## optimizing the hyperparameters\n",
    "Step 3.1 - 3.9 from the tutorial."
   ]
  },
  {
   "cell_type": "code",
   "execution_count": 4,
   "id": "1c1e60b5",
   "metadata": {},
   "outputs": [
    {
     "name": "stdout",
     "output_type": "stream",
     "text": [
      "Best parameter: {'C': 10.0, 'gamma': 0.001, 'kernel': 'rbf'}\n",
      "Cross-validation accuracy score: 0.981\n",
      "Test accuracy score: 1.000\n"
     ]
    }
   ],
   "source": [
    "from sklearn import datasets, svm\n",
    "#from sklearn.externals import joblib\n",
    "import joblib\n",
    "#from sklearn.grid_search import GridSearchCV\n",
    "from sklearn.model_selection import GridSearchCV\n",
    "import matplotlib.pyplot as plt\n",
    "import pandas as pd\n",
    "import numpy as np\n",
    "\n",
    "digits = datasets.load_digits()\n",
    "clf = svm.SVC(kernel='rbf', random_state=101)\n",
    "\n",
    "# both of these option arrays could be written with np.logspace\n",
    "C_options = np.array([0.001, 0.01, 0.1, 1, 10, 100, 1000])\n",
    "gamma_options = np.array([0.001, 0.01, 0.1, 0.0, 10.0, 100.0, 1000])\n",
    "hyperparameter_search_space = [\n",
    "    {\n",
    "        'kernel': ['rbf'], \n",
    "        'C': C_options, \n",
    "        'gamma': gamma_options\n",
    "    }\n",
    "]\n",
    "\n",
    "gridsearch = GridSearchCV(clf, param_grid=hyperparameter_search_space, cv=10)\n",
    "\n",
    "gridsearch.fit(digits.data[:-1], digits.target[:-1])\n",
    "\n",
    "cv_performance = gridsearch.best_score_\n",
    "test_performance = gridsearch.score(digits.data[-1:], digits.target[-1:])\n",
    "\n",
    "print('Best parameter: {}'.format(str(gridsearch.best_params_)))\n",
    "print('Cross-validation accuracy score: {0:0.3f}'.format(cv_performance))\n",
    "print('Test accuracy score: {0:0.3f}'.format(test_performance)) "
   ]
  },
  {
   "cell_type": "code",
   "execution_count": null,
   "id": "75c4c832",
   "metadata": {},
   "outputs": [],
   "source": []
  }
 ],
 "metadata": {
  "authors": [
   {
    "name": "Sparisoma Viridi"
   }
  ],
  "kernelspec": {
   "display_name": "Python 3 (ipykernel)",
   "language": "python",
   "name": "python3"
  },
  "language_info": {
   "codemirror_mode": {
    "name": "ipython",
    "version": 3
   },
   "file_extension": ".py",
   "mimetype": "text/x-python",
   "name": "python",
   "nbconvert_exporter": "python",
   "pygments_lexer": "ipython3",
   "version": "3.10.10"
  },
  "title": "svm_advanced_techniques"
 },
 "nbformat": 4,
 "nbformat_minor": 5
}
