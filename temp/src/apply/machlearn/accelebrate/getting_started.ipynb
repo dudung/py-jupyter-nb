{
 "cells": [
  {
   "cell_type": "markdown",
   "id": "cca11c7c",
   "metadata": {},
   "source": [
    "# getting_started\n",
    "Tutorial from https://www.accelebrate.com/library/tutorials/machine-learning-part1."
   ]
  },
  {
   "cell_type": "markdown",
   "id": "e1e6ec90",
   "metadata": {},
   "source": [
    "## installation\n",
    "For installation of Python, Jupyter Notebook, NumPy, matplotlib, pandas, and scikit-learn using Conda, please see Step 2.6 on the tutorial."
   ]
  },
  {
   "cell_type": "markdown",
   "id": "6a64e034",
   "metadata": {},
   "source": [
    "## scikit-learn\n",
    "Step 4.4 from the tutorial. About the difference between `scikit-learn` and `sklearn` can be found [here](https://stackoverflow.com/a/38733854/9475509)."
   ]
  },
  {
   "cell_type": "code",
   "execution_count": 1,
   "id": "77b380cd",
   "metadata": {},
   "outputs": [
    {
     "name": "stdout",
     "output_type": "stream",
     "text": [
      "[[ 0.  0.  5. ...  0.  0.  0.]\n",
      " [ 0.  0.  0. ... 10.  0.  0.]\n",
      " [ 0.  0.  0. ... 16.  9.  0.]\n",
      " ...\n",
      " [ 0.  0.  1. ...  6.  0.  0.]\n",
      " [ 0.  0.  2. ... 12.  0.  0.]\n",
      " [ 0.  0. 10. ... 12.  1.  0.]]\n"
     ]
    }
   ],
   "source": [
    "from sklearn import datasets, svm\n",
    "\n",
    "# load digits data from scikit learn\n",
    "digits = datasets.load_digits()\n",
    "  \n",
    "# configure support vector classification\n",
    "# gamma is kernel coefficient\n",
    "# C is the penalty parameter, default is 1,\n",
    "# more noisy data should be a lower value, less noisy a higher value\n",
    "clf = svm.SVC(gamma=0.001, C=100.)\n",
    "\n",
    "# train with all data except the last image\n",
    "clf.fit(digits.data[:-1], digits.target[:-1])\n",
    "\n",
    "# predict using the last image\n",
    "clf.predict(digits.data[-1:])\n",
    "\n",
    "print(digits.data)"
   ]
  },
  {
   "cell_type": "markdown",
   "id": "2820847e",
   "metadata": {},
   "source": [
    "## matplotlib\n",
    "Step 4.6 from the tutorial."
   ]
  },
  {
   "cell_type": "code",
   "execution_count": 6,
   "id": "d5b0016e",
   "metadata": {
    "scrolled": true
   },
   "outputs": [
    {
     "data": {
      "image/png": "[encoded data removed]",
      "text/plain": [
       "<Figure size 216x216 with 1 Axes>"
      ]
     },
     "metadata": {
      "needs_background": "light"
     },
     "output_type": "display_data"
    }
   ],
   "source": [
    "import matplotlib.pyplot as plt\n",
    "\n",
    "sample_number = [\n",
    "     [ 0.,   0.,  10.,  14.,   8.,   1.,  0.,  0. ],\n",
    "     [ 0.,   2.,  16.,  14.,   6.,   1.,  0.,  0. ],\n",
    "     [ 0.,   0.,  15.,  15.,   8.,  15.,  0.,  0. ],\n",
    "     [ 0.,   0.,   5.,  16.,  16.,  10.,  0.,  0. ],\n",
    "     [ 0.,   0.,  12.,  15.,  15.,  12.,  0.,  0. ],\n",
    "     [ 0.,   4.,  16.,   6.,   4.,  16.,  6.,  0. ],\n",
    "     [ 0.,   8.,  16.,  10.,   8.,  16.,  8.,  0. ],\n",
    "     [ 0.,   1.,   8.,  12.,  14.,  12.,  1.,  0. ],\n",
    "]\n",
    "\n",
    "# create a new figure 3in by 3in\n",
    "plt.figure(1, figsize=(3, 3))\n",
    "\n",
    "# display the image using a grayscale image map\n",
    "plt.imshow(sample_number, cmap=plt.cm.gray_r, interpolation='nearest')\n",
    "\n",
    "plt.show()"
   ]
  },
  {
   "cell_type": "code",
   "execution_count": 8,
   "id": "61a3fe10",
   "metadata": {},
   "outputs": [
    {
     "data": {
      "image/png": "[encoded data removed]",
      "text/plain": [
       "<Figure size 216x216 with 1 Axes>"
      ]
     },
     "metadata": {
      "needs_background": "light"
     },
     "output_type": "display_data"
    }
   ],
   "source": [
    "sample_number = digits.data[-60:]\n",
    "plt.figure(1, figsize=(3, 3))\n",
    "plt.imshow(sample_number, cmap=plt.cm.gray_r, interpolation='nearest')\n",
    "plt.show()"
   ]
  },
  {
   "cell_type": "code",
   "execution_count": null,
   "id": "aa002b73",
   "metadata": {},
   "outputs": [],
   "source": []
  }
 ],
 "metadata": {
  "authors": [
   {
    "name": "Sparisoma Viridi"
   }
  ],
  "kernelspec": {
   "display_name": "Python 3 (ipykernel)",
   "language": "python",
   "name": "python3"
  },
  "language_info": {
   "codemirror_mode": {
    "name": "ipython",
    "version": 3
   },
   "file_extension": ".py",
   "mimetype": "text/x-python",
   "name": "python",
   "nbconvert_exporter": "python",
   "pygments_lexer": "ipython3",
   "version": "3.10.10"
  },
  "title": "getting_started"
 },
 "nbformat": 4,
 "nbformat_minor": 5
}
