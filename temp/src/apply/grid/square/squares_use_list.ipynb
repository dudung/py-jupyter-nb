{
 "cells": [
  {
   "cell_type": "markdown",
   "id": "cca11c7c",
   "metadata": {},
   "source": [
    "# squares_use_list"
   ]
  },
  {
   "cell_type": "code",
   "execution_count": 1,
   "id": "84c8f77a",
   "metadata": {},
   "outputs": [],
   "source": [
    "m = [\n",
    "    [0, 0, 0, 0, 0, 0, 0, 0, 0, 0],\n",
    "    [0, 1, 0, 5, 5, 5, 0, 0, 1, 0],\n",
    "    [0, 0, 1, 0, 0, 0, 0, 1, 0, 0],\n",
    "    [0, 0, 0, 1, 0, 0, 1, 0, 0, 0],\n",
    "    [0, 2, 2, 0, 1, 1, 0, 0, 3, 0],\n",
    "    [0, 0, 2, 0, 1, 1, 0, 3, 3, 0],\n",
    "    [0, 0, 0, 1, 0, 0, 1, 0, 0, 0],\n",
    "    [0, 0, 1, 0, 0, 0, 0, 1, 0, 0],\n",
    "    [0, 1, 0, 4, 0, 4, 4, 0, 1, 0],\n",
    "    [0, 0, 0, 0, 0, 0, 0, 0, 0, 0]\n",
    "]"
   ]
  },
  {
   "cell_type": "code",
   "execution_count": 2,
   "id": "2f5e3a55",
   "metadata": {},
   "outputs": [],
   "source": [
    "import matplotlib.pyplot as plt\n",
    "from matplotlib.patches import Rectangle\n",
    "from matplotlib.ticker import MultipleLocator\n",
    "import math\n",
    "import random\n",
    "import ipynb.fs.full.squares as sq"
   ]
  },
  {
   "cell_type": "code",
   "execution_count": 3,
   "id": "7053029a",
   "metadata": {},
   "outputs": [
    {
     "data": {
      "image/png": "[encoded data removed]",
      "text/plain": [
       "<Figure size 432x432 with 1 Axes>"
      ]
     },
     "metadata": {
      "needs_background": "light"
     },
     "output_type": "display_data"
    }
   ],
   "source": [
    "fig, ax = plt.subplots(figsize=(6, 6))\n",
    "ax.xaxis.set_label_position('top')\n",
    "ax.xaxis.tick_top()\n",
    "ax.xaxis.set_minor_locator(MultipleLocator(1))\n",
    "ax.yaxis.set_minor_locator(MultipleLocator(1))\n",
    "#ax.minorticks_on()\n",
    "\n",
    "for j in range(len(m)):\n",
    "    for i in range(len(m[0])):\n",
    "        if m[j][i] == 1:\n",
    "            color = '#f88'\n",
    "        elif m[j][i] == 2:\n",
    "            color = '#8f8'\n",
    "        elif m[j][i] == 3:\n",
    "            color = '#88f'\n",
    "        elif m[j][i] == 4:\n",
    "            color = '#8ff'\n",
    "        elif m[j][i] == 5:\n",
    "            color = '#ff8'\n",
    "        else:\n",
    "            color = '#fff'\n",
    "        sq.square(i, j, color, ax, Rectangle)\n",
    "\n",
    "plt.grid()\n",
    "plt.grid(visible=True, which='both', color='#ddd')\n",
    "plt.xlim([0, 10])\n",
    "plt.ylim([10, 0])\n",
    "plt.xlabel('x')\n",
    "plt.ylabel('y')\n",
    "plt.show()"
   ]
  },
  {
   "cell_type": "code",
   "execution_count": null,
   "id": "2ba10ead",
   "metadata": {},
   "outputs": [],
   "source": []
  }
 ],
 "metadata": {
  "authors": [
   {
    "name": "Sparisoma Viridi"
   }
  ],
  "kernelspec": {
   "display_name": "Python 3 (ipykernel)",
   "language": "python",
   "name": "python3"
  },
  "language_info": {
   "codemirror_mode": {
    "name": "ipython",
    "version": 3
   },
   "file_extension": ".py",
   "mimetype": "text/x-python",
   "name": "python",
   "nbconvert_exporter": "python",
   "pygments_lexer": "ipython3",
   "version": "3.10.10"
  },
  "title": "squares_use_list"
 },
 "nbformat": 4,
 "nbformat_minor": 5
}
