{
 "cells": [
  {
   "cell_type": "markdown",
   "id": "cca11c7c",
   "metadata": {},
   "source": [
    "# draw_rows_cols_squares"
   ]
  },
  {
   "cell_type": "code",
   "execution_count": 1,
   "id": "2f5e3a55",
   "metadata": {},
   "outputs": [],
   "source": [
    "import matplotlib.pyplot as plt\n",
    "from matplotlib.patches import Rectangle\n",
    "from matplotlib.ticker import MultipleLocator\n",
    "import math\n",
    "import random"
   ]
  },
  {
   "cell_type": "code",
   "execution_count": 2,
   "id": "9e559a83",
   "metadata": {},
   "outputs": [],
   "source": [
    "def square(x, y, c):\n",
    "    ax.add_patch(\n",
    "        Rectangle(\n",
    "            #(1, 1), 1, 1,\n",
    "            (x, y), 1, 1,\n",
    "            angle=0,\n",
    "            #edgecolor='red',\n",
    "            #facecolor='#88f',\n",
    "            facecolor=c,\n",
    "            fill=True,\n",
    "            lw=1\n",
    "        )\n",
    "    )"
   ]
  },
  {
   "cell_type": "code",
   "execution_count": 3,
   "id": "8275f58e",
   "metadata": {},
   "outputs": [
    {
     "data": {
      "image/png": "[encoded data removed]",
      "text/plain": [
       "<Figure size 432x432 with 1 Axes>"
      ]
     },
     "metadata": {
      "needs_background": "light"
     },
     "output_type": "display_data"
    }
   ],
   "source": [
    "fig, ax = plt.subplots(figsize=(6, 6))\n",
    "ax.xaxis.set_label_position('top')\n",
    "ax.xaxis.tick_top()\n",
    "ax.xaxis.set_minor_locator(MultipleLocator(1))\n",
    "ax.yaxis.set_minor_locator(MultipleLocator(1))\n",
    "#ax.minorticks_on()\n",
    "\n",
    "for row in range(5, 7 + 1):\n",
    "    for col in range(3, 6 + 1):\n",
    "        square(col, row, '#aaf')\n",
    "\n",
    "plt.grid()\n",
    "plt.grid(visible=True, which='both', color='#ddd')\n",
    "plt.xlim([0, 10])\n",
    "plt.ylim([10, 0])\n",
    "plt.xlabel('x')\n",
    "plt.ylabel('y')\n",
    "plt.show()"
   ]
  },
  {
   "cell_type": "code",
   "execution_count": 4,
   "id": "7053029a",
   "metadata": {},
   "outputs": [
    {
     "data": {
      "image/png": "[encoded data removed]",
      "text/plain": [
       "<Figure size 432x432 with 1 Axes>"
      ]
     },
     "metadata": {
      "needs_background": "light"
     },
     "output_type": "display_data"
    }
   ],
   "source": [
    "fig, ax = plt.subplots(figsize=(6, 6))\n",
    "ax.xaxis.set_label_position('top')\n",
    "ax.xaxis.tick_top()\n",
    "ax.xaxis.set_minor_locator(MultipleLocator(1))\n",
    "ax.yaxis.set_minor_locator(MultipleLocator(1))\n",
    "#ax.minorticks_on()\n",
    "\n",
    "for i in range(0, 20):\n",
    "    row = random.randint(1, 9)\n",
    "    col = random.randint(1, 9)\n",
    "    square(row, col, '#f88')\n",
    "\n",
    "plt.grid()\n",
    "plt.grid(visible=True, which='both', color='#ddd')\n",
    "plt.xlim([0, 10])\n",
    "plt.ylim([10, 0])\n",
    "plt.xlabel('x')\n",
    "plt.ylabel('y')\n",
    "plt.show()"
   ]
  },
  {
   "cell_type": "code",
   "execution_count": null,
   "id": "2ba10ead",
   "metadata": {},
   "outputs": [],
   "source": []
  }
 ],
 "metadata": {
  "authors": [
   {
    "name": "Sparisoma Viridi"
   }
  ],
  "kernelspec": {
   "display_name": "Python 3 (ipykernel)",
   "language": "python",
   "name": "python3"
  },
  "language_info": {
   "codemirror_mode": {
    "name": "ipython",
    "version": 3
   },
   "file_extension": ".py",
   "mimetype": "text/x-python",
   "name": "python",
   "nbconvert_exporter": "python",
   "pygments_lexer": "ipython3",
   "version": "3.10.10"
  },
  "title": "draw_3_rectangles"
 },
 "nbformat": 4,
 "nbformat_minor": 5
}
