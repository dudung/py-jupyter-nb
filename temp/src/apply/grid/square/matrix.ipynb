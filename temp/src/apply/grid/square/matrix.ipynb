{
 "cells": [
  {
   "cell_type": "markdown",
   "id": "cca11c7c",
   "metadata": {},
   "source": [
    "# matrix"
   ]
  },
  {
   "cell_type": "code",
   "execution_count": null,
   "id": "6d8e6e3b",
   "metadata": {},
   "outputs": [],
   "source": [
    "def new0mat(rows, cols):\n",
    "    m = []\n",
    "    for j in range(rows):\n",
    "        r = []\n",
    "        for i in range(cols):\n",
    "            r.append(0)\n",
    "        m.append(r)\n",
    "    return m"
   ]
  },
  {
   "cell_type": "code",
   "execution_count": null,
   "id": "2ba10ead",
   "metadata": {},
   "outputs": [],
   "source": [
    "def mat2str(m):\n",
    "    t = ''\n",
    "    for i in range(len(m)):\n",
    "        for j in range(len(m[0])):\n",
    "            t += f\"{m[j][i]:02d} \"\n",
    "        t += '\\n'\n",
    "    return t"
   ]
  },
  {
   "cell_type": "code",
   "execution_count": null,
   "id": "91c904e1",
   "metadata": {},
   "outputs": [],
   "source": [
    "def add1border(m):\n",
    "    rows = len(m)\n",
    "    cols = len(m[0])\n",
    "    for j in range(rows):\n",
    "        m[j][0] = 1\n",
    "        m[j][cols-1] = 1\n",
    "        if j == 0 or j == rows-1:\n",
    "            for i in range(cols):\n",
    "                m[j][i] = 1\n",
    "        pass"
   ]
  },
  {
   "cell_type": "code",
   "execution_count": null,
   "id": "659f6cb9",
   "metadata": {},
   "outputs": [],
   "source": []
  }
 ],
 "metadata": {
  "authors": [
   {
    "name": "Sparisoma Viridi"
   }
  ],
  "kernelspec": {
   "display_name": "Python 3 (ipykernel)",
   "language": "python",
   "name": "python3"
  },
  "language_info": {
   "codemirror_mode": {
    "name": "ipython",
    "version": 3
   },
   "file_extension": ".py",
   "mimetype": "text/x-python",
   "name": "python",
   "nbconvert_exporter": "python",
   "pygments_lexer": "ipython3",
   "version": "3.11.2"
  },
  "title": "matrix"
 },
 "nbformat": 4,
 "nbformat_minor": 5
}
