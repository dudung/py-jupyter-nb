{
 "cells": [
  {
   "cell_type": "markdown",
   "id": "cca11c7c",
   "metadata": {},
   "source": [
    "# squares"
   ]
  },
  {
   "cell_type": "code",
   "execution_count": null,
   "id": "9e559a83",
   "metadata": {},
   "outputs": [],
   "source": [
    "def square(x, y, c, ax, Rectangle):\n",
    "    ax.add_patch(\n",
    "        Rectangle(\n",
    "            #(1, 1), 1, 1,\n",
    "            (x, y), 1, 1,\n",
    "            angle=0,\n",
    "            #edgecolor='red',\n",
    "            #facecolor='#88f',\n",
    "            facecolor=c,\n",
    "            fill=True,\n",
    "            lw=1\n",
    "        )\n",
    "    )"
   ]
  },
  {
   "cell_type": "code",
   "execution_count": null,
   "id": "2ba10ead",
   "metadata": {},
   "outputs": [],
   "source": []
  }
 ],
 "metadata": {
  "authors": [
   {
    "name": "Sparisoma Viridi"
   }
  ],
  "kernelspec": {
   "display_name": "Python 3 (ipykernel)",
   "language": "python",
   "name": "python3"
  },
  "language_info": {
   "codemirror_mode": {
    "name": "ipython",
    "version": 3
   },
   "file_extension": ".py",
   "mimetype": "text/x-python",
   "name": "python",
   "nbconvert_exporter": "python",
   "pygments_lexer": "ipython3",
   "version": "3.10.10"
  },
  "title": "squares"
 },
 "nbformat": 4,
 "nbformat_minor": 5
}
