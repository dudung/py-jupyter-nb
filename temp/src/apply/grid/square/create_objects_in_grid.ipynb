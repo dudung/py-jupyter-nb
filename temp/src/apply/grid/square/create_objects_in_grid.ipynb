{
 "cells": [
  {
   "cell_type": "markdown",
   "id": "cca11c7c",
   "metadata": {},
   "source": [
    "# create_objects_in_grid"
   ]
  },
  {
   "cell_type": "code",
   "execution_count": 1,
   "id": "9625603b",
   "metadata": {},
   "outputs": [],
   "source": [
    "import ipynb.fs.full.matrix as mat"
   ]
  },
  {
   "cell_type": "code",
   "execution_count": 2,
   "id": "db894ef4",
   "metadata": {},
   "outputs": [
    {
     "name": "stdout",
     "output_type": "stream",
     "text": [
      "[[0, 0, 0, 0, 0], [0, 0, 0, 0, 0], [0, 0, 0, 0, 0], [0, 0, 0, 0, 0], [0, 0, 0, 0, 0]]\n"
     ]
    }
   ],
   "source": [
    "m1 = mat.new0mat(5, 5)\n",
    "print(m1)"
   ]
  },
  {
   "cell_type": "code",
   "execution_count": 3,
   "id": "91c904e1",
   "metadata": {},
   "outputs": [
    {
     "name": "stdout",
     "output_type": "stream",
     "text": [
      "00 00 00 00 00 \n",
      "00 00 00 00 00 \n",
      "00 00 00 00 00 \n",
      "00 00 00 00 00 \n",
      "00 00 00 00 00 \n",
      "\n"
     ]
    }
   ],
   "source": [
    "m1s = mat.mat2str(m1)\n",
    "print(m1s)"
   ]
  },
  {
   "cell_type": "code",
   "execution_count": 4,
   "id": "0ddfa91e",
   "metadata": {},
   "outputs": [
    {
     "name": "stdout",
     "output_type": "stream",
     "text": [
      "[[1, 1, 1, 1, 1], [1, 0, 0, 0, 1], [1, 0, 0, 0, 1], [1, 0, 0, 0, 1], [1, 1, 1, 1, 1]]\n"
     ]
    }
   ],
   "source": [
    "mat.add1border(m1)\n",
    "print(m1)"
   ]
  },
  {
   "cell_type": "code",
   "execution_count": 5,
   "id": "8a65d32b",
   "metadata": {},
   "outputs": [
    {
     "name": "stdout",
     "output_type": "stream",
     "text": [
      "01 01 01 01 01 \n",
      "01 00 00 00 01 \n",
      "01 00 00 00 01 \n",
      "01 00 00 00 01 \n",
      "01 01 01 01 01 \n",
      "\n"
     ]
    }
   ],
   "source": [
    "m1s = mat.mat2str(m1)\n",
    "print(m1s)"
   ]
  },
  {
   "cell_type": "code",
   "execution_count": null,
   "id": "24710884",
   "metadata": {},
   "outputs": [],
   "source": []
  },
  {
   "cell_type": "code",
   "execution_count": null,
   "id": "ccfc4302",
   "metadata": {},
   "outputs": [],
   "source": []
  }
 ],
 "metadata": {
  "authors": [
   {
    "name": "Sparisoma Viridi"
   }
  ],
  "kernelspec": {
   "display_name": "Python 3 (ipykernel)",
   "language": "python",
   "name": "python3"
  },
  "language_info": {
   "codemirror_mode": {
    "name": "ipython",
    "version": 3
   },
   "file_extension": ".py",
   "mimetype": "text/x-python",
   "name": "python",
   "nbconvert_exporter": "python",
   "pygments_lexer": "ipython3",
   "version": "3.11.2"
  },
  "title": "print_square_list_text"
 },
 "nbformat": 4,
 "nbformat_minor": 5
}
