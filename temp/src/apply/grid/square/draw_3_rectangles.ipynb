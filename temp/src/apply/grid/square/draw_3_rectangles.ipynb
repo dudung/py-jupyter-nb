{
 "cells": [
  {
   "cell_type": "markdown",
   "id": "cca11c7c",
   "metadata": {},
   "source": [
    "# draw_3_rectangle\n",
    "Draw a rectangle as mentioned [here](https://www.statology.org/matplotlib-rectangle/) but with additional features such [minor grid](https://stackoverflow.com/a/67382377/9475509) and [figure size](https://stackoverflow.com/a/14770827/9475509)."
   ]
  },
  {
   "cell_type": "code",
   "execution_count": 1,
   "id": "8275f58e",
   "metadata": {},
   "outputs": [
    {
     "data": {
      "image/png": "[encoded data removed]",
      "text/plain": [
       "<Figure size 288x288 with 1 Axes>"
      ]
     },
     "metadata": {
      "needs_background": "light"
     },
     "output_type": "display_data"
    }
   ],
   "source": [
    "import matplotlib.pyplot as plt\n",
    "from matplotlib.patches import Rectangle\n",
    "from matplotlib.ticker import MultipleLocator\n",
    "import math\n",
    "\n",
    "fig, ax = plt.subplots(figsize=(4, 4))\n",
    "ax.minorticks_on()\n",
    "ax.xaxis.set_minor_locator(MultipleLocator(1))\n",
    "ax.yaxis.set_minor_locator(MultipleLocator(1))\n",
    "\n",
    "ax.add_patch(\n",
    "    Rectangle(\n",
    "        (4, 1), 5, 1,\n",
    "        angle=0,\n",
    "        edgecolor='red',\n",
    "        facecolor='#fcc',\n",
    "        fill=True,\n",
    "        lw=1\n",
    "    )\n",
    ")\n",
    "\n",
    "ax.add_patch(\n",
    "    Rectangle(\n",
    "        (4, 2), 3*math.sqrt(2), math.sqrt(2),\n",
    "        angle=45,\n",
    "        edgecolor='green',\n",
    "        facecolor='#cfc',\n",
    "        fill=True,\n",
    "        lw=1\n",
    "    )\n",
    ")\n",
    "\n",
    "ax.add_patch(\n",
    "    Rectangle(\n",
    "        (3, 3), 5, 1,\n",
    "        angle=90,\n",
    "        edgecolor='blue',\n",
    "        facecolor='#ccf',\n",
    "        fill=True,\n",
    "        lw=1\n",
    "    )\n",
    ")\n",
    "\n",
    "plt.grid()\n",
    "plt.grid(visible=True, which='minor')\n",
    "plt.xlim([0, 10])\n",
    "plt.ylim([0, 10])\n",
    "plt.xlabel('x')\n",
    "plt.ylabel('y')\n",
    "plt.show()"
   ]
  },
  {
   "cell_type": "code",
   "execution_count": null,
   "id": "2ba10ead",
   "metadata": {},
   "outputs": [],
   "source": []
  }
 ],
 "metadata": {
  "authors": [
   {
    "name": "Sparisoma Viridi"
   }
  ],
  "kernelspec": {
   "display_name": "Python 3 (ipykernel)",
   "language": "python",
   "name": "python3"
  },
  "language_info": {
   "codemirror_mode": {
    "name": "ipython",
    "version": 3
   },
   "file_extension": ".py",
   "mimetype": "text/x-python",
   "name": "python",
   "nbconvert_exporter": "python",
   "pygments_lexer": "ipython3",
   "version": "3.10.10"
  },
  "title": "draw_3_rectangles"
 },
 "nbformat": 4,
 "nbformat_minor": 5
}
