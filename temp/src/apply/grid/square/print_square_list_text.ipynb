{
 "cells": [
  {
   "cell_type": "markdown",
   "id": "cca11c7c",
   "metadata": {},
   "source": [
    "# print_square_list_text"
   ]
  },
  {
   "cell_type": "code",
   "execution_count": 1,
   "id": "84c8f77a",
   "metadata": {},
   "outputs": [],
   "source": [
    "m = [\n",
    "    [1, 1, 1, 1, 1, 1, 1, 1, 1, 1],\n",
    "    [1, 0, 0, 0, 0, 0, 0, 0, 0, 1],\n",
    "    [1, 0, 0, 0, 0, 0, 0, 0, 0, 1],\n",
    "    [1, 0, 0, 2, 0, 0, 5, 0, 0, 1],\n",
    "    [1, 0, 0, 0, 0, 0, 0, 0, 0, 1],\n",
    "    [1, 0, 0, 0, 0, 0, 0, 0, 0, 1],\n",
    "    [1, 0, 0, 3, 0, 0, 4, 0, 0, 1],\n",
    "    [1, 0, 0, 0, 0, 0, 0, 0, 0, 1],\n",
    "    [1, 0, 0, 0, 0, 0, 0, 0, 0, 1],\n",
    "    [1, 1, 1, 1, 1, 1, 1, 1, 1, 1],\n",
    "]"
   ]
  },
  {
   "cell_type": "code",
   "execution_count": 2,
   "id": "2f5e3a55",
   "metadata": {},
   "outputs": [],
   "source": [
    "import matplotlib.pyplot as plt\n",
    "from matplotlib.patches import Rectangle\n",
    "from matplotlib.ticker import MultipleLocator\n",
    "import math\n",
    "import random\n",
    "import ipynb.fs.full.squares as sq"
   ]
  },
  {
   "cell_type": "code",
   "execution_count": 3,
   "id": "7053029a",
   "metadata": {},
   "outputs": [
    {
     "data": {
      "image/png": "[encoded data removed]",
      "text/plain": [
       "<Figure size 288x288 with 1 Axes>"
      ]
     },
     "metadata": {
      "needs_background": "light"
     },
     "output_type": "display_data"
    }
   ],
   "source": [
    "fig, ax = plt.subplots(figsize=(4, 4))\n",
    "ax.xaxis.set_label_position('top')\n",
    "ax.xaxis.tick_top()\n",
    "ax.xaxis.set_minor_locator(MultipleLocator(1))\n",
    "ax.yaxis.set_minor_locator(MultipleLocator(1))\n",
    "#ax.minorticks_on()\n",
    "\n",
    "for j in range(len(m)):\n",
    "    for i in range(len(m[0])):\n",
    "        if m[j][i] == 1:\n",
    "            color = 'black'\n",
    "        elif m[j][i] == 2:\n",
    "            color = 'tab:blue'\n",
    "        elif m[j][i] == 3:\n",
    "            color = 'tab:green'\n",
    "        elif m[j][i] == 4:\n",
    "            color = 'tab:red'\n",
    "        elif m[j][i] == 5:\n",
    "            color = 'tab:orange'\n",
    "        else:\n",
    "            color = 'white'\n",
    "        sq.square(i, j, color, ax, Rectangle)\n",
    "\n",
    "plt.grid()\n",
    "plt.grid(visible=True, which='both', color='#ddd')\n",
    "plt.xlim([0, 10])\n",
    "plt.ylim([10, 0])\n",
    "plt.xlabel('x')\n",
    "plt.ylabel('y')\n",
    "plt.show()"
   ]
  },
  {
   "cell_type": "code",
   "execution_count": 4,
   "id": "2ba10ead",
   "metadata": {},
   "outputs": [],
   "source": [
    "def mat2text(m):\n",
    "    t = ''\n",
    "    for i in range(len(m)):\n",
    "        for j in range(len(m[0])):\n",
    "            t += f\"{m[j][i]:02d} \"\n",
    "        t += '\\n'\n",
    "    return t\n",
    "\n",
    "tm = mat2text(m)"
   ]
  },
  {
   "cell_type": "code",
   "execution_count": null,
   "id": "d5e895ba",
   "metadata": {},
   "outputs": [
    {
     "name": "stdout",
     "output_type": "stream",
     "text": [
      "01 01 01 01 01 01 01 01 01 01 \n",
      "01 00 00 00 00 00 00 00 00 01 \n",
      "01 00 00 00 00 00 00 00 00 01 \n",
      "01 00 00 02 00 00 03 00 00 01 \n",
      "01 00 00 00 18 00 00 00 00 01 \n",
      "01 00 00 00 00 00 00 00 00 01 \n",
      "01 00 00 05 00 00 04 00 00 01 \n",
      "01 00 00 00 00 00 00 00 00 01 \n",
      "01 00 00 00 00 00 00 00 00 01 \n",
      "01 01 01 01 01 01 01 01 01 01 \n",
      "\n"
     ]
    }
   ],
   "source": [
    "from IPython.display import clear_output\n",
    "import time\n",
    "\n",
    "for i in range(0, 100):\n",
    "    clear_output(wait=True)\n",
    "    m[4][4] = i\n",
    "    tm = mat2text(m)\n",
    "    print(tm)\n",
    "    time.sleep(0.5)"
   ]
  },
  {
   "cell_type": "code",
   "execution_count": null,
   "id": "91c904e1",
   "metadata": {},
   "outputs": [],
   "source": []
  }
 ],
 "metadata": {
  "authors": [
   {
    "name": "Sparisoma Viridi"
   }
  ],
  "kernelspec": {
   "display_name": "Python 3 (ipykernel)",
   "language": "python",
   "name": "python3"
  },
  "language_info": {
   "codemirror_mode": {
    "name": "ipython",
    "version": 3
   },
   "file_extension": ".py",
   "mimetype": "text/x-python",
   "name": "python",
   "nbconvert_exporter": "python",
   "pygments_lexer": "ipython3",
   "version": "3.10.10"
  },
  "title": "print_square_list_text"
 },
 "nbformat": 4,
 "nbformat_minor": 5
}
