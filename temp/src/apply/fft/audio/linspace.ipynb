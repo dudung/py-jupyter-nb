{
 "cells": [
  {
   "cell_type": "markdown",
   "id": "cca11c7c",
   "metadata": {},
   "source": [
    "# linspace\n",
    "Use of linspace for Fourier transform"
   ]
  },
  {
   "cell_type": "code",
   "execution_count": 1,
   "id": "a5cdf690",
   "metadata": {
    "scrolled": true
   },
   "outputs": [
    {
     "name": "stdout",
     "output_type": "stream",
     "text": [
      "N = 11\n",
      "x = [2.  2.2 2.4 2.6 2.8 3.  3.2 3.4 3.6 3.8 4. ]\n"
     ]
    }
   ],
   "source": [
    "# There are 11 points with from 2 to 4 (end point is inclusive)\n",
    "import numpy as np\n",
    "beg = 2\n",
    "end = 4\n",
    "points = 11\n",
    "x = np.linspace(beg, end, points, endpoint=True)\n",
    "print(\"N =\", len(x))\n",
    "print(\"x =\", x)"
   ]
  },
  {
   "cell_type": "code",
   "execution_count": 2,
   "id": "4841baab",
   "metadata": {},
   "outputs": [
    {
     "name": "stdout",
     "output_type": "stream",
     "text": [
      "N = 10\n",
      "x = [2.  2.2 2.4 2.6 2.8 3.  3.2 3.4 3.6 3.8]\n"
     ]
    }
   ],
   "source": [
    "# There are 10 points from 2 to 4 (end point is exclusive)\n",
    "import numpy as np\n",
    "beg = 2\n",
    "end = 4\n",
    "points = 10\n",
    "x = np.linspace(beg, end, points, endpoint=False)\n",
    "print(\"N =\", len(x))\n",
    "print(\"x =\", x)"
   ]
  },
  {
   "cell_type": "code",
   "execution_count": 3,
   "id": "aed970de",
   "metadata": {},
   "outputs": [
    {
     "name": "stdout",
     "output_type": "stream",
     "text": [
      "N = 11\n",
      "x = [2.         2.18181818 2.36363636 2.54545455 2.72727273 2.90909091\n",
      " 3.09090909 3.27272727 3.45454545 3.63636364 3.81818182]\n"
     ]
    }
   ],
   "source": [
    "# There are 11 points from 2 to 4 (end point is exclusive)\n",
    "import numpy as np\n",
    "beg = 2\n",
    "end = 4\n",
    "points = 11\n",
    "x = np.linspace(beg, end, points, endpoint=False)\n",
    "print(\"N =\", len(x))\n",
    "print(\"x =\", x)"
   ]
  },
  {
   "cell_type": "code",
   "execution_count": 4,
   "id": "60c19655",
   "metadata": {},
   "outputs": [
    {
     "name": "stdout",
     "output_type": "stream",
     "text": [
      "N = 10\n",
      "x = [2.         2.22222222 2.44444444 2.66666667 2.88888889 3.11111111\n",
      " 3.33333333 3.55555556 3.77777778 4.        ]\n"
     ]
    }
   ],
   "source": [
    "# There are 10 points with from 2 to 4 (end point is inclusive)\n",
    "import numpy as np\n",
    "beg = 2\n",
    "end = 4\n",
    "points = 10\n",
    "x = np.linspace(beg, end, points, endpoint=True)\n",
    "print(\"N =\", len(x))\n",
    "print(\"x =\", x)"
   ]
  },
  {
   "cell_type": "code",
   "execution_count": null,
   "id": "e6708887",
   "metadata": {},
   "outputs": [],
   "source": []
  }
 ],
 "metadata": {
  "authors": [
   {
    "name": "Sparisoma Viridi"
   }
  ],
  "kernelspec": {
   "display_name": "Python 3 (ipykernel)",
   "language": "python",
   "name": "python3"
  },
  "language_info": {
   "codemirror_mode": {
    "name": "ipython",
    "version": 3
   },
   "file_extension": ".py",
   "mimetype": "text/x-python",
   "name": "python",
   "nbconvert_exporter": "python",
   "pygments_lexer": "ipython3",
   "version": "3.10.9"
  },
  "title": "linspace"
 },
 "nbformat": 4,
 "nbformat_minor": 5
}
