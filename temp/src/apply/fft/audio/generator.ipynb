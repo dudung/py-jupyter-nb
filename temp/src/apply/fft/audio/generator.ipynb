{
 "cells": [
  {
   "cell_type": "markdown",
   "id": "cca11c7c",
   "metadata": {},
   "source": [
    "# generator\n",
    "Generate wave for Fourier transform"
   ]
  },
  {
   "cell_type": "code",
   "execution_count": null,
   "id": "e6708887",
   "metadata": {},
   "outputs": [],
   "source": [
    "import numpy as np\n",
    "\n",
    "def sine_wave(freq, sample_rate, duration):\n",
    "    t = np.linspace(0, duration, sample_rate * duration, endpoint=False)\n",
    "    omega = 2 * np.pi * freq\n",
    "    y = np.sin(omega * t)\n",
    "    return t, y\n",
    "\n",
    "def cosine_wave(freq, sample_rate, duration):\n",
    "    t = np.linspace(0, duration, sample_rate * duration, endpoint=False)\n",
    "    omega = 2 * np.pi * freq\n",
    "    y = np.cos(omega * t)\n",
    "    return t, y"
   ]
  }
 ],
 "metadata": {
  "authors": [
   {
    "name": "Sparisoma Viridi"
   }
  ],
  "kernelspec": {
   "display_name": "Python 3 (ipykernel)",
   "language": "python",
   "name": "python3"
  },
  "language_info": {
   "codemirror_mode": {
    "name": "ipython",
    "version": 3
   },
   "file_extension": ".py",
   "mimetype": "text/x-python",
   "name": "python",
   "nbconvert_exporter": "python",
   "pygments_lexer": "ipython3",
   "version": "3.10.9"
  },
  "title": "generator"
 },
 "nbformat": 4,
 "nbformat_minor": 5
}
