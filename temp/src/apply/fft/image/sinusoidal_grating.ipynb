{
 "cells": [
  {
   "cell_type": "markdown",
   "id": "cca11c7c",
   "metadata": {},
   "source": [
    "# sinusoidal_grating\n",
    "Generate sinusoidal grating in a direction (and also other)."
   ]
  },
  {
   "cell_type": "code",
   "execution_count": 1,
   "id": "6fe0c445",
   "metadata": {},
   "outputs": [
    {
     "name": "stdout",
     "output_type": "stream",
     "text": [
      "deg  rad   file\n",
      "000  0.00  data2/sg_000.png  written\n",
      "015  0.26  data2/sg_015.png  written\n",
      "030  0.52  data2/sg_030.png  written\n",
      "045  0.79  data2/sg_045.png  written\n",
      "060  1.05  data2/sg_060.png  written\n",
      "075  1.31  data2/sg_075.png  written\n",
      "090  1.57  data2/sg_090.png  written\n",
      "105  1.83  data2/sg_105.png  written\n",
      "120  2.09  data2/sg_120.png  written\n",
      "135  2.36  data2/sg_135.png  written\n",
      "150  2.62  data2/sg_150.png  written\n",
      "165  2.88  data2/sg_165.png  written\n",
      "180  3.14  data2/sg_180.png  written\n",
      "195  3.40  data2/sg_195.png  written\n",
      "210  3.67  data2/sg_210.png  written\n",
      "225  3.93  data2/sg_225.png  written\n",
      "240  4.19  data2/sg_240.png  written\n",
      "255  4.45  data2/sg_255.png  written\n",
      "270  4.71  data2/sg_270.png  written\n",
      "285  4.97  data2/sg_285.png  written\n",
      "300  5.24  data2/sg_300.png  written\n",
      "315  5.50  data2/sg_315.png  written\n",
      "330  5.76  data2/sg_330.png  written\n",
      "345  6.02  data2/sg_345.png  written\n"
     ]
    }
   ],
   "source": [
    "import numpy as np\n",
    "from PIL import Image\n",
    "import ipynb.fs.full.generator2 as sg\n",
    "\n",
    "wavelength = 20\n",
    "size = 100\n",
    "angles = [i * 15 for i in range(24)]\n",
    "print(\"deg  rad   file\")\n",
    "for deg in angles:\n",
    "    rad = deg / 180 * np.pi\n",
    "    ofname = f\"data2/sg_{deg:03}.png\"\n",
    "    print(f\"{deg:03}  {rad:.2f}  {ofname}  \", end='')\n",
    "    im = sg.create_png_image_sinusoidal_grating(Image, size, wavelength, rad)\n",
    "    im.save(ofname, 'PNG')\n",
    "    print(\"written\")"
   ]
  },
  {
   "cell_type": "markdown",
   "id": "c024284f",
   "metadata": {},
   "source": [
    "## results\n",
    "![](data2/sg_000.png)<br>`000` | ![](data2/sg_015.png)<br>`015` | ![](data2/sg_030.png)<br>`030` | ![](data2/sg_045.png)<br>`045` | ![](data2/sg_060.png)<br>`060` | ![](data2/sg_075.png)<br>`075`\n",
    ":-: | :-: | :-: | :-: | :-: | :-:\n",
    "![](data2/sg_090.png)<br>`090` | ![](data2/sg_105.png)<br>`105` | ![](data2/sg_120.png)<br>`120` | ![](data2/sg_135.png)<br>`135` | ![](data2/sg_150.png)<br>`150` | ![](data2/sg_165.png)<br>`165`\n",
    "![](data2/sg_180.png)<br>`180` | ![](data2/sg_195.png)<br>`195` | ![](data2/sg_210.png)<br>`210` | ![](data2/sg_225.png)<br>`225` | ![](data2/sg_240.png)<br>`240` | ![](data2/sg_255.png)<br>`255`\n",
    "![](data2/sg_270.png)<br>`270` | ![](data2/sg_285.png)<br>`285` | ![](data2/sg_300.png)<br>`300` | ![](data2/sg_315.png)<br>`315` | ![](data2/sg_330.png)<br>`330` | ![](data2/sg_345.png)<br>`345`"
   ]
  },
  {
   "cell_type": "markdown",
   "id": "7a8fd3ca",
   "metadata": {},
   "source": [
    "## refs\n",
    "1. \"How to Create Any Image Using Only Sine Functions | 2D Fourier Transform in Python\", url https://thepythoncodingbook.com/2021/08/30/2d-fourier-transform-in-python-and-fourier-synthesis-of-images/ [20230206].\n",
    "2. \"Save Plot to Image File Using Matplotlib\", url https://blog.finxter.com/save-plot-to-image-file-using-matplotlib/ [20230206]."
   ]
  },
  {
   "cell_type": "code",
   "execution_count": null,
   "id": "63af05b2",
   "metadata": {},
   "outputs": [],
   "source": []
  }
 ],
 "metadata": {
  "authors": [
   {
    "name": "Sparisoma Viridi"
   }
  ],
  "kernelspec": {
   "display_name": "Python 3 (ipykernel)",
   "language": "python",
   "name": "python3"
  },
  "language_info": {
   "codemirror_mode": {
    "name": "ipython",
    "version": 3
   },
   "file_extension": ".py",
   "mimetype": "text/x-python",
   "name": "python",
   "nbconvert_exporter": "python",
   "pygments_lexer": "ipython3",
   "version": "3.9.12"
  },
  "title": "sinusoidal_grating"
 },
 "nbformat": 4,
 "nbformat_minor": 5
}
