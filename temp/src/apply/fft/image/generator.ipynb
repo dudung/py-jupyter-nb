{
 "cells": [
  {
   "cell_type": "markdown",
   "id": "cca11c7c",
   "metadata": {},
   "source": [
    "# generator\n",
    "Generate chess board-like image from number of rectangles in x and y directions."
   ]
  },
  {
   "cell_type": "code",
   "execution_count": null,
   "id": "3c0aaf8c",
   "metadata": {},
   "outputs": [],
   "source": [
    "def binary_chess_board(width, height, numrex, numrey):\n",
    "    y = True\n",
    "    rows = []\n",
    "    for j in range(height):\n",
    "        if j % (height / numrey) == 0:\n",
    "            y = not y\n",
    "        x = True\n",
    "        cols = []\n",
    "        for i in range(width):\n",
    "            if i % (width / numrex) == 0:\n",
    "                x = not x\n",
    "            val = int(x != y)\n",
    "            #val = f\"{int(x)}{int(y)}\"\n",
    "            cols.append(val)\n",
    "        rows.append(cols)\n",
    "    return rows\n",
    "\n",
    "def test_binary_chess_board():\n",
    "    m = binary_chess_board(20, 20, 2, 10)\n",
    "    for j in m:\n",
    "        print(j)"
   ]
  },
  {
   "cell_type": "code",
   "execution_count": null,
   "id": "c6f8188c",
   "metadata": {},
   "outputs": [],
   "source": [
    "def create_png_image_chess_board(Image, width, height, numrex, numrey):\n",
    "    bcb = binary_chess_board(width, height, numrex, numrey)\n",
    "    \n",
    "    #im = Image.new('RGB', (width, height))\n",
    "    im = Image.new('L', (width, height))\n",
    "    pix = im.load()\n",
    "    for y in range(height):\n",
    "        for x in range(width):\n",
    "            #r = 255 * bcb[y][x]\n",
    "            #g = 255 * bcb[y][x]\n",
    "            #b = 255 * bcb[y][x]\n",
    "            #pix[x, y] = (r, g, b)\n",
    "            c = 255 * bcb[y][x]\n",
    "            pix[x, y] = (c)\n",
    "    return im\n",
    "\n",
    "def test_create_png_image_chess_board():\n",
    "    im = create_png_image_chess_board(100, 100, 4, 5)\n",
    "    im.save('data/test_chess_board.png', 'PNG')"
   ]
  },
  {
   "cell_type": "markdown",
   "id": "7a8fd3ca",
   "metadata": {},
   "source": [
    "## refs\n",
    "1. \"How can I convert an RGB image into grayscale in Python?\", url https://stackoverflow.com/a/12201744/9475509 [20230206]."
   ]
  },
  {
   "cell_type": "code",
   "execution_count": null,
   "id": "b588d91d",
   "metadata": {},
   "outputs": [],
   "source": []
  }
 ],
 "metadata": {
  "authors": [
   {
    "name": "Sparisoma Viridi"
   }
  ],
  "kernelspec": {
   "display_name": "Python 3 (ipykernel)",
   "language": "python",
   "name": "python3"
  },
  "language_info": {
   "codemirror_mode": {
    "name": "ipython",
    "version": 3
   },
   "file_extension": ".py",
   "mimetype": "text/x-python",
   "name": "python",
   "nbconvert_exporter": "python",
   "pygments_lexer": "ipython3",
   "version": "3.10.9"
  },
  "title": "generator"
 },
 "nbformat": 4,
 "nbformat_minor": 5
}
