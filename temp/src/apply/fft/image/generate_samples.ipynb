{
 "cells": [
  {
   "cell_type": "markdown",
   "id": "cca11c7c",
   "metadata": {},
   "source": [
    "# generate_samples\n",
    "Generate samples in the form of chess board-like images."
   ]
  },
  {
   "cell_type": "code",
   "execution_count": 1,
   "id": "691f2b25",
   "metadata": {},
   "outputs": [
    {
     "name": "stdout",
     "output_type": "stream",
     "text": [
      "[0, 0, 1, 1, 0, 0, 1, 1, 0, 0]\n",
      "[0, 0, 1, 1, 0, 0, 1, 1, 0, 0]\n",
      "[0, 0, 1, 1, 0, 0, 1, 1, 0, 0]\n",
      "[0, 0, 1, 1, 0, 0, 1, 1, 0, 0]\n",
      "[1, 1, 0, 0, 1, 1, 0, 0, 1, 1]\n",
      "[1, 1, 0, 0, 1, 1, 0, 0, 1, 1]\n",
      "[1, 1, 0, 0, 1, 1, 0, 0, 1, 1]\n",
      "[1, 1, 0, 0, 1, 1, 0, 0, 1, 1]\n",
      "[0, 0, 1, 1, 0, 0, 1, 1, 0, 0]\n",
      "[0, 0, 1, 1, 0, 0, 1, 1, 0, 0]\n",
      "[0, 0, 1, 1, 0, 0, 1, 1, 0, 0]\n",
      "[0, 0, 1, 1, 0, 0, 1, 1, 0, 0]\n"
     ]
    }
   ],
   "source": [
    "import ipynb.fs.full.generator as gen\n",
    "m = gen.binary_chess_board(10, 12, 5, 3)\n",
    "for n in m:\n",
    "    print(n)"
   ]
  },
  {
   "cell_type": "code",
   "execution_count": 2,
   "id": "b9da0142",
   "metadata": {},
   "outputs": [],
   "source": [
    "from PIL import Image\n",
    "import ipynb.fs.full.generator as gen\n",
    "width = 128\n",
    "height = 128\n",
    "numrects = [1, 2, 4, 8, 16, 32]\n",
    "for i in numrects:\n",
    "    for j in numrects:\n",
    "        filename = f\"data/cb_{i:02d}x{j:02d}.png\"\n",
    "        im = gen.create_png_image_chess_board(Image, width, height, i, j)\n",
    "        im.save(filename, 'PNG')"
   ]
  },
  {
   "cell_type": "markdown",
   "id": "63789ec9",
   "metadata": {},
   "source": [
    "## results\n",
    "&nbsp;&nbsp;&nbsp;&nbsp;&nbsp;&nbsp;&nbsp;&nbsp;&nbsp;&nbsp;&nbsp;&nbsp;&nbsp;&nbsp;&nbsp;&nbsp;&nbsp;&nbsp;&nbsp;Nx<br>Ny | 1 | 2 | 4 | 8 | 16 | 32\n",
    ":-: | :-: | :-: | :-: | :-: | :-: | :-:\n",
    " 1 | ![](data/cb_01x01.png) | ![](data/cb_02x01.png) | ![](data/cb_04x01.png) | ![](data/cb_08x01.png) | ![](data/cb_16x01.png) | ![](data/cb_32x01.png)\n",
    " 2 | ![](data/cb_01x02.png) | ![](data/cb_02x02.png) | ![](data/cb_04x02.png) | ![](data/cb_08x02.png) | ![](data/cb_16x02.png) | ![](data/cb_32x02.png)\n",
    " 4 | ![](data/cb_01x04.png) | ![](data/cb_02x04.png) | ![](data/cb_04x04.png) | ![](data/cb_08x04.png) | ![](data/cb_16x04.png) | ![](data/cb_32x04.png)\n",
    " 8 | ![](data/cb_01x08.png) | ![](data/cb_02x08.png) | ![](data/cb_04x08.png) | ![](data/cb_08x08.png) | ![](data/cb_16x08.png) | ![](data/cb_32x08.png)\n",
    "16 | ![](data/cb_01x16.png) | ![](data/cb_02x16.png) | ![](data/cb_04x16.png) | ![](data/cb_08x16.png) | ![](data/cb_16x16.png) | ![](data/cb_32x16.png)\n",
    "32 | ![](data/cb_01x32.png) | ![](data/cb_02x32.png) | ![](data/cb_04x32.png) | ![](data/cb_08x32.png) | ![](data/cb_16x32.png) | ![](data/cb_32x32.png)\n",
    "\n",
    "Filame = `cb_NxxNy.png`, e.g `cb_02x04.png` is for $N_x = 2$ and $N_y = 4$, which is\n",
    "![](data/cb_02x04.png)"
   ]
  },
  {
   "cell_type": "code",
   "execution_count": null,
   "id": "053ce638",
   "metadata": {},
   "outputs": [],
   "source": []
  }
 ],
 "metadata": {
  "authors": [
   {
    "name": "Sparisoma Viridi"
   }
  ],
  "kernelspec": {
   "display_name": "Python 3 (ipykernel)",
   "language": "python",
   "name": "python3"
  },
  "language_info": {
   "codemirror_mode": {
    "name": "ipython",
    "version": 3
   },
   "file_extension": ".py",
   "mimetype": "text/x-python",
   "name": "python",
   "nbconvert_exporter": "python",
   "pygments_lexer": "ipython3",
   "version": "3.9.12"
  },
  "title": "generate_samples"
 },
 "nbformat": 4,
 "nbformat_minor": 5
}
