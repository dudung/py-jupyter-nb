{
 "cells": [
  {
   "cell_type": "markdown",
   "id": "cca11c7c",
   "metadata": {},
   "source": [
    "# sine_grating_fft\n",
    "Reproduce result from an example (Gruppetta, 2021) and try to undertand it."
   ]
  },
  {
   "cell_type": "markdown",
   "id": "36154bc5",
   "metadata": {},
   "source": [
    "## original code and modifications"
   ]
  },
  {
   "cell_type": "code",
   "execution_count": 1,
   "id": "6fe0c445",
   "metadata": {},
   "outputs": [
    {
     "data": {
      "image/png": "[encoded data removed]",
      "text/plain": [
       "<Figure size 432x288 with 2 Axes>"
      ]
     },
     "metadata": {
      "needs_background": "light"
     },
     "output_type": "display_data"
    }
   ],
   "source": [
    "# gratings.py\n",
    "import numpy as np\n",
    "import matplotlib.pyplot as plt\n",
    "x = np.arange(-500, 501, 1)\n",
    "X, Y = np.meshgrid(x, x)\n",
    "wavelength = 200\n",
    "angle = 0\n",
    "grating = np.sin(\n",
    "    2*np.pi*(X*np.cos(angle) + Y*np.sin(angle)) / wavelength\n",
    ")\n",
    "plt.set_cmap(\"gray\")\n",
    "plt.subplot(121)\n",
    "plt.imshow(grating)\n",
    "# Calculate Fourier transform of grating\n",
    "ft = np.fft.ifftshift(grating)\n",
    "ft = np.fft.fft2(ft)\n",
    "ft = np.fft.fftshift(ft)\n",
    "plt.subplot(122)\n",
    "plt.imshow(abs(ft))\n",
    "plt.xlim([480, 520])\n",
    "plt.ylim([520, 480])  # Note, order is reversed for y\n",
    "plt.show()"
   ]
  },
  {
   "cell_type": "code",
   "execution_count": 2,
   "id": "ac2c6ea2",
   "metadata": {},
   "outputs": [
    {
     "name": "stdout",
     "output_type": "stream",
     "text": [
      "101\n"
     ]
    },
    {
     "data": {
      "image/png": "[encoded data removed]",
      "text/plain": [
       "<Figure size 432x288 with 2 Axes>"
      ]
     },
     "metadata": {
      "needs_background": "light"
     },
     "output_type": "display_data"
    }
   ],
   "source": [
    "# gratings.py\n",
    "import numpy as np\n",
    "import matplotlib.pyplot as plt\n",
    "x = np.arange(-50, 51, 1)\n",
    "X, Y = np.meshgrid(x, x)\n",
    "wavelength = 20\n",
    "angle = 0\n",
    "grating = np.sin(\n",
    "    2*np.pi*(X*np.cos(angle) + Y*np.sin(angle)) / wavelength\n",
    ")\n",
    "plt.set_cmap(\"gray\")\n",
    "plt.subplot(121)\n",
    "plt.imshow(grating)\n",
    "# Calculate Fourier transform of grating\n",
    "ft = np.fft.ifftshift(grating)\n",
    "ft = np.fft.fft2(ft)\n",
    "ft = np.fft.fftshift(ft)\n",
    "plt.subplot(122)\n",
    "plt.imshow(abs(ft))\n",
    "plt.xlim([40, 60])\n",
    "plt.ylim([60, 40])  # Note, order is reversed for y\n",
    "print(len(x))\n",
    "plt.show()"
   ]
  },
  {
   "cell_type": "code",
   "execution_count": 3,
   "id": "fb37758b",
   "metadata": {},
   "outputs": [
    {
     "name": "stdout",
     "output_type": "stream",
     "text": [
      "100\n"
     ]
    },
    {
     "data": {
      "image/png": "[encoded data removed]",
      "text/plain": [
       "<Figure size 432x288 with 2 Axes>"
      ]
     },
     "metadata": {
      "needs_background": "light"
     },
     "output_type": "display_data"
    }
   ],
   "source": [
    "# gratings.py\n",
    "import numpy as np\n",
    "import matplotlib.pyplot as plt\n",
    "x = np.arange(-50, 50, 1)\n",
    "X, Y = np.meshgrid(x, x)\n",
    "wavelength = 20\n",
    "angle = 0\n",
    "grating = np.sin(\n",
    "    2*np.pi*(X*np.cos(angle) + Y*np.sin(angle)) / wavelength\n",
    ")\n",
    "plt.set_cmap(\"gray\")\n",
    "plt.subplot(121)\n",
    "plt.imshow(grating)\n",
    "# Calculate Fourier transform of grating\n",
    "ft = np.fft.ifftshift(grating)\n",
    "ft = np.fft.fft2(ft)\n",
    "ft = np.fft.fftshift(ft)\n",
    "plt.subplot(122)\n",
    "plt.imshow(abs(ft))\n",
    "plt.xlim([40, 60])\n",
    "plt.ylim([60, 40])  # Note, order is reversed for y\n",
    "print(len(x))\n",
    "plt.show()"
   ]
  },
  {
   "cell_type": "code",
   "execution_count": 4,
   "id": "7458b8ec",
   "metadata": {},
   "outputs": [
    {
     "name": "stdout",
     "output_type": "stream",
     "text": [
      "100\n"
     ]
    },
    {
     "data": {
      "image/png": "[encoded data removed]",
      "text/plain": [
       "<Figure size 432x288 with 2 Axes>"
      ]
     },
     "metadata": {
      "needs_background": "light"
     },
     "output_type": "display_data"
    }
   ],
   "source": [
    "# gratings.py\n",
    "import numpy as np\n",
    "import matplotlib.pyplot as plt\n",
    "x = np.arange(0, 100, 1)\n",
    "X, Y = np.meshgrid(x, x)\n",
    "wavelength = 20\n",
    "angle = 0\n",
    "grating = np.sin(\n",
    "    2*np.pi*(X*np.cos(angle) + Y*np.sin(angle)) / wavelength\n",
    ")\n",
    "plt.set_cmap(\"gray\")\n",
    "plt.subplot(121)\n",
    "plt.imshow(grating)\n",
    "# Calculate Fourier transform of grating\n",
    "ft = np.fft.ifftshift(grating)\n",
    "ft = np.fft.fft2(ft)\n",
    "ft = np.fft.fftshift(ft)\n",
    "plt.subplot(122)\n",
    "plt.imshow(abs(ft))\n",
    "plt.xlim([40, 60])\n",
    "plt.ylim([60, 40])  # Note, order is reversed for y\n",
    "print(len(x))\n",
    "plt.show()"
   ]
  },
  {
   "cell_type": "markdown",
   "id": "d7725eeb",
   "metadata": {},
   "source": [
    "## test generator2"
   ]
  },
  {
   "cell_type": "code",
   "execution_count": 5,
   "id": "e238a537",
   "metadata": {},
   "outputs": [
    {
     "name": "stdout",
     "output_type": "stream",
     "text": [
      "fft min =  0.0\n",
      "fft max = 5000.000000000002\n"
     ]
    },
    {
     "data": {
      "image/png": "[encoded data removed]",
      "text/plain": [
       "<Figure size 432x288 with 2 Axes>"
      ]
     },
     "metadata": {
      "needs_background": "light"
     },
     "output_type": "display_data"
    }
   ],
   "source": [
    "import numpy as np\n",
    "import matplotlib.pyplot as plt\n",
    "import ipynb.fs.full.generator2 as gen2\n",
    "grating = gen2.sinusoidal_grating(100, 20, 0)\n",
    "plt.set_cmap(\"gray\")\n",
    "plt.subplot(121)\n",
    "plt.imshow(grating)\n",
    "# Calculate Fourier transform of grating\n",
    "ft = np.fft.ifftshift(grating)\n",
    "ft = np.fft.fft2(ft)\n",
    "ft = np.fft.fftshift(ft)\n",
    "plt.subplot(122)\n",
    "plt.imshow(abs(ft))\n",
    "plt.xlim([30, 70])\n",
    "plt.ylim([70, 30])  # Note, order is reversed for y\n",
    "print(\"fft min = \", min(map(min, abs(ft))))\n",
    "print(\"fft max =\", max(map(max, abs(ft))))\n",
    "plt.show()"
   ]
  },
  {
   "cell_type": "code",
   "execution_count": 6,
   "id": "05f24b89",
   "metadata": {},
   "outputs": [
    {
     "data": {
      "image/png": "[encoded data removed]",
      "text/plain": [
       "<Figure size 432x288 with 2 Axes>"
      ]
     },
     "metadata": {
      "needs_background": "light"
     },
     "output_type": "display_data"
    }
   ],
   "source": [
    "import numpy as np\n",
    "import matplotlib.pyplot as plt\n",
    "import ipynb.fs.full.generator2 as gen2\n",
    "from PIL import Image\n",
    "#grating = gen2.sinusoidal_grating(100, 20, 0)\n",
    "im_out = gen2.create_png_image_sinusoidal_grating(Image, 100, 20, 0)\n",
    "ofname = \"data5/sin_grat_test.png\"\n",
    "im_out.save(ofname, 'PNG')\n",
    "\n",
    "ifname = f\"{ofname}\"\n",
    "im_in = plt.imread(ifname).astype(float)\n",
    "\n",
    "plt.set_cmap(\"gray\")\n",
    "plt.subplot(121)\n",
    "plt.imshow(im_in)\n",
    "# Calculate Fourier transform of grating\n",
    "ft = np.fft.ifftshift(im_in)\n",
    "ft = np.fft.fft2(ft)\n",
    "ft = np.fft.fftshift(ft)\n",
    "plt.subplot(122)\n",
    "plt.imshow(abs(ft))\n",
    "plt.xlim([30, 70])\n",
    "plt.ylim([70, 30])  # Note, order is reversed for y\n",
    "plt.show()"
   ]
  },
  {
   "cell_type": "markdown",
   "id": "81ae68dd",
   "metadata": {},
   "source": [
    "**Note**: Last result show center peak, which should not be there."
   ]
  },
  {
   "cell_type": "code",
   "execution_count": null,
   "id": "3c38c39c",
   "metadata": {},
   "outputs": [],
   "source": []
  }
 ],
 "metadata": {
  "authors": [
   {
    "name": "Sparisoma Viridi"
   }
  ],
  "kernelspec": {
   "display_name": "Python 3 (ipykernel)",
   "language": "python",
   "name": "python3"
  },
  "language_info": {
   "codemirror_mode": {
    "name": "ipython",
    "version": 3
   },
   "file_extension": ".py",
   "mimetype": "text/x-python",
   "name": "python",
   "nbconvert_exporter": "python",
   "pygments_lexer": "ipython3",
   "version": "3.9.12"
  },
  "title": "sine_grating_fft"
 },
 "nbformat": 4,
 "nbformat_minor": 5
}
