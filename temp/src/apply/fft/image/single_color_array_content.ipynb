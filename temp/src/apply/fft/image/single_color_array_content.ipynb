{
 "cells": [
  {
   "cell_type": "markdown",
   "id": "cca11c7c",
   "metadata": {},
   "source": [
    "# single_color_array_content\n",
    "Open image, display original and array content."
   ]
  },
  {
   "cell_type": "code",
   "execution_count": 1,
   "id": "8275f58e",
   "metadata": {},
   "outputs": [
    {
     "data": {
      "image/png": "[encoded data removed]",
      "text/plain": [
       "<Figure size 432x288 with 3 Axes>"
      ]
     },
     "metadata": {
      "needs_background": "light"
     },
     "output_type": "display_data"
    }
   ],
   "source": [
    "import matplotlib.pyplot as plt\n",
    "imb = plt.imread(\"data/rgb_000_10x10.png\")\n",
    "img = plt.imread(\"data/rgb_999_10x10.png\")\n",
    "imw = plt.imread(\"data/rgb_fff_10x10.png\")\n",
    "\n",
    "fig, ax = plt.subplots(1,3)\n",
    "\n",
    "ax[0].imshow(imb, plt.cm.gray, vmin=0, vmax=255)\n",
    "ax[0].set_title(\"org black\")\n",
    "ax[1].imshow(img, plt.cm.gray, vmin=0, vmax=255)\n",
    "ax[1].set_title(\"org gray\")\n",
    "ax[2].imshow(imw, plt.cm.gray, vmin=0, vmax=255)\n",
    "ax[2].set_title(\"org white\")\n",
    "\n",
    "fig.tight_layout()\n",
    "fig.savefig('data/rgb_3_subs.png')\n",
    "plt.show()\n",
    "\n",
    "plt.imsave('data/new_gray_image.png', img)"
   ]
  },
  {
   "cell_type": "code",
   "execution_count": 2,
   "id": "dcf8c590",
   "metadata": {},
   "outputs": [
    {
     "name": "stdout",
     "output_type": "stream",
     "text": [
      "black[0,0] = [0. 0. 0. 1.]\n",
      "gray[0,0] = [0.49803922 0.49803922 0.49803922 1.        ]\n",
      "white[0,0] = [1. 1. 1.]\n"
     ]
    }
   ],
   "source": [
    "print(\"black[0,0] =\", imb[0,0])\n",
    "print(\"gray[0,0] =\", img[0,0])\n",
    "print(\"white[0,0] =\", imw[0,0])"
   ]
  },
  {
   "cell_type": "markdown",
   "id": "98ce6516",
   "metadata": {},
   "source": [
    "![](data/rgb_3_subs.png)\n",
    "`data/rgb_3_subs.png`\n",
    "\n",
    "![](data/new_gray_image.png)\n",
    "`data/new_gray_image.png`"
   ]
  },
  {
   "cell_type": "markdown",
   "id": "94bc94a1",
   "metadata": {},
   "source": [
    "## refs\n",
    "1. [single_color_image.ipynb](single_color_image.ipynb)\n",
    "2. \"How to Save a Plot to a File Using Matplotlib?\", url https://www.geeksforgeeks.org/how-to-save-a-plot-to-a-file-using-matplotlib/ [20230205]."
   ]
  },
  {
   "cell_type": "code",
   "execution_count": null,
   "id": "b9da0142",
   "metadata": {},
   "outputs": [],
   "source": []
  }
 ],
 "metadata": {
  "authors": [
   {
    "name": "Sparisoma Viridi"
   }
  ],
  "kernelspec": {
   "display_name": "Python 3 (ipykernel)",
   "language": "python",
   "name": "python3"
  },
  "language_info": {
   "codemirror_mode": {
    "name": "ipython",
    "version": 3
   },
   "file_extension": ".py",
   "mimetype": "text/x-python",
   "name": "python",
   "nbconvert_exporter": "python",
   "pygments_lexer": "ipython3",
   "version": "3.9.12"
  },
  "title": "single_color_array_content"
 },
 "nbformat": 4,
 "nbformat_minor": 5
}
