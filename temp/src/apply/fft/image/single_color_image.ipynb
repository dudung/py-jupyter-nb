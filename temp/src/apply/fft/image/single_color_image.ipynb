{
 "cells": [
  {
   "cell_type": "markdown",
   "id": "cca11c7c",
   "metadata": {},
   "source": [
    "# single_color_image\n",
    "Open image, do FFT, and display original and result."
   ]
  },
  {
   "cell_type": "code",
   "execution_count": 1,
   "id": "dfbd1882",
   "metadata": {},
   "outputs": [],
   "source": [
    "def gray_from_rgb(im_rgb):\n",
    "    im_gray = []\n",
    "    for row in im_rgb:\n",
    "        col = []\n",
    "        for ele in row:\n",
    "            r = ele[0]\n",
    "            g = ele[1]\n",
    "            b = ele[2]\n",
    "            gray = 0.2989 * r + 0.5870 * g + 0.1140 * b \n",
    "            col.append(gray)\n",
    "        im_gray.append(col)\n",
    "    return im_gray"
   ]
  },
  {
   "cell_type": "code",
   "execution_count": 2,
   "id": "8275f58e",
   "metadata": {},
   "outputs": [
    {
     "data": {
      "image/png": "[encoded data removed]",
      "text/plain": [
       "<Figure size 432x288 with 7 Axes>"
      ]
     },
     "metadata": {
      "needs_background": "light"
     },
     "output_type": "display_data"
    }
   ],
   "source": [
    "import warnings\n",
    "warnings.filterwarnings('ignore')\n",
    "\n",
    "import numpy as np\n",
    "import matplotlib.pyplot as plt\n",
    "imb = plt.imread(\"data/black_255x255.png\").astype(float)\n",
    "img = plt.imread(\"data/gray_255x255.png\").astype(float)\n",
    "imw = plt.imread(\"data/white_255x255.png\").astype(float)\n",
    "\n",
    "imb_gray = gray_from_rgb(imb)\n",
    "img_gray = gray_from_rgb(img)\n",
    "imw_gray = gray_from_rgb(imw)\n",
    "\n",
    "from scipy import fftpack\n",
    "imb_fft = np.abs(fftpack.fft2(imb_gray)).astype(\"uint8\")\n",
    "img_fft = np.abs(fftpack.fft2(img_gray)).astype(\"uint8\")\n",
    "imw_fft = np.abs(fftpack.fft2(imw_gray)).astype(\"uint8\")\n",
    "\n",
    "fig, axarr = plt.subplots(2,3)\n",
    "\n",
    "im = axarr[0, 0].imshow(imb, plt.cm.gray, vmin=0, vmax=255)\n",
    "axarr[0, 0].set_title(\"org black\")\n",
    "axarr[0, 1].imshow(img, plt.cm.gray, vmin=0, vmax=255)\n",
    "axarr[0, 1].set_title(\"org gray\")\n",
    "axarr[0, 2].imshow(imw, plt.cm.gray, vmin=0, vmax=255)\n",
    "axarr[0, 2].set_title(\"org white\")\n",
    "\n",
    "axarr[1, 0].imshow(np.abs(imb_fft), plt.cm.gray)\n",
    "axarr[1, 0].set_title(\"fft black\")\n",
    "axarr[1, 1].imshow(np.abs(img_fft), plt.cm.gray)\n",
    "axarr[1, 1].set_title(\"fft gray\")\n",
    "axarr[1, 2].imshow(np.abs(imw_fft), plt.cm.gray)\n",
    "axarr[1, 2].set_title(\"fft white\")\n",
    "\n",
    "fig.subplots_adjust(right=0.8)\n",
    "cbar_ax = fig.add_axes([1.05, 0.08, 0.05, 0.84])\n",
    "fig.colorbar(im, cax=cbar_ax)\n",
    "\n",
    "fig.tight_layout()\n",
    "plt.show()"
   ]
  },
  {
   "cell_type": "markdown",
   "id": "94bc94a1",
   "metadata": {},
   "source": [
    "## refs\n",
    "1. \"Plotting images side by side using matplotlib\", url https://stackoverflow.com/a/41793987/9475509 [20230205].\n",
    "2. \"How to add title to each subplot\", url https://stackoverflow.com/a/70864018/9475509 [20230205].\n",
    "3. \"Clipping input data to the valid range for imshow with RGB data ([0..1] for floats or [0..255] for integers)\", url https://stackoverflow.com/a/74090710/9475509 [20230205].\n",
    "4. \"How to have one colorbar for all subplots\", url https://stackoverflow.com/a/13784887/9475509 [20230205].\n",
    "5. \"Hide all warnings in IPython\", url https://stackoverflow.com/a/9031848/9475509 [20230205].\n",
    "6. \"Use Numpy to convert rgb pixel array into grayscale [duplicate]\", url https://stackoverflow.com/a/41971823/9475509 [20230206]."
   ]
  },
  {
   "cell_type": "code",
   "execution_count": null,
   "id": "c8efd8eb",
   "metadata": {},
   "outputs": [],
   "source": []
  }
 ],
 "metadata": {
  "authors": [
   {
    "name": "Sparisoma Viridi"
   }
  ],
  "kernelspec": {
   "display_name": "Python 3 (ipykernel)",
   "language": "python",
   "name": "python3"
  },
  "language_info": {
   "codemirror_mode": {
    "name": "ipython",
    "version": 3
   },
   "file_extension": ".py",
   "mimetype": "text/x-python",
   "name": "python",
   "nbconvert_exporter": "python",
   "pygments_lexer": "ipython3",
   "version": "3.9.12"
  },
  "title": "single_color_image"
 },
 "nbformat": 4,
 "nbformat_minor": 5
}
