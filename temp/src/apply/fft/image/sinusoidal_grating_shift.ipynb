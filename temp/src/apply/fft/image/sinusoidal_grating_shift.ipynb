{
 "cells": [
  {
   "cell_type": "markdown",
   "id": "cca11c7c",
   "metadata": {},
   "source": [
    "# sinusoidal_grating_shift\n",
    "Generate sinusoidal grating in a direction (and also other)."
   ]
  },
  {
   "cell_type": "code",
   "execution_count": 1,
   "id": "6fe0c445",
   "metadata": {},
   "outputs": [
    {
     "name": "stdout",
     "output_type": "stream",
     "text": [
      "deg  rad   file\n",
      "000  0.00  data6/fft_000.png  read  fft-ed  saved to data6/fft_000.png\n",
      "015  0.26  data6/fft_015.png  read  fft-ed  saved to data6/fft_015.png\n",
      "030  0.52  data6/fft_030.png  read  fft-ed  saved to data6/fft_030.png\n",
      "045  0.79  data6/fft_045.png  read  fft-ed  saved to data6/fft_045.png\n",
      "060  1.05  data6/fft_060.png  read  fft-ed  saved to data6/fft_060.png\n",
      "075  1.31  data6/fft_075.png  read  fft-ed  saved to data6/fft_075.png\n",
      "090  1.57  data6/fft_090.png  read  fft-ed  saved to data6/fft_090.png\n",
      "105  1.83  data6/fft_105.png  read  fft-ed  saved to data6/fft_105.png\n",
      "120  2.09  data6/fft_120.png  read  fft-ed  saved to data6/fft_120.png\n",
      "135  2.36  data6/fft_135.png  read  fft-ed  saved to data6/fft_135.png\n",
      "150  2.62  data6/fft_150.png  read  fft-ed  saved to data6/fft_150.png\n",
      "165  2.88  data6/fft_165.png  read  fft-ed  saved to data6/fft_165.png\n",
      "180  3.14  data6/fft_180.png  read  fft-ed  saved to data6/fft_180.png\n",
      "195  3.40  data6/fft_195.png  read  fft-ed  saved to data6/fft_195.png\n",
      "210  3.67  data6/fft_210.png  read  fft-ed  saved to data6/fft_210.png\n",
      "225  3.93  data6/fft_225.png  read  fft-ed  saved to data6/fft_225.png\n",
      "240  4.19  data6/fft_240.png  read  fft-ed  saved to data6/fft_240.png\n",
      "255  4.45  data6/fft_255.png  read  fft-ed  saved to data6/fft_255.png\n",
      "270  4.71  data6/fft_270.png  read  fft-ed  saved to data6/fft_270.png\n",
      "285  4.97  data6/fft_285.png  read  fft-ed  saved to data6/fft_285.png\n",
      "300  5.24  data6/fft_300.png  read  fft-ed  saved to data6/fft_300.png\n",
      "315  5.50  data6/fft_315.png  read  fft-ed  saved to data6/fft_315.png\n",
      "330  5.76  data6/fft_330.png  read  fft-ed  saved to data6/fft_330.png\n",
      "345  6.02  data6/fft_345.png  read  fft-ed  saved to data6/fft_345.png\n"
     ]
    }
   ],
   "source": [
    "import matplotlib.pyplot as plt\n",
    "from scipy import fftpack\n",
    "import numpy as np\n",
    "\n",
    "angles = [i * 15 for i in range(24)]\n",
    "print(\"deg  rad   file\")\n",
    "for deg in angles:\n",
    "    rad = deg / 180 * np.pi\n",
    "    ifname = f\"data6/sg_{deg:03}.png\"\n",
    "    ofname = f\"data6/fft_{deg:03}.png\"\n",
    "\n",
    "    print(f\"{deg:03}  {rad:.2f}  {ofname}  \", end='')\n",
    "    \n",
    "    im = plt.imread(ifname).astype(float)\n",
    "    print(\"read\", end='  ')\n",
    "    \n",
    "    ft = np.fft.ifftshift(im)\n",
    "    ft = np.fft.fft2(ft)\n",
    "    ft = np.fft.fftshift(ft)\n",
    "    ft = np.abs(ft)\n",
    "\n",
    "    #im_fft = np.abs(fftpack.fft2(im))\n",
    "    im_fft_normalize = ft.astype('uint8')\n",
    "    print(\"fft-ed\", end='  ')\n",
    "    \n",
    "    plt.imsave(ofname, im_fft_normalize, cmap='gray', format='PNG')\n",
    "    print(\"saved to\", ofname)"
   ]
  },
  {
   "cell_type": "markdown",
   "id": "c024284f",
   "metadata": {},
   "source": [
    "## results\n",
    "![](data6/fft_000.png)<br>`000` | ![](data6/fft_015.png)<br>`015` | ![](data6/fft_030.png)<br>`030` | ![](data6/fft_045.png)<br>`045` | ![](data6/fft_060.png)<br>`060` | ![](data6/fft_075.png)<br>`075`\n",
    ":-: | :-: | :-: | :-: | :-: | :-:\n",
    "![](data6/fft_090.png)<br>`090` | ![](data6/fft_105.png)<br>`105` | ![](data6/fft_120.png)<br>`120` | ![](data6/fft_135.png)<br>`135` | ![](data6/fft_150.png)<br>`150` | ![](data6/fft_165.png)<br>`165`\n",
    "![](data6/fft_180.png)<br>`180` | ![](data6/fft_195.png)<br>`195` | ![](data6/fft_210.png)<br>`210` | ![](data6/fft_225.png)<br>`225` | ![](data6/fft_240.png)<br>`240` | ![](data6/fft_255.png)<br>`255`\n",
    "![](data6/fft_270.png)<br>`270` | ![](data6/fft_285.png)<br>`285` | ![](data6/fft_300.png)<br>`300` | ![](data6/fft_315.png)<br>`315` | ![](data6/fft_330.png)<br>`330` | ![](data6/fft_345.png)<br>`345`"
   ]
  },
  {
   "cell_type": "markdown",
   "id": "7a8fd3ca",
   "metadata": {},
   "source": [
    "## refs\n",
    "1. \"How to Create Any Image Using Only Sine Functions | 2D Fourier Transform in Python\", url https://thepythoncodingbook.com/2021/08/30/2d-fourier-transform-in-python-and-fourier-synthesis-of-images/ [20230206].\n",
    "2. \"Save Plot to Image File Using Matplotlib\", url https://blog.finxter.com/save-plot-to-image-file-using-matplotlib/ [20230206]."
   ]
  },
  {
   "cell_type": "code",
   "execution_count": null,
   "id": "63af05b2",
   "metadata": {},
   "outputs": [],
   "source": []
  }
 ],
 "metadata": {
  "authors": [
   {
    "name": "Sparisoma Viridi"
   }
  ],
  "kernelspec": {
   "display_name": "Python 3 (ipykernel)",
   "language": "python",
   "name": "python3"
  },
  "language_info": {
   "codemirror_mode": {
    "name": "ipython",
    "version": 3
   },
   "file_extension": ".py",
   "mimetype": "text/x-python",
   "name": "python",
   "nbconvert_exporter": "python",
   "pygments_lexer": "ipython3",
   "version": "3.9.12"
  },
  "title": "sinusoidal_grating"
 },
 "nbformat": 4,
 "nbformat_minor": 5
}
