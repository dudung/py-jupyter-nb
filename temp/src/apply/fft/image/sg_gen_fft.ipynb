{
 "cells": [
  {
   "cell_type": "markdown",
   "id": "cca11c7c",
   "metadata": {},
   "source": [
    "# sg_gen_fft\n",
    "Generate sinusoidal grating images, perform FFT from them, display results."
   ]
  },
  {
   "cell_type": "markdown",
   "id": "38d056f5",
   "metadata": {},
   "source": [
    "## data3"
   ]
  },
  {
   "cell_type": "code",
   "execution_count": 1,
   "id": "0f0d080d",
   "metadata": {},
   "outputs": [],
   "source": [
    "folder = 'data3'"
   ]
  },
  {
   "cell_type": "markdown",
   "id": "62b64e00",
   "metadata": {},
   "source": [
    "## case 1"
   ]
  },
  {
   "cell_type": "code",
   "execution_count": 2,
   "id": "849256c4",
   "metadata": {},
   "outputs": [],
   "source": [
    "# create original image of sinusoidal grating and save it to file\n",
    "import numpy as np\n",
    "from PIL import Image\n",
    "import ipynb.fs.full.generator2 as sg\n",
    "\n",
    "size = 100\n",
    "wavelength = 50\n",
    "angle = 0.00 * np.pi\n",
    "ofname = f\"{folder}/sg_s{size}_l{wavelength}.png\"\n",
    "\n",
    "im_out = sg.create_png_image_sinusoidal_grating(Image, size, wavelength, angle)\n",
    "im_out.save(ofname, 'PNG')"
   ]
  },
  {
   "cell_type": "code",
   "execution_count": 3,
   "id": "11773dc8",
   "metadata": {
    "scrolled": true
   },
   "outputs": [
    {
     "name": "stdout",
     "output_type": "stream",
     "text": [
      "width = 100\n",
      "height = 100\n"
     ]
    },
    {
     "data": {
      "image/png": "[encoded data removed]",
      "text/plain": [
       "<Figure size 432x288 with 1 Axes>"
      ]
     },
     "metadata": {
      "needs_background": "light"
     },
     "output_type": "display_data"
    }
   ],
   "source": [
    "# read images from file\n",
    "import matplotlib.pyplot as plt\n",
    "\n",
    "ifname = f\"{ofname}\"\n",
    "im_in = plt.imread(ifname).astype(float)\n",
    "height = len(im_in)\n",
    "width = len(im_in[0])\n",
    "print(\"width =\", width)\n",
    "print(\"height =\", height)\n",
    "\n",
    "plt.imshow(im_in, cmap='gray')\n",
    "plt.show()"
   ]
  },
  {
   "cell_type": "code",
   "execution_count": 4,
   "id": "27a0afe5",
   "metadata": {},
   "outputs": [],
   "source": [
    "# perform fast fourier transform\n",
    "import matplotlib.pyplot as plt\n",
    "from scipy import fftpack\n",
    "import numpy as np\n",
    "\n",
    "ofname_fft = f\"{folder}/fft_s{size}_l{wavelength}.png\"\n",
    "\n",
    "im_fft = np.abs(fftpack.fft2(im_in))\n",
    "im_fft_normalize = im_fft.astype('uint8')\n",
    "plt.imsave(ofname_fft, im_fft_normalize, cmap='gray', format='PNG')"
   ]
  },
  {
   "cell_type": "code",
   "execution_count": 5,
   "id": "ef2f1286",
   "metadata": {
    "scrolled": true
   },
   "outputs": [
    {
     "name": "stdout",
     "output_type": "stream",
     "text": [
      "width = 100\n",
      "height = 100\n"
     ]
    },
    {
     "data": {
      "image/png": "[encoded data removed]",
      "text/plain": [
       "<Figure size 432x288 with 1 Axes>"
      ]
     },
     "metadata": {
      "needs_background": "light"
     },
     "output_type": "display_data"
    }
   ],
   "source": [
    "# read images from file\n",
    "import matplotlib.pyplot as plt\n",
    "\n",
    "ifname_fft = f\"{ofname_fft}\"\n",
    "im_in_fft = plt.imread(ofname_fft).astype(float)\n",
    "height = len(im_in_fft)\n",
    "width = len(im_in_fft[0])\n",
    "print(\"width =\", width)\n",
    "print(\"height =\", height)\n",
    "\n",
    "plt.imshow(im_in_fft, cmap='gray')\n",
    "plt.show()"
   ]
  },
  {
   "cell_type": "code",
   "execution_count": 6,
   "id": "e078ce41",
   "metadata": {
    "scrolled": false
   },
   "outputs": [
    {
     "data": {
      "image/png": "[encoded data removed]",
      "text/plain": [
       "<Figure size 432x288 with 1 Axes>"
      ]
     },
     "metadata": {
      "needs_background": "light"
     },
     "output_type": "display_data"
    }
   ],
   "source": [
    "plt.xlim([0,10])\n",
    "plt.ylim([0,2])\n",
    "plt.imshow(im_in_fft, cmap='gray')\n",
    "plt.show()"
   ]
  },
  {
   "cell_type": "markdown",
   "id": "2891898e",
   "metadata": {},
   "source": [
    "## case 2"
   ]
  },
  {
   "cell_type": "code",
   "execution_count": 7,
   "id": "8c37a249",
   "metadata": {},
   "outputs": [],
   "source": [
    "# create original image of sinusoidal grating and save it to file\n",
    "import numpy as np\n",
    "from PIL import Image\n",
    "import ipynb.fs.full.generator2 as sg\n",
    "\n",
    "size = 100\n",
    "wavelength = 25\n",
    "angle = 0.00 * np.pi\n",
    "ofname = f\"{folder}/sg_s{size}_l{wavelength}.png\"\n",
    "\n",
    "im_out = sg.create_png_image_sinusoidal_grating(Image, size, wavelength, angle)\n",
    "im_out.save(ofname, 'PNG')"
   ]
  },
  {
   "cell_type": "code",
   "execution_count": 8,
   "id": "8372d113",
   "metadata": {
    "scrolled": true
   },
   "outputs": [
    {
     "name": "stdout",
     "output_type": "stream",
     "text": [
      "width = 100\n",
      "height = 100\n"
     ]
    },
    {
     "data": {
      "image/png": "[encoded data removed]",
      "text/plain": [
       "<Figure size 432x288 with 1 Axes>"
      ]
     },
     "metadata": {
      "needs_background": "light"
     },
     "output_type": "display_data"
    }
   ],
   "source": [
    "# read images from file\n",
    "import matplotlib.pyplot as plt\n",
    "\n",
    "ifname = f\"{ofname}\"\n",
    "im_in = plt.imread(ifname).astype(float)\n",
    "height = len(im_in)\n",
    "width = len(im_in[0])\n",
    "print(\"width =\", width)\n",
    "print(\"height =\", height)\n",
    "\n",
    "plt.imshow(im_in, cmap='gray')\n",
    "plt.show()"
   ]
  },
  {
   "cell_type": "code",
   "execution_count": 9,
   "id": "9a6c2e6c",
   "metadata": {},
   "outputs": [],
   "source": [
    "# perform fast fourier transform\n",
    "import matplotlib.pyplot as plt\n",
    "from scipy import fftpack\n",
    "import numpy as np\n",
    "\n",
    "ofname_fft = f\"{folder}/fft_s{size}_l{wavelength}.png\"\n",
    "\n",
    "im_fft = np.abs(fftpack.fft2(im_in))\n",
    "im_fft_normalize = im_fft.astype('uint8')\n",
    "plt.imsave(ofname_fft, im_fft_normalize, cmap='gray', format='PNG')"
   ]
  },
  {
   "cell_type": "code",
   "execution_count": 10,
   "id": "d7517949",
   "metadata": {
    "scrolled": true
   },
   "outputs": [
    {
     "name": "stdout",
     "output_type": "stream",
     "text": [
      "width = 100\n",
      "height = 100\n"
     ]
    },
    {
     "data": {
      "image/png": "[encoded data removed]",
      "text/plain": [
       "<Figure size 432x288 with 1 Axes>"
      ]
     },
     "metadata": {
      "needs_background": "light"
     },
     "output_type": "display_data"
    }
   ],
   "source": [
    "# read images from file\n",
    "import matplotlib.pyplot as plt\n",
    "\n",
    "ifname_fft = f\"{ofname_fft}\"\n",
    "im_in_fft = plt.imread(ofname_fft).astype(float)\n",
    "height = len(im_in_fft)\n",
    "width = len(im_in_fft[0])\n",
    "print(\"width =\", width)\n",
    "print(\"height =\", height)\n",
    "\n",
    "plt.imshow(im_in_fft, cmap='gray')\n",
    "plt.show()"
   ]
  },
  {
   "cell_type": "code",
   "execution_count": 11,
   "id": "da1eec79",
   "metadata": {
    "scrolled": false
   },
   "outputs": [
    {
     "data": {
      "image/png": "[encoded data removed]",
      "text/plain": [
       "<Figure size 432x288 with 1 Axes>"
      ]
     },
     "metadata": {
      "needs_background": "light"
     },
     "output_type": "display_data"
    }
   ],
   "source": [
    "plt.xlim([0,10])\n",
    "plt.ylim([0,2])\n",
    "plt.imshow(im_in_fft, cmap='gray')\n",
    "plt.show()"
   ]
  },
  {
   "cell_type": "markdown",
   "id": "b1686455",
   "metadata": {},
   "source": [
    "## case 3"
   ]
  },
  {
   "cell_type": "code",
   "execution_count": 12,
   "id": "62cdaf85",
   "metadata": {},
   "outputs": [],
   "source": [
    "# create original image of sinusoidal grating and save it to file\n",
    "import numpy as np\n",
    "from PIL import Image\n",
    "import ipynb.fs.full.generator2 as sg\n",
    "\n",
    "size = 100\n",
    "wavelength = 10\n",
    "angle = 0.00 * np.pi\n",
    "ofname = f\"{folder}/sg_s{size}_l{wavelength}.png\"\n",
    "\n",
    "im_out = sg.create_png_image_sinusoidal_grating(Image, size, wavelength, angle)\n",
    "im_out.save(ofname, 'PNG')"
   ]
  },
  {
   "cell_type": "code",
   "execution_count": 13,
   "id": "e58bc7d7",
   "metadata": {
    "scrolled": true
   },
   "outputs": [
    {
     "name": "stdout",
     "output_type": "stream",
     "text": [
      "width = 100\n",
      "height = 100\n"
     ]
    },
    {
     "data": {
      "image/png": "[encoded data removed]",
      "text/plain": [
       "<Figure size 432x288 with 1 Axes>"
      ]
     },
     "metadata": {
      "needs_background": "light"
     },
     "output_type": "display_data"
    }
   ],
   "source": [
    "# read images from file\n",
    "import matplotlib.pyplot as plt\n",
    "\n",
    "ifname = f\"{ofname}\"\n",
    "im_in = plt.imread(ifname).astype(float)\n",
    "height = len(im_in)\n",
    "width = len(im_in[0])\n",
    "print(\"width =\", width)\n",
    "print(\"height =\", height)\n",
    "\n",
    "plt.imshow(im_in, cmap='gray')\n",
    "plt.show()"
   ]
  },
  {
   "cell_type": "code",
   "execution_count": 14,
   "id": "dc44c5ad",
   "metadata": {},
   "outputs": [],
   "source": [
    "# perform fast fourier transform\n",
    "import matplotlib.pyplot as plt\n",
    "from scipy import fftpack\n",
    "import numpy as np\n",
    "\n",
    "ofname_fft = f\"{folder}/fft_s{size}_l{wavelength}.png\"\n",
    "\n",
    "im_fft = np.abs(fftpack.fft2(im_in))\n",
    "im_fft_normalize = im_fft.astype('uint8')\n",
    "plt.imsave(ofname_fft, im_fft_normalize, cmap='gray', format='PNG')"
   ]
  },
  {
   "cell_type": "code",
   "execution_count": 15,
   "id": "51db4c4a",
   "metadata": {
    "scrolled": true
   },
   "outputs": [
    {
     "name": "stdout",
     "output_type": "stream",
     "text": [
      "width = 100\n",
      "height = 100\n"
     ]
    },
    {
     "data": {
      "image/png": "[encoded data removed]",
      "text/plain": [
       "<Figure size 432x288 with 1 Axes>"
      ]
     },
     "metadata": {
      "needs_background": "light"
     },
     "output_type": "display_data"
    }
   ],
   "source": [
    "# read images from file\n",
    "import matplotlib.pyplot as plt\n",
    "\n",
    "ifname_fft = f\"{ofname_fft}\"\n",
    "im_in_fft = plt.imread(ofname_fft).astype(float)\n",
    "height = len(im_in_fft)\n",
    "width = len(im_in_fft[0])\n",
    "print(\"width =\", width)\n",
    "print(\"height =\", height)\n",
    "\n",
    "plt.imshow(im_in_fft, cmap='gray')\n",
    "plt.show()"
   ]
  },
  {
   "cell_type": "code",
   "execution_count": 16,
   "id": "3b798e2f",
   "metadata": {
    "scrolled": false
   },
   "outputs": [
    {
     "data": {
      "image/png": "[encoded data removed]",
      "text/plain": [
       "<Figure size 432x288 with 1 Axes>"
      ]
     },
     "metadata": {
      "needs_background": "light"
     },
     "output_type": "display_data"
    }
   ],
   "source": [
    "plt.xlim([0,20])\n",
    "plt.ylim([0,2])\n",
    "plt.imshow(im_in_fft, cmap='gray')\n",
    "plt.show()"
   ]
  },
  {
   "cell_type": "markdown",
   "id": "62d4ccec",
   "metadata": {},
   "source": [
    "## case 4"
   ]
  },
  {
   "cell_type": "code",
   "execution_count": 17,
   "id": "b90df337",
   "metadata": {},
   "outputs": [],
   "source": [
    "# create original image of sinusoidal grating and save it to file\n",
    "import numpy as np\n",
    "from PIL import Image\n",
    "import ipynb.fs.full.generator2 as sg\n",
    "\n",
    "size = 100\n",
    "wavelength = 5\n",
    "angle = 0.00 * np.pi\n",
    "ofname = f\"{folder}/sg_s{size}_l{wavelength}.png\"\n",
    "\n",
    "im_out = sg.create_png_image_sinusoidal_grating(Image, size, wavelength, angle)\n",
    "im_out.save(ofname, 'PNG')"
   ]
  },
  {
   "cell_type": "code",
   "execution_count": 18,
   "id": "8f631706",
   "metadata": {
    "scrolled": true
   },
   "outputs": [
    {
     "name": "stdout",
     "output_type": "stream",
     "text": [
      "width = 100\n",
      "height = 100\n"
     ]
    },
    {
     "data": {
      "image/png": "[encoded data removed]",
      "text/plain": [
       "<Figure size 432x288 with 1 Axes>"
      ]
     },
     "metadata": {
      "needs_background": "light"
     },
     "output_type": "display_data"
    }
   ],
   "source": [
    "# read images from file\n",
    "import matplotlib.pyplot as plt\n",
    "\n",
    "ifname = f\"{ofname}\"\n",
    "im_in = plt.imread(ifname).astype(float)\n",
    "height = len(im_in)\n",
    "width = len(im_in[0])\n",
    "print(\"width =\", width)\n",
    "print(\"height =\", height)\n",
    "\n",
    "plt.imshow(im_in, cmap='gray')\n",
    "plt.show()"
   ]
  },
  {
   "cell_type": "code",
   "execution_count": 19,
   "id": "211bf71f",
   "metadata": {},
   "outputs": [],
   "source": [
    "# perform fast fourier transform\n",
    "import matplotlib.pyplot as plt\n",
    "from scipy import fftpack\n",
    "import numpy as np\n",
    "\n",
    "ofname_fft = f\"{folder}/fft_s{size}_l{wavelength}.png\"\n",
    "\n",
    "im_fft = np.abs(fftpack.fft2(im_in))\n",
    "im_fft_normalize = im_fft.astype('uint8')\n",
    "plt.imsave(ofname_fft, im_fft_normalize, cmap='gray', format='PNG')"
   ]
  },
  {
   "cell_type": "code",
   "execution_count": 20,
   "id": "3d60b68b",
   "metadata": {
    "scrolled": true
   },
   "outputs": [
    {
     "name": "stdout",
     "output_type": "stream",
     "text": [
      "width = 100\n",
      "height = 100\n"
     ]
    },
    {
     "data": {
      "image/png": "[encoded data removed]",
      "text/plain": [
       "<Figure size 432x288 with 1 Axes>"
      ]
     },
     "metadata": {
      "needs_background": "light"
     },
     "output_type": "display_data"
    }
   ],
   "source": [
    "# read images from file\n",
    "import matplotlib.pyplot as plt\n",
    "\n",
    "ifname_fft = f\"{ofname_fft}\"\n",
    "im_in_fft = plt.imread(ofname_fft).astype(float)\n",
    "height = len(im_in_fft)\n",
    "width = len(im_in_fft[0])\n",
    "print(\"width =\", width)\n",
    "print(\"height =\", height)\n",
    "\n",
    "plt.imshow(im_in_fft, cmap='gray')\n",
    "plt.show()"
   ]
  },
  {
   "cell_type": "code",
   "execution_count": 21,
   "id": "7826d6f2",
   "metadata": {
    "scrolled": true
   },
   "outputs": [
    {
     "data": {
      "image/png": "[encoded data removed]",
      "text/plain": [
       "<Figure size 432x288 with 1 Axes>"
      ]
     },
     "metadata": {
      "needs_background": "light"
     },
     "output_type": "display_data"
    }
   ],
   "source": [
    "plt.xlim([0,40])\n",
    "plt.ylim([0,2])\n",
    "plt.imshow(im_in_fft, cmap='gray')\n",
    "plt.show()"
   ]
  },
  {
   "cell_type": "code",
   "execution_count": null,
   "id": "2d742b76",
   "metadata": {},
   "outputs": [],
   "source": []
  },
  {
   "cell_type": "code",
   "execution_count": null,
   "id": "a3e54c68",
   "metadata": {},
   "outputs": [],
   "source": []
  }
 ],
 "metadata": {
  "authors": [
   {
    "name": "Sparisoma Viridi"
   }
  ],
  "kernelspec": {
   "display_name": "Python 3 (ipykernel)",
   "language": "python",
   "name": "python3"
  },
  "language_info": {
   "codemirror_mode": {
    "name": "ipython",
    "version": 3
   },
   "file_extension": ".py",
   "mimetype": "text/x-python",
   "name": "python",
   "nbconvert_exporter": "python",
   "pygments_lexer": "ipython3",
   "version": "3.9.12"
  },
  "title": "sg_gen_fft"
 },
 "nbformat": 4,
 "nbformat_minor": 5
}
