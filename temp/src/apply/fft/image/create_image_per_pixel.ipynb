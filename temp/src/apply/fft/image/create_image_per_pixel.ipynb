{
 "cells": [
  {
   "cell_type": "markdown",
   "id": "cca11c7c",
   "metadata": {},
   "source": [
    "# create_image_per_pixel\n",
    "Create image from information per pixel, save, open, display."
   ]
  },
  {
   "cell_type": "code",
   "execution_count": 1,
   "id": "63d74b91",
   "metadata": {},
   "outputs": [
    {
     "name": "stdout",
     "output_type": "stream",
     "text": [
      "Found data/out_bw.png\n",
      "Remove data/out_bw.png\n"
     ]
    }
   ],
   "source": [
    "import os\n",
    "\n",
    "filename = 'data/out_bw.png'\n",
    "\n",
    "if os.path.exists(filename):\n",
    "    print(\"Found\", filename)\n",
    "    os.remove(filename)\n",
    "    print(\"Remove\", filename)\n",
    "else:\n",
    "    print(\"Can not found\", filename)"
   ]
  },
  {
   "cell_type": "code",
   "execution_count": 2,
   "id": "8a41657c",
   "metadata": {},
   "outputs": [],
   "source": [
    "from PIL import Image\n",
    "width = 255\n",
    "height = 255\n",
    "imout = Image.new('RGB', (width, height))\n",
    "pix = imout.load()\n",
    "for x in range(width):\n",
    "    for y in range(height):\n",
    "        if y < height / 2:\n",
    "            pix[x, y] = (0, 0, 0)\n",
    "        else:\n",
    "            pix[x, y] = (255, 255, 255)\n",
    "imout.save(filename, 'PNG')"
   ]
  },
  {
   "cell_type": "code",
   "execution_count": 3,
   "id": "85ad92e9",
   "metadata": {},
   "outputs": [
    {
     "name": "stdout",
     "output_type": "stream",
     "text": [
      "[[0. 0. 0.]\n",
      " [0. 0. 0.]\n",
      " [0. 0. 0.]\n",
      " [0. 0. 0.]]\n",
      "\n",
      "[[1. 1. 1.]\n",
      " [1. 1. 1.]\n",
      " [1. 1. 1.]\n",
      " [1. 1. 1.]]\n"
     ]
    }
   ],
   "source": [
    "import matplotlib.pyplot as plt\n",
    "imin = plt.imread(filename).astype(float)\n",
    "print(imin[0][:4])\n",
    "print()\n",
    "print(imin[-1][:4])"
   ]
  },
  {
   "cell_type": "code",
   "execution_count": 4,
   "id": "0fe75b0d",
   "metadata": {},
   "outputs": [
    {
     "data": {
      "image/png": "[encoded data removed]",
      "text/plain": [
       "<Figure size 432x288 with 1 Axes>"
      ]
     },
     "metadata": {
      "needs_background": "light"
     },
     "output_type": "display_data"
    }
   ],
   "source": [
    "import numpy as np\n",
    "plt.grid()\n",
    "plt.xticks(np.linspace(0, 255, 6, endpoint=True))\n",
    "plt.yticks(np.linspace(0, 255, 6, endpoint=True))\n",
    "plt.imshow(imin)\n",
    "plt.show()"
   ]
  },
  {
   "cell_type": "markdown",
   "id": "9bc6284b",
   "metadata": {},
   "source": [
    "## refs\n",
    "1. \"Pythonic way to check if a file exists? [duplicate]\", url https://stackoverflow.com/a/2259387/9475509 [20230205].\n",
    "2. \"How can I delete a file or folder in Python?\", url https://stackoverflow.com/a/6996628/9475509 [20230205].\n",
    "3. \"Creating image through input pixel values with the Python Imaging Library (PIL)\", url https://stackoverflow.com/a/27445884/9475509 [20230225].\n",
    "4. \"matplotlib.pyplot.xticks\", url https://matplotlib.org/stable/api/_as_gen/matplotlib.pyplot.xticks.html [20230205].\n",
    "5. \"numpy uint8 pixel wrapping solution\", url https://stackoverflow.com/a/7547657/9475509 [20230205]."
   ]
  },
  {
   "cell_type": "code",
   "execution_count": null,
   "id": "b9da0142",
   "metadata": {},
   "outputs": [],
   "source": []
  }
 ],
 "metadata": {
  "authors": [
   {
    "name": "Sparisoma Viridi"
   }
  ],
  "kernelspec": {
   "display_name": "Python 3 (ipykernel)",
   "language": "python",
   "name": "python3"
  },
  "language_info": {
   "codemirror_mode": {
    "name": "ipython",
    "version": 3
   },
   "file_extension": ".py",
   "mimetype": "text/x-python",
   "name": "python",
   "nbconvert_exporter": "python",
   "pygments_lexer": "ipython3",
   "version": "3.10.9"
  },
  "title": "create_image_per_pixel"
 },
 "nbformat": 4,
 "nbformat_minor": 5
}
