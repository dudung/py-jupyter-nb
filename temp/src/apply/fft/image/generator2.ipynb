{
 "cells": [
  {
   "cell_type": "markdown",
   "id": "cca11c7c",
   "metadata": {},
   "source": [
    "# generator2\n",
    "Generate sinusoidal grating in a direction (and also other)."
   ]
  },
  {
   "cell_type": "code",
   "execution_count": null,
   "id": "3c0aaf8c",
   "metadata": {},
   "outputs": [],
   "source": [
    "def sinusoidal_grating(sample, wavelength, angle):\n",
    "    xmin = 0\n",
    "    xmax = sample\n",
    "    x = np.arange(xmin, xmax, 1)\n",
    "    X, Y = np.meshgrid(x, x)\n",
    "    Z = X * np.cos(angle) + Y * np.sin(angle)\n",
    "    grating = np.sin(2 * np.pi * Z / wavelength)\n",
    "    return grating\n",
    "\n",
    "def test_sindir():\n",
    "    g = sinusoidal_grating(100, 20, 0.0 * np.pi)\n",
    "    plt.imshow(g, cmap='gray')\n",
    "    plt.show()"
   ]
  },
  {
   "cell_type": "code",
   "execution_count": null,
   "id": "7458201b",
   "metadata": {},
   "outputs": [],
   "source": [
    "def create_png_image_sinusoidal_grating(Image, sample, wavelength, angle):\n",
    "    sg = sinusoidal_grating(sample, wavelength, angle)\n",
    "    sg_min = min(map(min, sg))\n",
    "    sg_max = max(map(max, sg))\n",
    "    \n",
    "    im = Image.new('L', (sample, sample))\n",
    "    pix = im.load()\n",
    "    for y in range(sample):\n",
    "        for x in range(sample):\n",
    "            #c = int(255 * (1 + sg[y][x]))\n",
    "            #c = int(255 * sg[y][x])\n",
    "            c = int(255 * (sg[y][x] - sg_min) / (sg_max - sg_min))\n",
    "            pix[x, y] = (c)\n",
    "    return im\n",
    "\n",
    "import matplotlib.pyplot as plt\n",
    "import numpy as np\n",
    "from PIL import Image\n",
    "\n",
    "def test_save():\n",
    "    im = create_png_image_sinusoidal_grating(Image, 100, 10, 0.25 * np.pi)\n",
    "    im.save(\"data/sin_grat_test.png\", 'PNG')"
   ]
  },
  {
   "cell_type": "markdown",
   "id": "7a8fd3ca",
   "metadata": {},
   "source": [
    "## refs\n",
    "1. \"How to Create Any Image Using Only Sine Functions | 2D Fourier Transform in Python\", url https://thepythoncodingbook.com/2021/08/30/2d-fourier-transform-in-python-and-fourier-synthesis-of-images/ [20230206]."
   ]
  },
  {
   "cell_type": "code",
   "execution_count": null,
   "id": "63af05b2",
   "metadata": {},
   "outputs": [],
   "source": []
  }
 ],
 "metadata": {
  "authors": [
   {
    "name": "Sparisoma Viridi"
   }
  ],
  "kernelspec": {
   "display_name": "Python 3 (ipykernel)",
   "language": "python",
   "name": "python3"
  },
  "language_info": {
   "codemirror_mode": {
    "name": "ipython",
    "version": 3
   },
   "file_extension": ".py",
   "mimetype": "text/x-python",
   "name": "python",
   "nbconvert_exporter": "python",
   "pygments_lexer": "ipython3",
   "version": "3.9.12"
  },
  "title": "generator2"
 },
 "nbformat": 4,
 "nbformat_minor": 5
}
