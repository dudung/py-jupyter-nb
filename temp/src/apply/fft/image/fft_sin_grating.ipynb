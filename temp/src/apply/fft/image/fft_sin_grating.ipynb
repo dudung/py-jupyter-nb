{
 "cells": [
  {
   "cell_type": "markdown",
   "id": "cca11c7c",
   "metadata": {},
   "source": [
    "# fft_sin_grating\n",
    "Calculate FFT from samples in the form of sinusoidal gratings images."
   ]
  },
  {
   "cell_type": "code",
   "execution_count": 1,
   "id": "b9da0142",
   "metadata": {
    "scrolled": true
   },
   "outputs": [
    {
     "name": "stdout",
     "output_type": "stream",
     "text": [
      "deg  rad   file\n",
      "000  0.00  data2/fft_000.png  read  fft-ed  saved to data2/fft_000.png\n",
      "015  0.26  data2/fft_015.png  read  fft-ed  saved to data2/fft_015.png\n",
      "030  0.52  data2/fft_030.png  read  fft-ed  saved to data2/fft_030.png\n",
      "045  0.79  data2/fft_045.png  read  fft-ed  saved to data2/fft_045.png\n",
      "060  1.05  data2/fft_060.png  read  fft-ed  saved to data2/fft_060.png\n",
      "075  1.31  data2/fft_075.png  read  fft-ed  saved to data2/fft_075.png\n",
      "090  1.57  data2/fft_090.png  read  fft-ed  saved to data2/fft_090.png\n",
      "105  1.83  data2/fft_105.png  read  fft-ed  saved to data2/fft_105.png\n",
      "120  2.09  data2/fft_120.png  read  fft-ed  saved to data2/fft_120.png\n",
      "135  2.36  data2/fft_135.png  read  fft-ed  saved to data2/fft_135.png\n",
      "150  2.62  data2/fft_150.png  read  fft-ed  saved to data2/fft_150.png\n",
      "165  2.88  data2/fft_165.png  read  fft-ed  saved to data2/fft_165.png\n",
      "180  3.14  data2/fft_180.png  read  fft-ed  saved to data2/fft_180.png\n",
      "195  3.40  data2/fft_195.png  read  fft-ed  saved to data2/fft_195.png\n",
      "210  3.67  data2/fft_210.png  read  fft-ed  saved to data2/fft_210.png\n",
      "225  3.93  data2/fft_225.png  read  fft-ed  saved to data2/fft_225.png\n",
      "240  4.19  data2/fft_240.png  read  fft-ed  saved to data2/fft_240.png\n",
      "255  4.45  data2/fft_255.png  read  fft-ed  saved to data2/fft_255.png\n",
      "270  4.71  data2/fft_270.png  read  fft-ed  saved to data2/fft_270.png\n",
      "285  4.97  data2/fft_285.png  read  fft-ed  saved to data2/fft_285.png\n",
      "300  5.24  data2/fft_300.png  read  fft-ed  saved to data2/fft_300.png\n",
      "315  5.50  data2/fft_315.png  read  fft-ed  saved to data2/fft_315.png\n",
      "330  5.76  data2/fft_330.png  read  fft-ed  saved to data2/fft_330.png\n",
      "345  6.02  data2/fft_345.png  read  fft-ed  saved to data2/fft_345.png\n"
     ]
    }
   ],
   "source": [
    "import matplotlib.pyplot as plt\n",
    "from scipy import fftpack\n",
    "import numpy as np\n",
    "\n",
    "angles = [i * 15 for i in range(24)]\n",
    "print(\"deg  rad   file\")\n",
    "for deg in angles:\n",
    "    rad = deg / 180 * np.pi\n",
    "    ifname = f\"data2/sg_{deg:03}.png\"\n",
    "    ofname = f\"data2/fft_{deg:03}.png\"\n",
    "\n",
    "    print(f\"{deg:03}  {rad:.2f}  {ofname}  \", end='')\n",
    "    \n",
    "    im = plt.imread(ifname).astype(float)\n",
    "    print(\"read\", end='  ')\n",
    "    \n",
    "    im_fft = np.abs(fftpack.fft2(im))\n",
    "    im_fft_normalize = im_fft.astype('uint8')\n",
    "    print(\"fft-ed\", end='  ')\n",
    "    \n",
    "    plt.imsave(ofname, im_fft_normalize, cmap='gray', format='PNG')\n",
    "    print(\"saved to\", ofname)"
   ]
  },
  {
   "cell_type": "markdown",
   "id": "63789ec9",
   "metadata": {},
   "source": [
    "## results\n",
    "![](data2/fft_000.png)<br>`000` | ![](data2/fft_015.png)<br>`015` | ![](data2/fft_030.png)<br>`030` | ![](data2/fft_045.png)<br>`045` | ![](data2/fft_060.png)<br>`060` | ![](data2/fft_075.png)<br>`075`\n",
    ":-: | :-: | :-: | :-: | :-: | :-:\n",
    "![](data2/fft_090.png)<br>`090` | ![](data2/fft_105.png)<br>`105` | ![](data2/fft_120.png)<br>`120` | ![](data2/fft_135.png)<br>`135` | ![](data2/fft_150.png)<br>`150` | ![](data2/fft_165.png)<br>`165`\n",
    "![](data2/fft_180.png)<br>`180` | ![](data2/fft_195.png)<br>`195` | ![](data2/fft_210.png)<br>`210` | ![](data2/fft_225.png)<br>`225` | ![](data2/fft_240.png)<br>`240` | ![](data2/fft_255.png)<br>`255`\n",
    "![](data2/fft_270.png)<br>`270` | ![](data2/fft_285.png)<br>`285` | ![](data2/fft_300.png)<br>`300` | ![](data2/fft_315.png)<br>`315` | ![](data2/fft_330.png)<br>`330` | ![](data2/fft_345.png)<br>`345`"
   ]
  },
  {
   "cell_type": "markdown",
   "id": "546e023c",
   "metadata": {},
   "source": [
    "## refs\n",
    "1. \"Image denoising by FFT\", url https://scipy-lectures.org/intro/scipy/auto_examples/solutions/plot_fft_image_denoise.html [20230206].\n",
    "2. \"How to Create Any Image Using Only Sine Functions | 2D Fourier Transform in Python\", url https://thepythoncodingbook.com/2021/08/30/2d-fourier-transform-in-python-and-fourier-synthesis-of-images/ [20220206].\n",
    "3. \"Display image as grayscale using matplotlib\", url https://stackoverflow.com/a/3823822/9475509 [20230206]."
   ]
  },
  {
   "cell_type": "code",
   "execution_count": null,
   "id": "865b4a1d",
   "metadata": {},
   "outputs": [],
   "source": []
  }
 ],
 "metadata": {
  "authors": [
   {
    "name": "Sparisoma Viridi"
   }
  ],
  "kernelspec": {
   "display_name": "Python 3 (ipykernel)",
   "language": "python",
   "name": "python3"
  },
  "language_info": {
   "codemirror_mode": {
    "name": "ipython",
    "version": 3
   },
   "file_extension": ".py",
   "mimetype": "text/x-python",
   "name": "python",
   "nbconvert_exporter": "python",
   "pygments_lexer": "ipython3",
   "version": "3.9.12"
  },
  "title": "fft_sin_grating"
 },
 "nbformat": 4,
 "nbformat_minor": 5
}
