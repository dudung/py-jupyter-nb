{
 "cells": [
  {
   "cell_type": "markdown",
   "id": "3e4fadad-e60d-4013-832e-bbc6e3faf60f",
   "metadata": {},
   "source": [
    "# perceptron model"
   ]
  },
  {
   "cell_type": "code",
   "execution_count": null,
   "id": "08c1f9d3-00af-41f1-8146-ac727a4427a7",
   "metadata": {},
   "outputs": [],
   "source": [
    "import numpy as np"
   ]
  },
  {
   "cell_type": "code",
   "execution_count": null,
   "id": "80264036-9fd4-47db-abcf-f053e134504d",
   "metadata": {},
   "outputs": [],
   "source": [
    "def binary_step(x):\n",
    "    if x >= 0:\n",
    "        z = 1\n",
    "    else:\n",
    "        z = 0\n",
    "    return z"
   ]
  },
  {
   "cell_type": "code",
   "execution_count": null,
   "id": "97067e46-f53e-46ff-9def-77f479444d92",
   "metadata": {},
   "outputs": [],
   "source": [
    "def sigmoid(x):\n",
    "    z = 1 / (1 + np.exp(-x))\n",
    "    return z"
   ]
  },
  {
   "cell_type": "code",
   "execution_count": null,
   "id": "0754f23c-3c18-4616-9f60-f5c2940c4837",
   "metadata": {},
   "outputs": [],
   "source": [
    "def relu(x):\n",
    "    z = np.maximum(0, x)\n",
    "    return z"
   ]
  },
  {
   "cell_type": "code",
   "execution_count": null,
   "id": "319f8baa-abbe-4f03-a2e6-6e6918a6a0e2",
   "metadata": {},
   "outputs": [],
   "source": [
    "def perceptron(w, x):\n",
    "    ww = np.array([w])\n",
    "    xx = np.array([x + [1]])\n",
    "    y = binary_step((ww @ xx.T).item())\n",
    "    return y"
   ]
  },
  {
   "cell_type": "code",
   "execution_count": null,
   "id": "b703adf3-ba1d-483c-986e-71d625113319",
   "metadata": {},
   "outputs": [],
   "source": [
    "def perceptron(w, x):\n",
    "    ww = np.array([w])\n",
    "    xx = np.array([x + [1]])\n",
    "    y = binary_step((ww @ xx.T).item())\n",
    "    return y"
   ]
  },
  {
   "cell_type": "code",
   "execution_count": null,
   "id": "e1cc34f4-8d94-4175-bfb4-737ed2013362",
   "metadata": {},
   "outputs": [],
   "source": [
    "def perceptron_f(w, x, f):\n",
    "    ww = np.array([w])\n",
    "    xx = np.array([x + [1]])\n",
    "    y = f((ww @ xx.T).item())\n",
    "    return y"
   ]
  },
  {
   "cell_type": "code",
   "execution_count": null,
   "id": "2b7dbb0b-068d-4dfa-90b7-80f9ec4d6535",
   "metadata": {},
   "outputs": [],
   "source": [
    "def decision_boundary(xr, yr, w):\n",
    "    a = w[0]; b = w[1]; c = w[2]\n",
    "    xmin = xr[0]; xmax = xr[1]\n",
    "    ymin = yr[0]; ymax = yr[1]\n",
    "\n",
    "    xx = []; yy = []\n",
    "    for x in np.arange(xmin, xmax, 0.01):\n",
    "        for y  in np.arange(ymin, ymax, 0.01):\n",
    "            z = a*x + b*y + c\n",
    "            if abs(z) < 1E-2:\n",
    "                xx.append(x)\n",
    "                yy.append(y)\n",
    "    return xx, yy"
   ]
  },
  {
   "cell_type": "code",
   "execution_count": null,
   "id": "afcf0c7a-b82b-4f44-8cff-a7996fe042b2",
   "metadata": {},
   "outputs": [],
   "source": [
    "def predicted_data(xr, yr, w):\n",
    "    xx = []; yy = []; zz = []\n",
    "    for x2 in range(yr[0], yr[1]+1):\n",
    "        for x1 in range(xr[0], xr[1]+1):\n",
    "            x = [x1, x2]\n",
    "            y = perceptron(w, x)\n",
    "            xx.append(x1)\n",
    "            yy.append(x2)\n",
    "            zz.append(y)\n",
    "    return xx, yy, zz"
   ]
  },
  {
   "cell_type": "code",
   "execution_count": null,
   "id": "3680196e-798e-4a7e-9f76-633fbd7c831a",
   "metadata": {},
   "outputs": [],
   "source": [
    "def predicted_data_f(xr, yr, w, f):\n",
    "    xx = []; yy = []; zz = []\n",
    "    for x2 in range(yr[0], yr[1]+1):\n",
    "        for x1 in range(xr[0], xr[1]+1):\n",
    "            x = [x1, x2]\n",
    "            y = perceptron_f(w, x, f)\n",
    "            xx.append(x1)\n",
    "            yy.append(x2)\n",
    "            zz.append(y)\n",
    "    return xx, yy, zz"
   ]
  },
  {
   "cell_type": "code",
   "execution_count": null,
   "id": "7a10e9e9-0966-4761-9b81-2d95ff8c5986",
   "metadata": {},
   "outputs": [],
   "source": [
    "def diff_true_pred(xx, yy, zz, w):\n",
    "    data = np.array([xx, yy, zz]).T\n",
    "    zpred = []\n",
    "    for x in data:\n",
    "        y = perceptron(w, x)\n",
    "        zpred.append(y)\n",
    "    diff = []\n",
    "    for i, j in zip(zz, zpred):\n",
    "        diff.append(i - j)\n",
    "    return diff"
   ]
  },
  {
   "cell_type": "code",
   "execution_count": null,
   "id": "f8a4eea9-1bb6-46c1-9cc2-3b30e687683b",
   "metadata": {},
   "outputs": [],
   "source": [
    "def slp_learning(data, w, alpha, epoch):\n",
    "    w1 = [w[0]]; w2 = [w[1]]; b = [w[2]]\n",
    "    for t in range(epoch):\n",
    "        dw1 = 0; dw2 = 0; db = 0\n",
    "        for x1, x2, y in zip(data[0], data[1], data[2]):\n",
    "            x = [x1, x2]\n",
    "            yp = perceptron(w, x)\n",
    "            w[0] = w[0] + alpha * (y - yp) * x1\n",
    "            w[1] = w[1] + alpha * (y - yp) * x2\n",
    "            w[2] = w[2] + alpha * (y - yp) * 1\n",
    "        \n",
    "        w1.append(w[0]); w2.append(w[1]); b.append(w[2])\n",
    "    return w1, w2, b"
   ]
  },
  {
   "cell_type": "code",
   "execution_count": null,
   "id": "5ce34c89-1cf3-47fb-a3c8-2a6b63414ac9",
   "metadata": {},
   "outputs": [],
   "source": [
    "def slp_learn_err(data, w, alpha, epoch):\n",
    "    w1 = [w[0]]; w2 = [w[1]]; b = [w[2]]\n",
    "    sse = []; mce = []\n",
    "    for t in range(epoch):\n",
    "        dw1 = 0; dw2 = 0; db = 0\n",
    "        sset = 0; mcet = 0; n = len(data[0])\n",
    "        for x1, x2, y in zip(data[0], data[1], data[2]):\n",
    "            x = [x1, x2]\n",
    "            yp = perceptron(w, x)\n",
    "            w[0] = w[0] + alpha * (y - yp) * x1\n",
    "            w[1] = w[1] + alpha * (y - yp) * x2\n",
    "            w[2] = w[2] + alpha * (y - yp) * 1\n",
    "            sset = sset + (y - yp)**2\n",
    "            mcet = mcet + abs(y - yp)\n",
    "        \n",
    "        w1.append(w[0]); w2.append(w[1]); b.append(w[2])\n",
    "        sse.append(sset); mce.append(mcet/n)\n",
    "    return w1, w2, b, sse, mce"
   ]
  },
  {
   "cell_type": "code",
   "execution_count": null,
   "id": "288a2d63-6922-4794-9c90-181ca6841aa1",
   "metadata": {},
   "outputs": [],
   "source": []
  }
 ],
 "metadata": {
  "kernelspec": {
   "display_name": "Python 3 (ipykernel)",
   "language": "python",
   "name": "python3"
  },
  "language_info": {
   "codemirror_mode": {
    "name": "ipython",
    "version": 3
   },
   "file_extension": ".py",
   "mimetype": "text/x-python",
   "name": "python",
   "nbconvert_exporter": "python",
   "pygments_lexer": "ipython3",
   "version": "3.12.3"
  }
 },
 "nbformat": 4,
 "nbformat_minor": 5
}
