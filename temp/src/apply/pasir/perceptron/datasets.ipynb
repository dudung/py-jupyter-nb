{
 "cells": [
  {
   "cell_type": "markdown",
   "id": "539d4f57-499e-4015-b1d6-112cea78c0e7",
   "metadata": {},
   "source": [
    "# linearly separable problems"
   ]
  },
  {
   "cell_type": "markdown",
   "id": "20a9600c-dd76-42b8-b0d3-46f8a22f6297",
   "metadata": {},
   "source": [
    "## dataset 1"
   ]
  },
  {
   "cell_type": "code",
   "execution_count": null,
   "id": "2b371b38-86da-4d85-b132-b72910f1fe9b",
   "metadata": {},
   "outputs": [],
   "source": [
    "def gen_data_1():\n",
    "    nx = 11\n",
    "    ny = 11\n",
    "    xx = []\n",
    "    yy = []\n",
    "    zz = []\n",
    "    for y in range(1, ny):\n",
    "        for x in range(nx):\n",
    "            xx.append(x)\n",
    "            yy.append(y)\n",
    "            if x > 5:\n",
    "                zz.append(1)\n",
    "            else:\n",
    "                zz.append(0)\n",
    "    return [xx, yy, zz]"
   ]
  },
  {
   "cell_type": "markdown",
   "id": "4ebd98fe-9b2c-4f72-8787-c6967b43c05c",
   "metadata": {},
   "source": [
    "## dataset 2"
   ]
  },
  {
   "cell_type": "code",
   "execution_count": null,
   "id": "3231f3f5-e9d3-4983-a20d-537012c80fda",
   "metadata": {},
   "outputs": [],
   "source": [
    "def gen_data_2():\n",
    "    nx = 11\n",
    "    ny = 11\n",
    "    xx = []\n",
    "    yy = []\n",
    "    zz = []\n",
    "    for y in range(1, ny):\n",
    "        for x in range(nx):\n",
    "            xx.append(x)\n",
    "            yy.append(y)\n",
    "            if y > 5:\n",
    "                zz.append(1)\n",
    "            else:\n",
    "                zz.append(0)\n",
    "    return [xx, yy, zz]"
   ]
  },
  {
   "cell_type": "markdown",
   "id": "7e932f08-ac6c-486e-8d9a-ad1de49a7695",
   "metadata": {},
   "source": [
    "## dataset 3"
   ]
  },
  {
   "cell_type": "code",
   "execution_count": null,
   "id": "2b14020d-2a9f-42ba-ae1d-9cad289a2061",
   "metadata": {},
   "outputs": [],
   "source": [
    "def gen_data_3():\n",
    "    nx = 11\n",
    "    ny = 11\n",
    "    xx = []\n",
    "    yy = []\n",
    "    zz = []\n",
    "    for y in range(1, ny):\n",
    "        for x in range(nx):\n",
    "            xx.append(x)\n",
    "            yy.append(y)\n",
    "            if x + y > 10:\n",
    "                zz.append(1)\n",
    "            else:\n",
    "                zz.append(0)\n",
    "    return [xx, yy, zz]"
   ]
  },
  {
   "cell_type": "markdown",
   "id": "3ac1621d-ee83-46e8-8b00-5355e5482ccb",
   "metadata": {},
   "source": [
    "## dataset 4"
   ]
  },
  {
   "cell_type": "code",
   "execution_count": null,
   "id": "8e2f2ef2-0817-4ed3-9bd5-2c5aa0e29914",
   "metadata": {},
   "outputs": [],
   "source": [
    "def gen_data_4():\n",
    "    nx = 11\n",
    "    ny = 11\n",
    "    xx = []\n",
    "    yy = []\n",
    "    zz = []\n",
    "    for y in range(1, ny):\n",
    "        for x in range(nx):\n",
    "            xx.append(x)\n",
    "            yy.append(y)\n",
    "            if x - y > -1:\n",
    "                zz.append(1)\n",
    "            else:\n",
    "                zz.append(0)\n",
    "    return [xx, yy, zz]"
   ]
  },
  {
   "cell_type": "markdown",
   "id": "adaea88d-ffd5-4dff-a3e6-b43466e3ec8f",
   "metadata": {},
   "source": [
    "## dataset 5"
   ]
  },
  {
   "cell_type": "code",
   "execution_count": null,
   "id": "67aa139f-6c8c-4587-b8c4-e3d9e3040ffa",
   "metadata": {},
   "outputs": [],
   "source": [
    "def gen_data_5():\n",
    "    nx = 11\n",
    "    ny = 11\n",
    "    xx = []\n",
    "    yy = []\n",
    "    zz = []\n",
    "    for y in range(1, ny):\n",
    "        for x in range(nx):\n",
    "            xx.append(x)\n",
    "            yy.append(y)\n",
    "            if x < 5:\n",
    "                zz.append(1)\n",
    "            else:\n",
    "                zz.append(0)\n",
    "    return [xx, yy, zz]"
   ]
  },
  {
   "cell_type": "markdown",
   "id": "678ac210-c389-4520-9bf7-051b15a4a670",
   "metadata": {},
   "source": [
    "## dataset 6"
   ]
  },
  {
   "cell_type": "code",
   "execution_count": null,
   "id": "e57c5d4a-32f9-4e67-86b2-a104b8519247",
   "metadata": {},
   "outputs": [],
   "source": [
    "def gen_data_6():\n",
    "    nx = 11\n",
    "    ny = 11\n",
    "    xx = []\n",
    "    yy = []\n",
    "    zz = []\n",
    "    for y in range(1, ny):\n",
    "        for x in range(nx):\n",
    "            xx.append(x)\n",
    "            yy.append(y)\n",
    "            if y < 5:\n",
    "                zz.append(1)\n",
    "            else:\n",
    "                zz.append(0)\n",
    "    return [xx, yy, zz]"
   ]
  },
  {
   "cell_type": "markdown",
   "id": "7ab0f448-1ac8-465b-a368-ad9aa2ca134c",
   "metadata": {},
   "source": [
    "## dataset 7"
   ]
  },
  {
   "cell_type": "code",
   "execution_count": null,
   "id": "b07e131c-1e1d-40d8-9757-1752dd23c848",
   "metadata": {},
   "outputs": [],
   "source": [
    "def gen_data_7():\n",
    "    nx = 11\n",
    "    ny = 11\n",
    "    xx = []\n",
    "    yy = []\n",
    "    zz = []\n",
    "    for y in range(1, ny):\n",
    "        for x in range(nx):\n",
    "            xx.append(x)\n",
    "            yy.append(y)\n",
    "            if x + y < 10:\n",
    "                zz.append(1)\n",
    "            else:\n",
    "                zz.append(0)\n",
    "    return [xx, yy, zz]"
   ]
  },
  {
   "cell_type": "markdown",
   "id": "4119cba2-b876-47ea-9a5f-d8d0b6551316",
   "metadata": {},
   "source": [
    "## dataset 8"
   ]
  },
  {
   "cell_type": "code",
   "execution_count": null,
   "id": "2f1805ed-4693-41d2-bf65-6677cf724830",
   "metadata": {},
   "outputs": [],
   "source": [
    "def gen_data_8():\n",
    "    nx = 11\n",
    "    ny = 11\n",
    "    xx = []\n",
    "    yy = []\n",
    "    zz = []\n",
    "    for y in range(1, ny):\n",
    "        for x in range(nx):\n",
    "            xx.append(x)\n",
    "            yy.append(y)\n",
    "            if x - y < -1:\n",
    "                zz.append(1)\n",
    "            else:\n",
    "                zz.append(0)\n",
    "    return [xx, yy, zz]"
   ]
  },
  {
   "cell_type": "markdown",
   "id": "cac56673-51ab-4bdf-8086-5cbf91df438d",
   "metadata": {
    "jp-MarkdownHeadingCollapsed": true
   },
   "source": [
    "## select dataset"
   ]
  },
  {
   "cell_type": "code",
   "execution_count": null,
   "id": "175c3aef-b897-4177-a7e0-d181a0d34ec6",
   "metadata": {},
   "outputs": [],
   "source": [
    "def dataset(n):\n",
    "    match n:\n",
    "      case 1: ds = gen_data_1()\n",
    "      case 2: ds = gen_data_2()\n",
    "      case 3: ds = gen_data_3()\n",
    "      case 4: ds = gen_data_4()\n",
    "      case 5: ds = gen_data_5()\n",
    "      case 6: ds = gen_data_6()\n",
    "      case 7: ds = gen_data_7()\n",
    "      case 8: ds = gen_data_8()\n",
    "    return ds"
   ]
  },
  {
   "cell_type": "code",
   "execution_count": null,
   "id": "2eb20dd3-2229-43c9-b5cc-6a9bfb316c66",
   "metadata": {},
   "outputs": [],
   "source": []
  }
 ],
 "metadata": {
  "kernelspec": {
   "display_name": "Python 3 (ipykernel)",
   "language": "python",
   "name": "python3"
  },
  "language_info": {
   "codemirror_mode": {
    "name": "ipython",
    "version": 3
   },
   "file_extension": ".py",
   "mimetype": "text/x-python",
   "name": "python",
   "nbconvert_exporter": "python",
   "pygments_lexer": "ipython3",
   "version": "3.12.3"
  }
 },
 "nbformat": 4,
 "nbformat_minor": 5
}
