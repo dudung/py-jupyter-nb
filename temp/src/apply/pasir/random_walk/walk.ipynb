{
 "cells": [
  {
   "cell_type": "markdown",
   "id": "40bf12ca-b11f-4b36-9a1e-095db28faca7",
   "metadata": {},
   "source": [
    "# some function for random walk"
   ]
  },
  {
   "cell_type": "code",
   "execution_count": null,
   "id": "b1b83667-b9e6-4c8d-845b-377bcfbbd4b3",
   "metadata": {
    "scrolled": true
   },
   "outputs": [],
   "source": [
    "def discrete_dirs(ndir, n):\n",
    "    import random as rnd\n",
    "    d = ndir - 1\n",
    "    n = range(n)\n",
    "    dirs = [rnd.randint(0, d) for i in n]\n",
    "    return dirs"
   ]
  },
  {
   "cell_type": "code",
   "execution_count": null,
   "id": "5b826a5f-b8ea-4b37-ac33-9e9ba5374c9a",
   "metadata": {
    "scrolled": true
   },
   "outputs": [],
   "source": [
    "def move_dirs(xo, yo, dr, num):\n",
    "    import math as m\n",
    "    ndir = 1 + max(num)\n",
    "    d = 360 / ndir\n",
    "    ang = [i*d for i in range(ndir)]\n",
    "    x = [xo]\n",
    "    y = [yo]\n",
    "    for i in range(len(num)):\n",
    "        a = ang[num[i]]\n",
    "        dx = dr * m.cos(m.radians(a))\n",
    "        dy = dr * m.sin(m.radians(a))\n",
    "        x.append(x[i] + dx)\n",
    "        y.append(y[i] + dy)\n",
    "    return x, y"
   ]
  },
  {
   "cell_type": "code",
   "execution_count": null,
   "id": "d725850f-b7d5-45a4-985e-7002b764c308",
   "metadata": {},
   "outputs": [],
   "source": [
    "def dist_from_coords(x, y):\n",
    "    import math\n",
    "    N = min(len(x), len(y))\n",
    "    d = []\n",
    "    for i in range(1, N):\n",
    "        dx = x[i] - x[i-1]\n",
    "        dy = y[i] - y[i-1]\n",
    "        dr2 = dx*dx + dy*dy\n",
    "        dr = math.sqrt(dr2)\n",
    "        if i > 1:\n",
    "            d.append(d[i-2] + dr)\n",
    "        else:\n",
    "            d.append(dr)\n",
    "    return d"
   ]
  },
  {
   "cell_type": "code",
   "execution_count": null,
   "id": "201b1c01-56c8-4f48-83a4-d46a016d57b3",
   "metadata": {},
   "outputs": [],
   "source": [
    "def displ_from_coords(x, y):\n",
    "    import math\n",
    "    N = min(len(x), len(y))\n",
    "    d = []\n",
    "    for i in range(1, N):\n",
    "        dx = x[i] - x[0]\n",
    "        dy = y[i] - y[0]\n",
    "        dr2 = dx*dx + dy*dy\n",
    "        dr = math.sqrt(dr2)\n",
    "        d.append(dr)\n",
    "    return d"
   ]
  },
  {
   "cell_type": "code",
   "execution_count": null,
   "id": "c36c4003-05cf-4ac3-9941-21f21b4cea86",
   "metadata": {},
   "outputs": [],
   "source": [
    "def mad_shuffle_dirs(dirs, rep):\n",
    "    import random as rnd\n",
    "    mad = [0] * len(dirs)\n",
    "    for i in range(rep):\n",
    "        rnd.shuffle(dirs)\n",
    "        x, y = move_dirs(0, 0, 1, dirs)\n",
    "        s = displ_from_coords(x, y)\n",
    "        mad = [a+b/rep for a, b in zip(mad, s)]\n",
    "    return mad"
   ]
  },
  {
   "cell_type": "code",
   "execution_count": null,
   "id": "900a06ed-dcaa-4960-af2c-fef0e3363677",
   "metadata": {},
   "outputs": [],
   "source": [
    "def msd_shuffle_dirs(dirs, rep):\n",
    "    import random as rnd\n",
    "    msd = [0] * len(dirs)\n",
    "    for i in range(rep):\n",
    "        rnd.shuffle(dirs)\n",
    "        x, y = move_dirs(0, 0, 1, dirs)\n",
    "        s = displ_from_coords(x, y)\n",
    "        s2 = [j*j for j in s]\n",
    "        msd = [a+b/rep for a, b in zip(msd, s2)]\n",
    "    return msd"
   ]
  },
  {
   "cell_type": "code",
   "execution_count": null,
   "id": "b54a76a7-ee6c-447c-8b43-cf251007c1d2",
   "metadata": {},
   "outputs": [],
   "source": [
    "import numpy as np\n",
    "# url https://stackoverflow.com/a/14298647/9475509 [20241117]\n",
    "def estimated_autocorrelation(x):\n",
    "    \"\"\"\n",
    "    http://stackoverflow.com/q/14297012/190597\n",
    "    http://en.wikipedia.org/wiki/Autocorrelation#Estimation\n",
    "    \"\"\"\n",
    "    x = np.array(x)\n",
    "    n = len(x)\n",
    "    variance = x.var()\n",
    "    x = x-x.mean()\n",
    "    r = np.correlate(x, x, mode = 'full')[-n:]\n",
    "    assert np.allclose(r, np.array([(x[:n-k]*x[-(n-k):]).sum() for k in range(n)]))\n",
    "    result = r/(variance*(np.arange(n, 0, -1)))\n",
    "    return result\n",
    "\n",
    "# url https://chatgpt.com/share/6739cd9f-77a0-800a-8c44-f2587ee0a86f [20241117]\n",
    "def autocorrelation(sequence, max_lag):\n",
    "    \"\"\"Compute autocorrelation for a given sequence up to max_lag.\"\"\"\n",
    "    n = len(sequence)\n",
    "    mean = np.mean(sequence)\n",
    "    var = np.var(sequence)\n",
    "    autocorr = [np.correlate(sequence[:n-lag] - mean, sequence[lag:] - mean)[0] / (var * (n - lag)) for lag in range(max_lag)]\n",
    "    return autocorr"
   ]
  }
 ],
 "metadata": {
  "kernelspec": {
   "display_name": "Python 3 (ipykernel)",
   "language": "python",
   "name": "python3"
  },
  "language_info": {
   "codemirror_mode": {
    "name": "ipython",
    "version": 3
   },
   "file_extension": ".py",
   "mimetype": "text/x-python",
   "name": "python",
   "nbconvert_exporter": "python",
   "pygments_lexer": "ipython3",
   "version": "3.12.3"
  }
 },
 "nbformat": 4,
 "nbformat_minor": 5
}
