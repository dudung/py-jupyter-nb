{
 "cells": [
  {
   "cell_type": "code",
   "execution_count": null,
   "id": "fd472236-1705-4253-9340-d78b6eee633c",
   "metadata": {},
   "outputs": [],
   "source": []
  },
  {
   "cell_type": "code",
   "execution_count": 1,
   "id": "bce8ac21-680b-4d26-82dc-91680b2511f5",
   "metadata": {},
   "outputs": [
    {
     "data": {
      "image/png": "[encoded data removed]",
      "text/plain": [
       "<PIL.Image.Image image mode=RGBA size=670x170>"
      ]
     },
     "execution_count": 1,
     "metadata": {},
     "output_type": "execute_result"
    }
   ],
   "source": [
    "import keras\n",
    "from keras import Input, Model\n",
    "from keras.layers import Dense\n",
    "import visualkeras\n",
    "\n",
    "inputs = Input(shape=(6,))\n",
    "outputs = Dense(2, activation='tanh')(inputs)\n",
    "model = Model(inputs=inputs, outputs=outputs)\n",
    "visualkeras.graph_view(model, inout_as_tensor=True)"
   ]
  },
  {
   "cell_type": "code",
   "execution_count": 2,
   "id": "b4008da7-67ff-489a-96f2-fa43a01cca8d",
   "metadata": {},
   "outputs": [
    {
     "ename": "TypeError",
     "evalue": "'NoneType' object is not iterable",
     "output_type": "error",
     "traceback": [
      "\u001b[1;31m----------------------------------------------------------------------\u001b[0m",
      "\u001b[1;31mTypeError\u001b[0m                            Traceback (most recent call last)",
      "Cell \u001b[1;32mIn[2], line 9\u001b[0m\n\u001b[0;32m      7\u001b[0m outputs \u001b[38;5;241m=\u001b[39m Dense(\u001b[38;5;241m2\u001b[39m, activation\u001b[38;5;241m=\u001b[39m\u001b[38;5;124m'\u001b[39m\u001b[38;5;124mtanh\u001b[39m\u001b[38;5;124m'\u001b[39m)(inputs)\n\u001b[0;32m      8\u001b[0m model \u001b[38;5;241m=\u001b[39m Model(inputs\u001b[38;5;241m=\u001b[39minputs, outputs\u001b[38;5;241m=\u001b[39moutputs)\n\u001b[1;32m----> 9\u001b[0m \u001b[43mvisualkeras\u001b[49m\u001b[38;5;241;43m.\u001b[39;49m\u001b[43mgraph_view\u001b[49m\u001b[43m(\u001b[49m\u001b[43mmodel\u001b[49m\u001b[43m,\u001b[49m\u001b[43m \u001b[49m\u001b[43minout_as_tensor\u001b[49m\u001b[38;5;241;43m=\u001b[39;49m\u001b[38;5;28;43;01mFalse\u001b[39;49;00m\u001b[43m)\u001b[49m\n",
      "File \u001b[1;32mV:\\tf\\Lib\\site-packages\\visualkeras\\graph.py:82\u001b[0m, in \u001b[0;36mgraph_view\u001b[1;34m(model, to_file, color_map, node_size, background_fill, padding, layer_spacing, node_spacing, connector_fill, connector_width, ellipsize_after, inout_as_tensor, show_neurons)\u001b[0m\n\u001b[0;32m     76\u001b[0m model_layers \u001b[38;5;241m=\u001b[39m model_to_hierarchy_lists(model, id_to_num_mapping, adj_matrix)\n\u001b[0;32m     78\u001b[0m \u001b[38;5;66;03m# Add fake output layers\u001b[39;00m\n\u001b[0;32m     79\u001b[0m model_layers\u001b[38;5;241m.\u001b[39mappend([\n\u001b[0;32m     80\u001b[0m     _DummyLayer(\n\u001b[0;32m     81\u001b[0m         output_names[i],\n\u001b[1;32m---> 82\u001b[0m         \u001b[38;5;28;01mNone\u001b[39;00m \u001b[38;5;28;01mif\u001b[39;00m inout_as_tensor \u001b[38;5;28;01melse\u001b[39;00m \u001b[43mself_multiply\u001b[49m\u001b[43m(\u001b[49m\u001b[43mmodel\u001b[49m\u001b[38;5;241;43m.\u001b[39;49m\u001b[43moutput_shape\u001b[49m\u001b[43m[\u001b[49m\u001b[43mi\u001b[49m\u001b[43m]\u001b[49m\u001b[43m)\u001b[49m\n\u001b[0;32m     83\u001b[0m     )\n\u001b[0;32m     84\u001b[0m     \u001b[38;5;28;01mfor\u001b[39;00m i \u001b[38;5;129;01min\u001b[39;00m \u001b[38;5;28mrange\u001b[39m(\u001b[38;5;28mlen\u001b[39m(model\u001b[38;5;241m.\u001b[39moutputs))\n\u001b[0;32m     85\u001b[0m ])\n\u001b[0;32m     86\u001b[0m id_to_num_mapping, adj_matrix \u001b[38;5;241m=\u001b[39m augment_output_layers(model, model_layers[\u001b[38;5;241m-\u001b[39m\u001b[38;5;241m1\u001b[39m], id_to_num_mapping, adj_matrix)\n\u001b[0;32m     88\u001b[0m \u001b[38;5;66;03m# Create architecture\u001b[39;00m\n",
      "File \u001b[1;32mV:\\tf\\Lib\\site-packages\\visualkeras\\utils.py:151\u001b[0m, in \u001b[0;36mself_multiply\u001b[1;34m(tensor_tuple)\u001b[0m\n\u001b[0;32m    145\u001b[0m \u001b[38;5;28;01mdef\u001b[39;00m \u001b[38;5;21mself_multiply\u001b[39m(tensor_tuple: \u001b[38;5;28mtuple\u001b[39m):\n\u001b[0;32m    146\u001b[0m \u001b[38;5;250m    \u001b[39m\u001b[38;5;124;03m\"\"\"\u001b[39;00m\n\u001b[0;32m    147\u001b[0m \n\u001b[0;32m    148\u001b[0m \u001b[38;5;124;03m    :param tensor_tuple:\u001b[39;00m\n\u001b[0;32m    149\u001b[0m \u001b[38;5;124;03m    :return:\u001b[39;00m\n\u001b[0;32m    150\u001b[0m \u001b[38;5;124;03m    \"\"\"\u001b[39;00m\n\u001b[1;32m--> 151\u001b[0m     tensor_list \u001b[38;5;241m=\u001b[39m \u001b[38;5;28;43mlist\u001b[39;49m\u001b[43m(\u001b[49m\u001b[43mtensor_tuple\u001b[49m\u001b[43m)\u001b[49m\n\u001b[0;32m    152\u001b[0m     \u001b[38;5;28;01mif\u001b[39;00m \u001b[38;5;28;01mNone\u001b[39;00m \u001b[38;5;129;01min\u001b[39;00m tensor_list:\n\u001b[0;32m    153\u001b[0m         tensor_list\u001b[38;5;241m.\u001b[39mremove(\u001b[38;5;28;01mNone\u001b[39;00m)\n",
      "\u001b[1;31mTypeError\u001b[0m: 'NoneType' object is not iterable"
     ]
    }
   ],
   "source": [
    "import keras\n",
    "from keras import Input, Model\n",
    "from keras.layers import Dense\n",
    "import visualkeras\n",
    "\n",
    "inputs = Input(shape=(6,))\n",
    "outputs = Dense(2, activation='tanh')(inputs)\n",
    "model = Model(inputs=inputs, outputs=outputs)\n",
    "visualkeras.graph_view(model, inout_as_tensor=False)"
   ]
  },
  {
   "cell_type": "code",
   "execution_count": null,
   "id": "81e9970a-4dfd-4303-9c0e-2447f735f31a",
   "metadata": {},
   "outputs": [],
   "source": []
  }
 ],
 "metadata": {
  "kernelspec": {
   "display_name": "Python 3 (ipykernel)",
   "language": "python",
   "name": "python3"
  },
  "language_info": {
   "codemirror_mode": {
    "name": "ipython",
    "version": 3
   },
   "file_extension": ".py",
   "mimetype": "text/x-python",
   "name": "python",
   "nbconvert_exporter": "python",
   "pygments_lexer": "ipython3",
   "version": "3.12.3"
  }
 },
 "nbformat": 4,
 "nbformat_minor": 5
}
