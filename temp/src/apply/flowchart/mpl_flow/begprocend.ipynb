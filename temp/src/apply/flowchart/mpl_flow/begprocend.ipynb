{
 "cells": [
  {
   "cell_type": "markdown",
   "id": "cca11c7c",
   "metadata": {},
   "source": [
    "# begprocend\n",
    "+ url https://pypi.org/project/mpl-flow/"
   ]
  },
  {
   "cell_type": "code",
   "execution_count": 1,
   "id": "ccfc4302",
   "metadata": {
    "scrolled": true
   },
   "outputs": [
    {
     "name": "stderr",
     "output_type": "stream",
     "text": [
      "C:\\Users\\62812\\AppData\\Roaming\\Python\\Python311\\site-packages\\mpl_flow.py:126: UserWarning: Setting the 'color' property will override the edgecolor or facecolor properties.\n",
      "  ann = self.flow.ax.annotate(self.label, xy=startpoint, xycoords=\"data\",\n",
      "C:\\Users\\62812\\AppData\\Roaming\\Python\\Python311\\site-packages\\mpl_flow.py:131: UserWarning: Setting the 'color' property will override the edgecolor or facecolor properties.\n",
      "  ann = self.flow.ax.annotate(self.label,\n"
     ]
    },
    {
     "data": {
      "image/png": "[encoded data removed]",
      "text/plain": [
       "<Figure size 300x100 with 1 Axes>"
      ]
     },
     "metadata": {},
     "output_type": "display_data"
    }
   ],
   "source": [
    "import matplotlib.pyplot as plt\n",
    "from mpl_flow import Flow\n",
    "\n",
    "fc = '#ddf'\n",
    "c = '#88a'\n",
    "\n",
    "fig, axes = plt.subplots(1, 1, figsize=(3, 1))\n",
    "ax1 = axes\n",
    "f = Flow(ax=ax1)\n",
    "f.node(label='Begin', bbox=dict(boxstyle='circle', fc=fc, color=c))\n",
    "f.node('b', label='Process', travel='e', bbox=dict(fc=fc, color=c))\n",
    "f.node(label='End', travel='e', startpoint='b', bbox=dict(boxstyle='circle', fc=fc, color=c))\n",
    "plt.show()"
   ]
  },
  {
   "cell_type": "code",
   "execution_count": null,
   "id": "c5b41dc5",
   "metadata": {},
   "outputs": [],
   "source": []
  }
 ],
 "metadata": {
  "authors": [
   {
    "name": "Sparisoma Viridi"
   }
  ],
  "kernelspec": {
   "display_name": "Python 3 (ipykernel)",
   "language": "python",
   "name": "python3"
  },
  "language_info": {
   "codemirror_mode": {
    "name": "ipython",
    "version": 3
   },
   "file_extension": ".py",
   "mimetype": "text/x-python",
   "name": "python",
   "nbconvert_exporter": "python",
   "pygments_lexer": "ipython3",
   "version": "3.11.2"
  },
  "title": "begprocend"
 },
 "nbformat": 4,
 "nbformat_minor": 5
}
