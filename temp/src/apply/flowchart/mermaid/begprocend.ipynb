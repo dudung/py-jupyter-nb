{
 "cells": [
  {
   "cell_type": "markdown",
   "id": "cca11c7c",
   "metadata": {},
   "source": [
    "# begprocend\n",
    "+ url https://ouhammmourachid.github.io/mermaid-py/"
   ]
  },
  {
   "cell_type": "code",
   "execution_count": null,
   "metadata": {},
   "outputs": [],
   "source": [
    "# install mermaid-py\n",
    "%pip install mermaid-py"
   ]
  },
  {
   "cell_type": "code",
   "execution_count": 1,
   "metadata": {},
   "outputs": [],
   "source": [
    "import mermaid as md"
   ]
  },
  {
   "cell_type": "code",
   "execution_count": 2,
   "id": "ccfc4302",
   "metadata": {},
   "outputs": [
    {
     "data": {
      "image/jpeg": "[encoded data removed]",
      "text/plain": [
       "<IPython.core.display.Image object>"
      ]
     },
     "metadata": {},
     "output_type": "display_data"
    }
   ],
   "source": [
    "%%mermaidjs --img\n",
    "graph LR\n",
    "    A --> B --> C\n",
    "    A([\"Begin\"])\n",
    "    B[\"Process\"]\n",
    "    C([\"End\"])"
   ]
  },
  {
   "cell_type": "code",
   "execution_count": null,
   "id": "335c1ab9",
   "metadata": {},
   "outputs": [],
   "source": []
  }
 ],
 "metadata": {
  "authors": [
   {
    "name": "Sparisoma Viridi"
   }
  ],
  "kernelspec": {
   "display_name": "Python 3 (ipykernel)",
   "language": "python",
   "name": "python3"
  },
  "language_info": {
   "codemirror_mode": {
    "name": "ipython",
    "version": 3
   },
   "file_extension": ".py",
   "mimetype": "text/x-python",
   "name": "python",
   "nbconvert_exporter": "python",
   "pygments_lexer": "ipython3",
   "version": "3.10.8"
  },
  "title": "begprocend"
 },
 "nbformat": 4,
 "nbformat_minor": 5
}
