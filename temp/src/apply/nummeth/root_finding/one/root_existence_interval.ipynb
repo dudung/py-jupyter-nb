{
 "cells": [
  {
   "cell_type": "markdown",
   "id": "cca11c7c",
   "metadata": {},
   "source": [
    "# root_existence_interval\n",
    "Check existence of root in an interval"
   ]
  },
  {
   "cell_type": "markdown",
   "id": "54a5e448",
   "metadata": {},
   "source": [
    "$$\\tag{1}\n",
    "f(x) = \\sin(x - 0.26\\pi) - 0.41\n",
    "$$"
   ]
  },
  {
   "cell_type": "code",
   "execution_count": 1,
   "id": "c63832eb",
   "metadata": {},
   "outputs": [
    {
     "data": {
      "image/png": "[encoded data removed]",
      "text/plain": [
       "<Figure size 432x288 with 1 Axes>"
      ]
     },
     "metadata": {
      "needs_background": "light"
     },
     "output_type": "display_data"
    },
    {
     "name": "stdout",
     "output_type": "stream",
     "text": [
      "xroot = [1, 2]\n",
      "yroot = [-0.22783690292811234, 0.5158149102054568]\n",
      "f(x1) f(x2) = -0.11752167162535364 < -1\n",
      "Root existence: True\n"
     ]
    }
   ],
   "source": [
    "import math\n",
    "import matplotlib.pyplot as plt\n",
    "\n",
    "def f(x):\n",
    "    y = math.sin(x - 0.26 * math.pi) - 0.41\n",
    "    return y\n",
    "\n",
    "x = [i * 0.03  for i in range(0, 100 + 1)]\n",
    "y = [f(i) for i in x]\n",
    "\n",
    "xroot = [1, 2]\n",
    "yroot = [f(i) for i in xroot]\n",
    "\n",
    "plt.grid()\n",
    "plt.plot(x, y, 'b-', xroot, yroot, 'ro', markerfacecolor='none', ms=10, lw=2)\n",
    "plt.show()\n",
    "\n",
    "print(\"xroot =\", xroot)\n",
    "print(\"yroot =\", yroot)\n",
    "print(\"f(x1) f(x2) =\", yroot[0] * yroot[1], \"< -1\")\n",
    "print(\"Root existence:\", True)"
   ]
  },
  {
   "cell_type": "code",
   "execution_count": null,
   "id": "c210a004",
   "metadata": {},
   "outputs": [],
   "source": []
  }
 ],
 "metadata": {
  "authors": [
   {
    "name": "Sparisoma Viridi"
   }
  ],
  "kernelspec": {
   "display_name": "Python 3 (ipykernel)",
   "language": "python",
   "name": "python3"
  },
  "language_info": {
   "codemirror_mode": {
    "name": "ipython",
    "version": 3
   },
   "file_extension": ".py",
   "mimetype": "text/x-python",
   "name": "python",
   "nbconvert_exporter": "python",
   "pygments_lexer": "ipython3",
   "version": "3.10.9"
  },
  "title": "root_existence_interval"
 },
 "nbformat": 4,
 "nbformat_minor": 5
}
