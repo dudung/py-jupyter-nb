{
 "cells": [
  {
   "cell_type": "markdown",
   "id": "cca11c7c",
   "metadata": {},
   "source": [
    "# scanning_method\n",
    "Find a root in an interval using scanning method"
   ]
  },
  {
   "cell_type": "markdown",
   "id": "0d58610f",
   "metadata": {},
   "source": [
    "$$\\tag{1}\n",
    "f(x) = \\sin(x - 0.26\\pi) - 0.41\n",
    "$$"
   ]
  },
  {
   "cell_type": "code",
   "execution_count": 1,
   "id": "c63832eb",
   "metadata": {},
   "outputs": [
    {
     "name": "stdout",
     "output_type": "stream",
     "text": [
      "Root existance between 1 and 2 : True\n"
     ]
    }
   ],
   "source": [
    "import math\n",
    "\n",
    "def f(x):\n",
    "    y = math.sin(x - 0.26 * math.pi) - 0.41\n",
    "    return y\n",
    "\n",
    "x = [i * 0.03  for i in range(0, 100 + 1)]\n",
    "y = [f(i) for i in x]\n",
    "\n",
    "xroot = [1, 2]\n",
    "yroot = [f(i) for i in xroot]\n",
    "\n",
    "print(\"Root existance between\", xroot[0], \"and\", xroot[1], \":\", end=' ')\n",
    "if yroot[0] * yroot[1] < 0:\n",
    "    print(True)\n",
    "else:\n",
    "    print(False)"
   ]
  },
  {
   "cell_type": "code",
   "execution_count": 2,
   "id": "c210a004",
   "metadata": {},
   "outputs": [
    {
     "name": "stdout",
     "output_type": "stream",
     "text": [
      "Root exists between 1.0 and 2.0\n"
     ]
    }
   ],
   "source": [
    "N = 1\n",
    "xbeg = xroot[0]\n",
    "xend = xroot[1]\n",
    "dx = (xend - xbeg) / N\n",
    "\n",
    "\n",
    "sign = 0\n",
    "for i in range(N + 1):\n",
    "    xi = xbeg + i * dx\n",
    "    xi = round(xi * N) / N\n",
    "    \n",
    "    yi = f(xi)\n",
    "    if yi > 0:\n",
    "        cur_sign = 1\n",
    "    else:\n",
    "        cur_sign = -1\n",
    "    \n",
    "    if i == 0:\n",
    "        sign = cur_sign\n",
    "    \n",
    "    if cur_sign * sign < 0:\n",
    "        xleft = xi - dx\n",
    "        xright = xi\n",
    "        break\n",
    "\n",
    "print(\"Root exists between\", xleft, \"and\", xright)"
   ]
  },
  {
   "cell_type": "code",
   "execution_count": 3,
   "id": "647a4beb",
   "metadata": {},
   "outputs": [
    {
     "name": "stdout",
     "output_type": "stream",
     "text": [
      "Root exists between 1.2 and 1.3\n"
     ]
    }
   ],
   "source": [
    "N = 10\n",
    "xbeg = xroot[0]\n",
    "xend = xroot[1]\n",
    "dx = (xend - xbeg) / N\n",
    "\n",
    "\n",
    "sign = 0\n",
    "for i in range(N + 1):\n",
    "    xi = xbeg + i * dx\n",
    "    xi = round(xi * N) / N\n",
    "    \n",
    "    yi = f(xi)\n",
    "    if yi > 0:\n",
    "        cur_sign = 1\n",
    "    else:\n",
    "        cur_sign = -1\n",
    "    \n",
    "    if i == 0:\n",
    "        sign = cur_sign\n",
    "    \n",
    "    if cur_sign * sign < 0:\n",
    "        xleft = xi - dx\n",
    "        xright = xi\n",
    "        break\n",
    "\n",
    "print(\"Root exists between\", xleft, \"and\", xright)"
   ]
  },
  {
   "cell_type": "code",
   "execution_count": 4,
   "id": "17c3a94b",
   "metadata": {},
   "outputs": [
    {
     "name": "stdout",
     "output_type": "stream",
     "text": [
      "Root exists between 1.23 and 1.24\n"
     ]
    }
   ],
   "source": [
    "N = 100\n",
    "xbeg = xroot[0]\n",
    "xend = xroot[1]\n",
    "dx = (xend - xbeg) / N\n",
    "\n",
    "\n",
    "sign = 0\n",
    "for i in range(N + 1):\n",
    "    xi = xbeg + i * dx\n",
    "    xi = round(xi * N) / N\n",
    "    \n",
    "    yi = f(xi)\n",
    "    if yi > 0:\n",
    "        cur_sign = 1\n",
    "    else:\n",
    "        cur_sign = -1\n",
    "    \n",
    "    if i == 0:\n",
    "        sign = cur_sign\n",
    "    \n",
    "    if cur_sign * sign < 0:\n",
    "        xleft = xi - dx\n",
    "        xright = xi\n",
    "        break\n",
    "\n",
    "print(\"Root exists between\", xleft, \"and\", xright)"
   ]
  },
  {
   "cell_type": "code",
   "execution_count": 5,
   "id": "7c90dc45",
   "metadata": {},
   "outputs": [
    {
     "name": "stdout",
     "output_type": "stream",
     "text": [
      "Root exists between 1.239 and 1.24\n"
     ]
    }
   ],
   "source": [
    "N = 1000\n",
    "xbeg = xroot[0]\n",
    "xend = xroot[1]\n",
    "dx = (xend - xbeg) / N\n",
    "\n",
    "\n",
    "sign = 0\n",
    "for i in range(N + 1):\n",
    "    xi = xbeg + i * dx\n",
    "    xi = round(xi * N) / N\n",
    "    \n",
    "    yi = f(xi)\n",
    "    if yi > 0:\n",
    "        cur_sign = 1\n",
    "    else:\n",
    "        cur_sign = -1\n",
    "    \n",
    "    if i == 0:\n",
    "        sign = cur_sign\n",
    "    \n",
    "    if cur_sign * sign < 0:\n",
    "        xleft = xi - dx\n",
    "        xright = xi\n",
    "        break\n",
    "\n",
    "print(\"Root exists between\", xleft, \"and\", xright)"
   ]
  },
  {
   "cell_type": "code",
   "execution_count": 6,
   "id": "1c13a75c",
   "metadata": {},
   "outputs": [
    {
     "name": "stdout",
     "output_type": "stream",
     "text": [
      "Root exists between 1.2392 and 1.2393\n"
     ]
    }
   ],
   "source": [
    "N = 10000\n",
    "xbeg = xroot[0]\n",
    "xend = xroot[1]\n",
    "dx = (xend - xbeg) / N\n",
    "\n",
    "\n",
    "sign = 0\n",
    "for i in range(N + 1):\n",
    "    xi = xbeg + i * dx\n",
    "    xi = round(xi * N) / N\n",
    "    \n",
    "    yi = f(xi)\n",
    "    if yi > 0:\n",
    "        cur_sign = 1\n",
    "    else:\n",
    "        cur_sign = -1\n",
    "    \n",
    "    if i == 0:\n",
    "        sign = cur_sign\n",
    "    \n",
    "    if cur_sign * sign < 0:\n",
    "        xleft = xi - dx\n",
    "        xright = xi\n",
    "        break\n",
    "\n",
    "print(\"Root exists between\", xleft, \"and\", xright)"
   ]
  },
  {
   "cell_type": "code",
   "execution_count": 7,
   "id": "6383d54b",
   "metadata": {},
   "outputs": [
    {
     "name": "stdout",
     "output_type": "stream",
     "text": [
      "Root exists between 1.23926 and 1.23927\n"
     ]
    }
   ],
   "source": [
    "N = 100000\n",
    "xbeg = xroot[0]\n",
    "xend = xroot[1]\n",
    "dx = (xend - xbeg) / N\n",
    "\n",
    "\n",
    "sign = 0\n",
    "for i in range(N + 1):\n",
    "    xi = xbeg + i * dx\n",
    "    xi = round(xi * N) / N\n",
    "    \n",
    "    yi = f(xi)\n",
    "    if yi > 0:\n",
    "        cur_sign = 1\n",
    "    else:\n",
    "        cur_sign = -1\n",
    "    \n",
    "    if i == 0:\n",
    "        sign = cur_sign\n",
    "    \n",
    "    if cur_sign * sign < 0:\n",
    "        xleft = xi - dx\n",
    "        xright = xi\n",
    "        break\n",
    "\n",
    "print(\"Root exists between\", xleft, \"and\", xright)"
   ]
  },
  {
   "cell_type": "code",
   "execution_count": null,
   "id": "988ff781",
   "metadata": {},
   "outputs": [],
   "source": []
  }
 ],
 "metadata": {
  "authors": [
   {
    "name": "Sparisoma Viridi"
   }
  ],
  "kernelspec": {
   "display_name": "Python 3 (ipykernel)",
   "language": "python",
   "name": "python3"
  },
  "language_info": {
   "codemirror_mode": {
    "name": "ipython",
    "version": 3
   },
   "file_extension": ".py",
   "mimetype": "text/x-python",
   "name": "python",
   "nbconvert_exporter": "python",
   "pygments_lexer": "ipython3",
   "version": "3.10.9"
  },
  "title": "scanning_method"
 },
 "nbformat": 4,
 "nbformat_minor": 5
}
