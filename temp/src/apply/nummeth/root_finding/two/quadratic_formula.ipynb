{
 "cells": [
  {
   "cell_type": "markdown",
   "id": "cca11c7c",
   "metadata": {},
   "source": [
    "# quadratic_formula\n",
    "Roots of quadratic equation using quadratic formula"
   ]
  },
  {
   "cell_type": "markdown",
   "id": "a975d482",
   "metadata": {},
   "source": [
    "## quadratic equation\n",
    "\n",
    "$$\\tag{1}\n",
    "f(x) = c_2 x^2 + c_1 x + c_0\n",
    "$$"
   ]
  },
  {
   "cell_type": "code",
   "execution_count": 1,
   "id": "ea49d784",
   "metadata": {},
   "outputs": [],
   "source": [
    "def f(x, c):\n",
    "    y = c[2] * x**2\n",
    "    y += c[1] * x\n",
    "    y += c[0]\n",
    "    return y"
   ]
  },
  {
   "cell_type": "markdown",
   "id": "ddb5ae10",
   "metadata": {},
   "source": [
    "## quadratic formula\n",
    "$$\\tag{2}\n",
    "x_{1,2} = \\frac{-c_1 \\mp \\sqrt{D}}{2c_2}\n",
    "$$\n",
    "\n",
    "$$\\tag{3}\n",
    "D = c_1^2 - 4 c_2 c_0\n",
    "$$"
   ]
  },
  {
   "cell_type": "markdown",
   "id": "3e4cb53a",
   "metadata": {},
   "source": [
    "## two different roots\n",
    "+ $c_0 = 16$\n",
    "+ $c_1 = -10$\n",
    "+ $c_2 = 1$"
   ]
  },
  {
   "cell_type": "code",
   "execution_count": 2,
   "id": "7e562791",
   "metadata": {},
   "outputs": [
    {
     "name": "stdout",
     "output_type": "stream",
     "text": [
      "x1 = 2.0\n",
      "x2 = 8.0\n"
     ]
    }
   ],
   "source": [
    "c = [16, -10, 1]\n",
    "D = c[1]**2 - 4 * c[2] * c[0]\n",
    "x1 = (-c[1] - D**0.5) / (2 * c[2])\n",
    "x2 = (-c[1] + D**0.5) / (2 * c[2])\n",
    "print(\"x1 =\", x1)\n",
    "print(\"x2 =\", x2)"
   ]
  },
  {
   "cell_type": "code",
   "execution_count": 3,
   "id": "c63832eb",
   "metadata": {},
   "outputs": [
    {
     "data": {
      "image/png": "[encoded data removed]",
      "text/plain": [
       "<Figure size 432x288 with 1 Axes>"
      ]
     },
     "metadata": {
      "needs_background": "light"
     },
     "output_type": "display_data"
    }
   ],
   "source": [
    "import matplotlib.pyplot as plt\n",
    "\n",
    "N = 100\n",
    "xbeg = 0\n",
    "xend = 10\n",
    "x = [(i /100) * (xend - xbeg) + xbeg for i in range(0, N + 1)]\n",
    "y = [f(i, c) for i in x]\n",
    "\n",
    "xroot = [x1, x2]\n",
    "yroot = [f(i, c) for i in xroot]\n",
    "\n",
    "plt.grid()\n",
    "plt.plot(x, y, xroot, yroot, 'r+', ms=10, lw=2)\n",
    "plt.show()"
   ]
  },
  {
   "cell_type": "markdown",
   "id": "e6d35b02",
   "metadata": {},
   "source": [
    "## one double root\n",
    "+ $c_0 = 25$\n",
    "+ $c_1 = -10$\n",
    "+ $c_2 = 1$"
   ]
  },
  {
   "cell_type": "code",
   "execution_count": 4,
   "id": "9eb742f0",
   "metadata": {},
   "outputs": [
    {
     "name": "stdout",
     "output_type": "stream",
     "text": [
      "x1 = 5.0\n",
      "x2 = 5.0\n"
     ]
    }
   ],
   "source": [
    "c = [25, -10, 1]\n",
    "D = c[1]**2 - 4 * c[2] * c[0]\n",
    "x1 = (-c[1] - D**0.5) / (2 * c[2])\n",
    "x2 = (-c[1] + D**0.5) / (2 * c[2])\n",
    "print(\"x1 =\", x1)\n",
    "print(\"x2 =\", x2)"
   ]
  },
  {
   "cell_type": "code",
   "execution_count": 5,
   "id": "21b4d692",
   "metadata": {},
   "outputs": [
    {
     "data": {
      "image/png": "[encoded data removed]",
      "text/plain": [
       "<Figure size 432x288 with 1 Axes>"
      ]
     },
     "metadata": {
      "needs_background": "light"
     },
     "output_type": "display_data"
    }
   ],
   "source": [
    "import matplotlib.pyplot as plt\n",
    "\n",
    "N = 100\n",
    "xbeg = 0\n",
    "xend = 10\n",
    "x = [(i /100) * (xend - xbeg) + xbeg for i in range(0, N + 1)]\n",
    "y = [f(i, c) for i in x]\n",
    "\n",
    "xroot = [x1, x2]\n",
    "yroot = [f(i, c) for i in xroot]\n",
    "\n",
    "plt.grid()\n",
    "plt.plot(x, y, xroot, yroot, 'r+', ms=10, lw=2)\n",
    "plt.show()"
   ]
  },
  {
   "cell_type": "markdown",
   "id": "2e510be3",
   "metadata": {},
   "source": [
    "## no real root\n",
    "+ $c_0 = 25$\n",
    "+ $c_1 = 0$\n",
    "+ $c_2 = 1$"
   ]
  },
  {
   "cell_type": "code",
   "execution_count": 6,
   "id": "7b80ae51",
   "metadata": {},
   "outputs": [
    {
     "name": "stdout",
     "output_type": "stream",
     "text": [
      "x1 = (-3.061616997868383e-16-5j)\n",
      "x2 = (3.061616997868383e-16+5j)\n"
     ]
    }
   ],
   "source": [
    "c = [25, 0, 1]\n",
    "D = c[1]**2 - 4 * c[2] * c[0]\n",
    "x1 = (-c[1] - D**0.5) / (2 * c[2])\n",
    "x2 = (-c[1] + D**0.5) / (2 * c[2])\n",
    "print(\"x1 =\", x1)\n",
    "print(\"x2 =\", x2)"
   ]
  },
  {
   "cell_type": "code",
   "execution_count": 7,
   "id": "87c78005",
   "metadata": {},
   "outputs": [
    {
     "name": "stderr",
     "output_type": "stream",
     "text": [
      "C:\\Users\\Sparisoma Viridi\\AppData\\Local\\Packages\\PythonSoftwareFoundation.Python.3.10_qbz5n2kfra8p0\\LocalCache\\local-packages\\Python310\\site-packages\\matplotlib\\cbook\\__init__.py:1298: ComplexWarning: Casting complex values to real discards the imaginary part\n",
      "  return np.asarray(x, float)\n"
     ]
    },
    {
     "data": {
      "image/png": "[encoded data removed]",
      "text/plain": [
       "<Figure size 432x288 with 1 Axes>"
      ]
     },
     "metadata": {
      "needs_background": "light"
     },
     "output_type": "display_data"
    }
   ],
   "source": [
    "import matplotlib.pyplot as plt\n",
    "\n",
    "N = 100\n",
    "xbeg = 0\n",
    "xend = 10\n",
    "x = [(i /100) * (xend - xbeg) + xbeg for i in range(0, N + 1)]\n",
    "y = [f(i, c) for i in x]\n",
    "\n",
    "xroot = [x1, x2]\n",
    "yroot = [f(i, c) for i in xroot]\n",
    "\n",
    "plt.grid()\n",
    "plt.plot(x, y, xroot, yroot, 'r+', ms=10, lw=2)\n",
    "plt.show()"
   ]
  },
  {
   "cell_type": "code",
   "execution_count": null,
   "id": "7b45c454",
   "metadata": {},
   "outputs": [],
   "source": []
  }
 ],
 "metadata": {
  "authors": [
   {
    "name": "Sparisoma Viridi"
   }
  ],
  "kernelspec": {
   "display_name": "Python 3 (ipykernel)",
   "language": "python",
   "name": "python3"
  },
  "language_info": {
   "codemirror_mode": {
    "name": "ipython",
    "version": 3
   },
   "file_extension": ".py",
   "mimetype": "text/x-python",
   "name": "python",
   "nbconvert_exporter": "python",
   "pygments_lexer": "ipython3",
   "version": "3.10.9"
  },
  "title": "quadratic_formula"
 },
 "nbformat": 4,
 "nbformat_minor": 5
}
