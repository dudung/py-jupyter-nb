{
 "cells": [
  {
   "cell_type": "markdown",
   "id": "cca11c7c",
   "metadata": {},
   "source": [
    "# quadratic_function_false_position_1\n",
    "Roots of quadratic function using false position method"
   ]
  },
  {
   "cell_type": "markdown",
   "id": "a975d482",
   "metadata": {},
   "source": [
    "## quadratic equation\n",
    "\n",
    "$$\\tag{1}\n",
    "f(x) = c_2 x^2 + c_1 x + c_0\n",
    "$$"
   ]
  },
  {
   "cell_type": "code",
   "execution_count": 1,
   "id": "ea49d784",
   "metadata": {},
   "outputs": [],
   "source": [
    "def f(x, c):\n",
    "    y = c[2] * x**2\n",
    "    y += c[1] * x\n",
    "    y += c[0]\n",
    "    return y"
   ]
  },
  {
   "cell_type": "markdown",
   "id": "ddb5ae10",
   "metadata": {},
   "source": [
    "## false position method\n",
    "$$\\tag{2}\n",
    "x_{n+2} = \\frac{x_n f(x_{n+1}) - x_{n+1} f(x_n)}{f(x_{n+1}) - f(x_n)}\n",
    "$$\n"
   ]
  },
  {
   "cell_type": "code",
   "execution_count": 2,
   "id": "7b45c454",
   "metadata": {},
   "outputs": [],
   "source": [
    "def false_position(xinit, func, coefs, eps, msg=False):\n",
    "    c = coefs\n",
    "    xroot = xinit.copy()\n",
    "    i = 2\n",
    "    dx = 10\n",
    "    \n",
    "    if msg:\n",
    "        print(\"iter root         f(root)\")\n",
    "    \n",
    "    while dx > eps and i < 20:\n",
    "        x0 = xroot[i-2]\n",
    "        x1 = xroot[i-1]\n",
    "        if i == 2:\n",
    "            if msg:\n",
    "                print(f\"{i-2:04d}\", f\"{x0:.6E}\", f\"{f0:+.6E}\")\n",
    "                print(f\"{i-1:04d}\", f\"{x1:.6E}\", f\"{f1:+.6E}\")\n",
    "        \n",
    "        f0 = func(x0, coefs)\n",
    "        f1 = func(x1, coefs)\n",
    "                \n",
    "        x2 =  (x0 * f1 - x1 * f0) / (f1 - f0)\n",
    "        f2 = func(x2, coefs)\n",
    "\n",
    "        xroot.append(x2)\n",
    "        dx = abs(f2)\n",
    "        \n",
    "        if msg:\n",
    "            print(f\"{i:04d}\", f\"{x2:.6E}\", f\"{f2:+.6E}\")\n",
    "        i += 1\n",
    "    \n",
    "    if msg:\n",
    "        print()\n",
    "        print(\"root =\", xroot[-1])\n",
    "        print(\"f(root) =\", func(xroot[-1], c))\n",
    "    \n",
    "    return xroot[-1]"
   ]
  },
  {
   "cell_type": "markdown",
   "id": "a24dbe0d",
   "metadata": {},
   "source": [
    "## function coefs and eps"
   ]
  },
  {
   "cell_type": "code",
   "execution_count": 3,
   "id": "0db07f4e",
   "metadata": {},
   "outputs": [],
   "source": [
    "coefs = [10, -7, 1]\n",
    "eps = 1E-9"
   ]
  },
  {
   "cell_type": "markdown",
   "id": "c7c1f824",
   "metadata": {},
   "source": [
    "## 1st root\n",
    "Result depends on initial values `xinit`"
   ]
  },
  {
   "cell_type": "code",
   "execution_count": 4,
   "id": "6b16a516",
   "metadata": {},
   "outputs": [
    {
     "name": "stdout",
     "output_type": "stream",
     "text": [
      "root = 2.0\n"
     ]
    }
   ],
   "source": [
    "xinit = [1, 2]\n",
    "root = false_position(xinit, f, coefs, eps)\n",
    "print(\"root =\", root)"
   ]
  },
  {
   "cell_type": "code",
   "execution_count": 5,
   "id": "17736f03",
   "metadata": {},
   "outputs": [
    {
     "name": "stdout",
     "output_type": "stream",
     "text": [
      "root = 1.999999999970703\n"
     ]
    }
   ],
   "source": [
    "xinit = [0, 1]\n",
    "root = false_position(xinit, f, coefs, eps)\n",
    "print(\"root =\", root)"
   ]
  },
  {
   "cell_type": "code",
   "execution_count": 6,
   "id": "0941e764",
   "metadata": {},
   "outputs": [
    {
     "name": "stdout",
     "output_type": "stream",
     "text": [
      "root = 2.000000000063525\n"
     ]
    }
   ],
   "source": [
    "xinit = [1.5, 3]\n",
    "root = false_position(xinit, f, coefs, eps)\n",
    "print(\"root =\", root)"
   ]
  },
  {
   "cell_type": "code",
   "execution_count": 7,
   "id": "810881a4",
   "metadata": {},
   "outputs": [
    {
     "name": "stdout",
     "output_type": "stream",
     "text": [
      "root = 2.0\n"
     ]
    }
   ],
   "source": [
    "xinit = [2, 4]\n",
    "root = false_position(xinit, f, coefs, eps)\n",
    "print(\"root =\", root)"
   ]
  },
  {
   "cell_type": "markdown",
   "id": "83028270",
   "metadata": {},
   "source": [
    "## 2nd root\n",
    "Result depends on initial values `xinit`"
   ]
  },
  {
   "cell_type": "code",
   "execution_count": 8,
   "id": "ffa4e76b",
   "metadata": {},
   "outputs": [
    {
     "name": "stdout",
     "output_type": "stream",
     "text": [
      "root = 5.000000000002711\n"
     ]
    }
   ],
   "source": [
    "xinit = [9, 10]\n",
    "root = false_position(xinit, f, coefs, eps)\n",
    "print(\"root =\", root)"
   ]
  },
  {
   "cell_type": "code",
   "execution_count": 9,
   "id": "098a800a",
   "metadata": {},
   "outputs": [
    {
     "name": "stdout",
     "output_type": "stream",
     "text": [
      "root = 5.0\n"
     ]
    }
   ],
   "source": [
    "xinit = [5, 6]\n",
    "root = false_position(xinit, f, coefs, eps)\n",
    "print(\"root =\", root)"
   ]
  },
  {
   "cell_type": "code",
   "execution_count": 10,
   "id": "3fde3bb5",
   "metadata": {},
   "outputs": [
    {
     "name": "stdout",
     "output_type": "stream",
     "text": [
      "root = 5.0000000003072005\n"
     ]
    }
   ],
   "source": [
    "xinit = [6, 7]\n",
    "root = false_position(xinit, f, coefs, eps)\n",
    "print(\"root =\", root)"
   ]
  },
  {
   "cell_type": "code",
   "execution_count": 11,
   "id": "c83c38d4",
   "metadata": {},
   "outputs": [
    {
     "name": "stdout",
     "output_type": "stream",
     "text": [
      "root = 5.000000000000158\n"
     ]
    }
   ],
   "source": [
    "xinit = [3, 9]\n",
    "root = false_position(xinit, f, coefs, eps)\n",
    "print(\"root =\", root)"
   ]
  },
  {
   "cell_type": "markdown",
   "id": "4e49c982",
   "metadata": {},
   "source": [
    "## graphical method"
   ]
  },
  {
   "cell_type": "code",
   "execution_count": 12,
   "id": "faffe3c5",
   "metadata": {},
   "outputs": [
    {
     "data": {
      "image/png": "[encoded data removed]",
      "text/plain": [
       "<Figure size 432x288 with 1 Axes>"
      ]
     },
     "metadata": {
      "needs_background": "light"
     },
     "output_type": "display_data"
    }
   ],
   "source": [
    "# create lists for data points\n",
    "x = [i/10 for i in range(0, 101)]\n",
    "y = [f(i, coefs) for i in x]\n",
    "\n",
    "# create approximated roots based on previous information\n",
    "xroot = [2, 5]\n",
    "yroot = [f(i, coefs) for i in xroot]\n",
    "\n",
    "# plot data points\n",
    "import matplotlib.pyplot as plt\n",
    "plt.grid()\n",
    "plt.xlabel(\"x\")\n",
    "plt.ylabel(\"y\")\n",
    "plt.plot(x, y, 'b-', xroot, yroot, 'ro')\n",
    "plt.show()"
   ]
  },
  {
   "cell_type": "code",
   "execution_count": null,
   "id": "cfe1fdc0",
   "metadata": {},
   "outputs": [],
   "source": []
  }
 ],
 "metadata": {
  "authors": [
   {
    "name": "Sparisoma Viridi"
   }
  ],
  "kernelspec": {
   "display_name": "Python 3 (ipykernel)",
   "language": "python",
   "name": "python3"
  },
  "language_info": {
   "codemirror_mode": {
    "name": "ipython",
    "version": 3
   },
   "file_extension": ".py",
   "mimetype": "text/x-python",
   "name": "python",
   "nbconvert_exporter": "python",
   "pygments_lexer": "ipython3",
   "version": "3.10.9"
  },
  "title": "quadratic_function_false_position_1"
 },
 "nbformat": 4,
 "nbformat_minor": 5
}
