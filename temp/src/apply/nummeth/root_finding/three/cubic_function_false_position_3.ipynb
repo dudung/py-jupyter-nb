{
 "cells": [
  {
   "cell_type": "markdown",
   "id": "cca11c7c",
   "metadata": {},
   "source": [
    "# cubic_function_false_position_3\n",
    "Roots of cubic function using false position method"
   ]
  },
  {
   "cell_type": "markdown",
   "id": "a975d482",
   "metadata": {},
   "source": [
    "## cubic equation\n",
    "\n",
    "$$\\tag{1}\n",
    "f(x) = c_3 x^3 + c_2 x^2 + c_1 x + c_0\n",
    "$$"
   ]
  },
  {
   "cell_type": "code",
   "execution_count": 1,
   "id": "ea49d784",
   "metadata": {},
   "outputs": [],
   "source": [
    "def f(x, c, roots=[]):\n",
    "    denom = 1\n",
    "    if len(roots) > 0:\n",
    "        for i in roots:\n",
    "            if i != x:\n",
    "                denom *= (x - i)\n",
    "            else:\n",
    "                denom *= (x - i + 1E-30)\n",
    "    \n",
    "    y = c[3] * x * x * x\n",
    "    y += c[2] * x * x\n",
    "    y += c[1] * x\n",
    "    y += c[0]\n",
    "    y /= denom\n",
    "    return y"
   ]
  },
  {
   "cell_type": "markdown",
   "id": "ddb5ae10",
   "metadata": {},
   "source": [
    "## false position method\n",
    "$$\\tag{2}\n",
    "x_{n+2} = \\frac{x_n f(x_{n+1}) - x_{n+1} f(x_n)}{f(x_{n+1}) - f(x_n)}\n",
    "$$\n"
   ]
  },
  {
   "cell_type": "code",
   "execution_count": 2,
   "id": "7b45c454",
   "metadata": {},
   "outputs": [],
   "source": [
    "def false_position(xinit, func, coefs, roots, eps=1E-20, iter=200):\n",
    "    xr = xinit.copy()\n",
    "    i = 2\n",
    "    dx = 10\n",
    "    \n",
    "    while dx > eps and i < iter:\n",
    "        x0 = xr[i-2]\n",
    "        f0 = func(x0, coefs, roots) \n",
    "\n",
    "        x1 = xr[i-1]\n",
    "        f1 = func(x1, coefs, roots)\n",
    "                \n",
    "        x2 =  (x0 * f1 - x1 * f0) / (f1 - f0)\n",
    "        f2 = func(x2, coefs, roots)\n",
    "\n",
    "        xr.append(x2)\n",
    "        dx = abs(f2)\n",
    "        \n",
    "        i += 1\n",
    "    \n",
    "    root = xr[-1]\n",
    "    return root"
   ]
  },
  {
   "cell_type": "markdown",
   "id": "c7c1f824",
   "metadata": {},
   "source": [
    "## roots\n",
    "Modify quadratic function with obtained root(s) to get other root(s)"
   ]
  },
  {
   "cell_type": "code",
   "execution_count": 3,
   "id": "6b16a516",
   "metadata": {},
   "outputs": [
    {
     "name": "stdout",
     "output_type": "stream",
     "text": [
      "cubic function = [-80, 66, -15, 1]\n",
      "initial values = [0, 9]\n",
      "roots =  [8.0, 2.0, 5.0]\n"
     ]
    }
   ],
   "source": [
    "coefs = [-80, 66, -15, 1]\n",
    "print(\"cubic function =\", coefs)\n",
    "\n",
    "xinit = [0, 9]\n",
    "print(\"initial values =\", xinit)\n",
    "\n",
    "roots = []\n",
    "root = false_position(xinit, f, coefs, roots)\n",
    "roots.append(root)\n",
    "root = false_position(xinit, f, coefs, roots)\n",
    "roots.append(root)\n",
    "root = false_position(xinit, f, coefs, roots)\n",
    "roots.append(root)\n",
    "print(\"roots = \", roots)"
   ]
  },
  {
   "cell_type": "markdown",
   "id": "4e49c982",
   "metadata": {},
   "source": [
    "## graphical method"
   ]
  },
  {
   "cell_type": "code",
   "execution_count": 4,
   "id": "faffe3c5",
   "metadata": {},
   "outputs": [
    {
     "data": {
      "image/png": "[encoded data removed]",
      "text/plain": [
       "<Figure size 432x288 with 1 Axes>"
      ]
     },
     "metadata": {
      "needs_background": "light"
     },
     "output_type": "display_data"
    }
   ],
   "source": [
    "# create lists for data points\n",
    "x = [i/10 for i in range(0, 101)]\n",
    "y = [f(i, coefs) for i in x]\n",
    "\n",
    "# create approximated roots based on previous information\n",
    "xroot = [2, 5, 8]\n",
    "yroot = [f(i, coefs) for i in xroot]\n",
    "\n",
    "# plot data points\n",
    "import matplotlib.pyplot as plt\n",
    "plt.grid()\n",
    "plt.xlabel(\"x\")\n",
    "plt.ylabel(\"y\")\n",
    "plt.plot(x, y, 'b-', xroot, yroot, 'ro')\n",
    "plt.show()"
   ]
  },
  {
   "cell_type": "markdown",
   "id": "eb900052",
   "metadata": {},
   "source": [
    "## problems\n",
    "Different initial values can couse problems"
   ]
  },
  {
   "cell_type": "code",
   "execution_count": 5,
   "id": "12d31ecd",
   "metadata": {},
   "outputs": [
    {
     "name": "stdout",
     "output_type": "stream",
     "text": [
      "cubic function = [-80, 66, -15, 1]\n",
      "initial values = [3, 9]\n",
      "roots =  [8.000000000000002, 4.999999999999999, 2.0000000000000004]\n"
     ]
    }
   ],
   "source": [
    "coefs = [-80, 66, -15, 1]\n",
    "print(\"cubic function =\", coefs)\n",
    "\n",
    "xinit = [3, 9]\n",
    "print(\"initial values =\", xinit)\n",
    "\n",
    "roots = []\n",
    "root = false_position(xinit, f, coefs, roots)\n",
    "roots.append(root)\n",
    "root = false_position(xinit, f, coefs, roots)\n",
    "roots.append(root)\n",
    "root = false_position(xinit, f, coefs, roots)\n",
    "roots.append(root)\n",
    "print(\"roots = \", roots)"
   ]
  },
  {
   "cell_type": "code",
   "execution_count": 6,
   "id": "1eda0beb",
   "metadata": {},
   "outputs": [
    {
     "name": "stdout",
     "output_type": "stream",
     "text": [
      "cubic function = [-80, 66, -15, 1]\n",
      "initial values = [1, 9]\n"
     ]
    },
    {
     "ename": "ZeroDivisionError",
     "evalue": "float division by zero",
     "output_type": "error",
     "traceback": [
      "\u001b[1;31m---------------------------------------------------------------------------\u001b[0m",
      "\u001b[1;31mZeroDivisionError\u001b[0m                         Traceback (most recent call last)",
      "Input \u001b[1;32mIn [6]\u001b[0m, in \u001b[0;36m<cell line: 10>\u001b[1;34m()\u001b[0m\n\u001b[0;32m      8\u001b[0m root \u001b[38;5;241m=\u001b[39m false_position(xinit, f, coefs, roots)\n\u001b[0;32m      9\u001b[0m roots\u001b[38;5;241m.\u001b[39mappend(root)\n\u001b[1;32m---> 10\u001b[0m root \u001b[38;5;241m=\u001b[39m \u001b[43mfalse_position\u001b[49m\u001b[43m(\u001b[49m\u001b[43mxinit\u001b[49m\u001b[43m,\u001b[49m\u001b[43m \u001b[49m\u001b[43mf\u001b[49m\u001b[43m,\u001b[49m\u001b[43m \u001b[49m\u001b[43mcoefs\u001b[49m\u001b[43m,\u001b[49m\u001b[43m \u001b[49m\u001b[43mroots\u001b[49m\u001b[43m)\u001b[49m\n\u001b[0;32m     11\u001b[0m roots\u001b[38;5;241m.\u001b[39mappend(root)\n\u001b[0;32m     12\u001b[0m root \u001b[38;5;241m=\u001b[39m false_position(xinit, f, coefs, roots)\n",
      "Input \u001b[1;32mIn [2]\u001b[0m, in \u001b[0;36mfalse_position\u001b[1;34m(xinit, func, coefs, roots, eps, iter)\u001b[0m\n\u001b[0;32m     10\u001b[0m x1 \u001b[38;5;241m=\u001b[39m xr[i\u001b[38;5;241m-\u001b[39m\u001b[38;5;241m1\u001b[39m]\n\u001b[0;32m     11\u001b[0m f1 \u001b[38;5;241m=\u001b[39m func(x1, coefs, roots)\n\u001b[1;32m---> 13\u001b[0m x2 \u001b[38;5;241m=\u001b[39m  \u001b[43m(\u001b[49m\u001b[43mx0\u001b[49m\u001b[43m \u001b[49m\u001b[38;5;241;43m*\u001b[39;49m\u001b[43m \u001b[49m\u001b[43mf1\u001b[49m\u001b[43m \u001b[49m\u001b[38;5;241;43m-\u001b[39;49m\u001b[43m \u001b[49m\u001b[43mx1\u001b[49m\u001b[43m \u001b[49m\u001b[38;5;241;43m*\u001b[39;49m\u001b[43m \u001b[49m\u001b[43mf0\u001b[49m\u001b[43m)\u001b[49m\u001b[43m \u001b[49m\u001b[38;5;241;43m/\u001b[39;49m\u001b[43m \u001b[49m\u001b[43m(\u001b[49m\u001b[43mf1\u001b[49m\u001b[43m \u001b[49m\u001b[38;5;241;43m-\u001b[39;49m\u001b[43m \u001b[49m\u001b[43mf0\u001b[49m\u001b[43m)\u001b[49m\n\u001b[0;32m     14\u001b[0m f2 \u001b[38;5;241m=\u001b[39m func(x2, coefs, roots)\n\u001b[0;32m     16\u001b[0m xr\u001b[38;5;241m.\u001b[39mappend(x2)\n",
      "\u001b[1;31mZeroDivisionError\u001b[0m: float division by zero"
     ]
    }
   ],
   "source": [
    "coefs = [-80, 66, -15, 1]\n",
    "print(\"cubic function =\", coefs)\n",
    "\n",
    "xinit = [1, 9]\n",
    "print(\"initial values =\", xinit)\n",
    "\n",
    "roots = []\n",
    "root = false_position(xinit, f, coefs, roots)\n",
    "roots.append(root)\n",
    "root = false_position(xinit, f, coefs, roots)\n",
    "roots.append(root)\n",
    "root = false_position(xinit, f, coefs, roots)\n",
    "roots.append(root)\n",
    "print(\"roots = \", roots)"
   ]
  },
  {
   "cell_type": "code",
   "execution_count": 7,
   "id": "b9f9378d",
   "metadata": {},
   "outputs": [
    {
     "name": "stdout",
     "output_type": "stream",
     "text": [
      "cubic function = [-80, 66, -15, 1]\n",
      "initial values = [0, 8]\n",
      "roots =  [8.0, 8.0, 8.0]\n"
     ]
    }
   ],
   "source": [
    "coefs = [-80, 66, -15, 1]\n",
    "print(\"cubic function =\", coefs)\n",
    "\n",
    "xinit = [0, 8]\n",
    "print(\"initial values =\", xinit)\n",
    "\n",
    "roots = []\n",
    "root = false_position(xinit, f, coefs, roots)\n",
    "roots.append(root)\n",
    "root = false_position(xinit, f, coefs, roots)\n",
    "roots.append(root)\n",
    "root = false_position(xinit, f, coefs, roots)\n",
    "roots.append(root)\n",
    "print(\"roots = \", roots)"
   ]
  },
  {
   "cell_type": "code",
   "execution_count": 8,
   "id": "6ecbbdba",
   "metadata": {},
   "outputs": [
    {
     "name": "stdout",
     "output_type": "stream",
     "text": [
      "cubic function = [-80, 66, -15, 1]\n",
      "initial values = [3, 5]\n",
      "roots =  [5.0, 5.0, 5.0]\n"
     ]
    }
   ],
   "source": [
    "coefs = [-80, 66, -15, 1]\n",
    "print(\"cubic function =\", coefs)\n",
    "\n",
    "xinit = [3, 5]\n",
    "print(\"initial values =\", xinit)\n",
    "\n",
    "roots = []\n",
    "root = false_position(xinit, f, coefs, roots)\n",
    "roots.append(root)\n",
    "root = false_position(xinit, f, coefs, roots)\n",
    "roots.append(root)\n",
    "root = false_position(xinit, f, coefs, roots)\n",
    "roots.append(root)\n",
    "print(\"roots = \", roots)"
   ]
  },
  {
   "cell_type": "code",
   "execution_count": 9,
   "id": "0f11831f",
   "metadata": {},
   "outputs": [
    {
     "name": "stdout",
     "output_type": "stream",
     "text": [
      "cubic function = [-80, 66, -15, 1]\n",
      "initial values = [2, 8]\n"
     ]
    },
    {
     "ename": "ZeroDivisionError",
     "evalue": "float division by zero",
     "output_type": "error",
     "traceback": [
      "\u001b[1;31m---------------------------------------------------------------------------\u001b[0m",
      "\u001b[1;31mZeroDivisionError\u001b[0m                         Traceback (most recent call last)",
      "Input \u001b[1;32mIn [9]\u001b[0m, in \u001b[0;36m<cell line: 8>\u001b[1;34m()\u001b[0m\n\u001b[0;32m      5\u001b[0m \u001b[38;5;28mprint\u001b[39m(\u001b[38;5;124m\"\u001b[39m\u001b[38;5;124minitial values =\u001b[39m\u001b[38;5;124m\"\u001b[39m, xinit)\n\u001b[0;32m      7\u001b[0m roots \u001b[38;5;241m=\u001b[39m []\n\u001b[1;32m----> 8\u001b[0m root \u001b[38;5;241m=\u001b[39m \u001b[43mfalse_position\u001b[49m\u001b[43m(\u001b[49m\u001b[43mxinit\u001b[49m\u001b[43m,\u001b[49m\u001b[43m \u001b[49m\u001b[43mf\u001b[49m\u001b[43m,\u001b[49m\u001b[43m \u001b[49m\u001b[43mcoefs\u001b[49m\u001b[43m,\u001b[49m\u001b[43m \u001b[49m\u001b[43mroots\u001b[49m\u001b[43m)\u001b[49m\n\u001b[0;32m      9\u001b[0m roots\u001b[38;5;241m.\u001b[39mappend(root)\n\u001b[0;32m     10\u001b[0m root \u001b[38;5;241m=\u001b[39m false_position(xinit, f, coefs, roots)\n",
      "Input \u001b[1;32mIn [2]\u001b[0m, in \u001b[0;36mfalse_position\u001b[1;34m(xinit, func, coefs, roots, eps, iter)\u001b[0m\n\u001b[0;32m     10\u001b[0m x1 \u001b[38;5;241m=\u001b[39m xr[i\u001b[38;5;241m-\u001b[39m\u001b[38;5;241m1\u001b[39m]\n\u001b[0;32m     11\u001b[0m f1 \u001b[38;5;241m=\u001b[39m func(x1, coefs, roots)\n\u001b[1;32m---> 13\u001b[0m x2 \u001b[38;5;241m=\u001b[39m  \u001b[43m(\u001b[49m\u001b[43mx0\u001b[49m\u001b[43m \u001b[49m\u001b[38;5;241;43m*\u001b[39;49m\u001b[43m \u001b[49m\u001b[43mf1\u001b[49m\u001b[43m \u001b[49m\u001b[38;5;241;43m-\u001b[39;49m\u001b[43m \u001b[49m\u001b[43mx1\u001b[49m\u001b[43m \u001b[49m\u001b[38;5;241;43m*\u001b[39;49m\u001b[43m \u001b[49m\u001b[43mf0\u001b[49m\u001b[43m)\u001b[49m\u001b[43m \u001b[49m\u001b[38;5;241;43m/\u001b[39;49m\u001b[43m \u001b[49m\u001b[43m(\u001b[49m\u001b[43mf1\u001b[49m\u001b[43m \u001b[49m\u001b[38;5;241;43m-\u001b[39;49m\u001b[43m \u001b[49m\u001b[43mf0\u001b[49m\u001b[43m)\u001b[49m\n\u001b[0;32m     14\u001b[0m f2 \u001b[38;5;241m=\u001b[39m func(x2, coefs, roots)\n\u001b[0;32m     16\u001b[0m xr\u001b[38;5;241m.\u001b[39mappend(x2)\n",
      "\u001b[1;31mZeroDivisionError\u001b[0m: float division by zero"
     ]
    }
   ],
   "source": [
    "coefs = [-80, 66, -15, 1]\n",
    "print(\"cubic function =\", coefs)\n",
    "\n",
    "xinit = [2, 8]\n",
    "print(\"initial values =\", xinit)\n",
    "\n",
    "roots = []\n",
    "root = false_position(xinit, f, coefs, roots)\n",
    "roots.append(root)\n",
    "root = false_position(xinit, f, coefs, roots)\n",
    "roots.append(root)\n",
    "root = false_position(xinit, f, coefs, roots)\n",
    "roots.append(root)\n",
    "print(\"roots = \", roots)"
   ]
  },
  {
   "cell_type": "code",
   "execution_count": null,
   "id": "75e96a29",
   "metadata": {},
   "outputs": [],
   "source": []
  }
 ],
 "metadata": {
  "authors": [
   {
    "name": "Sparisoma Viridi"
   }
  ],
  "kernelspec": {
   "display_name": "Python 3 (ipykernel)",
   "language": "python",
   "name": "python3"
  },
  "language_info": {
   "codemirror_mode": {
    "name": "ipython",
    "version": 3
   },
   "file_extension": ".py",
   "mimetype": "text/x-python",
   "name": "python",
   "nbconvert_exporter": "python",
   "pygments_lexer": "ipython3",
   "version": "3.10.9"
  },
  "title": "cubic_function_false_position_3"
 },
 "nbformat": 4,
 "nbformat_minor": 5
}
