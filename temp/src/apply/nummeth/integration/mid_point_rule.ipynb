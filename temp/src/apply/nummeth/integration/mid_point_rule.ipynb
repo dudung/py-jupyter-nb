{
 "cells": [
  {
   "cell_type": "markdown",
   "id": "cca11c7c",
   "metadata": {},
   "source": [
    "# mid_point_rule\n",
    "Calculate area below curve using rectangle mid point."
   ]
  },
  {
   "cell_type": "markdown",
   "id": "3da90b4f",
   "metadata": {},
   "source": [
    "## example\n",
    "A function\n",
    "\n",
    "$$\\tag{1}\n",
    "f(x) = 3x^2\n",
    "$$\n",
    "\n",
    "will have indefinite integral\n",
    "\n",
    "$$\\tag{2}\n",
    "F(x) = \\int f(x) \\ dx = x^3 + c,\n",
    "$$\n",
    "\n",
    "where $c$ is a constant. Then for lower bound $a = 1$ and upper bound $b = 2$ it can be obtained\n",
    "\n",
    "$$\\tag{3}\n",
    "\\int_1^2 f(x) \\ dx = F(2) - F(1) = 2^3 - 1^3 = 8 - 1 = 7\n",
    "$$\n",
    "\n",
    "as definite integral of Eqn (1)."
   ]
  },
  {
   "cell_type": "markdown",
   "id": "3ac98dcd",
   "metadata": {},
   "source": [
    "## rectangle mid point\n",
    "Area below curce $f(x)$ can be approximated with\n",
    "\n",
    "$$\\tag{4}\n",
    "\\int_a^b f(x) \\ dx \\approx f(b) \\ \\Delta x\n",
    "$$\n",
    "\n",
    "with $\\Delta x = b - a$. To increase accuracy area "
   ]
  },
  {
   "cell_type": "markdown",
   "id": "fdd1b11a",
   "metadata": {},
   "source": [
    "## code"
   ]
  },
  {
   "cell_type": "code",
   "execution_count": 1,
   "id": "a0ac9c09",
   "metadata": {},
   "outputs": [
    {
     "name": "stdout",
     "output_type": "stream",
     "text": [
      "A = 12.0\n"
     ]
    }
   ],
   "source": [
    "# a function to integrate\n",
    "def f(x):\n",
    "    fx =  3 * x**2\n",
    "    return fx \n",
    "\n",
    "# define lower and upper bounds\n",
    "a = 1\n",
    "b = 2\n",
    "\n",
    "# define number of area and calculate dx\n",
    "N = 1\n",
    "dx = (b - a) / N\n",
    "x = [a + i*dx for i in range(N)]\n",
    "\n",
    "# calculate area\n",
    "A = 0\n",
    "for xi in x:\n",
    "    Ai = f(xi + dx) * dx\n",
    "    A += Ai\n",
    "\n",
    "print(\"A =\", A)"
   ]
  },
  {
   "cell_type": "markdown",
   "id": "e82118d3",
   "metadata": {},
   "source": [
    "## integration as a function"
   ]
  },
  {
   "cell_type": "code",
   "execution_count": 2,
   "id": "d80bfa21",
   "metadata": {},
   "outputs": [],
   "source": [
    "# define a function for integration\n",
    "def rectangle_mid_point(f, a, b, N):\n",
    "    dx = (b - a) / N\n",
    "    x = [a + i*dx for i in range(N)]\n",
    "    A = 0\n",
    "    for xi in x:\n",
    "        Ai = f(xi + dx) * dx\n",
    "        A += Ai\n",
    "    return A"
   ]
  },
  {
   "cell_type": "code",
   "execution_count": 3,
   "id": "4e9329f8",
   "metadata": {},
   "outputs": [
    {
     "name": "stdout",
     "output_type": "stream",
     "text": [
      "N      A\n",
      "     1 12.0\n",
      "     2 9.375\n",
      "     4 8.15625\n",
      "     8 7.5703125\n",
      "    16 7.283203125\n",
      "    32 7.14111328125\n",
      "    64 7.0704345703125\n",
      "   128 7.035186767578125\n",
      "   256 7.017585754394531\n",
      "   512 7.008790969848633\n",
      "  1024 7.004395008087158\n",
      "  2048 7.0021973848342896\n",
      "  4096 7.001098662614822\n",
      "  8192 7.000549323856831\n",
      " 16384 7.00027466006577\n",
      " 32768 7.000137329567224\n",
      " 65536 7.000068664667197\n",
      "131072 7.000034332312936\n",
      "262144 7.000017166151519\n"
     ]
    }
   ],
   "source": [
    "a = 1\n",
    "b = 2\n",
    "M = 20\n",
    "N = 1\n",
    "print(\"N      A\")\n",
    "for j in range(1, M):\n",
    "    A = rectangle_mid_point(f, a, b, N)\n",
    "    print(f\"{N:6d}\", A)\n",
    "    N *= 2"
   ]
  },
  {
   "cell_type": "markdown",
   "id": "34c78a49",
   "metadata": {},
   "source": [
    "It can be seen that $N = 262144$ is sufficient to obtain $A \\approx 7$ with difference about $1.7 \\times 10^{-5}$."
   ]
  },
  {
   "cell_type": "code",
   "execution_count": null,
   "id": "51befa82",
   "metadata": {},
   "outputs": [],
   "source": []
  }
 ],
 "metadata": {
  "authors": [
   {
    "name": "Sparisoma Viridi"
   }
  ],
  "kernelspec": {
   "display_name": "Python 3 (ipykernel)",
   "language": "python",
   "name": "python3"
  },
  "language_info": {
   "codemirror_mode": {
    "name": "ipython",
    "version": 3
   },
   "file_extension": ".py",
   "mimetype": "text/x-python",
   "name": "python",
   "nbconvert_exporter": "python",
   "pygments_lexer": "ipython3",
   "version": "3.9.12"
  },
  "title": "mid_point_rule"
 },
 "nbformat": 4,
 "nbformat_minor": 5
}
