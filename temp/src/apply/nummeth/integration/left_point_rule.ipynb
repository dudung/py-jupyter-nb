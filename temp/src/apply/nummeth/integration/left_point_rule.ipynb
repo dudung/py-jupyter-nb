{
 "cells": [
  {
   "cell_type": "markdown",
   "id": "cca11c7c",
   "metadata": {},
   "source": [
    "# left_point_rule\n",
    "Calculate area below curve using rectangle left point."
   ]
  },
  {
   "cell_type": "markdown",
   "id": "3da90b4f",
   "metadata": {},
   "source": [
    "## example\n",
    "A function\n",
    "\n",
    "$$\\tag{1}\n",
    "f(x) = 3x^2\n",
    "$$\n",
    "\n",
    "will have indefinite integral\n",
    "\n",
    "$$\\tag{2}\n",
    "F(x) = \\int f(x) \\ dx = x^3 + c,\n",
    "$$\n",
    "\n",
    "where $c$ is a constant. Then for lower bound $a = 1$ and upper bound $b = 2$ it can be obtained\n",
    "\n",
    "$$\\tag{3}\n",
    "\\int_1^2 f(x) \\ dx = F(2) - F(1) = 2^3 - 1^3 = 8 - 1 = 7\n",
    "$$\n",
    "\n",
    "as definite integral of Eqn (1)."
   ]
  },
  {
   "cell_type": "markdown",
   "id": "3ac98dcd",
   "metadata": {},
   "source": [
    "## rectangle left point\n",
    "Area below curce $f(x)$ can be approximated with\n",
    "\n",
    "$$\\tag{4}\n",
    "\\int_a^b f(x) \\ dx \\approx f(a) \\ \\Delta x\n",
    "$$\n",
    "\n",
    "with $\\Delta x = b - a$. To increase accuracy area "
   ]
  },
  {
   "cell_type": "markdown",
   "id": "fdd1b11a",
   "metadata": {},
   "source": [
    "## code"
   ]
  },
  {
   "cell_type": "code",
   "execution_count": 1,
   "id": "a0ac9c09",
   "metadata": {},
   "outputs": [
    {
     "name": "stdout",
     "output_type": "stream",
     "text": [
      "A = 3.0\n"
     ]
    }
   ],
   "source": [
    "# a function to integrate\n",
    "def f(x):\n",
    "    fx =  3 * x**2\n",
    "    return fx \n",
    "\n",
    "# define lower and upper bounds\n",
    "a = 1\n",
    "b = 2\n",
    "\n",
    "# define number of area and calculate dx\n",
    "N = 1\n",
    "dx = (b - a) / N\n",
    "x = [a + i*dx for i in range(N)]\n",
    "\n",
    "# calculate area\n",
    "A = 0\n",
    "for xi in x:\n",
    "    Ai = f(xi) * dx\n",
    "    A += Ai\n",
    "\n",
    "print(\"A =\", A)"
   ]
  },
  {
   "cell_type": "markdown",
   "id": "e82118d3",
   "metadata": {},
   "source": [
    "## integration as a function"
   ]
  },
  {
   "cell_type": "code",
   "execution_count": 2,
   "id": "d80bfa21",
   "metadata": {},
   "outputs": [],
   "source": [
    "# define a function for integration\n",
    "def rectangle_left_point(f, a, b, N):\n",
    "    dx = (b - a) / N\n",
    "    x = [a + i*dx for i in range(N)]\n",
    "    A = 0\n",
    "    for xi in x:\n",
    "        Ai = f(xi) * dx\n",
    "        A += Ai\n",
    "    return A"
   ]
  },
  {
   "cell_type": "code",
   "execution_count": 3,
   "id": "4e9329f8",
   "metadata": {},
   "outputs": [
    {
     "name": "stdout",
     "output_type": "stream",
     "text": [
      "N      A\n",
      "     1 3.0\n",
      "     2 4.875\n",
      "     4 5.90625\n",
      "     8 6.4453125\n",
      "    16 6.720703125\n",
      "    32 6.85986328125\n",
      "    64 6.9298095703125\n",
      "   128 6.964874267578125\n",
      "   256 6.982429504394531\n",
      "   512 6.991212844848633\n",
      "  1024 6.995605945587158\n",
      "  2048 6.9978028535842896\n",
      "  4096 6.998901396989822\n",
      "  8192 6.999450691044331\n",
      " 16384 6.99972534365952\n",
      " 32768 6.999862671364099\n",
      " 65536 6.999931335565634\n",
      "131072 6.9999656677621545\n",
      "262144 6.999982833876128\n"
     ]
    }
   ],
   "source": [
    "a = 1\n",
    "b = 2\n",
    "M = 20\n",
    "N = 1\n",
    "print(\"N      A\")\n",
    "for j in range(1, M):\n",
    "    A = rectangle_left_point(f, a, b, N)\n",
    "    print(f\"{N:6d}\", A)\n",
    "    N *= 2"
   ]
  },
  {
   "cell_type": "markdown",
   "id": "34c78a49",
   "metadata": {},
   "source": [
    "It can be seen that $N = 262144$ is sufficient to obtain $A \\approx 7$ with difference about $1.7 \\times 10^{-5}$"
   ]
  },
  {
   "cell_type": "code",
   "execution_count": null,
   "id": "51befa82",
   "metadata": {},
   "outputs": [],
   "source": []
  }
 ],
 "metadata": {
  "authors": [
   {
    "name": "Sparisoma Viridi"
   }
  ],
  "kernelspec": {
   "display_name": "Python 3 (ipykernel)",
   "language": "python",
   "name": "python3"
  },
  "language_info": {
   "codemirror_mode": {
    "name": "ipython",
    "version": 3
   },
   "file_extension": ".py",
   "mimetype": "text/x-python",
   "name": "python",
   "nbconvert_exporter": "python",
   "pygments_lexer": "ipython3",
   "version": "3.9.12"
  },
  "title": "left_point_rule"
 },
 "nbformat": 4,
 "nbformat_minor": 5
}
