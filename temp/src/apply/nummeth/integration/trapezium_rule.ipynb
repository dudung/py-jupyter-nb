{
 "cells": [
  {
   "cell_type": "markdown",
   "id": "cca11c7c",
   "metadata": {},
   "source": [
    "# trapezium_rule\n",
    "Calculate area below curve using trapezium rule."
   ]
  },
  {
   "cell_type": "markdown",
   "id": "3da90b4f",
   "metadata": {},
   "source": [
    "## example\n",
    "A function\n",
    "\n",
    "$$\\tag{1}\n",
    "f(x) = 3x^2\n",
    "$$\n",
    "\n",
    "will have indefinite integral\n",
    "\n",
    "$$\\tag{2}\n",
    "F(x) = \\int f(x) \\ dx = x^3 + c,\n",
    "$$\n",
    "\n",
    "where $c$ is a constant. Then for lower bound $a = 1$ and upper bound $b = 2$ it can be obtained\n",
    "\n",
    "$$\\tag{3}\n",
    "\\int_1^2 f(x) \\ dx = F(2) - F(1) = 2^3 - 1^3 = 8 - 1 = 7\n",
    "$$\n",
    "\n",
    "as definite integral of Eqn (1)."
   ]
  },
  {
   "cell_type": "markdown",
   "id": "3ac98dcd",
   "metadata": {},
   "source": [
    "## trapezium\n",
    "Area below curce $f(x)$ can be approximated with\n",
    "\n",
    "$$\\tag{4}\n",
    "\\int_a^b f(x) \\ dx \\approx \\left[ f(a) + f(b) \\right] \\ \\frac{\\Delta x}{2}\n",
    "$$\n",
    "\n",
    "with $\\Delta x = b - a$. To increase accuracy area "
   ]
  },
  {
   "cell_type": "markdown",
   "id": "fdd1b11a",
   "metadata": {},
   "source": [
    "## code"
   ]
  },
  {
   "cell_type": "code",
   "execution_count": 1,
   "id": "a0ac9c09",
   "metadata": {},
   "outputs": [
    {
     "name": "stdout",
     "output_type": "stream",
     "text": [
      "A = 7.5\n"
     ]
    }
   ],
   "source": [
    "# a function to integrate\n",
    "def f(x):\n",
    "    fx =  3 * x**2\n",
    "    return fx \n",
    "\n",
    "# define lower and upper bounds\n",
    "a = 1\n",
    "b = 2\n",
    "\n",
    "# define number of area and calculate dx\n",
    "N = 1\n",
    "dx = (b - a) / N\n",
    "x = [a + i*dx for i in range(N)]\n",
    "\n",
    "# calculate area\n",
    "A = 0\n",
    "for xi in x:\n",
    "    Ai = (f(xi) + f(xi + dx)) * (dx / 2)\n",
    "    A += Ai\n",
    "\n",
    "print(\"A =\", A)"
   ]
  },
  {
   "cell_type": "markdown",
   "id": "e82118d3",
   "metadata": {},
   "source": [
    "## integration as a function"
   ]
  },
  {
   "cell_type": "code",
   "execution_count": 2,
   "id": "d80bfa21",
   "metadata": {},
   "outputs": [],
   "source": [
    "# define a function for integration\n",
    "def trapezium(f, a, b, N):\n",
    "    dx = (b - a) / N\n",
    "    x = [a + i*dx for i in range(N)]\n",
    "    A = 0\n",
    "    for xi in x:\n",
    "        Ai = (f(xi) + f(xi + dx)) * (dx / 2)\n",
    "        A += Ai\n",
    "    return A"
   ]
  },
  {
   "cell_type": "code",
   "execution_count": 3,
   "id": "4e9329f8",
   "metadata": {},
   "outputs": [
    {
     "name": "stdout",
     "output_type": "stream",
     "text": [
      "N      A\n",
      "     1 7.5\n",
      "     2 7.125\n",
      "     4 7.03125\n",
      "     8 7.0078125\n",
      "    16 7.001953125\n",
      "    32 7.00048828125\n",
      "    64 7.0001220703125\n",
      "   128 7.000030517578125\n",
      "   256 7.000007629394531\n",
      "   512 7.000001907348633\n",
      "  1024 7.000000476837158\n",
      "  2048 7.0000001192092896\n",
      "  4096 7.000000029802322\n",
      "  8192 7.000000007450581\n",
      " 16384 7.000000001862645\n",
      " 32768 7.000000000465661\n",
      " 65536 7.000000000116415\n",
      "131072 7.000000000045336\n",
      "262144 7.000000000003221\n"
     ]
    }
   ],
   "source": [
    "a = 1\n",
    "b = 2\n",
    "M = 20\n",
    "N = 1\n",
    "print(\"N      A\")\n",
    "for j in range(1, M):\n",
    "    A = trapezium(f, a, b, N)\n",
    "    print(f\"{N:6d}\", A)\n",
    "    N *= 2"
   ]
  },
  {
   "cell_type": "markdown",
   "id": "34c78a49",
   "metadata": {},
   "source": [
    "It can be seen that $N = 262144$ is sufficient to obtain $A \\approx 7$ with difference about $3.2 \\times 10^{-12}$."
   ]
  },
  {
   "cell_type": "code",
   "execution_count": null,
   "id": "51befa82",
   "metadata": {},
   "outputs": [],
   "source": []
  }
 ],
 "metadata": {
  "authors": [
   {
    "name": "Sparisoma Viridi"
   }
  ],
  "kernelspec": {
   "display_name": "Python 3 (ipykernel)",
   "language": "python",
   "name": "python3"
  },
  "language_info": {
   "codemirror_mode": {
    "name": "ipython",
    "version": 3
   },
   "file_extension": ".py",
   "mimetype": "text/x-python",
   "name": "python",
   "nbconvert_exporter": "python",
   "pygments_lexer": "ipython3",
   "version": "3.9.12"
  },
  "title": "trapezium_rule"
 },
 "nbformat": 4,
 "nbformat_minor": 5
}
