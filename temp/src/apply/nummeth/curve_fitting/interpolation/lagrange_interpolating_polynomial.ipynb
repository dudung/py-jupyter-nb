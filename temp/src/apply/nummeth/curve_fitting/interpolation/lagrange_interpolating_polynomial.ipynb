{
 "cells": [
  {
   "cell_type": "markdown",
   "id": "cca11c7c",
   "metadata": {},
   "source": [
    "# lagrange_interpolating_polynomial\n",
    "Lagrange interpolating polynomial"
   ]
  },
  {
   "cell_type": "markdown",
   "id": "fba2ec01",
   "metadata": {},
   "source": [
    "For $n$ data points\n",
    "\n",
    "$$\\tag{1}\n",
    "D_n = \\{ (x_i, y_i) \\in \\mathbb{R} \\times \\mathbb{R} \\ | \\ y_i = f(x_i) \\land i = 1, 2, \\dots, n \\},\n",
    "$$\n",
    "\n",
    "which will give, e.g. $(1, 2)$, $(2, 4)$, $(3, -1)$ for $D_3$."
   ]
  },
  {
   "cell_type": "markdown",
   "id": "8d77fdd9",
   "metadata": {},
   "source": [
    "A polynomial of degree $\\le (n - 1)$ that passes through all points in $D_n$ is given by\n",
    "\n",
    "$$\\tag{2}\n",
    "P(x) = \\sum_{j = 1}^n q_j(x),\n",
    "$$\n",
    "\n",
    "where\n",
    "\n",
    "$$\\tag{3}\n",
    "q_j(x) = y_j \\prod_{k = 1 \\newline k \\ne j}^n \\frac{x - x_k}{x_j - x_k}.\n",
    "$$"
   ]
  },
  {
   "cell_type": "markdown",
   "id": "9c5be36e",
   "metadata": {},
   "source": [
    "## n = 1\n",
    "$$\n",
    "q_1(x) = y_1,\n",
    "$$\n",
    "\n",
    "$$\n",
    "P(x) = y_j.\n",
    "$$"
   ]
  },
  {
   "cell_type": "markdown",
   "id": "8bf49be9",
   "metadata": {},
   "source": [
    "## n = 2\n",
    "$$\n",
    "q_1(x) = y_1 \\left(\\frac{x - x_2}{x_1 - x_2}\\right),\n",
    "$$\n",
    "\n",
    "$$\n",
    "q_2(x) = y_2 \\left(\\frac{x - x_1}{x_2 - x_1}\\right),\n",
    "$$\n",
    "\n",
    "$$\n",
    "P(x) = y_1 \\left(\\frac{x - x_2}{x_1 - x_2}\\right) + y_2 \\left(\\frac{x - x_1}{x_2 - x_1}\\right),\n",
    "$$\n"
   ]
  },
  {
   "cell_type": "markdown",
   "id": "0933bf29",
   "metadata": {},
   "source": [
    "## n = 3\n",
    "$$\n",
    "q_1(x) = y_1 \\left(\\frac{x - x_2}{x_1 - x_2}\\right) \\left(\\frac{x - x_3}{x_1 - x_3}\\right),\n",
    "$$\n",
    "\n",
    "$$\n",
    "q_2(x) = y_2 \\left(\\frac{x - x_1}{x_2 - x_1}\\right) \\left(\\frac{x - x_3}{x_2 - x_3}\\right),\n",
    "$$\n",
    "\n",
    "$$\n",
    "q_3(x) = y_3 \\left(\\frac{x - x_1}{x_3 - x_1}\\right) \\left(\\frac{x - x_2}{x_3 - x_2}\\right),\n",
    "$$\n",
    "\n",
    "$$\n",
    "\\begin{array}{rcl}\n",
    "P(x) & = & \\displaystyle y_1 \\left(\\frac{x - x_2}{x_1 - x_2}\\right) \\left(\\frac{x - x_3}{x_1 - x_3}\\right) \\newline\n",
    "& & \\displaystyle + y_2 \\left(\\frac{x - x_1}{x_2 - x_1}\\right) \\left(\\frac{x - x_3}{x_2 - x_3}\\right) \\newline\n",
    "& & \\displaystyle + y_3 \\left(\\frac{x - x_1}{x_3 - x_1}\\right) \\left(\\frac{x - x_2}{x_3 - x_2}\\right).\n",
    "\\end{array}\n",
    "$$\n"
   ]
  },
  {
   "cell_type": "code",
   "execution_count": 1,
   "id": "64795f0e",
   "metadata": {},
   "outputs": [],
   "source": [
    "# function for q(j, x, points)\n",
    "def q(j, x, n):\n",
    "    pass\n",
    "\n",
    "# function for P(x, points)\n",
    "def p(x, points):\n",
    "    pass"
   ]
  },
  {
   "cell_type": "code",
   "execution_count": null,
   "id": "26bfb835",
   "metadata": {},
   "outputs": [],
   "source": []
  }
 ],
 "metadata": {
  "authors": [
   {
    "name": "Sparisoma Viridi"
   }
  ],
  "kernelspec": {
   "display_name": "Python 3 (ipykernel)",
   "language": "python",
   "name": "python3"
  },
  "language_info": {
   "codemirror_mode": {
    "name": "ipython",
    "version": 3
   },
   "file_extension": ".py",
   "mimetype": "text/x-python",
   "name": "python",
   "nbconvert_exporter": "python",
   "pygments_lexer": "ipython3",
   "version": "3.10.9"
  },
  "title": "lagrange_interpolating_polynomial"
 },
 "nbformat": 4,
 "nbformat_minor": 5
}
