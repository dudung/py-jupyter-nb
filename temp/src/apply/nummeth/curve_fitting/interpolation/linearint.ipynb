{
 "cells": [
  {
   "cell_type": "markdown",
   "id": "cca11c7c",
   "metadata": {},
   "source": [
    "# linearint\n",
    "Linear interpolation implementation"
   ]
  },
  {
   "cell_type": "markdown",
   "id": "8d77fdd9",
   "metadata": {},
   "source": [
    "$$\n",
    "q_i(x) = y_{i+1} \\left( \\frac{x - x_i}{x_{i+1} - x_i} \\right) + y_i \\left( \\frac{x - x_{i+1}}{x_i - x_{i+1}} \\right)\n",
    "$$\n",
    "\n",
    "$$\n",
    "i = 1 + \\left\\lfloor \\frac{x - x_1}{h} \\right\\rfloor\n",
    "$$\n",
    "\n",
    "$$\n",
    "x_{i+1} - x_i = h\n",
    "$$"
   ]
  },
  {
   "cell_type": "code",
   "execution_count": null,
   "id": "3d88044b",
   "metadata": {},
   "outputs": [],
   "source": [
    "def q(j, x, xdata, ydata):\n",
    "    q1 = ydata[j+1] * (x - xdata[j]) / (xdata[j+1] - xdata[j])\n",
    "    q2 = ydata[j] * (x - xdata[j+1]) / (xdata[j] - xdata[j+1])\n",
    "    qjx = q1 + q2\n",
    "    return qjx"
   ]
  },
  {
   "cell_type": "code",
   "execution_count": null,
   "id": "26bfb835",
   "metadata": {},
   "outputs": [],
   "source": [
    "import math\n",
    "def p(x, xdata, ydata):\n",
    "    n = min(len(xdata), len(ydata))\n",
    "    h = xdata[1] - xdata[0]\n",
    "    j = math.floor((x - xdata[0]) / h)\n",
    "    if j >= n - 1: j = n - 2\n",
    "    px = q(j, x, xdata, ydata)\n",
    "    return px"
   ]
  },
  {
   "cell_type": "code",
   "execution_count": null,
   "id": "cd5c1393",
   "metadata": {},
   "outputs": [],
   "source": [
    "def linear_interpolation(x, xdata, ydata):\n",
    "    y = [p(i, xdata, ydata) for i in x]\n",
    "    return y"
   ]
  },
  {
   "cell_type": "code",
   "execution_count": null,
   "id": "26c11d5d",
   "metadata": {},
   "outputs": [],
   "source": []
  }
 ],
 "metadata": {
  "authors": [
   {
    "name": "Sparisoma Viridi"
   }
  ],
  "kernelspec": {
   "display_name": "Python 3 (ipykernel)",
   "language": "python",
   "name": "python3"
  },
  "language_info": {
   "codemirror_mode": {
    "name": "ipython",
    "version": 3
   },
   "file_extension": ".py",
   "mimetype": "text/x-python",
   "name": "python",
   "nbconvert_exporter": "python",
   "pygments_lexer": "ipython3",
   "version": "3.9.12"
  },
  "title": "linearint"
 },
 "nbformat": 4,
 "nbformat_minor": 5
}
