{
 "cells": [
  {
   "cell_type": "markdown",
   "id": "cca11c7c",
   "metadata": {},
   "source": [
    "# lagipoly\n",
    "Lagrange interpolating polynomial implementation"
   ]
  },
  {
   "cell_type": "markdown",
   "id": "8d77fdd9",
   "metadata": {},
   "source": [
    "$$\\tag{1}\n",
    "q_j(x) = y_j \\prod_{k = 1 \\newline k \\ne j}^n \\frac{x - x_k}{x_j - x_k}.\n",
    "$$"
   ]
  },
  {
   "cell_type": "code",
   "execution_count": null,
   "id": "44566149",
   "metadata": {},
   "outputs": [],
   "source": [
    "def q(j, x, xdata, ydata):\n",
    "    n = min(len(xdata), len(ydata))\n",
    "    prod = 1\n",
    "    for k in range(n):\n",
    "        if k != j:\n",
    "            prod *= (x - xdata[k]) / (xdata[j] - xdata[k])\n",
    "    qjx = ydata[j] * prod\n",
    "    return qjx"
   ]
  },
  {
   "cell_type": "markdown",
   "id": "19d1d87b",
   "metadata": {},
   "source": [
    "$$\\tag{2}\n",
    "P(x) = \\sum_{j = 1}^n q_j(x),\n",
    "$$"
   ]
  },
  {
   "cell_type": "code",
   "execution_count": null,
   "id": "26bfb835",
   "metadata": {},
   "outputs": [],
   "source": [
    "def p(x, xdata, ydata):\n",
    "    n = min(len(xdata), len(ydata))\n",
    "    px = 0\n",
    "    for j in range(n):\n",
    "        px += q(j, x, xdata, ydata)\n",
    "    return px"
   ]
  },
  {
   "cell_type": "code",
   "execution_count": null,
   "id": "cd5c1393",
   "metadata": {},
   "outputs": [],
   "source": [
    "def lagrange_polynomial(x, xdata, ydata):\n",
    "    y = [p(i, xdata, ydata) for i in x]\n",
    "    return y"
   ]
  },
  {
   "cell_type": "code",
   "execution_count": null,
   "id": "c9cd96b7",
   "metadata": {},
   "outputs": [],
   "source": []
  }
 ],
 "metadata": {
  "authors": [
   {
    "name": "Sparisoma Viridi"
   }
  ],
  "kernelspec": {
   "display_name": "Python 3 (ipykernel)",
   "language": "python",
   "name": "python3"
  },
  "language_info": {
   "codemirror_mode": {
    "name": "ipython",
    "version": 3
   },
   "file_extension": ".py",
   "mimetype": "text/x-python",
   "name": "python",
   "nbconvert_exporter": "python",
   "pygments_lexer": "ipython3",
   "version": "3.10.9"
  },
  "title": "lagipoly"
 },
 "nbformat": 4,
 "nbformat_minor": 5
}
