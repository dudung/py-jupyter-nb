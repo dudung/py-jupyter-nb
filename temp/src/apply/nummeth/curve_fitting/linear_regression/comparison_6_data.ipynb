{
 "cells": [
  {
   "cell_type": "markdown",
   "id": "cca11c7c",
   "metadata": {},
   "source": [
    "# comparison_6_data\n",
    "Compare 6 data for linear regression"
   ]
  },
  {
   "cell_type": "markdown",
   "id": "9ec5472b",
   "metadata": {},
   "source": [
    "&nbsp; | &nbsp; | &nbsp;\n",
    ":-: | :-: | :-:\n",
    "![](image/lr_1.png) | ![](image/lr_2.png) | ![](image/lr_3.png)\n",
    "[test_data_1](test_data_1.ipynb) | [test_data_2](test_data_2.ipynb) | [test_data_3](test_data_3.ipynb)\n",
    "![](image/lr_4.png) | ![](image/lr_5.png) | ![](image/lr_6.png)\n",
    "[test_data_4](test_data_4.ipynb) | [test_data_5](test_data_5.ipynb) | [test_data_6](test_data_6.ipynb)\n"
   ]
  },
  {
   "cell_type": "code",
   "execution_count": null,
   "id": "ba680412",
   "metadata": {},
   "outputs": [],
   "source": []
  }
 ],
 "metadata": {
  "authors": [
   {
    "name": "Sparisoma Viridi"
   }
  ],
  "kernelspec": {
   "display_name": "Python 3 (ipykernel)",
   "language": "python",
   "name": "python3"
  },
  "language_info": {
   "codemirror_mode": {
    "name": "ipython",
    "version": 3
   },
   "file_extension": ".py",
   "mimetype": "text/x-python",
   "name": "python",
   "nbconvert_exporter": "python",
   "pygments_lexer": "ipython3",
   "version": "3.9.12"
  },
  "title": "comparison_6_data"
 },
 "nbformat": 4,
 "nbformat_minor": 5
}
