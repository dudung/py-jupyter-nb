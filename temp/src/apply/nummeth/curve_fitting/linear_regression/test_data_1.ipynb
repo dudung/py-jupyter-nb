{
 "cells": [
  {
   "cell_type": "markdown",
   "id": "cca11c7c",
   "metadata": {},
   "source": [
    "# test_data_1\n",
    "Test data as implementation of linear regression"
   ]
  },
  {
   "cell_type": "code",
   "execution_count": 1,
   "id": "1f53af7d",
   "metadata": {
    "scrolled": true
   },
   "outputs": [],
   "source": [
    "# define data\n",
    "xobs = [1, 2, 3, 4, 5]\n",
    "yobs = [3, 4, 5, 6, 7]"
   ]
  },
  {
   "cell_type": "code",
   "execution_count": 2,
   "id": "12ac8420",
   "metadata": {},
   "outputs": [
    {
     "name": "stdout",
     "output_type": "stream",
     "text": [
      "Data\n",
      "xobs = [1, 2, 3, 4, 5]\n",
      "yobs = [3, 4, 5, 6, 7]\n",
      "\n",
      "Model\n",
      "c = [2.0, 1.0]\n",
      "ymod = [3.0, 4.0, 5.0, 6.0, 7.0]\n",
      "\n",
      "Pearson correlation coefficient\n",
      "r =  1.0\n",
      "r2 =  1.0\n",
      "\n",
      "Coefficient of determination\n",
      "R2 =  1.0\n"
     ]
    }
   ],
   "source": [
    "import math\n",
    "import ipynb.fs.full.functions as lr\n",
    "\n",
    "N = len(xobs)\n",
    "\n",
    "Sy = sum(yobs)\n",
    "Sx = sum(xobs)\n",
    "Sxx = lr.sum_product(xobs, xobs)\n",
    "Sxy = lr.sum_product(xobs, yobs)\n",
    "\n",
    "c0 = (Sy*Sxx - Sx*Sxy) / (N*Sxx - Sx*Sx)\n",
    "c1 = (N*Sxy - Sx*Sy) / (N*Sxx - Sx*Sx)\n",
    "c = [c0, c1]\n",
    "\n",
    "r = lr.SSab(xobs, yobs) / math.sqrt( lr.SSab(xobs, xobs) * lr.SSab(yobs, yobs) )\n",
    "R2 = 1 - lr.SSres(xobs, yobs, c) / lr.SSab(yobs, yobs)\n",
    "\n",
    "ymod = lr.f(xobs, [c0, c1])\n",
    "\n",
    "print(\"Data\")\n",
    "print(\"xobs =\", xobs)\n",
    "print(\"yobs =\", yobs)\n",
    "print()\n",
    "\n",
    "print(\"Model\")\n",
    "print(\"c =\", c)\n",
    "print(\"ymod =\", ymod)\n",
    "print()\n",
    "\n",
    "print(\"Pearson correlation coefficient\")\n",
    "print(\"r = \", r)\n",
    "print(\"r2 = \", r*r)\n",
    "print()\n",
    "\n",
    "print(\"Coefficient of determination\")\n",
    "print(\"R2 = \", R2)"
   ]
  },
  {
   "cell_type": "code",
   "execution_count": 3,
   "id": "e8b89c14",
   "metadata": {
    "scrolled": true
   },
   "outputs": [
    {
     "data": {
      "image/png": "[encoded data removed]",
      "text/plain": [
       "<Figure size 432x288 with 1 Axes>"
      ]
     },
     "metadata": {
      "needs_background": "light"
     },
     "output_type": "display_data"
    }
   ],
   "source": [
    "import matplotlib.pyplot as plt\n",
    "\n",
    "plt.grid()\n",
    "plt.xlabel(\"x\")\n",
    "plt.ylabel(\"y\")\n",
    "\n",
    "plt.text(1, 6.5, f\"$y$ = {c[0]} + {c[1]}$x$\", fontsize=15)\n",
    "plt.text(1, 6.0, f\"$r$ = {r}\", fontsize=15)\n",
    "plt.text(1, 5.5, f\"$R^2$ = {R2}\", fontsize=15)\n",
    "\n",
    "plt.plot(xobs, yobs, 'ro', xobs, ymod, 'b--')\n",
    "plt.show()"
   ]
  },
  {
   "cell_type": "code",
   "execution_count": null,
   "id": "ba680412",
   "metadata": {},
   "outputs": [],
   "source": []
  }
 ],
 "metadata": {
  "authors": [
   {
    "name": "Sparisoma Viridi"
   }
  ],
  "kernelspec": {
   "display_name": "Python 3 (ipykernel)",
   "language": "python",
   "name": "python3"
  },
  "language_info": {
   "codemirror_mode": {
    "name": "ipython",
    "version": 3
   },
   "file_extension": ".py",
   "mimetype": "text/x-python",
   "name": "python",
   "nbconvert_exporter": "python",
   "pygments_lexer": "ipython3",
   "version": "3.9.12"
  },
  "title": "test_data_1"
 },
 "nbformat": 4,
 "nbformat_minor": 5
}
