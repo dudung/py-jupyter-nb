{
 "cells": [
  {
   "cell_type": "markdown",
   "id": "cca11c7c",
   "metadata": {},
   "source": [
    "# functions\n",
    "Functions for linear regression formula\n"
   ]
  },
  {
   "cell_type": "markdown",
   "id": "fba2ec01",
   "metadata": {},
   "source": [
    "$$\n",
    "\\sum_{i = 1}^n a_i b_i\n",
    "$$"
   ]
  },
  {
   "cell_type": "code",
   "execution_count": 1,
   "id": "a7b05b4d",
   "metadata": {},
   "outputs": [],
   "source": [
    "def sum_product(a, b):\n",
    "    N = min(len(a), len(b))\n",
    "    s = 0\n",
    "    for i in range(N):\n",
    "        s += a[i]*b[i]\n",
    "    return s"
   ]
  },
  {
   "cell_type": "markdown",
   "id": "e00d32a6",
   "metadata": {},
   "source": [
    "$$\n",
    "y = f(x, c) = c_0 + c_1 x, \\ \\ \\ \\  c = \\{c_0, c_1\\}\n",
    "$$"
   ]
  },
  {
   "cell_type": "code",
   "execution_count": 2,
   "id": "64421539",
   "metadata": {},
   "outputs": [],
   "source": [
    "def f(x, c):\n",
    "    y = []\n",
    "    for i in x:\n",
    "        y.append(c[0] + c[1] * i)\n",
    "    return y"
   ]
  },
  {
   "cell_type": "markdown",
   "id": "3aafa997",
   "metadata": {},
   "source": [
    "$$\n",
    "\\bar{a} = \\frac{1}{N} \\sum_{i = 1}^N a_i\n",
    "$$"
   ]
  },
  {
   "cell_type": "code",
   "execution_count": 3,
   "id": "cae7697b",
   "metadata": {},
   "outputs": [],
   "source": [
    "def avg(a):\n",
    "    N = len(a)\n",
    "    s = sum(a)\n",
    "    abar = s / N\n",
    "    return abar"
   ]
  },
  {
   "cell_type": "markdown",
   "id": "b982ce27",
   "metadata": {},
   "source": [
    "$$\n",
    "y = f(x, c) = c_0 + c_1 x, \\ \\ \\ \\  c = \\{c_0, c_1\\}\n",
    "$$\n",
    "\n",
    "$$\n",
    "SS_{\\rm res} = \\sum_{i = 1}^N (y_i - f_i)^2 = \\sum_{i = 1}^N \\varepsilon_i^2\n",
    "$$"
   ]
  },
  {
   "cell_type": "code",
   "execution_count": 4,
   "id": "e755c56f",
   "metadata": {},
   "outputs": [],
   "source": [
    "def SSres(x, y, c):\n",
    "    N = min(len(x), len(y))\n",
    "    ymod = f(x, c)\n",
    "    s = 0\n",
    "    for i in range(N):\n",
    "        s += (y[i] - ymod[i])**2\n",
    "    return s"
   ]
  },
  {
   "cell_type": "markdown",
   "id": "4e5b29f1",
   "metadata": {},
   "source": [
    "$$\n",
    "\\bar{a} = \\frac{1}{N} \\sum_{i = 1}^N a_i\n",
    "$$\n",
    "\n",
    "$$\n",
    "SS_{ab} = \\sum_{i = 1}^N (a_i - \\bar{a}) (b_i - \\bar{b})\n",
    "$$"
   ]
  },
  {
   "cell_type": "code",
   "execution_count": 5,
   "id": "c13e3c5f",
   "metadata": {},
   "outputs": [],
   "source": [
    "def SSab(x, y):\n",
    "    N = min(len(x), len(y))\n",
    "    ax = avg(x)\n",
    "    ay = avg(y)\n",
    "    s = 0\n",
    "    for i in range(N):\n",
    "        s += (x[i] - ax) * (y[i] - ay)\n",
    "    return s"
   ]
  },
  {
   "cell_type": "code",
   "execution_count": null,
   "id": "ba680412",
   "metadata": {},
   "outputs": [],
   "source": []
  }
 ],
 "metadata": {
  "authors": [
   {
    "name": "Sparisoma Viridi"
   }
  ],
  "kernelspec": {
   "display_name": "Python 3 (ipykernel)",
   "language": "python",
   "name": "python3"
  },
  "language_info": {
   "codemirror_mode": {
    "name": "ipython",
    "version": 3
   },
   "file_extension": ".py",
   "mimetype": "text/x-python",
   "name": "python",
   "nbconvert_exporter": "python",
   "pygments_lexer": "ipython3",
   "version": "3.9.12"
  },
  "title": "linear_regression"
 },
 "nbformat": 4,
 "nbformat_minor": 5
}
