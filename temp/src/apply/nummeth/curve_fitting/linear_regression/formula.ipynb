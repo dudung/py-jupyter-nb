{
 "cells": [
  {
   "cell_type": "markdown",
   "id": "cca11c7c",
   "metadata": {},
   "source": [
    "# formula\n",
    "Formula of linear regression\n"
   ]
  },
  {
   "cell_type": "markdown",
   "id": "3feb38c1",
   "metadata": {},
   "source": [
    "## formula"
   ]
  },
  {
   "cell_type": "markdown",
   "id": "a975d482",
   "metadata": {},
   "source": [
    "Linear relation between $y$ and $x$\n",
    "\n",
    "$$\\tag{1}\n",
    "y = c_0 + c_1 x + \\varepsilon = f(x).\n",
    "$$"
   ]
  },
  {
   "cell_type": "markdown",
   "id": "95687ab7",
   "metadata": {},
   "source": [
    "Intercept from Eqn (1) is\n",
    "\n",
    "$$\\tag{2}\n",
    "c_0 = \\frac{\\displaystyle \\sum_{i = 1}^N y_i \\sum x_i^2 - \\sum_{i = 1}^N x_i \\sum x_i y_i}{\\displaystyle N \\sum_{i = 1}^N x_i^2 - \\left( \\sum_{i = 1}^N x_i \\right)^2}\n",
    "$$"
   ]
  },
  {
   "cell_type": "markdown",
   "id": "643da182",
   "metadata": {},
   "source": [
    "and the slope from Eqn (1) is\n",
    "\n",
    "$$\\tag{3}\n",
    "c_1 = \\frac{\\displaystyle N \\sum_{i = 1}^N x_i y_i - \\sum_{i = 1}^N x_i \\sum y_i}{\\displaystyle N \\sum_{i = 1}^N x_i^2 - \\left( \\sum_{i = 1}^N x_i \\right)^2}.\n",
    "$$"
   ]
  },
  {
   "cell_type": "markdown",
   "id": "b31d920e",
   "metadata": {},
   "source": [
    "Coefficient of determination is defined as\n",
    "\n",
    "$$\\tag{4}\n",
    "R^2 = 1 - \\frac{SS_{\\rm res}}{SS_{\\rm tot}},\n",
    "$$"
   ]
  },
  {
   "cell_type": "markdown",
   "id": "120db339",
   "metadata": {},
   "source": [
    "which requires residual sum of squares\n",
    "\n",
    "$$\\tag{5}\n",
    "SS_{\\rm res} = \\sum_{i = 1}^N (y_i - f_i)^2 = \\sum_{i = 1}^N \\varepsilon_i^2\n",
    "$$"
   ]
  },
  {
   "cell_type": "markdown",
   "id": "821cae70",
   "metadata": {},
   "source": [
    "total sum of squares\n",
    "\n",
    "$$\\tag{6}\n",
    "SS_{\\rm tot} = \\sum_{i = 1}^N (y_i - \\bar{y})^2,\n",
    "$$"
   ]
  },
  {
   "cell_type": "markdown",
   "id": "3f2efe6a",
   "metadata": {},
   "source": [
    "and mean of $y$\n",
    "\n",
    "$$\\tag{7}\n",
    "\\bar{y} = \\frac{1}{N} \\sum_{i = 1}^N y_i,\n",
    "$$"
   ]
  },
  {
   "cell_type": "markdown",
   "id": "66fb6aaa",
   "metadata": {},
   "source": [
    "where $R^2 \\in [0, 1]$."
   ]
  },
  {
   "cell_type": "markdown",
   "id": "0bea6794",
   "metadata": {},
   "source": [
    "There are also other formulations\n",
    "\n",
    "$$\\tag{8a}\n",
    "SS_{xy} = \\sum_{i = 1}^N (x_i - \\bar{x}) (y_i - \\bar{y}),\n",
    "$$\n",
    "\n",
    "$$\\tag{8b}\n",
    "SS_{xx} = \\sum_{i = 1}^N (x_i - \\bar{x})^2,\n",
    "$$\n",
    "\n",
    "$$\\tag{8c}\n",
    "SS_{yy} = \\sum_{i = 1}^N (y_i - \\bar{y})^2,\n",
    "$$\n",
    "\n",
    "$$\n",
    "r = \\frac{SS_{xy}}{\\sqrt{SS_{xx} SS_{yy}}},\n",
    "$$\n",
    "\n",
    "which is know as Pearson's correlation coefficient."
   ]
  },
  {
   "cell_type": "code",
   "execution_count": null,
   "id": "ba680412",
   "metadata": {},
   "outputs": [],
   "source": []
  }
 ],
 "metadata": {
  "authors": [
   {
    "name": "Sparisoma Viridi"
   }
  ],
  "kernelspec": {
   "display_name": "Python 3 (ipykernel)",
   "language": "python",
   "name": "python3"
  },
  "language_info": {
   "codemirror_mode": {
    "name": "ipython",
    "version": 3
   },
   "file_extension": ".py",
   "mimetype": "text/x-python",
   "name": "python",
   "nbconvert_exporter": "python",
   "pygments_lexer": "ipython3",
   "version": "3.9.12"
  },
  "title": "formula"
 },
 "nbformat": 4,
 "nbformat_minor": 5
}
