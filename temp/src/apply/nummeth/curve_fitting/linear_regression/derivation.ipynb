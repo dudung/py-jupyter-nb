{
 "cells": [
  {
   "cell_type": "markdown",
   "id": "cca11c7c",
   "metadata": {},
   "source": [
    "# linear_regression\n",
    "Formula of linear regression\n"
   ]
  },
  {
   "cell_type": "markdown",
   "id": "3feb38c1",
   "metadata": {},
   "source": [
    "## formula"
   ]
  },
  {
   "cell_type": "markdown",
   "id": "a975d482",
   "metadata": {},
   "source": [
    "Linear relation between $y$ and $x$\n",
    "\n",
    "$$\\tag{1}\n",
    "y = c_0 + c_1 x + \\varepsilon = f(x).\n",
    "$$"
   ]
  },
  {
   "cell_type": "markdown",
   "id": "95687ab7",
   "metadata": {},
   "source": [
    "Intercept from Eqn (1) is\n",
    "\n",
    "$$\\tag{2}\n",
    "c_0 = \\frac{\\displaystyle \\sum_{i = 1}^N y_i \\sum x_i^2 - \\sum_{i = 1}^N x_i \\sum x_i y_i}{\\displaystyle N \\sum_{i = 1}^N x_i^2 - \\left( \\sum_{i = 1}^N x_i \\right)^2}\n",
    "$$"
   ]
  },
  {
   "cell_type": "markdown",
   "id": "643da182",
   "metadata": {},
   "source": [
    "and the slope from Eqn (1) is\n",
    "\n",
    "$$\\tag{3}\n",
    "c_1 = \\frac{\\displaystyle N \\sum_{i = 1}^N x_i y_i - \\sum_{i = 1}^N x_i \\sum y_i}{\\displaystyle N \\sum_{i = 1}^N x_i^2 - \\left( \\sum_{i = 1}^N x_i \\right)^2}.\n",
    "$$"
   ]
  },
  {
   "cell_type": "markdown",
   "id": "b31d920e",
   "metadata": {},
   "source": [
    "Coefficient of determination is defined as\n",
    "\n",
    "$$\\tag{4}\n",
    "R^2 = 1 - \\frac{SS_{\\rm res}}{SS_{\\rm tot}},\n",
    "$$"
   ]
  },
  {
   "cell_type": "markdown",
   "id": "120db339",
   "metadata": {},
   "source": [
    "which requires residual sum of squares\n",
    "\n",
    "$$\\tag{5}\n",
    "SS_{\\rm res} = \\sum_{i = 1}^N (y_i - f_i)^2 = \\sum_{i = 1}^N \\varepsilon_i^2\n",
    "$$"
   ]
  },
  {
   "cell_type": "markdown",
   "id": "821cae70",
   "metadata": {},
   "source": [
    "total sum of squares\n",
    "\n",
    "$$\\tag{6}\n",
    "SS_{\\rm tot} = \\sum_{i = 1}^N (y_i - \\bar{y})^2,\n",
    "$$"
   ]
  },
  {
   "cell_type": "markdown",
   "id": "3f2efe6a",
   "metadata": {},
   "source": [
    "and mean of $y$\n",
    "\n",
    "$$\\tag{7}\n",
    "\\bar{y} = \\frac{1}{N} \\sum_{i = 1}^N y_i,\n",
    "$$"
   ]
  },
  {
   "cell_type": "markdown",
   "id": "66fb6aaa",
   "metadata": {},
   "source": [
    "where $R^2 \\in [0, 1]$."
   ]
  },
  {
   "cell_type": "markdown",
   "id": "0bea6794",
   "metadata": {},
   "source": [
    "There are also other formulations\n",
    "\n",
    "$$\\tag{8a}\n",
    "SS_{xy} = \\sum_{i = 1}^N (x_i - \\bar{x}) (y_i - \\bar{y}),\n",
    "$$\n",
    "\n",
    "$$\\tag{8b}\n",
    "SS_{xx} = \\sum_{i = 1}^N (x_i - \\bar{x})^2,\n",
    "$$\n",
    "\n",
    "$$\\tag{8c}\n",
    "SS_{yy} = \\sum_{i = 1}^N (y_i - \\bar{y})^2,\n",
    "$$\n",
    "\n",
    "$$\n",
    "r = \\frac{SS_{xy}}{\\sqrt{SS_{xx} SS_{yy}}},\n",
    "$$\n",
    "\n",
    "which is know as Pearson's correlation coefficient."
   ]
  },
  {
   "cell_type": "markdown",
   "id": "f98960ee",
   "metadata": {},
   "source": [
    "## derivation\n",
    "How to derive Eqns (2) and (3) will be added later."
   ]
  },
  {
   "cell_type": "markdown",
   "id": "ce81492c",
   "metadata": {},
   "source": [
    "## functions"
   ]
  },
  {
   "cell_type": "markdown",
   "id": "fba2ec01",
   "metadata": {},
   "source": [
    "$$\n",
    "\\sum_{i = 1}^n a_i b_i\n",
    "$$"
   ]
  },
  {
   "cell_type": "code",
   "execution_count": 1,
   "id": "a7b05b4d",
   "metadata": {},
   "outputs": [],
   "source": [
    "def sum_product(a, b):\n",
    "    N = min(len(a), len(b))\n",
    "    s = 0\n",
    "    for i in range(N):\n",
    "        s += a[i]*b[i]\n",
    "    return s"
   ]
  },
  {
   "cell_type": "markdown",
   "id": "e00d32a6",
   "metadata": {},
   "source": [
    "$$\n",
    "y = f(x, c) = c_0 + c_1 x, \\ \\ \\ \\  c = \\{c_0, c_1\\}\n",
    "$$"
   ]
  },
  {
   "cell_type": "code",
   "execution_count": 2,
   "id": "64421539",
   "metadata": {},
   "outputs": [],
   "source": [
    "def f(x, c):\n",
    "    y = []\n",
    "    for i in x:\n",
    "        y.append(c[0] + c[1] * i)\n",
    "    return y"
   ]
  },
  {
   "cell_type": "markdown",
   "id": "3aafa997",
   "metadata": {},
   "source": [
    "$$\n",
    "\\bar{a} = \\frac{1}{N} \\sum_{i = 1}^N a_i\n",
    "$$"
   ]
  },
  {
   "cell_type": "code",
   "execution_count": 3,
   "id": "cae7697b",
   "metadata": {},
   "outputs": [],
   "source": [
    "def avg(a):\n",
    "    N = len(a)\n",
    "    s = sum(a)\n",
    "    abar = s / N\n",
    "    return abar"
   ]
  },
  {
   "cell_type": "markdown",
   "id": "b982ce27",
   "metadata": {},
   "source": [
    "$$\n",
    "y = f(x, c) = c_0 + c_1 x, \\ \\ \\ \\  c = \\{c_0, c_1\\}\n",
    "$$\n",
    "\n",
    "$$\n",
    "SS_{\\rm res} = \\sum_{i = 1}^N (y_i - f_i)^2 = \\sum_{i = 1}^N \\varepsilon_i^2\n",
    "$$"
   ]
  },
  {
   "cell_type": "code",
   "execution_count": 4,
   "id": "e755c56f",
   "metadata": {},
   "outputs": [],
   "source": [
    "def SSres(x, y, c):\n",
    "    N = min(len(x), len(y))\n",
    "    ymod = f(x, c)\n",
    "    s = 0\n",
    "    for i in range(N):\n",
    "        s += (y[i] - ymod[i])**2\n",
    "    return s"
   ]
  },
  {
   "cell_type": "markdown",
   "id": "4e5b29f1",
   "metadata": {},
   "source": [
    "$$\n",
    "\\bar{a} = \\frac{1}{N} \\sum_{i = 1}^N a_i\n",
    "$$\n",
    "\n",
    "$$\n",
    "SS_{ab} = \\sum_{i = 1}^N (a_i - \\bar{a}) (b_i - \\bar{b})\n",
    "$$"
   ]
  },
  {
   "cell_type": "code",
   "execution_count": 5,
   "id": "c13e3c5f",
   "metadata": {},
   "outputs": [],
   "source": [
    "def SSab(x, y):\n",
    "    N = min(len(x), len(y))\n",
    "    ax = avg(x)\n",
    "    ay = avg(y)\n",
    "    s = 0\n",
    "    for i in range(N):\n",
    "        s += (x[i] - ax) * (y[i] - ay)\n",
    "    return s"
   ]
  },
  {
   "cell_type": "markdown",
   "id": "c8c0ddc1",
   "metadata": {},
   "source": [
    "## test data 1"
   ]
  },
  {
   "cell_type": "code",
   "execution_count": 6,
   "id": "1f53af7d",
   "metadata": {
    "scrolled": true
   },
   "outputs": [],
   "source": [
    "# define data\n",
    "xobs = [1, 2, 3, 4, 5]\n",
    "yobs = [3, 4, 5, 6, 7]"
   ]
  },
  {
   "cell_type": "code",
   "execution_count": 7,
   "id": "12ac8420",
   "metadata": {},
   "outputs": [
    {
     "name": "stdout",
     "output_type": "stream",
     "text": [
      "Data\n",
      "xobs = [1, 2, 3, 4, 5]\n",
      "yobs = [3, 4, 5, 6, 7]\n",
      "\n",
      "Model\n",
      "c = [2.0, 1.0]\n",
      "ymod = [3.0, 4.0, 5.0, 6.0, 7.0]\n",
      "\n",
      "Pearson correlation coefficient\n",
      "r =  1.0\n",
      "r2 =  1.0\n",
      "\n",
      "Coefficient of determination\n",
      "R2 =  1.0\n"
     ]
    }
   ],
   "source": [
    "import math\n",
    "\n",
    "N = len(xobs)\n",
    "\n",
    "Sy = sum(yobs)\n",
    "Sx = sum(xobs)\n",
    "Sxx = sum_product(xobs, xobs)\n",
    "Sxy = sum_product(xobs, yobs)\n",
    "\n",
    "c0 = (Sy*Sxx - Sx*Sxy) / (N*Sxx - Sx*Sx)\n",
    "c1 = (N*Sxy - Sx*Sy) / (N*Sxx - Sx*Sx)\n",
    "c = [c0, c1]\n",
    "\n",
    "r = SSab(xobs, yobs) / math.sqrt( SSab(xobs, xobs) * SSab(yobs, yobs) )\n",
    "R2 = 1 - SSres(xobs, yobs, c) / SSab(yobs, yobs)\n",
    "\n",
    "ymod = f(xobs, [c0, c1])\n",
    "\n",
    "print(\"Data\")\n",
    "print(\"xobs =\", xobs)\n",
    "print(\"yobs =\", yobs)\n",
    "print()\n",
    "\n",
    "print(\"Model\")\n",
    "print(\"c =\", c)\n",
    "print(\"ymod =\", ymod)\n",
    "print()\n",
    "\n",
    "print(\"Pearson correlation coefficient\")\n",
    "print(\"r = \", r)\n",
    "print(\"r2 = \", r*r)\n",
    "print()\n",
    "\n",
    "print(\"Coefficient of determination\")\n",
    "print(\"R2 = \", R2)"
   ]
  },
  {
   "cell_type": "code",
   "execution_count": 8,
   "id": "e8b89c14",
   "metadata": {
    "scrolled": true
   },
   "outputs": [
    {
     "data": {
      "image/png": "[encoded data removed]",
      "text/plain": [
       "<Figure size 432x288 with 1 Axes>"
      ]
     },
     "metadata": {
      "needs_background": "light"
     },
     "output_type": "display_data"
    }
   ],
   "source": [
    "import matplotlib.pyplot as plt\n",
    "\n",
    "plt.grid()\n",
    "plt.xlabel(\"x\")\n",
    "plt.ylabel(\"y\")\n",
    "\n",
    "plt.text(1, 6.5, f\"$y$ = {c[0]} + {c[1]}$x$\", fontsize=15)\n",
    "plt.text(1, 6.0, f\"$r$ = {r}\", fontsize=15)\n",
    "plt.text(1, 5.5, f\"$R^2$ = {R2}\", fontsize=15)\n",
    "\n",
    "plt.plot(xobs, yobs, 'ro', xobs, ymod, 'b--')\n",
    "plt.show()"
   ]
  },
  {
   "cell_type": "markdown",
   "id": "44d4b257",
   "metadata": {},
   "source": [
    "## test data 2"
   ]
  },
  {
   "cell_type": "code",
   "execution_count": 9,
   "id": "f56ce353",
   "metadata": {
    "scrolled": true
   },
   "outputs": [],
   "source": [
    "# define data\n",
    "xobs = [1, 2, 3, 4, 5]\n",
    "yobs = [3, 4.5, 5, 5.5, 7]"
   ]
  },
  {
   "cell_type": "code",
   "execution_count": 10,
   "id": "7292c4ed",
   "metadata": {},
   "outputs": [
    {
     "name": "stdout",
     "output_type": "stream",
     "text": [
      "Data\n",
      "xobs = [1, 2, 3, 4, 5]\n",
      "yobs = [3, 4.5, 5, 5.5, 7]\n",
      "\n",
      "Model\n",
      "c = [2.3, 0.9]\n",
      "ymod = [3.1999999999999997, 4.1, 5.0, 5.9, 6.8]\n",
      "\n",
      "Pearson correlation coefficient\n",
      "r =  0.9761870601839528\n",
      "r2 =  0.9529411764705884\n",
      "\n",
      "Coefficient of determination\n",
      "R2 =  0.9529411764705882\n"
     ]
    }
   ],
   "source": [
    "import math\n",
    "\n",
    "N = len(xobs)\n",
    "\n",
    "Sy = sum(yobs)\n",
    "Sx = sum(xobs)\n",
    "Sxx = sum_product(xobs, xobs)\n",
    "Sxy = sum_product(xobs, yobs)\n",
    "\n",
    "c0 = (Sy*Sxx - Sx*Sxy) / (N*Sxx - Sx*Sx)\n",
    "c1 = (N*Sxy - Sx*Sy) / (N*Sxx - Sx*Sx)\n",
    "c = [c0, c1]\n",
    "\n",
    "r = SSab(xobs, yobs) / math.sqrt( SSab(xobs, xobs) * SSab(yobs, yobs) )\n",
    "R2 = 1 - SSres(xobs, yobs, c) / SSab(yobs, yobs)\n",
    "\n",
    "ymod = f(xobs, [c0, c1])\n",
    "\n",
    "print(\"Data\")\n",
    "print(\"xobs =\", xobs)\n",
    "print(\"yobs =\", yobs)\n",
    "print()\n",
    "\n",
    "print(\"Model\")\n",
    "print(\"c =\", c)\n",
    "print(\"ymod =\", ymod)\n",
    "print()\n",
    "\n",
    "print(\"Pearson correlation coefficient\")\n",
    "print(\"r = \", r)\n",
    "print(\"r2 = \", r*r)\n",
    "print()\n",
    "\n",
    "print(\"Coefficient of determination\")\n",
    "print(\"R2 = \", R2)"
   ]
  },
  {
   "cell_type": "code",
   "execution_count": 11,
   "id": "b56958ee",
   "metadata": {
    "scrolled": true
   },
   "outputs": [
    {
     "data": {
      "image/png": "[encoded data removed]",
      "text/plain": [
       "<Figure size 432x288 with 1 Axes>"
      ]
     },
     "metadata": {
      "needs_background": "light"
     },
     "output_type": "display_data"
    }
   ],
   "source": [
    "import matplotlib.pyplot as plt\n",
    "\n",
    "plt.grid()\n",
    "plt.xlabel(\"x\")\n",
    "plt.ylabel(\"y\")\n",
    "\n",
    "plt.text(1, 6.5, f\"$y$ = {c[0]} + {c[1]}$x$\", fontsize=15)\n",
    "plt.text(1, 6.0, f\"$r$ = {r}\", fontsize=15)\n",
    "plt.text(1, 5.5, f\"$R^2$ = {R2}\", fontsize=15)\n",
    "\n",
    "plt.plot(xobs, yobs, 'ro', xobs, ymod, 'b--')\n",
    "plt.show()"
   ]
  },
  {
   "cell_type": "markdown",
   "id": "cdb426fb",
   "metadata": {},
   "source": [
    "## test data 3"
   ]
  },
  {
   "cell_type": "code",
   "execution_count": 12,
   "id": "143e7b31",
   "metadata": {
    "scrolled": true
   },
   "outputs": [],
   "source": [
    "# define data\n",
    "xobs = [1, 2, 3, 4, 5]\n",
    "yobs = [3, 5, 5, 4, 7]"
   ]
  },
  {
   "cell_type": "code",
   "execution_count": 13,
   "id": "0cc3f88c",
   "metadata": {},
   "outputs": [
    {
     "name": "stdout",
     "output_type": "stream",
     "text": [
      "Data\n",
      "xobs = [1, 2, 3, 4, 5]\n",
      "yobs = [3, 5, 5, 4, 7]\n",
      "\n",
      "Model\n",
      "c = [2.7, 0.7]\n",
      "ymod = [3.4000000000000004, 4.1, 4.8, 5.5, 6.2]\n",
      "\n",
      "Pearson correlation coefficient\n",
      "r =  0.7462025072446364\n",
      "r2 =  0.5568181818181817\n",
      "\n",
      "Coefficient of determination\n",
      "R2 =  0.5568181818181819\n"
     ]
    }
   ],
   "source": [
    "import math\n",
    "\n",
    "N = len(xobs)\n",
    "\n",
    "Sy = sum(yobs)\n",
    "Sx = sum(xobs)\n",
    "Sxx = sum_product(xobs, xobs)\n",
    "Sxy = sum_product(xobs, yobs)\n",
    "\n",
    "c0 = (Sy*Sxx - Sx*Sxy) / (N*Sxx - Sx*Sx)\n",
    "c1 = (N*Sxy - Sx*Sy) / (N*Sxx - Sx*Sx)\n",
    "c = [c0, c1]\n",
    "\n",
    "r = SSab(xobs, yobs) / math.sqrt( SSab(xobs, xobs) * SSab(yobs, yobs) )\n",
    "R2 = 1 - SSres(xobs, yobs, c) / SSab(yobs, yobs)\n",
    "\n",
    "ymod = f(xobs, [c0, c1])\n",
    "\n",
    "print(\"Data\")\n",
    "print(\"xobs =\", xobs)\n",
    "print(\"yobs =\", yobs)\n",
    "print()\n",
    "\n",
    "print(\"Model\")\n",
    "print(\"c =\", c)\n",
    "print(\"ymod =\", ymod)\n",
    "print()\n",
    "\n",
    "print(\"Pearson correlation coefficient\")\n",
    "print(\"r = \", r)\n",
    "print(\"r2 = \", r*r)\n",
    "print()\n",
    "\n",
    "print(\"Coefficient of determination\")\n",
    "print(\"R2 = \", R2)"
   ]
  },
  {
   "cell_type": "code",
   "execution_count": 14,
   "id": "dc008d81",
   "metadata": {
    "scrolled": true
   },
   "outputs": [
    {
     "data": {
      "image/png": "[encoded data removed]",
      "text/plain": [
       "<Figure size 432x288 with 1 Axes>"
      ]
     },
     "metadata": {
      "needs_background": "light"
     },
     "output_type": "display_data"
    }
   ],
   "source": [
    "import matplotlib.pyplot as plt\n",
    "\n",
    "plt.grid()\n",
    "plt.xlabel(\"x\")\n",
    "plt.ylabel(\"y\")\n",
    "\n",
    "plt.text(1, 6.5, f\"$y$ = {c[0]} + {c[1]}$x$\", fontsize=15)\n",
    "plt.text(1, 6.0, f\"$r$ = {r}\", fontsize=15)\n",
    "plt.text(1, 5.5, f\"$R^2$ = {R2}\", fontsize=15)\n",
    "\n",
    "plt.plot(xobs, yobs, 'ro', xobs, ymod, 'b--')\n",
    "plt.show()"
   ]
  },
  {
   "cell_type": "markdown",
   "id": "b8edef47",
   "metadata": {},
   "source": [
    "## test data 4"
   ]
  },
  {
   "cell_type": "code",
   "execution_count": 15,
   "id": "d729dd88",
   "metadata": {
    "scrolled": true
   },
   "outputs": [],
   "source": [
    "# define data\n",
    "xobs = [1, 2, 3, 4, 5]\n",
    "yobs = [3, 6, 5, 4, 7]"
   ]
  },
  {
   "cell_type": "code",
   "execution_count": 16,
   "id": "1a3a4fbc",
   "metadata": {},
   "outputs": [
    {
     "name": "stdout",
     "output_type": "stream",
     "text": [
      "Data\n",
      "xobs = [1, 2, 3, 4, 5]\n",
      "yobs = [3, 6, 5, 4, 7]\n",
      "\n",
      "Model\n",
      "c = [3.2, 0.6]\n",
      "ymod = [3.8000000000000003, 4.4, 5.0, 5.6, 6.2]\n",
      "\n",
      "Pearson correlation coefficient\n",
      "r =  0.6\n",
      "r2 =  0.36\n",
      "\n",
      "Coefficient of determination\n",
      "R2 =  0.3600000000000002\n"
     ]
    }
   ],
   "source": [
    "import math\n",
    "\n",
    "N = len(xobs)\n",
    "\n",
    "Sy = sum(yobs)\n",
    "Sx = sum(xobs)\n",
    "Sxx = sum_product(xobs, xobs)\n",
    "Sxy = sum_product(xobs, yobs)\n",
    "\n",
    "c0 = (Sy*Sxx - Sx*Sxy) / (N*Sxx - Sx*Sx)\n",
    "c1 = (N*Sxy - Sx*Sy) / (N*Sxx - Sx*Sx)\n",
    "c = [c0, c1]\n",
    "\n",
    "r = SSab(xobs, yobs) / math.sqrt( SSab(xobs, xobs) * SSab(yobs, yobs) )\n",
    "R2 = 1 - SSres(xobs, yobs, c) / SSab(yobs, yobs)\n",
    "\n",
    "ymod = f(xobs, [c0, c1])\n",
    "\n",
    "print(\"Data\")\n",
    "print(\"xobs =\", xobs)\n",
    "print(\"yobs =\", yobs)\n",
    "print()\n",
    "\n",
    "print(\"Model\")\n",
    "print(\"c =\", c)\n",
    "print(\"ymod =\", ymod)\n",
    "print()\n",
    "\n",
    "print(\"Pearson correlation coefficient\")\n",
    "print(\"r = \", r)\n",
    "print(\"r2 = \", r*r)\n",
    "print()\n",
    "\n",
    "print(\"Coefficient of determination\")\n",
    "print(\"R2 = \", R2)"
   ]
  },
  {
   "cell_type": "code",
   "execution_count": 17,
   "id": "cb27a06b",
   "metadata": {
    "scrolled": false
   },
   "outputs": [
    {
     "data": {
      "image/png": "[encoded data removed]",
      "text/plain": [
       "<Figure size 432x288 with 1 Axes>"
      ]
     },
     "metadata": {
      "needs_background": "light"
     },
     "output_type": "display_data"
    }
   ],
   "source": [
    "import matplotlib.pyplot as plt\n",
    "\n",
    "plt.grid()\n",
    "plt.xlabel(\"x\")\n",
    "plt.ylabel(\"y\")\n",
    "\n",
    "plt.text(1, 6.5, f\"$y$ = {c[0]} + {c[1]}$x$\", fontsize=15)\n",
    "plt.text(1, 6.0, f\"$r$ = {r}\", fontsize=15)\n",
    "plt.text(1, 5.5, f\"$R^2$ = {R2}\", fontsize=15)\n",
    "\n",
    "plt.plot(xobs, yobs, 'ro', xobs, ymod, 'b--')\n",
    "plt.show()"
   ]
  },
  {
   "cell_type": "markdown",
   "id": "2c30c176",
   "metadata": {},
   "source": [
    "## test data 5"
   ]
  },
  {
   "cell_type": "code",
   "execution_count": 18,
   "id": "823c9c01",
   "metadata": {
    "scrolled": true
   },
   "outputs": [],
   "source": [
    "# define data\n",
    "xobs = [1, 2, 3, 4, 5]\n",
    "yobs = [3, 5, 7, 5, 3]"
   ]
  },
  {
   "cell_type": "code",
   "execution_count": 19,
   "id": "71a6da92",
   "metadata": {},
   "outputs": [
    {
     "name": "stdout",
     "output_type": "stream",
     "text": [
      "Data\n",
      "xobs = [1, 2, 3, 4, 5]\n",
      "yobs = [3, 5, 7, 5, 3]\n",
      "\n",
      "Model\n",
      "c = [4.6, 0.0]\n",
      "ymod = [4.6, 4.6, 4.6, 4.6, 4.6]\n",
      "\n",
      "Pearson correlation coefficient\n",
      "r =  0.0\n",
      "r2 =  0.0\n",
      "\n",
      "Coefficient of determination\n",
      "R2 =  0.0\n"
     ]
    }
   ],
   "source": [
    "import math\n",
    "\n",
    "N = len(xobs)\n",
    "\n",
    "Sy = sum(yobs)\n",
    "Sx = sum(xobs)\n",
    "Sxx = sum_product(xobs, xobs)\n",
    "Sxy = sum_product(xobs, yobs)\n",
    "\n",
    "c0 = (Sy*Sxx - Sx*Sxy) / (N*Sxx - Sx*Sx)\n",
    "c1 = (N*Sxy - Sx*Sy) / (N*Sxx - Sx*Sx)\n",
    "c = [c0, c1]\n",
    "\n",
    "r = SSab(xobs, yobs) / math.sqrt( SSab(xobs, xobs) * SSab(yobs, yobs) )\n",
    "R2 = 1 - SSres(xobs, yobs, c) / SSab(yobs, yobs)\n",
    "\n",
    "ymod = f(xobs, [c0, c1])\n",
    "\n",
    "print(\"Data\")\n",
    "print(\"xobs =\", xobs)\n",
    "print(\"yobs =\", yobs)\n",
    "print()\n",
    "\n",
    "print(\"Model\")\n",
    "print(\"c =\", c)\n",
    "print(\"ymod =\", ymod)\n",
    "print()\n",
    "\n",
    "print(\"Pearson correlation coefficient\")\n",
    "print(\"r = \", r)\n",
    "print(\"r2 = \", r*r)\n",
    "print()\n",
    "\n",
    "print(\"Coefficient of determination\")\n",
    "print(\"R2 = \", R2)"
   ]
  },
  {
   "cell_type": "code",
   "execution_count": 20,
   "id": "c945833e",
   "metadata": {
    "scrolled": false
   },
   "outputs": [
    {
     "data": {
      "image/png": "[encoded data removed]",
      "text/plain": [
       "<Figure size 432x288 with 1 Axes>"
      ]
     },
     "metadata": {
      "needs_background": "light"
     },
     "output_type": "display_data"
    }
   ],
   "source": [
    "import matplotlib.pyplot as plt\n",
    "\n",
    "plt.grid()\n",
    "plt.xlabel(\"x\")\n",
    "plt.ylabel(\"y\")\n",
    "\n",
    "plt.text(1, 6.5, f\"$y$ = {c[0]} + {c[1]}$x$\", fontsize=15)\n",
    "plt.text(1, 6.0, f\"$r$ = {r}\", fontsize=15)\n",
    "plt.text(1, 5.5, f\"$R^2$ = {R2}\", fontsize=15)\n",
    "\n",
    "plt.plot(xobs, yobs, 'ro', xobs, ymod, 'b--')\n",
    "plt.show()"
   ]
  },
  {
   "cell_type": "markdown",
   "id": "96cdbe34",
   "metadata": {},
   "source": [
    "## test data 6"
   ]
  },
  {
   "cell_type": "code",
   "execution_count": 21,
   "id": "42b74946",
   "metadata": {
    "scrolled": true
   },
   "outputs": [],
   "source": [
    "# define data\n",
    "xobs = [1, 2, 3, 4, 5]\n",
    "yobs = [3, 7, 5, 7, 3]"
   ]
  },
  {
   "cell_type": "code",
   "execution_count": 22,
   "id": "a3cc289d",
   "metadata": {},
   "outputs": [
    {
     "name": "stdout",
     "output_type": "stream",
     "text": [
      "Data\n",
      "xobs = [1, 2, 3, 4, 5]\n",
      "yobs = [3, 7, 5, 7, 3]\n",
      "\n",
      "Model\n",
      "c = [5.0, 0.0]\n",
      "ymod = [5.0, 5.0, 5.0, 5.0, 5.0]\n",
      "\n",
      "Pearson correlation coefficient\n",
      "r =  0.0\n",
      "r2 =  0.0\n",
      "\n",
      "Coefficient of determination\n",
      "R2 =  0.0\n"
     ]
    }
   ],
   "source": [
    "import math\n",
    "\n",
    "N = len(xobs)\n",
    "\n",
    "Sy = sum(yobs)\n",
    "Sx = sum(xobs)\n",
    "Sxx = sum_product(xobs, xobs)\n",
    "Sxy = sum_product(xobs, yobs)\n",
    "\n",
    "c0 = (Sy*Sxx - Sx*Sxy) / (N*Sxx - Sx*Sx)\n",
    "c1 = (N*Sxy - Sx*Sy) / (N*Sxx - Sx*Sx)\n",
    "c = [c0, c1]\n",
    "\n",
    "r = SSab(xobs, yobs) / math.sqrt( SSab(xobs, xobs) * SSab(yobs, yobs) )\n",
    "R2 = 1 - SSres(xobs, yobs, c) / SSab(yobs, yobs)\n",
    "\n",
    "ymod = f(xobs, [c0, c1])\n",
    "\n",
    "print(\"Data\")\n",
    "print(\"xobs =\", xobs)\n",
    "print(\"yobs =\", yobs)\n",
    "print()\n",
    "\n",
    "print(\"Model\")\n",
    "print(\"c =\", c)\n",
    "print(\"ymod =\", ymod)\n",
    "print()\n",
    "\n",
    "print(\"Pearson correlation coefficient\")\n",
    "print(\"r = \", r)\n",
    "print(\"r2 = \", r*r)\n",
    "print()\n",
    "\n",
    "print(\"Coefficient of determination\")\n",
    "print(\"R2 = \", R2)"
   ]
  },
  {
   "cell_type": "code",
   "execution_count": 23,
   "id": "63c97bcf",
   "metadata": {
    "scrolled": true
   },
   "outputs": [
    {
     "data": {
      "image/png": "[encoded data removed]",
      "text/plain": [
       "<Figure size 432x288 with 1 Axes>"
      ]
     },
     "metadata": {
      "needs_background": "light"
     },
     "output_type": "display_data"
    }
   ],
   "source": [
    "import matplotlib.pyplot as plt\n",
    "\n",
    "plt.grid()\n",
    "plt.xlabel(\"x\")\n",
    "plt.ylabel(\"y\")\n",
    "\n",
    "plt.text(1, 6.5, f\"$y$ = {c[0]} + {c[1]}$x$\", fontsize=15)\n",
    "plt.text(1, 6.0, f\"$r$ = {r}\", fontsize=15)\n",
    "plt.text(1, 5.5, f\"$R^2$ = {R2}\", fontsize=15)\n",
    "\n",
    "plt.plot(xobs, yobs, 'ro', xobs, ymod, 'b--')\n",
    "plt.show()"
   ]
  },
  {
   "cell_type": "markdown",
   "id": "9ec5472b",
   "metadata": {},
   "source": [
    "## comparison\n",
    "\n",
    "\n",
    "![](image/lr_1.png) | ![](image/lr_2.png) | ![](image/lr_3.png)\n",
    ":-: | :-: | :-:\n",
    "![](image/lr_4.png) | ![](image/lr_5.png) | ![](image/lr_6.png)"
   ]
  },
  {
   "cell_type": "code",
   "execution_count": null,
   "id": "ba680412",
   "metadata": {},
   "outputs": [],
   "source": []
  }
 ],
 "metadata": {
  "authors": [
   {
    "name": "Sparisoma Viridi"
   }
  ],
  "kernelspec": {
   "display_name": "Python 3 (ipykernel)",
   "language": "python",
   "name": "python3"
  },
  "language_info": {
   "codemirror_mode": {
    "name": "ipython",
    "version": 3
   },
   "file_extension": ".py",
   "mimetype": "text/x-python",
   "name": "python",
   "nbconvert_exporter": "python",
   "pygments_lexer": "ipython3",
   "version": "3.9.12"
  },
  "title": "linear_regression"
 },
 "nbformat": 4,
 "nbformat_minor": 5
}
