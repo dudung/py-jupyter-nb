{
 "cells": [
  {
   "cell_type": "markdown",
   "id": "cca11c7c",
   "metadata": {},
   "source": [
    "# ordinary_differential_equation\n",
    "Very short introduction to ordinary differential equation."
   ]
  },
  {
   "cell_type": "markdown",
   "id": "3da90b4f",
   "metadata": {},
   "source": [
    "## form\n",
    "An ODE (ordinary differential equation) of order $n$ has the form of ([Weisstein, 2023](https://mathworld.wolfram.com/OrdinaryDifferentialEquation.html))\n",
    "\n",
    "$$\\tag{1}\n",
    "F(x, y, y', y\", \\dots, y^{(n)}) = 0,\n",
    "$$"
   ]
  },
  {
   "cell_type": "markdown",
   "id": "5cbf2a4a",
   "metadata": {},
   "source": [
    "or in other form of ([Wikipedia, 2022](https://en.wikipedia.org/w/index.php?oldid=1130502702))\n",
    "\n",
    "$$\\tag{2}\n",
    "a_0(x) y + a_1(x) y' + a_2(x) y\" + \\dots + a_n(x) y^{(n)} + b(x) = 0,\n",
    "$$\n",
    "\n",
    "where\n",
    "\n",
    "$$\\tag{3}\n",
    "y^{(n)} = \\frac{d^n}{dx^n} y(x).\n",
    "$$"
   ]
  },
  {
   "cell_type": "markdown",
   "id": "93c1b8e2",
   "metadata": {},
   "source": [
    "Functions $a_n(x)$ and $b(x)$ must be differentiable but do not need to be linear."
   ]
  },
  {
   "cell_type": "markdown",
   "id": "7859a300",
   "metadata": {},
   "source": [
    "## solution\n",
    "+ In general an ODE can not be solved simply by integrating it, some steps are required ([Nykamp, 2022](https://mathinsight.org/ordinary_differential_equation_introduction)).\n",
    "+ Even it requires numerical approach for many bodies problem.\n",
    "+ Since integration requires constants, ODE can be a IVP (initial value problem) or BVP (boundary value problem)."
   ]
  },
  {
   "cell_type": "code",
   "execution_count": null,
   "id": "7838b150",
   "metadata": {},
   "outputs": [],
   "source": []
  }
 ],
 "metadata": {
  "authors": [
   {
    "name": "Sparisoma Viridi"
   }
  ],
  "kernelspec": {
   "display_name": "Python 3 (ipykernel)",
   "language": "python",
   "name": "python3"
  },
  "language_info": {
   "codemirror_mode": {
    "name": "ipython",
    "version": 3
   },
   "file_extension": ".py",
   "mimetype": "text/x-python",
   "name": "python",
   "nbconvert_exporter": "python",
   "pygments_lexer": "ipython3",
   "version": "3.9.13"
  },
  "title": "ordinary_differential_equation"
 },
 "nbformat": 4,
 "nbformat_minor": 5
}
