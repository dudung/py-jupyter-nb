{
 "cells": [
  {
   "cell_type": "markdown",
   "id": "cca11c7c",
   "metadata": {},
   "source": [
    "# runge_kutta_4_method\n",
    "Very short introduction to Runge-Kutta 4 method."
   ]
  },
  {
   "cell_type": "markdown",
   "id": "a78f644d",
   "metadata": {},
   "source": [
    "$$\\tag{1}\n",
    "\\frac{dy}{dt} = f(t, y),\n",
    "$$"
   ]
  },
  {
   "cell_type": "markdown",
   "id": "c1dbeb68",
   "metadata": {},
   "source": [
    "$$\\tag{2}\n",
    "y(t_0) = y_0.\n",
    "$$"
   ]
  },
  {
   "cell_type": "markdown",
   "id": "ccf5f300",
   "metadata": {},
   "source": [
    "$$\\tag{3}\n",
    "y_{n+1} = y_n + \\frac16 (k_1 + 2k_2 + 3k_3 + k4) h,\n",
    "$$"
   ]
  },
  {
   "cell_type": "markdown",
   "id": "d79e3dc2",
   "metadata": {},
   "source": [
    "$$\\tag{4}\n",
    "t_{n+1} = t_n + h,\n",
    "$$"
   ]
  },
  {
   "cell_type": "markdown",
   "id": "36f9b125",
   "metadata": {},
   "source": [
    "$$\\tag{5}\n",
    "k_1 = f(t_n, y_n)\n",
    "$$"
   ]
  },
  {
   "cell_type": "markdown",
   "id": "f89d36e3",
   "metadata": {},
   "source": [
    "$$\\tag{6}\n",
    "k_2 = f(t_n + \\tfrac12 h, y_n + \\tfrac12 k_1 h)\n",
    "$$"
   ]
  },
  {
   "cell_type": "markdown",
   "id": "060664b6",
   "metadata": {},
   "source": [
    "$$\\tag{7}\n",
    "k_3 = f(t_n + \\tfrac12 h, y_n + \\tfrac12 k_2 h)\n",
    "$$"
   ]
  },
  {
   "cell_type": "markdown",
   "id": "16fcc417",
   "metadata": {},
   "source": [
    "$$\\tag{8}\n",
    "k_4 = f(t_n + h, y_n + k_3 h)\n",
    "$$"
   ]
  },
  {
   "cell_type": "code",
   "execution_count": null,
   "id": "fc7480a0",
   "metadata": {},
   "outputs": [],
   "source": []
  }
 ],
 "metadata": {
  "authors": [
   {
    "name": "Sparisoma Viridi"
   }
  ],
  "kernelspec": {
   "display_name": "Python 3 (ipykernel)",
   "language": "python",
   "name": "python3"
  },
  "language_info": {
   "codemirror_mode": {
    "name": "ipython",
    "version": 3
   },
   "file_extension": ".py",
   "mimetype": "text/x-python",
   "name": "python",
   "nbconvert_exporter": "python",
   "pygments_lexer": "ipython3",
   "version": "3.11.2"
  },
  "title": "runge_kutta_4_method"
 },
 "nbformat": 4,
 "nbformat_minor": 5
}
