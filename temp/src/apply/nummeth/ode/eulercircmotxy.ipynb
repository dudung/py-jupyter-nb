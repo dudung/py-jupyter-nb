{
 "cells": [
  {
   "cell_type": "markdown",
   "id": "cca11c7c",
   "metadata": {},
   "source": [
    "\n",
    "# eulercircmotxy\n",
    "Module for circular motion in xy coordinate with Euler algorithm."
   ]
  },
  {
   "cell_type": "markdown",
   "id": "a117a3ed",
   "metadata": {},
   "source": [
    "## magnetic force on moving charge"
   ]
  },
  {
   "cell_type": "code",
   "execution_count": null,
   "id": "7e538948",
   "metadata": {},
   "outputs": [],
   "source": [
    "import math\n",
    "def position(m, q, v, B, tbeg, tend, N, math=math):\n",
    "    Bx = B[0]\n",
    "    By = B[1]\n",
    "    Bz = B[2]\n",
    "    B = math.sqrt(Bx**2 + By**2 + Bz**2)\n",
    "\n",
    "    q = q\n",
    "    m = m\n",
    "\n",
    "    vx = v[0]\n",
    "    vy = v[1]\n",
    "    vz = v[2]\n",
    "    v = math.sqrt(vx**2 + vy**2 + vz**2)\n",
    "\n",
    "    R = (m * v) / (q * B)\n",
    "    x = R\n",
    "    y = 0\n",
    "    z = 0\n",
    "\n",
    "    #T = 2 * math.pi * R / v\n",
    "    tbeg = tbeg\n",
    "    tend = tend #2 * T\n",
    "    N = N\n",
    "    dt = (tend - tbeg) / N\n",
    "\n",
    "    tt = []\n",
    "    xx = []\n",
    "    yy = []\n",
    "    zz = []\n",
    "    for i in range(N + 1):\n",
    "        t = i * dt\n",
    "\n",
    "        ax = q * (vy * Bz - vz * By)\n",
    "        ay = q * (vz * Bx - vx * Bz)\n",
    "        az = q * (vx * By - vy * Bx)\n",
    "\n",
    "        vx = vx + ax * dt\n",
    "        vy = vy + ay * dt\n",
    "        vz = vz + az * dt\n",
    "\n",
    "        x = x + vx * dt\n",
    "        y = y + vy * dt\n",
    "        z = z + vz * dt\n",
    "\n",
    "        tt.append(t)\n",
    "        xx.append(x)\n",
    "        yy.append(y)\n",
    "        zz.append(z)\n",
    "    return tt, xx, yy, zz"
   ]
  },
  {
   "cell_type": "code",
   "execution_count": null,
   "id": "4bd04a4a",
   "metadata": {},
   "outputs": [],
   "source": []
  }
 ],
 "metadata": {
  "authors": [
   {
    "name": "Sparisoma Viridi"
   }
  ],
  "kernelspec": {
   "display_name": "Python 3 (ipykernel)",
   "language": "python",
   "name": "python3"
  },
  "language_info": {
   "codemirror_mode": {
    "name": "ipython",
    "version": 3
   },
   "file_extension": ".py",
   "mimetype": "text/x-python",
   "name": "python",
   "nbconvert_exporter": "python",
   "pygments_lexer": "ipython3",
   "version": "3.11.2"
  },
  "title": "eulercircmotxy"
 },
 "nbformat": 4,
 "nbformat_minor": 5
}
