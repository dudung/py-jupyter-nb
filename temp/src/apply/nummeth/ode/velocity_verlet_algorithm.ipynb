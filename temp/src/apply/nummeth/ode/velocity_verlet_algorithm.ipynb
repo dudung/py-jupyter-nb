{
 "cells": [
  {
   "cell_type": "markdown",
   "id": "cca11c7c",
   "metadata": {},
   "source": [
    "# velocity_verlet_algorithm\n",
    "Very short introduction to velocity Verlet algorithm."
   ]
  },
  {
   "cell_type": "markdown",
   "id": "a117a3ed",
   "metadata": {},
   "source": [
    "$$\\tag{1}\n",
    "a(t) = \\frac{1}{m} F(x(t))\n",
    "$$"
   ]
  },
  {
   "cell_type": "markdown",
   "id": "9e41294d",
   "metadata": {},
   "source": [
    "$$\\tag{2}\n",
    "x(t + \\Delta t) = x(t) + v(t) \\Delta t + \\tfrac12 a(t) \\Delta t^2\n",
    "$$"
   ]
  },
  {
   "cell_type": "markdown",
   "id": "30c645f8",
   "metadata": {},
   "source": [
    "$$\\tag{3}\n",
    "a(t + \\Delta t) = F(x(t + \\Delta t))\n",
    "$$"
   ]
  },
  {
   "cell_type": "markdown",
   "id": "75474b3f",
   "metadata": {},
   "source": [
    "$$\\tag{4}\n",
    "v(t + \\Delta t) = v(t) + \\tfrac12 [ a(t) + a(t + \\Delta t) ]\n",
    "$$"
   ]
  },
  {
   "cell_type": "code",
   "execution_count": null,
   "id": "9402f2fd",
   "metadata": {},
   "outputs": [],
   "source": []
  }
 ],
 "metadata": {
  "authors": [
   {
    "name": "Sparisoma Viridi"
   }
  ],
  "kernelspec": {
   "display_name": "Python 3 (ipykernel)",
   "language": "python",
   "name": "python3"
  },
  "language_info": {
   "codemirror_mode": {
    "name": "ipython",
    "version": 3
   },
   "file_extension": ".py",
   "mimetype": "text/x-python",
   "name": "python",
   "nbconvert_exporter": "python",
   "pygments_lexer": "ipython3",
   "version": "3.11.2"
  },
  "title": "velocity_verlet_algorithm"
 },
 "nbformat": 4,
 "nbformat_minor": 5
}
