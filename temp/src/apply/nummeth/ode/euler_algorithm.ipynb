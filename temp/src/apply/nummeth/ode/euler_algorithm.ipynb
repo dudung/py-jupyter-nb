{
 "cells": [
  {
   "cell_type": "markdown",
   "id": "cca11c7c",
   "metadata": {},
   "source": [
    "# euler_algorithm\n",
    "Very short introduction to Euler algorithm."
   ]
  },
  {
   "cell_type": "markdown",
   "id": "a117a3ed",
   "metadata": {},
   "source": [
    "$$\n",
    "y_{n + 1} = y_n + h f(t_n, y_n),\n",
    "$$\n",
    "\n",
    "$$\n",
    "y' = f(t, y(t)),\n",
    "$$\n",
    "\n",
    "$$\n",
    "y_n = y(t_n),\n",
    "$$\n",
    "\n",
    "$$\n",
    "t_n = t_0 + n \\Delta t, n = 0, 1, \\dots, m,\n",
    "$$\n",
    "\n",
    "$$\n",
    "h \\equiv \\Delta t = \\frac{t_m - t_0}{m}.\n",
    "$$\n",
    "\n"
   ]
  },
  {
   "cell_type": "code",
   "execution_count": null,
   "id": "7e538948",
   "metadata": {},
   "outputs": [],
   "source": []
  }
 ],
 "metadata": {
  "authors": [
   {
    "name": "Sparisoma Viridi"
   }
  ],
  "kernelspec": {
   "display_name": "Python 3 (ipykernel)",
   "language": "python",
   "name": "python3"
  },
  "language_info": {
   "codemirror_mode": {
    "name": "ipython",
    "version": 3
   },
   "file_extension": ".py",
   "mimetype": "text/x-python",
   "name": "python",
   "nbconvert_exporter": "python",
   "pygments_lexer": "ipython3",
   "version": "3.10.10"
  },
  "title": "euler_algorithm"
 },
 "nbformat": 4,
 "nbformat_minor": 5
}
