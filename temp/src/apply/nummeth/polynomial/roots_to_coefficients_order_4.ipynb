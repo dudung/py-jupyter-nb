{
 "cells": [
  {
   "cell_type": "markdown",
   "id": "cca11c7c",
   "metadata": {},
   "source": [
    "# roots_to_coefficients_order_4\n",
    "Relation between roots and polynomial coefficients\n",
    "<br>Refs: [Polynomial Roots and Coefficients](https://www.youtube.com/watch?v=7xCJrTc366k)"
   ]
  },
  {
   "cell_type": "markdown",
   "id": "a975d482",
   "metadata": {},
   "source": [
    "## polynomial\n",
    "A polynomial can be written in the form of\n",
    "\n",
    "$$\\tag{1}\n",
    "f(x) = \\sum_{n = 0}^N c_n x^n\n",
    "$$\n",
    "\n",
    "or\n",
    "\n",
    "$$\\tag{2}\n",
    "f(x) = \\prod_{m = 1}^M (x - x_m),\n",
    "$$\n",
    "\n",
    "where $x_m$ is m-th root and $N = M$ is order of polynomial."
   ]
  },
  {
   "cell_type": "markdown",
   "id": "95687ab7",
   "metadata": {},
   "source": [
    "## usual notation for N = M = 1\n",
    "Since\n",
    "\n",
    "$$\\tag{3}\n",
    "f(x) = ax + b\n",
    "$$\n",
    "\n",
    "and\n",
    "\n",
    "$$\\tag{4}\n",
    "f(x) = (x - \\alpha)\n",
    "$$\n",
    "\n",
    "then it can be obtained that\n",
    "\n",
    "$$\\tag{4}\n",
    "\\alpha = - \\frac{b}{a}\n",
    "$$\n",
    "\n",
    "is the only root of Eqn (3) and (4)."
   ]
  },
  {
   "cell_type": "markdown",
   "id": "14b5090f",
   "metadata": {},
   "source": [
    "## usual notation for N = M = 2\n",
    "Since\n",
    "\n",
    "$$\\tag{5}\n",
    "f(x) = ax^2 + bx + c\n",
    "$$\n",
    "\n",
    "and\n",
    "\n",
    "$$\\tag{6}\n",
    "f(x) = (x - \\alpha)(x - \\beta)\n",
    "$$\n",
    "\n",
    "then it can be obtained that\n",
    "\n",
    "$$\\tag{7}\n",
    "\\alpha + \\beta = -\\frac{b}{a}\n",
    "$$\n",
    "\n",
    "and\n",
    "\n",
    "$$\\tag{8}\n",
    "\\alpha \\beta = \\frac{c}{a}\n",
    "$$\n",
    "\n",
    "which showing the relation between coefficients of Eqn (5) and roots of Eqn (6)."
   ]
  },
  {
   "cell_type": "markdown",
   "id": "48d25a7f",
   "metadata": {},
   "source": [
    "## usual notation for N = M = 3\n",
    "Since\n",
    "\n",
    "$$\\tag{9}\n",
    "f(x) = ax^3 + bx^2 + cx + d\n",
    "$$\n",
    "\n",
    "and\n",
    "\n",
    "$$\\tag{10}\n",
    "f(x) = (x - \\alpha)(x - \\beta)(x - \\gamma)\n",
    "$$\n",
    "\n",
    "then it can be obtained that\n",
    "\n",
    "$$\\tag{11}\n",
    "\\alpha + \\beta + \\gamma = -\\frac{b}{a},\n",
    "$$\n",
    "\n",
    "$$\\tag{12}\n",
    "\\alpha \\beta + \\alpha \\gamma + \\beta \\gamma = \\frac{c}{a}\n",
    "$$\n",
    "\n",
    "and\n",
    "\n",
    "$$\\tag{13}\n",
    "\\alpha \\beta \\gamma = -\\frac{d}{a}\n",
    "$$\n",
    "\n",
    "which showing the relation between coefficients of Eqn (5) and roots of Eqn (6)."
   ]
  },
  {
   "cell_type": "markdown",
   "id": "b7c0c13c",
   "metadata": {},
   "source": [
    "## usual notation for N = M = 4\n",
    "Since\n",
    "\n",
    "$$\\tag{14}\n",
    "f(x) = ax^4 + bx^3 + cx^2 + dx + e\n",
    "$$\n",
    "\n",
    "and\n",
    "\n",
    "$$\\tag{15}\n",
    "f(x) = (x - \\alpha)(x - \\beta)(x - \\gamma)(x - \\delta)\n",
    "$$\n",
    "\n",
    "then it can be obtained that\n",
    "\n",
    "$$\\tag{16}\n",
    "\\alpha + \\beta + \\gamma + \\delta = -\\frac{b}{a},\n",
    "$$\n",
    "\n",
    "$$\\tag{17}\n",
    "\\alpha \\beta + \\alpha \\gamma + \\alpha \\delta + \\beta \\gamma + \\beta \\delta + \\gamma \\delta = \\frac{c}{a},\n",
    "$$\n",
    "\n",
    "$$\\tag{18}\n",
    "\\alpha \\beta \\gamma + \\alpha \\beta \\delta + \\alpha \\gamma \\delta + \\beta \\gamma \\delta = -\\frac{d}{a}\n",
    "$$\n",
    "\n",
    "and\n",
    "\n",
    "$$\\tag{19}\n",
    "\\alpha \\beta \\gamma \\delta = \\frac{e}{a}\n",
    "$$\n",
    "\n",
    "which showing the relation between coefficients of Eqn (5) and roots of Eqn (6)."
   ]
  },
  {
   "cell_type": "markdown",
   "id": "1ec9c8ee",
   "metadata": {},
   "source": [
    "## pattern\n",
    "From Eqns (3) - (19) notice the alternating sign of $-b/a$, $c/a$, $-d/a$, $e/a$, and then it must be $-f/a$, $g/a$, $-h/a$, ... This becomes wierd since coefficient $f$ is already used for function $f(x)$."
   ]
  },
  {
   "cell_type": "code",
   "execution_count": 1,
   "id": "4ac77aeb",
   "metadata": {},
   "outputs": [
    {
     "name": "stdout",
     "output_type": "stream",
     "text": [
      "roots = [0, 0, 2, 1]\n",
      "coefs = [0, 0, 2, -3, 1]\n"
     ]
    }
   ],
   "source": [
    "roots = [0, 0, 2, 1]\n",
    "N = len(roots)\n",
    "\n",
    "a = 1\n",
    "\n",
    "b_a = 0\n",
    "for i in range(N):\n",
    "    b_a += -roots[i]\n",
    "\n",
    "c_a = 0\n",
    "for i in range(N):\n",
    "    for j in range(i + 1, N):\n",
    "        c_a += roots[i] * roots[j]\n",
    "\n",
    "d_a = 0\n",
    "for i in range(N):\n",
    "    for j in range(i + 1, N):\n",
    "        for k in range(j + 1, N):\n",
    "            d_a = -roots[i]*roots[j]*roots[k]\n",
    "e_a = 0\n",
    "for i in range(N):\n",
    "    for j in range(i + 1, N):\n",
    "        for k in range(j + 1, N):\n",
    "            for l in range(k + 1, N):\n",
    "                e_a = -roots[i]*roots[j]*roots[k]*roots[k]\n",
    "\n",
    "coefs = [e_a * a, d_a * a, c_a * a, b_a * a, a]\n",
    "\n",
    "print(\"roots =\", roots)\n",
    "print(\"coefs =\", coefs)"
   ]
  },
  {
   "cell_type": "markdown",
   "id": "6cf8d98a",
   "metadata": {},
   "source": [
    "Above code is only for Eqns (14) and (15), and has not yet been generalized for polynomial of $N$-th order. It can be used for $1 \\le N \\le 4$, where for $N < 4$ just set other roots to be zero."
   ]
  },
  {
   "cell_type": "code",
   "execution_count": null,
   "id": "27912394",
   "metadata": {},
   "outputs": [],
   "source": []
  }
 ],
 "metadata": {
  "authors": [
   {
    "name": "Sparisoma Viridi"
   }
  ],
  "kernelspec": {
   "display_name": "Python 3 (ipykernel)",
   "language": "python",
   "name": "python3"
  },
  "language_info": {
   "codemirror_mode": {
    "name": "ipython",
    "version": 3
   },
   "file_extension": ".py",
   "mimetype": "text/x-python",
   "name": "python",
   "nbconvert_exporter": "python",
   "pygments_lexer": "ipython3",
   "version": "3.9.12"
  },
  "title": "roots_to_coefficients_order_4"
 },
 "nbformat": 4,
 "nbformat_minor": 5
}
