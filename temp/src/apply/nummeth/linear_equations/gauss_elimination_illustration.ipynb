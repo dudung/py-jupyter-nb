{
 "cells": [
  {
   "cell_type": "markdown",
   "id": "cca11c7c",
   "metadata": {},
   "source": [
    "# gauss_elimination_illustration\n",
    "Illustration of solving linear equations using Gauss elimination."
   ]
  },
  {
   "cell_type": "markdown",
   "id": "3da90b4f",
   "metadata": {},
   "source": [
    "## example\n",
    "Suppose there are three equations as follow\n",
    "\n",
    "$$\\tag{1}\n",
    "\\begin{eqnarray}\n",
    "x + 2y + 2z = 11, \\newline\n",
    "2x + 6y + z = 17, \\newline\n",
    "x + y + 4z = 15,\n",
    "\\end{eqnarray}\n",
    "$$\n",
    "\n",
    "where the goal is to obtain $x$, $y$, and $z$."
   ]
  },
  {
   "cell_type": "markdown",
   "id": "262979ca",
   "metadata": {},
   "source": [
    "## matrix form\n",
    "Eqn (1) can be written the matrix form as follow\n",
    "\n",
    "$$\\tag{2}\n",
    "\\mathbf{A} \\mathbf{x} = \\mathbf{b},\n",
    "$$\n",
    "\n",
    "where\n",
    "\n",
    "$$\\tag{3}\n",
    "\\mathbf{A} = \\left[\n",
    "\\begin{array}{ccc}\n",
    "1 & 2 & 2 \\newline\n",
    "2 & 6 & 1 \\newline\n",
    "1 & 1 & 4\n",
    "\\end{array}\n",
    "\\right]\n",
    "$$\n",
    "\n",
    "$$\\tag{4}\n",
    "\\mathbf{x} = \\left[\n",
    "\\begin{array}{c}\n",
    "x \\newline\n",
    "y \\newline\n",
    "z\n",
    "\\end{array}\n",
    "\\right]\n",
    "$$\n",
    "\n",
    "and\n",
    "\n",
    "$$\\tag{5}\n",
    "\\mathbf{b} = \\left[\n",
    "\\begin{array}{c}\n",
    "11 \\newline\n",
    "17 \\newline\n",
    "15\n",
    "\\end{array}\n",
    "\\right]\n",
    "$$\n"
   ]
  },
  {
   "cell_type": "markdown",
   "id": "031cef99",
   "metadata": {},
   "source": [
    "## augmented matrix\n",
    "Since elementary row operations, while performing Gauss elemination, affect both sides of the equations, it is more convenient to write an augmented matrix\n",
    "\n",
    "$$\\tag{6}\n",
    "\\mathbf{M} = [ \\mathbf{A} | \\mathbf{b} ],\n",
    "$$\n",
    "\n",
    "which is\n",
    "\n",
    "$$\\tag{7}\n",
    "\\left[\n",
    "\\begin{array}{ccc|c}\n",
    "1 & 2 & 2 & 11 \\newline\n",
    "2 & 6 & 1 & 17 \\newline\n",
    "1 & 1 & 4 & 15\n",
    "\\end{array}\n",
    "\\right]\n",
    "$$\n",
    "\n",
    "for this case. The $n$-th row is referred as $R_n$, e.g. $R_2 = [2 \\ \\ 6 \\ \\ 1 \\ \\ | \\ 17]$. "
   ]
  },
  {
   "cell_type": "markdown",
   "id": "d2046dcf",
   "metadata": {},
   "source": [
    "## iteration 1\n",
    "Use $m_{11}$ as pivot to zero $m_{21}$ and $m_{31}$ through elementary row operations."
   ]
  },
  {
   "cell_type": "markdown",
   "id": "4db3d179",
   "metadata": {},
   "source": [
    "### pivot choice\n",
    "To fin $m_{ij}$ is maximal is the most common practice, then swap its row with the 1st row, which gives\n",
    "\n",
    "$$\\tag{8}\n",
    "\\left[\n",
    "\\begin{array}{ccc|c}\n",
    "2 & 6 & 1 & 17 \\newline\n",
    "1 & 2 & 2 & 11 \\newline\n",
    "1 & 1 & 4 & 15\n",
    "\\end{array}\n",
    "\\right]\n",
    "$$\n",
    "\n",
    "as new augmented matrix with pivot is $m_{ii}$ or along the diagonal of left part."
   ]
  },
  {
   "cell_type": "markdown",
   "id": "125f370a",
   "metadata": {},
   "source": [
    "### r2\n",
    "$$\\tag{9}\n",
    "\\left[\n",
    "\\begin{array}{ccc|c}\n",
    "2 & 6 & 1 & 17 \\newline\n",
    "1 & 2 & 2 & 11 \\newline\n",
    "1 & 1 & 4 & 15\n",
    "\\end{array}\n",
    "\\right]\n",
    "\\xrightarrow{R_2 = R_1 - 2 R_2}\n",
    "\\left[\n",
    "\\begin{array}{ccc|c}\n",
    "2 & 6 & 1 & 17 \\newline\n",
    "0 & 2 & -3 & -5 \\newline\n",
    "1 & 1 & 4 & 15\n",
    "\\end{array}\n",
    "\\right]\n",
    "$$"
   ]
  },
  {
   "cell_type": "markdown",
   "id": "b0ed3ee9",
   "metadata": {},
   "source": [
    "### r3\n",
    "$$\\tag{9}\n",
    "\\left[\n",
    "\\begin{array}{ccc|c}\n",
    "2 & 6 & 1 & 17 \\newline\n",
    "0 & 2 & -3 & -5 \\newline\n",
    "1 & 1 & 4 & 15\n",
    "\\end{array}\n",
    "\\right]\n",
    "\\xrightarrow{R_3 = R_1 - 2 R_3}\n",
    "\\left[\n",
    "\\begin{array}{ccc|c}\n",
    "2 & 6 & 1 & 17 \\newline\n",
    "0 & 2 & -3 & -5 \\newline\n",
    "0 & 4 & -7 & -13\n",
    "\\end{array}\n",
    "\\right]\n",
    "$$"
   ]
  },
  {
   "cell_type": "markdown",
   "id": "200e91e9",
   "metadata": {},
   "source": [
    "## iteration 2\n",
    "Use $m_{22}$ as pivot to zero $m_{32}$ through elementary row operations."
   ]
  },
  {
   "cell_type": "markdown",
   "id": "6822279c",
   "metadata": {},
   "source": [
    "### pivot choice\n",
    "To fin $m_{ij}$ (beside 1st row) is maximal is the most common practice, then swap its row with the 2nd row, which gives\n",
    "\n",
    "$$\\tag{8}\n",
    "\\left[\n",
    "\\begin{array}{ccc|c}\n",
    "2 & 6 & 1 & 17 \\newline\n",
    "0 & 4 & -7 & -13 \\newline\n",
    "0 & 2 & -3 & -5\n",
    "\\end{array}\n",
    "\\right]\n",
    "$$\n",
    "\n",
    "as new augmented matrix with pivot is $m_{ii}$ or along the diagonal of left part."
   ]
  },
  {
   "cell_type": "markdown",
   "id": "47a2e79c",
   "metadata": {},
   "source": [
    "### r3\n",
    "$$\\tag{9}\n",
    "\\left[\n",
    "\\begin{array}{ccc|c}\n",
    "2 & 6 & 1 & 17 \\newline\n",
    "0 & 4 & -7 & -13 \\newline\n",
    "0 & 2 & -3 & -5\n",
    "\\end{array}\n",
    "\\right]\n",
    "\\xrightarrow{R_3 = R_2 - 2 R_3}\n",
    "\\left[\n",
    "\\begin{array}{ccc|c}\n",
    "2 & 6 & 1 & 17 \\newline\n",
    "0 & 2 & -3 & -5 \\newline\n",
    "0 & 0 & -1 & -3\n",
    "\\end{array}\n",
    "\\right]\n",
    "$$"
   ]
  },
  {
   "cell_type": "markdown",
   "id": "b72f4715",
   "metadata": {},
   "source": [
    "If the upper triangular matrix can be found, then matrix $\\mathbf{A}$ is called non-singular."
   ]
  },
  {
   "cell_type": "markdown",
   "id": "3c5f64d1",
   "metadata": {},
   "source": [
    "## iteration 3\n",
    "Back substitution using 3rd row."
   ]
  },
  {
   "cell_type": "markdown",
   "id": "b1fdfec0",
   "metadata": {},
   "source": [
    "### r1\n",
    "$$\\tag{10}\n",
    "\\left[\n",
    "\\begin{array}{ccc|c}\n",
    "2 & 6 & 1 & 17 \\newline\n",
    "0 & 2 & -3 & -5 \\newline\n",
    "0 & 0 & -1 & -3\n",
    "\\end{array}\n",
    "\\right]\n",
    "\\xrightarrow{R_1 = R_1 - (-1) R_3}\n",
    "\\left[\n",
    "\\begin{array}{ccc|c}\n",
    "2 & 6 & 0 & 14 \\newline\n",
    "0 & 2 & -3 & -5 \\newline\n",
    "0 & 0 & -1 & -3\n",
    "\\end{array}\n",
    "\\right]\n",
    "$$"
   ]
  },
  {
   "cell_type": "markdown",
   "id": "211b7395",
   "metadata": {},
   "source": [
    "### r2\n",
    "$$\\tag{11}\n",
    "\\left[\n",
    "\\begin{array}{ccc|c}\n",
    "2 & 6 & 0 & 14 \\newline\n",
    "0 & 2 & -3 & -5 \\newline\n",
    "0 & 0 & -1 & -3\n",
    "\\end{array}\n",
    "\\right]\n",
    "\\xrightarrow{R_2= R_2 - 3 R_3}\n",
    "\\left[\n",
    "\\begin{array}{ccc|c}\n",
    "2 & 6 & 0 & 14 \\newline\n",
    "0 & 2 & 0 & 4 \\newline\n",
    "0 & 0 & -1 & -3\n",
    "\\end{array}\n",
    "\\right]\n",
    "$$"
   ]
  },
  {
   "cell_type": "markdown",
   "id": "9d7e1644",
   "metadata": {},
   "source": [
    "### r1\n",
    "$$\\tag{12}\n",
    "\\left[\n",
    "\\begin{array}{ccc|c}\n",
    "2 & 6 & 0 & 14 \\newline\n",
    "0 & 2 & 0 & 4 \\newline\n",
    "0 & 0 & -1 & -3\n",
    "\\end{array}\n",
    "\\right]\n",
    "\\xrightarrow{R_1 = R_1 - 3 R_2}\n",
    "\\left[\n",
    "\\begin{array}{ccc|c}\n",
    "2 & 0 & 0 & 2 \\newline\n",
    "0 & 2 & 0 & 4 \\newline\n",
    "0 & 0 & -1 & -3\n",
    "\\end{array}\n",
    "\\right]\n",
    "$$"
   ]
  },
  {
   "cell_type": "markdown",
   "id": "04813135",
   "metadata": {},
   "source": [
    "## iteration 4\n",
    "Divide $n$-th row with $m_{nn}$."
   ]
  },
  {
   "cell_type": "markdown",
   "id": "7aa614ee",
   "metadata": {},
   "source": [
    "### r1\n",
    "$$\\tag{13}\n",
    "\\left[\n",
    "\\begin{array}{ccc|c}\n",
    "2 & 0 & 0 & 2 \\newline\n",
    "0 & 2 & 0 & 4 \\newline\n",
    "0 & 0 & -1 & -3\n",
    "\\end{array}\n",
    "\\right]\n",
    "\\xrightarrow{\\displaystyle R_1 = \\frac{R_1}{m_{11}}}\n",
    "\\left[\n",
    "\\begin{array}{ccc|c}\n",
    "1 & 0 & 0 & 1 \\newline\n",
    "0 & 2 & 0 & 4 \\newline\n",
    "0 & 0 & -1 & -3\n",
    "\\end{array}\n",
    "\\right]\n",
    "$$"
   ]
  },
  {
   "cell_type": "markdown",
   "id": "c375fc8b",
   "metadata": {},
   "source": [
    "### r2\n",
    "$$\\tag{14}\n",
    "\\left[\n",
    "\\begin{array}{ccc|c}\n",
    "1 & 0 & 0 & 1 \\newline\n",
    "0 & 2 & 0 & 4 \\newline\n",
    "0 & 0 & -1 & -3\n",
    "\\end{array}\n",
    "\\right]\n",
    "\\xrightarrow{\\displaystyle R_2 = \\frac{R_2}{m_{22}}}\n",
    "\\left[\n",
    "\\begin{array}{ccc|c}\n",
    "1 & 0 & 0 & 1 \\newline\n",
    "0 & 1 & 0 & 2 \\newline\n",
    "0 & 0 & -1 & -3\n",
    "\\end{array}\n",
    "\\right]\n",
    "$$"
   ]
  },
  {
   "cell_type": "markdown",
   "id": "0c817a14",
   "metadata": {},
   "source": [
    "### r3\n",
    "$$\\tag{15}\n",
    "\\left[\n",
    "\\begin{array}{ccc|c}\n",
    "1 & 0 & 0 & 1 \\newline\n",
    "0 & 1 & 0 & 2 \\newline\n",
    "0 & 0 & -1 & -3\n",
    "\\end{array}\n",
    "\\right]\n",
    "\\xrightarrow{\\displaystyle R_3 = \\frac{R_3}{a_{33}}}\n",
    "\\left[\n",
    "\\begin{array}{ccc|c}\n",
    "1 & 0 & 0 & 1 \\newline\n",
    "0 & 1 & 0 & 2 \\newline\n",
    "0 & 0 & 1 & 3\n",
    "\\end{array}\n",
    "\\right]\n",
    "$$"
   ]
  },
  {
   "cell_type": "markdown",
   "id": "7b15bcff",
   "metadata": {},
   "source": [
    "## solution\n",
    "The solution is\n",
    "$$\\tag{16}\n",
    "\\begin{eqnarray}\n",
    "x = m_{14}, \\newline\n",
    "y = m_{24}, \\newline\n",
    "z = m_{34}.\n",
    "\\end{eqnarray}\n",
    "$$"
   ]
  },
  {
   "cell_type": "markdown",
   "id": "d73c056b",
   "metadata": {},
   "source": [
    "## function templates"
   ]
  },
  {
   "cell_type": "code",
   "execution_count": 1,
   "id": "b99137ca",
   "metadata": {},
   "outputs": [],
   "source": [
    "def swap_row():\n",
    "    pass\n",
    "\n",
    "def zero_column():\n",
    "    pass\n",
    "\n",
    "def substitute_back():\n",
    "    pass"
   ]
  },
  {
   "cell_type": "code",
   "execution_count": null,
   "id": "cc3bcaf6",
   "metadata": {},
   "outputs": [],
   "source": []
  }
 ],
 "metadata": {
  "authors": [
   {
    "name": "Sparisoma Viridi"
   }
  ],
  "kernelspec": {
   "display_name": "Python 3 (ipykernel)",
   "language": "python",
   "name": "python3"
  },
  "language_info": {
   "codemirror_mode": {
    "name": "ipython",
    "version": 3
   },
   "file_extension": ".py",
   "mimetype": "text/x-python",
   "name": "python",
   "nbconvert_exporter": "python",
   "pygments_lexer": "ipython3",
   "version": "3.9.12"
  },
  "title": "reading_materials"
 },
 "nbformat": 4,
 "nbformat_minor": 5
}
