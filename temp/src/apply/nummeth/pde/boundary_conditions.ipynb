{
 "cells": [
  {
   "cell_type": "markdown",
   "id": "cca11c7c",
   "metadata": {},
   "source": [
    "# boundary_conditions\n",
    "Very short introduction to boundary conditions for partial differential equation."
   ]
  },
  {
   "cell_type": "markdown",
   "id": "9a102c27",
   "metadata": {},
   "source": [
    "## definition\n",
    "Boundary conditions (BCs) are constraints necessary for the solution of a bondary value problem, which can be in the form of differential equation (DE) to be solved in a domain on whose boundary a set of conditions is known ([SimScale, 2023](https://www.simscale.com/docs/simwiki/numerics-background/what-are-boundary-conditions/)), where the DE can be partial differential equation (PDE) or simply ordinary differential equation (ODE)."
   ]
  },
  {
   "cell_type": "markdown",
   "id": "ab7d9e01",
   "metadata": {},
   "source": [
    "Usually a domain is illustrated by a region simbolized with $\\Omega$, while its boundary is by closed curve symbolized with $\\partial \\Omega$."
   ]
  },
  {
   "cell_type": "markdown",
   "id": "081960cf",
   "metadata": {},
   "source": [
    "There are five types of BCs:\n",
    "+ Dirichlet boundary condition (type I),\n",
    "+ Neumann boundary condition (type II),\n",
    "+ Robin boundary condition (type III),\n",
    "+ Mixed boundary condition.\n",
    "+ Cauchy boundary condition."
   ]
  },
  {
   "cell_type": "markdown",
   "id": "3e633edb",
   "metadata": {},
   "source": [
    "As example, Laplace equation in the form of ([SimScale, 2023](https://www.simscale.com/docs/simwiki/numerics-background/what-are-boundary-conditions/))\n",
    "\n",
    "$$\\tag{1}\n",
    "\\nabla^2 u (\\vec{x}) = 0, \\ \\ \\ \\ \\forall \\vec{x} \\in \\Omega\n",
    "$$\n",
    "\n",
    "and a simple ODE ([Multiphysics, [2023]](http://www.multiphysics.us/BC.html))\n",
    "\n",
    "$$\\tag{2}\n",
    "\\frac{du}{dx} + u = 0, \\ \\ \\ \\ x \\in [a, b].\n",
    "$$"
   ]
  },
  {
   "cell_type": "markdown",
   "id": "f9ee7826",
   "metadata": {},
   "source": [
    "## dirichlet b.c.\n",
    "$$ \\tag{1a}\n",
    "u(\\vec{x}) = f(\\vec{x}), \\ \\ \\ \\ \\forall \\vec{x} \\in \\partial \\Omega.\n",
    "$$\n",
    "\n",
    "and\n",
    "\n",
    "$$ \\tag{2a}\n",
    "u(a) = A, \\ \\ \\ \\ u(b) = B.\n",
    "$$\n"
   ]
  },
  {
   "cell_type": "markdown",
   "id": "1a5686b0",
   "metadata": {},
   "source": [
    "## neumann b.c.\n",
    "$$ \\tag{1b}\n",
    "\\frac{\\partial u(\\vec{x})}{\\partial n} = f(\\vec{x}), \\ \\ \\ \\ \\forall \\vec{x} \\in \\partial \\Omega.\n",
    "$$\n",
    "\n",
    "and\n",
    "\n",
    "$$ \\tag{2b}\n",
    "u'(a) = \\alpha, \\ \\ \\ \\ u'(b) = \\beta.\n",
    "$$\n"
   ]
  },
  {
   "cell_type": "markdown",
   "id": "2799a4b0",
   "metadata": {},
   "source": [
    "## robin b.c.\n",
    "$$ \\tag{1c}\n",
    "c_1 u(\\vec{x}) + c_2 \\frac{\\partial u(\\vec{x})}{\\partial n} = f(\\vec{x}), \\ \\ \\ \\ \\forall \\vec{x} \\in \\partial \\Omega.\n",
    "$$\n",
    "\n",
    "and\n",
    "\n",
    "$$ \\tag{2c}\n",
    "c_1 u(a) + c_2 u'(a) = A_\\alpha, \\ \\ \\ \\ c_1 u(b) + c_2 u'(b) = B_\\beta.\n",
    "$$\n"
   ]
  },
  {
   "cell_type": "markdown",
   "id": "caf307b1",
   "metadata": {},
   "source": [
    "## mixed b.c.\n",
    "$$ \\tag{1d}\n",
    "\\begin{array}{rcl}\n",
    "u(\\vec{x}) & = & f(\\vec{x}), \\ \\ \\ \\ \\forall \\vec{x} \\in \\partial \\Omega_1, \\newline\n",
    "\\displaystyle \\frac{\\partial u(\\vec{x})}{\\partial n} & = & g(\\vec{x}), \\ \\ \\ \\ \\forall \\vec{x} \\in \\partial \\Omega_2 \\newline\n",
    "\\partial \\Omega & = & \\partial \\Omega_1 \\cup \\partial \\Omega_2, \\newline\n",
    " \\emptyset & = & \\partial \\Omega_1 \\cap \\partial \\Omega_2,\n",
    "\\end{array}\n",
    "$$\n",
    "\n",
    "and\n",
    "\n",
    "$$ \\tag{2d}\n",
    "u(a) = A, \\ \\ \\ \\ u'(b) = \\beta.\n",
    "$$\n"
   ]
  },
  {
   "cell_type": "markdown",
   "id": "9694c277",
   "metadata": {},
   "source": [
    "## cauchy b.c.\n",
    "$$ \\tag{1d}\n",
    "\\begin{array}{rcl}\n",
    "u(\\vec{x}) & = & f(\\vec{x}), \\ \\ \\ \\ \\forall \\vec{x} \\in \\partial \\Omega_1, \\newline\n",
    "\\displaystyle \\frac{\\partial u(\\vec{x})}{\\partial n} & = & g(\\vec{x}), \\ \\ \\ \\ \\forall \\vec{x} \\in \\partial \\Omega_1 \\newline\n",
    "\\partial \\Omega & = & \\partial \\Omega_1 \\cup \\partial \\Omega_2, \\newline\n",
    " \\emptyset & = & \\partial \\Omega_1 \\cap \\partial \\Omega_2,\n",
    "\\end{array}\n",
    "$$\n",
    "\n",
    "and\n",
    "\n",
    "$$ \\tag{2d}\n",
    "u(a) = A, \\ \\ \\ \\ u'(a) = \\alpha.\n",
    "$$\n"
   ]
  },
  {
   "cell_type": "code",
   "execution_count": null,
   "id": "70055592",
   "metadata": {},
   "outputs": [],
   "source": []
  }
 ],
 "metadata": {
  "authors": [
   {
    "name": "Sparisoma Viridi"
   }
  ],
  "kernelspec": {
   "display_name": "Python 3 (ipykernel)",
   "language": "python",
   "name": "python3"
  },
  "language_info": {
   "codemirror_mode": {
    "name": "ipython",
    "version": 3
   },
   "file_extension": ".py",
   "mimetype": "text/x-python",
   "name": "python",
   "nbconvert_exporter": "python",
   "pygments_lexer": "ipython3",
   "version": "3.11.2"
  },
  "title": "boundary_conditions"
 },
 "nbformat": 4,
 "nbformat_minor": 5
}
