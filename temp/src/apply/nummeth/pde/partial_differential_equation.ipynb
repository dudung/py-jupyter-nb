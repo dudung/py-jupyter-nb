{
 "cells": [
  {
   "cell_type": "markdown",
   "id": "cca11c7c",
   "metadata": {},
   "source": [
    "# partial_differential_equation\n",
    "Very short introduction to partial differential equation."
   ]
  },
  {
   "cell_type": "markdown",
   "id": "3da90b4f",
   "metadata": {},
   "source": [
    "## definition\n",
    "A PDE (partial differential equation) is an equation containing an unknown funtion of two or more variables and its partial derivatives with respect to these variables, where the order of a PDE is that of the highest-order derivatives ([Lewist et al., 2022](https://doi.org/10.1016/B978-0-12-823681-9.00013-7)). Supposed that there is an unknown function $u = u(x, y, z)$, then\n",
    "\n",
    "$$\\tag{1}\n",
    "a \\frac{\\partial u}{\\partial x} + b \\frac{\\partial^2 u}{\\partial x \\partial y} + c \\frac{\\partial^3 u}{\\partial y^2 \\partial z} = f(x, y, z)  \n",
    "$$\n",
    "\n",
    "is a PDE of order 3."
   ]
  },
  {
   "cell_type": "markdown",
   "id": "469216bb",
   "metadata": {},
   "source": [
    "If unknown function and it partial derivatives occur linearly in the equation then it is a linear PDE, otherwise it is a non-linear PDE ([Yedida & Vishnudeepak, [2022]](https://math.iitm.ac.in/public_html/sryedida/caimna/pde/first/partial.html)), e.g.\n",
    "\n",
    "$$\\tag{1}\n",
    "\\frac{\\partial^2 u}{\\partial x^2} - \\frac{1}{v^2} \\frac{\\partial^2 u}{\\partial t^2} = 0, \n",
    "$$\n",
    "\n",
    "$$\\tag{2}\n",
    "(x^2 + y^2) \\frac{\\partial u}{\\partial t} + \\frac{\\partial^2 u}{\\partial x \\partial y} - 3u = 0\n",
    "$$\n",
    "\n",
    "are linear PDE, while\n",
    "\n",
    "$$\\tag{3}\n",
    "ux \\frac{\\partial^2 u}{\\partial x^2} + \\left( \\frac{\\partial u}{\\partial x} \\right)^2 + u^3 = 0,\n",
    "$$\n",
    "\n",
    "$$\\tag{4}\n",
    "\\frac{\\partial^2 u}{\\partial x^2} + \\left( \\frac{\\partial^2 u}{\\partial x \\partial y} \\right)^2 + \\frac{\\partial^2 u}{\\partial y^2} = x^2 + y^2\n",
    "$$\n",
    "\n",
    "are non-linear PDE."
   ]
  },
  {
   "cell_type": "markdown",
   "id": "c169d24d",
   "metadata": {},
   "source": [
    "A PDE is homogeneous if $u = 0$ is a solution of it, otheriwise it is not homogeneous ([Berciu, 2016](https://phas.ubc.ca/~berciu/TEACHING/PHYS312/LECTURES/FILES/defs.pdf)). An when it is applied to Eqn (1), then it should that $f(x, y, z) = 0$."
   ]
  },
  {
   "cell_type": "code",
   "execution_count": null,
   "id": "8c79f0df",
   "metadata": {},
   "outputs": [],
   "source": []
  }
 ],
 "metadata": {
  "authors": [
   {
    "name": "Sparisoma Viridi"
   }
  ],
  "kernelspec": {
   "display_name": "Python 3 (ipykernel)",
   "language": "python",
   "name": "python3"
  },
  "language_info": {
   "codemirror_mode": {
    "name": "ipython",
    "version": 3
   },
   "file_extension": ".py",
   "mimetype": "text/x-python",
   "name": "python",
   "nbconvert_exporter": "python",
   "pygments_lexer": "ipython3",
   "version": "3.11.2"
  },
  "title": "partial_differential_equation"
 },
 "nbformat": 4,
 "nbformat_minor": 5
}
