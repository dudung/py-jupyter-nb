{
 "cells": [
  {
   "cell_type": "markdown",
   "id": "cca11c7c",
   "metadata": {},
   "source": [
    "# xy_mp4_minimum\n",
    "+ Create animation of xy chart using `matplotlib` library (minimum code).\n",
    "+ Modified mainly from https://www.geeksforgeeks.org/using-matplotlib-for-animations/ and others.\n",
    "+ Show time stamp and adjust time with fps."
   ]
  },
  {
   "cell_type": "code",
   "execution_count": 1,
   "id": "57d46d70",
   "metadata": {},
   "outputs": [
    {
     "data": {
      "text/html": [
       "<video src=\"data/min_anim.mp4\" controls  >\n",
       "      Your browser does not support the <code>video</code> element.\n",
       "    </video>"
      ],
      "text/plain": [
       "<IPython.core.display.Video object>"
      ]
     },
     "metadata": {},
     "output_type": "display_data"
    },
    {
     "data": {
      "image/png": "[encoded data removed]",
      "text/plain": [
       "<Figure size 460x258 with 1 Axes>"
      ]
     },
     "metadata": {},
     "output_type": "display_data"
    }
   ],
   "source": [
    "import matplotlib.animation as animation\n",
    "import matplotlib.pyplot as plt\n",
    "import matplotlib.patches as patches\n",
    "import numpy as np\n",
    "from IPython.display import display, Video\n",
    "  \n",
    "# creating a blank window   \n",
    "# for the animation \n",
    "fig = plt.figure(\n",
    "    figsize=(6.4, 3.6),               # url https://stackoverflow.com/a/60518225/9475509z\n",
    "    facecolor=(1.0, 1.0, 1.0, 1.0)    # url https://stackoverflow.com/a/62466259/9475509\n",
    ")\n",
    "axis = plt.axes(\n",
    "    xlim =(0, 10),\n",
    "    ylim =(-1, 1),\n",
    "    xlabel=\"x\",\n",
    "    ylabel=\"y\",\n",
    "    facecolor=(1.0, 1.0, 1.0, 1.0)    # url https://stackoverflow.com/a/62466259/9475509\n",
    ") \n",
    "axis.grid(\n",
    "    visible=True,\n",
    "    axis='both',\n",
    "    linestyle='-'\n",
    ")\n",
    "line, = axis.plot([], [], lw = 2) \n",
    "\n",
    "T = 1\n",
    "l = 10\n",
    "   \n",
    "# what will our line dataset\n",
    "# contain?\n",
    "def init(): \n",
    "    line.set_data([], []) \n",
    "    return line, \n",
    "   \n",
    "# initializing empty values\n",
    "# for x and y co-ordinates\n",
    "xdata, ydata = [], [] \n",
    "\n",
    "# animation function \n",
    "def animate(i):\n",
    "    # t is a parameter which varies\n",
    "    # with the frame number\n",
    "    t = i / 25.0\n",
    "    \n",
    "    # it does not cover previous drawn text\n",
    "    # url https://stackoverflow.com/a/37437395/9475509\n",
    "    #rect = patches.Rectangle(\n",
    "    #    (8.0, 0.75),\n",
    "    #    2.0, 0.25,\n",
    "    #    linewidth=1,\n",
    "    #    edgecolor='none',\n",
    "    #    facecolor='red'\n",
    "    #)\n",
    "    #axis.add_patch(rect)\n",
    "    \n",
    "    # url https://stackoverflow.com/a/66949211/9475509\n",
    "    if len(axis.texts) > 0:\n",
    "        #del axis.texts[0]              # warning!\n",
    "        axis.texts[0].remove()\n",
    "    \n",
    "    # url https://stackoverflow.com/a/63153806/9475509\n",
    "    axis.text(8.2, 0.8, f\"t = {t:.2f} s\")\n",
    "        \n",
    "    # x, y values to be plotted \n",
    "    x = np.array([i * 0.1 for i in range(0, 101)])\n",
    "    y = 0.5 * np.sin(2 * np.pi * (x / l - t / T))\n",
    "       \n",
    "    # appending values to the previously \n",
    "    # empty x and y data holders \n",
    "    #xdata.append(x)\n",
    "    xdata = x\n",
    "    #ydata.append(y)\n",
    "    ydata = y\n",
    "    line.set_data(xdata, ydata)\n",
    "    return line,\n",
    "   \n",
    "# calling the animation function     \n",
    "anim = animation.FuncAnimation(fig, animate, init_func = init, \n",
    "                               frames = 101, interval = 20, blit = True) \n",
    "   \n",
    "# saves the animation in our desktop\n",
    "anim.save('data/min_anim.mp4', writer = 'ffmpeg', fps = 25)\n",
    "\n",
    "# url https://stackoverflow.com/a/32576093/9475509\n",
    "fig.set_visible(not fig.get_visible())\n",
    "\n",
    "# url https://stackoverflow.com/a/60518225/9475509\n",
    "display(Video(\"data/min_anim.mp4\"))"
   ]
  },
  {
   "cell_type": "markdown",
   "id": "79df702c",
   "metadata": {},
   "source": [
    "## result on youtube\n",
    "[![](https://i9.ytimg.com/vi_webp/2Y8bT6DMPtY/mq2.webp?sqp=COi4kaAG-oaymwEmCMACELQB8quKqQMa8AEB-AHKA4ACggKKAgwIABABGGUgZShlMA8=&rs=AOn4CLD6cmg57GqdN7zVMTxJzRfYEjnDLQ)](https://www.youtube.com/watch?v=2Y8bT6DMPtY)\n",
    "\n",
    "+ url https://stackoverflow.com/a/16079387/9475509"
   ]
  },
  {
   "cell_type": "code",
   "execution_count": null,
   "id": "a9fa9b7b",
   "metadata": {},
   "outputs": [],
   "source": []
  }
 ],
 "metadata": {
  "authors": [
   {
    "name": "Sparisoma Viridi"
   }
  ],
  "kernelspec": {
   "display_name": "Python 3 (ipykernel)",
   "language": "python",
   "name": "python3"
  },
  "language_info": {
   "codemirror_mode": {
    "name": "ipython",
    "version": 3
   },
   "file_extension": ".py",
   "mimetype": "text/x-python",
   "name": "python",
   "nbconvert_exporter": "python",
   "pygments_lexer": "ipython3",
   "version": "3.10.10"
  },
  "title": "xy_mp4_minimum"
 },
 "nbformat": 4,
 "nbformat_minor": 5
}
