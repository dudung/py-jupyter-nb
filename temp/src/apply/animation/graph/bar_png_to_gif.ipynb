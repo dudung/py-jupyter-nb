{
 "cells": [
  {
   "cell_type": "markdown",
   "id": "cca11c7c",
   "metadata": {},
   "source": [
    "# bar_png_to_gif\n",
    "+ Create animation of xy chart using `matplotlib` and `imageio` libraries.\n",
    "+ See [Basics of GIFs with Python’s Matplotlib](https://towardsdatascience.com/54dd544b6f30) by Thiago Carvalho."
   ]
  },
  {
   "cell_type": "code",
   "execution_count": 1,
   "id": "63d74b91",
   "metadata": {},
   "outputs": [
    {
     "name": "stdout",
     "output_type": "stream",
     "text": [
      "Creating charts\n",
      "\n",
      "Charts saved\n",
      "\n",
      "Creating gif\n",
      "\n",
      "GIF file saved\n",
      "\n",
      "Removing Images\n",
      "\n",
      "Done\n"
     ]
    }
   ],
   "source": [
    "import imageio\n",
    "import imageio.v2 as iio\n",
    "import numpy as np\n",
    "import matplotlib.pyplot as plt\n",
    "import os\n",
    "\n",
    "# frames between transitions\n",
    "n_frames = 10\n",
    "\n",
    "# data for plotting\n",
    "x = [1, 2, 3, 4, 5]\n",
    "coordinates_lists = [[0, 0, 0, 0, 0],\n",
    "                     [10, 30, 60, 30, 10],\n",
    "                     [70, 40, 20, 40, 70],\n",
    "                     [10, 20, 30, 40, 50],\n",
    "                     [50, 40, 30, 20, 10],\n",
    "                     [75, 0, 75, 0, 75],\n",
    "                     [0, 0, 0, 0, 0]]\n",
    "\n",
    "print('Creating charts\\n')\n",
    "filenames = []\n",
    "\n",
    "for index in np.arange(0, len(coordinates_lists) - 1):\n",
    "    # get current (initial) and next (final) y coordinates\n",
    "    yi = coordinates_lists[index]\n",
    "    yf = coordinates_lists[index+1]\n",
    "    \n",
    "    # calculate the distance to the next position\n",
    "    y_path = np.array(yf) - np.array(yi)\n",
    "    for i in np.arange(0, n_frames + 1):\n",
    "        # divide the distance by the number of frames \n",
    "        # and multiply it by the current frame number\n",
    "        y_temp = (yi + (y_path / n_frames) * i)\n",
    "        # plot\n",
    "        plt.bar(x, y_temp)\n",
    "        plt.ylim(0, 80)\n",
    "        # build file name and append to list of file names\n",
    "        filename = f'data/bar_frame_{index}_{i}.png'\n",
    "        filenames.append(filename)\n",
    "        # last frame of each viz stays longer\n",
    "        if (i == n_frames):\n",
    "            for i in range(5):\n",
    "                filenames.append(filename)\n",
    "        # save img\n",
    "        plt.savefig(filename, facecolor='white', transparent=False)\n",
    "        plt.close()\n",
    "print('Charts saved\\n')\n",
    "\n",
    "# build gif file\n",
    "print('Creating gif\\n')\n",
    "with imageio.get_writer('data/bar.gif', mode='I') as writer:\n",
    "    for filename in filenames:\n",
    "        image = iio.imread(filename)\n",
    "        writer.append_data(image)\n",
    "print('GIF file saved\\n')\n",
    "print('Removing Images\\n')\n",
    "\n",
    "# Remove files\n",
    "for filename in set(filenames):\n",
    "    os.remove(filename)\n",
    "print('Done')"
   ]
  },
  {
   "cell_type": "markdown",
   "id": "51e58e62",
   "metadata": {},
   "source": [
    "![](data/bar.gif)"
   ]
  },
  {
   "cell_type": "code",
   "execution_count": null,
   "id": "025b7051",
   "metadata": {},
   "outputs": [],
   "source": []
  }
 ],
 "metadata": {
  "authors": [
   {
    "name": "Sparisoma Viridi"
   }
  ],
  "kernelspec": {
   "display_name": "Python 3 (ipykernel)",
   "language": "python",
   "name": "python3"
  },
  "language_info": {
   "codemirror_mode": {
    "name": "ipython",
    "version": 3
   },
   "file_extension": ".py",
   "mimetype": "text/x-python",
   "name": "python",
   "nbconvert_exporter": "python",
   "pygments_lexer": "ipython3",
   "version": "3.10.10"
  },
  "title": "bar_png_to_gif"
 },
 "nbformat": 4,
 "nbformat_minor": 5
}
