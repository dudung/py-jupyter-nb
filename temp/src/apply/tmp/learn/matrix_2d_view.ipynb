{
 "cells": [
  {
   "cell_type": "code",
   "execution_count": 21,
   "id": "9923f61a-7e25-4d2b-ac84-0f8c86558e4c",
   "metadata": {},
   "outputs": [],
   "source": [
    "import numpy as np\n",
    "import random as rnd\n",
    "import matplotlib.pyplot as plt"
   ]
  },
  {
   "cell_type": "code",
   "execution_count": 5,
   "id": "1d3bb51b-f95b-485f-823a-657cf09775d8",
   "metadata": {},
   "outputs": [
    {
     "name": "stdout",
     "output_type": "stream",
     "text": [
      "[[0. 0. 0. 0. 0. 0. 0. 0.]\n",
      " [0. 0. 0. 0. 0. 0. 0. 0.]\n",
      " [0. 0. 0. 0. 0. 0. 0. 0.]\n",
      " [0. 0. 0. 0. 0. 0. 0. 0.]\n",
      " [0. 0. 0. 0. 0. 0. 0. 0.]]\n"
     ]
    }
   ],
   "source": [
    "mat = np.zeros((5, 8))\n",
    "print(mat)"
   ]
  },
  {
   "cell_type": "code",
   "execution_count": 6,
   "id": "4c840c31-06d7-4f14-bab2-bc4da1b3fb59",
   "metadata": {},
   "outputs": [
    {
     "name": "stdout",
     "output_type": "stream",
     "text": [
      "[[1. 1. 1. 1. 1. 1. 1. 1.]\n",
      " [1. 1. 1. 1. 1. 1. 1. 1.]\n",
      " [1. 1. 1. 1. 1. 1. 1. 1.]\n",
      " [1. 1. 1. 1. 1. 1. 1. 1.]\n",
      " [1. 1. 1. 1. 1. 1. 1. 1.]]\n"
     ]
    }
   ],
   "source": [
    "mat = np.ones((5, 8))\n",
    "print(mat)"
   ]
  },
  {
   "cell_type": "code",
   "execution_count": 9,
   "id": "9b7befc7-679b-42fd-9043-2ee5c4c467c4",
   "metadata": {},
   "outputs": [
    {
     "name": "stdout",
     "output_type": "stream",
     "text": [
      "[[1.2345 1.2345 1.2345 1.2345 1.2345 1.2345 1.2345 1.2345]\n",
      " [1.2345 1.2345 1.2345 1.2345 1.2345 1.2345 1.2345 1.2345]\n",
      " [1.2345 1.2345 1.2345 1.2345 1.2345 1.2345 1.2345 1.2345]\n",
      " [1.2345 1.2345 1.2345 1.2345 1.2345 1.2345 1.2345 1.2345]\n",
      " [1.2345 1.2345 1.2345 1.2345 1.2345 1.2345 1.2345 1.2345]]\n"
     ]
    }
   ],
   "source": [
    "mat = 1.2345 * np.ones((5, 8))\n",
    "print(mat)"
   ]
  },
  {
   "cell_type": "code",
   "execution_count": 11,
   "id": "2f82f8c8-34e7-4390-ab0f-a2fd1e9cd620",
   "metadata": {},
   "outputs": [
    {
     "name": "stdout",
     "output_type": "stream",
     "text": [
      "[[7. 7. 7. 7. 7. 7. 7. 7.]\n",
      " [7. 7. 7. 7. 7. 7. 7. 7.]\n",
      " [7. 7. 7. 7. 7. 7. 7. 7.]\n",
      " [7. 7. 7. 7. 7. 7. 7. 7.]\n",
      " [7. 7. 7. 7. 7. 7. 7. 7.]]\n"
     ]
    }
   ],
   "source": [
    "mat = np.ones((5, 8)) * rnd.randint(1, 10)\n",
    "print(mat)"
   ]
  },
  {
   "cell_type": "code",
   "execution_count": 18,
   "id": "b1b2d55b-ad83-4caf-a807-583d91d60ff6",
   "metadata": {},
   "outputs": [
    {
     "name": "stdout",
     "output_type": "stream",
     "text": [
      "[[0.87629888 0.83580136 0.9907783  0.2445439  0.88042033 0.39925746\n",
      "  0.46199266 0.12225621 0.28973967 0.61296737]\n",
      " [0.03314567 0.72706298 0.27562604 0.27340874 0.89886596 0.87264399\n",
      "  0.04560987 0.11284143 0.96326508 0.09530925]\n",
      " [0.31318357 0.59916997 0.00554292 0.74334753 0.72989454 0.26544849\n",
      "  0.27920321 0.8495366  0.22260948 0.68065247]\n",
      " [0.0815022  0.13762282 0.03618236 0.05715264 0.44269322 0.85754163\n",
      "  0.74504161 0.00343525 0.6999227  0.22422896]\n",
      " [0.61699942 0.9521442  0.47227448 0.42781591 0.38110594 0.54864382\n",
      "  0.91513094 0.84869525 0.57993929 0.86708316]]\n"
     ]
    }
   ],
   "source": [
    "mat = np.random.rand(5,10)\n",
    "print(mat)"
   ]
  },
  {
   "cell_type": "code",
   "execution_count": 20,
   "id": "e9dcbc07-5b17-487e-9634-dfc8788e2920",
   "metadata": {},
   "outputs": [
    {
     "name": "stdout",
     "output_type": "stream",
     "text": [
      "[[0.876 0.836 0.991 0.245 0.88  0.399 0.462 0.122 0.29  0.613]\n",
      " [0.033 0.727 0.276 0.273 0.899 0.873 0.046 0.113 0.963 0.095]\n",
      " [0.313 0.599 0.006 0.743 0.73  0.265 0.279 0.85  0.223 0.681]\n",
      " [0.082 0.138 0.036 0.057 0.443 0.858 0.745 0.003 0.7   0.224]\n",
      " [0.617 0.952 0.472 0.428 0.381 0.549 0.915 0.849 0.58  0.867]]\n"
     ]
    }
   ],
   "source": [
    "mat2 = np.around(mat, decimals=3)\n",
    "print(mat2)"
   ]
  },
  {
   "cell_type": "code",
   "execution_count": 23,
   "id": "f626f3b5-230f-4b27-b3d5-89007636ac43",
   "metadata": {},
   "outputs": [
    {
     "data": {
      "text/plain": [
       "<matplotlib.image.AxesImage at 0x22a140fcf80>"
      ]
     },
     "execution_count": 23,
     "metadata": {},
     "output_type": "execute_result"
    },
    {
     "data": {
      "image/png": "[encoded data removed]",
      "text/plain": [
       "<Figure size 960x480 with 1 Axes>"
      ]
     },
     "metadata": {},
     "output_type": "display_data"
    }
   ],
   "source": [
    "plt.matshow(mat2)"
   ]
  },
  {
   "cell_type": "code",
   "execution_count": null,
   "id": "a2d8fdec-a90c-417c-87b6-c780ddb38c40",
   "metadata": {},
   "outputs": [],
   "source": []
  }
 ],
 "metadata": {
  "kernelspec": {
   "display_name": "Python 3 (ipykernel)",
   "language": "python",
   "name": "python3"
  },
  "language_info": {
   "codemirror_mode": {
    "name": "ipython",
    "version": 3
   },
   "file_extension": ".py",
   "mimetype": "text/x-python",
   "name": "python",
   "nbconvert_exporter": "python",
   "pygments_lexer": "ipython3",
   "version": "3.12.3"
  }
 },
 "nbformat": 4,
 "nbformat_minor": 5
}
