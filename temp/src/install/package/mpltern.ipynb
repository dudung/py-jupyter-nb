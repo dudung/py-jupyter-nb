{
 "cells": [
  {
   "cell_type": "markdown",
   "id": "cca11c7c",
   "metadata": {},
   "source": [
    "# mpltern\n",
    "+ Install and use `mpltern` in a Jupyter notebook.\n",
    "+ Do not execute this notebook if the library is already installed.\n"
   ]
  },
  {
   "cell_type": "markdown",
   "id": "5ba170b2",
   "metadata": {},
   "source": [
    "## check installation"
   ]
  },
  {
   "cell_type": "code",
   "execution_count": 1,
   "id": "24f2a77b",
   "metadata": {},
   "outputs": [
    {
     "name": "stderr",
     "output_type": "stream",
     "text": [
      "WARNING: Package(s) not found: mpltern\n"
     ]
    }
   ],
   "source": [
    "!pip show mpltern"
   ]
  },
  {
   "cell_type": "markdown",
   "id": "ee823697",
   "metadata": {},
   "source": [
    "## install"
   ]
  },
  {
   "cell_type": "code",
   "execution_count": 2,
   "id": "0f586967",
   "metadata": {
    "scrolled": true
   },
   "outputs": [
    {
     "name": "stdout",
     "output_type": "stream",
     "text": [
      "Collecting mpltern\n",
      "  Downloading mpltern-0.4.0-py3-none-any.whl (20 kB)\n",
      "Requirement already satisfied: matplotlib>=3.4.0 in c:\\users\\sparisoma viridi\\appdata\\local\\packages\\pythonsoftwarefoundation.python.3.10_qbz5n2kfra8p0\\localcache\\local-packages\\python310\\site-packages (from mpltern) (3.5.1)\n",
      "Requirement already satisfied: pillow>=6.2.0 in c:\\users\\sparisoma viridi\\appdata\\local\\packages\\pythonsoftwarefoundation.python.3.10_qbz5n2kfra8p0\\localcache\\local-packages\\python310\\site-packages (from matplotlib>=3.4.0->mpltern) (9.0.1)\n",
      "Requirement already satisfied: packaging>=20.0 in c:\\users\\sparisoma viridi\\appdata\\local\\packages\\pythonsoftwarefoundation.python.3.10_qbz5n2kfra8p0\\localcache\\local-packages\\python310\\site-packages (from matplotlib>=3.4.0->mpltern) (21.3)\n",
      "Requirement already satisfied: fonttools>=4.22.0 in c:\\users\\sparisoma viridi\\appdata\\local\\packages\\pythonsoftwarefoundation.python.3.10_qbz5n2kfra8p0\\localcache\\local-packages\\python310\\site-packages (from matplotlib>=3.4.0->mpltern) (4.31.2)\n",
      "Requirement already satisfied: kiwisolver>=1.0.1 in c:\\users\\sparisoma viridi\\appdata\\local\\packages\\pythonsoftwarefoundation.python.3.10_qbz5n2kfra8p0\\localcache\\local-packages\\python310\\site-packages (from matplotlib>=3.4.0->mpltern) (1.4.0)\n",
      "Requirement already satisfied: pyparsing>=2.2.1 in c:\\users\\sparisoma viridi\\appdata\\local\\packages\\pythonsoftwarefoundation.python.3.10_qbz5n2kfra8p0\\localcache\\local-packages\\python310\\site-packages (from matplotlib>=3.4.0->mpltern) (3.0.7)\n",
      "Requirement already satisfied: python-dateutil>=2.7 in c:\\users\\sparisoma viridi\\appdata\\local\\packages\\pythonsoftwarefoundation.python.3.10_qbz5n2kfra8p0\\localcache\\local-packages\\python310\\site-packages (from matplotlib>=3.4.0->mpltern) (2.8.2)\n",
      "Requirement already satisfied: cycler>=0.10 in c:\\users\\sparisoma viridi\\appdata\\local\\packages\\pythonsoftwarefoundation.python.3.10_qbz5n2kfra8p0\\localcache\\local-packages\\python310\\site-packages (from matplotlib>=3.4.0->mpltern) (0.11.0)\n",
      "Requirement already satisfied: numpy>=1.17 in c:\\users\\sparisoma viridi\\appdata\\local\\packages\\pythonsoftwarefoundation.python.3.10_qbz5n2kfra8p0\\localcache\\local-packages\\python310\\site-packages (from matplotlib>=3.4.0->mpltern) (1.22.3)\n",
      "Requirement already satisfied: six>=1.5 in c:\\users\\sparisoma viridi\\appdata\\local\\packages\\pythonsoftwarefoundation.python.3.10_qbz5n2kfra8p0\\localcache\\local-packages\\python310\\site-packages (from python-dateutil>=2.7->matplotlib>=3.4.0->mpltern) (1.16.0)\n",
      "Installing collected packages: mpltern\n",
      "Successfully installed mpltern-0.4.0\n"
     ]
    }
   ],
   "source": [
    "!pip install mpltern"
   ]
  },
  {
   "cell_type": "markdown",
   "id": "967b0ca7",
   "metadata": {},
   "source": [
    "**Note**: It can install `mpltern` package."
   ]
  },
  {
   "cell_type": "markdown",
   "id": "de87a75f",
   "metadata": {},
   "source": [
    "## import\n",
    "Example [07.polygon.py](https://mpltern.readthedocs.io/en/latest/gallery/introductory/07.polygon.html#sphx-glr-gallery-introductory-07-polygon-py) from [mpltern](https://mpltern.readthedocs.io/en/latest/index.html) to test installed package."
   ]
  },
  {
   "cell_type": "code",
   "execution_count": 3,
   "id": "0630ae54",
   "metadata": {},
   "outputs": [
    {
     "data": {
      "image/png": "[encoded data removed]",
      "text/plain": [
       "<Figure size 432x288 with 1 Axes>"
      ]
     },
     "metadata": {
      "needs_background": "light"
     },
     "output_type": "display_data"
    }
   ],
   "source": [
    "import matplotlib.pyplot as plt\n",
    "import mpltern  # noqa: F401\n",
    "\n",
    "ax = plt.subplot(111, projection='ternary')\n",
    "\n",
    "t = [0.2, 0.4, 0.2]\n",
    "l = [0.0, 0.2, 0.4]\n",
    "r = [0.8, 0.4, 0.4]\n",
    "ax.fill(t, l, r, alpha=0.2)\n",
    "\n",
    "t = [0.4, 0.6, 0.6, 0.4]\n",
    "l = [0.2, 0.2, 0.4, 0.4]\n",
    "r = [0.4, 0.2, 0.0, 0.2]\n",
    "ax.fill(t, l, r, alpha=0.2)\n",
    "\n",
    "t = [0.2, 0.4, 0.4, 0.0, 0.0]\n",
    "l = [0.4, 0.4, 0.6, 1.0, 0.6]\n",
    "r = [0.4, 0.2, 0.0, 0.0, 0.4]\n",
    "ax.fill(t, l, r, alpha=0.2)\n",
    "\n",
    "plt.show()"
   ]
  },
  {
   "cell_type": "markdown",
   "id": "7e59302b",
   "metadata": {},
   "source": [
    "**Note**: It would be interesting to plot soil ternary diagram [(soil textural triangle)](https://ars.els-cdn.com/content/image/3-s2.0-B9780128191668000499-f00049-03-9780128191668.jpg)."
   ]
  },
  {
   "cell_type": "code",
   "execution_count": null,
   "id": "b2ae64b1",
   "metadata": {},
   "outputs": [],
   "source": []
  }
 ],
 "metadata": {
  "authors": [
   {
    "name": "Sparisoma Viridi"
   }
  ],
  "kernelspec": {
   "display_name": "Python 3 (ipykernel)",
   "language": "python",
   "name": "python3"
  },
  "language_info": {
   "codemirror_mode": {
    "name": "ipython",
    "version": 3
   },
   "file_extension": ".py",
   "mimetype": "text/x-python",
   "name": "python",
   "nbconvert_exporter": "python",
   "pygments_lexer": "ipython3",
   "version": "3.10.10"
  },
  "title": "mpltern"
 },
 "nbformat": 4,
 "nbformat_minor": 5
}
