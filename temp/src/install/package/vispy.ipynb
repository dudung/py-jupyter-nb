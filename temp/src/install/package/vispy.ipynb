{
 "cells": [
  {
   "cell_type": "markdown",
   "id": "cca11c7c",
   "metadata": {},
   "source": [
    "# vispy\n",
    "+ Install using shell and use `vispy` in a Jupyter notebook.\n",
    "+ Do not execute related cell in this notebook if the library is not already installed."
   ]
  },
  {
   "cell_type": "markdown",
   "id": "5ba170b2",
   "metadata": {},
   "source": [
    "## check installation"
   ]
  },
  {
   "cell_type": "code",
   "execution_count": 1,
   "id": "24f2a77b",
   "metadata": {},
   "outputs": [
    {
     "name": "stderr",
     "output_type": "stream",
     "text": [
      "WARNING: Package(s) not found: vispy\n"
     ]
    }
   ],
   "source": [
    "!pip show vispy"
   ]
  },
  {
   "cell_type": "markdown",
   "id": "ee823697",
   "metadata": {},
   "source": [
    "## install\n",
    "**Note**: Installation is performed in a shell, e.g PowerShell in this example."
   ]
  },
  {
   "cell_type": "markdown",
   "id": "5a2f3fbd",
   "metadata": {},
   "source": [
    "```\n",
    "PS L:\\home\\py-jupyter-nb> pip install vispy\n",
    "Collecting vispy\n",
    "  Downloading vispy-0.12.1-cp310-cp310-win_amd64.whl (1.4 MB)\n",
    "     ---------------------------------------- 1.4/1.4 MB 544.9 kB/s eta 0:00:00\n",
    "Collecting freetype-py\n",
    "  Downloading freetype_py-2.3.0-py3-none-win_amd64.whl (772 kB)\n",
    "     ---------------------------------------- 772.9/772.9 kB 561.2 kB/s eta 0:00:00\n",
    "Collecting hsluv\n",
    "  Downloading hsluv-5.0.3-py2.py3-none-any.whl (5.1 kB)\n",
    "Requirement already satisfied: packaging in c:\\users\\sparisoma viridi\\appdata\\local\\packages\\pythonsoftwarefoundation.python.3.10_qbz5n2kfra8p0\\localcache\\local-packages\\python310\\site-packages (from vispy) (21.3)\n",
    "Requirement already satisfied: kiwisolver in c:\\users\\sparisoma viridi\\appdata\\local\\packages\\pythonsoftwarefoundation.python.3.10_qbz5n2kfra8p0\\localcache\\local-packages\\python310\\site-packages (from vispy) (1.4.0)\n",
    "Requirement already satisfied: numpy in c:\\users\\sparisoma viridi\\appdata\\local\\packages\\pythonsoftwarefoundation.python.3.10_qbz5n2kfra8p0\\localcache\\local-packages\\python310\\site-packages (from vispy) (1.22.3)\n",
    "Requirement already satisfied: pyparsing!=3.0.5,>=2.0.2 in c:\\users\\sparisoma viridi\\appdata\\local\\packages\\pythonsoftwarefoundation.python.3.10_qbz5n2kfra8p0\\localcache\\local-packages\\python310\\site-packages (from packaging->vispy) (3.0.7)\n",
    "Installing collected packages: hsluv, freetype-py, vispy\n",
    "Successfully installed freetype-py-2.3.0 hsluv-5.0.3 vispy-0.12.1\n",
    "PS L:\\home\\py-jupyter-nb>\n",
    "```"
   ]
  },
  {
   "cell_type": "markdown",
   "id": "24bdcebd",
   "metadata": {},
   "source": [
    "**Note**: It can install `vispy` package."
   ]
  },
  {
   "cell_type": "markdown",
   "id": "782b8cdc",
   "metadata": {},
   "source": [
    "```\n",
    "PS L:\\home\\py-jupyter-nb> pip install jupyter_rfb\n",
    "Collecting jupyter_rfb\n",
    "  Downloading jupyter_rfb-0.3.2-py2.py3-none-any.whl (148 kB)\n",
    "     ---------------------------------------- 148.3/148.3 kB 109.2 kB/s eta 0:00:00\n",
    "Requirement already satisfied: ipywidgets<8.0.0,>=7.6.0 in c:\\users\\sparisoma viridi\\appdata\\local\\packages\\pythonsoftwarefoundation.python.3.10_qbz5n2kfra8p0\\localcache\\local-packages\\python310\\site-packages (from jupyter_rfb) (7.7.0)\n",
    "Requirement already satisfied: jupyterlab-widgets<=1.1.1 in c:\\users\\sparisoma viridi\\appdata\\local\\packages\\pythonsoftwarefoundation.python.3.10_qbz5n2kfra8p0\\localcache\\local-packages\\python310\\site-packages (from jupyter_rfb) (1.1.0)\n",
    "Requirement already satisfied: numpy in c:\\users\\sparisoma viridi\\appdata\\local\\packages\\pythonsoftwarefoundation.python.3.10_qbz5n2kfra8p0\\localcache\\local-packages\\python310\\site-packages (from jupyter_rfb) (1.22.3)\n",
    "Requirement already satisfied: nbformat>=4.2.0 in c:\\users\\sparisoma viridi\\appdata\\local\\packages\\pythonsoftwarefoundation.python.3.10_qbz5n2kfra8p0\\localcache\\local-packages\\python310\\site-packages (from ipywidgets<8.0.0,>=7.6.0->jupyter_rfb) (5.7.3)\n",
    "Requirement already satisfied: traitlets>=4.3.1 in c:\\users\\sparisoma viridi\\appdata\\local\\packages\\pythonsoftwarefoundation.python.3.10_qbz5n2kfra8p0\\localcache\\local-packages\\python310\\site-packages (from ipywidgets<8.0.0,>=7.6.0->jupyter_rfb) (5.9.0)\n",
    "Requirement already satisfied: widgetsnbextension~=3.6.0 in c:\\users\\sparisoma viridi\\appdata\\local\\packages\\pythonsoftwarefoundation.python.3.10_qbz5n2kfra8p0\\localcache\\local-packages\\python310\\site-packages (from ipywidgets<8.0.0,>=7.6.0->jupyter_rfb) (3.6.0)\n",
    "Requirement already satisfied: ipython-genutils~=0.2.0 in c:\\users\\sparisoma viridi\\appdata\\local\\packages\\pythonsoftwarefoundation.python.3.10_qbz5n2kfra8p0\\localcache\\local-packages\\python310\\site-packages (from ipywidgets<8.0.0,>=7.6.0->jupyter_rfb) (0.2.0)\n",
    "Requirement already satisfied: ipython>=4.0.0 in c:\\users\\sparisoma viridi\\appdata\\local\\packages\\pythonsoftwarefoundation.python.3.10_qbz5n2kfra8p0\\localcache\\local-packages\\python310\\site-packages (from ipywidgets<8.0.0,>=7.6.0->jupyter_rfb) (8.2.0)\n",
    "Requirement already satisfied: ipykernel>=4.5.1 in c:\\users\\sparisoma viridi\\appdata\\local\\packages\\pythonsoftwarefoundation.python.3.10_qbz5n2kfra8p0\\localcache\\local-packages\\python310\\site-packages (from ipywidgets<8.0.0,>=7.6.0->jupyter_rfb) (6.21.1)\n",
    "Requirement already satisfied: pyzmq>=17 in c:\\users\\sparisoma viridi\\appdata\\local\\packages\\pythonsoftwarefoundation.python.3.10_qbz5n2kfra8p0\\localcache\\local-packages\\python310\\site-packages (from ipykernel>=4.5.1->ipywidgets<8.0.0,>=7.6.0->jupyter_rfb) (25.0.0)\n",
    "Requirement already satisfied: matplotlib-inline>=0.1 in c:\\users\\sparisoma viridi\\appdata\\local\\packages\\pythonsoftwarefoundation.python.3.10_qbz5n2kfra8p0\\localcache\\local-packages\\python310\\site-packages (from ipykernel>=4.5.1->ipywidgets<8.0.0,>=7.6.0->jupyter_rfb) (0.1.3)\n",
    "Requirement already satisfied: jupyter-client>=6.1.12 in c:\\users\\sparisoma viridi\\appdata\\local\\packages\\pythonsoftwarefoundation.python.3.10_qbz5n2kfra8p0\\localcache\\local-packages\\python310\\site-packages (from ipykernel>=4.5.1->ipywidgets<8.0.0,>=7.6.0->jupyter_rfb) (8.0.2)\n",
    "Requirement already satisfied: nest-asyncio in c:\\users\\sparisoma viridi\\appdata\\local\\packages\\pythonsoftwarefoundation.python.3.10_qbz5n2kfra8p0\\localcache\\local-packages\\python310\\site-packages (from ipykernel>=4.5.1->ipywidgets<8.0.0,>=7.6.0->jupyter_rfb) (1.5.5)\n",
    "Requirement already satisfied: tornado>=6.1 in c:\\users\\sparisoma viridi\\appdata\\local\\packages\\pythonsoftwarefoundation.python.3.10_qbz5n2kfra8p0\\localcache\\local-packages\\python310\\site-packages (from ipykernel>=4.5.1->ipywidgets<8.0.0,>=7.6.0->jupyter_rfb) (6.2)\n",
    "Requirement already satisfied: packaging in c:\\users\\sparisoma viridi\\appdata\\local\\packages\\pythonsoftwarefoundation.python.3.10_qbz5n2kfra8p0\\localcache\\local-packages\\python310\\site-packages (from ipykernel>=4.5.1->ipywidgets<8.0.0,>=7.6.0->jupyter_rfb) (21.3)\n",
    "Requirement already satisfied: jupyter-core!=5.0.*,>=4.12 in c:\\users\\sparisoma viridi\\appdata\\local\\packages\\pythonsoftwarefoundation.python.3.10_qbz5n2kfra8p0\\localcache\\local-packages\\python310\\site-packages (from ipykernel>=4.5.1->ipywidgets<8.0.0,>=7.6.0->jupyter_rfb) (5.2.0)\n",
    "Requirement already satisfied: comm>=0.1.1 in c:\\users\\sparisoma viridi\\appdata\\local\\packages\\pythonsoftwarefoundation.python.3.10_qbz5n2kfra8p0\\localcache\\local-packages\\python310\\site-packages (from ipykernel>=4.5.1->ipywidgets<8.0.0,>=7.6.0->jupyter_rfb) (0.1.2)\n",
    "Requirement already satisfied: psutil in c:\\users\\sparisoma viridi\\appdata\\local\\packages\\pythonsoftwarefoundation.python.3.10_qbz5n2kfra8p0\\localcache\\local-packages\\python310\\site-packages (from ipykernel>=4.5.1->ipywidgets<8.0.0,>=7.6.0->jupyter_rfb) (5.9.0)\n",
    "Requirement already satisfied: debugpy>=1.6.5 in c:\\users\\sparisoma viridi\\appdata\\local\\packages\\pythonsoftwarefoundation.python.3.10_qbz5n2kfra8p0\\localcache\\local-packages\\python310\\site-packages (from ipykernel>=4.5.1->ipywidgets<8.0.0,>=7.6.0->jupyter_rfb) (1.6.6)\n",
    "Requirement already satisfied: pygments>=2.4.0 in c:\\users\\sparisoma viridi\\appdata\\local\\packages\\pythonsoftwarefoundation.python.3.10_qbz5n2kfra8p0\\localcache\\local-packages\\python310\\site-packages (from ipython>=4.0.0->ipywidgets<8.0.0,>=7.6.0->jupyter_rfb) (2.11.2)\n",
    "Requirement already satisfied: colorama in c:\\users\\sparisoma viridi\\appdata\\local\\packages\\pythonsoftwarefoundation.python.3.10_qbz5n2kfra8p0\\localcache\\local-packages\\python310\\site-packages (from ipython>=4.0.0->ipywidgets<8.0.0,>=7.6.0->jupyter_rfb) (0.4.4)\n",
    "Requirement already satisfied: jedi>=0.16 in c:\\users\\sparisoma viridi\\appdata\\local\\packages\\pythonsoftwarefoundation.python.3.10_qbz5n2kfra8p0\\localcache\\local-packages\\python310\\site-packages (from ipython>=4.0.0->ipywidgets<8.0.0,>=7.6.0->jupyter_rfb) (0.18.1)\n",
    "Requirement already satisfied: stack-data in c:\\users\\sparisoma viridi\\appdata\\local\\packages\\pythonsoftwarefoundation.python.3.10_qbz5n2kfra8p0\\localcache\\local-packages\\python310\\site-packages (from ipython>=4.0.0->ipywidgets<8.0.0,>=7.6.0->jupyter_rfb) (0.2.0)\n",
    "Requirement already satisfied: backcall in c:\\users\\sparisoma viridi\\appdata\\local\\packages\\pythonsoftwarefoundation.python.3.10_qbz5n2kfra8p0\\localcache\\local-packages\\python310\\site-packages (from ipython>=4.0.0->ipywidgets<8.0.0,>=7.6.0->jupyter_rfb) (0.2.0)\n",
    "Requirement already satisfied: prompt-toolkit!=3.0.0,!=3.0.1,<3.1.0,>=2.0.0 in c:\\users\\sparisoma viridi\\appdata\\local\\packages\\pythonsoftwarefoundation.python.3.10_qbz5n2kfra8p0\\localcache\\local-packages\\python310\\site-packages (from ipython>=4.0.0->ipywidgets<8.0.0,>=7.6.0->jupyter_rfb) (3.0.36)\n",
    "Requirement already satisfied: decorator in c:\\users\\sparisoma viridi\\appdata\\local\\packages\\pythonsoftwarefoundation.python.3.10_qbz5n2kfra8p0\\localcache\\local-packages\\python310\\site-packages (from ipython>=4.0.0->ipywidgets<8.0.0,>=7.6.0->jupyter_rfb) (5.1.1)\n",
    "Requirement already satisfied: setuptools>=18.5 in c:\\users\\sparisoma viridi\\appdata\\local\\packages\\pythonsoftwarefoundation.python.3.10_qbz5n2kfra8p0\\localcache\\local-packages\\python310\\site-packages (from ipython>=4.0.0->ipywidgets<8.0.0,>=7.6.0->jupyter_rfb) (61.3.1)\n",
    "Requirement already satisfied: pickleshare in c:\\users\\sparisoma viridi\\appdata\\local\\packages\\pythonsoftwarefoundation.python.3.10_qbz5n2kfra8p0\\localcache\\local-packages\\python310\\site-packages (from ipython>=4.0.0->ipywidgets<8.0.0,>=7.6.0->jupyter_rfb) (0.7.5)\n",
    "Requirement already satisfied: jsonschema>=2.6 in c:\\users\\sparisoma viridi\\appdata\\local\\packages\\pythonsoftwarefoundation.python.3.10_qbz5n2kfra8p0\\localcache\\local-packages\\python310\\site-packages (from nbformat>=4.2.0->ipywidgets<8.0.0,>=7.6.0->jupyter_rfb) (4.4.0)\n",
    "Requirement already satisfied: fastjsonschema in c:\\users\\sparisoma viridi\\appdata\\local\\packages\\pythonsoftwarefoundation.python.3.10_qbz5n2kfra8p0\\localcache\\local-packages\\python310\\site-packages (from nbformat>=4.2.0->ipywidgets<8.0.0,>=7.6.0->jupyter_rfb) (2.16.2)\n",
    "Requirement already satisfied: notebook>=4.4.1 in c:\\users\\sparisoma viridi\\appdata\\local\\packages\\pythonsoftwarefoundation.python.3.10_qbz5n2kfra8p0\\localcache\\local-packages\\python310\\site-packages (from widgetsnbextension~=3.6.0->ipywidgets<8.0.0,>=7.6.0->jupyter_rfb) (6.4.10)\n",
    "Requirement already satisfied: parso<0.9.0,>=0.8.0 in c:\\users\\sparisoma viridi\\appdata\\local\\packages\\pythonsoftwarefoundation.python.3.10_qbz5n2kfra8p0\\localcache\\local-packages\\python310\\site-packages (from jedi>=0.16->ipython>=4.0.0->ipywidgets<8.0.0,>=7.6.0->jupyter_rfb) (0.8.3)\n",
    "Requirement already satisfied: pyrsistent!=0.17.0,!=0.17.1,!=0.17.2,>=0.14.0 in c:\\users\\sparisoma viridi\\appdata\\local\\packages\\pythonsoftwarefoundation.python.3.10_qbz5n2kfra8p0\\localcache\\local-packages\\python310\\site-packages (from jsonschema>=2.6->nbformat>=4.2.0->ipywidgets<8.0.0,>=7.6.0->jupyter_rfb) (0.18.1)\n",
    "Requirement already satisfied: attrs>=17.4.0 in c:\\users\\sparisoma viridi\\appdata\\local\\packages\\pythonsoftwarefoundation.python.3.10_qbz5n2kfra8p0\\localcache\\local-packages\\python310\\site-packages (from jsonschema>=2.6->nbformat>=4.2.0->ipywidgets<8.0.0,>=7.6.0->jupyter_rfb) (21.4.0)\n",
    "Requirement already satisfied: python-dateutil>=2.8.2 in c:\\users\\sparisoma viridi\\appdata\\local\\packages\\pythonsoftwarefoundation.python.3.10_qbz5n2kfra8p0\\localcache\\local-packages\\python310\\site-packages (from jupyter-client>=6.1.12->ipykernel>=4.5.1->ipywidgets<8.0.0,>=7.6.0->jupyter_rfb) (2.8.2)\n",
    "Requirement already satisfied: platformdirs>=2.5 in c:\\users\\sparisoma viridi\\appdata\\local\\packages\\pythonsoftwarefoundation.python.3.10_qbz5n2kfra8p0\\localcache\\local-packages\\python310\\site-packages (from jupyter-core!=5.0.*,>=4.12->ipykernel>=4.5.1->ipywidgets<8.0.0,>=7.6.0->jupyter_rfb) (3.0.0)\n",
    "Requirement already satisfied: pywin32>=1.0 in c:\\users\\sparisoma viridi\\appdata\\local\\packages\\pythonsoftwarefoundation.python.3.10_qbz5n2kfra8p0\\localcache\\local-packages\\python310\\site-packages (from jupyter-core!=5.0.*,>=4.12->ipykernel>=4.5.1->ipywidgets<8.0.0,>=7.6.0->jupyter_rfb) (303)\n",
    "Requirement already satisfied: Send2Trash>=1.8.0 in c:\\users\\sparisoma viridi\\appdata\\local\\packages\\pythonsoftwarefoundation.python.3.10_qbz5n2kfra8p0\\localcache\\local-packages\\python310\\site-packages (from notebook>=4.4.1->widgetsnbextension~=3.6.0->ipywidgets<8.0.0,>=7.6.0->jupyter_rfb) (1.8.0)\n",
    "Requirement already satisfied: argon2-cffi in c:\\users\\sparisoma viridi\\appdata\\local\\packages\\pythonsoftwarefoundation.python.3.10_qbz5n2kfra8p0\\localcache\\local-packages\\python310\\site-packages (from notebook>=4.4.1->widgetsnbextension~=3.6.0->ipywidgets<8.0.0,>=7.6.0->jupyter_rfb) (21.3.0)\n",
    "Requirement already satisfied: nbconvert>=5 in c:\\users\\sparisoma viridi\\appdata\\local\\packages\\pythonsoftwarefoundation.python.3.10_qbz5n2kfra8p0\\localcache\\local-packages\\python310\\site-packages (from notebook>=4.4.1->widgetsnbextension~=3.6.0->ipywidgets<8.0.0,>=7.6.0->jupyter_rfb) (6.4.5)\n",
    "Requirement already satisfied: jinja2 in c:\\users\\sparisoma viridi\\appdata\\local\\packages\\pythonsoftwarefoundation.python.3.10_qbz5n2kfra8p0\\localcache\\local-packages\\python310\\site-packages (from notebook>=4.4.1->widgetsnbextension~=3.6.0->ipywidgets<8.0.0,>=7.6.0->jupyter_rfb) (3.1.1)\n",
    "Requirement already satisfied: prometheus-client in c:\\users\\sparisoma viridi\\appdata\\local\\packages\\pythonsoftwarefoundation.python.3.10_qbz5n2kfra8p0\\localcache\\local-packages\\python310\\site-packages (from notebook>=4.4.1->widgetsnbextension~=3.6.0->ipywidgets<8.0.0,>=7.6.0->jupyter_rfb) (0.13.1)\n",
    "Requirement already satisfied: terminado>=0.8.3 in c:\\users\\sparisoma viridi\\appdata\\local\\packages\\pythonsoftwarefoundation.python.3.10_qbz5n2kfra8p0\\localcache\\local-packages\\python310\\site-packages (from notebook>=4.4.1->widgetsnbextension~=3.6.0->ipywidgets<8.0.0,>=7.6.0->jupyter_rfb) (0.13.3)\n",
    "Requirement already satisfied: wcwidth in c:\\users\\sparisoma viridi\\appdata\\local\\packages\\pythonsoftwarefoundation.python.3.10_qbz5n2kfra8p0\\localcache\\local-packages\\python310\\site-packages (from prompt-toolkit!=3.0.0,!=3.0.1,<3.1.0,>=2.0.0->ipython>=4.0.0->ipywidgets<8.0.0,>=7.6.0->jupyter_rfb) (0.2.5)\n",
    "Requirement already satisfied: pyparsing!=3.0.5,>=2.0.2 in c:\\users\\sparisoma viridi\\appdata\\local\\packages\\pythonsoftwarefoundation.python.3.10_qbz5n2kfra8p0\\localcache\\local-packages\\python310\\site-packages (from packaging->ipykernel>=4.5.1->ipywidgets<8.0.0,>=7.6.0->jupyter_rfb) (3.0.7)\n",
    "Requirement already satisfied: pure-eval in c:\\users\\sparisoma viridi\\appdata\\local\\packages\\pythonsoftwarefoundation.python.3.10_qbz5n2kfra8p0\\localcache\\local-packages\\python310\\site-packages (from stack-data->ipython>=4.0.0->ipywidgets<8.0.0,>=7.6.0->jupyter_rfb) (0.2.2)\n",
    "Requirement already satisfied: asttokens in c:\\users\\sparisoma viridi\\appdata\\local\\packages\\pythonsoftwarefoundation.python.3.10_qbz5n2kfra8p0\\localcache\\local-packages\\python310\\site-packages (from stack-data->ipython>=4.0.0->ipywidgets<8.0.0,>=7.6.0->jupyter_rfb) (2.0.5)\n",
    "Requirement already satisfied: executing in c:\\users\\sparisoma viridi\\appdata\\local\\packages\\pythonsoftwarefoundation.python.3.10_qbz5n2kfra8p0\\localcache\\local-packages\\python310\\site-packages (from stack-data->ipython>=4.0.0->ipywidgets<8.0.0,>=7.6.0->jupyter_rfb) (0.8.3)\n",
    "Requirement already satisfied: entrypoints>=0.2.2 in c:\\users\\sparisoma viridi\\appdata\\local\\packages\\pythonsoftwarefoundation.python.3.10_qbz5n2kfra8p0\\localcache\\local-packages\\python310\\site-packages (from nbconvert>=5->notebook>=4.4.1->widgetsnbextension~=3.6.0->ipywidgets<8.0.0,>=7.6.0->jupyter_rfb) (0.4)\n",
    "Requirement already satisfied: nbclient<0.6.0,>=0.5.0 in c:\\users\\sparisoma viridi\\appdata\\local\\packages\\pythonsoftwarefoundation.python.3.10_qbz5n2kfra8p0\\localcache\\local-packages\\python310\\site-packages (from nbconvert>=5->notebook>=4.4.1->widgetsnbextension~=3.6.0->ipywidgets<8.0.0,>=7.6.0->jupyter_rfb) (0.5.13)\n",
    "Requirement already satisfied: mistune<2,>=0.8.1 in c:\\users\\sparisoma viridi\\appdata\\local\\packages\\pythonsoftwarefoundation.python.3.10_qbz5n2kfra8p0\\localcache\\local-packages\\python310\\site-packages (from nbconvert>=5->notebook>=4.4.1->widgetsnbextension~=3.6.0->ipywidgets<8.0.0,>=7.6.0->jupyter_rfb) (0.8.4)\n",
    "Requirement already satisfied: jupyterlab-pygments in c:\\users\\sparisoma viridi\\appdata\\local\\packages\\pythonsoftwarefoundation.python.3.10_qbz5n2kfra8p0\\localcache\\local-packages\\python310\\site-packages (from nbconvert>=5->notebook>=4.4.1->widgetsnbextension~=3.6.0->ipywidgets<8.0.0,>=7.6.0->jupyter_rfb) (0.1.2)\n",
    "Requirement already satisfied: bleach in c:\\users\\sparisoma viridi\\appdata\\local\\packages\\pythonsoftwarefoundation.python.3.10_qbz5n2kfra8p0\\localcache\\local-packages\\python310\\site-packages (from nbconvert>=5->notebook>=4.4.1->widgetsnbextension~=3.6.0->ipywidgets<8.0.0,>=7.6.0->jupyter_rfb) (4.1.0)\n",
    "Requirement already satisfied: pandocfilters>=1.4.1 in c:\\users\\sparisoma viridi\\appdata\\local\\packages\\pythonsoftwarefoundation.python.3.10_qbz5n2kfra8p0\\localcache\\local-packages\\python310\\site-packages (from nbconvert>=5->notebook>=4.4.1->widgetsnbextension~=3.6.0->ipywidgets<8.0.0,>=7.6.0->jupyter_rfb) (1.5.0)\n",
    "Requirement already satisfied: testpath in c:\\users\\sparisoma viridi\\appdata\\local\\packages\\pythonsoftwarefoundation.python.3.10_qbz5n2kfra8p0\\localcache\\local-packages\\python310\\site-packages (from nbconvert>=5->notebook>=4.4.1->widgetsnbextension~=3.6.0->ipywidgets<8.0.0,>=7.6.0->jupyter_rfb) (0.6.0)\n",
    "Requirement already satisfied: defusedxml in c:\\users\\sparisoma viridi\\appdata\\local\\packages\\pythonsoftwarefoundation.python.3.10_qbz5n2kfra8p0\\localcache\\local-packages\\python310\\site-packages (from nbconvert>=5->notebook>=4.4.1->widgetsnbextension~=3.6.0->ipywidgets<8.0.0,>=7.6.0->jupyter_rfb) (0.7.1)\n",
    "Requirement already satisfied: beautifulsoup4 in c:\\users\\sparisoma viridi\\appdata\\local\\packages\\pythonsoftwarefoundation.python.3.10_qbz5n2kfra8p0\\localcache\\local-packages\\python310\\site-packages (from nbconvert>=5->notebook>=4.4.1->widgetsnbextension~=3.6.0->ipywidgets<8.0.0,>=7.6.0->jupyter_rfb) (4.10.0)\n",
    "Requirement already satisfied: MarkupSafe>=2.0 in c:\\users\\sparisoma viridi\\appdata\\local\\packages\\pythonsoftwarefoundation.python.3.10_qbz5n2kfra8p0\\localcache\\local-packages\\python310\\site-packages (from nbconvert>=5->notebook>=4.4.1->widgetsnbextension~=3.6.0->ipywidgets<8.0.0,>=7.6.0->jupyter_rfb) (2.1.1)\n",
    "Requirement already satisfied: six>=1.5 in c:\\users\\sparisoma viridi\\appdata\\local\\packages\\pythonsoftwarefoundation.python.3.10_qbz5n2kfra8p0\\localcache\\local-packages\\python310\\site-packages (from python-dateutil>=2.8.2->jupyter-client>=6.1.12->ipykernel>=4.5.1->ipywidgets<8.0.0,>=7.6.0->jupyter_rfb) (1.16.0)\n",
    "Requirement already satisfied: pywinpty>=1.1.0 in c:\\users\\sparisoma viridi\\appdata\\local\\packages\\pythonsoftwarefoundation.python.3.10_qbz5n2kfra8p0\\localcache\\local-packages\\python310\\site-packages (from terminado>=0.8.3->notebook>=4.4.1->widgetsnbextension~=3.6.0->ipywidgets<8.0.0,>=7.6.0->jupyter_rfb) (2.0.5)\n",
    "Requirement already satisfied: argon2-cffi-bindings in c:\\users\\sparisoma viridi\\appdata\\local\\packages\\pythonsoftwarefoundation.python.3.10_qbz5n2kfra8p0\\localcache\\local-packages\\python310\\site-packages (from argon2-cffi->notebook>=4.4.1->widgetsnbextension~=3.6.0->ipywidgets<8.0.0,>=7.6.0->jupyter_rfb) (21.2.0)\n",
    "Requirement already satisfied: cffi>=1.0.1 in c:\\users\\sparisoma viridi\\appdata\\local\\packages\\pythonsoftwarefoundation.python.3.10_qbz5n2kfra8p0\\localcache\\local-packages\\python310\\site-packages (from argon2-cffi-bindings->argon2-cffi->notebook>=4.4.1->widgetsnbextension~=3.6.0->ipywidgets<8.0.0,>=7.6.0->jupyter_rfb) (1.15.0)\n",
    "Requirement already satisfied: soupsieve>1.2 in c:\\users\\sparisoma viridi\\appdata\\local\\packages\\pythonsoftwarefoundation.python.3.10_qbz5n2kfra8p0\\localcache\\local-packages\\python310\\site-packages (from beautifulsoup4->nbconvert>=5->notebook>=4.4.1->widgetsnbextension~=3.6.0->ipywidgets<8.0.0,>=7.6.0->jupyter_rfb) (2.3.1)\n",
    "Requirement already satisfied: webencodings in c:\\users\\sparisoma viridi\\appdata\\local\\packages\\pythonsoftwarefoundation.python.3.10_qbz5n2kfra8p0\\localcache\\local-packages\\python310\\site-packages (from bleach->nbconvert>=5->notebook>=4.4.1->widgetsnbextension~=3.6.0->ipywidgets<8.0.0,>=7.6.0->jupyter_rfb) (0.5.1)\n",
    "Requirement already satisfied: pycparser in c:\\users\\sparisoma viridi\\appdata\\local\\packages\\pythonsoftwarefoundation.python.3.10_qbz5n2kfra8p0\\localcache\\local-packages\\python310\\site-packages (from cffi>=1.0.1->argon2-cffi-bindings->argon2-cffi->notebook>=4.4.1->widgetsnbextension~=3.6.0->ipywidgets<8.0.0,>=7.6.0->jupyter_rfb) (2.21)\n",
    "Installing collected packages: jupyter_rfb\n",
    "Successfully installed jupyter_rfb-0.3.2\n",
    "PS L:\\home\\py-jupyter-nb>\n",
    "```"
   ]
  },
  {
   "cell_type": "markdown",
   "id": "69f6063b",
   "metadata": {},
   "source": [
    "**Note**: It can install `jupyter_rfb` package."
   ]
  },
  {
   "cell_type": "markdown",
   "id": "6ab2c455",
   "metadata": {},
   "source": [
    "```\n",
    "PS L:\\home\\py-jupyter-nb> pip install glfw\n",
    "Collecting glfw\n",
    "  Downloading glfw-2.5.6-py2.py27.py3.py30.py31.py32.py33.py34.py35.py36.py37.py38-none-win_amd64.whl (493 kB)\n",
    "     ---------------------------------------- 493.0/493.0 kB 401.3 kB/s eta 0:00:00\n",
    "Installing collected packages: glfw\n",
    "Successfully installed glfw-2.5.6\n",
    "PS L:\\home\\py-jupyter-nb>\n",
    "```"
   ]
  },
  {
   "cell_type": "markdown",
   "id": "0f6225c5",
   "metadata": {},
   "source": [
    "**Note**: It can install `glfw` package."
   ]
  },
  {
   "cell_type": "markdown",
   "id": "de87a75f",
   "metadata": {},
   "source": [
    "## import\n",
    "Example from [VisPy](https://vispy.org/getting_started/gloo.html) to test installed package."
   ]
  },
  {
   "cell_type": "code",
   "execution_count": 1,
   "id": "0630ae54",
   "metadata": {},
   "outputs": [
    {
     "data": {
      "application/vnd.jupyter.widget-view+json": {
       "model_id": "3c366b0fc0d94bfcb700509ef9ffcf22",
       "version_major": 2,
       "version_minor": 0
      },
      "text/plain": [
       "RFBOutputContext()"
      ]
     },
     "metadata": {},
     "output_type": "display_data"
    }
   ],
   "source": [
    "import sys\n",
    "from vispy import app, gloo\n",
    "\n",
    "canvas = app.Canvas(keys='interactive')\n",
    "\n",
    "@canvas.connect\n",
    "def on_draw(event):\n",
    "    gloo.set_clear_color((0.2, 0.4, 0.6, 1.0))\n",
    "    gloo.clear()\n",
    "\n",
    "canvas.show()\n",
    "\n",
    "if __name__ == '__main__' and sys.flags.interactive == 0:\n",
    "    app.run()"
   ]
  },
  {
   "cell_type": "code",
   "execution_count": null,
   "id": "e5d995cc",
   "metadata": {},
   "outputs": [],
   "source": []
  }
 ],
 "metadata": {
  "authors": [
   {
    "name": "Sparisoma Viridi"
   }
  ],
  "kernelspec": {
   "display_name": "Python 3 (ipykernel)",
   "language": "python",
   "name": "python3"
  },
  "language_info": {
   "codemirror_mode": {
    "name": "ipython",
    "version": 3
   },
   "file_extension": ".py",
   "mimetype": "text/x-python",
   "name": "python",
   "nbconvert_exporter": "python",
   "pygments_lexer": "ipython3",
   "version": "3.10.10"
  },
  "title": "vispy"
 },
 "nbformat": 4,
 "nbformat_minor": 5
}
