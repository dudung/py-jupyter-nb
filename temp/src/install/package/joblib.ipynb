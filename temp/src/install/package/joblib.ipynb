{
 "cells": [
  {
   "cell_type": "markdown",
   "id": "cca11c7c",
   "metadata": {},
   "source": [
    "# joblib\n",
    "+ Install using shell and use `joblib` in a Jupyter notebook.\n",
    "+ Do not execute related cell in this notebook if the library is not already installed."
   ]
  },
  {
   "cell_type": "markdown",
   "id": "5ba170b2",
   "metadata": {},
   "source": [
    "## check installation"
   ]
  },
  {
   "cell_type": "code",
   "execution_count": 1,
   "id": "24f2a77b",
   "metadata": {},
   "outputs": [
    {
     "name": "stdout",
     "output_type": "stream",
     "text": [
      "Name: joblib\n",
      "Version: 1.2.0\n",
      "Summary: Lightweight pipelining with Python functions\n",
      "Home-page: https://joblib.readthedocs.io\n",
      "Author: Gael Varoquaux\n",
      "Author-email: gael.varoquaux@normalesup.org\n",
      "License: BSD\n",
      "Location: c:\\users\\sparisoma viridi\\appdata\\local\\packages\\pythonsoftwarefoundation.python.3.10_qbz5n2kfra8p0\\localcache\\local-packages\\python310\\site-packages\n",
      "Requires: \n",
      "Required-by: nltk, scikit-learn\n"
     ]
    }
   ],
   "source": [
    "!pip show joblib"
   ]
  },
  {
   "cell_type": "markdown",
   "id": "ee823697",
   "metadata": {},
   "source": [
    "## install\n",
    "**Note**: Installation is performed in a shell, e.g PowerShell in this example."
   ]
  },
  {
   "cell_type": "markdown",
   "id": "5a2f3fbd",
   "metadata": {},
   "source": [
    "```\n",
    "PS L:\\home\\py-jupyter-nb> pip install joblib\n",
    "Requirement already satisfied: joblib in c:\\users\\full name\\appdata\\local\\packages\\pythonsoftwarefoundation.python.3.10_qbz5n2kfra8p0\\localcache\\local-packages\\python310\\site-packages (1.2.0)\n",
    "```"
   ]
  },
  {
   "cell_type": "markdown",
   "id": "24bdcebd",
   "metadata": {},
   "source": [
    "**Note**: It does not install `joblib` package since the package is already installed."
   ]
  },
  {
   "cell_type": "code",
   "execution_count": null,
   "id": "e5d995cc",
   "metadata": {},
   "outputs": [],
   "source": []
  }
 ],
 "metadata": {
  "authors": [
   {
    "name": "Sparisoma Viridi"
   }
  ],
  "kernelspec": {
   "display_name": "Python 3 (ipykernel)",
   "language": "python",
   "name": "python3"
  },
  "language_info": {
   "codemirror_mode": {
    "name": "ipython",
    "version": 3
   },
   "file_extension": ".py",
   "mimetype": "text/x-python",
   "name": "python",
   "nbconvert_exporter": "python",
   "pygments_lexer": "ipython3",
   "version": "3.10.10"
  },
  "title": "joblib"
 },
 "nbformat": 4,
 "nbformat_minor": 5
}
