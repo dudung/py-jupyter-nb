{
 "cells": [
  {
   "cell_type": "markdown",
   "id": "cca11c7c",
   "metadata": {},
   "source": [
    "# pillow\n",
    "+ Install and use `pillow` in a Jupyter notebook.\n",
    "+ Do not execute this notebook if the library is already installed.\n"
   ]
  },
  {
   "cell_type": "markdown",
   "id": "5ba170b2",
   "metadata": {},
   "source": [
    "## check installation"
   ]
  },
  {
   "cell_type": "code",
   "execution_count": 2,
   "id": "24f2a77b",
   "metadata": {},
   "outputs": [
    {
     "name": "stdout",
     "output_type": "stream",
     "text": [
      "Name: Pillow\n",
      "Version: 9.0.1\n",
      "Summary: Python Imaging Library (Fork)\n",
      "Home-page: https://python-pillow.org\n",
      "Author: Alex Clark (PIL Fork Author)\n",
      "Author-email: aclark@python-pillow.org\n",
      "License: HPND\n",
      "Location: c:\\users\\sparisoma viridi\\appdata\\local\\packages\\pythonsoftwarefoundation.python.3.10_qbz5n2kfra8p0\\localcache\\local-packages\\python310\\site-packages\n",
      "Requires: \n",
      "Required-by: matplotlib\n"
     ]
    }
   ],
   "source": [
    "!pip show pillow"
   ]
  },
  {
   "cell_type": "markdown",
   "id": "ee823697",
   "metadata": {},
   "source": [
    "## install\n",
    "Jupyter Notebook and other modules are previously installed using pip (at home)."
   ]
  },
  {
   "cell_type": "code",
   "execution_count": null,
   "id": "0f586967",
   "metadata": {
    "scrolled": true
   },
   "outputs": [],
   "source": [
    "!pip install pillow"
   ]
  },
  {
   "cell_type": "markdown",
   "id": "967b0ca7",
   "metadata": {},
   "source": [
    "**Note**: Not tried."
   ]
  },
  {
   "cell_type": "markdown",
   "id": "de87a75f",
   "metadata": {},
   "source": [
    "## import\n",
    "From https://www.geeksforgeeks.org/reading-images-in-python/"
   ]
  },
  {
   "cell_type": "code",
   "execution_count": 4,
   "id": "01fa8b61",
   "metadata": {},
   "outputs": [
    {
     "name": "stdout",
     "output_type": "stream",
     "text": [
      "File = data/python_180x180.png\n",
      "Format = PNG\n",
      "Mode = RGBA\n"
     ]
    }
   ],
   "source": [
    "from PIL import Image\n",
    "fname = \"data/python_180x180.png\"\n",
    "img = Image.open(fname)\n",
    "img.show()\n",
    "print(\"File =\", fname)\n",
    "print(\"Format =\", img.format)\n",
    "print(\"Mode =\", img.mode)"
   ]
  },
  {
   "attachments": {
    "image.png": {
     "image/png": "[encoded data removed]"
    }
   },
   "cell_type": "markdown",
   "id": "eed4b948",
   "metadata": {},
   "source": [
    "It can not show image in a notebook\n",
    "\n",
    "![image.png](attachment:image.png)\n",
    "\n",
    "but the package can be accessed."
   ]
  },
  {
   "cell_type": "code",
   "execution_count": null,
   "id": "9aaced1c",
   "metadata": {},
   "outputs": [],
   "source": []
  }
 ],
 "metadata": {
  "authors": [
   {
    "name": "Sparisoma Viridi"
   }
  ],
  "kernelspec": {
   "display_name": "Python 3 (ipykernel)",
   "language": "python",
   "name": "python3"
  },
  "language_info": {
   "codemirror_mode": {
    "name": "ipython",
    "version": 3
   },
   "file_extension": ".py",
   "mimetype": "text/x-python",
   "name": "python",
   "nbconvert_exporter": "python",
   "pygments_lexer": "ipython3",
   "version": "3.10.9"
  },
  "title": "pillow"
 },
 "nbformat": 4,
 "nbformat_minor": 5
}
