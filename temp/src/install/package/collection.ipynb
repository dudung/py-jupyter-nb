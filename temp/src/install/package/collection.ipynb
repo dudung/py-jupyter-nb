{
 "cells": [
  {
   "cell_type": "markdown",
   "id": "cca11c7c",
   "metadata": {},
   "source": [
    "# collection\n",
    "+ Install using shell and use `collection` in a Jupyter notebook.\n",
    "+ Do not execute related cell in this notebook if the library is not already installed."
   ]
  },
  {
   "cell_type": "markdown",
   "id": "5ba170b2",
   "metadata": {},
   "source": [
    "## check installation"
   ]
  },
  {
   "cell_type": "code",
   "execution_count": 1,
   "id": "24f2a77b",
   "metadata": {},
   "outputs": [
    {
     "name": "stderr",
     "output_type": "stream",
     "text": [
      "WARNING: Package(s) not found: collection\n"
     ]
    }
   ],
   "source": [
    "!pip show collection"
   ]
  },
  {
   "cell_type": "markdown",
   "id": "ee823697",
   "metadata": {},
   "source": [
    "## install\n",
    "**Note**: Installation is performed in a shell, e.g PowerShell in this example."
   ]
  },
  {
   "cell_type": "markdown",
   "id": "5a2f3fbd",
   "metadata": {},
   "source": [
    "```\n",
    "PS L:\\home\\py-jupyter-nb> pip install collection\n",
    "Collecting collection\n",
    "  Downloading collection-0.1.6.tar.gz (5.0 kB)\n",
    "  Preparing metadata (setup.py) ... done\n",
    "Building wheels for collected packages: collection\n",
    "  Building wheel for collection (setup.py) ... done\n",
    "  Created wheel for collection: filename=collection-0.1.6-py3-none-any.whl size=5115 sha256=d0070014e8eb0d6c42e0faa001c20123a710f7c62cbce93f3296b17c69e8cecb\n",
    "  Stored in directory: c:\\users\\full name\\appdata\\local\\pip\\cache\\wheels\\a5\\70\\eb\\1d28795e9384ab3b9be6359bdde9e1652f6e7dab9d26844f70\n",
    "Successfully built collection\n",
    "Installing collected packages: collection\n",
    "Successfully installed collection-0.1.6\n",
    "```"
   ]
  },
  {
   "cell_type": "markdown",
   "id": "24bdcebd",
   "metadata": {},
   "source": [
    "**Note**: It can install `collection` package."
   ]
  },
  {
   "cell_type": "markdown",
   "id": "c8364a2f",
   "metadata": {},
   "source": [
    "## uninstall\n",
    "```\n",
    "PS L:\\home\\py-jupyter-nb> pip uninstall collection\n",
    "Found existing installation: collection 0.1.6\n",
    "Uninstalling collection-0.1.6:\n",
    "  Would remove:\n",
    "    c:\\users\\full name\\appdata\\local\\packages\\pythonsoftwarefoundation.python.3.10_qbz5n2kfra8p0\\localcache\\local-packages\\python310\\site-packages\\collection-0.1.6.dist-info\\*\n",
    "    c:\\users\\full name\\appdata\\local\\packages\\pythonsoftwarefoundation.python.3.10_qbz5n2kfra8p0\\localcache\\local-packages\\python310\\site-packages\\collection\\*\n",
    "Proceed (Y/n)? y\n",
    "  Successfully uninstalled collection-0.1.6\n",
    "```"
   ]
  },
  {
   "cell_type": "markdown",
   "id": "35a47431",
   "metadata": {},
   "source": [
    "## note\n",
    "False solution while try to use `from sklearn.grid_search import GridSearchCV`."
   ]
  },
  {
   "cell_type": "code",
   "execution_count": null,
   "id": "3b03489d",
   "metadata": {},
   "outputs": [],
   "source": []
  }
 ],
 "metadata": {
  "authors": [
   {
    "name": "Sparisoma Viridi"
   }
  ],
  "kernelspec": {
   "display_name": "Python 3 (ipykernel)",
   "language": "python",
   "name": "python3"
  },
  "language_info": {
   "codemirror_mode": {
    "name": "ipython",
    "version": 3
   },
   "file_extension": ".py",
   "mimetype": "text/x-python",
   "name": "python",
   "nbconvert_exporter": "python",
   "pygments_lexer": "ipython3",
   "version": "3.10.10"
  },
  "title": "collection"
 },
 "nbformat": 4,
 "nbformat_minor": 5
}
