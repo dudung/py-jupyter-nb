{
 "cells": [
  {
   "cell_type": "markdown",
   "id": "cca11c7c",
   "metadata": {},
   "source": [
    "# ovencv\n",
    "+ Install and use `openCV` in a Jupyter notebook.\n",
    "+ Do not execute this notebook if the library is already installed.\n"
   ]
  },
  {
   "cell_type": "markdown",
   "id": "5ba170b2",
   "metadata": {},
   "source": [
    "## check installation"
   ]
  },
  {
   "cell_type": "code",
   "execution_count": 2,
   "id": "24f2a77b",
   "metadata": {},
   "outputs": [
    {
     "name": "stderr",
     "output_type": "stream",
     "text": [
      "WARNING: Package(s) not found: opencv-python\n"
     ]
    }
   ],
   "source": [
    "!pip show opencv-python"
   ]
  },
  {
   "cell_type": "markdown",
   "id": "ee823697",
   "metadata": {},
   "source": [
    "## install\n",
    "Jupyter Notebook and other modules are previously installed using pip (at home)."
   ]
  },
  {
   "cell_type": "code",
   "execution_count": 3,
   "id": "0f586967",
   "metadata": {
    "scrolled": true
   },
   "outputs": [
    {
     "name": "stdout",
     "output_type": "stream",
     "text": [
      "Collecting opencv-python\n",
      "  Downloading opencv_python-4.7.0.68-cp37-abi3-win_amd64.whl (38.2 MB)\n",
      "     -------------------------------------- 38.2/38.2 MB 430.9 kB/s eta 0:00:00\n",
      "Requirement already satisfied: numpy>=1.19.3 in c:\\users\\sparisoma viridi\\appdata\\local\\packages\\pythonsoftwarefoundation.python.3.10_qbz5n2kfra8p0\\localcache\\local-packages\\python310\\site-packages (from opencv-python) (1.22.3)\n",
      "Installing collected packages: opencv-python\n",
      "Successfully installed opencv-python-4.7.0.68\n"
     ]
    }
   ],
   "source": [
    "!pip install opencv-python"
   ]
  },
  {
   "cell_type": "markdown",
   "id": "967b0ca7",
   "metadata": {},
   "source": [
    "**Note**: It can install `opencv-python` package."
   ]
  },
  {
   "cell_type": "markdown",
   "id": "de87a75f",
   "metadata": {},
   "source": [
    "## import\n",
    "From https://www.geeksforgeeks.org/reading-images-in-python/"
   ]
  },
  {
   "cell_type": "code",
   "execution_count": 4,
   "id": "01fa8b61",
   "metadata": {
    "scrolled": false
   },
   "outputs": [],
   "source": [
    "import cv2\n",
    "img = cv2.imread(\"data/python_180x180.png\")\n",
    "cv2.imshow('immage', img)\n",
    "cv2.waitKey(0)\n",
    "cv2.destroyAllWindows()"
   ]
  },
  {
   "attachments": {
    "image-2.png": {
     "image/png": "[encoded data removed]"
    }
   },
   "cell_type": "markdown",
   "id": "96aa0367",
   "metadata": {},
   "source": [
    "![image-2.png](attachment:image-2.png)"
   ]
  },
  {
   "cell_type": "markdown",
   "id": "1662b552",
   "metadata": {},
   "source": [
    "**Note**: Close the window to stop."
   ]
  },
  {
   "cell_type": "markdown",
   "id": "01315a0f",
   "metadata": {},
   "source": [
    "## convert png to jpg\n",
    "url https://stackoverflow.com/a/60048268/9475509"
   ]
  },
  {
   "cell_type": "code",
   "execution_count": 1,
   "id": "29cdf044",
   "metadata": {},
   "outputs": [
    {
     "data": {
      "text/plain": [
       "True"
      ]
     },
     "execution_count": 1,
     "metadata": {},
     "output_type": "execute_result"
    }
   ],
   "source": [
    "import cv2\n",
    "image = cv2.imread(\"data/python_180x180.png\")\n",
    "cv2.imwrite(\"data/python_180x180.jpg\", image, [int(cv2.IMWRITE_JPEG_QUALITY), 100])"
   ]
  },
  {
   "cell_type": "markdown",
   "id": "66187e09",
   "metadata": {},
   "source": [
    "`data/python_180x180.png`<br>\n",
    "![](data/python_180x180.png)\n",
    "\n",
    "`data/python_180x180.jpg`<br>\n",
    "![](data/python_180x180.jpg)"
   ]
  },
  {
   "cell_type": "code",
   "execution_count": null,
   "id": "8f3bdbc7",
   "metadata": {},
   "outputs": [],
   "source": []
  }
 ],
 "metadata": {
  "authors": [
   {
    "name": "Sparisoma Viridi"
   }
  ],
  "kernelspec": {
   "display_name": "Python 3 (ipykernel)",
   "language": "python",
   "name": "python3"
  },
  "language_info": {
   "codemirror_mode": {
    "name": "ipython",
    "version": 3
   },
   "file_extension": ".py",
   "mimetype": "text/x-python",
   "name": "python",
   "nbconvert_exporter": "python",
   "pygments_lexer": "ipython3",
   "version": "3.10.9"
  },
  "title": "opencv"
 },
 "nbformat": 4,
 "nbformat_minor": 5
}
