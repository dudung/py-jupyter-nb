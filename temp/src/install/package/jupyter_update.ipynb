{
 "cells": [
  {
   "cell_type": "markdown",
   "id": "cca11c7c",
   "metadata": {},
   "source": [
    "# jupyter_update\n",
    "+ Update `jupyter` automatically while installing `vpython`."
   ]
  },
  {
   "cell_type": "markdown",
   "id": "4b3d88bf",
   "metadata": {},
   "source": [
    "## install vpython"
   ]
  },
  {
   "cell_type": "markdown",
   "id": "5441c36c",
   "metadata": {},
   "source": [
    "```\n",
    "PS L:\\home\\py-jupyter-nb> pip install vpython\n",
    "Collecting vpython\n",
    "..\n",
    "WARNING: jsonschema 4.4.0 does not provide the extra 'format-nongpl'\n",
    "Installing collected packages: yarl, jupyter-core, comm, async-timeout, anyio, aiosignal, qtpy, nbformat, jupyter-server-terminals, jupyter-client, cryptography, aiohttp, jupyter-events, autobahn, ipykernel, qtconsole, jupyter-server, jupyter-console, jupyter-server-proxy, jupyter, vpython\n",
    "  Attempting uninstall: jupyter-core\n",
    "    Found existing installation: jupyter-core 4.9.2\n",
    "    Uninstalling jupyter-core-4.9.2:\n",
    "      Successfully uninstalled jupyter-core-4.9.2\n",
    "  Attempting uninstall: nbformat\n",
    "    Found existing installation: nbformat 5.2.0\n",
    "    Uninstalling nbformat-5.2.0:\n",
    "      Successfully uninstalled nbformat-5.2.0\n",
    "  Attempting uninstall: jupyter-client\n",
    "    Found existing installation: jupyter-client 7.2.1\n",
    "    Uninstalling jupyter-client-7.2.1:\n",
    "      Successfully uninstalled jupyter-client-7.2.1\n",
    "  Attempting uninstall: ipykernel\n",
    "    Found existing installation: ipykernel 6.11.0\n",
    "    Uninstalling ipykernel-6.11.0:\n",
    "      Successfully uninstalled ipykernel-6.11.0\n",
    "Successfully installed aiohttp-3.8.4 aiosignal-1.3.1 anyio-3.6.2 async-timeout-4.0.2 autobahn-23.1.2 comm-0.1.2 cryptography-39.0.1 ipykernel-6.21.1 jupyter-1.0.0 jupyter-client-8.0.2 jupyter-console-6.5.0 jupyter-core-5.2.0 jupyter-events-0.6.3 jupyter-server-2.2.1 jupyter-server-proxy-3.2.2 jupyter-server-terminals-0.4.4 nbformat-5.7.3 qtconsole-5.4.0 qtpy-2.3.0 vpython-7.6.4 yarl-1.8.2\n",
    "PS L:\\home\\py-jupyter-nb>\n",
    "```\n"
   ]
  },
  {
   "cell_type": "markdown",
   "id": "e0387845",
   "metadata": {},
   "source": [
    "```\n",
    "installing vpython-7.6.4\n",
    "\n",
    "uninstalled ipykernel-6.11.0              --> installed ipykernel-6.21.1\n",
    "uninstalled jupyter-client-7.2.1          --> installed jupyter-client-8.0.2\n",
    "uninstalled nbformat-5.2.0                --> installed nbformat-5.7.3\n",
    "uninstalled jupyter-core-4.9.2            --> installed jupyter-core-5.2.0\n",
    "\n",
    "installed jupyter-1.0.0\n",
    "installed jupyter-console-6.5.0\n",
    "installed jupyter-events-0.6.3\n",
    "installed jupyter-server-2.2.1\n",
    "installed jupyter-server-proxy-3.2.2\n",
    "installed jupyter-server-terminals-0.4.4\n",
    "```"
   ]
  },
  {
   "cell_type": "markdown",
   "id": "e472da03",
   "metadata": {},
   "source": [
    "## update jupyter"
   ]
  },
  {
   "cell_type": "markdown",
   "id": "67719b80",
   "metadata": {},
   "source": [
    "While try update `jupyter`\n",
    "```\n",
    "PS L:\\home\\py-jupyter-nb> pip install --upgrade jupyter\n",
    "Requirement already satisfied: jupyter in c:\\users\\sparisoma viridi\\appdata\\local\\packages\\pythonsoftwarefoundation.python.3.10_qbz5n2kfra8p0\\localcache\\local-packages\\python310\\site-packages (1.0.0)\n",
    "Requirement already satisfied: ipywidgets in c:\\users\\sparisoma viridi\\appdata\\local\\packages\\pythonsoftwarefoundation.python.3.10_qbz5n2kfra8p0\\localcache\\local-packages\\python310\\site-packages (from jupyter) (7.7.0)\n",
    "Requirement already satisfied: notebook in c:\\users\\sparisoma viridi\\appdata\\local\\packages\\pythonsoftwarefoundation.python.3.10_qbz5n2kfra8p0\\localcache\\local-packages\\python310\\site-packages (from jupyter) (6.4.10)\n",
    "Requirement already satisfied: ipykernel in c:\\users\\sparisoma viridi\\appdata\\local\\packages\\pythonsoftwarefoundation.python.3.10_qbz5n2kfra8p0\\localcache\\local-packages\\python310\\site-packages (from jupyter) (6.21.1)\n",
    "Requirement already satisfied: qtconsole in c:\\users\\sparisoma viridi\\appdata\\local\\packages\\pythonsoftwarefoundation.python.3.10_qbz5n2kfra8p0\\localcache\\local-packages\\python310\\site-packages (from jupyter) (5.4.0)\n",
    "Requirement already satisfied: nbconvert in c:\\users\\sparisoma viridi\\appdata\\local\\packages\\pythonsoftwarefoundation.python.3.10_qbz5n2kfra8p0\\localcache\\local-packages\\python310\\site-packages (from jupyter) (6.4.5)\n",
    "Requirement already satisfied: jupyter-console in c:\\users\\sparisoma viridi\\appdata\\local\\packages\\pythonsoftwarefoundation.python.3.10_qbz5n2kfra8p0\\localcache\\local-packages\\python310\\site-packages (from jupyter) (6.5.0)\n",
    "Requirement already satisfied: tornado>=6.1 in c:\\users\\sparisoma viridi\\appdata\\local\\packages\\pythonsoftwarefoundation.python.3.10_qbz5n2kfra8p0\\localcache\\local-packages\\python310\\site-packages (from ipykernel->jupyter) (6.2)\n",
    "Requirement already satisfied: matplotlib-inline>=0.1 in c:\\users\\sparisoma viridi\\appdata\\local\\packages\\pythonsoftwarefoundation.python.3.10_qbz5n2kfra8p0\\localcache\\local-packages\\python310\\site-packages (from ipykernel->jupyter) (0.1.3)\n",
    "Requirement already satisfied: psutil in c:\\users\\sparisoma viridi\\appdata\\local\\packages\\pythonsoftwarefoundation.python.3.10_qbz5n2kfra8p0\\localcache\\local-packages\\python310\\site-packages (from ipykernel->jupyter) (5.9.0)\n",
    "Requirement already satisfied: packaging in c:\\users\\sparisoma viridi\\appdata\\local\\packages\\pythonsoftwarefoundation.python.3.10_qbz5n2kfra8p0\\localcache\\local-packages\\python310\\site-packages (from ipykernel->jupyter) (21.3)\n",
    "Requirement already satisfied: traitlets>=5.4.0 in c:\\users\\sparisoma viridi\\appdata\\local\\packages\\pythonsoftwarefoundation.python.3.10_qbz5n2kfra8p0\\localcache\\local-packages\\python310\\site-packages (from ipykernel->jupyter) (5.9.0)\n",
    "Requirement already satisfied: comm>=0.1.1 in c:\\users\\sparisoma viridi\\appdata\\local\\packages\\pythonsoftwarefoundation.python.3.10_qbz5n2kfra8p0\\localcache\\local-packages\\python310\\site-packages (from ipykernel->jupyter) (0.1.2)\n",
    "Requirement already satisfied: nest-asyncio in c:\\users\\sparisoma viridi\\appdata\\local\\packages\\pythonsoftwarefoundation.python.3.10_qbz5n2kfra8p0\\localcache\\local-packages\\python310\\site-packages (from ipykernel->jupyter) (1.5.5)\n",
    "Requirement already satisfied: jupyter-client>=6.1.12 in c:\\users\\sparisoma viridi\\appdata\\local\\packages\\pythonsoftwarefoundation.python.3.10_qbz5n2kfra8p0\\localcache\\local-packages\\python310\\site-packages (from ipykernel->jupyter) (8.0.2)\n",
    "Requirement already satisfied: debugpy>=1.6.5 in c:\\users\\sparisoma viridi\\appdata\\local\\packages\\pythonsoftwarefoundation.python.3.10_qbz5n2kfra8p0\\localcache\\local-packages\\python310\\site-packages (from ipykernel->jupyter) (1.6.6)\n",
    "Requirement already satisfied: jupyter-core!=5.0.*,>=4.12 in c:\\users\\sparisoma viridi\\appdata\\local\\packages\\pythonsoftwarefoundation.python.3.10_qbz5n2kfra8p0\\localcache\\local-packages\\python310\\site-packages (from ipykernel->jupyter) (5.2.0)\n",
    "Requirement already satisfied: ipython>=7.23.1 in c:\\users\\sparisoma viridi\\appdata\\local\\packages\\pythonsoftwarefoundation.python.3.10_qbz5n2kfra8p0\\localcache\\local-packages\\python310\\site-packages (from ipykernel->jupyter) (8.2.0)\n",
    "Requirement already satisfied: pyzmq>=17 in c:\\users\\sparisoma viridi\\appdata\\local\\packages\\pythonsoftwarefoundation.python.3.10_qbz5n2kfra8p0\\localcache\\local-packages\\python310\\site-packages (from ipykernel->jupyter) (25.0.0)\n",
    "Requirement already satisfied: jupyterlab-widgets>=1.0.0 in c:\\users\\sparisoma viridi\\appdata\\local\\packages\\pythonsoftwarefoundation.python.3.10_qbz5n2kfra8p0\\localcache\\local-packages\\python310\\site-packages (from ipywidgets->jupyter) (1.1.0)\n",
    "Requirement already satisfied: nbformat>=4.2.0 in c:\\users\\sparisoma viridi\\appdata\\local\\packages\\pythonsoftwarefoundation.python.3.10_qbz5n2kfra8p0\\localcache\\local-packages\\python310\\site-packages (from ipywidgets->jupyter) (5.7.3)\n",
    "Requirement already satisfied: widgetsnbextension~=3.6.0 in c:\\users\\sparisoma viridi\\appdata\\local\\packages\\pythonsoftwarefoundation.python.3.10_qbz5n2kfra8p0\\localcache\\local-packages\\python310\\site-packages (from ipywidgets->jupyter) (3.6.0)\n",
    "Requirement already satisfied: ipython-genutils~=0.2.0 in c:\\users\\sparisoma viridi\\appdata\\local\\packages\\pythonsoftwarefoundation.python.3.10_qbz5n2kfra8p0\\localcache\\local-packages\\python310\\site-packages (from ipywidgets->jupyter) (0.2.0)\n",
    "Requirement already satisfied: prompt-toolkit>=3.0.30 in c:\\users\\sparisoma viridi\\appdata\\local\\packages\\pythonsoftwarefoundation.python.3.10_qbz5n2kfra8p0\\localcache\\local-packages\\python310\\site-packages (from jupyter-console->jupyter) (3.0.36)\n",
    "Requirement already satisfied: pygments in c:\\users\\sparisoma viridi\\appdata\\local\\packages\\pythonsoftwarefoundation.python.3.10_qbz5n2kfra8p0\\localcache\\local-packages\\python310\\site-packages (from jupyter-console->jupyter) (2.11.2)\n",
    "Requirement already satisfied: MarkupSafe>=2.0 in c:\\users\\sparisoma viridi\\appdata\\local\\packages\\pythonsoftwarefoundation.python.3.10_qbz5n2kfra8p0\\localcache\\local-packages\\python310\\site-packages (from nbconvert->jupyter) (2.1.1)\n",
    "Requirement already satisfied: jinja2>=2.4 in c:\\users\\sparisoma viridi\\appdata\\local\\packages\\pythonsoftwarefoundation.python.3.10_qbz5n2kfra8p0\\localcache\\local-packages\\python310\\site-packages (from nbconvert->jupyter) (3.1.1)\n",
    "Requirement already satisfied: mistune<2,>=0.8.1 in c:\\users\\sparisoma viridi\\appdata\\local\\packages\\pythonsoftwarefoundation.python.3.10_qbz5n2kfra8p0\\localcache\\local-packages\\python310\\site-packages (from nbconvert->jupyter) (0.8.4)\n",
    "Requirement already satisfied: jupyterlab-pygments in c:\\users\\sparisoma viridi\\appdata\\local\\packages\\pythonsoftwarefoundation.python.3.10_qbz5n2kfra8p0\\localcache\\local-packages\\python310\\site-packages (from nbconvert->jupyter) (0.1.2)\n",
    "Requirement already satisfied: defusedxml in c:\\users\\sparisoma viridi\\appdata\\local\\packages\\pythonsoftwarefoundation.python.3.10_qbz5n2kfra8p0\\localcache\\local-packages\\python310\\site-packages (from nbconvert->jupyter) (0.7.1)\n",
    "Requirement already satisfied: beautifulsoup4 in c:\\users\\sparisoma viridi\\appdata\\local\\packages\\pythonsoftwarefoundation.python.3.10_qbz5n2kfra8p0\\localcache\\local-packages\\python310\\site-packages (from nbconvert->jupyter) (4.10.0)\n",
    "Requirement already satisfied: pandocfilters>=1.4.1 in c:\\users\\sparisoma viridi\\appdata\\local\\packages\\pythonsoftwarefoundation.python.3.10_qbz5n2kfra8p0\\localcache\\local-packages\\python310\\site-packages (from nbconvert->jupyter) (1.5.0)\n",
    "Requirement already satisfied: bleach in c:\\users\\sparisoma viridi\\appdata\\local\\packages\\pythonsoftwarefoundation.python.3.10_qbz5n2kfra8p0\\localcache\\local-packages\\python310\\site-packages (from nbconvert->jupyter) (4.1.0)\n",
    "Requirement already satisfied: nbclient<0.6.0,>=0.5.0 in c:\\users\\sparisoma viridi\\appdata\\local\\packages\\pythonsoftwarefoundation.python.3.10_qbz5n2kfra8p0\\localcache\\local-packages\\python310\\site-packages (from nbconvert->jupyter) (0.5.13)\n",
    "Requirement already satisfied: entrypoints>=0.2.2 in c:\\users\\sparisoma viridi\\appdata\\local\\packages\\pythonsoftwarefoundation.python.3.10_qbz5n2kfra8p0\\localcache\\local-packages\\python310\\site-packages (from nbconvert->jupyter) (0.4)\n",
    "Requirement already satisfied: testpath in c:\\users\\sparisoma viridi\\appdata\\local\\packages\\pythonsoftwarefoundation.python.3.10_qbz5n2kfra8p0\\localcache\\local-packages\\python310\\site-packages (from nbconvert->jupyter) (0.6.0)\n",
    "Requirement already satisfied: argon2-cffi in c:\\users\\sparisoma viridi\\appdata\\local\\packages\\pythonsoftwarefoundation.python.3.10_qbz5n2kfra8p0\\localcache\\local-packages\\python310\\site-packages (from notebook->jupyter) (21.3.0)\n",
    "Requirement already satisfied: terminado>=0.8.3 in c:\\users\\sparisoma viridi\\appdata\\local\\packages\\pythonsoftwarefoundation.python.3.10_qbz5n2kfra8p0\\localcache\\local-packages\\python310\\site-packages (from notebook->jupyter) (0.13.3)\n",
    "Requirement already satisfied: Send2Trash>=1.8.0 in c:\\users\\sparisoma viridi\\appdata\\local\\packages\\pythonsoftwarefoundation.python.3.10_qbz5n2kfra8p0\\localcache\\local-packages\\python310\\site-packages (from notebook->jupyter) (1.8.0)\n",
    "Requirement already satisfied: prometheus-client in c:\\users\\sparisoma viridi\\appdata\\local\\packages\\pythonsoftwarefoundation.python.3.10_qbz5n2kfra8p0\\localcache\\local-packages\\python310\\site-packages (from notebook->jupyter) (0.13.1)\n",
    "Requirement already satisfied: qtpy>=2.0.1 in c:\\users\\sparisoma viridi\\appdata\\local\\packages\\pythonsoftwarefoundation.python.3.10_qbz5n2kfra8p0\\localcache\\local-packages\\python310\\site-packages (from qtconsole->jupyter) (2.3.0)\n",
    "Requirement already satisfied: colorama in c:\\users\\sparisoma viridi\\appdata\\local\\packages\\pythonsoftwarefoundation.python.3.10_qbz5n2kfra8p0\\localcache\\local-packages\\python310\\site-packages (from ipython>=7.23.1->ipykernel->jupyter) (0.4.4)\n",
    "Requirement already satisfied: pickleshare in c:\\users\\sparisoma viridi\\appdata\\local\\packages\\pythonsoftwarefoundation.python.3.10_qbz5n2kfra8p0\\localcache\\local-packages\\python310\\site-packages (from ipython>=7.23.1->ipykernel->jupyter) (0.7.5)\n",
    "Requirement already satisfied: stack-data in c:\\users\\sparisoma viridi\\appdata\\local\\packages\\pythonsoftwarefoundation.python.3.10_qbz5n2kfra8p0\\localcache\\local-packages\\python310\\site-packages (from ipython>=7.23.1->ipykernel->jupyter) (0.2.0)\n",
    "Requirement already satisfied: decorator in c:\\users\\sparisoma viridi\\appdata\\local\\packages\\pythonsoftwarefoundation.python.3.10_qbz5n2kfra8p0\\localcache\\local-packages\\python310\\site-packages (from ipython>=7.23.1->ipykernel->jupyter) (5.1.1)\n",
    "Requirement already satisfied: backcall in c:\\users\\sparisoma viridi\\appdata\\local\\packages\\pythonsoftwarefoundation.python.3.10_qbz5n2kfra8p0\\localcache\\local-packages\\python310\\site-packages (from ipython>=7.23.1->ipykernel->jupyter) (0.2.0)\n",
    "Requirement already satisfied: jedi>=0.16 in c:\\users\\sparisoma viridi\\appdata\\local\\packages\\pythonsoftwarefoundation.python.3.10_qbz5n2kfra8p0\\localcache\\local-packages\\python310\\site-packages (from ipython>=7.23.1->ipykernel->jupyter) (0.18.1)\n",
    "Requirement already satisfied: setuptools>=18.5 in c:\\users\\sparisoma viridi\\appdata\\local\\packages\\pythonsoftwarefoundation.python.3.10_qbz5n2kfra8p0\\localcache\\local-packages\\python310\\site-packages (from ipython>=7.23.1->ipykernel->jupyter) (61.3.1)\n",
    "Requirement already satisfied: python-dateutil>=2.8.2 in c:\\users\\sparisoma viridi\\appdata\\local\\packages\\pythonsoftwarefoundation.python.3.10_qbz5n2kfra8p0\\localcache\\local-packages\\python310\\site-packages (from jupyter-client>=6.1.12->ipykernel->jupyter) (2.8.2)\n",
    "Requirement already satisfied: pywin32>=1.0 in c:\\users\\sparisoma viridi\\appdata\\local\\packages\\pythonsoftwarefoundation.python.3.10_qbz5n2kfra8p0\\localcache\\local-packages\\python310\\site-packages (from jupyter-core!=5.0.*,>=4.12->ipykernel->jupyter) (303)\n",
    "Requirement already satisfied: platformdirs>=2.5 in c:\\users\\sparisoma viridi\\appdata\\local\\packages\\pythonsoftwarefoundation.python.3.10_qbz5n2kfra8p0\\localcache\\local-packages\\python310\\site-packages (from jupyter-core!=5.0.*,>=4.12->ipykernel->jupyter) (3.0.0)\n",
    "Requirement already satisfied: fastjsonschema in c:\\users\\sparisoma viridi\\appdata\\local\\packages\\pythonsoftwarefoundation.python.3.10_qbz5n2kfra8p0\\localcache\\local-packages\\python310\\site-packages (from nbformat>=4.2.0->ipywidgets->jupyter) (2.16.2)\n",
    "Requirement already satisfied: jsonschema>=2.6 in c:\\users\\sparisoma viridi\\appdata\\local\\packages\\pythonsoftwarefoundation.python.3.10_qbz5n2kfra8p0\\localcache\\local-packages\\python310\\site-packages (from nbformat>=4.2.0->ipywidgets->jupyter) (4.4.0)\n",
    "Requirement already satisfied: wcwidth in c:\\users\\sparisoma viridi\\appdata\\local\\packages\\pythonsoftwarefoundation.python.3.10_qbz5n2kfra8p0\\localcache\\local-packages\\python310\\site-packages (from prompt-toolkit>=3.0.30->jupyter-console->jupyter) (0.2.5)\n",
    "Requirement already satisfied: pywinpty>=1.1.0 in c:\\users\\sparisoma viridi\\appdata\\local\\packages\\pythonsoftwarefoundation.python.3.10_qbz5n2kfra8p0\\localcache\\local-packages\\python310\\site-packages (from terminado>=0.8.3->notebook->jupyter) (2.0.5)\n",
    "Requirement already satisfied: argon2-cffi-bindings in c:\\users\\sparisoma viridi\\appdata\\local\\packages\\pythonsoftwarefoundation.python.3.10_qbz5n2kfra8p0\\localcache\\local-packages\\python310\\site-packages (from argon2-cffi->notebook->jupyter) (21.2.0)\n",
    "Requirement already satisfied: soupsieve>1.2 in c:\\users\\sparisoma viridi\\appdata\\local\\packages\\pythonsoftwarefoundation.python.3.10_qbz5n2kfra8p0\\localcache\\local-packages\\python310\\site-packages (from beautifulsoup4->nbconvert->jupyter) (2.3.1)\n",
    "Requirement already satisfied: six>=1.9.0 in c:\\users\\sparisoma viridi\\appdata\\local\\packages\\pythonsoftwarefoundation.python.3.10_qbz5n2kfra8p0\\localcache\\local-packages\\python310\\site-packages (from bleach->nbconvert->jupyter) (1.16.0)\n",
    "Requirement already satisfied: webencodings in c:\\users\\sparisoma viridi\\appdata\\local\\packages\\pythonsoftwarefoundation.python.3.10_qbz5n2kfra8p0\\localcache\\local-packages\\python310\\site-packages (from bleach->nbconvert->jupyter) (0.5.1)\n",
    "Requirement already satisfied: pyparsing!=3.0.5,>=2.0.2 in c:\\users\\sparisoma viridi\\appdata\\local\\packages\\pythonsoftwarefoundation.python.3.10_qbz5n2kfra8p0\\localcache\\local-packages\\python310\\site-packages (from packaging->ipykernel->jupyter) (3.0.7)\n",
    "Requirement already satisfied: parso<0.9.0,>=0.8.0 in c:\\users\\sparisoma viridi\\appdata\\local\\packages\\pythonsoftwarefoundation.python.3.10_qbz5n2kfra8p0\\localcache\\local-packages\\python310\\site-packages (from jedi>=0.16->ipython>=7.23.1->ipykernel->jupyter) (0.8.3)\n",
    "Requirement already satisfied: attrs>=17.4.0 in c:\\users\\sparisoma viridi\\appdata\\local\\packages\\pythonsoftwarefoundation.python.3.10_qbz5n2kfra8p0\\localcache\\local-packages\\python310\\site-packages (from jsonschema>=2.6->nbformat>=4.2.0->ipywidgets->jupyter) (21.4.0)\n",
    "Requirement already satisfied: pyrsistent!=0.17.0,!=0.17.1,!=0.17.2,>=0.14.0 in c:\\users\\sparisoma viridi\\appdata\\local\\packages\\pythonsoftwarefoundation.python.3.10_qbz5n2kfra8p0\\localcache\\local-packages\\python310\\site-packages (from jsonschema>=2.6->nbformat>=4.2.0->ipywidgets->jupyter) (0.18.1)\n",
    "Requirement already satisfied: cffi>=1.0.1 in c:\\users\\sparisoma viridi\\appdata\\local\\packages\\pythonsoftwarefoundation.python.3.10_qbz5n2kfra8p0\\localcache\\local-packages\\python310\\site-packages (from argon2-cffi-bindings->argon2-cffi->notebook->jupyter) (1.15.0)\n",
    "Requirement already satisfied: pure-eval in c:\\users\\sparisoma viridi\\appdata\\local\\packages\\pythonsoftwarefoundation.python.3.10_qbz5n2kfra8p0\\localcache\\local-packages\\python310\\site-packages (from stack-data->ipython>=7.23.1->ipykernel->jupyter) (0.2.2)\n",
    "Requirement already satisfied: asttokens in c:\\users\\sparisoma viridi\\appdata\\local\\packages\\pythonsoftwarefoundation.python.3.10_qbz5n2kfra8p0\\localcache\\local-packages\\python310\\site-packages (from stack-data->ipython>=7.23.1->ipykernel->jupyter) (2.0.5)\n",
    "Requirement already satisfied: executing in c:\\users\\sparisoma viridi\\appdata\\local\\packages\\pythonsoftwarefoundation.python.3.10_qbz5n2kfra8p0\\localcache\\local-packages\\python310\\site-packages (from stack-data->ipython>=7.23.1->ipykernel->jupyter) (0.8.3)\n",
    "Requirement already satisfied: pycparser in c:\\users\\sparisoma viridi\\appdata\\local\\packages\\pythonsoftwarefoundation.python.3.10_qbz5n2kfra8p0\\localcache\\local-packages\\python310\\site-packages (from cffi>=1.0.1->argon2-cffi-bindings->argon2-cffi->notebook->jupyter) (2.21)\n",
    "```"
   ]
  },
  {
   "cell_type": "markdown",
   "id": "7355f891",
   "metadata": {},
   "source": [
    "## unset token and pwd\n",
    "It can not browse file and folders after update, since it always requires token (or pwd). Token and pwd can be disabled as mention [here](https://stackoverflow.com/a/63721301/9475509), but it might introduce security problem, when use it as public server."
   ]
  },
  {
   "cell_type": "code",
   "execution_count": null,
   "id": "b2ae64b1",
   "metadata": {},
   "outputs": [],
   "source": []
  }
 ],
 "metadata": {
  "authors": [
   {
    "name": "Sparisoma Viridi"
   }
  ],
  "kernelspec": {
   "display_name": "Python 3 (ipykernel)",
   "language": "python",
   "name": "python3"
  },
  "language_info": {
   "codemirror_mode": {
    "name": "ipython",
    "version": 3
   },
   "file_extension": ".py",
   "mimetype": "text/x-python",
   "name": "python",
   "nbconvert_exporter": "python",
   "pygments_lexer": "ipython3",
   "version": "3.10.10"
  },
  "title": "jupyter_update"
 },
 "nbformat": 4,
 "nbformat_minor": 5
}
