{
 "cells": [
  {
   "cell_type": "markdown",
   "id": "cca11c7c",
   "metadata": {},
   "source": [
    "# virtualenv\n",
    "+ Install and use `virtualenv` in a Jupyter notebook.\n",
    "+ Do not execute related cell in this notebook if the library is already installed."
   ]
  },
  {
   "cell_type": "markdown",
   "id": "5ba170b2",
   "metadata": {},
   "source": [
    "## check installation"
   ]
  },
  {
   "cell_type": "code",
   "execution_count": 1,
   "id": "24f2a77b",
   "metadata": {},
   "outputs": [
    {
     "name": "stderr",
     "output_type": "stream",
     "text": [
      "WARNING: Package(s) not found: vpython\n"
     ]
    }
   ],
   "source": [
    "!pip show vpython"
   ]
  },
  {
   "attachments": {},
   "cell_type": "markdown",
   "id": "ee823697",
   "metadata": {},
   "source": [
    "## install\n",
    "**Note**: Installation must be performed while there is any instance of Python currently running, including Jupyter Notebook as mention [here](https://stackoverflow.com/a/74499317/9475509), which it would be better performed in a shell instead inside a running notebook."
   ]
  },
  {
   "cell_type": "markdown",
   "id": "5a2f3fbd",
   "metadata": {},
   "source": [
    "Using `PowerShell`\n",
    "```\n",
    "PS L:\\home\\py-jupyter-nb> pip show vpython\n",
    "WARNING: Package(s) not found: vpython\n",
    "PS L:\\home\\py-jupyter-nb> pip install vpython\n",
    "Collecting vpython\n",
    "..\n",
    "Successfully installed aiohttp-3.8.4 aiosignal-1.3.1 anyio-3.6.2 async-timeout-4.0.2 autobahn-23.1.2 comm-0.1.2 cryptography-39.0.1 ipykernel-6.21.1 jupyter-1.0.0 jupyter-client-8.0.2 jupyter-console-6.5.0 jupyter-core-5.2.0 jupyter-events-0.6.3 jupyter-server-2.2.1 jupyter-server-proxy-3.2.2 jupyter-server-terminals-0.4.4 nbformat-5.7.3 qtconsole-5.4.0 qtpy-2.3.0 vpython-7.6.4 yarl-1.8.2\n",
    "PS L:\\home\\py-jupyter-nb>\n",
    "```"
   ]
  },
  {
   "cell_type": "markdown",
   "id": "24bdcebd",
   "metadata": {},
   "source": [
    "**Note**: It can install `vpython` package."
   ]
  },
  {
   "cell_type": "markdown",
   "id": "6b986efe",
   "metadata": {},
   "source": [
    "**All messages**:\n",
    "```\n",
    "PS L:\\home\\py-jupyter-nb> pip show vpython\n",
    "WARNING: Package(s) not found: vpython\n",
    "PS L:\\home\\py-jupyter-nb> pip install vpython\n",
    "Collecting vpython\n",
    "  Using cached vpython-7.6.4-cp310-cp310-win_amd64.whl (3.5 MB)\n",
    "Requirement already satisfied: numpy in c:\\users\\sparisoma viridi\\appdata\\local\\packages\\pythonsoftwarefoundation.python.3.10_qbz5n2kfra8p0\\localcache\\local-packages\\python310\\site-packages (from vpython) (1.22.3)\n",
    "Collecting jupyter\n",
    "  Using cached jupyter-1.0.0-py2.py3-none-any.whl (2.7 kB)\n",
    "Collecting autobahn<27,>=22.6.1\n",
    "  Using cached autobahn-23.1.2-cp310-cp310-win_amd64.whl\n",
    "Collecting jupyter-server-proxy\n",
    "  Using cached jupyter_server_proxy-3.2.2-py3-none-any.whl (36 kB)\n",
    "Requirement already satisfied: ipykernel in c:\\users\\sparisoma viridi\\appdata\\local\\packages\\pythonsoftwarefoundation.python.3.10_qbz5n2kfra8p0\\localcache\\local-packages\\python310\\site-packages (from vpython) (6.11.0)\n",
    "Requirement already satisfied: txaio>=21.2.1 in c:\\users\\sparisoma viridi\\appdata\\local\\packages\\pythonsoftwarefoundation.python.3.10_qbz5n2kfra8p0\\localcache\\local-packages\\python310\\site-packages (from autobahn<27,>=22.6.1->vpython) (23.1.1)\n",
    "Requirement already satisfied: hyperlink>=21.0.0 in c:\\users\\sparisoma viridi\\appdata\\local\\packages\\pythonsoftwarefoundation.python.3.10_qbz5n2kfra8p0\\localcache\\local-packages\\python310\\site-packages (from autobahn<27,>=22.6.1->vpython) (21.0.0)\n",
    "Requirement already satisfied: setuptools in c:\\users\\sparisoma viridi\\appdata\\local\\packages\\pythonsoftwarefoundation.python.3.10_qbz5n2kfra8p0\\localcache\\local-packages\\python310\\site-packages (from autobahn<27,>=22.6.1->vpython) (61.3.1)\n",
    "Collecting cryptography>=3.4.6\n",
    "  Using cached cryptography-39.0.1-cp36-abi3-win_amd64.whl (2.5 MB)\n",
    "Requirement already satisfied: ipython>=7.23.1 in c:\\users\\sparisoma viridi\\appdata\\local\\packages\\pythonsoftwarefoundation.python.3.10_qbz5n2kfra8p0\\localcache\\local-packages\\python310\\site-packages (from ipykernel->vpython) (8.2.0)\n",
    "Requirement already satisfied: debugpy>=1.0 in c:\\users\\sparisoma viridi\\appdata\\local\\packages\\pythonsoftwarefoundation.python.3.10_qbz5n2kfra8p0\\localcache\\local-packages\\python310\\site-packages (from ipykernel->vpython) (1.6.6)\n",
    "Requirement already satisfied: tornado>=6.1 in c:\\users\\sparisoma viridi\\appdata\\local\\packages\\pythonsoftwarefoundation.python.3.10_qbz5n2kfra8p0\\localcache\\local-packages\\python310\\site-packages (from ipykernel->vpython) (6.2)\n",
    "Requirement already satisfied: nest-asyncio in c:\\users\\sparisoma viridi\\appdata\\local\\packages\\pythonsoftwarefoundation.python.3.10_qbz5n2kfra8p0\\localcache\\local-packages\\python310\\site-packages (from ipykernel->vpython) (1.5.5)\n",
    "Requirement already satisfied: matplotlib-inline>=0.1 in c:\\users\\sparisoma viridi\\appdata\\local\\packages\\pythonsoftwarefoundation.python.3.10_qbz5n2kfra8p0\\localcache\\local-packages\\python310\\site-packages (from ipykernel->vpython) (0.1.3)\n",
    "Requirement already satisfied: psutil in c:\\users\\sparisoma viridi\\appdata\\local\\packages\\pythonsoftwarefoundation.python.3.10_qbz5n2kfra8p0\\localcache\\local-packages\\python310\\site-packages (from ipykernel->vpython) (5.9.0)\n",
    "Requirement already satisfied: traitlets>=5.1.0 in c:\\users\\sparisoma viridi\\appdata\\local\\packages\\pythonsoftwarefoundation.python.3.10_qbz5n2kfra8p0\\localcache\\local-packages\\python310\\site-packages (from ipykernel->vpython) (5.9.0)\n",
    "Requirement already satisfied: jupyter-client>=6.1.12 in c:\\users\\sparisoma viridi\\appdata\\local\\packages\\pythonsoftwarefoundation.python.3.10_qbz5n2kfra8p0\\localcache\\local-packages\\python310\\site-packages (from ipykernel->vpython) (7.2.1)\n",
    "Requirement already satisfied: nbconvert in c:\\users\\sparisoma viridi\\appdata\\local\\packages\\pythonsoftwarefoundation.python.3.10_qbz5n2kfra8p0\\localcache\\local-packages\\python310\\site-packages (from jupyter->vpython) (6.4.5)\n",
    "Requirement already satisfied: ipywidgets in c:\\users\\sparisoma viridi\\appdata\\local\\packages\\pythonsoftwarefoundation.python.3.10_qbz5n2kfra8p0\\localcache\\local-packages\\python310\\site-packages (from jupyter->vpython) (7.7.0)\n",
    "Collecting jupyter-console\n",
    "  Using cached jupyter_console-6.5.0-py3-none-any.whl (23 kB)\n",
    "Requirement already satisfied: notebook in c:\\users\\sparisoma viridi\\appdata\\local\\packages\\pythonsoftwarefoundation.python.3.10_qbz5n2kfra8p0\\localcache\\local-packages\\python310\\site-packages (from jupyter->vpython) (6.4.10)\n",
    "Collecting qtconsole\n",
    "  Using cached qtconsole-5.4.0-py3-none-any.whl (121 kB)\n",
    "Requirement already satisfied: simpervisor>=0.4 in c:\\users\\sparisoma viridi\\appdata\\local\\packages\\pythonsoftwarefoundation.python.3.10_qbz5n2kfra8p0\\localcache\\local-packages\\python310\\site-packages (from jupyter-server-proxy->vpython) (0.4)\n",
    "Collecting aiohttp\n",
    "  Using cached aiohttp-3.8.4-cp310-cp310-win_amd64.whl (319 kB)\n",
    "Collecting jupyter-server>=1.0\n",
    "  Using cached jupyter_server-2.2.1-py3-none-any.whl (365 kB)\n",
    "Requirement already satisfied: cffi>=1.12 in c:\\users\\sparisoma viridi\\appdata\\local\\packages\\pythonsoftwarefoundation.python.3.10_qbz5n2kfra8p0\\localcache\\local-packages\\python310\\site-packages (from cryptography>=3.4.6->autobahn<27,>=22.6.1->vpython) (1.15.0)\n",
    "Requirement already satisfied: idna>=2.5 in c:\\users\\sparisoma viridi\\appdata\\local\\packages\\pythonsoftwarefoundation.python.3.10_qbz5n2kfra8p0\\localcache\\local-packages\\python310\\site-packages (from hyperlink>=21.0.0->autobahn<27,>=22.6.1->vpython) (3.4)\n",
    "Requirement already satisfied: jedi>=0.16 in c:\\users\\sparisoma viridi\\appdata\\local\\packages\\pythonsoftwarefoundation.python.3.10_qbz5n2kfra8p0\\localcache\\local-packages\\python310\\site-packages (from ipython>=7.23.1->ipykernel->vpython) (0.18.1)\n",
    "Requirement already satisfied: decorator in c:\\users\\sparisoma viridi\\appdata\\local\\packages\\pythonsoftwarefoundation.python.3.10_qbz5n2kfra8p0\\localcache\\local-packages\\python310\\site-packages (from ipython>=7.23.1->ipykernel->vpython) (5.1.1)\n",
    "Requirement already satisfied: stack-data in c:\\users\\sparisoma viridi\\appdata\\local\\packages\\pythonsoftwarefoundation.python.3.10_qbz5n2kfra8p0\\localcache\\local-packages\\python310\\site-packages (from ipython>=7.23.1->ipykernel->vpython) (0.2.0)\n",
    "Requirement already satisfied: pickleshare in c:\\users\\sparisoma viridi\\appdata\\local\\packages\\pythonsoftwarefoundation.python.3.10_qbz5n2kfra8p0\\localcache\\local-packages\\python310\\site-packages (from ipython>=7.23.1->ipykernel->vpython) (0.7.5)\n",
    "Requirement already satisfied: pygments>=2.4.0 in c:\\users\\sparisoma viridi\\appdata\\local\\packages\\pythonsoftwarefoundation.python.3.10_qbz5n2kfra8p0\\localcache\\local-packages\\python310\\site-packages (from ipython>=7.23.1->ipykernel->vpython) (2.11.2)\n",
    "Requirement already satisfied: prompt-toolkit!=3.0.0,!=3.0.1,<3.1.0,>=2.0.0 in c:\\users\\sparisoma viridi\\appdata\\local\\packages\\pythonsoftwarefoundation.python.3.10_qbz5n2kfra8p0\\localcache\\local-packages\\python310\\site-packages (from ipython>=7.23.1->ipykernel->vpython) (3.0.36)\n",
    "Requirement already satisfied: colorama in c:\\users\\sparisoma viridi\\appdata\\local\\packages\\pythonsoftwarefoundation.python.3.10_qbz5n2kfra8p0\\localcache\\local-packages\\python310\\site-packages (from ipython>=7.23.1->ipykernel->vpython) (0.4.4)\n",
    "Requirement already satisfied: backcall in c:\\users\\sparisoma viridi\\appdata\\local\\packages\\pythonsoftwarefoundation.python.3.10_qbz5n2kfra8p0\\localcache\\local-packages\\python310\\site-packages (from ipython>=7.23.1->ipykernel->vpython) (0.2.0)\n",
    "Requirement already satisfied: python-dateutil>=2.8.2 in c:\\users\\sparisoma viridi\\appdata\\local\\packages\\pythonsoftwarefoundation.python.3.10_qbz5n2kfra8p0\\localcache\\local-packages\\python310\\site-packages (from jupyter-client>=6.1.12->ipykernel->vpython) (2.8.2)\n",
    "Requirement already satisfied: entrypoints in c:\\users\\sparisoma viridi\\appdata\\local\\packages\\pythonsoftwarefoundation.python.3.10_qbz5n2kfra8p0\\localcache\\local-packages\\python310\\site-packages (from jupyter-client>=6.1.12->ipykernel->vpython) (0.4)\n",
    "Requirement already satisfied: pyzmq>=22.3 in c:\\users\\sparisoma viridi\\appdata\\local\\packages\\pythonsoftwarefoundation.python.3.10_qbz5n2kfra8p0\\localcache\\local-packages\\python310\\site-packages (from jupyter-client>=6.1.12->ipykernel->vpython) (25.0.0)\n",
    "Requirement already satisfied: jupyter-core>=4.9.2 in c:\\users\\sparisoma viridi\\appdata\\local\\packages\\pythonsoftwarefoundation.python.3.10_qbz5n2kfra8p0\\localcache\\local-packages\\python310\\site-packages (from jupyter-client>=6.1.12->ipykernel->vpython) (4.9.2)\n",
    "Collecting jupyter-core>=4.9.2\n",
    "  Using cached jupyter_core-5.2.0-py3-none-any.whl (94 kB)\n",
    "Requirement already satisfied: packaging in c:\\users\\sparisoma viridi\\appdata\\local\\packages\\pythonsoftwarefoundation.python.3.10_qbz5n2kfra8p0\\localcache\\local-packages\\python310\\site-packages (from jupyter-server>=1.0->jupyter-server-proxy->vpython) (21.3)\n",
    "Requirement already satisfied: pywinpty in c:\\users\\sparisoma viridi\\appdata\\local\\packages\\pythonsoftwarefoundation.python.3.10_qbz5n2kfra8p0\\localcache\\local-packages\\python310\\site-packages (from jupyter-server>=1.0->jupyter-server-proxy->vpython) (2.0.5)\n",
    "Requirement already satisfied: send2trash in c:\\users\\sparisoma viridi\\appdata\\local\\packages\\pythonsoftwarefoundation.python.3.10_qbz5n2kfra8p0\\localcache\\local-packages\\python310\\site-packages (from jupyter-server>=1.0->jupyter-server-proxy->vpython) (1.8.0)\n",
    "Requirement already satisfied: prometheus-client in c:\\users\\sparisoma viridi\\appdata\\local\\packages\\pythonsoftwarefoundation.python.3.10_qbz5n2kfra8p0\\localcache\\local-packages\\python310\\site-packages (from jupyter-server>=1.0->jupyter-server-proxy->vpython) (0.13.1)\n",
    "Requirement already satisfied: jinja2 in c:\\users\\sparisoma viridi\\appdata\\local\\packages\\pythonsoftwarefoundation.python.3.10_qbz5n2kfra8p0\\localcache\\local-packages\\python310\\site-packages (from jupyter-server>=1.0->jupyter-server-proxy->vpython) (3.1.1)\n",
    "Requirement already satisfied: terminado>=0.8.3 in c:\\users\\sparisoma viridi\\appdata\\local\\packages\\pythonsoftwarefoundation.python.3.10_qbz5n2kfra8p0\\localcache\\local-packages\\python310\\site-packages (from jupyter-server>=1.0->jupyter-server-proxy->vpython) (0.13.3)\n",
    "Collecting jupyter-client>=6.1.12\n",
    "  Using cached jupyter_client-8.0.2-py3-none-any.whl (103 kB)\n",
    "Requirement already satisfied: argon2-cffi in c:\\users\\sparisoma viridi\\appdata\\local\\packages\\pythonsoftwarefoundation.python.3.10_qbz5n2kfra8p0\\localcache\\local-packages\\python310\\site-packages (from jupyter-server>=1.0->jupyter-server-proxy->vpython) (21.3.0)\n",
    "Requirement already satisfied: websocket-client in c:\\users\\sparisoma viridi\\appdata\\local\\packages\\pythonsoftwarefoundation.python.3.10_qbz5n2kfra8p0\\localcache\\local-packages\\python310\\site-packages (from jupyter-server>=1.0->jupyter-server-proxy->vpython) (1.5.1)\n",
    "Collecting nbformat>=5.3.0\n",
    "  Using cached nbformat-5.7.3-py3-none-any.whl (78 kB)\n",
    "Collecting anyio>=3.1.0\n",
    "  Using cached anyio-3.6.2-py3-none-any.whl (80 kB)\n",
    "Collecting jupyter-server-terminals\n",
    "  Using cached jupyter_server_terminals-0.4.4-py3-none-any.whl (13 kB)\n",
    "Collecting jupyter-events>=0.4.0\n",
    "  Using cached jupyter_events-0.6.3-py3-none-any.whl (18 kB)\n",
    "Requirement already satisfied: mistune<2,>=0.8.1 in c:\\users\\sparisoma viridi\\appdata\\local\\packages\\pythonsoftwarefoundation.python.3.10_qbz5n2kfra8p0\\localcache\\local-packages\\python310\\site-packages (from nbconvert->jupyter->vpython) (0.8.4)\n",
    "Requirement already satisfied: MarkupSafe>=2.0 in c:\\users\\sparisoma viridi\\appdata\\local\\packages\\pythonsoftwarefoundation.python.3.10_qbz5n2kfra8p0\\localcache\\local-packages\\python310\\site-packages (from nbconvert->jupyter->vpython) (2.1.1)\n",
    "Requirement already satisfied: beautifulsoup4 in c:\\users\\sparisoma viridi\\appdata\\local\\packages\\pythonsoftwarefoundation.python.3.10_qbz5n2kfra8p0\\localcache\\local-packages\\python310\\site-packages (from nbconvert->jupyter->vpython) (4.10.0)\n",
    "Requirement already satisfied: nbclient<0.6.0,>=0.5.0 in c:\\users\\sparisoma viridi\\appdata\\local\\packages\\pythonsoftwarefoundation.python.3.10_qbz5n2kfra8p0\\localcache\\local-packages\\python310\\site-packages (from nbconvert->jupyter->vpython) (0.5.13)\n",
    "Requirement already satisfied: defusedxml in c:\\users\\sparisoma viridi\\appdata\\local\\packages\\pythonsoftwarefoundation.python.3.10_qbz5n2kfra8p0\\localcache\\local-packages\\python310\\site-packages (from nbconvert->jupyter->vpython) (0.7.1)\n",
    "Requirement already satisfied: bleach in c:\\users\\sparisoma viridi\\appdata\\local\\packages\\pythonsoftwarefoundation.python.3.10_qbz5n2kfra8p0\\localcache\\local-packages\\python310\\site-packages (from nbconvert->jupyter->vpython) (4.1.0)\n",
    "Requirement already satisfied: jupyterlab-pygments in c:\\users\\sparisoma viridi\\appdata\\local\\packages\\pythonsoftwarefoundation.python.3.10_qbz5n2kfra8p0\\localcache\\local-packages\\python310\\site-packages (from nbconvert->jupyter->vpython) (0.1.2)\n",
    "Requirement already satisfied: pandocfilters>=1.4.1 in c:\\users\\sparisoma viridi\\appdata\\local\\packages\\pythonsoftwarefoundation.python.3.10_qbz5n2kfra8p0\\localcache\\local-packages\\python310\\site-packages (from nbconvert->jupyter->vpython) (1.5.0)\n",
    "Requirement already satisfied: testpath in c:\\users\\sparisoma viridi\\appdata\\local\\packages\\pythonsoftwarefoundation.python.3.10_qbz5n2kfra8p0\\localcache\\local-packages\\python310\\site-packages (from nbconvert->jupyter->vpython) (0.6.0)\n",
    "Requirement already satisfied: charset-normalizer<4.0,>=2.0 in c:\\users\\sparisoma viridi\\appdata\\local\\packages\\pythonsoftwarefoundation.python.3.10_qbz5n2kfra8p0\\localcache\\local-packages\\python310\\site-packages (from aiohttp->jupyter-server-proxy->vpython) (3.0.1)\n",
    "Requirement already satisfied: attrs>=17.3.0 in c:\\users\\sparisoma viridi\\appdata\\local\\packages\\pythonsoftwarefoundation.python.3.10_qbz5n2kfra8p0\\localcache\\local-packages\\python310\\site-packages (from aiohttp->jupyter-server-proxy->vpython) (21.4.0)\n",
    "Requirement already satisfied: frozenlist>=1.1.1 in c:\\users\\sparisoma viridi\\appdata\\local\\packages\\pythonsoftwarefoundation.python.3.10_qbz5n2kfra8p0\\localcache\\local-packages\\python310\\site-packages (from aiohttp->jupyter-server-proxy->vpython) (1.3.3)\n",
    "Collecting aiosignal>=1.1.2\n",
    "  Using cached aiosignal-1.3.1-py3-none-any.whl (7.6 kB)\n",
    "Requirement already satisfied: multidict<7.0,>=4.5 in c:\\users\\sparisoma viridi\\appdata\\local\\packages\\pythonsoftwarefoundation.python.3.10_qbz5n2kfra8p0\\localcache\\local-packages\\python310\\site-packages (from aiohttp->jupyter-server-proxy->vpython) (6.0.4)\n",
    "Collecting async-timeout<5.0,>=4.0.0a3\n",
    "  Using cached async_timeout-4.0.2-py3-none-any.whl (5.8 kB)\n",
    "Collecting yarl<2.0,>=1.0\n",
    "  Using cached yarl-1.8.2-cp310-cp310-win_amd64.whl (56 kB)\n",
    "Requirement already satisfied: jupyterlab-widgets>=1.0.0 in c:\\users\\sparisoma viridi\\appdata\\local\\packages\\pythonsoftwarefoundation.python.3.10_qbz5n2kfra8p0\\localcache\\local-packages\\python310\\site-packages (from ipywidgets->jupyter->vpython) (1.1.0)\n",
    "Requirement already satisfied: ipython-genutils~=0.2.0 in c:\\users\\sparisoma viridi\\appdata\\local\\packages\\pythonsoftwarefoundation.python.3.10_qbz5n2kfra8p0\\localcache\\local-packages\\python310\\site-packages (from ipywidgets->jupyter->vpython) (0.2.0)\n",
    "Requirement already satisfied: widgetsnbextension~=3.6.0 in c:\\users\\sparisoma viridi\\appdata\\local\\packages\\pythonsoftwarefoundation.python.3.10_qbz5n2kfra8p0\\localcache\\local-packages\\python310\\site-packages (from ipywidgets->jupyter->vpython) (3.6.0)\n",
    "Collecting ipykernel\n",
    "  Using cached ipykernel-6.21.1-py3-none-any.whl (149 kB)\n",
    "Collecting comm>=0.1.1\n",
    "  Using cached comm-0.1.2-py3-none-any.whl (6.5 kB)\n",
    "Requirement already satisfied: pywin32>=1.0 in c:\\users\\sparisoma viridi\\appdata\\local\\packages\\pythonsoftwarefoundation.python.3.10_qbz5n2kfra8p0\\localcache\\local-packages\\python310\\site-packages (from jupyter-core>=4.9.2->jupyter-client>=6.1.12->ipykernel->vpython) (303)\n",
    "Requirement already satisfied: platformdirs>=2.5 in c:\\users\\sparisoma viridi\\appdata\\local\\packages\\pythonsoftwarefoundation.python.3.10_qbz5n2kfra8p0\\localcache\\local-packages\\python310\\site-packages (from jupyter-core>=4.9.2->jupyter-client>=6.1.12->ipykernel->vpython) (3.0.0)\n",
    "Requirement already satisfied: pyparsing!=3.0.5,>=2.0.2 in c:\\users\\sparisoma viridi\\appdata\\local\\packages\\pythonsoftwarefoundation.python.3.10_qbz5n2kfra8p0\\localcache\\local-packages\\python310\\site-packages (from packaging->jupyter-server>=1.0->jupyter-server-proxy->vpython) (3.0.7)\n",
    "Collecting qtpy>=2.0.1\n",
    "  Using cached QtPy-2.3.0-py3-none-any.whl (83 kB)\n",
    "Requirement already satisfied: sniffio>=1.1 in c:\\users\\sparisoma viridi\\appdata\\local\\packages\\pythonsoftwarefoundation.python.3.10_qbz5n2kfra8p0\\localcache\\local-packages\\python310\\site-packages (from anyio>=3.1.0->jupyter-server>=1.0->jupyter-server-proxy->vpython) (1.3.0)\n",
    "Requirement already satisfied: pycparser in c:\\users\\sparisoma viridi\\appdata\\local\\packages\\pythonsoftwarefoundation.python.3.10_qbz5n2kfra8p0\\localcache\\local-packages\\python310\\site-packages (from cffi>=1.12->cryptography>=3.4.6->autobahn<27,>=22.6.1->vpython) (2.21)\n",
    "Requirement already satisfied: parso<0.9.0,>=0.8.0 in c:\\users\\sparisoma viridi\\appdata\\local\\packages\\pythonsoftwarefoundation.python.3.10_qbz5n2kfra8p0\\localcache\\local-packages\\python310\\site-packages (from jedi>=0.16->ipython>=7.23.1->ipykernel->vpython) (0.8.3)\n",
    "Requirement already satisfied: pyyaml>=5.3 in c:\\users\\sparisoma viridi\\appdata\\local\\packages\\pythonsoftwarefoundation.python.3.10_qbz5n2kfra8p0\\localcache\\local-packages\\python310\\site-packages (from jupyter-events>=0.4.0->jupyter-server>=1.0->jupyter-server-proxy->vpython) (6.0)\n",
    "Requirement already satisfied: rfc3986-validator>=0.1.1 in c:\\users\\sparisoma viridi\\appdata\\local\\packages\\pythonsoftwarefoundation.python.3.10_qbz5n2kfra8p0\\localcache\\local-packages\\python310\\site-packages (from jupyter-events>=0.4.0->jupyter-server>=1.0->jupyter-server-proxy->vpython) (0.1.1)\n",
    "Requirement already satisfied: rfc3339-validator in c:\\users\\sparisoma viridi\\appdata\\local\\packages\\pythonsoftwarefoundation.python.3.10_qbz5n2kfra8p0\\localcache\\local-packages\\python310\\site-packages (from jupyter-events>=0.4.0->jupyter-server>=1.0->jupyter-server-proxy->vpython) (0.1.4)\n",
    "Requirement already satisfied: python-json-logger>=2.0.4 in c:\\users\\sparisoma viridi\\appdata\\local\\packages\\pythonsoftwarefoundation.python.3.10_qbz5n2kfra8p0\\localcache\\local-packages\\python310\\site-packages (from jupyter-events>=0.4.0->jupyter-server>=1.0->jupyter-server-proxy->vpython) (2.0.5)\n",
    "Requirement already satisfied: jsonschema[format-nongpl]>=3.2.0 in c:\\users\\sparisoma viridi\\appdata\\local\\packages\\pythonsoftwarefoundation.python.3.10_qbz5n2kfra8p0\\localcache\\local-packages\\python310\\site-packages (from jupyter-events>=0.4.0->jupyter-server>=1.0->jupyter-server-proxy->vpython) (4.4.0)\n",
    "Requirement already satisfied: fastjsonschema in c:\\users\\sparisoma viridi\\appdata\\local\\packages\\pythonsoftwarefoundation.python.3.10_qbz5n2kfra8p0\\localcache\\local-packages\\python310\\site-packages (from nbformat>=5.3.0->jupyter-server>=1.0->jupyter-server-proxy->vpython) (2.16.2)\n",
    "Requirement already satisfied: wcwidth in c:\\users\\sparisoma viridi\\appdata\\local\\packages\\pythonsoftwarefoundation.python.3.10_qbz5n2kfra8p0\\localcache\\local-packages\\python310\\site-packages (from prompt-toolkit!=3.0.0,!=3.0.1,<3.1.0,>=2.0.0->ipython>=7.23.1->ipykernel->vpython) (0.2.5)\n",
    "Requirement already satisfied: six>=1.5 in c:\\users\\sparisoma viridi\\appdata\\local\\packages\\pythonsoftwarefoundation.python.3.10_qbz5n2kfra8p0\\localcache\\local-packages\\python310\\site-packages (from python-dateutil>=2.8.2->jupyter-client>=6.1.12->ipykernel->vpython) (1.16.0)\n",
    "Requirement already satisfied: argon2-cffi-bindings in c:\\users\\sparisoma viridi\\appdata\\local\\packages\\pythonsoftwarefoundation.python.3.10_qbz5n2kfra8p0\\localcache\\local-packages\\python310\\site-packages (from argon2-cffi->jupyter-server>=1.0->jupyter-server-proxy->vpython) (21.2.0)\n",
    "Requirement already satisfied: soupsieve>1.2 in c:\\users\\sparisoma viridi\\appdata\\local\\packages\\pythonsoftwarefoundation.python.3.10_qbz5n2kfra8p0\\localcache\\local-packages\\python310\\site-packages (from beautifulsoup4->nbconvert->jupyter->vpython) (2.3.1)\n",
    "Requirement already satisfied: webencodings in c:\\users\\sparisoma viridi\\appdata\\local\\packages\\pythonsoftwarefoundation.python.3.10_qbz5n2kfra8p0\\localcache\\local-packages\\python310\\site-packages (from bleach->nbconvert->jupyter->vpython) (0.5.1)\n",
    "Requirement already satisfied: executing in c:\\users\\sparisoma viridi\\appdata\\local\\packages\\pythonsoftwarefoundation.python.3.10_qbz5n2kfra8p0\\localcache\\local-packages\\python310\\site-packages (from stack-data->ipython>=7.23.1->ipykernel->vpython) (0.8.3)\n",
    "Requirement already satisfied: asttokens in c:\\users\\sparisoma viridi\\appdata\\local\\packages\\pythonsoftwarefoundation.python.3.10_qbz5n2kfra8p0\\localcache\\local-packages\\python310\\site-packages (from stack-data->ipython>=7.23.1->ipykernel->vpython) (2.0.5)\n",
    "Requirement already satisfied: pure-eval in c:\\users\\sparisoma viridi\\appdata\\local\\packages\\pythonsoftwarefoundation.python.3.10_qbz5n2kfra8p0\\localcache\\local-packages\\python310\\site-packages (from stack-data->ipython>=7.23.1->ipykernel->vpython) (0.2.2)\n",
    "Requirement already satisfied: pyrsistent!=0.17.0,!=0.17.1,!=0.17.2,>=0.14.0 in c:\\users\\sparisoma viridi\\appdata\\local\\packages\\pythonsoftwarefoundation.python.3.10_qbz5n2kfra8p0\\localcache\\local-packages\\python310\\site-packages (from jsonschema[format-nongpl]>=3.2.0->jupyter-events>=0.4.0->jupyter-server>=1.0->jupyter-server-proxy->vpython) (0.18.1)\n",
    "WARNING: jsonschema 4.4.0 does not provide the extra 'format-nongpl'\n",
    "Installing collected packages: yarl, jupyter-core, comm, async-timeout, anyio, aiosignal, qtpy, nbformat, jupyter-server-terminals, jupyter-client, cryptography, aiohttp, jupyter-events, autobahn, ipykernel, qtconsole, jupyter-server, jupyter-console, jupyter-server-proxy, jupyter, vpython\n",
    "  Attempting uninstall: jupyter-core\n",
    "    Found existing installation: jupyter-core 4.9.2\n",
    "    Uninstalling jupyter-core-4.9.2:\n",
    "      Successfully uninstalled jupyter-core-4.9.2\n",
    "  Attempting uninstall: nbformat\n",
    "    Found existing installation: nbformat 5.2.0\n",
    "    Uninstalling nbformat-5.2.0:\n",
    "      Successfully uninstalled nbformat-5.2.0\n",
    "  Attempting uninstall: jupyter-client\n",
    "    Found existing installation: jupyter-client 7.2.1\n",
    "    Uninstalling jupyter-client-7.2.1:\n",
    "      Successfully uninstalled jupyter-client-7.2.1\n",
    "  Attempting uninstall: ipykernel\n",
    "    Found existing installation: ipykernel 6.11.0\n",
    "    Uninstalling ipykernel-6.11.0:\n",
    "      Successfully uninstalled ipykernel-6.11.0\n",
    "Successfully installed aiohttp-3.8.4 aiosignal-1.3.1 anyio-3.6.2 async-timeout-4.0.2 autobahn-23.1.2 comm-0.1.2 cryptography-39.0.1 ipykernel-6.21.1 jupyter-1.0.0 jupyter-client-8.0.2 jupyter-console-6.5.0 jupyter-core-5.2.0 jupyter-events-0.6.3 jupyter-server-2.2.1 jupyter-server-proxy-3.2.2 jupyter-server-terminals-0.4.4 nbformat-5.7.3 qtconsole-5.4.0 qtpy-2.3.0 vpython-7.6.4 yarl-1.8.2\n",
    "PS L:\\home\\py-jupyter-nb>\n",
    "```"
   ]
  },
  {
   "cell_type": "markdown",
   "id": "ff2de9c6",
   "metadata": {},
   "source": [
    "### pip check conflict\n",
    "```\n",
    "PS L:\\home\\py-jupyter-nb> pip check\n",
    "chatterbot 1.0.4 has requirement python-dateutil<2.8,>=2.7, but you have python-dateutil 2.8.2.\n",
    "chatterbot-corpus 1.2.0 has requirement PyYAML<4.0,>=3.12, but you have pyyaml 6.0.\n",
    "PS L:\\home\\py-jupyter-nb>\n",
    "```"
   ]
  },
  {
   "cell_type": "markdown",
   "id": "0246a9a2",
   "metadata": {},
   "source": [
    "### (fail) install inside jupyter notebook\n",
    "```\n",
    "ERROR: Could not install packages due to an OSError: [WinError 5] Access is denied: 'C:\\\\Users\\\\Sparisoma Viridi\\\\AppData\\\\Local\\\\Packages\\\\PythonSoftwareFoundation.Python.3.10_qbz5n2kfra8p0\\\\LocalCache\\\\local-packages\\\\Python310\\\\site-packages\\\\~yzmq.libs\\\\libsodium-138090d4.dll'\n",
    "Check the permissions.\n",
    "```"
   ]
  },
  {
   "cell_type": "markdown",
   "id": "e46ef3cb",
   "metadata": {},
   "source": [
    "**Note**: It can not install `vpython` package."
   ]
  },
  {
   "cell_type": "markdown",
   "id": "ea0fa1ef",
   "metadata": {},
   "source": [
    "**All messages**:"
   ]
  },
  {
   "cell_type": "code",
   "execution_count": 2,
   "id": "0f586967",
   "metadata": {
    "scrolled": false
   },
   "outputs": [
    {
     "name": "stdout",
     "output_type": "stream",
     "text": [
      "Collecting vpython\n",
      "  Downloading vpython-7.6.4-cp310-cp310-win_amd64.whl (3.5 MB)\n",
      "     ---------------------------------------- 3.5/3.5 MB 946.8 kB/s eta 0:00:00\n",
      "Collecting jupyter\n",
      "  Downloading jupyter-1.0.0-py2.py3-none-any.whl (2.7 kB)\n",
      "Requirement already satisfied: numpy in c:\\users\\sparisoma viridi\\appdata\\local\\packages\\pythonsoftwarefoundation.python.3.10_qbz5n2kfra8p0\\localcache\\local-packages\\python310\\site-packages (from vpython) (1.22.3)\n",
      "Collecting jupyter-server-proxy\n",
      "  Downloading jupyter_server_proxy-3.2.2-py3-none-any.whl (36 kB)\n",
      "Requirement already satisfied: ipykernel in c:\\users\\sparisoma viridi\\appdata\\local\\packages\\pythonsoftwarefoundation.python.3.10_qbz5n2kfra8p0\\localcache\\local-packages\\python310\\site-packages (from vpython) (6.11.0)\n",
      "Collecting autobahn<27,>=22.6.1\n",
      "  Downloading autobahn-23.1.2.tar.gz (480 kB)\n",
      "     ------------------------------------ 480.7/480.7 kB 860.1 kB/s eta 0:00:00\n",
      "  Preparing metadata (setup.py): started\n",
      "  Preparing metadata (setup.py): finished with status 'done'\n",
      "Collecting txaio>=21.2.1\n",
      "  Downloading txaio-23.1.1-py2.py3-none-any.whl (30 kB)\n",
      "Collecting cryptography>=3.4.6\n",
      "  Downloading cryptography-39.0.1-cp36-abi3-win_amd64.whl (2.5 MB)\n",
      "     ---------------------------------------- 2.5/2.5 MB 1.0 MB/s eta 0:00:00\n",
      "Collecting hyperlink>=21.0.0\n",
      "  Downloading hyperlink-21.0.0-py2.py3-none-any.whl (74 kB)\n",
      "     -------------------------------------- 74.6/74.6 kB 242.1 kB/s eta 0:00:00\n",
      "Requirement already satisfied: setuptools in c:\\users\\sparisoma viridi\\appdata\\local\\packages\\pythonsoftwarefoundation.python.3.10_qbz5n2kfra8p0\\localcache\\local-packages\\python310\\site-packages (from autobahn<27,>=22.6.1->vpython) (61.3.1)\n",
      "Requirement already satisfied: nest-asyncio in c:\\users\\sparisoma viridi\\appdata\\local\\packages\\pythonsoftwarefoundation.python.3.10_qbz5n2kfra8p0\\localcache\\local-packages\\python310\\site-packages (from ipykernel->vpython) (1.5.5)\n",
      "Requirement already satisfied: ipython>=7.23.1 in c:\\users\\sparisoma viridi\\appdata\\local\\packages\\pythonsoftwarefoundation.python.3.10_qbz5n2kfra8p0\\localcache\\local-packages\\python310\\site-packages (from ipykernel->vpython) (8.2.0)\n",
      "Requirement already satisfied: jupyter-client>=6.1.12 in c:\\users\\sparisoma viridi\\appdata\\local\\packages\\pythonsoftwarefoundation.python.3.10_qbz5n2kfra8p0\\localcache\\local-packages\\python310\\site-packages (from ipykernel->vpython) (7.2.1)\n",
      "Requirement already satisfied: matplotlib-inline>=0.1 in c:\\users\\sparisoma viridi\\appdata\\local\\packages\\pythonsoftwarefoundation.python.3.10_qbz5n2kfra8p0\\localcache\\local-packages\\python310\\site-packages (from ipykernel->vpython) (0.1.3)\n",
      "Requirement already satisfied: tornado>=6.1 in c:\\users\\sparisoma viridi\\appdata\\local\\packages\\pythonsoftwarefoundation.python.3.10_qbz5n2kfra8p0\\localcache\\local-packages\\python310\\site-packages (from ipykernel->vpython) (6.1)\n",
      "Requirement already satisfied: debugpy>=1.0 in c:\\users\\sparisoma viridi\\appdata\\local\\packages\\pythonsoftwarefoundation.python.3.10_qbz5n2kfra8p0\\localcache\\local-packages\\python310\\site-packages (from ipykernel->vpython) (1.6.0)\n",
      "Requirement already satisfied: traitlets>=5.1.0 in c:\\users\\sparisoma viridi\\appdata\\local\\packages\\pythonsoftwarefoundation.python.3.10_qbz5n2kfra8p0\\localcache\\local-packages\\python310\\site-packages (from ipykernel->vpython) (5.1.1)\n",
      "Requirement already satisfied: psutil in c:\\users\\sparisoma viridi\\appdata\\local\\packages\\pythonsoftwarefoundation.python.3.10_qbz5n2kfra8p0\\localcache\\local-packages\\python310\\site-packages (from ipykernel->vpython) (5.9.0)\n",
      "Requirement already satisfied: notebook in c:\\users\\sparisoma viridi\\appdata\\local\\packages\\pythonsoftwarefoundation.python.3.10_qbz5n2kfra8p0\\localcache\\local-packages\\python310\\site-packages (from jupyter->vpython) (6.4.10)\n",
      "Requirement already satisfied: nbconvert in c:\\users\\sparisoma viridi\\appdata\\local\\packages\\pythonsoftwarefoundation.python.3.10_qbz5n2kfra8p0\\localcache\\local-packages\\python310\\site-packages (from jupyter->vpython) (6.4.5)\n",
      "Collecting jupyter-console\n",
      "  Downloading jupyter_console-6.5.0-py3-none-any.whl (23 kB)\n",
      "Requirement already satisfied: ipywidgets in c:\\users\\sparisoma viridi\\appdata\\local\\packages\\pythonsoftwarefoundation.python.3.10_qbz5n2kfra8p0\\localcache\\local-packages\\python310\\site-packages (from jupyter->vpython) (7.7.0)\n",
      "Collecting qtconsole\n",
      "  Downloading qtconsole-5.4.0-py3-none-any.whl (121 kB)\n",
      "     ------------------------------------ 121.0/121.0 kB 592.3 kB/s eta 0:00:00\n",
      "Collecting jupyter-server>=1.0\n",
      "  Downloading jupyter_server-2.2.1-py3-none-any.whl (365 kB)\n",
      "     ------------------------------------ 365.3/365.3 kB 437.2 kB/s eta 0:00:00\n",
      "Collecting simpervisor>=0.4\n",
      "  Downloading simpervisor-0.4-py3-none-any.whl (5.7 kB)\n",
      "Collecting aiohttp\n",
      "  Downloading aiohttp-3.8.4-cp310-cp310-win_amd64.whl (319 kB)\n",
      "     ------------------------------------ 319.8/319.8 kB 733.7 kB/s eta 0:00:00\n",
      "Requirement already satisfied: cffi>=1.12 in c:\\users\\sparisoma viridi\\appdata\\local\\packages\\pythonsoftwarefoundation.python.3.10_qbz5n2kfra8p0\\localcache\\local-packages\\python310\\site-packages (from cryptography>=3.4.6->autobahn<27,>=22.6.1->vpython) (1.15.0)\n",
      "Requirement already satisfied: idna>=2.5 in c:\\users\\sparisoma viridi\\appdata\\local\\packages\\pythonsoftwarefoundation.python.3.10_qbz5n2kfra8p0\\localcache\\local-packages\\python310\\site-packages (from hyperlink>=21.0.0->autobahn<27,>=22.6.1->vpython) (3.4)\n",
      "Requirement already satisfied: jedi>=0.16 in c:\\users\\sparisoma viridi\\appdata\\local\\packages\\pythonsoftwarefoundation.python.3.10_qbz5n2kfra8p0\\localcache\\local-packages\\python310\\site-packages (from ipython>=7.23.1->ipykernel->vpython) (0.18.1)\n",
      "Requirement already satisfied: pygments>=2.4.0 in c:\\users\\sparisoma viridi\\appdata\\local\\packages\\pythonsoftwarefoundation.python.3.10_qbz5n2kfra8p0\\localcache\\local-packages\\python310\\site-packages (from ipython>=7.23.1->ipykernel->vpython) (2.11.2)\n",
      "Requirement already satisfied: prompt-toolkit!=3.0.0,!=3.0.1,<3.1.0,>=2.0.0 in c:\\users\\sparisoma viridi\\appdata\\local\\packages\\pythonsoftwarefoundation.python.3.10_qbz5n2kfra8p0\\localcache\\local-packages\\python310\\site-packages (from ipython>=7.23.1->ipykernel->vpython) (3.0.28)\n",
      "Requirement already satisfied: stack-data in c:\\users\\sparisoma viridi\\appdata\\local\\packages\\pythonsoftwarefoundation.python.3.10_qbz5n2kfra8p0\\localcache\\local-packages\\python310\\site-packages (from ipython>=7.23.1->ipykernel->vpython) (0.2.0)\n",
      "Requirement already satisfied: pickleshare in c:\\users\\sparisoma viridi\\appdata\\local\\packages\\pythonsoftwarefoundation.python.3.10_qbz5n2kfra8p0\\localcache\\local-packages\\python310\\site-packages (from ipython>=7.23.1->ipykernel->vpython) (0.7.5)\n",
      "Requirement already satisfied: backcall in c:\\users\\sparisoma viridi\\appdata\\local\\packages\\pythonsoftwarefoundation.python.3.10_qbz5n2kfra8p0\\localcache\\local-packages\\python310\\site-packages (from ipython>=7.23.1->ipykernel->vpython) (0.2.0)\n",
      "Requirement already satisfied: decorator in c:\\users\\sparisoma viridi\\appdata\\local\\packages\\pythonsoftwarefoundation.python.3.10_qbz5n2kfra8p0\\localcache\\local-packages\\python310\\site-packages (from ipython>=7.23.1->ipykernel->vpython) (5.1.1)\n",
      "Requirement already satisfied: colorama in c:\\users\\sparisoma viridi\\appdata\\local\\packages\\pythonsoftwarefoundation.python.3.10_qbz5n2kfra8p0\\localcache\\local-packages\\python310\\site-packages (from ipython>=7.23.1->ipykernel->vpython) (0.4.4)\n",
      "Requirement already satisfied: jupyter-core>=4.9.2 in c:\\users\\sparisoma viridi\\appdata\\local\\packages\\pythonsoftwarefoundation.python.3.10_qbz5n2kfra8p0\\localcache\\local-packages\\python310\\site-packages (from jupyter-client>=6.1.12->ipykernel->vpython) (4.9.2)\n",
      "Requirement already satisfied: pyzmq>=22.3 in c:\\users\\sparisoma viridi\\appdata\\local\\packages\\pythonsoftwarefoundation.python.3.10_qbz5n2kfra8p0\\localcache\\local-packages\\python310\\site-packages (from jupyter-client>=6.1.12->ipykernel->vpython) (22.3.0)\n",
      "Requirement already satisfied: entrypoints in c:\\users\\sparisoma viridi\\appdata\\local\\packages\\pythonsoftwarefoundation.python.3.10_qbz5n2kfra8p0\\localcache\\local-packages\\python310\\site-packages (from jupyter-client>=6.1.12->ipykernel->vpython) (0.4)\n",
      "Requirement already satisfied: python-dateutil>=2.8.2 in c:\\users\\sparisoma viridi\\appdata\\local\\packages\\pythonsoftwarefoundation.python.3.10_qbz5n2kfra8p0\\localcache\\local-packages\\python310\\site-packages (from jupyter-client>=6.1.12->ipykernel->vpython) (2.8.2)\n",
      "Collecting nbformat>=5.3.0\n",
      "  Downloading nbformat-5.7.3-py3-none-any.whl (78 kB)\n",
      "     -------------------------------------- 78.1/78.1 kB 217.5 kB/s eta 0:00:00\n",
      "Collecting jupyter-client>=6.1.12\n",
      "  Using cached jupyter_client-8.0.2-py3-none-any.whl (103 kB)\n",
      "Requirement already satisfied: pywinpty in c:\\users\\sparisoma viridi\\appdata\\local\\packages\\pythonsoftwarefoundation.python.3.10_qbz5n2kfra8p0\\localcache\\local-packages\\python310\\site-packages (from jupyter-server>=1.0->jupyter-server-proxy->vpython) (2.0.5)\n",
      "Collecting jupyter-core>=4.9.2\n",
      "  Using cached jupyter_core-5.2.0-py3-none-any.whl (94 kB)\n",
      "Requirement already satisfied: send2trash in c:\\users\\sparisoma viridi\\appdata\\local\\packages\\pythonsoftwarefoundation.python.3.10_qbz5n2kfra8p0\\localcache\\local-packages\\python310\\site-packages (from jupyter-server>=1.0->jupyter-server-proxy->vpython) (1.8.0)\n",
      "Collecting tornado>=6.1\n",
      "  Using cached tornado-6.2-cp37-abi3-win_amd64.whl (425 kB)\n",
      "Requirement already satisfied: argon2-cffi in c:\\users\\sparisoma viridi\\appdata\\local\\packages\\pythonsoftwarefoundation.python.3.10_qbz5n2kfra8p0\\localcache\\local-packages\\python310\\site-packages (from jupyter-server>=1.0->jupyter-server-proxy->vpython) (21.3.0)\n",
      "Collecting pyzmq>=22.3\n",
      "  Using cached pyzmq-25.0.0-cp310-cp310-win_amd64.whl (969 kB)\n",
      "Collecting anyio>=3.1.0\n",
      "  Downloading anyio-3.6.2-py3-none-any.whl (80 kB)\n",
      "     -------------------------------------- 80.6/80.6 kB 281.5 kB/s eta 0:00:00\n",
      "Requirement already satisfied: terminado>=0.8.3 in c:\\users\\sparisoma viridi\\appdata\\local\\packages\\pythonsoftwarefoundation.python.3.10_qbz5n2kfra8p0\\localcache\\local-packages\\python310\\site-packages (from jupyter-server>=1.0->jupyter-server-proxy->vpython) (0.13.3)\n",
      "Collecting traitlets>=5.1.0\n",
      "  Using cached traitlets-5.9.0-py3-none-any.whl (117 kB)\n",
      "Requirement already satisfied: jinja2 in c:\\users\\sparisoma viridi\\appdata\\local\\packages\\pythonsoftwarefoundation.python.3.10_qbz5n2kfra8p0\\localcache\\local-packages\\python310\\site-packages (from jupyter-server>=1.0->jupyter-server-proxy->vpython) (3.1.1)\n",
      "Requirement already satisfied: packaging in c:\\users\\sparisoma viridi\\appdata\\local\\packages\\pythonsoftwarefoundation.python.3.10_qbz5n2kfra8p0\\localcache\\local-packages\\python310\\site-packages (from jupyter-server>=1.0->jupyter-server-proxy->vpython) (21.3)\n",
      "Collecting websocket-client\n",
      "  Downloading websocket_client-1.5.1-py3-none-any.whl (55 kB)\n",
      "     -------------------------------------- 55.9/55.9 kB 208.7 kB/s eta 0:00:00\n",
      "Requirement already satisfied: prometheus-client in c:\\users\\sparisoma viridi\\appdata\\local\\packages\\pythonsoftwarefoundation.python.3.10_qbz5n2kfra8p0\\localcache\\local-packages\\python310\\site-packages (from jupyter-server>=1.0->jupyter-server-proxy->vpython) (0.13.1)\n",
      "Collecting jupyter-events>=0.4.0\n",
      "  Downloading jupyter_events-0.6.3-py3-none-any.whl (18 kB)\n",
      "Collecting jupyter-server-terminals\n",
      "  Downloading jupyter_server_terminals-0.4.4-py3-none-any.whl (13 kB)\n",
      "Requirement already satisfied: mistune<2,>=0.8.1 in c:\\users\\sparisoma viridi\\appdata\\local\\packages\\pythonsoftwarefoundation.python.3.10_qbz5n2kfra8p0\\localcache\\local-packages\\python310\\site-packages (from nbconvert->jupyter->vpython) (0.8.4)\n",
      "Requirement already satisfied: testpath in c:\\users\\sparisoma viridi\\appdata\\local\\packages\\pythonsoftwarefoundation.python.3.10_qbz5n2kfra8p0\\localcache\\local-packages\\python310\\site-packages (from nbconvert->jupyter->vpython) (0.6.0)\n",
      "Requirement already satisfied: defusedxml in c:\\users\\sparisoma viridi\\appdata\\local\\packages\\pythonsoftwarefoundation.python.3.10_qbz5n2kfra8p0\\localcache\\local-packages\\python310\\site-packages (from nbconvert->jupyter->vpython) (0.7.1)\n",
      "Requirement already satisfied: beautifulsoup4 in c:\\users\\sparisoma viridi\\appdata\\local\\packages\\pythonsoftwarefoundation.python.3.10_qbz5n2kfra8p0\\localcache\\local-packages\\python310\\site-packages (from nbconvert->jupyter->vpython) (4.10.0)\n",
      "Requirement already satisfied: nbclient<0.6.0,>=0.5.0 in c:\\users\\sparisoma viridi\\appdata\\local\\packages\\pythonsoftwarefoundation.python.3.10_qbz5n2kfra8p0\\localcache\\local-packages\\python310\\site-packages (from nbconvert->jupyter->vpython) (0.5.13)\n",
      "Requirement already satisfied: pandocfilters>=1.4.1 in c:\\users\\sparisoma viridi\\appdata\\local\\packages\\pythonsoftwarefoundation.python.3.10_qbz5n2kfra8p0\\localcache\\local-packages\\python310\\site-packages (from nbconvert->jupyter->vpython) (1.5.0)\n",
      "Requirement already satisfied: MarkupSafe>=2.0 in c:\\users\\sparisoma viridi\\appdata\\local\\packages\\pythonsoftwarefoundation.python.3.10_qbz5n2kfra8p0\\localcache\\local-packages\\python310\\site-packages (from nbconvert->jupyter->vpython) (2.1.1)\n",
      "Requirement already satisfied: jupyterlab-pygments in c:\\users\\sparisoma viridi\\appdata\\local\\packages\\pythonsoftwarefoundation.python.3.10_qbz5n2kfra8p0\\localcache\\local-packages\\python310\\site-packages (from nbconvert->jupyter->vpython) (0.1.2)\n",
      "Requirement already satisfied: bleach in c:\\users\\sparisoma viridi\\appdata\\local\\packages\\pythonsoftwarefoundation.python.3.10_qbz5n2kfra8p0\\localcache\\local-packages\\python310\\site-packages (from nbconvert->jupyter->vpython) (4.1.0)\n",
      "Collecting async-timeout<5.0,>=4.0.0a3\n",
      "  Downloading async_timeout-4.0.2-py3-none-any.whl (5.8 kB)\n",
      "Requirement already satisfied: charset-normalizer<4.0,>=2.0 in c:\\users\\sparisoma viridi\\appdata\\local\\packages\\pythonsoftwarefoundation.python.3.10_qbz5n2kfra8p0\\localcache\\local-packages\\python310\\site-packages (from aiohttp->jupyter-server-proxy->vpython) (3.0.1)\n",
      "Collecting aiosignal>=1.1.2\n",
      "  Downloading aiosignal-1.3.1-py3-none-any.whl (7.6 kB)\n",
      "Requirement already satisfied: attrs>=17.3.0 in c:\\users\\sparisoma viridi\\appdata\\local\\packages\\pythonsoftwarefoundation.python.3.10_qbz5n2kfra8p0\\localcache\\local-packages\\python310\\site-packages (from aiohttp->jupyter-server-proxy->vpython) (21.4.0)\n",
      "Collecting frozenlist>=1.1.1\n",
      "  Downloading frozenlist-1.3.3-cp310-cp310-win_amd64.whl (33 kB)\n",
      "Collecting multidict<7.0,>=4.5\n",
      "  Downloading multidict-6.0.4-cp310-cp310-win_amd64.whl (28 kB)\n",
      "Collecting yarl<2.0,>=1.0\n",
      "  Downloading yarl-1.8.2-cp310-cp310-win_amd64.whl (56 kB)\n",
      "     -------------------------------------- 56.1/56.1 kB 162.5 kB/s eta 0:00:00\n",
      "Requirement already satisfied: widgetsnbextension~=3.6.0 in c:\\users\\sparisoma viridi\\appdata\\local\\packages\\pythonsoftwarefoundation.python.3.10_qbz5n2kfra8p0\\localcache\\local-packages\\python310\\site-packages (from ipywidgets->jupyter->vpython) (3.6.0)\n",
      "Requirement already satisfied: ipython-genutils~=0.2.0 in c:\\users\\sparisoma viridi\\appdata\\local\\packages\\pythonsoftwarefoundation.python.3.10_qbz5n2kfra8p0\\localcache\\local-packages\\python310\\site-packages (from ipywidgets->jupyter->vpython) (0.2.0)\n",
      "Requirement already satisfied: jupyterlab-widgets>=1.0.0 in c:\\users\\sparisoma viridi\\appdata\\local\\packages\\pythonsoftwarefoundation.python.3.10_qbz5n2kfra8p0\\localcache\\local-packages\\python310\\site-packages (from ipywidgets->jupyter->vpython) (1.1.0)\n",
      "Collecting ipykernel\n",
      "  Using cached ipykernel-6.21.1-py3-none-any.whl (149 kB)\n",
      "Collecting prompt-toolkit!=3.0.0,!=3.0.1,<3.1.0,>=2.0.0\n",
      "  Using cached prompt_toolkit-3.0.36-py3-none-any.whl (386 kB)\n",
      "Collecting comm>=0.1.1\n",
      "  Using cached comm-0.1.2-py3-none-any.whl (6.5 kB)\n",
      "Collecting debugpy>=1.0\n",
      "  Using cached debugpy-1.6.6-cp310-cp310-win_amd64.whl (4.8 MB)\n",
      "Requirement already satisfied: pywin32>=1.0 in c:\\users\\sparisoma viridi\\appdata\\local\\packages\\pythonsoftwarefoundation.python.3.10_qbz5n2kfra8p0\\localcache\\local-packages\\python310\\site-packages (from jupyter-core>=4.9.2->jupyter-client>=6.1.12->ipykernel->vpython) (303)\n",
      "Collecting platformdirs>=2.5\n",
      "  Using cached platformdirs-3.0.0-py3-none-any.whl (14 kB)\n",
      "Requirement already satisfied: pyparsing!=3.0.5,>=2.0.2 in c:\\users\\sparisoma viridi\\appdata\\local\\packages\\pythonsoftwarefoundation.python.3.10_qbz5n2kfra8p0\\localcache\\local-packages\\python310\\site-packages (from packaging->jupyter-server>=1.0->jupyter-server-proxy->vpython) (3.0.7)\n",
      "Collecting qtpy>=2.0.1\n",
      "  Downloading QtPy-2.3.0-py3-none-any.whl (83 kB)\n",
      "     -------------------------------------- 83.6/83.6 kB 293.6 kB/s eta 0:00:00\n",
      "Collecting sniffio>=1.1\n",
      "  Downloading sniffio-1.3.0-py3-none-any.whl (10 kB)\n",
      "Requirement already satisfied: pycparser in c:\\users\\sparisoma viridi\\appdata\\local\\packages\\pythonsoftwarefoundation.python.3.10_qbz5n2kfra8p0\\localcache\\local-packages\\python310\\site-packages (from cffi>=1.12->cryptography>=3.4.6->autobahn<27,>=22.6.1->vpython) (2.21)\n",
      "Requirement already satisfied: parso<0.9.0,>=0.8.0 in c:\\users\\sparisoma viridi\\appdata\\local\\packages\\pythonsoftwarefoundation.python.3.10_qbz5n2kfra8p0\\localcache\\local-packages\\python310\\site-packages (from jedi>=0.16->ipython>=7.23.1->ipykernel->vpython) (0.8.3)\n",
      "Requirement already satisfied: jsonschema[format-nongpl]>=3.2.0 in c:\\users\\sparisoma viridi\\appdata\\local\\packages\\pythonsoftwarefoundation.python.3.10_qbz5n2kfra8p0\\localcache\\local-packages\\python310\\site-packages (from jupyter-events>=0.4.0->jupyter-server>=1.0->jupyter-server-proxy->vpython) (4.4.0)\n",
      "Collecting rfc3986-validator>=0.1.1\n",
      "  Downloading rfc3986_validator-0.1.1-py2.py3-none-any.whl (4.2 kB)\n",
      "Collecting python-json-logger>=2.0.4\n",
      "  Downloading python_json_logger-2.0.5-py3-none-any.whl (7.8 kB)\n",
      "Collecting pyyaml>=5.3\n",
      "  Downloading PyYAML-6.0-cp310-cp310-win_amd64.whl (151 kB)\n",
      "     ------------------------------------ 151.7/151.7 kB 453.2 kB/s eta 0:00:00\n",
      "Collecting rfc3339-validator\n",
      "  Downloading rfc3339_validator-0.1.4-py2.py3-none-any.whl (3.5 kB)\n",
      "Collecting fastjsonschema\n",
      "  Downloading fastjsonschema-2.16.2-py3-none-any.whl (22 kB)\n",
      "Requirement already satisfied: wcwidth in c:\\users\\sparisoma viridi\\appdata\\local\\packages\\pythonsoftwarefoundation.python.3.10_qbz5n2kfra8p0\\localcache\\local-packages\\python310\\site-packages (from prompt-toolkit!=3.0.0,!=3.0.1,<3.1.0,>=2.0.0->ipython>=7.23.1->ipykernel->vpython) (0.2.5)\n",
      "Requirement already satisfied: six>=1.5 in c:\\users\\sparisoma viridi\\appdata\\local\\packages\\pythonsoftwarefoundation.python.3.10_qbz5n2kfra8p0\\localcache\\local-packages\\python310\\site-packages (from python-dateutil>=2.8.2->jupyter-client>=6.1.12->ipykernel->vpython) (1.16.0)\n",
      "Requirement already satisfied: argon2-cffi-bindings in c:\\users\\sparisoma viridi\\appdata\\local\\packages\\pythonsoftwarefoundation.python.3.10_qbz5n2kfra8p0\\localcache\\local-packages\\python310\\site-packages (from argon2-cffi->jupyter-server>=1.0->jupyter-server-proxy->vpython) (21.2.0)\n",
      "Requirement already satisfied: soupsieve>1.2 in c:\\users\\sparisoma viridi\\appdata\\local\\packages\\pythonsoftwarefoundation.python.3.10_qbz5n2kfra8p0\\localcache\\local-packages\\python310\\site-packages (from beautifulsoup4->nbconvert->jupyter->vpython) (2.3.1)\n",
      "Requirement already satisfied: webencodings in c:\\users\\sparisoma viridi\\appdata\\local\\packages\\pythonsoftwarefoundation.python.3.10_qbz5n2kfra8p0\\localcache\\local-packages\\python310\\site-packages (from bleach->nbconvert->jupyter->vpython) (0.5.1)\n",
      "Requirement already satisfied: pure-eval in c:\\users\\sparisoma viridi\\appdata\\local\\packages\\pythonsoftwarefoundation.python.3.10_qbz5n2kfra8p0\\localcache\\local-packages\\python310\\site-packages (from stack-data->ipython>=7.23.1->ipykernel->vpython) (0.2.2)\n",
      "Requirement already satisfied: asttokens in c:\\users\\sparisoma viridi\\appdata\\local\\packages\\pythonsoftwarefoundation.python.3.10_qbz5n2kfra8p0\\localcache\\local-packages\\python310\\site-packages (from stack-data->ipython>=7.23.1->ipykernel->vpython) (2.0.5)\n",
      "Requirement already satisfied: executing in c:\\users\\sparisoma viridi\\appdata\\local\\packages\\pythonsoftwarefoundation.python.3.10_qbz5n2kfra8p0\\localcache\\local-packages\\python310\\site-packages (from stack-data->ipython>=7.23.1->ipykernel->vpython) (0.8.3)\n",
      "Requirement already satisfied: pyrsistent!=0.17.0,!=0.17.1,!=0.17.2,>=0.14.0 in c:\\users\\sparisoma viridi\\appdata\\local\\packages\\pythonsoftwarefoundation.python.3.10_qbz5n2kfra8p0\\localcache\\local-packages\\python310\\site-packages (from jsonschema[format-nongpl]>=3.2.0->jupyter-events>=0.4.0->jupyter-server>=1.0->jupyter-server-proxy->vpython) (0.18.1)\n",
      "Building wheels for collected packages: autobahn\n",
      "  Building wheel for autobahn (setup.py): started\n",
      "  Building wheel for autobahn (setup.py): finished with status 'done'\n",
      "  Created wheel for autobahn: filename=autobahn-23.1.2-cp310-cp310-win_amd64.whl size=666879 sha256=311b82a73c7d0c27512441a7e298bd4b34651273f1aedbf6336dd066272bbb96\n",
      "  Stored in directory: c:\\users\\sparisoma viridi\\appdata\\local\\pip\\cache\\wheels\\0a\\a4\\60\\d547cb0414567a087281bd1474426e29194bf88b1972dba289\n",
      "Successfully built autobahn\n",
      "Installing collected packages: simpervisor, fastjsonschema, websocket-client, txaio, traitlets, tornado, sniffio, rfc3986-validator, rfc3339-validator, pyzmq, pyyaml, python-json-logger, prompt-toolkit, platformdirs, multidict, hyperlink, frozenlist, debugpy, async-timeout, yarl, qtpy, jupyter-core, cryptography, comm, anyio, aiosignal, nbformat, jupyter-server-terminals, jupyter-events, jupyter-client, autobahn, aiohttp, ipykernel, qtconsole, jupyter-console, jupyter-server, jupyter-server-proxy, jupyter, vpython\n",
      "  Attempting uninstall: traitlets\n",
      "    Found existing installation: traitlets 5.1.1\n",
      "    Uninstalling traitlets-5.1.1:\n",
      "      Successfully uninstalled traitlets-5.1.1\n",
      "  Attempting uninstall: tornado\n",
      "    Found existing installation: tornado 6.1\n",
      "    Uninstalling tornado-6.1:\n",
      "      Successfully uninstalled tornado-6.1\n",
      "  Attempting uninstall: pyzmq\n",
      "    Found existing installation: pyzmq 22.3.0\n",
      "    Uninstalling pyzmq-22.3.0:\n",
      "      Successfully uninstalled pyzmq-22.3.0\n"
     ]
    },
    {
     "name": "stderr",
     "output_type": "stream",
     "text": [
      "WARNING: jsonschema 4.4.0 does not provide the extra 'format-nongpl'\n",
      "ERROR: Could not install packages due to an OSError: [WinError 5] Access is denied: 'C:\\\\Users\\\\Sparisoma Viridi\\\\AppData\\\\Local\\\\Packages\\\\PythonSoftwareFoundation.Python.3.10_qbz5n2kfra8p0\\\\LocalCache\\\\local-packages\\\\Python310\\\\site-packages\\\\~yzmq.libs\\\\libsodium-138090d4.dll'\n",
      "Check the permissions.\n",
      "\n"
     ]
    }
   ],
   "source": [
    "!pip install vpython"
   ]
  },
  {
   "cell_type": "markdown",
   "id": "36e0488d",
   "metadata": {},
   "source": [
    "### (fail) install using powershell while jupyter server is running\n",
    "```\n",
    "PS L:\\home\\py-jupyter-nb> pip install vpython\n",
    "Collecting vpython\n",
    "..\n",
    "ERROR: Could not install packages due to an OSError: [WinError 5] Access is denied: 'C:\\\\Users\\\\Sparisoma Viridi\\\\AppData\\\\Local\\\\Packages\\\\PythonSoftwareFoundation.Python.3.10_qbz5n2kfra8p0\\\\LocalCache\\\\local-packages\\\\Python310\\\\site-packages\\\\~ebugpy\\\\_vendored\\\\pydevd\\\\_pydevd_bundle\\\\pydevd_cython.cp310-win_amd64.pyd'\n",
    "Check the permissions.\n",
    "PS L:\\home\\py-jupyter-nb>\n",
    "```"
   ]
  },
  {
   "cell_type": "markdown",
   "id": "4e342ca4",
   "metadata": {},
   "source": [
    "**Note**: It can not install `vpython` package."
   ]
  },
  {
   "cell_type": "markdown",
   "id": "967b0ca7",
   "metadata": {},
   "source": [
    "**All messages**:\n",
    "```\n",
    "PS L:\\home\\py-jupyter-nb> pip install vpython\n",
    "Collecting vpython\n",
    "  Using cached vpython-7.6.4-cp310-cp310-win_amd64.whl (3.5 MB)\n",
    "Collecting jupyter-server-proxy\n",
    "  Using cached jupyter_server_proxy-3.2.2-py3-none-any.whl (36 kB)\n",
    "Requirement already satisfied: ipykernel in c:\\users\\sparisoma viridi\\appdata\\local\\packages\\pythonsoftwarefoundation.python.3.10_qbz5n2kfra8p0\\localcache\\local-packages\\python310\\site-packages (from vpython) (6.11.0)\n",
    "Requirement already satisfied: numpy in c:\\users\\sparisoma viridi\\appdata\\local\\packages\\pythonsoftwarefoundation.python.3.10_qbz5n2kfra8p0\\localcache\\local-packages\\python310\\site-packages (from vpython) (1.22.3)\n",
    "Collecting autobahn<27,>=22.6.1\n",
    "  Using cached autobahn-23.1.2-cp310-cp310-win_amd64.whl\n",
    "Collecting jupyter\n",
    "  Using cached jupyter-1.0.0-py2.py3-none-any.whl (2.7 kB)\n",
    "Requirement already satisfied: setuptools in c:\\users\\sparisoma viridi\\appdata\\local\\packages\\pythonsoftwarefoundation.python.3.10_qbz5n2kfra8p0\\localcache\\local-packages\\python310\\site-packages (from autobahn<27,>=22.6.1->vpython) (61.3.1)\n",
    "Collecting cryptography>=3.4.6\n",
    "  Using cached cryptography-39.0.1-cp36-abi3-win_amd64.whl (2.5 MB)\n",
    "Collecting hyperlink>=21.0.0\n",
    "  Using cached hyperlink-21.0.0-py2.py3-none-any.whl (74 kB)\n",
    "Requirement already satisfied: txaio>=21.2.1 in c:\\users\\sparisoma viridi\\appdata\\local\\packages\\pythonsoftwarefoundation.python.3.10_qbz5n2kfra8p0\\localcache\\local-packages\\python310\\site-packages (from autobahn<27,>=22.6.1->vpython) (23.1.1)\n",
    "Requirement already satisfied: psutil in c:\\users\\sparisoma viridi\\appdata\\local\\packages\\pythonsoftwarefoundation.python.3.10_qbz5n2kfra8p0\\localcache\\local-packages\\python310\\site-packages (from ipykernel->vpython) (5.9.0)\n",
    "Requirement already satisfied: ipython>=7.23.1 in c:\\users\\sparisoma viridi\\appdata\\local\\packages\\pythonsoftwarefoundation.python.3.10_qbz5n2kfra8p0\\localcache\\local-packages\\python310\\site-packages (from ipykernel->vpython) (8.2.0)\n",
    "Requirement already satisfied: traitlets>=5.1.0 in c:\\users\\sparisoma viridi\\appdata\\local\\packages\\pythonsoftwarefoundation.python.3.10_qbz5n2kfra8p0\\localcache\\local-packages\\python310\\site-packages (from ipykernel->vpython) (5.9.0)\n",
    "Requirement already satisfied: tornado>=6.1 in c:\\users\\sparisoma viridi\\appdata\\local\\packages\\pythonsoftwarefoundation.python.3.10_qbz5n2kfra8p0\\localcache\\local-packages\\python310\\site-packages (from ipykernel->vpython) (6.2)\n",
    "Requirement already satisfied: debugpy>=1.0 in c:\\users\\sparisoma viridi\\appdata\\local\\packages\\pythonsoftwarefoundation.python.3.10_qbz5n2kfra8p0\\localcache\\local-packages\\python310\\site-packages (from ipykernel->vpython) (1.6.0)\n",
    "Requirement already satisfied: jupyter-client>=6.1.12 in c:\\users\\sparisoma viridi\\appdata\\local\\packages\\pythonsoftwarefoundation.python.3.10_qbz5n2kfra8p0\\localcache\\local-packages\\python310\\site-packages (from ipykernel->vpython) (7.2.1)\n",
    "Requirement already satisfied: nest-asyncio in c:\\users\\sparisoma viridi\\appdata\\local\\packages\\pythonsoftwarefoundation.python.3.10_qbz5n2kfra8p0\\localcache\\local-packages\\python310\\site-packages (from ipykernel->vpython) (1.5.5)\n",
    "Requirement already satisfied: matplotlib-inline>=0.1 in c:\\users\\sparisoma viridi\\appdata\\local\\packages\\pythonsoftwarefoundation.python.3.10_qbz5n2kfra8p0\\localcache\\local-packages\\python310\\site-packages (from ipykernel->vpython) (0.1.3)\n",
    "Requirement already satisfied: notebook in c:\\users\\sparisoma viridi\\appdata\\local\\packages\\pythonsoftwarefoundation.python.3.10_qbz5n2kfra8p0\\localcache\\local-packages\\python310\\site-packages (from jupyter->vpython) (6.4.10)\n",
    "Collecting qtconsole\n",
    "  Using cached qtconsole-5.4.0-py3-none-any.whl (121 kB)\n",
    "Requirement already satisfied: ipywidgets in c:\\users\\sparisoma viridi\\appdata\\local\\packages\\pythonsoftwarefoundation.python.3.10_qbz5n2kfra8p0\\localcache\\local-packages\\python310\\site-packages (from jupyter->vpython) (7.7.0)\n",
    "Requirement already satisfied: nbconvert in c:\\users\\sparisoma viridi\\appdata\\local\\packages\\pythonsoftwarefoundation.python.3.10_qbz5n2kfra8p0\\localcache\\local-packages\\python310\\site-packages (from jupyter->vpython) (6.4.5)\n",
    "Collecting jupyter-console\n",
    "  Using cached jupyter_console-6.5.0-py3-none-any.whl (23 kB)\n",
    "Collecting jupyter-server>=1.0\n",
    "  Using cached jupyter_server-2.2.1-py3-none-any.whl (365 kB)\n",
    "Requirement already satisfied: simpervisor>=0.4 in c:\\users\\sparisoma viridi\\appdata\\local\\packages\\pythonsoftwarefoundation.python.3.10_qbz5n2kfra8p0\\localcache\\local-packages\\python310\\site-packages (from jupyter-server-proxy->vpython) (0.4)\n",
    "Collecting aiohttp\n",
    "  Using cached aiohttp-3.8.4-cp310-cp310-win_amd64.whl (319 kB)\n",
    "Requirement already satisfied: cffi>=1.12 in c:\\users\\sparisoma viridi\\appdata\\local\\packages\\pythonsoftwarefoundation.python.3.10_qbz5n2kfra8p0\\localcache\\local-packages\\python310\\site-packages (from cryptography>=3.4.6->autobahn<27,>=22.6.1->vpython) (1.15.0)\n",
    "Requirement already satisfied: idna>=2.5 in c:\\users\\sparisoma viridi\\appdata\\local\\packages\\pythonsoftwarefoundation.python.3.10_qbz5n2kfra8p0\\localcache\\local-packages\\python310\\site-packages (from hyperlink>=21.0.0->autobahn<27,>=22.6.1->vpython) (3.4)\n",
    "Requirement already satisfied: jedi>=0.16 in c:\\users\\sparisoma viridi\\appdata\\local\\packages\\pythonsoftwarefoundation.python.3.10_qbz5n2kfra8p0\\localcache\\local-packages\\python310\\site-packages (from ipython>=7.23.1->ipykernel->vpython) (0.18.1)\n",
    "Requirement already satisfied: stack-data in c:\\users\\sparisoma viridi\\appdata\\local\\packages\\pythonsoftwarefoundation.python.3.10_qbz5n2kfra8p0\\localcache\\local-packages\\python310\\site-packages (from ipython>=7.23.1->ipykernel->vpython) (0.2.0)\n",
    "Requirement already satisfied: prompt-toolkit!=3.0.0,!=3.0.1,<3.1.0,>=2.0.0 in c:\\users\\sparisoma viridi\\appdata\\local\\packages\\pythonsoftwarefoundation.python.3.10_qbz5n2kfra8p0\\localcache\\local-packages\\python310\\site-packages (from ipython>=7.23.1->ipykernel->vpython) (3.0.28)\n",
    "Requirement already satisfied: colorama in c:\\users\\sparisoma viridi\\appdata\\local\\packages\\pythonsoftwarefoundation.python.3.10_qbz5n2kfra8p0\\localcache\\local-packages\\python310\\site-packages (from ipython>=7.23.1->ipykernel->vpython) (0.4.4)\n",
    "Requirement already satisfied: backcall in c:\\users\\sparisoma viridi\\appdata\\local\\packages\\pythonsoftwarefoundation.python.3.10_qbz5n2kfra8p0\\localcache\\local-packages\\python310\\site-packages (from ipython>=7.23.1->ipykernel->vpython) (0.2.0)\n",
    "Requirement already satisfied: decorator in c:\\users\\sparisoma viridi\\appdata\\local\\packages\\pythonsoftwarefoundation.python.3.10_qbz5n2kfra8p0\\localcache\\local-packages\\python310\\site-packages (from ipython>=7.23.1->ipykernel->vpython) (5.1.1)\n",
    "Requirement already satisfied: pygments>=2.4.0 in c:\\users\\sparisoma viridi\\appdata\\local\\packages\\pythonsoftwarefoundation.python.3.10_qbz5n2kfra8p0\\localcache\\local-packages\\python310\\site-packages (from ipython>=7.23.1->ipykernel->vpython) (2.11.2)\n",
    "Requirement already satisfied: pickleshare in c:\\users\\sparisoma viridi\\appdata\\local\\packages\\pythonsoftwarefoundation.python.3.10_qbz5n2kfra8p0\\localcache\\local-packages\\python310\\site-packages (from ipython>=7.23.1->ipykernel->vpython) (0.7.5)\n",
    "Requirement already satisfied: entrypoints in c:\\users\\sparisoma viridi\\appdata\\local\\packages\\pythonsoftwarefoundation.python.3.10_qbz5n2kfra8p0\\localcache\\local-packages\\python310\\site-packages (from jupyter-client>=6.1.12->ipykernel->vpython) (0.4)\n",
    "Requirement already satisfied: jupyter-core>=4.9.2 in c:\\users\\sparisoma viridi\\appdata\\local\\packages\\pythonsoftwarefoundation.python.3.10_qbz5n2kfra8p0\\localcache\\local-packages\\python310\\site-packages (from jupyter-client>=6.1.12->ipykernel->vpython) (4.9.2)\n",
    "Requirement already satisfied: python-dateutil>=2.8.2 in c:\\users\\sparisoma viridi\\appdata\\local\\packages\\pythonsoftwarefoundation.python.3.10_qbz5n2kfra8p0\\localcache\\local-packages\\python310\\site-packages (from jupyter-client>=6.1.12->ipykernel->vpython) (2.8.2)\n",
    "Requirement already satisfied: pyzmq>=22.3 in c:\\users\\sparisoma viridi\\appdata\\local\\packages\\pythonsoftwarefoundation.python.3.10_qbz5n2kfra8p0\\localcache\\local-packages\\python310\\site-packages (from jupyter-client>=6.1.12->ipykernel->vpython) (25.0.0)\n",
    "Requirement already satisfied: jinja2 in c:\\users\\sparisoma viridi\\appdata\\local\\packages\\pythonsoftwarefoundation.python.3.10_qbz5n2kfra8p0\\localcache\\local-packages\\python310\\site-packages (from jupyter-server>=1.0->jupyter-server-proxy->vpython) (3.1.1)\n",
    "Collecting jupyter-server-terminals\n",
    "  Using cached jupyter_server_terminals-0.4.4-py3-none-any.whl (13 kB)\n",
    "Requirement already satisfied: packaging in c:\\users\\sparisoma viridi\\appdata\\local\\packages\\pythonsoftwarefoundation.python.3.10_qbz5n2kfra8p0\\localcache\\local-packages\\python310\\site-packages (from jupyter-server>=1.0->jupyter-server-proxy->vpython) (21.3)\n",
    "Collecting jupyter-client>=6.1.12\n",
    "  Using cached jupyter_client-8.0.2-py3-none-any.whl (103 kB)\n",
    "Collecting anyio>=3.1.0\n",
    "  Using cached anyio-3.6.2-py3-none-any.whl (80 kB)\n",
    "Requirement already satisfied: pywinpty in c:\\users\\sparisoma viridi\\appdata\\local\\packages\\pythonsoftwarefoundation.python.3.10_qbz5n2kfra8p0\\localcache\\local-packages\\python310\\site-packages (from jupyter-server>=1.0->jupyter-server-proxy->vpython) (2.0.5)\n",
    "Requirement already satisfied: send2trash in c:\\users\\sparisoma viridi\\appdata\\local\\packages\\pythonsoftwarefoundation.python.3.10_qbz5n2kfra8p0\\localcache\\local-packages\\python310\\site-packages (from jupyter-server>=1.0->jupyter-server-proxy->vpython) (1.8.0)\n",
    "Requirement already satisfied: terminado>=0.8.3 in c:\\users\\sparisoma viridi\\appdata\\local\\packages\\pythonsoftwarefoundation.python.3.10_qbz5n2kfra8p0\\localcache\\local-packages\\python310\\site-packages (from jupyter-server>=1.0->jupyter-server-proxy->vpython) (0.13.3)\n",
    "Requirement already satisfied: websocket-client in c:\\users\\sparisoma viridi\\appdata\\local\\packages\\pythonsoftwarefoundation.python.3.10_qbz5n2kfra8p0\\localcache\\local-packages\\python310\\site-packages (from jupyter-server>=1.0->jupyter-server-proxy->vpython) (1.5.1)\n",
    "Collecting jupyter-core>=4.9.2\n",
    "  Using cached jupyter_core-5.2.0-py3-none-any.whl (94 kB)\n",
    "Requirement already satisfied: prometheus-client in c:\\users\\sparisoma viridi\\appdata\\local\\packages\\pythonsoftwarefoundation.python.3.10_qbz5n2kfra8p0\\localcache\\local-packages\\python310\\site-packages (from jupyter-server>=1.0->jupyter-server-proxy->vpython) (0.13.1)\n",
    "Collecting nbformat>=5.3.0\n",
    "  Using cached nbformat-5.7.3-py3-none-any.whl (78 kB)\n",
    "Collecting jupyter-events>=0.4.0\n",
    "  Using cached jupyter_events-0.6.3-py3-none-any.whl (18 kB)\n",
    "Requirement already satisfied: argon2-cffi in c:\\users\\sparisoma viridi\\appdata\\local\\packages\\pythonsoftwarefoundation.python.3.10_qbz5n2kfra8p0\\localcache\\local-packages\\python310\\site-packages (from jupyter-server>=1.0->jupyter-server-proxy->vpython) (21.3.0)\n",
    "Requirement already satisfied: jupyterlab-pygments in c:\\users\\sparisoma viridi\\appdata\\local\\packages\\pythonsoftwarefoundation.python.3.10_qbz5n2kfra8p0\\localcache\\local-packages\\python310\\site-packages (from nbconvert->jupyter->vpython) (0.1.2)\n",
    "Requirement already satisfied: beautifulsoup4 in c:\\users\\sparisoma viridi\\appdata\\local\\packages\\pythonsoftwarefoundation.python.3.10_qbz5n2kfra8p0\\localcache\\local-packages\\python310\\site-packages (from nbconvert->jupyter->vpython) (4.10.0)\n",
    "Requirement already satisfied: defusedxml in c:\\users\\sparisoma viridi\\appdata\\local\\packages\\pythonsoftwarefoundation.python.3.10_qbz5n2kfra8p0\\localcache\\local-packages\\python310\\site-packages (from nbconvert->jupyter->vpython) (0.7.1)\n",
    "Requirement already satisfied: testpath in c:\\users\\sparisoma viridi\\appdata\\local\\packages\\pythonsoftwarefoundation.python.3.10_qbz5n2kfra8p0\\localcache\\local-packages\\python310\\site-packages (from nbconvert->jupyter->vpython) (0.6.0)\n",
    "Requirement already satisfied: mistune<2,>=0.8.1 in c:\\users\\sparisoma viridi\\appdata\\local\\packages\\pythonsoftwarefoundation.python.3.10_qbz5n2kfra8p0\\localcache\\local-packages\\python310\\site-packages (from nbconvert->jupyter->vpython) (0.8.4)\n",
    "Requirement already satisfied: nbclient<0.6.0,>=0.5.0 in c:\\users\\sparisoma viridi\\appdata\\local\\packages\\pythonsoftwarefoundation.python.3.10_qbz5n2kfra8p0\\localcache\\local-packages\\python310\\site-packages (from nbconvert->jupyter->vpython) (0.5.13)\n",
    "Requirement already satisfied: pandocfilters>=1.4.1 in c:\\users\\sparisoma viridi\\appdata\\local\\packages\\pythonsoftwarefoundation.python.3.10_qbz5n2kfra8p0\\localcache\\local-packages\\python310\\site-packages (from nbconvert->jupyter->vpython) (1.5.0)\n",
    "Requirement already satisfied: MarkupSafe>=2.0 in c:\\users\\sparisoma viridi\\appdata\\local\\packages\\pythonsoftwarefoundation.python.3.10_qbz5n2kfra8p0\\localcache\\local-packages\\python310\\site-packages (from nbconvert->jupyter->vpython) (2.1.1)\n",
    "Requirement already satisfied: bleach in c:\\users\\sparisoma viridi\\appdata\\local\\packages\\pythonsoftwarefoundation.python.3.10_qbz5n2kfra8p0\\localcache\\local-packages\\python310\\site-packages (from nbconvert->jupyter->vpython) (4.1.0)\n",
    "Collecting yarl<2.0,>=1.0\n",
    "  Using cached yarl-1.8.2-cp310-cp310-win_amd64.whl (56 kB)\n",
    "Collecting multidict<7.0,>=4.5\n",
    "  Using cached multidict-6.0.4-cp310-cp310-win_amd64.whl (28 kB)\n",
    "Requirement already satisfied: attrs>=17.3.0 in c:\\users\\sparisoma viridi\\appdata\\local\\packages\\pythonsoftwarefoundation.python.3.10_qbz5n2kfra8p0\\localcache\\local-packages\\python310\\site-packages (from aiohttp->jupyter-server-proxy->vpython) (21.4.0)\n",
    "Collecting frozenlist>=1.1.1\n",
    "  Using cached frozenlist-1.3.3-cp310-cp310-win_amd64.whl (33 kB)\n",
    "Collecting async-timeout<5.0,>=4.0.0a3\n",
    "  Using cached async_timeout-4.0.2-py3-none-any.whl (5.8 kB)\n",
    "Collecting aiosignal>=1.1.2\n",
    "  Using cached aiosignal-1.3.1-py3-none-any.whl (7.6 kB)\n",
    "Requirement already satisfied: charset-normalizer<4.0,>=2.0 in c:\\users\\sparisoma viridi\\appdata\\local\\packages\\pythonsoftwarefoundation.python.3.10_qbz5n2kfra8p0\\localcache\\local-packages\\python310\\site-packages (from aiohttp->jupyter-server-proxy->vpython) (3.0.1)\n",
    "Requirement already satisfied: jupyterlab-widgets>=1.0.0 in c:\\users\\sparisoma viridi\\appdata\\local\\packages\\pythonsoftwarefoundation.python.3.10_qbz5n2kfra8p0\\localcache\\local-packages\\python310\\site-packages (from ipywidgets->jupyter->vpython) (1.1.0)\n",
    "Requirement already satisfied: ipython-genutils~=0.2.0 in c:\\users\\sparisoma viridi\\appdata\\local\\packages\\pythonsoftwarefoundation.python.3.10_qbz5n2kfra8p0\\localcache\\local-packages\\python310\\site-packages (from ipywidgets->jupyter->vpython) (0.2.0)\n",
    "Requirement already satisfied: widgetsnbextension~=3.6.0 in c:\\users\\sparisoma viridi\\appdata\\local\\packages\\pythonsoftwarefoundation.python.3.10_qbz5n2kfra8p0\\localcache\\local-packages\\python310\\site-packages (from ipywidgets->jupyter->vpython) (3.6.0)\n",
    "Collecting prompt-toolkit!=3.0.0,!=3.0.1,<3.1.0,>=2.0.0\n",
    "  Using cached prompt_toolkit-3.0.36-py3-none-any.whl (386 kB)\n",
    "Collecting ipykernel\n",
    "  Using cached ipykernel-6.21.1-py3-none-any.whl (149 kB)\n",
    "Collecting debugpy>=1.0\n",
    "  Using cached debugpy-1.6.6-cp310-cp310-win_amd64.whl (4.8 MB)\n",
    "Collecting comm>=0.1.1\n",
    "  Using cached comm-0.1.2-py3-none-any.whl (6.5 kB)\n",
    "Requirement already satisfied: pywin32>=1.0 in c:\\users\\sparisoma viridi\\appdata\\local\\packages\\pythonsoftwarefoundation.python.3.10_qbz5n2kfra8p0\\localcache\\local-packages\\python310\\site-packages (from jupyter-core>=4.9.2->jupyter-client>=6.1.12->ipykernel->vpython) (303)\n",
    "Collecting platformdirs>=2.5\n",
    "  Using cached platformdirs-3.0.0-py3-none-any.whl (14 kB)\n",
    "Requirement already satisfied: pyparsing!=3.0.5,>=2.0.2 in c:\\users\\sparisoma viridi\\appdata\\local\\packages\\pythonsoftwarefoundation.python.3.10_qbz5n2kfra8p0\\localcache\\local-packages\\python310\\site-packages (from packaging->jupyter-server>=1.0->jupyter-server-proxy->vpython) (3.0.7)\n",
    "Collecting qtpy>=2.0.1\n",
    "  Using cached QtPy-2.3.0-py3-none-any.whl (83 kB)\n",
    "Requirement already satisfied: sniffio>=1.1 in c:\\users\\sparisoma viridi\\appdata\\local\\packages\\pythonsoftwarefoundation.python.3.10_qbz5n2kfra8p0\\localcache\\local-packages\\python310\\site-packages (from anyio>=3.1.0->jupyter-server>=1.0->jupyter-server-proxy->vpython) (1.3.0)\n",
    "Requirement already satisfied: pycparser in c:\\users\\sparisoma viridi\\appdata\\local\\packages\\pythonsoftwarefoundation.python.3.10_qbz5n2kfra8p0\\localcache\\local-packages\\python310\\site-packages (from cffi>=1.12->cryptography>=3.4.6->autobahn<27,>=22.6.1->vpython) (2.21)\n",
    "Requirement already satisfied: parso<0.9.0,>=0.8.0 in c:\\users\\sparisoma viridi\\appdata\\local\\packages\\pythonsoftwarefoundation.python.3.10_qbz5n2kfra8p0\\localcache\\local-packages\\python310\\site-packages (from jedi>=0.16->ipython>=7.23.1->ipykernel->vpython) (0.8.3)\n",
    "Collecting pyyaml>=5.3\n",
    "  Using cached PyYAML-6.0-cp310-cp310-win_amd64.whl (151 kB)\n",
    "Requirement already satisfied: rfc3986-validator>=0.1.1 in c:\\users\\sparisoma viridi\\appdata\\local\\packages\\pythonsoftwarefoundation.python.3.10_qbz5n2kfra8p0\\localcache\\local-packages\\python310\\site-packages (from jupyter-events>=0.4.0->jupyter-server>=1.0->jupyter-server-proxy->vpython) (0.1.1)\n",
    "Collecting python-json-logger>=2.0.4\n",
    "  Using cached python_json_logger-2.0.5-py3-none-any.whl (7.8 kB)\n",
    "Requirement already satisfied: rfc3339-validator in c:\\users\\sparisoma viridi\\appdata\\local\\packages\\pythonsoftwarefoundation.python.3.10_qbz5n2kfra8p0\\localcache\\local-packages\\python310\\site-packages (from jupyter-events>=0.4.0->jupyter-server>=1.0->jupyter-server-proxy->vpython) (0.1.4)\n",
    "Requirement already satisfied: jsonschema[format-nongpl]>=3.2.0 in c:\\users\\sparisoma viridi\\appdata\\local\\packages\\pythonsoftwarefoundation.python.3.10_qbz5n2kfra8p0\\localcache\\local-packages\\python310\\site-packages (from jupyter-events>=0.4.0->jupyter-server>=1.0->jupyter-server-proxy->vpython) (4.4.0)\n",
    "Requirement already satisfied: fastjsonschema in c:\\users\\sparisoma viridi\\appdata\\local\\packages\\pythonsoftwarefoundation.python.3.10_qbz5n2kfra8p0\\localcache\\local-packages\\python310\\site-packages (from nbformat>=5.3.0->jupyter-server>=1.0->jupyter-server-proxy->vpython) (2.16.2)\n",
    "Requirement already satisfied: wcwidth in c:\\users\\sparisoma viridi\\appdata\\local\\packages\\pythonsoftwarefoundation.python.3.10_qbz5n2kfra8p0\\localcache\\local-packages\\python310\\site-packages (from prompt-toolkit!=3.0.0,!=3.0.1,<3.1.0,>=2.0.0->ipython>=7.23.1->ipykernel->vpython) (0.2.5)\n",
    "Requirement already satisfied: six>=1.5 in c:\\users\\sparisoma viridi\\appdata\\local\\packages\\pythonsoftwarefoundation.python.3.10_qbz5n2kfra8p0\\localcache\\local-packages\\python310\\site-packages (from python-dateutil>=2.8.2->jupyter-client>=6.1.12->ipykernel->vpython) (1.16.0)\n",
    "Requirement already satisfied: argon2-cffi-bindings in c:\\users\\sparisoma viridi\\appdata\\local\\packages\\pythonsoftwarefoundation.python.3.10_qbz5n2kfra8p0\\localcache\\local-packages\\python310\\site-packages (from argon2-cffi->jupyter-server>=1.0->jupyter-server-proxy->vpython) (21.2.0)\n",
    "Requirement already satisfied: soupsieve>1.2 in c:\\users\\sparisoma viridi\\appdata\\local\\packages\\pythonsoftwarefoundation.python.3.10_qbz5n2kfra8p0\\localcache\\local-packages\\python310\\site-packages (from beautifulsoup4->nbconvert->jupyter->vpython) (2.3.1)\n",
    "Requirement already satisfied: webencodings in c:\\users\\sparisoma viridi\\appdata\\local\\packages\\pythonsoftwarefoundation.python.3.10_qbz5n2kfra8p0\\localcache\\local-packages\\python310\\site-packages (from bleach->nbconvert->jupyter->vpython) (0.5.1)\n",
    "Requirement already satisfied: asttokens in c:\\users\\sparisoma viridi\\appdata\\local\\packages\\pythonsoftwarefoundation.python.3.10_qbz5n2kfra8p0\\localcache\\local-packages\\python310\\site-packages (from stack-data->ipython>=7.23.1->ipykernel->vpython) (2.0.5)\n",
    "Requirement already satisfied: pure-eval in c:\\users\\sparisoma viridi\\appdata\\local\\packages\\pythonsoftwarefoundation.python.3.10_qbz5n2kfra8p0\\localcache\\local-packages\\python310\\site-packages (from stack-data->ipython>=7.23.1->ipykernel->vpython) (0.2.2)\n",
    "Requirement already satisfied: executing in c:\\users\\sparisoma viridi\\appdata\\local\\packages\\pythonsoftwarefoundation.python.3.10_qbz5n2kfra8p0\\localcache\\local-packages\\python310\\site-packages (from stack-data->ipython>=7.23.1->ipykernel->vpython) (0.8.3)\n",
    "Requirement already satisfied: pyrsistent!=0.17.0,!=0.17.1,!=0.17.2,>=0.14.0 in c:\\users\\sparisoma viridi\\appdata\\local\\packages\\pythonsoftwarefoundation.python.3.10_qbz5n2kfra8p0\\localcache\\local-packages\\python310\\site-packages (from jsonschema[format-nongpl]>=3.2.0->jupyter-events>=0.4.0->jupyter-server>=1.0->jupyter-server-proxy->vpython) (0.18.1)\n",
    "WARNING: jsonschema 4.4.0 does not provide the extra 'format-nongpl'\n",
    "Installing collected packages: pyyaml, python-json-logger, prompt-toolkit, platformdirs, multidict, hyperlink, frozenlist, debugpy, comm, async-timeout, anyio, yarl, qtpy, jupyter-server-terminals, jupyter-core, cryptography, aiosignal, nbformat, jupyter-events, jupyter-client, autobahn, aiohttp, ipykernel, qtconsole, jupyter-console, jupyter-server, jupyter-server-proxy, jupyter, vpython\n",
    "  Attempting uninstall: pyyaml\n",
    "    Found existing installation: PyYAML 3.13\n",
    "    Uninstalling PyYAML-3.13:\n",
    "      Successfully uninstalled PyYAML-3.13\n",
    "  Attempting uninstall: prompt-toolkit\n",
    "    Found existing installation: prompt-toolkit 3.0.28\n",
    "    Uninstalling prompt-toolkit-3.0.28:\n",
    "      Successfully uninstalled prompt-toolkit-3.0.28\n",
    "  Attempting uninstall: debugpy\n",
    "    Found existing installation: debugpy 1.6.0\n",
    "    Uninstalling debugpy-1.6.0:\n",
    "      Successfully uninstalled debugpy-1.6.0\n",
    "ERROR: Could not install packages due to an OSError: [WinError 5] Access is denied: 'C:\\\\Users\\\\Sparisoma Viridi\\\\AppData\\\\Local\\\\Packages\\\\PythonSoftwareFoundation.Python.3.10_qbz5n2kfra8p0\\\\LocalCache\\\\local-packages\\\\Python310\\\\site-packages\\\\~ebugpy\\\\_vendored\\\\pydevd\\\\_pydevd_bundle\\\\pydevd_cython.cp310-win_amd64.pyd'\n",
    "Check the permissions.\n",
    "```"
   ]
  },
  {
   "cell_type": "markdown",
   "id": "de87a75f",
   "metadata": {},
   "source": [
    "## import\n",
    "Example from [VPython](https://pypi.org/project/vpython/) to test installed package."
   ]
  },
  {
   "cell_type": "code",
   "execution_count": 1,
   "id": "0630ae54",
   "metadata": {},
   "outputs": [
    {
     "data": {
      "text/html": [
       "<div id=\"glowscript\" class=\"glowscript\"></div>"
      ],
      "text/plain": [
       "<IPython.core.display.HTML object>"
      ]
     },
     "metadata": {},
     "output_type": "display_data"
    },
    {
     "data": {
      "application/javascript": [
       "if (typeof Jupyter !== \"undefined\") { window.__context = { glowscript_container: $(\"#glowscript\").removeAttr(\"id\")};}else{ element.textContent = ' ';}"
      ],
      "text/plain": [
       "<IPython.core.display.Javascript object>"
      ]
     },
     "metadata": {},
     "output_type": "display_data"
    },
    {
     "data": {
      "application/javascript": [
       "if (typeof Jupyter !== \"undefined\") {require.undef(\"nbextensions/vpython_libraries/glow.min\");}else{element.textContent = ' ';}"
      ],
      "text/plain": [
       "<IPython.core.display.Javascript object>"
      ]
     },
     "metadata": {},
     "output_type": "display_data"
    },
    {
     "data": {
      "application/javascript": [
       "if (typeof Jupyter !== \"undefined\") {require.undef(\"nbextensions/vpython_libraries/glowcomm\");}else{element.textContent = ' ';}"
      ],
      "text/plain": [
       "<IPython.core.display.Javascript object>"
      ]
     },
     "metadata": {},
     "output_type": "display_data"
    },
    {
     "data": {
      "application/javascript": [
       "if (typeof Jupyter !== \"undefined\") {require.undef(\"nbextensions/vpython_libraries/jquery-ui.custom.min\");}else{element.textContent = ' ';}"
      ],
      "text/plain": [
       "<IPython.core.display.Javascript object>"
      ]
     },
     "metadata": {},
     "output_type": "display_data"
    },
    {
     "data": {
      "application/javascript": [
       "if (typeof Jupyter !== \"undefined\") {require([\"nbextensions/vpython_libraries/glow.min\"], function(){console.log(\"GLOW LOADED\");});}else{element.textContent = ' ';}"
      ],
      "text/plain": [
       "<IPython.core.display.Javascript object>"
      ]
     },
     "metadata": {},
     "output_type": "display_data"
    },
    {
     "data": {
      "application/javascript": [
       "if (typeof Jupyter !== \"undefined\") {require([\"nbextensions/vpython_libraries/glowcomm\"], function(){console.log(\"GLOWCOMM LOADED\");});}else{element.textContent = ' ';}"
      ],
      "text/plain": [
       "<IPython.core.display.Javascript object>"
      ]
     },
     "metadata": {},
     "output_type": "display_data"
    },
    {
     "data": {
      "application/javascript": [
       "if (typeof Jupyter !== \"undefined\") {require([\"nbextensions/vpython_libraries/jquery-ui.custom.min\"], function(){console.log(\"JQUERY LOADED\");});}else{element.textContent = ' ';}"
      ],
      "text/plain": [
       "<IPython.core.display.Javascript object>"
      ]
     },
     "metadata": {},
     "output_type": "display_data"
    }
   ],
   "source": [
    "from vpython import *\n",
    "sphere()"
   ]
  },
  {
   "cell_type": "code",
   "execution_count": null,
   "id": "b2ae64b1",
   "metadata": {},
   "outputs": [],
   "source": []
  }
 ],
 "metadata": {
  "authors": [
   {
    "name": "Sparisoma Viridi"
   }
  ],
  "kernelspec": {
   "display_name": "Python 3 (ipykernel)",
   "language": "python",
   "name": "python3"
  },
  "language_info": {
   "codemirror_mode": {
    "name": "ipython",
    "version": 3
   },
   "file_extension": ".py",
   "mimetype": "text/x-python",
   "name": "python",
   "nbconvert_exporter": "python",
   "pygments_lexer": "ipython3",
   "version": "3.10.10"
  },
  "title": "virtualenv"
 },
 "nbformat": 4,
 "nbformat_minor": 5
}
