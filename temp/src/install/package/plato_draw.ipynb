{
 "cells": [
  {
   "cell_type": "markdown",
   "id": "cca11c7c",
   "metadata": {},
   "source": [
    "# plato_draw\n",
    "+ Install using shell and use `plato-draw` in a Jupyter notebook.\n",
    "+ Do not execute related cell in this notebook if the library is not already installed."
   ]
  },
  {
   "cell_type": "markdown",
   "id": "5ba170b2",
   "metadata": {},
   "source": [
    "## check installation"
   ]
  },
  {
   "cell_type": "code",
   "execution_count": 1,
   "id": "24f2a77b",
   "metadata": {},
   "outputs": [
    {
     "name": "stderr",
     "output_type": "stream",
     "text": [
      "WARNING: Package(s) not found: plato-draw\n"
     ]
    }
   ],
   "source": [
    "!pip show plato-draw"
   ]
  },
  {
   "cell_type": "markdown",
   "id": "ee823697",
   "metadata": {},
   "source": [
    "## install\n",
    "**Note**: Installation is performed in a shell, e.g PowerShell in this example."
   ]
  },
  {
   "cell_type": "markdown",
   "id": "a0187b96",
   "metadata": {},
   "source": [
    "```\n",
    "PS L:\\home\\py-jupyter-nb> pip install plato-draw\n",
    "Collecting plato-draw\n",
    "  Downloading plato_draw-1.12.0-py3-none-any.whl (127 kB)\n",
    "     ---------------------------------------- 127.1/127.1 kB 207.6 kB/s eta 0:00:00\n",
    "Collecting rowan\n",
    "  Downloading rowan-1.3.0.post1-py2.py3-none-any.whl (28 kB)\n",
    "Requirement already satisfied: scipy in c:\\users\\sparisoma viridi\\appdata\\local\\packages\\pythonsoftwarefoundation.python.3.10_qbz5n2kfra8p0\\localcache\\local-packages\\python310\\site-packages (from plato-draw) (1.10.0)\n",
    "Requirement already satisfied: numpy in c:\\users\\sparisoma viridi\\appdata\\local\\packages\\pythonsoftwarefoundation.python.3.10_qbz5n2kfra8p0\\localcache\\local-packages\\python310\\site-packages (from plato-draw) (1.24.2)\n",
    "Installing collected packages: rowan, plato-draw\n",
    "Successfully installed plato-draw-1.12.0 rowan-1.3.0.post1\n",
    "```"
   ]
  },
  {
   "cell_type": "markdown",
   "id": "69f6063b",
   "metadata": {},
   "source": [
    "**Note**: It can install `mpl-flow` package."
   ]
  },
  {
   "cell_type": "markdown",
   "id": "bf095701",
   "metadata": {},
   "source": [
    "```\n",
    "PS L:\\home\\py-jupyter-nb> pip install flowws\n",
    "Collecting flowws\n",
    "  Downloading flowws-0.5.2-py3-none-any.whl (15 kB)\n",
    "Installing collected packages: flowws\n",
    "Successfully installed flowws-0.5.2\n",
    "```"
   ]
  },
  {
   "cell_type": "markdown",
   "id": "84c26503",
   "metadata": {},
   "source": [
    "**Note**: It can install `flowws` package."
   ]
  },
  {
   "cell_type": "markdown",
   "id": "d24a1145",
   "metadata": {},
   "source": [
    "```\n",
    "PS L:\\home\\py-jupyter-nb> pip install gtar\n",
    "Collecting gtar\n",
    "  Downloading gtar-1.1.3.tar.gz (2.6 MB)\n",
    "     ---------------------------------------- 2.6/2.6 MB 612.5 kB/s eta 0:00:00\n",
    "  Installing build dependencies ... done\n",
    "  Getting requirements to build wheel ... done\n",
    "  Preparing metadata (pyproject.toml) ... done\n",
    "Requirement already satisfied: numpy in c:\\users\\sparisoma viridi\\appdata\\local\\packages\\pythonsoftwarefoundation.python.3.10_qbz5n2kfra8p0\\localcache\\local-packages\\python310\\site-packages (from gtar) (1.24.2)\n",
    "Building wheels for collected packages: gtar\n",
    "  Building wheel for gtar (pyproject.toml) ... error\n",
    "  error: subprocess-exited-with-error\n",
    "\n",
    "  × Building wheel for gtar (pyproject.toml) did not run successfully.\n",
    "  │ exit code: 1\n",
    "  ╰─> [15 lines of output]\n",
    "      running bdist_wheel\n",
    "      running build\n",
    "      running build_py\n",
    "      creating build\n",
    "      creating build\\lib.win-amd64-cpython-310\n",
    "      creating build\\lib.win-amd64-cpython-310\\gtar\n",
    "      copying gtar\\cat.py -> build\\lib.win-amd64-cpython-310\\gtar\n",
    "      copying gtar\\copy.py -> build\\lib.win-amd64-cpython-310\\gtar\n",
    "      copying gtar\\fix.py -> build\\lib.win-amd64-cpython-310\\gtar\n",
    "      copying gtar\\read.py -> build\\lib.win-amd64-cpython-310\\gtar\n",
    "      copying gtar\\version.py -> build\\lib.win-amd64-cpython-310\\gtar\n",
    "      copying gtar\\__init__.py -> build\\lib.win-amd64-cpython-310\\gtar\n",
    "      running build_ext\n",
    "      building 'gtar._gtar' extension\n",
    "      error: Microsoft Visual C++ 14.0 or greater is required. Get it with \"Microsoft C++ Build Tools\": https://visualstudio.microsoft.com/visual-cpp-build-tools/\n",
    "      [end of output]\n",
    "\n",
    "  note: This error originates from a subprocess, and is likely not a problem with pip.\n",
    "  ERROR: Failed building wheel for gtar\n",
    "Failed to build gtar\n",
    "ERROR: Could not build wheels for gtar, which is required to install pyproject.toml-based projects\n",
    "```"
   ]
  },
  {
   "cell_type": "markdown",
   "id": "5027774a",
   "metadata": {},
   "source": [
    "**Note**: It can not install `gtar` package. Donwload and execute `vs_BuildTools.exe` from https://visualstudio.microsoft.com/de/visual-cpp-build-tools/.\n",
    "+ Install Visual Studio Build Tools 2022 -- 17.4.5\n",
    "+ Install Desktop development with C++ (including C++ Build Tools core features, .., MVSC v143, ..)."
   ]
  },
  {
   "cell_type": "markdown",
   "id": "b0f2c1f5",
   "metadata": {},
   "source": [
    "```\n",
    "PS L:\\home\\py-jupyter-nb> pip install gtar\n",
    "Collecting gtar\n",
    "  Using cached gtar-1.1.3.tar.gz (2.6 MB)\n",
    "  Installing build dependencies ... done\n",
    "  Getting requirements to build wheel ... done\n",
    "  Preparing metadata (pyproject.toml) ... done\n",
    "Requirement already satisfied: numpy in c:\\users\\sparisoma viridi\\appdata\\local\\packages\\pythonsoftwarefoundation.python.3.10_qbz5n2kfra8p0\\localcache\\local-packages\\python310\\site-packages (from gtar) (1.24.2)\n",
    "Building wheels for collected packages: gtar\n",
    "  Building wheel for gtar (pyproject.toml) ... done\n",
    "  Created wheel for gtar: filename=gtar-1.1.3-cp310-cp310-win_amd64.whl size=618949 sha256=3179a7e8b5deb7e72f5722acc08fbecdfec6eeab88c4ac5778d3287a45635086\n",
    "  Stored in directory: c:\\users\\sparisoma viridi\\appdata\\local\\pip\\cache\\wheels\\8a\\10\\b1\\eddc3353608cbc386b0113f2bea34c83e5fae7ce26deb059db\n",
    "Successfully built gtar\n",
    "Installing collected packages: gtar\n",
    "Successfully installed gtar-1.1.3\n",
    "```"
   ]
  },
  {
   "cell_type": "markdown",
   "id": "fdd0d7e6",
   "metadata": {},
   "source": [
    "**Note**: It can install  and build`gtar` package."
   ]
  },
  {
   "cell_type": "markdown",
   "id": "f36a4247",
   "metadata": {},
   "source": [
    "```\n",
    "PS L:\\home\\py-jupyter-nb> pip install freud\n",
    "Collecting freud\n",
    "  Downloading freud-0.1.2-py3-none-any.whl (30 kB)\n",
    "Requirement already satisfied: requests in c:\\users\\sparisoma viridi\\appdata\\local\\packages\\pythonsoftwarefoundation.python.3.10_qbz5n2kfra8p0\\localcache\\local-packages\\python310\\site-packages (from freud) (2.28.2)\n",
    "Requirement already satisfied: pygments in c:\\users\\sparisoma viridi\\appdata\\local\\packages\\pythonsoftwarefoundation.python.3.10_qbz5n2kfra8p0\\localcache\\local-packages\\python310\\site-packages (from freud) (2.11.2)\n",
    "Collecting prompt-toolkit==2.0.3\n",
    "  Downloading prompt_toolkit-2.0.3-py3-none-any.whl (322 kB)\n",
    "     ---------------------------------------- 322.9/322.9 kB 572.7 kB/s eta 0:00:00\n",
    "Requirement already satisfied: wcwidth in c:\\users\\sparisoma viridi\\appdata\\local\\packages\\pythonsoftwarefoundation.python.3.10_qbz5n2kfra8p0\\localcache\\local-packages\\python310\\site-packages (from prompt-toolkit==2.0.3->freud) (0.2.5)\n",
    "Requirement already satisfied: six>=1.9.0 in c:\\users\\sparisoma viridi\\appdata\\local\\packages\\pythonsoftwarefoundation.python.3.10_qbz5n2kfra8p0\\localcache\\local-packages\\python310\\site-packages (from prompt-toolkit==2.0.3->freud) (1.16.0)\n",
    "Requirement already satisfied: charset-normalizer<4,>=2 in c:\\users\\sparisoma viridi\\appdata\\local\\packages\\pythonsoftwarefoundation.python.3.10_qbz5n2kfra8p0\\localcache\\local-packages\\python310\\site-packages (from requests->freud) (3.0.1)\n",
    "Requirement already satisfied: idna<4,>=2.5 in c:\\users\\sparisoma viridi\\appdata\\local\\packages\\pythonsoftwarefoundation.python.3.10_qbz5n2kfra8p0\\localcache\\local-packages\\python310\\site-packages (from requests->freud) (3.4)\n",
    "Requirement already satisfied: urllib3<1.27,>=1.21.1 in c:\\users\\sparisoma viridi\\appdata\\local\\packages\\pythonsoftwarefoundation.python.3.10_qbz5n2kfra8p0\\localcache\\local-packages\\python310\\site-packages (from requests->freud) (1.26.14)\n",
    "Requirement already satisfied: certifi>=2017.4.17 in c:\\users\\sparisoma viridi\\appdata\\local\\packages\\pythonsoftwarefoundation.python.3.10_qbz5n2kfra8p0\\localcache\\local-packages\\python310\\site-packages (from requests->freud) (2022.12.7)\n",
    "Installing collected packages: prompt-toolkit, freud\n",
    "  Attempting uninstall: prompt-toolkit\n",
    "    Found existing installation: prompt-toolkit 3.0.36\n",
    "    Uninstalling prompt-toolkit-3.0.36:\n",
    "      Successfully uninstalled prompt-toolkit-3.0.36\n",
    "ERROR: pip's dependency resolver does not currently take into account all the packages that are installed. This behaviour is the source of the following dependency conflicts.\n",
    "jupyter-console 6.5.0 requires prompt-toolkit>=3.0.30, but you have prompt-toolkit 2.0.3 which is incompatible.\n",
    "Successfully installed freud-0.1.2 prompt-toolkit-2.0.3\n",
    "```"
   ]
  },
  {
   "cell_type": "markdown",
   "id": "bcfed9ad",
   "metadata": {},
   "source": [
    "**Note**: It can install `freud` package."
   ]
  },
  {
   "cell_type": "markdown",
   "id": "abb07cd0",
   "metadata": {},
   "source": [
    "```\n",
    "PS L:\\home\\py-jupyter-nb> pip install hoomd-flowws\n",
    "Collecting hoomd-flowws\n",
    "  Downloading hoomd_flowws-0.1-py3-none-any.whl (32 kB)\n",
    "Requirement already satisfied: flowws in c:\\users\\sparisoma viridi\\appdata\\local\\packages\\pythonsoftwarefoundation.python.3.10_qbz5n2kfra8p0\\localcache\\local-packages\\python310\\site-packages (from hoomd-flowws) (0.5.2)\n",
    "Installing collected packages: hoomd-flowws\n",
    "Successfully installed hoomd-flowws-0.1\n",
    "```"
   ]
  },
  {
   "cell_type": "markdown",
   "id": "4aeb4a90",
   "metadata": {},
   "source": [
    "**Note**: It can install `hoomd-flowws` package."
   ]
  },
  {
   "cell_type": "markdown",
   "id": "78876831",
   "metadata": {},
   "source": [
    "```\n",
    "PS L:\\home\\py-jupyter-nb> pip install hoomd\n",
    "ERROR: Could not find a version that satisfies the requirement hoomd (from versions: none)\n",
    "ERROR: No matching distribution found for hoomd\n",
    "```"
   ]
  },
  {
   "cell_type": "markdown",
   "id": "6fbb12e9",
   "metadata": {},
   "source": [
    "```\n",
    "PS L:\\home\\py-jupyter-nb> pip install flowws\n",
    "Requirement already satisfied: flowws in c:\\users\\sparisoma viridi\\appdata\\local\\packages\\pythonsoftwarefoundation.python.3.10_qbz5n2kfra8p0\\localcache\\local-packages\\python310\\site-packages (0.5.2)\n",
    "PS L:\\home\\py-jupyter-nb> pip show flowws\n",
    "Name: flowws\n",
    "Version: 0.5.2\n",
    "Summary: Library for development of stage-based scientific workflows\n",
    "Home-page: UNKNOWN\n",
    "Author: Matthew Spellings\n",
    "Author-email: matthew.p.spellings@gmail.com\n",
    "License: MIT\n",
    "Location: c:\\users\\sparisoma viridi\\appdata\\local\\packages\\pythonsoftwarefoundation.python.3.10_qbz5n2kfra8p0\\localcache\\local-packages\\python310\\site-packages\n",
    "Requires:\n",
    "Required-by: hoomd-flowws\n",
    "```"
   ]
  },
  {
   "cell_type": "markdown",
   "id": "de87a75f",
   "metadata": {},
   "source": [
    "## import\n",
    "Example from [plato-gallery](https://github.com/glotzerlab/plato-gallery) to test installed package."
   ]
  },
  {
   "cell_type": "code",
   "execution_count": 7,
   "id": "0630ae54",
   "metadata": {},
   "outputs": [
    {
     "ename": "ModuleNotFoundError",
     "evalue": "No module named 'hoomd'",
     "output_type": "error",
     "traceback": [
      "\u001b[1;31m---------------------------------------------------------------------------\u001b[0m",
      "\u001b[1;31mModuleNotFoundError\u001b[0m                       Traceback (most recent call last)",
      "Input \u001b[1;32mIn [7]\u001b[0m, in \u001b[0;36m<cell line: 3>\u001b[1;34m()\u001b[0m\n\u001b[0;32m      1\u001b[0m \u001b[38;5;28;01mimport\u001b[39;00m \u001b[38;5;21;01mflowws\u001b[39;00m\n\u001b[0;32m      2\u001b[0m \u001b[38;5;28;01mimport\u001b[39;00m \u001b[38;5;21;01mgtar\u001b[39;00m\n\u001b[1;32m----> 3\u001b[0m \u001b[38;5;28;01mfrom\u001b[39;00m \u001b[38;5;21;01mhoomd_flowws\u001b[39;00m\u001b[38;5;21;01m.\u001b[39;00m\u001b[38;5;21;01mInit\u001b[39;00m \u001b[38;5;28;01mimport\u001b[39;00m Init\n\u001b[0;32m      4\u001b[0m \u001b[38;5;28;01mfrom\u001b[39;00m \u001b[38;5;21;01mhoomd_flowws\u001b[39;00m\u001b[38;5;21;01m.\u001b[39;00m\u001b[38;5;21;01mInteraction\u001b[39;00m \u001b[38;5;28;01mimport\u001b[39;00m Interaction\n\u001b[0;32m      5\u001b[0m \u001b[38;5;28;01mfrom\u001b[39;00m \u001b[38;5;21;01mhoomd_flowws\u001b[39;00m\u001b[38;5;21;01m.\u001b[39;00m\u001b[38;5;21;01mRun\u001b[39;00m \u001b[38;5;28;01mimport\u001b[39;00m Run\n",
      "File \u001b[1;32m~\\AppData\\Local\\Packages\\PythonSoftwareFoundation.Python.3.10_qbz5n2kfra8p0\\LocalCache\\local-packages\\Python310\\site-packages\\hoomd_flowws\\Init.py:3\u001b[0m, in \u001b[0;36m<module>\u001b[1;34m\u001b[0m\n\u001b[0;32m      1\u001b[0m \u001b[38;5;28;01mimport\u001b[39;00m \u001b[38;5;21;01mitertools\u001b[39;00m\n\u001b[1;32m----> 3\u001b[0m \u001b[38;5;28;01mfrom\u001b[39;00m \u001b[38;5;21;01m.\u001b[39;00m\u001b[38;5;21;01minternal\u001b[39;00m \u001b[38;5;28;01mimport\u001b[39;00m HoomdContext, intfloat\n\u001b[0;32m      4\u001b[0m \u001b[38;5;28;01mimport\u001b[39;00m \u001b[38;5;21;01mhoomd\u001b[39;00m\n\u001b[0;32m      5\u001b[0m \u001b[38;5;28;01mimport\u001b[39;00m \u001b[38;5;21;01mhoomd\u001b[39;00m\u001b[38;5;21;01m.\u001b[39;00m\u001b[38;5;21;01mdem\u001b[39;00m\n",
      "File \u001b[1;32m~\\AppData\\Local\\Packages\\PythonSoftwareFoundation.Python.3.10_qbz5n2kfra8p0\\LocalCache\\local-packages\\Python310\\site-packages\\hoomd_flowws\\internal.py:4\u001b[0m, in \u001b[0;36m<module>\u001b[1;34m\u001b[0m\n\u001b[0;32m      1\u001b[0m \u001b[38;5;28;01mimport\u001b[39;00m \u001b[38;5;21;01mcontextlib\u001b[39;00m\n\u001b[0;32m      2\u001b[0m \u001b[38;5;28;01mimport\u001b[39;00m \u001b[38;5;21;01mos\u001b[39;00m\n\u001b[1;32m----> 4\u001b[0m \u001b[38;5;28;01mimport\u001b[39;00m \u001b[38;5;21;01mhoomd\u001b[39;00m\n\u001b[0;32m      5\u001b[0m \u001b[38;5;28;01mimport\u001b[39;00m \u001b[38;5;21;01mhoomd\u001b[39;00m\u001b[38;5;21;01m.\u001b[39;00m\u001b[38;5;21;01mcomm\u001b[39;00m\n\u001b[0;32m      6\u001b[0m \u001b[38;5;28;01mimport\u001b[39;00m \u001b[38;5;21;01mflowws\u001b[39;00m\n",
      "\u001b[1;31mModuleNotFoundError\u001b[0m: No module named 'hoomd'"
     ]
    }
   ],
   "source": [
    "import flowws\n",
    "import gtar\n",
    "from hoomd_flowws.Init import Init\n",
    "from hoomd_flowws.Interaction import Interaction\n",
    "from hoomd_flowws.Run import Run\n",
    "\n",
    "import plato, plato.draw.povray as draw\n",
    "import freud\n",
    "import numpy as np\n",
    "import IPython\n",
    "import ipywidgets"
   ]
  },
  {
   "cell_type": "code",
   "execution_count": null,
   "id": "e5179568",
   "metadata": {},
   "outputs": [],
   "source": [
    "storage = flowws.DirectoryStorage()\n",
    "stages = [\n",
    "    Init(number=128),\n",
    "    Interaction(\n",
    "        type='lj', global_params=[('r_cut', 2**(1./6))],\n",
    "        pair_params=[('A', 'A', 'epsilon', 1), ('A', 'A', 'sigma', 1)]),\n",
    "    Run(steps=1e3, integrator='langevin'),\n",
    "    Run(steps=1e4, integrator='langevin', compress_to=.57, dump_period=1e3),\n",
    "]\n",
    "\n",
    "flowws.Workflow(stages, storage).run()"
   ]
  },
  {
   "cell_type": "code",
   "execution_count": null,
   "id": "e5d995cc",
   "metadata": {},
   "outputs": [],
   "source": [
    "num_frames = 0\n",
    "\n",
    "def get_frame(frame=-1):\n",
    "    global num_frames\n",
    "    with gtar.GTAR('dump.sqlite', 'r') as traj:\n",
    "        (posRec, boxRec), frames = traj.framesWithRecordsNamed(['position', 'box'])\n",
    "\n",
    "        num_frames = len(frames)\n",
    "        positions = traj.getRecord(posRec, frames[frame])\n",
    "        box = traj.getRecord(boxRec, frames[frame])\n",
    "    return positions, box"
   ]
  },
  {
   "cell_type": "code",
   "execution_count": null,
   "id": "bb7a7e32",
   "metadata": {},
   "outputs": [],
   "source": [
    "def update(scene, frame=-1):\n",
    "    (positions, box) = get_frame(frame)\n",
    "\n",
    "    # get nearest-neighbor distance, rescaled to go from 0-1, as cval\n",
    "    fbox = freud.box.Box.from_box(box)\n",
    "    nn = freud.locality.AABBQuery(fbox, positions)\n",
    "    nlist = nn.query(positions, dict(exclude_ii=True, num_neighbors=1)).toNeighborList(True)\n",
    "    cval = nlist.distances.copy()\n",
    "    cval -= np.min(cval)\n",
    "    cval /= np.max(cval)\n",
    "\n",
    "    colors = plato.cmap.cubehelix(.25 + .5*cval)\n",
    "\n",
    "    for prim in scene:\n",
    "        prim.colors = colors\n",
    "        prim.positions = positions\n",
    "        prim.diameters = np.ones(len(positions))\n",
    "\n",
    "prim = draw.Spheres()\n",
    "features = dict(ambient_light=.4)\n",
    "scene = draw.Scene(prim, features=features, zoom=4.8)\n",
    "update(scene)\n",
    "\n",
    "target = '../../gallery/flowws_spheres_povray.png'\n",
    "scene.save(target)\n",
    "IPython.display.Image(filename=target)"
   ]
  },
  {
   "cell_type": "code",
   "execution_count": null,
   "id": "ee4ebc8d",
   "metadata": {},
   "outputs": [],
   "source": [
    "import plato.draw.vispy as interactive\n",
    "\n",
    "live_scene = scene.convert(interactive)\n",
    "live_scene.show()\n",
    "\n",
    "@ipywidgets.interact(frame=(0, num_frames - 1))\n",
    "def plot(frame=0):\n",
    "    update(live_scene, frame)\n",
    "    live_scene.render()"
   ]
  }
 ],
 "metadata": {
  "authors": [
   {
    "name": "Sparisoma Viridi"
   }
  ],
  "kernelspec": {
   "display_name": "Python 3 (ipykernel)",
   "language": "python",
   "name": "python3"
  },
  "language_info": {
   "codemirror_mode": {
    "name": "ipython",
    "version": 3
   },
   "file_extension": ".py",
   "mimetype": "text/x-python",
   "name": "python",
   "nbconvert_exporter": "python",
   "pygments_lexer": "ipython3",
   "version": "3.10.10"
  },
  "title": "plato_draw"
 },
 "nbformat": 4,
 "nbformat_minor": 5
}
