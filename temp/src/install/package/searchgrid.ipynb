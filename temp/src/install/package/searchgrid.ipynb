{
 "cells": [
  {
   "cell_type": "markdown",
   "id": "cca11c7c",
   "metadata": {},
   "source": [
    "# searchgrid\n",
    "+ Install using shell and use `searchgrid` in a Jupyter notebook.\n",
    "+ Do not execute related cell in this notebook if the library is not already installed."
   ]
  },
  {
   "cell_type": "markdown",
   "id": "5ba170b2",
   "metadata": {},
   "source": [
    "## check installation"
   ]
  },
  {
   "cell_type": "code",
   "execution_count": 1,
   "id": "24f2a77b",
   "metadata": {},
   "outputs": [
    {
     "name": "stderr",
     "output_type": "stream",
     "text": [
      "WARNING: Package(s) not found: searchgrid\n"
     ]
    }
   ],
   "source": [
    "!pip show searchgrid"
   ]
  },
  {
   "cell_type": "markdown",
   "id": "ee823697",
   "metadata": {},
   "source": [
    "## install\n",
    "**Note**: Installation is performed in a shell, e.g PowerShell in this example."
   ]
  },
  {
   "cell_type": "markdown",
   "id": "5a2f3fbd",
   "metadata": {},
   "source": [
    "```\n",
    "PS L:\\home\\py-jupyter-nb> pip install searchgrid\n",
    "Collecting searchgrid\n",
    "  Downloading searchgrid-0.2.0.tar.gz (6.2 kB)\n",
    "  Preparing metadata (setup.py) ... done\n",
    "Requirement already satisfied: numpy in c:\\users\\full name\\appdata\\local\\packages\\pythonsoftwarefoundation.python.3.10_qbz5n2kfra8p0\\localcache\\local-packages\\python310\\site-packages (from searchgrid) (1.24.2)\n",
    "Requirement already satisfied: scipy in c:\\users\\full name\\appdata\\local\\packages\\pythonsoftwarefoundation.python.3.10_qbz5n2kfra8p0\\localcache\\local-packages\\python310\\site-packages (from searchgrid) (1.10.0)\n",
    "Collecting scikit-learn~=0.18\n",
    "  Downloading scikit-learn-0.24.2.tar.gz (7.5 MB)\n",
    "     ---------------------------------------- 7.5/7.5 MB 541.5 kB/s eta 0:00:00\n",
    "  Installing build dependencies ... done\n",
    "  Getting requirements to build wheel ... done\n",
    "  Preparing metadata (pyproject.toml) ... done\n",
    "Requirement already satisfied: threadpoolctl>=2.0.0 in c:\\users\\full name\\appdata\\local\\packages\\pythonsoftwarefoundation.python.3.10_qbz5n2kfra8p0\\localcache\\local-packages\\python310\\site-packages (from scikit-learn~=0.18->searchgrid) (3.1.0)\n",
    "Requirement already satisfied: joblib>=0.11 in c:\\users\\full name\\appdata\\local\\packages\\pythonsoftwarefoundation.python.3.10_qbz5n2kfra8p0\\localcache\\local-packages\\python310\\site-packages (from scikit-learn~=0.18->searchgrid) (1.2.0)\n",
    "Building wheels for collected packages: searchgrid, scikit-learn\n",
    "  Building wheel for searchgrid (setup.py) ... done\n",
    "  Created wheel for searchgrid: filename=searchgrid-0.2.0-py3-none-any.whl size=5764 sha256=99d88189210f54a2748a0d6976e291301510b9d913ddcfa81f968173167c52d5\n",
    "  Stored in directory: c:\\users\\full name\\appdata\\local\\pip\\cache\\wheels\\ad\\d2\\dd\\54c0ffeb532e902508c10c25426171e53fa63b1df7841f96c6\n",
    "  Building wheel for scikit-learn (pyproject.toml) ... done\n",
    "  Created wheel for scikit-learn: filename=scikit_learn-0.24.2-cp310-cp310-win_amd64.whl size=6294398 sha256=eb493ffb234efaf7a8a8be2bc44a19474f848f1a233ee7494780dc216db82fee\n",
    "  Stored in directory: c:\\users\\full name\\appdata\\local\\pip\\cache\\wheels\\13\\a4\\68\\4e78865652fa14db4a162b491e5138565f97646f9e1f2ab8cc\n",
    "Successfully built searchgrid scikit-learn\n",
    "Installing collected packages: scikit-learn, searchgrid\n",
    "  Attempting uninstall: scikit-learn\n",
    "    Found existing installation: scikit-learn 1.2.1\n",
    "    Uninstalling scikit-learn-1.2.1:\n",
    "      Successfully uninstalled scikit-learn-1.2.1\n",
    "ERROR: pip's dependency resolver does not currently take into account all the packages that are installed. This behaviour is the source of the following dependency conflicts.\n",
    "chemdraw 0.0.5 requires scikit-learn>=1.1.1, but you have scikit-learn 0.24.2 which is incompatible.\n",
    "Successfully installed scikit-learn-0.24.2 searchgrid-0.2.0\n",
    "```"
   ]
  },
  {
   "cell_type": "markdown",
   "id": "24bdcebd",
   "metadata": {},
   "source": [
    "**Note**: It can install `searchgrid` package."
   ]
  },
  {
   "cell_type": "markdown",
   "id": "323850ad",
   "metadata": {},
   "source": [
    "## uninstall\n",
    "```\n",
    "PS L:\\home\\py-jupyter-nb> pip uninstall searchgrid\n",
    "Found existing installation: searchgrid 0.2.0\n",
    "Uninstalling searchgrid-0.2.0:\n",
    "  Would remove:\n",
    "    c:\\users\\full name\\appdata\\local\\packages\\pythonsoftwarefoundation.python.3.10_qbz5n2kfra8p0\\localcache\\local-packages\\python310\\site-packages\\searchgrid-0.2.0.dist-info\\*\n",
    "    c:\\users\\full name\\appdata\\local\\packages\\pythonsoftwarefoundation.python.3.10_qbz5n2kfra8p0\\localcache\\local-packages\\python310\\site-packages\\searchgrid.py\n",
    "Proceed (Y/n)? y\n",
    "  Successfully uninstalled searchgrid-0.2.0\n",
    "  ```"
   ]
  },
  {
   "cell_type": "markdown",
   "id": "d57c0eda",
   "metadata": {},
   "source": [
    "## upgrade\n",
    "```\n",
    "PS L:\\home\\py-jupyter-nb> pip install scikit-learn --upgrade\n",
    "Requirement already satisfied: scikit-learn in c:\\users\\sparisoma viridi\\appdata\\local\\packages\\pythonsoftwarefoundation.python.3.10_qbz5n2kfra8p0\\localcache\\local-packages\\python310\\site-packages (0.24.2)\n",
    "Collecting scikit-learn\n",
    "  Using cached scikit_learn-1.2.1-cp310-cp310-win_amd64.whl (8.3 MB)\n",
    "Requirement already satisfied: threadpoolctl>=2.0.0 in c:\\users\\sparisoma viridi\\appdata\\local\\packages\\pythonsoftwarefoundation.python.3.10_qbz5n2kfra8p0\\localcache\\local-packages\\python310\\site-packages (from scikit-learn) (3.1.0)\n",
    "Requirement already satisfied: scipy>=1.3.2 in c:\\users\\sparisoma viridi\\appdata\\local\\packages\\pythonsoftwarefoundation.python.3.10_qbz5n2kfra8p0\\localcache\\local-packages\\python310\\site-packages (from scikit-learn) (1.10.0)\n",
    "Requirement already satisfied: joblib>=1.1.1 in c:\\users\\sparisoma viridi\\appdata\\local\\packages\\pythonsoftwarefoundation.python.3.10_qbz5n2kfra8p0\\localcache\\local-packages\\python310\\site-packages (from scikit-learn) (1.2.0)\n",
    "Requirement already satisfied: numpy>=1.17.3 in c:\\users\\sparisoma viridi\\appdata\\local\\packages\\pythonsoftwarefoundation.python.3.10_qbz5n2kfra8p0\\localcache\\local-packages\\python310\\site-packages (from scikit-learn) (1.24.2)\n",
    "Installing collected packages: scikit-learn\n",
    "  Attempting uninstall: scikit-learn\n",
    "    Found existing installation: scikit-learn 0.24.2\n",
    "    Uninstalling scikit-learn-0.24.2:\n",
    "      Successfully uninstalled scikit-learn-0.24.2\n",
    "Successfully installed scikit-learn-1.2.1\n",
    "```"
   ]
  },
  {
   "cell_type": "markdown",
   "id": "a529051b",
   "metadata": {},
   "source": [
    "## note\n",
    "False solution while try to use `from sklearn.grid_search import GridSearchCV`."
   ]
  },
  {
   "cell_type": "code",
   "execution_count": null,
   "id": "43dcb7f2",
   "metadata": {},
   "outputs": [],
   "source": []
  }
 ],
 "metadata": {
  "authors": [
   {
    "name": "Sparisoma Viridi"
   }
  ],
  "kernelspec": {
   "display_name": "Python 3 (ipykernel)",
   "language": "python",
   "name": "python3"
  },
  "language_info": {
   "codemirror_mode": {
    "name": "ipython",
    "version": 3
   },
   "file_extension": ".py",
   "mimetype": "text/x-python",
   "name": "python",
   "nbconvert_exporter": "python",
   "pygments_lexer": "ipython3",
   "version": "3.10.10"
  },
  "title": "searchgrid"
 },
 "nbformat": 4,
 "nbformat_minor": 5
}
