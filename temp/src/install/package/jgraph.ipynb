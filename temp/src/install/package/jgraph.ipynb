{
 "cells": [
  {
   "cell_type": "markdown",
   "id": "cca11c7c",
   "metadata": {},
   "source": [
    "# jgraph\n",
    "+ Install using shell and use `jgraph` in a Jupyter notebook.\n",
    "+ Do not execute related cell in this notebook if the library is not already installed."
   ]
  },
  {
   "cell_type": "markdown",
   "id": "5ba170b2",
   "metadata": {},
   "source": [
    "## check installation"
   ]
  },
  {
   "cell_type": "code",
   "execution_count": 1,
   "id": "24f2a77b",
   "metadata": {},
   "outputs": [
    {
     "name": "stderr",
     "output_type": "stream",
     "text": [
      "WARNING: Package(s) not found: jgraph\n"
     ]
    }
   ],
   "source": [
    "!pip show jgraph"
   ]
  },
  {
   "cell_type": "markdown",
   "id": "ee823697",
   "metadata": {},
   "source": [
    "## install\n",
    "**Note**: Installation is performed in a shell, e.g PowerShell in this example."
   ]
  },
  {
   "cell_type": "markdown",
   "id": "5a2f3fbd",
   "metadata": {},
   "source": [
    "```\n",
    "PS L:\\home\\py-jupyter-nb> pip install jgraph\n",
    "Collecting jgraph\n",
    "  Downloading jgraph-0.2.1-py2.py3-none-any.whl (119 kB)\n",
    "     ------------------------------------ 119.9/119.9 kB 219.3 kB/s eta 0:00:00\n",
    "Requirement already satisfied: ipython in c:\\users\\sparisoma viridi\\appdata\\local\\packages\\pythonsoftwarefoundation.python.3.10_qbz5n2kfra8p0\\localcache\\local-packages\\python310\\site-packages (from jgraph) (8.2.0)\n",
    "Requirement already satisfied: decorator in c:\\users\\sparisoma viridi\\appdata\\local\\packages\\pythonsoftwarefoundation.python.3.10_qbz5n2kfra8p0\\localcache\\local-packages\\python310\\site-packages (from ipython->jgraph) (5.1.1)\n",
    "Requirement already satisfied: setuptools>=18.5 in c:\\users\\sparisoma viridi\\appdata\\local\\packages\\pythonsoftwarefoundation.python.3.10_qbz5n2kfra8p0\\localcache\\local-packages\\python310\\site-packages (from ipython->jgraph) (61.3.1)\n",
    "Requirement already satisfied: colorama in c:\\users\\sparisoma viridi\\appdata\\local\\packages\\pythonsoftwarefoundation.python.3.10_qbz5n2kfra8p0\\localcache\\local-packages\\python310\\site-packages (from ipython->jgraph) (0.4.4)\n",
    "Requirement already satisfied: prompt-toolkit!=3.0.0,!=3.0.1,<3.1.0,>=2.0.0 in c:\\users\\sparisoma viridi\\appdata\\local\\packages\\pythonsoftwarefoundation.python.3.10_qbz5n2kfra8p0\\localcache\\local-packages\\python310\\site-packages (from ipython->jgraph) (3.0.36)\n",
    "Requirement already satisfied: pygments>=2.4.0 in c:\\users\\sparisoma viridi\\appdata\\local\\packages\\pythonsoftwarefoundation.python.3.10_qbz5n2kfra8p0\\localcache\\local-packages\\python310\\site-packages (from ipython->jgraph) (2.11.2)\n",
    "Requirement already satisfied: pickleshare in c:\\users\\sparisoma viridi\\appdata\\local\\packages\\pythonsoftwarefoundation.python.3.10_qbz5n2kfra8p0\\localcache\\local-packages\\python310\\site-packages (from ipython->jgraph) (0.7.5)\n",
    "Requirement already satisfied: stack-data in c:\\users\\sparisoma viridi\\appdata\\local\\packages\\pythonsoftwarefoundation.python.3.10_qbz5n2kfra8p0\\localcache\\local-packages\\python310\\site-packages (from ipython->jgraph) (0.2.0)\n",
    "Requirement already satisfied: backcall in c:\\users\\sparisoma viridi\\appdata\\local\\packages\\pythonsoftwarefoundation.python.3.10_qbz5n2kfra8p0\\localcache\\local-packages\\python310\\site-packages (from ipython->jgraph) (0.2.0)\n",
    "Requirement already satisfied: traitlets>=5 in c:\\users\\sparisoma viridi\\appdata\\local\\packages\\pythonsoftwarefoundation.python.3.10_qbz5n2kfra8p0\\localcache\\local-packages\\python310\\site-packages (from ipython->jgraph) (5.9.0)\n",
    "Requirement already satisfied: jedi>=0.16 in c:\\users\\sparisoma viridi\\appdata\\local\\packages\\pythonsoftwarefoundation.python.3.10_qbz5n2kfra8p0\\localcache\\local-packages\\python310\\site-packages (from ipython->jgraph) (0.18.1)\n",
    "Requirement already satisfied: matplotlib-inline in c:\\users\\sparisoma viridi\\appdata\\local\\packages\\pythonsoftwarefoundation.python.3.10_qbz5n2kfra8p0\\localcache\\local-packages\\python310\\site-packages (from ipython->jgraph) (0.1.3)\n",
    "Requirement already satisfied: parso<0.9.0,>=0.8.0 in c:\\users\\sparisoma viridi\\appdata\\local\\packages\\pythonsoftwarefoundation.python.3.10_qbz5n2kfra8p0\\localcache\\local-packages\\python310\\site-packages (from jedi>=0.16->ipython->jgraph) (0.8.3)\n",
    "Requirement already satisfied: wcwidth in c:\\users\\sparisoma viridi\\appdata\\local\\packages\\pythonsoftwarefoundation.python.3.10_qbz5n2kfra8p0\\localcache\\local-packages\\python310\\site-packages (from prompt-toolkit!=3.0.0,!=3.0.1,<3.1.0,>=2.0.0->ipython->jgraph) (0.2.5)\n",
    "Requirement already satisfied: executing in c:\\users\\sparisoma viridi\\appdata\\local\\packages\\pythonsoftwarefoundation.python.3.10_qbz5n2kfra8p0\\localcache\\local-packages\\python310\\site-packages (from stack-data->ipython->jgraph) (0.8.3)\n",
    "Requirement already satisfied: asttokens in c:\\users\\sparisoma viridi\\appdata\\local\\packages\\pythonsoftwarefoundation.python.3.10_qbz5n2kfra8p0\\localcache\\local-packages\\python310\\site-packages (from stack-data->ipython->jgraph) (2.0.5)\n",
    "Requirement already satisfied: pure-eval in c:\\users\\sparisoma viridi\\appdata\\local\\packages\\pythonsoftwarefoundation.python.3.10_qbz5n2kfra8p0\\localcache\\local-packages\\python310\\site-packages (from stack-data->ipython->jgraph) (0.2.2)\n",
    "Requirement already satisfied: six in c:\\users\\sparisoma viridi\\appdata\\local\\packages\\pythonsoftwarefoundation.python.3.10_qbz5n2kfra8p0\\localcache\\local-packages\\python310\\site-packages (from asttokens->stack-data->ipython->jgraph) (1.16.0)\n",
    "Installing collected packages: jgraph\n",
    "Successfully installed jgraph-0.2.1\n",
    "PS L:\\home\\py-jupyter-nb>\n",
    "```"
   ]
  },
  {
   "cell_type": "markdown",
   "id": "24bdcebd",
   "metadata": {},
   "source": [
    "**Note**: It can install `jgraph` package."
   ]
  },
  {
   "cell_type": "markdown",
   "id": "de87a75f",
   "metadata": {},
   "source": [
    "## import\n",
    "Example from [jgraph](https://patrickemmettfuller.com/jgraph/) to test installed package."
   ]
  },
  {
   "cell_type": "code",
   "execution_count": 2,
   "id": "0630ae54",
   "metadata": {},
   "outputs": [
    {
     "data": {
      "text/html": [
       "<div id=\"graph-d53793db-56bd-497e-aabd-897afbb9b982\"></div>\n",
       "           <script type=\"text/javascript\">\n",
       "           require.config({baseUrl: '/',\n",
       "                             paths: {jgraph: ['nbextensions/jgraph.min', 'https://rawgit.com/patrickfuller/jgraph/master/js/build/jgraph.min']}});\n",
       "           require(['jgraph'], function () {\n",
       "               var $d = $('#graph-d53793db-56bd-497e-aabd-897afbb9b982');\n",
       "               $d.width(600); $d.height(400);\n",
       "               $d.jgraph = jQuery.extend({}, jgraph);\n",
       "               $d.jgraph.create($d, {nodeSize: 2.000000,\n",
       "                                     edgeSize: 0.250000,\n",
       "                                     defaultNodeColor: '0x5bc0de',\n",
       "                                     defaultEdgeColor: '0xaaaaaa',\n",
       "                                     shader: 'basic',\n",
       "                                     z: 100,\n",
       "                                     runOptimization: true,\n",
       "                                     directed: true,\n",
       "                                     showSave: false});\n",
       "               $d.jgraph.draw({\n",
       "    \"edges\": [\n",
       "        { \"source\": 1, \"target\": 2 },\n",
       "        { \"source\": 2, \"target\": 3 },\n",
       "        { \"source\": 3, \"target\": 4 },\n",
       "        { \"source\": 4, \"target\": 1 },\n",
       "        { \"source\": 4, \"target\": 5 },\n",
       "        { \"source\": 5, \"target\": 2 }\n",
       "    ],\n",
       "    \"nodes\": {\n",
       "        \"1\": { \"location\": [ -2.0, -2.0, -1.9025774134146147 ] },\n",
       "        \"2\": { \"location\": [ -0.7042164140590604, -1.296834775323693, -1.1095781270188334 ] },\n",
       "        \"3\": { \"location\": [ -0.012677972835292524, -0.0350206648025184, 0.113747624878946 ] },\n",
       "        \"4\": { \"location\": [ 0.9311114383664842, 1.2377601876127866, 0.881877253952261 ] },\n",
       "        \"5\": { \"location\": [ 2.0, 2.0, 2.0 ] }\n",
       "    }\n",
       "});\n",
       "\n",
       "               $d.resizable({\n",
       "                   aspectRatio: 600 / 400,\n",
       "                   resize: function (evt, ui) {\n",
       "                       $d.jgraph.renderer.setSize(ui.size.width,\n",
       "                                                  ui.size.height);\n",
       "                   }\n",
       "               });\n",
       "           });\n",
       "           </script>"
      ],
      "text/plain": [
       "<IPython.core.display.HTML object>"
      ]
     },
     "metadata": {},
     "output_type": "display_data"
    }
   ],
   "source": [
    "import jgraph\n",
    "jgraph.draw([(1, 2), (2, 3), (3, 4), (4, 1), (4, 5), (5, 2)])"
   ]
  },
  {
   "cell_type": "code",
   "execution_count": 3,
   "id": "b2ae64b1",
   "metadata": {},
   "outputs": [
    {
     "data": {
      "text/html": [
       "<div id=\"graph-12c92111-621d-4c49-8b4b-8603a6e604e2\"></div>\n",
       "           <script type=\"text/javascript\">\n",
       "           require.config({baseUrl: '/',\n",
       "                             paths: {jgraph: ['nbextensions/jgraph.min', 'https://rawgit.com/patrickfuller/jgraph/master/js/build/jgraph.min']}});\n",
       "           require(['jgraph'], function () {\n",
       "               var $d = $('#graph-12c92111-621d-4c49-8b4b-8603a6e604e2');\n",
       "               $d.width(600); $d.height(400);\n",
       "               $d.jgraph = jQuery.extend({}, jgraph);\n",
       "               $d.jgraph.create($d, {nodeSize: 2.000000,\n",
       "                                     edgeSize: 0.250000,\n",
       "                                     defaultNodeColor: '0x5bc0de',\n",
       "                                     defaultEdgeColor: '0xaaaaaa',\n",
       "                                     shader: 'basic',\n",
       "                                     z: 100,\n",
       "                                     runOptimization: true,\n",
       "                                     directed: true,\n",
       "                                     showSave: false});\n",
       "               $d.jgraph.draw({\n",
       "    \"edges\": [\n",
       "        { \"source\": \"chandler\", \"target\": \"ross\" },\n",
       "        { \"source\": \"monica\", \"target\": \"ross\" },\n",
       "        { \"color\": \"0xffaaaa\", \"size\": 3, \"source\": \"ross\", \"target\": \"rachel\" },\n",
       "        { \"source\": \"ross\", \"target\": \"joey\" },\n",
       "        { \"source\": \"ross\", \"target\": \"phoebe\" },\n",
       "        { \"source\": \"ross\", \"target\": \"judy\" },\n",
       "        { \"source\": \"monica\", \"target\": \"rachel\" },\n",
       "        { \"source\": \"rachel\", \"target\": \"jack\" },\n",
       "        { \"source\": \"chandler\", \"target\": \"phoebe\" }\n",
       "    ],\n",
       "    \"nodes\": {\n",
       "        \"chandler\": { \"color\": \"0x2222ff\", \"size\": 1.25 },\n",
       "        \"jack\": {},\n",
       "        \"joey\": { \"size\": 0.5 },\n",
       "        \"judy\": {},\n",
       "        \"monica\": {},\n",
       "        \"phoebe\": { \"color\": \"0x22ff22\" },\n",
       "        \"rachel\": {},\n",
       "        \"ross\": { \"color\": \"0xffaaaa\", \"size\": 2.0 }\n",
       "    }\n",
       "});\n",
       "\n",
       "               $d.resizable({\n",
       "                   aspectRatio: 600 / 400,\n",
       "                   resize: function (evt, ui) {\n",
       "                       $d.jgraph.renderer.setSize(ui.size.width,\n",
       "                                                  ui.size.height);\n",
       "                   }\n",
       "               });\n",
       "           });\n",
       "           </script>"
      ],
      "text/plain": [
       "<IPython.core.display.HTML object>"
      ]
     },
     "metadata": {},
     "output_type": "display_data"
    }
   ],
   "source": [
    "graph = {\n",
    "    'nodes': {\n",
    "        'ross': {'color': 0xffaaaa, 'size': 2.0},\n",
    "        'joey': {'size': 0.5},\n",
    "        'chandler': {'color': 0x2222ff, 'size': 1.25},\n",
    "        'phoebe': {'color': 0x22ff22},\n",
    "        'rachel': {},\n",
    "        'monica': {},\n",
    "        'jack': {},\n",
    "        'judy': {},\n",
    "    },\n",
    "    'edges': [\n",
    "        {'source': 'chandler', 'target': 'ross'},\n",
    "        {'source': 'monica', 'target': 'ross'},\n",
    "        {'source': 'ross', 'target': 'rachel', 'size': 3, 'color': 0xffaaaa},\n",
    "        {'source': 'ross', 'target': 'joey'},\n",
    "        {'source': 'ross', 'target': 'phoebe'},\n",
    "        {'source': 'ross', 'target': 'judy'},\n",
    "        {'source': 'monica', 'target': 'rachel'},\n",
    "        {'source': 'rachel', 'target': 'jack'},\n",
    "        {'source': 'chandler', 'target': 'phoebe'}\n",
    "    ]\n",
    "}\n",
    "\n",
    "jgraph.draw(graph)"
   ]
  },
  {
   "cell_type": "code",
   "execution_count": null,
   "id": "e5d995cc",
   "metadata": {},
   "outputs": [],
   "source": []
  }
 ],
 "metadata": {
  "authors": [
   {
    "name": "Sparisoma Viridi"
   }
  ],
  "kernelspec": {
   "display_name": "Python 3 (ipykernel)",
   "language": "python",
   "name": "python3"
  },
  "language_info": {
   "codemirror_mode": {
    "name": "ipython",
    "version": 3
   },
   "file_extension": ".py",
   "mimetype": "text/x-python",
   "name": "python",
   "nbconvert_exporter": "python",
   "pygments_lexer": "ipython3",
   "version": "3.10.10"
  },
  "title": "jgraph"
 },
 "nbformat": 4,
 "nbformat_minor": 5
}
