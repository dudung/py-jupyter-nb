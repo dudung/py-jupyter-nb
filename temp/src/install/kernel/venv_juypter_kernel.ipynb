{
 "cells": [
  {
   "cell_type": "markdown",
   "id": "cca11c7c",
   "metadata": {},
   "source": [
    "# venv_juypter_kernel\n",
    "Create virtual environment (and install ipykernel in it), create jupyter kernel, relate the environment with the kernel."
   ]
  },
  {
   "cell_type": "markdown",
   "id": "7d564486",
   "metadata": {},
   "source": [
    "## list available kernels"
   ]
  },
  {
   "cell_type": "code",
   "execution_count": 1,
   "id": "e0fc0e80",
   "metadata": {},
   "outputs": [
    {
     "name": "stdout",
     "output_type": "stream",
     "text": [
      "Available kernels:\n",
      "  python3    C:\\Users\\Sparisoma Viridi\\AppData\\Local\\Packages\\PythonSoftwareFoundation.Python.3.10_qbz5n2kfra8p0\\LocalCache\\local-packages\\share\\jupyter\\kernels\\python3\n"
     ]
    }
   ],
   "source": [
    "!jupyter kernelspec list"
   ]
  },
  {
   "cell_type": "markdown",
   "id": "416db9f0",
   "metadata": {},
   "source": [
    "## create python virtual environment"
   ]
  },
  {
   "cell_type": "code",
   "execution_count": 2,
   "id": "82c04ddc",
   "metadata": {},
   "outputs": [],
   "source": [
    "!python -m venv c:\\venvs\\butiran"
   ]
  },
  {
   "cell_type": "markdown",
   "id": "6538b1dc",
   "metadata": {},
   "source": [
    "## activate the environment\n",
    "```\n",
    "PS C:\\venvs\\butiran> .\\Scripts\\activate\n",
    "(butiran) PS C:\\venvs\\butiran>\n",
    "```"
   ]
  },
  {
   "cell_type": "markdown",
   "id": "ebaa0b9f",
   "metadata": {},
   "source": [
    "## update pip\n",
    "```\n",
    "(butiran) PS C:\\venvs\\butiran> python -m pip install --upgrade pip\n",
    "Requirement already satisfied: pip in c:\\venvs\\butiran\\lib\\site-packages (22.3.1)\n",
    "Collecting pip\n",
    "  Using cached pip-23.0-py3-none-any.whl (2.1 MB)\n",
    "Installing collected packages: pip\n",
    "  Attempting uninstall: pip\n",
    "    Found existing installation: pip 22.3.1\n",
    "    Uninstalling pip-22.3.1:\n",
    "      Successfully uninstalled pip-22.3.1\n",
    "Successfully installed pip-23.0\n",
    "(butiran) PS C:\\venvs\\butiran>\n",
    "```"
   ]
  },
  {
   "cell_type": "markdown",
   "id": "64753cb4",
   "metadata": {},
   "source": [
    "## install ipykernel\n",
    "```\n",
    "(butiran) PS C:\\venvs\\butiran> pip install ipykernel\n",
    "Collecting ipykernel\n",
    "  Using cached ipykernel-6.21.1-py3-none-any.whl (149 kB)\n",
    "Collecting ipython>=7.23.1\n",
    "  Downloading ipython-8.10.0-py3-none-any.whl (784 kB)\n",
    "     ------------------------------------ 784.3/784.3 kB 500.3 kB/s eta 0:00:00\n",
    "Collecting psutil\n",
    "  Using cached psutil-5.9.4-cp36-abi3-win_amd64.whl (252 kB)\n",
    "Collecting traitlets>=5.4.0\n",
    "  Using cached traitlets-5.9.0-py3-none-any.whl (117 kB)\n",
    "Collecting nest-asyncio\n",
    "  Using cached nest_asyncio-1.5.6-py3-none-any.whl (5.2 kB)\n",
    "Collecting pyzmq>=17\n",
    "  Using cached pyzmq-25.0.0-cp310-cp310-win_amd64.whl (969 kB)\n",
    "Collecting comm>=0.1.1\n",
    "  Using cached comm-0.1.2-py3-none-any.whl (6.5 kB)\n",
    "Collecting matplotlib-inline>=0.1\n",
    "  Using cached matplotlib_inline-0.1.6-py3-none-any.whl (9.4 kB)\n",
    "Collecting packaging\n",
    "  Using cached packaging-23.0-py3-none-any.whl (42 kB)\n",
    "Collecting tornado>=6.1\n",
    "  Using cached tornado-6.2-cp37-abi3-win_amd64.whl (425 kB)\n",
    "Collecting jupyter-core!=5.0.*,>=4.12\n",
    "  Using cached jupyter_core-5.2.0-py3-none-any.whl (94 kB)\n",
    "Collecting debugpy>=1.6.5\n",
    "  Using cached debugpy-1.6.6-cp310-cp310-win_amd64.whl (4.8 MB)\n",
    "Collecting jupyter-client>=6.1.12\n",
    "  Using cached jupyter_client-8.0.2-py3-none-any.whl (103 kB)\n",
    "Collecting pickleshare\n",
    "  Using cached pickleshare-0.7.5-py2.py3-none-any.whl (6.9 kB)\n",
    "Collecting pygments>=2.4.0\n",
    "  Using cached Pygments-2.14.0-py3-none-any.whl (1.1 MB)\n",
    "Collecting decorator\n",
    "  Using cached decorator-5.1.1-py3-none-any.whl (9.1 kB)\n",
    "Collecting prompt-toolkit<3.1.0,>=3.0.30\n",
    "  Using cached prompt_toolkit-3.0.36-py3-none-any.whl (386 kB)\n",
    "Collecting backcall\n",
    "  Using cached backcall-0.2.0-py2.py3-none-any.whl (11 kB)\n",
    "Collecting stack-data\n",
    "  Using cached stack_data-0.6.2-py3-none-any.whl (24 kB)\n",
    "Collecting colorama\n",
    "  Using cached colorama-0.4.6-py2.py3-none-any.whl (25 kB)\n",
    "Collecting jedi>=0.16\n",
    "  Using cached jedi-0.18.2-py2.py3-none-any.whl (1.6 MB)\n",
    "Collecting python-dateutil>=2.8.2\n",
    "  Using cached python_dateutil-2.8.2-py2.py3-none-any.whl (247 kB)\n",
    "Collecting pywin32>=1.0\n",
    "  Using cached pywin32-305-cp310-cp310-win_amd64.whl (12.1 MB)\n",
    "Collecting platformdirs>=2.5\n",
    "  Using cached platformdirs-3.0.0-py3-none-any.whl (14 kB)\n",
    "Collecting parso<0.9.0,>=0.8.0\n",
    "  Using cached parso-0.8.3-py2.py3-none-any.whl (100 kB)\n",
    "Collecting wcwidth\n",
    "  Using cached wcwidth-0.2.6-py2.py3-none-any.whl (29 kB)\n",
    "Collecting six>=1.5\n",
    "  Using cached six-1.16.0-py2.py3-none-any.whl (11 kB)\n",
    "Collecting executing>=1.2.0\n",
    "  Using cached executing-1.2.0-py2.py3-none-any.whl (24 kB)\n",
    "Collecting asttokens>=2.1.0\n",
    "  Using cached asttokens-2.2.1-py2.py3-none-any.whl (26 kB)\n",
    "Collecting pure-eval\n",
    "  Using cached pure_eval-0.2.2-py3-none-any.whl (11 kB)\n",
    "Installing collected packages: wcwidth, pywin32, pure-eval, pickleshare, executing, backcall, traitlets, tornado, six, pyzmq, pygments, psutil, prompt-toolkit, platformdirs, parso, packaging, nest-asyncio, decorator, debugpy, colorama, python-dateutil, matplotlib-inline, jupyter-core, jedi, comm, asttokens, stack-data, jupyter-client, ipython, ipykernel\n",
    "Successfully installed asttokens-2.2.1 backcall-0.2.0 colorama-0.4.6 comm-0.1.2 debugpy-1.6.6 decorator-5.1.1 executing-1.2.0 ipykernel-6.21.1 ipython-8.10.0 jedi-0.18.2 jupyter-client-8.0.2 jupyter-core-5.2.0 matplotlib-inline-0.1.6 nest-asyncio-1.5.6 packaging-23.0 parso-0.8.3 pickleshare-0.7.5 platformdirs-3.0.0 prompt-toolkit-3.0.36 psutil-5.9.4 pure-eval-0.2.2 pygments-2.14.0 python-dateutil-2.8.2 pywin32-305 pyzmq-25.0.0 six-1.16.0 stack-data-0.6.2 tornado-6.2 traitlets-5.9.0 wcwidth-0.2.6\n",
    "(butiran) PS C:\\venvs\\butiran>\n",
    "```"
   ]
  },
  {
   "cell_type": "markdown",
   "id": "40b75678",
   "metadata": {},
   "source": [
    "## deactivate environment\n",
    "```\n",
    "(butiran) PS C:\\venvs\\butiran> deactivate\n",
    "PS C:\\venvs\\butiran>\n",
    "```"
   ]
  },
  {
   "cell_type": "markdown",
   "id": "379a24af",
   "metadata": {},
   "source": [
    "## install ipython kernel\n",
    "```\n",
    "PS C:\\venvs\\butiran> python -m ipykernel install --user --name butiran --display-name \"Python (butiran)\"\n",
    "Installed kernelspec butiran in C:\\Users\\Sparisoma Viridi\\AppData\\Roaming\\jupyter\\kernels\\butiran\n",
    "PS C:\\venvs\\butiran>\n",
    "```"
   ]
  },
  {
   "cell_type": "markdown",
   "id": "325578c0",
   "metadata": {},
   "source": [
    "## check installed kernel"
   ]
  },
  {
   "cell_type": "code",
   "execution_count": 4,
   "id": "840a038d",
   "metadata": {},
   "outputs": [
    {
     "name": "stdout",
     "output_type": "stream",
     "text": [
      "Available kernels:\n",
      "  butiran    C:\\Users\\Sparisoma Viridi\\AppData\\Roaming\\jupyter\\kernels\\butiran\n",
      "  python3    C:\\Users\\Sparisoma Viridi\\AppData\\Local\\Packages\\PythonSoftwareFoundation.Python.3.10_qbz5n2kfra8p0\\LocalCache\\local-packages\\share\\jupyter\\kernels\\python3\n"
     ]
    }
   ],
   "source": [
    "!jupyter kernelspec list"
   ]
  },
  {
   "cell_type": "markdown",
   "id": "55bd8aa9",
   "metadata": {},
   "source": [
    "## connect kernel and virtual environment \n",
    "1. open json file\n",
    "`C:\\Users\\Sparisoma Viridi\\AppData\\Roaming\\jupyter\\kernels\\butiran\\kernel.json`\n",
    "    ```\n",
    "    {\n",
    "     \"argv\": [\n",
    "      \"C:\\\\Users\\\\Sparisoma Viridi\\\\AppData\\\\Local\\\\Microsoft\\\\WindowsApps\\\\PythonSoftwareFoundation.Python.3.10_qbz5n2kfra8p0\\\\python.exe\",\n",
    "      \"-m\",\n",
    "      \"ipykernel_launcher\",\n",
    "      \"-f\",\n",
    "      \"{connection_file}\"\n",
    "     ],\n",
    "     \"display_name\": \"Python (butiran)\",\n",
    "     \"language\": \"python\",\n",
    "     \"metadata\": {\n",
    "      \"debugger\": true\n",
    "     }\n",
    "    }\n",
    "    ```\n",
    "\n",
    "2. Change the path to folder of virtual environment `C:\\\\venvs\\\\butiran\\\\Scripts\\\\python.exe`.\n",
    "3. Save `kernel.json`file and close it.\n",
    "4. Shutdown active kernel."
   ]
  },
  {
   "cell_type": "markdown",
   "id": "957c7e33",
   "metadata": {},
   "source": [
    "## change kernel\n",
    "1. Open a note book.\n",
    "2. Select kernel from menu **Kernel** &rightarrow; **Change kernel**.\n",
    "3. Choose **Python (butiran)**."
   ]
  },
  {
   "cell_type": "markdown",
   "id": "eef1213c",
   "metadata": {},
   "source": [
    "## install package only in active kernel"
   ]
  },
  {
   "cell_type": "code",
   "execution_count": 1,
   "id": "b3eb64ac",
   "metadata": {
    "scrolled": true
   },
   "outputs": [
    {
     "name": "stdout",
     "output_type": "stream",
     "text": [
      "Note: you may need to restart the kernel to use updated packages.\n"
     ]
    },
    {
     "name": "stderr",
     "output_type": "stream",
     "text": [
      "WARNING: Package(s) not found: butiran\n"
     ]
    }
   ],
   "source": [
    "%pip show butiran"
   ]
  },
  {
   "cell_type": "code",
   "execution_count": 2,
   "id": "e5b384af",
   "metadata": {},
   "outputs": [
    {
     "name": "stdout",
     "output_type": "stream",
     "text": [
      "Collecting butiranNote: you may need to restart the kernel to use updated packages.\n",
      "\n",
      "  Using cached butiran-0.0.9-py3-none-any.whl (5.1 kB)\n",
      "Installing collected packages: butiran\n",
      "Successfully installed butiran-0.0.9\n"
     ]
    }
   ],
   "source": [
    "%pip install butiran"
   ]
  },
  {
   "cell_type": "code",
   "execution_count": 3,
   "id": "69c02a7b",
   "metadata": {},
   "outputs": [
    {
     "name": "stdout",
     "output_type": "stream",
     "text": [
      "Name: butiran\n",
      "Version: 0.0.9\n",
      "Summary: Python package for simulation of grain-based system\n",
      "Home-page: https://github.com/dudung/butiran-py\n",
      "Author: Sparisoma Viridi\n",
      "Author-email: <dudung@email.com>\n",
      "License: UNKNOWN\n",
      "Location: c:\\venvs\\butiran\\lib\\site-packages\n",
      "Requires: \n",
      "Required-by: \n",
      "Note: you may need to restart the kernel to use updated packages.\n"
     ]
    }
   ],
   "source": [
    "%pip show butiran"
   ]
  },
  {
   "cell_type": "markdown",
   "id": "e298ea90",
   "metadata": {},
   "source": [
    "It does not exist in global installation"
   ]
  },
  {
   "cell_type": "code",
   "execution_count": 4,
   "id": "d294ecf3",
   "metadata": {},
   "outputs": [
    {
     "name": "stderr",
     "output_type": "stream",
     "text": [
      "WARNING: Package(s) not found: butiran\n"
     ]
    }
   ],
   "source": [
    "!pip show butiran"
   ]
  },
  {
   "cell_type": "code",
   "execution_count": null,
   "id": "72153449",
   "metadata": {},
   "outputs": [],
   "source": []
  }
 ],
 "metadata": {
  "authors": [
   {
    "name": "Sparisoma Viridi"
   }
  ],
  "kernelspec": {
   "display_name": "Python 3 (ipykernel)",
   "language": "python",
   "name": "python3"
  },
  "language_info": {
   "codemirror_mode": {
    "name": "ipython",
    "version": 3
   },
   "file_extension": ".py",
   "mimetype": "text/x-python",
   "name": "python",
   "nbconvert_exporter": "python",
   "pygments_lexer": "ipython3",
   "version": "3.9.12"
  },
  "title": "venv_juypter_kernel"
 },
 "nbformat": 4,
 "nbformat_minor": 5
}
