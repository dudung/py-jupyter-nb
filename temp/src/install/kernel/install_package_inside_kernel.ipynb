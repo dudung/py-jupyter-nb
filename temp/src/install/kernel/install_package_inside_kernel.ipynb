{
 "cells": [
  {
   "cell_type": "markdown",
   "id": "cca11c7c",
   "metadata": {},
   "source": [
    "# install_package_inside_kernel\n",
    "Install package inside a Jupyter Notebook kernel. Failed."
   ]
  },
  {
   "cell_type": "markdown",
   "id": "a8ade92f",
   "metadata": {},
   "source": [
    "## show available kernels"
   ]
  },
  {
   "cell_type": "code",
   "execution_count": 1,
   "id": "4d827218",
   "metadata": {},
   "outputs": [
    {
     "name": "stdout",
     "output_type": "stream",
     "text": [
      "Available kernels:\n",
      "  avenv         C:\\Users\\Sparisoma Viridi\\AppData\\Roaming\\jupyter\\kernels\\avenv\n",
      "  chatterbot    C:\\Users\\Sparisoma Viridi\\AppData\\Roaming\\jupyter\\kernels\\chatterbot\n",
      "  othervenv     C:\\Users\\Sparisoma Viridi\\AppData\\Roaming\\jupyter\\kernels\\othervenv\n",
      "  python3       C:\\Users\\Sparisoma Viridi\\AppData\\Local\\Packages\\PythonSoftwareFoundation.Python.3.10_qbz5n2kfra8p0\\LocalCache\\local-packages\\share\\jupyter\\kernels\\python3\n"
     ]
    }
   ],
   "source": [
    "!jupyter kernelspec list"
   ]
  },
  {
   "cell_type": "markdown",
   "id": "e43888a5",
   "metadata": {},
   "source": [
    "## install package"
   ]
  },
  {
   "cell_type": "code",
   "execution_count": 2,
   "id": "912f7b06",
   "metadata": {},
   "outputs": [
    {
     "name": "stdout",
     "output_type": "stream",
     "text": [
      "Note: you may need to restart the kernel to use updated packages.\n"
     ]
    },
    {
     "name": "stderr",
     "output_type": "stream",
     "text": [
      "WARNING: Package(s) not found: butiran\n"
     ]
    }
   ],
   "source": [
    "import sys\n",
    "%pip show butiran"
   ]
  },
  {
   "cell_type": "code",
   "execution_count": 3,
   "id": "1d646e0f",
   "metadata": {},
   "outputs": [
    {
     "name": "stdout",
     "output_type": "stream",
     "text": [
      "Collecting butiran\n",
      "  Using cached butiran-0.0.9-py3-none-any.whl (5.1 kB)\n",
      "Installing collected packages: butiran\n",
      "Successfully installed butiran-0.0.9\n",
      "Note: you may need to restart the kernel to use updated packages.\n"
     ]
    }
   ],
   "source": [
    "import sys\n",
    "%pip install butiran"
   ]
  },
  {
   "cell_type": "code",
   "execution_count": 1,
   "id": "66d14498",
   "metadata": {},
   "outputs": [
    {
     "name": "stdout",
     "output_type": "stream",
     "text": [
      "Name: butiran\n",
      "Version: 0.0.9\n",
      "Summary: Python package for simulation of grain-based system\n",
      "Home-page: https://github.com/dudung/butiran-py\n",
      "Author: Sparisoma Viridi\n",
      "Author-email: <dudung@email.com>\n",
      "License: UNKNOWN\n",
      "Location: c:\\users\\sparisoma viridi\\appdata\\local\\packages\\pythonsoftwarefoundation.python.3.10_qbz5n2kfra8p0\\localcache\\local-packages\\python310\\site-packages\n",
      "Requires: \n",
      "Required-by: \n",
      "Note: you may need to restart the kernel to use updated packages.\n"
     ]
    }
   ],
   "source": [
    "%pip show butiran"
   ]
  },
  {
   "cell_type": "markdown",
   "id": "5f874059",
   "metadata": {},
   "source": [
    "**Note**: It is still available also in all kernels."
   ]
  },
  {
   "cell_type": "code",
   "execution_count": null,
   "id": "3555f5cc",
   "metadata": {},
   "outputs": [],
   "source": []
  }
 ],
 "metadata": {
  "authors": [
   {
    "name": "Sparisoma Viridi"
   }
  ],
  "kernelspec": {
   "display_name": "Python 3 (ipykernel)",
   "language": "python",
   "name": "python3"
  },
  "language_info": {
   "codemirror_mode": {
    "name": "ipython",
    "version": 3
   },
   "file_extension": ".py",
   "mimetype": "text/x-python",
   "name": "python",
   "nbconvert_exporter": "python",
   "pygments_lexer": "ipython3",
   "version": "3.10.10"
  },
  "title": "install_package_inside_kernel"
 },
 "nbformat": 4,
 "nbformat_minor": 5
}
