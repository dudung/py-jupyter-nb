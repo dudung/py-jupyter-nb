{
 "cells": [
  {
   "cell_type": "markdown",
   "id": "10982721",
   "metadata": {},
   "source": [
    "# install_package_inside_kernel_sys"
   ]
  },
  {
   "cell_type": "markdown",
   "id": "3dfbc963",
   "metadata": {},
   "source": [
    "## change kernel\n",
    "**Note**: Active kernel is **Python (butiran)**."
   ]
  },
  {
   "cell_type": "code",
   "execution_count": 1,
   "id": "1205e5a2",
   "metadata": {},
   "outputs": [
    {
     "name": "stderr",
     "output_type": "stream",
     "text": [
      "WARNING: Package(s) not found: butiran\n"
     ]
    }
   ],
   "source": [
    "!pip show butiran"
   ]
  },
  {
   "cell_type": "code",
   "execution_count": 2,
   "id": "a73d3ae2",
   "metadata": {},
   "outputs": [
    {
     "name": "stdout",
     "output_type": "stream",
     "text": [
      "Note: you may need to restart the kernel to use updated packages.\n"
     ]
    },
    {
     "name": "stderr",
     "output_type": "stream",
     "text": [
      "WARNING: Package(s) not found: butiran\n"
     ]
    }
   ],
   "source": [
    "%pip show butiran"
   ]
  },
  {
   "cell_type": "code",
   "execution_count": 5,
   "id": "394926ac",
   "metadata": {},
   "outputs": [
    {
     "name": "stdout",
     "output_type": "stream",
     "text": [
      "Collecting butiran\n",
      "  Using cached butiran-0.0.9-py3-none-any.whl (5.1 kB)\n",
      "Installing collected packages: butiran\n",
      "Successfully installed butiran-0.0.9\n"
     ]
    }
   ],
   "source": [
    "import sys\n",
    "!{sys.executable} -m pip install butiran"
   ]
  },
  {
   "cell_type": "code",
   "execution_count": 6,
   "id": "ae094ac0",
   "metadata": {},
   "outputs": [
    {
     "name": "stdout",
     "output_type": "stream",
     "text": [
      "Name: butiran\n",
      "Version: 0.0.9\n",
      "Summary: Python package for simulation of grain-based system\n",
      "Home-page: https://github.com/dudung/butiran-py\n",
      "Author: Sparisoma Viridi\n",
      "Author-email: <dudung@email.com>\n",
      "License: UNKNOWN\n",
      "Location: c:\\venvs\\butiran\\lib\\site-packages\n",
      "Requires: \n",
      "Required-by: \n",
      "Note: you may need to restart the kernel to use updated packages.\n"
     ]
    }
   ],
   "source": [
    "%pip show butiran"
   ]
  },
  {
   "cell_type": "code",
   "execution_count": 7,
   "id": "6ab6cf50",
   "metadata": {},
   "outputs": [
    {
     "name": "stderr",
     "output_type": "stream",
     "text": [
      "WARNING: Package(s) not found: butiran\n"
     ]
    }
   ],
   "source": [
    "!pip show butiran"
   ]
  },
  {
   "cell_type": "markdown",
   "id": "c458465f",
   "metadata": {},
   "source": [
    "## change kernel\n",
    "**Note**: Active kernel is **Python3 (ipykernel)**."
   ]
  },
  {
   "cell_type": "code",
   "execution_count": 1,
   "id": "8be22c73",
   "metadata": {},
   "outputs": [
    {
     "name": "stdout",
     "output_type": "stream",
     "text": [
      "Note: you may need to restart the kernel to use updated packages.\n"
     ]
    },
    {
     "name": "stderr",
     "output_type": "stream",
     "text": [
      "WARNING: Package(s) not found: butiran\n"
     ]
    }
   ],
   "source": [
    "# change kernel not to butiran\n",
    "%pip show butiran"
   ]
  },
  {
   "cell_type": "code",
   "execution_count": 2,
   "id": "865c6522",
   "metadata": {},
   "outputs": [
    {
     "name": "stderr",
     "output_type": "stream",
     "text": [
      "WARNING: Package(s) not found: butiran\n"
     ]
    }
   ],
   "source": [
    "!pip show butiran"
   ]
  },
  {
   "cell_type": "code",
   "execution_count": null,
   "id": "6d6c787b",
   "metadata": {},
   "outputs": [],
   "source": []
  }
 ],
 "metadata": {
  "kernelspec": {
   "display_name": "Python 3 (ipykernel)",
   "language": "python",
   "name": "python3"
  },
  "language_info": {
   "codemirror_mode": {
    "name": "ipython",
    "version": 3
   },
   "file_extension": ".py",
   "mimetype": "text/x-python",
   "name": "python",
   "nbconvert_exporter": "python",
   "pygments_lexer": "ipython3",
   "version": "3.10.10"
  },
  "title": "intall_package_inside_kernel_sys"
 },
 "nbformat": 4,
 "nbformat_minor": 5
}
