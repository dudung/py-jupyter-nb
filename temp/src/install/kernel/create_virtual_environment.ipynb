{
 "cells": [
  {
   "attachments": {
    "image.png": {
     "image/png": "[encoded data removed]"
    }
   },
   "cell_type": "markdown",
   "id": "cca11c7c",
   "metadata": {},
   "source": [
    "# create_virtual_environment\n",
    "Create virtual environment using pyton module venv.\n",
    "![image.png](attachment:image.png)"
   ]
  },
  {
   "cell_type": "code",
   "execution_count": 1,
   "id": "0e4397f2",
   "metadata": {},
   "outputs": [],
   "source": [
    "!python -m venv avenv"
   ]
  },
  {
   "cell_type": "code",
   "execution_count": 2,
   "id": "f55d8162",
   "metadata": {},
   "outputs": [],
   "source": [
    "!avenv\\Scripts\\activate"
   ]
  },
  {
   "cell_type": "code",
   "execution_count": 6,
   "id": "05bc949a",
   "metadata": {},
   "outputs": [
    {
     "name": "stderr",
     "output_type": "stream",
     "text": [
      "[TerminalIPythonApp] WARNING | Unrecognized alias: 'name', it will have no effect.\n",
      "[TerminalIPythonApp] WARNING | File 'kernell' doesn't exist\n"
     ]
    }
   ],
   "source": [
    "!ipython kernell install --name avenv"
   ]
  },
  {
   "cell_type": "code",
   "execution_count": 7,
   "id": "16110e68",
   "metadata": {},
   "outputs": [
    {
     "name": "stdout",
     "output_type": "stream",
     "text": [
      "Installed kernelspec avenv in C:\\Users\\Sparisoma Viridi\\AppData\\Roaming\\jupyter\\kernels\\avenv\n"
     ]
    }
   ],
   "source": [
    "!python -m ipykernel install --user --name avenv --display-name \"Python 3 (avenv)\""
   ]
  },
  {
   "cell_type": "code",
   "execution_count": 8,
   "id": "23719ee6",
   "metadata": {},
   "outputs": [],
   "source": [
    "!avenv\\Scripts\\deactivate"
   ]
  },
  {
   "cell_type": "markdown",
   "id": "0636287b",
   "metadata": {},
   "source": [
    "## after shutdown the notebook and execute it again"
   ]
  },
  {
   "cell_type": "code",
   "execution_count": 1,
   "id": "4d827218",
   "metadata": {},
   "outputs": [
    {
     "name": "stdout",
     "output_type": "stream",
     "text": [
      "Available kernels:\n",
      "  avenv         C:\\Users\\Sparisoma Viridi\\AppData\\Roaming\\jupyter\\kernels\\avenv\n",
      "  chatterbot    C:\\Users\\Sparisoma Viridi\\AppData\\Roaming\\jupyter\\kernels\\chatterbot\n",
      "  python3       C:\\Users\\Sparisoma Viridi\\AppData\\Local\\Packages\\PythonSoftwareFoundation.Python.3.10_qbz5n2kfra8p0\\LocalCache\\local-packages\\share\\jupyter\\kernels\\python3\n"
     ]
    }
   ],
   "source": [
    "!jupyter kernelspec list"
   ]
  },
  {
   "attachments": {
    "image.png": {
     "image/png": "[encoded data removed]"
    }
   },
   "cell_type": "markdown",
   "id": "bf0b26ca",
   "metadata": {},
   "source": [
    "![image.png](attachment:image.png)"
   ]
  },
  {
   "cell_type": "code",
   "execution_count": 1,
   "id": "6284cb84",
   "metadata": {},
   "outputs": [
    {
     "name": "stdout",
     "output_type": "stream",
     "text": [
      "Note: you may need to restart the kernel to use updated packages.\n"
     ]
    },
    {
     "name": "stderr",
     "output_type": "stream",
     "text": [
      "WARNING: Package(s) not found: butiran\n"
     ]
    }
   ],
   "source": [
    "%pip show butiran"
   ]
  },
  {
   "cell_type": "code",
   "execution_count": 2,
   "id": "062d1ea2",
   "metadata": {},
   "outputs": [
    {
     "name": "stdout",
     "output_type": "stream",
     "text": [
      "Collecting butiran\n",
      "  Using cached butiran-0.0.9-py3-none-any.whl (5.1 kB)\n",
      "Installing collected packages: butiran\n",
      "Successfully installed butiran-0.0.9\n",
      "Note: you may need to restart the kernel to use updated packages.\n"
     ]
    }
   ],
   "source": [
    "%pip install butiran"
   ]
  },
  {
   "cell_type": "code",
   "execution_count": 1,
   "id": "2cdf25f4",
   "metadata": {},
   "outputs": [
    {
     "name": "stdout",
     "output_type": "stream",
     "text": [
      "Name: butiran\n",
      "Version: 0.0.9\n",
      "Summary: Python package for simulation of grain-based system\n",
      "Home-page: https://github.com/dudung/butiran-py\n",
      "Author: Sparisoma Viridi\n",
      "Author-email: <dudung@email.com>\n",
      "License: UNKNOWN\n",
      "Location: c:\\users\\sparisoma viridi\\appdata\\local\\packages\\pythonsoftwarefoundation.python.3.10_qbz5n2kfra8p0\\localcache\\local-packages\\python310\\site-packages\n",
      "Requires: \n",
      "Required-by: \n",
      "Note: you may need to restart the kernel to use updated packages.\n"
     ]
    }
   ],
   "source": [
    "%pip show butiran"
   ]
  },
  {
   "cell_type": "code",
   "execution_count": 2,
   "id": "0a0c9332",
   "metadata": {},
   "outputs": [
    {
     "name": "stdout",
     "output_type": "stream",
     "text": [
      "Name: butiran\n",
      "Version: 0.0.9\n",
      "Summary: Python package for simulation of grain-based system\n",
      "Home-page: https://github.com/dudung/butiran-py\n",
      "Author: Sparisoma Viridi\n",
      "Author-email: <dudung@email.com>\n",
      "License: UNKNOWN\n",
      "Location: c:\\users\\sparisoma viridi\\appdata\\local\\packages\\pythonsoftwarefoundation.python.3.10_qbz5n2kfra8p0\\localcache\\local-packages\\python310\\site-packages\n",
      "Requires: \n",
      "Required-by: \n"
     ]
    }
   ],
   "source": [
    "!pip show butiran"
   ]
  },
  {
   "cell_type": "markdown",
   "id": "298d017c",
   "metadata": {},
   "source": [
    "**Note**:It seems that butiran is installed for all kernel instead of only for avenv kernel."
   ]
  },
  {
   "cell_type": "code",
   "execution_count": null,
   "id": "29e9d1dd",
   "metadata": {},
   "outputs": [],
   "source": []
  }
 ],
 "metadata": {
  "authors": [
   {
    "name": "Sparisoma Viridi"
   }
  ],
  "kernelspec": {
   "display_name": "Python 3 (ipykernel)",
   "language": "python",
   "name": "python3"
  },
  "language_info": {
   "codemirror_mode": {
    "name": "ipython",
    "version": 3
   },
   "file_extension": ".py",
   "mimetype": "text/x-python",
   "name": "python",
   "nbconvert_exporter": "python",
   "pygments_lexer": "ipython3",
   "version": "3.10.10"
  },
  "title": "create_virtual_environment"
 },
 "nbformat": 4,
 "nbformat_minor": 5
}
