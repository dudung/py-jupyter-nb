{
 "cells": [
  {
   "cell_type": "markdown",
   "id": "cca11c7c",
   "metadata": {},
   "source": [
    "# constants\n",
    "Some constants for soil_2d."
   ]
  },
  {
   "cell_type": "code",
   "execution_count": 3,
   "id": "b9da0142",
   "metadata": {},
   "outputs": [],
   "source": [
    "class Soil:\n",
    "    def __init__(self, **kwargs):\n",
    "        self.__dict__.update(kwargs)"
   ]
  },
  {
   "cell_type": "code",
   "execution_count": null,
   "id": "343fe3e1",
   "metadata": {},
   "outputs": [],
   "source": [
    "Silt = Soil(\n",
    "    name='Silt',\n",
    "    # https://doi.org/10.1007/978-94-017-8801-4_148\n",
    "    size=(2.00E-6, 6.00E-5), \n",
    "    # https://doi.org/10.3390/app122110703\n",
    "    sphericity=(0.46, 0.90)\n",
    ")\n",
    "print(vars(Silt))"
   ]
  },
  {
   "cell_type": "code",
   "execution_count": null,
   "id": "434872d6",
   "metadata": {},
   "outputs": [],
   "source": [
    "print(silt)"
   ]
  },
  {
   "cell_type": "markdown",
   "id": "7e206686",
   "metadata": {},
   "source": [
    "url https://www.geog.ucl.ac.uk/resources/laboratory/laboratory-methods/particle-size-analysis/particle-size-analysis-for-soils-sediments"
   ]
  },
  {
   "cell_type": "code",
   "execution_count": 16,
   "id": "cbc1bcf5",
   "metadata": {},
   "outputs": [
    {
     "name": "stdout",
     "output_type": "stream",
     "text": [
      "{'group': 'Gravel', 'subgroup': 'Boulder', 'size2': (8, 12)}\n",
      "{'group': 'Gravel', 'subgroup': 'Cobble', 'size2': (6, 8)}\n",
      "{'group': 'Gravel', 'subgroup': 'Pebble', 'size2': (2, 6)}\n",
      "{'group': 'Gravel', 'subgroup': 'Granule', 'size2': (1, 2)}\n",
      "{'group': 'Sand', 'subgroup': 'Very Coarse Sand', 'size2': (0, 1)}\n",
      "{'group': 'Sand', 'subgroup': 'Coarse Sand', 'size2': (-1, 0)}\n",
      "{'group': 'Sand', 'subgroup': 'Medium Sand', 'size2': (-2, -1)}\n",
      "{'group': 'Sand', 'subgroup': 'Fine Sand', 'size2': (-3, -2)}\n",
      "{'group': 'Sand', 'subgroup': 'Very Fine Sand', 'size2': (-4, -3)}\n",
      "{'group': 'Silt', 'subgroup': 'Coarse Silt', 'size2': (-5, -4)}\n",
      "{'group': 'Silt', 'subgroup': 'Medium Silt', 'size2': (-6, -5)}\n",
      "{'group': 'Silt', 'subgroup': 'Fine Silt', 'size2': (-7, -6)}\n",
      "{'group': 'Silt', 'subgroup': 'Very Fine Silt', 'size2': (-8, -7)}\n",
      "{'group': 'Silt', 'subgroup': 'Clay', 'size2': (-14, -8)}\n"
     ]
    }
   ],
   "source": [
    "# Wentworth (1922) -- in mm\n",
    "s01 = Soil(group='Gravel', subgroup='Boulder', size2=(8, 12))\n",
    "s02 = Soil(group='Gravel', subgroup='Cobble', size2=(6, 8))\n",
    "s03 = Soil(group='Gravel', subgroup='Pebble', size2=(2, 6))\n",
    "s04 = Soil(group='Gravel', subgroup='Granule', size2=(1, 2))\n",
    "\n",
    "s05 = Soil(group='Sand', subgroup='Very Coarse Sand', size2=(0, 1))\n",
    "s06 = Soil(group='Sand', subgroup='Coarse Sand', size2=(-1, 0))\n",
    "s07 = Soil(group='Sand', subgroup='Medium Sand', size2=(-2, -1))\n",
    "s08 = Soil(group='Sand', subgroup='Fine Sand', size2=(-3, -2))\n",
    "s09 = Soil(group='Sand', subgroup='Very Fine Sand', size2=(-4, -3))\n",
    "\n",
    "s10 = Soil(group='Silt', subgroup='Coarse Silt', size2=(-5, -4))\n",
    "s11 = Soil(group='Silt', subgroup='Medium Silt', size2=(-6, -5))\n",
    "s12 = Soil(group='Silt', subgroup='Fine Silt', size2=(-7, -6))\n",
    "s13 = Soil(group='Silt', subgroup='Very Fine Silt', size2=(-8, -7))\n",
    "\n",
    "s14 = Soil(group='Silt', subgroup='Clay', size2=(-14, -8))\n",
    "\n",
    "soils = [\n",
    "    s01, s02, s03, s04, s05, s06, s07,\n",
    "    s08, s09, s10, s11, s12, s13, s14\n",
    "]\n",
    "for i in soils:\n",
    "    print(vars(i))\n",
    "    "
   ]
  },
  {
   "cell_type": "code",
   "execution_count": null,
   "id": "44cdd7e9",
   "metadata": {},
   "outputs": [],
   "source": []
  }
 ],
 "metadata": {
  "authors": [
   {
    "name": "Sparisoma Viridi"
   }
  ],
  "kernelspec": {
   "display_name": "Python 3 (ipykernel)",
   "language": "python",
   "name": "python3"
  },
  "language_info": {
   "codemirror_mode": {
    "name": "ipython",
    "version": 3
   },
   "file_extension": ".py",
   "mimetype": "text/x-python",
   "name": "python",
   "nbconvert_exporter": "python",
   "pygments_lexer": "ipython3",
   "version": "3.10.10"
  },
  "title": "constants"
 },
 "nbformat": 4,
 "nbformat_minor": 5
}
