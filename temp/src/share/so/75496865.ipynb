{
 "cells": [
  {
   "cell_type": "markdown",
   "id": "cca11c7c",
   "metadata": {},
   "source": [
    "# 75496865\n",
    "Python in Jupyter Notebook: .append kept adding without refresh the list in each run<br>\n",
    "url https://stackoverflow.com/q/75496578/9475509"
   ]
  },
  {
   "cell_type": "markdown",
   "id": "35bfa614",
   "metadata": {},
   "source": [
    "## proposed solution\n",
    "url https://stackoverflow.com/a/75496865/9475509"
   ]
  },
  {
   "cell_type": "code",
   "execution_count": 1,
   "id": "7141ad3c",
   "metadata": {},
   "outputs": [
    {
     "name": "stdout",
     "output_type": "stream",
     "text": [
      "['Q', 'm', 'p', 'Q', 'p', 'd']\n",
      "[True, False, False, True, True, True]\n"
     ]
    }
   ],
   "source": [
    "s ='Qm1p4Q7p5d2'\n",
    "ltr = []\n",
    "# Test if each element of 'ltr' satisfies the spec of alphabet letter in a string\n",
    "ltr_j = False\n",
    "ltr_spec = []\n",
    "\n",
    "for i in s:\n",
    "    if i.isalpha():\n",
    "        ltr.append(i)\n",
    "# Utilize the modulo operation, a math concept, to locate the position of the letters\n",
    "if (len(ltr) % 3 == 0):\n",
    "    for j in range(len(ltr)):\n",
    "        # Test ltr list on the specs of index, letter, and upper/lower case\n",
    "        if ((j % 3 == 0 and ltr[j] == \"Q\") or\n",
    "                # Ask if there is a better way to write j %in% c(1,2) (R's match function) without using Numpy!\n",
    "            (j % 3 == 1 and ((ltr[j] == \"d\" and ltr[j+1] == \"p\") or (ltr[j] == \"p\" and ltr[j+1] == \"d\"))) or\n",
    "                # Ask if the following condition is redundant given the condition specified above is already checked..\n",
    "            (j % 3 == 2 and ((ltr[j] == \"d\" and ltr[j-1] == \"p\") or (ltr[j] == \"p\" and ltr[j-1] == \"d\")))):\n",
    "                ltr_j = True\n",
    "        else:\n",
    "            ltr_j = False\n",
    "        ltr_spec.append(ltr_j)\n",
    "\n",
    "print(ltr)\n",
    "print(ltr_spec)"
   ]
  },
  {
   "cell_type": "markdown",
   "id": "af8bf00e",
   "metadata": {},
   "source": [
    "as given on https://onecompiler.com/python/3yybazc9x [20230219]."
   ]
  },
  {
   "cell_type": "code",
   "execution_count": null,
   "id": "a856a6bb",
   "metadata": {},
   "outputs": [],
   "source": []
  }
 ],
 "metadata": {
  "authors": [
   {
    "name": "Sparisoma Viridi"
   }
  ],
  "kernelspec": {
   "display_name": "Python 3 (ipykernel)",
   "language": "python",
   "name": "python3"
  },
  "language_info": {
   "codemirror_mode": {
    "name": "ipython",
    "version": 3
   },
   "file_extension": ".py",
   "mimetype": "text/x-python",
   "name": "python",
   "nbconvert_exporter": "python",
   "pygments_lexer": "ipython3",
   "version": "3.10.10"
  },
  "title": "75496865"
 },
 "nbformat": 4,
 "nbformat_minor": 5
}
