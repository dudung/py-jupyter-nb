{
 "cells": [
  {
   "cell_type": "markdown",
   "id": "c7f2b8bd",
   "metadata": {},
   "source": [
    "# 75636459\n",
    "Why does the first Python Loop Work and Not the second?\n",
    "url https://stackoverflow.com/a/75636459/9475509"
   ]
  },
  {
   "cell_type": "markdown",
   "id": "c4a2b7ce",
   "metadata": {},
   "source": [
    "## question"
   ]
  },
  {
   "cell_type": "code",
   "execution_count": null,
   "id": "34a7c450",
   "metadata": {},
   "outputs": [],
   "source": [
    "rows = int(input('How many rows? '))\n",
    "\n",
    "while rows <= 0 or rows >= 26:\n",
    "    print('Out of range - must be between 1 and 25')\n",
    "    rows = int(input('How many rows? '))\n",
    "else:\n",
    "    for n in range(rows):\n",
    "        print('9' * 9 + '8' * 8 + '7' * 7 + '6' * 6 + '5' * 5 + '4' * 4 + '3' * 3 + '2' * 2 + '1')\n",
    "     \n",
    "\n",
    "'''\n",
    "while rows <= 25 and rows >= 1:\n",
    "    for n in range(rows):\n",
    "        print('9' * 9 + '8' * 8 + '7' * 7 + '6' * 6 + '5' * 5 + '4' * 4 + '3' * 3 + '2' * 2 + '1')\n",
    "else:\n",
    "    print('Out of range - must be between 1 and 25')\n",
    "    rows = int(input('How many rows? '))\n",
    "\n",
    "'''\n"
   ]
  },
  {
   "cell_type": "markdown",
   "id": "fe91e49e",
   "metadata": {},
   "source": [
    "## proposed answer"
   ]
  },
  {
   "cell_type": "code",
   "execution_count": 33,
   "id": "45684f9e",
   "metadata": {},
   "outputs": [
    {
     "name": "stdout",
     "output_type": "stream",
     "text": [
      "-2 True False\n",
      "-1 True False\n",
      "0 True False\n",
      "1 False True\n",
      "2 False True\n",
      "3 False True\n",
      "4 False True\n",
      "5 False True\n",
      "6 True False\n",
      "7 True False\n",
      "8 True False\n"
     ]
    }
   ],
   "source": [
    "for rows in range(-2, 9, 1):\n",
    "    cond1 = (rows <= 0) or (rows >= 6) \n",
    "    cond2 = (rows <= 5) and (rows >= 1) \n",
    "    print(rows, cond1, cond2)"
   ]
  },
  {
   "cell_type": "code",
   "execution_count": null,
   "id": "2d0c4d74",
   "metadata": {},
   "outputs": [],
   "source": []
  }
 ],
 "metadata": {
  "authors": [
   {
    "name": "Sparisoma Viridi"
   }
  ],
  "kernelspec": {
   "display_name": "Python 3 (ipykernel)",
   "language": "python",
   "name": "python3"
  },
  "language_info": {
   "codemirror_mode": {
    "name": "ipython",
    "version": 3
   },
   "file_extension": ".py",
   "mimetype": "text/x-python",
   "name": "python",
   "nbconvert_exporter": "python",
   "pygments_lexer": "ipython3",
   "version": "3.10.10"
  },
  "title": "xy"
 },
 "nbformat": 4,
 "nbformat_minor": 5
}
