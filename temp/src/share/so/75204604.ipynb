{
 "cells": [
  {
   "cell_type": "markdown",
   "id": "cca11c7c",
   "metadata": {},
   "source": [
    "# 75204604\n",
    "Python Temperature Convertor<br>\n",
    "url https://stackoverflow.com/q/75204604/9475509"
   ]
  },
  {
   "cell_type": "markdown",
   "id": "3bc76a6c",
   "metadata": {},
   "source": [
    "```python\n",
    "tempInput = input(\"Please enter a numeric temperature value.\")\n",
    "temp = float(tempInput)\n",
    "\n",
    "typeInput = input(\"Do you want it converted to degrees Celsius or degrees Fahrenheit? Enter either an F or C?\")\n",
    "wordType = str(typeInput)\n",
    "\n",
    "if wordType == str(\"C\") or wordType == str(\"c\"):\n",
    "    degC = (temp - 32) / 1.8\n",
    "    print(temp, \"degrees F is the same as \", \"{:.1f}\".format(degC), \"degrees C\")\n",
    "elif wordType == str(\"F\") or wordType == str(\"f\"):\n",
    "    degF = 1.8 * temp + 32\n",
    "    print(temp, \"degrees C is the same as \", \"{:.1f}\".format(degF), \"degrees F\")\n",
    "else:\n",
    "    print(\"F or C wasn't selected, exiting now.\")\n",
    "```"
   ]
  },
  {
   "cell_type": "markdown",
   "id": "35bfa614",
   "metadata": {},
   "source": [
    "## proposed solution\n",
    "The question is deleted"
   ]
  },
  {
   "cell_type": "code",
   "execution_count": 20,
   "id": "2e6d7ec0",
   "metadata": {},
   "outputs": [
    {
     "name": "stdout",
     "output_type": "stream",
     "text": [
      "Please enter a numeric temperature value.32\n",
      "Do you want it converted to degrees Celsius or degrees Fahrenheit? Enter either an F or C?c\n",
      "32.0 degrees F is the same as  0.0 degrees C\n"
     ]
    }
   ],
   "source": [
    "tempInput = input(\"Please enter a numeric temperature value.\")\n",
    "if len(tempInput) == 0:\n",
    "    print(\"please provide number, exiting now\")\n",
    "else:\n",
    "    temp = float(tempInput)\n",
    "\n",
    "    typeInput = input(\"Do you want it converted to degrees Celsius or degrees Fahrenheit? Enter either an F or C?\")\n",
    "    wordType = str(typeInput)\n",
    "\n",
    "    if wordType == str(\"C\") or wordType == str(\"c\"):\n",
    "        degC = (temp - 32) / 1.8\n",
    "        print(temp, \"degrees F is the same as \", \"{:.1f}\".format(degC), \"degrees C\")\n",
    "    elif wordType == str(\"F\") or wordType == str(\"f\"):\n",
    "        degF = 1.8 * temp + 32\n",
    "        print(temp, \"degrees C is the same as \", \"{:.1f}\".format(degF), \"degrees F\")\n",
    "    else:\n",
    "        print(\"F or C wasn't selected, exiting now.\")# Importing the calculus library"
   ]
  },
  {
   "cell_type": "code",
   "execution_count": null,
   "id": "7141ad3c",
   "metadata": {},
   "outputs": [],
   "source": []
  }
 ],
 "metadata": {
  "authors": [
   {
    "name": "Sparisoma Viridi"
   }
  ],
  "kernelspec": {
   "display_name": "Python 3 (ipykernel)",
   "language": "python",
   "name": "python3"
  },
  "language_info": {
   "codemirror_mode": {
    "name": "ipython",
    "version": 3
   },
   "file_extension": ".py",
   "mimetype": "text/x-python",
   "name": "python",
   "nbconvert_exporter": "python",
   "pygments_lexer": "ipython3",
   "version": "3.10.9"
  },
  "title": "75204604"
 },
 "nbformat": 4,
 "nbformat_minor": 5
}
