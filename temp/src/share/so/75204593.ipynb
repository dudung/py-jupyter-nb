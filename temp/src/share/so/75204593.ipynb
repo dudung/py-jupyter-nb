{
 "cells": [
  {
   "cell_type": "markdown",
   "id": "cca11c7c",
   "metadata": {},
   "source": [
    "# 75204593\n",
    "I tried creating a List comprehension in Python but I am getting a None result<br>\n",
    "url https://stackoverflow.com/q/75204593/9475509"
   ]
  },
  {
   "cell_type": "markdown",
   "id": "3bc76a6c",
   "metadata": {},
   "source": [
    "```python\n",
    "numbers = [numbers.append(i) for i in range(50)]\n",
    "print(numbers)\n",
    "```"
   ]
  },
  {
   "cell_type": "code",
   "execution_count": 1,
   "id": "cbca3c3b",
   "metadata": {},
   "outputs": [
    {
     "name": "stdout",
     "output_type": "stream",
     "text": [
      "[None, None, None, None, None, None, None, None, None, None, None, None, None, None, None, None, None, None, None, None, None, None, None, None, None, None, None, None, None, None, None, None, None, None, None, None, None, None, None, None, None, None, None, None, None, None, None, None, None, None]\n"
     ]
    }
   ],
   "source": [
    "numbers = []\n",
    "numbers = [numbers.append(i) for i in range(50)]\n",
    "print(numbers)"
   ]
  },
  {
   "cell_type": "markdown",
   "id": "35bfa614",
   "metadata": {},
   "source": [
    "## proposed solution\n",
    "url https://stackoverflow.com/a/75204675/9475509"
   ]
  },
  {
   "cell_type": "code",
   "execution_count": 2,
   "id": "2e6d7ec0",
   "metadata": {},
   "outputs": [
    {
     "name": "stdout",
     "output_type": "stream",
     "text": [
      "[0, 1, 2, 3, 4, 5, 6, 7, 8, 9, 10, 11, 12, 13, 14, 15, 16, 17, 18, 19, 20, 21, 22, 23, 24, 25, 26, 27, 28, 29, 30, 31, 32, 33, 34, 35, 36, 37, 38, 39, 40, 41, 42, 43, 44, 45, 46, 47, 48, 49]\n"
     ]
    }
   ],
   "source": [
    "numbers = [*range(50)]\n",
    "print(numbers)"
   ]
  },
  {
   "cell_type": "code",
   "execution_count": null,
   "id": "7141ad3c",
   "metadata": {},
   "outputs": [],
   "source": []
  }
 ],
 "metadata": {
  "authors": [
   {
    "name": "Sparisoma Viridi"
   }
  ],
  "kernelspec": {
   "display_name": "Python 3 (ipykernel)",
   "language": "python",
   "name": "python3"
  },
  "language_info": {
   "codemirror_mode": {
    "name": "ipython",
    "version": 3
   },
   "file_extension": ".py",
   "mimetype": "text/x-python",
   "name": "python",
   "nbconvert_exporter": "python",
   "pygments_lexer": "ipython3",
   "version": "3.10.9"
  },
  "title": "75204593"
 },
 "nbformat": 4,
 "nbformat_minor": 5
}
