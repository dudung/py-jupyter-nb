{
 "cells": [
  {
   "cell_type": "markdown",
   "id": "cca11c7c",
   "metadata": {},
   "source": [
    "# 75571167\n",
    "Download model 'en' for spacy produces \"TypeError: can only concatenate list (not 'tuple') to list\"<br>\n",
    "url https://stackoverflow.com/q/75571167/9475509"
   ]
  },
  {
   "cell_type": "markdown",
   "id": "35bfa614",
   "metadata": {},
   "source": [
    "## question\n",
    "The questions are\n",
    "+ Is it legal to modify package file instead of search right version of the package?\n",
    "+ Is there a better way?\n",
    "+ How to assure that the modification will not overwritten while updating the package?"
   ]
  },
  {
   "cell_type": "markdown",
   "id": "16bc1950",
   "metadata": {},
   "source": [
    "## packages\n",
    "```\n",
    "python-3.7.0\n",
    "virtualenv-20.19.0\n",
    "chatterbot-1.0.8\n",
    "spacy-2.3.6\n",
    "```"
   ]
  },
  {
   "cell_type": "markdown",
   "id": "385d9857",
   "metadata": {},
   "source": [
    "## error message\n",
    "```\n",
    "(chatterbot) PS L:\\> python -m spacy download en\n",
    "Traceback (most recent call last):\n",
    "  File \"C:\\Python\\Python37\\lib\\runpy.py\", line 193, in _run_module_as_main\n",
    "    \"__main__\", mod_spec)\n",
    "  File \"C:\\Python\\Python37\\lib\\runpy.py\", line 85, in _run_code\n",
    "    exec(code, run_globals)\n",
    "  File \"C:\\venvs\\chatterbot\\lib\\site-packages\\spacy\\__main__.py\", line 33, in <module>\n",
    "    plac.call(commands[command], sys.argv[1:])\n",
    "  File \"C:\\venvs\\chatterbot\\lib\\site-packages\\plac_core.py\", line 367, in call\n",
    "    cmd, result = parser.consume(arglist)\n",
    "  File \"C:\\venvs\\chatterbot\\lib\\site-packages\\plac_core.py\", line 232, in consume\n",
    "    return cmd, self.func(*(args + varargs + extraopts), **kwargs)\n",
    "  File \"C:\\venvs\\chatterbot\\lib\\site-packages\\spacy\\cli\\download.py\", line 48, in download\n",
    "    dl = download_model(dl_tpl.format(m=model_name, v=version), pip_args)\n",
    "  File \"C:\\venvs\\chatterbot\\lib\\site-packages\\spacy\\cli\\download.py\", line 132, in download_model\n",
    "    cmd = [sys.executable, \"-m\", \"pip\", \"install\"] + pip_args + [download_url]\n",
    "TypeError: can only concatenate list (not \"tuple\") to list\n",
    "(chatterbot) PS L:\\>\n",
    "```"
   ]
  },
  {
   "cell_type": "markdown",
   "id": "d2da3368",
   "metadata": {},
   "source": [
    "## modification\n",
    "```\n",
    "def download_model(filename, user_pip_args=None):\n",
    "    download_url = about.__download_url__ + \"/\" + filename\n",
    "    pip_args = user_pip_args if user_pip_args is not None else []\n",
    "    #cmd = [sys.executable, \"-m\", \"pip\", \"install\"] + pip_args + [download_url]\n",
    "    cmd = [sys.executable, \"-m\", \"pip\", \"install\"] + list(pip_args) + [download_url]\n",
    "    return subprocess.call(cmd, env=os.environ.copy())\n",
    "```"
   ]
  },
  {
   "cell_type": "markdown",
   "id": "b1849a9e",
   "metadata": {},
   "source": [
    "## result\n",
    "```\n",
    "(chatterbot) PS L:\\> python -m spacy download en\n",
    "DEPRECATION: https://github.com/explosion/spacy-models/releases/download/en_core_web_sm-2.3.1/en_core_web_sm-2.3.1.tar.gz#egg=en_core_web_sm==2.3.1 contains an egg fragment with a non-PEP 508 name pip 25.0 will enforce this behaviour change. A possible replacement is to use the req @ url syntax, and remove the egg fragment. Discussion can be found at https://github.com/pypa/pip/issues/11617\n",
    "Collecting en_core_web_sm==2.3.1\n",
    "  Using cached en_core_web_sm-2.3.1-py3-none-any.whl\n",
    "Requirement already satisfied: spacy<2.4.0,>=2.3.0 in c:\\venvs\\chatterbot\\lib\\site-packages (from en_core_web_sm==2.3.1) (2.3.6)\n",
    "Requirement already satisfied: cymem<2.1.0,>=2.0.2 in c:\\venvs\\chatterbot\\lib\\site-packages (from spacy<2.4.0,>=2.3.0->en_core_web_sm==2.3.1) (2.0.7)\n",
    "Requirement already satisfied: requests<3.0.0,>=2.13.0 in c:\\venvs\\chatterbot\\lib\\site-packages (from spacy<2.4.0,>=2.3.0->en_core_web_sm==2.3.1) (2.28.2)\n",
    "Requirement already satisfied: setuptools in c:\\venvs\\chatterbot\\lib\\site-packages (from spacy<2.4.0,>=2.3.0->en_core_web_sm==2.3.1) (67.1.0)\n",
    "Requirement already satisfied: srsly<1.1.0,>=1.0.2 in c:\\venvs\\chatterbot\\lib\\site-packages (from spacy<2.4.0,>=2.3.0->en_core_web_sm==2.3.1) (1.0.6)\n",
    "Requirement already satisfied: numpy>=1.15.0 in c:\\venvs\\chatterbot\\lib\\site-packages (from spacy<2.4.0,>=2.3.0->en_core_web_sm==2.3.1) (1.21.6)\n",
    "Requirement already satisfied: plac<1.2.0,>=0.9.6 in c:\\venvs\\chatterbot\\lib\\site-packages (from spacy<2.4.0,>=2.3.0->en_core_web_sm==2.3.1) (1.1.3)\n",
    "Requirement already satisfied: wasabi<1.1.0,>=0.4.0 in c:\\venvs\\chatterbot\\lib\\site-packages (from spacy<2.4.0,>=2.3.0->en_core_web_sm==2.3.1) (0.10.1)\n",
    "Requirement already satisfied: tqdm<5.0.0,>=4.38.0 in c:\\venvs\\chatterbot\\lib\\site-packages (from spacy<2.4.0,>=2.3.0->en_core_web_sm==2.3.1) (4.64.1)\n",
    "Requirement already satisfied: catalogue<1.1.0,>=0.0.7 in c:\\venvs\\chatterbot\\lib\\site-packages (from spacy<2.4.0,>=2.3.0->en_core_web_sm==2.3.1) (1.0.2)\n",
    "Requirement already satisfied: murmurhash<1.1.0,>=0.28.0 in c:\\venvs\\chatterbot\\lib\\site-packages (from spacy<2.4.0,>=2.3.0->en_core_web_sm==2.3.1) (1.0.9)\n",
    "Requirement already satisfied: preshed<3.1.0,>=3.0.2 in c:\\venvs\\chatterbot\\lib\\site-packages (from spacy<2.4.0,>=2.3.0->en_core_web_sm==2.3.1) (3.0.8)\n",
    "Requirement already satisfied: blis<0.8.0,>=0.4.0 in c:\\venvs\\chatterbot\\lib\\site-packages (from spacy<2.4.0,>=2.3.0->en_core_web_sm==2.3.1) (0.7.9)\n",
    "Requirement already satisfied: thinc<7.5.0,>=7.4.1 in c:\\venvs\\chatterbot\\lib\\site-packages (from spacy<2.4.0,>=2.3.0->en_core_web_sm==2.3.1) (7.4.6)\n",
    "Requirement already satisfied: typing-extensions>=3.6.4 in c:\\venvs\\chatterbot\\lib\\site-packages (from catalogue<1.1.0,>=0.0.7->spacy<2.4.0,>=2.3.0->en_core_web_sm==2.3.1) (4.5.0)\n",
    "Requirement already satisfied: zipp>=0.5 in c:\\venvs\\chatterbot\\lib\\site-packages (from catalogue<1.1.0,>=0.0.7->spacy<2.4.0,>=2.3.0->en_core_web_sm==2.3.1) (3.15.0)\n",
    "Requirement already satisfied: idna<4,>=2.5 in c:\\venvs\\chatterbot\\lib\\site-packages (from requests<3.0.0,>=2.13.0->spacy<2.4.0,>=2.3.0->en_core_web_sm==2.3.1) (3.4)\n",
    "Requirement already satisfied: certifi>=2017.4.17 in c:\\venvs\\chatterbot\\lib\\site-packages (from requests<3.0.0,>=2.13.0->spacy<2.4.0,>=2.3.0->en_core_web_sm==2.3.1) (2022.12.7)\n",
    "Requirement already satisfied: charset-normalizer<4,>=2 in c:\\venvs\\chatterbot\\lib\\site-packages (from requests<3.0.0,>=2.13.0->spacy<2.4.0,>=2.3.0->en_core_web_sm==2.3.1) (3.0.1)\n",
    "Requirement already satisfied: urllib3<1.27,>=1.21.1 in c:\\venvs\\chatterbot\\lib\\site-packages (from requests<3.0.0,>=2.13.0->spacy<2.4.0,>=2.3.0->en_core_web_sm==2.3.1) (1.26.14)\n",
    "Requirement already satisfied: colorama in c:\\venvs\\chatterbot\\lib\\site-packages (from tqdm<5.0.0,>=4.38.0->spacy<2.4.0,>=2.3.0->en_core_web_sm==2.3.1) (0.4.6)\n",
    "✔ Download and installation successful\n",
    "You can now load the model via spacy.load('en_core_web_sm')\n",
    "symbolic link created for C:\\venvs\\chatterbot\\lib\\site-packages\\spacy\\data\\en <<===>> C:\\venvs\\chatterbot\\lib\\site-packages\\en_core_web_sm\n",
    "✔ Linking successful\n",
    "C:\\venvs\\chatterbot\\lib\\site-packages\\en_core_web_sm -->\n",
    "C:\\venvs\\chatterbot\\lib\\site-packages\\spacy\\data\\en\n",
    "You can now load the model via spacy.load('en')\n",
    "(chatterbot) PS L:\\>\n",
    "```"
   ]
  },
  {
   "cell_type": "code",
   "execution_count": null,
   "id": "04ddb788",
   "metadata": {},
   "outputs": [],
   "source": []
  }
 ],
 "metadata": {
  "authors": [
   {
    "name": "Sparisoma Viridi"
   }
  ],
  "kernelspec": {
   "display_name": "Python 3 (ipykernel)",
   "language": "python",
   "name": "python3"
  },
  "language_info": {
   "codemirror_mode": {
    "name": "ipython",
    "version": 3
   },
   "file_extension": ".py",
   "mimetype": "text/x-python",
   "name": "python",
   "nbconvert_exporter": "python",
   "pygments_lexer": "ipython3",
   "version": "3.10.10"
  },
  "title": "75571167"
 },
 "nbformat": 4,
 "nbformat_minor": 5
}
