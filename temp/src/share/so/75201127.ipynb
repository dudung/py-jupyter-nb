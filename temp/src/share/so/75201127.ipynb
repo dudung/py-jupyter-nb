{
 "cells": [
  {
   "cell_type": "markdown",
   "id": "cca11c7c",
   "metadata": {},
   "source": [
    "# 75201127\n",
    "How to extract numbers from between commas on each row is csv file<br>\n",
    "url https://stackoverflow.com/q/75201127/9475509"
   ]
  },
  {
   "cell_type": "markdown",
   "id": "3bc76a6c",
   "metadata": {},
   "source": [
    "Code\n",
    "\n",
    "```python\n",
    "import csv\n",
    "\n",
    "with open('Lottery_Powerball_Winning_Numbers__Beginning_2010.csv', 'r') as readObj:\n",
    "    heading = next(readObj)\n",
    "    csvReader = csv.reader(readObj)\n",
    "    listOfCSV = list(csvReader)\n",
    "    print(listOfCSV)\n",
    "```\n",
    "\n",
    "Output\n",
    "```python\n",
    "['9/26/20', '11 21 27 36 62 24', '3'], ['9/30/20', '14 18 36 49 67 18', '2'], ['10/3/20', '18 31 36 43 47 20', '2'], ['10/7/20', '06 24 30 53 56 19', '2'], ['10/10/20', '05 18 23 40 50 18', '3']\n",
    "```"
   ]
  },
  {
   "cell_type": "markdown",
   "id": "35bfa614",
   "metadata": {},
   "source": [
    "## proposed solution\n",
    "url https://stackoverflow.com/a/75201185/9475509"
   ]
  },
  {
   "cell_type": "code",
   "execution_count": 1,
   "id": "2e6d7ec0",
   "metadata": {},
   "outputs": [
    {
     "name": "stdout",
     "output_type": "stream",
     "text": [
      "['9/26/20', '9/30/20', '10/3/20', '10/7/20', '10/10/20']\n",
      "['11 21 27 36 62 24', '14 18 36 49 67 18', '18 31 36 43 47 20', '06 24 30 53 56 19', '05 18 23 40 50 18']\n",
      "['3', '2', '2', '2', '3']\n"
     ]
    }
   ],
   "source": [
    "csv = [['9/26/20', '11 21 27 36 62 24', '3'], ['9/30/20', '14 18 36 49 67 18', '2'], ['10/3/20', '18 31 36 43 47 20', '2'], ['10/7/20', '06 24 30 53 56 19', '2'], ['10/10/20', '05 18 23 40 50 18', '3']]\n",
    "\n",
    "date = []\n",
    "number = []\n",
    "end = []\n",
    "\n",
    "for row in csv:\n",
    "  date.append(row[0])\n",
    "  number.append(row[1])\n",
    "  end.append(row[2])\n",
    "\n",
    "print(date)\n",
    "print(number)\n",
    "print(end)"
   ]
  },
  {
   "cell_type": "code",
   "execution_count": null,
   "id": "7141ad3c",
   "metadata": {},
   "outputs": [],
   "source": []
  }
 ],
 "metadata": {
  "authors": [
   {
    "name": "Sparisoma Viridi"
   }
  ],
  "kernelspec": {
   "display_name": "Python 3 (ipykernel)",
   "language": "python",
   "name": "python3"
  },
  "language_info": {
   "codemirror_mode": {
    "name": "ipython",
    "version": 3
   },
   "file_extension": ".py",
   "mimetype": "text/x-python",
   "name": "python",
   "nbconvert_exporter": "python",
   "pygments_lexer": "ipython3",
   "version": "3.10.9"
  },
  "title": "75201127"
 },
 "nbformat": 4,
 "nbformat_minor": 5
}
