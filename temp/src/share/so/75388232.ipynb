{
 "cells": [
  {
   "cell_type": "markdown",
   "id": "cca11c7c",
   "metadata": {},
   "source": [
    "# 75388232\n",
    "Install Python package inside a Jupyter Notebook kernel<br>\n",
    "url https://stackoverflow.com/q/75388232/9475509"
   ]
  },
  {
   "cell_type": "markdown",
   "id": "35bfa614",
   "metadata": {},
   "source": [
    "## proposed solution\n",
    "url https://stackoverflow.com/a/75424158/9475509"
   ]
  },
  {
   "cell_type": "code",
   "execution_count": null,
   "id": "7141ad3c",
   "metadata": {},
   "outputs": [],
   "source": []
  }
 ],
 "metadata": {
  "authors": [
   {
    "name": "Sparisoma Viridi"
   }
  ],
  "kernelspec": {
   "display_name": "Python 3 (ipykernel)",
   "language": "python",
   "name": "python3"
  },
  "language_info": {
   "codemirror_mode": {
    "name": "ipython",
    "version": 3
   },
   "file_extension": ".py",
   "mimetype": "text/x-python",
   "name": "python",
   "nbconvert_exporter": "python",
   "pygments_lexer": "ipython3",
   "version": "3.10.10"
  },
  "title": "75388232"
 },
 "nbformat": 4,
 "nbformat_minor": 5
}
