{
 "cells": [
  {
   "cell_type": "markdown",
   "id": "cca11c7c",
   "metadata": {},
   "source": [
    "# 75205010\n",
    "get half of all repeating elements in a list<br>\n",
    "url https://stackoverflow.com/q/75205010/9475509"
   ]
  },
  {
   "cell_type": "markdown",
   "id": "3bc76a6c",
   "metadata": {},
   "source": [
    "```python\n",
    "list = [[255, 255, 255], [255, 0, 0], [255, 0, 0], [0, 255, 0], [0, 255, 0], [0, 255, 0], [0, 255, 0], [0, 255, 0], [0, 255, 0]]\n",
    "\n",
    "list I expect = [[255, 255, 255], [255, 0, 0], [0, 255, 0], [0, 255, 0], [0, 255, 0]]\n",
    "```"
   ]
  },
  {
   "cell_type": "markdown",
   "id": "35bfa614",
   "metadata": {},
   "source": [
    "## proposed solution\n",
    "url https://stackoverflow.com/a/75205141/9475509"
   ]
  },
  {
   "cell_type": "code",
   "execution_count": 1,
   "id": "2e6d7ec0",
   "metadata": {},
   "outputs": [
    {
     "name": "stdout",
     "output_type": "stream",
     "text": [
      "[[255, 255, 255], [255, 0, 0], [0, 255, 0], [0, 255, 0], [0, 255, 0]]\n"
     ]
    }
   ],
   "source": [
    "list = [\n",
    "  [255, 255, 255],\n",
    "  [255, 0, 0], [255, 0, 0],\n",
    "  [0, 255, 0], [0, 255, 0], [0, 255, 0], [0, 255, 0], [0, 255, 0], [0, 255, 0]\n",
    "]\n",
    "\n",
    "\n",
    "temp_list = []\n",
    "for i in list:\n",
    "    if i not in temp_list:\n",
    "        temp_list.append(i)\n",
    "\n",
    "result_list = []\n",
    "for i in range(0, len(temp_list)):\n",
    "  if i == 0:\n",
    "    result_list.append(temp_list[i])\n",
    "  else:\n",
    "    n = list.count(temp_list[i])\n",
    "    for j in range(n // 2):\n",
    "      result_list.append(temp_list[i])\n",
    "\n",
    "print(result_list)"
   ]
  },
  {
   "cell_type": "code",
   "execution_count": null,
   "id": "7141ad3c",
   "metadata": {},
   "outputs": [],
   "source": []
  }
 ],
 "metadata": {
  "authors": [
   {
    "name": "Sparisoma Viridi"
   }
  ],
  "kernelspec": {
   "display_name": "Python 3 (ipykernel)",
   "language": "python",
   "name": "python3"
  },
  "language_info": {
   "codemirror_mode": {
    "name": "ipython",
    "version": 3
   },
   "file_extension": ".py",
   "mimetype": "text/x-python",
   "name": "python",
   "nbconvert_exporter": "python",
   "pygments_lexer": "ipython3",
   "version": "3.10.9"
  },
  "title": "75205010"
 },
 "nbformat": 4,
 "nbformat_minor": 5
}
