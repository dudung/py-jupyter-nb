{
 "cells": [
  {
   "cell_type": "markdown",
   "id": "cca11c7c",
   "metadata": {},
   "source": [
    "# 75204783\n",
    "Divide positive and negative elements with different numbers. Python<br>\n",
    "url https://stackoverflow.com/q/75204783/9475509"
   ]
  },
  {
   "cell_type": "markdown",
   "id": "3bc76a6c",
   "metadata": {},
   "source": [
    "I have a (8864,40) array A, containing both negative and positive values. I wanna divide the positive values of the array with the maximum value of A, and divide the negative values with the minimum of A. Is it possible to do this whilst also keeping the shape of the array A? Any help would be appreciated."
   ]
  },
  {
   "cell_type": "markdown",
   "id": "35bfa614",
   "metadata": {},
   "source": [
    "## proposed solution\n",
    "url https://stackoverflow.com/a/75205310/9475509"
   ]
  },
  {
   "cell_type": "code",
   "execution_count": 1,
   "id": "2e6d7ec0",
   "metadata": {},
   "outputs": [
    {
     "name": "stdout",
     "output_type": "stream",
     "text": [
      "[-2, 1, 3, 0, -4, -1, 0, 5, 2]\n",
      "[-0.5, 0.2, 0.6, 0.0, -1.0, -0.25, 0.0, 1.0, 0.4]\n"
     ]
    }
   ],
   "source": [
    "x = [-2, 1, 3, 0, -4, -1, 0, 5, 2]\n",
    "y = [i / max(x) if i > 0 else i / abs(min(x)) for i in x]\n",
    "\n",
    "print(x)\n",
    "print(y)"
   ]
  },
  {
   "cell_type": "markdown",
   "id": "ecb9664f",
   "metadata": {},
   "source": [
    "where sign of the number `-` or + `is` conserved. Without the use of abs() you will get only positive values.\n",
    "\n",
    "I do not quite understand by the phrase\n",
    "\n",
    "> Is it possible to do this whilst also keeping the shape of the array A?\n",
    "\n",
    "By any change the shape means the sign?"
   ]
  },
  {
   "cell_type": "code",
   "execution_count": null,
   "id": "7141ad3c",
   "metadata": {},
   "outputs": [],
   "source": []
  }
 ],
 "metadata": {
  "authors": [
   {
    "name": "Sparisoma Viridi"
   }
  ],
  "kernelspec": {
   "display_name": "Python 3 (ipykernel)",
   "language": "python",
   "name": "python3"
  },
  "language_info": {
   "codemirror_mode": {
    "name": "ipython",
    "version": 3
   },
   "file_extension": ".py",
   "mimetype": "text/x-python",
   "name": "python",
   "nbconvert_exporter": "python",
   "pygments_lexer": "ipython3",
   "version": "3.10.9"
  },
  "title": "75204783"
 },
 "nbformat": 4,
 "nbformat_minor": 5
}
