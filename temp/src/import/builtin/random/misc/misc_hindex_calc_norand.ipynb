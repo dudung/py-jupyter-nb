{
 "cells": [
  {
   "cell_type": "markdown",
   "id": "2c7283f2",
   "metadata": {},
   "source": [
    "# misc_hindex_calc_norand\n",
    "Calculate h-index of an author from citation list"
   ]
  },
  {
   "cell_type": "code",
   "execution_count": 1,
   "id": "0b2df804",
   "metadata": {},
   "outputs": [
    {
     "name": "stdout",
     "output_type": "stream",
     "text": [
      "paper =  21\n",
      "citation =  [20, 12, 10, 11, 20, 12, 14, 12, 6, 19, 13, 20, 10, 10, 14, 12, 6, 15, 19, 14, 17] \n",
      "\n",
      "pa ci\n",
      "01 20\n",
      "02 20\n",
      "03 20\n",
      "04 19\n",
      "05 19\n",
      "06 17\n",
      "07 15\n",
      "08 14\n",
      "09 14\n",
      "10 14\n",
      "11 13\n",
      "12 12\n",
      "-- --\n",
      "13 12\n",
      "14 12\n",
      "15 12\n",
      "16 11\n",
      "17 10\n",
      "18 10\n",
      "19 10\n",
      "20 06\n",
      "21 06\n",
      "\n",
      "h-index is 12\n"
     ]
    }
   ],
   "source": [
    "import random, math\n",
    "\n",
    "citation_org = [20, 12, 10, 11, 20, 12, 14, 12, 6, 19, 13, 20, 10, 10, 14, 12, 6, 15, 19, 14, 17] \n",
    "N = len(citation_org)\n",
    "\n",
    "print(\"paper = \", N)\n",
    "print(\"citation = \", citation_org, \"\\n\")\n",
    "\n",
    "citation_srt = sorted(citation_org, reverse=True)\n",
    "\n",
    "end = True\n",
    "h = 0\n",
    "print(\"pa ci\")\n",
    "for i in range(len(citation_srt)):\n",
    "    cit = citation_srt[i]\n",
    "    j = i + 1\n",
    "    if cit >= j:\n",
    "        h = j\n",
    "    elif end:\n",
    "        print(\"-- --\")\n",
    "        end = False\n",
    "\n",
    "    print(f'{j:02}', f'{cit:02}')\n",
    "\n",
    "print(\"\\nh-index is\", h)"
   ]
  },
  {
   "cell_type": "markdown",
   "id": "f6780cb7",
   "metadata": {},
   "source": [
    "## refs\n",
    "1. -, \"Calculate Your Academic Footprint: Your H-Index\", University of Waterloo Library, 15 Sep 2022, url <https://subjectguides.uwaterloo.ca/calculate-academic-footprint/YourHIndex> [20221012]."
   ]
  }
 ],
 "metadata": {
  "authors": [
   {
    "name": "Sparisoma Viridi"
   }
  ],
  "kernelspec": {
   "display_name": "Python 3 (ipykernel)",
   "language": "python",
   "name": "python3"
  },
  "language_info": {
   "codemirror_mode": {
    "name": "ipython",
    "version": 3
   },
   "file_extension": ".py",
   "mimetype": "text/x-python",
   "name": "python",
   "nbconvert_exporter": "python",
   "pygments_lexer": "ipython3",
   "version": "3.9.12"
  },
  "title": "misc_hindex_calc_norand"
 },
 "nbformat": 4,
 "nbformat_minor": 5
}
