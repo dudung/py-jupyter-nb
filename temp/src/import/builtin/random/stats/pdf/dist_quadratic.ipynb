{
 "cells": [
  {
   "cell_type": "markdown",
   "id": "2c7283f2",
   "metadata": {},
   "source": [
    "# dist_quadratic\n",
    "Create quadratic distribution from uniform distribution"
   ]
  },
  {
   "cell_type": "code",
   "execution_count": 1,
   "id": "0b2df804",
   "metadata": {},
   "outputs": [
    {
     "name": "stdout",
     "output_type": "stream",
     "text": [
      "0.02\n",
      "0.07\n",
      "0.11\n",
      "0.14\n",
      "0.15\n",
      "0.15\n",
      "0.14\n",
      "0.11\n",
      "0.07\n",
      "0.02\n"
     ]
    }
   ],
   "source": [
    "import random, math\n",
    "\n",
    "# define PDF\n",
    "M = 10\n",
    "\n",
    "z = [0] * M\n",
    "\n",
    "N = 100000\n",
    "\n",
    "for i in range(N):\n",
    "    x = random.uniform(0, 1)\n",
    "    y = (math.asin(2 * (x - 0.5))) / math.pi + 0.5\n",
    "    j = math.floor(y * M)\n",
    "    z[j] += 1\n",
    "\n",
    "f = [i / N for i in z]\n",
    "for i in f:\n",
    "    print(f'{i:0.2f}')"
   ]
  },
  {
   "cell_type": "markdown",
   "id": "1bbfe95d",
   "metadata": {},
   "source": [
    "## derivation\n",
    "$$\n",
    "f(x) = 1 - 4(x - \\tfrac12)^2\n",
    "$$"
   ]
  },
  {
   "cell_type": "markdown",
   "id": "60c79d38",
   "metadata": {},
   "source": [
    "$$\n",
    "\\int_0^1 \\left[ 1 - 4(x - \\tfrac12)^2 \\right] dx = \\left[ x - \\tfrac43(x - \\tfrac12)^3 \\right]_{x = 0}^1\n",
    "$$"
   ]
  },
  {
   "cell_type": "markdown",
   "id": "a0356906",
   "metadata": {},
   "source": [
    "$$\n",
    "\\left[ x - \\tfrac43(x - \\tfrac12)^3 \\right]_{x = 0}^1 = (1 - 0) - \\tfrac43 (\\tfrac18 + \\tfrac18) = \\tfrac23\n",
    "$$"
   ]
  },
  {
   "cell_type": "markdown",
   "id": "2d4aa16f",
   "metadata": {},
   "source": [
    "$$\n",
    "f(x) = \\tfrac32 - 6(x - \\tfrac12)^2\n",
    "$$"
   ]
  },
  {
   "cell_type": "markdown",
   "id": "957ee6a1",
   "metadata": {},
   "source": [
    "$$\n",
    "A(x) = \\int_0^x f(x') dx'\n",
    "$$"
   ]
  },
  {
   "cell_type": "markdown",
   "id": "271d2e9a",
   "metadata": {},
   "source": [
    "$$\n",
    "\\left[ \\frac32 x - 2 \\left(x - \\frac12 \\right)^3 \\right]_0^x\n",
    "$$"
   ]
  },
  {
   "cell_type": "markdown",
   "id": "2fe7a680",
   "metadata": {},
   "source": [
    "$$\n",
    "\\frac32 (x-0) - 2 \\left[ \\left(x - \\frac12 \\right)^3 + \\frac18 \\right]\n",
    "$$"
   ]
  },
  {
   "cell_type": "markdown",
   "id": "3f6c0410",
   "metadata": {},
   "source": [
    "$$\n",
    "\\frac32 x - \\frac14 - 2 \\left(x - \\frac12 \\right)^3\n",
    "$$"
   ]
  },
  {
   "cell_type": "markdown",
   "id": "538f779a",
   "metadata": {},
   "source": [
    "$$\n",
    "\\frac32 x - \\frac14 - 2 \\left(x^3 - \\frac32 x^2 + \\frac34 x - \\frac18 \\right)\n",
    "$$"
   ]
  },
  {
   "cell_type": "markdown",
   "id": "cd94fc00",
   "metadata": {},
   "source": [
    "$$\n",
    "\\frac32 x -\\frac14 - 2 x^3 + 3 x^2 - \\frac32 x + \\frac14\n",
    "$$"
   ]
  },
  {
   "cell_type": "markdown",
   "id": "5c31cdad",
   "metadata": {},
   "source": [
    "$$\n",
    "-2 x^3 + 3 x^2\n",
    "$$"
   ]
  },
  {
   "cell_type": "markdown",
   "id": "0f4f5eb6",
   "metadata": {},
   "source": [
    "$$\n",
    "x^2 (3 - 2x)\n",
    "$$"
   ]
  },
  {
   "cell_type": "markdown",
   "id": "d7f01ff9",
   "metadata": {},
   "source": [
    "$$\n",
    "y = x^2 (3 - 2x)\n",
    "$$\n",
    "\n",
    "$$\n",
    "y = 0.5+ 0.5 \\sin \\left(\\pi x-0.5\\pi \\right)\n",
    "$$\n",
    "\n",
    "From https://www.transum.org/Maths/Activity/Graph/Desmos.asp"
   ]
  },
  {
   "cell_type": "markdown",
   "id": "83ff499c",
   "metadata": {},
   "source": [
    "$$\n",
    "x = \\frac1\\pi\\arcsin 2(y - \\tfrac12) + 0.5\n",
    "$$"
   ]
  },
  {
   "cell_type": "code",
   "execution_count": null,
   "id": "8043f0ff",
   "metadata": {},
   "outputs": [],
   "source": [
    "#y = (math.asin(2 * (x - 0.5))) / math.pi + 0.5"
   ]
  },
  {
   "cell_type": "markdown",
   "id": "f6780cb7",
   "metadata": {},
   "source": [
    "## refs\n",
    "1. Peter Siegel, \"Lecture 8 Generating a non-uniform probability distribution\", Phy404 Computational Nuclear-Particle Physics, Physics Department, California State Polytechnic University, Pomona, Spring 2013, url <https://www.cpp.edu/~pbsiegel/phy40413/lectures/lecture8.pdf> [20221011]."
   ]
  }
 ],
 "metadata": {
  "authors": [
   {
    "name": "Sparisoma Viridi"
   }
  ],
  "kernelspec": {
   "display_name": "Python 3 (ipykernel)",
   "language": "python",
   "name": "python3"
  },
  "language_info": {
   "codemirror_mode": {
    "name": "ipython",
    "version": 3
   },
   "file_extension": ".py",
   "mimetype": "text/x-python",
   "name": "python",
   "nbconvert_exporter": "python",
   "pygments_lexer": "ipython3",
   "version": "3.10.7"
  },
  "title": "dist_quadratic"
 },
 "nbformat": 4,
 "nbformat_minor": 5
}
