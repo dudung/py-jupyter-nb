{
 "cells": [
  {
   "cell_type": "markdown",
   "id": "2c7283f2",
   "metadata": {},
   "source": [
    "# dist_randint\n",
    "Get distribution of randint function from random package"
   ]
  },
  {
   "cell_type": "code",
   "execution_count": 1,
   "id": "373e667c",
   "metadata": {},
   "outputs": [],
   "source": [
    "import random\n",
    "\n",
    "xmin = 0\n",
    "xmax = 9"
   ]
  },
  {
   "cell_type": "code",
   "execution_count": 2,
   "id": "8e7c362d",
   "metadata": {},
   "outputs": [
    {
     "name": "stdout",
     "output_type": "stream",
     "text": [
      "N = 100\n",
      "x  N(x)\n",
      "0 10\t0.1\n",
      "1 8\t0.08\n",
      "2 11\t0.11\n",
      "3 11\t0.11\n",
      "4 9\t0.09\n",
      "5 7\t0.07\n",
      "6 12\t0.12\n",
      "7 10\t0.1\n",
      "8 6\t0.06\n",
      "9 16\t0.16\n"
     ]
    }
   ],
   "source": [
    "xx = [i for i in range(xmin, xmax + 1)]\n",
    "M = len(xx)\n",
    "yy = [0] * M\n",
    "\n",
    "N = 100\n",
    "for i in range(0, N):\n",
    "    x = random.randint(xmin, xmax)\n",
    "    yy[x] += 1\n",
    "\n",
    "print(\"N =\", N)\n",
    "print(\"x  N(x)\")\n",
    "for i in xx:\n",
    "    print(xx[i], end=' ')\n",
    "    print(yy[i], end='\\t')\n",
    "    print(yy[i]/N)"
   ]
  },
  {
   "cell_type": "code",
   "execution_count": 3,
   "id": "2e6177c9",
   "metadata": {},
   "outputs": [
    {
     "name": "stdout",
     "output_type": "stream",
     "text": [
      "N = 1000\n",
      "x  N(x)\n",
      "0 87\t0.087\n",
      "1 98\t0.098\n",
      "2 96\t0.096\n",
      "3 102\t0.102\n",
      "4 104\t0.104\n",
      "5 104\t0.104\n",
      "6 117\t0.117\n",
      "7 111\t0.111\n",
      "8 91\t0.091\n",
      "9 90\t0.09\n"
     ]
    }
   ],
   "source": [
    "xx = [i for i in range(xmin, xmax + 1)]\n",
    "M = len(xx)\n",
    "yy = [0] * M\n",
    "\n",
    "N = 1000\n",
    "for i in range(0, N):\n",
    "    x = random.randint(xmin, xmax)\n",
    "    yy[x] += 1\n",
    "\n",
    "print(\"N =\", N)\n",
    "print(\"x  N(x)\")\n",
    "for i in xx:\n",
    "    print(xx[i], end=' ')\n",
    "    print(yy[i], end='\\t')\n",
    "    print(yy[i]/N)"
   ]
  },
  {
   "cell_type": "code",
   "execution_count": 4,
   "id": "39478d0e",
   "metadata": {},
   "outputs": [
    {
     "name": "stdout",
     "output_type": "stream",
     "text": [
      "N = 10000\n",
      "x  N(x)\n",
      "0 1035\t0.1035\n",
      "1 998\t0.0998\n",
      "2 1005\t0.1005\n",
      "3 1012\t0.1012\n",
      "4 960\t0.096\n",
      "5 967\t0.0967\n",
      "6 1024\t0.1024\n",
      "7 1018\t0.1018\n",
      "8 955\t0.0955\n",
      "9 1026\t0.1026\n"
     ]
    }
   ],
   "source": [
    "xx = [i for i in range(xmin, xmax + 1)]\n",
    "M = len(xx)\n",
    "yy = [0] * M\n",
    "\n",
    "N = 10000\n",
    "for i in range(0, N):\n",
    "    x = random.randint(xmin, xmax)\n",
    "    yy[x] += 1\n",
    "\n",
    "print(\"N =\", N)\n",
    "print(\"x  N(x)\")\n",
    "for i in xx:\n",
    "    print(xx[i], end=' ')\n",
    "    print(yy[i], end='\\t')\n",
    "    print(yy[i]/N)"
   ]
  },
  {
   "cell_type": "code",
   "execution_count": 5,
   "id": "f937594d",
   "metadata": {},
   "outputs": [
    {
     "name": "stdout",
     "output_type": "stream",
     "text": [
      "N = 100000\n",
      "x  N(x)\n",
      "0 9927\t0.09927\n",
      "1 10055\t0.10055\n",
      "2 9919\t0.09919\n",
      "3 9988\t0.09988\n",
      "4 9964\t0.09964\n",
      "5 10026\t0.10026\n",
      "6 9894\t0.09894\n",
      "7 10196\t0.10196\n",
      "8 10108\t0.10108\n",
      "9 9923\t0.09923\n"
     ]
    }
   ],
   "source": [
    "xx = [i for i in range(xmin, xmax + 1)]\n",
    "M = len(xx)\n",
    "yy = [0] * M\n",
    "\n",
    "N = 100000\n",
    "for i in range(0, N):\n",
    "    x = random.randint(xmin, xmax)\n",
    "    yy[x] += 1\n",
    "\n",
    "print(\"N =\", N)\n",
    "print(\"x  N(x)\")\n",
    "for i in xx:\n",
    "    print(xx[i], end=' ')\n",
    "    print(yy[i], end='\\t')\n",
    "    print(yy[i]/N)"
   ]
  }
 ],
 "metadata": {
  "authors": [
   {
    "name": "Sparisoma Viridi"
   }
  ],
  "kernelspec": {
   "display_name": "Python 3 (ipykernel)",
   "language": "python",
   "name": "python3"
  },
  "language_info": {
   "codemirror_mode": {
    "name": "ipython",
    "version": 3
   },
   "file_extension": ".py",
   "mimetype": "text/x-python",
   "name": "python",
   "nbconvert_exporter": "python",
   "pygments_lexer": "ipython3",
   "version": "3.9.12"
  },
  "title": "dist_randint"
 },
 "nbformat": 4,
 "nbformat_minor": 5
}
