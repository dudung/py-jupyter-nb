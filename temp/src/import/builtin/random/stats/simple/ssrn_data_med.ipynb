{
 "cells": [
  {
   "cell_type": "markdown",
   "id": "2c7283f2",
   "metadata": {},
   "source": [
    "# ssrn_data_med\n",
    "Simple statistics with random number, get data median"
   ]
  },
  {
   "cell_type": "code",
   "execution_count": 1,
   "id": "0b2df804",
   "metadata": {},
   "outputs": [
    {
     "name": "stdout",
     "output_type": "stream",
     "text": [
      "data (org): [9, 8, 0, 2, 1, 4, 5, 4, 6, 3, 1, 8, 0, 4, 4, 2, 7, 4, 3, 5]\n",
      "data (srt): [0, 0, 1, 1, 2, 2, 3, 3, 4, 4, 4, 4, 4, 5, 5, 6, 7, 8, 8, 9]\n",
      "median: 4.0\n"
     ]
    }
   ],
   "source": [
    "import ipynb.fs.full.ssrn_data as data\n",
    "\n",
    "x = data.read()\n",
    "y = sorted(x)\n",
    "N = len(y)\n",
    "\n",
    "med = 0\n",
    "i = N // 2 \n",
    "if N % 2 == 0:\n",
    "    med = 0.5 * (y[i] + y[i + 1])\n",
    "else:\n",
    "    med = y[i]\n",
    "\n",
    "print(\"data (org):\", x)\n",
    "print(\"data (srt):\", y)\n",
    "print(\"median:\", med)"
   ]
  }
 ],
 "metadata": {
  "authors": [
   {
    "name": "Sparisoma Viridi"
   }
  ],
  "kernelspec": {
   "display_name": "Python 3 (ipykernel)",
   "language": "python",
   "name": "python3"
  },
  "language_info": {
   "codemirror_mode": {
    "name": "ipython",
    "version": 3
   },
   "file_extension": ".py",
   "mimetype": "text/x-python",
   "name": "python",
   "nbconvert_exporter": "python",
   "pygments_lexer": "ipython3",
   "version": "3.10.7"
  },
  "title": "ssrn_data_avg"
 },
 "nbformat": 4,
 "nbformat_minor": 5
}
