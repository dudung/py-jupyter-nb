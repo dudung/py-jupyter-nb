{
 "cells": [
  {
   "cell_type": "markdown",
   "id": "2c7283f2",
   "metadata": {},
   "source": [
    "# ssrn_data\n",
    "Simple statistics with random number, generate data for test as it was read"
   ]
  },
  {
   "cell_type": "code",
   "execution_count": null,
   "id": "0b2df804",
   "metadata": {},
   "outputs": [],
   "source": [
    "import random\n",
    "\n",
    "def read():\n",
    "    nums = [\n",
    "        9, 8, 0, 2, 1,\n",
    "        4, 5, 4, 6, 3,\n",
    "        1, 8, 0, 4, 4,\n",
    "        2, 7, 4, 3, 5,\n",
    "    ]\n",
    "    return nums"
   ]
  }
 ],
 "metadata": {
  "authors": [
   {
    "name": "Sparisoma Viridi"
   }
  ],
  "kernelspec": {
   "display_name": "Python 3 (ipykernel)",
   "language": "python",
   "name": "python3"
  },
  "language_info": {
   "codemirror_mode": {
    "name": "ipython",
    "version": 3
   },
   "file_extension": ".py",
   "mimetype": "text/x-python",
   "name": "python",
   "nbconvert_exporter": "python",
   "pygments_lexer": "ipython3",
   "version": "3.10.7"
  },
  "title": "ssrn_data"
 },
 "nbformat": 4,
 "nbformat_minor": 5
}
