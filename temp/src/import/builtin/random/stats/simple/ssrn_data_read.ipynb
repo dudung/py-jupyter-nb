{
 "cells": [
  {
   "cell_type": "markdown",
   "id": "2c7283f2",
   "metadata": {},
   "source": [
    "# ssrn_data_read\n",
    "Simple statistics with random number, read data"
   ]
  },
  {
   "cell_type": "code",
   "execution_count": 1,
   "id": "0b2df804",
   "metadata": {},
   "outputs": [
    {
     "name": "stdout",
     "output_type": "stream",
     "text": [
      "[9, 8, 0, 2, 1, 4, 5, 4, 6, 3, 1, 8, 0, 4, 4, 2, 7, 4, 3, 5]\n"
     ]
    }
   ],
   "source": [
    "import ipynb.fs.full.ssrn_data as data\n",
    "\n",
    "x = data.read()\n",
    "print(x)"
   ]
  }
 ],
 "metadata": {
  "authors": [
   {
    "name": "Sparisoma Viridi"
   }
  ],
  "kernelspec": {
   "display_name": "Python 3 (ipykernel)",
   "language": "python",
   "name": "python3"
  },
  "language_info": {
   "codemirror_mode": {
    "name": "ipython",
    "version": 3
   },
   "file_extension": ".py",
   "mimetype": "text/x-python",
   "name": "python",
   "nbconvert_exporter": "python",
   "pygments_lexer": "ipython3",
   "version": "3.10.7"
  },
  "title": "ssrn_data_read"
 },
 "nbformat": 4,
 "nbformat_minor": 5
}
