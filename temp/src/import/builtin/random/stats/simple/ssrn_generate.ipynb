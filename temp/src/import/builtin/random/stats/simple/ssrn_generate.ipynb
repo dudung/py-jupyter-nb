{
 "cells": [
  {
   "cell_type": "markdown",
   "id": "2c7283f2",
   "metadata": {},
   "source": [
    "# ssrn_generate\n",
    "Simple statistics with random number, generate the numbers"
   ]
  },
  {
   "cell_type": "code",
   "execution_count": 1,
   "id": "0b2df804",
   "metadata": {},
   "outputs": [
    {
     "name": "stdout",
     "output_type": "stream",
     "text": [
      "Numbers are [6, 3, 0, 2, 10, 8, 1]\n"
     ]
    }
   ],
   "source": [
    "import random\n",
    "\n",
    "# generate random numbers without explicit information\n",
    "def generate():\n",
    "    Nmin = 2\n",
    "    Nmax = 8\n",
    "    N = random.randint(Nmin, Nmax)\n",
    "    \n",
    "    xmin = 0\n",
    "    xmax = 10\n",
    "    nums = []\n",
    "    for i in range(N):\n",
    "        x = random.randint(xmin, xmax)\n",
    "        nums.append(x)\n",
    "    \n",
    "    return nums\n",
    "\n",
    "# use generate() function\n",
    "y = generate()\n",
    "print(\"Numbers are\", y)"
   ]
  }
 ],
 "metadata": {
  "authors": [
   {
    "name": "Sparisoma Viridi"
   }
  ],
  "kernelspec": {
   "display_name": "Python 3 (ipykernel)",
   "language": "python",
   "name": "python3"
  },
  "language_info": {
   "codemirror_mode": {
    "name": "ipython",
    "version": 3
   },
   "file_extension": ".py",
   "mimetype": "text/x-python",
   "name": "python",
   "nbconvert_exporter": "python",
   "pygments_lexer": "ipython3",
   "version": "3.10.7"
  },
  "title": "ssrn_generate"
 },
 "nbformat": 4,
 "nbformat_minor": 5
}
