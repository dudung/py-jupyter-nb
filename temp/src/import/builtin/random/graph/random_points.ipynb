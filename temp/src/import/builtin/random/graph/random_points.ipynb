{
 "cells": [
  {
   "cell_type": "markdown",
   "id": "2c7283f2",
   "metadata": {},
   "source": [
    "# random_points\n",
    "Draw random points"
   ]
  },
  {
   "cell_type": "code",
   "execution_count": 1,
   "id": "0b2df804",
   "metadata": {},
   "outputs": [
    {
     "data": {
      "image/png": "[encoded data removed]",
      "text/plain": [
       "<Figure size 432x288 with 1 Axes>"
      ]
     },
     "metadata": {
      "needs_background": "light"
     },
     "output_type": "display_data"
    }
   ],
   "source": [
    "import random, math\n",
    "import matplotlib.pyplot as plt \n",
    "\n",
    "# create points of data\n",
    "x = []\n",
    "y = []\n",
    "N = 20\n",
    "for i in range(N):\n",
    "    x.append(random.randint(0, 10))\n",
    "    y.append(random.randint(0, 10))\n",
    "\n",
    "# draw the points\n",
    "plt.scatter(x, y) \n",
    "plt.xlabel(\"x\") \n",
    "plt.ylabel(\"y\") \n",
    "plt.title('random points') \n",
    "plt.show()"
   ]
  },
  {
   "cell_type": "markdown",
   "id": "f6780cb7",
   "metadata": {},
   "source": [
    "## refs\n",
    "1. SnehashishKalamkar, \"matplotlib.pyplot.scatter() in Python\", GeeksforGeeks, 15 Feb 2022, url <https://www.geeksforgeeks.org/matplotlib-pyplot-scatter-in-python/> [20221013]."
   ]
  }
 ],
 "metadata": {
  "authors": [
   {
    "name": "Sparisoma Viridi"
   }
  ],
  "kernelspec": {
   "display_name": "Python 3 (ipykernel)",
   "language": "python",
   "name": "python3"
  },
  "language_info": {
   "codemirror_mode": {
    "name": "ipython",
    "version": 3
   },
   "file_extension": ".py",
   "mimetype": "text/x-python",
   "name": "python",
   "nbconvert_exporter": "python",
   "pygments_lexer": "ipython3",
   "version": "3.9.12"
  },
  "title": "random_points"
 },
 "nbformat": 4,
 "nbformat_minor": 5
}
