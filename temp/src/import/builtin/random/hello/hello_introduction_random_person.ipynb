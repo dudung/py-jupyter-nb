{
 "cells": [
  {
   "cell_type": "markdown",
   "id": "2c7283f2",
   "metadata": {},
   "source": [
    "# hello_introduction_random_person\n",
    "Say hello and introducing yourself"
   ]
  },
  {
   "cell_type": "code",
   "execution_count": 1,
   "id": "0b2df804",
   "metadata": {},
   "outputs": [
    {
     "name": "stdout",
     "output_type": "stream",
     "text": [
      "Hello, my name is Anne Einstein.\n",
      "I am studying economics at the unversity.\n",
      "\n",
      "Hello, my name is Octo Lee.\n",
      "I am studying chemistry at the unversity.\n",
      "\n",
      "Hello, my name is Jack Smith.\n",
      "I am studying math at the unversity.\n",
      "\n",
      "Hello, my name is Adrian Smith.\n",
      "I am studying physics at the unversity.\n",
      "\n",
      "Hello, my name is Octo White.\n",
      "I am studying math at the unversity.\n",
      "\n",
      "Hello, my name is Jane Smith.\n",
      "I am studying chemistry at the unversity.\n",
      "\n",
      "Hello, my name is Adrian Lee.\n",
      "I am studying chemistry at the unversity.\n",
      "\n",
      "Hello, my name is Octo Lee.\n",
      "I am studying chemistry at the unversity.\n",
      "\n"
     ]
    }
   ],
   "source": [
    "import random\n",
    "\n",
    "# define first and last names, current subject\n",
    "first = [\"Adrian\", \"Jack\", \"Anne\", \"Jane\", \"Octo\"]\n",
    "last = [\"Smith\", \"Black\", \"White\", \"Lee\", \"Einstein\"]\n",
    "subject = [\"math\", \"physics\", \"chemistry\", \"biology\", \"economics\"]\n",
    "\n",
    "N = 8\n",
    "for i in range(N):\n",
    "    # generate random number from 0 to 4\n",
    "    n1 = random.randint(0, 4)\n",
    "    n2 = random.randint(0, 4)\n",
    "    n3 = random.randint(0, 4)\n",
    "    \n",
    "    # get person information\n",
    "    fname = first[n1]\n",
    "    lname = last[n2]\n",
    "    sub = subject[n3]\n",
    "    print(\"Hello, my name is \", fname, \" \", lname, \".\", sep='')\n",
    "    print(\"I am studying\", sub, \"at the unversity.\")\n",
    "    print()"
   ]
  }
 ],
 "metadata": {
  "authors": [
   {
    "name": "Sparisoma Viridi"
   }
  ],
  "kernelspec": {
   "display_name": "Python 3 (ipykernel)",
   "language": "python",
   "name": "python3"
  },
  "language_info": {
   "codemirror_mode": {
    "name": "ipython",
    "version": 3
   },
   "file_extension": ".py",
   "mimetype": "text/x-python",
   "name": "python",
   "nbconvert_exporter": "python",
   "pygments_lexer": "ipython3",
   "version": "3.10.7"
  },
  "title": "hello_introduction_random_person"
 },
 "nbformat": 4,
 "nbformat_minor": 5
}
