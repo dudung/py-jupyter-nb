{
 "cells": [
  {
   "cell_type": "markdown",
   "id": "2c7283f2",
   "metadata": {},
   "source": [
    "# hello_random_times_in_a_line\n",
    "Display the word hello random times in a line"
   ]
  },
  {
   "cell_type": "code",
   "execution_count": 1,
   "id": "0b2df804",
   "metadata": {},
   "outputs": [
    {
     "name": "stdout",
     "output_type": "stream",
     "text": [
      "hello hello hello hello hello hello hello hello \n",
      "hello hello hello hello \n",
      "hello hello hello \n",
      "hello hello hello hello hello \n",
      "hello hello hello hello hello hello hello hello hello \n",
      "hello hello hello hello hello hello hello hello \n",
      "hello hello hello hello hello hello hello \n"
     ]
    }
   ],
   "source": [
    "import random\n",
    "\n",
    "line = 7\n",
    "\n",
    "for i in range(0, line):\n",
    "    rep = random.randint(1, 10)\n",
    "    for j in range(0, rep):\n",
    "        print(\"hello\", end=' ')\n",
    "    print()"
   ]
  }
 ],
 "metadata": {
  "authors": [
   {
    "name": "Sparisoma Viridi"
   }
  ],
  "kernelspec": {
   "display_name": "Python 3 (ipykernel)",
   "language": "python",
   "name": "python3"
  },
  "language_info": {
   "codemirror_mode": {
    "name": "ipython",
    "version": 3
   },
   "file_extension": ".py",
   "mimetype": "text/x-python",
   "name": "python",
   "nbconvert_exporter": "python",
   "pygments_lexer": "ipython3",
   "version": "3.10.7"
  },
  "title": "hello_random_times_in_a_line"
 },
 "nbformat": 4,
 "nbformat_minor": 5
}
