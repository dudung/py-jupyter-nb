{
 "cells": [
  {
   "cell_type": "markdown",
   "id": "2c7283f2",
   "metadata": {},
   "source": [
    "# hello_from_user_in_list\n",
    "Greet from a random user from a list"
   ]
  },
  {
   "cell_type": "code",
   "execution_count": 1,
   "id": "0b2df804",
   "metadata": {},
   "outputs": [
    {
     "name": "stdout",
     "output_type": "stream",
     "text": [
      "Hello, I am octo. Nice to meet you.\n",
      "Hello, I am vulcan. Nice to meet you.\n",
      "Hello, I am neo. Nice to meet you.\n",
      "Hello, I am worm. Nice to meet you.\n",
      "Hello, I am penta. Nice to meet you.\n",
      "Hello, I am octo. Nice to meet you.\n",
      "Hello, I am worm. Nice to meet you.\n",
      "Hello, I am octo. Nice to meet you.\n"
     ]
    }
   ],
   "source": [
    "import random\n",
    "\n",
    "# define list of users\n",
    "user = [\"octo\", \"penta\", \"neo\", \"vulcan\", \"worm\"]\n",
    "\n",
    "N = 8\n",
    "for i in range(N):\n",
    "    # generate random number from 0 to 4\n",
    "    num = random.randint(0, 4)\n",
    "    \n",
    "    # get user\n",
    "    name = user[num]\n",
    "    print(\"Hello, I am \", name, \". Nice to meet you.\", sep='')"
   ]
  }
 ],
 "metadata": {
  "authors": [
   {
    "name": "Sparisoma Viridi"
   }
  ],
  "kernelspec": {
   "display_name": "Python 3 (ipykernel)",
   "language": "python",
   "name": "python3"
  },
  "language_info": {
   "codemirror_mode": {
    "name": "ipython",
    "version": 3
   },
   "file_extension": ".py",
   "mimetype": "text/x-python",
   "name": "python",
   "nbconvert_exporter": "python",
   "pygments_lexer": "ipython3",
   "version": "3.10.7"
  },
  "title": "hello_from_user_in_list"
 },
 "nbformat": 4,
 "nbformat_minor": 5
}
