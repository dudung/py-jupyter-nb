{
 "cells": [
  {
   "cell_type": "markdown",
   "id": "2c7283f2",
   "metadata": {},
   "source": [
    "# hello_when_shopping\n",
    "Say hello then ask something when shopping"
   ]
  },
  {
   "cell_type": "code",
   "execution_count": 1,
   "id": "0b2df804",
   "metadata": {},
   "outputs": [
    {
     "name": "stdout",
     "output_type": "stream",
     "text": [
      "Hello!\n",
      "Do you have bowl?\n",
      "I would like to have 8 of it\n",
      "\n",
      "Hello!\n",
      "Do you have eraser?\n",
      "I would like to have 6 of it\n",
      "\n",
      "Hello!\n",
      "Do you have apple?\n",
      "I would like to have 1 of it\n",
      "\n",
      "Hello!\n",
      "Do you have soap?\n",
      "I would like to have 3 of it\n",
      "\n",
      "Hello!\n",
      "Do you have soap?\n",
      "I would like to have 9 of it\n",
      "\n",
      "Hello!\n",
      "Do you have eraser?\n",
      "I would like to have 4 of it\n",
      "\n"
     ]
    }
   ],
   "source": [
    "import random\n",
    "\n",
    "# define first and last names, current subject\n",
    "items = [\"soap\", \"apple\", \"eraser\", \"bowl\"]\n",
    "\n",
    "N = 6\n",
    "for i in range(N):\n",
    "    # generate random number from 0 to 3\n",
    "    it = random.randint(0, 3)\n",
    "    amount = random.randint(1, 10)\n",
    "    \n",
    "    # get item information and amount\n",
    "    item = items[it]\n",
    "    print(\"Hello!\")\n",
    "    print(\"Do you have \", item, \"?\", sep='')\n",
    "    print(\"I would like to have\", amount, \"of it\")\n",
    "    print()"
   ]
  }
 ],
 "metadata": {
  "authors": [
   {
    "name": "Sparisoma Viridi"
   }
  ],
  "kernelspec": {
   "display_name": "Python 3 (ipykernel)",
   "language": "python",
   "name": "python3"
  },
  "language_info": {
   "codemirror_mode": {
    "name": "ipython",
    "version": 3
   },
   "file_extension": ".py",
   "mimetype": "text/x-python",
   "name": "python",
   "nbconvert_exporter": "python",
   "pygments_lexer": "ipython3",
   "version": "3.10.7"
  },
  "title": "hello_when_shopping"
 },
 "nbformat": 4,
 "nbformat_minor": 5
}
