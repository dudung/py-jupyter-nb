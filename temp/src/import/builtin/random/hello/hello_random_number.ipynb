{
 "cells": [
  {
   "cell_type": "markdown",
   "id": "2c7283f2",
   "metadata": {},
   "source": [
    "# hello_random_number\n",
    "Greet a random number several times"
   ]
  },
  {
   "cell_type": "code",
   "execution_count": 1,
   "id": "0b2df804",
   "metadata": {},
   "outputs": [
    {
     "name": "stdout",
     "output_type": "stream",
     "text": [
      "Hello, 8927! How are you?\n",
      "Hello, 9057! How are you?\n",
      "Hello, 9848! How are you?\n",
      "Hello, 6351! How are you?\n",
      "Hello, 2403! How are you?\n",
      "Hello, 9880! How are you?\n",
      "Hello, 3161! How are you?\n",
      "Hello, 3863! How are you?\n",
      "Hello, 7914! How are you?\n",
      "Hello, 2562! How are you?\n"
     ]
    }
   ],
   "source": [
    "import random\n",
    "\n",
    "N = 10\n",
    "for i in range(N):\n",
    "    # generate random number from 1000 to 9999\n",
    "    num = random.randint(1000, 9999)\n",
    "    \n",
    "    # greet the number\n",
    "    print(\"Hello, \", num, \"! How are you?\", sep='')"
   ]
  }
 ],
 "metadata": {
  "authors": [
   {
    "name": "Sparisoma Viridi"
   }
  ],
  "kernelspec": {
   "display_name": "Python 3 (ipykernel)",
   "language": "python",
   "name": "python3"
  },
  "language_info": {
   "codemirror_mode": {
    "name": "ipython",
    "version": 3
   },
   "file_extension": ".py",
   "mimetype": "text/x-python",
   "name": "python",
   "nbconvert_exporter": "python",
   "pygments_lexer": "ipython3",
   "version": "3.10.7"
  },
  "title": "hello_random_number"
 },
 "nbformat": 4,
 "nbformat_minor": 5
}
