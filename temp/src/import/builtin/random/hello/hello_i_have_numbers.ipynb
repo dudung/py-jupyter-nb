{
 "cells": [
  {
   "cell_type": "markdown",
   "id": "2c7283f2",
   "metadata": {},
   "source": [
    "# hello_i_have_numbers\n",
    "Greet and show the numbers"
   ]
  },
  {
   "cell_type": "code",
   "execution_count": 1,
   "id": "0b2df804",
   "metadata": {},
   "outputs": [
    {
     "name": "stdout",
     "output_type": "stream",
     "text": [
      "Hello, I have 2 numbers and they are [7, 0]\n",
      "Hello, I have 8 numbers and they are [7, 1, 1, 0, 1, 5, 5, 8]\n",
      "Hello, I have 5 numbers and they are [7, 0, 2, 8, 8]\n",
      "Hello, I have 3 numbers and they are [4, 9, 4]\n"
     ]
    }
   ],
   "source": [
    "import random\n",
    "\n",
    "rep = 4\n",
    "\n",
    "for i in range(0, rep):\n",
    "    \n",
    "    N = random.randint(2, 9)\n",
    "    nums = []\n",
    "    for i in range(N):\n",
    "        x = random.randint(0, 9)\n",
    "        nums.append(x)\n",
    "    print(\"Hello, I have\", N, \"numbers and they are\", nums)"
   ]
  }
 ],
 "metadata": {
  "authors": [
   {
    "name": "Sparisoma Viridi"
   }
  ],
  "kernelspec": {
   "display_name": "Python 3 (ipykernel)",
   "language": "python",
   "name": "python3"
  },
  "language_info": {
   "codemirror_mode": {
    "name": "ipython",
    "version": 3
   },
   "file_extension": ".py",
   "mimetype": "text/x-python",
   "name": "python",
   "nbconvert_exporter": "python",
   "pygments_lexer": "ipython3",
   "version": "3.10.7"
  },
  "title": "hello_i_have_numbers"
 },
 "nbformat": 4,
 "nbformat_minor": 5
}
