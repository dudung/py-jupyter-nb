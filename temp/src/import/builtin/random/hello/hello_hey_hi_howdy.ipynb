{
 "cells": [
  {
   "cell_type": "markdown",
   "id": "2c7283f2",
   "metadata": {},
   "source": [
    "# hello_hey_hi_howdy\n",
    "Greet with different word"
   ]
  },
  {
   "cell_type": "code",
   "execution_count": 1,
   "id": "0b2df804",
   "metadata": {},
   "outputs": [
    {
     "name": "stdout",
     "output_type": "stream",
     "text": [
      "Hey\n",
      "Hi\n",
      "Hi\n",
      "Hi\n",
      "Hello\n",
      "Howdy\n",
      "Hey\n",
      "Hey\n",
      "Hello\n"
     ]
    }
   ],
   "source": [
    "import random\n",
    "\n",
    "rep = 9\n",
    "\n",
    "for i in range(0, rep):\n",
    "    style = random.randint(0, 3)\n",
    "    \n",
    "    if style == 0:\n",
    "        print(\"Hello\")\n",
    "    elif style == 1:\n",
    "        print(\"Hey\")\n",
    "    elif style == 2:\n",
    "        print(\"Hi\")\n",
    "    else:\n",
    "        print(\"Howdy\")"
   ]
  }
 ],
 "metadata": {
  "authors": [
   {
    "name": "Sparisoma Viridi"
   }
  ],
  "kernelspec": {
   "display_name": "Python 3 (ipykernel)",
   "language": "python",
   "name": "python3"
  },
  "language_info": {
   "codemirror_mode": {
    "name": "ipython",
    "version": 3
   },
   "file_extension": ".py",
   "mimetype": "text/x-python",
   "name": "python",
   "nbconvert_exporter": "python",
   "pygments_lexer": "ipython3",
   "version": "3.10.7"
  },
  "title": "hello_hey_hi_howdy"
 },
 "nbformat": 4,
 "nbformat_minor": 5
}
