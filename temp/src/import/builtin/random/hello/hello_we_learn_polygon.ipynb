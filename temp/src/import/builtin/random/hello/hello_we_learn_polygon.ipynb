{
 "cells": [
  {
   "cell_type": "markdown",
   "id": "2c7283f2",
   "metadata": {},
   "source": [
    "# hello_we_learn_polygon\n",
    "Greet students and teach 2d polygon shapes"
   ]
  },
  {
   "cell_type": "code",
   "execution_count": 1,
   "id": "0b2df804",
   "metadata": {},
   "outputs": [
    {
     "name": "stdout",
     "output_type": "stream",
     "text": [
      "Hello, students.\n",
      "Good morning.\n",
      "Today we will learn about 2d polygon shapes.\n",
      "\n",
      "decagon has 10 equal straight sides and interior angles.\n",
      "icosagon has 20 equal straight sides and interior angles.\n",
      "hexagon has 6 equal straight sides and interior angles.\n",
      "octagon has 8 equal straight sides and interior angles.\n",
      "pentadecagon has 15 equal straight sides and interior angles.\n",
      "square has 4 equal straight sides and interior angles.\n",
      "decagon has 10 equal straight sides and interior angles.\n",
      "pentadecagon has 15 equal straight sides and interior angles.\n",
      "heptagon has 7 equal straight sides and interior angles.\n",
      "icosagon has 20 equal straight sides and interior angles.\n",
      "pentadecagon has 15 equal straight sides and interior angles.\n",
      "heptagon has 7 equal straight sides and interior angles.\n",
      "pentagon has 5 equal straight sides and interior angles.\n",
      "octagon has 8 equal straight sides and interior angles.\n",
      "triangle has 3 equal straight sides and interior angles.\n"
     ]
    }
   ],
   "source": [
    "import random\n",
    "\n",
    "shapes = 15\n",
    "\n",
    "print(\"Hello, students.\\nGood morning.\")\n",
    "print(\"Today we will learn about 2d polygon shapes.\")\n",
    "print()\n",
    "\n",
    "polygon = [\n",
    "    \"triangle\", \"square\", \"pentagon\", \"hexagon\", \"heptagon\",\n",
    "    \"octagon\", \"nonagon\", \"decagon\", \"pentadecagon\", \"icosagon\"]\n",
    "side = [3, 4, 5, 6, 7, 8, 9, 10, 15, 20]\n",
    "\n",
    "for i in range(0, shapes):\n",
    "    n = random.randint(0, 9)\n",
    "    \n",
    "    form = polygon[n]\n",
    "    print(form, \"has\", side[n], \"equal straight sides and interior angles.\")\n"
   ]
  }
 ],
 "metadata": {
  "authors": [
   {
    "name": "Sparisoma Viridi"
   }
  ],
  "kernelspec": {
   "display_name": "Python 3 (ipykernel)",
   "language": "python",
   "name": "python3"
  },
  "language_info": {
   "codemirror_mode": {
    "name": "ipython",
    "version": 3
   },
   "file_extension": ".py",
   "mimetype": "text/x-python",
   "name": "python",
   "nbconvert_exporter": "python",
   "pygments_lexer": "ipython3",
   "version": "3.10.7"
  },
  "title": "hello_we_learn_polygon"
 },
 "nbformat": 4,
 "nbformat_minor": 5
}
