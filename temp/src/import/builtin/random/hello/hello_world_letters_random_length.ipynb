{
 "cells": [
  {
   "cell_type": "markdown",
   "id": "2c7283f2",
   "metadata": {},
   "source": [
    "# hello_world_letters_random_length\n",
    "Show the phrase of hello world in random length of letters"
   ]
  },
  {
   "cell_type": "code",
   "execution_count": 1,
   "id": "0b2df804",
   "metadata": {},
   "outputs": [
    {
     "name": "stdout",
     "output_type": "stream",
     "text": [
      "\n",
      "Hello w\n",
      "Hello w\n",
      "Hel\n",
      "Hello \n",
      "Hello w\n",
      "Hello wo\n",
      "He\n",
      "Hello \n",
      "H\n"
     ]
    }
   ],
   "source": [
    "import random\n",
    "phrase = \"Hello word\"\n",
    "l = len(phrase)\n",
    "\n",
    "for i in range(0, l):\n",
    "    j = random.randint(0, l)\n",
    "    letters = phrase[0:j]\n",
    "    print(letters)"
   ]
  }
 ],
 "metadata": {
  "authors": [
   {
    "name": "Sparisoma Viridi"
   }
  ],
  "kernelspec": {
   "display_name": "Python 3 (ipykernel)",
   "language": "python",
   "name": "python3"
  },
  "language_info": {
   "codemirror_mode": {
    "name": "ipython",
    "version": 3
   },
   "file_extension": ".py",
   "mimetype": "text/x-python",
   "name": "python",
   "nbconvert_exporter": "python",
   "pygments_lexer": "ipython3",
   "version": "3.10.7"
  },
  "title": "hello_world_letters_random_length"
 },
 "nbformat": 4,
 "nbformat_minor": 5
}
