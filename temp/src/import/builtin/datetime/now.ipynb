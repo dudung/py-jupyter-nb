{
 "cells": [
  {
   "cell_type": "markdown",
   "id": "2c7283f2",
   "metadata": {},
   "source": [
    "# now\n",
    "Date and time information about `now`."
   ]
  },
  {
   "cell_type": "code",
   "execution_count": 1,
   "id": "bcf0331a",
   "metadata": {},
   "outputs": [
    {
     "name": "stdout",
     "output_type": "stream",
     "text": [
      "2023-02-18 22:43:24.679956\n"
     ]
    }
   ],
   "source": [
    "from datetime import datetime as dt\n",
    "now = dt.now()\n",
    "print(now)"
   ]
  },
  {
   "cell_type": "code",
   "execution_count": 2,
   "id": "4b292357",
   "metadata": {},
   "outputs": [
    {
     "name": "stdout",
     "output_type": "stream",
     "text": [
      "2023\n"
     ]
    }
   ],
   "source": [
    "year = now.year\n",
    "print(year)"
   ]
  },
  {
   "cell_type": "code",
   "execution_count": 3,
   "id": "f7f53a9a",
   "metadata": {},
   "outputs": [
    {
     "name": "stdout",
     "output_type": "stream",
     "text": [
      "2\n"
     ]
    }
   ],
   "source": [
    "month = now.month\n",
    "print(month)"
   ]
  },
  {
   "cell_type": "code",
   "execution_count": 4,
   "id": "453af3c1",
   "metadata": {},
   "outputs": [
    {
     "name": "stdout",
     "output_type": "stream",
     "text": [
      "18\n"
     ]
    }
   ],
   "source": [
    "day = now.day\n",
    "print(day)"
   ]
  },
  {
   "cell_type": "code",
   "execution_count": 5,
   "id": "af5055eb",
   "metadata": {},
   "outputs": [
    {
     "name": "stdout",
     "output_type": "stream",
     "text": [
      "22\n"
     ]
    }
   ],
   "source": [
    "hour = now.hour\n",
    "print(hour)"
   ]
  },
  {
   "cell_type": "code",
   "execution_count": 6,
   "id": "fe746435",
   "metadata": {},
   "outputs": [
    {
     "name": "stdout",
     "output_type": "stream",
     "text": [
      "43\n"
     ]
    }
   ],
   "source": [
    "minute = now.minute\n",
    "print(minute)"
   ]
  },
  {
   "cell_type": "code",
   "execution_count": 7,
   "id": "e151d37e",
   "metadata": {},
   "outputs": [
    {
     "name": "stdout",
     "output_type": "stream",
     "text": [
      "24\n"
     ]
    }
   ],
   "source": [
    "second = now.second\n",
    "print(second)"
   ]
  },
  {
   "cell_type": "code",
   "execution_count": 8,
   "id": "f732b7b9",
   "metadata": {},
   "outputs": [
    {
     "name": "stdout",
     "output_type": "stream",
     "text": [
      "6\n"
     ]
    }
   ],
   "source": [
    "weekday = now.isoweekday()\n",
    "print(weekday)"
   ]
  },
  {
   "cell_type": "code",
   "execution_count": 9,
   "id": "885b0b47",
   "metadata": {},
   "outputs": [
    {
     "name": "stdout",
     "output_type": "stream",
     "text": [
      "6\n",
      "Saturday\n"
     ]
    }
   ],
   "source": [
    "weekday = now.strftime('%w')\n",
    "print(weekday)\n",
    "\n",
    "dayname = now.strftime('%A')\n",
    "print(dayname)"
   ]
  },
  {
   "cell_type": "code",
   "execution_count": null,
   "id": "082c378a",
   "metadata": {},
   "outputs": [],
   "source": []
  }
 ],
 "metadata": {
  "authors": [
   {
    "name": "Sparisoma Viridi"
   }
  ],
  "kernelspec": {
   "display_name": "Python 3 (ipykernel)",
   "language": "python",
   "name": "python3"
  },
  "language_info": {
   "codemirror_mode": {
    "name": "ipython",
    "version": 3
   },
   "file_extension": ".py",
   "mimetype": "text/x-python",
   "name": "python",
   "nbconvert_exporter": "python",
   "pygments_lexer": "ipython3",
   "version": "3.10.10"
  },
  "title": "now"
 },
 "nbformat": 4,
 "nbformat_minor": 5
}
