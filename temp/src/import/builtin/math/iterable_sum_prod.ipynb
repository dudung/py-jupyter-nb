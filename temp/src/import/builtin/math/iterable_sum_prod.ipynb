{
 "cells": [
  {
   "cell_type": "markdown",
   "id": "d4e69cf6",
   "metadata": {},
   "source": [
    "# iterable_sum_prod\n",
    "Sum and product of an interable can be performed using `sum()` and `prod()` functions. "
   ]
  },
  {
   "cell_type": "markdown",
   "id": "538cdf17",
   "metadata": {},
   "source": [
    "## sum"
   ]
  },
  {
   "cell_type": "code",
   "execution_count": 1,
   "id": "2cd8777b",
   "metadata": {},
   "outputs": [
    {
     "name": "stdout",
     "output_type": "stream",
     "text": [
      "x = [1, 2, 3, 4, 5, 6]\n",
      "\n",
      "sum of x elements = 21\n"
     ]
    }
   ],
   "source": [
    "x = [1, 2, 3, 4, 5, 6]\n",
    "print(\"x =\", x)\n",
    "print()\n",
    "\n",
    "y = sum(x)\n",
    "print(\"sum of x elements =\", y)"
   ]
  },
  {
   "cell_type": "markdown",
   "id": "53b43334",
   "metadata": {},
   "source": [
    "## product"
   ]
  },
  {
   "cell_type": "code",
   "execution_count": 2,
   "id": "a5551bd1",
   "metadata": {},
   "outputs": [
    {
     "name": "stdout",
     "output_type": "stream",
     "text": [
      "x = [1, 2, 3, 4, 5, 6]\n",
      "\n",
      "product of x elements = 720\n"
     ]
    }
   ],
   "source": [
    "print(\"x =\", x)\n",
    "print()\n",
    "\n",
    "import math\n",
    "z = math.prod(x)\n",
    "print(\"product of x elements =\", z)"
   ]
  }
 ],
 "metadata": {
  "authors": [
   {
    "name": "Sparisoma Viridi"
   }
  ],
  "kernelspec": {
   "display_name": "Python 3 (ipykernel)",
   "language": "python",
   "name": "python3"
  },
  "language_info": {
   "codemirror_mode": {
    "name": "ipython",
    "version": 3
   },
   "file_extension": ".py",
   "mimetype": "text/x-python",
   "name": "python",
   "nbconvert_exporter": "python",
   "pygments_lexer": "ipython3",
   "version": "3.10.4"
  },
  "title": "iterable_sum_prod"
 },
 "nbformat": 4,
 "nbformat_minor": 5
}
