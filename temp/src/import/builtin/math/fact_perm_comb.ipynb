{
 "cells": [
  {
   "cell_type": "markdown",
   "id": "d4e69cf6",
   "metadata": {},
   "source": [
    "# fact_perm_comb\n",
    "There are `factorial()`, `perm()`, `comb()` functions in Python `math` module for calculating factorial, permutation, and combination."
   ]
  },
  {
   "cell_type": "code",
   "execution_count": 1,
   "id": "375dc48a",
   "metadata": {},
   "outputs": [
    {
     "name": "stdout",
     "output_type": "stream",
     "text": [
      "n r n!  pnr cnr\n",
      "0 0   1   1   1\n",
      "1 0   1   1   1\n",
      "1 1   1   1   1\n",
      "2 0   2   1   1\n",
      "2 1   2   2   2\n",
      "2 2   2   2   1\n",
      "3 0   6   1   1\n",
      "3 1   6   3   3\n",
      "3 2   6   6   3\n",
      "3 3   6   6   1\n",
      "4 0  24   1   1\n",
      "4 1  24   4   4\n",
      "4 2  24  12   6\n",
      "4 3  24  24   4\n",
      "4 4  24  24   1\n",
      "5 0 120   1   1\n",
      "5 1 120   5   5\n",
      "5 2 120  20  10\n",
      "5 3 120  60  10\n",
      "5 4 120 120   5\n",
      "5 5 120 120   1\n",
      "6 0 720   1   1\n",
      "6 1 720   6   6\n",
      "6 2 720  30  15\n",
      "6 3 720 120  20\n",
      "6 4 720 360  15\n",
      "6 5 720 720   6\n",
      "6 6 720 720   1\n"
     ]
    }
   ],
   "source": [
    "import math\n",
    "\n",
    "M = 7\n",
    "\n",
    "print(\"n r n!  pnr cnr\")\n",
    "for n in range(M):\n",
    "    for r in range(n + 1):\n",
    "        fact = math.factorial(n)\n",
    "        perm = math.perm(n, r)\n",
    "        comb = math.comb(n, r)\n",
    "        print(n, end=' ')\n",
    "        print(r, end=' ')\n",
    "        print(f'{fact:3}', end=' ')\n",
    "        print(f'{perm:3}', end=' ')\n",
    "        print(f'{comb:3}')\n"
   ]
  }
 ],
 "metadata": {
  "authors": [
   {
    "name": "Sparisoma Viridi"
   }
  ],
  "kernelspec": {
   "display_name": "Python 3 (ipykernel)",
   "language": "python",
   "name": "python3"
  },
  "language_info": {
   "codemirror_mode": {
    "name": "ipython",
    "version": 3
   },
   "file_extension": ".py",
   "mimetype": "text/x-python",
   "name": "python",
   "nbconvert_exporter": "python",
   "pygments_lexer": "ipython3",
   "version": "3.10.4"
  },
  "title": "fact_perm_comb"
 },
 "nbformat": 4,
 "nbformat_minor": 5
}
