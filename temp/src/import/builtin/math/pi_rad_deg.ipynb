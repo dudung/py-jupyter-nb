{
 "cells": [
  {
   "cell_type": "markdown",
   "id": "d4e69cf6",
   "metadata": {},
   "source": [
    "# pi_rad_deg\n",
    "The constant $\\pi$ and conversion btweeen $^\\circ$ and $\\rm rad$."
   ]
  },
  {
   "cell_type": "code",
   "execution_count": 1,
   "id": "50473d64",
   "metadata": {},
   "outputs": [
    {
     "name": "stdout",
     "output_type": "stream",
     "text": [
      "pi = 3.141592653589793\n"
     ]
    }
   ],
   "source": [
    "import math\n",
    "print(\"pi =\", math.pi)"
   ]
  },
  {
   "cell_type": "code",
   "execution_count": 2,
   "id": "37f22d45",
   "metadata": {},
   "outputs": [
    {
     "name": "stdout",
     "output_type": "stream",
     "text": [
      "deg rad      deg2\n",
      "000 0.000000 000\n",
      "030 0.523599 030\n",
      "045 0.785398 045\n",
      "060 1.047198 060\n",
      "090 1.570796 090\n",
      "120 2.094395 120\n",
      "135 2.356194 135\n",
      "150 2.617994 150\n",
      "180 3.141593 180\n",
      "210 3.665191 210\n",
      "225 3.926991 225\n",
      "240 4.188790 240\n",
      "270 4.712389 270\n",
      "300 5.235988 300\n",
      "315 5.497787 315\n",
      "330 5.759587 330\n",
      "360 6.283185 360\n"
     ]
    }
   ],
   "source": [
    "import math\n",
    "deg = [\n",
    "    0, 30, 45, 60,\n",
    "    90, 120, 135, 150,\n",
    "    180, 210, 225, 240,\n",
    "    270, 300, 315, 330,\n",
    "    360\n",
    "]\n",
    "\n",
    "rad = []\n",
    "deg2 = []\n",
    "for d in deg:\n",
    "    r = math.radians(d)\n",
    "    rad.append(r)\n",
    "    d2 = math.degrees(r)\n",
    "    deg2.append(d2)\n",
    "\n",
    "print(\"deg rad      deg2\")\n",
    "for i in range(0, len(rad)):\n",
    "    print(f'{deg[i]:03d}', end=' ')\n",
    "    print(f'{rad[i]:0.6f}', end=' ')\n",
    "    print(f'{deg2[i]:03.0f}')\n"
   ]
  }
 ],
 "metadata": {
  "authors": [
   {
    "name": "Sparisoma Viridi"
   }
  ],
  "kernelspec": {
   "display_name": "Python 3 (ipykernel)",
   "language": "python",
   "name": "python3"
  },
  "language_info": {
   "codemirror_mode": {
    "name": "ipython",
    "version": 3
   },
   "file_extension": ".py",
   "mimetype": "text/x-python",
   "name": "python",
   "nbconvert_exporter": "python",
   "pygments_lexer": "ipython3",
   "version": "3.10.4"
  },
  "title": "pi_rad_deg"
 },
 "nbformat": 4,
 "nbformat_minor": 5
}
