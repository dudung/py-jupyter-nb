{
 "cells": [
  {
   "cell_type": "markdown",
   "id": "d4e69cf6",
   "metadata": {},
   "source": [
    "# round_related_functions\n",
    "There are functions related in rounding and truncating numerical values."
   ]
  },
  {
   "cell_type": "code",
   "execution_count": 1,
   "id": "41276242",
   "metadata": {},
   "outputs": [
    {
     "name": "stdout",
     "output_type": "stream",
     "text": [
      "123.45678 is rounded to 4 decimal places is\n",
      "123.4568\n",
      "\n",
      "123.45678 is rounded to 3 decimal places is\n",
      "123.457\n",
      "\n",
      "123.45678 is rounded to 2 decimal places is\n",
      "123.46\n",
      "\n",
      "123.45678 is rounded to 1 decimal place is\n",
      "123.5\n",
      "\n",
      "123.45678 is rounded to integer is\n",
      "123\n"
     ]
    }
   ],
   "source": [
    "x = 123.45678\n",
    "\n",
    "x4 = round(x, 4)\n",
    "print(x, \"is rounded to 4 decimal places is\")\n",
    "print(x4)\n",
    "print()\n",
    "\n",
    "x3 = round(x, 3)\n",
    "print(x, \"is rounded to 3 decimal places is\")\n",
    "print(x3)\n",
    "print()\n",
    "\n",
    "x2 = round(x, 2)\n",
    "print(x, \"is rounded to 2 decimal places is\")\n",
    "print(x2)\n",
    "print()\n",
    "\n",
    "x1 = round(x, 1)\n",
    "print(x, \"is rounded to 1 decimal place is\")\n",
    "print(x1)\n",
    "print()\n",
    "\n",
    "x0 = round(x)\n",
    "print(x, \"is rounded to integer is\")\n",
    "print(x0)"
   ]
  },
  {
   "cell_type": "code",
   "execution_count": 2,
   "id": "7f762608",
   "metadata": {},
   "outputs": [
    {
     "name": "stdout",
     "output_type": "stream",
     "text": [
      "x = 123.5\n",
      "trunc(x) = 123\n",
      "ceil(x) = 124\n",
      "floor(x) = 123\n",
      "round(x) = 124\n"
     ]
    }
   ],
   "source": [
    "import math\n",
    "\n",
    "x = 123.5\n",
    "print(\"x =\", x)\n",
    "\n",
    "print('trunc(x) =', math.trunc(x))\n",
    "\n",
    "print('ceil(x) =', math.ceil(x))\n",
    "\n",
    "print('floor(x) =', math.floor(x))\n",
    "\n",
    "print('round(x) =', round(x))"
   ]
  },
  {
   "cell_type": "code",
   "execution_count": 3,
   "id": "dcc9e4e2",
   "metadata": {},
   "outputs": [
    {
     "name": "stdout",
     "output_type": "stream",
     "text": [
      "x = 123.4\n",
      "trunc(x) = 123\n",
      "ceil(x) = 124\n",
      "floor(x) = 123\n",
      "round(x) = 123\n"
     ]
    }
   ],
   "source": [
    "import math\n",
    "\n",
    "x = 123.4\n",
    "print(\"x =\", x)\n",
    "\n",
    "print('trunc(x) =', math.trunc(x))\n",
    "\n",
    "print('ceil(x) =', math.ceil(x))\n",
    "\n",
    "print('floor(x) =', math.floor(x))\n",
    "\n",
    "print('round(x) =', round(x))"
   ]
  }
 ],
 "metadata": {
  "authors": [
   {
    "name": "Sparisoma Viridi"
   }
  ],
  "kernelspec": {
   "display_name": "Python 3 (ipykernel)",
   "language": "python",
   "name": "python3"
  },
  "language_info": {
   "codemirror_mode": {
    "name": "ipython",
    "version": 3
   },
   "file_extension": ".py",
   "mimetype": "text/x-python",
   "name": "python",
   "nbconvert_exporter": "python",
   "pygments_lexer": "ipython3",
   "version": "3.10.4"
  },
  "title": "round_related_functions"
 },
 "nbformat": 4,
 "nbformat_minor": 5
}
