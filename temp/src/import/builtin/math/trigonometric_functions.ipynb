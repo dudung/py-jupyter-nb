{
 "cells": [
  {
   "cell_type": "markdown",
   "id": "d4e69cf6",
   "metadata": {},
   "source": [
    "# trigonometric_functions\n",
    "There are `sin()`, `cos()`, `tan()` and `asin()`, `acos()`, `atan()` functions in Python `math` module."
   ]
  },
  {
   "cell_type": "markdown",
   "id": "ec86fbb8",
   "metadata": {},
   "source": [
    "## sin-cos-tan"
   ]
  },
  {
   "cell_type": "code",
   "execution_count": 1,
   "id": "adf57a7b",
   "metadata": {},
   "outputs": [
    {
     "name": "stdout",
     "output_type": "stream",
     "text": [
      "deg rad   sin    cos    tan\n",
      "000 0.000 +0.000 +1.000 +0.000e+00\n",
      "030 0.524 +0.500 +0.866 +5.774e-01\n",
      "045 0.785 +0.707 +0.707 +1.000e+00\n",
      "060 1.047 +0.866 +0.500 +1.732e+00\n",
      "090 1.571 +1.000 +0.000 +1.633e+16\n",
      "120 2.094 +0.866 -0.500 -1.732e+00\n",
      "135 2.356 +0.707 -0.707 -1.000e+00\n",
      "150 2.618 +0.500 -0.866 -5.774e-01\n",
      "180 3.142 +0.000 -1.000 -1.225e-16\n"
     ]
    }
   ],
   "source": [
    "import math\n",
    "deg = [0, 30, 45, 60, 90, 120, 135, 150, 180]\n",
    "rad = [math.radians(d) for d in deg]\n",
    "sin = [math.sin(r) for r in rad]\n",
    "cos = [math.cos(r) for r in rad]\n",
    "tan = [math.tan(r) for r in rad]\n",
    "\n",
    "print(\"deg rad   sin    cos    tan\")\n",
    "for i in range(len(deg)):\n",
    "    print(f'{deg[i]:03}', end=' ')\n",
    "    print(f'{rad[i]:0.3f}', end=' ')\n",
    "    print(f'{sin[i]:+0.3f}', end=' ')\n",
    "    print(f'{cos[i]:+0.3f}', end=' ')\n",
    "    print(f'{tan[i]:+0.3e}')"
   ]
  },
  {
   "cell_type": "markdown",
   "id": "6031fc53",
   "metadata": {},
   "source": [
    "## asin-acos"
   ]
  },
  {
   "cell_type": "code",
   "execution_count": 2,
   "id": "f333ab60",
   "metadata": {},
   "outputs": [
    {
     "name": "stdout",
     "output_type": "stream",
     "text": [
      "[-1,+1] acos   asin\n",
      "-1.00   +3.142 -1.571\n",
      "-0.90   +2.691 -1.120\n",
      "-0.80   +2.498 -0.927\n",
      "-0.70   +2.346 -0.775\n",
      "-0.60   +2.214 -0.644\n",
      "-0.50   +2.094 -0.524\n",
      "-0.40   +1.982 -0.412\n",
      "-0.30   +1.875 -0.305\n",
      "-0.20   +1.772 -0.201\n",
      "-0.10   +1.671 -0.100\n",
      "+0.00   +1.571 +0.000\n",
      "+0.10   +1.471 +0.100\n",
      "+0.20   +1.369 +0.201\n",
      "+0.30   +1.266 +0.305\n",
      "+0.40   +1.159 +0.412\n",
      "+0.50   +1.047 +0.524\n",
      "+0.60   +0.927 +0.644\n",
      "+0.70   +0.795 +0.775\n",
      "+0.80   +0.644 +0.927\n",
      "+0.90   +0.451 +1.120\n",
      "+1.00   +0.000 +1.571\n"
     ]
    }
   ],
   "source": [
    "import math\n",
    "x = [-1 + i * 0.1 for i in range(0, 21)]\n",
    "acos = [math.acos(i) for i in x]\n",
    "asin = [math.asin(i) for i in x]\n",
    "\n",
    "print(\"[-1,+1] acos   asin\")\n",
    "for i in range(len(x)):\n",
    "    print(f'{x[i]:+0.2f}', end='   ')\n",
    "    print(f'{acos[i]:+0.3f}', end=' ')\n",
    "    print(f'{asin[i]:+0.3f}')"
   ]
  }
 ],
 "metadata": {
  "authors": [
   {
    "name": "Sparisoma Viridi"
   }
  ],
  "kernelspec": {
   "display_name": "Python 3 (ipykernel)",
   "language": "python",
   "name": "python3"
  },
  "language_info": {
   "codemirror_mode": {
    "name": "ipython",
    "version": 3
   },
   "file_extension": ".py",
   "mimetype": "text/x-python",
   "name": "python",
   "nbconvert_exporter": "python",
   "pygments_lexer": "ipython3",
   "version": "3.10.4"
  },
  "title": "trigonometric_functions"
 },
 "nbformat": 4,
 "nbformat_minor": 5
}
