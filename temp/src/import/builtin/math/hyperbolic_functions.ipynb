{
 "cells": [
  {
   "cell_type": "markdown",
   "id": "d4e69cf6",
   "metadata": {},
   "source": [
    "# hyperbolic_functions\n",
    "There are `sinh()`, `cosh()`, `tanh()` and `asinh()`, `acosh()`, `atanh()` functions in Python `math` module."
   ]
  },
  {
   "cell_type": "markdown",
   "id": "ec86fbb8",
   "metadata": {},
   "source": [
    "## sinh-cosh-tanh and asinh-acosh-atanh"
   ]
  },
  {
   "cell_type": "code",
   "execution_count": 1,
   "id": "adf57a7b",
   "metadata": {},
   "outputs": [
    {
     "name": "stdout",
     "output_type": "stream",
     "text": [
      "x    sinh   cosh   tanh   asinh acosh atanh\n",
      "-1.0 -1.175 +1.543 -0.762 -1.00 +1.00 -1.00\n",
      "-0.9 -1.027 +1.433 -0.716 -0.90 +0.90 -0.90\n",
      "-0.8 -0.888 +1.337 -0.664 -0.80 +0.80 -0.80\n",
      "-0.7 -0.759 +1.255 -0.604 -0.70 +0.70 -0.70\n",
      "-0.6 -0.637 +1.185 -0.537 -0.60 +0.60 -0.60\n",
      "-0.5 -0.521 +1.128 -0.462 -0.50 +0.50 -0.50\n",
      "-0.4 -0.411 +1.081 -0.380 -0.40 +0.40 -0.40\n",
      "-0.3 -0.305 +1.045 -0.291 -0.30 +0.30 -0.30\n",
      "-0.2 -0.201 +1.020 -0.197 -0.20 +0.20 -0.20\n",
      "-0.1 -0.100 +1.005 -0.100 -0.10 +0.10 -0.10\n",
      "+0.0 +0.000 +1.000 +0.000 +0.00 +0.00 +0.00\n",
      "+0.1 +0.100 +1.005 +0.100 +0.10 +0.10 +0.10\n",
      "+0.2 +0.201 +1.020 +0.197 +0.20 +0.20 +0.20\n",
      "+0.3 +0.305 +1.045 +0.291 +0.30 +0.30 +0.30\n",
      "+0.4 +0.411 +1.081 +0.380 +0.40 +0.40 +0.40\n",
      "+0.5 +0.521 +1.128 +0.462 +0.50 +0.50 +0.50\n",
      "+0.6 +0.637 +1.185 +0.537 +0.60 +0.60 +0.60\n",
      "+0.7 +0.759 +1.255 +0.604 +0.70 +0.70 +0.70\n",
      "+0.8 +0.888 +1.337 +0.664 +0.80 +0.80 +0.80\n",
      "+0.9 +1.027 +1.433 +0.716 +0.90 +0.90 +0.90\n",
      "+1.0 +1.175 +1.543 +0.762 +1.00 +1.00 +1.00\n"
     ]
    }
   ],
   "source": [
    "import math\n",
    "x = [-1 + i*0.1 for i in range(0,21)]\n",
    "sinh = [math.sinh(i) for i in x]\n",
    "cosh = [math.cosh(i) for i in x]\n",
    "tanh = [math.tanh(i) for i in x]\n",
    "\n",
    "asinh =[math.asinh(i) for i in sinh]\n",
    "acosh =[math.acosh(i) for i in cosh]\n",
    "atanh =[math.atanh(i) for i in tanh]\n",
    "\n",
    "print(\"x    sinh   cosh   tanh   asinh acosh atanh\")\n",
    "for i in range(len(x)):\n",
    "    print(f'{x[i]:+0.1f}', end=' ')\n",
    "    print(f'{sinh[i]:+0.3f}', end=' ')\n",
    "    print(f'{cosh[i]:+0.3f}', end=' ')\n",
    "    print(f'{tanh[i]:+0.3f}', end=' ')\n",
    "    print(f'{asinh[i]:+0.2f}', end=' ')\n",
    "    print(f'{acosh[i]:+0.2f}', end=' ')\n",
    "    print(f'{atanh[i]:+0.2f}')\n",
    "    "
   ]
  }
 ],
 "metadata": {
  "authors": [
   {
    "name": "Sparisoma Viridi"
   }
  ],
  "kernelspec": {
   "display_name": "Python 3 (ipykernel)",
   "language": "python",
   "name": "python3"
  },
  "language_info": {
   "codemirror_mode": {
    "name": "ipython",
    "version": 3
   },
   "file_extension": ".py",
   "mimetype": "text/x-python",
   "name": "python",
   "nbconvert_exporter": "python",
   "pygments_lexer": "ipython3",
   "version": "3.10.4"
  },
  "title": "hyperbolic_functions"
 },
 "nbformat": 4,
 "nbformat_minor": 5
}
