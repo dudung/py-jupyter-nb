{
 "cells": [
  {
   "cell_type": "markdown",
   "id": "d4e69cf6",
   "metadata": {},
   "source": [
    "# root\n",
    "Root can calculate using `root()` function in Python `math` module. "
   ]
  },
  {
   "cell_type": "code",
   "execution_count": 1,
   "id": "c8836c80",
   "metadata": {},
   "outputs": [],
   "source": [
    "# import math module\n",
    "import math"
   ]
  },
  {
   "cell_type": "code",
   "execution_count": 2,
   "id": "60f1ddd5",
   "metadata": {},
   "outputs": [
    {
     "name": "stdout",
     "output_type": "stream",
     "text": [
      "sqrt(16) = 4.0\n",
      "sqrt(6.25) = 2.5\n",
      "sqrt(121) = 11.0\n",
      "sqrt(90.25) = 9.5\n"
     ]
    }
   ],
   "source": [
    "# calculate square root of some numbers (integer and float)\n",
    "x = 16\n",
    "print(\"sqrt(\", x, \") = \", math.sqrt(x), sep='')\n",
    "\n",
    "x = 6.25\n",
    "print(\"sqrt(\", x, \") = \", math.sqrt(x), sep='')\n",
    "\n",
    "x = 121\n",
    "print(\"sqrt(\", x, \") = \", math.sqrt(x), sep='')\n",
    "\n",
    "x = 90.25\n",
    "print(\"sqrt(\", x, \") = \", math.sqrt(x), sep='')"
   ]
  },
  {
   "cell_type": "code",
   "execution_count": 3,
   "id": "27671a44",
   "metadata": {},
   "outputs": [
    {
     "name": "stdout",
     "output_type": "stream",
     "text": [
      "sqrt(125.0) = 11.180339887498949\n",
      "round(sqrt(125.0)) = 11\n",
      "isqrt(125) = 11\n"
     ]
    }
   ],
   "source": [
    "# find square root of a float\n",
    "x = 125.0\n",
    "print(\"sqrt(\", x, \") = \", math.sqrt(x), sep='')\n",
    "\n",
    "# round the root result to nearest integer value\n",
    "x = 125.0\n",
    "print(\"round(sqrt(\", x, \")) = \", round(math.sqrt(x)), sep='')\n",
    "\n",
    "# find nearest integer root of an integer\n",
    "x = 125\n",
    "print(\"isqrt(\", x, \") = \", math.isqrt(x), sep='')"
   ]
  }
 ],
 "metadata": {
  "authors": [
   {
    "name": "Sparisoma Viridi"
   }
  ],
  "kernelspec": {
   "display_name": "Python 3 (ipykernel)",
   "language": "python",
   "name": "python3"
  },
  "language_info": {
   "codemirror_mode": {
    "name": "ipython",
    "version": 3
   },
   "file_extension": ".py",
   "mimetype": "text/x-python",
   "name": "python",
   "nbconvert_exporter": "python",
   "pygments_lexer": "ipython3",
   "version": "3.10.4"
  },
  "title": "root"
 },
 "nbformat": 4,
 "nbformat_minor": 5
}
