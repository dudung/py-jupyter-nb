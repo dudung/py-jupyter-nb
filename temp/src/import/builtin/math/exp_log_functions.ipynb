{
 "cells": [
  {
   "cell_type": "markdown",
   "id": "d4e69cf6",
   "metadata": {},
   "source": [
    "# exp_log_functions\n",
    "There are `log()`, `log10()`, `log1p()`, `log2()`, `pow()`, `exp()`, `expm1()` functions and `e` constant in Python `math` module."
   ]
  },
  {
   "cell_type": "markdown",
   "id": "f446374c",
   "metadata": {},
   "source": [
    "## exp - ln\n",
    "Exponential function and natural logarithm, which are for $x = e^a$ and $a = \\ln x$."
   ]
  },
  {
   "cell_type": "code",
   "execution_count": 1,
   "id": "b238ee64",
   "metadata": {},
   "outputs": [
    {
     "name": "stdout",
     "output_type": "stream",
     "text": [
      "e^2 = 7.3890560989306495\n",
      "\n",
      "ln e^2 = 2.0\n",
      "\n"
     ]
    }
   ],
   "source": [
    "import math\n",
    "\n",
    "x = math.e ** 2\n",
    "print(\"e^2 =\", x)\n",
    "print()\n",
    "\n",
    "y = math.log(x)\n",
    "print(\"ln e^2 =\", y)\n",
    "print()"
   ]
  },
  {
   "cell_type": "markdown",
   "id": "d4f2d1b5",
   "metadata": {},
   "source": [
    "## log - antilog\n",
    "Ten to the power of something and log functions, which are for $x = 10^a$ and $a = \\log x$."
   ]
  },
  {
   "cell_type": "code",
   "execution_count": 2,
   "id": "5b85de53",
   "metadata": {},
   "outputs": [
    {
     "name": "stdout",
     "output_type": "stream",
     "text": [
      "10^2.5 = 316.22776601683796\n",
      "\n",
      "log 10^2.5 = 2.5\n",
      "\n"
     ]
    }
   ],
   "source": [
    "import math\n",
    "\n",
    "x = math.pow(10, 2.5)\n",
    "print(\"10^2.5 =\", x)\n",
    "print()\n",
    "\n",
    "y = math.log10(x)\n",
    "print(\"log 10^2.5 =\", y)\n",
    "print()"
   ]
  },
  {
   "cell_type": "markdown",
   "id": "c36e6337",
   "metadata": {},
   "source": [
    "## log base 2 - antilog\n",
    "Two to the power of something and log base 2 functions, which are for $x = 2^a$ and $a = \\log_2 x$."
   ]
  },
  {
   "cell_type": "code",
   "execution_count": 3,
   "id": "b603e854",
   "metadata": {},
   "outputs": [
    {
     "name": "stdout",
     "output_type": "stream",
     "text": [
      "2^8.1 = 274.374006409291\n",
      "\n",
      "log_2 2^8.1 = 8.1\n",
      "\n"
     ]
    }
   ],
   "source": [
    "import math\n",
    "\n",
    "x = math.pow(2, 8.1)\n",
    "print(\"2^8.1 =\", x)\n",
    "print()\n",
    "\n",
    "y = math.log2(x)\n",
    "print(\"log_2 2^8.1 =\", y)\n",
    "print()"
   ]
  },
  {
   "cell_type": "markdown",
   "id": "dbb2653e",
   "metadata": {},
   "source": [
    "## exp minus - ln plus\n",
    "There are `expm1()` and `ln1p()` functions for $e^x - 1$ and $\\ln(1 + x)$."
   ]
  },
  {
   "cell_type": "code",
   "execution_count": 4,
   "id": "19c3ceea",
   "metadata": {},
   "outputs": [
    {
     "name": "stdout",
     "output_type": "stream",
     "text": [
      "e^2 - 1 = 6.38905609893065\n",
      "\n",
      "ln [(e^2 - 1) + 1) = 2.0\n"
     ]
    }
   ],
   "source": [
    "x = math.exp(2) - 1\n",
    "print(\"e^2 - 1 =\", x)\n",
    "print()\n",
    "\n",
    "y = math.log(x + 1)\n",
    "print(\"ln [(e^2 - 1) + 1) =\", y)"
   ]
  },
  {
   "cell_type": "code",
   "execution_count": 5,
   "id": "cbe78549",
   "metadata": {},
   "outputs": [
    {
     "name": "stdout",
     "output_type": "stream",
     "text": [
      "e^2 - 1 = 6.38905609893065\n",
      "\n",
      "ln [(e^2 - 1) + 1) = 2.0\n"
     ]
    }
   ],
   "source": [
    "x = math.expm1(2)\n",
    "print(\"e^2 - 1 =\", x)\n",
    "print()\n",
    "\n",
    "y = math.log1p(x)\n",
    "print(\"ln [(e^2 - 1) + 1) =\", y)"
   ]
  }
 ],
 "metadata": {
  "authors": [
   {
    "name": "Sparisoma Viridi"
   }
  ],
  "kernelspec": {
   "display_name": "Python 3 (ipykernel)",
   "language": "python",
   "name": "python3"
  },
  "language_info": {
   "codemirror_mode": {
    "name": "ipython",
    "version": 3
   },
   "file_extension": ".py",
   "mimetype": "text/x-python",
   "name": "python",
   "nbconvert_exporter": "python",
   "pygments_lexer": "ipython3",
   "version": "3.10.4"
  },
  "title": "exp_log_functions"
 },
 "nbformat": 4,
 "nbformat_minor": 5
}
