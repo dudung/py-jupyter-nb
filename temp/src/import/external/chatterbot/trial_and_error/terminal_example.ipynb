{
 "cells": [
  {
   "cell_type": "markdown",
   "id": "cca11c7c",
   "metadata": {},
   "source": [
    "# terminal_example\n",
    "A simple teriminal client as guided in [here](https://chatterbot.readthedocs.io/en/stable/examples.html#terminal-example)"
   ]
  },
  {
   "cell_type": "code",
   "execution_count": null,
   "id": "fa5ef798",
   "metadata": {},
   "outputs": [
    {
     "name": "stdout",
     "output_type": "stream",
     "text": [
      "Type something to begin...\n",
      "Calculate 2 + 3\n",
      "2 + 3 = 5\n",
      "2**4\n",
      "The current time is 08:20 PM\n",
      "2**4?\n",
      "The current time is 08:20 PM\n",
      "What is 2**4?\n",
      "The current time is 08:20 PM\n",
      "What is 2^4?\n",
      "The current time is 08:21 PM\n",
      "What time is now?\n",
      "The current time is 08:21 PM\n",
      "What day is today?\n",
      "The current time is 08:21 PM\n",
      "How are you?\n",
      "The current time is 08:21 PM\n",
      "Calculate 1 + 2 + 3 + 4 + 5\n",
      "1 + 2 + 3 + 4 + 5 = 15\n"
     ]
    }
   ],
   "source": [
    "# with ChatterBot (Python 3.7.0) kernel\n",
    "from chatterbot import ChatBot\n",
    "\n",
    "# Uncomment the following lines to enable verbose logging\n",
    "# import logging\n",
    "# logging.basicConfig(level=logging.INFO)\n",
    "\n",
    "# Create a new instance of a ChatBot\n",
    "bot = ChatBot(\n",
    "    'Terminal',\n",
    "    storage_adapter='chatterbot.storage.SQLStorageAdapter',\n",
    "    logic_adapters=[\n",
    "        'chatterbot.logic.MathematicalEvaluation',\n",
    "        'chatterbot.logic.TimeLogicAdapter',\n",
    "        'chatterbot.logic.BestMatch'\n",
    "    ],\n",
    "    database_uri='sqlite:///database.db'\n",
    ")\n",
    "\n",
    "print('Type something to begin...')\n",
    "\n",
    "# The following loop will execute each time the user enters input\n",
    "while True:\n",
    "    try:\n",
    "        user_input = input()\n",
    "\n",
    "        bot_response = bot.get_response(user_input)\n",
    "\n",
    "        print(bot_response)\n",
    "\n",
    "    # Press ctrl-c or ctrl-d on the keyboard to exit\n",
    "    except (KeyboardInterrupt, EOFError, SystemExit):\n",
    "        break"
   ]
  },
  {
   "cell_type": "code",
   "execution_count": null,
   "id": "4115e7de",
   "metadata": {},
   "outputs": [],
   "source": []
  }
 ],
 "metadata": {
  "authors": [
   {
    "name": "Sparisoma Viridi"
   }
  ],
  "kernelspec": {
   "display_name": "Python 3 (ipykernel)",
   "language": "python",
   "name": "python3"
  },
  "language_info": {
   "codemirror_mode": {
    "name": "ipython",
    "version": 3
   },
   "file_extension": ".py",
   "mimetype": "text/x-python",
   "name": "python",
   "nbconvert_exporter": "python",
   "pygments_lexer": "ipython3",
   "version": "3.7.0"
  },
  "title": "terminal_example"
 },
 "nbformat": 4,
 "nbformat_minor": 5
}
