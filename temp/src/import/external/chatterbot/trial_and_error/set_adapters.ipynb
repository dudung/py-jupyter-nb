{
 "cells": [
  {
   "cell_type": "markdown",
   "id": "cca11c7c",
   "metadata": {},
   "source": [
    "# set_adapters\n",
    "Set storage adapter and specify logic adapters as guided in [here](https://chatterbot.readthedocs.io/en/stable/tutorial.html#setting-the-storage-adapter)"
   ]
  },
  {
   "cell_type": "code",
   "execution_count": 1,
   "id": "fa5ef798",
   "metadata": {},
   "outputs": [
    {
     "ename": "OptionalDependencyImportError",
     "evalue": "Unable to import \"nltk\".\nPlease install \"nltk\" before using the TimeLogicAdapter:\npip3 install nltk",
     "output_type": "error",
     "traceback": [
      "\u001b[1;31m---------------------------------------------------------------------------\u001b[0m",
      "\u001b[1;31mModuleNotFoundError\u001b[0m                       Traceback (most recent call last)",
      "\u001b[1;32mC:\\venvs\\chatterbot\\lib\\site-packages\\chatterbot\\logic\\time_adapter.py\u001b[0m in \u001b[0;36m__init__\u001b[1;34m(self, chatbot, **kwargs)\u001b[0m\n\u001b[0;32m     22\u001b[0m         \u001b[1;32mtry\u001b[0m\u001b[1;33m:\u001b[0m\u001b[1;33m\u001b[0m\u001b[0m\n\u001b[1;32m---> 23\u001b[1;33m             \u001b[1;32mfrom\u001b[0m \u001b[0mnltk\u001b[0m \u001b[1;32mimport\u001b[0m \u001b[0mNaiveBayesClassifier\u001b[0m\u001b[1;33m\u001b[0m\u001b[0m\n\u001b[0m\u001b[0;32m     24\u001b[0m         \u001b[1;32mexcept\u001b[0m \u001b[0mImportError\u001b[0m\u001b[1;33m:\u001b[0m\u001b[1;33m\u001b[0m\u001b[0m\n",
      "\u001b[1;31mModuleNotFoundError\u001b[0m: No module named 'nltk'",
      "\nDuring handling of the above exception, another exception occurred:\n",
      "\u001b[1;31mOptionalDependencyImportError\u001b[0m             Traceback (most recent call last)",
      "\u001b[1;32m~\\AppData\\Local\\Temp\\ipykernel_7784\\2879718080.py\u001b[0m in \u001b[0;36m<module>\u001b[1;34m\u001b[0m\n\u001b[0;32m      8\u001b[0m         \u001b[1;34m'chatterbot.logic.TimeLogicAdapter'\u001b[0m\u001b[1;33m\u001b[0m\u001b[0m\n\u001b[0;32m      9\u001b[0m     ],\n\u001b[1;32m---> 10\u001b[1;33m     \u001b[0mdatabase_uri\u001b[0m\u001b[1;33m=\u001b[0m\u001b[1;34m'sqlite:///database.sqlite3'\u001b[0m\u001b[1;33m\u001b[0m\u001b[0m\n\u001b[0m\u001b[0;32m     11\u001b[0m )\n",
      "\u001b[1;32mC:\\venvs\\chatterbot\\lib\\site-packages\\chatterbot\\chatterbot.py\u001b[0m in \u001b[0;36m__init__\u001b[1;34m(self, name, **kwargs)\u001b[0m\n\u001b[0;32m     36\u001b[0m         \u001b[1;32mfor\u001b[0m \u001b[0madapter\u001b[0m \u001b[1;32min\u001b[0m \u001b[0mlogic_adapters\u001b[0m\u001b[1;33m:\u001b[0m\u001b[1;33m\u001b[0m\u001b[0m\n\u001b[0;32m     37\u001b[0m             \u001b[0mutils\u001b[0m\u001b[1;33m.\u001b[0m\u001b[0mvalidate_adapter_class\u001b[0m\u001b[1;33m(\u001b[0m\u001b[0madapter\u001b[0m\u001b[1;33m,\u001b[0m \u001b[0mLogicAdapter\u001b[0m\u001b[1;33m)\u001b[0m\u001b[1;33m\u001b[0m\u001b[0m\n\u001b[1;32m---> 38\u001b[1;33m             \u001b[0mlogic_adapter\u001b[0m \u001b[1;33m=\u001b[0m \u001b[0mutils\u001b[0m\u001b[1;33m.\u001b[0m\u001b[0minitialize_class\u001b[0m\u001b[1;33m(\u001b[0m\u001b[0madapter\u001b[0m\u001b[1;33m,\u001b[0m \u001b[0mself\u001b[0m\u001b[1;33m,\u001b[0m \u001b[1;33m**\u001b[0m\u001b[0mkwargs\u001b[0m\u001b[1;33m)\u001b[0m\u001b[1;33m\u001b[0m\u001b[0m\n\u001b[0m\u001b[0;32m     39\u001b[0m             \u001b[0mself\u001b[0m\u001b[1;33m.\u001b[0m\u001b[0mlogic_adapters\u001b[0m\u001b[1;33m.\u001b[0m\u001b[0mappend\u001b[0m\u001b[1;33m(\u001b[0m\u001b[0mlogic_adapter\u001b[0m\u001b[1;33m)\u001b[0m\u001b[1;33m\u001b[0m\u001b[0m\n\u001b[0;32m     40\u001b[0m \u001b[1;33m\u001b[0m\u001b[0m\n",
      "\u001b[1;32mC:\\venvs\\chatterbot\\lib\\site-packages\\chatterbot\\utils.py\u001b[0m in \u001b[0;36minitialize_class\u001b[1;34m(data, *args, **kwargs)\u001b[0m\n\u001b[0;32m     31\u001b[0m         \u001b[0mClass\u001b[0m \u001b[1;33m=\u001b[0m \u001b[0mimport_module\u001b[0m\u001b[1;33m(\u001b[0m\u001b[0mdata\u001b[0m\u001b[1;33m)\u001b[0m\u001b[1;33m\u001b[0m\u001b[0m\n\u001b[0;32m     32\u001b[0m \u001b[1;33m\u001b[0m\u001b[0m\n\u001b[1;32m---> 33\u001b[1;33m         \u001b[1;32mreturn\u001b[0m \u001b[0mClass\u001b[0m\u001b[1;33m(\u001b[0m\u001b[1;33m*\u001b[0m\u001b[0margs\u001b[0m\u001b[1;33m,\u001b[0m \u001b[1;33m**\u001b[0m\u001b[0mkwargs\u001b[0m\u001b[1;33m)\u001b[0m\u001b[1;33m\u001b[0m\u001b[0m\n\u001b[0m\u001b[0;32m     34\u001b[0m \u001b[1;33m\u001b[0m\u001b[0m\n\u001b[0;32m     35\u001b[0m \u001b[1;33m\u001b[0m\u001b[0m\n",
      "\u001b[1;32mC:\\venvs\\chatterbot\\lib\\site-packages\\chatterbot\\logic\\time_adapter.py\u001b[0m in \u001b[0;36m__init__\u001b[1;34m(self, chatbot, **kwargs)\u001b[0m\n\u001b[0;32m     28\u001b[0m                 \u001b[1;34m'pip3 install nltk'\u001b[0m\u001b[1;33m\u001b[0m\u001b[0m\n\u001b[0;32m     29\u001b[0m             )\n\u001b[1;32m---> 30\u001b[1;33m             \u001b[1;32mraise\u001b[0m \u001b[0mOptionalDependencyImportError\u001b[0m\u001b[1;33m(\u001b[0m\u001b[0mmessage\u001b[0m\u001b[1;33m)\u001b[0m\u001b[1;33m\u001b[0m\u001b[0m\n\u001b[0m\u001b[0;32m     31\u001b[0m \u001b[1;33m\u001b[0m\u001b[0m\n\u001b[0;32m     32\u001b[0m         self.positive = kwargs.get('positive', [\n",
      "\u001b[1;31mOptionalDependencyImportError\u001b[0m: Unable to import \"nltk\".\nPlease install \"nltk\" before using the TimeLogicAdapter:\npip3 install nltk"
     ]
    }
   ],
   "source": [
    "# with ChatterBot (Python 3.7.0) kernel\n",
    "from chatterbot import ChatBot\n",
    "bot = ChatBot(\n",
    "    'Norman',\n",
    "    storage_adapter='chatterbot.storage.SQLStorageAdapter',\n",
    "    logic_adapters=[\n",
    "        'chatterbot.logic.MathematicalEvaluation',\n",
    "        'chatterbot.logic.TimeLogicAdapter'\n",
    "    ],\n",
    "    database_uri='sqlite:///database.sqlite3'\n",
    ")"
   ]
  },
  {
   "cell_type": "code",
   "execution_count": 5,
   "id": "6227e8a1",
   "metadata": {},
   "outputs": [
    {
     "name": "stdout",
     "output_type": "stream",
     "text": [
      "> Hello!\n",
      ">> Hi\n",
      "\n",
      "> Who are you?\n",
      ">> Good night!\n",
      "\n",
      "> Oh, ok. Good night!\n",
      ">> Yes, I do.\n",
      "\n",
      "> What do you mean by that?\n",
      ">> Yes, I do.\n",
      "\n",
      "> Who are you?\n",
      ">> Please introduce yourself!\n",
      "\n",
      "> Oh, ok. I am Albert Newton.\n",
      ">> What?\n",
      "\n",
      "> You hear me. I am Albert Newton.\n",
      ">> Yes, I do.\n",
      "\n",
      "> I don't get it. Whay you say that?\n",
      ">> Good morning!\n",
      "\n"
     ]
    }
   ],
   "source": [
    "while True:\n",
    "    try:\n",
    "        bot_reply = chatbot.get_response(input(\">> \"))\n",
    "        print(\"<<\", bot_reply)\n",
    "        print()\n",
    "    \n",
    "    except(KeyboardInterrupt, EOFError, SystemExit):\n",
    "        break"
   ]
  },
  {
   "cell_type": "markdown",
   "id": "6a924bdd",
   "metadata": {},
   "source": [
    "## install\n",
    "```\n",
    "PS L:\\home\\py-jupyter-nb> c:\\venvs\\chatterbot\\Scripts\\activate.ps1\n",
    "(chatterbot) PS L:\\home\\py-jupyter-nb> pip show nltk\n",
    "WARNING: Package(s) not found: nltk\n",
    "(chatterbot) PS L:\\home\\py-jupyter-nb> pip install nltk\n",
    "Collecting nltk\n",
    "  Using cached nltk-3.8.1-py3-none-any.whl (1.5 MB)\n",
    "Collecting click\n",
    "  Using cached click-8.1.3-py3-none-any.whl (96 kB)\n",
    "Collecting joblib\n",
    "  Using cached joblib-1.2.0-py3-none-any.whl (297 kB)\n",
    "Requirement already satisfied: tqdm in c:\\venvs\\chatterbot\\lib\\site-packages (from nltk) (4.64.1)\n",
    "Collecting regex>=2021.8.3\n",
    "  Downloading regex-2022.10.31-cp37-cp37m-win_amd64.whl (268 kB)\n",
    "     ------------------------------------ 268.0/268.0 kB 471.2 kB/s eta 0:00:00\n",
    "Requirement already satisfied: importlib-metadata in c:\\venvs\\chatterbot\\lib\\site-packages (from click->nltk) (6.0.0)\n",
    "Requirement already satisfied: colorama in c:\\venvs\\chatterbot\\lib\\site-packages (from click->nltk) (0.4.6)\n",
    "Requirement already satisfied: zipp>=0.5 in c:\\venvs\\chatterbot\\lib\\site-packages (from importlib-metadata->click->nltk) (3.15.0)\n",
    "Requirement already satisfied: typing-extensions>=3.6.4 in c:\\venvs\\chatterbot\\lib\\site-packages (from importlib-metadata->click->nltk) (4.5.0)\n",
    "Installing collected packages: regex, joblib, click, nltk\n",
    "Successfully installed click-8.1.3 joblib-1.2.0 nltk-3.8.1 regex-2022.10.31\n",
    "(chatterbot) PS L:\\home\\py-jupyter-nb>\n",
    "```"
   ]
  },
  {
   "cell_type": "code",
   "execution_count": 2,
   "id": "4d9b5ad4",
   "metadata": {},
   "outputs": [],
   "source": [
    "# with ChatterBot (Python 3.7.0) kernel\n",
    "from chatterbot import ChatBot\n",
    "bot = ChatBot(\n",
    "    'Norman',\n",
    "    storage_adapter='chatterbot.storage.SQLStorageAdapter',\n",
    "    logic_adapters=[\n",
    "        'chatterbot.logic.MathematicalEvaluation',\n",
    "        'chatterbot.logic.TimeLogicAdapter'\n",
    "    ],\n",
    "    database_uri='sqlite:///database.sqlite3'\n",
    ")"
   ]
  },
  {
   "cell_type": "code",
   "execution_count": 4,
   "id": "b80ceb8e",
   "metadata": {},
   "outputs": [
    {
     "name": "stdout",
     "output_type": "stream",
     "text": [
      ">> Hi\n",
      "<< The current time is 07:13 PM\n",
      "\n",
      ">> I am not asking about time.\n",
      "<< The current time is 07:13 PM\n",
      "\n",
      ">> Good night!\n",
      "<< The current time is 07:14 PM\n",
      "\n",
      ">> Hello?\n",
      "<< The current time is 07:14 PM\n",
      "\n",
      ">> Who are you?\n",
      "<< The current time is 07:14 PM\n",
      "\n",
      ">> Ok?\n",
      "<< The current time is 07:14 PM\n",
      "\n"
     ]
    }
   ],
   "source": [
    "while True:\n",
    "    try:\n",
    "        bot_reply = bot.get_response(input(\">> \"))\n",
    "        print(\"<<\", bot_reply)\n",
    "        print()\n",
    "    \n",
    "    except(KeyboardInterrupt, EOFError, SystemExit):\n",
    "        break"
   ]
  },
  {
   "cell_type": "code",
   "execution_count": null,
   "id": "4115e7de",
   "metadata": {},
   "outputs": [],
   "source": []
  }
 ],
 "metadata": {
  "authors": [
   {
    "name": "Sparisoma Viridi"
   }
  ],
  "kernelspec": {
   "display_name": "ChatterBot (Python 3.7.0)",
   "language": "python",
   "name": "chatterbot"
  },
  "language_info": {
   "codemirror_mode": {
    "name": "ipython",
    "version": 3
   },
   "file_extension": ".py",
   "mimetype": "text/x-python",
   "name": "python",
   "nbconvert_exporter": "python",
   "pygments_lexer": "ipython3",
   "version": "3.7.0"
  },
  "title": "set_adapters"
 },
 "nbformat": 4,
 "nbformat_minor": 5
}
