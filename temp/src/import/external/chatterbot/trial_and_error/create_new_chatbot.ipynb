{
 "cells": [
  {
   "cell_type": "markdown",
   "id": "cca11c7c",
   "metadata": {},
   "source": [
    "# create_new_chatbot\n",
    "Cretea a new chat bot as guided in [here](https://chatterbot.readthedocs.io/en/stable/quickstart.html#create-a-new-chat-bot)"
   ]
  },
  {
   "cell_type": "code",
   "execution_count": 1,
   "id": "0f586967",
   "metadata": {},
   "outputs": [
    {
     "ename": "ModuleNotFoundError",
     "evalue": "No module named 'chatterbot'",
     "output_type": "error",
     "traceback": [
      "\u001b[1;31m---------------------------------------------------------------------------\u001b[0m",
      "\u001b[1;31mModuleNotFoundError\u001b[0m                       Traceback (most recent call last)",
      "Input \u001b[1;32mIn [1]\u001b[0m, in \u001b[0;36m<cell line: 2>\u001b[1;34m()\u001b[0m\n\u001b[0;32m      1\u001b[0m \u001b[38;5;66;03m# with Python 3 (ipykernal)\u001b[39;00m\n\u001b[1;32m----> 2\u001b[0m \u001b[38;5;28;01mfrom\u001b[39;00m \u001b[38;5;21;01mchatterbot\u001b[39;00m \u001b[38;5;28;01mimport\u001b[39;00m ChatBot\n\u001b[0;32m      3\u001b[0m chatbot \u001b[38;5;241m=\u001b[39m ChatBot(\u001b[38;5;124m\"\u001b[39m\u001b[38;5;124mDeutsche Alumni\u001b[39m\u001b[38;5;124m\"\u001b[39m)\n",
      "\u001b[1;31mModuleNotFoundError\u001b[0m: No module named 'chatterbot'"
     ]
    }
   ],
   "source": [
    "# with Python 3 (ipykernal) kernel\n",
    "from chatterbot import ChatBot\n",
    "chatbot = ChatBot(\"Deutsche Alumni\")"
   ]
  },
  {
   "cell_type": "code",
   "execution_count": 1,
   "id": "fa5ef798",
   "metadata": {},
   "outputs": [],
   "source": [
    "# with ChatterBot (Python 3.7.0) kernel\n",
    "from chatterbot import ChatBot\n",
    "chatbot = ChatBot(\"Deutsche Alumni\")"
   ]
  },
  {
   "cell_type": "code",
   "execution_count": null,
   "id": "5b834a10",
   "metadata": {},
   "outputs": [],
   "source": []
  }
 ],
 "metadata": {
  "authors": [
   {
    "name": "Sparisoma Viridi"
   }
  ],
  "kernelspec": {
   "display_name": "ChatterBot (Python 3.7.0)",
   "language": "python",
   "name": "chatterbot"
  },
  "language_info": {
   "codemirror_mode": {
    "name": "ipython",
    "version": 3
   },
   "file_extension": ".py",
   "mimetype": "text/x-python",
   "name": "python",
   "nbconvert_exporter": "python",
   "pygments_lexer": "ipython3",
   "version": "3.7.0"
  },
  "title": "create_new_chatbot"
 },
 "nbformat": 4,
 "nbformat_minor": 5
}
