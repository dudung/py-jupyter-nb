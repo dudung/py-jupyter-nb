{
 "cells": [
  {
   "cell_type": "markdown",
   "id": "cca11c7c",
   "metadata": {},
   "source": [
    "# simple_while_loop\n",
    "Get response of a chat bot in simple while loop as guided in [here](https://chatterbot.readthedocs.io/en/stable/tutorial.html#getting-a-response-from-your-chat-bot)"
   ]
  },
  {
   "cell_type": "code",
   "execution_count": 1,
   "id": "fa5ef798",
   "metadata": {},
   "outputs": [],
   "source": [
    "# with ChatterBot (Python 3.7.0) kernel\n",
    "from chatterbot import ChatBot\n",
    "chatbot = ChatBot(\"AIDI Member\")"
   ]
  },
  {
   "cell_type": "code",
   "execution_count": 1,
   "id": "1608aed3",
   "metadata": {},
   "outputs": [],
   "source": [
    "# with ChatterBot (Python 3.7.0) kernel\n",
    "from chatterbot import ChatBot\n",
    "chatbot = ChatBot(\"DAAD Alumni\")"
   ]
  },
  {
   "cell_type": "code",
   "execution_count": 5,
   "id": "6227e8a1",
   "metadata": {},
   "outputs": [
    {
     "name": "stdout",
     "output_type": "stream",
     "text": [
      "> Hello!\n",
      ">> Hi\n",
      "\n",
      "> Who are you?\n",
      ">> Good night!\n",
      "\n",
      "> Oh, ok. Good night!\n",
      ">> Yes, I do.\n",
      "\n",
      "> What do you mean by that?\n",
      ">> Yes, I do.\n",
      "\n",
      "> Who are you?\n",
      ">> Please introduce yourself!\n",
      "\n",
      "> Oh, ok. I am Albert Newton.\n",
      ">> What?\n",
      "\n",
      "> You hear me. I am Albert Newton.\n",
      ">> Yes, I do.\n",
      "\n",
      "> I don't get it. Whay you say that?\n",
      ">> Good morning!\n",
      "\n"
     ]
    }
   ],
   "source": [
    "while True:\n",
    "    try:\n",
    "        bot_reply = chatbot.get_response(input(\"> \"))\n",
    "        print(\">>\", bot_reply)\n",
    "        print()\n",
    "    \n",
    "    except(KeyboardInterrupt, EOFError, SystemExit):\n",
    "        break"
   ]
  },
  {
   "cell_type": "code",
   "execution_count": null,
   "id": "e4d55412",
   "metadata": {},
   "outputs": [],
   "source": []
  }
 ],
 "metadata": {
  "authors": [
   {
    "name": "Sparisoma Viridi"
   }
  ],
  "kernelspec": {
   "display_name": "ChatterBot (Python 3.7.0)",
   "language": "python",
   "name": "chatterbot"
  },
  "language_info": {
   "codemirror_mode": {
    "name": "ipython",
    "version": 3
   },
   "file_extension": ".py",
   "mimetype": "text/x-python",
   "name": "python",
   "nbconvert_exporter": "python",
   "pygments_lexer": "ipython3",
   "version": "3.7.0"
  },
  "title": "simple_while_loop"
 },
 "nbformat": 4,
 "nbformat_minor": 5
}
