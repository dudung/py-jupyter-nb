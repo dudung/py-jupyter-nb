{
 "cells": [
  {
   "cell_type": "markdown",
   "id": "cca11c7c",
   "metadata": {},
   "source": [
    "# train_chat_bot\n",
    "Train the cat bot as guided in [here](https://chatterbot.readthedocs.io/en/stable/tutorial.html#training-your-chat-bot)"
   ]
  },
  {
   "cell_type": "code",
   "execution_count": 1,
   "id": "fa5ef798",
   "metadata": {},
   "outputs": [],
   "source": [
    "# with ChatterBot (Python 3.7.0) kernel\n",
    "from chatterbot import ChatBot\n",
    "chatbot = ChatBot(\n",
    "    'Norman',\n",
    "    storage_adapter='chatterbot.storage.SQLStorageAdapter',\n",
    "    #logic_adapters=[\n",
    "    #    'chatterbot.logic.MathematicalEvaluation',\n",
    "    #    'chatterbot.logic.TimeLogicAdapter'\n",
    "    #],\n",
    "    database_uri='sqlite:///database.sqlite3'\n",
    ")"
   ]
  },
  {
   "cell_type": "code",
   "execution_count": 6,
   "id": "b91be148",
   "metadata": {},
   "outputs": [
    {
     "name": "stdout",
     "output_type": "stream",
     "text": [
      "List Trainer: [####################] 100%\n"
     ]
    }
   ],
   "source": [
    "from chatterbot.trainers import ListTrainer\n",
    "\n",
    "trainer = ListTrainer(chatbot)\n",
    "\n",
    "trainer.train([\n",
    "    'How are you?',\n",
    "    'I am good.',\n",
    "    'That is good to hear.',\n",
    "    'Thank you',\n",
    "    'You are welcome.',\n",
    "    \"Who are you?\",\n",
    "    \"I am Norman, a chatbot\",\n",
    "    \"What is your name?\",\n",
    "    \"My name is Norman.\",\n",
    "    \"How old are you?\",\n",
    "    \"I am just born now.\",\n",
    "])"
   ]
  },
  {
   "cell_type": "code",
   "execution_count": 7,
   "id": "6227e8a1",
   "metadata": {
    "scrolled": false
   },
   "outputs": [
    {
     "name": "stdout",
     "output_type": "stream",
     "text": [
      ">> Who are you?\n",
      "<< I am Norman, a chatbot\n",
      "\n",
      ">> How old are you, Norman?\n",
      "<< The current time is 07:14 PM\n",
      "\n",
      ">> How old are you?\n",
      "<< I am just born now.\n",
      "\n",
      ">> When you are born?\n",
      "<< I am Norman, a chatbot\n",
      "\n",
      ">> What is your name?\n",
      "<< My name is Norman.\n",
      "\n",
      ">> Nice to meet you, Norman.\n",
      "<< I am Norman, a chatbot\n",
      "\n",
      ">> Yes, I know.\n",
      "<< What is time?\n",
      "\n",
      ">> You the one who should tell me, Norman.\n",
      "<< How are you?\n",
      "\n",
      ">> I am fine. Thank you.\n",
      "<< What is time?\n",
      "\n",
      ">> I have already say that, Norman.\n",
      "<< My name is Norman.\n",
      "\n",
      ">> I know. You mention it.\n",
      "<< I am Norman, a chatbot\n",
      "\n",
      ">> Yes. Nice to meet you, Norman.\n",
      "<< You are welcome.\n",
      "\n",
      ">> Finally you response as I expected.\n",
      "<< What?\n",
      "\n",
      ">> Forget it. Never mind.\n",
      "<< I am good.\n",
      "\n",
      ">> I am glad to hear that.\n",
      "<< Thank you\n",
      "\n",
      ">> You are welcome.\n",
      "<< Who are you?\n",
      "\n",
      ">> I am Albert Newton.\n",
      "<< Hi!\n",
      "\n",
      ">> Hello!\n",
      "<< The current time is 07:13 PM\n",
      "\n",
      ">> It is already late, isn't it?\n",
      "<< I am Norman, a chatbot\n",
      "\n",
      ">> Yes, you are Norman, the chatbot.\n",
      "<< What is your name?\n",
      "\n",
      ">> Newton. Albert Newton. You can call me Albert.\n",
      "<< You are welcome.\n",
      "\n",
      ">> That is not the right reply, Norman.\n",
      "<< Yes. Nice to meet you, Norman.\n",
      "\n",
      ">> I am not Norman, but you are.\n",
      "<< I am Norman, a chatbot\n",
      "\n",
      ">> Yes, you are Norman.\n",
      "<< I know. You mention it.\n",
      "\n",
      ">> What?\n",
      "<< How are you?\n",
      "\n",
      ">> I am fine. Thank you.\n",
      "<< You are welcome.\n",
      "\n",
      ">> I have to go, Norman.\n",
      "<< How old are you, Norman?\n",
      "\n",
      ">> I am not Norman.\n",
      "<< I am Norman, a chatbot\n",
      "\n",
      ">> You are Norman, but I am not.\n",
      "<< I am Norman, a chatbot\n",
      "\n",
      ">> Forget it. I am leaving now\n",
      "<< How old are you, Norman?\n",
      "\n",
      ">> Bye, Norman.\n",
      "<< The current time is 08:01 PM\n",
      "\n",
      ">> See you tomorrow.\n",
      "<< You are welcome.\n",
      "\n"
     ]
    }
   ],
   "source": [
    "while True:\n",
    "    try:\n",
    "        bot_reply = chatbot.get_response(input(\">> \"))\n",
    "        print(\"<<\", bot_reply)\n",
    "        print()\n",
    "    \n",
    "    except(KeyboardInterrupt, EOFError, SystemExit):\n",
    "        break"
   ]
  },
  {
   "cell_type": "code",
   "execution_count": null,
   "id": "4115e7de",
   "metadata": {},
   "outputs": [],
   "source": []
  }
 ],
 "metadata": {
  "authors": [
   {
    "name": "Sparisoma Viridi"
   }
  ],
  "kernelspec": {
   "display_name": "ChatterBot (Python 3.7.0)",
   "language": "python",
   "name": "chatterbot"
  },
  "language_info": {
   "codemirror_mode": {
    "name": "ipython",
    "version": 3
   },
   "file_extension": ".py",
   "mimetype": "text/x-python",
   "name": "python",
   "nbconvert_exporter": "python",
   "pygments_lexer": "ipython3",
   "version": "3.7.0"
  },
  "title": "train_chat_bot"
 },
 "nbformat": 4,
 "nbformat_minor": 5
}
