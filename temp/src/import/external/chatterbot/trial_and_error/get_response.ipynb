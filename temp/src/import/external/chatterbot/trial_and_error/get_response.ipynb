{
 "cells": [
  {
   "cell_type": "markdown",
   "id": "cca11c7c",
   "metadata": {},
   "source": [
    "# get_response\n",
    "Get response of a chat bot as guided in [here](https://chatterbot.readthedocs.io/en/stable/quickstart.html#get-a-response)"
   ]
  },
  {
   "cell_type": "code",
   "execution_count": 1,
   "id": "fa5ef798",
   "metadata": {},
   "outputs": [],
   "source": [
    "# with ChatterBot (Python 3.7.0) kernel\n",
    "from chatterbot import ChatBot\n",
    "chatbot = ChatBot(\"Deutsche Alumni\")"
   ]
  },
  {
   "cell_type": "code",
   "execution_count": 2,
   "id": "5b834a10",
   "metadata": {},
   "outputs": [
    {
     "name": "stdout",
     "output_type": "stream",
     "text": [
      "Good morning!\n"
     ]
    }
   ],
   "source": [
    "response = chatbot.get_response(\"Good morning!\")\n",
    "print(response)"
   ]
  },
  {
   "cell_type": "code",
   "execution_count": 3,
   "id": "a735e505",
   "metadata": {},
   "outputs": [
    {
     "name": "stdout",
     "output_type": "stream",
     "text": [
      "Good morning!\n"
     ]
    }
   ],
   "source": [
    "response = chatbot.get_response(\"Who are you?\")\n",
    "print(response)"
   ]
  },
  {
   "cell_type": "code",
   "execution_count": 4,
   "id": "185e97fa",
   "metadata": {},
   "outputs": [
    {
     "name": "stdout",
     "output_type": "stream",
     "text": [
      "Who are you?\n"
     ]
    }
   ],
   "source": [
    "response = chatbot.get_response(\"What is your name?\")\n",
    "print(response)"
   ]
  },
  {
   "cell_type": "code",
   "execution_count": 5,
   "id": "da7fc37a",
   "metadata": {},
   "outputs": [
    {
     "name": "stdout",
     "output_type": "stream",
     "text": [
      "Good morning!\n"
     ]
    }
   ],
   "source": [
    "response = chatbot.get_response(\"I am you.\")\n",
    "print(response)"
   ]
  },
  {
   "cell_type": "code",
   "execution_count": null,
   "id": "6227e8a1",
   "metadata": {},
   "outputs": [],
   "source": []
  }
 ],
 "metadata": {
  "authors": [
   {
    "name": "Sparisoma Viridi"
   }
  ],
  "kernelspec": {
   "display_name": "ChatterBot (Python 3.7.0)",
   "language": "python",
   "name": "chatterbot"
  },
  "language_info": {
   "codemirror_mode": {
    "name": "ipython",
    "version": 3
   },
   "file_extension": ".py",
   "mimetype": "text/x-python",
   "name": "python",
   "nbconvert_exporter": "python",
   "pygments_lexer": "ipython3",
   "version": "3.7.0"
  },
  "title": "create_new_chatbot"
 },
 "nbformat": 4,
 "nbformat_minor": 5
}
