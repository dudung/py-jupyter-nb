{
 "cells": [
  {
   "cell_type": "markdown",
   "id": "cca11c7c",
   "metadata": {},
   "source": [
    "# step_0_install_and_use\n",
    "install and use virtual environment in jupyter notebook"
   ]
  },
  {
   "cell_type": "markdown",
   "id": "5ddbd791",
   "metadata": {},
   "source": [
    "+ Create virtual environment `chatterbot`.\n",
    "+ Install IPython kernel with name `chatterbot` as in [here](https://www.geeksforgeeks.org/using-jupyter-notebook-in-virtual-environment/)\n",
    "+ ~Install chatbotter library as [in using shell here](https://realpython.com/build-a-chatbot-python-chatterbot/#step-1-create-a-chatbot-using-python-chatterbot)~.\n",
    "+ Run Juputer Notebook from command line.\n",
    "+ Navigate to menu: `File` &rightarrow; `New Notebook` &rightarrow; `chatterbot`.\n",
    "+ Or for existing notebook file, navigate to menu: `Kernel` &rightarrow; `Change kernel` &rightarrow; `chatterbot`."
   ]
  },
  {
   "cell_type": "markdown",
   "id": "55be749b",
   "metadata": {},
   "source": [
    "https://ipython.readthedocs.io/en/stable/install/kernel_install.html\n",
    "\n",
    "https://jakevdp.github.io/blog/2017/12/05/installing-python-packages-from-jupyter/"
   ]
  },
  {
   "cell_type": "code",
   "execution_count": 8,
   "id": "5568ad1b",
   "metadata": {
    "scrolled": true
   },
   "outputs": [
    {
     "name": "stdout",
     "output_type": "stream",
     "text": [
      "Note: you may need to restart the kernel to use updated packages.\n"
     ]
    },
    {
     "name": "stderr",
     "output_type": "stream",
     "text": [
      "WARNING: Package(s) not found: chatterbot\n"
     ]
    }
   ],
   "source": [
    "pip show chatterbot"
   ]
  },
  {
   "cell_type": "code",
   "execution_count": 1,
   "id": "731838d0",
   "metadata": {
    "scrolled": false
   },
   "outputs": [
    {
     "name": "stdout",
     "output_type": "stream",
     "text": [
      "Collecting ChatterBot==1.0.4\n",
      "  Using cached ChatterBot-1.0.4-py2.py3-none-any.whl (66 kB)\n",
      "Collecting chatterbot-corpus==1.2.0\n",
      "  Using cached chatterbot_corpus-1.2.0-py2.py3-none-any.whl (117 kB)\n",
      "Collecting click==8.1.3\n",
      "  Using cached click-8.1.3-py3-none-any.whl (96 kB)\n",
      "Collecting joblib==1.1.0\n",
      "  Using cached joblib-1.1.0-py2.py3-none-any.whl (306 kB)\n",
      "Collecting mathparse==0.1.2\n",
      "  Using cached mathparse-0.1.2-py3-none-any.whl (7.2 kB)\n",
      "Collecting nltk==3.7\n",
      "  Using cached nltk-3.7-py3-none-any.whl (1.5 MB)\n",
      "Collecting Pint==0.19.2\n",
      "  Using cached Pint-0.19.2-py3-none-any.whl\n",
      "Collecting pymongo==3.12.3\n",
      "  Using cached pymongo-3.12.3-cp310-cp310-win_amd64.whl (398 kB)\n",
      "Collecting python-dateutil==2.7.5\n",
      "  Using cached python_dateutil-2.7.5-py2.py3-none-any.whl (225 kB)\n",
      "Collecting pytz==2022.2.1\n",
      "  Using cached pytz-2022.2.1-py2.py3-none-any.whl (500 kB)\n",
      "Collecting PyYAML==3.13\n",
      "  Using cached PyYAML-3.13-cp310-cp310-win_amd64.whl\n",
      "Collecting regex==2022.9.11\n",
      "  Using cached regex-2022.9.11-cp310-cp310-win_amd64.whl (263 kB)\n",
      "Requirement already satisfied: six==1.16.0 in c:\\users\\sparisoma viridi\\appdata\\local\\packages\\pythonsoftwarefoundation.python.3.10_qbz5n2kfra8p0\\localcache\\local-packages\\python310\\site-packages (from -r requirements.txt (line 13)) (1.16.0)\n",
      "Requirement already satisfied: SQLAlchemy==1.2.19 in c:\\users\\sparisoma viridi\\appdata\\local\\packages\\pythonsoftwarefoundation.python.3.10_qbz5n2kfra8p0\\localcache\\local-packages\\python310\\site-packages (from -r requirements.txt (line 14)) (1.2.19)\n",
      "Requirement already satisfied: tqdm==4.64.1 in c:\\users\\sparisoma viridi\\appdata\\local\\packages\\pythonsoftwarefoundation.python.3.10_qbz5n2kfra8p0\\localcache\\local-packages\\python310\\site-packages (from -r requirements.txt (line 15)) (4.64.1)\n",
      "Requirement already satisfied: colorama in c:\\users\\sparisoma viridi\\appdata\\local\\packages\\pythonsoftwarefoundation.python.3.10_qbz5n2kfra8p0\\localcache\\local-packages\\python310\\site-packages (from click==8.1.3->-r requirements.txt (line 3)) (0.4.4)\n",
      "Installing collected packages: PyYAML, pytz, mathparse, regex, python-dateutil, pymongo, Pint, joblib, click, chatterbot-corpus, nltk, ChatterBot\n",
      "  Attempting uninstall: pytz\n",
      "    Found existing installation: pytz 2022.7.1\n",
      "    Uninstalling pytz-2022.7.1:\n",
      "      Successfully uninstalled pytz-2022.7.1\n",
      "  Attempting uninstall: python-dateutil\n",
      "    Found existing installation: python-dateutil 2.8.2\n",
      "    Uninstalling python-dateutil-2.8.2:\n",
      "      Successfully uninstalled python-dateutil-2.8.2\n",
      "Successfully installed ChatterBot-1.0.4 Pint-0.19.2 PyYAML-3.13 chatterbot-corpus-1.2.0 click-8.1.3 joblib-1.1.0 mathparse-0.1.2 nltk-3.7 pymongo-3.12.3 python-dateutil-2.7.5 pytz-2022.2.1 regex-2022.9.11\n"
     ]
    },
    {
     "name": "stderr",
     "output_type": "stream",
     "text": [
      "ERROR: pip's dependency resolver does not currently take into account all the packages that are installed. This behaviour is the source of the following dependency conflicts.\n",
      "pandas 1.4.2 requires python-dateutil>=2.8.1, but you have python-dateutil 2.7.5 which is incompatible.\n",
      "jupyter-client 7.2.1 requires python-dateutil>=2.8.2, but you have python-dateutil 2.7.5 which is incompatible.\n"
     ]
    }
   ],
   "source": [
    "import sys\n",
    "!pip install -r requirements.txt"
   ]
  },
  {
   "cell_type": "code",
   "execution_count": 2,
   "id": "0f586967",
   "metadata": {},
   "outputs": [
    {
     "name": "stdout",
     "output_type": "stream",
     "text": [
      "^C\n"
     ]
    }
   ],
   "source": [
    "import sys\n",
    "!pip uninstall -r requirements.txt"
   ]
  },
  {
   "cell_type": "code",
   "execution_count": null,
   "id": "fa5ef798",
   "metadata": {},
   "outputs": [],
   "source": []
  }
 ],
 "metadata": {
  "authors": [
   {
    "name": "Sparisoma Viridi"
   }
  ],
  "kernelspec": {
   "display_name": "Python 3 (chatterbot)",
   "language": "python",
   "name": "chatterbot"
  },
  "language_info": {
   "codemirror_mode": {
    "name": "ipython",
    "version": 3
   },
   "file_extension": ".py",
   "mimetype": "text/x-python",
   "name": "python",
   "nbconvert_exporter": "python",
   "pygments_lexer": "ipython3",
   "version": "3.10.9"
  },
  "title": "step_0_install_and_use"
 },
 "nbformat": 4,
 "nbformat_minor": 5
}
