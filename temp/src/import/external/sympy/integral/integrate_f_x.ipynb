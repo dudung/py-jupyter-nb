{
 "cells": [
  {
   "cell_type": "markdown",
   "id": "cca11c7c",
   "metadata": {},
   "source": [
    "# integrate_f_x\n",
    "Calculate indefinite integral of f with respect to x"
   ]
  },
  {
   "cell_type": "code",
   "execution_count": 1,
   "id": "a5cdf690",
   "metadata": {
    "scrolled": true
   },
   "outputs": [
    {
     "name": "stdout",
     "output_type": "stream",
     "text": [
      "x**2 + x\n"
     ]
    }
   ],
   "source": [
    "import sympy as sym\n",
    "\n",
    "x = sym.Symbol('x')\n",
    "f = 2 * x + 1\n",
    "F = sym.integrate(f, x)\n",
    "print(F)"
   ]
  },
  {
   "cell_type": "code",
   "execution_count": 2,
   "id": "4841baab",
   "metadata": {},
   "outputs": [
    {
     "data": {
      "text/latex": [
       "$\\displaystyle 2 x + 1$"
      ],
      "text/plain": [
       "2*x + 1"
      ]
     },
     "metadata": {},
     "output_type": "display_data"
    },
    {
     "data": {
      "text/latex": [
       "$\\displaystyle x^{2} + x$"
      ],
      "text/plain": [
       "x**2 + x"
      ]
     },
     "metadata": {},
     "output_type": "display_data"
    }
   ],
   "source": [
    "from IPython.display import display, Math\n",
    "\n",
    "display(f)\n",
    "display(F)"
   ]
  },
  {
   "cell_type": "code",
   "execution_count": 3,
   "id": "c2ce162c",
   "metadata": {},
   "outputs": [
    {
     "name": "stdout",
     "output_type": "stream",
     "text": [
      "2 x + 1\n",
      "x^{2} + x\n"
     ]
    }
   ],
   "source": [
    "from sympy.printing.latex import latex\n",
    "\n",
    "print(latex(f))\n",
    "print(latex(F))"
   ]
  },
  {
   "cell_type": "code",
   "execution_count": 4,
   "id": "3a3ab8e2",
   "metadata": {},
   "outputs": [
    {
     "data": {
      "text/latex": [
       "$\\displaystyle \\int 2 x + 1 \\ dx = x^{2} + x + c$"
      ],
      "text/plain": [
       "<IPython.core.display.Math object>"
      ]
     },
     "metadata": {},
     "output_type": "display_data"
    }
   ],
   "source": [
    "display(Math(\"\\\\int %s \\\\ dx = %s + c\" %(sym.latex(f), sym.latex(F))))"
   ]
  },
  {
   "cell_type": "code",
   "execution_count": null,
   "id": "5e0ba911",
   "metadata": {},
   "outputs": [],
   "source": []
  }
 ],
 "metadata": {
  "authors": [
   {
    "name": "Sparisoma Viridi"
   }
  ],
  "kernelspec": {
   "display_name": "Python 3 (ipykernel)",
   "language": "python",
   "name": "python3"
  },
  "language_info": {
   "codemirror_mode": {
    "name": "ipython",
    "version": 3
   },
   "file_extension": ".py",
   "mimetype": "text/x-python",
   "name": "python",
   "nbconvert_exporter": "python",
   "pygments_lexer": "ipython3",
   "version": "3.10.9"
  },
  "title": "integrate_f_x"
 },
 "nbformat": 4,
 "nbformat_minor": 5
}
