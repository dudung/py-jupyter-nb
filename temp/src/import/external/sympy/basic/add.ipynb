{
 "cells": [
  {
   "cell_type": "markdown",
   "id": "cca11c7c",
   "metadata": {},
   "source": [
    "# add\n",
    "Add numbers using numeric and sympy library"
   ]
  },
  {
   "cell_type": "markdown",
   "id": "3d6bd648",
   "metadata": {},
   "source": [
    "## numerical addition"
   ]
  },
  {
   "cell_type": "code",
   "execution_count": 1,
   "id": "b0c0f6a3",
   "metadata": {
    "scrolled": true
   },
   "outputs": [
    {
     "name": "stdout",
     "output_type": "stream",
     "text": [
      "x + y = 1 + 2 = 3\n"
     ]
    }
   ],
   "source": [
    "x = 1\n",
    "y = 2\n",
    "z = x + y\n",
    "\n",
    "print(f\"x + y = {x} + {y} = {z}\")"
   ]
  },
  {
   "cell_type": "markdown",
   "id": "4b390e4b",
   "metadata": {},
   "source": [
    "## symbolic addition"
   ]
  },
  {
   "cell_type": "markdown",
   "id": "ec6553e9",
   "metadata": {},
   "source": [
    "$$\n",
    "z = x + y\n",
    "$$"
   ]
  },
  {
   "cell_type": "code",
   "execution_count": 2,
   "id": "a5cdf690",
   "metadata": {
    "scrolled": true
   },
   "outputs": [
    {
     "name": "stdout",
     "output_type": "stream",
     "text": [
      "z =  x + y\n"
     ]
    }
   ],
   "source": [
    "from sympy import symbols\n",
    "\n",
    "x, y = symbols('x y')\n",
    "z = x + y\n",
    "print('z = ', z)"
   ]
  },
  {
   "cell_type": "code",
   "execution_count": null,
   "id": "4841baab",
   "metadata": {},
   "outputs": [],
   "source": []
  }
 ],
 "metadata": {
  "authors": [
   {
    "name": "Sparisoma Viridi"
   }
  ],
  "kernelspec": {
   "display_name": "Python 3 (ipykernel)",
   "language": "python",
   "name": "python3"
  },
  "language_info": {
   "codemirror_mode": {
    "name": "ipython",
    "version": 3
   },
   "file_extension": ".py",
   "mimetype": "text/x-python",
   "name": "python",
   "nbconvert_exporter": "python",
   "pygments_lexer": "ipython3",
   "version": "3.9.12"
  },
  "title": "add"
 },
 "nbformat": 4,
 "nbformat_minor": 5
}
