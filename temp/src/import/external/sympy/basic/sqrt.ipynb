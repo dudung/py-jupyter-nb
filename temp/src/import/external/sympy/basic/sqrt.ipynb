{
 "cells": [
  {
   "cell_type": "markdown",
   "id": "cca11c7c",
   "metadata": {},
   "source": [
    "# sqrt\n",
    "Square root of a number calculate using math module and sympy library"
   ]
  },
  {
   "cell_type": "code",
   "execution_count": 1,
   "id": "b0c0f6a3",
   "metadata": {
    "scrolled": true
   },
   "outputs": [
    {
     "name": "stdout",
     "output_type": "stream",
     "text": [
      "sqrt(9) = 3.0\n",
      "sqrt(8) = 2.8284271247461903\n",
      "sqrt(75) = 8.660254037844387\n"
     ]
    }
   ],
   "source": [
    "import math as ma\n",
    "\n",
    "print('sqrt(9) =', ma.sqrt(9))\n",
    "\n",
    "print('sqrt(8) =', ma.sqrt(8))\n",
    "\n",
    "print('sqrt(75) =', ma.sqrt(75))"
   ]
  },
  {
   "cell_type": "code",
   "execution_count": 2,
   "id": "a5cdf690",
   "metadata": {},
   "outputs": [
    {
     "name": "stdout",
     "output_type": "stream",
     "text": [
      "sqrt(9) = 3\n",
      "sqrt(8) = 2*sqrt(2)\n",
      "sqrt(75) = 5*sqrt(3)\n"
     ]
    }
   ],
   "source": [
    "import sympy as sy\n",
    "\n",
    "print('sqrt(9) =', sy.sqrt(9))\n",
    "\n",
    "print('sqrt(8) =', sy.sqrt(8))\n",
    "\n",
    "print('sqrt(75) =', sy.sqrt(75))\n"
   ]
  },
  {
   "cell_type": "code",
   "execution_count": null,
   "id": "35c9107d",
   "metadata": {},
   "outputs": [],
   "source": []
  }
 ],
 "metadata": {
  "authors": [
   {
    "name": "Sparisoma Viridi"
   }
  ],
  "kernelspec": {
   "display_name": "Python 3 (ipykernel)",
   "language": "python",
   "name": "python3"
  },
  "language_info": {
   "codemirror_mode": {
    "name": "ipython",
    "version": 3
   },
   "file_extension": ".py",
   "mimetype": "text/x-python",
   "name": "python",
   "nbconvert_exporter": "python",
   "pygments_lexer": "ipython3",
   "version": "3.10.9"
  },
  "title": "sqrt"
 },
 "nbformat": 4,
 "nbformat_minor": 5
}
