{
 "cells": [
  {
   "cell_type": "markdown",
   "id": "cca11c7c",
   "metadata": {},
   "source": [
    "# log10\n",
    "Base-10 logarithm of a number using math module and sympy library"
   ]
  },
  {
   "cell_type": "code",
   "execution_count": 1,
   "id": "b0c0f6a3",
   "metadata": {
    "scrolled": true
   },
   "outputs": [
    {
     "name": "stdout",
     "output_type": "stream",
     "text": [
      "10 1.0\n",
      "316.22776601683796 2.5\n"
     ]
    }
   ],
   "source": [
    "import math\n",
    "x = 10\n",
    "y = math.log10(x)\n",
    "print(x, y)\n",
    "\n",
    "x = 10**2.5\n",
    "y = math.log10(x)\n",
    "print(x, y)"
   ]
  },
  {
   "cell_type": "code",
   "execution_count": 2,
   "id": "a5cdf690",
   "metadata": {},
   "outputs": [
    {
     "name": "stdout",
     "output_type": "stream",
     "text": [
      "x log(x)/log(10)\n",
      "x 10**x log(10**x)/log(10)\n"
     ]
    }
   ],
   "source": [
    "import sympy\n",
    "x = sympy.symbols('x')\n",
    "y = sympy.log(x, 10)\n",
    "print(x, y)\n",
    "\n",
    "x = sympy.symbols('x')\n",
    "y = 10**x\n",
    "z = sympy.log(y, 10)\n",
    "print(x, y, z)"
   ]
  },
  {
   "cell_type": "code",
   "execution_count": null,
   "id": "35c9107d",
   "metadata": {},
   "outputs": [],
   "source": []
  }
 ],
 "metadata": {
  "authors": [
   {
    "name": "Sparisoma Viridi"
   }
  ],
  "kernelspec": {
   "display_name": "Python 3 (ipykernel)",
   "language": "python",
   "name": "python3"
  },
  "language_info": {
   "codemirror_mode": {
    "name": "ipython",
    "version": 3
   },
   "file_extension": ".py",
   "mimetype": "text/x-python",
   "name": "python",
   "nbconvert_exporter": "python",
   "pygments_lexer": "ipython3",
   "version": "3.10.9"
  },
  "title": "log10"
 },
 "nbformat": 4,
 "nbformat_minor": 5
}
