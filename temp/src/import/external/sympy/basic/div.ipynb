{
 "cells": [
  {
   "cell_type": "markdown",
   "id": "cca11c7c",
   "metadata": {},
   "source": [
    "# div\n",
    "Divide numbers using numeric and sympy library"
   ]
  },
  {
   "cell_type": "markdown",
   "id": "3d6bd648",
   "metadata": {},
   "source": [
    "## numerical division"
   ]
  },
  {
   "cell_type": "code",
   "execution_count": 1,
   "id": "b0c0f6a3",
   "metadata": {
    "scrolled": true
   },
   "outputs": [
    {
     "name": "stdout",
     "output_type": "stream",
     "text": [
      "x / (y / z) = 1.6 / (2.0 / 0.5) = 0.4\n"
     ]
    }
   ],
   "source": [
    "x = 1.6\n",
    "y = 2.0\n",
    "z = 0.5\n",
    "a = x / (y /z)\n",
    "\n",
    "print(f\"x / (y / z) = {x} / ({y} / {z}) = {a}\")"
   ]
  },
  {
   "cell_type": "markdown",
   "id": "4b390e4b",
   "metadata": {},
   "source": [
    "## symbolic division"
   ]
  },
  {
   "cell_type": "markdown",
   "id": "ec6553e9",
   "metadata": {},
   "source": [
    "$$\n",
    "\\begin{array}{rcl}\n",
    "a & = & \\displaystyle \\frac{x}{y/z} \\newline\n",
    "& = & \\displaystyle \\frac{xz}{y}\n",
    "\\end{array}\n",
    "$$"
   ]
  },
  {
   "cell_type": "code",
   "execution_count": 2,
   "id": "a5cdf690",
   "metadata": {
    "scrolled": true
   },
   "outputs": [
    {
     "name": "stdout",
     "output_type": "stream",
     "text": [
      "a =  x*z/y\n"
     ]
    }
   ],
   "source": [
    "from sympy import symbols\n",
    "\n",
    "x, y, z = symbols('x y z')\n",
    "a = x / (y / z)\n",
    "print('a = ', a)"
   ]
  },
  {
   "cell_type": "code",
   "execution_count": null,
   "id": "4841baab",
   "metadata": {},
   "outputs": [],
   "source": []
  }
 ],
 "metadata": {
  "authors": [
   {
    "name": "Sparisoma Viridi"
   }
  ],
  "kernelspec": {
   "display_name": "Python 3 (ipykernel)",
   "language": "python",
   "name": "python3"
  },
  "language_info": {
   "codemirror_mode": {
    "name": "ipython",
    "version": 3
   },
   "file_extension": ".py",
   "mimetype": "text/x-python",
   "name": "python",
   "nbconvert_exporter": "python",
   "pygments_lexer": "ipython3",
   "version": "3.10.9"
  },
  "title": "div"
 },
 "nbformat": 4,
 "nbformat_minor": 5
}
