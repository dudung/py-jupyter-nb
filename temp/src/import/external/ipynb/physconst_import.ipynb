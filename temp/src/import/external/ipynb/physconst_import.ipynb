{
 "cells": [
  {
   "cell_type": "markdown",
   "id": "d4e69cf6",
   "metadata": {},
   "source": [
    "# physconst_import\n",
    "How to use `physconst` module."
   ]
  },
  {
   "cell_type": "code",
   "execution_count": 1,
   "id": "82308570",
   "metadata": {},
   "outputs": [],
   "source": [
    "import ipynb.fs.full.physconst as const"
   ]
  },
  {
   "cell_type": "code",
   "execution_count": 2,
   "id": "901c3582",
   "metadata": {},
   "outputs": [
    {
     "name": "stdout",
     "output_type": "stream",
     "text": [
      "{'name': 'constant of gravitation', 'unit': [{'m': 3}, {'s': -2}, {'kg': -1}, {'mol': 0}, {'cd': 0}, {'K': 0}, {'A': 0}], 'value': 6.67384e-11}\n"
     ]
    }
   ],
   "source": [
    "print(const.G)"
   ]
  },
  {
   "cell_type": "code",
   "execution_count": 3,
   "id": "784e1ab4",
   "metadata": {},
   "outputs": [
    {
     "name": "stdout",
     "output_type": "stream",
     "text": [
      "{'name': 'speed of light', 'unit': [{'m': 1}, {'s': -1}, {'kg': 0}, {'mol': 0}, {'cd': 0}, {'K': 0}, {'A': 0}], 'value': 299792458.0}\n"
     ]
    }
   ],
   "source": [
    "print(const.c)"
   ]
  },
  {
   "cell_type": "code",
   "execution_count": 4,
   "id": "35babf94",
   "metadata": {},
   "outputs": [
    {
     "name": "stdout",
     "output_type": "stream",
     "text": [
      "{'name': \"Planck's constant\", 'unit': [{'m': 2}, {'s': -1}, {'kg': 1}, {'mol': 0}, {'cd': 0}, {'K': 0}, {'A': 0}], 'value': 6.62607004e-34}\n"
     ]
    }
   ],
   "source": [
    "print(const.h)"
   ]
  },
  {
   "cell_type": "code",
   "execution_count": 5,
   "id": "068d8ad3",
   "metadata": {},
   "outputs": [
    {
     "name": "stdout",
     "output_type": "stream",
     "text": [
      "{'name': 'Faraday constant', 'unit': [{'m': 0}, {'s': 1}, {'kg': 0}, {'mol': -1}, {'cd': 0}, {'K': -1}, {'A': 1}], 'value': 96485.33289}\n"
     ]
    }
   ],
   "source": [
    "print(const.F)"
   ]
  },
  {
   "cell_type": "code",
   "execution_count": 6,
   "id": "17ec4711",
   "metadata": {},
   "outputs": [
    {
     "name": "stdout",
     "output_type": "stream",
     "text": [
      "{'name': 'Stefan-Boltzmann constant', 'unit': [{'m': 0}, {'s': -3}, {'kg': 1}, {'mol': 0}, {'cd': 0}, {'K': -4}, {'A': 0}], 'value': 5.670367e-08}\n"
     ]
    }
   ],
   "source": [
    "print(const.sigma)"
   ]
  },
  {
   "cell_type": "code",
   "execution_count": 7,
   "id": "c29de8e7",
   "metadata": {},
   "outputs": [
    {
     "name": "stdout",
     "output_type": "stream",
     "text": [
      "{'name': 'Boltzmann constant', 'unit': [{'m': 2}, {'s': -2}, {'kg': 1}, {'mol': 0}, {'cd': 0}, {'K': -1}, {'A': 0}], 'value': 1.38064852e-23}\n"
     ]
    }
   ],
   "source": [
    "print(const.k)"
   ]
  },
  {
   "cell_type": "code",
   "execution_count": 8,
   "id": "d1705cbe",
   "metadata": {},
   "outputs": [
    {
     "name": "stdout",
     "output_type": "stream",
     "text": [
      "{'name': 'Rydberg constant', 'unit': [{'m': 0}, {'s': 1}, {'kg': 0}, {'mol': -1}, {'cd': 0}, {'K': -1}, {'A': 1}], 'value': 96485.33289}\n"
     ]
    }
   ],
   "source": [
    "print(const.Rinf)"
   ]
  },
  {
   "cell_type": "code",
   "execution_count": 9,
   "id": "26a693d2",
   "metadata": {},
   "outputs": [
    {
     "name": "stdout",
     "output_type": "stream",
     "text": [
      "{'name': 'elementary charge', 'unit': [{'m': 0}, {'s': 1}, {'kg': 0}, {'mol': 0}, {'cd': 0}, {'K': 0}, {'A': 1}], 'value': 1.6021766208e-19}\n"
     ]
    }
   ],
   "source": [
    "print(const.e)"
   ]
  }
 ],
 "metadata": {
  "authors": [
   {
    "name": "Sparisoma Viridi"
   }
  ],
  "kernelspec": {
   "display_name": "Python 3 (ipykernel)",
   "language": "python",
   "name": "python3"
  },
  "language_info": {
   "codemirror_mode": {
    "name": "ipython",
    "version": 3
   },
   "file_extension": ".py",
   "mimetype": "text/x-python",
   "name": "python",
   "nbconvert_exporter": "python",
   "pygments_lexer": "ipython3",
   "version": "3.10.4"
  },
  "title": "physconst_import"
 },
 "nbformat": 4,
 "nbformat_minor": 5
}
