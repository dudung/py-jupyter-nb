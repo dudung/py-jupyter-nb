{
 "cells": [
  {
   "cell_type": "markdown",
   "id": "d4e69cf6",
   "metadata": {},
   "source": [
    "# test_vect2\n",
    "How to use `vect2` module for 2-d vector operation"
   ]
  },
  {
   "cell_type": "code",
   "execution_count": 1,
   "id": "7b912466",
   "metadata": {},
   "outputs": [],
   "source": [
    "from ipynb.fs.full.vect2 import Vect2"
   ]
  },
  {
   "cell_type": "markdown",
   "id": "db0ab1d5",
   "metadata": {},
   "source": [
    "## zero vector\n",
    "\\begin{equation}\\tag{1}\n",
    "\\vec{0} = 0 \\hat{x} + 0 \\hat{y}\n",
    "\\end{equation}"
   ]
  },
  {
   "cell_type": "code",
   "execution_count": 2,
   "id": "fb40c9ca",
   "metadata": {},
   "outputs": [
    {
     "name": "stdout",
     "output_type": "stream",
     "text": [
      "(0, 0)\n"
     ]
    }
   ],
   "source": [
    "zero = Vect2()\n",
    "print(zero)"
   ]
  },
  {
   "cell_type": "markdown",
   "id": "b26dae71",
   "metadata": {},
   "source": [
    "## vector addition\n",
    "Terdapat\n",
    "\n",
    "\\begin{equation}\\tag{2}\n",
    "\\vec{a} = a_x \\hat{x} + a_y \\hat{y},\n",
    "\\end{equation}\n",
    "\n",
    "\\begin{equation}\\tag{3}\n",
    "\\vec{b} = b_x \\hat{x} + b_y \\hat{y},\n",
    "\\end{equation}\n",
    "\n",
    "\\begin{equation}\\tag{4}\n",
    "\\vec{c} = c_x \\hat{x} + c_y \\hat{y}.\n",
    "\\end{equation}\n",
    "\n",
    "Bila\n",
    "\n",
    "\\begin{equation}\\tag{5}\n",
    "\\vec{c} = \\vec{a} + \\vec{b}.\n",
    "\\end{equation}\n",
    "\n",
    "maka\n",
    "\n",
    "\\begin{equation}\\tag{6}\n",
    "\\begin{array}{rcl}\n",
    "c_x & = & a_x + b_x, \\newline\n",
    "c_y & = & a_y + b_y.\n",
    "\\end{array}\n",
    "\\end{equation}"
   ]
  },
  {
   "cell_type": "code",
   "execution_count": 3,
   "id": "b1c78f1d",
   "metadata": {},
   "outputs": [
    {
     "name": "stdout",
     "output_type": "stream",
     "text": [
      "a = (3, 4)\n",
      "b = (1, -2)\n",
      "c = a + b = (4, 2)\n"
     ]
    }
   ],
   "source": [
    "a = Vect2(3, 4)\n",
    "b = Vect2(1, -2)\n",
    "c = a + b\n",
    "\n",
    "print(\"a =\", a)\n",
    "print(\"b =\", b)\n",
    "print(\"c = a + b =\", c)"
   ]
  },
  {
   "cell_type": "markdown",
   "id": "3c46bec5",
   "metadata": {},
   "source": [
    "## vector substraction\n",
    "Terdapat\n",
    "\n",
    "\\begin{equation}\\tag{2}\n",
    "\\vec{a} = a_x \\hat{x} + a_y \\hat{y},\n",
    "\\end{equation}\n",
    "\n",
    "\\begin{equation}\\tag{3}\n",
    "\\vec{b} = b_x \\hat{x} + b_y \\hat{y},\n",
    "\\end{equation}\n",
    "\n",
    "\\begin{equation}\\tag{4}\n",
    "\\vec{d} = d_x \\hat{x} + d_y \\hat{y}.\n",
    "\\end{equation}\n",
    "\n",
    "Bila\n",
    "\n",
    "\\begin{equation}\\tag{5}\n",
    "\\vec{d} = \\vec{a} - \\vec{b}.\n",
    "\\end{equation}\n",
    "\n",
    "maka\n",
    "\n",
    "\\begin{equation}\\tag{6}\n",
    "\\begin{array}{rcl}\n",
    "d_x & = & a_x - b_x, \\newline\n",
    "d_y & = & a_y - b_y.\n",
    "\\end{array}\n",
    "\\end{equation}"
   ]
  },
  {
   "cell_type": "code",
   "execution_count": 4,
   "id": "66d3b4a9",
   "metadata": {},
   "outputs": [
    {
     "name": "stdout",
     "output_type": "stream",
     "text": [
      "a = (5, 6)\n",
      "b = (-2, 4)\n",
      "d = a - b = (7, 2)\n"
     ]
    }
   ],
   "source": [
    "a = Vect2(5, 6)\n",
    "b = Vect2(-2, 4)\n",
    "d = a - b\n",
    "\n",
    "print(\"a =\", a)\n",
    "print(\"b =\", b)\n",
    "print(\"d = a - b =\", d)"
   ]
  },
  {
   "cell_type": "markdown",
   "id": "d65fea5e",
   "metadata": {},
   "source": [
    "## length of a vector\n",
    "Terdapat\n",
    "\n",
    "\\begin{equation}\\tag{1}\n",
    "\\vec{a} = a_x \\hat{x} + a_y \\hat{y},\n",
    "\\end{equation}\n",
    "\n",
    "yang panjangnya adalah\n",
    "\n",
    "\\begin{equation}\\tag{2}\n",
    "a = |\\vec{a}| = \\sqrt{\\vec{a} \\cdot \\vec{a}} = \\sqrt{a_x^2 + a_y^2}.\n",
    "\\end{equation}"
   ]
  },
  {
   "cell_type": "code",
   "execution_count": 5,
   "id": "e35d532d",
   "metadata": {},
   "outputs": [
    {
     "name": "stdout",
     "output_type": "stream",
     "text": [
      "a = (3, 4)\n",
      "|a| = 5.0\n"
     ]
    }
   ],
   "source": [
    "a = Vect2(3, 4)\n",
    "la = a.len()\n",
    "print(\"a =\", a)\n",
    "print(\"|a| =\", la)"
   ]
  },
  {
   "cell_type": "markdown",
   "id": "90dc8338",
   "metadata": {},
   "source": [
    "## unit vector\n",
    "Terdapat\n",
    "\n",
    "\\begin{equation}\\tag{1}\n",
    "\\vec{a} = a_x \\hat{x} + a_y \\hat{y},\n",
    "\\end{equation}\n",
    "\n",
    "yang vektor satuanny adalah\n",
    "\n",
    "\\begin{equation}\\tag{2}\n",
    "\\hat{a} = \\frac{\\vec{a}}{a}.\n",
    "\\end{equation}"
   ]
  },
  {
   "cell_type": "code",
   "execution_count": 6,
   "id": "0e6e08d2",
   "metadata": {},
   "outputs": [
    {
     "name": "stdout",
     "output_type": "stream",
     "text": [
      "a = (3, 4)\n",
      "a^ = (0.6, 0.8)\n",
      "|a^| = 1.0\n"
     ]
    }
   ],
   "source": [
    "a = Vect2(3, 4)\n",
    "na = a >> 1\n",
    "lna = na.len()\n",
    "print(\"a =\", a)\n",
    "print(\"a^ =\", na)\n",
    "print(\"|a^| =\", lna)"
   ]
  },
  {
   "cell_type": "markdown",
   "id": "c7c41fd9",
   "metadata": {},
   "source": [
    "## dot product\n",
    "Terdapat\n",
    "\n",
    "\\begin{equation}\\tag{2}\n",
    "\\vec{a} = a_x \\hat{x} + a_y \\hat{y},\n",
    "\\end{equation}\n",
    "\n",
    "\\begin{equation}\\tag{3}\n",
    "\\vec{b} = b_x \\hat{x} + b_y \\hat{y},\n",
    "\\end{equation}\n",
    "\n",
    "Bila\n",
    "\n",
    "\\begin{equation}\\tag{4}\n",
    "\\begin{array}{rcl}\n",
    "e & = & \\vec{a} \\cdot \\vec{b}, \\newline\n",
    "f & = & \\vec{b} \\cdot \\vec{a},\n",
    "\\end{array}\n",
    "\\end{equation}\n",
    "\n",
    "maka\n",
    "\n",
    "\\begin{equation}\\tag{5}\n",
    "\\begin{array}{rcl}\n",
    "e & = & a_x b_x + a_y b_y, \\newline\n",
    "f & = & b_x a_x + b_y a_y.\n",
    "\\end{array}\n",
    "\\end{equation}"
   ]
  },
  {
   "cell_type": "code",
   "execution_count": 7,
   "id": "38734d2d",
   "metadata": {},
   "outputs": [
    {
     "name": "stdout",
     "output_type": "stream",
     "text": [
      "a = (1, 2)\n",
      "b = (2, 4)\n",
      "e = a ⋅ b = 10\n",
      "f = b ⋅ a = 10\n"
     ]
    }
   ],
   "source": [
    "a = Vect2(1, 2)\n",
    "b = Vect2(2, 4)\n",
    "e = a | b\n",
    "f = b | a\n",
    "\n",
    "print(\"a =\", a)\n",
    "print(\"b =\", b)\n",
    "print(\"e = a ⋅ b =\", e)\n",
    "print(\"f = b ⋅ a =\", f)\n"
   ]
  }
 ],
 "metadata": {
  "authors": [
   {
    "name": "Sparisoma Viridi"
   }
  ],
  "kernelspec": {
   "display_name": "Python 3 (ipykernel)",
   "language": "python",
   "name": "python3"
  },
  "language_info": {
   "codemirror_mode": {
    "name": "ipython",
    "version": 3
   },
   "file_extension": ".py",
   "mimetype": "text/x-python",
   "name": "python",
   "nbconvert_exporter": "python",
   "pygments_lexer": "ipython3",
   "version": "3.10.6"
  },
  "title": "ipynb_hello_import"
 },
 "nbformat": 4,
 "nbformat_minor": 5
}
