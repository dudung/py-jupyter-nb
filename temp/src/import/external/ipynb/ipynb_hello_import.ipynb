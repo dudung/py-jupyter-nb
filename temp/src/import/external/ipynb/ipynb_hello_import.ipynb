{
 "cells": [
  {
   "cell_type": "markdown",
   "id": "d4e69cf6",
   "metadata": {},
   "source": [
    "# ipynb_hello_import\n",
    "Display 'Hello, World!' message using `ipynb_hello_module` module."
   ]
  },
  {
   "cell_type": "code",
   "execution_count": 1,
   "id": "7b912466",
   "metadata": {},
   "outputs": [],
   "source": [
    "import ipynb.fs.full.hellomodule as hm"
   ]
  },
  {
   "cell_type": "code",
   "execution_count": 2,
   "id": "fb40c9ca",
   "metadata": {},
   "outputs": [
    {
     "name": "stdout",
     "output_type": "stream",
     "text": [
      "Hello, you!\n"
     ]
    }
   ],
   "source": [
    "hm.greeting()"
   ]
  },
  {
   "cell_type": "code",
   "execution_count": 3,
   "id": "b3e14870",
   "metadata": {},
   "outputs": [
    {
     "name": "stdout",
     "output_type": "stream",
     "text": [
      "Hello, Jupyter\n"
     ]
    }
   ],
   "source": [
    "hm.greeting(\"Jupyter\")"
   ]
  }
 ],
 "metadata": {
  "authors": [
   {
    "name": "Sparisoma Viridi"
   }
  ],
  "kernelspec": {
   "display_name": "Python 3 (ipykernel)",
   "language": "python",
   "name": "python3"
  },
  "language_info": {
   "codemirror_mode": {
    "name": "ipython",
    "version": 3
   },
   "file_extension": ".py",
   "mimetype": "text/x-python",
   "name": "python",
   "nbconvert_exporter": "python",
   "pygments_lexer": "ipython3",
   "version": "3.10.6"
  },
  "title": "ipynb_hello_import"
 },
 "nbformat": 4,
 "nbformat_minor": 5
}
