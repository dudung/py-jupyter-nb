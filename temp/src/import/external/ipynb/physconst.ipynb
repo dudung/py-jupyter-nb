{
 "cells": [
  {
   "cell_type": "markdown",
   "id": "d4e69cf6",
   "metadata": {},
   "source": [
    "# physconst\n",
    "Simple module containing some physical constants"
   ]
  },
  {
   "cell_type": "code",
   "execution_count": null,
   "id": "8d05ef79",
   "metadata": {},
   "outputs": [],
   "source": [
    "G = {\n",
    "    'name': \"constant of gravitation\",\n",
    "    'unit': [\n",
    "        { 'm': 3 },\n",
    "        { 's': -2 },\n",
    "        { 'kg': -1 },\n",
    "        { 'mol': 0},\n",
    "        { 'cd': 0},\n",
    "        { 'K': 0},\n",
    "        { 'A': 0}\n",
    "    ],\n",
    "    'value': 6.67384E-11\n",
    "}"
   ]
  },
  {
   "cell_type": "code",
   "execution_count": null,
   "id": "7994101b",
   "metadata": {},
   "outputs": [],
   "source": [
    "c = {\n",
    "    'name': \"speed of light\",\n",
    "    'unit': [\n",
    "        { 'm': 1 },\n",
    "        { 's': -1 },\n",
    "        { 'kg': 0 },\n",
    "        { 'mol': 0},\n",
    "        { 'cd': 0},\n",
    "        { 'K': 0},\n",
    "        { 'A': 0}\n",
    "    ],\n",
    "    'value': 2.99792458E+08\n",
    "}"
   ]
  },
  {
   "cell_type": "code",
   "execution_count": null,
   "id": "c5d0ac94",
   "metadata": {},
   "outputs": [],
   "source": [
    "h = {\n",
    "    'name': \"Planck's constant\",\n",
    "    'unit': [\n",
    "        { 'm': 2 },\n",
    "        { 's': -1 },\n",
    "        { 'kg': 1 },\n",
    "        { 'mol': 0},\n",
    "        { 'cd': 0},\n",
    "        { 'K': 0},\n",
    "        { 'A': 0}\n",
    "    ],\n",
    "    'value': 6.626070040E-34\n",
    "}"
   ]
  },
  {
   "cell_type": "code",
   "execution_count": null,
   "id": "1e074d14",
   "metadata": {},
   "outputs": [],
   "source": [
    "k = {\n",
    "    'name': \"Boltzmann constant\",\n",
    "    'unit': [\n",
    "        { 'm': 2 },\n",
    "        { 's': -2 },\n",
    "        { 'kg': 1 },\n",
    "        { 'mol': 0},\n",
    "        { 'cd': 0},\n",
    "        { 'K': -1},\n",
    "        { 'A': 0}\n",
    "    ],\n",
    "    'value': 1.38064852E-23\n",
    "}"
   ]
  },
  {
   "cell_type": "code",
   "execution_count": null,
   "id": "7797e0ec",
   "metadata": {},
   "outputs": [],
   "source": [
    "F = {\n",
    "    'name': \"Faraday constant\",\n",
    "    'unit': [\n",
    "        { 'm': 0 },\n",
    "        { 's': 1 },\n",
    "        { 'kg': 0 },\n",
    "        { 'mol': -1},\n",
    "        { 'cd': 0},\n",
    "        { 'K': -1},\n",
    "        { 'A': 1}\n",
    "    ],\n",
    "    'value': 9.648533289E+04\n",
    "}"
   ]
  },
  {
   "cell_type": "code",
   "execution_count": null,
   "id": "1ba96b07",
   "metadata": {},
   "outputs": [],
   "source": [
    "Rinf = {\n",
    "    'name': \"Rydberg constant\",\n",
    "    'unit': [\n",
    "        { 'm': 0 },\n",
    "        { 's': 1 },\n",
    "        { 'kg': 0 },\n",
    "        { 'mol': -1},\n",
    "        { 'cd': 0},\n",
    "        { 'K': -1},\n",
    "        { 'A': 1}\n",
    "    ],\n",
    "    'value': 9.648533289E+04\n",
    "}"
   ]
  },
  {
   "cell_type": "code",
   "execution_count": null,
   "id": "211dba7a",
   "metadata": {},
   "outputs": [],
   "source": [
    "sigma = {\n",
    "    'name': \"Stefan-Boltzmann constant\",\n",
    "    'unit': [\n",
    "        { 'm': 0 },\n",
    "        { 's': -3 },\n",
    "        { 'kg': 1 },\n",
    "        { 'mol': 0},\n",
    "        { 'cd': 0},\n",
    "        { 'K': -4},\n",
    "        { 'A': 0}\n",
    "    ],\n",
    "    'value': 5.670367E-08\n",
    "}"
   ]
  },
  {
   "cell_type": "code",
   "execution_count": null,
   "id": "7f764ad8",
   "metadata": {},
   "outputs": [],
   "source": [
    "e = {\n",
    "    'name': \"elementary charge\",\n",
    "    'unit': [\n",
    "        { 'm': 0 },\n",
    "        { 's': 1 },\n",
    "        { 'kg': 0 },\n",
    "        { 'mol': 0},\n",
    "        { 'cd': 0},\n",
    "        { 'K': 0},\n",
    "        { 'A': 1}\n",
    "    ],\n",
    "    'value': 1.6021766208E-19\n",
    "}"
   ]
  }
 ],
 "metadata": {
  "authors": [
   {
    "name": "Sparisoma Viridi"
   }
  ],
  "kernelspec": {
   "display_name": "Python 3 (ipykernel)",
   "language": "python",
   "name": "python3"
  },
  "language_info": {
   "codemirror_mode": {
    "name": "ipython",
    "version": 3
   },
   "file_extension": ".py",
   "mimetype": "text/x-python",
   "name": "python",
   "nbconvert_exporter": "python",
   "pygments_lexer": "ipython3",
   "version": "3.10.4"
  },
  "title": "physconst"
 },
 "nbformat": 4,
 "nbformat_minor": 5
}
