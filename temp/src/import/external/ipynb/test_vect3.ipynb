{
 "cells": [
  {
   "cell_type": "markdown",
   "id": "d4e69cf6",
   "metadata": {},
   "source": [
    "# test_vect3\n",
    "How to use `vect3` module for 3-d vector operation"
   ]
  },
  {
   "cell_type": "code",
   "execution_count": 1,
   "id": "7b912466",
   "metadata": {},
   "outputs": [],
   "source": [
    "from ipynb.fs.full.vect3 import Vect3"
   ]
  },
  {
   "cell_type": "markdown",
   "id": "db0ab1d5",
   "metadata": {},
   "source": [
    "## zero vector\n",
    "\\begin{equation}\\tag{1}\n",
    "\\vec{0} = 0 \\hat{x} + 0 \\hat{y} + 0 \\hat{z}\n",
    "\\end{equation}"
   ]
  },
  {
   "cell_type": "code",
   "execution_count": 2,
   "id": "fb40c9ca",
   "metadata": {},
   "outputs": [
    {
     "name": "stdout",
     "output_type": "stream",
     "text": [
      "(0, 0, 0)\n"
     ]
    }
   ],
   "source": [
    "zero = Vect3()\n",
    "print(zero)"
   ]
  },
  {
   "cell_type": "markdown",
   "id": "b26dae71",
   "metadata": {},
   "source": [
    "## vector addition\n",
    "Terdapat\n",
    "\n",
    "\\begin{equation}\\tag{2}\n",
    "\\vec{a} = a_x \\hat{x} + a_y \\hat{y} + a_z \\hat{z},\n",
    "\\end{equation}\n",
    "\n",
    "\\begin{equation}\\tag{3}\n",
    "\\vec{b} = b_x \\hat{x} + b_y \\hat{y} + b_z \\hat{z},\n",
    "\\end{equation}\n",
    "\n",
    "\\begin{equation}\\tag{4}\n",
    "\\vec{c} = c_x \\hat{x} + c_y \\hat{y} + c_z \\hat{z}.\n",
    "\\end{equation}\n",
    "\n",
    "Bila\n",
    "\n",
    "\\begin{equation}\\tag{5}\n",
    "\\vec{c} = \\vec{a} + \\vec{b}.\n",
    "\\end{equation}\n",
    "\n",
    "maka\n",
    "\n",
    "\\begin{equation}\\tag{6}\n",
    "\\begin{array}{rcl}\n",
    "c_x & = & a_x + b_x, \\newline\n",
    "c_y & = & a_y + b_y.\n",
    "\\end{array}\n",
    "\\end{equation}"
   ]
  },
  {
   "cell_type": "code",
   "execution_count": 3,
   "id": "b1c78f1d",
   "metadata": {},
   "outputs": [
    {
     "name": "stdout",
     "output_type": "stream",
     "text": [
      "a = (3, 4, 5)\n",
      "b = (1, -2, -1)\n",
      "c = a + b = (4, 2, 4)\n"
     ]
    }
   ],
   "source": [
    "a = Vect3(3, 4, 5)\n",
    "b = Vect3(1, -2, -1)\n",
    "c = a + b\n",
    "\n",
    "print(\"a =\", a)\n",
    "print(\"b =\", b)\n",
    "print(\"c = a + b =\", c)"
   ]
  },
  {
   "cell_type": "markdown",
   "id": "3c46bec5",
   "metadata": {},
   "source": [
    "## vector substraction\n",
    "Terdapat\n",
    "\n",
    "\\begin{equation}\\tag{7}\n",
    "\\vec{a} = a_x \\hat{x} + a_y \\hat{y} + a_z \\hat{z},\n",
    "\\end{equation}\n",
    "\n",
    "\\begin{equation}\\tag{8}\n",
    "\\vec{b} = b_x \\hat{x} + b_y \\hat{y} + b_z \\hat{z},\n",
    "\\end{equation}\n",
    "\n",
    "\\begin{equation}\\tag{9}\n",
    "\\vec{d} = d_x \\hat{x} + d_y \\hat{y} + d_z \\hat{z}.\n",
    "\\end{equation}\n",
    "\n",
    "Bila\n",
    "\n",
    "\\begin{equation}\\tag{10}\n",
    "\\vec{d} = \\vec{a} - \\vec{b}.\n",
    "\\end{equation}\n",
    "\n",
    "maka\n",
    "\n",
    "\\begin{equation}\\tag{11}\n",
    "\\begin{array}{rcl}\n",
    "d_x & = & a_x - b_x, \\newline\n",
    "d_y & = & a_y - b_y, \\newline\n",
    "d_z & = & a_z - b_z.\n",
    "\\end{array}\n",
    "\\end{equation}"
   ]
  },
  {
   "cell_type": "code",
   "execution_count": 4,
   "id": "66d3b4a9",
   "metadata": {},
   "outputs": [
    {
     "name": "stdout",
     "output_type": "stream",
     "text": [
      "a = (5, 6, -1)\n",
      "b = (-2, 4, -4)\n",
      "d = a - b = (7, 2, 3)\n"
     ]
    }
   ],
   "source": [
    "a = Vect3(5, 6, -1)\n",
    "b = Vect3(-2, 4, -4)\n",
    "d = a - b\n",
    "\n",
    "print(\"a =\", a)\n",
    "print(\"b =\", b)\n",
    "print(\"d = a - b =\", d)"
   ]
  },
  {
   "cell_type": "markdown",
   "id": "d65fea5e",
   "metadata": {},
   "source": [
    "## length of a vector\n",
    "Terdapat\n",
    "\n",
    "\\begin{equation}\\tag{11}\n",
    "\\vec{a} = a_x \\hat{x} + a_y \\hat{y} + a_z \\hat{z},\n",
    "\\end{equation}\n",
    "\n",
    "yang panjangnya adalah\n",
    "\n",
    "\\begin{equation}\\tag{12}\n",
    "a = |\\vec{a}| = \\sqrt{\\vec{a} \\cdot \\vec{a}} = \\sqrt{a_x^2 + a_y^2 + a_z^2}.\n",
    "\\end{equation}"
   ]
  },
  {
   "cell_type": "code",
   "execution_count": 5,
   "id": "e35d532d",
   "metadata": {},
   "outputs": [
    {
     "name": "stdout",
     "output_type": "stream",
     "text": [
      "a = (3, 4, 12)\n",
      "|a| = 13.0\n"
     ]
    }
   ],
   "source": [
    "a = Vect3(3, 4, 12)\n",
    "la = a.len()\n",
    "print(\"a =\", a)\n",
    "print(\"|a| =\", la)"
   ]
  },
  {
   "cell_type": "markdown",
   "id": "90dc8338",
   "metadata": {},
   "source": [
    "## unit vector\n",
    "Terdapat\n",
    "\n",
    "\\begin{equation}\\tag{13}\n",
    "\\vec{a} = a_x \\hat{x} + a_y \\hat{y} + a_z \\hat{z},\n",
    "\\end{equation}\n",
    "\n",
    "yang vektor satuanny adalah\n",
    "\n",
    "\\begin{equation}\\tag{14}\n",
    "\\hat{a} = \\frac{\\vec{a}}{a}.\n",
    "\\end{equation}"
   ]
  },
  {
   "cell_type": "code",
   "execution_count": 6,
   "id": "0e6e08d2",
   "metadata": {},
   "outputs": [
    {
     "name": "stdout",
     "output_type": "stream",
     "text": [
      "a = (1, 2, 2)\n",
      "a^ = (0.3333333333333333, 0.6666666666666666, 0.6666666666666666)\n",
      "|a^| = 1.0\n"
     ]
    }
   ],
   "source": [
    "a = Vect3(1, 2, 2)\n",
    "na = a >> 1\n",
    "lna = na.len()\n",
    "print(\"a =\", a)\n",
    "print(\"a^ =\", na)\n",
    "print(\"|a^| =\", lna)"
   ]
  },
  {
   "cell_type": "markdown",
   "id": "c7c41fd9",
   "metadata": {},
   "source": [
    "## dot product\n",
    "Terdapat\n",
    "\n",
    "\\begin{equation}\\tag{15}\n",
    "\\vec{a} = a_x \\hat{x} + a_y \\hat{y} + a_z \\hat{z},\n",
    "\\end{equation}\n",
    "\n",
    "\\begin{equation}\\tag{16}\n",
    "\\vec{b} = b_x \\hat{x} + b_y \\hat{y} + b_z \\hat{z},\n",
    "\\end{equation}\n",
    "\n",
    "Bila\n",
    "\n",
    "\\begin{equation}\\tag{17}\n",
    "\\begin{array}{rcl}\n",
    "e & = & \\vec{a} \\cdot \\vec{b}, \\newline\n",
    "f & = & \\vec{b} \\cdot \\vec{a},\n",
    "\\end{array}\n",
    "\\end{equation}\n",
    "\n",
    "maka\n",
    "\n",
    "\\begin{equation}\\tag{18}\n",
    "\\begin{array}{rcl}\n",
    "e & = & a_x b_x + a_y b_y + a_z b_z, \\newline\n",
    "f & = & b_x a_x + b_y a_y + b_z a_z.\n",
    "\\end{array}\n",
    "\\end{equation}"
   ]
  },
  {
   "cell_type": "code",
   "execution_count": 7,
   "id": "38734d2d",
   "metadata": {},
   "outputs": [
    {
     "name": "stdout",
     "output_type": "stream",
     "text": [
      "a = (1, 2, -3)\n",
      "b = (2, -1, -3)\n",
      "e = a ⋅ b = 9\n",
      "f = b ⋅ a = 9\n"
     ]
    }
   ],
   "source": [
    "a = Vect3(1, 2, -3)\n",
    "b = Vect3(2, -1, -3)\n",
    "e = a | b\n",
    "f = b | a\n",
    "\n",
    "print(\"a =\", a)\n",
    "print(\"b =\", b)\n",
    "print(\"e = a ⋅ b =\", e)\n",
    "print(\"f = b ⋅ a =\", f)\n"
   ]
  },
  {
   "cell_type": "markdown",
   "id": "99c8f54c",
   "metadata": {},
   "source": [
    "## cross product\n",
    "Terdapat\n",
    "\n",
    "\\begin{equation}\\tag{20}\n",
    "\\vec{a} = a_x \\hat{x} + a_y \\hat{y} + a_z \\hat{z},\n",
    "\\end{equation}\n",
    "\n",
    "\\begin{equation}\\tag{21}\n",
    "\\vec{b} = b_x \\hat{x} + b_y \\hat{y} + b_z \\hat{z},\n",
    "\\end{equation}\n",
    "\n",
    "\\begin{equation}\\tag{22}\n",
    "\\vec{d} = d_x \\hat{x} + d_y \\hat{y} + d_z \\hat{z}.\n",
    "\\end{equation}\n",
    "\n",
    "Bila\n",
    "\n",
    "\\begin{equation}\\tag{23}\n",
    "\\vec{g} = \\vec{a} \\times \\vec{b}.\n",
    "\\end{equation}\n",
    "\n",
    "maka\n",
    "\n",
    "\\begin{equation}\\tag{24}\n",
    "\\begin{array}{rcl}\n",
    "g_x & = & a_y b_z - a_z b_y, \\newline\n",
    "g_y & = & a_z b_x - a_x b_z, \\newline\n",
    "g_z & = & a_x b_y - a_y b_x.\n",
    "\\end{array}\n",
    "\\end{equation}"
   ]
  },
  {
   "cell_type": "code",
   "execution_count": 8,
   "id": "3b9ed71d",
   "metadata": {},
   "outputs": [
    {
     "name": "stdout",
     "output_type": "stream",
     "text": [
      "a = (5, 6, -1)\n",
      "b = (-2, 4, -4)\n",
      "g = a × b = (-20, 22, 32)\n"
     ]
    }
   ],
   "source": [
    "a = Vect3(5, 6, -1)\n",
    "b = Vect3(-2, 4, -4)\n",
    "g = a * b\n",
    "\n",
    "print(\"a =\", a)\n",
    "print(\"b =\", b)\n",
    "print(\"g = a × b =\", g)"
   ]
  },
  {
   "cell_type": "markdown",
   "id": "4ff9f76e",
   "metadata": {},
   "source": [
    "## negative\n",
    "Terdapat\n",
    "\n",
    "\\begin{equation}\\tag{25}\n",
    "\\vec{a} = a_x \\hat{x} + a_y \\hat{y} + a_z \\hat{z},\n",
    "\\end{equation}\n",
    "\n",
    "\\begin{equation}\\tag{26}\n",
    "\\vec{b} = b_x \\hat{x} + b_y \\hat{y} + b_z \\hat{z}.\n",
    "\\end{equation}\n",
    "\n",
    "Bila\n",
    "\n",
    "\\begin{equation}\\tag{27}\n",
    "\\vec{b} = - \\vec{a},\n",
    "\\end{equation}\n",
    "\n",
    "maka\n",
    "\n",
    "\\begin{equation}\\tag{24}\n",
    "\\begin{array}{rcl}\n",
    "b_x & = & -a_x, \\newline\n",
    "b_y & = & -a_y, \\newline\n",
    "b_z & = & -a_z.\n",
    "\\end{array}\n",
    "\\end{equation}"
   ]
  },
  {
   "cell_type": "code",
   "execution_count": 9,
   "id": "20e5a50f",
   "metadata": {},
   "outputs": [
    {
     "name": "stdout",
     "output_type": "stream",
     "text": [
      "a = (5, 6, -1)\n",
      "b = -a = (-5, -6, 1)\n"
     ]
    }
   ],
   "source": [
    "a = Vect3(5, 6, -1)\n",
    "b = -a\n",
    "\n",
    "print(\"a =\", a)\n",
    "print(\"b = -a =\", b)\n"
   ]
  }
 ],
 "metadata": {
  "authors": [
   {
    "name": "Sparisoma Viridi"
   }
  ],
  "kernelspec": {
   "display_name": "Python 3 (ipykernel)",
   "language": "python",
   "name": "python3"
  },
  "language_info": {
   "codemirror_mode": {
    "name": "ipython",
    "version": 3
   },
   "file_extension": ".py",
   "mimetype": "text/x-python",
   "name": "python",
   "nbconvert_exporter": "python",
   "pygments_lexer": "ipython3",
   "version": "3.9.12"
  },
  "title": "test_vect3"
 },
 "nbformat": 4,
 "nbformat_minor": 5
}
