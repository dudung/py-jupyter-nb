{
 "cells": [
  {
   "cell_type": "markdown",
   "id": "d4e69cf6",
   "metadata": {},
   "source": [
    "# hellomodule\n",
    "Simple moudule for displaying 'Hello, World!' message."
   ]
  },
  {
   "cell_type": "code",
   "execution_count": null,
   "id": "d368b309",
   "metadata": {},
   "outputs": [],
   "source": [
    "def greeting(value={}):\n",
    "    if value is greeting.__defaults__[0]:\n",
    "        print('Hello, you!')\n",
    "    else:\n",
    "        print('Hello,', value)"
   ]
  }
 ],
 "metadata": {
  "authors": [
   {
    "name": "Sparisoma Viridi"
   }
  ],
  "kernelspec": {
   "display_name": "Python 3 (ipykernel)",
   "language": "python",
   "name": "python3"
  },
  "language_info": {
   "codemirror_mode": {
    "name": "ipython",
    "version": 3
   },
   "file_extension": ".py",
   "mimetype": "text/x-python",
   "name": "python",
   "nbconvert_exporter": "python",
   "pygments_lexer": "ipython3",
   "version": "3.10.6"
  },
  "title": "ipynb_hello_module"
 },
 "nbformat": 4,
 "nbformat_minor": 5
}
