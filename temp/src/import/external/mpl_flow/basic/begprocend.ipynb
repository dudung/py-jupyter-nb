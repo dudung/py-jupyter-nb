{
 "cells": [
  {
   "cell_type": "markdown",
   "id": "cca11c7c",
   "metadata": {},
   "source": [
    "# begprocend\n",
    "Simple example to use `mpl-flow` in a Jupyter notebook."
   ]
  },
  {
   "cell_type": "code",
   "execution_count": 1,
   "id": "0630ae54",
   "metadata": {},
   "outputs": [
    {
     "data": {
      "image/png": "[encoded data removed]",
      "text/plain": [
       "<Figure size 144x144 with 1 Axes>"
      ]
     },
     "metadata": {
      "needs_background": "light"
     },
     "output_type": "display_data"
    }
   ],
   "source": [
    "import matplotlib.pyplot as plt\n",
    "from mpl_flow import Flow\n",
    "\n",
    "fig, axes = plt.subplots(1, 1, figsize=(2, 2))\n",
    "ax1 = axes\n",
    "f = Flow(ax=ax1)\n",
    "f.node(label='Begin', bbox=dict(boxstyle='circle', fc='#8f8'))\n",
    "f.node('b', label='Process', travel='s', bbox=dict(fc='#88f'))\n",
    "f.node(label='End', travel='s', startpoint='b', bbox=dict(boxstyle='circle', fc='#f88'))\n",
    "plt.show()"
   ]
  },
  {
   "cell_type": "code",
   "execution_count": null,
   "id": "e5d995cc",
   "metadata": {},
   "outputs": [],
   "source": []
  }
 ],
 "metadata": {
  "authors": [
   {
    "name": "Sparisoma Viridi"
   }
  ],
  "kernelspec": {
   "display_name": "Python 3 (ipykernel)",
   "language": "python",
   "name": "python3"
  },
  "language_info": {
   "codemirror_mode": {
    "name": "ipython",
    "version": 3
   },
   "file_extension": ".py",
   "mimetype": "text/x-python",
   "name": "python",
   "nbconvert_exporter": "python",
   "pygments_lexer": "ipython3",
   "version": "3.10.10"
  },
  "title": "begprocend"
 },
 "nbformat": 4,
 "nbformat_minor": 5
}
