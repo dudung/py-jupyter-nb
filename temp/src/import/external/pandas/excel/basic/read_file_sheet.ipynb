{
 "cells": [
  {
   "cell_type": "markdown",
   "id": "cca11c7c",
   "metadata": {},
   "source": [
    "# read_file_sheet\n",
    "Using pandas read excel file with multiple sheets"
   ]
  },
  {
   "cell_type": "markdown",
   "id": "1f9ee125",
   "metadata": {},
   "source": [
    "`sheets_2_cols_2_3.xlsx`\n",
    "\n",
    "sheet | xy | abc\n",
    ":-: | :-: | :-:\n",
    "content | ![](image/sheets_2_cols_2_3_s_xy.png) | ![](image/sheets_2_cols_2_3_s_abc.png)"
   ]
  },
  {
   "cell_type": "code",
   "execution_count": 1,
   "id": "b0c0f6a3",
   "metadata": {},
   "outputs": [
    {
     "name": "stdout",
     "output_type": "stream",
     "text": [
      "   x   y\n",
      "0  0   5\n",
      "1  1   8\n",
      "2  2  11\n",
      "3  3  14\n",
      "4  4  17\n",
      "5  5  20\n"
     ]
    }
   ],
   "source": [
    "import pandas\n",
    "df = pandas.read_excel('data/sheets_2_cols_2_3.xlsx', sheet_name='xy')\n",
    "print(df)"
   ]
  },
  {
   "cell_type": "code",
   "execution_count": 2,
   "id": "1b704ac6",
   "metadata": {},
   "outputs": [
    {
     "name": "stdout",
     "output_type": "stream",
     "text": [
      "   a  b  c\n",
      "0  0  1  0\n",
      "1  1  1  0\n",
      "2  2  0  0\n",
      "3  3  0  1\n",
      "4  4  1  1\n",
      "5  5  1  1\n"
     ]
    }
   ],
   "source": [
    "import pandas\n",
    "df = pandas.read_excel('data/sheets_2_cols_2_3.xlsx', sheet_name='abc')\n",
    "print(df)"
   ]
  },
  {
   "cell_type": "code",
   "execution_count": null,
   "id": "61c54236",
   "metadata": {},
   "outputs": [],
   "source": []
  }
 ],
 "metadata": {
  "authors": [
   {
    "name": "Sparisoma Viridi"
   }
  ],
  "kernelspec": {
   "display_name": "Python 3 (ipykernel)",
   "language": "python",
   "name": "python3"
  },
  "language_info": {
   "codemirror_mode": {
    "name": "ipython",
    "version": 3
   },
   "file_extension": ".py",
   "mimetype": "text/x-python",
   "name": "python",
   "nbconvert_exporter": "python",
   "pygments_lexer": "ipython3",
   "version": "3.10.9"
  },
  "title": "read_file_sheet"
 },
 "nbformat": 4,
 "nbformat_minor": 5
}
