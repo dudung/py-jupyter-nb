{
 "cells": [
  {
   "cell_type": "markdown",
   "id": "cca11c7c",
   "metadata": {},
   "source": [
    "# wr_file_sheets_append\n",
    "Write and read excel file using pandas, append new sheet"
   ]
  },
  {
   "cell_type": "markdown",
   "id": "4369651a",
   "metadata": {},
   "source": [
    "## assure no file"
   ]
  },
  {
   "cell_type": "code",
   "execution_count": 1,
   "id": "762a49e0",
   "metadata": {},
   "outputs": [
    {
     "name": "stdout",
     "output_type": "stream",
     "text": [
      "data/sheets_wr.xlsx exists\n",
      "data/sheets_wr.xlsx is deleted\n"
     ]
    }
   ],
   "source": [
    "filename = 'data/sheets_wr.xlsx'\n",
    "\n",
    "import os\n",
    "if os.path.exists(filename):\n",
    "    print(filename, \"exists\")\n",
    "    os.remove(filename)\n",
    "    print(filename, \"is deleted\")\n",
    "else:\n",
    "    print(filename, \"does not exist\")"
   ]
  },
  {
   "cell_type": "markdown",
   "id": "d270ce97",
   "metadata": {},
   "source": [
    "## create initial dataframe"
   ]
  },
  {
   "cell_type": "code",
   "execution_count": 2,
   "id": "33cf722f",
   "metadata": {},
   "outputs": [],
   "source": [
    "i = 1\n",
    "import pandas as pd"
   ]
  },
  {
   "cell_type": "code",
   "execution_count": 3,
   "id": "5ef8d9db",
   "metadata": {
    "scrolled": true
   },
   "outputs": [
    {
     "name": "stdout",
     "output_type": "stream",
     "text": [
      "content of data1 is:\n",
      "    x1  y1\n",
      "0    0  25\n",
      "1    1  16\n",
      "2    2   9\n",
      "3    3   4\n",
      "4    4   1\n",
      "5    5   0\n",
      "6    6   1\n",
      "7    7   4\n",
      "8    8   9\n",
      "9    9  16\n",
      "10  10  25\n"
     ]
    }
   ],
   "source": [
    "# create initial dataframe\n",
    "h1 = ['x1', 'y1']\n",
    "c1 = [*range(0, 10 + 1)]\n",
    "c2 = [(i-5)**2 for i in c1]\n",
    "df1 = pd.DataFrame(list(zip(c1, c2)), columns=h1)\n",
    "s1 = f\"data{i}\"\n",
    "print(\"content of\", s1, \"is:\")\n",
    "print(df1)"
   ]
  },
  {
   "cell_type": "markdown",
   "id": "ca3fe3b2",
   "metadata": {},
   "source": [
    "## write dataframe to file"
   ]
  },
  {
   "cell_type": "code",
   "execution_count": 4,
   "id": "0e22ae79",
   "metadata": {
    "scrolled": false
   },
   "outputs": [],
   "source": [
    "# create new file\n",
    "with pd.ExcelWriter(filename) as writer:\n",
    "    df1.to_excel(writer, sheet_name=s1, index=False)"
   ]
  },
  {
   "cell_type": "markdown",
   "id": "82c3f56c",
   "metadata": {},
   "source": [
    "`data/sheets_wr.xlsx`\n",
    "\n",
    "![](image/sheets_append_1.png)"
   ]
  },
  {
   "cell_type": "markdown",
   "id": "7dc07d2c",
   "metadata": {},
   "source": [
    "## read dataframe from file"
   ]
  },
  {
   "cell_type": "code",
   "execution_count": 5,
   "id": "9a9badef",
   "metadata": {},
   "outputs": [
    {
     "name": "stdout",
     "output_type": "stream",
     "text": [
      "    x1  y1\n",
      "0    0  25\n",
      "1    1  16\n",
      "2    2   9\n",
      "3    3   4\n",
      "4    4   1\n",
      "5    5   0\n",
      "6    6   1\n",
      "7    7   4\n",
      "8    8   9\n",
      "9    9  16\n",
      "10  10  25\n"
     ]
    }
   ],
   "source": [
    "# read previous saved file\n",
    "df1r = pd.read_excel(filename, sheet_name=s1)\n",
    "print(df1r)"
   ]
  },
  {
   "cell_type": "markdown",
   "id": "2fefc522",
   "metadata": {},
   "source": [
    "## process previous dataframe"
   ]
  },
  {
   "cell_type": "code",
   "execution_count": 6,
   "id": "89bde010",
   "metadata": {},
   "outputs": [
    {
     "name": "stdout",
     "output_type": "stream",
     "text": [
      "content of data2 is:\n",
      "    x2  y2\n",
      "0    0   0\n",
      "1    1   0\n",
      "2    2   0\n",
      "3    3   4\n",
      "4    4   1\n",
      "5    5   0\n",
      "6    6   1\n",
      "7    7   4\n",
      "8    8   0\n",
      "9    9   0\n",
      "10  10   0\n"
     ]
    }
   ],
   "source": [
    "# process previous dataframe to new dataframe\n",
    "i = 2\n",
    "x1r = df1r['x1'].tolist()\n",
    "y1r = df1r['y1'].tolist()\n",
    "\n",
    "h2 = ['x2', 'y2']\n",
    "c1 = [i for i in x1r]\n",
    "c2 = [i if i < 5 else 0 for i in y1r]\n",
    "df2 = pd.DataFrame(list(zip(c1, c2)), columns=h2)\n",
    "s2 = f\"data{i}\"\n",
    "print(\"content of\", s2, \"is:\")\n",
    "print(df2)"
   ]
  },
  {
   "cell_type": "markdown",
   "id": "ccd184d4",
   "metadata": {},
   "source": [
    "## write processed result to previous file"
   ]
  },
  {
   "cell_type": "code",
   "execution_count": 7,
   "id": "b534be0c",
   "metadata": {},
   "outputs": [],
   "source": [
    "# create new file\n",
    "with pd.ExcelWriter(filename, mode='a') as writer:\n",
    "    df2.to_excel(writer, sheet_name=s2, index=False)"
   ]
  },
  {
   "cell_type": "markdown",
   "id": "03a87cf0",
   "metadata": {},
   "source": [
    "`data/sheets_wr.xlsx`\n",
    "\n",
    "![](image/sheets_append_2.png)"
   ]
  },
  {
   "cell_type": "code",
   "execution_count": null,
   "id": "4b41e068",
   "metadata": {},
   "outputs": [],
   "source": []
  }
 ],
 "metadata": {
  "authors": [
   {
    "name": "Sparisoma Viridi"
   }
  ],
  "kernelspec": {
   "display_name": "Python 3 (ipykernel)",
   "language": "python",
   "name": "python3"
  },
  "language_info": {
   "codemirror_mode": {
    "name": "ipython",
    "version": 3
   },
   "file_extension": ".py",
   "mimetype": "text/x-python",
   "name": "python",
   "nbconvert_exporter": "python",
   "pygments_lexer": "ipython3",
   "version": "3.10.9"
  },
  "title": "wr_file_sheets_append"
 },
 "nbformat": 4,
 "nbformat_minor": 5
}
