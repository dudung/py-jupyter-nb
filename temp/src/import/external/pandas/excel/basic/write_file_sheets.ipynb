{
 "cells": [
  {
   "cell_type": "markdown",
   "id": "cca11c7c",
   "metadata": {},
   "source": [
    "# write_file_sheets\n",
    "Write excel file using pandas to some sheets"
   ]
  },
  {
   "cell_type": "markdown",
   "id": "4369651a",
   "metadata": {},
   "source": [
    "## create dataframe from list"
   ]
  },
  {
   "cell_type": "code",
   "execution_count": 1,
   "id": "5ef8d9db",
   "metadata": {},
   "outputs": [
    {
     "name": "stdout",
     "output_type": "stream",
     "text": [
      "   x  y\n",
      "0  0  8\n",
      "1  1  4\n",
      "2  2  3\n",
      "3  3  3\n",
      "4  4  4\n",
      "5  5  8\n",
      "\n",
      "   x  z\n",
      "0  0  3\n",
      "1  1  4\n",
      "2  2  8\n",
      "3  3  8\n",
      "4  4  4\n",
      "5  5  3\n"
     ]
    }
   ],
   "source": [
    "import pandas as pd\n",
    "\n",
    "# create lists for 1st sheet\n",
    "headers_1 = ['x', 'y']\n",
    "col_1_1 = [0, 1, 2, 3, 4, 5]\n",
    "col_1_2 = [8, 4, 3, 3, 4, 8]\n",
    "\n",
    "# create 1st dataframe\n",
    "df_1 = pd.DataFrame(list(zip(col_1_1, col_1_2)), columns=headers_1)\n",
    "print(df_1)\n",
    "\n",
    "print()\n",
    "\n",
    "# create lists for 2nd sheet\n",
    "headers_1 = ['x', 'z']\n",
    "col_2_1 = [0, 1, 2, 3, 4, 5]\n",
    "col_2_2 = [3, 4, 8, 8, 4, 3]\n",
    "\n",
    "# create 2nd dataframe\n",
    "df_2 = pd.DataFrame(list(zip(col_2_1, col_2_2)), columns=headers_1)\n",
    "print(df_2)"
   ]
  },
  {
   "cell_type": "markdown",
   "id": "ca3fe3b2",
   "metadata": {},
   "source": [
    "## write dataframe to file"
   ]
  },
  {
   "cell_type": "code",
   "execution_count": 2,
   "id": "0e22ae79",
   "metadata": {
    "scrolled": false
   },
   "outputs": [
    {
     "name": "stdout",
     "output_type": "stream",
     "text": [
      "data/xyz_data.xlsx exists\n"
     ]
    }
   ],
   "source": [
    "import pandas as pd\n",
    "\n",
    "filename = \"data/xyz_data.xlsx\"\n",
    "\n",
    "with pd.ExcelWriter(filename) as writer:\n",
    "    df_1.to_excel(writer, sheet_name=\"xy\")\n",
    "    df_2.to_excel(writer, sheet_name=\"xz\")\n",
    "\n",
    "import os\n",
    "if os.path.exists(filename):\n",
    "    print(filename, \"exists\")\n",
    "else:\n",
    "    print(filename, \"does not exist\")"
   ]
  },
  {
   "cell_type": "markdown",
   "id": "bd53a690",
   "metadata": {},
   "source": [
    "## result\n",
    "`data/xyz_data.xlsx`\n",
    "\n",
    "sheet | xy | xz\n",
    ":-: | :-: | :-:\n",
    "content | ![](image/xyz_data_s_xy.png) | ![](image/xyz_data_s_xz.png)"
   ]
  },
  {
   "cell_type": "code",
   "execution_count": null,
   "id": "56a04f0d",
   "metadata": {},
   "outputs": [],
   "source": []
  }
 ],
 "metadata": {
  "authors": [
   {
    "name": "Sparisoma Viridi"
   }
  ],
  "kernelspec": {
   "display_name": "Python 3 (ipykernel)",
   "language": "python",
   "name": "python3"
  },
  "language_info": {
   "codemirror_mode": {
    "name": "ipython",
    "version": 3
   },
   "file_extension": ".py",
   "mimetype": "text/x-python",
   "name": "python",
   "nbconvert_exporter": "python",
   "pygments_lexer": "ipython3",
   "version": "3.10.9"
  },
  "title": "write_file_sheets"
 },
 "nbformat": 4,
 "nbformat_minor": 5
}
