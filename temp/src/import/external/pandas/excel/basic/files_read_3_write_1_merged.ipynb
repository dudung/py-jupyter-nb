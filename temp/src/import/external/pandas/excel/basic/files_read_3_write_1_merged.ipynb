{
 "cells": [
  {
   "cell_type": "markdown",
   "id": "cca11c7c",
   "metadata": {},
   "source": [
    "# files_read_3_write_1_merged\n",
    "Read 3 excel files and write 1 one merged using pandas"
   ]
  },
  {
   "cell_type": "markdown",
   "id": "4600d06f",
   "metadata": {},
   "source": [
    "## check files existence"
   ]
  },
  {
   "cell_type": "code",
   "execution_count": 1,
   "id": "ebb0505f",
   "metadata": {},
   "outputs": [
    {
     "name": "stdout",
     "output_type": "stream",
     "text": [
      "data/data_x1.xlsx exists\n",
      "data/data_x2.xlsx exists\n",
      "data/data_x3.xlsx exists\n"
     ]
    }
   ],
   "source": [
    "fns = [\n",
    "    'data/data_x1.xlsx',\n",
    "    'data/data_x2.xlsx',\n",
    "    'data/data_x3.xlsx'\n",
    "]\n",
    "\n",
    "import os\n",
    "for fn in fns:\n",
    "    if os.path.exists(fn):\n",
    "        print(fn, \"exists\")\n",
    "    else:\n",
    "        print(fn, \"does not exist\")"
   ]
  },
  {
   "cell_type": "markdown",
   "id": "f8ab1b72",
   "metadata": {},
   "source": [
    "## read dataframe from file then convert to list"
   ]
  },
  {
   "cell_type": "code",
   "execution_count": 2,
   "id": "bc1e3112",
   "metadata": {},
   "outputs": [],
   "source": [
    "h = ['x1', 'x2', 'x3']\n",
    "x = []\n",
    "\n",
    "import pandas as pd\n",
    "\n",
    "for i in range(len(fns)):\n",
    "    df = pd.read_excel(fns[i])\n",
    "    xx = df[h[i]].tolist()\n",
    "    x.append(xx)"
   ]
  },
  {
   "cell_type": "markdown",
   "id": "a491ca45",
   "metadata": {},
   "source": [
    "file | `data_x1.xlsx` | `data_x2.xlsx` | `data_x3.xlsx`\n",
    ":-: | :-: | :-: | :-:\n",
    "**content** | ![](image/data_x1.png) | ![](image/data_x2.png) | ![](image/data_x3.png)"
   ]
  },
  {
   "cell_type": "markdown",
   "id": "071cec3a",
   "metadata": {},
   "source": [
    "## merge lists to dataframe and write to file"
   ]
  },
  {
   "cell_type": "code",
   "execution_count": 3,
   "id": "fd963e0f",
   "metadata": {},
   "outputs": [],
   "source": [
    "df = pd.DataFrame(list(zip(x[0], x[1], x[2])), columns=h)\n",
    "df.to_excel('data/data_x123.xlsx', index=False)"
   ]
  },
  {
   "cell_type": "markdown",
   "id": "fd0774d8",
   "metadata": {},
   "source": [
    "file | `data_x123.xlsx`\n",
    ":-: | :-:\n",
    "**content** | ![](image/data_x123.png)"
   ]
  },
  {
   "cell_type": "code",
   "execution_count": null,
   "id": "aded9ed8",
   "metadata": {},
   "outputs": [],
   "source": []
  }
 ],
 "metadata": {
  "authors": [
   {
    "name": "Sparisoma Viridi"
   }
  ],
  "kernelspec": {
   "display_name": "Python 3 (ipykernel)",
   "language": "python",
   "name": "python3"
  },
  "language_info": {
   "codemirror_mode": {
    "name": "ipython",
    "version": 3
   },
   "file_extension": ".py",
   "mimetype": "text/x-python",
   "name": "python",
   "nbconvert_exporter": "python",
   "pygments_lexer": "ipython3",
   "version": "3.10.9"
  },
  "title": "files_read_3_write_1_merged"
 },
 "nbformat": 4,
 "nbformat_minor": 5
}
