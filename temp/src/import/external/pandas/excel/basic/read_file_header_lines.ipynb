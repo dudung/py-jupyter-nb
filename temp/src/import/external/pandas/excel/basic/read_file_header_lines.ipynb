{
 "cells": [
  {
   "cell_type": "markdown",
   "id": "cca11c7c",
   "metadata": {},
   "source": [
    "# read_file_sheet_header_lines\n",
    "Using pandas read excel file with varios header lines"
   ]
  },
  {
   "cell_type": "markdown",
   "id": "1f9ee125",
   "metadata": {},
   "source": [
    "`sheets_4_various_header_lines.xlsx`\n",
    "\n",
    "sheet | xy | xy12 | empty\n",
    ":-: | :-: | :-: | :-:\n",
    "content | ![](image/sheets_4_various_header_lines_s_xy.png) | ![](image/sheets_4_various_header_lines_s_xy12.png) | ![](image/sheets_4_various_header_lines_s_empty.png)"
   ]
  },
  {
   "cell_type": "code",
   "execution_count": 1,
   "id": "b0c0f6a3",
   "metadata": {},
   "outputs": [
    {
     "name": "stdout",
     "output_type": "stream",
     "text": [
      "   x   y\n",
      "0  0   5\n",
      "1  1   8\n",
      "2  2  11\n",
      "3  3  14\n",
      "4  4  17\n",
      "5  5  20\n"
     ]
    }
   ],
   "source": [
    "import pandas\n",
    "df = pandas.read_excel(\n",
    "    'data/sheets_4_various_header_lines.xlsx',\n",
    "    sheet_name='xy'\n",
    ")\n",
    "print(df)"
   ]
  },
  {
   "cell_type": "code",
   "execution_count": 2,
   "id": "1b704ac6",
   "metadata": {},
   "outputs": [
    {
     "name": "stdout",
     "output_type": "stream",
     "text": [
      "  input output Unnamed: 2\n",
      "0     x     y1         y2\n",
      "1     0      1          0\n",
      "2     1      1          0\n",
      "3     2      0          0\n",
      "4     3      0          1\n",
      "5     4      1          1\n",
      "6     5      1          1\n"
     ]
    }
   ],
   "source": [
    "import pandas\n",
    "df = pandas.read_excel(\n",
    "    'data/sheets_4_various_header_lines.xlsx',\n",
    "    sheet_name='xy12'\n",
    ")\n",
    "print(df)"
   ]
  },
  {
   "cell_type": "code",
   "execution_count": 3,
   "id": "61c54236",
   "metadata": {},
   "outputs": [
    {
     "name": "stdout",
     "output_type": "stream",
     "text": [
      "   x  y1  y2\n",
      "0  0   1   0\n",
      "1  1   1   0\n",
      "2  2   0   0\n",
      "3  3   0   1\n",
      "4  4   1   1\n",
      "5  5   1   1\n"
     ]
    }
   ],
   "source": [
    "import pandas\n",
    "df = pandas.read_excel(\n",
    "    'data/sheets_4_various_header_lines.xlsx',\n",
    "    sheet_name='xy12',\n",
    "    header=1\n",
    ")\n",
    "print(df)"
   ]
  },
  {
   "cell_type": "code",
   "execution_count": 4,
   "id": "5920bd39",
   "metadata": {},
   "outputs": [
    {
     "name": "stdout",
     "output_type": "stream",
     "text": [
      "   1  0\n",
      "0  2  0\n",
      "1  3  1\n",
      "2  4  0\n",
      "3  5  0\n"
     ]
    }
   ],
   "source": [
    "import pandas\n",
    "df = pandas.read_excel(\n",
    "    'data/sheets_4_various_header_lines.xlsx',\n",
    "    sheet_name='empty',\n",
    ")\n",
    "print(df)"
   ]
  },
  {
   "cell_type": "code",
   "execution_count": 5,
   "id": "a14008c5",
   "metadata": {},
   "outputs": [
    {
     "name": "stdout",
     "output_type": "stream",
     "text": [
      "   0  1\n",
      "0  1  0\n",
      "1  2  0\n",
      "2  3  1\n",
      "3  4  0\n",
      "4  5  0\n"
     ]
    }
   ],
   "source": [
    "import pandas\n",
    "df = pandas.read_excel(\n",
    "    'data/sheets_4_various_header_lines.xlsx',\n",
    "    sheet_name='empty',\n",
    "    header=None\n",
    ")\n",
    "print(df)"
   ]
  },
  {
   "cell_type": "code",
   "execution_count": null,
   "id": "53a4abe1",
   "metadata": {},
   "outputs": [],
   "source": []
  }
 ],
 "metadata": {
  "authors": [
   {
    "name": "Sparisoma Viridi"
   }
  ],
  "kernelspec": {
   "display_name": "Python 3 (ipykernel)",
   "language": "python",
   "name": "python3"
  },
  "language_info": {
   "codemirror_mode": {
    "name": "ipython",
    "version": 3
   },
   "file_extension": ".py",
   "mimetype": "text/x-python",
   "name": "python",
   "nbconvert_exporter": "python",
   "pygments_lexer": "ipython3",
   "version": "3.10.9"
  },
  "title": "read_file_header_lines"
 },
 "nbformat": 4,
 "nbformat_minor": 5
}
