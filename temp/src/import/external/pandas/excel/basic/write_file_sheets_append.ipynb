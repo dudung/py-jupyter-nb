{
 "cells": [
  {
   "cell_type": "markdown",
   "id": "cca11c7c",
   "metadata": {},
   "source": [
    "# write_file_sheets_append\n",
    "Write excel file using pandas to append new sheet"
   ]
  },
  {
   "cell_type": "markdown",
   "id": "4369651a",
   "metadata": {},
   "source": [
    "## assure no file"
   ]
  },
  {
   "cell_type": "code",
   "execution_count": 1,
   "id": "762a49e0",
   "metadata": {},
   "outputs": [
    {
     "name": "stdout",
     "output_type": "stream",
     "text": [
      "data/sheets_append.xlsx exists\n",
      "data/sheets_append.xlsx is deleted\n"
     ]
    }
   ],
   "source": [
    "filename = 'data/sheets_append.xlsx'\n",
    "\n",
    "import os\n",
    "if os.path.exists(filename):\n",
    "    print(filename, \"exists\")\n",
    "    os.remove(filename)\n",
    "    print(filename, \"is deleted\")\n",
    "else:\n",
    "    print(filename, \"does not exist\")"
   ]
  },
  {
   "cell_type": "markdown",
   "id": "d270ce97",
   "metadata": {},
   "source": [
    "## create 4 dataframes"
   ]
  },
  {
   "cell_type": "code",
   "execution_count": 2,
   "id": "33cf722f",
   "metadata": {},
   "outputs": [],
   "source": [
    "import pandas as pd"
   ]
  },
  {
   "cell_type": "code",
   "execution_count": 3,
   "id": "5ef8d9db",
   "metadata": {
    "scrolled": true
   },
   "outputs": [
    {
     "name": "stdout",
     "output_type": "stream",
     "text": [
      "content of data1 is:\n",
      "    x1  y1\n",
      "0    0  25\n",
      "1    1  16\n",
      "2    2   9\n",
      "3    3   4\n",
      "4    4   1\n",
      "5    5   0\n",
      "6    6   1\n",
      "7    7   4\n",
      "8    8   9\n",
      "9    9  16\n",
      "10  10  25\n"
     ]
    }
   ],
   "source": [
    "# create 1st dataframe\n",
    "h1 = ['x1', 'y1']\n",
    "c11 = [*range(0, 10 + 1)]\n",
    "c12 = [(i-5)**2 for i in c11]\n",
    "df1 = pd.DataFrame(list(zip(c11, c12)), columns=h1)\n",
    "s1 = \"data1\"\n",
    "print(\"content of\", s1, \"is:\")\n",
    "print(df1)"
   ]
  },
  {
   "cell_type": "code",
   "execution_count": 4,
   "id": "207276b0",
   "metadata": {
    "scrolled": false
   },
   "outputs": [
    {
     "name": "stdout",
     "output_type": "stream",
     "text": [
      "content of data2 is:\n",
      "    x2  y2\n",
      "0    0   0\n",
      "1    1   1\n",
      "2    2   2\n",
      "3    3   3\n",
      "4    4   4\n",
      "5    5   5\n",
      "6    6   6\n",
      "7    7   7\n",
      "8    8   8\n",
      "9    9   9\n",
      "10  10  10\n"
     ]
    }
   ],
   "source": [
    "# create 2nd dataframe\n",
    "h2 = ['x2', 'y2']\n",
    "c21 = [*range(0, 10 + 1)]\n",
    "c22 = [i for i in c21]\n",
    "df2 = pd.DataFrame(list(zip(c21, c22)), columns=h2)\n",
    "s2 = \"data2\"\n",
    "print(\"content of\", s2, \"is:\")\n",
    "print(df2)"
   ]
  },
  {
   "cell_type": "code",
   "execution_count": 5,
   "id": "5fc8a19a",
   "metadata": {
    "scrolled": true
   },
   "outputs": [
    {
     "name": "stdout",
     "output_type": "stream",
     "text": [
      "content of data3 is:\n",
      "    x3  y3\n",
      "0    0   0\n",
      "1    1   9\n",
      "2    2  16\n",
      "3    3  21\n",
      "4    4  24\n",
      "5    5  25\n",
      "6    6  24\n",
      "7    7  21\n",
      "8    8  16\n",
      "9    9   9\n",
      "10  10   0\n"
     ]
    }
   ],
   "source": [
    "# create 3rd dataframe\n",
    "h3 = ['x3', 'y3']\n",
    "c31 = [*range(0, 10 + 1)]\n",
    "c32 = [25 - (i-5)**2 for i in c11]\n",
    "df3 = pd.DataFrame(list(zip(c31, c32)), columns=h3)\n",
    "s3 = \"data3\"\n",
    "print(\"content of\", s3, \"is:\")\n",
    "print(df3)"
   ]
  },
  {
   "cell_type": "code",
   "execution_count": 6,
   "id": "23b53ad9",
   "metadata": {
    "scrolled": false
   },
   "outputs": [
    {
     "name": "stdout",
     "output_type": "stream",
     "text": [
      "content of data4 is:\n",
      "    x4  y4\n",
      "0    0  10\n",
      "1    1   9\n",
      "2    2   8\n",
      "3    3   7\n",
      "4    4   6\n",
      "5    5   5\n",
      "6    6   4\n",
      "7    7   3\n",
      "8    8   2\n",
      "9    9   1\n",
      "10  10   0\n"
     ]
    }
   ],
   "source": [
    "# create 4th dataframe\n",
    "h4 = ['x4', 'y4']\n",
    "c41 = [*range(0, 10 + 1)]\n",
    "c42 = [10 - i for i in c41]\n",
    "df4 = pd.DataFrame(list(zip(c41, c42)), columns=h4)\n",
    "s4 = \"data4\"\n",
    "print(\"content of\", s4, \"is:\")\n",
    "print(df4)"
   ]
  },
  {
   "cell_type": "markdown",
   "id": "ca3fe3b2",
   "metadata": {},
   "source": [
    "## write dataframe to file"
   ]
  },
  {
   "cell_type": "code",
   "execution_count": 7,
   "id": "0e22ae79",
   "metadata": {
    "scrolled": false
   },
   "outputs": [],
   "source": [
    "# create new file\n",
    "with pd.ExcelWriter(filename) as writer:\n",
    "    df1.to_excel(writer, sheet_name=s1)"
   ]
  },
  {
   "cell_type": "markdown",
   "id": "cdacac43",
   "metadata": {},
   "source": [
    "![](image/sheets_append_n_1.png)"
   ]
  },
  {
   "cell_type": "code",
   "execution_count": 8,
   "id": "56a04f0d",
   "metadata": {},
   "outputs": [],
   "source": [
    "# create new file\n",
    "with pd.ExcelWriter(filename, mode='a') as writer:\n",
    "    df2.to_excel(writer, sheet_name=s2)"
   ]
  },
  {
   "cell_type": "markdown",
   "id": "4ab4ce65",
   "metadata": {},
   "source": [
    "![](image/sheets_append_a_2.png)"
   ]
  },
  {
   "cell_type": "code",
   "execution_count": 9,
   "id": "d367d4df",
   "metadata": {},
   "outputs": [],
   "source": [
    "# create new file\n",
    "with pd.ExcelWriter(filename, mode='a') as writer:\n",
    "    df3.to_excel(writer, sheet_name=s3)"
   ]
  },
  {
   "cell_type": "markdown",
   "id": "b3ce43fb",
   "metadata": {},
   "source": [
    "![](image/sheets_append_a_3.png)"
   ]
  },
  {
   "cell_type": "code",
   "execution_count": 10,
   "id": "6d24bb47",
   "metadata": {},
   "outputs": [],
   "source": [
    "# create new file\n",
    "with pd.ExcelWriter(filename, mode='a') as writer:\n",
    "    df4.to_excel(writer, sheet_name=s4)"
   ]
  },
  {
   "cell_type": "markdown",
   "id": "7e529dec",
   "metadata": {},
   "source": [
    "![](image/sheets_append_a_4.png)"
   ]
  },
  {
   "cell_type": "code",
   "execution_count": null,
   "id": "9a9badef",
   "metadata": {},
   "outputs": [],
   "source": []
  }
 ],
 "metadata": {
  "authors": [
   {
    "name": "Sparisoma Viridi"
   }
  ],
  "kernelspec": {
   "display_name": "Python 3 (ipykernel)",
   "language": "python",
   "name": "python3"
  },
  "language_info": {
   "codemirror_mode": {
    "name": "ipython",
    "version": 3
   },
   "file_extension": ".py",
   "mimetype": "text/x-python",
   "name": "python",
   "nbconvert_exporter": "python",
   "pygments_lexer": "ipython3",
   "version": "3.10.9"
  },
  "title": "write_file_sheets_append"
 },
 "nbformat": 4,
 "nbformat_minor": 5
}
