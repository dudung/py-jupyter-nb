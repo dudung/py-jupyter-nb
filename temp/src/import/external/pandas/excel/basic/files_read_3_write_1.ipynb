{
 "cells": [
  {
   "cell_type": "markdown",
   "id": "cca11c7c",
   "metadata": {},
   "source": [
    "# files_read_3_write_1\n",
    "Read 3 excel files and write 1 one using pandas"
   ]
  },
  {
   "cell_type": "markdown",
   "id": "4600d06f",
   "metadata": {},
   "source": [
    "## check files existence"
   ]
  },
  {
   "cell_type": "code",
   "execution_count": 1,
   "id": "ebb0505f",
   "metadata": {},
   "outputs": [
    {
     "name": "stdout",
     "output_type": "stream",
     "text": [
      "data/data_x1.xlsx exists\n",
      "data/data_x2.xlsx exists\n",
      "data/data_x3.xlsx exists\n"
     ]
    }
   ],
   "source": [
    "fns = [\n",
    "    'data/data_x1.xlsx',\n",
    "    'data/data_x2.xlsx',\n",
    "    'data/data_x3.xlsx'\n",
    "]\n",
    "\n",
    "import os\n",
    "for fn in fns:\n",
    "    if os.path.exists(fn):\n",
    "        print(fn, \"exists\")\n",
    "    else:\n",
    "        print(fn, \"does not exist\")"
   ]
  },
  {
   "cell_type": "markdown",
   "id": "f8ab1b72",
   "metadata": {},
   "source": [
    "## read dataframe from file then convert to list"
   ]
  },
  {
   "cell_type": "code",
   "execution_count": 2,
   "id": "bc1e3112",
   "metadata": {},
   "outputs": [],
   "source": [
    "h = ['x1', 'x2', 'x3']\n",
    "x = []\n",
    "\n",
    "import pandas as pd\n",
    "\n",
    "for i in range(len(fns)):\n",
    "    df = pd.read_excel(fns[i])\n",
    "    xx = df[h[i]].tolist()\n",
    "    x.append(xx)"
   ]
  },
  {
   "cell_type": "markdown",
   "id": "071cec3a",
   "metadata": {},
   "source": [
    "## process lists to new list"
   ]
  },
  {
   "cell_type": "code",
   "execution_count": 3,
   "id": "8b5d396a",
   "metadata": {},
   "outputs": [
    {
     "name": "stdout",
     "output_type": "stream",
     "text": [
      "x1:  0   1   2   3   4   5   6   7   8   9  10 \n",
      "x2:  1   3   5   7   9  11  13  15  17  19  21 \n",
      "x3:  1   2   5  10  17  26  37  50  65  82 101 \n",
      "x4:  2   6  12  20  30  42  56  72  90 110 132 \n"
     ]
    }
   ],
   "source": [
    "x4 = []\n",
    "for i in range(len(x[0])):\n",
    "    x1 = x[0][i]\n",
    "    x2 = x[1][i]\n",
    "    x3 = x[2][i]\n",
    "    xx4 = x1 + x2 + x3\n",
    "    x4.append(xx4)\n",
    "\n",
    "x.append(x4)\n",
    "\n",
    "k = 1\n",
    "for i in x:\n",
    "    y = [f\"{j:3d}\" for j in i]\n",
    "    print(\"x\", k, sep='', end=':')\n",
    "    for j in y:\n",
    "        print(j, end=' ')\n",
    "    print()\n",
    "    k +=1"
   ]
  },
  {
   "cell_type": "code",
   "execution_count": 4,
   "id": "fd963e0f",
   "metadata": {},
   "outputs": [],
   "source": [
    "df = pd.DataFrame(list(zip(x4)), columns=['x4'])\n",
    "df.to_excel('data/data_x4.xlsx', index=False)"
   ]
  },
  {
   "cell_type": "markdown",
   "id": "fd0774d8",
   "metadata": {},
   "source": [
    "file | `data_x1.xlsx` | `data_x2.xlsx` | `data_x3.xlsx` | `data_x4.xlsx`\n",
    ":-: | :-: | :-: | :-: | :-:\n",
    "**content** | ![](image/data_x1.png) | ![](image/data_x2.png) | ![](image/data_x3.png) | ![](image/data_x4.png)"
   ]
  },
  {
   "cell_type": "code",
   "execution_count": null,
   "id": "aded9ed8",
   "metadata": {},
   "outputs": [],
   "source": []
  }
 ],
 "metadata": {
  "authors": [
   {
    "name": "Sparisoma Viridi"
   }
  ],
  "kernelspec": {
   "display_name": "Python 3 (ipykernel)",
   "language": "python",
   "name": "python3"
  },
  "language_info": {
   "codemirror_mode": {
    "name": "ipython",
    "version": 3
   },
   "file_extension": ".py",
   "mimetype": "text/x-python",
   "name": "python",
   "nbconvert_exporter": "python",
   "pygments_lexer": "ipython3",
   "version": "3.10.9"
  },
  "title": "files_read_3_write_1"
 },
 "nbformat": 4,
 "nbformat_minor": 5
}
