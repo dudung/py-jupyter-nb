{
 "cells": [
  {
   "cell_type": "markdown",
   "id": "cca11c7c",
   "metadata": {},
   "source": [
    "# read_file\n",
    "Read excel file using pandas"
   ]
  },
  {
   "cell_type": "markdown",
   "id": "1f9ee125",
   "metadata": {},
   "source": [
    "`cols_2_linear.xlsx`\n",
    "\n",
    "sheet | Sheet1\n",
    ":-: | :-:\n",
    "content| ![](image/cols_2_linear.png)"
   ]
  },
  {
   "cell_type": "code",
   "execution_count": 1,
   "id": "b0c0f6a3",
   "metadata": {},
   "outputs": [
    {
     "name": "stdout",
     "output_type": "stream",
     "text": [
      "     x   y\n",
      "0    0   5\n",
      "1    1   8\n",
      "2    2  11\n",
      "3    3  14\n",
      "4    4  17\n",
      "5    5  20\n",
      "6    6  23\n",
      "7    7  26\n",
      "8    8  29\n",
      "9    9  32\n",
      "10  10  35\n",
      "11  11  38\n",
      "12  12  41\n",
      "13  13  44\n",
      "14  14  47\n",
      "15  15  50\n",
      "16  16  53\n",
      "17  17  56\n",
      "18  18  59\n",
      "19  19  62\n",
      "20  20  65\n"
     ]
    }
   ],
   "source": [
    "import pandas\n",
    "df = pandas.read_excel('data/cols_2_linear.xlsx')\n",
    "print(df)"
   ]
  },
  {
   "cell_type": "code",
   "execution_count": 2,
   "id": "9da6b63c",
   "metadata": {},
   "outputs": [
    {
     "name": "stdout",
     "output_type": "stream",
     "text": [
      "['x', 'y']\n"
     ]
    }
   ],
   "source": [
    "headers = df.columns.tolist()\n",
    "print(headers)"
   ]
  },
  {
   "cell_type": "code",
   "execution_count": 3,
   "id": "042c4470",
   "metadata": {},
   "outputs": [
    {
     "name": "stdout",
     "output_type": "stream",
     "text": [
      "[0, 1, 2, 3, 4, 5, 6, 7, 8, 9, 10, 11, 12, 13, 14, 15, 16, 17, 18, 19, 20]\n"
     ]
    }
   ],
   "source": [
    "xx = df[headers[0]].tolist()\n",
    "print(xx)"
   ]
  },
  {
   "cell_type": "code",
   "execution_count": 4,
   "id": "f882f7ee",
   "metadata": {},
   "outputs": [
    {
     "name": "stdout",
     "output_type": "stream",
     "text": [
      "[5, 8, 11, 14, 17, 20, 23, 26, 29, 32, 35, 38, 41, 44, 47, 50, 53, 56, 59, 62, 65]\n"
     ]
    }
   ],
   "source": [
    "yy = df[headers[1]].tolist()\n",
    "print(yy)"
   ]
  },
  {
   "cell_type": "code",
   "execution_count": null,
   "id": "1b704ac6",
   "metadata": {},
   "outputs": [],
   "source": []
  }
 ],
 "metadata": {
  "authors": [
   {
    "name": "Sparisoma Viridi"
   }
  ],
  "kernelspec": {
   "display_name": "Python 3 (ipykernel)",
   "language": "python",
   "name": "python3"
  },
  "language_info": {
   "codemirror_mode": {
    "name": "ipython",
    "version": 3
   },
   "file_extension": ".py",
   "mimetype": "text/x-python",
   "name": "python",
   "nbconvert_exporter": "python",
   "pygments_lexer": "ipython3",
   "version": "3.10.9"
  },
  "title": "read_file"
 },
 "nbformat": 4,
 "nbformat_minor": 5
}
