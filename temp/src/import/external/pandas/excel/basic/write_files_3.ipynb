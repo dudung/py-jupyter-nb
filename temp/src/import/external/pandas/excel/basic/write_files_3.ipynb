{
 "cells": [
  {
   "cell_type": "markdown",
   "id": "cca11c7c",
   "metadata": {},
   "source": [
    "# write_files_3\n",
    "Write 3 excel files using pandas"
   ]
  },
  {
   "cell_type": "code",
   "execution_count": 1,
   "id": "ebb0505f",
   "metadata": {},
   "outputs": [
    {
     "name": "stdout",
     "output_type": "stream",
     "text": [
      "data/data_x1.xlsx is deleted\n",
      "data/data_x2.xlsx is deleted\n",
      "data/data_x3.xlsx is deleted\n"
     ]
    }
   ],
   "source": [
    "fns = [\n",
    "    'data/data_x1.xlsx',\n",
    "    'data/data_x2.xlsx',\n",
    "    'data/data_x3.xlsx'\n",
    "]\n",
    "\n",
    "import os\n",
    "for fn in fns:\n",
    "    if os.path.exists(fn):\n",
    "        os.remove(fn)\n",
    "        print(fn, \"is deleted\")\n",
    "    else:\n",
    "        print(fn, \"does not exist\")"
   ]
  },
  {
   "cell_type": "code",
   "execution_count": 2,
   "id": "1458f9ac",
   "metadata": {},
   "outputs": [],
   "source": [
    "import pandas as pd\n",
    "\n",
    "# create lists\n",
    "x1 = [*range(0, 10 + 1)]\n",
    "x2 = [2*i + 1 for i in x1]\n",
    "x3 = [i**2 + 1 for i in x1]\n",
    "headers = ['x1', 'x2', 'x3']\n",
    "\n",
    "df = pd.DataFrame(list(zip(x1, x2, x3)), columns=headers)\n",
    "\n",
    "# write dataframe to excel file\n",
    "for i in range(len(fns)):\n",
    "    df.to_excel(fns[i], columns=[headers[i]], index=False)"
   ]
  },
  {
   "cell_type": "markdown",
   "id": "fd0774d8",
   "metadata": {},
   "source": [
    "file | `data_x1.xlsx` | `data_x2.xlsx` | `data_x1.xlsx`\n",
    ":-: | :-: | :-: | :-:\n",
    "**content** | ![](image/data_x1.png) | ![](image/data_x2.png) | ![](image/data_x3.png)"
   ]
  },
  {
   "cell_type": "code",
   "execution_count": null,
   "id": "aded9ed8",
   "metadata": {},
   "outputs": [],
   "source": []
  }
 ],
 "metadata": {
  "authors": [
   {
    "name": "Sparisoma Viridi"
   }
  ],
  "kernelspec": {
   "display_name": "Python 3 (ipykernel)",
   "language": "python",
   "name": "python3"
  },
  "language_info": {
   "codemirror_mode": {
    "name": "ipython",
    "version": 3
   },
   "file_extension": ".py",
   "mimetype": "text/x-python",
   "name": "python",
   "nbconvert_exporter": "python",
   "pygments_lexer": "ipython3",
   "version": "3.10.9"
  },
  "title": "write_files_3"
 },
 "nbformat": 4,
 "nbformat_minor": 5
}
