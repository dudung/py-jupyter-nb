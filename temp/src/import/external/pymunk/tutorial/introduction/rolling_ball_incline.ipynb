{
 "cells": [
  {
   "cell_type": "markdown",
   "id": "cca11c7c",
   "metadata": {},
   "source": [
    "# rolling_ball_incline\n",
    "Use of [App class](https://pymunk-tutorial.readthedocs.io/en/latest/intro/intro.html#creating-an-app-class) from a Jupyter Notebook file."
   ]
  },
  {
   "cell_type": "code",
   "execution_count": 1,
   "id": "a5cdf690",
   "metadata": {
    "scrolled": false
   },
   "outputs": [
    {
     "name": "stdout",
     "output_type": "stream",
     "text": [
      "pygame 2.1.2 (SDL 2.0.18, Python 3.10.9)\n",
      "Hello from the pygame community. https://www.pygame.org/contribute.html\n"
     ]
    }
   ],
   "source": [
    "# modified from intro2.py from https://pymunk-tutorial.readthedocs.io\n",
    "from ipynb.fs.full.intro import *\n",
    "\n",
    "segment1 = pymunk.Segment(b0, (0, 120), (600, 20), 4)\n",
    "segment1.elasticity = 0.5\n",
    "segment1.friction = 0.5\n",
    "\n",
    "segment2 = pymunk.Segment(b0, (700, 120), (600, 20), 4)\n",
    "segment2.elasticity = 0.5\n",
    "segment2.friction = 0.5\n",
    "\n",
    "body = pymunk.Body(mass=1, moment=10)\n",
    "body.position = (100, 200)\n",
    "\n",
    "circle = pymunk.Circle(body, radius=50)\n",
    "circle.elasticty = 0.5\n",
    "circle.friction = 0.5\n",
    "space.add(body, circle, segment1, segment2)\n",
    "\n",
    "App().run()"
   ]
  },
  {
   "cell_type": "markdown",
   "id": "0c8d8343",
   "metadata": {},
   "source": [
    "Pygame window will show following image.\n",
    "\n",
    "![](data/rolling_ball_incline.png)"
   ]
  },
  {
   "cell_type": "code",
   "execution_count": null,
   "id": "9d1ffbd6",
   "metadata": {},
   "outputs": [],
   "source": []
  }
 ],
 "metadata": {
  "authors": [
   {
    "name": "Sparisoma Viridi"
   }
  ],
  "kernelspec": {
   "display_name": "Python 3 (ipykernel)",
   "language": "python",
   "name": "python3"
  },
  "language_info": {
   "codemirror_mode": {
    "name": "ipython",
    "version": 3
   },
   "file_extension": ".py",
   "mimetype": "text/x-python",
   "name": "python",
   "nbconvert_exporter": "python",
   "pygments_lexer": "ipython3",
   "version": "3.10.9"
  },
  "title": "rolling_ball_incline"
 },
 "nbformat": 4,
 "nbformat_minor": 5
}
