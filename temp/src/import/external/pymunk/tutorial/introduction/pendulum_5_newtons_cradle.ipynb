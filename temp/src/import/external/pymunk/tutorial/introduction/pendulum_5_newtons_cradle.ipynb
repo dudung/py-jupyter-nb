{
 "cells": [
  {
   "cell_type": "markdown",
   "id": "cca11c7c",
   "metadata": {},
   "source": [
    "# pendulum_5_newtons_cradle\n",
    "Use of [App class](https://pymunk-tutorial.readthedocs.io/en/latest/intro/intro.html#creating-an-app-class) from a Jupyter Notebook file."
   ]
  },
  {
   "cell_type": "code",
   "execution_count": 1,
   "id": "a5cdf690",
   "metadata": {
    "scrolled": false
   },
   "outputs": [
    {
     "name": "stdout",
     "output_type": "stream",
     "text": [
      "pygame 2.1.2 (SDL 2.0.18, Python 3.10.9)\n",
      "Hello from the pygame community. https://www.pygame.org/contribute.html\n"
     ]
    }
   ],
   "source": [
    "# modified from intro9.py from https://pymunk-tutorial.readthedocs.io\n",
    "from ipynb.fs.full.intro import pymunk, space, App\n",
    "\n",
    "b0 = space.static_body \n",
    "\n",
    "for i in range(5):\n",
    "    body = pymunk.Body(mass=1, moment=10)\n",
    "    body.position = (200+i*40, 50)\n",
    "    if i==0:\n",
    "        body.position = 50, 200\n",
    "    shape = pymunk.Circle(body, radius=20)\n",
    "    shape.elasticity = 0.999\n",
    "    #joint = pymunk.constraint.PinJoint(b0, body, (200+i*40, 200))\n",
    "    joint = pymunk.constraints.PinJoint(b0, body, (200+i*40, 200))\n",
    "    space.add(body, shape, joint)\n",
    "\n",
    "App().run()"
   ]
  },
  {
   "cell_type": "markdown",
   "id": "0c8d8343",
   "metadata": {},
   "source": [
    "Pygame window will show following image.\n",
    "\n",
    "![](data/pendulum_5_newtons_cradle.png)"
   ]
  },
  {
   "cell_type": "code",
   "execution_count": null,
   "id": "9d1ffbd6",
   "metadata": {},
   "outputs": [],
   "source": []
  }
 ],
 "metadata": {
  "authors": [
   {
    "name": "Sparisoma Viridi"
   }
  ],
  "kernelspec": {
   "display_name": "Python 3 (ipykernel)",
   "language": "python",
   "name": "python3"
  },
  "language_info": {
   "codemirror_mode": {
    "name": "ipython",
    "version": 3
   },
   "file_extension": ".py",
   "mimetype": "text/x-python",
   "name": "python",
   "nbconvert_exporter": "python",
   "pygments_lexer": "ipython3",
   "version": "3.10.9"
  },
  "title": "pendulum_5_newtons_cradle"
 },
 "nbformat": 4,
 "nbformat_minor": 5
}
