{
 "cells": [
  {
   "cell_type": "markdown",
   "id": "cca11c7c",
   "metadata": {},
   "source": [
    "# intro\n",
    "Implement [App class](https://pymunk-tutorial.readthedocs.io/en/latest/intro/intro.html#creating-an-app-class) in a Jupyter Notebook file."
   ]
  },
  {
   "cell_type": "code",
   "execution_count": null,
   "id": "a5cdf690",
   "metadata": {
    "scrolled": false
   },
   "outputs": [],
   "source": [
    "# raw copy of intro.py from https://pymunk-tutorial.readthedocs.io\n",
    "import pymunk\n",
    "import pymunk.pygame_util\n",
    "import pygame\n",
    "\n",
    "BG_COLOR = (0, 0, 0)\n",
    "space = pymunk.Space()\n",
    "space.gravity = 0, -10\n",
    "b0 = space.static_body\n",
    "\n",
    "class App:\n",
    "    size = 700, 350\n",
    "    def __init__(self):\n",
    "        pygame.init()\n",
    "        self.screen = pygame.display.set_mode(self.size)\n",
    "        self.draw_options = pymunk.pygame_util.DrawOptions(self.screen)\n",
    "        self.running = True\n",
    "\n",
    "    def run(self):\n",
    "        while self.running:\n",
    "            for event in pygame.event.get():\n",
    "                if event.type == pygame.QUIT:\n",
    "                    self.running = False\n",
    "                    pygame.image.save(self.screen, 'data/intro.png')\n",
    "\n",
    "            self.screen.fill(BG_COLOR)\n",
    "            space.debug_draw(self.draw_options)\n",
    "            pygame.display.update()\n",
    "            space.step(0.01)\n",
    "\n",
    "        pygame.quit()"
   ]
  },
  {
   "cell_type": "code",
   "execution_count": null,
   "id": "cd58cd85",
   "metadata": {},
   "outputs": [],
   "source": []
  }
 ],
 "metadata": {
  "authors": [
   {
    "name": "Sparisoma Viridi"
   }
  ],
  "kernelspec": {
   "display_name": "Python 3 (ipykernel)",
   "language": "python",
   "name": "python3"
  },
  "language_info": {
   "codemirror_mode": {
    "name": "ipython",
    "version": 3
   },
   "file_extension": ".py",
   "mimetype": "text/x-python",
   "name": "python",
   "nbconvert_exporter": "python",
   "pygments_lexer": "ipython3",
   "version": "3.10.9"
  },
  "title": "intro"
 },
 "nbformat": 4,
 "nbformat_minor": 5
}
