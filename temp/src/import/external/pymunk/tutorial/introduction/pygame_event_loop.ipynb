{
 "cells": [
  {
   "cell_type": "markdown",
   "id": "cca11c7c",
   "metadata": {},
   "source": [
    "# pygame_event_loop\n",
    "Try suggestion from SO [61409221](https://stackoverflow.com/a/61409221/9475509) but in Jupyter Notebook."
   ]
  },
  {
   "cell_type": "code",
   "execution_count": 1,
   "id": "025d9215",
   "metadata": {},
   "outputs": [
    {
     "name": "stdout",
     "output_type": "stream",
     "text": [
      "pygame 2.1.2 (SDL 2.0.18, Python 3.10.9)\n",
      "Hello from the pygame community. https://www.pygame.org/contribute.html\n",
      "Entering Pygame loop.\n",
      "Exiting Pygame loop.\n",
      "Quit Pygame\n"
     ]
    }
   ],
   "source": [
    "import pygame\n",
    "from pygame.locals import *\n",
    "\n",
    "pygame.init()\n",
    "screen = pygame.display.set_mode((600, 200), 0, 24)\n",
    "#clock = pygame.time.Clock()\n",
    "\n",
    "font = pygame.font.Font(None, 24)\n",
    "\n",
    "max_cycles = 10000\n",
    "cycles = 0\n",
    "run = True\n",
    "print(\"Entering Pygame loop.\")\n",
    "while run:\n",
    "    for event in pygame.event.get():\n",
    "        if event.type == pygame.QUIT:\n",
    "            run = False\n",
    "            #return # so-55391829\n",
    "            #exit()\n",
    "    \n",
    "    # from https://stackoverflow.com/a/55391829/9475509 -- not work\n",
    "    #key = pygame.key.get_pressed()\n",
    "    #if key[K_RIGHT]:\n",
    "    #    run = False\n",
    "    \n",
    "    screen.fill(0)\n",
    "    text = font.render('Cycles : %d' % cycles, True, (255, 255, 255))\n",
    "    screen.blit(text, (400, 100))\n",
    "    cycles += 1\n",
    "\n",
    "    pygame.display.update()\n",
    "    \n",
    "    # try this one, it not so work, but can exit the loop\n",
    "    if cycles > max_cycles:\n",
    "        run = False\n",
    "\n",
    "print(\"Exiting Pygame loop.\")\n",
    "print(\"Quit Pygame\")\n",
    "pygame.quit()"
   ]
  },
  {
   "cell_type": "markdown",
   "id": "6a705ad5",
   "metadata": {},
   "source": [
    "## 28-jan-2023 14:13 gmt+7\n",
    "Finally previous code works. It can be further simplified. This code is preserved for the sake of development record of py-jupyter-nb repository."
   ]
  },
  {
   "cell_type": "code",
   "execution_count": null,
   "id": "1cf67b69",
   "metadata": {},
   "outputs": [],
   "source": []
  }
 ],
 "metadata": {
  "authors": [
   {
    "name": "Sparisoma Viridi"
   }
  ],
  "kernelspec": {
   "display_name": "Python 3 (ipykernel)",
   "language": "python",
   "name": "python3"
  },
  "language_info": {
   "codemirror_mode": {
    "name": "ipython",
    "version": 3
   },
   "file_extension": ".py",
   "mimetype": "text/x-python",
   "name": "python",
   "nbconvert_exporter": "python",
   "pygments_lexer": "ipython3",
   "version": "3.10.9"
  },
  "title": "pygame_loop_event_pump"
 },
 "nbformat": 4,
 "nbformat_minor": 5
}
