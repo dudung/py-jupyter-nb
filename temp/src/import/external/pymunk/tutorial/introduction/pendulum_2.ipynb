{
 "cells": [
  {
   "cell_type": "markdown",
   "id": "cca11c7c",
   "metadata": {},
   "source": [
    "# pendulum_2\n",
    "Use of [App class](https://pymunk-tutorial.readthedocs.io/en/latest/intro/intro.html#creating-an-app-class) from a Jupyter Notebook file."
   ]
  },
  {
   "cell_type": "code",
   "execution_count": 1,
   "id": "a5cdf690",
   "metadata": {
    "scrolled": false
   },
   "outputs": [
    {
     "name": "stdout",
     "output_type": "stream",
     "text": [
      "pygame 2.1.2 (SDL 2.0.18, Python 3.10.9)\n",
      "Hello from the pygame community. https://www.pygame.org/contribute.html\n"
     ]
    }
   ],
   "source": [
    "# modified from intro8.py from https://pymunk-tutorial.readthedocs.io\n",
    "from ipynb.fs.full.intro import pymunk, space, App\n",
    "\n",
    "b0 = space.static_body \n",
    "\n",
    "b1 = pymunk.Body(mass=1, moment=10)\n",
    "b1.position = (100, 200)\n",
    "c1 = pymunk.Circle(b1, radius=20)\n",
    "c1.elasticity = 0.999\n",
    "space.add(b1, c1)\n",
    "\n",
    "b2 = pymunk.Body(mass=1, moment=10)\n",
    "b2.position = (240, 100)\n",
    "c2 = pymunk.Circle(b2, radius=20)\n",
    "c2.elasticity = 0.999\n",
    "space.add(b2, c2)\n",
    "\n",
    "#j1 = pymunk.constraint.PinJoint(b0, b1, (200, 200))\n",
    "j1 = pymunk.constraints.PinJoint(b0, b1, (200, 200))\n",
    "#j2 = pymunk.constraint.PinJoint(b0, b2, (240, 200))\n",
    "j2 = pymunk.constraints.PinJoint(b0, b2, (240, 200))\n",
    "space.add(j1, j2)\n",
    "\n",
    "App().run()"
   ]
  },
  {
   "cell_type": "markdown",
   "id": "0c8d8343",
   "metadata": {},
   "source": [
    "Pygame window will show following image.\n",
    "\n",
    "![](data/pendulum_2.png)"
   ]
  },
  {
   "cell_type": "code",
   "execution_count": null,
   "id": "9d1ffbd6",
   "metadata": {},
   "outputs": [],
   "source": []
  }
 ],
 "metadata": {
  "authors": [
   {
    "name": "Sparisoma Viridi"
   }
  ],
  "kernelspec": {
   "display_name": "Python 3 (ipykernel)",
   "language": "python",
   "name": "python3"
  },
  "language_info": {
   "codemirror_mode": {
    "name": "ipython",
    "version": 3
   },
   "file_extension": ".py",
   "mimetype": "text/x-python",
   "name": "python",
   "nbconvert_exporter": "python",
   "pygments_lexer": "ipython3",
   "version": "3.10.9"
  },
  "title": "pendulum_2"
 },
 "nbformat": 4,
 "nbformat_minor": 5
}
