{
 "cells": [
  {
   "cell_type": "markdown",
   "id": "cca11c7c",
   "metadata": {},
   "source": [
    "# pendulum_1\n",
    "Use of [App class](https://pymunk-tutorial.readthedocs.io/en/latest/intro/intro.html#creating-an-app-class) from a Jupyter Notebook file."
   ]
  },
  {
   "cell_type": "markdown",
   "id": "a9afe8b1",
   "metadata": {},
   "source": [
    "## original code"
   ]
  },
  {
   "cell_type": "code",
   "execution_count": 1,
   "id": "a5cdf690",
   "metadata": {
    "scrolled": false
   },
   "outputs": [
    {
     "name": "stdout",
     "output_type": "stream",
     "text": [
      "pygame 2.1.2 (SDL 2.0.18, Python 3.10.9)\n",
      "Hello from the pygame community. https://www.pygame.org/contribute.html\n"
     ]
    },
    {
     "ename": "AttributeError",
     "evalue": "module 'pymunk' has no attribute 'constraint'",
     "output_type": "error",
     "traceback": [
      "\u001b[1;31m---------------------------------------------------------------------------\u001b[0m",
      "\u001b[1;31mAttributeError\u001b[0m                            Traceback (most recent call last)",
      "Input \u001b[1;32mIn [1]\u001b[0m, in \u001b[0;36m<cell line: 9>\u001b[1;34m()\u001b[0m\n\u001b[0;32m      7\u001b[0m body\u001b[38;5;241m.\u001b[39mposition \u001b[38;5;241m=\u001b[39m (\u001b[38;5;241m350\u001b[39m, \u001b[38;5;241m100\u001b[39m)\n\u001b[0;32m      8\u001b[0m circle \u001b[38;5;241m=\u001b[39m pymunk\u001b[38;5;241m.\u001b[39mCircle(body, radius\u001b[38;5;241m=\u001b[39m\u001b[38;5;241m20\u001b[39m)\n\u001b[1;32m----> 9\u001b[0m joint \u001b[38;5;241m=\u001b[39m \u001b[43mpymunk\u001b[49m\u001b[38;5;241;43m.\u001b[39;49m\u001b[43mconstraint\u001b[49m\u001b[38;5;241m.\u001b[39mPinJoint(space\u001b[38;5;241m.\u001b[39mstatic_body, body, (\u001b[38;5;241m200\u001b[39m, \u001b[38;5;241m200\u001b[39m))\n\u001b[0;32m     11\u001b[0m space\u001b[38;5;241m.\u001b[39madd(body, circle, joint)\n\u001b[0;32m     13\u001b[0m App()\u001b[38;5;241m.\u001b[39mrun()\n",
      "\u001b[1;31mAttributeError\u001b[0m: module 'pymunk' has no attribute 'constraint'"
     ]
    }
   ],
   "source": [
    "# modified from intro7.py from https://pymunk-tutorial.readthedocs.io\n",
    "from ipynb.fs.full.intro import pymunk, space, App\n",
    "\n",
    "space.gravity = 0, -10\n",
    "\n",
    "body = pymunk.Body(mass=10, moment=10)\n",
    "body.position = (350, 100)\n",
    "circle = pymunk.Circle(body, radius=20)\n",
    "joint = pymunk.constraint.PinJoint(space.static_body, body, (200, 200))\n",
    "\n",
    "space.add(body, circle, joint)\n",
    "\n",
    "App().run()"
   ]
  },
  {
   "cell_type": "markdown",
   "id": "41e23be2",
   "metadata": {},
   "source": [
    "Submit [new issue](https://github.com/rasql/pymunk-tutorial/issues/4) and [a pull request](https://github.com/rasql/pymunk-tutorial/pull/5) for this."
   ]
  },
  {
   "cell_type": "markdown",
   "id": "199def48",
   "metadata": {},
   "source": [
    "## fixed code"
   ]
  },
  {
   "cell_type": "code",
   "execution_count": null,
   "id": "52d01e9b",
   "metadata": {},
   "outputs": [],
   "source": [
    "# modified from intro7.py from https://pymunk-tutorial.readthedocs.io\n",
    "from ipynb.fs.full.intro import pymunk, space, App\n",
    "\n",
    "space.gravity = 0, -10\n",
    "\n",
    "body = pymunk.Body(mass=10, moment=10)\n",
    "body.position = (350, 100)\n",
    "circle = pymunk.Circle(body, radius=20)\n",
    "joint = pymunk.constraints.PinJoint(space.static_body, body, (200, 200))\n",
    "\n",
    "space.add(body, circle, joint)\n",
    "\n",
    "App().run()"
   ]
  },
  {
   "cell_type": "markdown",
   "id": "0c8d8343",
   "metadata": {},
   "source": [
    "Pygame window will show following image.\n",
    "\n",
    "![](data/pendulum_1.png)"
   ]
  },
  {
   "cell_type": "code",
   "execution_count": null,
   "id": "9d1ffbd6",
   "metadata": {},
   "outputs": [],
   "source": []
  }
 ],
 "metadata": {
  "authors": [
   {
    "name": "Sparisoma Viridi"
   }
  ],
  "kernelspec": {
   "display_name": "Python 3 (ipykernel)",
   "language": "python",
   "name": "python3"
  },
  "language_info": {
   "codemirror_mode": {
    "name": "ipython",
    "version": 3
   },
   "file_extension": ".py",
   "mimetype": "text/x-python",
   "name": "python",
   "nbconvert_exporter": "python",
   "pygments_lexer": "ipython3",
   "version": "3.10.9"
  },
  "title": "pendulum_1"
 },
 "nbformat": 4,
 "nbformat_minor": 5
}
