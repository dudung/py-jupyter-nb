{
 "cells": [
  {
   "cell_type": "markdown",
   "id": "cca11c7c",
   "metadata": {},
   "source": [
    "# bouncing_ball_2\n",
    "Aggregate as file from [A bouncing ball](https://pymunk-tutorial.readthedocs.io/en/latest/intro/intro.html#a-bouncing-ball), which is an attempt to fix [bouncing_ball.ipynb](bouncing_ball.ipynb) with [pygame_loop_event_pump.ipynb](pygame_loop_event_pump.ipynb)."
   ]
  },
  {
   "cell_type": "code",
   "execution_count": 1,
   "id": "a5cdf690",
   "metadata": {
    "scrolled": true
   },
   "outputs": [
    {
     "name": "stdout",
     "output_type": "stream",
     "text": [
      "pygame 2.1.2 (SDL 2.0.18, Python 3.10.9)\n",
      "Hello from the pygame community. https://www.pygame.org/contribute.html\n"
     ]
    }
   ],
   "source": [
    "import pymunk\n",
    "import pymunk.pygame_util\n",
    "\n",
    "BG_COLOR = (0, 0, 0)\n",
    "space = pymunk.Space()\n",
    "space.gravity = 0, -200\n",
    "\n",
    "b0 = space.static_body\n",
    "segment = pymunk.Segment(b0, (0, 40), (640, 40), 10)\n",
    "segment.elasticity = 1\n",
    "\n",
    "body = pymunk.Body(mass=1, moment=10)\n",
    "body.position = 100, 450\n",
    "body.velocity = 20, 0\n",
    "\n",
    "circle = pymunk.Circle(body, radius=20)\n",
    "circle.elasticity = 0.85\n",
    "space.add(body, circle, segment)"
   ]
  },
  {
   "cell_type": "code",
   "execution_count": 2,
   "id": "1c90d57b",
   "metadata": {},
   "outputs": [
    {
     "name": "stdout",
     "output_type": "stream",
     "text": [
      "Initializing Pygame.\n",
      "Entering Pygame event loop.\n",
      "Cycle left 0.       \n",
      "Exiting Pygame event loop.\n",
      "Quitting Pygame.\n"
     ]
    }
   ],
   "source": [
    "import pygame\n",
    "\n",
    "print(\"Initializing Pygame.\")\n",
    "pygame.init()\n",
    "size = 640, 480\n",
    "screen = pygame.display.set_mode(size)\n",
    "font = pygame.font.Font(None, 24)\n",
    "\n",
    "draw_options = pymunk.pygame_util.DrawOptions(screen)\n",
    "\n",
    "max_i = 3000\n",
    "i = 0\n",
    "running = True\n",
    "print(\"Entering Pygame event loop.\")\n",
    "while running:\n",
    "    for event in pygame.event.get():\n",
    "        if event.type == pygame.QUIT:\n",
    "            running = False\n",
    "            pygame.image.save(screen, \"data/bouncing_ball.png\")\n",
    "            print(\"Cycle left \", max_i - i, \".\", sep='')\n",
    "            print(\"Closing Pygame window.\")\n",
    "    \n",
    "    screen.fill(BG_COLOR)\n",
    "    text = font.render('Cycle left %d' % (max_i - i), True, (255, 255, 255))\n",
    "    screen.blit(text, (510, 450))\n",
    "\n",
    "    space.debug_draw(draw_options)\n",
    "    \n",
    "    pygame.display.update()\n",
    "    \n",
    "    space.step(0.01)\n",
    "    \n",
    "    i += 1\n",
    "    if i >= max_i:\n",
    "        running = False\n",
    "        print(\"Cycle left \", max_i - i, \".\", sep='')\n",
    "        print(\"Exiting Pygame event loop.\")\n",
    "        pygame.image.save(screen, \"data/bouncing_ball.png\")\n",
    "    else:\n",
    "        print(\"Cycle left \", max_i - i, \".    \", sep='', end='\\r')\n",
    "\n",
    "print(\"Quitting Pygame.\")\n",
    "\n",
    "pygame.quit()"
   ]
  },
  {
   "cell_type": "markdown",
   "id": "1e00aca5",
   "metadata": {},
   "source": [
    "A Pygame window will be opened separately from Jypyter notebook as follow.\n",
    "\n",
    "i = 100 | i = 450 | 1 = 800 | i = 1000 | i = 1500\n",
    ":-: | :-: | :-: | :-: | :-:\n",
    "![](data/bouncing_ball_cycle_0100.png) | ![](data/bouncing_ball_cycle_0450.png) | ![](data/bouncing_ball_cycle_0800.png) | ![](data/bouncing_ball_cycle_1000.png) | ![](data/bouncing_ball_cycle_1500.png)"
   ]
  },
  {
   "cell_type": "code",
   "execution_count": null,
   "id": "cd58cd85",
   "metadata": {},
   "outputs": [],
   "source": []
  }
 ],
 "metadata": {
  "authors": [
   {
    "name": "Sparisoma Viridi"
   }
  ],
  "kernelspec": {
   "display_name": "Python 3 (ipykernel)",
   "language": "python",
   "name": "python3"
  },
  "language_info": {
   "codemirror_mode": {
    "name": "ipython",
    "version": 3
   },
   "file_extension": ".py",
   "mimetype": "text/x-python",
   "name": "python",
   "nbconvert_exporter": "python",
   "pygments_lexer": "ipython3",
   "version": "3.10.9"
  },
  "title": "bouncing_ball_2"
 },
 "nbformat": 4,
 "nbformat_minor": 5
}
