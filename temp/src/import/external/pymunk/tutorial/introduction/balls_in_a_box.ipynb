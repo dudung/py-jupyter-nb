{
 "cells": [
  {
   "cell_type": "markdown",
   "id": "cca11c7c",
   "metadata": {},
   "source": [
    "# balls_in_a_box\n",
    "Use of [App class](https://pymunk-tutorial.readthedocs.io/en/latest/intro/intro.html#creating-an-app-class) from a Jupyter Notebook file."
   ]
  },
  {
   "cell_type": "code",
   "execution_count": 1,
   "id": "f905efab",
   "metadata": {},
   "outputs": [
    {
     "name": "stdout",
     "output_type": "stream",
     "text": [
      "pygame 2.1.2 (SDL 2.0.18, Python 3.10.9)\n",
      "Hello from the pygame community. https://www.pygame.org/contribute.html\n"
     ]
    }
   ],
   "source": [
    "# modified from intro6.py from https://pymunk-tutorial.readthedocs.io\n",
    "from ipynb.fs.full.intro import pymunk, space, App\n",
    "from random import randint\n",
    "\n",
    "space.gravity = 0, 0\n",
    "\n",
    "pts = [(10, 10), (690, 10), (690, 230), (10, 230)]\n",
    "for i in range(len(pts)):\n",
    "    seg = pymunk.Segment(space.static_body, pts[i], pts[(i+1)%len(pts)], 2)\n",
    "    seg.elasticity = 0.999\n",
    "    seg.friction = 0.5\n",
    "    space.add(seg)\n",
    "\n",
    "for i in range(40):\n",
    "    body = pymunk.Body(mass=1, moment=10)\n",
    "    body.position = randint(40, 660), randint(40, 200)\n",
    "    impulse = randint(-100, 100), randint(-100, 100)\n",
    "    body.apply_impulse_at_local_point(impulse)\n",
    "    circle = pymunk.Circle(body, radius=randint(8, 16))\n",
    "    circle.elasticity = 0.999\n",
    "    circle.friction = 0.5\n",
    "    space.add(body, circle)\n",
    "\n",
    "App().run()"
   ]
  },
  {
   "cell_type": "markdown",
   "id": "500d9453",
   "metadata": {},
   "source": [
    "A Pygame window will show following figure.\n",
    "\n",
    "![](data/balls_in_a_box.png)"
   ]
  },
  {
   "cell_type": "code",
   "execution_count": null,
   "id": "64f020f7",
   "metadata": {},
   "outputs": [],
   "source": []
  }
 ],
 "metadata": {
  "authors": [
   {
    "name": "Sparisoma Viridi"
   }
  ],
  "kernelspec": {
   "display_name": "Python 3 (ipykernel)",
   "language": "python",
   "name": "python3"
  },
  "language_info": {
   "codemirror_mode": {
    "name": "ipython",
    "version": 3
   },
   "file_extension": ".py",
   "mimetype": "text/x-python",
   "name": "python",
   "nbconvert_exporter": "python",
   "pygments_lexer": "ipython3",
   "version": "3.10.9"
  },
  "title": "balls_in_a_box"
 },
 "nbformat": 4,
 "nbformat_minor": 5
}
