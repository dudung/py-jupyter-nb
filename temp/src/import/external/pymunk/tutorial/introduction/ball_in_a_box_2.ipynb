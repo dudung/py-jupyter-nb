{
 "cells": [
  {
   "cell_type": "markdown",
   "id": "cca11c7c",
   "metadata": {},
   "source": [
    "# ball_in_a_box_2\n",
    "+ Use of [App class](https://pymunk-tutorial.readthedocs.io/en/latest/intro/intro.html#creating-an-app-class) from a Jupyter Notebook file.\n",
    "+ Try to fix stickyy ball on the wall"
   ]
  },
  {
   "cell_type": "markdown",
   "id": "7a7359a6",
   "metadata": {},
   "source": [
    "## original code -- sticky ball on the wall"
   ]
  },
  {
   "cell_type": "code",
   "execution_count": null,
   "id": "0a3cf649",
   "metadata": {
    "scrolled": false
   },
   "outputs": [],
   "source": [
    "# modified from intro5.py from https://pymunk-tutorial.readthedocs.io\n",
    "from ipynb.fs.full.intro import pymunk, space, App\n",
    "\n",
    "space.gravity = -1, 1\n",
    "\n",
    "pts = [(10, 10), (690, 10), (690, 230), (10, 230)]\n",
    "for i in range(len(pts)):\n",
    "    seg = pymunk.Segment(space.static_body, pts[i], pts[(i+1)%len(pts)], 2)\n",
    "    seg.elasticity = 1\n",
    "    seg.friction = 0.5\n",
    "    space.add(seg)\n",
    "\n",
    "body = pymunk.Body(mass=10, moment=10)\n",
    "body.position = (350, 100)\n",
    "body.apply_impulse_at_local_point((100, -100))\n",
    "\n",
    "circle = pymunk.Circle(body, radius=20)\n",
    "circle.elasticty = 0.99\n",
    "circle.friction = 0.5\n",
    "\n",
    "space.add(body, circle)\n",
    "\n",
    "App().run()"
   ]
  },
  {
   "cell_type": "markdown",
   "id": "cab205e7",
   "metadata": {},
   "source": [
    "## test only base segment"
   ]
  },
  {
   "cell_type": "code",
   "execution_count": null,
   "id": "a5cdf690",
   "metadata": {
    "scrolled": false
   },
   "outputs": [],
   "source": [
    "import pymunk\n",
    "import pymunk.pygame_util\n",
    "import pygame\n",
    "\n",
    "BG_COLOR = (0, 0, 0)\n",
    "space = pymunk.Space()\n",
    "space.gravity = 0, -100\n",
    "b0 = space.static_body\n",
    "\n",
    "bounch = False\n",
    "\n",
    "if bounch:\n",
    "    segment = pymunk.Segment(b0, (0, 40), (640, 40), 10)\n",
    "    segment.elasticity = 1\n",
    "\n",
    "    body = pymunk.Body(mass=1, moment=10)\n",
    "    body.position = 100, 450\n",
    "    body.velocity = 20, 0\n",
    "\n",
    "    circle = pymunk.Circle(body, radius=20)\n",
    "    circle.elasticity = 0.85\n",
    "    \n",
    "    space.add(body, circle, segment)\n",
    "else:\n",
    "    seg1 = pymunk.Segment(b0, (350, 10), (690, 40), 2)\n",
    "    seg1.elasticity = 1\n",
    "    seg1.friction = 0.5\n",
    "    space.add(seg1)\n",
    "    \n",
    "    seg2 = pymunk.Segment(b0, (10, 40), (350, 10), 2)\n",
    "    seg2.elasticity = 1\n",
    "    seg2.friction = 0.5\n",
    "    space.add(seg2)\n",
    "\n",
    "    body = pymunk.Body(mass=1, moment=10)\n",
    "    body.position = (100, 450)\n",
    "    body.apply_impulse_at_local_point((100, 300))\n",
    "    body.velocity = 20, 0\n",
    "\n",
    "    circle = pymunk.Circle(body, radius=20)\n",
    "    circle.elasticity = 0.85\n",
    "    circle.friction = 0.5\n",
    "\n",
    "    space.add(body, circle)\n",
    "\n",
    "print(\"Initializing Pygame.\")\n",
    "pygame.init()\n",
    "size = 640, 480\n",
    "screen = pygame.display.set_mode(size)\n",
    "font = pygame.font.Font(None, 24)\n",
    "\n",
    "draw_options = pymunk.pygame_util.DrawOptions(screen)\n",
    "\n",
    "max_i = 3000\n",
    "i = 0\n",
    "running = True\n",
    "print(\"Entering Pygame event loop.\")\n",
    "while running:\n",
    "    for event in pygame.event.get():\n",
    "        if event.type == pygame.QUIT:\n",
    "            running = False\n",
    "            pygame.image.save(screen, \"data/bouncing_ball.png\")\n",
    "            print(\"Cycle left \", max_i - i, \".\", sep='')\n",
    "            print(\"Closing Pygame window.\")\n",
    "    \n",
    "    screen.fill(BG_COLOR)\n",
    "    text = font.render('Cycle left %d' % (max_i - i), True, (255, 255, 255))\n",
    "    screen.blit(text, (510, 450))\n",
    "\n",
    "    space.debug_draw(draw_options)\n",
    "    \n",
    "    pygame.display.update()\n",
    "    \n",
    "    space.step(0.01)\n",
    "    \n",
    "    i += 1\n",
    "    if i >= max_i:\n",
    "        running = False\n",
    "        print(\"Cycle left \", max_i - i, \".\", sep='')\n",
    "        print(\"Exiting Pygame event loop.\")\n",
    "        pygame.image.save(screen, \"data/bouncing_ball.png\")\n",
    "    else:\n",
    "        print(\"Cycle left \", max_i - i, \".    \", sep='', end='\\r')\n",
    "\n",
    "print(\"Quitting Pygame.\")\n",
    "\n",
    "pygame.quit()"
   ]
  },
  {
   "cell_type": "markdown",
   "id": "7e204a8c",
   "metadata": {},
   "source": [
    "Error found:\n",
    "```\n",
    "circle.elasticty\n",
    "```\n",
    "should be\n",
    "```\n",
    "circle.elasticity\n",
    "```"
   ]
  },
  {
   "cell_type": "markdown",
   "id": "6db34534",
   "metadata": {},
   "source": [
    "## corrected code"
   ]
  },
  {
   "cell_type": "code",
   "execution_count": 1,
   "id": "f905efab",
   "metadata": {},
   "outputs": [
    {
     "name": "stdout",
     "output_type": "stream",
     "text": [
      "pygame 2.1.2 (SDL 2.0.18, Python 3.10.9)\n",
      "Hello from the pygame community. https://www.pygame.org/contribute.html\n"
     ]
    }
   ],
   "source": [
    "# modified from intro5.py from https://pymunk-tutorial.readthedocs.io\n",
    "from ipynb.fs.full.intro import pymunk, space, App\n",
    "\n",
    "space.gravity = 0, 0\n",
    "\n",
    "pts = [(10, 10), (690, 10), (690, 230), (10, 230)]\n",
    "for i in range(len(pts)):\n",
    "    seg = pymunk.Segment(space.static_body, pts[i], pts[(i+1)%len(pts)], 2)\n",
    "    seg.elasticity = 0.999\n",
    "    seg.friction = 0.5\n",
    "    space.add(seg)\n",
    "\n",
    "body = pymunk.Body(mass=1, moment=10)\n",
    "body.position = (350, 100)\n",
    "body.apply_impulse_at_local_point((100, -100))\n",
    "\n",
    "circle = pymunk.Circle(body, radius=20)\n",
    "circle.elasticity = 0.999\n",
    "circle.friction = 0.5\n",
    "\n",
    "space.add(body, circle)\n",
    "\n",
    "App().run()"
   ]
  },
  {
   "cell_type": "markdown",
   "id": "500d9453",
   "metadata": {},
   "source": [
    "Finally it can give following output.\n",
    "\n",
    "![](data/ball_in_a_box_2.png)"
   ]
  },
  {
   "cell_type": "code",
   "execution_count": null,
   "id": "64f020f7",
   "metadata": {},
   "outputs": [],
   "source": []
  }
 ],
 "metadata": {
  "authors": [
   {
    "name": "Sparisoma Viridi"
   }
  ],
  "kernelspec": {
   "display_name": "Python 3 (ipykernel)",
   "language": "python",
   "name": "python3"
  },
  "language_info": {
   "codemirror_mode": {
    "name": "ipython",
    "version": 3
   },
   "file_extension": ".py",
   "mimetype": "text/x-python",
   "name": "python",
   "nbconvert_exporter": "python",
   "pygments_lexer": "ipython3",
   "version": "3.10.9"
  },
  "title": "ball_in_a_box_2"
 },
 "nbformat": 4,
 "nbformat_minor": 5
}
