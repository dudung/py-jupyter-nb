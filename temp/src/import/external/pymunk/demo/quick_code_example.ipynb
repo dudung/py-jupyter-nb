{
 "cells": [
  {
   "cell_type": "markdown",
   "id": "cca11c7c",
   "metadata": {},
   "source": [
    "# quick_code_example\n",
    "Code to test pymunk installation as given in http://www.pymunk.org/en/latest/#example."
   ]
  },
  {
   "cell_type": "code",
   "execution_count": 1,
   "id": "a5cdf690",
   "metadata": {
    "scrolled": true
   },
   "outputs": [
    {
     "name": "stdout",
     "output_type": "stream",
     "text": [
      "draw_polygon ([Vec2d(55.0, 95.0), Vec2d(55.0, 105.0), Vec2d(45.0, 105.0), Vec2d(45.0, 95.0)], 0.0, SpaceDebugColor(r=44.0, g=62.0, b=80.0, a=255.0), SpaceDebugColor(r=52.0, g=152.0, b=219.0, a=255.0))\n",
      "draw_polygon ([Vec2d(55.0, 94.6076), Vec2d(55.0, 104.6076), Vec2d(45.0, 104.6076), Vec2d(45.0, 94.6076)], 0.0, SpaceDebugColor(r=44.0, g=62.0, b=80.0, a=255.0), SpaceDebugColor(r=52.0, g=152.0, b=219.0, a=255.0))\n",
      "draw_polygon ([Vec2d(55.0, 93.8228), Vec2d(55.0, 103.8228), Vec2d(45.0, 103.8228), Vec2d(45.0, 93.8228)], 0.0, SpaceDebugColor(r=44.0, g=62.0, b=80.0, a=255.0), SpaceDebugColor(r=52.0, g=152.0, b=219.0, a=255.0))\n",
      "draw_polygon ([Vec2d(55.0, 92.6456), Vec2d(55.0, 102.6456), Vec2d(45.0, 102.6456), Vec2d(45.0, 92.6456)], 0.0, SpaceDebugColor(r=44.0, g=62.0, b=80.0, a=255.0), SpaceDebugColor(r=52.0, g=152.0, b=219.0, a=255.0))\n",
      "draw_polygon ([Vec2d(55.0, 91.07600000000001), Vec2d(55.0, 101.07600000000001), Vec2d(45.0, 101.07600000000001), Vec2d(45.0, 91.07600000000001)], 0.0, SpaceDebugColor(r=44.0, g=62.0, b=80.0, a=255.0), SpaceDebugColor(r=52.0, g=152.0, b=219.0, a=255.0))\n",
      "draw_polygon ([Vec2d(55.0, 89.114), Vec2d(55.0, 99.114), Vec2d(45.0, 99.114), Vec2d(45.0, 89.114)], 0.0, SpaceDebugColor(r=44.0, g=62.0, b=80.0, a=255.0), SpaceDebugColor(r=52.0, g=152.0, b=219.0, a=255.0))\n",
      "draw_polygon ([Vec2d(55.0, 86.7596), Vec2d(55.0, 96.7596), Vec2d(45.0, 96.7596), Vec2d(45.0, 86.7596)], 0.0, SpaceDebugColor(r=44.0, g=62.0, b=80.0, a=255.0), SpaceDebugColor(r=52.0, g=152.0, b=219.0, a=255.0))\n",
      "draw_polygon ([Vec2d(55.0, 84.01280000000001), Vec2d(55.0, 94.01280000000001), Vec2d(45.0, 94.01280000000001), Vec2d(45.0, 84.01280000000001)], 0.0, SpaceDebugColor(r=44.0, g=62.0, b=80.0, a=255.0), SpaceDebugColor(r=52.0, g=152.0, b=219.0, a=255.0))\n",
      "draw_polygon ([Vec2d(55.0, 80.87360000000001), Vec2d(55.0, 90.87360000000001), Vec2d(45.0, 90.87360000000001), Vec2d(45.0, 80.87360000000001)], 0.0, SpaceDebugColor(r=44.0, g=62.0, b=80.0, a=255.0), SpaceDebugColor(r=52.0, g=152.0, b=219.0, a=255.0))\n",
      "draw_polygon ([Vec2d(55.0, 77.34200000000001), Vec2d(55.0, 87.34200000000001), Vec2d(45.0, 87.34200000000001), Vec2d(45.0, 77.34200000000001)], 0.0, SpaceDebugColor(r=44.0, g=62.0, b=80.0, a=255.0), SpaceDebugColor(r=52.0, g=152.0, b=219.0, a=255.0))\n",
      "draw_polygon ([Vec2d(55.0, 73.418), Vec2d(55.0, 83.418), Vec2d(45.0, 83.418), Vec2d(45.0, 73.418)], 0.0, SpaceDebugColor(r=44.0, g=62.0, b=80.0, a=255.0), SpaceDebugColor(r=52.0, g=152.0, b=219.0, a=255.0))\n",
      "draw_polygon ([Vec2d(55.0, 69.1016), Vec2d(55.0, 79.1016), Vec2d(45.0, 79.1016), Vec2d(45.0, 69.1016)], 0.0, SpaceDebugColor(r=44.0, g=62.0, b=80.0, a=255.0), SpaceDebugColor(r=52.0, g=152.0, b=219.0, a=255.0))\n",
      "draw_polygon ([Vec2d(55.0, 64.39280000000001), Vec2d(55.0, 74.39280000000001), Vec2d(45.0, 74.39280000000001), Vec2d(45.0, 64.39280000000001)], 0.0, SpaceDebugColor(r=44.0, g=62.0, b=80.0, a=255.0), SpaceDebugColor(r=52.0, g=152.0, b=219.0, a=255.0))\n",
      "draw_polygon ([Vec2d(55.0, 59.2916), Vec2d(55.0, 69.2916), Vec2d(45.0, 69.2916), Vec2d(45.0, 59.2916)], 0.0, SpaceDebugColor(r=44.0, g=62.0, b=80.0, a=255.0), SpaceDebugColor(r=52.0, g=152.0, b=219.0, a=255.0))\n",
      "draw_polygon ([Vec2d(55.0, 53.798), Vec2d(55.0, 63.798), Vec2d(45.0, 63.798), Vec2d(45.0, 53.798)], 0.0, SpaceDebugColor(r=44.0, g=62.0, b=80.0, a=255.0), SpaceDebugColor(r=52.0, g=152.0, b=219.0, a=255.0))\n",
      "draw_polygon ([Vec2d(55.0, 47.912), Vec2d(55.0, 57.912), Vec2d(45.0, 57.912), Vec2d(45.0, 47.912)], 0.0, SpaceDebugColor(r=44.0, g=62.0, b=80.0, a=255.0), SpaceDebugColor(r=52.0, g=152.0, b=219.0, a=255.0))\n",
      "draw_polygon ([Vec2d(55.0, 41.6336), Vec2d(55.0, 51.6336), Vec2d(45.0, 51.6336), Vec2d(45.0, 41.6336)], 0.0, SpaceDebugColor(r=44.0, g=62.0, b=80.0, a=255.0), SpaceDebugColor(r=52.0, g=152.0, b=219.0, a=255.0))\n",
      "draw_polygon ([Vec2d(55.0, 34.9628), Vec2d(55.0, 44.9628), Vec2d(45.0, 44.9628), Vec2d(45.0, 34.9628)], 0.0, SpaceDebugColor(r=44.0, g=62.0, b=80.0, a=255.0), SpaceDebugColor(r=52.0, g=152.0, b=219.0, a=255.0))\n",
      "draw_polygon ([Vec2d(55.0, 27.8996), Vec2d(55.0, 37.8996), Vec2d(45.0, 37.8996), Vec2d(45.0, 27.8996)], 0.0, SpaceDebugColor(r=44.0, g=62.0, b=80.0, a=255.0), SpaceDebugColor(r=52.0, g=152.0, b=219.0, a=255.0))\n",
      "draw_polygon ([Vec2d(55.0, 20.444), Vec2d(55.0, 30.444), Vec2d(45.0, 30.444), Vec2d(45.0, 20.444)], 0.0, SpaceDebugColor(r=44.0, g=62.0, b=80.0, a=255.0), SpaceDebugColor(r=52.0, g=152.0, b=219.0, a=255.0))\n",
      "draw_polygon ([Vec2d(55.0, 12.595999999999997), Vec2d(55.0, 22.595999999999997), Vec2d(45.0, 22.595999999999997), Vec2d(45.0, 12.595999999999997)], 0.0, SpaceDebugColor(r=44.0, g=62.0, b=80.0, a=255.0), SpaceDebugColor(r=52.0, g=152.0, b=219.0, a=255.0))\n",
      "draw_polygon ([Vec2d(55.0, 4.3555999999999955), Vec2d(55.0, 14.355599999999995), Vec2d(45.0, 14.355599999999995), Vec2d(45.0, 4.3555999999999955)], 0.0, SpaceDebugColor(r=44.0, g=62.0, b=80.0, a=255.0), SpaceDebugColor(r=52.0, g=152.0, b=219.0, a=255.0))\n",
      "draw_polygon ([Vec2d(55.0, -4.277200000000006), Vec2d(55.0, 5.722799999999994), Vec2d(45.0, 5.722799999999994), Vec2d(45.0, -4.277200000000006)], 0.0, SpaceDebugColor(r=44.0, g=62.0, b=80.0, a=255.0), SpaceDebugColor(r=52.0, g=152.0, b=219.0, a=255.0))\n",
      "draw_polygon ([Vec2d(55.0, -13.302400000000008), Vec2d(55.0, -3.3024000000000076), Vec2d(45.0, -3.3024000000000076), Vec2d(45.0, -13.302400000000008)], 0.0, SpaceDebugColor(r=44.0, g=62.0, b=80.0, a=255.0), SpaceDebugColor(r=52.0, g=152.0, b=219.0, a=255.0))\n",
      "draw_polygon ([Vec2d(55.0, -22.72000000000001), Vec2d(55.0, -12.72000000000001), Vec2d(45.0, -12.72000000000001), Vec2d(45.0, -22.72000000000001)], 0.0, SpaceDebugColor(r=44.0, g=62.0, b=80.0, a=255.0), SpaceDebugColor(r=52.0, g=152.0, b=219.0, a=255.0))\n",
      "draw_polygon ([Vec2d(55.0, -32.53000000000001), Vec2d(55.0, -22.53000000000001), Vec2d(45.0, -22.53000000000001), Vec2d(45.0, -32.53000000000001)], 0.0, SpaceDebugColor(r=44.0, g=62.0, b=80.0, a=255.0), SpaceDebugColor(r=52.0, g=152.0, b=219.0, a=255.0))\n",
      "draw_polygon ([Vec2d(55.0, -42.73240000000001), Vec2d(55.0, -32.73240000000001), Vec2d(45.0, -32.73240000000001), Vec2d(45.0, -42.73240000000001)], 0.0, SpaceDebugColor(r=44.0, g=62.0, b=80.0, a=255.0), SpaceDebugColor(r=52.0, g=152.0, b=219.0, a=255.0))\n",
      "draw_polygon ([Vec2d(55.0, -53.32720000000001), Vec2d(55.0, -43.32720000000001), Vec2d(45.0, -43.32720000000001), Vec2d(45.0, -53.32720000000001)], 0.0, SpaceDebugColor(r=44.0, g=62.0, b=80.0, a=255.0), SpaceDebugColor(r=52.0, g=152.0, b=219.0, a=255.0))\n",
      "draw_polygon ([Vec2d(55.0, -64.3144), Vec2d(55.0, -54.31440000000001), Vec2d(45.0, -54.31440000000001), Vec2d(45.0, -64.3144)], 0.0, SpaceDebugColor(r=44.0, g=62.0, b=80.0, a=255.0), SpaceDebugColor(r=52.0, g=152.0, b=219.0, a=255.0))\n",
      "draw_polygon ([Vec2d(55.0, -75.69400000000002), Vec2d(55.0, -65.69400000000002), Vec2d(45.0, -65.69400000000002), Vec2d(45.0, -75.69400000000002)], 0.0, SpaceDebugColor(r=44.0, g=62.0, b=80.0, a=255.0), SpaceDebugColor(r=52.0, g=152.0, b=219.0, a=255.0))\n",
      "draw_polygon ([Vec2d(55.0, -87.46600000000002), Vec2d(55.0, -77.46600000000002), Vec2d(45.0, -77.46600000000002), Vec2d(45.0, -87.46600000000002)], 0.0, SpaceDebugColor(r=44.0, g=62.0, b=80.0, a=255.0), SpaceDebugColor(r=52.0, g=152.0, b=219.0, a=255.0))\n",
      "draw_polygon ([Vec2d(55.0, -99.63040000000002), Vec2d(55.0, -89.63040000000002), Vec2d(45.0, -89.63040000000002), Vec2d(45.0, -99.63040000000002)], 0.0, SpaceDebugColor(r=44.0, g=62.0, b=80.0, a=255.0), SpaceDebugColor(r=52.0, g=152.0, b=219.0, a=255.0))\n",
      "draw_polygon ([Vec2d(55.0, -112.18720000000002), Vec2d(55.0, -102.18720000000002), Vec2d(45.0, -102.18720000000002), Vec2d(45.0, -112.18720000000002)], 0.0, SpaceDebugColor(r=44.0, g=62.0, b=80.0, a=255.0), SpaceDebugColor(r=52.0, g=152.0, b=219.0, a=255.0))\n",
      "draw_polygon ([Vec2d(55.0, -125.13640000000002), Vec2d(55.0, -115.13640000000002), Vec2d(45.0, -115.13640000000002), Vec2d(45.0, -125.13640000000002)], 0.0, SpaceDebugColor(r=44.0, g=62.0, b=80.0, a=255.0), SpaceDebugColor(r=52.0, g=152.0, b=219.0, a=255.0))\n",
      "draw_polygon ([Vec2d(55.0, -138.47800000000004), Vec2d(55.0, -128.47800000000004), Vec2d(45.0, -128.47800000000004), Vec2d(45.0, -138.47800000000004)], 0.0, SpaceDebugColor(r=44.0, g=62.0, b=80.0, a=255.0), SpaceDebugColor(r=52.0, g=152.0, b=219.0, a=255.0))\n",
      "draw_polygon ([Vec2d(55.0, -152.21200000000005), Vec2d(55.0, -142.21200000000005), Vec2d(45.0, -142.21200000000005), Vec2d(45.0, -152.21200000000005)], 0.0, SpaceDebugColor(r=44.0, g=62.0, b=80.0, a=255.0), SpaceDebugColor(r=52.0, g=152.0, b=219.0, a=255.0))\n",
      "draw_polygon ([Vec2d(55.0, -166.33840000000004), Vec2d(55.0, -156.33840000000004), Vec2d(45.0, -156.33840000000004), Vec2d(45.0, -166.33840000000004)], 0.0, SpaceDebugColor(r=44.0, g=62.0, b=80.0, a=255.0), SpaceDebugColor(r=52.0, g=152.0, b=219.0, a=255.0))\n",
      "draw_polygon ([Vec2d(55.0, -180.85720000000003), Vec2d(55.0, -170.85720000000003), Vec2d(45.0, -170.85720000000003), Vec2d(45.0, -180.85720000000003)], 0.0, SpaceDebugColor(r=44.0, g=62.0, b=80.0, a=255.0), SpaceDebugColor(r=52.0, g=152.0, b=219.0, a=255.0))\n",
      "draw_polygon ([Vec2d(55.0, -195.76840000000004), Vec2d(55.0, -185.76840000000004), Vec2d(45.0, -185.76840000000004), Vec2d(45.0, -195.76840000000004)], 0.0, SpaceDebugColor(r=44.0, g=62.0, b=80.0, a=255.0), SpaceDebugColor(r=52.0, g=152.0, b=219.0, a=255.0))\n",
      "draw_polygon ([Vec2d(55.0, -211.07200000000003), Vec2d(55.0, -201.07200000000003), Vec2d(45.0, -201.07200000000003), Vec2d(45.0, -211.07200000000003)], 0.0, SpaceDebugColor(r=44.0, g=62.0, b=80.0, a=255.0), SpaceDebugColor(r=52.0, g=152.0, b=219.0, a=255.0))\n",
      "draw_polygon ([Vec2d(55.0, -226.76800000000003), Vec2d(55.0, -216.76800000000003), Vec2d(45.0, -216.76800000000003), Vec2d(45.0, -226.76800000000003)], 0.0, SpaceDebugColor(r=44.0, g=62.0, b=80.0, a=255.0), SpaceDebugColor(r=52.0, g=152.0, b=219.0, a=255.0))\n",
      "draw_polygon ([Vec2d(55.0, -242.85640000000004), Vec2d(55.0, -232.85640000000004), Vec2d(45.0, -232.85640000000004), Vec2d(45.0, -242.85640000000004)], 0.0, SpaceDebugColor(r=44.0, g=62.0, b=80.0, a=255.0), SpaceDebugColor(r=52.0, g=152.0, b=219.0, a=255.0))\n",
      "draw_polygon ([Vec2d(55.0, -259.33720000000005), Vec2d(55.0, -249.33720000000005), Vec2d(45.0, -249.33720000000005), Vec2d(45.0, -259.33720000000005)], 0.0, SpaceDebugColor(r=44.0, g=62.0, b=80.0, a=255.0), SpaceDebugColor(r=52.0, g=152.0, b=219.0, a=255.0))\n",
      "draw_polygon ([Vec2d(55.0, -276.21040000000005), Vec2d(55.0, -266.21040000000005), Vec2d(45.0, -266.21040000000005), Vec2d(45.0, -276.21040000000005)], 0.0, SpaceDebugColor(r=44.0, g=62.0, b=80.0, a=255.0), SpaceDebugColor(r=52.0, g=152.0, b=219.0, a=255.0))\n",
      "draw_polygon ([Vec2d(55.0, -293.47600000000006), Vec2d(55.0, -283.47600000000006), Vec2d(45.0, -283.47600000000006), Vec2d(45.0, -293.47600000000006)], 0.0, SpaceDebugColor(r=44.0, g=62.0, b=80.0, a=255.0), SpaceDebugColor(r=52.0, g=152.0, b=219.0, a=255.0))\n",
      "draw_polygon ([Vec2d(55.0, -311.13400000000007), Vec2d(55.0, -301.13400000000007), Vec2d(45.0, -301.13400000000007), Vec2d(45.0, -311.13400000000007)], 0.0, SpaceDebugColor(r=44.0, g=62.0, b=80.0, a=255.0), SpaceDebugColor(r=52.0, g=152.0, b=219.0, a=255.0))\n",
      "draw_polygon ([Vec2d(55.0, -329.1844000000001), Vec2d(55.0, -319.1844000000001), Vec2d(45.0, -319.1844000000001), Vec2d(45.0, -329.1844000000001)], 0.0, SpaceDebugColor(r=44.0, g=62.0, b=80.0, a=255.0), SpaceDebugColor(r=52.0, g=152.0, b=219.0, a=255.0))\n",
      "draw_polygon ([Vec2d(55.0, -347.6272000000001), Vec2d(55.0, -337.6272000000001), Vec2d(45.0, -337.6272000000001), Vec2d(45.0, -347.6272000000001)], 0.0, SpaceDebugColor(r=44.0, g=62.0, b=80.0, a=255.0), SpaceDebugColor(r=52.0, g=152.0, b=219.0, a=255.0))\n",
      "draw_polygon ([Vec2d(55.0, -366.46240000000006), Vec2d(55.0, -356.46240000000006), Vec2d(45.0, -356.46240000000006), Vec2d(45.0, -366.46240000000006)], 0.0, SpaceDebugColor(r=44.0, g=62.0, b=80.0, a=255.0), SpaceDebugColor(r=52.0, g=152.0, b=219.0, a=255.0))\n",
      "draw_polygon ([Vec2d(55.0, -385.69000000000005), Vec2d(55.0, -375.69000000000005), Vec2d(45.0, -375.69000000000005), Vec2d(45.0, -385.69000000000005)], 0.0, SpaceDebugColor(r=44.0, g=62.0, b=80.0, a=255.0), SpaceDebugColor(r=52.0, g=152.0, b=219.0, a=255.0))\n",
      "draw_polygon ([Vec2d(55.0, -405.31000000000006), Vec2d(55.0, -395.31000000000006), Vec2d(45.0, -395.31000000000006), Vec2d(45.0, -405.31000000000006)], 0.0, SpaceDebugColor(r=44.0, g=62.0, b=80.0, a=255.0), SpaceDebugColor(r=52.0, g=152.0, b=219.0, a=255.0))\n",
      "draw_polygon ([Vec2d(55.0, -425.3224000000001), Vec2d(55.0, -415.3224000000001), Vec2d(45.0, -415.3224000000001), Vec2d(45.0, -425.3224000000001)], 0.0, SpaceDebugColor(r=44.0, g=62.0, b=80.0, a=255.0), SpaceDebugColor(r=52.0, g=152.0, b=219.0, a=255.0))\n",
      "draw_polygon ([Vec2d(55.0, -445.7272000000001), Vec2d(55.0, -435.7272000000001), Vec2d(45.0, -435.7272000000001), Vec2d(45.0, -445.7272000000001)], 0.0, SpaceDebugColor(r=44.0, g=62.0, b=80.0, a=255.0), SpaceDebugColor(r=52.0, g=152.0, b=219.0, a=255.0))\n",
      "draw_polygon ([Vec2d(55.0, -466.5244000000001), Vec2d(55.0, -456.5244000000001), Vec2d(45.0, -456.5244000000001), Vec2d(45.0, -466.5244000000001)], 0.0, SpaceDebugColor(r=44.0, g=62.0, b=80.0, a=255.0), SpaceDebugColor(r=52.0, g=152.0, b=219.0, a=255.0))\n",
      "draw_polygon ([Vec2d(55.0, -487.7140000000001), Vec2d(55.0, -477.7140000000001), Vec2d(45.0, -477.7140000000001), Vec2d(45.0, -487.7140000000001)], 0.0, SpaceDebugColor(r=44.0, g=62.0, b=80.0, a=255.0), SpaceDebugColor(r=52.0, g=152.0, b=219.0, a=255.0))\n",
      "draw_polygon ([Vec2d(55.0, -509.2960000000001), Vec2d(55.0, -499.2960000000001), Vec2d(45.0, -499.2960000000001), Vec2d(45.0, -509.2960000000001)], 0.0, SpaceDebugColor(r=44.0, g=62.0, b=80.0, a=255.0), SpaceDebugColor(r=52.0, g=152.0, b=219.0, a=255.0))\n",
      "draw_polygon ([Vec2d(55.0, -531.2704000000001), Vec2d(55.0, -521.2704000000001), Vec2d(45.0, -521.2704000000001), Vec2d(45.0, -531.2704000000001)], 0.0, SpaceDebugColor(r=44.0, g=62.0, b=80.0, a=255.0), SpaceDebugColor(r=52.0, g=152.0, b=219.0, a=255.0))\n",
      "draw_polygon ([Vec2d(55.0, -553.6372000000001), Vec2d(55.0, -543.6372000000001), Vec2d(45.0, -543.6372000000001), Vec2d(45.0, -553.6372000000001)], 0.0, SpaceDebugColor(r=44.0, g=62.0, b=80.0, a=255.0), SpaceDebugColor(r=52.0, g=152.0, b=219.0, a=255.0))\n",
      "draw_polygon ([Vec2d(55.0, -576.3964000000001), Vec2d(55.0, -566.3964000000001), Vec2d(45.0, -566.3964000000001), Vec2d(45.0, -576.3964000000001)], 0.0, SpaceDebugColor(r=44.0, g=62.0, b=80.0, a=255.0), SpaceDebugColor(r=52.0, g=152.0, b=219.0, a=255.0))\n",
      "draw_polygon ([Vec2d(55.0, -599.5480000000001), Vec2d(55.0, -589.5480000000001), Vec2d(45.0, -589.5480000000001), Vec2d(45.0, -599.5480000000001)], 0.0, SpaceDebugColor(r=44.0, g=62.0, b=80.0, a=255.0), SpaceDebugColor(r=52.0, g=152.0, b=219.0, a=255.0))\n",
      "draw_polygon ([Vec2d(55.0, -623.0920000000001), Vec2d(55.0, -613.0920000000001), Vec2d(45.0, -613.0920000000001), Vec2d(45.0, -623.0920000000001)], 0.0, SpaceDebugColor(r=44.0, g=62.0, b=80.0, a=255.0), SpaceDebugColor(r=52.0, g=152.0, b=219.0, a=255.0))\n",
      "draw_polygon ([Vec2d(55.0, -647.0284), Vec2d(55.0, -637.0284), Vec2d(45.0, -637.0284), Vec2d(45.0, -647.0284)], 0.0, SpaceDebugColor(r=44.0, g=62.0, b=80.0, a=255.0), SpaceDebugColor(r=52.0, g=152.0, b=219.0, a=255.0))\n",
      "draw_polygon ([Vec2d(55.0, -671.3572), Vec2d(55.0, -661.3572), Vec2d(45.0, -661.3572), Vec2d(45.0, -671.3572)], 0.0, SpaceDebugColor(r=44.0, g=62.0, b=80.0, a=255.0), SpaceDebugColor(r=52.0, g=152.0, b=219.0, a=255.0))\n",
      "draw_polygon ([Vec2d(55.0, -696.0784), Vec2d(55.0, -686.0784), Vec2d(45.0, -686.0784), Vec2d(45.0, -696.0784)], 0.0, SpaceDebugColor(r=44.0, g=62.0, b=80.0, a=255.0), SpaceDebugColor(r=52.0, g=152.0, b=219.0, a=255.0))\n",
      "draw_polygon ([Vec2d(55.0, -721.192), Vec2d(55.0, -711.192), Vec2d(45.0, -711.192), Vec2d(45.0, -721.192)], 0.0, SpaceDebugColor(r=44.0, g=62.0, b=80.0, a=255.0), SpaceDebugColor(r=52.0, g=152.0, b=219.0, a=255.0))\n",
      "draw_polygon ([Vec2d(55.0, -746.698), Vec2d(55.0, -736.698), Vec2d(45.0, -736.698), Vec2d(45.0, -746.698)], 0.0, SpaceDebugColor(r=44.0, g=62.0, b=80.0, a=255.0), SpaceDebugColor(r=52.0, g=152.0, b=219.0, a=255.0))\n",
      "draw_polygon ([Vec2d(55.0, -772.5963999999999), Vec2d(55.0, -762.5963999999999), Vec2d(45.0, -762.5963999999999), Vec2d(45.0, -772.5963999999999)], 0.0, SpaceDebugColor(r=44.0, g=62.0, b=80.0, a=255.0), SpaceDebugColor(r=52.0, g=152.0, b=219.0, a=255.0))\n",
      "draw_polygon ([Vec2d(55.0, -798.8871999999999), Vec2d(55.0, -788.8871999999999), Vec2d(45.0, -788.8871999999999), Vec2d(45.0, -798.8871999999999)], 0.0, SpaceDebugColor(r=44.0, g=62.0, b=80.0, a=255.0), SpaceDebugColor(r=52.0, g=152.0, b=219.0, a=255.0))\n",
      "draw_polygon ([Vec2d(55.0, -825.5703999999998), Vec2d(55.0, -815.5703999999998), Vec2d(45.0, -815.5703999999998), Vec2d(45.0, -825.5703999999998)], 0.0, SpaceDebugColor(r=44.0, g=62.0, b=80.0, a=255.0), SpaceDebugColor(r=52.0, g=152.0, b=219.0, a=255.0))\n",
      "draw_polygon ([Vec2d(55.0, -852.6459999999998), Vec2d(55.0, -842.6459999999998), Vec2d(45.0, -842.6459999999998), Vec2d(45.0, -852.6459999999998)], 0.0, SpaceDebugColor(r=44.0, g=62.0, b=80.0, a=255.0), SpaceDebugColor(r=52.0, g=152.0, b=219.0, a=255.0))\n",
      "draw_polygon ([Vec2d(55.0, -880.1139999999998), Vec2d(55.0, -870.1139999999998), Vec2d(45.0, -870.1139999999998), Vec2d(45.0, -880.1139999999998)], 0.0, SpaceDebugColor(r=44.0, g=62.0, b=80.0, a=255.0), SpaceDebugColor(r=52.0, g=152.0, b=219.0, a=255.0))\n",
      "draw_polygon ([Vec2d(55.0, -907.9743999999997), Vec2d(55.0, -897.9743999999997), Vec2d(45.0, -897.9743999999997), Vec2d(45.0, -907.9743999999997)], 0.0, SpaceDebugColor(r=44.0, g=62.0, b=80.0, a=255.0), SpaceDebugColor(r=52.0, g=152.0, b=219.0, a=255.0))\n",
      "draw_polygon ([Vec2d(55.0, -936.2271999999997), Vec2d(55.0, -926.2271999999997), Vec2d(45.0, -926.2271999999997), Vec2d(45.0, -936.2271999999997)], 0.0, SpaceDebugColor(r=44.0, g=62.0, b=80.0, a=255.0), SpaceDebugColor(r=52.0, g=152.0, b=219.0, a=255.0))\n",
      "draw_polygon ([Vec2d(55.0, -964.8723999999996), Vec2d(55.0, -954.8723999999996), Vec2d(45.0, -954.8723999999996), Vec2d(45.0, -964.8723999999996)], 0.0, SpaceDebugColor(r=44.0, g=62.0, b=80.0, a=255.0), SpaceDebugColor(r=52.0, g=152.0, b=219.0, a=255.0))\n",
      "draw_polygon ([Vec2d(55.0, -993.9099999999996), Vec2d(55.0, -983.9099999999996), Vec2d(45.0, -983.9099999999996), Vec2d(45.0, -993.9099999999996)], 0.0, SpaceDebugColor(r=44.0, g=62.0, b=80.0, a=255.0), SpaceDebugColor(r=52.0, g=152.0, b=219.0, a=255.0))\n",
      "draw_polygon ([Vec2d(55.0, -1023.3399999999996), Vec2d(55.0, -1013.3399999999996), Vec2d(45.0, -1013.3399999999996), Vec2d(45.0, -1023.3399999999996)], 0.0, SpaceDebugColor(r=44.0, g=62.0, b=80.0, a=255.0), SpaceDebugColor(r=52.0, g=152.0, b=219.0, a=255.0))\n",
      "draw_polygon ([Vec2d(55.0, -1053.1623999999995), Vec2d(55.0, -1043.1623999999995), Vec2d(45.0, -1043.1623999999995), Vec2d(45.0, -1053.1623999999995)], 0.0, SpaceDebugColor(r=44.0, g=62.0, b=80.0, a=255.0), SpaceDebugColor(r=52.0, g=152.0, b=219.0, a=255.0))\n",
      "draw_polygon ([Vec2d(55.0, -1083.3771999999994), Vec2d(55.0, -1073.3771999999994), Vec2d(45.0, -1073.3771999999994), Vec2d(45.0, -1083.3771999999994)], 0.0, SpaceDebugColor(r=44.0, g=62.0, b=80.0, a=255.0), SpaceDebugColor(r=52.0, g=152.0, b=219.0, a=255.0))\n",
      "draw_polygon ([Vec2d(55.0, -1113.9843999999994), Vec2d(55.0, -1103.9843999999994), Vec2d(45.0, -1103.9843999999994), Vec2d(45.0, -1113.9843999999994)], 0.0, SpaceDebugColor(r=44.0, g=62.0, b=80.0, a=255.0), SpaceDebugColor(r=52.0, g=152.0, b=219.0, a=255.0))\n",
      "draw_polygon ([Vec2d(55.0, -1144.9839999999992), Vec2d(55.0, -1134.9839999999992), Vec2d(45.0, -1134.9839999999992), Vec2d(45.0, -1144.9839999999992)], 0.0, SpaceDebugColor(r=44.0, g=62.0, b=80.0, a=255.0), SpaceDebugColor(r=52.0, g=152.0, b=219.0, a=255.0))\n",
      "draw_polygon ([Vec2d(55.0, -1176.3759999999993), Vec2d(55.0, -1166.3759999999993), Vec2d(45.0, -1166.3759999999993), Vec2d(45.0, -1176.3759999999993)], 0.0, SpaceDebugColor(r=44.0, g=62.0, b=80.0, a=255.0), SpaceDebugColor(r=52.0, g=152.0, b=219.0, a=255.0))\n",
      "draw_polygon ([Vec2d(55.0, -1208.1603999999993), Vec2d(55.0, -1198.1603999999993), Vec2d(45.0, -1198.1603999999993), Vec2d(45.0, -1208.1603999999993)], 0.0, SpaceDebugColor(r=44.0, g=62.0, b=80.0, a=255.0), SpaceDebugColor(r=52.0, g=152.0, b=219.0, a=255.0))\n",
      "draw_polygon ([Vec2d(55.0, -1240.3371999999993), Vec2d(55.0, -1230.3371999999993), Vec2d(45.0, -1230.3371999999993), Vec2d(45.0, -1240.3371999999993)], 0.0, SpaceDebugColor(r=44.0, g=62.0, b=80.0, a=255.0), SpaceDebugColor(r=52.0, g=152.0, b=219.0, a=255.0))\n",
      "draw_polygon ([Vec2d(55.0, -1272.9063999999992), Vec2d(55.0, -1262.9063999999992), Vec2d(45.0, -1262.9063999999992), Vec2d(45.0, -1272.9063999999992)], 0.0, SpaceDebugColor(r=44.0, g=62.0, b=80.0, a=255.0), SpaceDebugColor(r=52.0, g=152.0, b=219.0, a=255.0))\n",
      "draw_polygon ([Vec2d(55.0, -1305.867999999999), Vec2d(55.0, -1295.867999999999), Vec2d(45.0, -1295.867999999999), Vec2d(45.0, -1305.867999999999)], 0.0, SpaceDebugColor(r=44.0, g=62.0, b=80.0, a=255.0), SpaceDebugColor(r=52.0, g=152.0, b=219.0, a=255.0))\n",
      "draw_polygon ([Vec2d(55.0, -1339.221999999999), Vec2d(55.0, -1329.221999999999), Vec2d(45.0, -1329.221999999999), Vec2d(45.0, -1339.221999999999)], 0.0, SpaceDebugColor(r=44.0, g=62.0, b=80.0, a=255.0), SpaceDebugColor(r=52.0, g=152.0, b=219.0, a=255.0))\n",
      "draw_polygon ([Vec2d(55.0, -1372.968399999999), Vec2d(55.0, -1362.968399999999), Vec2d(45.0, -1362.968399999999), Vec2d(45.0, -1372.968399999999)], 0.0, SpaceDebugColor(r=44.0, g=62.0, b=80.0, a=255.0), SpaceDebugColor(r=52.0, g=152.0, b=219.0, a=255.0))\n",
      "draw_polygon ([Vec2d(55.0, -1407.107199999999), Vec2d(55.0, -1397.107199999999), Vec2d(45.0, -1397.107199999999), Vec2d(45.0, -1407.107199999999)], 0.0, SpaceDebugColor(r=44.0, g=62.0, b=80.0, a=255.0), SpaceDebugColor(r=52.0, g=152.0, b=219.0, a=255.0))\n",
      "draw_polygon ([Vec2d(55.0, -1441.638399999999), Vec2d(55.0, -1431.638399999999), Vec2d(45.0, -1431.638399999999), Vec2d(45.0, -1441.638399999999)], 0.0, SpaceDebugColor(r=44.0, g=62.0, b=80.0, a=255.0), SpaceDebugColor(r=52.0, g=152.0, b=219.0, a=255.0))\n",
      "draw_polygon ([Vec2d(55.0, -1476.5619999999988), Vec2d(55.0, -1466.5619999999988), Vec2d(45.0, -1466.5619999999988), Vec2d(45.0, -1476.5619999999988)], 0.0, SpaceDebugColor(r=44.0, g=62.0, b=80.0, a=255.0), SpaceDebugColor(r=52.0, g=152.0, b=219.0, a=255.0))\n",
      "draw_polygon ([Vec2d(55.0, -1511.8779999999988), Vec2d(55.0, -1501.8779999999988), Vec2d(45.0, -1501.8779999999988), Vec2d(45.0, -1511.8779999999988)], 0.0, SpaceDebugColor(r=44.0, g=62.0, b=80.0, a=255.0), SpaceDebugColor(r=52.0, g=152.0, b=219.0, a=255.0))\n",
      "draw_polygon ([Vec2d(55.0, -1547.5863999999988), Vec2d(55.0, -1537.5863999999988), Vec2d(45.0, -1537.5863999999988), Vec2d(45.0, -1547.5863999999988)], 0.0, SpaceDebugColor(r=44.0, g=62.0, b=80.0, a=255.0), SpaceDebugColor(r=52.0, g=152.0, b=219.0, a=255.0))\n",
      "draw_polygon ([Vec2d(55.0, -1583.6871999999987), Vec2d(55.0, -1573.6871999999987), Vec2d(45.0, -1573.6871999999987), Vec2d(45.0, -1583.6871999999987)], 0.0, SpaceDebugColor(r=44.0, g=62.0, b=80.0, a=255.0), SpaceDebugColor(r=52.0, g=152.0, b=219.0, a=255.0))\n",
      "draw_polygon ([Vec2d(55.0, -1620.1803999999986), Vec2d(55.0, -1610.1803999999986), Vec2d(45.0, -1610.1803999999986), Vec2d(45.0, -1620.1803999999986)], 0.0, SpaceDebugColor(r=44.0, g=62.0, b=80.0, a=255.0), SpaceDebugColor(r=52.0, g=152.0, b=219.0, a=255.0))\n",
      "draw_polygon ([Vec2d(55.0, -1657.0659999999984), Vec2d(55.0, -1647.0659999999984), Vec2d(45.0, -1647.0659999999984), Vec2d(45.0, -1657.0659999999984)], 0.0, SpaceDebugColor(r=44.0, g=62.0, b=80.0, a=255.0), SpaceDebugColor(r=52.0, g=152.0, b=219.0, a=255.0))\n",
      "draw_polygon ([Vec2d(55.0, -1694.3439999999985), Vec2d(55.0, -1684.3439999999985), Vec2d(45.0, -1684.3439999999985), Vec2d(45.0, -1694.3439999999985)], 0.0, SpaceDebugColor(r=44.0, g=62.0, b=80.0, a=255.0), SpaceDebugColor(r=52.0, g=152.0, b=219.0, a=255.0))\n",
      "draw_polygon ([Vec2d(55.0, -1732.0143999999984), Vec2d(55.0, -1722.0143999999984), Vec2d(45.0, -1722.0143999999984), Vec2d(45.0, -1732.0143999999984)], 0.0, SpaceDebugColor(r=44.0, g=62.0, b=80.0, a=255.0), SpaceDebugColor(r=52.0, g=152.0, b=219.0, a=255.0))\n",
      "draw_polygon ([Vec2d(55.0, -1770.0771999999984), Vec2d(55.0, -1760.0771999999984), Vec2d(45.0, -1760.0771999999984), Vec2d(45.0, -1770.0771999999984)], 0.0, SpaceDebugColor(r=44.0, g=62.0, b=80.0, a=255.0), SpaceDebugColor(r=52.0, g=152.0, b=219.0, a=255.0))\n",
      "draw_polygon ([Vec2d(55.0, -1808.5323999999982), Vec2d(55.0, -1798.5323999999982), Vec2d(45.0, -1798.5323999999982), Vec2d(45.0, -1808.5323999999982)], 0.0, SpaceDebugColor(r=44.0, g=62.0, b=80.0, a=255.0), SpaceDebugColor(r=52.0, g=152.0, b=219.0, a=255.0))\n",
      "draw_polygon ([Vec2d(55.0, -1847.379999999998), Vec2d(55.0, -1837.379999999998), Vec2d(45.0, -1837.379999999998), Vec2d(45.0, -1847.379999999998)], 0.0, SpaceDebugColor(r=44.0, g=62.0, b=80.0, a=255.0), SpaceDebugColor(r=52.0, g=152.0, b=219.0, a=255.0))\n"
     ]
    }
   ],
   "source": [
    "import pymunk               # Import pymunk..\n",
    "\n",
    "space = pymunk.Space()      # Create a Space which contain the simulation\n",
    "space.gravity = 0,-981      # Set its gravity\n",
    "\n",
    "body = pymunk.Body()        # Create a Body\n",
    "body.position = 50,100      # Set the position of the body\n",
    "\n",
    "poly = pymunk.Poly.create_box(body) # Create a box shape and attach to body\n",
    "poly.mass = 10              # Set the mass on the shape\n",
    "space.add(body, poly)       # Add both body and shape to the simulation\n",
    "\n",
    "print_options = pymunk.SpaceDebugDrawOptions() # For easy printing\n",
    "\n",
    "for _ in range(100):        # Run simulation 100 steps in total\n",
    "    space.step(0.02)        # Step the simulation one step forward\n",
    "    space.debug_draw(print_options) # Print the state of the simulation"
   ]
  },
  {
   "cell_type": "markdown",
   "id": "ffe56f60",
   "metadata": {},
   "source": [
    "## installation\n",
    "Previous code is run succesfully after install the library using\n",
    "\n",
    "```\n",
    "> pip install pymunk\n",
    "```\n",
    "For other information please see http://www.pymunk.org/en/latest/#installation."
   ]
  },
  {
   "cell_type": "code",
   "execution_count": null,
   "id": "6a520d41",
   "metadata": {},
   "outputs": [],
   "source": []
  }
 ],
 "metadata": {
  "authors": [
   {
    "name": "Sparisoma Viridi"
   }
  ],
  "kernelspec": {
   "display_name": "Python 3 (ipykernel)",
   "language": "python",
   "name": "python3"
  },
  "language_info": {
   "codemirror_mode": {
    "name": "ipython",
    "version": 3
   },
   "file_extension": ".py",
   "mimetype": "text/x-python",
   "name": "python",
   "nbconvert_exporter": "python",
   "pygments_lexer": "ipython3",
   "version": "3.10.9"
  },
  "title": "quick_code_example"
 },
 "nbformat": 4,
 "nbformat_minor": 5
}
