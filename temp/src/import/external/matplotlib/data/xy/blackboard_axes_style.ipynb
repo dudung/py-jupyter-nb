{
 "cells": [
  {
   "cell_type": "markdown",
   "id": "cca11c7c",
   "metadata": {},
   "source": [
    "# blackboard_axes_style\n",
    "Plot xy using Python `matplotlib` module for style used on blackboard"
   ]
  },
  {
   "cell_type": "code",
   "execution_count": 1,
   "id": "37753155",
   "metadata": {},
   "outputs": [
    {
     "data": {
      "image/png": "[encoded data removed]",
      "text/plain": [
       "<Figure size 432x288 with 1 Axes>"
      ]
     },
     "metadata": {
      "needs_background": "light"
     },
     "output_type": "display_data"
    }
   ],
   "source": [
    "import matplotlib.pyplot as plt\n",
    "xx = [0, 1, 2, 3, 4, 5, 6, 7, 8, 9, 10]\n",
    "yy = [0, 9, 16, 21, 24, 25, 26, 26.5, 26.75, 26.875, 27]\n",
    "\n",
    "fig, ax = plt.subplots()\n",
    "\n",
    "ax.spines['right'].set_color('none')\n",
    "ax.spines['top'].set_color('none')\n",
    "ax.spines['left'].set_position('zero')\n",
    "ax.spines['bottom'].set_position('zero')\n",
    "\n",
    "ax.set(xlim =(-0.2, 11), ylim =(-0.5, 28))\n",
    "ax.arrow(10, 0, 0.5, 0, head_width = 1.2, head_length = 0.6, fc ='k',  ec ='none')\n",
    "ax.arrow(0, 26, 0, 0.5, head_width = 0.3, head_length = 1.5, fc ='k',  ec ='none')\n",
    "\n",
    "plt.plot(xx, yy, 'b', linewidth=3)\n",
    "plt.show()"
   ]
  },
  {
   "cell_type": "code",
   "execution_count": null,
   "id": "b0c0f6a3",
   "metadata": {},
   "outputs": [],
   "source": []
  }
 ],
 "metadata": {
  "authors": [
   {
    "name": "Sparisoma Viridi"
   }
  ],
  "kernelspec": {
   "display_name": "Python 3 (ipykernel)",
   "language": "python",
   "name": "python3"
  },
  "language_info": {
   "codemirror_mode": {
    "name": "ipython",
    "version": 3
   },
   "file_extension": ".py",
   "mimetype": "text/x-python",
   "name": "python",
   "nbconvert_exporter": "python",
   "pygments_lexer": "ipython3",
   "version": "3.10.9"
  },
  "title": "blackboard_axes_style"
 },
 "nbformat": 4,
 "nbformat_minor": 5
}
