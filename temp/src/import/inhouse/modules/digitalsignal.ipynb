{
 "cells": [
  {
   "cell_type": "markdown",
   "id": "cca11c7c",
   "metadata": {},
   "source": [
    "# digitalsignal"
   ]
  },
  {
   "cell_type": "code",
   "execution_count": null,
   "id": "a0d9d98b",
   "metadata": {},
   "outputs": [],
   "source": [
    "# create list of time\n",
    "def create_time(tmin, tmax, dt):\n",
    "    trange = range(tmin, tmax + 1, dt)\n",
    "    t = [*trange]\n",
    "    return t\n",
    "\n",
    "# set fertile time on list of time\n",
    "def set_fertile(t, tbeg, tend):\n",
    "    tfertile = [1 if j >= tbeg and j <= tend else 0 for j in t]\n",
    "    return tfertile\n",
    "\n",
    "# set visit time on list of time\n",
    "def set_visit(t, offset, period, length):\n",
    "    tvisit = [-1 if i % period == 0 else 0 for i in t]\n",
    "    \n",
    "    j = 0\n",
    "    l = 0\n",
    "    for i in tvisit:\n",
    "        if i == -1:\n",
    "            l = 0\n",
    "        if l < length:\n",
    "            tvisit[j] = 1\n",
    "            l += 1\n",
    "        j += 1\n",
    "        \n",
    "    for j in range(offset):\n",
    "        tvisit.insert(0, 0)\n",
    "        tvisit.pop()\n",
    "        \n",
    "    return tvisit"
   ]
  },
  {
   "cell_type": "code",
   "execution_count": null,
   "id": "4795c382",
   "metadata": {},
   "outputs": [],
   "source": []
  }
 ],
 "metadata": {
  "authors": [
   {
    "name": "Sparisoma Viridi"
   }
  ],
  "kernelspec": {
   "display_name": "Python 3 (ipykernel)",
   "language": "python",
   "name": "python3"
  },
  "language_info": {
   "codemirror_mode": {
    "name": "ipython",
    "version": 3
   },
   "file_extension": ".py",
   "mimetype": "text/x-python",
   "name": "python",
   "nbconvert_exporter": "python",
   "pygments_lexer": "ipython3",
   "version": "3.10.9"
  },
  "title": "digitalsignal"
 },
 "nbformat": 4,
 "nbformat_minor": 5
}
