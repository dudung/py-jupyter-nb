{
 "cells": [
  {
   "cell_type": "markdown",
   "id": "d4e69cf6",
   "metadata": {},
   "source": [
    "# polynomial\n",
    "classes or functions of polynomial module"
   ]
  },
  {
   "cell_type": "code",
   "execution_count": null,
   "id": "1ab9c511",
   "metadata": {},
   "outputs": [],
   "source": [
    "def coefs_from_roots(roots):\n",
    "    \"\"\"Get polynomial coefficients from the roots\n",
    "    \n",
    "    Args:\n",
    "        roots: roots of a polynomial in a list\n",
    "    \n",
    "    Returns:\n",
    "        Coefficients of a polynomial in a list\n",
    "    \"\"\"\n",
    "    \n",
    "    return coefs"
   ]
  },
  {
   "cell_type": "code",
   "execution_count": null,
   "id": "e545cd24",
   "metadata": {},
   "outputs": [],
   "source": []
  },
  {
   "cell_type": "markdown",
   "id": "79d685e3",
   "metadata": {},
   "source": [
    "## polynomial function"
   ]
  },
  {
   "cell_type": "markdown",
   "id": "3fa31f99",
   "metadata": {},
   "source": [
    "$$\n",
    "P(x) = \\prod_{i = 1}^n (x - x_i)\n",
    "$$"
   ]
  },
  {
   "cell_type": "markdown",
   "id": "a50dcb77",
   "metadata": {},
   "source": [
    "$$\n",
    "P(x) = c_n x^n + c_{n-1} x^{n-1} + \\dots + c_1 x + c_0\n",
    "$$"
   ]
  },
  {
   "cell_type": "markdown",
   "id": "d36a23f2",
   "metadata": {},
   "source": [
    "## quartic function"
   ]
  },
  {
   "cell_type": "markdown",
   "id": "6ea28753",
   "metadata": {},
   "source": [
    "$$\n",
    "n = 4\n",
    "$$"
   ]
  },
  {
   "cell_type": "markdown",
   "id": "45597fb6",
   "metadata": {},
   "source": [
    "$$\n",
    "P(x) = (x - x_1)(x - x_2)(x - x_3)(x - x_4)\n",
    "$$"
   ]
  },
  {
   "cell_type": "markdown",
   "id": "b774831a",
   "metadata": {},
   "source": [
    "$$\n",
    "c_0 = (-x_1)(-x_2)(-x_3)(-x_4)\n",
    "$$"
   ]
  },
  {
   "cell_type": "markdown",
   "id": "960be2e9",
   "metadata": {},
   "source": [
    "$$\n",
    "c_1 = (-x_1)(-x_2)(-x_3) + (-x_1)(-x_2)(-x_4) + (-x_1)(-x_3)(-x_4) + (-x_2)(-x_3)(-x_4) \n",
    "$$"
   ]
  },
  {
   "cell_type": "markdown",
   "id": "76116608",
   "metadata": {},
   "source": [
    "$$\n",
    "c_2 = (-x_1)(-x_2) + (-x_1)(-x_3) + (-x_1)(-x_4) + (-x_2)(-x_3) + (-x_2)(-x_4) + (-x_3)(-x_4)\n",
    "$$"
   ]
  },
  {
   "cell_type": "markdown",
   "id": "b84dc029",
   "metadata": {},
   "source": [
    "$$\n",
    "c_3 = (-x_1) + (-x_2) + (-x_3) + (-x_4)\n",
    "$$"
   ]
  },
  {
   "cell_type": "markdown",
   "id": "e9eb7b41",
   "metadata": {},
   "source": [
    "$$\n",
    "c_4 = 1 \\cdot 1 \\cdot 1 \\cdot 1\n",
    "$$"
   ]
  },
  {
   "cell_type": "markdown",
   "id": "f8762899",
   "metadata": {},
   "source": [
    "$$\n",
    "c_0 = \\sum_{i = 1}^4 \\prod_{j = 1}^{i + 3} (-x_j)\n",
    "$$"
   ]
  },
  {
   "cell_type": "markdown",
   "id": "8bea72d5",
   "metadata": {},
   "source": [
    "$$\n",
    "c_1 = \\sum_{i = 1}^4 \\prod_{j = i}^{i + 2} (-x_j)\n",
    "$$"
   ]
  },
  {
   "cell_type": "markdown",
   "id": "257e3930",
   "metadata": {},
   "source": [
    "$$\n",
    "c_2 = \\sum_{i = 1}^4 \\prod_{j = i}^{i + 1} (-x_j)\n",
    "$$"
   ]
  },
  {
   "cell_type": "markdown",
   "id": "ec5784d4",
   "metadata": {},
   "source": [
    "$$\n",
    "c_3 = \\sum_{i = 1}^4 \\prod_{j = i}^{i + 0} (-x_j)\n",
    "$$"
   ]
  },
  {
   "cell_type": "markdown",
   "id": "c4e76008",
   "metadata": {},
   "source": [
    "$$\n",
    "c_4 = \\sum_{i = 1}^4 \\prod_{j = i}^{i - 1} (-x_j) \n",
    "$$"
   ]
  },
  {
   "cell_type": "markdown",
   "id": "91787f41",
   "metadata": {},
   "source": [
    "## formulation"
   ]
  },
  {
   "cell_type": "markdown",
   "id": "f1672c1e",
   "metadata": {},
   "source": [
    "$$\n",
    "c_m = \\sum_{i = 1}^n \\prod_{j = i}^{i + 3 - m} (-x_j) \n",
    "$$"
   ]
  },
  {
   "cell_type": "markdown",
   "id": "670bdf57",
   "metadata": {},
   "source": [
    "Formulation has still problem with the indexing $i$."
   ]
  },
  {
   "cell_type": "code",
   "execution_count": null,
   "id": "8e0f5da7",
   "metadata": {},
   "outputs": [],
   "source": []
  }
 ],
 "metadata": {
  "authors": [
   {
    "name": "Sparisoma Viridi"
   }
  ],
  "kernelspec": {
   "display_name": "Python 3 (ipykernel)",
   "language": "python",
   "name": "python3"
  },
  "language_info": {
   "codemirror_mode": {
    "name": "ipython",
    "version": 3
   },
   "file_extension": ".py",
   "mimetype": "text/x-python",
   "name": "python",
   "nbconvert_exporter": "python",
   "pygments_lexer": "ipython3",
   "version": "3.10.9"
  },
  "title": "unnamed"
 },
 "nbformat": 4,
 "nbformat_minor": 5
}
