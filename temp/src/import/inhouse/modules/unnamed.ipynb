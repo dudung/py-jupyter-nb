{
 "cells": [
  {
   "cell_type": "markdown",
   "id": "d4e69cf6",
   "metadata": {},
   "source": [
    "# unnamed\n",
    "classes or functions that have not been named or categorized"
   ]
  },
  {
   "cell_type": "code",
   "execution_count": null,
   "id": "1ab9c511",
   "metadata": {},
   "outputs": [],
   "source": [
    "def unknown(x):\n",
    "    \"\"\"Do something with x.\n",
    "    \n",
    "    Args:\n",
    "        x: a variable.\n",
    "    \n",
    "    Returns:\n",
    "        Process x to produce y, where it simply y = x.\n",
    "    \"\"\"\n",
    "    \n",
    "    y = x\n",
    "    \n",
    "    return y"
   ]
  },
  {
   "cell_type": "code",
   "execution_count": null,
   "id": "35e7ae7f",
   "metadata": {},
   "outputs": [],
   "source": []
  }
 ],
 "metadata": {
  "authors": [
   {
    "name": "Sparisoma Viridi"
   }
  ],
  "kernelspec": {
   "display_name": "Python 3 (ipykernel)",
   "language": "python",
   "name": "python3"
  },
  "language_info": {
   "codemirror_mode": {
    "name": "ipython",
    "version": 3
   },
   "file_extension": ".py",
   "mimetype": "text/x-python",
   "name": "python",
   "nbconvert_exporter": "python",
   "pygments_lexer": "ipython3",
   "version": "3.10.9"
  },
  "title": "unnamed"
 },
 "nbformat": 4,
 "nbformat_minor": 5
}
