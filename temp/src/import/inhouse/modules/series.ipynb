{
 "cells": [
  {
   "cell_type": "markdown",
   "id": "d4e69cf6",
   "metadata": {},
   "source": [
    "# series\n",
    "classes or functions of series module"
   ]
  },
  {
   "cell_type": "markdown",
   "id": "e4019515",
   "metadata": {},
   "source": [
    "## a series"
   ]
  },
  {
   "cell_type": "markdown",
   "id": "d4abb22b",
   "metadata": {},
   "source": [
    "$$\n",
    "\\{ x_1, x_2, \\dots, x_{n-1}, x_n \\}\n",
    "$$"
   ]
  },
  {
   "cell_type": "markdown",
   "id": "2ada6806",
   "metadata": {},
   "source": [
    "## sum of a series"
   ]
  },
  {
   "cell_type": "markdown",
   "id": "fc9fc3b2",
   "metadata": {},
   "source": [
    "$$\n",
    "\\sum_{i = a}^{\\rm b \\ge a} x_i\n",
    "$$"
   ]
  },
  {
   "cell_type": "code",
   "execution_count": null,
   "id": "0447c358",
   "metadata": {},
   "outputs": [],
   "source": [
    "def sum_of(x, beg, end):\n",
    "    \"\"\"Get sum of numbers in a list.\n",
    "    \n",
    "    Args:\n",
    "        x: numbers in a list.\n",
    "        beg: begin index (beg > 0).\n",
    "        end: end index (beg < end <= len(x)).\n",
    "    \n",
    "    Returns:\n",
    "        Sum of numbers in a list from beg index to end index (inclusive).\n",
    "        If end < beg then the result will be zero.\n",
    "        If end > len(x) it only calculates the sum until len(x).\n",
    "    \"\"\"\n",
    "    \n",
    "    n = len(x)\n",
    "    if end > n: end = n\n",
    "    result = 0\n",
    "    for i in range(beg, end + 1):\n",
    "        result += x[i-1]\n",
    "    \n",
    "    return result"
   ]
  },
  {
   "cell_type": "markdown",
   "id": "7e93cfb1",
   "metadata": {},
   "source": [
    "## product of a series"
   ]
  },
  {
   "cell_type": "markdown",
   "id": "673b22de",
   "metadata": {},
   "source": [
    "$$\n",
    "\\prod_{i = a}^{\\rm b \\ge a} x_i\n",
    "$$"
   ]
  },
  {
   "cell_type": "code",
   "execution_count": null,
   "id": "968c7ac8",
   "metadata": {},
   "outputs": [],
   "source": [
    "def prod_of(x, beg, end):\n",
    "    \"\"\"Get product of numbers in a list.\n",
    "    \n",
    "    Args:\n",
    "        x: numbers in a list.\n",
    "        beg: begin index (beg > 0).\n",
    "        end: end index (beg < end <= len(x)).\n",
    "    \n",
    "    Returns:\n",
    "        Sum of numbers in a list from beg index to end index (inclusive).\n",
    "        If end < beg then the result will be one.\n",
    "        If end > len(x) it only calculates the sum until len(x).\n",
    "    \"\"\"\n",
    "    \n",
    "    n = len(x)\n",
    "    if end > n: end = n\n",
    "    result = 1\n",
    "    for i in range(beg, end + 1):\n",
    "        result *= x[i-1]\n",
    "    \n",
    "    return result"
   ]
  },
  {
   "cell_type": "code",
   "execution_count": null,
   "id": "973c00d3",
   "metadata": {},
   "outputs": [],
   "source": []
  }
 ],
 "metadata": {
  "authors": [
   {
    "name": "Sparisoma Viridi"
   }
  ],
  "kernelspec": {
   "display_name": "Python 3 (ipykernel)",
   "language": "python",
   "name": "python3"
  },
  "language_info": {
   "codemirror_mode": {
    "name": "ipython",
    "version": 3
   },
   "file_extension": ".py",
   "mimetype": "text/x-python",
   "name": "python",
   "nbconvert_exporter": "python",
   "pygments_lexer": "ipython3",
   "version": "3.10.9"
  },
  "title": "series"
 },
 "nbformat": 4,
 "nbformat_minor": 5
}
