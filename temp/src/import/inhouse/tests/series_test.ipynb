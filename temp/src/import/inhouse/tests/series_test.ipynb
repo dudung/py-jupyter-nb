{
 "cells": [
  {
   "cell_type": "markdown",
   "id": "cca11c7c",
   "metadata": {},
   "source": [
    "# series_test\n",
    "test of series module"
   ]
  },
  {
   "cell_type": "code",
   "execution_count": 1,
   "id": "30aea70c",
   "metadata": {},
   "outputs": [],
   "source": [
    "import sys\n",
    "from pathlib import Path\n",
    "\n",
    "src_path = Path.cwd().parents[0].parents[0]\n",
    "module_path = str(src_path / \"inhouse\\modules\")\n",
    "if module_path not in sys.path:\n",
    "    sys.path.insert(0, module_path)"
   ]
  },
  {
   "cell_type": "code",
   "execution_count": 2,
   "id": "bf87a621",
   "metadata": {},
   "outputs": [],
   "source": [
    "import ipynb.fs.full.series as ser"
   ]
  },
  {
   "cell_type": "code",
   "execution_count": 3,
   "id": "78193d81",
   "metadata": {},
   "outputs": [
    {
     "name": "stdout",
     "output_type": "stream",
     "text": [
      "Help on module ipynb.fs.full.series in ipynb.fs.full:\n",
      "\n",
      "NAME\n",
      "    ipynb.fs.full.series\n",
      "\n",
      "FUNCTIONS\n",
      "    prod_of(x, beg, end)\n",
      "        Get product of numbers in a list.\n",
      "        \n",
      "        Args:\n",
      "            x: numbers in a list.\n",
      "            beg: begin index (beg > 0).\n",
      "            end: end index (beg < end <= len(x)).\n",
      "        \n",
      "        Returns:\n",
      "            Sum of numbers in a list from beg index to end index (inclusive).\n",
      "            If end < beg then the result will be one.\n",
      "            If end > len(x) it only calculates the sum until len(x).\n",
      "    \n",
      "    sum_of(x, beg, end)\n",
      "        Get sum of numbers in a list.\n",
      "        \n",
      "        Args:\n",
      "            x: numbers in a list.\n",
      "            beg: begin index (beg > 0).\n",
      "            end: end index (beg < end <= len(x)).\n",
      "        \n",
      "        Returns:\n",
      "            Sum of numbers in a list from beg index to end index (inclusive).\n",
      "            If end < beg then the result will be zero.\n",
      "            If end > len(x) it only calculates the sum until len(x).\n",
      "\n",
      "FILE\n",
      "    (built-in)\n",
      "\n",
      "\n"
     ]
    }
   ],
   "source": [
    "help(ser)"
   ]
  },
  {
   "cell_type": "code",
   "execution_count": 4,
   "id": "1ebacbce",
   "metadata": {},
   "outputs": [],
   "source": [
    "# define a series\n",
    "z = [5, 8, 2, 10]"
   ]
  },
  {
   "cell_type": "code",
   "execution_count": 5,
   "id": "8fdcee4a",
   "metadata": {},
   "outputs": [
    {
     "name": "stdout",
     "output_type": "stream",
     "text": [
      "25\n"
     ]
    }
   ],
   "source": [
    "# calculate sum of it\n",
    "print(ser.sum_of(z, 1, 4))"
   ]
  },
  {
   "cell_type": "code",
   "execution_count": 6,
   "id": "96060f88",
   "metadata": {},
   "outputs": [
    {
     "name": "stdout",
     "output_type": "stream",
     "text": [
      "10\n"
     ]
    }
   ],
   "source": [
    "# calculate sum of it\n",
    "print(ser.sum_of(z, 2, 3))"
   ]
  },
  {
   "cell_type": "code",
   "execution_count": 7,
   "id": "e8cb94f9",
   "metadata": {},
   "outputs": [
    {
     "name": "stdout",
     "output_type": "stream",
     "text": [
      "2\n"
     ]
    }
   ],
   "source": [
    "# calculate sum of it\n",
    "print(ser.sum_of(z, 3, 3))"
   ]
  },
  {
   "cell_type": "code",
   "execution_count": 8,
   "id": "eb76aeca",
   "metadata": {},
   "outputs": [
    {
     "name": "stdout",
     "output_type": "stream",
     "text": [
      "0\n"
     ]
    }
   ],
   "source": [
    "# calculate sum of it\n",
    "print(ser.sum_of(z, 2, 1))"
   ]
  },
  {
   "cell_type": "code",
   "execution_count": 9,
   "id": "f65e9706",
   "metadata": {},
   "outputs": [
    {
     "name": "stdout",
     "output_type": "stream",
     "text": [
      "20\n"
     ]
    }
   ],
   "source": [
    "# calculate product of it\n",
    "print(ser.prod_of(z, 3, 5))"
   ]
  },
  {
   "cell_type": "code",
   "execution_count": 10,
   "id": "08d89b66",
   "metadata": {},
   "outputs": [
    {
     "name": "stdout",
     "output_type": "stream",
     "text": [
      "800\n"
     ]
    }
   ],
   "source": [
    "# calculate product of it\n",
    "print(ser.prod_of(z, 1, 4))"
   ]
  },
  {
   "cell_type": "code",
   "execution_count": 11,
   "id": "da628e15",
   "metadata": {},
   "outputs": [
    {
     "name": "stdout",
     "output_type": "stream",
     "text": [
      "1\n"
     ]
    }
   ],
   "source": [
    "# calculate product of it\n",
    "print(ser.prod_of(z, 2, 1))"
   ]
  },
  {
   "cell_type": "code",
   "execution_count": 12,
   "id": "be11ced0",
   "metadata": {},
   "outputs": [
    {
     "name": "stdout",
     "output_type": "stream",
     "text": [
      "5\n"
     ]
    }
   ],
   "source": [
    "# calculate product of it\n",
    "print(ser.prod_of(z, 1, 1))"
   ]
  },
  {
   "cell_type": "code",
   "execution_count": null,
   "id": "21b370cd",
   "metadata": {},
   "outputs": [],
   "source": []
  }
 ],
 "metadata": {
  "authors": [
   {
    "name": "Sparisoma Viridi"
   }
  ],
  "kernelspec": {
   "display_name": "Python 3 (ipykernel)",
   "language": "python",
   "name": "python3"
  },
  "language_info": {
   "codemirror_mode": {
    "name": "ipython",
    "version": 3
   },
   "file_extension": ".py",
   "mimetype": "text/x-python",
   "name": "python",
   "nbconvert_exporter": "python",
   "pygments_lexer": "ipython3",
   "version": "3.10.9"
  },
  "title": "series_test"
 },
 "nbformat": 4,
 "nbformat_minor": 5
}
