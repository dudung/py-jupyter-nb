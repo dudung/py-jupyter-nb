{
 "cells": [
  {
   "cell_type": "markdown",
   "id": "cca11c7c",
   "metadata": {},
   "source": [
    "# unnamed_test\n",
    "test of unnamed module"
   ]
  },
  {
   "cell_type": "code",
   "execution_count": 1,
   "id": "30aea70c",
   "metadata": {},
   "outputs": [],
   "source": [
    "import sys\n",
    "from pathlib import Path\n",
    "\n",
    "src_path = Path.cwd().parents[0].parents[0]\n",
    "module_path = str(src_path / \"inhouse\\modules\")\n",
    "if module_path not in sys.path:\n",
    "    sys.path.insert(0, module_path)"
   ]
  },
  {
   "cell_type": "code",
   "execution_count": 2,
   "id": "1c295d8b",
   "metadata": {},
   "outputs": [],
   "source": [
    "from ipynb.fs.full.unnamed import unknown as unk"
   ]
  },
  {
   "cell_type": "code",
   "execution_count": 3,
   "id": "bf87a621",
   "metadata": {},
   "outputs": [
    {
     "name": "stdout",
     "output_type": "stream",
     "text": [
      "Help on function unknown in module ipynb.fs.full.unnamed:\n",
      "\n",
      "unknown(x)\n",
      "    Do something with x.\n",
      "    \n",
      "    Args:\n",
      "        x: a variable.\n",
      "    \n",
      "    Returns:\n",
      "        Process x to produce y, where it simply y = x.\n",
      "\n",
      "None\n"
     ]
    }
   ],
   "source": [
    "print(help(unk))"
   ]
  },
  {
   "cell_type": "code",
   "execution_count": 4,
   "id": "68e79676",
   "metadata": {},
   "outputs": [
    {
     "name": "stdout",
     "output_type": "stream",
     "text": [
      "20\n"
     ]
    }
   ],
   "source": [
    "print(unk(20))"
   ]
  },
  {
   "cell_type": "code",
   "execution_count": null,
   "id": "78193d81",
   "metadata": {},
   "outputs": [],
   "source": []
  }
 ],
 "metadata": {
  "authors": [
   {
    "name": "Sparisoma Viridi"
   }
  ],
  "kernelspec": {
   "display_name": "Python 3 (ipykernel)",
   "language": "python",
   "name": "python3"
  },
  "language_info": {
   "codemirror_mode": {
    "name": "ipython",
    "version": 3
   },
   "file_extension": ".py",
   "mimetype": "text/x-python",
   "name": "python",
   "nbconvert_exporter": "python",
   "pygments_lexer": "ipython3",
   "version": "3.10.9"
  },
  "title": "unnamed_test"
 },
 "nbformat": 4,
 "nbformat_minor": 5
}
