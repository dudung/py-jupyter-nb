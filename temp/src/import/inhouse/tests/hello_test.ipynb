{
 "cells": [
  {
   "cell_type": "markdown",
   "id": "cca11c7c",
   "metadata": {},
   "source": [
    "# hello_test\n",
    "test of hello module"
   ]
  },
  {
   "cell_type": "code",
   "execution_count": 1,
   "id": "30aea70c",
   "metadata": {},
   "outputs": [],
   "source": [
    "import sys\n",
    "from pathlib import Path\n",
    "\n",
    "src_path = Path.cwd().parents[0].parents[0]\n",
    "module_path = str(src_path / \"inhouse\\modules\")\n",
    "if module_path not in sys.path:\n",
    "    sys.path.insert(0, module_path)"
   ]
  },
  {
   "cell_type": "code",
   "execution_count": 2,
   "id": "7d23a89b",
   "metadata": {},
   "outputs": [],
   "source": [
    "from ipynb.fs.full.hello import hello as greet"
   ]
  },
  {
   "cell_type": "code",
   "execution_count": 3,
   "id": "78193d81",
   "metadata": {},
   "outputs": [
    {
     "name": "stdout",
     "output_type": "stream",
     "text": [
      "Hello, World!\n"
     ]
    }
   ],
   "source": [
    "# use it without argment\n",
    "print(greet())"
   ]
  },
  {
   "cell_type": "code",
   "execution_count": 4,
   "id": "987a5d55",
   "metadata": {},
   "outputs": [
    {
     "name": "stdout",
     "output_type": "stream",
     "text": [
      "Hello, Einstein!\n"
     ]
    }
   ],
   "source": [
    "# use it with argument\n",
    "print(greet(\"Einstein\"))"
   ]
  },
  {
   "cell_type": "code",
   "execution_count": 5,
   "id": "158e594e",
   "metadata": {},
   "outputs": [
    {
     "name": "stdout",
     "output_type": "stream",
     "text": [
      "Help on function hello in module ipynb.fs.full.hello:\n",
      "\n",
      "hello(name='World')\n",
      "    Greet person with name.\n",
      "    \n",
      "    Args:\n",
      "        name: person name.\n",
      "    \n",
      "    Returns:\n",
      "        Greeting to person with name.\n",
      "\n"
     ]
    }
   ],
   "source": [
    "# get help of it\n",
    "help(greet)"
   ]
  },
  {
   "cell_type": "code",
   "execution_count": null,
   "id": "90fdf91e",
   "metadata": {},
   "outputs": [],
   "source": []
  }
 ],
 "metadata": {
  "authors": [
   {
    "name": "Sparisoma Viridi"
   }
  ],
  "kernelspec": {
   "display_name": "Python 3 (ipykernel)",
   "language": "python",
   "name": "python3"
  },
  "language_info": {
   "codemirror_mode": {
    "name": "ipython",
    "version": 3
   },
   "file_extension": ".py",
   "mimetype": "text/x-python",
   "name": "python",
   "nbconvert_exporter": "python",
   "pygments_lexer": "ipython3",
   "version": "3.10.9"
  },
  "title": "unnamed_test"
 },
 "nbformat": 4,
 "nbformat_minor": 5
}
