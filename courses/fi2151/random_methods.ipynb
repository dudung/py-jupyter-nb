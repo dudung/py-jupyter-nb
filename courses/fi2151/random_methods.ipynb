{
 "cells": [
  {
   "cell_type": "markdown",
   "id": "fed96f88-d74b-4eac-a0e9-643a299b4dbc",
   "metadata": {},
   "source": [
    "## methods in random module"
   ]
  },
  {
   "cell_type": "code",
   "execution_count": 12,
   "id": "69eda450-eeb0-46b3-9dcb-2d162ec0d500",
   "metadata": {},
   "outputs": [
    {
     "name": "stdout",
     "output_type": "stream",
     "text": [
      "0.6863 0.7665 0.9046 0.2598 0.6357 0.9049 0.8721 0.5729 0.1694 0.4115 \n"
     ]
    }
   ],
   "source": [
    "import random as rnd\n",
    "\n",
    "for i in range(10):\n",
    "    x = rnd.random()\n",
    "    xs = f'{x:0.4f}'\n",
    "    print(xs, end=' ')\n",
    "print()"
   ]
  },
  {
   "cell_type": "code",
   "execution_count": 30,
   "id": "eaf8d407-a02b-4e9d-8ea6-73afc1634544",
   "metadata": {},
   "outputs": [
    {
     "name": "stdout",
     "output_type": "stream",
     "text": [
      "5.9 3.9 1.7 5.0 9.8 7.7 5.4 8.6 2.3 5.1 9.5 5.8 4.6 2.7 5.5 9.6 0.1 7.8 8.2 8.9 7.4 8.1 5.2 5.6 4.3 0.6 8.7 5.7 2.0 5.0 4.8 3.6 3.5 5.4 6.2 6.1 4.6 0.3 2.3 1.8 \n"
     ]
    }
   ],
   "source": [
    "import random as rnd\n",
    "\n",
    "for i in range(40):\n",
    "    x = 10*rnd.random()\n",
    "    xs = f'{x:.1f}'\n",
    "    print(xs, end=' ')\n",
    "print()"
   ]
  },
  {
   "cell_type": "code",
   "execution_count": 10,
   "id": "3fece6cb-5190-48f7-ab30-06957dc811ab",
   "metadata": {},
   "outputs": [
    {
     "name": "stdout",
     "output_type": "stream",
     "text": [
      "0.9560 0.9560 0.9560 0.9560 0.9560 0.9560 0.9560 0.9560 0.9560 0.9560 \n"
     ]
    }
   ],
   "source": [
    "for i in range(10):\n",
    "    rnd.seed(2)\n",
    "    x = rnd.random()\n",
    "    xs = f'{x:0.4f}'\n",
    "    print(xs, end=' ')\n",
    "print()"
   ]
  },
  {
   "cell_type": "code",
   "execution_count": 11,
   "id": "6590ca6b-f176-41fb-a59e-8326e389d851",
   "metadata": {},
   "outputs": [
    {
     "name": "stdout",
     "output_type": "stream",
     "text": [
      "0.9056 0.9056 0.9056 0.9056 0.9056 \n"
     ]
    }
   ],
   "source": [
    "for i in range(5):\n",
    "    rnd.seed(20)\n",
    "    x = rnd.random()\n",
    "    xs = f'{x:0.4f}'\n",
    "    print(xs, end=' ')\n",
    "print()"
   ]
  },
  {
   "cell_type": "code",
   "execution_count": 16,
   "id": "333f866c-8c60-4036-b83c-480750f1a25e",
   "metadata": {},
   "outputs": [
    {
     "name": "stdout",
     "output_type": "stream",
     "text": [
      "1 0.1344\n",
      "2 0.9560\n",
      "3 0.2380\n",
      "3 0.2380\n",
      "2 0.9560\n",
      "1 0.1344\n",
      "0 0.8444\n",
      "0 0.8444\n"
     ]
    }
   ],
   "source": [
    "seeds = [1, 2, 3, 3, 2, 1, 0, 0]\n",
    "for s in seeds:\n",
    "    rnd.seed(s)\n",
    "    x = rnd.random()\n",
    "    xs = f'{x:0.4f}'\n",
    "    print(s, xs)"
   ]
  },
  {
   "cell_type": "code",
   "execution_count": 18,
   "id": "9dc33982-0419-48d3-b377-afb66413f721",
   "metadata": {},
   "outputs": [
    {
     "name": "stdout",
     "output_type": "stream",
     "text": [
      "0.8444 0.8444 0.8444 0.8444 0.8444 0.8444 0.8444 0.8444 0.8444 0.8444 \n"
     ]
    }
   ],
   "source": [
    "for i in range(10):\n",
    "    rnd.seed(0)\n",
    "    x = rnd.random()\n",
    "    xs = f'{x:0.4f}'\n",
    "    print(xs, end=' ')\n",
    "print()"
   ]
  },
  {
   "cell_type": "code",
   "execution_count": 19,
   "id": "e437d468-1160-48e1-9596-d88e7a35fd78",
   "metadata": {},
   "outputs": [
    {
     "name": "stdout",
     "output_type": "stream",
     "text": [
      "0.2380 0.2380 0.2380 0.2380 0.2380 0.2380 0.2380 0.2380 0.2380 0.2380 \n"
     ]
    }
   ],
   "source": [
    "for i in range(10):\n",
    "    rnd.seed(3)\n",
    "    x = rnd.random()\n",
    "    xs = f'{x:0.4f}'\n",
    "    print(xs, end=' ')\n",
    "print()"
   ]
  },
  {
   "cell_type": "code",
   "execution_count": 21,
   "id": "40b40330-8f19-4e1f-b1b5-d7cc3826cfb2",
   "metadata": {
    "scrolled": true
   },
   "outputs": [
    {
     "name": "stdout",
     "output_type": "stream",
     "text": [
      "0.1344 0.1344 0.1344 0.1344 0.1344 0.1344 0.1344 0.1344 0.1344 0.1344 \n"
     ]
    }
   ],
   "source": [
    "for i in range(10):\n",
    "    rnd.seed(1)\n",
    "    x = rnd.random()\n",
    "    xs = f'{x:0.4f}'\n",
    "    print(xs, end=' ')\n",
    "print()"
   ]
  },
  {
   "cell_type": "code",
   "execution_count": 3,
   "id": "9b081780-6bbb-4e30-9ace-f502bbcdb570",
   "metadata": {},
   "outputs": [
    {
     "name": "stdout",
     "output_type": "stream",
     "text": [
      "3,6,2,4,2,5,5,5,5,3,\n"
     ]
    }
   ],
   "source": [
    "import random as rnd\n",
    "\n",
    "rnd.seed(1)\n",
    "for i in range(10):\n",
    "    print(rnd.randint(2, 6), end=',')\n",
    "print()"
   ]
  },
  {
   "cell_type": "code",
   "execution_count": 4,
   "id": "3097a2ab-5c2d-4e56-b1cd-f3594459dcd7",
   "metadata": {},
   "outputs": [
    {
     "name": "stdout",
     "output_type": "stream",
     "text": [
      "3,6,2,4,2,5,5,5,5,3,\n"
     ]
    }
   ],
   "source": [
    "import random as rnd\n",
    "\n",
    "rnd.seed(1)\n",
    "for i in range(10):\n",
    "    print(rnd.randint(2, 6), end=',')\n",
    "print()"
   ]
  },
  {
   "cell_type": "code",
   "execution_count": 9,
   "id": "a9467987-b640-4ac9-b70e-9b86fec34ae3",
   "metadata": {},
   "outputs": [
    {
     "name": "stdout",
     "output_type": "stream",
     "text": [
      "034 145 195 016 065 030 126 194 115 120 166 097 053 024 124 007 099 110 155 195 196 000 178 114 068 184 058 151 026 081 007 005 006 166 138 002 097 175 055 108 185 007 135 056 195 112 126 141 059 088 059 173 056 194 117 074 005 106 142 164 025 047 161 185 075 030 190 085 184 182 128 108 129 171 048 077 072 150 127 129 100 150 008 122 062 190 103 106 170 044 093 140 179 198 172 188 095 022 112 169 130 027 199 041 133 100 094 125 187 007 120 011 078 180 157 151 148 100 165 043 043 128 058 003 197 051 138 140 059 103 131 088 147 090 117 068 168 140 155 186 001 098 200 189 131 033 132 199 143 052 109 014 123 093 145 141 051 129 105 124 091 106 088 000 137 138 159 156 084 117 153 007 058 162 045 140 149 046 023 141 065 008 172 018 021 004 115 003 193 193 071 063 068 028 159 047 088 074 017 042 \n"
     ]
    }
   ],
   "source": [
    "import random as rnd\n",
    "\n",
    "rnd.seed(1)\n",
    "for i in range(200):\n",
    "    j = rnd.randint(0, 200)\n",
    "    k = f'{j:03d}'\n",
    "    print(k, end=' ')\n",
    "print()"
   ]
  },
  {
   "cell_type": "code",
   "execution_count": 11,
   "id": "cc985e50-e634-48e8-a503-515f461779b5",
   "metadata": {},
   "outputs": [
    {
     "name": "stdout",
     "output_type": "stream",
     "text": [
      "106,960,681,399,303,516,511,17,333,626,892,411,921,288,18,160,205,878,335,830,576,801,138,347,439,218,272,690,98,857,388,954,560,352,936,903,857,703,547,496,786,545,240,66,742,41,86,136,173,170,932,551,218,274,777,340,614,518,861,261,376,346,348,116,298,240,888,966,618,798,977,732,908,500,138,593,564,788,106,328,40,416,74,389,886,807,150,848,128,349,117,629,601,800,948,387,78,584,563,229,\n"
     ]
    }
   ],
   "source": [
    "import random as rnd\n",
    "\n",
    "for i in range(100):\n",
    "    print(rnd.randint(0, 1000), end=',')\n",
    "print()"
   ]
  },
  {
   "cell_type": "code",
   "execution_count": 12,
   "id": "56ee334e-0f95-4b58-86fd-c3887fa3b825",
   "metadata": {},
   "outputs": [
    {
     "name": "stdout",
     "output_type": "stream",
     "text": [
      "579,83,975,273,373,912,302,577,547,947,117,468,918,283,110,805,46,847,302,12,628,686,14,93,423,117,845,906,808,40,192,245,804,600,431,165,118,461,171,697,247,162,761,865,105,445,932,987,387,825,993,555,931,837,301,563,259,728,488,322,102,212,667,325,40,27,10,805,947,302,743,610,327,460,400,320,408,64,65,935,324,993,615,993,466,114,256,220,803,632,796,912,555,888,704,480,677,364,265,187,\n"
     ]
    }
   ],
   "source": [
    "import random as rnd\n",
    "\n",
    "for i in range(100):\n",
    "    print(rnd.randint(0, 1000), end=',')\n",
    "print()"
   ]
  },
  {
   "cell_type": "code",
   "execution_count": 13,
   "id": "4baa09eb-26f9-4fc8-a318-364bfbbebed6",
   "metadata": {},
   "outputs": [
    {
     "name": "stdout",
     "output_type": "stream",
     "text": [
      "554,212,314,203,252,369,83,839,287,91,771,458,92,667,588,658,347,963,232,399,989,314,42,335,191,324,811,867,592,914,943,310,251,342,103,557,626,592,826,610,94,250,225,20,827,249,411,74,274,564,888,72,746,76,22,650,10,297,768,811,367,505,480,883,879,157,103,513,796,814,335,78,521,972,681,177,183,794,153,144,841,886,327,312,109,726,526,854,941,616,300,129,915,211,145,558,932,739,32,798,\n"
     ]
    }
   ],
   "source": [
    "import random as rnd\n",
    "\n",
    "for i in range(100):\n",
    "    print(rnd.randint(0, 1000), end=',')\n",
    "print()"
   ]
  },
  {
   "cell_type": "code",
   "execution_count": null,
   "id": "5dd7e0da-1118-4bf9-aeb3-c74c314cbb58",
   "metadata": {},
   "outputs": [],
   "source": []
  }
 ],
 "metadata": {
  "kernelspec": {
   "display_name": "Python 3 (ipykernel)",
   "language": "python",
   "name": "python3"
  },
  "language_info": {
   "codemirror_mode": {
    "name": "ipython",
    "version": 3
   },
   "file_extension": ".py",
   "mimetype": "text/x-python",
   "name": "python",
   "nbconvert_exporter": "python",
   "pygments_lexer": "ipython3",
   "version": "3.12.3"
  }
 },
 "nbformat": 4,
 "nbformat_minor": 5
}
