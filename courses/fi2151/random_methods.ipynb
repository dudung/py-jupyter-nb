{
 "cells": [
  {
   "cell_type": "markdown",
   "id": "fed96f88-d74b-4eac-a0e9-643a299b4dbc",
   "metadata": {},
   "source": [
    "## methods in random module"
   ]
  },
  {
   "cell_type": "code",
   "execution_count": 12,
   "id": "69eda450-eeb0-46b3-9dcb-2d162ec0d500",
   "metadata": {},
   "outputs": [
    {
     "name": "stdout",
     "output_type": "stream",
     "text": [
      "0.6863 0.7665 0.9046 0.2598 0.6357 0.9049 0.8721 0.5729 0.1694 0.4115 \n"
     ]
    }
   ],
   "source": [
    "import random as rnd\n",
    "\n",
    "for i in range(10):\n",
    "    x = rnd.random()\n",
    "    xs = f'{x:0.4f}'\n",
    "    print(xs, end=' ')\n",
    "print()"
   ]
  },
  {
   "cell_type": "code",
   "execution_count": 30,
   "id": "eaf8d407-a02b-4e9d-8ea6-73afc1634544",
   "metadata": {},
   "outputs": [
    {
     "name": "stdout",
     "output_type": "stream",
     "text": [
      "5.9 3.9 1.7 5.0 9.8 7.7 5.4 8.6 2.3 5.1 9.5 5.8 4.6 2.7 5.5 9.6 0.1 7.8 8.2 8.9 7.4 8.1 5.2 5.6 4.3 0.6 8.7 5.7 2.0 5.0 4.8 3.6 3.5 5.4 6.2 6.1 4.6 0.3 2.3 1.8 \n"
     ]
    }
   ],
   "source": [
    "import random as rnd\n",
    "\n",
    "for i in range(40):\n",
    "    x = 10*rnd.random()\n",
    "    xs = f'{x:.1f}'\n",
    "    print(xs, end=' ')\n",
    "print()"
   ]
  },
  {
   "cell_type": "code",
   "execution_count": 10,
   "id": "3fece6cb-5190-48f7-ab30-06957dc811ab",
   "metadata": {},
   "outputs": [
    {
     "name": "stdout",
     "output_type": "stream",
     "text": [
      "0.9560 0.9560 0.9560 0.9560 0.9560 0.9560 0.9560 0.9560 0.9560 0.9560 \n"
     ]
    }
   ],
   "source": [
    "for i in range(10):\n",
    "    rnd.seed(2)\n",
    "    x = rnd.random()\n",
    "    xs = f'{x:0.4f}'\n",
    "    print(xs, end=' ')\n",
    "print()"
   ]
  },
  {
   "cell_type": "code",
   "execution_count": 11,
   "id": "6590ca6b-f176-41fb-a59e-8326e389d851",
   "metadata": {},
   "outputs": [
    {
     "name": "stdout",
     "output_type": "stream",
     "text": [
      "0.9056 0.9056 0.9056 0.9056 0.9056 \n"
     ]
    }
   ],
   "source": [
    "for i in range(5):\n",
    "    rnd.seed(20)\n",
    "    x = rnd.random()\n",
    "    xs = f'{x:0.4f}'\n",
    "    print(xs, end=' ')\n",
    "print()"
   ]
  },
  {
   "cell_type": "code",
   "execution_count": 16,
   "id": "333f866c-8c60-4036-b83c-480750f1a25e",
   "metadata": {},
   "outputs": [
    {
     "name": "stdout",
     "output_type": "stream",
     "text": [
      "1 0.1344\n",
      "2 0.9560\n",
      "3 0.2380\n",
      "3 0.2380\n",
      "2 0.9560\n",
      "1 0.1344\n",
      "0 0.8444\n",
      "0 0.8444\n"
     ]
    }
   ],
   "source": [
    "seeds = [1, 2, 3, 3, 2, 1, 0, 0]\n",
    "for s in seeds:\n",
    "    rnd.seed(s)\n",
    "    x = rnd.random()\n",
    "    xs = f'{x:0.4f}'\n",
    "    print(s, xs)"
   ]
  },
  {
   "cell_type": "code",
   "execution_count": 18,
   "id": "9dc33982-0419-48d3-b377-afb66413f721",
   "metadata": {},
   "outputs": [
    {
     "name": "stdout",
     "output_type": "stream",
     "text": [
      "0.8444 0.8444 0.8444 0.8444 0.8444 0.8444 0.8444 0.8444 0.8444 0.8444 \n"
     ]
    }
   ],
   "source": [
    "for i in range(10):\n",
    "    rnd.seed(0)\n",
    "    x = rnd.random()\n",
    "    xs = f'{x:0.4f}'\n",
    "    print(xs, end=' ')\n",
    "print()"
   ]
  },
  {
   "cell_type": "code",
   "execution_count": 19,
   "id": "e437d468-1160-48e1-9596-d88e7a35fd78",
   "metadata": {},
   "outputs": [
    {
     "name": "stdout",
     "output_type": "stream",
     "text": [
      "0.2380 0.2380 0.2380 0.2380 0.2380 0.2380 0.2380 0.2380 0.2380 0.2380 \n"
     ]
    }
   ],
   "source": [
    "for i in range(10):\n",
    "    rnd.seed(3)\n",
    "    x = rnd.random()\n",
    "    xs = f'{x:0.4f}'\n",
    "    print(xs, end=' ')\n",
    "print()"
   ]
  },
  {
   "cell_type": "code",
   "execution_count": 21,
   "id": "40b40330-8f19-4e1f-b1b5-d7cc3826cfb2",
   "metadata": {
    "scrolled": true
   },
   "outputs": [
    {
     "name": "stdout",
     "output_type": "stream",
     "text": [
      "0.1344 0.1344 0.1344 0.1344 0.1344 0.1344 0.1344 0.1344 0.1344 0.1344 \n"
     ]
    }
   ],
   "source": [
    "for i in range(10):\n",
    "    rnd.seed(1)\n",
    "    x = rnd.random()\n",
    "    xs = f'{x:0.4f}'\n",
    "    print(xs, end=' ')\n",
    "print()"
   ]
  },
  {
   "cell_type": "code",
   "execution_count": 3,
   "id": "9b081780-6bbb-4e30-9ace-f502bbcdb570",
   "metadata": {},
   "outputs": [
    {
     "name": "stdout",
     "output_type": "stream",
     "text": [
      "3,6,2,4,2,5,5,5,5,3,\n"
     ]
    }
   ],
   "source": [
    "import random as rnd\n",
    "\n",
    "rnd.seed(1)\n",
    "for i in range(10):\n",
    "    print(rnd.randint(2, 6), end=',')\n",
    "print()"
   ]
  },
  {
   "cell_type": "code",
   "execution_count": 4,
   "id": "3097a2ab-5c2d-4e56-b1cd-f3594459dcd7",
   "metadata": {},
   "outputs": [
    {
     "name": "stdout",
     "output_type": "stream",
     "text": [
      "3,6,2,4,2,5,5,5,5,3,\n"
     ]
    }
   ],
   "source": [
    "import random as rnd\n",
    "\n",
    "rnd.seed(1)\n",
    "for i in range(10):\n",
    "    print(rnd.randint(2, 6), end=',')\n",
    "print()"
   ]
  },
  {
   "cell_type": "code",
   "execution_count": 9,
   "id": "a9467987-b640-4ac9-b70e-9b86fec34ae3",
   "metadata": {},
   "outputs": [
    {
     "name": "stdout",
     "output_type": "stream",
     "text": [
      "034 145 195 016 065 030 126 194 115 120 166 097 053 024 124 007 099 110 155 195 196 000 178 114 068 184 058 151 026 081 007 005 006 166 138 002 097 175 055 108 185 007 135 056 195 112 126 141 059 088 059 173 056 194 117 074 005 106 142 164 025 047 161 185 075 030 190 085 184 182 128 108 129 171 048 077 072 150 127 129 100 150 008 122 062 190 103 106 170 044 093 140 179 198 172 188 095 022 112 169 130 027 199 041 133 100 094 125 187 007 120 011 078 180 157 151 148 100 165 043 043 128 058 003 197 051 138 140 059 103 131 088 147 090 117 068 168 140 155 186 001 098 200 189 131 033 132 199 143 052 109 014 123 093 145 141 051 129 105 124 091 106 088 000 137 138 159 156 084 117 153 007 058 162 045 140 149 046 023 141 065 008 172 018 021 004 115 003 193 193 071 063 068 028 159 047 088 074 017 042 \n"
     ]
    }
   ],
   "source": [
    "import random as rnd\n",
    "\n",
    "rnd.seed(1)\n",
    "for i in range(200):\n",
    "    j = rnd.randint(0, 200)\n",
    "    k = f'{j:03d}'\n",
    "    print(k, end=' ')\n",
    "print()"
   ]
  },
  {
   "cell_type": "code",
   "execution_count": 11,
   "id": "cc985e50-e634-48e8-a503-515f461779b5",
   "metadata": {},
   "outputs": [
    {
     "name": "stdout",
     "output_type": "stream",
     "text": [
      "106,960,681,399,303,516,511,17,333,626,892,411,921,288,18,160,205,878,335,830,576,801,138,347,439,218,272,690,98,857,388,954,560,352,936,903,857,703,547,496,786,545,240,66,742,41,86,136,173,170,932,551,218,274,777,340,614,518,861,261,376,346,348,116,298,240,888,966,618,798,977,732,908,500,138,593,564,788,106,328,40,416,74,389,886,807,150,848,128,349,117,629,601,800,948,387,78,584,563,229,\n"
     ]
    }
   ],
   "source": [
    "import random as rnd\n",
    "\n",
    "for i in range(100):\n",
    "    print(rnd.randint(0, 1000), end=',')\n",
    "print()"
   ]
  },
  {
   "cell_type": "code",
   "execution_count": 12,
   "id": "56ee334e-0f95-4b58-86fd-c3887fa3b825",
   "metadata": {},
   "outputs": [
    {
     "name": "stdout",
     "output_type": "stream",
     "text": [
      "579,83,975,273,373,912,302,577,547,947,117,468,918,283,110,805,46,847,302,12,628,686,14,93,423,117,845,906,808,40,192,245,804,600,431,165,118,461,171,697,247,162,761,865,105,445,932,987,387,825,993,555,931,837,301,563,259,728,488,322,102,212,667,325,40,27,10,805,947,302,743,610,327,460,400,320,408,64,65,935,324,993,615,993,466,114,256,220,803,632,796,912,555,888,704,480,677,364,265,187,\n"
     ]
    }
   ],
   "source": [
    "import random as rnd\n",
    "\n",
    "for i in range(100):\n",
    "    print(rnd.randint(0, 1000), end=',')\n",
    "print()"
   ]
  },
  {
   "cell_type": "code",
   "execution_count": 13,
   "id": "4baa09eb-26f9-4fc8-a318-364bfbbebed6",
   "metadata": {},
   "outputs": [
    {
     "name": "stdout",
     "output_type": "stream",
     "text": [
      "554,212,314,203,252,369,83,839,287,91,771,458,92,667,588,658,347,963,232,399,989,314,42,335,191,324,811,867,592,914,943,310,251,342,103,557,626,592,826,610,94,250,225,20,827,249,411,74,274,564,888,72,746,76,22,650,10,297,768,811,367,505,480,883,879,157,103,513,796,814,335,78,521,972,681,177,183,794,153,144,841,886,327,312,109,726,526,854,941,616,300,129,915,211,145,558,932,739,32,798,\n"
     ]
    }
   ],
   "source": [
    "import random as rnd\n",
    "\n",
    "for i in range(100):\n",
    "    print(rnd.randint(0, 1000), end=',')\n",
    "print()"
   ]
  },
  {
   "cell_type": "code",
   "execution_count": 13,
   "id": "5dd7e0da-1118-4bf9-aeb3-c74c314cbb58",
   "metadata": {},
   "outputs": [
    {
     "name": "stdout",
     "output_type": "stream",
     "text": [
      "8701\n",
      "3977\n",
      "5976\n",
      "4280\n",
      "7718\n",
      "5345\n",
      "9735\n",
      "5016\n",
      "9164\n",
      "6802\n",
      "7813\n",
      "9639\n",
      "4573\n",
      "6071\n",
      "9910\n",
      "6410\n",
      "\n"
     ]
    }
   ],
   "source": [
    "import random as rnd\n",
    "\n",
    "seed_init = 2024\n",
    "rnd.seed(seed_init)\n",
    "\n",
    "for i in range(16):\n",
    "    j = rnd.randint(1000, 9999)\n",
    "    print(j)\n",
    "print()"
   ]
  },
  {
   "cell_type": "code",
   "execution_count": 12,
   "id": "75b008c6-a5f4-4e35-92f4-8288b7aaa596",
   "metadata": {},
   "outputs": [
    {
     "name": "stdout",
     "output_type": "stream",
     "text": [
      "8701  3787\n",
      "3977  4668\n",
      "5976  7072\n",
      "4280  7000\n",
      "7718  9837\n",
      "5345  5450\n",
      "9735  8211\n",
      "5016  3387\n",
      "9164  3373\n",
      "6802  3226\n",
      "7813  4983\n",
      "9639  6444\n",
      "4573  7625\n",
      "6071  4761\n",
      "9910  3029\n",
      "6410  5654\n"
     ]
    }
   ],
   "source": [
    "import random as rnd\n",
    "\n",
    "seed_init = 2024\n",
    "rnd.seed(seed_init)\n",
    "\n",
    "x1 = []\n",
    "for i in range(16):\n",
    "    j = rnd.randint(1000, 9999)\n",
    "    x1.append(j)\n",
    "\n",
    "x2 = []\n",
    "for i in x1:\n",
    "    rnd.seed(i)\n",
    "    j = rnd.randint(1000, 9999)\n",
    "    x2.append(j)\n",
    "\n",
    "for i,j in zip(x1, x2):\n",
    "    print(i, j, sep='  ')"
   ]
  },
  {
   "cell_type": "code",
   "execution_count": 14,
   "id": "5ca5111f-8a43-4d7d-b50c-a2e166392d92",
   "metadata": {},
   "outputs": [
    {
     "name": "stdout",
     "output_type": "stream",
     "text": [
      "8701  [3787, 9919, 8555, 2644]\n",
      "3977  [4668, 7286, 3898, 7372]\n",
      "5976  [7072, 1184, 5552, 8043]\n",
      "4280  [7000, 5931, 5859, 2102]\n",
      "7718  [9837, 5110, 9129, 3397]\n",
      "5345  [5450, 9170, 1690, 1972]\n",
      "9735  [8211, 1626, 5502, 4160]\n",
      "5016  [3387, 9661, 5212, 6491]\n",
      "9164  [3373, 1613, 7047, 1905]\n",
      "6802  [3226, 1969, 1709, 5036]\n",
      "7813  [4983, 3786, 1903, 7318]\n",
      "9639  [6444, 1407, 2727, 1020]\n",
      "4573  [7625, 3078, 6814, 8150]\n",
      "6071  [4761, 4648, 5298, 1351]\n",
      "9910  [3029, 9900, 9788, 1760]\n",
      "6410  [5654, 2408, 7107, 4602]\n"
     ]
    }
   ],
   "source": [
    "import random as rnd\n",
    "\n",
    "seed_init = 2024\n",
    "rnd.seed(seed_init)\n",
    "\n",
    "x1 = []\n",
    "for i in range(16):\n",
    "    j = rnd.randint(1000, 9999)\n",
    "    x1.append(j)\n",
    "\n",
    "x2 = []\n",
    "for i in x1:\n",
    "    rnd.seed(i)\n",
    "    j1 = rnd.randint(1000, 9999)\n",
    "    j2 = rnd.randint(1000, 9999)\n",
    "    j3 = rnd.randint(1000, 9999)\n",
    "    j4 = rnd.randint(1000, 9999)\n",
    "    x2.append([j1, j2, j3, j4])\n",
    "\n",
    "for i,j in zip(x1, x2):\n",
    "    print(i, j, sep='  ')"
   ]
  },
  {
   "cell_type": "code",
   "execution_count": 30,
   "id": "398968b1-38fb-4329-84f2-e439beb25ccb",
   "metadata": {},
   "outputs": [
    {
     "name": "stdout",
     "output_type": "stream",
     "text": [
      "15, 0, 0, 0, 0, 0, 0, 10, 5, 0, 0, 0, 10, 15, 15, 5, 0, 5, 0, 0, 15, 5, 0, 15, 0, 0, 0, 10, 0, 10, 15, 10, 10, 5, 5, 15, 0, 0, 0, 10, 5, 15, 15, 5, 0, 0, 15, 5, 0, 5, \n",
      "\n"
     ]
    }
   ],
   "source": [
    "import random as rnd\n",
    "\n",
    "seed_init = 1234\n",
    "\n",
    "rnd.seed(seed_init)\n",
    "for i in range(50):\n",
    "    x = rnd.randrange(0, 20, 5)\n",
    "    print(x, end=\", \")\n",
    "print(); print()\n",
    "\n"
   ]
  },
  {
   "cell_type": "code",
   "execution_count": 36,
   "id": "00905273-4400-4468-90bd-c7c580790099",
   "metadata": {},
   "outputs": [
    {
     "name": "stdout",
     "output_type": "stream",
     "text": [
      "99, 56, 14, 0, 11, 74, 4, 85, 88, 10, 12, 98, 45, 30, 2, 3, 2, 44, 82, 79, 61, 78, 59, 19, 11, 23, 91, 14, 1, 64, 62, 31, 8, 85, 69, 59, 8, 76, 86, 11, 65, 74, 5, 34, 71, 8, 82, 38, 61, 45, \n",
      "\n"
     ]
    }
   ],
   "source": [
    "import random as rnd\n",
    "\n",
    "seed_init = 1234\n",
    "\n",
    "rnd.seed(seed_init)\n",
    "for i in range(50):\n",
    "    x = rnd.randrange(0, 100, 1)\n",
    "    print(x, end=\", \")\n",
    "print(); print()\n",
    "\n"
   ]
  },
  {
   "cell_type": "code",
   "execution_count": 45,
   "id": "2e873e7f-7364-47c6-8f1a-cf5e9c890084",
   "metadata": {},
   "outputs": [
    {
     "name": "stdout",
     "output_type": "stream",
     "text": [
      "0.6682, 0.0608, 0.0876, 0.7921, 0.9155, 0.0399, 0.3914, 0.3244, 0.9717, 0.6747, 0.9364, 0.9152, 0.2800, 0.6318, 0.3045, 0.3190, 0.5777, 0.1514, 0.5326, 0.7643, 0.2780, 0.4001, 0.5649, 0.5258, 0.7017, 0.2742, 0.2974, 0.8371, 0.3983, 0.3495, 0.8345, 0.2325, 0.4905, 0.3805, 0.0024, 0.4802, \n",
      "\n",
      "0.2984, 0.8419, 0.8277, 0.1856, 0.6284, 0.1572, 0.5915, 0.6552, 0.3465, 0.1690, 0.9962, 0.5680, 0.8038, 0.4744, 0.0283, 0.7956, 0.4679, 0.7994, 0.0269, 0.9690, 0.4758, 0.9161, 0.8882, 0.8953, 0.3318, 0.3489, 0.7530, 0.2897, 0.6815, 0.5831, 0.5629, 0.9516, 0.5625, 0.5092, 0.7496, 0.0725, \n",
      "\n",
      "0.6682, 0.0608, 0.0876, 0.7921, 0.9155, 0.0399, 0.3914, 0.3244, 0.9717, 0.6747, 0.9364, 0.9152, 0.2800, 0.6318, 0.3045, 0.3190, 0.5777, 0.1514, 0.5326, 0.7643, 0.2780, 0.4001, 0.5649, 0.5258, 0.7017, 0.2742, 0.2974, 0.8371, 0.3983, 0.3495, 0.8345, 0.2325, 0.4905, 0.3805, 0.0024, 0.4802, \n",
      "\n"
     ]
    }
   ],
   "source": [
    "import random as rnd\n",
    "\n",
    "state = rnd.getstate()\n",
    "for i in range(36):\n",
    "    x = rnd.random()\n",
    "    print(f'{x:.4f}', end=', ')\n",
    "print('\\n')\n",
    "\n",
    "for i in range(36):\n",
    "    x = rnd.random()\n",
    "    print(f'{x:.4f}', end=', ')\n",
    "print('\\n')\n",
    "\n",
    "rnd.setstate(state)\n",
    "for i in range(36):\n",
    "    x = rnd.random()\n",
    "    print(f'{x:.4f}', end=', ')\n",
    "print('\\n')\n"
   ]
  },
  {
   "cell_type": "code",
   "execution_count": 46,
   "id": "97b9d54f-c063-4a41-81f0-44d90bb1bc67",
   "metadata": {},
   "outputs": [
    {
     "name": "stdout",
     "output_type": "stream",
     "text": [
      "0.7971, 0.4835, 0.3894, 0.8294, 0.8704, 0.1004, 0.5129, 0.9567, 0.7218, 0.7160, 0.3884, 0.9822, 0.7114, 0.8737, 0.7977, 0.1023, 0.1551, 0.4740, 0.7348, 0.8432, 0.3472, 0.9813, 0.6079, 0.0352, 0.0835, 0.7700, 0.0821, 0.3621, 0.3343, 0.8720, 0.3708, 0.3008, 0.1348, 0.9149, 0.2858, 0.8653, \n",
      "\n",
      "0.0909, 0.8203, 0.1210, 0.6818, 0.5617, 0.6977, 0.4105, 0.0215, 0.8272, 0.9103, 0.2470, 0.8991, 0.1549, 0.3337, 0.4614, 0.6104, 0.5494, 0.7979, 0.4262, 0.9596, 0.9319, 0.3835, 0.0984, 0.5964, 0.1875, 0.2143, 0.7057, 0.1874, 0.9973, 0.6573, 0.3010, 0.4103, 0.5158, 0.8447, 0.3625, 0.2566, \n",
      "\n",
      "0.7971, 0.4835, 0.3894, 0.8294, 0.8704, 0.1004, 0.5129, 0.9567, 0.7218, 0.7160, 0.3884, 0.9822, 0.7114, 0.8737, 0.7977, 0.1023, 0.1551, 0.4740, 0.7348, 0.8432, 0.3472, 0.9813, 0.6079, 0.0352, 0.0835, 0.7700, 0.0821, 0.3621, 0.3343, 0.8720, 0.3708, 0.3008, 0.1348, 0.9149, 0.2858, 0.8653, \n",
      "\n"
     ]
    }
   ],
   "source": [
    "import random as rnd\n",
    "\n",
    "rnd.seed(1024)\n",
    "for i in range(36):\n",
    "    x = rnd.random()\n",
    "    print(f'{x:.4f}', end=', ')\n",
    "print('\\n')\n",
    "\n",
    "for i in range(36):\n",
    "    x = rnd.random()\n",
    "    print(f'{x:.4f}', end=', ')\n",
    "print('\\n')\n",
    "\n",
    "rnd.seed(1024)\n",
    "for i in range(36):\n",
    "    x = rnd.random()\n",
    "    print(f'{x:.4f}', end=', ')\n",
    "print('\\n')\n"
   ]
  },
  {
   "cell_type": "code",
   "execution_count": null,
   "id": "c43a2740-10c1-4f6c-bdae-5eb28baabd25",
   "metadata": {},
   "outputs": [],
   "source": []
  }
 ],
 "metadata": {
  "kernelspec": {
   "display_name": "Python 3 (ipykernel)",
   "language": "python",
   "name": "python3"
  },
  "language_info": {
   "codemirror_mode": {
    "name": "ipython",
    "version": 3
   },
   "file_extension": ".py",
   "mimetype": "text/x-python",
   "name": "python",
   "nbconvert_exporter": "python",
   "pygments_lexer": "ipython3",
   "version": "3.12.3"
  }
 },
 "nbformat": 4,
 "nbformat_minor": 5
}
