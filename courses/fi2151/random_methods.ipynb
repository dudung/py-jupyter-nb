{
 "cells": [
  {
   "cell_type": "markdown",
   "id": "fed96f88-d74b-4eac-a0e9-643a299b4dbc",
   "metadata": {},
   "source": [
    "## methods in random module"
   ]
  },
  {
   "cell_type": "code",
   "execution_count": 12,
   "id": "69eda450-eeb0-46b3-9dcb-2d162ec0d500",
   "metadata": {},
   "outputs": [
    {
     "name": "stdout",
     "output_type": "stream",
     "text": [
      "0.6863 0.7665 0.9046 0.2598 0.6357 0.9049 0.8721 0.5729 0.1694 0.4115 \n"
     ]
    }
   ],
   "source": [
    "import random as rnd\n",
    "\n",
    "for i in range(10):\n",
    "    x = rnd.random()\n",
    "    xs = f'{x:0.4f}'\n",
    "    print(xs, end=' ')\n",
    "print()"
   ]
  },
  {
   "cell_type": "code",
   "execution_count": 30,
   "id": "eaf8d407-a02b-4e9d-8ea6-73afc1634544",
   "metadata": {},
   "outputs": [
    {
     "name": "stdout",
     "output_type": "stream",
     "text": [
      "5.9 3.9 1.7 5.0 9.8 7.7 5.4 8.6 2.3 5.1 9.5 5.8 4.6 2.7 5.5 9.6 0.1 7.8 8.2 8.9 7.4 8.1 5.2 5.6 4.3 0.6 8.7 5.7 2.0 5.0 4.8 3.6 3.5 5.4 6.2 6.1 4.6 0.3 2.3 1.8 \n"
     ]
    }
   ],
   "source": [
    "import random as rnd\n",
    "\n",
    "for i in range(40):\n",
    "    x = 10*rnd.random()\n",
    "    xs = f'{x:.1f}'\n",
    "    print(xs, end=' ')\n",
    "print()"
   ]
  },
  {
   "cell_type": "code",
   "execution_count": 10,
   "id": "3fece6cb-5190-48f7-ab30-06957dc811ab",
   "metadata": {},
   "outputs": [
    {
     "name": "stdout",
     "output_type": "stream",
     "text": [
      "0.9560 0.9560 0.9560 0.9560 0.9560 0.9560 0.9560 0.9560 0.9560 0.9560 \n"
     ]
    }
   ],
   "source": [
    "for i in range(10):\n",
    "    rnd.seed(2)\n",
    "    x = rnd.random()\n",
    "    xs = f'{x:0.4f}'\n",
    "    print(xs, end=' ')\n",
    "print()"
   ]
  },
  {
   "cell_type": "code",
   "execution_count": 11,
   "id": "6590ca6b-f176-41fb-a59e-8326e389d851",
   "metadata": {},
   "outputs": [
    {
     "name": "stdout",
     "output_type": "stream",
     "text": [
      "0.9056 0.9056 0.9056 0.9056 0.9056 \n"
     ]
    }
   ],
   "source": [
    "for i in range(5):\n",
    "    rnd.seed(20)\n",
    "    x = rnd.random()\n",
    "    xs = f'{x:0.4f}'\n",
    "    print(xs, end=' ')\n",
    "print()"
   ]
  },
  {
   "cell_type": "code",
   "execution_count": 16,
   "id": "333f866c-8c60-4036-b83c-480750f1a25e",
   "metadata": {},
   "outputs": [
    {
     "name": "stdout",
     "output_type": "stream",
     "text": [
      "1 0.1344\n",
      "2 0.9560\n",
      "3 0.2380\n",
      "3 0.2380\n",
      "2 0.9560\n",
      "1 0.1344\n",
      "0 0.8444\n",
      "0 0.8444\n"
     ]
    }
   ],
   "source": [
    "seeds = [1, 2, 3, 3, 2, 1, 0, 0]\n",
    "for s in seeds:\n",
    "    rnd.seed(s)\n",
    "    x = rnd.random()\n",
    "    xs = f'{x:0.4f}'\n",
    "    print(s, xs)"
   ]
  },
  {
   "cell_type": "code",
   "execution_count": 18,
   "id": "9dc33982-0419-48d3-b377-afb66413f721",
   "metadata": {},
   "outputs": [
    {
     "name": "stdout",
     "output_type": "stream",
     "text": [
      "0.8444 0.8444 0.8444 0.8444 0.8444 0.8444 0.8444 0.8444 0.8444 0.8444 \n"
     ]
    }
   ],
   "source": [
    "for i in range(10):\n",
    "    rnd.seed(0)\n",
    "    x = rnd.random()\n",
    "    xs = f'{x:0.4f}'\n",
    "    print(xs, end=' ')\n",
    "print()"
   ]
  },
  {
   "cell_type": "code",
   "execution_count": 19,
   "id": "e437d468-1160-48e1-9596-d88e7a35fd78",
   "metadata": {},
   "outputs": [
    {
     "name": "stdout",
     "output_type": "stream",
     "text": [
      "0.2380 0.2380 0.2380 0.2380 0.2380 0.2380 0.2380 0.2380 0.2380 0.2380 \n"
     ]
    }
   ],
   "source": [
    "for i in range(10):\n",
    "    rnd.seed(3)\n",
    "    x = rnd.random()\n",
    "    xs = f'{x:0.4f}'\n",
    "    print(xs, end=' ')\n",
    "print()"
   ]
  },
  {
   "cell_type": "code",
   "execution_count": 21,
   "id": "40b40330-8f19-4e1f-b1b5-d7cc3826cfb2",
   "metadata": {},
   "outputs": [
    {
     "name": "stdout",
     "output_type": "stream",
     "text": [
      "0.1344 0.1344 0.1344 0.1344 0.1344 0.1344 0.1344 0.1344 0.1344 0.1344 \n"
     ]
    }
   ],
   "source": [
    "for i in range(10):\n",
    "    rnd.seed(1)\n",
    "    x = rnd.random()\n",
    "    xs = f'{x:0.4f}'\n",
    "    print(xs, end=' ')\n",
    "print()"
   ]
  },
  {
   "cell_type": "code",
   "execution_count": null,
   "id": "9b081780-6bbb-4e30-9ace-f502bbcdb570",
   "metadata": {},
   "outputs": [],
   "source": []
  }
 ],
 "metadata": {
  "kernelspec": {
   "display_name": "Python 3 (ipykernel)",
   "language": "python",
   "name": "python3"
  },
  "language_info": {
   "codemirror_mode": {
    "name": "ipython",
    "version": 3
   },
   "file_extension": ".py",
   "mimetype": "text/x-python",
   "name": "python",
   "nbconvert_exporter": "python",
   "pygments_lexer": "ipython3",
   "version": "3.12.3"
  }
 },
 "nbformat": 4,
 "nbformat_minor": 5
}
