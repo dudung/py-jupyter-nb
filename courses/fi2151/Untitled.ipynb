{
 "cells": [
  {
   "cell_type": "code",
   "execution_count": 10,
   "id": "51f62af1-f91a-45e9-91c2-dc39651cf3df",
   "metadata": {},
   "outputs": [],
   "source": [
    "def zero(rows, cols, val=0):\n",
    "    m = [[val for _ in range(cols)] for _ in range(rows)]\n",
    "    return m\n",
    "\n",
    "def print_mat2(m):\n",
    "    for r in m:\n",
    "        print(r)"
   ]
  },
  {
   "cell_type": "code",
   "execution_count": 14,
   "id": "9389e864-e84f-4e75-8c4f-0fbdb54528cc",
   "metadata": {},
   "outputs": [
    {
     "name": "stdout",
     "output_type": "stream",
     "text": [
      "['hai', 'hai', 'hai']\n",
      "['hai', 'hai', 'hai']\n",
      "['hai', 'hai', 'hai']\n",
      "['hai', 'hai', 'hai']\n",
      "['hai', 'hai', 'hai']\n"
     ]
    }
   ],
   "source": [
    "print_mat2(zero(5, 3, val='hai'))"
   ]
  },
  {
   "cell_type": "code",
   "execution_count": null,
   "id": "3b7e569e-7860-42d4-8f66-eaef57cfc173",
   "metadata": {},
   "outputs": [],
   "source": []
  }
 ],
 "metadata": {
  "kernelspec": {
   "display_name": "Python 3 (ipykernel)",
   "language": "python",
   "name": "python3"
  },
  "language_info": {
   "codemirror_mode": {
    "name": "ipython",
    "version": 3
   },
   "file_extension": ".py",
   "mimetype": "text/x-python",
   "name": "python",
   "nbconvert_exporter": "python",
   "pygments_lexer": "ipython3",
   "version": "3.12.3"
  }
 },
 "nbformat": 4,
 "nbformat_minor": 5
}
